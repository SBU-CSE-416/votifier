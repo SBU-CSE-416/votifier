{
 "cells": [
  {
   "cell_type": "code",
   "execution_count": 3,
   "metadata": {},
   "outputs": [],
   "source": [
    "import pandas as pd\n",
    "import geopandas as gpd\n",
    "import json"
   ]
  },
  {
   "cell_type": "code",
   "execution_count": 1,
   "metadata": {},
   "outputs": [],
   "source": [
    "def generate_unique_id(df, county_col, prec_code_col, unique_id_col='UNIQUE_ID'):\n",
    "    \"\"\"\n",
    "    Generates a unique identifier for each row in the DataFrame based on county and precinct code.\n",
    "    Appends a suffix to resolve duplicates.\n",
    "\n",
    "    Parameters:\n",
    "        df (pd.DataFrame): The DataFrame to process.\n",
    "        county_col (str): The column name for the county.\n",
    "        prec_code_col (str): The column name for the precinct code.\n",
    "        unique_id_col (str): The name of the new or existing unique identifier column.\n",
    "\n",
    "    Returns:\n",
    "        pd.DataFrame: The updated DataFrame with the unique ID column.\n",
    "    \"\"\"\n",
    "    # Generate the initial UNIQUE_ID\n",
    "    df[unique_id_col] = (\n",
    "        df[county_col] + '_PRECINCT_' +\n",
    "        df[prec_code_col].astype(str)\n",
    "    )\n",
    "\n",
    "    # Append suffix to resolve duplicates\n",
    "    df[unique_id_col] = (\n",
    "        df[unique_id_col] +\n",
    "        '_' +\n",
    "        df.groupby(unique_id_col).cumcount().astype(str).replace('0', '')\n",
    "    )\n",
    "    \n",
    "    return df\n"
   ]
  },
  {
   "cell_type": "markdown",
   "metadata": {},
   "source": [
    "## Preprocess SC Election result from Precincts"
   ]
  },
  {
   "cell_type": "markdown",
   "metadata": {},
   "source": [
    "### Function and declaration"
   ]
  },
  {
   "cell_type": "code",
   "execution_count": 15,
   "metadata": {},
   "outputs": [],
   "source": [
    "def process_precinct_votes(precinct_gdf, columns_to_use, columns_to_ignore):\n",
    "    \"\"\"\n",
    "    Args:\n",
    "        precinct_gdf (pd.DataFrame): The DataFrame containing precinct vote data.\n",
    "        columns_to_use (list): The list of columns to consider for vote calculations.\n",
    "\n",
    "    Returns:\n",
    "        pd.DataFrame: The updated DataFrame with calculated vote totals, lean, and filtered party-related columns.\n",
    "    \"\"\"\n",
    "    precinct_gdf['TOT_REP'] = 0\n",
    "    precinct_gdf['TOT_DEM'] = 0\n",
    "    precinct_gdf['TOT_VOT'] = 0\n",
    "\n",
    "    republican_columns = []\n",
    "    democratic_columns = []\n",
    "\n",
    "    for col in columns_to_use:\n",
    "        if len(col) >= 7:\n",
    "            party_code = col[6]\n",
    "            if party_code == 'R':  # Republican\n",
    "                precinct_gdf['TOT_REP'] += precinct_gdf[col]\n",
    "                republican_columns.append(col)\n",
    "            elif party_code == 'D':  # Democrat\n",
    "                precinct_gdf['TOT_DEM'] += precinct_gdf[col]\n",
    "                democratic_columns.append(col)  \n",
    "\n",
    "    precinct_gdf['TOT_VOT'] = (\n",
    "        precinct_gdf['TOT_REP'] +\n",
    "        precinct_gdf['TOT_DEM']\n",
    "    )\n",
    "\n",
    "    precinct_gdf['LEAN'] = precinct_gdf.apply(\n",
    "        lambda row: 'Unknown' if row['TOT_REP'] == 0 and row['TOT_DEM'] == 0 else\n",
    "                    ('Republican' if row['TOT_REP'] > row['TOT_DEM'] else\n",
    "                     ('Democratic' if row['TOT_DEM'] > row['TOT_REP'] else 'Unknown')),\n",
    "        axis=1\n",
    "    )\n",
    "    filtered_columns = columns_to_ignore + ['TOT_REP', 'TOT_DEM', 'TOT_VOT', 'LEAN'] + republican_columns + democratic_columns\n",
    "    precinct_gdf = precinct_gdf[filtered_columns]\n",
    "\n",
    "    return precinct_gdf\n"
   ]
  },
  {
   "cell_type": "markdown",
   "metadata": {},
   "source": [
    "### Main script"
   ]
  },
  {
   "cell_type": "markdown",
   "metadata": {},
   "source": [
    "#### Preprocess conegssional district election"
   ]
  },
  {
   "cell_type": "code",
   "execution_count": 4,
   "metadata": {},
   "outputs": [],
   "source": [
    "sc_precincts_gdf = gpd.read_file('states/south_carolina/geodata/south_carolina_precincts.geojson')\n",
    "sc_election_gdf = gpd.read_file('raw/precincts/sc_2022_gen_prec/sc_2022_gen_cong_prec/sc_2022_gen_cong_prec.shp')"
   ]
  },
  {
   "cell_type": "code",
   "execution_count": 5,
   "metadata": {},
   "outputs": [],
   "source": [
    "sc_election_gdf = generate_unique_id(sc_election_gdf, county_col='County', prec_code_col='Prec_Code')\n"
   ]
  },
  {
   "cell_type": "code",
   "execution_count": 695,
   "metadata": {},
   "outputs": [
    {
     "name": "stdout",
     "output_type": "stream",
     "text": [
      "Index(['UNIQUE_ID', 'NAME', 'Prec_Code', 'CONG_DIST', 'geometry'], dtype='object')\n"
     ]
    }
   ],
   "source": [
    "print(sc_precincts_gdf.columns)"
   ]
  },
  {
   "cell_type": "code",
   "execution_count": 6,
   "metadata": {},
   "outputs": [
    {
     "name": "stdout",
     "output_type": "stream",
     "text": [
      "                 UNIQUE_ID             NAME Prec_Code CONG_DIST  \\\n",
      "0  ABBEVILLE_PRECINCT_001_  ABBEVILLE NO. 1       001        03   \n",
      "1  ABBEVILLE_PRECINCT_002_  ABBEVILLE NO. 2       002        03   \n",
      "2  ABBEVILLE_PRECINCT_003_  ABBEVILLE NO. 3       003        03   \n",
      "3  ABBEVILLE_PRECINCT_004_  ABBEVILLE NO. 4       004        03   \n",
      "4  ABBEVILLE_PRECINCT_005_       ANTREVILLE       005        03   \n",
      "\n",
      "                                            geometry  \n",
      "0  POLYGON ((-82.32898 34.18851, -82.32918 34.188...  \n",
      "1  POLYGON ((-82.28839 34.09074, -82.28985 34.089...  \n",
      "2  POLYGON ((-82.34099 34.10805, -82.34092 34.107...  \n",
      "3  POLYGON ((-82.38745 34.18274, -82.38736 34.182...  \n",
      "4  POLYGON ((-82.59624 34.30205, -82.58812 34.307...  \n"
     ]
    }
   ],
   "source": [
    "print(sc_precincts_gdf.head())"
   ]
  },
  {
   "cell_type": "code",
   "execution_count": 7,
   "metadata": {},
   "outputs": [
    {
     "name": "stdout",
     "output_type": "stream",
     "text": [
      "                  UNIQUE_ID COUNTYFP      County      Precinct Prec_Code  \\\n",
      "0  DORCHESTER_PRECINCT_084_      035  DORCHESTER  BEECH HILL 2       084   \n",
      "1  DORCHESTER_PRECINCT_072_      035  DORCHESTER       CYPRESS       072   \n",
      "2  DORCHESTER_PRECINCT_036_      035  DORCHESTER      DELEMARS       036   \n",
      "3  DORCHESTER_PRECINCT_035_      035  DORCHESTER       GIVHANS       035   \n",
      "4  DORCHESTER_PRECINCT_094_      035  DORCHESTER     GIVHANS 2       094   \n",
      "\n",
      "  CONG_DIST  GCON01AODD  GCON01DAND  GCON01OWRI  GCON01RMAC  ...  GCON05GGAI  \\\n",
      "0        01          10         286           3         540  ...           0   \n",
      "1        01          16         479           2         682  ...           0   \n",
      "2        01           2          69           2          85  ...           0   \n",
      "3        01           4         144           1         296  ...           0   \n",
      "4        01           8         189           0         360  ...           0   \n",
      "\n",
      "   GCON05OWRI  GCON05RNOR  GCON06DCLY  GCON06OWRI  GCON06RBUC  GCON07DSCO  \\\n",
      "0           0           0           0           0           0           0   \n",
      "1           0           0           0           0           0           0   \n",
      "2           0           0           0           0           0           0   \n",
      "3           0           0           0           0           0           0   \n",
      "4           0           0           0           0           0           0   \n",
      "\n",
      "   GCON07OWRI  GCON07RFRY                                           geometry  \n",
      "0           0           0  MULTIPOLYGON (((2242701.683 407030.177, 224291...  \n",
      "1           0           0  MULTIPOLYGON (((2234014.017 454196.086, 223398...  \n",
      "2           0           0  POLYGON ((2215007.673 409281.289, 2215084.635 ...  \n",
      "3           0           0  POLYGON ((2191338.848 433396.844, 2191415.156 ...  \n",
      "4           0           0  POLYGON ((2199688.485 448462.344, 2199723.242 ...  \n",
      "\n",
      "[5 rows x 28 columns]\n"
     ]
    }
   ],
   "source": [
    "print(sc_election_gdf.head())"
   ]
  },
  {
   "cell_type": "code",
   "execution_count": 8,
   "metadata": {},
   "outputs": [
    {
     "name": "stdout",
     "output_type": "stream",
     "text": [
      "['UNIQUE_ID' 'COUNTYFP' 'County' 'Precinct' 'Prec_Code' 'CONG_DIST'\n",
      " 'GCON01AODD' 'GCON01DAND' 'GCON01OWRI' 'GCON01RMAC' 'GCON02DLAR'\n",
      " 'GCON02OWRI' 'GCON02RWIL' 'GCON03OWRI' 'GCON03RDUN' 'GCON04OWRI'\n",
      " 'GCON04RTIM' 'GCON05DHUN' 'GCON05GGAI' 'GCON05OWRI' 'GCON05RNOR'\n",
      " 'GCON06DCLY' 'GCON06OWRI' 'GCON06RBUC' 'GCON07DSCO' 'GCON07OWRI'\n",
      " 'GCON07RFRY' 'geometry']\n"
     ]
    }
   ],
   "source": [
    "print(sc_election_gdf.columns.values)  "
   ]
  },
  {
   "cell_type": "code",
   "execution_count": 9,
   "metadata": {},
   "outputs": [],
   "source": [
    "columns_to_ignore = ['UNIQUE_ID', 'CONG_DIST','COUNTYFP', 'County', 'Prec_Code', 'Precinct', 'geometry']"
   ]
  },
  {
   "cell_type": "code",
   "execution_count": 10,
   "metadata": {},
   "outputs": [],
   "source": [
    "columns_to_use = [col for col in sc_election_gdf.columns if col not in columns_to_ignore]"
   ]
  },
  {
   "cell_type": "code",
   "execution_count": 11,
   "metadata": {},
   "outputs": [
    {
     "name": "stdout",
     "output_type": "stream",
     "text": [
      "['GCON01AODD', 'GCON01DAND', 'GCON01OWRI', 'GCON01RMAC', 'GCON02DLAR', 'GCON02OWRI', 'GCON02RWIL', 'GCON03OWRI', 'GCON03RDUN', 'GCON04OWRI', 'GCON04RTIM', 'GCON05DHUN', 'GCON05GGAI', 'GCON05OWRI', 'GCON05RNOR', 'GCON06DCLY', 'GCON06OWRI', 'GCON06RBUC', 'GCON07DSCO', 'GCON07OWRI', 'GCON07RFRY']\n"
     ]
    }
   ],
   "source": [
    "print(columns_to_use)"
   ]
  },
  {
   "cell_type": "code",
   "execution_count": 16,
   "metadata": {},
   "outputs": [],
   "source": [
    "sc_election_processed_gdf = process_precinct_votes(sc_election_gdf, columns_to_use, columns_to_ignore)"
   ]
  },
  {
   "cell_type": "code",
   "execution_count": 17,
   "metadata": {},
   "outputs": [
    {
     "name": "stdout",
     "output_type": "stream",
     "text": [
      "   TOT_REP  TOT_DEM  TOT_VOT        LEAN\n",
      "0      540      286      826  Republican\n",
      "1      682      479     1161  Republican\n",
      "2       85       69      154  Republican\n",
      "3      296      144      440  Republican\n",
      "4      360      189      549  Republican\n"
     ]
    }
   ],
   "source": [
    "print(sc_election_processed_gdf[['TOT_REP', 'TOT_DEM', 'TOT_VOT', 'LEAN']].head())"
   ]
  },
  {
   "cell_type": "code",
   "execution_count": 18,
   "metadata": {},
   "outputs": [
    {
     "name": "stdout",
     "output_type": "stream",
     "text": [
      "LEAN      \n",
      "Republican    1672\n",
      "Democratic     597\n",
      "Unknown          8\n",
      "Name: count, dtype: int64\n"
     ]
    }
   ],
   "source": [
    "print(sc_election_processed_gdf[['LEAN']].value_counts())"
   ]
  },
  {
   "cell_type": "code",
   "execution_count": 19,
   "metadata": {},
   "outputs": [
    {
     "name": "stdout",
     "output_type": "stream",
     "text": [
      "['UNIQUE_ID' 'CONG_DIST' 'COUNTYFP' 'County' 'Prec_Code' 'Precinct'\n",
      " 'geometry' 'TOT_REP' 'TOT_DEM' 'TOT_VOT' 'LEAN' 'GCON01RMAC' 'GCON02RWIL'\n",
      " 'GCON03RDUN' 'GCON04RTIM' 'GCON05RNOR' 'GCON06RBUC' 'GCON07RFRY'\n",
      " 'GCON01DAND' 'GCON02DLAR' 'GCON05DHUN' 'GCON06DCLY' 'GCON07DSCO']\n"
     ]
    }
   ],
   "source": [
    "print(sc_election_processed_gdf.columns.values)"
   ]
  },
  {
   "cell_type": "code",
   "execution_count": 20,
   "metadata": {},
   "outputs": [
    {
     "name": "stdout",
     "output_type": "stream",
     "text": [
      "['UNIQUE_ID' 'CONG_DIST' 'COUNTYFP' 'County' 'Prec_Code' 'Precinct'\n",
      " 'geometry' 'TOT_REP' 'TOT_DEM' 'TOT_VOT' 'LEAN' 'GCON01RMAC' 'GCON02RWIL'\n",
      " 'GCON03RDUN' 'GCON04RTIM' 'GCON05RNOR' 'GCON06RBUC' 'GCON07RFRY'\n",
      " 'GCON01DAND' 'GCON02DLAR' 'GCON05DHUN' 'GCON06DCLY' 'GCON07DSCO']\n"
     ]
    }
   ],
   "source": [
    "print(sc_election_processed_gdf.columns.values)"
   ]
  },
  {
   "cell_type": "code",
   "execution_count": null,
   "metadata": {},
   "outputs": [],
   "source": []
  },
  {
   "cell_type": "code",
   "execution_count": 21,
   "metadata": {},
   "outputs": [],
   "source": [
    "#drop geometry column\n",
    "sc_election_processed_gdf = sc_election_processed_gdf.drop(columns='geometry')"
   ]
  },
  {
   "cell_type": "code",
   "execution_count": 22,
   "metadata": {},
   "outputs": [],
   "source": [
    "with open('states/south_carolina/election/sc_election.json', 'w') as json_file:\n",
    "    json.dump(sc_election_processed_gdf.to_dict(orient='records'), json_file, indent=4)"
   ]
  },
  {
   "cell_type": "markdown",
   "metadata": {},
   "source": [
    "#### Preprocess state-wide gov election"
   ]
  },
  {
   "cell_type": "code",
   "execution_count": 23,
   "metadata": {},
   "outputs": [],
   "source": [
    "sc_gov_election_df = gpd.read_file('raw/precincts/sc_2022_gen_prec/sc_2022_gen_st_prec/sc_2022_gen_st_prec.shp')"
   ]
  },
  {
   "cell_type": "code",
   "execution_count": 24,
   "metadata": {},
   "outputs": [],
   "source": [
    "sc_gov_election_df = generate_unique_id(sc_gov_election_df, county_col='County', prec_code_col='Prec_Code')"
   ]
  },
  {
   "cell_type": "code",
   "execution_count": 25,
   "metadata": {},
   "outputs": [
    {
     "name": "stdout",
     "output_type": "stream",
     "text": [
      "['UNIQUE_ID' 'COUNTYFP' 'County' 'Precinct' 'Prec_Code' 'G22A1NO'\n",
      " 'G22A1YES' 'G22A2NO' 'G22A2YES' 'G22AGRCNEL' 'G22AGRGEDM' 'G22AGROWRI'\n",
      " 'G22AGRRWEA' 'G22ATGOWRI' 'G22ATGRWIL' 'G22COMOWRI' 'G22COMRECK'\n",
      " 'G22GOVDCUN' 'G22GOVLREE' 'G22GOVOWRI' 'G22GOVRMCM' 'G22SOSDBUT'\n",
      " 'G22SOSOWRI' 'G22SOSRHAM' 'G22SUPAELL' 'G22SUPDELL' 'G22SUPGMIC'\n",
      " 'G22SUPOWRI' 'G22SUPRWEA' 'G22TREAWOR' 'G22TREOWRI' 'G22TRERLOF'\n",
      " 'G22USSDMAT' 'G22USSOWRI' 'G22USSRSCO' 'geometry']\n"
     ]
    }
   ],
   "source": [
    "print(sc_gov_election_df.columns.values)"
   ]
  },
  {
   "cell_type": "code",
   "execution_count": 26,
   "metadata": {},
   "outputs": [],
   "source": [
    "columns_to_keep = ['UNIQUE_ID', 'COUNTYFP', 'County', 'Precinct', 'Prec_Code']\n",
    "columns_to_keep += [col for col in sc_gov_election_df.columns if col.startswith('G22GOV')]\n",
    "sc_gov_election_df = sc_gov_election_df[columns_to_keep]"
   ]
  },
  {
   "cell_type": "code",
   "execution_count": 27,
   "metadata": {},
   "outputs": [
    {
     "name": "stdout",
     "output_type": "stream",
     "text": [
      "['UNIQUE_ID' 'COUNTYFP' 'County' 'Precinct' 'Prec_Code' 'G22GOVDCUN'\n",
      " 'G22GOVLREE' 'G22GOVOWRI' 'G22GOVRMCM']\n"
     ]
    }
   ],
   "source": [
    "print(sc_gov_election_df.columns.values)"
   ]
  },
  {
   "cell_type": "code",
   "execution_count": 28,
   "metadata": {},
   "outputs": [],
   "source": [
    "columns_to_ignore = ['UNIQUE_ID','COUNTYFP', 'County', 'Prec_Code', 'Precinct']"
   ]
  },
  {
   "cell_type": "code",
   "execution_count": 29,
   "metadata": {},
   "outputs": [],
   "source": [
    "columns_to_use = [col for col in sc_gov_election_df.columns if col not in columns_to_ignore]"
   ]
  },
  {
   "cell_type": "code",
   "execution_count": 30,
   "metadata": {},
   "outputs": [
    {
     "name": "stdout",
     "output_type": "stream",
     "text": [
      "['G22GOVDCUN', 'G22GOVLREE', 'G22GOVOWRI', 'G22GOVRMCM']\n"
     ]
    }
   ],
   "source": [
    "print(columns_to_use)"
   ]
  },
  {
   "cell_type": "code",
   "execution_count": 31,
   "metadata": {},
   "outputs": [],
   "source": [
    "sc_gov_election_processed_df = process_precinct_votes(sc_gov_election_df, columns_to_use, columns_to_ignore)"
   ]
  },
  {
   "cell_type": "code",
   "execution_count": 32,
   "metadata": {},
   "outputs": [
    {
     "name": "stdout",
     "output_type": "stream",
     "text": [
      "   TOT_REP  TOT_DEM  TOT_VOT        LEAN\n",
      "0      718      257      975  Republican\n",
      "1      224      404      628  Democratic\n",
      "2      336      238      574  Republican\n",
      "3      316      121      437  Republican\n",
      "4      599      123      722  Republican\n"
     ]
    }
   ],
   "source": [
    "print(sc_gov_election_processed_df[['TOT_REP', 'TOT_DEM', 'TOT_VOT', 'LEAN']].head())"
   ]
  },
  {
   "cell_type": "code",
   "execution_count": 33,
   "metadata": {},
   "outputs": [
    {
     "name": "stdout",
     "output_type": "stream",
     "text": [
      "LEAN      \n",
      "Republican    1526\n",
      "Democratic     727\n",
      "Unknown          8\n",
      "Name: count, dtype: int64\n"
     ]
    }
   ],
   "source": [
    "print(sc_gov_election_processed_df[['LEAN']].value_counts())"
   ]
  },
  {
   "cell_type": "code",
   "execution_count": 34,
   "metadata": {},
   "outputs": [
    {
     "name": "stdout",
     "output_type": "stream",
     "text": [
      "['UNIQUE_ID' 'COUNTYFP' 'County' 'Prec_Code' 'Precinct' 'TOT_REP'\n",
      " 'TOT_DEM' 'TOT_VOT' 'LEAN' 'G22GOVRMCM' 'G22GOVDCUN']\n"
     ]
    }
   ],
   "source": [
    "print(sc_gov_election_processed_df.columns.values)"
   ]
  },
  {
   "cell_type": "code",
   "execution_count": 35,
   "metadata": {},
   "outputs": [],
   "source": [
    "# drop 'COUNTYFP', 'County'\n",
    "sc_gov_election_processed_df = sc_gov_election_processed_df.drop(columns=[ 'G22GOVRMCM', 'G22GOVDCUN'])"
   ]
  },
  {
   "cell_type": "code",
   "execution_count": 36,
   "metadata": {},
   "outputs": [
    {
     "name": "stdout",
     "output_type": "stream",
     "text": [
      "['UNIQUE_ID' 'COUNTYFP' 'County' 'Prec_Code' 'Precinct' 'TOT_REP'\n",
      " 'TOT_DEM' 'TOT_VOT' 'LEAN']\n"
     ]
    }
   ],
   "source": [
    "print(sc_gov_election_processed_df.columns.values)"
   ]
  },
  {
   "cell_type": "code",
   "execution_count": 37,
   "metadata": {},
   "outputs": [],
   "source": [
    "# remove 'Prec_Code' 'Precinct'\n",
    "sc_gov_election_processed_df = sc_gov_election_processed_df.drop(columns=['Prec_Code', 'Precinct'])"
   ]
  },
  {
   "cell_type": "code",
   "execution_count": 38,
   "metadata": {},
   "outputs": [],
   "source": [
    "with open('states/south_carolina/election/sc_election_gov_22.json', 'w') as json_file:\n",
    "    json.dump(sc_gov_election_processed_df.to_dict(orient='records'), json_file, indent=4)"
   ]
  },
  {
   "cell_type": "markdown",
   "metadata": {},
   "source": [
    "## MD election preprocessing"
   ]
  },
  {
   "cell_type": "markdown",
   "metadata": {},
   "source": [
    "### Election preprocessing for General election Cong District"
   ]
  },
  {
   "cell_type": "code",
   "execution_count": 867,
   "metadata": {},
   "outputs": [],
   "source": [
    "def create_unique_id(row):\n",
    "    # Remove 'County', capitalize, and replace spaces with underscores\n",
    "    county = row[\"County Name\"].replace(\"County\", \"\").strip().upper().replace(\" \", \"_\")\n",
    "    # Remove the leading zero from the Election District\n",
    "    district_precinct = row[\"Election District - Precinct\"]\n",
    "    district_precinct = district_precinct[1:]\n",
    "    # Concatenate to form the UNIQUE_ID\n",
    "    return f\"{county}_PRECINCT_{district_precinct}\""
   ]
  },
  {
   "cell_type": "code",
   "execution_count": null,
   "metadata": {},
   "outputs": [],
   "source": [
    "# needed format \"UNIQUE_ID\": \"ABBEVILLE_PRECINCT_001\",\n",
    "        # \"Prec_Code\": \"001\",\n",
    "        # \"Precinct\": \"ABBEVILLE NO. 1\",\n",
    "        # \"TOT_REP\": 718,\n",
    "        # \"TOT_DEM\": 257,\n",
    "        # \"TOT_VOT\": 975,\n",
    "        # \"LEAN\": \"Republican\""
   ]
  },
  {
   "cell_type": "code",
   "execution_count": 678,
   "metadata": {},
   "outputs": [],
   "source": [
    "md_precincts_gdf = gpd.read_file('states/maryland/geodata/maryland_precincts.geojson')\n"
   ]
  },
  {
   "cell_type": "code",
   "execution_count": 583,
   "metadata": {},
   "outputs": [
    {
     "name": "stdout",
     "output_type": "stream",
     "text": [
      "                     NAME  NUMBER                 UNIQUE_ID  \\\n",
      "0  HOWARD PRECINCT 06-001  06-001  0_HOWARD_PRECINCT_06-001   \n",
      "1  HOWARD PRECINCT 05-023  05-023  1_HOWARD_PRECINCT_05-023   \n",
      "2  HOWARD PRECINCT 05-018  05-018  2_HOWARD_PRECINCT_05-018   \n",
      "3  HOWARD PRECINCT 05-017  05-017  3_HOWARD_PRECINCT_05-017   \n",
      "4  HOWARD PRECINCT 05-020  05-020  4_HOWARD_PRECINCT_05-020   \n",
      "\n",
      "                                            geometry  \n",
      "0  POLYGON Z ((-76.83025 39.14757 0.00000, -76.83...  \n",
      "1  POLYGON Z ((-76.89107 39.22616 0.00000, -76.89...  \n",
      "2  POLYGON Z ((-76.88639 39.20934 0.00000, -76.88...  \n",
      "3  POLYGON Z ((-76.88670 39.20810 0.00000, -76.88...  \n",
      "4  POLYGON Z ((-76.91361 39.14963 0.00000, -76.91...  \n"
     ]
    }
   ],
   "source": [
    "print(md_precincts_gdf.head())"
   ]
  },
  {
   "cell_type": "code",
   "execution_count": 774,
   "metadata": {},
   "outputs": [],
   "source": [
    "# load csv\n",
    "md_election_df = pd.read_csv('raw/precincts/HOUSE_precinct_general.csv')"
   ]
  },
  {
   "cell_type": "code",
   "execution_count": 775,
   "metadata": {},
   "outputs": [
    {
     "name": "stdout",
     "output_type": "stream",
     "text": [
      "                    precinct    office party_detailed party_simplified  \\\n",
      "0  061110097164_003026019037  US HOUSE       DEMOCRAT         DEMOCRAT   \n",
      "1  061110097164_003026019037  US HOUSE     REPUBLICAN       REPUBLICAN   \n",
      "2  061110097164_003026019037  US HOUSE       DEMOCRAT         DEMOCRAT   \n",
      "3  061110097164_003026019037  US HOUSE     REPUBLICAN       REPUBLICAN   \n",
      "4  061110097168_003026019037  US HOUSE       DEMOCRAT         DEMOCRAT   \n",
      "\n",
      "           mode  votes county_name  county_fips jurisdiction_name  \\\n",
      "0      ABSENTEE     32     VENTURA       6111.0           VENTURA   \n",
      "1      ABSENTEE      1     VENTURA       6111.0           VENTURA   \n",
      "2  NOT ABSENTEE      1     VENTURA       6111.0           VENTURA   \n",
      "3  NOT ABSENTEE      3     VENTURA       6111.0           VENTURA   \n",
      "4      ABSENTEE    303     VENTURA       6111.0           VENTURA   \n",
      "\n",
      "   jurisdiction_fips  ...       state  special writein  state_po state_fips  \\\n",
      "0             6111.0  ...  CALIFORNIA    False   False        CA          6   \n",
      "1             6111.0  ...  CALIFORNIA    False   False        CA          6   \n",
      "2             6111.0  ...  CALIFORNIA    False   False        CA          6   \n",
      "3             6111.0  ...  CALIFORNIA    False   False        CA          6   \n",
      "4             6111.0  ...  CALIFORNIA    False   False        CA          6   \n",
      "\n",
      "  state_cen  state_ic        date readme_check  magnitude  \n",
      "0        93        71  2020-11-03         True          1  \n",
      "1        93        71  2020-11-03         True          1  \n",
      "2        93        71  2020-11-03         True          1  \n",
      "3        93        71  2020-11-03         True          1  \n",
      "4        93        71  2020-11-03         True          1  \n",
      "\n",
      "[5 rows x 25 columns]\n"
     ]
    }
   ],
   "source": [
    "print(md_election_df.head())"
   ]
  },
  {
   "cell_type": "code",
   "execution_count": 776,
   "metadata": {},
   "outputs": [],
   "source": [
    "#filter state_po == MD\n",
    "md_election_df = md_election_df[md_election_df['state_po'] == 'MD']"
   ]
  },
  {
   "cell_type": "code",
   "execution_count": 777,
   "metadata": {},
   "outputs": [
    {
     "name": "stdout",
     "output_type": "stream",
     "text": [
      "['precinct' 'office' 'party_detailed' 'party_simplified' 'mode' 'votes'\n",
      " 'county_name' 'county_fips' 'jurisdiction_name' 'jurisdiction_fips'\n",
      " 'candidate' 'district' 'dataverse' 'year' 'stage' 'state' 'special'\n",
      " 'writein' 'state_po' 'state_fips' 'state_cen' 'state_ic' 'date'\n",
      " 'readme_check' 'magnitude']\n"
     ]
    }
   ],
   "source": [
    "print(md_election_df.columns.values)"
   ]
  },
  {
   "cell_type": "code",
   "execution_count": 778,
   "metadata": {},
   "outputs": [
    {
     "name": "stdout",
     "output_type": "stream",
     "text": [
      "county_name\n",
      "BALTIMORE CITY     6365\n",
      "MONTGOMERY         5510\n",
      "PRINCE GEORGE'S    4545\n",
      "BALTIMORE          4140\n",
      "ANNE ARUNDEL       2925\n",
      "HOWARD             2440\n",
      "FREDERICK          1880\n",
      "HARFORD            1335\n",
      "WASHINGTON         1325\n",
      "ALLEGANY            925\n",
      "WICOMICO            810\n",
      "CARROLL             655\n",
      "CHARLES             645\n",
      "DORCHESTER          600\n",
      "ST MARY'S           540\n",
      "GARRETT             475\n",
      "CECIL               420\n",
      "CALVERT             345\n",
      "SOMERSET            345\n",
      "WORCESTER           300\n",
      "TALBOT              180\n",
      "QUEEN ANNE'S        165\n",
      "KENT                150\n",
      "CAROLINE            120\n",
      "Name: count, dtype: int64\n"
     ]
    }
   ],
   "source": [
    "print(md_election_df['county_name'].value_counts())"
   ]
  },
  {
   "cell_type": "code",
   "execution_count": 808,
   "metadata": {},
   "outputs": [],
   "source": [
    "md_election_df['NAME'] = md_election_df['county_name'].str.replace(' ', '_') + '_PRECINCT_' + md_election_df['precinct'].astype(str)\n",
    "\n",
    "columns_order = ['NAME'] + [col for col in md_election_df.columns if col != 'NAME']\n",
    "md_election_df = md_election_df[columns_order]"
   ]
  },
  {
   "cell_type": "code",
   "execution_count": 809,
   "metadata": {},
   "outputs": [
    {
     "name": "stdout",
     "output_type": "stream",
     "text": [
      "                               NAME precinct    office party_detailed  \\\n",
      "52046      WICOMICO_PRECINCT_01-001   01-001  US HOUSE       DEMOCRAT   \n",
      "52047    DORCHESTER_PRECINCT_01-001   01-001  US HOUSE       DEMOCRAT   \n",
      "52048      SOMERSET_PRECINCT_01-001   01-001  US HOUSE       DEMOCRAT   \n",
      "52049      CAROLINE_PRECINCT_01-001   01-001  US HOUSE       DEMOCRAT   \n",
      "52050  QUEEN_ANNE'S_PRECINCT_01-001   01-001  US HOUSE       DEMOCRAT   \n",
      "\n",
      "      party_simplified          mode  votes   county_name  county_fips  \\\n",
      "52046         DEMOCRAT  2ND ABSENTEE      6      WICOMICO      24045.0   \n",
      "52047         DEMOCRAT  2ND ABSENTEE     36    DORCHESTER      24019.0   \n",
      "52048         DEMOCRAT  2ND ABSENTEE     37      SOMERSET      24039.0   \n",
      "52049         DEMOCRAT  2ND ABSENTEE     43      CAROLINE      24011.0   \n",
      "52050         DEMOCRAT  2ND ABSENTEE     55  QUEEN ANNE'S      24035.0   \n",
      "\n",
      "      jurisdiction_name  ...  special writein  state_po state_fips  state_cen  \\\n",
      "52046          WICOMICO  ...    False   False        MD         24         52   \n",
      "52047        DORCHESTER  ...    False   False        MD         24         52   \n",
      "52048          SOMERSET  ...    False   False        MD         24         52   \n",
      "52049          CAROLINE  ...    False   False        MD         24         52   \n",
      "52050      QUEEN ANNE'S  ...    False   False        MD         24         52   \n",
      "\n",
      "      state_ic        date  readme_check  magnitude   variable  \n",
      "52046       52  2020-11-03         False          1  GCON01DMM  \n",
      "52047       52  2020-11-03         False          1  GCON01DMM  \n",
      "52048       52  2020-11-03         False          1  GCON01DMM  \n",
      "52049       52  2020-11-03         False          1  GCON01DMM  \n",
      "52050       52  2020-11-03         False          1  GCON01DMM  \n",
      "\n",
      "[5 rows x 27 columns]\n"
     ]
    }
   ],
   "source": [
    "print(md_election_df.head())    "
   ]
  },
  {
   "cell_type": "code",
   "execution_count": 810,
   "metadata": {},
   "outputs": [
    {
     "name": "stdout",
     "output_type": "stream",
     "text": [
      "                         NAME precinct    office party_detailed  \\\n",
      "79781  HOWARD_PRECINCT_05-023   05-023  US HOUSE       DEMOCRAT   \n",
      "79782  HOWARD_PRECINCT_05-023   05-023  US HOUSE       DEMOCRAT   \n",
      "79783  HOWARD_PRECINCT_05-023   05-023  US HOUSE       DEMOCRAT   \n",
      "79784  HOWARD_PRECINCT_05-023   05-023  US HOUSE       DEMOCRAT   \n",
      "79785  HOWARD_PRECINCT_05-023   05-023  US HOUSE       DEMOCRAT   \n",
      "79786  HOWARD_PRECINCT_05-023   05-023  US HOUSE     REPUBLICAN   \n",
      "79787  HOWARD_PRECINCT_05-023   05-023  US HOUSE     REPUBLICAN   \n",
      "79788  HOWARD_PRECINCT_05-023   05-023  US HOUSE     REPUBLICAN   \n",
      "79789  HOWARD_PRECINCT_05-023   05-023  US HOUSE     REPUBLICAN   \n",
      "79790  HOWARD_PRECINCT_05-023   05-023  US HOUSE     REPUBLICAN   \n",
      "\n",
      "      party_simplified          mode  votes county_name  county_fips  \\\n",
      "79781         DEMOCRAT  2ND ABSENTEE    198      HOWARD      24027.0   \n",
      "79782         DEMOCRAT      ABSENTEE    467      HOWARD      24027.0   \n",
      "79783         DEMOCRAT  EARLY VOTING    288      HOWARD      24027.0   \n",
      "79784         DEMOCRAT  ELECTION DAY     34      HOWARD      24027.0   \n",
      "79785         DEMOCRAT   PROVISIONAL     19      HOWARD      24027.0   \n",
      "79786       REPUBLICAN  2ND ABSENTEE     57      HOWARD      24027.0   \n",
      "79787       REPUBLICAN      ABSENTEE     79      HOWARD      24027.0   \n",
      "79788       REPUBLICAN  EARLY VOTING    119      HOWARD      24027.0   \n",
      "79789       REPUBLICAN  ELECTION DAY     35      HOWARD      24027.0   \n",
      "79790       REPUBLICAN   PROVISIONAL      6      HOWARD      24027.0   \n",
      "\n",
      "      jurisdiction_name  ...  special writein  state_po state_fips  state_cen  \\\n",
      "79781            HOWARD  ...     True   False        MD         24         52   \n",
      "79782            HOWARD  ...     True   False        MD         24         52   \n",
      "79783            HOWARD  ...     True   False        MD         24         52   \n",
      "79784            HOWARD  ...     True   False        MD         24         52   \n",
      "79785            HOWARD  ...     True   False        MD         24         52   \n",
      "79786            HOWARD  ...     True   False        MD         24         52   \n",
      "79787            HOWARD  ...     True   False        MD         24         52   \n",
      "79788            HOWARD  ...     True   False        MD         24         52   \n",
      "79789            HOWARD  ...     True   False        MD         24         52   \n",
      "79790            HOWARD  ...     True   False        MD         24         52   \n",
      "\n",
      "      state_ic        date  readme_check  magnitude   variable  \n",
      "79781       52  2020-11-03         False          1  GCON07DKM  \n",
      "79782       52  2020-11-03         False          1  GCON07DKM  \n",
      "79783       52  2020-11-03         False          1  GCON07DKM  \n",
      "79784       52  2020-11-03         False          1  GCON07DKM  \n",
      "79785       52  2020-11-03         False          1  GCON07DKM  \n",
      "79786       52  2020-11-03         False          1  GCON07RKK  \n",
      "79787       52  2020-11-03         False          1  GCON07RKK  \n",
      "79788       52  2020-11-03         False          1  GCON07RKK  \n",
      "79789       52  2020-11-03         False          1  GCON07RKK  \n",
      "79790       52  2020-11-03         False          1  GCON07RKK  \n",
      "\n",
      "[10 rows x 27 columns]\n"
     ]
    }
   ],
   "source": [
    "print(md_election_df[md_election_df['NAME'] == 'HOWARD_PRECINCT_05-023'])"
   ]
  },
  {
   "cell_type": "code",
   "execution_count": 811,
   "metadata": {},
   "outputs": [
    {
     "name": "stdout",
     "output_type": "stream",
     "text": [
      "['NAME' 'precinct' 'office' 'party_detailed' 'party_simplified' 'mode'\n",
      " 'votes' 'county_name' 'county_fips' 'jurisdiction_name'\n",
      " 'jurisdiction_fips' 'candidate' 'district' 'dataverse' 'year' 'stage'\n",
      " 'state' 'special' 'writein' 'state_po' 'state_fips' 'state_cen'\n",
      " 'state_ic' 'date' 'readme_check' 'magnitude' 'variable']\n"
     ]
    }
   ],
   "source": [
    "print(md_election_df.columns.values)"
   ]
  },
  {
   "cell_type": "code",
   "execution_count": 812,
   "metadata": {},
   "outputs": [
    {
     "name": "stdout",
     "output_type": "stream",
     "text": [
      "                               NAME    office party_detailed  candidate  \\\n",
      "52046      WICOMICO_PRECINCT_01-001  US HOUSE       DEMOCRAT  MIA MASON   \n",
      "52047    DORCHESTER_PRECINCT_01-001  US HOUSE       DEMOCRAT  MIA MASON   \n",
      "52048      SOMERSET_PRECINCT_01-001  US HOUSE       DEMOCRAT  MIA MASON   \n",
      "52049      CAROLINE_PRECINCT_01-001  US HOUSE       DEMOCRAT  MIA MASON   \n",
      "52050  QUEEN_ANNE'S_PRECINCT_01-001  US HOUSE       DEMOCRAT  MIA MASON   \n",
      "\n",
      "       writein  district  votes  \n",
      "52046    False         1      6  \n",
      "52047    False         1     36  \n",
      "52048    False         1     37  \n",
      "52049    False         1     43  \n",
      "52050    False         1     55  \n"
     ]
    }
   ],
   "source": [
    "print(md_election_df[['NAME','office', 'party_detailed', 'candidate', 'writein', 'district', 'votes']].head())\n"
   ]
  },
  {
   "cell_type": "code",
   "execution_count": 813,
   "metadata": {},
   "outputs": [],
   "source": [
    "md_election_df = md_election_df[md_election_df['writein'] != True]"
   ]
  },
  {
   "cell_type": "code",
   "execution_count": 814,
   "metadata": {},
   "outputs": [
    {
     "name": "stdout",
     "output_type": "stream",
     "text": [
      "                               NAME    office party_detailed  candidate  \\\n",
      "52046      WICOMICO_PRECINCT_01-001  US HOUSE       DEMOCRAT  MIA MASON   \n",
      "52047    DORCHESTER_PRECINCT_01-001  US HOUSE       DEMOCRAT  MIA MASON   \n",
      "52048      SOMERSET_PRECINCT_01-001  US HOUSE       DEMOCRAT  MIA MASON   \n",
      "52049      CAROLINE_PRECINCT_01-001  US HOUSE       DEMOCRAT  MIA MASON   \n",
      "52050  QUEEN_ANNE'S_PRECINCT_01-001  US HOUSE       DEMOCRAT  MIA MASON   \n",
      "\n",
      "       district  votes  \n",
      "52046         1      6  \n",
      "52047         1     36  \n",
      "52048         1     37  \n",
      "52049         1     43  \n",
      "52050         1     55  \n"
     ]
    }
   ],
   "source": [
    "print(md_election_df[['NAME','office', 'party_detailed', 'candidate', 'district', 'votes']].head())"
   ]
  },
  {
   "cell_type": "code",
   "execution_count": 815,
   "metadata": {},
   "outputs": [],
   "source": [
    "md_election_df['variable'] = (\n",
    "    'GCON' + \n",
    "    md_election_df['district'].astype(str).str.zfill(2) + \n",
    "    md_election_df['party_detailed'].str[0] + \n",
    "    md_election_df['candidate'].apply(lambda x: ''.join([name[0] for name in x.split()]))\n",
    ")"
   ]
  },
  {
   "cell_type": "code",
   "execution_count": 816,
   "metadata": {},
   "outputs": [
    {
     "name": "stdout",
     "output_type": "stream",
     "text": [
      "                               NAME precinct   county_name  county_fips  \\\n",
      "52046      WICOMICO_PRECINCT_01-001   01-001      WICOMICO      24045.0   \n",
      "52047    DORCHESTER_PRECINCT_01-001   01-001    DORCHESTER      24019.0   \n",
      "52048      SOMERSET_PRECINCT_01-001   01-001      SOMERSET      24039.0   \n",
      "52049      CAROLINE_PRECINCT_01-001   01-001      CAROLINE      24011.0   \n",
      "52050  QUEEN_ANNE'S_PRECINCT_01-001   01-001  QUEEN ANNE'S      24035.0   \n",
      "...                             ...      ...           ...          ...   \n",
      "89131     FREDERICK_PRECINCT_26-002   26-002     FREDERICK      24021.0   \n",
      "89132     FREDERICK_PRECINCT_26-002   26-002     FREDERICK      24021.0   \n",
      "89133     FREDERICK_PRECINCT_26-002   26-002     FREDERICK      24021.0   \n",
      "89134     FREDERICK_PRECINCT_26-002   26-002     FREDERICK      24021.0   \n",
      "89135     FREDERICK_PRECINCT_26-002   26-002     FREDERICK      24021.0   \n",
      "\n",
      "         variable  votes  district  \n",
      "52046   GCON01DMM      6         1  \n",
      "52047   GCON01DMM     36         1  \n",
      "52048   GCON01DMM     37         1  \n",
      "52049   GCON01DMM     43         1  \n",
      "52050   GCON01DMM     55         1  \n",
      "...           ...    ...       ...  \n",
      "89131  GCON08RGTC    106         8  \n",
      "89132  GCON08RGTC    145         8  \n",
      "89133  GCON08RGTC    409         8  \n",
      "89134  GCON08RGTC    527         8  \n",
      "89135  GCON08RGTC     15         8  \n",
      "\n",
      "[21565 rows x 7 columns]\n"
     ]
    }
   ],
   "source": [
    "md_election_df_filtered = md_election_df[['NAME', 'precinct', 'county_name', 'county_fips', 'variable', 'votes', 'district']]\n",
    "print(md_election_df_filtered)"
   ]
  },
  {
   "cell_type": "code",
   "execution_count": 817,
   "metadata": {},
   "outputs": [
    {
     "name": "stdout",
     "output_type": "stream",
     "text": [
      "2035\n"
     ]
    }
   ],
   "source": [
    "print(len(md_election_df_filtered['NAME'].unique()))"
   ]
  },
  {
   "cell_type": "code",
   "execution_count": 818,
   "metadata": {},
   "outputs": [],
   "source": [
    "md_election_pivoted_df = md_election_df_filtered.pivot_table(\n",
    "    index=['NAME'], \n",
    "    columns='variable',\n",
    "    values='votes',\n",
    "    aggfunc='sum'\n",
    ").fillna(0).reset_index() \n"
   ]
  },
  {
   "cell_type": "code",
   "execution_count": 819,
   "metadata": {},
   "outputs": [],
   "source": [
    "district_mapping = md_election_df_filtered[['NAME', 'district']].drop_duplicates()\n",
    "md_election_pivoted_df = md_election_pivoted_df.merge(district_mapping, on='NAME', how='left')"
   ]
  },
  {
   "cell_type": "code",
   "execution_count": 820,
   "metadata": {},
   "outputs": [
    {
     "name": "stdout",
     "output_type": "stream",
     "text": [
      "                               NAME  district\n",
      "52046      WICOMICO_PRECINCT_01-001         1\n",
      "52047    DORCHESTER_PRECINCT_01-001         1\n",
      "52048      SOMERSET_PRECINCT_01-001         1\n",
      "52049      CAROLINE_PRECINCT_01-001         1\n",
      "52050  QUEEN_ANNE'S_PRECINCT_01-001         1\n",
      "...                             ...       ...\n",
      "89041     FREDERICK_PRECINCT_24-002         8\n",
      "89061     FREDERICK_PRECINCT_24-003         8\n",
      "89081     FREDERICK_PRECINCT_24-006         8\n",
      "89101     FREDERICK_PRECINCT_26-001         8\n",
      "89121     FREDERICK_PRECINCT_26-002         8\n",
      "\n",
      "[2035 rows x 2 columns]\n"
     ]
    }
   ],
   "source": [
    "print(district_mapping)"
   ]
  },
  {
   "cell_type": "code",
   "execution_count": 821,
   "metadata": {},
   "outputs": [
    {
     "name": "stdout",
     "output_type": "stream",
     "text": [
      "                       NAME  GCON01DMM  GCON01RAH  GCON02DCDR  GCON02RJRS  \\\n",
      "0  ALLEGANY_PRECINCT_01-000        0.0        0.0         0.0         0.0   \n",
      "1  ALLEGANY_PRECINCT_02-000        0.0        0.0         0.0         0.0   \n",
      "2  ALLEGANY_PRECINCT_03-000        0.0        0.0         0.0         0.0   \n",
      "3  ALLEGANY_PRECINCT_04-002        0.0        0.0         0.0         0.0   \n",
      "4  ALLEGANY_PRECINCT_04-003        0.0        0.0         0.0         0.0   \n",
      "\n",
      "   GCON03DJS  GCON03RCA  GCON04DAGB  GCON04RGEM  GCON05DSHH  GCON05RCP  \\\n",
      "0        0.0        0.0         0.0         0.0         0.0        0.0   \n",
      "1        0.0        0.0         0.0         0.0         0.0        0.0   \n",
      "2        0.0        0.0         0.0         0.0         0.0        0.0   \n",
      "3        0.0        0.0         0.0         0.0         0.0        0.0   \n",
      "4        0.0        0.0         0.0         0.0         0.0        0.0   \n",
      "\n",
      "   GCON06DDJT  GCON06GGG  GCON06RNCP  GCON07DKM  GCON07RKK  GCON08DJR  \\\n",
      "0        72.0        3.0       406.0        0.0        0.0        0.0   \n",
      "1        93.0        8.0       398.0        0.0        0.0        0.0   \n",
      "2        89.0        7.0       419.0        0.0        0.0        0.0   \n",
      "3       144.0       10.0       188.0        0.0        0.0        0.0   \n",
      "4       248.0       14.0       354.0        0.0        0.0        0.0   \n",
      "\n",
      "   GCON08RGTC  district  \n",
      "0         0.0         6  \n",
      "1         0.0         6  \n",
      "2         0.0         6  \n",
      "3         0.0         6  \n",
      "4         0.0         6  \n"
     ]
    }
   ],
   "source": [
    "print(md_election_pivoted_df.head())\n"
   ]
  },
  {
   "cell_type": "code",
   "execution_count": 822,
   "metadata": {},
   "outputs": [
    {
     "name": "stdout",
     "output_type": "stream",
     "text": [
      "                           NAME  GCON01DMM  GCON01RAH  GCON02DCDR  GCON02RJRS  \\\n",
      "0      ALLEGANY_PRECINCT_01-000        0.0        0.0         0.0         0.0   \n",
      "1      ALLEGANY_PRECINCT_02-000        0.0        0.0         0.0         0.0   \n",
      "2      ALLEGANY_PRECINCT_03-000        0.0        0.0         0.0         0.0   \n",
      "3      ALLEGANY_PRECINCT_04-002        0.0        0.0         0.0         0.0   \n",
      "4      ALLEGANY_PRECINCT_04-003        0.0        0.0         0.0         0.0   \n",
      "...                         ...        ...        ...         ...         ...   \n",
      "2030  WORCESTER_PRECINCT_05-002      955.0     1592.0         0.0         0.0   \n",
      "2031  WORCESTER_PRECINCT_06-001      921.0     1742.0         0.0         0.0   \n",
      "2032  WORCESTER_PRECINCT_06-002      250.0      753.0         0.0         0.0   \n",
      "2033  WORCESTER_PRECINCT_06-003      430.0     1115.0         0.0         0.0   \n",
      "2034  WORCESTER_PRECINCT_07-001     1532.0     3005.0         0.0         0.0   \n",
      "\n",
      "      GCON03DJS  GCON03RCA  GCON04DAGB  GCON04RGEM  GCON05DSHH  GCON05RCP  \\\n",
      "0           0.0        0.0         0.0         0.0         0.0        0.0   \n",
      "1           0.0        0.0         0.0         0.0         0.0        0.0   \n",
      "2           0.0        0.0         0.0         0.0         0.0        0.0   \n",
      "3           0.0        0.0         0.0         0.0         0.0        0.0   \n",
      "4           0.0        0.0         0.0         0.0         0.0        0.0   \n",
      "...         ...        ...         ...         ...         ...        ...   \n",
      "2030        0.0        0.0         0.0         0.0         0.0        0.0   \n",
      "2031        0.0        0.0         0.0         0.0         0.0        0.0   \n",
      "2032        0.0        0.0         0.0         0.0         0.0        0.0   \n",
      "2033        0.0        0.0         0.0         0.0         0.0        0.0   \n",
      "2034        0.0        0.0         0.0         0.0         0.0        0.0   \n",
      "\n",
      "      GCON06DDJT  GCON06GGG  GCON06RNCP  GCON07DKM  GCON07RKK  GCON08DJR  \\\n",
      "0           72.0        3.0       406.0        0.0        0.0        0.0   \n",
      "1           93.0        8.0       398.0        0.0        0.0        0.0   \n",
      "2           89.0        7.0       419.0        0.0        0.0        0.0   \n",
      "3          144.0       10.0       188.0        0.0        0.0        0.0   \n",
      "4          248.0       14.0       354.0        0.0        0.0        0.0   \n",
      "...          ...        ...         ...        ...        ...        ...   \n",
      "2030         0.0        0.0         0.0        0.0        0.0        0.0   \n",
      "2031         0.0        0.0         0.0        0.0        0.0        0.0   \n",
      "2032         0.0        0.0         0.0        0.0        0.0        0.0   \n",
      "2033         0.0        0.0         0.0        0.0        0.0        0.0   \n",
      "2034         0.0        0.0         0.0        0.0        0.0        0.0   \n",
      "\n",
      "      GCON08RGTC  district  \n",
      "0            0.0         6  \n",
      "1            0.0         6  \n",
      "2            0.0         6  \n",
      "3            0.0         6  \n",
      "4            0.0         6  \n",
      "...          ...       ...  \n",
      "2030         0.0         1  \n",
      "2031         0.0         1  \n",
      "2032         0.0         1  \n",
      "2033         0.0         1  \n",
      "2034         0.0         1  \n",
      "\n",
      "[2035 rows x 19 columns]\n"
     ]
    }
   ],
   "source": [
    "print(md_election_pivoted_df)"
   ]
  },
  {
   "cell_type": "code",
   "execution_count": 826,
   "metadata": {},
   "outputs": [
    {
     "name": "stdout",
     "output_type": "stream",
     "text": [
      "['NAME' 'GCON01DMM' 'GCON01RAH' 'GCON02DCDR' 'GCON02RJRS' 'GCON03DJS'\n",
      " 'GCON03RCA' 'GCON04DAGB' 'GCON04RGEM' 'GCON05DSHH' 'GCON05RCP'\n",
      " 'GCON06DDJT' 'GCON06GGG' 'GCON06RNCP' 'GCON07DKM' 'GCON07RKK' 'GCON08DJR'\n",
      " 'GCON08RGTC' 'district']\n"
     ]
    }
   ],
   "source": [
    "print(md_election_pivoted_df.columns.values)"
   ]
  },
  {
   "cell_type": "markdown",
   "metadata": {},
   "source": [
    "## Process voting population:"
   ]
  },
  {
   "cell_type": "code",
   "execution_count": 827,
   "metadata": {},
   "outputs": [],
   "source": [
    "columns_to_ignore = ['NAME', 'district']\n",
    "columns_to_use = [col for col in md_election_pivoted_df.columns if col not in columns_to_ignore]"
   ]
  },
  {
   "cell_type": "code",
   "execution_count": 828,
   "metadata": {},
   "outputs": [
    {
     "name": "stdout",
     "output_type": "stream",
     "text": [
      "['GCON01DMM', 'GCON01RAH', 'GCON02DCDR', 'GCON02RJRS', 'GCON03DJS', 'GCON03RCA', 'GCON04DAGB', 'GCON04RGEM', 'GCON05DSHH', 'GCON05RCP', 'GCON06DDJT', 'GCON06GGG', 'GCON06RNCP', 'GCON07DKM', 'GCON07RKK', 'GCON08DJR', 'GCON08RGTC']\n"
     ]
    }
   ],
   "source": [
    "print(columns_to_use)"
   ]
  },
  {
   "cell_type": "code",
   "execution_count": 829,
   "metadata": {},
   "outputs": [],
   "source": [
    "md_election_processed_df = process_precinct_votes(md_election_pivoted_df, columns_to_use, columns_to_ignore)\n"
   ]
  },
  {
   "cell_type": "code",
   "execution_count": 830,
   "metadata": {},
   "outputs": [
    {
     "name": "stdout",
     "output_type": "stream",
     "text": [
      "['NAME' 'district' 'TOT_REP' 'TOT_DEM' 'TOT_VOT' 'LEAN' 'GCON01RAH'\n",
      " 'GCON02RJRS' 'GCON03RCA' 'GCON04RGEM' 'GCON05RCP' 'GCON06RNCP'\n",
      " 'GCON07RKK' 'GCON08RGTC' 'GCON01DMM' 'GCON02DCDR' 'GCON03DJS'\n",
      " 'GCON04DAGB' 'GCON05DSHH' 'GCON06DDJT' 'GCON07DKM' 'GCON08DJR']\n"
     ]
    }
   ],
   "source": [
    "print(md_election_processed_df.columns.values)"
   ]
  },
  {
   "cell_type": "code",
   "execution_count": 831,
   "metadata": {},
   "outputs": [
    {
     "name": "stdout",
     "output_type": "stream",
     "text": [
      "                       NAME  district  TOT_REP  TOT_DEM  TOT_VOT        LEAN  \\\n",
      "0  ALLEGANY_PRECINCT_01-000         6    406.0     72.0    478.0  Republican   \n",
      "1  ALLEGANY_PRECINCT_02-000         6    398.0     93.0    491.0  Republican   \n",
      "2  ALLEGANY_PRECINCT_03-000         6    419.0     89.0    508.0  Republican   \n",
      "3  ALLEGANY_PRECINCT_04-002         6    188.0    144.0    332.0  Republican   \n",
      "4  ALLEGANY_PRECINCT_04-003         6    354.0    248.0    602.0  Republican   \n",
      "\n",
      "   GCON01RAH  GCON02RJRS  GCON03RCA  GCON04RGEM  ...  GCON07RKK  GCON08RGTC  \\\n",
      "0        0.0         0.0        0.0         0.0  ...        0.0         0.0   \n",
      "1        0.0         0.0        0.0         0.0  ...        0.0         0.0   \n",
      "2        0.0         0.0        0.0         0.0  ...        0.0         0.0   \n",
      "3        0.0         0.0        0.0         0.0  ...        0.0         0.0   \n",
      "4        0.0         0.0        0.0         0.0  ...        0.0         0.0   \n",
      "\n",
      "   GCON01DMM  GCON02DCDR  GCON03DJS  GCON04DAGB  GCON05DSHH  GCON06DDJT  \\\n",
      "0        0.0         0.0        0.0         0.0         0.0        72.0   \n",
      "1        0.0         0.0        0.0         0.0         0.0        93.0   \n",
      "2        0.0         0.0        0.0         0.0         0.0        89.0   \n",
      "3        0.0         0.0        0.0         0.0         0.0       144.0   \n",
      "4        0.0         0.0        0.0         0.0         0.0       248.0   \n",
      "\n",
      "   GCON07DKM  GCON08DJR  \n",
      "0        0.0        0.0  \n",
      "1        0.0        0.0  \n",
      "2        0.0        0.0  \n",
      "3        0.0        0.0  \n",
      "4        0.0        0.0  \n",
      "\n",
      "[5 rows x 22 columns]\n"
     ]
    }
   ],
   "source": [
    "print(md_election_processed_df.head())"
   ]
  },
  {
   "cell_type": "code",
   "execution_count": 832,
   "metadata": {},
   "outputs": [
    {
     "name": "stdout",
     "output_type": "stream",
     "text": [
      "LEAN      \n",
      "Democratic    1392\n",
      "Republican     596\n",
      "Unknown         47\n",
      "Name: count, dtype: int64\n"
     ]
    }
   ],
   "source": [
    "print(md_election_processed_df[['LEAN']].value_counts())"
   ]
  },
  {
   "cell_type": "code",
   "execution_count": 833,
   "metadata": {},
   "outputs": [
    {
     "name": "stdout",
     "output_type": "stream",
     "text": [
      "                                 NAME  district  TOT_REP  TOT_DEM  TOT_VOT  \\\n",
      "64       ANNE_ARUNDEL_PRECINCT_02-002         4    517.0    626.0   1143.0   \n",
      "75       ANNE_ARUNDEL_PRECINCT_02-013         4    709.0    693.0   1402.0   \n",
      "80       ANNE_ARUNDEL_PRECINCT_02-018         4    354.0    767.0   1121.0   \n",
      "82       ANNE_ARUNDEL_PRECINCT_02-020         4    727.0    883.0   1610.0   \n",
      "83       ANNE_ARUNDEL_PRECINCT_02-021         4   1280.0   1170.0   2450.0   \n",
      "...                               ...       ...      ...      ...      ...   \n",
      "1795  PRINCE_GEORGE'S_PRECINCT_20-097         4      0.0      0.0      0.0   \n",
      "1796  PRINCE_GEORGE'S_PRECINCT_20-098         4      0.0      0.0      0.0   \n",
      "1797  PRINCE_GEORGE'S_PRECINCT_20-099         4      0.0      0.0      0.0   \n",
      "1802  PRINCE_GEORGE'S_PRECINCT_21-005         4    172.0   1000.0   1172.0   \n",
      "1811  PRINCE_GEORGE'S_PRECINCT_21-014         4    151.0    716.0    867.0   \n",
      "\n",
      "            LEAN  GCON01RAH  GCON02RJRS  GCON03RCA  GCON04RGEM  ...  \\\n",
      "64    Democratic        0.0         0.0        0.0       517.0  ...   \n",
      "75    Republican        0.0         0.0        0.0       709.0  ...   \n",
      "80    Democratic        0.0         0.0        0.0       354.0  ...   \n",
      "82    Democratic        0.0         0.0        0.0       727.0  ...   \n",
      "83    Republican        0.0         0.0        0.0      1280.0  ...   \n",
      "...          ...        ...         ...        ...         ...  ...   \n",
      "1795     Unknown        0.0         0.0        0.0         0.0  ...   \n",
      "1796     Unknown        0.0         0.0        0.0         0.0  ...   \n",
      "1797     Unknown        0.0         0.0        0.0         0.0  ...   \n",
      "1802  Democratic        0.0         0.0        0.0       172.0  ...   \n",
      "1811  Democratic        0.0         0.0        0.0       151.0  ...   \n",
      "\n",
      "      GCON07RKK  GCON08RGTC  GCON01DMM  GCON02DCDR  GCON03DJS  GCON04DAGB  \\\n",
      "64          0.0         0.0        0.0         0.0        0.0       626.0   \n",
      "75          0.0         0.0        0.0         0.0        0.0       693.0   \n",
      "80          0.0         0.0        0.0         0.0        0.0       767.0   \n",
      "82          0.0         0.0        0.0         0.0        0.0       883.0   \n",
      "83          0.0         0.0        0.0         0.0        0.0      1170.0   \n",
      "...         ...         ...        ...         ...        ...         ...   \n",
      "1795        0.0         0.0        0.0         0.0        0.0         0.0   \n",
      "1796        0.0         0.0        0.0         0.0        0.0         0.0   \n",
      "1797        0.0         0.0        0.0         0.0        0.0         0.0   \n",
      "1802        0.0         0.0        0.0         0.0        0.0      1000.0   \n",
      "1811        0.0         0.0        0.0         0.0        0.0       716.0   \n",
      "\n",
      "      GCON05DSHH  GCON06DDJT  GCON07DKM  GCON08DJR  \n",
      "64           0.0         0.0        0.0        0.0  \n",
      "75           0.0         0.0        0.0        0.0  \n",
      "80           0.0         0.0        0.0        0.0  \n",
      "82           0.0         0.0        0.0        0.0  \n",
      "83           0.0         0.0        0.0        0.0  \n",
      "...          ...         ...        ...        ...  \n",
      "1795         0.0         0.0        0.0        0.0  \n",
      "1796         0.0         0.0        0.0        0.0  \n",
      "1797         0.0         0.0        0.0        0.0  \n",
      "1802         0.0         0.0        0.0        0.0  \n",
      "1811         0.0         0.0        0.0        0.0  \n",
      "\n",
      "[263 rows x 22 columns]\n"
     ]
    }
   ],
   "source": [
    "# get UNIQUE_ID where district == 4\n",
    "\n",
    "print(md_election_processed_df[md_election_processed_df['district'] == 4])"
   ]
  },
  {
   "cell_type": "code",
   "execution_count": 834,
   "metadata": {},
   "outputs": [],
   "source": [
    "#rename NAME to UNIQUE_ID\n",
    "md_election_processed_df = md_election_processed_df.rename(columns={'NAME': 'UNIQUE_ID'})"
   ]
  },
  {
   "cell_type": "code",
   "execution_count": 835,
   "metadata": {},
   "outputs": [],
   "source": [
    "with open('states/maryland/election/md_election_cd.json', 'w') as json_file:\n",
    "    json.dump(md_election_processed_df.to_dict(orient='records'), json_file, indent=4)"
   ]
  },
  {
   "cell_type": "markdown",
   "metadata": {},
   "source": [
    "### Election preprocessing for Govenor"
   ]
  },
  {
   "cell_type": "code",
   "execution_count": 885,
   "metadata": {},
   "outputs": [],
   "source": [
    "md_election_csv = pd.read_csv('raw/census_block/election/GG22_AllPrecincts.csv')"
   ]
  },
  {
   "cell_type": "code",
   "execution_count": 886,
   "metadata": {},
   "outputs": [
    {
     "name": "stdout",
     "output_type": "stream",
     "text": [
      "['County' 'County Name' 'Election District - Precinct' 'Congressional'\n",
      " 'Legislative' 'Office Name' 'Office District' 'Candidate Name' 'Party'\n",
      " 'Winner' 'Write-In?' 'Early Votes' 'Early Votes Against'\n",
      " 'Election Night Votes' 'Election Night Votes Against'\n",
      " 'Mail-In Ballot 1 Votes' 'Mail-In Ballot 1 Votes Against'\n",
      " 'Provisional Votes' 'Provisional Votes Against' 'Mail-In Ballot 2 Votes'\n",
      " 'Mail-In Ballot 2 Votes Against ']\n"
     ]
    }
   ],
   "source": [
    "print(md_election_csv.columns.values)"
   ]
  },
  {
   "cell_type": "code",
   "execution_count": 887,
   "metadata": {},
   "outputs": [],
   "source": [
    "# filter Office Name to get only \"Governor / Lt. Governor\"\n",
    "md_gov_election_df = md_election_csv[md_election_csv['Office Name'] == 'Governor / Lt. Governor']"
   ]
  },
  {
   "cell_type": "code",
   "execution_count": 888,
   "metadata": {},
   "outputs": [
    {
     "name": "stderr",
     "output_type": "stream",
     "text": [
      "/var/folders/3l/c_gyf2kn1vg4ww5h_h4819cm0000gn/T/ipykernel_96987/2367602659.py:1: SettingWithCopyWarning: \n",
      "A value is trying to be set on a copy of a slice from a DataFrame.\n",
      "Try using .loc[row_indexer,col_indexer] = value instead\n",
      "\n",
      "See the caveats in the documentation: https://pandas.pydata.org/pandas-docs/stable/user_guide/indexing.html#returning-a-view-versus-a-copy\n",
      "  md_gov_election_df[\"UNIQUE_ID\"] = md_gov_election_df.apply(create_unique_id, axis=1)\n"
     ]
    }
   ],
   "source": [
    "md_gov_election_df[\"UNIQUE_ID\"] = md_gov_election_df.apply(create_unique_id, axis=1)"
   ]
  },
  {
   "cell_type": "code",
   "execution_count": 889,
   "metadata": {},
   "outputs": [],
   "source": [
    "# filter 'Party' to get DEM and REP\n",
    "md_gov_election_df = md_gov_election_df[md_gov_election_df['Party'].isin(['DEM', 'REP'])]"
   ]
  },
  {
   "cell_type": "code",
   "execution_count": 893,
   "metadata": {},
   "outputs": [
    {
     "name": "stdout",
     "output_type": "stream",
     "text": [
      "        County       County Name Election District - Precinct  Congressional  \\\n",
      "0            1   Allegany County                      001-000              6   \n",
      "1            1   Allegany County                      001-000              6   \n",
      "56           1   Allegany County                      002-000              6   \n",
      "57           1   Allegany County                      002-000              6   \n",
      "112          1   Allegany County                      003-000              6   \n",
      "...        ...               ...                          ...            ...   \n",
      "122913      24  Worcester County                      006-002              1   \n",
      "122958      24  Worcester County                      006-003              1   \n",
      "122959      24  Worcester County                      006-003              1   \n",
      "123004      24  Worcester County                      007-001              1   \n",
      "123005      24  Worcester County                      007-001              1   \n",
      "\n",
      "       Legislative              Office Name Office District  \\\n",
      "0              01C  Governor / Lt. Governor             NaN   \n",
      "1              01C  Governor / Lt. Governor             NaN   \n",
      "56             01C  Governor / Lt. Governor             NaN   \n",
      "57             01C  Governor / Lt. Governor             NaN   \n",
      "112            01C  Governor / Lt. Governor             NaN   \n",
      "...            ...                      ...             ...   \n",
      "122913         38C  Governor / Lt. Governor             NaN   \n",
      "122958         38C  Governor / Lt. Governor             NaN   \n",
      "122959         38C  Governor / Lt. Governor             NaN   \n",
      "123004         38C  Governor / Lt. Governor             NaN   \n",
      "123005         38C  Governor / Lt. Governor             NaN   \n",
      "\n",
      "                         Candidate Name Party Winner  ...  \\\n",
      "0       Dan Cox and Gordana Schifanelli   REP    NaN  ...   \n",
      "1            Wes Moore and Aruna Miller   DEM      Y  ...   \n",
      "56      Dan Cox and Gordana Schifanelli   REP    NaN  ...   \n",
      "57           Wes Moore and Aruna Miller   DEM      Y  ...   \n",
      "112     Dan Cox and Gordana Schifanelli   REP    NaN  ...   \n",
      "...                                 ...   ...    ...  ...   \n",
      "122913       Wes Moore and Aruna Miller   DEM      Y  ...   \n",
      "122958  Dan Cox and Gordana Schifanelli   REP    NaN  ...   \n",
      "122959       Wes Moore and Aruna Miller   DEM      Y  ...   \n",
      "123004  Dan Cox and Gordana Schifanelli   REP    NaN  ...   \n",
      "123005       Wes Moore and Aruna Miller   DEM      Y  ...   \n",
      "\n",
      "       Election Night Votes  Election Night Votes Against  \\\n",
      "0                       229                           NaN   \n",
      "1                        34                           NaN   \n",
      "56                      260                           NaN   \n",
      "57                       28                           NaN   \n",
      "112                     278                           NaN   \n",
      "...                     ...                           ...   \n",
      "122913                  101                           NaN   \n",
      "122958                  614                           NaN   \n",
      "122959                  214                           NaN   \n",
      "123004                 1243                           NaN   \n",
      "123005                  447                           NaN   \n",
      "\n",
      "        Mail-In Ballot 1 Votes  Mail-In Ballot 1 Votes Against  \\\n",
      "0                           21                             NaN   \n",
      "1                           10                             NaN   \n",
      "56                          26                             NaN   \n",
      "57                          14                             NaN   \n",
      "112                         19                             NaN   \n",
      "...                        ...                             ...   \n",
      "122913                      93                             NaN   \n",
      "122958                      50                             NaN   \n",
      "122959                      90                             NaN   \n",
      "123004                     232                             NaN   \n",
      "123005                     394                             NaN   \n",
      "\n",
      "        Provisional Votes  Provisional Votes Against  Mail-In Ballot 2 Votes  \\\n",
      "0                       2                        NaN                       0   \n",
      "1                       5                        NaN                       0   \n",
      "56                      2                        NaN                       0   \n",
      "57                      5                        NaN                       0   \n",
      "112                     1                        NaN                       0   \n",
      "...                   ...                        ...                     ...   \n",
      "122913                  1                        NaN                      26   \n",
      "122958                 11                        NaN                      18   \n",
      "122959                  9                        NaN                      20   \n",
      "123004                 41                        NaN                      58   \n",
      "123005                 36                        NaN                      59   \n",
      "\n",
      "        Mail-In Ballot 2 Votes Against                   UNIQUE_ID   variable  \n",
      "0                                         ALLEGANY_PRECINCT_01-000  G22GOVRDC  \n",
      "1                                         ALLEGANY_PRECINCT_01-000  G22GOVDWM  \n",
      "56                                        ALLEGANY_PRECINCT_02-000  G22GOVRDC  \n",
      "57                                        ALLEGANY_PRECINCT_02-000  G22GOVDWM  \n",
      "112                                       ALLEGANY_PRECINCT_03-000  G22GOVRDC  \n",
      "...                                 ...                        ...        ...  \n",
      "122913                                   WORCESTER_PRECINCT_06-002  G22GOVDWM  \n",
      "122958                                   WORCESTER_PRECINCT_06-003  G22GOVRDC  \n",
      "122959                                   WORCESTER_PRECINCT_06-003  G22GOVDWM  \n",
      "123004                                   WORCESTER_PRECINCT_07-001  G22GOVRDC  \n",
      "123005                                   WORCESTER_PRECINCT_07-001  G22GOVDWM  \n",
      "\n",
      "[4148 rows x 23 columns]\n"
     ]
    }
   ],
   "source": [
    "print(md_gov_election_df)"
   ]
  },
  {
   "cell_type": "code",
   "execution_count": 899,
   "metadata": {},
   "outputs": [
    {
     "name": "stdout",
     "output_type": "stream",
     "text": [
      "Party\n",
      "REP    2074\n",
      "DEM    2074\n",
      "Name: count, dtype: int64\n"
     ]
    }
   ],
   "source": [
    "print(md_gov_election_df['Party'].value_counts())"
   ]
  },
  {
   "cell_type": "code",
   "execution_count": 896,
   "metadata": {},
   "outputs": [],
   "source": [
    "# G22GOVDCUN\n",
    "md_gov_election_df['variable'] = (\n",
    "    'G22GOV' + \n",
    "    md_gov_election_df['Party'].str[0] + \n",
    "    md_gov_election_df['Candidate Name'].apply(lambda x: ''.join([name[0] for name in ' '.join(x.split()[:2]).split()]))\n",
    ")\n"
   ]
  },
  {
   "cell_type": "code",
   "execution_count": 3,
   "metadata": {},
   "outputs": [
    {
     "ename": "NameError",
     "evalue": "name 'md_gov_election_df' is not defined",
     "output_type": "error",
     "traceback": [
      "\u001b[0;31m---------------------------------------------------------------------------\u001b[0m",
      "\u001b[0;31mNameError\u001b[0m                                 Traceback (most recent call last)",
      "Cell \u001b[0;32mIn[3], line 1\u001b[0m\n\u001b[0;32m----> 1\u001b[0m \u001b[38;5;28mprint\u001b[39m(\u001b[43mmd_gov_election_df\u001b[49m[\u001b[38;5;124m'\u001b[39m\u001b[38;5;124mCandidate Name\u001b[39m\u001b[38;5;124m'\u001b[39m]\u001b[38;5;241m.\u001b[39mvalue_counts())\n",
      "\u001b[0;31mNameError\u001b[0m: name 'md_gov_election_df' is not defined"
     ]
    }
   ],
   "source": [
    "print(md_gov_election_df['Candidate Name'].value_counts())"
   ]
  },
  {
   "cell_type": "code",
   "execution_count": 897,
   "metadata": {},
   "outputs": [
    {
     "name": "stdout",
     "output_type": "stream",
     "text": [
      "0      ALLEGANY_PRECINCT_01-000\n",
      "1      ALLEGANY_PRECINCT_01-000\n",
      "56     ALLEGANY_PRECINCT_02-000\n",
      "57     ALLEGANY_PRECINCT_02-000\n",
      "112    ALLEGANY_PRECINCT_03-000\n",
      "Name: UNIQUE_ID, dtype: object\n"
     ]
    }
   ],
   "source": [
    "print(md_gov_election_df['UNIQUE_ID'].head())"
   ]
  },
  {
   "cell_type": "code",
   "execution_count": 900,
   "metadata": {},
   "outputs": [
    {
     "name": "stdout",
     "output_type": "stream",
     "text": [
      "variable\n",
      "G22GOVRDC    2074\n",
      "G22GOVDWM    2074\n",
      "Name: count, dtype: int64\n"
     ]
    }
   ],
   "source": [
    "print(md_gov_election_df['variable'].value_counts())"
   ]
  },
  {
   "cell_type": "code",
   "execution_count": 902,
   "metadata": {},
   "outputs": [],
   "source": [
    "md_gov_election_df[\"votes\"] = (\n",
    "    md_gov_election_df[\"Early Votes\"] +\n",
    "    md_gov_election_df[\"Election Night Votes\"] +\n",
    "    md_gov_election_df[\"Mail-In Ballot 1 Votes\"] +\n",
    "    md_gov_election_df[\"Provisional Votes\"] +\n",
    "    md_gov_election_df[\"Mail-In Ballot 2 Votes\"]\n",
    ")"
   ]
  },
  {
   "cell_type": "code",
   "execution_count": 903,
   "metadata": {},
   "outputs": [
    {
     "name": "stdout",
     "output_type": "stream",
     "text": [
      "                    UNIQUE_ID   variable  votes\n",
      "0    ALLEGANY_PRECINCT_01-000  G22GOVRDC    274\n",
      "1    ALLEGANY_PRECINCT_01-000  G22GOVDWM     57\n",
      "56   ALLEGANY_PRECINCT_02-000  G22GOVRDC    311\n",
      "57   ALLEGANY_PRECINCT_02-000  G22GOVDWM     53\n",
      "112  ALLEGANY_PRECINCT_03-000  G22GOVRDC    324\n"
     ]
    }
   ],
   "source": [
    "print(md_gov_election_df[['UNIQUE_ID', 'variable', 'votes']].head())"
   ]
  },
  {
   "cell_type": "code",
   "execution_count": 904,
   "metadata": {},
   "outputs": [
    {
     "name": "stdout",
     "output_type": "stream",
     "text": [
      "['County' 'County Name' 'Election District - Precinct' 'Congressional'\n",
      " 'Legislative' 'Office Name' 'Office District' 'Candidate Name' 'Party'\n",
      " 'Winner' 'Write-In?' 'Early Votes' 'Early Votes Against'\n",
      " 'Election Night Votes' 'Election Night Votes Against'\n",
      " 'Mail-In Ballot 1 Votes' 'Mail-In Ballot 1 Votes Against'\n",
      " 'Provisional Votes' 'Provisional Votes Against' 'Mail-In Ballot 2 Votes'\n",
      " 'Mail-In Ballot 2 Votes Against ' 'UNIQUE_ID' 'variable' 'votes']\n"
     ]
    }
   ],
   "source": [
    "print(md_gov_election_df.columns.values)"
   ]
  },
  {
   "cell_type": "code",
   "execution_count": 907,
   "metadata": {},
   "outputs": [],
   "source": [
    "# filter 'UNIQUE_ID' 'Election District - Precinct' 'variable' 'votes'\n",
    "md_gov_election_df_filtered = md_gov_election_df[['UNIQUE_ID', 'Election District - Precinct', 'variable', 'votes']]\n",
    "#rename 'Election District - Precinct' to 'Prec_Code'\n",
    "md_gov_election_df_filtered = md_gov_election_df_filtered.rename(columns={'Election District - Precinct': 'Prec_Code'})"
   ]
  },
  {
   "cell_type": "code",
   "execution_count": 908,
   "metadata": {},
   "outputs": [
    {
     "name": "stdout",
     "output_type": "stream",
     "text": [
      "                    UNIQUE_ID Prec_Code   variable  votes\n",
      "0    ALLEGANY_PRECINCT_01-000   001-000  G22GOVRDC    274\n",
      "1    ALLEGANY_PRECINCT_01-000   001-000  G22GOVDWM     57\n",
      "56   ALLEGANY_PRECINCT_02-000   002-000  G22GOVRDC    311\n",
      "57   ALLEGANY_PRECINCT_02-000   002-000  G22GOVDWM     53\n",
      "112  ALLEGANY_PRECINCT_03-000   003-000  G22GOVRDC    324\n"
     ]
    }
   ],
   "source": [
    "print(md_gov_election_df_filtered.head())"
   ]
  },
  {
   "cell_type": "code",
   "execution_count": 909,
   "metadata": {},
   "outputs": [],
   "source": [
    "md_gov_election_pivoted_df = md_gov_election_df_filtered.pivot_table(\n",
    "    index=['UNIQUE_ID'], \n",
    "    columns='variable',\n",
    "    values='votes',\n",
    "    aggfunc='sum'\n",
    ").fillna(0).reset_index() "
   ]
  },
  {
   "cell_type": "code",
   "execution_count": 910,
   "metadata": {},
   "outputs": [
    {
     "name": "stdout",
     "output_type": "stream",
     "text": [
      "variable                 UNIQUE_ID  G22GOVDWM  G22GOVRDC\n",
      "0         ALLEGANY_PRECINCT_01-000         57        274\n",
      "1         ALLEGANY_PRECINCT_02-000         53        311\n",
      "2         ALLEGANY_PRECINCT_03-000         54        324\n",
      "3         ALLEGANY_PRECINCT_04-002         56        129\n",
      "4         ALLEGANY_PRECINCT_04-003        154        228\n"
     ]
    }
   ],
   "source": [
    "print(md_gov_election_pivoted_df.head())"
   ]
  },
  {
   "cell_type": "code",
   "execution_count": 913,
   "metadata": {},
   "outputs": [],
   "source": [
    "columns_to_ignore = ['UNIQUE_ID']\n",
    "columns_to_use = [col for col in md_gov_election_pivoted_df.columns if col not in columns_to_ignore]"
   ]
  },
  {
   "cell_type": "code",
   "execution_count": 914,
   "metadata": {},
   "outputs": [
    {
     "name": "stdout",
     "output_type": "stream",
     "text": [
      "['G22GOVDWM', 'G22GOVRDC']\n"
     ]
    }
   ],
   "source": [
    "print(columns_to_use)"
   ]
  },
  {
   "cell_type": "code",
   "execution_count": 915,
   "metadata": {},
   "outputs": [],
   "source": [
    "md_gov_election_processed_df = process_precinct_votes(md_gov_election_pivoted_df, columns_to_use, columns_to_ignore)"
   ]
  },
  {
   "cell_type": "code",
   "execution_count": 916,
   "metadata": {},
   "outputs": [
    {
     "name": "stdout",
     "output_type": "stream",
     "text": [
      "['UNIQUE_ID' 'TOT_REP' 'TOT_DEM' 'TOT_VOT' 'LEAN' 'G22GOVRDC' 'G22GOVDWM']\n"
     ]
    }
   ],
   "source": [
    "print(md_gov_election_processed_df.columns.values)"
   ]
  },
  {
   "cell_type": "code",
   "execution_count": 917,
   "metadata": {},
   "outputs": [
    {
     "name": "stdout",
     "output_type": "stream",
     "text": [
      "LEAN\n",
      "Democratic    1521\n",
      "Republican     541\n",
      "Unknown         12\n",
      "Name: count, dtype: int64\n"
     ]
    }
   ],
   "source": [
    "print(md_gov_election_processed_df['LEAN'].value_counts())"
   ]
  },
  {
   "cell_type": "code",
   "execution_count": 918,
   "metadata": {},
   "outputs": [
    {
     "name": "stdout",
     "output_type": "stream",
     "text": [
      "variable                 UNIQUE_ID  TOT_REP  TOT_DEM  TOT_VOT        LEAN  \\\n",
      "0         ALLEGANY_PRECINCT_01-000      274       57      331  Republican   \n",
      "1         ALLEGANY_PRECINCT_02-000      311       53      364  Republican   \n",
      "2         ALLEGANY_PRECINCT_03-000      324       54      378  Republican   \n",
      "3         ALLEGANY_PRECINCT_04-002      129       56      185  Republican   \n",
      "4         ALLEGANY_PRECINCT_04-003      228      154      382  Republican   \n",
      "\n",
      "variable  G22GOVRDC  G22GOVDWM  \n",
      "0               274         57  \n",
      "1               311         53  \n",
      "2               324         54  \n",
      "3               129         56  \n",
      "4               228        154  \n"
     ]
    }
   ],
   "source": [
    "print(md_gov_election_processed_df.head())"
   ]
  },
  {
   "cell_type": "code",
   "execution_count": 919,
   "metadata": {},
   "outputs": [],
   "source": [
    "#drop G22GOVRDC G22GOVDWM\n",
    "md_gov_election_processed_df = md_gov_election_processed_df.drop(columns=['G22GOVRDC', 'G22GOVDWM'])"
   ]
  },
  {
   "cell_type": "code",
   "execution_count": 920,
   "metadata": {},
   "outputs": [],
   "source": [
    "with open('states/maryland/election/md_election_gov_22.json', 'w') as json_file:\n",
    "    json.dump(md_gov_election_processed_df.to_dict(orient='records'), json_file, indent=4)"
   ]
  }
 ],
 "metadata": {
  "kernelspec": {
   "display_name": "cse354",
   "language": "python",
   "name": "python3"
  },
  "language_info": {
   "codemirror_mode": {
    "name": "ipython",
    "version": 3
   },
   "file_extension": ".py",
   "mimetype": "text/x-python",
   "name": "python",
   "nbconvert_exporter": "python",
   "pygments_lexer": "ipython3",
   "version": "3.11.10"
  }
 },
 "nbformat": 4,
 "nbformat_minor": 2
}
