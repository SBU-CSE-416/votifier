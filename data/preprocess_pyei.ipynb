{
 "cells": [
  {
   "cell_type": "markdown",
   "metadata": {},
   "source": [
    "Knudson et al., (2021). PyEI: A Python package for ecological inference. Journal of Open Source Software, 6(64), 3397, https://doi.org/10.21105/joss.03397"
   ]
  },
  {
   "cell_type": "code",
   "execution_count": 1,
   "metadata": {},
   "outputs": [
    {
     "name": "stderr",
     "output_type": "stream",
     "text": [
      "/Users/tonymac/miniconda3/envs/cse354/lib/python3.11/site-packages/numba/core/decorators.py:246: RuntimeWarning: nopython is set for njit and is ignored\n",
      "  warnings.warn('nopython is set for njit and is ignored', RuntimeWarning)\n"
     ]
    }
   ],
   "source": [
    "import numpy as np\n",
    "import pandas as pd\n",
    "import scipy.stats as stats\n",
    "import matplotlib.pyplot as plt\n",
    "import seaborn as sns\n",
    "from pyei import TwoByTwoEI\n"
   ]
  },
  {
   "cell_type": "code",
   "execution_count": 2,
   "metadata": {},
   "outputs": [],
   "source": [
    "race_columns = {\n",
    "    'WHITE': 'WHT_NHSP22',\n",
    "    'BLACK': 'BLK_NHSP22',\n",
    "    'HISPANIC': 'HSP_POP22',\n",
    "    'ASIAN': 'ASN_NHSP22',\n",
    "}\n",
    "election_columns = {\n",
    "    'REPUBLICAN': 'TOT_REP',\n",
    "    'DEMOCRATIC': 'TOT_DEM',\n",
    "}\n",
    "income_columns = ['0_35K', '35K_60K', '60K_100K', '100K_125K', '125K_150K', '150K_MORE']"
   ]
  },
  {
   "cell_type": "markdown",
   "metadata": {},
   "source": [
    "### Functions"
   ]
  },
  {
   "cell_type": "code",
   "execution_count": 795,
   "metadata": {},
   "outputs": [],
   "source": [
    "def calculate_population_distribution(df, race_columns, columns_to_keep):\n",
    "    # Recalculate total population as the sum of race-specific columns\n",
    "    df['TOTAL_POP_RECALCULATED'] = df[list(race_columns.values())].sum(axis=1)\n",
    "    \n",
    "    # Calculate percentages for each race column\n",
    "    for race, col in race_columns.items():\n",
    "        percentage_col = f\"{race}_PERCENT\"\n",
    "        df[percentage_col] = df[col] / df['TOTAL_POP_RECALCULATED']\n",
    "    \n",
    "    # Add the percentage columns to the columns_to_keep list\n",
    "    columns_to_keep += [f\"{race}_PERCENT\" for race in race_columns.keys()]\n",
    "\n",
    "    return df[columns_to_keep]\n",
    "\n",
    "\n"
   ]
  },
  {
   "cell_type": "code",
   "execution_count": 4,
   "metadata": {},
   "outputs": [],
   "source": [
    "def calculate_voting_distribution(df, election_columns, columns_to_keep):\n",
    "    df['TOTAL_VOTES_RECALCULATED'] = df[list(election_columns.values())].sum(axis=1)\n",
    "    \n",
    "    for party, col in election_columns.items():\n",
    "        percentage_col = f\"{party}_PERCENT\"\n",
    "        df[percentage_col] = (df[col] / df['TOTAL_VOTES_RECALCULATED'])\n",
    "    columns_to_keep += [f\"{party}_PERCENT\" for party in election_columns.keys()]\n",
    "    return df[columns_to_keep]"
   ]
  },
  {
   "cell_type": "code",
   "execution_count": 5,
   "metadata": {},
   "outputs": [],
   "source": [
    "def calculate_income_distribution(df, income_columns, columns_to_keep):\n",
    "    df['TOTAL_INCOME_POPULATION'] = df[income_columns].sum(axis=1)\n",
    "    \n",
    "    for income_range in income_columns:\n",
    "        percentage_col = f\"{income_range}_PERCENT\"\n",
    "        df[percentage_col] = df[income_range] / df['TOTAL_INCOME_POPULATION']\n",
    "    \n",
    "    columns_to_keep += [f\"{income_range}_PERCENT\" for income_range in income_columns]\n",
    "\n",
    "    return df[columns_to_keep]"
   ]
  },
  {
   "cell_type": "code",
   "execution_count": 6,
   "metadata": {},
   "outputs": [],
   "source": [
    "def run_ecological_inference(\n",
    "    df, \n",
    "    demographic_col, \n",
    "    voting_col, \n",
    "    total_votes_col, \n",
    "    demographic_group_name=\"Demographic Group\", \n",
    "    candidate_name=\"Candidate\", \n",
    "    precinct_col=\"UNIQUE_ID\",\n",
    "    model_name=\"king99_pareto_modification\",\n",
    "    pareto_scale = 3,\n",
    "    pareto_shape = 3,\n",
    "):\n",
    "    # Extract data\n",
    "    X = np.array(df[demographic_col])  # Demographic percentage\n",
    "    T = np.array(df[voting_col])       # Voting percentage\n",
    "    N = np.array(df[total_votes_col])  # Total votes\n",
    "    precinct_names = df[precinct_col]  # Precinct names\n",
    "\n",
    "    ei = TwoByTwoEI(\n",
    "        model_name=model_name,\n",
    "        pareto_scale=pareto_scale,\n",
    "        pareto_shape=pareto_shape\n",
    "    )\n",
    "\n",
    "    # Fit the model\n",
    "    ei.fit(\n",
    "        X, T, N,\n",
    "        demographic_group_name=demographic_group_name,\n",
    "        candidate_name=candidate_name,\n",
    "        precinct_names=precinct_names,\n",
    "        # draws=8000,\n",
    "        # tune=4000,\n",
    "        # target_accept=0.95\n",
    "    )\n",
    "\n",
    "    # Display a summary\n",
    "    summary = ei.summary()\n",
    "    print(summary)\n",
    "\n",
    "    return ei, summary\n"
   ]
  },
  {
   "cell_type": "code",
   "execution_count": 7,
   "metadata": {},
   "outputs": [],
   "source": [
    "def run_ecological_inference_normal(\n",
    "    df, \n",
    "    demographic_col, \n",
    "    voting_col, \n",
    "    total_votes_col, \n",
    "    demographic_group_name=\"Demographic Group\", \n",
    "    candidate_name=\"Candidate\", \n",
    "    precinct_col=\"UNIQUE_ID\",\n",
    "    model_name=\"truncated_normal\",\n",
    "):\n",
    "    # Extract data\n",
    "    X = np.array(df[demographic_col])  # Demographic percentage\n",
    "    T = np.array(df[voting_col])       # Voting percentage\n",
    "    N = np.array(df[total_votes_col])  # Total votes\n",
    "    precinct_names = df[precinct_col]  # Precinct names\n",
    "\n",
    "    ei = TwoByTwoEI(\n",
    "        model_name=model_name\n",
    "    )\n",
    "\n",
    "    # Fit the model\n",
    "    ei.fit(\n",
    "        X, T, N,\n",
    "        demographic_group_name=demographic_group_name,\n",
    "        candidate_name=candidate_name,\n",
    "        precinct_names=precinct_names,\n",
    "    )\n",
    "\n",
    "    # Display a summary\n",
    "    summary = ei.summary()\n",
    "    print(summary)\n",
    "\n",
    "    return ei, summary\n"
   ]
  },
  {
   "cell_type": "code",
   "execution_count": 230,
   "metadata": {},
   "outputs": [],
   "source": [
    "class json_serialize(json.JSONEncoder):\n",
    "    def default(self, obj):\n",
    "        if isinstance(obj, np.integer):\n",
    "            return int(obj)\n",
    "        if isinstance(obj, np.floating):\n",
    "            return float(obj)\n",
    "        if isinstance(obj, np.ndarray):\n",
    "            return obj.tolist()\n",
    "        return json.JSONEncoder.default(self, obj)"
   ]
  },
  {
   "cell_type": "markdown",
   "metadata": {},
   "source": [
    "## South Carolina"
   ]
  },
  {
   "cell_type": "markdown",
   "metadata": {},
   "source": [
    "### Import data"
   ]
  },
  {
   "cell_type": "code",
   "execution_count": 387,
   "metadata": {},
   "outputs": [],
   "source": [
    "sc_election_gov_df = pd.read_json('states/south_carolina/election/sc_election_gov_22.json')\n",
    "sc_race_df = pd.read_json('states/south_carolina/demographics/south_carolina_precincts_racial_population.json')\n",
    "sc_economic_df = pd.read_json('states/south_carolina/economic/south_carolina_precincts_household_income.json')\n",
    "sc_region_type_df = pd.read_json('states/south_carolina/geodata/south_carolina_precincts_region_type.json')"
   ]
  },
  {
   "cell_type": "code",
   "execution_count": 388,
   "metadata": {},
   "outputs": [],
   "source": [
    "sc_candidate_mapping = {\n",
    "    'REPUBLICAN': 'Henry McMaster (Republican Party)',\n",
    "    'DEMOCRATIC': 'Joe Cunningham (Democratic Party)'\n",
    "}"
   ]
  },
  {
   "cell_type": "markdown",
   "metadata": {},
   "source": [
    "### Main Script"
   ]
  },
  {
   "cell_type": "markdown",
   "metadata": {},
   "source": [
    "#### Preprocess data"
   ]
  },
  {
   "cell_type": "markdown",
   "metadata": {},
   "source": [
    "##### Racial Group"
   ]
  },
  {
   "cell_type": "code",
   "execution_count": 389,
   "metadata": {},
   "outputs": [
    {
     "name": "stdout",
     "output_type": "stream",
     "text": [
      "['UNIQUE_ID' 'NAME' 'Prec_Code' 'CONG_DIST' 'TOT_POP22' 'NHSP_POP22'\n",
      " 'HSP_POP22' 'WHT_NHSP22' 'BLK_NHSP22' 'ASN_NHSP22' 'OTH_NHSP22']\n"
     ]
    }
   ],
   "source": [
    "print(sc_race_df.columns.values)"
   ]
  },
  {
   "cell_type": "code",
   "execution_count": 390,
   "metadata": {},
   "outputs": [],
   "source": [
    "columns_to_keep = ['UNIQUE_ID', 'TOT_POP22']"
   ]
  },
  {
   "cell_type": "code",
   "execution_count": 391,
   "metadata": {},
   "outputs": [],
   "source": [
    "sc_race_with_percentages = calculate_population_distribution(sc_race_df, race_columns, columns_to_keep)"
   ]
  },
  {
   "cell_type": "code",
   "execution_count": 392,
   "metadata": {},
   "outputs": [],
   "source": [
    "columns_to_keep = ['UNIQUE_ID', 'TOT_VOT']"
   ]
  },
  {
   "cell_type": "code",
   "execution_count": 393,
   "metadata": {},
   "outputs": [],
   "source": [
    "sc_election_gov_with_percentages = calculate_voting_distribution(sc_election_gov_df, election_columns, columns_to_keep)"
   ]
  },
  {
   "cell_type": "code",
   "execution_count": 394,
   "metadata": {},
   "outputs": [],
   "source": [
    "sc_race_merged_ei_df = pd.merge(sc_election_gov_with_percentages, sc_race_with_percentages, on='UNIQUE_ID', how='left')"
   ]
  },
  {
   "cell_type": "code",
   "execution_count": 395,
   "metadata": {},
   "outputs": [],
   "source": [
    "sc_race_merged_ei_df.fillna(0, inplace=True)"
   ]
  },
  {
   "cell_type": "code",
   "execution_count": 396,
   "metadata": {},
   "outputs": [],
   "source": [
    "# remove TOT_POP22\n",
    "sc_race_merged_ei_df = sc_race_merged_ei_df.drop(columns=['TOT_POP22'])\n",
    "sc_region_type_df = sc_region_type_df.drop(columns=['TOT_POP22'])\n",
    "\n"
   ]
  },
  {
   "cell_type": "code",
   "execution_count": null,
   "metadata": {},
   "outputs": [],
   "source": [
    "# merge with region type\n",
    "sc_race_merged_ei_df = pd.merge(sc_race_merged_ei_df, sc_region_type_df, on='UNIQUE_ID', how='left')\n"
   ]
  },
  {
   "cell_type": "code",
   "execution_count": 398,
   "metadata": {},
   "outputs": [
    {
     "name": "stdout",
     "output_type": "stream",
     "text": [
      "['UNIQUE_ID' 'TOT_VOT' 'REPUBLICAN_PERCENT' 'DEMOCRATIC_PERCENT'\n",
      " 'WHITE_PERCENT' 'BLACK_PERCENT' 'HISPANIC_PERCENT' 'ASIAN_PERCENT'\n",
      " 'region_type']\n"
     ]
    }
   ],
   "source": [
    "print(sc_race_merged_ei_df.columns.values)  "
   ]
  },
  {
   "cell_type": "code",
   "execution_count": 399,
   "metadata": {},
   "outputs": [],
   "source": [
    "sc_race_merged_ei_rural_df = sc_race_merged_ei_df[sc_race_merged_ei_df['region_type'] == 'rural']\n",
    "\n",
    "sc_race_merged_ei_suburban_df = sc_race_merged_ei_df[sc_race_merged_ei_df['region_type'] == 'suburban']\n",
    "\n",
    "sc_race_merged_ei_urban_df = sc_race_merged_ei_df[sc_race_merged_ei_df['region_type'] == 'urban']\n"
   ]
  },
  {
   "cell_type": "code",
   "execution_count": 400,
   "metadata": {},
   "outputs": [],
   "source": [
    "# sc_race_merged_ei_df = normalize_percent_columns(sc_race_merged_ei_df)"
   ]
  },
  {
   "cell_type": "code",
   "execution_count": 401,
   "metadata": {},
   "outputs": [],
   "source": [
    "sc_race_merged_ei_df = sc_race_merged_ei_df[sc_race_merged_ei_df['TOT_VOT']>0]\n",
    "\n",
    "sc_race_merged_ei_rural_df = sc_race_merged_ei_rural_df[sc_race_merged_ei_rural_df['TOT_VOT']>0]\n",
    "\n",
    "sc_race_merged_ei_suburban_df = sc_race_merged_ei_suburban_df[sc_race_merged_ei_suburban_df['TOT_VOT']>0]\n",
    "\n",
    "sc_race_merged_ei_urban_df = sc_race_merged_ei_urban_df[sc_race_merged_ei_urban_df['TOT_VOT']>0]"
   ]
  },
  {
   "cell_type": "code",
   "execution_count": 402,
   "metadata": {},
   "outputs": [],
   "source": [
    "sc_race_merged_ei_df = sc_race_merged_ei_df.sample(n=100, random_state=42)\n",
    "\n",
    "sc_race_merged_ei_rural_df = sc_race_merged_ei_rural_df.sample(n=100, random_state=42)\n",
    "\n",
    "sc_race_merged_ei_suburban_df = sc_race_merged_ei_suburban_df.sample(n=100, random_state=42)\n",
    "\n",
    "sc_race_merged_ei_urban_df = sc_race_merged_ei_urban_df.sample(n=100, random_state=42)"
   ]
  },
  {
   "cell_type": "markdown",
   "metadata": {},
   "source": [
    "##### Economic Group"
   ]
  },
  {
   "cell_type": "code",
   "execution_count": 403,
   "metadata": {},
   "outputs": [],
   "source": [
    "columns_to_keep = ['UNIQUE_ID']"
   ]
  },
  {
   "cell_type": "code",
   "execution_count": 404,
   "metadata": {},
   "outputs": [],
   "source": [
    "sc_economic_with_percentages = calculate_income_distribution(sc_economic_df, income_columns, columns_to_keep)"
   ]
  },
  {
   "cell_type": "code",
   "execution_count": 405,
   "metadata": {},
   "outputs": [],
   "source": [
    "sc_economic_merged_ei_df = pd.merge(sc_election_gov_with_percentages, sc_economic_with_percentages, on='UNIQUE_ID', how='left')"
   ]
  },
  {
   "cell_type": "code",
   "execution_count": 406,
   "metadata": {},
   "outputs": [],
   "source": [
    "sc_economic_merged_ei_df.fillna(0, inplace=True)"
   ]
  },
  {
   "cell_type": "code",
   "execution_count": 407,
   "metadata": {},
   "outputs": [],
   "source": [
    "sc_economic_merged_ei_df = pd.merge(sc_economic_merged_ei_df, sc_region_type_df, on='UNIQUE_ID', how='left')"
   ]
  },
  {
   "cell_type": "code",
   "execution_count": 408,
   "metadata": {},
   "outputs": [],
   "source": [
    "sc_economic_merged_ei_rural_df = sc_economic_merged_ei_df[sc_economic_merged_ei_df['region_type'] == 'rural']\n",
    "\n",
    "sc_economic_merged_ei_suburban_df = sc_economic_merged_ei_df[sc_economic_merged_ei_df['region_type'] == 'suburban']\n",
    "\n",
    "sc_economic_merged_ei_urban_df = sc_economic_merged_ei_df[sc_economic_merged_ei_df['region_type'] == 'urban']"
   ]
  },
  {
   "cell_type": "code",
   "execution_count": 409,
   "metadata": {},
   "outputs": [
    {
     "name": "stdout",
     "output_type": "stream",
     "text": [
      "(1411, 11)\n"
     ]
    }
   ],
   "source": [
    "print(sc_economic_merged_ei_rural_df[sc_economic_merged_ei_rural_df['TOT_VOT'] > 0].shape)"
   ]
  },
  {
   "cell_type": "code",
   "execution_count": 410,
   "metadata": {},
   "outputs": [],
   "source": [
    "sc__merged_ei_df = sc_economic_merged_ei_df[sc_economic_merged_ei_df['TOT_VOT']>0]\n",
    "\n",
    "sc_economic_merged_ei_rural_df = sc_economic_merged_ei_rural_df[sc_economic_merged_ei_rural_df['TOT_VOT']>0]\n",
    "\n",
    "sc_economic_merged_ei_suburban_df = sc_economic_merged_ei_suburban_df[sc_economic_merged_ei_suburban_df['TOT_VOT']>0]\n",
    "\n",
    "sc_economic_merged_ei_urban_df = sc_economic_merged_ei_urban_df[sc_economic_merged_ei_urban_df['TOT_VOT']>0]"
   ]
  },
  {
   "cell_type": "code",
   "execution_count": 411,
   "metadata": {},
   "outputs": [
    {
     "name": "stdout",
     "output_type": "stream",
     "text": [
      "                    UNIQUE_ID  TOT_VOT  REPUBLICAN_PERCENT  \\\n",
      "0     ABBEVILLE_PRECINCT_001_      975            0.736410   \n",
      "1     ABBEVILLE_PRECINCT_002_      628            0.356688   \n",
      "2     ABBEVILLE_PRECINCT_003_      574            0.585366   \n",
      "3     ABBEVILLE_PRECINCT_004_      437            0.723112   \n",
      "4     ABBEVILLE_PRECINCT_005_      722            0.829640   \n",
      "...                       ...      ...                 ...   \n",
      "2251  CLARENDON_PRECINCT_019_      160            0.425000   \n",
      "2252  CLARENDON_PRECINCT_020_     1266            0.632701   \n",
      "2253  CLARENDON_PRECINCT_021_      182            0.186813   \n",
      "2254  CLARENDON_PRECINCT_022_      467            0.218415   \n",
      "2255  CLARENDON_PRECINCT_023_      497            0.814889   \n",
      "\n",
      "      DEMOCRATIC_PERCENT  0_35K_PERCENT  35K_60K_PERCENT  60K_100K_PERCENT  \\\n",
      "0               0.263590       0.208333         0.200000          0.276667   \n",
      "1               0.643312       0.472222         0.418981          0.069444   \n",
      "2               0.414634       0.559792         0.067591          0.213172   \n",
      "3               0.276888       0.350461         0.223979          0.155468   \n",
      "4               0.170360       0.382134         0.029777          0.233251   \n",
      "...                  ...            ...              ...               ...   \n",
      "2251            0.575000       0.341232         0.118483          0.317536   \n",
      "2252            0.367299       0.367174         0.209814          0.263959   \n",
      "2253            0.813187       0.378092         0.349823          0.130742   \n",
      "2254            0.781585       0.466102         0.191525          0.232203   \n",
      "2255            0.185111       0.312883         0.165644          0.251534   \n",
      "\n",
      "      100K_125K_PERCENT  125K_150K_PERCENT  150K_MORE_PERCENT region_type  \n",
      "0              0.088333           0.165000           0.061667       rural  \n",
      "1              0.000000           0.000000           0.039352       rural  \n",
      "2              0.091854           0.000000           0.067591       rural  \n",
      "3              0.046113           0.096179           0.127800       rural  \n",
      "4              0.037221           0.151365           0.166253       rural  \n",
      "...                 ...                ...                ...         ...  \n",
      "2251           0.028436           0.028436           0.165877       rural  \n",
      "2252           0.059222           0.047377           0.052453       rural  \n",
      "2253           0.035336           0.106007           0.000000       rural  \n",
      "2254           0.016949           0.015254           0.077966       rural  \n",
      "2255           0.070552           0.088957           0.110429       rural  \n",
      "\n",
      "[1411 rows x 11 columns]\n"
     ]
    }
   ],
   "source": [
    "print(sc_economic_merged_ei_rural_df)"
   ]
  },
  {
   "cell_type": "code",
   "execution_count": 412,
   "metadata": {},
   "outputs": [],
   "source": [
    "sc_economic_merged_ei_df = sc_economic_merged_ei_df.sample(n=100, random_state=42)\n",
    "\n",
    "sc_economic_merged_ei_rural_df = sc_economic_merged_ei_rural_df.sample(n=100, random_state=42)\n",
    "\n",
    "sc_economic_merged_ei_suburban_df = sc_economic_merged_ei_suburban_df.sample(n=100, random_state=42)\n",
    "\n",
    "sc_economic_merged_ei_urban_df = sc_economic_merged_ei_urban_df.sample(n=100, random_state=42)"
   ]
  },
  {
   "cell_type": "markdown",
   "metadata": {},
   "source": [
    "### Running EI models"
   ]
  },
  {
   "cell_type": "markdown",
   "metadata": {},
   "source": [
    "#### Racial Run"
   ]
  },
  {
   "cell_type": "markdown",
   "metadata": {},
   "source": [
    "##### DEMOCRATIC Run"
   ]
  },
  {
   "cell_type": "code",
   "execution_count": 413,
   "metadata": {},
   "outputs": [
    {
     "name": "stderr",
     "output_type": "stream",
     "text": [
      "Compiling...\n",
      "Compilation time = 0:00:01.617843\n",
      "Sampling...\n"
     ]
    },
    {
     "data": {
      "application/vnd.jupyter.widget-view+json": {
       "model_id": "e185334cfa2744bb9629910a3f1a854c",
       "version_major": 2,
       "version_minor": 0
      },
      "text/plain": [
       "  0%|          | 0/2500 [00:00<?, ?it/s]"
      ]
     },
     "metadata": {},
     "output_type": "display_data"
    },
    {
     "data": {
      "application/vnd.jupyter.widget-view+json": {
       "model_id": "fbd1805300e74bc38df93250c697e57d",
       "version_major": 2,
       "version_minor": 0
      },
      "text/plain": [
       "  0%|          | 0/2500 [00:00<?, ?it/s]"
      ]
     },
     "metadata": {},
     "output_type": "display_data"
    },
    {
     "data": {
      "application/vnd.jupyter.widget-view+json": {
       "model_id": "d3c37600ca0f465ba40962ef91b51b71",
       "version_major": 2,
       "version_minor": 0
      },
      "text/plain": [
       "  0%|          | 0/2500 [00:00<?, ?it/s]"
      ]
     },
     "metadata": {},
     "output_type": "display_data"
    },
    {
     "data": {
      "application/vnd.jupyter.widget-view+json": {
       "model_id": "d4cc45c78d0e48f082580573bed352bf",
       "version_major": 2,
       "version_minor": 0
      },
      "text/plain": [
       "  0%|          | 0/2500 [00:00<?, ?it/s]"
      ]
     },
     "metadata": {},
     "output_type": "display_data"
    },
    {
     "name": "stderr",
     "output_type": "stream",
     "text": [
      "Sampling time = 0:00:04.326635\n",
      "Transforming variables...\n",
      "Transformation time = 0:00:17.679671\n"
     ]
    },
    {
     "name": "stdout",
     "output_type": "stream",
     "text": [
      "Model: king99_pareto_modification\n",
      "        Computed from the raw b_i samples by multiplying by population and then getting\n",
      "        the proportion of the total pop (total pop=summed across all districts):\n",
      "        The posterior mean for the district-level voting preference of\n",
      "        White for Joe Cunningham (Democratic Party) is\n",
      "        0.262\n",
      "        The posterior mean for the district-level voting preference of\n",
      "        non-White for Joe Cunningham (Democratic Party) is\n",
      "        0.652\n",
      "        95% equal-tailed Bayesian credible interval for district-level voting preference of\n",
      "        White for Joe Cunningham (Democratic Party) is\n",
      "        [0.2249661  0.30248031]\n",
      "        95% equal-tailed Bayesian credible interval for district-level voting preference of\n",
      "        non-White for Joe Cunningham (Democratic Party) is\n",
      "        [0.57740592 0.72231948]\n",
      "        \n"
     ]
    }
   ],
   "source": [
    "dem_white_ei, dem_white_summary = run_ecological_inference(\n",
    "    df=sc_race_merged_ei_df,\n",
    "    demographic_col=\"WHITE_PERCENT\",\n",
    "    voting_col=\"DEMOCRATIC_PERCENT\",\n",
    "    total_votes_col=\"TOT_VOT\",\n",
    "    demographic_group_name=\"White\",\n",
    "    candidate_name=sc_candidate_mapping['DEMOCRATIC']\n",
    ")"
   ]
  },
  {
   "cell_type": "code",
   "execution_count": 414,
   "metadata": {},
   "outputs": [
    {
     "name": "stderr",
     "output_type": "stream",
     "text": [
      "Compiling...\n",
      "Compilation time = 0:00:02.120294\n",
      "Sampling...\n"
     ]
    },
    {
     "data": {
      "application/vnd.jupyter.widget-view+json": {
       "model_id": "53f46a969b7545e7bda62e1e8dd5fd9a",
       "version_major": 2,
       "version_minor": 0
      },
      "text/plain": [
       "  0%|          | 0/2500 [00:00<?, ?it/s]"
      ]
     },
     "metadata": {},
     "output_type": "display_data"
    },
    {
     "data": {
      "application/vnd.jupyter.widget-view+json": {
       "model_id": "441c2253040442988c1be487105994cb",
       "version_major": 2,
       "version_minor": 0
      },
      "text/plain": [
       "  0%|          | 0/2500 [00:00<?, ?it/s]"
      ]
     },
     "metadata": {},
     "output_type": "display_data"
    },
    {
     "data": {
      "application/vnd.jupyter.widget-view+json": {
       "model_id": "595860054a8c4e6fa2cff521f3d4669a",
       "version_major": 2,
       "version_minor": 0
      },
      "text/plain": [
       "  0%|          | 0/2500 [00:00<?, ?it/s]"
      ]
     },
     "metadata": {},
     "output_type": "display_data"
    },
    {
     "data": {
      "application/vnd.jupyter.widget-view+json": {
       "model_id": "dedac1883ef64c0fab82979aec11caf2",
       "version_major": 2,
       "version_minor": 0
      },
      "text/plain": [
       "  0%|          | 0/2500 [00:00<?, ?it/s]"
      ]
     },
     "metadata": {},
     "output_type": "display_data"
    },
    {
     "name": "stderr",
     "output_type": "stream",
     "text": [
      "Sampling time = 0:00:02.835855\n",
      "Transforming variables...\n",
      "Transformation time = 0:00:15.341631\n"
     ]
    },
    {
     "name": "stdout",
     "output_type": "stream",
     "text": [
      "Model: king99_pareto_modification\n",
      "        Computed from the raw b_i samples by multiplying by population and then getting\n",
      "        the proportion of the total pop (total pop=summed across all districts):\n",
      "        The posterior mean for the district-level voting preference of\n",
      "        White for Joe Cunningham (Democratic Party) is\n",
      "        0.307\n",
      "        The posterior mean for the district-level voting preference of\n",
      "        non-White for Joe Cunningham (Democratic Party) is\n",
      "        0.608\n",
      "        95% equal-tailed Bayesian credible interval for district-level voting preference of\n",
      "        White for Joe Cunningham (Democratic Party) is\n",
      "        [0.26469362 0.35144487]\n",
      "        95% equal-tailed Bayesian credible interval for district-level voting preference of\n",
      "        non-White for Joe Cunningham (Democratic Party) is\n",
      "        [0.54328383 0.66985286]\n",
      "        \n"
     ]
    }
   ],
   "source": [
    "dem_white_ei_rural, dem_white_summary_rural = run_ecological_inference(\n",
    "    df=sc_race_merged_ei_rural_df,\n",
    "    demographic_col=\"WHITE_PERCENT\",\n",
    "    voting_col=\"DEMOCRATIC_PERCENT\",\n",
    "    total_votes_col=\"TOT_VOT\",\n",
    "    demographic_group_name=\"White\",\n",
    "    candidate_name=sc_candidate_mapping['DEMOCRATIC']\n",
    ")"
   ]
  },
  {
   "cell_type": "code",
   "execution_count": 415,
   "metadata": {},
   "outputs": [
    {
     "name": "stderr",
     "output_type": "stream",
     "text": [
      "Compiling...\n",
      "Compilation time = 0:00:01.344915\n",
      "Sampling...\n"
     ]
    },
    {
     "data": {
      "application/vnd.jupyter.widget-view+json": {
       "model_id": "205188ade9564cf2908e2b3c58dd128e",
       "version_major": 2,
       "version_minor": 0
      },
      "text/plain": [
       "  0%|          | 0/2500 [00:00<?, ?it/s]"
      ]
     },
     "metadata": {},
     "output_type": "display_data"
    },
    {
     "data": {
      "application/vnd.jupyter.widget-view+json": {
       "model_id": "bfa28eaffd2e44dd87fde235a95e83a8",
       "version_major": 2,
       "version_minor": 0
      },
      "text/plain": [
       "  0%|          | 0/2500 [00:00<?, ?it/s]"
      ]
     },
     "metadata": {},
     "output_type": "display_data"
    },
    {
     "data": {
      "application/vnd.jupyter.widget-view+json": {
       "model_id": "92bf920730694a67a0567b1d68f68feb",
       "version_major": 2,
       "version_minor": 0
      },
      "text/plain": [
       "  0%|          | 0/2500 [00:00<?, ?it/s]"
      ]
     },
     "metadata": {},
     "output_type": "display_data"
    },
    {
     "data": {
      "application/vnd.jupyter.widget-view+json": {
       "model_id": "a1fb8c7a4cef46c8946fcfddbea670af",
       "version_major": 2,
       "version_minor": 0
      },
      "text/plain": [
       "  0%|          | 0/2500 [00:00<?, ?it/s]"
      ]
     },
     "metadata": {},
     "output_type": "display_data"
    },
    {
     "name": "stderr",
     "output_type": "stream",
     "text": [
      "Sampling time = 0:00:02.192098\n",
      "Transforming variables...\n",
      "Transformation time = 0:00:16.433948\n"
     ]
    },
    {
     "name": "stdout",
     "output_type": "stream",
     "text": [
      "Model: king99_pareto_modification\n",
      "        Computed from the raw b_i samples by multiplying by population and then getting\n",
      "        the proportion of the total pop (total pop=summed across all districts):\n",
      "        The posterior mean for the district-level voting preference of\n",
      "        White for Joe Cunningham (Democratic Party) is\n",
      "        0.226\n",
      "        The posterior mean for the district-level voting preference of\n",
      "        non-White for Joe Cunningham (Democratic Party) is\n",
      "        0.823\n",
      "        95% equal-tailed Bayesian credible interval for district-level voting preference of\n",
      "        White for Joe Cunningham (Democratic Party) is\n",
      "        [0.20307142 0.25376989]\n",
      "        95% equal-tailed Bayesian credible interval for district-level voting preference of\n",
      "        non-White for Joe Cunningham (Democratic Party) is\n",
      "        [0.75614752 0.87493041]\n",
      "        \n"
     ]
    }
   ],
   "source": [
    "dem_white_ei_subrban, dem_white_summary_suburban = run_ecological_inference(\n",
    "    df=sc_race_merged_ei_suburban_df,\n",
    "    demographic_col=\"WHITE_PERCENT\",\n",
    "    voting_col=\"DEMOCRATIC_PERCENT\",\n",
    "    total_votes_col=\"TOT_VOT\",\n",
    "    demographic_group_name=\"White\",\n",
    "    candidate_name=sc_candidate_mapping['DEMOCRATIC']\n",
    ")"
   ]
  },
  {
   "cell_type": "code",
   "execution_count": 416,
   "metadata": {},
   "outputs": [
    {
     "name": "stderr",
     "output_type": "stream",
     "text": [
      "Compiling...\n",
      "Compilation time = 0:00:04.545497\n",
      "Sampling...\n"
     ]
    },
    {
     "data": {
      "application/vnd.jupyter.widget-view+json": {
       "model_id": "cf1543286c0049318deb39d82c46e77e",
       "version_major": 2,
       "version_minor": 0
      },
      "text/plain": [
       "  0%|          | 0/2500 [00:00<?, ?it/s]"
      ]
     },
     "metadata": {},
     "output_type": "display_data"
    },
    {
     "data": {
      "application/vnd.jupyter.widget-view+json": {
       "model_id": "bee190720a0c4c368d617fd7fafcad06",
       "version_major": 2,
       "version_minor": 0
      },
      "text/plain": [
       "  0%|          | 0/2500 [00:00<?, ?it/s]"
      ]
     },
     "metadata": {},
     "output_type": "display_data"
    },
    {
     "data": {
      "application/vnd.jupyter.widget-view+json": {
       "model_id": "2e5f9a2c7c124ca6b3c90dcddbb5be15",
       "version_major": 2,
       "version_minor": 0
      },
      "text/plain": [
       "  0%|          | 0/2500 [00:00<?, ?it/s]"
      ]
     },
     "metadata": {},
     "output_type": "display_data"
    },
    {
     "data": {
      "application/vnd.jupyter.widget-view+json": {
       "model_id": "b01e56e91d9243deb54655021bf9ed47",
       "version_major": 2,
       "version_minor": 0
      },
      "text/plain": [
       "  0%|          | 0/2500 [00:00<?, ?it/s]"
      ]
     },
     "metadata": {},
     "output_type": "display_data"
    },
    {
     "name": "stderr",
     "output_type": "stream",
     "text": [
      "Sampling time = 0:00:02.515359\n",
      "Transforming variables...\n",
      "Transformation time = 0:00:19.279535\n"
     ]
    },
    {
     "name": "stdout",
     "output_type": "stream",
     "text": [
      "Model: king99_pareto_modification\n",
      "        Computed from the raw b_i samples by multiplying by population and then getting\n",
      "        the proportion of the total pop (total pop=summed across all districts):\n",
      "        The posterior mean for the district-level voting preference of\n",
      "        White for Joe Cunningham (Democratic Party) is\n",
      "        0.245\n",
      "        The posterior mean for the district-level voting preference of\n",
      "        non-White for Joe Cunningham (Democratic Party) is\n",
      "        0.797\n",
      "        95% equal-tailed Bayesian credible interval for district-level voting preference of\n",
      "        White for Joe Cunningham (Democratic Party) is\n",
      "        [0.2177605  0.27439698]\n",
      "        95% equal-tailed Bayesian credible interval for district-level voting preference of\n",
      "        non-White for Joe Cunningham (Democratic Party) is\n",
      "        [0.71398027 0.87022425]\n",
      "        \n"
     ]
    }
   ],
   "source": [
    "dem_white_ei_urban, dem_white_summary_urban = run_ecological_inference(\n",
    "    df=sc_race_merged_ei_urban_df,\n",
    "    demographic_col=\"WHITE_PERCENT\",\n",
    "    voting_col=\"DEMOCRATIC_PERCENT\",\n",
    "    total_votes_col=\"TOT_VOT\",\n",
    "    demographic_group_name=\"White\",\n",
    "    candidate_name=sc_candidate_mapping['DEMOCRATIC']\n",
    ")"
   ]
  },
  {
   "cell_type": "code",
   "execution_count": 417,
   "metadata": {},
   "outputs": [
    {
     "name": "stderr",
     "output_type": "stream",
     "text": [
      "Compiling...\n",
      "Compilation time = 0:00:01.454066\n",
      "Sampling...\n"
     ]
    },
    {
     "data": {
      "application/vnd.jupyter.widget-view+json": {
       "model_id": "8e5a5b8c4e7b47aa87d4168f8861da36",
       "version_major": 2,
       "version_minor": 0
      },
      "text/plain": [
       "  0%|          | 0/2500 [00:00<?, ?it/s]"
      ]
     },
     "metadata": {},
     "output_type": "display_data"
    },
    {
     "data": {
      "application/vnd.jupyter.widget-view+json": {
       "model_id": "70d1a38d3fac4d2fb2b71b42a23fa039",
       "version_major": 2,
       "version_minor": 0
      },
      "text/plain": [
       "  0%|          | 0/2500 [00:00<?, ?it/s]"
      ]
     },
     "metadata": {},
     "output_type": "display_data"
    },
    {
     "data": {
      "application/vnd.jupyter.widget-view+json": {
       "model_id": "fe5cc9f99ae54e0db1dd4d75ca2e2c5c",
       "version_major": 2,
       "version_minor": 0
      },
      "text/plain": [
       "  0%|          | 0/2500 [00:00<?, ?it/s]"
      ]
     },
     "metadata": {},
     "output_type": "display_data"
    },
    {
     "data": {
      "application/vnd.jupyter.widget-view+json": {
       "model_id": "d67867dcad1c412097ff85de6267570c",
       "version_major": 2,
       "version_minor": 0
      },
      "text/plain": [
       "  0%|          | 0/2500 [00:00<?, ?it/s]"
      ]
     },
     "metadata": {},
     "output_type": "display_data"
    },
    {
     "name": "stderr",
     "output_type": "stream",
     "text": [
      "Sampling time = 0:00:02.222107\n",
      "Transforming variables...\n",
      "Transformation time = 0:00:19.035338\n"
     ]
    },
    {
     "name": "stdout",
     "output_type": "stream",
     "text": [
      "Model: king99_pareto_modification\n",
      "        Computed from the raw b_i samples by multiplying by population and then getting\n",
      "        the proportion of the total pop (total pop=summed across all districts):\n",
      "        The posterior mean for the district-level voting preference of\n",
      "        Black for Joe Cunningham (Democratic Party) is\n",
      "        0.854\n",
      "        The posterior mean for the district-level voting preference of\n",
      "        non-Black for Joe Cunningham (Democratic Party) is\n",
      "        0.287\n",
      "        95% equal-tailed Bayesian credible interval for district-level voting preference of\n",
      "        Black for Joe Cunningham (Democratic Party) is\n",
      "        [0.77473119 0.91965745]\n",
      "        95% equal-tailed Bayesian credible interval for district-level voting preference of\n",
      "        non-Black for Joe Cunningham (Democratic Party) is\n",
      "        [0.27236351 0.30491843]\n",
      "        \n"
     ]
    }
   ],
   "source": [
    "dem_black_ei, dem_black_summary = run_ecological_inference(\n",
    "    df=sc_race_merged_ei_df,\n",
    "    demographic_col=\"BLACK_PERCENT\",\n",
    "    voting_col=\"DEMOCRATIC_PERCENT\",\n",
    "    total_votes_col=\"TOT_VOT\",\n",
    "    demographic_group_name=\"Black\",\n",
    "    candidate_name=sc_candidate_mapping['DEMOCRATIC']\n",
    ")"
   ]
  },
  {
   "cell_type": "code",
   "execution_count": 418,
   "metadata": {},
   "outputs": [
    {
     "name": "stderr",
     "output_type": "stream",
     "text": [
      "Compiling...\n",
      "Compilation time = 0:00:01.800915\n",
      "Sampling...\n"
     ]
    },
    {
     "data": {
      "application/vnd.jupyter.widget-view+json": {
       "model_id": "fedc12aebb36423dbb6d37600181e798",
       "version_major": 2,
       "version_minor": 0
      },
      "text/plain": [
       "  0%|          | 0/2500 [00:00<?, ?it/s]"
      ]
     },
     "metadata": {},
     "output_type": "display_data"
    },
    {
     "data": {
      "application/vnd.jupyter.widget-view+json": {
       "model_id": "5677cd75981a4e52ba8473a7a5eb831d",
       "version_major": 2,
       "version_minor": 0
      },
      "text/plain": [
       "  0%|          | 0/2500 [00:00<?, ?it/s]"
      ]
     },
     "metadata": {},
     "output_type": "display_data"
    },
    {
     "data": {
      "application/vnd.jupyter.widget-view+json": {
       "model_id": "ebd8db9a221c4dec964b7f656fc1629c",
       "version_major": 2,
       "version_minor": 0
      },
      "text/plain": [
       "  0%|          | 0/2500 [00:00<?, ?it/s]"
      ]
     },
     "metadata": {},
     "output_type": "display_data"
    },
    {
     "data": {
      "application/vnd.jupyter.widget-view+json": {
       "model_id": "2939883f1131456b8b59eb784702e60f",
       "version_major": 2,
       "version_minor": 0
      },
      "text/plain": [
       "  0%|          | 0/2500 [00:00<?, ?it/s]"
      ]
     },
     "metadata": {},
     "output_type": "display_data"
    },
    {
     "name": "stderr",
     "output_type": "stream",
     "text": [
      "Sampling time = 0:00:02.294746\n",
      "Transforming variables...\n",
      "Transformation time = 0:00:16.890619\n"
     ]
    },
    {
     "name": "stdout",
     "output_type": "stream",
     "text": [
      "Model: king99_pareto_modification\n",
      "        Computed from the raw b_i samples by multiplying by population and then getting\n",
      "        the proportion of the total pop (total pop=summed across all districts):\n",
      "        The posterior mean for the district-level voting preference of\n",
      "        Black for Joe Cunningham (Democratic Party) is\n",
      "        0.758\n",
      "        The posterior mean for the district-level voting preference of\n",
      "        non-Black for Joe Cunningham (Democratic Party) is\n",
      "        0.315\n",
      "        95% equal-tailed Bayesian credible interval for district-level voting preference of\n",
      "        Black for Joe Cunningham (Democratic Party) is\n",
      "        [0.67120807 0.83219176]\n",
      "        95% equal-tailed Bayesian credible interval for district-level voting preference of\n",
      "        non-Black for Joe Cunningham (Democratic Party) is\n",
      "        [0.29019531 0.34223453]\n",
      "        \n"
     ]
    }
   ],
   "source": [
    "dem_black_ei_rural, dem_black_summary_rural = run_ecological_inference(\n",
    "    df=sc_race_merged_ei_rural_df,\n",
    "    demographic_col=\"BLACK_PERCENT\",\n",
    "    voting_col=\"DEMOCRATIC_PERCENT\",\n",
    "    total_votes_col=\"TOT_VOT\",\n",
    "    demographic_group_name=\"Black\",\n",
    "    candidate_name=sc_candidate_mapping['DEMOCRATIC']\n",
    ")"
   ]
  },
  {
   "cell_type": "code",
   "execution_count": 419,
   "metadata": {},
   "outputs": [
    {
     "name": "stderr",
     "output_type": "stream",
     "text": [
      "Compiling...\n",
      "Compilation time = 0:00:01.233358\n",
      "Sampling...\n"
     ]
    },
    {
     "data": {
      "application/vnd.jupyter.widget-view+json": {
       "model_id": "3e3a56d0fe374c88aba5dc4c04b87404",
       "version_major": 2,
       "version_minor": 0
      },
      "text/plain": [
       "  0%|          | 0/2500 [00:00<?, ?it/s]"
      ]
     },
     "metadata": {},
     "output_type": "display_data"
    },
    {
     "data": {
      "application/vnd.jupyter.widget-view+json": {
       "model_id": "31cadfedbace4ef49a52cd7e6606ac6a",
       "version_major": 2,
       "version_minor": 0
      },
      "text/plain": [
       "  0%|          | 0/2500 [00:00<?, ?it/s]"
      ]
     },
     "metadata": {},
     "output_type": "display_data"
    },
    {
     "data": {
      "application/vnd.jupyter.widget-view+json": {
       "model_id": "a0b19c9efbd94810acd602d2a092ea18",
       "version_major": 2,
       "version_minor": 0
      },
      "text/plain": [
       "  0%|          | 0/2500 [00:00<?, ?it/s]"
      ]
     },
     "metadata": {},
     "output_type": "display_data"
    },
    {
     "data": {
      "application/vnd.jupyter.widget-view+json": {
       "model_id": "a8375566175b4267a0b2bb33bbfa6fe3",
       "version_major": 2,
       "version_minor": 0
      },
      "text/plain": [
       "  0%|          | 0/2500 [00:00<?, ?it/s]"
      ]
     },
     "metadata": {},
     "output_type": "display_data"
    },
    {
     "name": "stderr",
     "output_type": "stream",
     "text": [
      "Sampling time = 0:00:02.107423\n",
      "Transforming variables...\n",
      "Transformation time = 0:00:16.735051\n"
     ]
    },
    {
     "name": "stdout",
     "output_type": "stream",
     "text": [
      "Model: king99_pareto_modification\n",
      "        Computed from the raw b_i samples by multiplying by population and then getting\n",
      "        the proportion of the total pop (total pop=summed across all districts):\n",
      "        The posterior mean for the district-level voting preference of\n",
      "        Black for Joe Cunningham (Democratic Party) is\n",
      "        0.849\n",
      "        The posterior mean for the district-level voting preference of\n",
      "        non-Black for Joe Cunningham (Democratic Party) is\n",
      "        0.297\n",
      "        95% equal-tailed Bayesian credible interval for district-level voting preference of\n",
      "        Black for Joe Cunningham (Democratic Party) is\n",
      "        [0.7748046  0.90906691]\n",
      "        95% equal-tailed Bayesian credible interval for district-level voting preference of\n",
      "        non-Black for Joe Cunningham (Democratic Party) is\n",
      "        [0.28018004 0.31614212]\n",
      "        \n"
     ]
    }
   ],
   "source": [
    "dem_black_ei_suburban, dem_black_summary_suburban = run_ecological_inference(\n",
    "    df=sc_race_merged_ei_suburban_df,\n",
    "    demographic_col=\"BLACK_PERCENT\",\n",
    "    voting_col=\"DEMOCRATIC_PERCENT\",\n",
    "    total_votes_col=\"TOT_VOT\",\n",
    "    demographic_group_name=\"Black\",\n",
    "    candidate_name=sc_candidate_mapping['DEMOCRATIC']\n",
    ")"
   ]
  },
  {
   "cell_type": "code",
   "execution_count": 420,
   "metadata": {},
   "outputs": [
    {
     "name": "stderr",
     "output_type": "stream",
     "text": [
      "Compiling...\n",
      "Compilation time = 0:00:01.311657\n",
      "Sampling...\n"
     ]
    },
    {
     "data": {
      "application/vnd.jupyter.widget-view+json": {
       "model_id": "2bd8c60f9d31497287af785a5b492df4",
       "version_major": 2,
       "version_minor": 0
      },
      "text/plain": [
       "  0%|          | 0/2500 [00:00<?, ?it/s]"
      ]
     },
     "metadata": {},
     "output_type": "display_data"
    },
    {
     "data": {
      "application/vnd.jupyter.widget-view+json": {
       "model_id": "f622e87224bd48519474178a144d1c9b",
       "version_major": 2,
       "version_minor": 0
      },
      "text/plain": [
       "  0%|          | 0/2500 [00:00<?, ?it/s]"
      ]
     },
     "metadata": {},
     "output_type": "display_data"
    },
    {
     "data": {
      "application/vnd.jupyter.widget-view+json": {
       "model_id": "804525169af4410d8a1f33076f4488bc",
       "version_major": 2,
       "version_minor": 0
      },
      "text/plain": [
       "  0%|          | 0/2500 [00:00<?, ?it/s]"
      ]
     },
     "metadata": {},
     "output_type": "display_data"
    },
    {
     "data": {
      "application/vnd.jupyter.widget-view+json": {
       "model_id": "85b590446d45432c9c89f11db52f9c9b",
       "version_major": 2,
       "version_minor": 0
      },
      "text/plain": [
       "  0%|          | 0/2500 [00:00<?, ?it/s]"
      ]
     },
     "metadata": {},
     "output_type": "display_data"
    },
    {
     "name": "stderr",
     "output_type": "stream",
     "text": [
      "Sampling time = 0:00:01.890666\n",
      "Transforming variables...\n",
      "Transformation time = 0:00:21.695620\n"
     ]
    },
    {
     "name": "stdout",
     "output_type": "stream",
     "text": [
      "Model: king99_pareto_modification\n",
      "        Computed from the raw b_i samples by multiplying by population and then getting\n",
      "        the proportion of the total pop (total pop=summed across all districts):\n",
      "        The posterior mean for the district-level voting preference of\n",
      "        Black for Joe Cunningham (Democratic Party) is\n",
      "        0.880\n",
      "        The posterior mean for the district-level voting preference of\n",
      "        non-Black for Joe Cunningham (Democratic Party) is\n",
      "        0.290\n",
      "        95% equal-tailed Bayesian credible interval for district-level voting preference of\n",
      "        Black for Joe Cunningham (Democratic Party) is\n",
      "        [0.79062693 0.94942589]\n",
      "        95% equal-tailed Bayesian credible interval for district-level voting preference of\n",
      "        non-Black for Joe Cunningham (Democratic Party) is\n",
      "        [0.27452152 0.31039653]\n",
      "        \n"
     ]
    }
   ],
   "source": [
    "dem_black_ei_urban, dem_black_summary_urban = run_ecological_inference(\n",
    "    df=sc_race_merged_ei_urban_df,\n",
    "    demographic_col=\"BLACK_PERCENT\",\n",
    "    voting_col=\"DEMOCRATIC_PERCENT\",\n",
    "    total_votes_col=\"TOT_VOT\",\n",
    "    demographic_group_name=\"Black\",\n",
    "    candidate_name=sc_candidate_mapping['DEMOCRATIC']\n",
    ")"
   ]
  },
  {
   "cell_type": "code",
   "execution_count": 421,
   "metadata": {},
   "outputs": [
    {
     "name": "stderr",
     "output_type": "stream",
     "text": [
      "Compiling...\n",
      "Compilation time = 0:00:03.243826\n",
      "Sampling...\n"
     ]
    },
    {
     "data": {
      "application/vnd.jupyter.widget-view+json": {
       "model_id": "f41ff6ede90547b1aa8998bb645de961",
       "version_major": 2,
       "version_minor": 0
      },
      "text/plain": [
       "  0%|          | 0/2500 [00:00<?, ?it/s]"
      ]
     },
     "metadata": {},
     "output_type": "display_data"
    },
    {
     "data": {
      "application/vnd.jupyter.widget-view+json": {
       "model_id": "625f070b077d496bb87818f44f1d4c0e",
       "version_major": 2,
       "version_minor": 0
      },
      "text/plain": [
       "  0%|          | 0/2500 [00:00<?, ?it/s]"
      ]
     },
     "metadata": {},
     "output_type": "display_data"
    },
    {
     "data": {
      "application/vnd.jupyter.widget-view+json": {
       "model_id": "5f3795c4e4494af397810910246d7f9f",
       "version_major": 2,
       "version_minor": 0
      },
      "text/plain": [
       "  0%|          | 0/2500 [00:00<?, ?it/s]"
      ]
     },
     "metadata": {},
     "output_type": "display_data"
    },
    {
     "data": {
      "application/vnd.jupyter.widget-view+json": {
       "model_id": "d5a6cd0106d648c88178b19f7812c7ee",
       "version_major": 2,
       "version_minor": 0
      },
      "text/plain": [
       "  0%|          | 0/2500 [00:00<?, ?it/s]"
      ]
     },
     "metadata": {},
     "output_type": "display_data"
    },
    {
     "name": "stderr",
     "output_type": "stream",
     "text": [
      "Sampling time = 0:00:02.046414\n",
      "Transforming variables...\n",
      "Transformation time = 0:00:13.890099\n"
     ]
    },
    {
     "name": "stdout",
     "output_type": "stream",
     "text": [
      "Model: king99_pareto_modification\n",
      "        Computed from the raw b_i samples by multiplying by population and then getting\n",
      "        the proportion of the total pop (total pop=summed across all districts):\n",
      "        The posterior mean for the district-level voting preference of\n",
      "        Asian for Joe Cunningham (Democratic Party) is\n",
      "        0.580\n",
      "        The posterior mean for the district-level voting preference of\n",
      "        non-Asian for Joe Cunningham (Democratic Party) is\n",
      "        0.384\n",
      "        95% equal-tailed Bayesian credible interval for district-level voting preference of\n",
      "        Asian for Joe Cunningham (Democratic Party) is\n",
      "        [0.09737233 0.96607816]\n",
      "        95% equal-tailed Bayesian credible interval for district-level voting preference of\n",
      "        non-Asian for Joe Cunningham (Democratic Party) is\n",
      "        [0.3777878  0.39158261]\n",
      "        \n"
     ]
    }
   ],
   "source": [
    "dem_asian_ei, dem_asian_summary = run_ecological_inference(\n",
    "    df=sc_race_merged_ei_df,\n",
    "    demographic_col=\"ASIAN_PERCENT\",\n",
    "    voting_col=\"DEMOCRATIC_PERCENT\",\n",
    "    total_votes_col=\"TOT_VOT\",\n",
    "    demographic_group_name=\"Asian\",\n",
    "    candidate_name=sc_candidate_mapping['DEMOCRATIC']\n",
    ")"
   ]
  },
  {
   "cell_type": "code",
   "execution_count": 422,
   "metadata": {},
   "outputs": [
    {
     "name": "stderr",
     "output_type": "stream",
     "text": [
      "Compiling...\n",
      "Compilation time = 0:00:01.213048\n",
      "Sampling...\n"
     ]
    },
    {
     "data": {
      "application/vnd.jupyter.widget-view+json": {
       "model_id": "54689eb4ac0147e898830263a233663e",
       "version_major": 2,
       "version_minor": 0
      },
      "text/plain": [
       "  0%|          | 0/2500 [00:00<?, ?it/s]"
      ]
     },
     "metadata": {},
     "output_type": "display_data"
    },
    {
     "data": {
      "application/vnd.jupyter.widget-view+json": {
       "model_id": "a03499d3364446e2b181db98235733b7",
       "version_major": 2,
       "version_minor": 0
      },
      "text/plain": [
       "  0%|          | 0/2500 [00:00<?, ?it/s]"
      ]
     },
     "metadata": {},
     "output_type": "display_data"
    },
    {
     "data": {
      "application/vnd.jupyter.widget-view+json": {
       "model_id": "4840c230edeb47b8a5e31739234bfb62",
       "version_major": 2,
       "version_minor": 0
      },
      "text/plain": [
       "  0%|          | 0/2500 [00:00<?, ?it/s]"
      ]
     },
     "metadata": {},
     "output_type": "display_data"
    },
    {
     "data": {
      "application/vnd.jupyter.widget-view+json": {
       "model_id": "a91ccca181ae4e11b7ebf7fd2dcbbe82",
       "version_major": 2,
       "version_minor": 0
      },
      "text/plain": [
       "  0%|          | 0/2500 [00:00<?, ?it/s]"
      ]
     },
     "metadata": {},
     "output_type": "display_data"
    },
    {
     "name": "stderr",
     "output_type": "stream",
     "text": [
      "Sampling time = 0:00:02.052729\n",
      "Transforming variables...\n",
      "Transformation time = 0:00:11.449931\n"
     ]
    },
    {
     "name": "stdout",
     "output_type": "stream",
     "text": [
      "Model: king99_pareto_modification\n",
      "        Computed from the raw b_i samples by multiplying by population and then getting\n",
      "        the proportion of the total pop (total pop=summed across all districts):\n",
      "        The posterior mean for the district-level voting preference of\n",
      "        Asian for Joe Cunningham (Democratic Party) is\n",
      "        0.433\n",
      "        The posterior mean for the district-level voting preference of\n",
      "        non-Asian for Joe Cunningham (Democratic Party) is\n",
      "        0.418\n",
      "        95% equal-tailed Bayesian credible interval for district-level voting preference of\n",
      "        Asian for Joe Cunningham (Democratic Party) is\n",
      "        [0.04065916 0.92053631]\n",
      "        95% equal-tailed Bayesian credible interval for district-level voting preference of\n",
      "        non-Asian for Joe Cunningham (Democratic Party) is\n",
      "        [0.41328643 0.42246997]\n",
      "        \n"
     ]
    }
   ],
   "source": [
    "dem_asian_ei_rural, dem_asian_summary_rural = run_ecological_inference(\n",
    "    df=sc_race_merged_ei_rural_df,\n",
    "    demographic_col=\"ASIAN_PERCENT\",\n",
    "    voting_col=\"DEMOCRATIC_PERCENT\",\n",
    "    total_votes_col=\"TOT_VOT\",\n",
    "    demographic_group_name=\"Asian\",\n",
    "    candidate_name=sc_candidate_mapping['DEMOCRATIC']\n",
    ")"
   ]
  },
  {
   "cell_type": "code",
   "execution_count": 423,
   "metadata": {},
   "outputs": [
    {
     "name": "stderr",
     "output_type": "stream",
     "text": [
      "Compiling...\n",
      "Compilation time = 0:00:01.227308\n",
      "Sampling...\n"
     ]
    },
    {
     "data": {
      "application/vnd.jupyter.widget-view+json": {
       "model_id": "c2d2eb5b762b457683c7859e20025d94",
       "version_major": 2,
       "version_minor": 0
      },
      "text/plain": [
       "  0%|          | 0/2500 [00:00<?, ?it/s]"
      ]
     },
     "metadata": {},
     "output_type": "display_data"
    },
    {
     "data": {
      "application/vnd.jupyter.widget-view+json": {
       "model_id": "af26ce7df3884fcc861e3f61cb010515",
       "version_major": 2,
       "version_minor": 0
      },
      "text/plain": [
       "  0%|          | 0/2500 [00:00<?, ?it/s]"
      ]
     },
     "metadata": {},
     "output_type": "display_data"
    },
    {
     "data": {
      "application/vnd.jupyter.widget-view+json": {
       "model_id": "947156d6a07f4a43914dceb0c41764af",
       "version_major": 2,
       "version_minor": 0
      },
      "text/plain": [
       "  0%|          | 0/2500 [00:00<?, ?it/s]"
      ]
     },
     "metadata": {},
     "output_type": "display_data"
    },
    {
     "data": {
      "application/vnd.jupyter.widget-view+json": {
       "model_id": "47c4673e22e449c18c91c7120430c1de",
       "version_major": 2,
       "version_minor": 0
      },
      "text/plain": [
       "  0%|          | 0/2500 [00:00<?, ?it/s]"
      ]
     },
     "metadata": {},
     "output_type": "display_data"
    },
    {
     "name": "stderr",
     "output_type": "stream",
     "text": [
      "Sampling time = 0:00:02.033471\n",
      "Transforming variables...\n",
      "Transformation time = 0:00:18.871656\n"
     ]
    },
    {
     "name": "stdout",
     "output_type": "stream",
     "text": [
      "Model: king99_pareto_modification\n",
      "        Computed from the raw b_i samples by multiplying by population and then getting\n",
      "        the proportion of the total pop (total pop=summed across all districts):\n",
      "        The posterior mean for the district-level voting preference of\n",
      "        Asian for Joe Cunningham (Democratic Party) is\n",
      "        0.703\n",
      "        The posterior mean for the district-level voting preference of\n",
      "        non-Asian for Joe Cunningham (Democratic Party) is\n",
      "        0.414\n",
      "        95% equal-tailed Bayesian credible interval for district-level voting preference of\n",
      "        Asian for Joe Cunningham (Democratic Party) is\n",
      "        [0.2285832  0.94777913]\n",
      "        95% equal-tailed Bayesian credible interval for district-level voting preference of\n",
      "        non-Asian for Joe Cunningham (Democratic Party) is\n",
      "        [0.40706573 0.42569778]\n",
      "        \n"
     ]
    }
   ],
   "source": [
    "dem_asian_ei_suburban, dem_asian_summary_suburban = run_ecological_inference(\n",
    "    df=sc_race_merged_ei_suburban_df,\n",
    "    demographic_col=\"ASIAN_PERCENT\",\n",
    "    voting_col=\"DEMOCRATIC_PERCENT\",\n",
    "    total_votes_col=\"TOT_VOT\",\n",
    "    demographic_group_name=\"Asian\",\n",
    "    candidate_name=sc_candidate_mapping['DEMOCRATIC']\n",
    ")"
   ]
  },
  {
   "cell_type": "code",
   "execution_count": 424,
   "metadata": {},
   "outputs": [
    {
     "name": "stderr",
     "output_type": "stream",
     "text": [
      "Compiling...\n",
      "Compilation time = 0:00:01.336957\n",
      "Sampling...\n"
     ]
    },
    {
     "data": {
      "application/vnd.jupyter.widget-view+json": {
       "model_id": "f0c30044071e4e99853ed15752deda09",
       "version_major": 2,
       "version_minor": 0
      },
      "text/plain": [
       "  0%|          | 0/2500 [00:00<?, ?it/s]"
      ]
     },
     "metadata": {},
     "output_type": "display_data"
    },
    {
     "data": {
      "application/vnd.jupyter.widget-view+json": {
       "model_id": "45ae6e8b733149c2aee4baf87321f6a7",
       "version_major": 2,
       "version_minor": 0
      },
      "text/plain": [
       "  0%|          | 0/2500 [00:00<?, ?it/s]"
      ]
     },
     "metadata": {},
     "output_type": "display_data"
    },
    {
     "data": {
      "application/vnd.jupyter.widget-view+json": {
       "model_id": "88de2d1a2ab4475ebf5d4b0106fe0775",
       "version_major": 2,
       "version_minor": 0
      },
      "text/plain": [
       "  0%|          | 0/2500 [00:00<?, ?it/s]"
      ]
     },
     "metadata": {},
     "output_type": "display_data"
    },
    {
     "data": {
      "application/vnd.jupyter.widget-view+json": {
       "model_id": "583a7362a9f541b9a894145fe25c2c2b",
       "version_major": 2,
       "version_minor": 0
      },
      "text/plain": [
       "  0%|          | 0/2500 [00:00<?, ?it/s]"
      ]
     },
     "metadata": {},
     "output_type": "display_data"
    },
    {
     "name": "stderr",
     "output_type": "stream",
     "text": [
      "Sampling time = 0:00:02.245671\n",
      "Transforming variables...\n",
      "Transformation time = 0:00:35.679074\n"
     ]
    },
    {
     "name": "stdout",
     "output_type": "stream",
     "text": [
      "Model: king99_pareto_modification\n",
      "        Computed from the raw b_i samples by multiplying by population and then getting\n",
      "        the proportion of the total pop (total pop=summed across all districts):\n",
      "        The posterior mean for the district-level voting preference of\n",
      "        Asian for Joe Cunningham (Democratic Party) is\n",
      "        0.835\n",
      "        The posterior mean for the district-level voting preference of\n",
      "        non-Asian for Joe Cunningham (Democratic Party) is\n",
      "        0.388\n",
      "        95% equal-tailed Bayesian credible interval for district-level voting preference of\n",
      "        Asian for Joe Cunningham (Democratic Party) is\n",
      "        [0.47992485 0.98784259]\n",
      "        95% equal-tailed Bayesian credible interval for district-level voting preference of\n",
      "        non-Asian for Joe Cunningham (Democratic Party) is\n",
      "        [0.38329112 0.39678897]\n",
      "        \n"
     ]
    }
   ],
   "source": [
    "dem_asian_ei_urban, dem_asian_summary_urban = run_ecological_inference(\n",
    "    df=sc_race_merged_ei_urban_df,\n",
    "    demographic_col=\"ASIAN_PERCENT\",\n",
    "    voting_col=\"DEMOCRATIC_PERCENT\",\n",
    "    total_votes_col=\"TOT_VOT\",\n",
    "    demographic_group_name=\"Asian\",\n",
    "    candidate_name=sc_candidate_mapping['DEMOCRATIC']\n",
    ")"
   ]
  },
  {
   "cell_type": "code",
   "execution_count": 425,
   "metadata": {},
   "outputs": [
    {
     "name": "stderr",
     "output_type": "stream",
     "text": [
      "Compiling...\n",
      "Compilation time = 0:00:01.394726\n",
      "Sampling...\n"
     ]
    },
    {
     "data": {
      "application/vnd.jupyter.widget-view+json": {
       "model_id": "9ef2517642a545e0a8f258aa56c15ba3",
       "version_major": 2,
       "version_minor": 0
      },
      "text/plain": [
       "  0%|          | 0/2500 [00:00<?, ?it/s]"
      ]
     },
     "metadata": {},
     "output_type": "display_data"
    },
    {
     "data": {
      "application/vnd.jupyter.widget-view+json": {
       "model_id": "15492c147cb34ddebab4cb55f4178c86",
       "version_major": 2,
       "version_minor": 0
      },
      "text/plain": [
       "  0%|          | 0/2500 [00:00<?, ?it/s]"
      ]
     },
     "metadata": {},
     "output_type": "display_data"
    },
    {
     "data": {
      "application/vnd.jupyter.widget-view+json": {
       "model_id": "9046cb2c20ea4572bb1b009f6e02a84a",
       "version_major": 2,
       "version_minor": 0
      },
      "text/plain": [
       "  0%|          | 0/2500 [00:00<?, ?it/s]"
      ]
     },
     "metadata": {},
     "output_type": "display_data"
    },
    {
     "data": {
      "application/vnd.jupyter.widget-view+json": {
       "model_id": "98c94531faa44b0e86f3b6141328913f",
       "version_major": 2,
       "version_minor": 0
      },
      "text/plain": [
       "  0%|          | 0/2500 [00:00<?, ?it/s]"
      ]
     },
     "metadata": {},
     "output_type": "display_data"
    },
    {
     "name": "stderr",
     "output_type": "stream",
     "text": [
      "Sampling time = 0:00:02.504416\n",
      "Transforming variables...\n",
      "Transformation time = 0:00:11.333059\n"
     ]
    },
    {
     "name": "stdout",
     "output_type": "stream",
     "text": [
      "Model: king99_pareto_modification\n",
      "        Computed from the raw b_i samples by multiplying by population and then getting\n",
      "        the proportion of the total pop (total pop=summed across all districts):\n",
      "        The posterior mean for the district-level voting preference of\n",
      "        Hispanic for Joe Cunningham (Democratic Party) is\n",
      "        0.815\n",
      "        The posterior mean for the district-level voting preference of\n",
      "        non-Hispanic for Joe Cunningham (Democratic Party) is\n",
      "        0.364\n",
      "        95% equal-tailed Bayesian credible interval for district-level voting preference of\n",
      "        Hispanic for Joe Cunningham (Democratic Party) is\n",
      "        [0.52750502 0.96547722]\n",
      "        95% equal-tailed Bayesian credible interval for district-level voting preference of\n",
      "        non-Hispanic for Joe Cunningham (Democratic Party) is\n",
      "        [0.35466611 0.37994795]\n",
      "        \n"
     ]
    }
   ],
   "source": [
    "dem_hispanic_ei, rep_asian_summary = run_ecological_inference(\n",
    "    df=sc_race_merged_ei_df,\n",
    "    demographic_col=\"HISPANIC_PERCENT\",\n",
    "    voting_col=\"DEMOCRATIC_PERCENT\",\n",
    "    total_votes_col=\"TOT_VOT\",\n",
    "    demographic_group_name=\"Hispanic\",\n",
    "    candidate_name=sc_candidate_mapping['DEMOCRATIC']\n",
    ")"
   ]
  },
  {
   "cell_type": "code",
   "execution_count": 426,
   "metadata": {},
   "outputs": [
    {
     "name": "stderr",
     "output_type": "stream",
     "text": [
      "Compiling...\n",
      "Compilation time = 0:00:04.628249\n",
      "Sampling...\n"
     ]
    },
    {
     "data": {
      "application/vnd.jupyter.widget-view+json": {
       "model_id": "4014306ca02d4018b0077462f67d253b",
       "version_major": 2,
       "version_minor": 0
      },
      "text/plain": [
       "  0%|          | 0/2500 [00:00<?, ?it/s]"
      ]
     },
     "metadata": {},
     "output_type": "display_data"
    },
    {
     "data": {
      "application/vnd.jupyter.widget-view+json": {
       "model_id": "7efda4275eb342d29477cde957520143",
       "version_major": 2,
       "version_minor": 0
      },
      "text/plain": [
       "  0%|          | 0/2500 [00:00<?, ?it/s]"
      ]
     },
     "metadata": {},
     "output_type": "display_data"
    },
    {
     "data": {
      "application/vnd.jupyter.widget-view+json": {
       "model_id": "1119a690e3db4e08aed3a1e13f13f0f1",
       "version_major": 2,
       "version_minor": 0
      },
      "text/plain": [
       "  0%|          | 0/2500 [00:00<?, ?it/s]"
      ]
     },
     "metadata": {},
     "output_type": "display_data"
    },
    {
     "data": {
      "application/vnd.jupyter.widget-view+json": {
       "model_id": "df19853409a54468ba7d0c264d804f80",
       "version_major": 2,
       "version_minor": 0
      },
      "text/plain": [
       "  0%|          | 0/2500 [00:00<?, ?it/s]"
      ]
     },
     "metadata": {},
     "output_type": "display_data"
    },
    {
     "name": "stderr",
     "output_type": "stream",
     "text": [
      "Sampling time = 0:00:02.393594\n",
      "Transforming variables...\n",
      "Transformation time = 0:00:21.896009\n"
     ]
    },
    {
     "name": "stdout",
     "output_type": "stream",
     "text": [
      "Model: king99_pareto_modification\n",
      "        Computed from the raw b_i samples by multiplying by population and then getting\n",
      "        the proportion of the total pop (total pop=summed across all districts):\n",
      "        The posterior mean for the district-level voting preference of\n",
      "        Hispanic for Joe Cunningham (Democratic Party) is\n",
      "        0.759\n",
      "        The posterior mean for the district-level voting preference of\n",
      "        non-Hispanic for Joe Cunningham (Democratic Party) is\n",
      "        0.407\n",
      "        95% equal-tailed Bayesian credible interval for district-level voting preference of\n",
      "        Hispanic for Joe Cunningham (Democratic Party) is\n",
      "        [0.40987749 0.9732003 ]\n",
      "        95% equal-tailed Bayesian credible interval for district-level voting preference of\n",
      "        non-Hispanic for Joe Cunningham (Democratic Party) is\n",
      "        [0.39857454 0.42012288]\n",
      "        \n"
     ]
    }
   ],
   "source": [
    "dem_hispanic_ei_rural, rep_asian_summary_rural = run_ecological_inference(\n",
    "    df=sc_race_merged_ei_rural_df,\n",
    "    demographic_col=\"HISPANIC_PERCENT\",\n",
    "    voting_col=\"DEMOCRATIC_PERCENT\",\n",
    "    total_votes_col=\"TOT_VOT\",\n",
    "    demographic_group_name=\"Hispanic\",\n",
    "    candidate_name=sc_candidate_mapping['DEMOCRATIC']\n",
    ")"
   ]
  },
  {
   "cell_type": "code",
   "execution_count": 427,
   "metadata": {},
   "outputs": [
    {
     "name": "stderr",
     "output_type": "stream",
     "text": [
      "Compiling...\n",
      "Compilation time = 0:00:01.350730\n",
      "Sampling...\n"
     ]
    },
    {
     "data": {
      "application/vnd.jupyter.widget-view+json": {
       "model_id": "2d34dd867a72415fb947778058e44d93",
       "version_major": 2,
       "version_minor": 0
      },
      "text/plain": [
       "  0%|          | 0/2500 [00:00<?, ?it/s]"
      ]
     },
     "metadata": {},
     "output_type": "display_data"
    },
    {
     "data": {
      "application/vnd.jupyter.widget-view+json": {
       "model_id": "4631a2c4fbc54723ab7294650dc006c7",
       "version_major": 2,
       "version_minor": 0
      },
      "text/plain": [
       "  0%|          | 0/2500 [00:00<?, ?it/s]"
      ]
     },
     "metadata": {},
     "output_type": "display_data"
    },
    {
     "data": {
      "application/vnd.jupyter.widget-view+json": {
       "model_id": "697b6bc581cb4473b7cc9bb4c4bf7b11",
       "version_major": 2,
       "version_minor": 0
      },
      "text/plain": [
       "  0%|          | 0/2500 [00:00<?, ?it/s]"
      ]
     },
     "metadata": {},
     "output_type": "display_data"
    },
    {
     "data": {
      "application/vnd.jupyter.widget-view+json": {
       "model_id": "d09c6d448d2f4479a1e8ce4f02b5fca8",
       "version_major": 2,
       "version_minor": 0
      },
      "text/plain": [
       "  0%|          | 0/2500 [00:00<?, ?it/s]"
      ]
     },
     "metadata": {},
     "output_type": "display_data"
    },
    {
     "name": "stderr",
     "output_type": "stream",
     "text": [
      "Sampling time = 0:00:02.210484\n",
      "Transforming variables...\n",
      "Transformation time = 0:00:16.360568\n"
     ]
    },
    {
     "name": "stdout",
     "output_type": "stream",
     "text": [
      "Model: king99_pareto_modification\n",
      "        Computed from the raw b_i samples by multiplying by population and then getting\n",
      "        the proportion of the total pop (total pop=summed across all districts):\n",
      "        The posterior mean for the district-level voting preference of\n",
      "        Hispanic for Joe Cunningham (Democratic Party) is\n",
      "        0.784\n",
      "        The posterior mean for the district-level voting preference of\n",
      "        non-Hispanic for Joe Cunningham (Democratic Party) is\n",
      "        0.391\n",
      "        95% equal-tailed Bayesian credible interval for district-level voting preference of\n",
      "        Hispanic for Joe Cunningham (Democratic Party) is\n",
      "        [0.48156716 0.96796177]\n",
      "        95% equal-tailed Bayesian credible interval for district-level voting preference of\n",
      "        non-Hispanic for Joe Cunningham (Democratic Party) is\n",
      "        [0.37505303 0.41575678]\n",
      "        \n"
     ]
    }
   ],
   "source": [
    "dem_hispanic_ei_suburban, rep_asian_summary_suburban = run_ecological_inference(\n",
    "    df=sc_race_merged_ei_suburban_df,\n",
    "    demographic_col=\"HISPANIC_PERCENT\",\n",
    "    voting_col=\"DEMOCRATIC_PERCENT\",\n",
    "    total_votes_col=\"TOT_VOT\",\n",
    "    demographic_group_name=\"Hispanic\",\n",
    "    candidate_name=sc_candidate_mapping['DEMOCRATIC']\n",
    ")"
   ]
  },
  {
   "cell_type": "code",
   "execution_count": 428,
   "metadata": {},
   "outputs": [
    {
     "name": "stderr",
     "output_type": "stream",
     "text": [
      "Compiling...\n",
      "Compilation time = 0:00:01.206751\n",
      "Sampling...\n"
     ]
    },
    {
     "data": {
      "application/vnd.jupyter.widget-view+json": {
       "model_id": "b4e9307d66364497a64c7c4e4812caee",
       "version_major": 2,
       "version_minor": 0
      },
      "text/plain": [
       "  0%|          | 0/2500 [00:00<?, ?it/s]"
      ]
     },
     "metadata": {},
     "output_type": "display_data"
    },
    {
     "data": {
      "application/vnd.jupyter.widget-view+json": {
       "model_id": "6331e87a0c904a81a94de28dd55b3078",
       "version_major": 2,
       "version_minor": 0
      },
      "text/plain": [
       "  0%|          | 0/2500 [00:00<?, ?it/s]"
      ]
     },
     "metadata": {},
     "output_type": "display_data"
    },
    {
     "data": {
      "application/vnd.jupyter.widget-view+json": {
       "model_id": "1ba6f37e1e0c44b8a2a30503efdbbdd2",
       "version_major": 2,
       "version_minor": 0
      },
      "text/plain": [
       "  0%|          | 0/2500 [00:00<?, ?it/s]"
      ]
     },
     "metadata": {},
     "output_type": "display_data"
    },
    {
     "data": {
      "application/vnd.jupyter.widget-view+json": {
       "model_id": "a194740a427e4a07aa20c71f16ac9ddb",
       "version_major": 2,
       "version_minor": 0
      },
      "text/plain": [
       "  0%|          | 0/2500 [00:00<?, ?it/s]"
      ]
     },
     "metadata": {},
     "output_type": "display_data"
    },
    {
     "name": "stderr",
     "output_type": "stream",
     "text": [
      "Sampling time = 0:00:02.062282\n",
      "Transforming variables...\n",
      "Transformation time = 0:00:10.153622\n"
     ]
    },
    {
     "name": "stdout",
     "output_type": "stream",
     "text": [
      "Model: king99_pareto_modification\n",
      "        Computed from the raw b_i samples by multiplying by population and then getting\n",
      "        the proportion of the total pop (total pop=summed across all districts):\n",
      "        The posterior mean for the district-level voting preference of\n",
      "        Hispanic for Joe Cunningham (Democratic Party) is\n",
      "        0.636\n",
      "        The posterior mean for the district-level voting preference of\n",
      "        non-Hispanic for Joe Cunningham (Democratic Party) is\n",
      "        0.380\n",
      "        95% equal-tailed Bayesian credible interval for district-level voting preference of\n",
      "        Hispanic for Joe Cunningham (Democratic Party) is\n",
      "        [0.31661346 0.89899199]\n",
      "        95% equal-tailed Bayesian credible interval for district-level voting preference of\n",
      "        non-Hispanic for Joe Cunningham (Democratic Party) is\n",
      "        [0.35861571 0.40421561]\n",
      "        \n"
     ]
    }
   ],
   "source": [
    "dem_hispanic_ei_urban, rep_asian_summary_urban = run_ecological_inference(\n",
    "    df=sc_race_merged_ei_urban_df,\n",
    "    demographic_col=\"HISPANIC_PERCENT\",\n",
    "    voting_col=\"DEMOCRATIC_PERCENT\",\n",
    "    total_votes_col=\"TOT_VOT\",\n",
    "    demographic_group_name=\"Hispanic\",\n",
    "    candidate_name=sc_candidate_mapping['DEMOCRATIC']\n",
    ")"
   ]
  },
  {
   "cell_type": "markdown",
   "metadata": {},
   "source": [
    "##### Running Repulican"
   ]
  },
  {
   "cell_type": "code",
   "execution_count": 429,
   "metadata": {},
   "outputs": [
    {
     "name": "stderr",
     "output_type": "stream",
     "text": [
      "Compiling...\n",
      "Compilation time = 0:00:01.228725\n",
      "Sampling...\n"
     ]
    },
    {
     "data": {
      "application/vnd.jupyter.widget-view+json": {
       "model_id": "842307e5cfb2420aaf23fb067a02c81c",
       "version_major": 2,
       "version_minor": 0
      },
      "text/plain": [
       "  0%|          | 0/2500 [00:00<?, ?it/s]"
      ]
     },
     "metadata": {},
     "output_type": "display_data"
    },
    {
     "data": {
      "application/vnd.jupyter.widget-view+json": {
       "model_id": "fde596338e164ea5b45e0b8dc5953cd2",
       "version_major": 2,
       "version_minor": 0
      },
      "text/plain": [
       "  0%|          | 0/2500 [00:00<?, ?it/s]"
      ]
     },
     "metadata": {},
     "output_type": "display_data"
    },
    {
     "data": {
      "application/vnd.jupyter.widget-view+json": {
       "model_id": "fa6f5f89ea97499997ed13934c2647ab",
       "version_major": 2,
       "version_minor": 0
      },
      "text/plain": [
       "  0%|          | 0/2500 [00:00<?, ?it/s]"
      ]
     },
     "metadata": {},
     "output_type": "display_data"
    },
    {
     "data": {
      "application/vnd.jupyter.widget-view+json": {
       "model_id": "ce74f6d53440426680a748362e8df847",
       "version_major": 2,
       "version_minor": 0
      },
      "text/plain": [
       "  0%|          | 0/2500 [00:00<?, ?it/s]"
      ]
     },
     "metadata": {},
     "output_type": "display_data"
    },
    {
     "name": "stderr",
     "output_type": "stream",
     "text": [
      "Sampling time = 0:00:02.166014\n",
      "Transforming variables...\n",
      "Transformation time = 0:00:18.296050\n"
     ]
    },
    {
     "name": "stdout",
     "output_type": "stream",
     "text": [
      "Model: king99_pareto_modification\n",
      "        Computed from the raw b_i samples by multiplying by population and then getting\n",
      "        the proportion of the total pop (total pop=summed across all districts):\n",
      "        The posterior mean for the district-level voting preference of\n",
      "        White for Henry McMaster (Republican Party) is\n",
      "        0.738\n",
      "        The posterior mean for the district-level voting preference of\n",
      "        non-White for Henry McMaster (Republican Party) is\n",
      "        0.347\n",
      "        95% equal-tailed Bayesian credible interval for district-level voting preference of\n",
      "        White for Henry McMaster (Republican Party) is\n",
      "        [0.69558189 0.77695831]\n",
      "        95% equal-tailed Bayesian credible interval for district-level voting preference of\n",
      "        non-White for Henry McMaster (Republican Party) is\n",
      "        [0.27479148 0.42365758]\n",
      "        \n"
     ]
    }
   ],
   "source": [
    "rep_white_ei, rep_white_summary = run_ecological_inference(\n",
    "    df=sc_race_merged_ei_df,\n",
    "    demographic_col=\"WHITE_PERCENT\",\n",
    "    voting_col=\"REPUBLICAN_PERCENT\",\n",
    "    total_votes_col=\"TOT_VOT\",\n",
    "    demographic_group_name=\"White\",\n",
    "    candidate_name=sc_candidate_mapping['REPUBLICAN']\n",
    ")"
   ]
  },
  {
   "cell_type": "code",
   "execution_count": 430,
   "metadata": {},
   "outputs": [
    {
     "name": "stderr",
     "output_type": "stream",
     "text": [
      "Compiling...\n",
      "Compilation time = 0:00:01.214985\n",
      "Sampling...\n"
     ]
    },
    {
     "data": {
      "application/vnd.jupyter.widget-view+json": {
       "model_id": "29ebe19477e447ca9729d8cf62016263",
       "version_major": 2,
       "version_minor": 0
      },
      "text/plain": [
       "  0%|          | 0/2500 [00:00<?, ?it/s]"
      ]
     },
     "metadata": {},
     "output_type": "display_data"
    },
    {
     "data": {
      "application/vnd.jupyter.widget-view+json": {
       "model_id": "b5a9868f8aee4c3395720416d3ee1eac",
       "version_major": 2,
       "version_minor": 0
      },
      "text/plain": [
       "  0%|          | 0/2500 [00:00<?, ?it/s]"
      ]
     },
     "metadata": {},
     "output_type": "display_data"
    },
    {
     "data": {
      "application/vnd.jupyter.widget-view+json": {
       "model_id": "6e944ef7868b4bf18e57e1df239c6690",
       "version_major": 2,
       "version_minor": 0
      },
      "text/plain": [
       "  0%|          | 0/2500 [00:00<?, ?it/s]"
      ]
     },
     "metadata": {},
     "output_type": "display_data"
    },
    {
     "data": {
      "application/vnd.jupyter.widget-view+json": {
       "model_id": "11cd84cff96c4335bd0d2558c9001020",
       "version_major": 2,
       "version_minor": 0
      },
      "text/plain": [
       "  0%|          | 0/2500 [00:00<?, ?it/s]"
      ]
     },
     "metadata": {},
     "output_type": "display_data"
    },
    {
     "name": "stderr",
     "output_type": "stream",
     "text": [
      "Sampling time = 0:00:01.937288\n",
      "Transforming variables...\n",
      "Transformation time = 0:00:15.279535\n"
     ]
    },
    {
     "name": "stdout",
     "output_type": "stream",
     "text": [
      "Model: king99_pareto_modification\n",
      "        Computed from the raw b_i samples by multiplying by population and then getting\n",
      "        the proportion of the total pop (total pop=summed across all districts):\n",
      "        The posterior mean for the district-level voting preference of\n",
      "        White for Henry McMaster (Republican Party) is\n",
      "        0.692\n",
      "        The posterior mean for the district-level voting preference of\n",
      "        non-White for Henry McMaster (Republican Party) is\n",
      "        0.393\n",
      "        95% equal-tailed Bayesian credible interval for district-level voting preference of\n",
      "        White for Henry McMaster (Republican Party) is\n",
      "        [0.64792469 0.73146283]\n",
      "        95% equal-tailed Bayesian credible interval for district-level voting preference of\n",
      "        non-White for Henry McMaster (Republican Party) is\n",
      "        [0.33053386 0.45750748]\n",
      "        \n"
     ]
    }
   ],
   "source": [
    "rep_white_ei_rural, rep_white_summary_rural = run_ecological_inference(\n",
    "    df=sc_race_merged_ei_rural_df,\n",
    "    demographic_col=\"WHITE_PERCENT\",\n",
    "    voting_col=\"REPUBLICAN_PERCENT\",\n",
    "    total_votes_col=\"TOT_VOT\",\n",
    "    demographic_group_name=\"White\",\n",
    "    candidate_name=sc_candidate_mapping['REPUBLICAN']\n",
    ")"
   ]
  },
  {
   "cell_type": "code",
   "execution_count": 431,
   "metadata": {},
   "outputs": [
    {
     "name": "stderr",
     "output_type": "stream",
     "text": [
      "Compiling...\n",
      "Compilation time = 0:00:03.286854\n",
      "Sampling...\n"
     ]
    },
    {
     "data": {
      "application/vnd.jupyter.widget-view+json": {
       "model_id": "af3ee6c3e45d4025b9ba78218fe67cc9",
       "version_major": 2,
       "version_minor": 0
      },
      "text/plain": [
       "  0%|          | 0/2500 [00:00<?, ?it/s]"
      ]
     },
     "metadata": {},
     "output_type": "display_data"
    },
    {
     "data": {
      "application/vnd.jupyter.widget-view+json": {
       "model_id": "8ae57298a6be4787b25986d0abb333fa",
       "version_major": 2,
       "version_minor": 0
      },
      "text/plain": [
       "  0%|          | 0/2500 [00:00<?, ?it/s]"
      ]
     },
     "metadata": {},
     "output_type": "display_data"
    },
    {
     "data": {
      "application/vnd.jupyter.widget-view+json": {
       "model_id": "4d1e86f2961c4f33a7425bdb1aabb0a0",
       "version_major": 2,
       "version_minor": 0
      },
      "text/plain": [
       "  0%|          | 0/2500 [00:00<?, ?it/s]"
      ]
     },
     "metadata": {},
     "output_type": "display_data"
    },
    {
     "data": {
      "application/vnd.jupyter.widget-view+json": {
       "model_id": "e35faa0087a44f319b7a7e768cdd7d69",
       "version_major": 2,
       "version_minor": 0
      },
      "text/plain": [
       "  0%|          | 0/2500 [00:00<?, ?it/s]"
      ]
     },
     "metadata": {},
     "output_type": "display_data"
    },
    {
     "name": "stderr",
     "output_type": "stream",
     "text": [
      "Sampling time = 0:00:01.942762\n",
      "Transforming variables...\n",
      "Transformation time = 0:00:16.425811\n"
     ]
    },
    {
     "name": "stdout",
     "output_type": "stream",
     "text": [
      "Model: king99_pareto_modification\n",
      "        Computed from the raw b_i samples by multiplying by population and then getting\n",
      "        the proportion of the total pop (total pop=summed across all districts):\n",
      "        The posterior mean for the district-level voting preference of\n",
      "        White for Henry McMaster (Republican Party) is\n",
      "        0.775\n",
      "        The posterior mean for the district-level voting preference of\n",
      "        non-White for Henry McMaster (Republican Party) is\n",
      "        0.173\n",
      "        95% equal-tailed Bayesian credible interval for district-level voting preference of\n",
      "        White for Henry McMaster (Republican Party) is\n",
      "        [0.74806912 0.79894412]\n",
      "        95% equal-tailed Bayesian credible interval for district-level voting preference of\n",
      "        non-White for Henry McMaster (Republican Party) is\n",
      "        [0.12025289 0.23670251]\n",
      "        \n"
     ]
    }
   ],
   "source": [
    "rep_white_ei_suburban, rep_white_summary_suburban = run_ecological_inference(\n",
    "    df=sc_race_merged_ei_suburban_df,\n",
    "    demographic_col=\"WHITE_PERCENT\",\n",
    "    voting_col=\"REPUBLICAN_PERCENT\",\n",
    "    total_votes_col=\"TOT_VOT\",\n",
    "    demographic_group_name=\"White\",\n",
    "    candidate_name=sc_candidate_mapping['REPUBLICAN']\n",
    ")"
   ]
  },
  {
   "cell_type": "code",
   "execution_count": 432,
   "metadata": {},
   "outputs": [
    {
     "name": "stderr",
     "output_type": "stream",
     "text": [
      "Compiling...\n",
      "Compilation time = 0:00:01.191962\n",
      "Sampling...\n"
     ]
    },
    {
     "data": {
      "application/vnd.jupyter.widget-view+json": {
       "model_id": "04fff5af3d884cfb834be331683ac06a",
       "version_major": 2,
       "version_minor": 0
      },
      "text/plain": [
       "  0%|          | 0/2500 [00:00<?, ?it/s]"
      ]
     },
     "metadata": {},
     "output_type": "display_data"
    },
    {
     "data": {
      "application/vnd.jupyter.widget-view+json": {
       "model_id": "f7488e505af34c43bf8ae8620a39bbd5",
       "version_major": 2,
       "version_minor": 0
      },
      "text/plain": [
       "  0%|          | 0/2500 [00:00<?, ?it/s]"
      ]
     },
     "metadata": {},
     "output_type": "display_data"
    },
    {
     "data": {
      "application/vnd.jupyter.widget-view+json": {
       "model_id": "3d3ff0f1eaaa46e3a64a1907bd3de1bf",
       "version_major": 2,
       "version_minor": 0
      },
      "text/plain": [
       "  0%|          | 0/2500 [00:00<?, ?it/s]"
      ]
     },
     "metadata": {},
     "output_type": "display_data"
    },
    {
     "data": {
      "application/vnd.jupyter.widget-view+json": {
       "model_id": "031faab3fa0a4539bd1233fdcfc023c3",
       "version_major": 2,
       "version_minor": 0
      },
      "text/plain": [
       "  0%|          | 0/2500 [00:00<?, ?it/s]"
      ]
     },
     "metadata": {},
     "output_type": "display_data"
    },
    {
     "name": "stderr",
     "output_type": "stream",
     "text": [
      "Sampling time = 0:00:01.980400\n",
      "Transforming variables...\n",
      "Transformation time = 0:00:18.020689\n"
     ]
    },
    {
     "name": "stdout",
     "output_type": "stream",
     "text": [
      "Model: king99_pareto_modification\n",
      "        Computed from the raw b_i samples by multiplying by population and then getting\n",
      "        the proportion of the total pop (total pop=summed across all districts):\n",
      "        The posterior mean for the district-level voting preference of\n",
      "        White for Henry McMaster (Republican Party) is\n",
      "        0.756\n",
      "        The posterior mean for the district-level voting preference of\n",
      "        non-White for Henry McMaster (Republican Party) is\n",
      "        0.202\n",
      "        95% equal-tailed Bayesian credible interval for district-level voting preference of\n",
      "        White for Henry McMaster (Republican Party) is\n",
      "        [0.72617541 0.78080792]\n",
      "        95% equal-tailed Bayesian credible interval for district-level voting preference of\n",
      "        non-White for Henry McMaster (Republican Party) is\n",
      "        [0.1333543  0.28624826]\n",
      "        \n"
     ]
    }
   ],
   "source": [
    "rep_white_ei_urban, rep_white_summary_urban= run_ecological_inference(\n",
    "    df=sc_race_merged_ei_urban_df,\n",
    "    demographic_col=\"WHITE_PERCENT\",\n",
    "    voting_col=\"REPUBLICAN_PERCENT\",\n",
    "    total_votes_col=\"TOT_VOT\",\n",
    "    demographic_group_name=\"White\",\n",
    "    candidate_name=sc_candidate_mapping['REPUBLICAN']\n",
    ")"
   ]
  },
  {
   "cell_type": "code",
   "execution_count": 433,
   "metadata": {},
   "outputs": [
    {
     "name": "stderr",
     "output_type": "stream",
     "text": [
      "Compiling...\n",
      "Compilation time = 0:00:01.224395\n",
      "Sampling...\n"
     ]
    },
    {
     "data": {
      "application/vnd.jupyter.widget-view+json": {
       "model_id": "87123a86786d4450baa0a3355c094565",
       "version_major": 2,
       "version_minor": 0
      },
      "text/plain": [
       "  0%|          | 0/2500 [00:00<?, ?it/s]"
      ]
     },
     "metadata": {},
     "output_type": "display_data"
    },
    {
     "data": {
      "application/vnd.jupyter.widget-view+json": {
       "model_id": "2f5deef386364824919fca309471a0cc",
       "version_major": 2,
       "version_minor": 0
      },
      "text/plain": [
       "  0%|          | 0/2500 [00:00<?, ?it/s]"
      ]
     },
     "metadata": {},
     "output_type": "display_data"
    },
    {
     "data": {
      "application/vnd.jupyter.widget-view+json": {
       "model_id": "9d386ee9901149cf9fca846a3ddaf1e6",
       "version_major": 2,
       "version_minor": 0
      },
      "text/plain": [
       "  0%|          | 0/2500 [00:00<?, ?it/s]"
      ]
     },
     "metadata": {},
     "output_type": "display_data"
    },
    {
     "data": {
      "application/vnd.jupyter.widget-view+json": {
       "model_id": "6b7bf32813ff4c70a07fb73e9c38f39c",
       "version_major": 2,
       "version_minor": 0
      },
      "text/plain": [
       "  0%|          | 0/2500 [00:00<?, ?it/s]"
      ]
     },
     "metadata": {},
     "output_type": "display_data"
    },
    {
     "name": "stderr",
     "output_type": "stream",
     "text": [
      "Sampling time = 0:00:02.019936\n",
      "Transforming variables...\n",
      "Transformation time = 0:00:17.551886\n"
     ]
    },
    {
     "name": "stdout",
     "output_type": "stream",
     "text": [
      "Model: king99_pareto_modification\n",
      "        Computed from the raw b_i samples by multiplying by population and then getting\n",
      "        the proportion of the total pop (total pop=summed across all districts):\n",
      "        The posterior mean for the district-level voting preference of\n",
      "        Black for Henry McMaster (Republican Party) is\n",
      "        0.144\n",
      "        The posterior mean for the district-level voting preference of\n",
      "        non-Black for Henry McMaster (Republican Party) is\n",
      "        0.713\n",
      "        95% equal-tailed Bayesian credible interval for district-level voting preference of\n",
      "        Black for Henry McMaster (Republican Party) is\n",
      "        [0.08221684 0.22580008]\n",
      "        95% equal-tailed Bayesian credible interval for district-level voting preference of\n",
      "        non-Black for Henry McMaster (Republican Party) is\n",
      "        [0.6949756  0.72738799]\n",
      "        \n"
     ]
    }
   ],
   "source": [
    "rep_black_ei, rep_black_summary = run_ecological_inference(\n",
    "    df=sc_race_merged_ei_df,\n",
    "    demographic_col=\"BLACK_PERCENT\",\n",
    "    voting_col=\"REPUBLICAN_PERCENT\",\n",
    "    total_votes_col=\"TOT_VOT\",\n",
    "    demographic_group_name=\"Black\",\n",
    "    candidate_name=sc_candidate_mapping['REPUBLICAN']\n",
    ")"
   ]
  },
  {
   "cell_type": "code",
   "execution_count": 434,
   "metadata": {},
   "outputs": [
    {
     "name": "stderr",
     "output_type": "stream",
     "text": [
      "Compiling...\n",
      "Compilation time = 0:00:01.210419\n",
      "Sampling...\n"
     ]
    },
    {
     "data": {
      "application/vnd.jupyter.widget-view+json": {
       "model_id": "dc23769e16fb49a5b8b5994ffeb53f18",
       "version_major": 2,
       "version_minor": 0
      },
      "text/plain": [
       "  0%|          | 0/2500 [00:00<?, ?it/s]"
      ]
     },
     "metadata": {},
     "output_type": "display_data"
    },
    {
     "data": {
      "application/vnd.jupyter.widget-view+json": {
       "model_id": "878facc63f424a9685ae267fc239eb64",
       "version_major": 2,
       "version_minor": 0
      },
      "text/plain": [
       "  0%|          | 0/2500 [00:00<?, ?it/s]"
      ]
     },
     "metadata": {},
     "output_type": "display_data"
    },
    {
     "data": {
      "application/vnd.jupyter.widget-view+json": {
       "model_id": "74e8e4f8333d4e268bde85a14e29b09c",
       "version_major": 2,
       "version_minor": 0
      },
      "text/plain": [
       "  0%|          | 0/2500 [00:00<?, ?it/s]"
      ]
     },
     "metadata": {},
     "output_type": "display_data"
    },
    {
     "data": {
      "application/vnd.jupyter.widget-view+json": {
       "model_id": "0127555c5dc44a1085b2418c0f57ecd0",
       "version_major": 2,
       "version_minor": 0
      },
      "text/plain": [
       "  0%|          | 0/2500 [00:00<?, ?it/s]"
      ]
     },
     "metadata": {},
     "output_type": "display_data"
    },
    {
     "name": "stderr",
     "output_type": "stream",
     "text": [
      "Sampling time = 0:00:02.332075\n",
      "Transforming variables...\n",
      "Transformation time = 0:00:15.525457\n"
     ]
    },
    {
     "name": "stdout",
     "output_type": "stream",
     "text": [
      "Model: king99_pareto_modification\n",
      "        Computed from the raw b_i samples by multiplying by population and then getting\n",
      "        the proportion of the total pop (total pop=summed across all districts):\n",
      "        The posterior mean for the district-level voting preference of\n",
      "        Black for Henry McMaster (Republican Party) is\n",
      "        0.246\n",
      "        The posterior mean for the district-level voting preference of\n",
      "        non-Black for Henry McMaster (Republican Party) is\n",
      "        0.683\n",
      "        95% equal-tailed Bayesian credible interval for district-level voting preference of\n",
      "        Black for Henry McMaster (Republican Party) is\n",
      "        [0.1661619  0.33490337]\n",
      "        95% equal-tailed Bayesian credible interval for district-level voting preference of\n",
      "        non-Black for Henry McMaster (Republican Party) is\n",
      "        [0.65465975 0.70828476]\n",
      "        \n"
     ]
    }
   ],
   "source": [
    "rep_black_ei_rural, rep_black_summary_rural = run_ecological_inference(\n",
    "    df=sc_race_merged_ei_rural_df,\n",
    "    demographic_col=\"BLACK_PERCENT\",\n",
    "    voting_col=\"REPUBLICAN_PERCENT\",\n",
    "    total_votes_col=\"TOT_VOT\",\n",
    "    demographic_group_name=\"Black\",\n",
    "    candidate_name=sc_candidate_mapping['REPUBLICAN']\n",
    ")"
   ]
  },
  {
   "cell_type": "code",
   "execution_count": 435,
   "metadata": {},
   "outputs": [
    {
     "name": "stderr",
     "output_type": "stream",
     "text": [
      "Compiling...\n"
     ]
    },
    {
     "name": "stderr",
     "output_type": "stream",
     "text": [
      "Compilation time = 0:00:01.243227\n",
      "Sampling...\n"
     ]
    },
    {
     "data": {
      "application/vnd.jupyter.widget-view+json": {
       "model_id": "60ebf2b0d11e46e08a23ad992233ebff",
       "version_major": 2,
       "version_minor": 0
      },
      "text/plain": [
       "  0%|          | 0/2500 [00:00<?, ?it/s]"
      ]
     },
     "metadata": {},
     "output_type": "display_data"
    },
    {
     "data": {
      "application/vnd.jupyter.widget-view+json": {
       "model_id": "616e6ab065b647da83846bdf53441a4a",
       "version_major": 2,
       "version_minor": 0
      },
      "text/plain": [
       "  0%|          | 0/2500 [00:00<?, ?it/s]"
      ]
     },
     "metadata": {},
     "output_type": "display_data"
    },
    {
     "data": {
      "application/vnd.jupyter.widget-view+json": {
       "model_id": "184840533ec34653a04a982a919f2e88",
       "version_major": 2,
       "version_minor": 0
      },
      "text/plain": [
       "  0%|          | 0/2500 [00:00<?, ?it/s]"
      ]
     },
     "metadata": {},
     "output_type": "display_data"
    },
    {
     "data": {
      "application/vnd.jupyter.widget-view+json": {
       "model_id": "416b7cd53028404aa73de7d9c5ede0fa",
       "version_major": 2,
       "version_minor": 0
      },
      "text/plain": [
       "  0%|          | 0/2500 [00:00<?, ?it/s]"
      ]
     },
     "metadata": {},
     "output_type": "display_data"
    },
    {
     "name": "stderr",
     "output_type": "stream",
     "text": [
      "Sampling time = 0:00:01.994257\n",
      "Transforming variables...\n",
      "Transformation time = 0:00:17.171694\n"
     ]
    },
    {
     "name": "stdout",
     "output_type": "stream",
     "text": [
      "Model: king99_pareto_modification\n",
      "        Computed from the raw b_i samples by multiplying by population and then getting\n",
      "        the proportion of the total pop (total pop=summed across all districts):\n",
      "        The posterior mean for the district-level voting preference of\n",
      "        Black for Henry McMaster (Republican Party) is\n",
      "        0.151\n",
      "        The posterior mean for the district-level voting preference of\n",
      "        non-Black for Henry McMaster (Republican Party) is\n",
      "        0.703\n",
      "        95% equal-tailed Bayesian credible interval for district-level voting preference of\n",
      "        Black for Henry McMaster (Republican Party) is\n",
      "        [0.09316185 0.22154156]\n",
      "        95% equal-tailed Bayesian credible interval for district-level voting preference of\n",
      "        non-Black for Henry McMaster (Republican Party) is\n",
      "        [0.68391276 0.71909495]\n",
      "        \n"
     ]
    }
   ],
   "source": [
    "rep_black_ei_suburban, rep_black_summary_suburban = run_ecological_inference(\n",
    "    df=sc_race_merged_ei_suburban_df,\n",
    "    demographic_col=\"BLACK_PERCENT\",\n",
    "    voting_col=\"REPUBLICAN_PERCENT\",\n",
    "    total_votes_col=\"TOT_VOT\",\n",
    "    demographic_group_name=\"Black\",\n",
    "    candidate_name=sc_candidate_mapping['REPUBLICAN']\n",
    ")"
   ]
  },
  {
   "cell_type": "code",
   "execution_count": 436,
   "metadata": {},
   "outputs": [
    {
     "name": "stderr",
     "output_type": "stream",
     "text": [
      "Compiling...\n",
      "Compilation time = 0:00:01.270971\n",
      "Sampling...\n"
     ]
    },
    {
     "data": {
      "application/vnd.jupyter.widget-view+json": {
       "model_id": "d756aff0106848f49477da09fb2c232c",
       "version_major": 2,
       "version_minor": 0
      },
      "text/plain": [
       "  0%|          | 0/2500 [00:00<?, ?it/s]"
      ]
     },
     "metadata": {},
     "output_type": "display_data"
    },
    {
     "data": {
      "application/vnd.jupyter.widget-view+json": {
       "model_id": "5e7ead59a08048f9bd17e2012ec9379f",
       "version_major": 2,
       "version_minor": 0
      },
      "text/plain": [
       "  0%|          | 0/2500 [00:00<?, ?it/s]"
      ]
     },
     "metadata": {},
     "output_type": "display_data"
    },
    {
     "data": {
      "application/vnd.jupyter.widget-view+json": {
       "model_id": "0b49838efddf496289939e795a727a40",
       "version_major": 2,
       "version_minor": 0
      },
      "text/plain": [
       "  0%|          | 0/2500 [00:00<?, ?it/s]"
      ]
     },
     "metadata": {},
     "output_type": "display_data"
    },
    {
     "data": {
      "application/vnd.jupyter.widget-view+json": {
       "model_id": "c58d7d2cd8504edca80ac2e04fabc4af",
       "version_major": 2,
       "version_minor": 0
      },
      "text/plain": [
       "  0%|          | 0/2500 [00:00<?, ?it/s]"
      ]
     },
     "metadata": {},
     "output_type": "display_data"
    },
    {
     "name": "stderr",
     "output_type": "stream",
     "text": [
      "Sampling time = 0:00:05.353269\n",
      "Transforming variables...\n",
      "Transformation time = 0:00:25.181047\n"
     ]
    },
    {
     "name": "stdout",
     "output_type": "stream",
     "text": [
      "Model: king99_pareto_modification\n",
      "        Computed from the raw b_i samples by multiplying by population and then getting\n",
      "        the proportion of the total pop (total pop=summed across all districts):\n",
      "        The posterior mean for the district-level voting preference of\n",
      "        Black for Henry McMaster (Republican Party) is\n",
      "        0.117\n",
      "        The posterior mean for the district-level voting preference of\n",
      "        non-Black for Henry McMaster (Republican Party) is\n",
      "        0.710\n",
      "        95% equal-tailed Bayesian credible interval for district-level voting preference of\n",
      "        Black for Henry McMaster (Republican Party) is\n",
      "        [0.04839946 0.2026908 ]\n",
      "        95% equal-tailed Bayesian credible interval for district-level voting preference of\n",
      "        non-Black for Henry McMaster (Republican Party) is\n",
      "        [0.69218886 0.72616381]\n",
      "        \n"
     ]
    }
   ],
   "source": [
    "rep_black_ei_urban, rep_black_summary_urban = run_ecological_inference(\n",
    "    df=sc_race_merged_ei_urban_df,\n",
    "    demographic_col=\"BLACK_PERCENT\",\n",
    "    voting_col=\"REPUBLICAN_PERCENT\",\n",
    "    total_votes_col=\"TOT_VOT\",\n",
    "    demographic_group_name=\"Black\",\n",
    "    candidate_name=sc_candidate_mapping['REPUBLICAN']\n",
    ")"
   ]
  },
  {
   "cell_type": "code",
   "execution_count": 437,
   "metadata": {},
   "outputs": [
    {
     "name": "stderr",
     "output_type": "stream",
     "text": [
      "Compiling...\n",
      "Compilation time = 0:00:01.274681\n",
      "Sampling...\n"
     ]
    },
    {
     "data": {
      "application/vnd.jupyter.widget-view+json": {
       "model_id": "06ac8899ffb54c049bd0a3ade0b2fb3d",
       "version_major": 2,
       "version_minor": 0
      },
      "text/plain": [
       "  0%|          | 0/2500 [00:00<?, ?it/s]"
      ]
     },
     "metadata": {},
     "output_type": "display_data"
    },
    {
     "data": {
      "application/vnd.jupyter.widget-view+json": {
       "model_id": "4f352fbe82014bc78b2a94b23a9b59b0",
       "version_major": 2,
       "version_minor": 0
      },
      "text/plain": [
       "  0%|          | 0/2500 [00:00<?, ?it/s]"
      ]
     },
     "metadata": {},
     "output_type": "display_data"
    },
    {
     "data": {
      "application/vnd.jupyter.widget-view+json": {
       "model_id": "e8255f7bd4ca4c229406a6b1c62f9a7a",
       "version_major": 2,
       "version_minor": 0
      },
      "text/plain": [
       "  0%|          | 0/2500 [00:00<?, ?it/s]"
      ]
     },
     "metadata": {},
     "output_type": "display_data"
    },
    {
     "data": {
      "application/vnd.jupyter.widget-view+json": {
       "model_id": "6faeead049f74f6d9ab1490dd3509c08",
       "version_major": 2,
       "version_minor": 0
      },
      "text/plain": [
       "  0%|          | 0/2500 [00:00<?, ?it/s]"
      ]
     },
     "metadata": {},
     "output_type": "display_data"
    },
    {
     "name": "stderr",
     "output_type": "stream",
     "text": [
      "Sampling time = 0:00:02.651109\n",
      "Transforming variables...\n",
      "Transformation time = 0:00:10.758277\n"
     ]
    },
    {
     "name": "stdout",
     "output_type": "stream",
     "text": [
      "Model: king99_pareto_modification\n",
      "        Computed from the raw b_i samples by multiplying by population and then getting\n",
      "        the proportion of the total pop (total pop=summed across all districts):\n",
      "        The posterior mean for the district-level voting preference of\n",
      "        Asian for Henry McMaster (Republican Party) is\n",
      "        0.444\n",
      "        The posterior mean for the district-level voting preference of\n",
      "        non-Asian for Henry McMaster (Republican Party) is\n",
      "        0.615\n",
      "        95% equal-tailed Bayesian credible interval for district-level voting preference of\n",
      "        Asian for Henry McMaster (Republican Party) is\n",
      "        [0.05827534 0.89292198]\n",
      "        95% equal-tailed Bayesian credible interval for district-level voting preference of\n",
      "        non-Asian for Henry McMaster (Republican Party) is\n",
      "        [0.60842624 0.62156362]\n",
      "        \n"
     ]
    }
   ],
   "source": [
    "rep_asian_ei, rep_asian_summary = run_ecological_inference(\n",
    "    df=sc_race_merged_ei_df,\n",
    "    demographic_col=\"ASIAN_PERCENT\",\n",
    "    voting_col=\"REPUBLICAN_PERCENT\",\n",
    "    total_votes_col=\"TOT_VOT\",\n",
    "    demographic_group_name=\"Asian\",\n",
    "    candidate_name=sc_candidate_mapping['REPUBLICAN']\n",
    ")"
   ]
  },
  {
   "cell_type": "code",
   "execution_count": 438,
   "metadata": {},
   "outputs": [
    {
     "name": "stderr",
     "output_type": "stream",
     "text": [
      "Compiling...\n",
      "Compilation time = 0:00:01.404292\n",
      "Sampling...\n"
     ]
    },
    {
     "data": {
      "application/vnd.jupyter.widget-view+json": {
       "model_id": "0a318bd94c194d329c26f5760055b58d",
       "version_major": 2,
       "version_minor": 0
      },
      "text/plain": [
       "  0%|          | 0/2500 [00:00<?, ?it/s]"
      ]
     },
     "metadata": {},
     "output_type": "display_data"
    },
    {
     "data": {
      "application/vnd.jupyter.widget-view+json": {
       "model_id": "8d7550fe073c4a4cbd8ee58db3466e5c",
       "version_major": 2,
       "version_minor": 0
      },
      "text/plain": [
       "  0%|          | 0/2500 [00:00<?, ?it/s]"
      ]
     },
     "metadata": {},
     "output_type": "display_data"
    },
    {
     "data": {
      "application/vnd.jupyter.widget-view+json": {
       "model_id": "060db7fcc0d0488e9977a2e6adb0cff0",
       "version_major": 2,
       "version_minor": 0
      },
      "text/plain": [
       "  0%|          | 0/2500 [00:00<?, ?it/s]"
      ]
     },
     "metadata": {},
     "output_type": "display_data"
    },
    {
     "data": {
      "application/vnd.jupyter.widget-view+json": {
       "model_id": "88a39d5a9dd2484fa85413f5092c59b4",
       "version_major": 2,
       "version_minor": 0
      },
      "text/plain": [
       "  0%|          | 0/2500 [00:00<?, ?it/s]"
      ]
     },
     "metadata": {},
     "output_type": "display_data"
    },
    {
     "name": "stderr",
     "output_type": "stream",
     "text": [
      "Sampling time = 0:00:02.190417\n",
      "Transforming variables...\n",
      "Transformation time = 0:00:13.832679\n"
     ]
    },
    {
     "name": "stdout",
     "output_type": "stream",
     "text": [
      "Model: king99_pareto_modification\n",
      "        Computed from the raw b_i samples by multiplying by population and then getting\n",
      "        the proportion of the total pop (total pop=summed across all districts):\n",
      "        The posterior mean for the district-level voting preference of\n",
      "        Asian for Henry McMaster (Republican Party) is\n",
      "        0.375\n",
      "        The posterior mean for the district-level voting preference of\n",
      "        non-Asian for Henry McMaster (Republican Party) is\n",
      "        0.583\n",
      "        95% equal-tailed Bayesian credible interval for district-level voting preference of\n",
      "        Asian for Henry McMaster (Republican Party) is\n",
      "        [0.00296738 0.93486277]\n",
      "        95% equal-tailed Bayesian credible interval for district-level voting preference of\n",
      "        non-Asian for Henry McMaster (Republican Party) is\n",
      "        [0.57775882 0.58784877]\n",
      "        \n"
     ]
    }
   ],
   "source": [
    "rep_asian_ei_rural, rep_asian_summary_rural = run_ecological_inference(\n",
    "    df=sc_race_merged_ei_rural_df,\n",
    "    demographic_col=\"ASIAN_PERCENT\",\n",
    "    voting_col=\"REPUBLICAN_PERCENT\",\n",
    "    total_votes_col=\"TOT_VOT\",\n",
    "    demographic_group_name=\"Asian\",\n",
    "    candidate_name=sc_candidate_mapping['REPUBLICAN']\n",
    ")"
   ]
  },
  {
   "cell_type": "code",
   "execution_count": 439,
   "metadata": {},
   "outputs": [
    {
     "name": "stderr",
     "output_type": "stream",
     "text": [
      "Compiling...\n",
      "Compilation time = 0:00:01.336364\n",
      "Sampling...\n"
     ]
    },
    {
     "data": {
      "application/vnd.jupyter.widget-view+json": {
       "model_id": "b731fd874cd74377b36b97422687f327",
       "version_major": 2,
       "version_minor": 0
      },
      "text/plain": [
       "  0%|          | 0/2500 [00:00<?, ?it/s]"
      ]
     },
     "metadata": {},
     "output_type": "display_data"
    },
    {
     "data": {
      "application/vnd.jupyter.widget-view+json": {
       "model_id": "7aba95f009e64f2a98816781d7ff2ecd",
       "version_major": 2,
       "version_minor": 0
      },
      "text/plain": [
       "  0%|          | 0/2500 [00:00<?, ?it/s]"
      ]
     },
     "metadata": {},
     "output_type": "display_data"
    },
    {
     "data": {
      "application/vnd.jupyter.widget-view+json": {
       "model_id": "425a2a9fa289412ca114cb78147d034f",
       "version_major": 2,
       "version_minor": 0
      },
      "text/plain": [
       "  0%|          | 0/2500 [00:00<?, ?it/s]"
      ]
     },
     "metadata": {},
     "output_type": "display_data"
    },
    {
     "data": {
      "application/vnd.jupyter.widget-view+json": {
       "model_id": "916ed7043ed64f0aa5593bc78543e97f",
       "version_major": 2,
       "version_minor": 0
      },
      "text/plain": [
       "  0%|          | 0/2500 [00:00<?, ?it/s]"
      ]
     },
     "metadata": {},
     "output_type": "display_data"
    },
    {
     "name": "stderr",
     "output_type": "stream",
     "text": [
      "Sampling time = 0:00:01.982725\n",
      "Transforming variables...\n",
      "Transformation time = 0:00:12.511125\n"
     ]
    },
    {
     "name": "stdout",
     "output_type": "stream",
     "text": [
      "Model: king99_pareto_modification\n",
      "        Computed from the raw b_i samples by multiplying by population and then getting\n",
      "        the proportion of the total pop (total pop=summed across all districts):\n",
      "        The posterior mean for the district-level voting preference of\n",
      "        Asian for Henry McMaster (Republican Party) is\n",
      "        0.383\n",
      "        The posterior mean for the district-level voting preference of\n",
      "        non-Asian for Henry McMaster (Republican Party) is\n",
      "        0.584\n",
      "        95% equal-tailed Bayesian credible interval for district-level voting preference of\n",
      "        Asian for Henry McMaster (Republican Party) is\n",
      "        [0.09629048 0.85235297]\n",
      "        95% equal-tailed Bayesian credible interval for district-level voting preference of\n",
      "        non-Asian for Henry McMaster (Republican Party) is\n",
      "        [0.57187558 0.59194884]\n",
      "        \n"
     ]
    }
   ],
   "source": [
    "rep_asian_ei_suburban, rep_asian_summary_suburban = run_ecological_inference(\n",
    "    df=sc_race_merged_ei_suburban_df,\n",
    "    demographic_col=\"ASIAN_PERCENT\",\n",
    "    voting_col=\"REPUBLICAN_PERCENT\",\n",
    "    total_votes_col=\"TOT_VOT\",\n",
    "    demographic_group_name=\"Asian\",\n",
    "    candidate_name=sc_candidate_mapping['REPUBLICAN']\n",
    ")"
   ]
  },
  {
   "cell_type": "code",
   "execution_count": 440,
   "metadata": {},
   "outputs": [
    {
     "name": "stderr",
     "output_type": "stream",
     "text": [
      "Compiling...\n",
      "Compilation time = 0:00:01.228573\n",
      "Sampling...\n"
     ]
    },
    {
     "data": {
      "application/vnd.jupyter.widget-view+json": {
       "model_id": "1a7e76f72a934af6aaa8649f80b9517f",
       "version_major": 2,
       "version_minor": 0
      },
      "text/plain": [
       "  0%|          | 0/2500 [00:00<?, ?it/s]"
      ]
     },
     "metadata": {},
     "output_type": "display_data"
    },
    {
     "data": {
      "application/vnd.jupyter.widget-view+json": {
       "model_id": "13171455277b4bf39389e1bfc87d0839",
       "version_major": 2,
       "version_minor": 0
      },
      "text/plain": [
       "  0%|          | 0/2500 [00:00<?, ?it/s]"
      ]
     },
     "metadata": {},
     "output_type": "display_data"
    },
    {
     "data": {
      "application/vnd.jupyter.widget-view+json": {
       "model_id": "891a372eb570436c9501e7081b579da4",
       "version_major": 2,
       "version_minor": 0
      },
      "text/plain": [
       "  0%|          | 0/2500 [00:00<?, ?it/s]"
      ]
     },
     "metadata": {},
     "output_type": "display_data"
    },
    {
     "data": {
      "application/vnd.jupyter.widget-view+json": {
       "model_id": "f9aaf411e2494ff7a743b46945d9d9d3",
       "version_major": 2,
       "version_minor": 0
      },
      "text/plain": [
       "  0%|          | 0/2500 [00:00<?, ?it/s]"
      ]
     },
     "metadata": {},
     "output_type": "display_data"
    },
    {
     "name": "stderr",
     "output_type": "stream",
     "text": [
      "Sampling time = 0:00:01.877473\n",
      "Transforming variables...\n",
      "Transformation time = 0:00:14.592261\n"
     ]
    },
    {
     "name": "stdout",
     "output_type": "stream",
     "text": [
      "Model: king99_pareto_modification\n",
      "        Computed from the raw b_i samples by multiplying by population and then getting\n",
      "        the proportion of the total pop (total pop=summed across all districts):\n",
      "        The posterior mean for the district-level voting preference of\n",
      "        Asian for Henry McMaster (Republican Party) is\n",
      "        0.154\n",
      "        The posterior mean for the district-level voting preference of\n",
      "        non-Asian for Henry McMaster (Republican Party) is\n",
      "        0.612\n",
      "        95% equal-tailed Bayesian credible interval for district-level voting preference of\n",
      "        Asian for Henry McMaster (Republican Party) is\n",
      "        [0.01038163 0.55547444]\n",
      "        95% equal-tailed Bayesian credible interval for district-level voting preference of\n",
      "        non-Asian for Henry McMaster (Republican Party) is\n",
      "        [0.60238474 0.61677455]\n",
      "        \n"
     ]
    }
   ],
   "source": [
    "rep_asian_ei_urban, rep_asian_summary_urban = run_ecological_inference(\n",
    "    df=sc_race_merged_ei_urban_df,\n",
    "    demographic_col=\"ASIAN_PERCENT\",\n",
    "    voting_col=\"REPUBLICAN_PERCENT\",\n",
    "    total_votes_col=\"TOT_VOT\",\n",
    "    demographic_group_name=\"Asian\",\n",
    "    candidate_name=sc_candidate_mapping['REPUBLICAN']\n",
    ")"
   ]
  },
  {
   "cell_type": "code",
   "execution_count": 441,
   "metadata": {},
   "outputs": [
    {
     "name": "stderr",
     "output_type": "stream",
     "text": [
      "Compiling...\n",
      "Compilation time = 0:00:01.262157\n",
      "Sampling...\n"
     ]
    },
    {
     "data": {
      "application/vnd.jupyter.widget-view+json": {
       "model_id": "d5048e424e5942fb93f98a749db4c0fd",
       "version_major": 2,
       "version_minor": 0
      },
      "text/plain": [
       "  0%|          | 0/2500 [00:00<?, ?it/s]"
      ]
     },
     "metadata": {},
     "output_type": "display_data"
    },
    {
     "data": {
      "application/vnd.jupyter.widget-view+json": {
       "model_id": "b9fcd0d78c364ef9828277408efab675",
       "version_major": 2,
       "version_minor": 0
      },
      "text/plain": [
       "  0%|          | 0/2500 [00:00<?, ?it/s]"
      ]
     },
     "metadata": {},
     "output_type": "display_data"
    },
    {
     "data": {
      "application/vnd.jupyter.widget-view+json": {
       "model_id": "fc2bbc7297dd48b79450db239017b6c7",
       "version_major": 2,
       "version_minor": 0
      },
      "text/plain": [
       "  0%|          | 0/2500 [00:00<?, ?it/s]"
      ]
     },
     "metadata": {},
     "output_type": "display_data"
    },
    {
     "data": {
      "application/vnd.jupyter.widget-view+json": {
       "model_id": "da65c5b69b4a4dcfa144b6642b979bfa",
       "version_major": 2,
       "version_minor": 0
      },
      "text/plain": [
       "  0%|          | 0/2500 [00:00<?, ?it/s]"
      ]
     },
     "metadata": {},
     "output_type": "display_data"
    },
    {
     "name": "stderr",
     "output_type": "stream",
     "text": [
      "Sampling time = 0:00:02.297819\n",
      "Transforming variables...\n",
      "Transformation time = 0:00:18.710674\n"
     ]
    },
    {
     "name": "stdout",
     "output_type": "stream",
     "text": [
      "Model: king99_pareto_modification\n",
      "        Computed from the raw b_i samples by multiplying by population and then getting\n",
      "        the proportion of the total pop (total pop=summed across all districts):\n",
      "        The posterior mean for the district-level voting preference of\n",
      "        Hispanic for Henry McMaster (Republican Party) is\n",
      "        0.169\n",
      "        The posterior mean for the district-level voting preference of\n",
      "        non-Hispanic for Henry McMaster (Republican Party) is\n",
      "        0.637\n",
      "        95% equal-tailed Bayesian credible interval for district-level voting preference of\n",
      "        Hispanic for Henry McMaster (Republican Party) is\n",
      "        [0.01223015 0.41240426]\n",
      "        95% equal-tailed Bayesian credible interval for district-level voting preference of\n",
      "        non-Hispanic for Henry McMaster (Republican Party) is\n",
      "        [0.62255158 0.64628853]\n",
      "        \n"
     ]
    }
   ],
   "source": [
    "rep_hispanic_ei, rep_hispanic_summary = run_ecological_inference(\n",
    "    df=sc_race_merged_ei_df,\n",
    "    demographic_col=\"HISPANIC_PERCENT\",\n",
    "    voting_col=\"REPUBLICAN_PERCENT\",\n",
    "    total_votes_col=\"TOT_VOT\",\n",
    "    demographic_group_name=\"Hispanic\",\n",
    "    candidate_name=sc_candidate_mapping['REPUBLICAN']\n",
    ")"
   ]
  },
  {
   "cell_type": "code",
   "execution_count": 442,
   "metadata": {},
   "outputs": [
    {
     "name": "stderr",
     "output_type": "stream",
     "text": [
      "Compiling...\n",
      "Compilation time = 0:00:04.937825\n",
      "Sampling...\n"
     ]
    },
    {
     "data": {
      "application/vnd.jupyter.widget-view+json": {
       "model_id": "63281a5d3b7b48c98557d3bd43280cc6",
       "version_major": 2,
       "version_minor": 0
      },
      "text/plain": [
       "  0%|          | 0/2500 [00:00<?, ?it/s]"
      ]
     },
     "metadata": {},
     "output_type": "display_data"
    },
    {
     "data": {
      "application/vnd.jupyter.widget-view+json": {
       "model_id": "ca3eb870b6e640fbb98532b2e6bbf2b0",
       "version_major": 2,
       "version_minor": 0
      },
      "text/plain": [
       "  0%|          | 0/2500 [00:00<?, ?it/s]"
      ]
     },
     "metadata": {},
     "output_type": "display_data"
    },
    {
     "data": {
      "application/vnd.jupyter.widget-view+json": {
       "model_id": "a362a4bac0ea4a49bcfe5f7d6eb13495",
       "version_major": 2,
       "version_minor": 0
      },
      "text/plain": [
       "  0%|          | 0/2500 [00:00<?, ?it/s]"
      ]
     },
     "metadata": {},
     "output_type": "display_data"
    },
    {
     "data": {
      "application/vnd.jupyter.widget-view+json": {
       "model_id": "48c494fe624d4915b7a47cdec0998985",
       "version_major": 2,
       "version_minor": 0
      },
      "text/plain": [
       "  0%|          | 0/2500 [00:00<?, ?it/s]"
      ]
     },
     "metadata": {},
     "output_type": "display_data"
    },
    {
     "name": "stderr",
     "output_type": "stream",
     "text": [
      "Sampling time = 0:00:02.082913\n",
      "Transforming variables...\n",
      "Transformation time = 0:00:22.323037\n"
     ]
    },
    {
     "name": "stdout",
     "output_type": "stream",
     "text": [
      "Model: king99_pareto_modification\n",
      "        Computed from the raw b_i samples by multiplying by population and then getting\n",
      "        the proportion of the total pop (total pop=summed across all districts):\n",
      "        The posterior mean for the district-level voting preference of\n",
      "        Hispanic for Henry McMaster (Republican Party) is\n",
      "        0.254\n",
      "        The posterior mean for the district-level voting preference of\n",
      "        non-Hispanic for Henry McMaster (Republican Party) is\n",
      "        0.592\n",
      "        95% equal-tailed Bayesian credible interval for district-level voting preference of\n",
      "        Hispanic for Henry McMaster (Republican Party) is\n",
      "        [0.03573202 0.62188472]\n",
      "        95% equal-tailed Bayesian credible interval for district-level voting preference of\n",
      "        non-Hispanic for Henry McMaster (Republican Party) is\n",
      "        [0.57851122 0.60097935]\n",
      "        \n"
     ]
    }
   ],
   "source": [
    "rep_hispanic_ei_rural, rep_hispanic_summary_rural = run_ecological_inference(\n",
    "    df=sc_race_merged_ei_rural_df,\n",
    "    demographic_col=\"HISPANIC_PERCENT\",\n",
    "    voting_col=\"REPUBLICAN_PERCENT\",\n",
    "    total_votes_col=\"TOT_VOT\",\n",
    "    demographic_group_name=\"Hispanic\",\n",
    "    candidate_name=sc_candidate_mapping['REPUBLICAN']\n",
    ")"
   ]
  },
  {
   "cell_type": "code",
   "execution_count": 443,
   "metadata": {},
   "outputs": [
    {
     "name": "stderr",
     "output_type": "stream",
     "text": [
      "Compiling...\n",
      "Compilation time = 0:00:01.302044\n",
      "Sampling...\n"
     ]
    },
    {
     "data": {
      "application/vnd.jupyter.widget-view+json": {
       "model_id": "edd008146749427db8a4dedff3e842b1",
       "version_major": 2,
       "version_minor": 0
      },
      "text/plain": [
       "  0%|          | 0/2500 [00:00<?, ?it/s]"
      ]
     },
     "metadata": {},
     "output_type": "display_data"
    },
    {
     "data": {
      "application/vnd.jupyter.widget-view+json": {
       "model_id": "7c4baa0b822b404b89141071c0479a94",
       "version_major": 2,
       "version_minor": 0
      },
      "text/plain": [
       "  0%|          | 0/2500 [00:00<?, ?it/s]"
      ]
     },
     "metadata": {},
     "output_type": "display_data"
    },
    {
     "data": {
      "application/vnd.jupyter.widget-view+json": {
       "model_id": "34bd27097e7e4aaba1739c7974fabcff",
       "version_major": 2,
       "version_minor": 0
      },
      "text/plain": [
       "  0%|          | 0/2500 [00:00<?, ?it/s]"
      ]
     },
     "metadata": {},
     "output_type": "display_data"
    },
    {
     "data": {
      "application/vnd.jupyter.widget-view+json": {
       "model_id": "c0b4465a3dba46be913f9e6232c0828d",
       "version_major": 2,
       "version_minor": 0
      },
      "text/plain": [
       "  0%|          | 0/2500 [00:00<?, ?it/s]"
      ]
     },
     "metadata": {},
     "output_type": "display_data"
    },
    {
     "name": "stderr",
     "output_type": "stream",
     "text": [
      "Sampling time = 0:00:02.357113\n",
      "Transforming variables...\n",
      "Transformation time = 0:00:24.327489\n"
     ]
    },
    {
     "name": "stdout",
     "output_type": "stream",
     "text": [
      "Model: king99_pareto_modification\n",
      "        Computed from the raw b_i samples by multiplying by population and then getting\n",
      "        the proportion of the total pop (total pop=summed across all districts):\n",
      "        The posterior mean for the district-level voting preference of\n",
      "        Hispanic for Henry McMaster (Republican Party) is\n",
      "        0.246\n",
      "        The posterior mean for the district-level voting preference of\n",
      "        non-Hispanic for Henry McMaster (Republican Party) is\n",
      "        0.607\n",
      "        95% equal-tailed Bayesian credible interval for district-level voting preference of\n",
      "        Hispanic for Henry McMaster (Republican Party) is\n",
      "        [0.05601038 0.53245512]\n",
      "        95% equal-tailed Bayesian credible interval for district-level voting preference of\n",
      "        non-Hispanic for Henry McMaster (Republican Party) is\n",
      "        [0.58346503 0.62261474]\n",
      "        \n"
     ]
    }
   ],
   "source": [
    "rep_hispanic_ei_suburban, rep_hispanic_summary_suburban = run_ecological_inference(\n",
    "    df=sc_race_merged_ei_suburban_df,\n",
    "    demographic_col=\"HISPANIC_PERCENT\",\n",
    "    voting_col=\"REPUBLICAN_PERCENT\",\n",
    "    total_votes_col=\"TOT_VOT\",\n",
    "    demographic_group_name=\"Hispanic\",\n",
    "    candidate_name=sc_candidate_mapping['REPUBLICAN']\n",
    ")"
   ]
  },
  {
   "cell_type": "code",
   "execution_count": 444,
   "metadata": {},
   "outputs": [
    {
     "name": "stderr",
     "output_type": "stream",
     "text": [
      "Compiling...\n",
      "Compilation time = 0:00:01.215295\n",
      "Sampling...\n"
     ]
    },
    {
     "data": {
      "application/vnd.jupyter.widget-view+json": {
       "model_id": "698155f670bd457cad035e48d7dcb996",
       "version_major": 2,
       "version_minor": 0
      },
      "text/plain": [
       "  0%|          | 0/2500 [00:00<?, ?it/s]"
      ]
     },
     "metadata": {},
     "output_type": "display_data"
    },
    {
     "data": {
      "application/vnd.jupyter.widget-view+json": {
       "model_id": "2ab70e0ad1194e75b8915ae5022cecc2",
       "version_major": 2,
       "version_minor": 0
      },
      "text/plain": [
       "  0%|          | 0/2500 [00:00<?, ?it/s]"
      ]
     },
     "metadata": {},
     "output_type": "display_data"
    },
    {
     "data": {
      "application/vnd.jupyter.widget-view+json": {
       "model_id": "968e654cac934962ad7cddb6982e0d11",
       "version_major": 2,
       "version_minor": 0
      },
      "text/plain": [
       "  0%|          | 0/2500 [00:00<?, ?it/s]"
      ]
     },
     "metadata": {},
     "output_type": "display_data"
    },
    {
     "data": {
      "application/vnd.jupyter.widget-view+json": {
       "model_id": "96189c4308084fa1ade125a39e287e4a",
       "version_major": 2,
       "version_minor": 0
      },
      "text/plain": [
       "  0%|          | 0/2500 [00:00<?, ?it/s]"
      ]
     },
     "metadata": {},
     "output_type": "display_data"
    },
    {
     "name": "stderr",
     "output_type": "stream",
     "text": [
      "Sampling time = 0:00:02.006003\n",
      "Transforming variables...\n",
      "Transformation time = 0:00:11.701797\n"
     ]
    },
    {
     "name": "stdout",
     "output_type": "stream",
     "text": [
      "Model: king99_pareto_modification\n",
      "        Computed from the raw b_i samples by multiplying by population and then getting\n",
      "        the proportion of the total pop (total pop=summed across all districts):\n",
      "        The posterior mean for the district-level voting preference of\n",
      "        Hispanic for Henry McMaster (Republican Party) is\n",
      "        0.345\n",
      "        The posterior mean for the district-level voting preference of\n",
      "        non-Hispanic for Henry McMaster (Republican Party) is\n",
      "        0.622\n",
      "        95% equal-tailed Bayesian credible interval for district-level voting preference of\n",
      "        Hispanic for Henry McMaster (Republican Party) is\n",
      "        [0.07656643 0.66855293]\n",
      "        95% equal-tailed Bayesian credible interval for district-level voting preference of\n",
      "        non-Hispanic for Henry McMaster (Republican Party) is\n",
      "        [0.5971112  0.64307283]\n",
      "        \n"
     ]
    }
   ],
   "source": [
    "rep_hispanic_ei_urban, rep_hispanic_summary_urban = run_ecological_inference(\n",
    "    df=sc_race_merged_ei_urban_df,\n",
    "    demographic_col=\"HISPANIC_PERCENT\",\n",
    "    voting_col=\"REPUBLICAN_PERCENT\",\n",
    "    total_votes_col=\"TOT_VOT\",\n",
    "    demographic_group_name=\"Hispanic\",\n",
    "    candidate_name=sc_candidate_mapping['REPUBLICAN']\n",
    ")"
   ]
  },
  {
   "cell_type": "markdown",
   "metadata": {},
   "source": [
    "#### Econ Run"
   ]
  },
  {
   "cell_type": "markdown",
   "metadata": {},
   "source": [
    "##### Dem Run"
   ]
  },
  {
   "cell_type": "code",
   "execution_count": 445,
   "metadata": {},
   "outputs": [
    {
     "name": "stderr",
     "output_type": "stream",
     "text": [
      "Compiling...\n",
      "Compilation time = 0:00:01.190088\n",
      "Sampling...\n"
     ]
    },
    {
     "data": {
      "application/vnd.jupyter.widget-view+json": {
       "model_id": "06a66dfc381d44f28bd3596d5ac5cbf7",
       "version_major": 2,
       "version_minor": 0
      },
      "text/plain": [
       "  0%|          | 0/2500 [00:00<?, ?it/s]"
      ]
     },
     "metadata": {},
     "output_type": "display_data"
    },
    {
     "data": {
      "application/vnd.jupyter.widget-view+json": {
       "model_id": "036ca434fcd5466a951780f20c2548a9",
       "version_major": 2,
       "version_minor": 0
      },
      "text/plain": [
       "  0%|          | 0/2500 [00:00<?, ?it/s]"
      ]
     },
     "metadata": {},
     "output_type": "display_data"
    },
    {
     "data": {
      "application/vnd.jupyter.widget-view+json": {
       "model_id": "08f94209751b4a90b2bc9673388e67b2",
       "version_major": 2,
       "version_minor": 0
      },
      "text/plain": [
       "  0%|          | 0/2500 [00:00<?, ?it/s]"
      ]
     },
     "metadata": {},
     "output_type": "display_data"
    },
    {
     "data": {
      "application/vnd.jupyter.widget-view+json": {
       "model_id": "d2482e499e22481c90106f283c109a1d",
       "version_major": 2,
       "version_minor": 0
      },
      "text/plain": [
       "  0%|          | 0/2500 [00:00<?, ?it/s]"
      ]
     },
     "metadata": {},
     "output_type": "display_data"
    },
    {
     "name": "stderr",
     "output_type": "stream",
     "text": [
      "Sampling time = 0:00:02.084546\n",
      "Transforming variables...\n",
      "Transformation time = 0:00:17.697517\n"
     ]
    },
    {
     "name": "stdout",
     "output_type": "stream",
     "text": [
      "Model: king99_pareto_modification\n",
      "        Computed from the raw b_i samples by multiplying by population and then getting\n",
      "        the proportion of the total pop (total pop=summed across all districts):\n",
      "        The posterior mean for the district-level voting preference of\n",
      "        $0-$35,000 for Joe Cunningham (Democratic Party) is\n",
      "        0.636\n",
      "        The posterior mean for the district-level voting preference of\n",
      "        non-$0-$35,000 for Joe Cunningham (Democratic Party) is\n",
      "        0.342\n",
      "        95% equal-tailed Bayesian credible interval for district-level voting preference of\n",
      "        $0-$35,000 for Joe Cunningham (Democratic Party) is\n",
      "        [0.50920862 0.74858979]\n",
      "        95% equal-tailed Bayesian credible interval for district-level voting preference of\n",
      "        non-$0-$35,000 for Joe Cunningham (Democratic Party) is\n",
      "        [0.30835459 0.38064602]\n",
      "        \n"
     ]
    }
   ],
   "source": [
    "dem_0_35_ei, dem_0_35_summary = run_ecological_inference(\n",
    "    df=sc_economic_merged_ei_df,\n",
    "    demographic_col=\"0_35K_PERCENT\",\n",
    "    voting_col=\"DEMOCRATIC_PERCENT\",\n",
    "    total_votes_col=\"TOT_VOT\",\n",
    "    demographic_group_name=\"$0-$35,000\",\n",
    "    candidate_name=sc_candidate_mapping['DEMOCRATIC']\n",
    ")"
   ]
  },
  {
   "cell_type": "code",
   "execution_count": 446,
   "metadata": {},
   "outputs": [
    {
     "name": "stderr",
     "output_type": "stream",
     "text": [
      "Compiling...\n",
      "Compilation time = 0:00:01.210246\n",
      "Sampling...\n"
     ]
    },
    {
     "data": {
      "application/vnd.jupyter.widget-view+json": {
       "model_id": "7bcd781310d744a2b66e4a263e90f335",
       "version_major": 2,
       "version_minor": 0
      },
      "text/plain": [
       "  0%|          | 0/2500 [00:00<?, ?it/s]"
      ]
     },
     "metadata": {},
     "output_type": "display_data"
    },
    {
     "data": {
      "application/vnd.jupyter.widget-view+json": {
       "model_id": "acc78e7d53064d6c88caa123aab6a074",
       "version_major": 2,
       "version_minor": 0
      },
      "text/plain": [
       "  0%|          | 0/2500 [00:00<?, ?it/s]"
      ]
     },
     "metadata": {},
     "output_type": "display_data"
    },
    {
     "data": {
      "application/vnd.jupyter.widget-view+json": {
       "model_id": "8fd24746d2fc4de9bfd71b60bbd315ac",
       "version_major": 2,
       "version_minor": 0
      },
      "text/plain": [
       "  0%|          | 0/2500 [00:00<?, ?it/s]"
      ]
     },
     "metadata": {},
     "output_type": "display_data"
    },
    {
     "data": {
      "application/vnd.jupyter.widget-view+json": {
       "model_id": "f4ba579043d04ad6a6207b0241ef901e",
       "version_major": 2,
       "version_minor": 0
      },
      "text/plain": [
       "  0%|          | 0/2500 [00:00<?, ?it/s]"
      ]
     },
     "metadata": {},
     "output_type": "display_data"
    },
    {
     "name": "stderr",
     "output_type": "stream",
     "text": [
      "Sampling time = 0:00:02.259683\n",
      "Transforming variables...\n",
      "Transformation time = 0:00:17.360628\n"
     ]
    },
    {
     "name": "stdout",
     "output_type": "stream",
     "text": [
      "Model: king99_pareto_modification\n",
      "        Computed from the raw b_i samples by multiplying by population and then getting\n",
      "        the proportion of the total pop (total pop=summed across all districts):\n",
      "        The posterior mean for the district-level voting preference of\n",
      "        $0-$35,000 for Joe Cunningham (Democratic Party) is\n",
      "        0.564\n",
      "        The posterior mean for the district-level voting preference of\n",
      "        non-$0-$35,000 for Joe Cunningham (Democratic Party) is\n",
      "        0.370\n",
      "        95% equal-tailed Bayesian credible interval for district-level voting preference of\n",
      "        $0-$35,000 for Joe Cunningham (Democratic Party) is\n",
      "        [0.4489041  0.66858943]\n",
      "        95% equal-tailed Bayesian credible interval for district-level voting preference of\n",
      "        non-$0-$35,000 for Joe Cunningham (Democratic Party) is\n",
      "        [0.33230706 0.41095475]\n",
      "        \n"
     ]
    }
   ],
   "source": [
    "dem_0_35_ei_rural, dem_0_35_summary_rural = run_ecological_inference(\n",
    "    df=sc_economic_merged_ei_rural_df,\n",
    "    demographic_col=\"0_35K_PERCENT\",\n",
    "    voting_col=\"DEMOCRATIC_PERCENT\",\n",
    "    total_votes_col=\"TOT_VOT\",\n",
    "    demographic_group_name=\"$0-$35,000\",\n",
    "    candidate_name=sc_candidate_mapping['DEMOCRATIC']\n",
    ")"
   ]
  },
  {
   "cell_type": "code",
   "execution_count": 447,
   "metadata": {},
   "outputs": [
    {
     "name": "stderr",
     "output_type": "stream",
     "text": [
      "Compiling...\n",
      "Compilation time = 0:00:01.185102\n",
      "Sampling...\n"
     ]
    },
    {
     "data": {
      "application/vnd.jupyter.widget-view+json": {
       "model_id": "478e04d34ccf4367ae238d97b953b746",
       "version_major": 2,
       "version_minor": 0
      },
      "text/plain": [
       "  0%|          | 0/2500 [00:00<?, ?it/s]"
      ]
     },
     "metadata": {},
     "output_type": "display_data"
    },
    {
     "data": {
      "application/vnd.jupyter.widget-view+json": {
       "model_id": "6a5ff7e064b9433a99034075dcfda70c",
       "version_major": 2,
       "version_minor": 0
      },
      "text/plain": [
       "  0%|          | 0/2500 [00:00<?, ?it/s]"
      ]
     },
     "metadata": {},
     "output_type": "display_data"
    },
    {
     "data": {
      "application/vnd.jupyter.widget-view+json": {
       "model_id": "9026003da0734e44b211bf68f0528f0a",
       "version_major": 2,
       "version_minor": 0
      },
      "text/plain": [
       "  0%|          | 0/2500 [00:00<?, ?it/s]"
      ]
     },
     "metadata": {},
     "output_type": "display_data"
    },
    {
     "data": {
      "application/vnd.jupyter.widget-view+json": {
       "model_id": "7de3606c0dd0440181fad48a9c2d00af",
       "version_major": 2,
       "version_minor": 0
      },
      "text/plain": [
       "  0%|          | 0/2500 [00:00<?, ?it/s]"
      ]
     },
     "metadata": {},
     "output_type": "display_data"
    },
    {
     "name": "stderr",
     "output_type": "stream",
     "text": [
      "Sampling time = 0:00:04.771492\n",
      "Transforming variables...\n",
      "Transformation time = 0:00:18.864438\n"
     ]
    },
    {
     "name": "stdout",
     "output_type": "stream",
     "text": [
      "Model: king99_pareto_modification\n",
      "        Computed from the raw b_i samples by multiplying by population and then getting\n",
      "        the proportion of the total pop (total pop=summed across all districts):\n",
      "        The posterior mean for the district-level voting preference of\n",
      "        $0-$35,000 for Joe Cunningham (Democratic Party) is\n",
      "        0.642\n",
      "        The posterior mean for the district-level voting preference of\n",
      "        non-$0-$35,000 for Joe Cunningham (Democratic Party) is\n",
      "        0.354\n",
      "        95% equal-tailed Bayesian credible interval for district-level voting preference of\n",
      "        $0-$35,000 for Joe Cunningham (Democratic Party) is\n",
      "        [0.52116911 0.75442519]\n",
      "        95% equal-tailed Bayesian credible interval for district-level voting preference of\n",
      "        non-$0-$35,000 for Joe Cunningham (Democratic Party) is\n",
      "        [0.319208  0.3925246]\n",
      "        \n"
     ]
    }
   ],
   "source": [
    "dem_0_35_ei_suburban, dem_0_35_summary_suburban = run_ecological_inference(\n",
    "    df=sc_economic_merged_ei_suburban_df,\n",
    "    demographic_col=\"0_35K_PERCENT\",\n",
    "    voting_col=\"DEMOCRATIC_PERCENT\",\n",
    "    total_votes_col=\"TOT_VOT\",\n",
    "    demographic_group_name=\"$0-$35,000\",\n",
    "    candidate_name=sc_candidate_mapping['DEMOCRATIC']\n",
    ")"
   ]
  },
  {
   "cell_type": "code",
   "execution_count": 448,
   "metadata": {},
   "outputs": [
    {
     "name": "stderr",
     "output_type": "stream",
     "text": [
      "Compiling...\n",
      "Compilation time = 0:00:01.385696\n",
      "Sampling...\n"
     ]
    },
    {
     "data": {
      "application/vnd.jupyter.widget-view+json": {
       "model_id": "b4222879eb2045a89ab309f533b72355",
       "version_major": 2,
       "version_minor": 0
      },
      "text/plain": [
       "  0%|          | 0/2500 [00:00<?, ?it/s]"
      ]
     },
     "metadata": {},
     "output_type": "display_data"
    },
    {
     "data": {
      "application/vnd.jupyter.widget-view+json": {
       "model_id": "27aeb27f04634ef9976db14032251cc8",
       "version_major": 2,
       "version_minor": 0
      },
      "text/plain": [
       "  0%|          | 0/2500 [00:00<?, ?it/s]"
      ]
     },
     "metadata": {},
     "output_type": "display_data"
    },
    {
     "data": {
      "application/vnd.jupyter.widget-view+json": {
       "model_id": "4c59faf8a2844b079409d01c5b59a9af",
       "version_major": 2,
       "version_minor": 0
      },
      "text/plain": [
       "  0%|          | 0/2500 [00:00<?, ?it/s]"
      ]
     },
     "metadata": {},
     "output_type": "display_data"
    },
    {
     "data": {
      "application/vnd.jupyter.widget-view+json": {
       "model_id": "17fadaa1e0c94ad89eaf9c935ff4ae43",
       "version_major": 2,
       "version_minor": 0
      },
      "text/plain": [
       "  0%|          | 0/2500 [00:00<?, ?it/s]"
      ]
     },
     "metadata": {},
     "output_type": "display_data"
    },
    {
     "name": "stderr",
     "output_type": "stream",
     "text": [
      "Sampling time = 0:00:02.119385\n",
      "Transforming variables...\n",
      "Transformation time = 0:00:19.810804\n"
     ]
    },
    {
     "name": "stdout",
     "output_type": "stream",
     "text": [
      "Model: king99_pareto_modification\n",
      "        Computed from the raw b_i samples by multiplying by population and then getting\n",
      "        the proportion of the total pop (total pop=summed across all districts):\n",
      "        The posterior mean for the district-level voting preference of\n",
      "        $0-$35,000 for Joe Cunningham (Democratic Party) is\n",
      "        0.644\n",
      "        The posterior mean for the district-level voting preference of\n",
      "        non-$0-$35,000 for Joe Cunningham (Democratic Party) is\n",
      "        0.337\n",
      "        95% equal-tailed Bayesian credible interval for district-level voting preference of\n",
      "        $0-$35,000 for Joe Cunningham (Democratic Party) is\n",
      "        [0.48676505 0.77790372]\n",
      "        95% equal-tailed Bayesian credible interval for district-level voting preference of\n",
      "        non-$0-$35,000 for Joe Cunningham (Democratic Party) is\n",
      "        [0.30546145 0.37548426]\n",
      "        \n"
     ]
    }
   ],
   "source": [
    "dem_0_35_ei_urban, dem_0_35_summary_urban = run_ecological_inference(\n",
    "    df=sc_economic_merged_ei_urban_df,\n",
    "    demographic_col=\"0_35K_PERCENT\",\n",
    "    voting_col=\"DEMOCRATIC_PERCENT\",\n",
    "    total_votes_col=\"TOT_VOT\",\n",
    "    demographic_group_name=\"$0-$35,000\",\n",
    "    candidate_name=sc_candidate_mapping['DEMOCRATIC']\n",
    ")"
   ]
  },
  {
   "cell_type": "code",
   "execution_count": 449,
   "metadata": {},
   "outputs": [
    {
     "name": "stderr",
     "output_type": "stream",
     "text": [
      "Compiling...\n",
      "Compilation time = 0:00:01.438596\n",
      "Sampling...\n"
     ]
    },
    {
     "data": {
      "application/vnd.jupyter.widget-view+json": {
       "model_id": "6d951ade1ecd4503a6a78074b3f07b32",
       "version_major": 2,
       "version_minor": 0
      },
      "text/plain": [
       "  0%|          | 0/2500 [00:00<?, ?it/s]"
      ]
     },
     "metadata": {},
     "output_type": "display_data"
    },
    {
     "data": {
      "application/vnd.jupyter.widget-view+json": {
       "model_id": "1616b2c1fa3442b381859fc755d08468",
       "version_major": 2,
       "version_minor": 0
      },
      "text/plain": [
       "  0%|          | 0/2500 [00:00<?, ?it/s]"
      ]
     },
     "metadata": {},
     "output_type": "display_data"
    },
    {
     "data": {
      "application/vnd.jupyter.widget-view+json": {
       "model_id": "57a8d36f61374a539d2aab0d1c304033",
       "version_major": 2,
       "version_minor": 0
      },
      "text/plain": [
       "  0%|          | 0/2500 [00:00<?, ?it/s]"
      ]
     },
     "metadata": {},
     "output_type": "display_data"
    },
    {
     "data": {
      "application/vnd.jupyter.widget-view+json": {
       "model_id": "972c578002884d8d88e53252bc66e80d",
       "version_major": 2,
       "version_minor": 0
      },
      "text/plain": [
       "  0%|          | 0/2500 [00:00<?, ?it/s]"
      ]
     },
     "metadata": {},
     "output_type": "display_data"
    },
    {
     "name": "stderr",
     "output_type": "stream",
     "text": [
      "Sampling time = 0:00:02.587972\n",
      "Transforming variables...\n",
      "Transformation time = 0:00:18.473326\n"
     ]
    },
    {
     "name": "stdout",
     "output_type": "stream",
     "text": [
      "Model: king99_pareto_modification\n",
      "        Computed from the raw b_i samples by multiplying by population and then getting\n",
      "        the proportion of the total pop (total pop=summed across all districts):\n",
      "        The posterior mean for the district-level voting preference of\n",
      "        $35,000-$60,000 for Joe Cunningham (Democratic Party) is\n",
      "        0.605\n",
      "        The posterior mean for the district-level voting preference of\n",
      "        non-$35,000-$60,000 for Joe Cunningham (Democratic Party) is\n",
      "        0.367\n",
      "        95% equal-tailed Bayesian credible interval for district-level voting preference of\n",
      "        $35,000-$60,000 for Joe Cunningham (Democratic Party) is\n",
      "        [0.40723579 0.79367214]\n",
      "        95% equal-tailed Bayesian credible interval for district-level voting preference of\n",
      "        non-$35,000-$60,000 for Joe Cunningham (Democratic Party) is\n",
      "        [0.32770319 0.40863896]\n",
      "        \n"
     ]
    }
   ],
   "source": [
    "dem_35_60_ei, dem_35_60_summary = run_ecological_inference(\n",
    "    df=sc_economic_merged_ei_df,\n",
    "    demographic_col=\"35K_60K_PERCENT\",\n",
    "    voting_col=\"DEMOCRATIC_PERCENT\",\n",
    "    total_votes_col=\"TOT_VOT\",\n",
    "    demographic_group_name=\"$35,000-$60,000\",\n",
    "    candidate_name=sc_candidate_mapping['DEMOCRATIC']\n",
    ")"
   ]
  },
  {
   "cell_type": "code",
   "execution_count": 450,
   "metadata": {},
   "outputs": [
    {
     "name": "stderr",
     "output_type": "stream",
     "text": [
      "Compiling...\n",
      "Compilation time = 0:00:01.368037\n",
      "Sampling...\n"
     ]
    },
    {
     "data": {
      "application/vnd.jupyter.widget-view+json": {
       "model_id": "b6d33bf031fe456ab7e9f148bfdda950",
       "version_major": 2,
       "version_minor": 0
      },
      "text/plain": [
       "  0%|          | 0/2500 [00:00<?, ?it/s]"
      ]
     },
     "metadata": {},
     "output_type": "display_data"
    },
    {
     "data": {
      "application/vnd.jupyter.widget-view+json": {
       "model_id": "0613d3d24b91462295a86d7db43b3ed7",
       "version_major": 2,
       "version_minor": 0
      },
      "text/plain": [
       "  0%|          | 0/2500 [00:00<?, ?it/s]"
      ]
     },
     "metadata": {},
     "output_type": "display_data"
    },
    {
     "data": {
      "application/vnd.jupyter.widget-view+json": {
       "model_id": "b5f67e5a66664adc9fe8e46e4b627845",
       "version_major": 2,
       "version_minor": 0
      },
      "text/plain": [
       "  0%|          | 0/2500 [00:00<?, ?it/s]"
      ]
     },
     "metadata": {},
     "output_type": "display_data"
    },
    {
     "data": {
      "application/vnd.jupyter.widget-view+json": {
       "model_id": "144ad538821d447aa86cb559db48ef59",
       "version_major": 2,
       "version_minor": 0
      },
      "text/plain": [
       "  0%|          | 0/2500 [00:00<?, ?it/s]"
      ]
     },
     "metadata": {},
     "output_type": "display_data"
    },
    {
     "name": "stderr",
     "output_type": "stream",
     "text": [
      "Sampling time = 0:00:01.921088\n",
      "Transforming variables...\n",
      "Transformation time = 0:00:13.398060\n"
     ]
    },
    {
     "name": "stdout",
     "output_type": "stream",
     "text": [
      "Model: king99_pareto_modification\n",
      "        Computed from the raw b_i samples by multiplying by population and then getting\n",
      "        the proportion of the total pop (total pop=summed across all districts):\n",
      "        The posterior mean for the district-level voting preference of\n",
      "        $35,000-$60,000 for Joe Cunningham (Democratic Party) is\n",
      "        0.532\n",
      "        The posterior mean for the district-level voting preference of\n",
      "        non-$35,000-$60,000 for Joe Cunningham (Democratic Party) is\n",
      "        0.398\n",
      "        95% equal-tailed Bayesian credible interval for district-level voting preference of\n",
      "        $35,000-$60,000 for Joe Cunningham (Democratic Party) is\n",
      "        [0.35200591 0.69027431]\n",
      "        95% equal-tailed Bayesian credible interval for district-level voting preference of\n",
      "        non-$35,000-$60,000 for Joe Cunningham (Democratic Party) is\n",
      "        [0.36543653 0.43710305]\n",
      "        \n"
     ]
    }
   ],
   "source": [
    "dem_35_60_ei_rural, dem_35_60_summary_rural = run_ecological_inference(\n",
    "    df=sc_economic_merged_ei_rural_df,\n",
    "    demographic_col=\"35K_60K_PERCENT\",\n",
    "    voting_col=\"DEMOCRATIC_PERCENT\",\n",
    "    total_votes_col=\"TOT_VOT\",\n",
    "    demographic_group_name=\"$35,000-$60,000\",\n",
    "    candidate_name=sc_candidate_mapping['DEMOCRATIC']\n",
    ")"
   ]
  },
  {
   "cell_type": "code",
   "execution_count": 451,
   "metadata": {},
   "outputs": [
    {
     "name": "stderr",
     "output_type": "stream",
     "text": [
      "Compiling...\n",
      "Compilation time = 0:00:01.187128\n",
      "Sampling...\n"
     ]
    },
    {
     "data": {
      "application/vnd.jupyter.widget-view+json": {
       "model_id": "bd050ca5bdbb4536ad0dc0799902263a",
       "version_major": 2,
       "version_minor": 0
      },
      "text/plain": [
       "  0%|          | 0/2500 [00:00<?, ?it/s]"
      ]
     },
     "metadata": {},
     "output_type": "display_data"
    },
    {
     "data": {
      "application/vnd.jupyter.widget-view+json": {
       "model_id": "f004c9dfb73a4b8887e5968a26245671",
       "version_major": 2,
       "version_minor": 0
      },
      "text/plain": [
       "  0%|          | 0/2500 [00:00<?, ?it/s]"
      ]
     },
     "metadata": {},
     "output_type": "display_data"
    },
    {
     "data": {
      "application/vnd.jupyter.widget-view+json": {
       "model_id": "4d428b45f3dd442ea11f52b56700d19d",
       "version_major": 2,
       "version_minor": 0
      },
      "text/plain": [
       "  0%|          | 0/2500 [00:00<?, ?it/s]"
      ]
     },
     "metadata": {},
     "output_type": "display_data"
    },
    {
     "data": {
      "application/vnd.jupyter.widget-view+json": {
       "model_id": "bab87462ab2140db889170db9089bf13",
       "version_major": 2,
       "version_minor": 0
      },
      "text/plain": [
       "  0%|          | 0/2500 [00:00<?, ?it/s]"
      ]
     },
     "metadata": {},
     "output_type": "display_data"
    },
    {
     "name": "stderr",
     "output_type": "stream",
     "text": [
      "Sampling time = 0:00:02.044966\n",
      "Transforming variables...\n",
      "Transformation time = 0:00:17.495680\n"
     ]
    },
    {
     "name": "stdout",
     "output_type": "stream",
     "text": [
      "Model: king99_pareto_modification\n",
      "        Computed from the raw b_i samples by multiplying by population and then getting\n",
      "        the proportion of the total pop (total pop=summed across all districts):\n",
      "        The posterior mean for the district-level voting preference of\n",
      "        $35,000-$60,000 for Joe Cunningham (Democratic Party) is\n",
      "        0.690\n",
      "        The posterior mean for the district-level voting preference of\n",
      "        non-$35,000-$60,000 for Joe Cunningham (Democratic Party) is\n",
      "        0.353\n",
      "        95% equal-tailed Bayesian credible interval for district-level voting preference of\n",
      "        $35,000-$60,000 for Joe Cunningham (Democratic Party) is\n",
      "        [0.51689064 0.82953472]\n",
      "        95% equal-tailed Bayesian credible interval for district-level voting preference of\n",
      "        non-$35,000-$60,000 for Joe Cunningham (Democratic Party) is\n",
      "        [0.31721384 0.39641799]\n",
      "        \n"
     ]
    }
   ],
   "source": [
    "dem_35_60_ei_suburban, dem_35_60_summary_rural_suburban = run_ecological_inference(\n",
    "    df=sc_economic_merged_ei_suburban_df,\n",
    "    demographic_col=\"35K_60K_PERCENT\",\n",
    "    voting_col=\"DEMOCRATIC_PERCENT\",\n",
    "    total_votes_col=\"TOT_VOT\",\n",
    "    demographic_group_name=\"$35,000-$60,000\",\n",
    "    candidate_name=sc_candidate_mapping['DEMOCRATIC']\n",
    ")"
   ]
  },
  {
   "cell_type": "code",
   "execution_count": 452,
   "metadata": {},
   "outputs": [
    {
     "name": "stderr",
     "output_type": "stream",
     "text": [
      "Compiling...\n",
      "Compilation time = 0:00:01.197282\n",
      "Sampling...\n"
     ]
    },
    {
     "data": {
      "application/vnd.jupyter.widget-view+json": {
       "model_id": "c7b93826f74a4d84887b39aea29d4712",
       "version_major": 2,
       "version_minor": 0
      },
      "text/plain": [
       "  0%|          | 0/2500 [00:00<?, ?it/s]"
      ]
     },
     "metadata": {},
     "output_type": "display_data"
    },
    {
     "data": {
      "application/vnd.jupyter.widget-view+json": {
       "model_id": "cf9c891b6c9c47b18a975e46975eb620",
       "version_major": 2,
       "version_minor": 0
      },
      "text/plain": [
       "  0%|          | 0/2500 [00:00<?, ?it/s]"
      ]
     },
     "metadata": {},
     "output_type": "display_data"
    },
    {
     "data": {
      "application/vnd.jupyter.widget-view+json": {
       "model_id": "6eb0e42dd9f44ce4ab5d8c8aacf0add5",
       "version_major": 2,
       "version_minor": 0
      },
      "text/plain": [
       "  0%|          | 0/2500 [00:00<?, ?it/s]"
      ]
     },
     "metadata": {},
     "output_type": "display_data"
    },
    {
     "data": {
      "application/vnd.jupyter.widget-view+json": {
       "model_id": "5736ffdaaf3b42a0a1f1a921ccca669d",
       "version_major": 2,
       "version_minor": 0
      },
      "text/plain": [
       "  0%|          | 0/2500 [00:00<?, ?it/s]"
      ]
     },
     "metadata": {},
     "output_type": "display_data"
    },
    {
     "name": "stderr",
     "output_type": "stream",
     "text": [
      "Sampling time = 0:00:01.814805\n",
      "Transforming variables...\n",
      "Transformation time = 0:00:18.589857\n"
     ]
    },
    {
     "name": "stdout",
     "output_type": "stream",
     "text": [
      "Model: king99_pareto_modification\n",
      "        Computed from the raw b_i samples by multiplying by population and then getting\n",
      "        the proportion of the total pop (total pop=summed across all districts):\n",
      "        The posterior mean for the district-level voting preference of\n",
      "        $35,000-$60,000 for Joe Cunningham (Democratic Party) is\n",
      "        0.726\n",
      "        The posterior mean for the district-level voting preference of\n",
      "        non-$35,000-$60,000 for Joe Cunningham (Democratic Party) is\n",
      "        0.317\n",
      "        95% equal-tailed Bayesian credible interval for district-level voting preference of\n",
      "        $35,000-$60,000 for Joe Cunningham (Democratic Party) is\n",
      "        [0.50170162 0.88404166]\n",
      "        95% equal-tailed Bayesian credible interval for district-level voting preference of\n",
      "        non-$35,000-$60,000 for Joe Cunningham (Democratic Party) is\n",
      "        [0.27769208 0.37330583]\n",
      "        \n"
     ]
    }
   ],
   "source": [
    "dem_35_60_ei_urban, dem_35_60_summary_urban = run_ecological_inference(\n",
    "    df=sc_economic_merged_ei_urban_df,\n",
    "    demographic_col=\"35K_60K_PERCENT\",\n",
    "    voting_col=\"DEMOCRATIC_PERCENT\",\n",
    "    total_votes_col=\"TOT_VOT\",\n",
    "    demographic_group_name=\"$35,000-$60,000\",\n",
    "    candidate_name=sc_candidate_mapping['DEMOCRATIC']\n",
    ")"
   ]
  },
  {
   "cell_type": "code",
   "execution_count": null,
   "metadata": {},
   "outputs": [
    {
     "name": "stderr",
     "output_type": "stream",
     "text": [
      "Compiling...\n",
      "Compilation time = 0:00:03.652227\n",
      "Sampling...\n"
     ]
    },
    {
     "data": {
      "application/vnd.jupyter.widget-view+json": {
       "model_id": "c09755b5a8c24300b5ff51f2747eeb58",
       "version_major": 2,
       "version_minor": 0
      },
      "text/plain": [
       "  0%|          | 0/2500 [00:00<?, ?it/s]"
      ]
     },
     "metadata": {},
     "output_type": "display_data"
    },
    {
     "data": {
      "application/vnd.jupyter.widget-view+json": {
       "model_id": "3bd8fde4ce7248daadbf3e24385c8c19",
       "version_major": 2,
       "version_minor": 0
      },
      "text/plain": [
       "  0%|          | 0/2500 [00:00<?, ?it/s]"
      ]
     },
     "metadata": {},
     "output_type": "display_data"
    },
    {
     "data": {
      "application/vnd.jupyter.widget-view+json": {
       "model_id": "b9b1e952b3144e13bffab9b496b1dc9f",
       "version_major": 2,
       "version_minor": 0
      },
      "text/plain": [
       "  0%|          | 0/2500 [00:00<?, ?it/s]"
      ]
     },
     "metadata": {},
     "output_type": "display_data"
    },
    {
     "data": {
      "application/vnd.jupyter.widget-view+json": {
       "model_id": "a6107fede8cf4592a052ed4cc59ddfb8",
       "version_major": 2,
       "version_minor": 0
      },
      "text/plain": [
       "  0%|          | 0/2500 [00:00<?, ?it/s]"
      ]
     },
     "metadata": {},
     "output_type": "display_data"
    },
    {
     "name": "stderr",
     "output_type": "stream",
     "text": [
      "Sampling time = 0:00:01.920595\n",
      "Transforming variables...\n",
      "Transformation time = 0:00:17.107932\n"
     ]
    },
    {
     "name": "stdout",
     "output_type": "stream",
     "text": [
      "Model: king99_pareto_modification\n",
      "        Computed from the raw b_i samples by multiplying by population and then getting\n",
      "        the proportion of the total pop (total pop=summed across all districts):\n",
      "        The posterior mean for the district-level voting preference of\n",
      "        $35,000-$60,000 for Joe Cunningham (Democratic Party) is\n",
      "        0.554\n",
      "        The posterior mean for the district-level voting preference of\n",
      "        non-$35,000-$60,000 for Joe Cunningham (Democratic Party) is\n",
      "        0.370\n",
      "        95% equal-tailed Bayesian credible interval for district-level voting preference of\n",
      "        $35,000-$60,000 for Joe Cunningham (Democratic Party) is\n",
      "        [0.30588012 0.76767623]\n",
      "        95% equal-tailed Bayesian credible interval for district-level voting preference of\n",
      "        non-$35,000-$60,000 for Joe Cunningham (Democratic Party) is\n",
      "        [0.31297022 0.43503468]\n",
      "        \n"
     ]
    }
   ],
   "source": [
    "dem_60_100_ei, dem_60_100_summary = run_ecological_inference(\n",
    "    df=sc_economic_merged_ei_df,\n",
    "    demographic_col=\"60K_100K_PERCENT\",\n",
    "    voting_col=\"DEMOCRATIC_PERCENT\",\n",
    "    total_votes_col=\"TOT_VOT\",\n",
    "    demographic_group_name=\"$60,000-$100,000\",\n",
    "    candidate_name=sc_candidate_mapping['DEMOCRATIC']\n",
    ")"
   ]
  },
  {
   "cell_type": "code",
   "execution_count": null,
   "metadata": {},
   "outputs": [
    {
     "name": "stderr",
     "output_type": "stream",
     "text": [
      "Compiling...\n",
      "Compilation time = 0:00:01.243948\n",
      "Sampling...\n"
     ]
    },
    {
     "data": {
      "application/vnd.jupyter.widget-view+json": {
       "model_id": "15f3829910b54a73a12312485984d3b1",
       "version_major": 2,
       "version_minor": 0
      },
      "text/plain": [
       "  0%|          | 0/2500 [00:00<?, ?it/s]"
      ]
     },
     "metadata": {},
     "output_type": "display_data"
    },
    {
     "data": {
      "application/vnd.jupyter.widget-view+json": {
       "model_id": "167fdae1231b40bcacd380f090514890",
       "version_major": 2,
       "version_minor": 0
      },
      "text/plain": [
       "  0%|          | 0/2500 [00:00<?, ?it/s]"
      ]
     },
     "metadata": {},
     "output_type": "display_data"
    },
    {
     "data": {
      "application/vnd.jupyter.widget-view+json": {
       "model_id": "8fdfd06e5403464a816d02858376514c",
       "version_major": 2,
       "version_minor": 0
      },
      "text/plain": [
       "  0%|          | 0/2500 [00:00<?, ?it/s]"
      ]
     },
     "metadata": {},
     "output_type": "display_data"
    },
    {
     "data": {
      "application/vnd.jupyter.widget-view+json": {
       "model_id": "4316985be2e943fbbf78067c502e12ef",
       "version_major": 2,
       "version_minor": 0
      },
      "text/plain": [
       "  0%|          | 0/2500 [00:00<?, ?it/s]"
      ]
     },
     "metadata": {},
     "output_type": "display_data"
    },
    {
     "name": "stderr",
     "output_type": "stream",
     "text": [
      "Sampling time = 0:00:02.027610\n",
      "Transforming variables...\n",
      "Transformation time = 0:00:16.018307\n"
     ]
    },
    {
     "name": "stdout",
     "output_type": "stream",
     "text": [
      "Model: king99_pareto_modification\n",
      "        Computed from the raw b_i samples by multiplying by population and then getting\n",
      "        the proportion of the total pop (total pop=summed across all districts):\n",
      "        The posterior mean for the district-level voting preference of\n",
      "        $35,000-$60,000 for Joe Cunningham (Democratic Party) is\n",
      "        0.538\n",
      "        The posterior mean for the district-level voting preference of\n",
      "        non-$35,000-$60,000 for Joe Cunningham (Democratic Party) is\n",
      "        0.394\n",
      "        95% equal-tailed Bayesian credible interval for district-level voting preference of\n",
      "        $35,000-$60,000 for Joe Cunningham (Democratic Party) is\n",
      "        [0.36608352 0.71146588]\n",
      "        95% equal-tailed Bayesian credible interval for district-level voting preference of\n",
      "        non-$35,000-$60,000 for Joe Cunningham (Democratic Party) is\n",
      "        [0.35527307 0.43323524]\n",
      "        \n"
     ]
    }
   ],
   "source": [
    "dem_60_100_ei_rural, dem_60_100_summary_rural = run_ecological_inference(\n",
    "    df=sc_economic_merged_ei_rural_df,\n",
    "    demographic_col=\"60K_100K_PERCENT\",\n",
    "    voting_col=\"DEMOCRATIC_PERCENT\",\n",
    "    total_votes_col=\"TOT_VOT\",\n",
    "    demographic_group_name=\"$60,000-$100,000\",\n",
    "    candidate_name=sc_candidate_mapping['DEMOCRATIC']\n",
    ")"
   ]
  },
  {
   "cell_type": "code",
   "execution_count": null,
   "metadata": {},
   "outputs": [
    {
     "name": "stderr",
     "output_type": "stream",
     "text": [
      "Compiling...\n",
      "Compilation time = 0:00:01.223229\n",
      "Sampling...\n"
     ]
    },
    {
     "data": {
      "application/vnd.jupyter.widget-view+json": {
       "model_id": "6feac93ae6c249088df5e9f07a49ec2f",
       "version_major": 2,
       "version_minor": 0
      },
      "text/plain": [
       "  0%|          | 0/2500 [00:00<?, ?it/s]"
      ]
     },
     "metadata": {},
     "output_type": "display_data"
    },
    {
     "data": {
      "application/vnd.jupyter.widget-view+json": {
       "model_id": "60d91836034545e7833cb08ec18c5ee2",
       "version_major": 2,
       "version_minor": 0
      },
      "text/plain": [
       "  0%|          | 0/2500 [00:00<?, ?it/s]"
      ]
     },
     "metadata": {},
     "output_type": "display_data"
    },
    {
     "data": {
      "application/vnd.jupyter.widget-view+json": {
       "model_id": "10091bb055194bb88f2e8659c36d4ad1",
       "version_major": 2,
       "version_minor": 0
      },
      "text/plain": [
       "  0%|          | 0/2500 [00:00<?, ?it/s]"
      ]
     },
     "metadata": {},
     "output_type": "display_data"
    },
    {
     "data": {
      "application/vnd.jupyter.widget-view+json": {
       "model_id": "2f3f6b8ea2f34d518142eb1fa8aaf610",
       "version_major": 2,
       "version_minor": 0
      },
      "text/plain": [
       "  0%|          | 0/2500 [00:00<?, ?it/s]"
      ]
     },
     "metadata": {},
     "output_type": "display_data"
    },
    {
     "name": "stderr",
     "output_type": "stream",
     "text": [
      "Sampling time = 0:00:01.988023\n",
      "Transforming variables...\n",
      "Transformation time = 0:00:17.339338\n"
     ]
    },
    {
     "name": "stdout",
     "output_type": "stream",
     "text": [
      "Model: king99_pareto_modification\n",
      "        Computed from the raw b_i samples by multiplying by population and then getting\n",
      "        the proportion of the total pop (total pop=summed across all districts):\n",
      "        The posterior mean for the district-level voting preference of\n",
      "        $35,000-$60,000 for Joe Cunningham (Democratic Party) is\n",
      "        0.499\n",
      "        The posterior mean for the district-level voting preference of\n",
      "        non-$35,000-$60,000 for Joe Cunningham (Democratic Party) is\n",
      "        0.393\n",
      "        95% equal-tailed Bayesian credible interval for district-level voting preference of\n",
      "        $35,000-$60,000 for Joe Cunningham (Democratic Party) is\n",
      "        [0.31972993 0.66782828]\n",
      "        95% equal-tailed Bayesian credible interval for district-level voting preference of\n",
      "        non-$35,000-$60,000 for Joe Cunningham (Democratic Party) is\n",
      "        [0.34275382 0.44576697]\n",
      "        \n"
     ]
    }
   ],
   "source": [
    "dem_60_100_ei_suburban, dem_60_100_summary_suburban = run_ecological_inference(\n",
    "    df=sc_economic_merged_ei_suburban_df,\n",
    "    demographic_col=\"60K_100K_PERCENT\",\n",
    "    voting_col=\"DEMOCRATIC_PERCENT\",\n",
    "    total_votes_col=\"TOT_VOT\",\n",
    "    demographic_group_name=\"$60,000-$100,000\",\n",
    "    candidate_name=sc_candidate_mapping['DEMOCRATIC']\n",
    ")"
   ]
  },
  {
   "cell_type": "code",
   "execution_count": null,
   "metadata": {},
   "outputs": [
    {
     "name": "stderr",
     "output_type": "stream",
     "text": [
      "Compiling...\n",
      "Compilation time = 0:00:01.370940\n",
      "Sampling...\n"
     ]
    },
    {
     "data": {
      "application/vnd.jupyter.widget-view+json": {
       "model_id": "b3a4eb4d4dd244a784085ae38744d044",
       "version_major": 2,
       "version_minor": 0
      },
      "text/plain": [
       "  0%|          | 0/2500 [00:00<?, ?it/s]"
      ]
     },
     "metadata": {},
     "output_type": "display_data"
    },
    {
     "data": {
      "application/vnd.jupyter.widget-view+json": {
       "model_id": "55f27b4436cd4c00ab582bed6db6f871",
       "version_major": 2,
       "version_minor": 0
      },
      "text/plain": [
       "  0%|          | 0/2500 [00:00<?, ?it/s]"
      ]
     },
     "metadata": {},
     "output_type": "display_data"
    },
    {
     "data": {
      "application/vnd.jupyter.widget-view+json": {
       "model_id": "44fc3ae9ad0d46289cf20895f72a5f5e",
       "version_major": 2,
       "version_minor": 0
      },
      "text/plain": [
       "  0%|          | 0/2500 [00:00<?, ?it/s]"
      ]
     },
     "metadata": {},
     "output_type": "display_data"
    },
    {
     "data": {
      "application/vnd.jupyter.widget-view+json": {
       "model_id": "889bedc05dcf4a28a052dad8dc74d45c",
       "version_major": 2,
       "version_minor": 0
      },
      "text/plain": [
       "  0%|          | 0/2500 [00:00<?, ?it/s]"
      ]
     },
     "metadata": {},
     "output_type": "display_data"
    },
    {
     "name": "stderr",
     "output_type": "stream",
     "text": [
      "Sampling time = 0:00:02.247505\n",
      "Transforming variables...\n",
      "Transformation time = 0:00:27.993950\n"
     ]
    },
    {
     "name": "stdout",
     "output_type": "stream",
     "text": [
      "Model: king99_pareto_modification\n",
      "        Computed from the raw b_i samples by multiplying by population and then getting\n",
      "        the proportion of the total pop (total pop=summed across all districts):\n",
      "        The posterior mean for the district-level voting preference of\n",
      "        $35,000-$60,000 for Joe Cunningham (Democratic Party) is\n",
      "        0.383\n",
      "        The posterior mean for the district-level voting preference of\n",
      "        non-$35,000-$60,000 for Joe Cunningham (Democratic Party) is\n",
      "        0.399\n",
      "        95% equal-tailed Bayesian credible interval for district-level voting preference of\n",
      "        $35,000-$60,000 for Joe Cunningham (Democratic Party) is\n",
      "        [0.13989534 0.69365347]\n",
      "        95% equal-tailed Bayesian credible interval for district-level voting preference of\n",
      "        non-$35,000-$60,000 for Joe Cunningham (Democratic Party) is\n",
      "        [0.29812922 0.47785792]\n",
      "        \n"
     ]
    }
   ],
   "source": [
    "dem_60_100_ei_urban, dem_60_100_summary_urban = run_ecological_inference(\n",
    "    df=sc_economic_merged_ei_urban_df,\n",
    "    demographic_col=\"60K_100K_PERCENT\",\n",
    "    voting_col=\"DEMOCRATIC_PERCENT\",\n",
    "    total_votes_col=\"TOT_VOT\",\n",
    "    demographic_group_name=\"$60,000-$100,000\",\n",
    "    candidate_name=sc_candidate_mapping['DEMOCRATIC']\n",
    ")"
   ]
  },
  {
   "cell_type": "code",
   "execution_count": 457,
   "metadata": {},
   "outputs": [
    {
     "name": "stderr",
     "output_type": "stream",
     "text": [
      "Compiling...\n",
      "Compilation time = 0:00:01.337309\n",
      "Sampling...\n"
     ]
    },
    {
     "data": {
      "application/vnd.jupyter.widget-view+json": {
       "model_id": "82ce1294efb9496bb80d2cd2c854db44",
       "version_major": 2,
       "version_minor": 0
      },
      "text/plain": [
       "  0%|          | 0/2500 [00:00<?, ?it/s]"
      ]
     },
     "metadata": {},
     "output_type": "display_data"
    },
    {
     "data": {
      "application/vnd.jupyter.widget-view+json": {
       "model_id": "8971101762b24c0090321d927cce9223",
       "version_major": 2,
       "version_minor": 0
      },
      "text/plain": [
       "  0%|          | 0/2500 [00:00<?, ?it/s]"
      ]
     },
     "metadata": {},
     "output_type": "display_data"
    },
    {
     "data": {
      "application/vnd.jupyter.widget-view+json": {
       "model_id": "9eb4b1027aae4a498662034cd0785ea9",
       "version_major": 2,
       "version_minor": 0
      },
      "text/plain": [
       "  0%|          | 0/2500 [00:00<?, ?it/s]"
      ]
     },
     "metadata": {},
     "output_type": "display_data"
    },
    {
     "data": {
      "application/vnd.jupyter.widget-view+json": {
       "model_id": "0799e9b3091a4ba899323d209e1ba500",
       "version_major": 2,
       "version_minor": 0
      },
      "text/plain": [
       "  0%|          | 0/2500 [00:00<?, ?it/s]"
      ]
     },
     "metadata": {},
     "output_type": "display_data"
    },
    {
     "name": "stderr",
     "output_type": "stream",
     "text": [
      "Sampling time = 0:00:02.357026\n",
      "Transforming variables...\n",
      "Transformation time = 0:00:19.087158\n"
     ]
    },
    {
     "name": "stdout",
     "output_type": "stream",
     "text": [
      "Model: king99_pareto_modification\n",
      "        Computed from the raw b_i samples by multiplying by population and then getting\n",
      "        the proportion of the total pop (total pop=summed across all districts):\n",
      "        The posterior mean for the district-level voting preference of\n",
      "        $100,000-$125,000 for Joe Cunningham (Democratic Party) is\n",
      "        0.666\n",
      "        The posterior mean for the district-level voting preference of\n",
      "        non-$100,000-$125,000 for Joe Cunningham (Democratic Party) is\n",
      "        0.381\n",
      "        95% equal-tailed Bayesian credible interval for district-level voting preference of\n",
      "        $100,000-$125,000 for Joe Cunningham (Democratic Party) is\n",
      "        [0.35367444 0.89336771]\n",
      "        95% equal-tailed Bayesian credible interval for district-level voting preference of\n",
      "        non-$100,000-$125,000 for Joe Cunningham (Democratic Party) is\n",
      "        [0.35758234 0.41343748]\n",
      "        \n"
     ]
    }
   ],
   "source": [
    "dem_100_125_ei, dem_100_125_summary = run_ecological_inference(\n",
    "    df=sc_economic_merged_ei_df,\n",
    "    demographic_col=\"100K_125K_PERCENT\",\n",
    "    voting_col=\"DEMOCRATIC_PERCENT\",\n",
    "    total_votes_col=\"TOT_VOT\",\n",
    "    demographic_group_name=\"$100,000-$125,000\",\n",
    "    candidate_name=sc_candidate_mapping['DEMOCRATIC']\n",
    ")"
   ]
  },
  {
   "cell_type": "code",
   "execution_count": 458,
   "metadata": {},
   "outputs": [
    {
     "name": "stderr",
     "output_type": "stream",
     "text": [
      "Compiling...\n",
      "Compilation time = 0:00:01.232183\n",
      "Sampling...\n"
     ]
    },
    {
     "data": {
      "application/vnd.jupyter.widget-view+json": {
       "model_id": "4695eccb41634886b3cc262eb3b8f32e",
       "version_major": 2,
       "version_minor": 0
      },
      "text/plain": [
       "  0%|          | 0/2500 [00:00<?, ?it/s]"
      ]
     },
     "metadata": {},
     "output_type": "display_data"
    },
    {
     "data": {
      "application/vnd.jupyter.widget-view+json": {
       "model_id": "6a199a1afe134cf3b150aab3efd459e8",
       "version_major": 2,
       "version_minor": 0
      },
      "text/plain": [
       "  0%|          | 0/2500 [00:00<?, ?it/s]"
      ]
     },
     "metadata": {},
     "output_type": "display_data"
    },
    {
     "data": {
      "application/vnd.jupyter.widget-view+json": {
       "model_id": "52f00ea474a740d6b58da2f91f23bda7",
       "version_major": 2,
       "version_minor": 0
      },
      "text/plain": [
       "  0%|          | 0/2500 [00:00<?, ?it/s]"
      ]
     },
     "metadata": {},
     "output_type": "display_data"
    },
    {
     "data": {
      "application/vnd.jupyter.widget-view+json": {
       "model_id": "2b1f9ad93ff54d1a96141dd83ea4ca93",
       "version_major": 2,
       "version_minor": 0
      },
      "text/plain": [
       "  0%|          | 0/2500 [00:00<?, ?it/s]"
      ]
     },
     "metadata": {},
     "output_type": "display_data"
    },
    {
     "name": "stderr",
     "output_type": "stream",
     "text": [
      "Sampling time = 0:00:02.417758\n",
      "Transforming variables...\n",
      "Transformation time = 0:00:14.042952\n"
     ]
    },
    {
     "name": "stdout",
     "output_type": "stream",
     "text": [
      "Model: king99_pareto_modification\n",
      "        Computed from the raw b_i samples by multiplying by population and then getting\n",
      "        the proportion of the total pop (total pop=summed across all districts):\n",
      "        The posterior mean for the district-level voting preference of\n",
      "        $100,000-$125,000 for Joe Cunningham (Democratic Party) is\n",
      "        0.659\n",
      "        The posterior mean for the district-level voting preference of\n",
      "        non-$100,000-$125,000 for Joe Cunningham (Democratic Party) is\n",
      "        0.401\n",
      "        95% equal-tailed Bayesian credible interval for district-level voting preference of\n",
      "        $100,000-$125,000 for Joe Cunningham (Democratic Party) is\n",
      "        [0.14053623 0.98153718]\n",
      "        95% equal-tailed Bayesian credible interval for district-level voting preference of\n",
      "        non-$100,000-$125,000 for Joe Cunningham (Democratic Party) is\n",
      "        [0.37594022 0.43912553]\n",
      "        \n"
     ]
    }
   ],
   "source": [
    "dem_100_125_ei_rural, dem_100_125_summar_rural = run_ecological_inference(\n",
    "    df=sc_economic_merged_ei_rural_df,\n",
    "    demographic_col=\"100K_125K_PERCENT\",\n",
    "    voting_col=\"DEMOCRATIC_PERCENT\",\n",
    "    total_votes_col=\"TOT_VOT\",\n",
    "    demographic_group_name=\"$100,000-$125,000\",\n",
    "    candidate_name=sc_candidate_mapping['DEMOCRATIC']\n",
    ")"
   ]
  },
  {
   "cell_type": "code",
   "execution_count": 459,
   "metadata": {},
   "outputs": [
    {
     "name": "stderr",
     "output_type": "stream",
     "text": [
      "Compiling...\n",
      "Compilation time = 0:00:07.056357\n",
      "Sampling...\n"
     ]
    },
    {
     "data": {
      "application/vnd.jupyter.widget-view+json": {
       "model_id": "d8a3205d239d41d6a865a1297333a9a4",
       "version_major": 2,
       "version_minor": 0
      },
      "text/plain": [
       "  0%|          | 0/2500 [00:00<?, ?it/s]"
      ]
     },
     "metadata": {},
     "output_type": "display_data"
    },
    {
     "data": {
      "application/vnd.jupyter.widget-view+json": {
       "model_id": "2a23611a55d44d7ba624a5fbe1d41ef9",
       "version_major": 2,
       "version_minor": 0
      },
      "text/plain": [
       "  0%|          | 0/2500 [00:00<?, ?it/s]"
      ]
     },
     "metadata": {},
     "output_type": "display_data"
    },
    {
     "data": {
      "application/vnd.jupyter.widget-view+json": {
       "model_id": "831108338934442a810160bad93c479e",
       "version_major": 2,
       "version_minor": 0
      },
      "text/plain": [
       "  0%|          | 0/2500 [00:00<?, ?it/s]"
      ]
     },
     "metadata": {},
     "output_type": "display_data"
    },
    {
     "data": {
      "application/vnd.jupyter.widget-view+json": {
       "model_id": "1d2647e17d214f6e85c405774b0437ce",
       "version_major": 2,
       "version_minor": 0
      },
      "text/plain": [
       "  0%|          | 0/2500 [00:00<?, ?it/s]"
      ]
     },
     "metadata": {},
     "output_type": "display_data"
    },
    {
     "name": "stderr",
     "output_type": "stream",
     "text": [
      "Sampling time = 0:00:02.360576\n",
      "Transforming variables...\n",
      "Transformation time = 0:00:15.963665\n"
     ]
    },
    {
     "name": "stdout",
     "output_type": "stream",
     "text": [
      "Model: king99_pareto_modification\n",
      "        Computed from the raw b_i samples by multiplying by population and then getting\n",
      "        the proportion of the total pop (total pop=summed across all districts):\n",
      "        The posterior mean for the district-level voting preference of\n",
      "        $100,000-$125,000 for Joe Cunningham (Democratic Party) is\n",
      "        0.686\n",
      "        The posterior mean for the district-level voting preference of\n",
      "        non-$100,000-$125,000 for Joe Cunningham (Democratic Party) is\n",
      "        0.387\n",
      "        95% equal-tailed Bayesian credible interval for district-level voting preference of\n",
      "        $100,000-$125,000 for Joe Cunningham (Democratic Party) is\n",
      "        [0.30843056 0.93343872]\n",
      "        95% equal-tailed Bayesian credible interval for district-level voting preference of\n",
      "        non-$100,000-$125,000 for Joe Cunningham (Democratic Party) is\n",
      "        [0.3589863  0.42975197]\n",
      "        \n"
     ]
    }
   ],
   "source": [
    "dem_100_125_ei_suburban, dem_100_125_summar_suburban = run_ecological_inference(\n",
    "    df=sc_economic_merged_ei_suburban_df,\n",
    "    demographic_col=\"100K_125K_PERCENT\",\n",
    "    voting_col=\"DEMOCRATIC_PERCENT\",\n",
    "    total_votes_col=\"TOT_VOT\",\n",
    "    demographic_group_name=\"$100,000-$125,000\",\n",
    "    candidate_name=sc_candidate_mapping['DEMOCRATIC']\n",
    ")"
   ]
  },
  {
   "cell_type": "code",
   "execution_count": 460,
   "metadata": {},
   "outputs": [
    {
     "name": "stderr",
     "output_type": "stream",
     "text": [
      "Compiling...\n",
      "Compilation time = 0:00:01.406193\n",
      "Sampling...\n"
     ]
    },
    {
     "data": {
      "application/vnd.jupyter.widget-view+json": {
       "model_id": "f831afc769814b37961fd0ebde41da01",
       "version_major": 2,
       "version_minor": 0
      },
      "text/plain": [
       "  0%|          | 0/2500 [00:00<?, ?it/s]"
      ]
     },
     "metadata": {},
     "output_type": "display_data"
    },
    {
     "data": {
      "application/vnd.jupyter.widget-view+json": {
       "model_id": "f4442304fbb945eda4d10bba8bbbc6ff",
       "version_major": 2,
       "version_minor": 0
      },
      "text/plain": [
       "  0%|          | 0/2500 [00:00<?, ?it/s]"
      ]
     },
     "metadata": {},
     "output_type": "display_data"
    },
    {
     "data": {
      "application/vnd.jupyter.widget-view+json": {
       "model_id": "89134faf4d184817a7bbf12e051c30ec",
       "version_major": 2,
       "version_minor": 0
      },
      "text/plain": [
       "  0%|          | 0/2500 [00:00<?, ?it/s]"
      ]
     },
     "metadata": {},
     "output_type": "display_data"
    },
    {
     "data": {
      "application/vnd.jupyter.widget-view+json": {
       "model_id": "a1d29a72a8fa497ebcadfc27d7dceffc",
       "version_major": 2,
       "version_minor": 0
      },
      "text/plain": [
       "  0%|          | 0/2500 [00:00<?, ?it/s]"
      ]
     },
     "metadata": {},
     "output_type": "display_data"
    },
    {
     "name": "stderr",
     "output_type": "stream",
     "text": [
      "Sampling time = 0:00:02.081742\n",
      "Transforming variables...\n",
      "Transformation time = 0:00:17.819988\n"
     ]
    },
    {
     "name": "stdout",
     "output_type": "stream",
     "text": [
      "Model: king99_pareto_modification\n",
      "        Computed from the raw b_i samples by multiplying by population and then getting\n",
      "        the proportion of the total pop (total pop=summed across all districts):\n",
      "        The posterior mean for the district-level voting preference of\n",
      "        $100,000-$125,000 for Joe Cunningham (Democratic Party) is\n",
      "        0.410\n",
      "        The posterior mean for the district-level voting preference of\n",
      "        non-$100,000-$125,000 for Joe Cunningham (Democratic Party) is\n",
      "        0.396\n",
      "        95% equal-tailed Bayesian credible interval for district-level voting preference of\n",
      "        $100,000-$125,000 for Joe Cunningham (Democratic Party) is\n",
      "        [0.11071457 0.78075185]\n",
      "        95% equal-tailed Bayesian credible interval for district-level voting preference of\n",
      "        non-$100,000-$125,000 for Joe Cunningham (Democratic Party) is\n",
      "        [0.3525111  0.43067286]\n",
      "        \n"
     ]
    }
   ],
   "source": [
    "dem_100_125_ei_urban, dem_100_125_summary_urban = run_ecological_inference(\n",
    "    df=sc_economic_merged_ei_urban_df,\n",
    "    demographic_col=\"100K_125K_PERCENT\",\n",
    "    voting_col=\"DEMOCRATIC_PERCENT\",\n",
    "    total_votes_col=\"TOT_VOT\",\n",
    "    demographic_group_name=\"$100,000-$125,000\",\n",
    "    candidate_name=sc_candidate_mapping['DEMOCRATIC']\n",
    ")"
   ]
  },
  {
   "cell_type": "code",
   "execution_count": 461,
   "metadata": {},
   "outputs": [
    {
     "name": "stderr",
     "output_type": "stream",
     "text": [
      "Compiling...\n",
      "Compilation time = 0:00:01.499827\n",
      "Sampling...\n"
     ]
    },
    {
     "data": {
      "application/vnd.jupyter.widget-view+json": {
       "model_id": "4284f7a378f94e10a3807f5a40134eb0",
       "version_major": 2,
       "version_minor": 0
      },
      "text/plain": [
       "  0%|          | 0/2500 [00:00<?, ?it/s]"
      ]
     },
     "metadata": {},
     "output_type": "display_data"
    },
    {
     "data": {
      "application/vnd.jupyter.widget-view+json": {
       "model_id": "46dc54ed93fd4075b28114f1d72d23b4",
       "version_major": 2,
       "version_minor": 0
      },
      "text/plain": [
       "  0%|          | 0/2500 [00:00<?, ?it/s]"
      ]
     },
     "metadata": {},
     "output_type": "display_data"
    },
    {
     "data": {
      "application/vnd.jupyter.widget-view+json": {
       "model_id": "f69b5e3c35dc4d0b821317b6b3cd2b24",
       "version_major": 2,
       "version_minor": 0
      },
      "text/plain": [
       "  0%|          | 0/2500 [00:00<?, ?it/s]"
      ]
     },
     "metadata": {},
     "output_type": "display_data"
    },
    {
     "data": {
      "application/vnd.jupyter.widget-view+json": {
       "model_id": "270489a484534c33af370cf9d1cc11bf",
       "version_major": 2,
       "version_minor": 0
      },
      "text/plain": [
       "  0%|          | 0/2500 [00:00<?, ?it/s]"
      ]
     },
     "metadata": {},
     "output_type": "display_data"
    },
    {
     "name": "stderr",
     "output_type": "stream",
     "text": [
      "Sampling time = 0:00:02.113115\n",
      "Transforming variables...\n",
      "Transformation time = 0:00:20.096772\n"
     ]
    },
    {
     "name": "stdout",
     "output_type": "stream",
     "text": [
      "Model: king99_pareto_modification\n",
      "        Computed from the raw b_i samples by multiplying by population and then getting\n",
      "        the proportion of the total pop (total pop=summed across all districts):\n",
      "        The posterior mean for the district-level voting preference of\n",
      "        $125,000-$150,000 for Joe Cunningham (Democratic Party) is\n",
      "        0.384\n",
      "        The posterior mean for the district-level voting preference of\n",
      "        non-$125,000-$150,000 for Joe Cunningham (Democratic Party) is\n",
      "        0.407\n",
      "        95% equal-tailed Bayesian credible interval for district-level voting preference of\n",
      "        $125,000-$150,000 for Joe Cunningham (Democratic Party) is\n",
      "        [0.00618193 0.98219276]\n",
      "        95% equal-tailed Bayesian credible interval for district-level voting preference of\n",
      "        non-$125,000-$150,000 for Joe Cunningham (Democratic Party) is\n",
      "        [0.36400009 0.43502468]\n",
      "        \n"
     ]
    }
   ],
   "source": [
    "dem_125_150_ei, dem_125_150_summary = run_ecological_inference(\n",
    "    df=sc_economic_merged_ei_df,\n",
    "    demographic_col=\"125K_150K_PERCENT\",\n",
    "    voting_col=\"DEMOCRATIC_PERCENT\",\n",
    "    total_votes_col=\"TOT_VOT\",\n",
    "    demographic_group_name=\"$125,000-$150,000\",\n",
    "    candidate_name=sc_candidate_mapping['DEMOCRATIC']\n",
    ")"
   ]
  },
  {
   "cell_type": "code",
   "execution_count": 462,
   "metadata": {},
   "outputs": [
    {
     "name": "stderr",
     "output_type": "stream",
     "text": [
      "Compiling...\n",
      "Compilation time = 0:00:01.550924\n",
      "Sampling...\n"
     ]
    },
    {
     "data": {
      "application/vnd.jupyter.widget-view+json": {
       "model_id": "392af25b64714ca2a302784b14dec81f",
       "version_major": 2,
       "version_minor": 0
      },
      "text/plain": [
       "  0%|          | 0/2500 [00:00<?, ?it/s]"
      ]
     },
     "metadata": {},
     "output_type": "display_data"
    },
    {
     "data": {
      "application/vnd.jupyter.widget-view+json": {
       "model_id": "e8f9b8fd8e0e465a96bfd21909f0bff3",
       "version_major": 2,
       "version_minor": 0
      },
      "text/plain": [
       "  0%|          | 0/2500 [00:00<?, ?it/s]"
      ]
     },
     "metadata": {},
     "output_type": "display_data"
    },
    {
     "data": {
      "application/vnd.jupyter.widget-view+json": {
       "model_id": "01eb4dafc80e4f41a6d12cebdd9b578e",
       "version_major": 2,
       "version_minor": 0
      },
      "text/plain": [
       "  0%|          | 0/2500 [00:00<?, ?it/s]"
      ]
     },
     "metadata": {},
     "output_type": "display_data"
    },
    {
     "data": {
      "application/vnd.jupyter.widget-view+json": {
       "model_id": "069e6b6d489d4a02aa7184e5b01ec6c2",
       "version_major": 2,
       "version_minor": 0
      },
      "text/plain": [
       "  0%|          | 0/2500 [00:00<?, ?it/s]"
      ]
     },
     "metadata": {},
     "output_type": "display_data"
    },
    {
     "name": "stderr",
     "output_type": "stream",
     "text": [
      "Sampling time = 0:00:02.463677\n",
      "Transforming variables...\n",
      "Transformation time = 0:00:17.318012\n"
     ]
    },
    {
     "name": "stdout",
     "output_type": "stream",
     "text": [
      "Model: king99_pareto_modification\n",
      "        Computed from the raw b_i samples by multiplying by population and then getting\n",
      "        the proportion of the total pop (total pop=summed across all districts):\n",
      "        The posterior mean for the district-level voting preference of\n",
      "        $125,000-$150,000 for Joe Cunningham (Democratic Party) is\n",
      "        0.279\n",
      "        The posterior mean for the district-level voting preference of\n",
      "        non-$125,000-$150,000 for Joe Cunningham (Democratic Party) is\n",
      "        0.423\n",
      "        95% equal-tailed Bayesian credible interval for district-level voting preference of\n",
      "        $125,000-$150,000 for Joe Cunningham (Democratic Party) is\n",
      "        [0.02461764 0.7385104 ]\n",
      "        95% equal-tailed Bayesian credible interval for district-level voting preference of\n",
      "        non-$125,000-$150,000 for Joe Cunningham (Democratic Party) is\n",
      "        [0.39783901 0.43799032]\n",
      "        \n"
     ]
    }
   ],
   "source": [
    "dem_125_150_ei_rural, dem_125_150_summary_rural = run_ecological_inference(\n",
    "    df=sc_economic_merged_ei_rural_df,\n",
    "    demographic_col=\"125K_150K_PERCENT\",\n",
    "    voting_col=\"DEMOCRATIC_PERCENT\",\n",
    "    total_votes_col=\"TOT_VOT\",\n",
    "    demographic_group_name=\"$125,000-$150,000\",\n",
    "    candidate_name=sc_candidate_mapping['DEMOCRATIC']\n",
    ")"
   ]
  },
  {
   "cell_type": "code",
   "execution_count": 463,
   "metadata": {},
   "outputs": [
    {
     "name": "stderr",
     "output_type": "stream",
     "text": [
      "Compiling...\n",
      "Compilation time = 0:00:02.023614\n",
      "Sampling...\n"
     ]
    },
    {
     "data": {
      "application/vnd.jupyter.widget-view+json": {
       "model_id": "094d84759bf7445d8e4a384d69be7fcd",
       "version_major": 2,
       "version_minor": 0
      },
      "text/plain": [
       "  0%|          | 0/2500 [00:00<?, ?it/s]"
      ]
     },
     "metadata": {},
     "output_type": "display_data"
    },
    {
     "data": {
      "application/vnd.jupyter.widget-view+json": {
       "model_id": "17efa9a287144547a45acd2bceb8fd11",
       "version_major": 2,
       "version_minor": 0
      },
      "text/plain": [
       "  0%|          | 0/2500 [00:00<?, ?it/s]"
      ]
     },
     "metadata": {},
     "output_type": "display_data"
    },
    {
     "data": {
      "application/vnd.jupyter.widget-view+json": {
       "model_id": "74c7b54835e54126a1193cfce22f6162",
       "version_major": 2,
       "version_minor": 0
      },
      "text/plain": [
       "  0%|          | 0/2500 [00:00<?, ?it/s]"
      ]
     },
     "metadata": {},
     "output_type": "display_data"
    },
    {
     "data": {
      "application/vnd.jupyter.widget-view+json": {
       "model_id": "1a281c0812c4402583eebd26769f6815",
       "version_major": 2,
       "version_minor": 0
      },
      "text/plain": [
       "  0%|          | 0/2500 [00:00<?, ?it/s]"
      ]
     },
     "metadata": {},
     "output_type": "display_data"
    },
    {
     "name": "stderr",
     "output_type": "stream",
     "text": [
      "Sampling time = 0:00:02.508240\n",
      "Transforming variables...\n",
      "Transformation time = 0:00:21.217145\n"
     ]
    },
    {
     "name": "stdout",
     "output_type": "stream",
     "text": [
      "Model: king99_pareto_modification\n",
      "        Computed from the raw b_i samples by multiplying by population and then getting\n",
      "        the proportion of the total pop (total pop=summed across all districts):\n",
      "        The posterior mean for the district-level voting preference of\n",
      "        $125,000-$150,000 for Joe Cunningham (Democratic Party) is\n",
      "        0.451\n",
      "        The posterior mean for the district-level voting preference of\n",
      "        non-$125,000-$150,000 for Joe Cunningham (Democratic Party) is\n",
      "        0.415\n",
      "        95% equal-tailed Bayesian credible interval for district-level voting preference of\n",
      "        $125,000-$150,000 for Joe Cunningham (Democratic Party) is\n",
      "        [0.07093908 0.90384854]\n",
      "        95% equal-tailed Bayesian credible interval for district-level voting preference of\n",
      "        non-$125,000-$150,000 for Joe Cunningham (Democratic Party) is\n",
      "        [0.38455483 0.44109781]\n",
      "        \n"
     ]
    }
   ],
   "source": [
    "dem_125_150_ei_suburban, dem_125_150_summary_suburban = run_ecological_inference(\n",
    "    df=sc_economic_merged_ei_suburban_df,\n",
    "    demographic_col=\"125K_150K_PERCENT\",\n",
    "    voting_col=\"DEMOCRATIC_PERCENT\",\n",
    "    total_votes_col=\"TOT_VOT\",\n",
    "    demographic_group_name=\"$125,000-$150,000\",\n",
    "    candidate_name=sc_candidate_mapping['DEMOCRATIC']\n",
    ")"
   ]
  },
  {
   "cell_type": "code",
   "execution_count": 464,
   "metadata": {},
   "outputs": [
    {
     "name": "stderr",
     "output_type": "stream",
     "text": [
      "Compiling...\n",
      "Compilation time = 0:00:01.307540\n",
      "Sampling...\n"
     ]
    },
    {
     "data": {
      "application/vnd.jupyter.widget-view+json": {
       "model_id": "8edc32cba54d406d9c3a0b337a7cc8d2",
       "version_major": 2,
       "version_minor": 0
      },
      "text/plain": [
       "  0%|          | 0/2500 [00:00<?, ?it/s]"
      ]
     },
     "metadata": {},
     "output_type": "display_data"
    },
    {
     "data": {
      "application/vnd.jupyter.widget-view+json": {
       "model_id": "237c9a9b5d9842a0b06eb26e8003a58f",
       "version_major": 2,
       "version_minor": 0
      },
      "text/plain": [
       "  0%|          | 0/2500 [00:00<?, ?it/s]"
      ]
     },
     "metadata": {},
     "output_type": "display_data"
    },
    {
     "data": {
      "application/vnd.jupyter.widget-view+json": {
       "model_id": "5f208f0596834f03a9464c1f851ec1ad",
       "version_major": 2,
       "version_minor": 0
      },
      "text/plain": [
       "  0%|          | 0/2500 [00:00<?, ?it/s]"
      ]
     },
     "metadata": {},
     "output_type": "display_data"
    },
    {
     "data": {
      "application/vnd.jupyter.widget-view+json": {
       "model_id": "d0873ba6b0eb4942a60459fd05121bc5",
       "version_major": 2,
       "version_minor": 0
      },
      "text/plain": [
       "  0%|          | 0/2500 [00:00<?, ?it/s]"
      ]
     },
     "metadata": {},
     "output_type": "display_data"
    },
    {
     "name": "stderr",
     "output_type": "stream",
     "text": [
      "Sampling time = 0:00:02.281757\n",
      "Transforming variables...\n",
      "Transformation time = 0:00:20.515774\n"
     ]
    },
    {
     "name": "stdout",
     "output_type": "stream",
     "text": [
      "Model: king99_pareto_modification\n",
      "        Computed from the raw b_i samples by multiplying by population and then getting\n",
      "        the proportion of the total pop (total pop=summed across all districts):\n",
      "        The posterior mean for the district-level voting preference of\n",
      "        $125,000-$150,000 for Joe Cunningham (Democratic Party) is\n",
      "        0.283\n",
      "        The posterior mean for the district-level voting preference of\n",
      "        non-$125,000-$150,000 for Joe Cunningham (Democratic Party) is\n",
      "        0.406\n",
      "        95% equal-tailed Bayesian credible interval for district-level voting preference of\n",
      "        $125,000-$150,000 for Joe Cunningham (Democratic Party) is\n",
      "        [0.0122834 0.9572059]\n",
      "        95% equal-tailed Bayesian credible interval for district-level voting preference of\n",
      "        non-$125,000-$150,000 for Joe Cunningham (Democratic Party) is\n",
      "        [0.34692781 0.43067751]\n",
      "        \n"
     ]
    }
   ],
   "source": [
    "dem_125_150_ei_urban, dem_125_150_summary_urban = run_ecological_inference(\n",
    "    df=sc_economic_merged_ei_urban_df,\n",
    "    demographic_col=\"125K_150K_PERCENT\",\n",
    "    voting_col=\"DEMOCRATIC_PERCENT\",\n",
    "    total_votes_col=\"TOT_VOT\",\n",
    "    demographic_group_name=\"$125,000-$150,000\",\n",
    "    candidate_name=sc_candidate_mapping['DEMOCRATIC']\n",
    ")"
   ]
  },
  {
   "cell_type": "code",
   "execution_count": 465,
   "metadata": {},
   "outputs": [
    {
     "name": "stderr",
     "output_type": "stream",
     "text": [
      "Compiling...\n",
      "Compilation time = 0:00:05.985681\n",
      "Sampling...\n"
     ]
    },
    {
     "data": {
      "application/vnd.jupyter.widget-view+json": {
       "model_id": "639df1529a1c4dcb819532dc72d4ba0d",
       "version_major": 2,
       "version_minor": 0
      },
      "text/plain": [
       "  0%|          | 0/2500 [00:00<?, ?it/s]"
      ]
     },
     "metadata": {},
     "output_type": "display_data"
    },
    {
     "data": {
      "application/vnd.jupyter.widget-view+json": {
       "model_id": "dc5151f4ce2f42f99b27e09bf71c3165",
       "version_major": 2,
       "version_minor": 0
      },
      "text/plain": [
       "  0%|          | 0/2500 [00:00<?, ?it/s]"
      ]
     },
     "metadata": {},
     "output_type": "display_data"
    },
    {
     "data": {
      "application/vnd.jupyter.widget-view+json": {
       "model_id": "529d9f41b2744b3dbfa5a91958106d22",
       "version_major": 2,
       "version_minor": 0
      },
      "text/plain": [
       "  0%|          | 0/2500 [00:00<?, ?it/s]"
      ]
     },
     "metadata": {},
     "output_type": "display_data"
    },
    {
     "data": {
      "application/vnd.jupyter.widget-view+json": {
       "model_id": "0c24de58c0f048abbac95964c7741c17",
       "version_major": 2,
       "version_minor": 0
      },
      "text/plain": [
       "  0%|          | 0/2500 [00:00<?, ?it/s]"
      ]
     },
     "metadata": {},
     "output_type": "display_data"
    },
    {
     "name": "stderr",
     "output_type": "stream",
     "text": [
      "Sampling time = 0:00:02.816706\n",
      "Transforming variables...\n",
      "Transformation time = 0:00:19.260595\n"
     ]
    },
    {
     "name": "stdout",
     "output_type": "stream",
     "text": [
      "Model: king99_pareto_modification\n",
      "        Computed from the raw b_i samples by multiplying by population and then getting\n",
      "        the proportion of the total pop (total pop=summed across all districts):\n",
      "        The posterior mean for the district-level voting preference of\n",
      "        $150,000+ for Joe Cunningham (Democratic Party) is\n",
      "        0.405\n",
      "        The posterior mean for the district-level voting preference of\n",
      "        non-$150,000+ for Joe Cunningham (Democratic Party) is\n",
      "        0.407\n",
      "        95% equal-tailed Bayesian credible interval for district-level voting preference of\n",
      "        $150,000+ for Joe Cunningham (Democratic Party) is\n",
      "        [0.15707459 0.65507156]\n",
      "        95% equal-tailed Bayesian credible interval for district-level voting preference of\n",
      "        non-$150,000+ for Joe Cunningham (Democratic Party) is\n",
      "        [0.35514926 0.45846952]\n",
      "        \n"
     ]
    }
   ],
   "source": [
    "dem_150_more_ei, dem_150_more_summary = run_ecological_inference(\n",
    "    df=sc_economic_merged_ei_df,\n",
    "    demographic_col=\"150K_MORE_PERCENT\",\n",
    "    voting_col=\"DEMOCRATIC_PERCENT\",\n",
    "    total_votes_col=\"TOT_VOT\",\n",
    "    demographic_group_name=\"$150,000+\",\n",
    "    candidate_name=sc_candidate_mapping['DEMOCRATIC']\n",
    ")"
   ]
  },
  {
   "cell_type": "code",
   "execution_count": 466,
   "metadata": {},
   "outputs": [
    {
     "name": "stderr",
     "output_type": "stream",
     "text": [
      "Compiling...\n",
      "Compilation time = 0:00:01.321682\n",
      "Sampling...\n"
     ]
    },
    {
     "data": {
      "application/vnd.jupyter.widget-view+json": {
       "model_id": "e0c27d9fed8744ceb432f6fed85810d2",
       "version_major": 2,
       "version_minor": 0
      },
      "text/plain": [
       "  0%|          | 0/2500 [00:00<?, ?it/s]"
      ]
     },
     "metadata": {},
     "output_type": "display_data"
    },
    {
     "data": {
      "application/vnd.jupyter.widget-view+json": {
       "model_id": "a0c7f263163c49769d9394bc372fe48c",
       "version_major": 2,
       "version_minor": 0
      },
      "text/plain": [
       "  0%|          | 0/2500 [00:00<?, ?it/s]"
      ]
     },
     "metadata": {},
     "output_type": "display_data"
    },
    {
     "data": {
      "application/vnd.jupyter.widget-view+json": {
       "model_id": "28f0037d62fa496b960cf8e623498fbc",
       "version_major": 2,
       "version_minor": 0
      },
      "text/plain": [
       "  0%|          | 0/2500 [00:00<?, ?it/s]"
      ]
     },
     "metadata": {},
     "output_type": "display_data"
    },
    {
     "data": {
      "application/vnd.jupyter.widget-view+json": {
       "model_id": "c638d71d7fe6469e904e97911f82e357",
       "version_major": 2,
       "version_minor": 0
      },
      "text/plain": [
       "  0%|          | 0/2500 [00:00<?, ?it/s]"
      ]
     },
     "metadata": {},
     "output_type": "display_data"
    },
    {
     "name": "stderr",
     "output_type": "stream",
     "text": [
      "Sampling time = 0:00:02.598698\n",
      "Transforming variables...\n",
      "Transformation time = 0:00:13.250921\n"
     ]
    },
    {
     "name": "stdout",
     "output_type": "stream",
     "text": [
      "Model: king99_pareto_modification\n",
      "        Computed from the raw b_i samples by multiplying by population and then getting\n",
      "        the proportion of the total pop (total pop=summed across all districts):\n",
      "        The posterior mean for the district-level voting preference of\n",
      "        $150,000+ for Joe Cunningham (Democratic Party) is\n",
      "        0.336\n",
      "        The posterior mean for the district-level voting preference of\n",
      "        non-$150,000+ for Joe Cunningham (Democratic Party) is\n",
      "        0.429\n",
      "        95% equal-tailed Bayesian credible interval for district-level voting preference of\n",
      "        $150,000+ for Joe Cunningham (Democratic Party) is\n",
      "        [0.07542673 0.60141223]\n",
      "        95% equal-tailed Bayesian credible interval for district-level voting preference of\n",
      "        non-$150,000+ for Joe Cunningham (Democratic Party) is\n",
      "        [0.39225133 0.46606656]\n",
      "        \n"
     ]
    }
   ],
   "source": [
    "dem_150_more_ei_rural, dem_150_more_summary_rural = run_ecological_inference(\n",
    "    df=sc_economic_merged_ei_rural_df,\n",
    "    demographic_col=\"150K_MORE_PERCENT\",\n",
    "    voting_col=\"DEMOCRATIC_PERCENT\",\n",
    "    total_votes_col=\"TOT_VOT\",\n",
    "    demographic_group_name=\"$150,000+\",\n",
    "    candidate_name=sc_candidate_mapping['DEMOCRATIC']\n",
    ")"
   ]
  },
  {
   "cell_type": "code",
   "execution_count": 467,
   "metadata": {},
   "outputs": [
    {
     "name": "stderr",
     "output_type": "stream",
     "text": [
      "Compiling...\n",
      "Compilation time = 0:00:01.477350\n",
      "Sampling...\n"
     ]
    },
    {
     "data": {
      "application/vnd.jupyter.widget-view+json": {
       "model_id": "9b4dec6d334c450986188d9354b05242",
       "version_major": 2,
       "version_minor": 0
      },
      "text/plain": [
       "  0%|          | 0/2500 [00:00<?, ?it/s]"
      ]
     },
     "metadata": {},
     "output_type": "display_data"
    },
    {
     "data": {
      "application/vnd.jupyter.widget-view+json": {
       "model_id": "338b30bb2b4a4d919f59265c4a225aaa",
       "version_major": 2,
       "version_minor": 0
      },
      "text/plain": [
       "  0%|          | 0/2500 [00:00<?, ?it/s]"
      ]
     },
     "metadata": {},
     "output_type": "display_data"
    },
    {
     "data": {
      "application/vnd.jupyter.widget-view+json": {
       "model_id": "a3b09012a8d2438ab227dfa9f6b09dfc",
       "version_major": 2,
       "version_minor": 0
      },
      "text/plain": [
       "  0%|          | 0/2500 [00:00<?, ?it/s]"
      ]
     },
     "metadata": {},
     "output_type": "display_data"
    },
    {
     "data": {
      "application/vnd.jupyter.widget-view+json": {
       "model_id": "37a8874158e2446d8e6ceb258609ec7a",
       "version_major": 2,
       "version_minor": 0
      },
      "text/plain": [
       "  0%|          | 0/2500 [00:00<?, ?it/s]"
      ]
     },
     "metadata": {},
     "output_type": "display_data"
    },
    {
     "name": "stderr",
     "output_type": "stream",
     "text": [
      "Sampling time = 0:00:02.625912\n",
      "Transforming variables...\n",
      "Transformation time = 0:00:19.172698\n"
     ]
    },
    {
     "name": "stdout",
     "output_type": "stream",
     "text": [
      "Model: king99_pareto_modification\n",
      "        Computed from the raw b_i samples by multiplying by population and then getting\n",
      "        the proportion of the total pop (total pop=summed across all districts):\n",
      "        The posterior mean for the district-level voting preference of\n",
      "        $150,000+ for Joe Cunningham (Democratic Party) is\n",
      "        0.386\n",
      "        The posterior mean for the district-level voting preference of\n",
      "        non-$150,000+ for Joe Cunningham (Democratic Party) is\n",
      "        0.423\n",
      "        95% equal-tailed Bayesian credible interval for district-level voting preference of\n",
      "        $150,000+ for Joe Cunningham (Democratic Party) is\n",
      "        [0.179709  0.6034916]\n",
      "        95% equal-tailed Bayesian credible interval for district-level voting preference of\n",
      "        non-$150,000+ for Joe Cunningham (Democratic Party) is\n",
      "        [0.37247871 0.47250233]\n",
      "        \n"
     ]
    }
   ],
   "source": [
    "dem_150_more_ei_suburban, dem_150_more_summary_suburban = run_ecological_inference(\n",
    "    df=sc_economic_merged_ei_suburban_df,\n",
    "    demographic_col=\"150K_MORE_PERCENT\",\n",
    "    voting_col=\"DEMOCRATIC_PERCENT\",\n",
    "    total_votes_col=\"TOT_VOT\",\n",
    "    demographic_group_name=\"$150,000+\",\n",
    "    candidate_name=sc_candidate_mapping['DEMOCRATIC']\n",
    ")"
   ]
  },
  {
   "cell_type": "code",
   "execution_count": 468,
   "metadata": {},
   "outputs": [
    {
     "name": "stderr",
     "output_type": "stream",
     "text": [
      "Compiling...\n",
      "Compilation time = 0:00:01.228933\n",
      "Sampling...\n"
     ]
    },
    {
     "data": {
      "application/vnd.jupyter.widget-view+json": {
       "model_id": "10f3c68edcf94d018332059e3452c2ff",
       "version_major": 2,
       "version_minor": 0
      },
      "text/plain": [
       "  0%|          | 0/2500 [00:00<?, ?it/s]"
      ]
     },
     "metadata": {},
     "output_type": "display_data"
    },
    {
     "data": {
      "application/vnd.jupyter.widget-view+json": {
       "model_id": "aa92c27936cf4602a25b0d03a0692f73",
       "version_major": 2,
       "version_minor": 0
      },
      "text/plain": [
       "  0%|          | 0/2500 [00:00<?, ?it/s]"
      ]
     },
     "metadata": {},
     "output_type": "display_data"
    },
    {
     "data": {
      "application/vnd.jupyter.widget-view+json": {
       "model_id": "ba4bf989a7784cbeae3001ed3e15e16b",
       "version_major": 2,
       "version_minor": 0
      },
      "text/plain": [
       "  0%|          | 0/2500 [00:00<?, ?it/s]"
      ]
     },
     "metadata": {},
     "output_type": "display_data"
    },
    {
     "data": {
      "application/vnd.jupyter.widget-view+json": {
       "model_id": "57e91441538542beb7a3b8c10b7a602e",
       "version_major": 2,
       "version_minor": 0
      },
      "text/plain": [
       "  0%|          | 0/2500 [00:00<?, ?it/s]"
      ]
     },
     "metadata": {},
     "output_type": "display_data"
    },
    {
     "name": "stderr",
     "output_type": "stream",
     "text": [
      "Sampling time = 0:00:01.877593\n",
      "Transforming variables...\n",
      "Transformation time = 0:00:18.798086\n"
     ]
    },
    {
     "name": "stdout",
     "output_type": "stream",
     "text": [
      "Model: king99_pareto_modification\n",
      "        Computed from the raw b_i samples by multiplying by population and then getting\n",
      "        the proportion of the total pop (total pop=summed across all districts):\n",
      "        The posterior mean for the district-level voting preference of\n",
      "        $150,000+ for Joe Cunningham (Democratic Party) is\n",
      "        0.508\n",
      "        The posterior mean for the district-level voting preference of\n",
      "        non-$150,000+ for Joe Cunningham (Democratic Party) is\n",
      "        0.371\n",
      "        95% equal-tailed Bayesian credible interval for district-level voting preference of\n",
      "        $150,000+ for Joe Cunningham (Democratic Party) is\n",
      "        [0.26671772 0.71866448]\n",
      "        95% equal-tailed Bayesian credible interval for district-level voting preference of\n",
      "        non-$150,000+ for Joe Cunningham (Democratic Party) is\n",
      "        [0.31818039 0.43264775]\n",
      "        \n"
     ]
    }
   ],
   "source": [
    "dem_150_more_ei_urban, dem_150_more_summary_urban = run_ecological_inference(\n",
    "    df=sc_economic_merged_ei_urban_df,\n",
    "    demographic_col=\"150K_MORE_PERCENT\",\n",
    "    voting_col=\"DEMOCRATIC_PERCENT\",\n",
    "    total_votes_col=\"TOT_VOT\",\n",
    "    demographic_group_name=\"$150,000+\",\n",
    "    candidate_name=sc_candidate_mapping['DEMOCRATIC']\n",
    ")"
   ]
  },
  {
   "cell_type": "markdown",
   "metadata": {},
   "source": [
    "##### Rep Run"
   ]
  },
  {
   "cell_type": "code",
   "execution_count": 469,
   "metadata": {},
   "outputs": [
    {
     "name": "stderr",
     "output_type": "stream",
     "text": [
      "Compiling...\n",
      "Compilation time = 0:00:01.297273\n",
      "Sampling...\n"
     ]
    },
    {
     "data": {
      "application/vnd.jupyter.widget-view+json": {
       "model_id": "7fc818b177134552979e508e3cbe7c7b",
       "version_major": 2,
       "version_minor": 0
      },
      "text/plain": [
       "  0%|          | 0/2500 [00:00<?, ?it/s]"
      ]
     },
     "metadata": {},
     "output_type": "display_data"
    },
    {
     "data": {
      "application/vnd.jupyter.widget-view+json": {
       "model_id": "9020269f5334430eae0fe849241617df",
       "version_major": 2,
       "version_minor": 0
      },
      "text/plain": [
       "  0%|          | 0/2500 [00:00<?, ?it/s]"
      ]
     },
     "metadata": {},
     "output_type": "display_data"
    },
    {
     "data": {
      "application/vnd.jupyter.widget-view+json": {
       "model_id": "c0f10d3639b7448da3b3900c28887d48",
       "version_major": 2,
       "version_minor": 0
      },
      "text/plain": [
       "  0%|          | 0/2500 [00:00<?, ?it/s]"
      ]
     },
     "metadata": {},
     "output_type": "display_data"
    },
    {
     "data": {
      "application/vnd.jupyter.widget-view+json": {
       "model_id": "2e9c761b8dc442089f45f401f10eb1ff",
       "version_major": 2,
       "version_minor": 0
      },
      "text/plain": [
       "  0%|          | 0/2500 [00:00<?, ?it/s]"
      ]
     },
     "metadata": {},
     "output_type": "display_data"
    },
    {
     "name": "stderr",
     "output_type": "stream",
     "text": [
      "Sampling time = 0:00:02.006625\n",
      "Transforming variables...\n",
      "Transformation time = 0:00:18.306498\n"
     ]
    },
    {
     "name": "stdout",
     "output_type": "stream",
     "text": [
      "Model: king99_pareto_modification\n",
      "        Computed from the raw b_i samples by multiplying by population and then getting\n",
      "        the proportion of the total pop (total pop=summed across all districts):\n",
      "        The posterior mean for the district-level voting preference of\n",
      "        $0-$35,000 for Henry McMaster (Republican Party) is\n",
      "        0.372\n",
      "        The posterior mean for the district-level voting preference of\n",
      "        non-$0-$35,000 for Henry McMaster (Republican Party) is\n",
      "        0.656\n",
      "        95% equal-tailed Bayesian credible interval for district-level voting preference of\n",
      "        $0-$35,000 for Henry McMaster (Republican Party) is\n",
      "        [0.24974123 0.49526003]\n",
      "        95% equal-tailed Bayesian credible interval for district-level voting preference of\n",
      "        non-$0-$35,000 for Henry McMaster (Republican Party) is\n",
      "        [0.61879745 0.692483  ]\n",
      "        \n"
     ]
    }
   ],
   "source": [
    "rep_0_35_ei, rep_0_35_summary = run_ecological_inference(\n",
    "    df=sc_economic_merged_ei_df,\n",
    "    demographic_col=\"0_35K_PERCENT\",\n",
    "    voting_col=\"REPUBLICAN_PERCENT\",\n",
    "    total_votes_col=\"TOT_VOT\",\n",
    "    demographic_group_name=\"$0-$35,000\",\n",
    "    candidate_name=sc_candidate_mapping['REPUBLICAN']\n",
    ")"
   ]
  },
  {
   "cell_type": "code",
   "execution_count": 470,
   "metadata": {},
   "outputs": [
    {
     "name": "stderr",
     "output_type": "stream",
     "text": [
      "Compiling...\n",
      "Compilation time = 0:00:01.225608\n",
      "Sampling...\n"
     ]
    },
    {
     "data": {
      "application/vnd.jupyter.widget-view+json": {
       "model_id": "679c9a88632549ca9a37d440c646a0d4",
       "version_major": 2,
       "version_minor": 0
      },
      "text/plain": [
       "  0%|          | 0/2500 [00:00<?, ?it/s]"
      ]
     },
     "metadata": {},
     "output_type": "display_data"
    },
    {
     "data": {
      "application/vnd.jupyter.widget-view+json": {
       "model_id": "cc2b6195a54c432b8cc563fb2ae4eae2",
       "version_major": 2,
       "version_minor": 0
      },
      "text/plain": [
       "  0%|          | 0/2500 [00:00<?, ?it/s]"
      ]
     },
     "metadata": {},
     "output_type": "display_data"
    },
    {
     "data": {
      "application/vnd.jupyter.widget-view+json": {
       "model_id": "ea4d1ea206d0450fb8d36f1be872d7a5",
       "version_major": 2,
       "version_minor": 0
      },
      "text/plain": [
       "  0%|          | 0/2500 [00:00<?, ?it/s]"
      ]
     },
     "metadata": {},
     "output_type": "display_data"
    },
    {
     "data": {
      "application/vnd.jupyter.widget-view+json": {
       "model_id": "127d41d53acb44bc9773c602f898da6c",
       "version_major": 2,
       "version_minor": 0
      },
      "text/plain": [
       "  0%|          | 0/2500 [00:00<?, ?it/s]"
      ]
     },
     "metadata": {},
     "output_type": "display_data"
    },
    {
     "name": "stderr",
     "output_type": "stream",
     "text": [
      "Sampling time = 0:00:02.003472\n",
      "Transforming variables...\n",
      "Transformation time = 0:00:17.684859\n"
     ]
    },
    {
     "name": "stdout",
     "output_type": "stream",
     "text": [
      "Model: king99_pareto_modification\n",
      "        Computed from the raw b_i samples by multiplying by population and then getting\n",
      "        the proportion of the total pop (total pop=summed across all districts):\n",
      "        The posterior mean for the district-level voting preference of\n",
      "        $0-$35,000 for Henry McMaster (Republican Party) is\n",
      "        0.434\n",
      "        The posterior mean for the district-level voting preference of\n",
      "        non-$0-$35,000 for Henry McMaster (Republican Party) is\n",
      "        0.631\n",
      "        95% equal-tailed Bayesian credible interval for district-level voting preference of\n",
      "        $0-$35,000 for Henry McMaster (Republican Party) is\n",
      "        [0.33283288 0.5448951 ]\n",
      "        95% equal-tailed Bayesian credible interval for district-level voting preference of\n",
      "        non-$0-$35,000 for Henry McMaster (Republican Party) is\n",
      "        [0.59014376 0.66758048]\n",
      "        \n"
     ]
    }
   ],
   "source": [
    "rep_0_35_ei_rural, rep_0_35_summary_rural = run_ecological_inference(\n",
    "    df=sc_economic_merged_ei_rural_df,\n",
    "    demographic_col=\"0_35K_PERCENT\",\n",
    "    voting_col=\"REPUBLICAN_PERCENT\",\n",
    "    total_votes_col=\"TOT_VOT\",\n",
    "    demographic_group_name=\"$0-$35,000\",\n",
    "    candidate_name=sc_candidate_mapping['REPUBLICAN']\n",
    ")"
   ]
  },
  {
   "cell_type": "code",
   "execution_count": 471,
   "metadata": {},
   "outputs": [
    {
     "name": "stderr",
     "output_type": "stream",
     "text": [
      "Compiling...\n",
      "Compilation time = 0:00:03.797189\n",
      "Sampling...\n"
     ]
    },
    {
     "data": {
      "application/vnd.jupyter.widget-view+json": {
       "model_id": "58e92555ffe84eecabb48d47676c4c3e",
       "version_major": 2,
       "version_minor": 0
      },
      "text/plain": [
       "  0%|          | 0/2500 [00:00<?, ?it/s]"
      ]
     },
     "metadata": {},
     "output_type": "display_data"
    },
    {
     "data": {
      "application/vnd.jupyter.widget-view+json": {
       "model_id": "d605445320584a81b832c17e62eb4613",
       "version_major": 2,
       "version_minor": 0
      },
      "text/plain": [
       "  0%|          | 0/2500 [00:00<?, ?it/s]"
      ]
     },
     "metadata": {},
     "output_type": "display_data"
    },
    {
     "data": {
      "application/vnd.jupyter.widget-view+json": {
       "model_id": "bd3eb2ccf0a34ebb9ff573ac6655f823",
       "version_major": 2,
       "version_minor": 0
      },
      "text/plain": [
       "  0%|          | 0/2500 [00:00<?, ?it/s]"
      ]
     },
     "metadata": {},
     "output_type": "display_data"
    },
    {
     "data": {
      "application/vnd.jupyter.widget-view+json": {
       "model_id": "1b90d4eeac05420089791caef7afa402",
       "version_major": 2,
       "version_minor": 0
      },
      "text/plain": [
       "  0%|          | 0/2500 [00:00<?, ?it/s]"
      ]
     },
     "metadata": {},
     "output_type": "display_data"
    },
    {
     "name": "stderr",
     "output_type": "stream",
     "text": [
      "Sampling time = 0:00:02.035266\n",
      "Transforming variables...\n",
      "Transformation time = 0:00:22.274652\n"
     ]
    },
    {
     "name": "stdout",
     "output_type": "stream",
     "text": [
      "Model: king99_pareto_modification\n",
      "        Computed from the raw b_i samples by multiplying by population and then getting\n",
      "        the proportion of the total pop (total pop=summed across all districts):\n",
      "        The posterior mean for the district-level voting preference of\n",
      "        $0-$35,000 for Henry McMaster (Republican Party) is\n",
      "        0.357\n",
      "        The posterior mean for the district-level voting preference of\n",
      "        non-$0-$35,000 for Henry McMaster (Republican Party) is\n",
      "        0.646\n",
      "        95% equal-tailed Bayesian credible interval for district-level voting preference of\n",
      "        $0-$35,000 for Henry McMaster (Republican Party) is\n",
      "        [0.25030126 0.47944579]\n",
      "        95% equal-tailed Bayesian credible interval for district-level voting preference of\n",
      "        non-$0-$35,000 for Henry McMaster (Republican Party) is\n",
      "        [0.60804134 0.67991092]\n",
      "        \n"
     ]
    }
   ],
   "source": [
    "rep_0_35_ei_suburban, rep_0_35_summary_suburban = run_ecological_inference(\n",
    "    df=sc_economic_merged_ei_suburban_df,\n",
    "    demographic_col=\"0_35K_PERCENT\",\n",
    "    voting_col=\"REPUBLICAN_PERCENT\",\n",
    "    total_votes_col=\"TOT_VOT\",\n",
    "    demographic_group_name=\"$0-$35,000\",\n",
    "    candidate_name=sc_candidate_mapping['REPUBLICAN']\n",
    ")"
   ]
  },
  {
   "cell_type": "code",
   "execution_count": 472,
   "metadata": {},
   "outputs": [
    {
     "name": "stderr",
     "output_type": "stream",
     "text": [
      "Compiling...\n",
      "Compilation time = 0:00:01.435231\n",
      "Sampling...\n"
     ]
    },
    {
     "data": {
      "application/vnd.jupyter.widget-view+json": {
       "model_id": "a6111e5135864a20ada435432ee68778",
       "version_major": 2,
       "version_minor": 0
      },
      "text/plain": [
       "  0%|          | 0/2500 [00:00<?, ?it/s]"
      ]
     },
     "metadata": {},
     "output_type": "display_data"
    },
    {
     "data": {
      "application/vnd.jupyter.widget-view+json": {
       "model_id": "e8c19d0e91694731a968582c65970671",
       "version_major": 2,
       "version_minor": 0
      },
      "text/plain": [
       "  0%|          | 0/2500 [00:00<?, ?it/s]"
      ]
     },
     "metadata": {},
     "output_type": "display_data"
    },
    {
     "data": {
      "application/vnd.jupyter.widget-view+json": {
       "model_id": "bde47ddc06af4a259285f5694cffdf2a",
       "version_major": 2,
       "version_minor": 0
      },
      "text/plain": [
       "  0%|          | 0/2500 [00:00<?, ?it/s]"
      ]
     },
     "metadata": {},
     "output_type": "display_data"
    },
    {
     "data": {
      "application/vnd.jupyter.widget-view+json": {
       "model_id": "c67150b4679a4cf2b5c2e04c7e511533",
       "version_major": 2,
       "version_minor": 0
      },
      "text/plain": [
       "  0%|          | 0/2500 [00:00<?, ?it/s]"
      ]
     },
     "metadata": {},
     "output_type": "display_data"
    },
    {
     "name": "stderr",
     "output_type": "stream",
     "text": [
      "Sampling time = 0:00:02.585361\n",
      "Transforming variables...\n",
      "Transformation time = 0:00:20.496697\n"
     ]
    },
    {
     "name": "stdout",
     "output_type": "stream",
     "text": [
      "Model: king99_pareto_modification\n",
      "        Computed from the raw b_i samples by multiplying by population and then getting\n",
      "        the proportion of the total pop (total pop=summed across all districts):\n",
      "        The posterior mean for the district-level voting preference of\n",
      "        $0-$35,000 for Henry McMaster (Republican Party) is\n",
      "        0.354\n",
      "        The posterior mean for the district-level voting preference of\n",
      "        non-$0-$35,000 for Henry McMaster (Republican Party) is\n",
      "        0.663\n",
      "        95% equal-tailed Bayesian credible interval for district-level voting preference of\n",
      "        $0-$35,000 for Henry McMaster (Republican Party) is\n",
      "        [0.21945312 0.51239337]\n",
      "        95% equal-tailed Bayesian credible interval for district-level voting preference of\n",
      "        non-$0-$35,000 for Henry McMaster (Republican Party) is\n",
      "        [0.62549947 0.696164  ]\n",
      "        \n"
     ]
    }
   ],
   "source": [
    "rep_0_35_ei_urban, rep_0_35_summary_urban = run_ecological_inference(\n",
    "    df=sc_economic_merged_ei_urban_df,\n",
    "    demographic_col=\"0_35K_PERCENT\",\n",
    "    voting_col=\"REPUBLICAN_PERCENT\",\n",
    "    total_votes_col=\"TOT_VOT\",\n",
    "    demographic_group_name=\"$0-$35,000\",\n",
    "    candidate_name=sc_candidate_mapping['REPUBLICAN']\n",
    ")"
   ]
  },
  {
   "cell_type": "code",
   "execution_count": 473,
   "metadata": {},
   "outputs": [
    {
     "name": "stderr",
     "output_type": "stream",
     "text": [
      "Compiling...\n",
      "Compilation time = 0:00:01.351391\n",
      "Sampling...\n"
     ]
    },
    {
     "data": {
      "application/vnd.jupyter.widget-view+json": {
       "model_id": "c51ede3d33f1461fa205c6ed8fcd7db1",
       "version_major": 2,
       "version_minor": 0
      },
      "text/plain": [
       "  0%|          | 0/2500 [00:00<?, ?it/s]"
      ]
     },
     "metadata": {},
     "output_type": "display_data"
    },
    {
     "data": {
      "application/vnd.jupyter.widget-view+json": {
       "model_id": "5c31a156eef947e0b2c71d4f43b96b17",
       "version_major": 2,
       "version_minor": 0
      },
      "text/plain": [
       "  0%|          | 0/2500 [00:00<?, ?it/s]"
      ]
     },
     "metadata": {},
     "output_type": "display_data"
    },
    {
     "data": {
      "application/vnd.jupyter.widget-view+json": {
       "model_id": "d547249817b148e687e4307e9c284eea",
       "version_major": 2,
       "version_minor": 0
      },
      "text/plain": [
       "  0%|          | 0/2500 [00:00<?, ?it/s]"
      ]
     },
     "metadata": {},
     "output_type": "display_data"
    },
    {
     "data": {
      "application/vnd.jupyter.widget-view+json": {
       "model_id": "9dba1e51f75e444db073b0e885b6cc4b",
       "version_major": 2,
       "version_minor": 0
      },
      "text/plain": [
       "  0%|          | 0/2500 [00:00<?, ?it/s]"
      ]
     },
     "metadata": {},
     "output_type": "display_data"
    },
    {
     "name": "stderr",
     "output_type": "stream",
     "text": [
      "Sampling time = 0:00:02.346736\n",
      "Transforming variables...\n",
      "Transformation time = 0:00:18.312549\n"
     ]
    },
    {
     "name": "stdout",
     "output_type": "stream",
     "text": [
      "Model: king99_pareto_modification\n",
      "        Computed from the raw b_i samples by multiplying by population and then getting\n",
      "        the proportion of the total pop (total pop=summed across all districts):\n",
      "        The posterior mean for the district-level voting preference of\n",
      "        $35,000-$60,000 for Henry McMaster (Republican Party) is\n",
      "        0.393\n",
      "        The posterior mean for the district-level voting preference of\n",
      "        non-$35,000-$60,000 for Henry McMaster (Republican Party) is\n",
      "        0.633\n",
      "        95% equal-tailed Bayesian credible interval for district-level voting preference of\n",
      "        $35,000-$60,000 for Henry McMaster (Republican Party) is\n",
      "        [0.21346675 0.58085882]\n",
      "        95% equal-tailed Bayesian credible interval for district-level voting preference of\n",
      "        non-$35,000-$60,000 for Henry McMaster (Republican Party) is\n",
      "        [0.59292542 0.67144488]\n",
      "        \n"
     ]
    }
   ],
   "source": [
    "rep_35_60_ei, rep_35_60_summary = run_ecological_inference(\n",
    "    df=sc_economic_merged_ei_df,\n",
    "    demographic_col=\"35K_60K_PERCENT\",\n",
    "    voting_col=\"REPUBLICAN_PERCENT\",\n",
    "    total_votes_col=\"TOT_VOT\",\n",
    "    demographic_group_name=\"$35,000-$60,000\",\n",
    "    candidate_name=sc_candidate_mapping['REPUBLICAN']\n",
    ")"
   ]
  },
  {
   "cell_type": "code",
   "execution_count": 474,
   "metadata": {},
   "outputs": [
    {
     "name": "stderr",
     "output_type": "stream",
     "text": [
      "Compiling...\n",
      "Compilation time = 0:00:01.585590\n",
      "Sampling...\n"
     ]
    },
    {
     "data": {
      "application/vnd.jupyter.widget-view+json": {
       "model_id": "ade678a876894b1a80b31d97fb02df12",
       "version_major": 2,
       "version_minor": 0
      },
      "text/plain": [
       "  0%|          | 0/2500 [00:00<?, ?it/s]"
      ]
     },
     "metadata": {},
     "output_type": "display_data"
    },
    {
     "data": {
      "application/vnd.jupyter.widget-view+json": {
       "model_id": "714b71d53efd4c19a01ee3b8e6dedf36",
       "version_major": 2,
       "version_minor": 0
      },
      "text/plain": [
       "  0%|          | 0/2500 [00:00<?, ?it/s]"
      ]
     },
     "metadata": {},
     "output_type": "display_data"
    },
    {
     "data": {
      "application/vnd.jupyter.widget-view+json": {
       "model_id": "e86cb7c262e0425db319018809ecc596",
       "version_major": 2,
       "version_minor": 0
      },
      "text/plain": [
       "  0%|          | 0/2500 [00:00<?, ?it/s]"
      ]
     },
     "metadata": {},
     "output_type": "display_data"
    },
    {
     "data": {
      "application/vnd.jupyter.widget-view+json": {
       "model_id": "1b00b2286d6c4f7e8be4fbb2db8fb228",
       "version_major": 2,
       "version_minor": 0
      },
      "text/plain": [
       "  0%|          | 0/2500 [00:00<?, ?it/s]"
      ]
     },
     "metadata": {},
     "output_type": "display_data"
    },
    {
     "name": "stderr",
     "output_type": "stream",
     "text": [
      "Sampling time = 0:00:03.123805\n",
      "Transforming variables...\n",
      "Transformation time = 0:00:16.018734\n"
     ]
    },
    {
     "name": "stdout",
     "output_type": "stream",
     "text": [
      "Model: king99_pareto_modification\n",
      "        Computed from the raw b_i samples by multiplying by population and then getting\n",
      "        the proportion of the total pop (total pop=summed across all districts):\n",
      "        The posterior mean for the district-level voting preference of\n",
      "        $35,000-$60,000 for Henry McMaster (Republican Party) is\n",
      "        0.469\n",
      "        The posterior mean for the district-level voting preference of\n",
      "        non-$35,000-$60,000 for Henry McMaster (Republican Party) is\n",
      "        0.601\n",
      "        95% equal-tailed Bayesian credible interval for district-level voting preference of\n",
      "        $35,000-$60,000 for Henry McMaster (Republican Party) is\n",
      "        [0.30606606 0.63767819]\n",
      "        95% equal-tailed Bayesian credible interval for district-level voting preference of\n",
      "        non-$35,000-$60,000 for Henry McMaster (Republican Party) is\n",
      "        [0.5654402  0.63536265]\n",
      "        \n"
     ]
    }
   ],
   "source": [
    "rep_35_60_ei_rural, rep_35_60_summary_rural = run_ecological_inference(\n",
    "    df=sc_economic_merged_ei_rural_df,\n",
    "    demographic_col=\"35K_60K_PERCENT\",\n",
    "    voting_col=\"REPUBLICAN_PERCENT\",\n",
    "    total_votes_col=\"TOT_VOT\",\n",
    "    demographic_group_name=\"$35,000-$60,000\",\n",
    "    candidate_name=sc_candidate_mapping['REPUBLICAN']\n",
    ")"
   ]
  },
  {
   "cell_type": "code",
   "execution_count": 475,
   "metadata": {},
   "outputs": [
    {
     "name": "stderr",
     "output_type": "stream",
     "text": [
      "Compiling...\n",
      "Compilation time = 0:00:01.266234\n",
      "Sampling...\n"
     ]
    },
    {
     "data": {
      "application/vnd.jupyter.widget-view+json": {
       "model_id": "7d1191e33ad64e8586999c7310f1de7b",
       "version_major": 2,
       "version_minor": 0
      },
      "text/plain": [
       "  0%|          | 0/2500 [00:00<?, ?it/s]"
      ]
     },
     "metadata": {},
     "output_type": "display_data"
    },
    {
     "data": {
      "application/vnd.jupyter.widget-view+json": {
       "model_id": "af7316e45afd4ba6a5dd6ce7102ad113",
       "version_major": 2,
       "version_minor": 0
      },
      "text/plain": [
       "  0%|          | 0/2500 [00:00<?, ?it/s]"
      ]
     },
     "metadata": {},
     "output_type": "display_data"
    },
    {
     "data": {
      "application/vnd.jupyter.widget-view+json": {
       "model_id": "79d15eaef14443cf96157b2540867535",
       "version_major": 2,
       "version_minor": 0
      },
      "text/plain": [
       "  0%|          | 0/2500 [00:00<?, ?it/s]"
      ]
     },
     "metadata": {},
     "output_type": "display_data"
    },
    {
     "data": {
      "application/vnd.jupyter.widget-view+json": {
       "model_id": "33fc382807a546e5abb0af669eb94493",
       "version_major": 2,
       "version_minor": 0
      },
      "text/plain": [
       "  0%|          | 0/2500 [00:00<?, ?it/s]"
      ]
     },
     "metadata": {},
     "output_type": "display_data"
    },
    {
     "name": "stderr",
     "output_type": "stream",
     "text": [
      "Sampling time = 0:00:02.220450\n",
      "Transforming variables...\n",
      "Transformation time = 0:00:21.172698\n"
     ]
    },
    {
     "name": "stdout",
     "output_type": "stream",
     "text": [
      "Model: king99_pareto_modification\n",
      "        Computed from the raw b_i samples by multiplying by population and then getting\n",
      "        the proportion of the total pop (total pop=summed across all districts):\n",
      "        The posterior mean for the district-level voting preference of\n",
      "        $35,000-$60,000 for Henry McMaster (Republican Party) is\n",
      "        0.309\n",
      "        The posterior mean for the district-level voting preference of\n",
      "        non-$35,000-$60,000 for Henry McMaster (Republican Party) is\n",
      "        0.647\n",
      "        95% equal-tailed Bayesian credible interval for district-level voting preference of\n",
      "        $35,000-$60,000 for Henry McMaster (Republican Party) is\n",
      "        [0.16194673 0.49803396]\n",
      "        95% equal-tailed Bayesian credible interval for district-level voting preference of\n",
      "        non-$35,000-$60,000 for Henry McMaster (Republican Party) is\n",
      "        [0.59903532 0.68503782]\n",
      "        \n"
     ]
    }
   ],
   "source": [
    "rep_35_60_ei_suburban, rep_35_60_summary_suburban = run_ecological_inference(\n",
    "    df=sc_economic_merged_ei_suburban_df,\n",
    "    demographic_col=\"35K_60K_PERCENT\",\n",
    "    voting_col=\"REPUBLICAN_PERCENT\",\n",
    "    total_votes_col=\"TOT_VOT\",\n",
    "    demographic_group_name=\"$35,000-$60,000\",\n",
    "    candidate_name=sc_candidate_mapping['REPUBLICAN']\n",
    ")"
   ]
  },
  {
   "cell_type": "code",
   "execution_count": 476,
   "metadata": {},
   "outputs": [
    {
     "name": "stderr",
     "output_type": "stream",
     "text": [
      "Compiling...\n",
      "Compilation time = 0:00:01.527953\n",
      "Sampling...\n"
     ]
    },
    {
     "data": {
      "application/vnd.jupyter.widget-view+json": {
       "model_id": "79531b1a65514a35a4df9314809088b9",
       "version_major": 2,
       "version_minor": 0
      },
      "text/plain": [
       "  0%|          | 0/2500 [00:00<?, ?it/s]"
      ]
     },
     "metadata": {},
     "output_type": "display_data"
    },
    {
     "data": {
      "application/vnd.jupyter.widget-view+json": {
       "model_id": "e08c38ac458e429599092236523f084c",
       "version_major": 2,
       "version_minor": 0
      },
      "text/plain": [
       "  0%|          | 0/2500 [00:00<?, ?it/s]"
      ]
     },
     "metadata": {},
     "output_type": "display_data"
    },
    {
     "data": {
      "application/vnd.jupyter.widget-view+json": {
       "model_id": "8ef3624d7c394d15b0b4c1e8074d6390",
       "version_major": 2,
       "version_minor": 0
      },
      "text/plain": [
       "  0%|          | 0/2500 [00:00<?, ?it/s]"
      ]
     },
     "metadata": {},
     "output_type": "display_data"
    },
    {
     "data": {
      "application/vnd.jupyter.widget-view+json": {
       "model_id": "4b1e5830394742a2badf7d7900b09e72",
       "version_major": 2,
       "version_minor": 0
      },
      "text/plain": [
       "  0%|          | 0/2500 [00:00<?, ?it/s]"
      ]
     },
     "metadata": {},
     "output_type": "display_data"
    },
    {
     "name": "stderr",
     "output_type": "stream",
     "text": [
      "Sampling time = 0:00:02.364441\n",
      "Transforming variables...\n",
      "Transformation time = 0:00:21.342985\n"
     ]
    },
    {
     "name": "stdout",
     "output_type": "stream",
     "text": [
      "Model: king99_pareto_modification\n",
      "        Computed from the raw b_i samples by multiplying by population and then getting\n",
      "        the proportion of the total pop (total pop=summed across all districts):\n",
      "        The posterior mean for the district-level voting preference of\n",
      "        $35,000-$60,000 for Henry McMaster (Republican Party) is\n",
      "        0.294\n",
      "        The posterior mean for the district-level voting preference of\n",
      "        non-$35,000-$60,000 for Henry McMaster (Republican Party) is\n",
      "        0.678\n",
      "        95% equal-tailed Bayesian credible interval for district-level voting preference of\n",
      "        $35,000-$60,000 for Henry McMaster (Republican Party) is\n",
      "        [0.13864358 0.51948741]\n",
      "        95% equal-tailed Bayesian credible interval for district-level voting preference of\n",
      "        non-$35,000-$60,000 for Henry McMaster (Republican Party) is\n",
      "        [0.62313609 0.71644825]\n",
      "        \n"
     ]
    }
   ],
   "source": [
    "rep_35_60_ei_urban, rep_35_60_summary_urban = run_ecological_inference(\n",
    "    df=sc_economic_merged_ei_urban_df,\n",
    "    demographic_col=\"35K_60K_PERCENT\",\n",
    "    voting_col=\"REPUBLICAN_PERCENT\",\n",
    "    total_votes_col=\"TOT_VOT\",\n",
    "    demographic_group_name=\"$35,000-$60,000\",\n",
    "    candidate_name=sc_candidate_mapping['REPUBLICAN']\n",
    ")"
   ]
  },
  {
   "cell_type": "code",
   "execution_count": 477,
   "metadata": {},
   "outputs": [
    {
     "name": "stderr",
     "output_type": "stream",
     "text": [
      "Compiling...\n",
      "Compilation time = 0:00:05.575699\n",
      "Sampling...\n"
     ]
    },
    {
     "data": {
      "application/vnd.jupyter.widget-view+json": {
       "model_id": "1ebe606b84614744865e827444e4efab",
       "version_major": 2,
       "version_minor": 0
      },
      "text/plain": [
       "  0%|          | 0/2500 [00:00<?, ?it/s]"
      ]
     },
     "metadata": {},
     "output_type": "display_data"
    },
    {
     "data": {
      "application/vnd.jupyter.widget-view+json": {
       "model_id": "20b3f7c3e15545daaef4c96a784fc3c7",
       "version_major": 2,
       "version_minor": 0
      },
      "text/plain": [
       "  0%|          | 0/2500 [00:00<?, ?it/s]"
      ]
     },
     "metadata": {},
     "output_type": "display_data"
    },
    {
     "data": {
      "application/vnd.jupyter.widget-view+json": {
       "model_id": "903d6888308940e99474b7093a06558f",
       "version_major": 2,
       "version_minor": 0
      },
      "text/plain": [
       "  0%|          | 0/2500 [00:00<?, ?it/s]"
      ]
     },
     "metadata": {},
     "output_type": "display_data"
    },
    {
     "data": {
      "application/vnd.jupyter.widget-view+json": {
       "model_id": "7cb47fe9725e4dd68beedf6ffd6f53ab",
       "version_major": 2,
       "version_minor": 0
      },
      "text/plain": [
       "  0%|          | 0/2500 [00:00<?, ?it/s]"
      ]
     },
     "metadata": {},
     "output_type": "display_data"
    },
    {
     "name": "stderr",
     "output_type": "stream",
     "text": [
      "Sampling time = 0:00:02.124230\n",
      "Transforming variables...\n",
      "Transformation time = 0:00:19.885442\n"
     ]
    },
    {
     "name": "stdout",
     "output_type": "stream",
     "text": [
      "Model: king99_pareto_modification\n",
      "        Computed from the raw b_i samples by multiplying by population and then getting\n",
      "        the proportion of the total pop (total pop=summed across all districts):\n",
      "        The posterior mean for the district-level voting preference of\n",
      "        $35,000-$60,000 for Henry McMaster (Republican Party) is\n",
      "        0.430\n",
      "        The posterior mean for the district-level voting preference of\n",
      "        non-$35,000-$60,000 for Henry McMaster (Republican Party) is\n",
      "        0.634\n",
      "        95% equal-tailed Bayesian credible interval for district-level voting preference of\n",
      "        $35,000-$60,000 for Henry McMaster (Republican Party) is\n",
      "        [0.23108722 0.6372176 ]\n",
      "        95% equal-tailed Bayesian credible interval for district-level voting preference of\n",
      "        non-$35,000-$60,000 for Henry McMaster (Republican Party) is\n",
      "        [0.57823622 0.6866715 ]\n",
      "        \n"
     ]
    }
   ],
   "source": [
    "rep_60_100_ei, rep_60_100_summary = run_ecological_inference(\n",
    "    df=sc_economic_merged_ei_df,\n",
    "    demographic_col=\"60K_100K_PERCENT\",\n",
    "    voting_col=\"REPUBLICAN_PERCENT\",\n",
    "    total_votes_col=\"TOT_VOT\",\n",
    "    demographic_group_name=\"$35,000-$60,000\",\n",
    "    candidate_name=sc_candidate_mapping['REPUBLICAN']\n",
    ")"
   ]
  },
  {
   "cell_type": "code",
   "execution_count": 478,
   "metadata": {},
   "outputs": [
    {
     "name": "stderr",
     "output_type": "stream",
     "text": [
      "Compiling...\n",
      "Compilation time = 0:00:01.427513\n",
      "Sampling...\n"
     ]
    },
    {
     "data": {
      "application/vnd.jupyter.widget-view+json": {
       "model_id": "3f643c8de9894bf0819d06b8aa4080ff",
       "version_major": 2,
       "version_minor": 0
      },
      "text/plain": [
       "  0%|          | 0/2500 [00:00<?, ?it/s]"
      ]
     },
     "metadata": {},
     "output_type": "display_data"
    },
    {
     "data": {
      "application/vnd.jupyter.widget-view+json": {
       "model_id": "dd80bf7e15bb4aaf9d537cc0ba704168",
       "version_major": 2,
       "version_minor": 0
      },
      "text/plain": [
       "  0%|          | 0/2500 [00:00<?, ?it/s]"
      ]
     },
     "metadata": {},
     "output_type": "display_data"
    },
    {
     "data": {
      "application/vnd.jupyter.widget-view+json": {
       "model_id": "a79995b34b4b43e5911ba9fa34acf2d0",
       "version_major": 2,
       "version_minor": 0
      },
      "text/plain": [
       "  0%|          | 0/2500 [00:00<?, ?it/s]"
      ]
     },
     "metadata": {},
     "output_type": "display_data"
    },
    {
     "data": {
      "application/vnd.jupyter.widget-view+json": {
       "model_id": "a4e018a0492d4feb966999723750777b",
       "version_major": 2,
       "version_minor": 0
      },
      "text/plain": [
       "  0%|          | 0/2500 [00:00<?, ?it/s]"
      ]
     },
     "metadata": {},
     "output_type": "display_data"
    },
    {
     "name": "stderr",
     "output_type": "stream",
     "text": [
      "Sampling time = 0:00:02.100966\n",
      "Transforming variables...\n",
      "Transformation time = 0:00:18.767512\n"
     ]
    },
    {
     "name": "stdout",
     "output_type": "stream",
     "text": [
      "Model: king99_pareto_modification\n",
      "        Computed from the raw b_i samples by multiplying by population and then getting\n",
      "        the proportion of the total pop (total pop=summed across all districts):\n",
      "        The posterior mean for the district-level voting preference of\n",
      "        $35,000-$60,000 for Henry McMaster (Republican Party) is\n",
      "        0.462\n",
      "        The posterior mean for the district-level voting preference of\n",
      "        non-$35,000-$60,000 for Henry McMaster (Republican Party) is\n",
      "        0.606\n",
      "        95% equal-tailed Bayesian credible interval for district-level voting preference of\n",
      "        $35,000-$60,000 for Henry McMaster (Republican Party) is\n",
      "        [0.29384257 0.64393551]\n",
      "        95% equal-tailed Bayesian credible interval for district-level voting preference of\n",
      "        non-$35,000-$60,000 for Henry McMaster (Republican Party) is\n",
      "        [0.56322754 0.64423549]\n",
      "        \n"
     ]
    }
   ],
   "source": [
    "rep_60_100_ei_rural, rep_60_100_summary_rural = run_ecological_inference(\n",
    "    df=sc_economic_merged_ei_rural_df,\n",
    "    demographic_col=\"60K_100K_PERCENT\",\n",
    "    voting_col=\"REPUBLICAN_PERCENT\",\n",
    "    total_votes_col=\"TOT_VOT\",\n",
    "    demographic_group_name=\"$35,000-$60,000\",\n",
    "    candidate_name=sc_candidate_mapping['REPUBLICAN']\n",
    ")"
   ]
  },
  {
   "cell_type": "code",
   "execution_count": 479,
   "metadata": {},
   "outputs": [
    {
     "name": "stderr",
     "output_type": "stream",
     "text": [
      "Compiling...\n",
      "Compilation time = 0:00:01.351116\n",
      "Sampling...\n"
     ]
    },
    {
     "data": {
      "application/vnd.jupyter.widget-view+json": {
       "model_id": "8ca24fc1ee374b14b038c9ca77e71b1f",
       "version_major": 2,
       "version_minor": 0
      },
      "text/plain": [
       "  0%|          | 0/2500 [00:00<?, ?it/s]"
      ]
     },
     "metadata": {},
     "output_type": "display_data"
    },
    {
     "data": {
      "application/vnd.jupyter.widget-view+json": {
       "model_id": "0f2a94c11d924a8eaadd0717a35a7ca1",
       "version_major": 2,
       "version_minor": 0
      },
      "text/plain": [
       "  0%|          | 0/2500 [00:00<?, ?it/s]"
      ]
     },
     "metadata": {},
     "output_type": "display_data"
    },
    {
     "data": {
      "application/vnd.jupyter.widget-view+json": {
       "model_id": "4fdb7ad690d44235808ed3a94bd151af",
       "version_major": 2,
       "version_minor": 0
      },
      "text/plain": [
       "  0%|          | 0/2500 [00:00<?, ?it/s]"
      ]
     },
     "metadata": {},
     "output_type": "display_data"
    },
    {
     "data": {
      "application/vnd.jupyter.widget-view+json": {
       "model_id": "a304642739fa426e9197e4c3fdd80d03",
       "version_major": 2,
       "version_minor": 0
      },
      "text/plain": [
       "  0%|          | 0/2500 [00:00<?, ?it/s]"
      ]
     },
     "metadata": {},
     "output_type": "display_data"
    },
    {
     "name": "stderr",
     "output_type": "stream",
     "text": [
      "Sampling time = 0:00:02.305584\n",
      "Transforming variables...\n",
      "Transformation time = 0:00:20.058645\n"
     ]
    },
    {
     "name": "stdout",
     "output_type": "stream",
     "text": [
      "Model: king99_pareto_modification\n",
      "        Computed from the raw b_i samples by multiplying by population and then getting\n",
      "        the proportion of the total pop (total pop=summed across all districts):\n",
      "        The posterior mean for the district-level voting preference of\n",
      "        $35,000-$60,000 for Henry McMaster (Republican Party) is\n",
      "        0.485\n",
      "        The posterior mean for the district-level voting preference of\n",
      "        non-$35,000-$60,000 for Henry McMaster (Republican Party) is\n",
      "        0.612\n",
      "        95% equal-tailed Bayesian credible interval for district-level voting preference of\n",
      "        $35,000-$60,000 for Henry McMaster (Republican Party) is\n",
      "        [0.33615411 0.64286245]\n",
      "        95% equal-tailed Bayesian credible interval for district-level voting preference of\n",
      "        non-$35,000-$60,000 for Henry McMaster (Republican Party) is\n",
      "        [0.56453975 0.65568588]\n",
      "        \n"
     ]
    }
   ],
   "source": [
    "rep_60_100_ei_suburban, rep_60_100_summary_suburban = run_ecological_inference(\n",
    "    df=sc_economic_merged_ei_suburban_df,\n",
    "    demographic_col=\"60K_100K_PERCENT\",\n",
    "    voting_col=\"REPUBLICAN_PERCENT\",\n",
    "    total_votes_col=\"TOT_VOT\",\n",
    "    demographic_group_name=\"$35,000-$60,000\",\n",
    "    candidate_name=sc_candidate_mapping['REPUBLICAN']\n",
    ")"
   ]
  },
  {
   "cell_type": "code",
   "execution_count": 480,
   "metadata": {},
   "outputs": [
    {
     "name": "stderr",
     "output_type": "stream",
     "text": [
      "Compiling...\n",
      "Compilation time = 0:00:01.341861\n",
      "Sampling...\n"
     ]
    },
    {
     "data": {
      "application/vnd.jupyter.widget-view+json": {
       "model_id": "e211d4628f4646ab87c173ca4ad69ba7",
       "version_major": 2,
       "version_minor": 0
      },
      "text/plain": [
       "  0%|          | 0/2500 [00:00<?, ?it/s]"
      ]
     },
     "metadata": {},
     "output_type": "display_data"
    },
    {
     "data": {
      "application/vnd.jupyter.widget-view+json": {
       "model_id": "74eb45994a9b40438e348bd178629a01",
       "version_major": 2,
       "version_minor": 0
      },
      "text/plain": [
       "  0%|          | 0/2500 [00:00<?, ?it/s]"
      ]
     },
     "metadata": {},
     "output_type": "display_data"
    },
    {
     "data": {
      "application/vnd.jupyter.widget-view+json": {
       "model_id": "5c688bb6068641c799925ecf2284ddef",
       "version_major": 2,
       "version_minor": 0
      },
      "text/plain": [
       "  0%|          | 0/2500 [00:00<?, ?it/s]"
      ]
     },
     "metadata": {},
     "output_type": "display_data"
    },
    {
     "data": {
      "application/vnd.jupyter.widget-view+json": {
       "model_id": "8dadd7b5c3674fa8aae7068e2a064b72",
       "version_major": 2,
       "version_minor": 0
      },
      "text/plain": [
       "  0%|          | 0/2500 [00:00<?, ?it/s]"
      ]
     },
     "metadata": {},
     "output_type": "display_data"
    },
    {
     "name": "stderr",
     "output_type": "stream",
     "text": [
      "Sampling time = 0:00:02.321423\n",
      "Transforming variables...\n",
      "Transformation time = 0:00:28.070200\n"
     ]
    },
    {
     "name": "stdout",
     "output_type": "stream",
     "text": [
      "Model: king99_pareto_modification\n",
      "        Computed from the raw b_i samples by multiplying by population and then getting\n",
      "        the proportion of the total pop (total pop=summed across all districts):\n",
      "        The posterior mean for the district-level voting preference of\n",
      "        $35,000-$60,000 for Henry McMaster (Republican Party) is\n",
      "        0.613\n",
      "        The posterior mean for the district-level voting preference of\n",
      "        non-$35,000-$60,000 for Henry McMaster (Republican Party) is\n",
      "        0.602\n",
      "        95% equal-tailed Bayesian credible interval for district-level voting preference of\n",
      "        $35,000-$60,000 for Henry McMaster (Republican Party) is\n",
      "        [0.35931713 0.83537504]\n",
      "        95% equal-tailed Bayesian credible interval for district-level voting preference of\n",
      "        non-$35,000-$60,000 for Henry McMaster (Republican Party) is\n",
      "        [0.53007935 0.68652151]\n",
      "        \n"
     ]
    }
   ],
   "source": [
    "rep_60_100_ei_urban, rep_60_100_summary_urban = run_ecological_inference(\n",
    "    df=sc_economic_merged_ei_urban_df,\n",
    "    demographic_col=\"60K_100K_PERCENT\",\n",
    "    voting_col=\"REPUBLICAN_PERCENT\",\n",
    "    total_votes_col=\"TOT_VOT\",\n",
    "    demographic_group_name=\"$35,000-$60,000\",\n",
    "    candidate_name=sc_candidate_mapping['REPUBLICAN']\n",
    ")"
   ]
  },
  {
   "cell_type": "code",
   "execution_count": 481,
   "metadata": {},
   "outputs": [
    {
     "name": "stderr",
     "output_type": "stream",
     "text": [
      "Compiling...\n",
      "Compilation time = 0:00:01.560515\n",
      "Sampling...\n"
     ]
    },
    {
     "data": {
      "application/vnd.jupyter.widget-view+json": {
       "model_id": "eef9247c81104c79aba5c095d3e8dc41",
       "version_major": 2,
       "version_minor": 0
      },
      "text/plain": [
       "  0%|          | 0/2500 [00:00<?, ?it/s]"
      ]
     },
     "metadata": {},
     "output_type": "display_data"
    },
    {
     "data": {
      "application/vnd.jupyter.widget-view+json": {
       "model_id": "c4ad0c1b27ec42998c30fef7e8b8e564",
       "version_major": 2,
       "version_minor": 0
      },
      "text/plain": [
       "  0%|          | 0/2500 [00:00<?, ?it/s]"
      ]
     },
     "metadata": {},
     "output_type": "display_data"
    },
    {
     "data": {
      "application/vnd.jupyter.widget-view+json": {
       "model_id": "f2b4c8391b1e40b7af7feefb3bfef321",
       "version_major": 2,
       "version_minor": 0
      },
      "text/plain": [
       "  0%|          | 0/2500 [00:00<?, ?it/s]"
      ]
     },
     "metadata": {},
     "output_type": "display_data"
    },
    {
     "data": {
      "application/vnd.jupyter.widget-view+json": {
       "model_id": "f38ea252992d4381bb77f0a550a2ff07",
       "version_major": 2,
       "version_minor": 0
      },
      "text/plain": [
       "  0%|          | 0/2500 [00:00<?, ?it/s]"
      ]
     },
     "metadata": {},
     "output_type": "display_data"
    },
    {
     "name": "stderr",
     "output_type": "stream",
     "text": [
      "Sampling time = 0:00:02.373408\n",
      "Transforming variables...\n",
      "Transformation time = 0:00:12.761773\n"
     ]
    },
    {
     "name": "stdout",
     "output_type": "stream",
     "text": [
      "Model: king99_pareto_modification\n",
      "        Computed from the raw b_i samples by multiplying by population and then getting\n",
      "        the proportion of the total pop (total pop=summed across all districts):\n",
      "        The posterior mean for the district-level voting preference of\n",
      "        $100,000-$125,000 for Henry McMaster (Republican Party) is\n",
      "        0.328\n",
      "        The posterior mean for the district-level voting preference of\n",
      "        non-$100,000-$125,000 for Henry McMaster (Republican Party) is\n",
      "        0.619\n",
      "        95% equal-tailed Bayesian credible interval for district-level voting preference of\n",
      "        $100,000-$125,000 for Henry McMaster (Republican Party) is\n",
      "        [0.08324255 0.63556567]\n",
      "        95% equal-tailed Bayesian credible interval for district-level voting preference of\n",
      "        non-$100,000-$125,000 for Henry McMaster (Republican Party) is\n",
      "        [0.58756217 0.64442375]\n",
      "        \n"
     ]
    }
   ],
   "source": [
    "rep_100_125_ei, rep_100_125_summary = run_ecological_inference(\n",
    "    df=sc_economic_merged_ei_df,\n",
    "    demographic_col=\"100K_125K_PERCENT\",\n",
    "    voting_col=\"REPUBLICAN_PERCENT\",\n",
    "    total_votes_col=\"TOT_VOT\",\n",
    "    demographic_group_name=\"$100,000-$125,000\",\n",
    "    candidate_name=sc_candidate_mapping['REPUBLICAN']\n",
    ")"
   ]
  },
  {
   "cell_type": "code",
   "execution_count": 482,
   "metadata": {},
   "outputs": [
    {
     "name": "stderr",
     "output_type": "stream",
     "text": [
      "Compiling...\n",
      "Compilation time = 0:00:01.384414\n",
      "Sampling...\n"
     ]
    },
    {
     "data": {
      "application/vnd.jupyter.widget-view+json": {
       "model_id": "7261db34316c496c855fe0fa53ae237d",
       "version_major": 2,
       "version_minor": 0
      },
      "text/plain": [
       "  0%|          | 0/2500 [00:00<?, ?it/s]"
      ]
     },
     "metadata": {},
     "output_type": "display_data"
    },
    {
     "data": {
      "application/vnd.jupyter.widget-view+json": {
       "model_id": "7fb172c498ae406aa552335b40b220fe",
       "version_major": 2,
       "version_minor": 0
      },
      "text/plain": [
       "  0%|          | 0/2500 [00:00<?, ?it/s]"
      ]
     },
     "metadata": {},
     "output_type": "display_data"
    },
    {
     "data": {
      "application/vnd.jupyter.widget-view+json": {
       "model_id": "c4cfd8e360a9484eba10dddce6a870c1",
       "version_major": 2,
       "version_minor": 0
      },
      "text/plain": [
       "  0%|          | 0/2500 [00:00<?, ?it/s]"
      ]
     },
     "metadata": {},
     "output_type": "display_data"
    },
    {
     "data": {
      "application/vnd.jupyter.widget-view+json": {
       "model_id": "f1e7235109d74c3c858a1d2de3c5a13f",
       "version_major": 2,
       "version_minor": 0
      },
      "text/plain": [
       "  0%|          | 0/2500 [00:00<?, ?it/s]"
      ]
     },
     "metadata": {},
     "output_type": "display_data"
    },
    {
     "name": "stderr",
     "output_type": "stream",
     "text": [
      "Sampling time = 0:00:02.001384\n",
      "Transforming variables...\n",
      "Transformation time = 0:00:09.836738\n"
     ]
    },
    {
     "name": "stdout",
     "output_type": "stream",
     "text": [
      "Model: king99_pareto_modification\n",
      "        Computed from the raw b_i samples by multiplying by population and then getting\n",
      "        the proportion of the total pop (total pop=summed across all districts):\n",
      "        The posterior mean for the district-level voting preference of\n",
      "        $100,000-$125,000 for Henry McMaster (Republican Party) is\n",
      "        0.321\n",
      "        The posterior mean for the district-level voting preference of\n",
      "        non-$100,000-$125,000 for Henry McMaster (Republican Party) is\n",
      "        0.601\n",
      "        95% equal-tailed Bayesian credible interval for district-level voting preference of\n",
      "        $100,000-$125,000 for Henry McMaster (Republican Party) is\n",
      "        [0.03877274 0.77172609]\n",
      "        95% equal-tailed Bayesian credible interval for district-level voting preference of\n",
      "        non-$100,000-$125,000 for Henry McMaster (Republican Party) is\n",
      "        [0.56658724 0.62266165]\n",
      "        \n"
     ]
    }
   ],
   "source": [
    "rep_100_125_ei_rural, rep_100_125_summary_rural = run_ecological_inference(\n",
    "    df=sc_economic_merged_ei_rural_df,\n",
    "    demographic_col=\"100K_125K_PERCENT\",\n",
    "    voting_col=\"REPUBLICAN_PERCENT\",\n",
    "    total_votes_col=\"TOT_VOT\",\n",
    "    demographic_group_name=\"$100,000-$125,000\",\n",
    "    candidate_name=sc_candidate_mapping['REPUBLICAN']\n",
    ")"
   ]
  },
  {
   "cell_type": "code",
   "execution_count": 483,
   "metadata": {},
   "outputs": [
    {
     "name": "stderr",
     "output_type": "stream",
     "text": [
      "Compiling...\n",
      "Compilation time = 0:00:04.202419\n",
      "Sampling...\n"
     ]
    },
    {
     "data": {
      "application/vnd.jupyter.widget-view+json": {
       "model_id": "f2e37ea6e2e2455289b344861f97e61e",
       "version_major": 2,
       "version_minor": 0
      },
      "text/plain": [
       "  0%|          | 0/2500 [00:00<?, ?it/s]"
      ]
     },
     "metadata": {},
     "output_type": "display_data"
    },
    {
     "data": {
      "application/vnd.jupyter.widget-view+json": {
       "model_id": "6b53e35775884af3aad9839a022a8647",
       "version_major": 2,
       "version_minor": 0
      },
      "text/plain": [
       "  0%|          | 0/2500 [00:00<?, ?it/s]"
      ]
     },
     "metadata": {},
     "output_type": "display_data"
    },
    {
     "data": {
      "application/vnd.jupyter.widget-view+json": {
       "model_id": "4d892b3ec1c14219a12499f77187724e",
       "version_major": 2,
       "version_minor": 0
      },
      "text/plain": [
       "  0%|          | 0/2500 [00:00<?, ?it/s]"
      ]
     },
     "metadata": {},
     "output_type": "display_data"
    },
    {
     "data": {
      "application/vnd.jupyter.widget-view+json": {
       "model_id": "50a97f6e97034aba9b52268779d2debf",
       "version_major": 2,
       "version_minor": 0
      },
      "text/plain": [
       "  0%|          | 0/2500 [00:00<?, ?it/s]"
      ]
     },
     "metadata": {},
     "output_type": "display_data"
    },
    {
     "name": "stderr",
     "output_type": "stream",
     "text": [
      "Sampling time = 0:00:02.030108\n",
      "Transforming variables...\n",
      "Transformation time = 0:00:11.080548\n"
     ]
    },
    {
     "name": "stdout",
     "output_type": "stream",
     "text": [
      "Model: king99_pareto_modification\n",
      "        Computed from the raw b_i samples by multiplying by population and then getting\n",
      "        the proportion of the total pop (total pop=summed across all districts):\n",
      "        The posterior mean for the district-level voting preference of\n",
      "        $100,000-$125,000 for Henry McMaster (Republican Party) is\n",
      "        0.340\n",
      "        The posterior mean for the district-level voting preference of\n",
      "        non-$100,000-$125,000 for Henry McMaster (Republican Party) is\n",
      "        0.610\n",
      "        95% equal-tailed Bayesian credible interval for district-level voting preference of\n",
      "        $100,000-$125,000 for Henry McMaster (Republican Party) is\n",
      "        [0.10068916 0.69024946]\n",
      "        95% equal-tailed Bayesian credible interval for district-level voting preference of\n",
      "        non-$100,000-$125,000 for Henry McMaster (Republican Party) is\n",
      "        [0.56982588 0.63728103]\n",
      "        \n"
     ]
    }
   ],
   "source": [
    "rep_100_125_ei_suburban, rep_100_125_summary_suburban = run_ecological_inference(\n",
    "    df=sc_economic_merged_ei_suburban_df,\n",
    "    demographic_col=\"100K_125K_PERCENT\",\n",
    "    voting_col=\"REPUBLICAN_PERCENT\",\n",
    "    total_votes_col=\"TOT_VOT\",\n",
    "    demographic_group_name=\"$100,000-$125,000\",\n",
    "    candidate_name=sc_candidate_mapping['REPUBLICAN']\n",
    ")"
   ]
  },
  {
   "cell_type": "code",
   "execution_count": 484,
   "metadata": {},
   "outputs": [
    {
     "name": "stderr",
     "output_type": "stream",
     "text": [
      "Compiling...\n",
      "Compilation time = 0:00:01.231575\n",
      "Sampling...\n"
     ]
    },
    {
     "data": {
      "application/vnd.jupyter.widget-view+json": {
       "model_id": "6567fc9765a04a858a984d6d7611b004",
       "version_major": 2,
       "version_minor": 0
      },
      "text/plain": [
       "  0%|          | 0/2500 [00:00<?, ?it/s]"
      ]
     },
     "metadata": {},
     "output_type": "display_data"
    },
    {
     "data": {
      "application/vnd.jupyter.widget-view+json": {
       "model_id": "b5c108b1d9ff4071b19f0abe20304841",
       "version_major": 2,
       "version_minor": 0
      },
      "text/plain": [
       "  0%|          | 0/2500 [00:00<?, ?it/s]"
      ]
     },
     "metadata": {},
     "output_type": "display_data"
    },
    {
     "data": {
      "application/vnd.jupyter.widget-view+json": {
       "model_id": "c46b9c5241e14ba980c8036230487290",
       "version_major": 2,
       "version_minor": 0
      },
      "text/plain": [
       "  0%|          | 0/2500 [00:00<?, ?it/s]"
      ]
     },
     "metadata": {},
     "output_type": "display_data"
    },
    {
     "data": {
      "application/vnd.jupyter.widget-view+json": {
       "model_id": "6797763a611e40b182708dd690ab6fbb",
       "version_major": 2,
       "version_minor": 0
      },
      "text/plain": [
       "  0%|          | 0/2500 [00:00<?, ?it/s]"
      ]
     },
     "metadata": {},
     "output_type": "display_data"
    },
    {
     "name": "stderr",
     "output_type": "stream",
     "text": [
      "Sampling time = 0:00:02.105446\n",
      "Transforming variables...\n",
      "Transformation time = 0:00:16.151731\n"
     ]
    },
    {
     "name": "stdout",
     "output_type": "stream",
     "text": [
      "Model: king99_pareto_modification\n",
      "        Computed from the raw b_i samples by multiplying by population and then getting\n",
      "        the proportion of the total pop (total pop=summed across all districts):\n",
      "        The posterior mean for the district-level voting preference of\n",
      "        $100,000-$125,000 for Henry McMaster (Republican Party) is\n",
      "        0.535\n",
      "        The posterior mean for the district-level voting preference of\n",
      "        non-$100,000-$125,000 for Henry McMaster (Republican Party) is\n",
      "        0.611\n",
      "        95% equal-tailed Bayesian credible interval for district-level voting preference of\n",
      "        $100,000-$125,000 for Henry McMaster (Republican Party) is\n",
      "        [0.19006863 0.86058419]\n",
      "        95% equal-tailed Bayesian credible interval for district-level voting preference of\n",
      "        non-$100,000-$125,000 for Henry McMaster (Republican Party) is\n",
      "        [0.57260788 0.6507593 ]\n",
      "        \n"
     ]
    }
   ],
   "source": [
    "rep_100_125_ei_urban, rep_100_125_summary_urban = run_ecological_inference(\n",
    "    df=sc_economic_merged_ei_urban_df,\n",
    "    demographic_col=\"100K_125K_PERCENT\",\n",
    "    voting_col=\"REPUBLICAN_PERCENT\",\n",
    "    total_votes_col=\"TOT_VOT\",\n",
    "    demographic_group_name=\"$100,000-$125,000\",\n",
    "    candidate_name=sc_candidate_mapping['REPUBLICAN']\n",
    ")"
   ]
  },
  {
   "cell_type": "code",
   "execution_count": 485,
   "metadata": {},
   "outputs": [
    {
     "name": "stderr",
     "output_type": "stream",
     "text": [
      "Compiling...\n",
      "Compilation time = 0:00:01.304516\n",
      "Sampling...\n"
     ]
    },
    {
     "data": {
      "application/vnd.jupyter.widget-view+json": {
       "model_id": "1495d724f0a3495a98664bc0d0f41ff3",
       "version_major": 2,
       "version_minor": 0
      },
      "text/plain": [
       "  0%|          | 0/2500 [00:00<?, ?it/s]"
      ]
     },
     "metadata": {},
     "output_type": "display_data"
    },
    {
     "data": {
      "application/vnd.jupyter.widget-view+json": {
       "model_id": "8a2595526a094c0a8e5cd0d997422d35",
       "version_major": 2,
       "version_minor": 0
      },
      "text/plain": [
       "  0%|          | 0/2500 [00:00<?, ?it/s]"
      ]
     },
     "metadata": {},
     "output_type": "display_data"
    },
    {
     "data": {
      "application/vnd.jupyter.widget-view+json": {
       "model_id": "fc800ba2bffb4d259174cc5ff03ed375",
       "version_major": 2,
       "version_minor": 0
      },
      "text/plain": [
       "  0%|          | 0/2500 [00:00<?, ?it/s]"
      ]
     },
     "metadata": {},
     "output_type": "display_data"
    },
    {
     "data": {
      "application/vnd.jupyter.widget-view+json": {
       "model_id": "285b99b1ef2b4eacbce23c9e5666b508",
       "version_major": 2,
       "version_minor": 0
      },
      "text/plain": [
       "  0%|          | 0/2500 [00:00<?, ?it/s]"
      ]
     },
     "metadata": {},
     "output_type": "display_data"
    },
    {
     "name": "stderr",
     "output_type": "stream",
     "text": [
      "Sampling time = 0:00:01.933144\n",
      "Transforming variables...\n",
      "Transformation time = 0:00:26.079405\n"
     ]
    },
    {
     "name": "stdout",
     "output_type": "stream",
     "text": [
      "Model: king99_pareto_modification\n",
      "        Computed from the raw b_i samples by multiplying by population and then getting\n",
      "        the proportion of the total pop (total pop=summed across all districts):\n",
      "        The posterior mean for the district-level voting preference of\n",
      "        $125,000-$150,000 for Henry McMaster (Republican Party) is\n",
      "        0.661\n",
      "        The posterior mean for the district-level voting preference of\n",
      "        non-$125,000-$150,000 for Henry McMaster (Republican Party) is\n",
      "        0.589\n",
      "        95% equal-tailed Bayesian credible interval for district-level voting preference of\n",
      "        $125,000-$150,000 for Henry McMaster (Republican Party) is\n",
      "        [0.15278792 0.99196282]\n",
      "        95% equal-tailed Bayesian credible interval for district-level voting preference of\n",
      "        non-$125,000-$150,000 for Henry McMaster (Republican Party) is\n",
      "        [0.56516162 0.62569166]\n",
      "        \n"
     ]
    }
   ],
   "source": [
    "rep_125_150_ei, rep_125_150_summary = run_ecological_inference(\n",
    "    df=sc_economic_merged_ei_df,\n",
    "    demographic_col=\"125K_150K_PERCENT\",\n",
    "    voting_col=\"REPUBLICAN_PERCENT\",\n",
    "    total_votes_col=\"TOT_VOT\",\n",
    "    demographic_group_name=\"$125,000-$150,000\",\n",
    "    candidate_name=sc_candidate_mapping['REPUBLICAN']\n",
    ")"
   ]
  },
  {
   "cell_type": "code",
   "execution_count": 486,
   "metadata": {},
   "outputs": [
    {
     "name": "stderr",
     "output_type": "stream",
     "text": [
      "Compiling...\n",
      "Compilation time = 0:00:01.216966\n",
      "Sampling...\n"
     ]
    },
    {
     "data": {
      "application/vnd.jupyter.widget-view+json": {
       "model_id": "7a4044d954cd4c4882ec79f2688b2ad7",
       "version_major": 2,
       "version_minor": 0
      },
      "text/plain": [
       "  0%|          | 0/2500 [00:00<?, ?it/s]"
      ]
     },
     "metadata": {},
     "output_type": "display_data"
    },
    {
     "data": {
      "application/vnd.jupyter.widget-view+json": {
       "model_id": "a719234e6a9f4ed4bb0fcbda433cba2a",
       "version_major": 2,
       "version_minor": 0
      },
      "text/plain": [
       "  0%|          | 0/2500 [00:00<?, ?it/s]"
      ]
     },
     "metadata": {},
     "output_type": "display_data"
    },
    {
     "data": {
      "application/vnd.jupyter.widget-view+json": {
       "model_id": "e761b7151e3b431ea03b504f87321676",
       "version_major": 2,
       "version_minor": 0
      },
      "text/plain": [
       "  0%|          | 0/2500 [00:00<?, ?it/s]"
      ]
     },
     "metadata": {},
     "output_type": "display_data"
    },
    {
     "data": {
      "application/vnd.jupyter.widget-view+json": {
       "model_id": "f51f7032ee2144fa83166073178ae233",
       "version_major": 2,
       "version_minor": 0
      },
      "text/plain": [
       "  0%|          | 0/2500 [00:00<?, ?it/s]"
      ]
     },
     "metadata": {},
     "output_type": "display_data"
    },
    {
     "name": "stderr",
     "output_type": "stream",
     "text": [
      "Sampling time = 0:00:02.909902\n",
      "Transforming variables...\n",
      "Transformation time = 0:00:18.524622\n"
     ]
    },
    {
     "name": "stdout",
     "output_type": "stream",
     "text": [
      "Model: king99_pareto_modification\n",
      "        Computed from the raw b_i samples by multiplying by population and then getting\n",
      "        the proportion of the total pop (total pop=summed across all districts):\n",
      "        The posterior mean for the district-level voting preference of\n",
      "        $125,000-$150,000 for Henry McMaster (Republican Party) is\n",
      "        0.790\n",
      "        The posterior mean for the district-level voting preference of\n",
      "        non-$125,000-$150,000 for Henry McMaster (Republican Party) is\n",
      "        0.573\n",
      "        95% equal-tailed Bayesian credible interval for district-level voting preference of\n",
      "        $125,000-$150,000 for Henry McMaster (Republican Party) is\n",
      "        [0.34346175 0.99747871]\n",
      "        95% equal-tailed Bayesian credible interval for district-level voting preference of\n",
      "        non-$125,000-$150,000 for Henry McMaster (Republican Party) is\n",
      "        [0.56033423 0.59698579]\n",
      "        \n"
     ]
    }
   ],
   "source": [
    "rep_125_150_ei_rural, rep_125_150_summary_rural = run_ecological_inference(\n",
    "    df=sc_economic_merged_ei_rural_df,\n",
    "    demographic_col=\"125K_150K_PERCENT\",\n",
    "    voting_col=\"REPUBLICAN_PERCENT\",\n",
    "    total_votes_col=\"TOT_VOT\",\n",
    "    demographic_group_name=\"$125,000-$150,000\",\n",
    "    candidate_name=sc_candidate_mapping['REPUBLICAN']\n",
    ")"
   ]
  },
  {
   "cell_type": "code",
   "execution_count": 487,
   "metadata": {},
   "outputs": [
    {
     "name": "stderr",
     "output_type": "stream",
     "text": [
      "Compiling...\n",
      "Compilation time = 0:00:01.210202\n",
      "Sampling...\n"
     ]
    },
    {
     "data": {
      "application/vnd.jupyter.widget-view+json": {
       "model_id": "7b65042351244b51a8c87a36a5c01ffd",
       "version_major": 2,
       "version_minor": 0
      },
      "text/plain": [
       "  0%|          | 0/2500 [00:00<?, ?it/s]"
      ]
     },
     "metadata": {},
     "output_type": "display_data"
    },
    {
     "data": {
      "application/vnd.jupyter.widget-view+json": {
       "model_id": "7dbb90f655174599b092ad60e515adb4",
       "version_major": 2,
       "version_minor": 0
      },
      "text/plain": [
       "  0%|          | 0/2500 [00:00<?, ?it/s]"
      ]
     },
     "metadata": {},
     "output_type": "display_data"
    },
    {
     "data": {
      "application/vnd.jupyter.widget-view+json": {
       "model_id": "64aafb553d6448898905ec341e14ef68",
       "version_major": 2,
       "version_minor": 0
      },
      "text/plain": [
       "  0%|          | 0/2500 [00:00<?, ?it/s]"
      ]
     },
     "metadata": {},
     "output_type": "display_data"
    },
    {
     "data": {
      "application/vnd.jupyter.widget-view+json": {
       "model_id": "2f5e7e39e2ca4cd88923e003a92e76d6",
       "version_major": 2,
       "version_minor": 0
      },
      "text/plain": [
       "  0%|          | 0/2500 [00:00<?, ?it/s]"
      ]
     },
     "metadata": {},
     "output_type": "display_data"
    },
    {
     "name": "stderr",
     "output_type": "stream",
     "text": [
      "Sampling time = 0:00:02.076373\n",
      "Transforming variables...\n",
      "Transformation time = 0:00:13.282453\n"
     ]
    },
    {
     "name": "stdout",
     "output_type": "stream",
     "text": [
      "Model: king99_pareto_modification\n",
      "        Computed from the raw b_i samples by multiplying by population and then getting\n",
      "        the proportion of the total pop (total pop=summed across all districts):\n",
      "        The posterior mean for the district-level voting preference of\n",
      "        $125,000-$150,000 for Henry McMaster (Republican Party) is\n",
      "        0.480\n",
      "        The posterior mean for the district-level voting preference of\n",
      "        non-$125,000-$150,000 for Henry McMaster (Republican Party) is\n",
      "        0.589\n",
      "        95% equal-tailed Bayesian credible interval for district-level voting preference of\n",
      "        $125,000-$150,000 for Henry McMaster (Republican Party) is\n",
      "        [0.0569871  0.90092363]\n",
      "        95% equal-tailed Bayesian credible interval for district-level voting preference of\n",
      "        non-$125,000-$150,000 for Henry McMaster (Republican Party) is\n",
      "        [0.56051196 0.61789164]\n",
      "        \n"
     ]
    }
   ],
   "source": [
    "rep_125_150_ei_suburban, rep_125_150_summary_suburban = run_ecological_inference(\n",
    "    df=sc_economic_merged_ei_suburban_df,\n",
    "    demographic_col=\"125K_150K_PERCENT\",\n",
    "    voting_col=\"REPUBLICAN_PERCENT\",\n",
    "    total_votes_col=\"TOT_VOT\",\n",
    "    demographic_group_name=\"$125,000-$150,000\",\n",
    "    candidate_name=sc_candidate_mapping['REPUBLICAN']\n",
    ")"
   ]
  },
  {
   "cell_type": "code",
   "execution_count": 488,
   "metadata": {},
   "outputs": [
    {
     "name": "stderr",
     "output_type": "stream",
     "text": [
      "Compiling...\n",
      "Compilation time = 0:00:01.510477\n",
      "Sampling...\n"
     ]
    },
    {
     "data": {
      "application/vnd.jupyter.widget-view+json": {
       "model_id": "509cf2b840ae446682f4a77c287b0649",
       "version_major": 2,
       "version_minor": 0
      },
      "text/plain": [
       "  0%|          | 0/2500 [00:00<?, ?it/s]"
      ]
     },
     "metadata": {},
     "output_type": "display_data"
    },
    {
     "data": {
      "application/vnd.jupyter.widget-view+json": {
       "model_id": "8505534a4760485c927b3731caa75a8f",
       "version_major": 2,
       "version_minor": 0
      },
      "text/plain": [
       "  0%|          | 0/2500 [00:00<?, ?it/s]"
      ]
     },
     "metadata": {},
     "output_type": "display_data"
    },
    {
     "data": {
      "application/vnd.jupyter.widget-view+json": {
       "model_id": "716a245b14dd448ab716e3b49ca16961",
       "version_major": 2,
       "version_minor": 0
      },
      "text/plain": [
       "  0%|          | 0/2500 [00:00<?, ?it/s]"
      ]
     },
     "metadata": {},
     "output_type": "display_data"
    },
    {
     "data": {
      "application/vnd.jupyter.widget-view+json": {
       "model_id": "04f3a2b9821d4332930db7be9ddc57e2",
       "version_major": 2,
       "version_minor": 0
      },
      "text/plain": [
       "  0%|          | 0/2500 [00:00<?, ?it/s]"
      ]
     },
     "metadata": {},
     "output_type": "display_data"
    },
    {
     "name": "stderr",
     "output_type": "stream",
     "text": [
      "Sampling time = 0:00:02.504819\n",
      "Transforming variables...\n",
      "Transformation time = 0:00:13.952494\n"
     ]
    },
    {
     "name": "stdout",
     "output_type": "stream",
     "text": [
      "Model: king99_pareto_modification\n",
      "        Computed from the raw b_i samples by multiplying by population and then getting\n",
      "        the proportion of the total pop (total pop=summed across all districts):\n",
      "        The posterior mean for the district-level voting preference of\n",
      "        $125,000-$150,000 for Henry McMaster (Republican Party) is\n",
      "        0.696\n",
      "        The posterior mean for the district-level voting preference of\n",
      "        non-$125,000-$150,000 for Henry McMaster (Republican Party) is\n",
      "        0.595\n",
      "        95% equal-tailed Bayesian credible interval for district-level voting preference of\n",
      "        $125,000-$150,000 for Henry McMaster (Republican Party) is\n",
      "        [0.20918501 0.97499186]\n",
      "        95% equal-tailed Bayesian credible interval for district-level voting preference of\n",
      "        non-$125,000-$150,000 for Henry McMaster (Republican Party) is\n",
      "        [0.57050067 0.63785784]\n",
      "        \n"
     ]
    }
   ],
   "source": [
    "rep_125_150_ei_urban, rep_125_150_summary_urban = run_ecological_inference(\n",
    "    df=sc_economic_merged_ei_urban_df,\n",
    "    demographic_col=\"125K_150K_PERCENT\",\n",
    "    voting_col=\"REPUBLICAN_PERCENT\",\n",
    "    total_votes_col=\"TOT_VOT\",\n",
    "    demographic_group_name=\"$125,000-$150,000\",\n",
    "    candidate_name=sc_candidate_mapping['REPUBLICAN']\n",
    ")"
   ]
  },
  {
   "cell_type": "code",
   "execution_count": 489,
   "metadata": {},
   "outputs": [
    {
     "name": "stderr",
     "output_type": "stream",
     "text": [
      "Compiling...\n",
      "Compilation time = 0:00:01.224950\n",
      "Sampling...\n"
     ]
    },
    {
     "data": {
      "application/vnd.jupyter.widget-view+json": {
       "model_id": "72b9090aa51f40b583b8326f4d4a1ae3",
       "version_major": 2,
       "version_minor": 0
      },
      "text/plain": [
       "  0%|          | 0/2500 [00:00<?, ?it/s]"
      ]
     },
     "metadata": {},
     "output_type": "display_data"
    },
    {
     "data": {
      "application/vnd.jupyter.widget-view+json": {
       "model_id": "85d590bff6ef45d284154a303403b749",
       "version_major": 2,
       "version_minor": 0
      },
      "text/plain": [
       "  0%|          | 0/2500 [00:00<?, ?it/s]"
      ]
     },
     "metadata": {},
     "output_type": "display_data"
    },
    {
     "data": {
      "application/vnd.jupyter.widget-view+json": {
       "model_id": "7e55491e623b4483a6b59448bd3884f6",
       "version_major": 2,
       "version_minor": 0
      },
      "text/plain": [
       "  0%|          | 0/2500 [00:00<?, ?it/s]"
      ]
     },
     "metadata": {},
     "output_type": "display_data"
    },
    {
     "data": {
      "application/vnd.jupyter.widget-view+json": {
       "model_id": "8237ea247b3b4d7c858cbc8edfbd1c4d",
       "version_major": 2,
       "version_minor": 0
      },
      "text/plain": [
       "  0%|          | 0/2500 [00:00<?, ?it/s]"
      ]
     },
     "metadata": {},
     "output_type": "display_data"
    },
    {
     "name": "stderr",
     "output_type": "stream",
     "text": [
      "Sampling time = 0:00:02.103539\n",
      "Transforming variables...\n",
      "Transformation time = 0:00:20.765005\n"
     ]
    },
    {
     "name": "stdout",
     "output_type": "stream",
     "text": [
      "Model: king99_pareto_modification\n",
      "        Computed from the raw b_i samples by multiplying by population and then getting\n",
      "        the proportion of the total pop (total pop=summed across all districts):\n",
      "        The posterior mean for the district-level voting preference of\n",
      "        $150,000+ for Henry McMaster (Republican Party) is\n",
      "        0.599\n",
      "        The posterior mean for the district-level voting preference of\n",
      "        non-$150,000+ for Henry McMaster (Republican Party) is\n",
      "        0.592\n",
      "        95% equal-tailed Bayesian credible interval for district-level voting preference of\n",
      "        $150,000+ for Henry McMaster (Republican Party) is\n",
      "        [0.34896055 0.8164076 ]\n",
      "        95% equal-tailed Bayesian credible interval for district-level voting preference of\n",
      "        non-$150,000+ for Henry McMaster (Republican Party) is\n",
      "        [0.54466122 0.64485087]\n",
      "        \n"
     ]
    }
   ],
   "source": [
    "rep_150_more_ei, rep_150_more_summary = run_ecological_inference(\n",
    "    df=sc_economic_merged_ei_df,\n",
    "    demographic_col=\"150K_MORE_PERCENT\",\n",
    "    voting_col=\"REPUBLICAN_PERCENT\",\n",
    "    total_votes_col=\"TOT_VOT\",\n",
    "    demographic_group_name=\"$150,000+\",\n",
    "    candidate_name=sc_candidate_mapping['REPUBLICAN']\n",
    ")"
   ]
  },
  {
   "cell_type": "code",
   "execution_count": 490,
   "metadata": {},
   "outputs": [
    {
     "name": "stderr",
     "output_type": "stream",
     "text": [
      "Compiling...\n",
      "Compilation time = 0:00:01.227090\n",
      "Sampling...\n"
     ]
    },
    {
     "data": {
      "application/vnd.jupyter.widget-view+json": {
       "model_id": "0ec01daa332f4b03bd9e5cf6b30e941e",
       "version_major": 2,
       "version_minor": 0
      },
      "text/plain": [
       "  0%|          | 0/2500 [00:00<?, ?it/s]"
      ]
     },
     "metadata": {},
     "output_type": "display_data"
    },
    {
     "data": {
      "application/vnd.jupyter.widget-view+json": {
       "model_id": "3932b9ff07764420b83fc0aeb846bedc",
       "version_major": 2,
       "version_minor": 0
      },
      "text/plain": [
       "  0%|          | 0/2500 [00:00<?, ?it/s]"
      ]
     },
     "metadata": {},
     "output_type": "display_data"
    },
    {
     "data": {
      "application/vnd.jupyter.widget-view+json": {
       "model_id": "c485aa93b3104a44b1e4f2b44dbe5d5b",
       "version_major": 2,
       "version_minor": 0
      },
      "text/plain": [
       "  0%|          | 0/2500 [00:00<?, ?it/s]"
      ]
     },
     "metadata": {},
     "output_type": "display_data"
    },
    {
     "data": {
      "application/vnd.jupyter.widget-view+json": {
       "model_id": "b172743029274cdf84ebcd49aa44a709",
       "version_major": 2,
       "version_minor": 0
      },
      "text/plain": [
       "  0%|          | 0/2500 [00:00<?, ?it/s]"
      ]
     },
     "metadata": {},
     "output_type": "display_data"
    },
    {
     "name": "stderr",
     "output_type": "stream",
     "text": [
      "Sampling time = 0:00:02.038253\n",
      "Transforming variables...\n",
      "Transformation time = 0:00:13.786222\n"
     ]
    },
    {
     "name": "stdout",
     "output_type": "stream",
     "text": [
      "Model: king99_pareto_modification\n",
      "        Computed from the raw b_i samples by multiplying by population and then getting\n",
      "        the proportion of the total pop (total pop=summed across all districts):\n",
      "        The posterior mean for the district-level voting preference of\n",
      "        $150,000+ for Henry McMaster (Republican Party) is\n",
      "        0.624\n",
      "        The posterior mean for the district-level voting preference of\n",
      "        non-$150,000+ for Henry McMaster (Republican Party) is\n",
      "        0.576\n",
      "        95% equal-tailed Bayesian credible interval for district-level voting preference of\n",
      "        $150,000+ for Henry McMaster (Republican Party) is\n",
      "        [0.35079299 0.86159867]\n",
      "        95% equal-tailed Bayesian credible interval for district-level voting preference of\n",
      "        non-$150,000+ for Henry McMaster (Republican Party) is\n",
      "        [0.54170277 0.61523252]\n",
      "        \n"
     ]
    }
   ],
   "source": [
    "rep_150_more_ei_rural, rep_150_more_summary_rural = run_ecological_inference(\n",
    "    df=sc_economic_merged_ei_rural_df,\n",
    "    demographic_col=\"150K_MORE_PERCENT\",\n",
    "    voting_col=\"REPUBLICAN_PERCENT\",\n",
    "    total_votes_col=\"TOT_VOT\",\n",
    "    demographic_group_name=\"$150,000+\",\n",
    "    candidate_name=sc_candidate_mapping['REPUBLICAN']\n",
    ")"
   ]
  },
  {
   "cell_type": "code",
   "execution_count": 491,
   "metadata": {},
   "outputs": [
    {
     "name": "stderr",
     "output_type": "stream",
     "text": [
      "Compiling...\n",
      "Compilation time = 0:00:01.305701\n",
      "Sampling...\n"
     ]
    },
    {
     "data": {
      "application/vnd.jupyter.widget-view+json": {
       "model_id": "acd46615c2714614b817aee9714fb916",
       "version_major": 2,
       "version_minor": 0
      },
      "text/plain": [
       "  0%|          | 0/2500 [00:00<?, ?it/s]"
      ]
     },
     "metadata": {},
     "output_type": "display_data"
    },
    {
     "data": {
      "application/vnd.jupyter.widget-view+json": {
       "model_id": "645a16f74ced478ab6aba6ce624dde1c",
       "version_major": 2,
       "version_minor": 0
      },
      "text/plain": [
       "  0%|          | 0/2500 [00:00<?, ?it/s]"
      ]
     },
     "metadata": {},
     "output_type": "display_data"
    },
    {
     "data": {
      "application/vnd.jupyter.widget-view+json": {
       "model_id": "80ab085c98f9416eb2932c3f9ce4bf9d",
       "version_major": 2,
       "version_minor": 0
      },
      "text/plain": [
       "  0%|          | 0/2500 [00:00<?, ?it/s]"
      ]
     },
     "metadata": {},
     "output_type": "display_data"
    },
    {
     "data": {
      "application/vnd.jupyter.widget-view+json": {
       "model_id": "f6684c0489cc477a9526e0ceb5962b38",
       "version_major": 2,
       "version_minor": 0
      },
      "text/plain": [
       "  0%|          | 0/2500 [00:00<?, ?it/s]"
      ]
     },
     "metadata": {},
     "output_type": "display_data"
    },
    {
     "name": "stderr",
     "output_type": "stream",
     "text": [
      "Sampling time = 0:00:02.221325\n",
      "Transforming variables...\n",
      "Transformation time = 0:00:19.191992\n"
     ]
    },
    {
     "name": "stdout",
     "output_type": "stream",
     "text": [
      "Model: king99_pareto_modification\n",
      "        Computed from the raw b_i samples by multiplying by population and then getting\n",
      "        the proportion of the total pop (total pop=summed across all districts):\n",
      "        The posterior mean for the district-level voting preference of\n",
      "        $150,000+ for Henry McMaster (Republican Party) is\n",
      "        0.633\n",
      "        The posterior mean for the district-level voting preference of\n",
      "        non-$150,000+ for Henry McMaster (Republican Party) is\n",
      "        0.572\n",
      "        95% equal-tailed Bayesian credible interval for district-level voting preference of\n",
      "        $150,000+ for Henry McMaster (Republican Party) is\n",
      "        [0.38068887 0.86104045]\n",
      "        95% equal-tailed Bayesian credible interval for district-level voting preference of\n",
      "        non-$150,000+ for Henry McMaster (Republican Party) is\n",
      "        [0.51747825 0.62931558]\n",
      "        \n"
     ]
    }
   ],
   "source": [
    "rep_150_more_ei_suburban, rep_150_more_summary_suburban = run_ecological_inference(\n",
    "    df=sc_economic_merged_ei_suburban_df,\n",
    "    demographic_col=\"150K_MORE_PERCENT\",\n",
    "    voting_col=\"REPUBLICAN_PERCENT\",\n",
    "    total_votes_col=\"TOT_VOT\",\n",
    "    demographic_group_name=\"$150,000+\",\n",
    "    candidate_name=sc_candidate_mapping['REPUBLICAN']\n",
    ")"
   ]
  },
  {
   "cell_type": "code",
   "execution_count": 492,
   "metadata": {},
   "outputs": [
    {
     "name": "stderr",
     "output_type": "stream",
     "text": [
      "Compiling...\n",
      "Compilation time = 0:00:01.229522\n",
      "Sampling...\n"
     ]
    },
    {
     "data": {
      "application/vnd.jupyter.widget-view+json": {
       "model_id": "34fe511b2dd340d3b7424550dc99d76c",
       "version_major": 2,
       "version_minor": 0
      },
      "text/plain": [
       "  0%|          | 0/2500 [00:00<?, ?it/s]"
      ]
     },
     "metadata": {},
     "output_type": "display_data"
    },
    {
     "data": {
      "application/vnd.jupyter.widget-view+json": {
       "model_id": "73c5067ccd1142cf860843b1e9374efe",
       "version_major": 2,
       "version_minor": 0
      },
      "text/plain": [
       "  0%|          | 0/2500 [00:00<?, ?it/s]"
      ]
     },
     "metadata": {},
     "output_type": "display_data"
    },
    {
     "data": {
      "application/vnd.jupyter.widget-view+json": {
       "model_id": "662666683fc04b839c78a1fa0f9f50b9",
       "version_major": 2,
       "version_minor": 0
      },
      "text/plain": [
       "  0%|          | 0/2500 [00:00<?, ?it/s]"
      ]
     },
     "metadata": {},
     "output_type": "display_data"
    },
    {
     "data": {
      "application/vnd.jupyter.widget-view+json": {
       "model_id": "b1396cd099294852ab4d59e0d82c3e32",
       "version_major": 2,
       "version_minor": 0
      },
      "text/plain": [
       "  0%|          | 0/2500 [00:00<?, ?it/s]"
      ]
     },
     "metadata": {},
     "output_type": "display_data"
    },
    {
     "name": "stderr",
     "output_type": "stream",
     "text": [
      "Sampling time = 0:00:02.065381\n",
      "Transforming variables...\n",
      "Transformation time = 0:00:19.153436\n"
     ]
    },
    {
     "name": "stdout",
     "output_type": "stream",
     "text": [
      "Model: king99_pareto_modification\n",
      "        Computed from the raw b_i samples by multiplying by population and then getting\n",
      "        the proportion of the total pop (total pop=summed across all districts):\n",
      "        The posterior mean for the district-level voting preference of\n",
      "        $150,000+ for Henry McMaster (Republican Party) is\n",
      "        0.500\n",
      "        The posterior mean for the district-level voting preference of\n",
      "        non-$150,000+ for Henry McMaster (Republican Party) is\n",
      "        0.627\n",
      "        95% equal-tailed Bayesian credible interval for district-level voting preference of\n",
      "        $150,000+ for Henry McMaster (Republican Party) is\n",
      "        [0.29369446 0.75891424]\n",
      "        95% equal-tailed Bayesian credible interval for district-level voting preference of\n",
      "        non-$150,000+ for Henry McMaster (Republican Party) is\n",
      "        [0.56193703 0.67930063]\n",
      "        \n"
     ]
    }
   ],
   "source": [
    "rep_150_more_ei_urban, rep_150_more_summary_urban = run_ecological_inference(\n",
    "    df=sc_economic_merged_ei_urban_df,\n",
    "    demographic_col=\"150K_MORE_PERCENT\",\n",
    "    voting_col=\"REPUBLICAN_PERCENT\",\n",
    "    total_votes_col=\"TOT_VOT\",\n",
    "    demographic_group_name=\"$150,000+\",\n",
    "    candidate_name=sc_candidate_mapping['REPUBLICAN']\n",
    ")"
   ]
  },
  {
   "cell_type": "markdown",
   "metadata": {},
   "source": [
    "### Ploting"
   ]
  },
  {
   "cell_type": "code",
   "execution_count": 622,
   "metadata": {},
   "outputs": [
    {
     "data": {
      "text/plain": [
       "<Axes: title={'center': 'Support for Henry McMaster (Republican Party)'}>"
      ]
     },
     "execution_count": 622,
     "metadata": {},
     "output_type": "execute_result"
    },
    {
     "data": {
      "image/png": "[encoded data removed]",
      "text/plain": [
       "<Figure size 1000x500 with 1 Axes>"
      ]
     },
     "metadata": {},
     "output_type": "display_data"
    }
   ],
   "source": [
    "rep_white_ei.plot_kde()\n",
    "\n",
    "# Plot the ecological inference results\n",
    "\n"
   ]
  },
  {
   "cell_type": "code",
   "execution_count": 86,
   "metadata": {},
   "outputs": [
    {
     "name": "stdout",
     "output_type": "stream",
     "text": [
      "<pyei.two_by_two.TwoByTwoEI object at 0x37b847890>\n"
     ]
    }
   ],
   "source": [
    "print(rep_white_ei)\n",
    "\n"
   ]
  },
  {
   "cell_type": "code",
   "execution_count": 372,
   "metadata": {},
   "outputs": [],
   "source": [
    "import json\n",
    "\n",
    "def extract_ei_data(ei_object):\n",
    "    sampled_voting_prefs = ei_object.sampled_voting_prefs  # Numpy array or array-like\n",
    "    group_names = ei_object.group_names_for_display()         # List of strings\n",
    "    candidate_name = ei_object.candidate_name              # string\n",
    "\n",
    "    output_data = {\n",
    "        \"data\" : {\n",
    "            \"sampled_voting_prefs\": sampled_voting_prefs,\n",
    "        },\n",
    "        \"group_names\": group_names,\n",
    "        \"candidate_names\": candidate_name\n",
    "    }\n",
    "    return output_data\n"
   ]
  },
  {
   "cell_type": "code",
   "execution_count": 495,
   "metadata": {},
   "outputs": [],
   "source": [
    "rep_white_ei_output_data = extract_ei_data(rep_white_ei)\n",
    "\n",
    "rep_white_ei_rural_output_data = extract_ei_data(rep_white_ei_rural)\n",
    "rep_white_ei_suburban_output_data = extract_ei_data(rep_white_ei_suburban)\n",
    "rep_white_ei_urban_output_data = extract_ei_data(rep_white_ei_urban)\n",
    "\n",
    "rep_black_ei_output_data = extract_ei_data(rep_black_ei)\n",
    "rep_black_ei_output_data_rural = extract_ei_data(rep_black_ei_rural)\n",
    "rep_black_ei_output_data_suburban = extract_ei_data(rep_black_ei_suburban)\n",
    "rep_black_ei_output_data_urban = extract_ei_data(rep_black_ei_urban)\n",
    "\n",
    "rep_asian_ei_output_data = extract_ei_data(rep_asian_ei)\n",
    "rep_asian_ei_output_data_rural = extract_ei_data(rep_asian_ei_rural)\n",
    "rep_asian_ei_output_data_suburban = extract_ei_data(rep_asian_ei_suburban)\n",
    "rep_asian_ei_output_data_urban = extract_ei_data(rep_asian_ei_urban)\n",
    "\n",
    "rep_hispanic_ei_output_data = extract_ei_data(rep_hispanic_ei)\n",
    "rep_hispanic_ei_output_data_rural = extract_ei_data(rep_hispanic_ei_rural)\n",
    "rep_hispanic_ei_output_data_suburban = extract_ei_data(rep_hispanic_ei_suburban)\n",
    "rep_hispanic_ei_output_data_urban = extract_ei_data(rep_hispanic_ei_urban)\n",
    "\n",
    "dem_white_ei_output_data = extract_ei_data(dem_white_ei)\n",
    "dem_white_ei_output_data_rural = extract_ei_data(dem_white_ei_rural)\n",
    "dem_white_ei_output_data_suburban = extract_ei_data(dem_white_ei_subrban)\n",
    "dem_white_ei_output_data_urban = extract_ei_data(dem_white_ei_urban)\n",
    "\n",
    "dem_black_ei_output_data = extract_ei_data(dem_black_ei)\n",
    "dem_black_ei_output_data_rural = extract_ei_data(dem_black_ei_rural)\n",
    "dem_black_ei_output_data_suburban = extract_ei_data(dem_black_ei_suburban)\n",
    "dem_black_ei_output_data_urban = extract_ei_data(dem_black_ei_urban)\n",
    "\n",
    "dem_asian_ei_output_data = extract_ei_data(dem_asian_ei)\n",
    "dem_asian_ei_output_data_rural = extract_ei_data(dem_asian_ei_rural)\n",
    "dem_asian_ei_output_data_suburban = extract_ei_data(dem_asian_ei_suburban)\n",
    "dem_asian_ei_output_data_urban = extract_ei_data(dem_asian_ei_urban)\n",
    "\n",
    "\n",
    "dem_hispanic_ei_output_data = extract_ei_data(dem_hispanic_ei)\n",
    "dem_hispanic_ei_output_data_rural = extract_ei_data(dem_hispanic_ei_rural)\n",
    "dem_hispanic_ei_output_data_suburban = extract_ei_data(dem_hispanic_ei_suburban)\n",
    "dem_hispanic_ei_output_data_urban = extract_ei_data(dem_hispanic_ei_urban)\n",
    "\n",
    "\n",
    "dem_0_35_ei_output_data = extract_ei_data(dem_0_35_ei)\n",
    "dem_0_35_ei_rural_output_data = extract_ei_data(dem_0_35_ei_rural)\n",
    "dem_0_35_ei_suburban_output_data = extract_ei_data(dem_0_35_ei_suburban)\n",
    "dem_0_35_ei_urban_output_data = extract_ei_data(dem_0_35_ei_urban)\n",
    "\n",
    "dem_35_60_ei_output_data = extract_ei_data(dem_35_60_ei)\n",
    "dem_35_60_ei_rural_output_data = extract_ei_data(dem_35_60_ei_rural)\n",
    "dem_35_60_ei_suburban_output_data = extract_ei_data(dem_35_60_ei_suburban)\n",
    "dem_35_60_ei_urban_output_data = extract_ei_data(dem_35_60_ei_urban)\n",
    "\n",
    "\n",
    "dem_60_100_ei_output_data = extract_ei_data(dem_60_100_ei)\n",
    "\n",
    "dem_60_100_ei_rural_output_data = extract_ei_data(dem_60_100_ei_rural)\n",
    "\n",
    "dem_60_100_ei_suburban_output_data = extract_ei_data(dem_60_100_ei_suburban)\n",
    "\n",
    "dem_60_100_ei_urban_output_data = extract_ei_data(dem_60_100_ei_urban)\n",
    "\n",
    "\n",
    "dem_100_125_ei_output_data = extract_ei_data(dem_100_125_ei)\n",
    "\n",
    "dem_100_125_ei_rural_output_data = extract_ei_data(dem_100_125_ei_rural)\n",
    "\n",
    "dem_100_125_ei_suburban_output_data = extract_ei_data(dem_100_125_ei_suburban)\n",
    "\n",
    "dem_100_125_ei_urban_output_data = extract_ei_data(dem_100_125_ei_urban)\n",
    "\n",
    "dem_125_150_ei_output_data = extract_ei_data(dem_125_150_ei)\n",
    "\n",
    "dem_125_150_ei_rural_output_data = extract_ei_data(dem_125_150_ei_rural)\n",
    "\n",
    "dem_125_150_ei_suburban_output_data = extract_ei_data(dem_125_150_ei_suburban)\n",
    "\n",
    "dem_125_150_ei_urban_output_data = extract_ei_data(dem_125_150_ei_urban)\n",
    "\n",
    "dem_150_more_ei_output_data = extract_ei_data(dem_150_more_ei)\n",
    "\n",
    "dem_150_more_ei_rural_output_data = extract_ei_data(dem_150_more_ei_rural)\n",
    "\n",
    "dem_150_more_ei_suburban_output_data = extract_ei_data(dem_150_more_ei_suburban)\n",
    "\n",
    "dem_150_more_ei_urban_output_data = extract_ei_data(dem_150_more_ei_urban)\n",
    "\n",
    "rep_0_35_ei_output_data = extract_ei_data(rep_0_35_ei)\n",
    "\n",
    "rep_0_35_ei_rural_output_data = extract_ei_data(rep_0_35_ei_rural)\n",
    "\n",
    "rep_0_35_ei_suburban_output_data = extract_ei_data(rep_0_35_ei_suburban)\n",
    "\n",
    "rep_0_35_ei_urban_output_data = extract_ei_data(rep_0_35_ei_urban)\n",
    "\n",
    "rep_35_60_ei_output_data = extract_ei_data(rep_35_60_ei)\n",
    "\n",
    "rep_35_60_ei_rural_output_data = extract_ei_data(rep_35_60_ei_rural)\n",
    "\n",
    "rep_35_60_ei_suburban_output_data = extract_ei_data(rep_35_60_ei_suburban)\n",
    "\n",
    "rep_35_60_ei_urban_output_data = extract_ei_data(rep_35_60_ei_urban)\n",
    "\n",
    "rep_60_100_ei_output_data = extract_ei_data(rep_60_100_ei)\n",
    "\n",
    "rep_60_100_ei_rural_output_data = extract_ei_data(rep_60_100_ei_rural)\n",
    "\n",
    "rep_60_100_ei_suburban_output_data = extract_ei_data(rep_60_100_ei_suburban)\n",
    "\n",
    "rep_60_100_ei_urban_output_data = extract_ei_data(rep_60_100_ei_urban)\n",
    "\n",
    "rep_100_125_ei_output_data = extract_ei_data(rep_100_125_ei)\n",
    "\n",
    "rep_100_125_ei_rural_output_data = extract_ei_data(rep_100_125_ei_rural)\n",
    "\n",
    "rep_100_125_ei_suburban_output_data = extract_ei_data(rep_100_125_ei_suburban)\n",
    "\n",
    "rep_100_125_ei_urban_output_data = extract_ei_data(rep_100_125_ei_urban)\n",
    "\n",
    "rep_125_150_ei_output_data = extract_ei_data(rep_125_150_ei)\n",
    "\n",
    "rep_125_150_ei_rural_output_data = extract_ei_data(rep_125_150_ei_rural)\n",
    "\n",
    "rep_125_150_ei_suburban_output_data = extract_ei_data(rep_125_150_ei_suburban)\n",
    "\n",
    "rep_125_150_ei_urban_output_data = extract_ei_data(rep_125_150_ei_urban)\n",
    "\n",
    "rep_150_more_ei_output_data = extract_ei_data(rep_150_more_ei)\n",
    "\n",
    "rep_150_more_ei_rural_output_data = extract_ei_data(rep_150_more_ei_rural)\n",
    "\n",
    "rep_150_more_ei_suburban_output_data = extract_ei_data(rep_150_more_ei_suburban)\n",
    "\n",
    "rep_150_more_ei_urban_output_data = extract_ei_data(rep_150_more_ei_urban)\n"
   ]
  },
  {
   "cell_type": "code",
   "execution_count": 614,
   "metadata": {},
   "outputs": [],
   "source": [
    "sc_output_json_racial = {\n",
    "    \"NAME\": \"South Carolina\",\n",
    "    \"election\": \"2022 Gubernatorial Elections\",\n",
    "    \"data\": {\n",
    "        \"WHITE\": {\n",
    "            \"REPUBLICAN\": {\n",
    "                \"ALL\": rep_white_ei_output_data,\n",
    "                \"RURAL\": rep_white_ei_rural_output_data,\n",
    "                \"SUBURBAN\": rep_white_ei_suburban_output_data,\n",
    "                \"URBAN\": rep_white_ei_urban_output_data\n",
    "            },\n",
    "            \"DEMOCRATIC\": {\n",
    "                \"ALL\": dem_white_ei_output_data,\n",
    "                \"RURAL\": dem_white_ei_output_data_rural,\n",
    "                \"SUBURBAN\": dem_white_ei_output_data_suburban,\n",
    "                \"URBAN\": dem_white_ei_output_data_urban\n",
    "            }\n",
    "        },\n",
    "        \"BLACK\": {\n",
    "            \"REPUBLICAN\": {\n",
    "                \"ALL\": rep_black_ei_output_data,\n",
    "                \"RURAL\": rep_black_ei_output_data_rural,\n",
    "                \"SUBURBAN\": rep_black_ei_output_data_suburban,\n",
    "                \"URBAN\": rep_black_ei_output_data_urban\n",
    "            },\n",
    "            \"DEMOCRATIC\": {\n",
    "                \"ALL\": dem_black_ei_output_data,\n",
    "                \"RURAL\": dem_black_ei_output_data_rural,\n",
    "                \"SUBURBAN\": dem_black_ei_output_data_suburban,\n",
    "                \"URBAN\": dem_black_ei_output_data_urban\n",
    "            }\n",
    "        },\n",
    "        \"ASIAN\": {\n",
    "            \"REPUBLICAN\": {\n",
    "                \"ALL\": rep_asian_ei_output_data,\n",
    "                \"RURAL\": rep_asian_ei_output_data_rural,\n",
    "                \"SUBURBAN\": rep_asian_ei_output_data_suburban,\n",
    "                \"URBAN\": rep_asian_ei_output_data_urban\n",
    "            },\n",
    "            \"DEMOCRATIC\": {\n",
    "                \"ALL\": dem_asian_ei_output_data,\n",
    "                \"RURAL\": dem_asian_ei_output_data_rural,\n",
    "                \"SUBURBAN\": dem_asian_ei_output_data_suburban,\n",
    "                \"URBAN\": dem_asian_ei_output_data_urban\n",
    "            }\n",
    "        },\n",
    "        \"HISPANIC\": {\n",
    "            \"REPUBLICAN\": {\n",
    "                \"ALL\": rep_hispanic_ei_output_data,\n",
    "                \"RURAL\": rep_hispanic_ei_output_data_rural,\n",
    "                \"SUBURBAN\": rep_hispanic_ei_output_data_suburban,\n",
    "                \"URBAN\": rep_hispanic_ei_output_data_urban\n",
    "            },\n",
    "            \"DEMOCRATIC\": {\n",
    "                \"ALL\": dem_hispanic_ei_output_data,\n",
    "                \"RURAL\": dem_hispanic_ei_output_data_rural,\n",
    "                \"SUBURBAN\": dem_hispanic_ei_output_data_suburban,\n",
    "                \"URBAN\": dem_hispanic_ei_output_data_urban\n",
    "            }\n",
    "        }\n",
    "    }\n",
    "}"
   ]
  },
  {
   "cell_type": "code",
   "execution_count": 616,
   "metadata": {},
   "outputs": [],
   "source": [
    "sc_output_json_economic = {\n",
    "    \"NAME\": \"South Carolina\",\n",
    "    \"election\": \"2022 Gubernatorial Elections\",\n",
    "    \"data\": {\n",
    "        \"0_35K\": {\n",
    "            \"REPUBLICAN\": {\n",
    "                \"ALL\": rep_0_35_ei_output_data,\n",
    "                \"RURAL\": rep_0_35_ei_rural_output_data,\n",
    "                \"SUBURBAN\": rep_0_35_ei_suburban_output_data,\n",
    "                \"URBAN\": rep_0_35_ei_urban_output_data\n",
    "            },\n",
    "            \"DEMOCRATIC\": {\n",
    "                \"ALL\": dem_0_35_ei_output_data,\n",
    "                \"RURAL\": dem_0_35_ei_rural_output_data,\n",
    "                \"SUBURBAN\": dem_0_35_ei_suburban_output_data,\n",
    "                \"URBAN\": dem_0_35_ei_urban_output_data\n",
    "            }\n",
    "        },\n",
    "        \"35K_60K\": {\n",
    "            \"REPUBLICAN\": {\n",
    "                \"ALL\": rep_35_60_ei_output_data,\n",
    "                \"RURAL\": rep_35_60_ei_rural_output_data,\n",
    "                \"SUBURBAN\": rep_35_60_ei_suburban_output_data,\n",
    "                \"URBAN\": rep_35_60_ei_urban_output_data\n",
    "            },\n",
    "            \"DEMOCRATIC\": {\n",
    "                \"ALL\": dem_35_60_ei_output_data,\n",
    "                \"RURAL\": dem_35_60_ei_rural_output_data,\n",
    "                \"SUBURBAN\": dem_35_60_ei_suburban_output_data,\n",
    "                \"URBAN\": dem_35_60_ei_urban_output_data\n",
    "            }\n",
    "        },\n",
    "        \"60K_100K\": {\n",
    "            \"REPUBLICAN\": {\n",
    "                \"ALL\": rep_60_100_ei_output_data,\n",
    "                \"RURAL\": rep_60_100_ei_rural_output_data,\n",
    "                \"SUBURBAN\": rep_60_100_ei_suburban_output_data,\n",
    "                \"URBAN\": rep_60_100_ei_urban_output_data\n",
    "            },\n",
    "            \"DEMOCRATIC\": {\n",
    "                \"ALL\": dem_60_100_ei_output_data,\n",
    "                \"RURAL\": dem_60_100_ei_rural_output_data,\n",
    "                \"SUBURBAN\": dem_60_100_ei_suburban_output_data,\n",
    "                \"URBAN\": dem_60_100_ei_urban_output_data\n",
    "            }\n",
    "        },\n",
    "        \"100K_125K\": {\n",
    "            \"REPUBLICAN\": {\n",
    "                \"ALL\": rep_100_125_ei_output_data,\n",
    "                \"RURAL\": rep_100_125_ei_rural_output_data,\n",
    "                \"SUBURBAN\": rep_100_125_ei_suburban_output_data,\n",
    "                \"URBAN\": rep_100_125_ei_urban_output_data\n",
    "            },\n",
    "            \"DEMOCRATIC\": {\n",
    "                \"ALL\": dem_100_125_ei_output_data,\n",
    "                \"RURAL\": dem_100_125_ei_rural_output_data,\n",
    "                \"SUBURBAN\": dem_100_125_ei_suburban_output_data,\n",
    "                \"URBAN\": dem_100_125_ei_urban_output_data\n",
    "            }\n",
    "        },\n",
    "        \"125K_150K\": {\n",
    "            \"REPUBLICAN\": {\n",
    "                \"ALL\": rep_125_150_ei_output_data,\n",
    "                \"RURAL\": rep_125_150_ei_rural_output_data,\n",
    "                \"SUBURBAN\": rep_125_150_ei_suburban_output_data,\n",
    "                \"URBAN\": rep_125_150_ei_urban_output_data\n",
    "            },\n",
    "            \"DEMOCRATIC\": {\n",
    "                \"ALL\": dem_125_150_ei_output_data,\n",
    "                \"RURAL\": dem_125_150_ei_rural_output_data,\n",
    "                \"SUBURBAN\": dem_125_150_ei_suburban_output_data,\n",
    "                \"URBAN\": dem_125_150_ei_urban_output_data\n",
    "            }\n",
    "        },\n",
    "        \"150K_MORE\": {\n",
    "            \"REPUBLICAN\": {\n",
    "                \"ALL\": rep_150_more_ei_output_data,\n",
    "                \"RURAL\": rep_150_more_ei_rural_output_data,\n",
    "                \"SUBURBAN\": rep_150_more_ei_suburban_output_data,\n",
    "                \"URBAN\": rep_150_more_ei_urban_output_data\n",
    "            },\n",
    "            \"DEMOCRATIC\": {\n",
    "                \"ALL\": dem_150_more_ei_output_data,\n",
    "                \"RURAL\": dem_150_more_ei_rural_output_data,\n",
    "                \"SUBURBAN\": dem_150_more_ei_suburban_output_data,\n",
    "                \"URBAN\": dem_150_more_ei_urban_output_data\n",
    "            }\n",
    "        }\n",
    "    }\n",
    "}"
   ]
  },
  {
   "cell_type": "code",
   "execution_count": 617,
   "metadata": {},
   "outputs": [],
   "source": [
    "sc_json_output = json.dumps(sc_output_json_racial , indent=4, cls=json_serialize)\n",
    "with open(\"states/south_carolina/ecological_inference/ecological_inference.json\", \"w\") as f:\n",
    "    f.write(sc_json_output)"
   ]
  },
  {
   "cell_type": "code",
   "execution_count": 618,
   "metadata": {},
   "outputs": [],
   "source": [
    "sc_json_econ_output = json.dumps(sc_output_json_economic , indent=4, cls=json_serialize)\n",
    "with open(\"states/south_carolina/ecological_inference/ecological_inference_economic.json\", \"w\") as f:\n",
    "    f.write(sc_json_econ_output)"
   ]
  },
  {
   "cell_type": "code",
   "execution_count": 222,
   "metadata": {},
   "outputs": [],
   "source": [
    "import json\n",
    "import numpy as np\n",
    "import matplotlib.pyplot as plt\n",
    "import seaborn as sns\n",
    "\n",
    "# If not already defined, ensure any constants or helper functions \n",
    "# (e.g., colors, FIGSIZE, FONTSIZE, TITLESIZE, size_ticks) are defined or imported here.\n",
    "\n",
    "with open(\"processed_individual/pyei_test/rep_white_ei_data.json\", \"r\") as f:\n",
    "    rep_white_data = json.load(f)\n",
    "\n",
    "# Extract data\n",
    "sampled_voting_prefs = np.array(rep_white_data[\"data\"][\"sampled_voting_prefs\"])\n",
    "# sampled_voting_prefs = sampled_voting_prefs[:, :, np.newaxis]\n",
    "group_names = rep_white_data[\"group_names\"]\n",
    "candidate_names = rep_white_data[\"candidate_names\"]\n",
    "\n"
   ]
  },
  {
   "cell_type": "code",
   "execution_count": 223,
   "metadata": {},
   "outputs": [],
   "source": [
    "num_groups = sampled_voting_prefs.shape\n",
    "num_groups = num_groups[0]\n"
   ]
  },
  {
   "cell_type": "code",
   "execution_count": 224,
   "metadata": {},
   "outputs": [
    {
     "name": "stdout",
     "output_type": "stream",
     "text": [
      "Number of groups: 2\n",
      "Number of candidates: <class 'str'>\n"
     ]
    }
   ],
   "source": [
    "print(\"Number of groups:\", len(group_names))\n",
    "print(\"Number of candidates:\", type(candidate_names))\n"
   ]
  },
  {
   "cell_type": "code",
   "execution_count": 227,
   "metadata": {},
   "outputs": [],
   "source": [
    "def plot_kdes_simple(sampled_prefs, group_names, candidate_names):\n",
    "    import matplotlib.pyplot as plt\n",
    "    import seaborn as sns\n",
    "    import numpy as np\n",
    "\n",
    "    # Ensure candidate_names is a list\n",
    "    if isinstance(candidate_names, str):\n",
    "        candidate_names = [candidate_names]\n",
    "\n",
    "    sampled_prefs = np.array(sampled_prefs)\n",
    "    num_groups = sampled_prefs.shape[0]\n",
    "\n",
    "    # Check that group_names matches the data dimension\n",
    "    if len(group_names) != num_groups:\n",
    "        print(\"Warning: The number of group_names does not match the number of groups in sampled_prefs.\")\n",
    "        group_names = group_names[:num_groups]\n",
    "\n",
    "    colors = [\"red\", \"blue\"]\n",
    "    # if len(colors) < num_groups:\n",
    "    #     raise ValueError(\"Not enough colors defined for the number of groups.\")\n",
    "\n",
    "    fig, ax = plt.subplots(figsize=(8, 4))\n",
    "\n",
    "    for i in range(num_groups):\n",
    "        sns.histplot(\n",
    "            sampled_prefs[i, :],\n",
    "            kde=True,\n",
    "            stat=\"density\",\n",
    "            element=\"step\",\n",
    "            ax=ax,\n",
    "            label=group_names[i],\n",
    "            color=colors[i]\n",
    "        )\n",
    "\n",
    "    ax.set_title(f\"Support for {candidate_names[0]}\", fontsize=14)\n",
    "    ax.set_xlabel(\"Preference\")\n",
    "    ax.set_ylabel(\"Density\")\n",
    "    ax.set_xlim((0, 1))\n",
    "    ax.legend()\n",
    "\n",
    "    plt.tight_layout()\n",
    "    plt.show()\n",
    "    return ax\n"
   ]
  },
  {
   "cell_type": "code",
   "execution_count": 228,
   "metadata": {},
   "outputs": [
    {
     "data": {
      "image/png": "[encoded data removed]",
      "text/plain": [
       "<Figure size 800x400 with 1 Axes>"
      ]
     },
     "metadata": {},
     "output_type": "display_data"
    },
    {
     "data": {
      "text/plain": [
       "<Axes: title={'center': 'Support for Henry McMaster'}, xlabel='Preference', ylabel='Density'>"
      ]
     },
     "execution_count": 228,
     "metadata": {},
     "output_type": "execute_result"
    }
   ],
   "source": [
    "# Now re-plot using the previously defined plot_kdes function\n",
    "plot_kdes_simple(sampled_voting_prefs, group_names, candidate_names)"
   ]
  },
  {
   "cell_type": "markdown",
   "metadata": {},
   "source": [
    "### Export data"
   ]
  },
  {
   "cell_type": "markdown",
   "metadata": {},
   "source": [
    "## Maryland"
   ]
  },
  {
   "cell_type": "code",
   "execution_count": 896,
   "metadata": {},
   "outputs": [],
   "source": [
    "md_election_gov_df = pd.read_json('states/maryland/election/md_election_gov_22.json')\n",
    "md_race_df = pd.read_json('states/maryland/demographics/maryland_precincts_racial_population.json')\n",
    "md_economic_df = pd.read_json('states/maryland/economic/maryland_precincts_household_income.json')\n",
    "md_region_type_df = pd.read_json('states/maryland/geodata/maryland_precincts_region_type.json')"
   ]
  },
  {
   "cell_type": "code",
   "execution_count": 897,
   "metadata": {},
   "outputs": [],
   "source": [
    "md_candidate_mapping = {\n",
    "    \"DEMOCRATIC\": \"Wes Moore (Democratic Party)\",\n",
    "    \"REPUBLICAN\": \"Dan Cox (Republican Party)\"\n",
    "}"
   ]
  },
  {
   "cell_type": "markdown",
   "metadata": {},
   "source": [
    "### Preprocess data"
   ]
  },
  {
   "cell_type": "markdown",
   "metadata": {},
   "source": [
    "#### Racial Group"
   ]
  },
  {
   "cell_type": "code",
   "execution_count": 898,
   "metadata": {},
   "outputs": [],
   "source": [
    "columns_to_keep = ['UNIQUE_ID', 'TOT_POP22']"
   ]
  },
  {
   "cell_type": "code",
   "execution_count": 899,
   "metadata": {},
   "outputs": [],
   "source": [
    "md_race_with_percentages = calculate_population_distribution(md_race_df, race_columns, columns_to_keep)"
   ]
  },
  {
   "cell_type": "code",
   "execution_count": 900,
   "metadata": {},
   "outputs": [],
   "source": [
    "columns_to_keep = ['UNIQUE_ID', 'TOT_VOT']"
   ]
  },
  {
   "cell_type": "code",
   "execution_count": 901,
   "metadata": {},
   "outputs": [],
   "source": [
    "md_election_gov_with_percentages = calculate_voting_distribution(md_election_gov_df, election_columns, columns_to_keep)"
   ]
  },
  {
   "cell_type": "code",
   "execution_count": 902,
   "metadata": {},
   "outputs": [],
   "source": [
    "md_race_merged_ei_df = pd.merge(md_election_gov_with_percentages, md_race_with_percentages, on='UNIQUE_ID', how='left')"
   ]
  },
  {
   "cell_type": "code",
   "execution_count": 903,
   "metadata": {},
   "outputs": [],
   "source": [
    "md_race_merged_ei_df.fillna(0, inplace=True)"
   ]
  },
  {
   "cell_type": "code",
   "execution_count": 904,
   "metadata": {},
   "outputs": [],
   "source": [
    "md_race_merged_ei_df = md_race_merged_ei_df.drop(columns=['TOT_POP22'])\n",
    "md_region_type_df = md_region_type_df.drop(columns=['TOT_POP22'])"
   ]
  },
  {
   "cell_type": "code",
   "execution_count": 905,
   "metadata": {},
   "outputs": [],
   "source": [
    "md_race_merged_ei_df = pd.merge(md_race_merged_ei_df, md_region_type_df, on='UNIQUE_ID', how='left')"
   ]
  },
  {
   "cell_type": "code",
   "execution_count": 906,
   "metadata": {},
   "outputs": [],
   "source": [
    "# md_race_merged_ei_rural_df = md_race_merged_ei_df[md_race_merged_ei_df['region_type'] == 'rural']\n",
    "\n",
    "md_race_merged_ei_suburban_df = md_race_merged_ei_df[md_race_merged_ei_df['region_type'] == 'suburban']\n",
    "\n",
    "md_race_merged_ei_urban_df = md_race_merged_ei_df[md_race_merged_ei_df['region_type'] == 'urban']"
   ]
  },
  {
   "cell_type": "code",
   "execution_count": 907,
   "metadata": {},
   "outputs": [],
   "source": [
    "md_race_merged_ei_df = md_race_merged_ei_df[md_race_merged_ei_df['TOT_VOT']>0]\n",
    "\n",
    "# md_race_merged_ei_rural_df = md_race_merged_ei_rural_df[md_race_merged_ei_rural_df['TOT_VOT']>0]\n",
    "\n",
    "md_race_merged_ei_suburban_df = md_race_merged_ei_suburban_df[md_race_merged_ei_suburban_df['TOT_VOT']>0]\n",
    "\n",
    "# md_race_merged_ei_urban_df = md_race_merged_ei_urban_df[md_race_merged_ei_urban_df['TOT_VOT']>0]"
   ]
  },
  {
   "cell_type": "code",
   "execution_count": 908,
   "metadata": {},
   "outputs": [],
   "source": [
    "# md_race_merged_ei_df = md_race_merged_ei_df.sample(n=100, random_state=42)\n",
    "\n",
    "# md_race_merged_ei_rural_df = md_race_merged_ei_rural_df.sample(n=100, random_state=42)\n",
    "\n",
    "md_race_merged_ei_suburban_df = md_race_merged_ei_suburban_df.sample(n=70, random_state=42)\n",
    "\n",
    "md_race_merged_ei_urban_df = md_race_merged_ei_urban_df.sample(n=80, random_state=42)"
   ]
  },
  {
   "cell_type": "markdown",
   "metadata": {},
   "source": [
    "#### Economic Group"
   ]
  },
  {
   "cell_type": "code",
   "execution_count": 685,
   "metadata": {},
   "outputs": [],
   "source": [
    "columns_to_keep = ['UNIQUE_ID']"
   ]
  },
  {
   "cell_type": "code",
   "execution_count": 686,
   "metadata": {},
   "outputs": [],
   "source": [
    "md_economic_with_percentages = calculate_income_distribution(md_economic_df, income_columns, columns_to_keep)"
   ]
  },
  {
   "cell_type": "code",
   "execution_count": 687,
   "metadata": {},
   "outputs": [],
   "source": [
    "md_economic_merged_ei_df = pd.merge(md_election_gov_with_percentages, md_economic_with_percentages, on='UNIQUE_ID', how='left')"
   ]
  },
  {
   "cell_type": "code",
   "execution_count": 688,
   "metadata": {},
   "outputs": [],
   "source": [
    "md_economic_merged_ei_df.fillna(0, inplace=True)"
   ]
  },
  {
   "cell_type": "code",
   "execution_count": 689,
   "metadata": {},
   "outputs": [],
   "source": [
    "md_economic_merged_ei_df = pd.merge(md_economic_merged_ei_df, md_region_type_df, on='UNIQUE_ID', how='left')"
   ]
  },
  {
   "cell_type": "code",
   "execution_count": 690,
   "metadata": {},
   "outputs": [],
   "source": [
    "md_economic_merged_ei_rural_df = md_economic_merged_ei_df[md_economic_merged_ei_df['region_type'] == 'rural']\n",
    "\n",
    "md_economic_merged_ei_suburban_df = md_economic_merged_ei_df[md_economic_merged_ei_df['region_type'] == 'suburban']\n",
    "\n",
    "md_economic_merged_ei_urban_df = md_economic_merged_ei_df[md_economic_merged_ei_df['region_type'] == 'urban']"
   ]
  },
  {
   "cell_type": "code",
   "execution_count": 691,
   "metadata": {},
   "outputs": [],
   "source": [
    "md_economic_merged_ei_df = md_economic_merged_ei_df[md_economic_merged_ei_df['TOT_VOT']>0]\n",
    "\n",
    "md_economic_merged_ei_rural_df = md_economic_merged_ei_rural_df[md_economic_merged_ei_rural_df['TOT_VOT']>0]\n",
    "\n",
    "md_economic_merged_ei_suburban_df = md_economic_merged_ei_suburban_df[md_economic_merged_ei_suburban_df['TOT_VOT']>0]\n",
    "\n",
    "md_economic_merged_ei_urban_df = md_economic_merged_ei_urban_df[md_economic_merged_ei_urban_df['TOT_VOT']>0]"
   ]
  },
  {
   "cell_type": "code",
   "execution_count": 692,
   "metadata": {},
   "outputs": [],
   "source": [
    "md_economic_merged_ei_df = md_economic_merged_ei_df.sample(n=100, random_state=42)\n",
    "\n",
    "md_economic_merged_ei_rural_df = md_economic_merged_ei_rural_df.sample(n=100, random_state=42)\n",
    "\n",
    "md_economic_merged_ei_suburban_df = md_economic_merged_ei_suburban_df.sample(n=100, random_state=42)\n",
    "\n",
    "md_economic_merged_ei_urban_df = md_economic_merged_ei_urban_df.sample(n=100, random_state=42)"
   ]
  },
  {
   "cell_type": "markdown",
   "metadata": {},
   "source": [
    "### Running EI models"
   ]
  },
  {
   "cell_type": "markdown",
   "metadata": {},
   "source": [
    "#### Racial Run"
   ]
  },
  {
   "cell_type": "markdown",
   "metadata": {},
   "source": [
    "##### DEMOCRATIC Run"
   ]
  },
  {
   "cell_type": "code",
   "execution_count": 809,
   "metadata": {},
   "outputs": [
    {
     "name": "stderr",
     "output_type": "stream",
     "text": [
      "Compiling...\n",
      "Compilation time = 0:00:02.446576\n",
      "Sampling...\n"
     ]
    },
    {
     "data": {
      "application/vnd.jupyter.widget-view+json": {
       "model_id": "66994bce69884eb195e45be7ed7c9b3d",
       "version_major": 2,
       "version_minor": 0
      },
      "text/plain": [
       "  0%|          | 0/2500 [00:00<?, ?it/s]"
      ]
     },
     "metadata": {},
     "output_type": "display_data"
    },
    {
     "data": {
      "application/vnd.jupyter.widget-view+json": {
       "model_id": "1cd87d9aa298418cb588b9a9b6dc7068",
       "version_major": 2,
       "version_minor": 0
      },
      "text/plain": [
       "  0%|          | 0/2500 [00:00<?, ?it/s]"
      ]
     },
     "metadata": {},
     "output_type": "display_data"
    },
    {
     "data": {
      "application/vnd.jupyter.widget-view+json": {
       "model_id": "9aca7b11c0cc4aa29de69100c1e6b8f6",
       "version_major": 2,
       "version_minor": 0
      },
      "text/plain": [
       "  0%|          | 0/2500 [00:00<?, ?it/s]"
      ]
     },
     "metadata": {},
     "output_type": "display_data"
    },
    {
     "data": {
      "application/vnd.jupyter.widget-view+json": {
       "model_id": "d447c82983d144d7946070e5f21815c2",
       "version_major": 2,
       "version_minor": 0
      },
      "text/plain": [
       "  0%|          | 0/2500 [00:00<?, ?it/s]"
      ]
     },
     "metadata": {},
     "output_type": "display_data"
    },
    {
     "name": "stderr",
     "output_type": "stream",
     "text": [
      "Sampling time = 0:00:08.175664\n",
      "Transforming variables...\n",
      "Transformation time = 0:00:34.813250\n"
     ]
    },
    {
     "name": "stdout",
     "output_type": "stream",
     "text": [
      "Model: king99_pareto_modification\n",
      "        Computed from the raw b_i samples by multiplying by population and then getting\n",
      "        the proportion of the total pop (total pop=summed across all districts):\n",
      "        The posterior mean for the district-level voting preference of\n",
      "        White for Wes Moore (Democratic Party) is\n",
      "        0.578\n",
      "        The posterior mean for the district-level voting preference of\n",
      "        non-White for Wes Moore (Democratic Party) is\n",
      "        0.859\n",
      "        95% equal-tailed Bayesian credible interval for district-level voting preference of\n",
      "        White for Wes Moore (Democratic Party) is\n",
      "        [0.53963731 0.6175088 ]\n",
      "        95% equal-tailed Bayesian credible interval for district-level voting preference of\n",
      "        non-White for Wes Moore (Democratic Party) is\n",
      "        [0.80761344 0.90391746]\n",
      "        \n"
     ]
    }
   ],
   "source": [
    "md_dem_white_ei, md_dem_white_summary = run_ecological_inference(\n",
    "    df=md_race_merged_ei_df,\n",
    "    demographic_col=\"WHITE_PERCENT\",\n",
    "    voting_col=\"DEMOCRATIC_PERCENT\",\n",
    "    total_votes_col=\"TOT_VOT\",\n",
    "    demographic_group_name=\"White\",\n",
    "    candidate_name=md_candidate_mapping['DEMOCRATIC']\n",
    ")"
   ]
  },
  {
   "cell_type": "code",
   "execution_count": 810,
   "metadata": {},
   "outputs": [
    {
     "name": "stderr",
     "output_type": "stream",
     "text": [
      "Compiling...\n",
      "Compilation time = 0:00:02.246785\n",
      "Sampling...\n"
     ]
    },
    {
     "data": {
      "application/vnd.jupyter.widget-view+json": {
       "model_id": "641db27082594ab2a4d34118c9c63360",
       "version_major": 2,
       "version_minor": 0
      },
      "text/plain": [
       "  0%|          | 0/2500 [00:00<?, ?it/s]"
      ]
     },
     "metadata": {},
     "output_type": "display_data"
    },
    {
     "data": {
      "application/vnd.jupyter.widget-view+json": {
       "model_id": "e0cc11df7ee54ab09c8c1c7ab459dc67",
       "version_major": 2,
       "version_minor": 0
      },
      "text/plain": [
       "  0%|          | 0/2500 [00:00<?, ?it/s]"
      ]
     },
     "metadata": {},
     "output_type": "display_data"
    },
    {
     "data": {
      "application/vnd.jupyter.widget-view+json": {
       "model_id": "9c0c880c351441979dae46b7bf601847",
       "version_major": 2,
       "version_minor": 0
      },
      "text/plain": [
       "  0%|          | 0/2500 [00:00<?, ?it/s]"
      ]
     },
     "metadata": {},
     "output_type": "display_data"
    },
    {
     "data": {
      "application/vnd.jupyter.widget-view+json": {
       "model_id": "94b4e49059b843479bf408d1b0ec3104",
       "version_major": 2,
       "version_minor": 0
      },
      "text/plain": [
       "  0%|          | 0/2500 [00:00<?, ?it/s]"
      ]
     },
     "metadata": {},
     "output_type": "display_data"
    },
    {
     "name": "stderr",
     "output_type": "stream",
     "text": [
      "Sampling time = 0:00:05.859830\n",
      "Transforming variables...\n",
      "Transformation time = 0:00:20.361083\n"
     ]
    },
    {
     "name": "stdout",
     "output_type": "stream",
     "text": [
      "Model: king99_pareto_modification\n",
      "        Computed from the raw b_i samples by multiplying by population and then getting\n",
      "        the proportion of the total pop (total pop=summed across all districts):\n",
      "        The posterior mean for the district-level voting preference of\n",
      "        White for Wes Moore (Democratic Party) is\n",
      "        0.536\n",
      "        The posterior mean for the district-level voting preference of\n",
      "        non-White for Wes Moore (Democratic Party) is\n",
      "        0.847\n",
      "        95% equal-tailed Bayesian credible interval for district-level voting preference of\n",
      "        White for Wes Moore (Democratic Party) is\n",
      "        [0.50140421 0.57433533]\n",
      "        95% equal-tailed Bayesian credible interval for district-level voting preference of\n",
      "        non-White for Wes Moore (Democratic Party) is\n",
      "        [0.79824588 0.8869817 ]\n",
      "        \n"
     ]
    }
   ],
   "source": [
    "md_dem_white_ei_rural, md_dem_white_summary_rural = run_ecological_inference(\n",
    "    df=md_race_merged_ei_rural_df,\n",
    "    demographic_col=\"WHITE_PERCENT\",\n",
    "    voting_col=\"DEMOCRATIC_PERCENT\",\n",
    "    total_votes_col=\"TOT_VOT\",\n",
    "    demographic_group_name=\"White\",\n",
    "    candidate_name=md_candidate_mapping['DEMOCRATIC']\n",
    ")"
   ]
  },
  {
   "cell_type": "code",
   "execution_count": 811,
   "metadata": {},
   "outputs": [
    {
     "name": "stderr",
     "output_type": "stream",
     "text": [
      "Compiling...\n",
      "Compilation time = 0:00:02.363774\n",
      "Sampling...\n"
     ]
    },
    {
     "data": {
      "application/vnd.jupyter.widget-view+json": {
       "model_id": "54dd282c86244973b9a6932da9d23236",
       "version_major": 2,
       "version_minor": 0
      },
      "text/plain": [
       "  0%|          | 0/2500 [00:00<?, ?it/s]"
      ]
     },
     "metadata": {},
     "output_type": "display_data"
    },
    {
     "data": {
      "application/vnd.jupyter.widget-view+json": {
       "model_id": "c97a61eab31247cbadcc61926e994ef5",
       "version_major": 2,
       "version_minor": 0
      },
      "text/plain": [
       "  0%|          | 0/2500 [00:00<?, ?it/s]"
      ]
     },
     "metadata": {},
     "output_type": "display_data"
    },
    {
     "data": {
      "application/vnd.jupyter.widget-view+json": {
       "model_id": "43b139991f594b98b5413dc01b41d228",
       "version_major": 2,
       "version_minor": 0
      },
      "text/plain": [
       "  0%|          | 0/2500 [00:00<?, ?it/s]"
      ]
     },
     "metadata": {},
     "output_type": "display_data"
    },
    {
     "data": {
      "application/vnd.jupyter.widget-view+json": {
       "model_id": "85376496eae34a0396ece582e88721f1",
       "version_major": 2,
       "version_minor": 0
      },
      "text/plain": [
       "  0%|          | 0/2500 [00:00<?, ?it/s]"
      ]
     },
     "metadata": {},
     "output_type": "display_data"
    },
    {
     "name": "stderr",
     "output_type": "stream",
     "text": [
      "Sampling time = 0:00:07.593337\n",
      "Transforming variables...\n",
      "Transformation time = 0:00:57.558657\n"
     ]
    },
    {
     "name": "stdout",
     "output_type": "stream",
     "text": [
      "Model: king99_pareto_modification\n",
      "        Computed from the raw b_i samples by multiplying by population and then getting\n",
      "        the proportion of the total pop (total pop=summed across all districts):\n",
      "        The posterior mean for the district-level voting preference of\n",
      "        White for Wes Moore (Democratic Party) is\n",
      "        0.510\n",
      "        The posterior mean for the district-level voting preference of\n",
      "        non-White for Wes Moore (Democratic Party) is\n",
      "        0.954\n",
      "        95% equal-tailed Bayesian credible interval for district-level voting preference of\n",
      "        White for Wes Moore (Democratic Party) is\n",
      "        [0.49455543 0.53247383]\n",
      "        95% equal-tailed Bayesian credible interval for district-level voting preference of\n",
      "        non-White for Wes Moore (Democratic Party) is\n",
      "        [0.90709307 0.9834392 ]\n",
      "        \n"
     ]
    }
   ],
   "source": [
    "md_dem_white_ei_subrban, md_dem_white_summary_suburban = run_ecological_inference(\n",
    "    df=md_race_merged_ei_suburban_df,\n",
    "    demographic_col=\"WHITE_PERCENT\",\n",
    "    voting_col=\"DEMOCRATIC_PERCENT\",\n",
    "    total_votes_col=\"TOT_VOT\",\n",
    "    demographic_group_name=\"White\",\n",
    "    candidate_name=md_candidate_mapping['DEMOCRATIC']\n",
    ")"
   ]
  },
  {
   "cell_type": "code",
   "execution_count": 812,
   "metadata": {},
   "outputs": [
    {
     "name": "stderr",
     "output_type": "stream",
     "text": [
      "Compiling...\n",
      "Compilation time = 0:00:01.464011\n",
      "Sampling...\n"
     ]
    },
    {
     "data": {
      "application/vnd.jupyter.widget-view+json": {
       "model_id": "3db39fdeeb914111ac5c58a117bc6f2d",
       "version_major": 2,
       "version_minor": 0
      },
      "text/plain": [
       "  0%|          | 0/2500 [00:00<?, ?it/s]"
      ]
     },
     "metadata": {},
     "output_type": "display_data"
    },
    {
     "data": {
      "application/vnd.jupyter.widget-view+json": {
       "model_id": "ccc973b1d4694c5a86796982988ffaf4",
       "version_major": 2,
       "version_minor": 0
      },
      "text/plain": [
       "  0%|          | 0/2500 [00:00<?, ?it/s]"
      ]
     },
     "metadata": {},
     "output_type": "display_data"
    },
    {
     "data": {
      "application/vnd.jupyter.widget-view+json": {
       "model_id": "def044c3dbb14220a9339a48bea2af44",
       "version_major": 2,
       "version_minor": 0
      },
      "text/plain": [
       "  0%|          | 0/2500 [00:00<?, ?it/s]"
      ]
     },
     "metadata": {},
     "output_type": "display_data"
    },
    {
     "data": {
      "application/vnd.jupyter.widget-view+json": {
       "model_id": "d40b6663fb03453687d1952b23cd3ea1",
       "version_major": 2,
       "version_minor": 0
      },
      "text/plain": [
       "  0%|          | 0/2500 [00:00<?, ?it/s]"
      ]
     },
     "metadata": {},
     "output_type": "display_data"
    },
    {
     "name": "stderr",
     "output_type": "stream",
     "text": [
      "Sampling time = 0:00:29.150104\n",
      "Transforming variables...\n",
      "Transformation time = 0:00:38.052810\n"
     ]
    },
    {
     "name": "stdout",
     "output_type": "stream",
     "text": [
      "Model: king99_pareto_modification\n",
      "        Computed from the raw b_i samples by multiplying by population and then getting\n",
      "        the proportion of the total pop (total pop=summed across all districts):\n",
      "        The posterior mean for the district-level voting preference of\n",
      "        White for Wes Moore (Democratic Party) is\n",
      "        0.472\n",
      "        The posterior mean for the district-level voting preference of\n",
      "        non-White for Wes Moore (Democratic Party) is\n",
      "        0.956\n",
      "        95% equal-tailed Bayesian credible interval for district-level voting preference of\n",
      "        White for Wes Moore (Democratic Party) is\n",
      "        [0.44096142 0.51377281]\n",
      "        95% equal-tailed Bayesian credible interval for district-level voting preference of\n",
      "        non-White for Wes Moore (Democratic Party) is\n",
      "        [0.92866604 0.97442596]\n",
      "        \n"
     ]
    }
   ],
   "source": [
    "md_dem_white_ei_urban, md_dem_white_summary_urban = run_ecological_inference(\n",
    "    df=md_race_merged_ei_urban_df,\n",
    "    demographic_col=\"WHITE_PERCENT\",\n",
    "    voting_col=\"DEMOCRATIC_PERCENT\",\n",
    "    total_votes_col=\"TOT_VOT\",\n",
    "    demographic_group_name=\"White\",\n",
    "    candidate_name=md_candidate_mapping['DEMOCRATIC']\n",
    ")"
   ]
  },
  {
   "cell_type": "code",
   "execution_count": 813,
   "metadata": {},
   "outputs": [
    {
     "name": "stderr",
     "output_type": "stream",
     "text": [
      "Compiling...\n",
      "Compilation time = 0:00:01.722602\n",
      "Sampling...\n"
     ]
    },
    {
     "data": {
      "application/vnd.jupyter.widget-view+json": {
       "model_id": "236958e7a7d946c097a95e2d3acfd599",
       "version_major": 2,
       "version_minor": 0
      },
      "text/plain": [
       "  0%|          | 0/2500 [00:00<?, ?it/s]"
      ]
     },
     "metadata": {},
     "output_type": "display_data"
    },
    {
     "data": {
      "application/vnd.jupyter.widget-view+json": {
       "model_id": "124db99380b5473da088689e63f49545",
       "version_major": 2,
       "version_minor": 0
      },
      "text/plain": [
       "  0%|          | 0/2500 [00:00<?, ?it/s]"
      ]
     },
     "metadata": {},
     "output_type": "display_data"
    },
    {
     "data": {
      "application/vnd.jupyter.widget-view+json": {
       "model_id": "11af5a2c16d44689ac1121b2e34058d4",
       "version_major": 2,
       "version_minor": 0
      },
      "text/plain": [
       "  0%|          | 0/2500 [00:00<?, ?it/s]"
      ]
     },
     "metadata": {},
     "output_type": "display_data"
    },
    {
     "data": {
      "application/vnd.jupyter.widget-view+json": {
       "model_id": "1d55cc4b9d0e4fe19c28f177fce8a504",
       "version_major": 2,
       "version_minor": 0
      },
      "text/plain": [
       "  0%|          | 0/2500 [00:00<?, ?it/s]"
      ]
     },
     "metadata": {},
     "output_type": "display_data"
    },
    {
     "name": "stderr",
     "output_type": "stream",
     "text": [
      "Sampling time = 0:00:03.529456\n",
      "Transforming variables...\n",
      "Transformation time = 0:00:40.929209\n"
     ]
    },
    {
     "name": "stdout",
     "output_type": "stream",
     "text": [
      "Model: king99_pareto_modification\n",
      "        Computed from the raw b_i samples by multiplying by population and then getting\n",
      "        the proportion of the total pop (total pop=summed across all districts):\n",
      "        The posterior mean for the district-level voting preference of\n",
      "        Black for Wes Moore (Democratic Party) is\n",
      "        0.962\n",
      "        The posterior mean for the district-level voting preference of\n",
      "        non-Black for Wes Moore (Democratic Party) is\n",
      "        0.628\n",
      "        95% equal-tailed Bayesian credible interval for district-level voting preference of\n",
      "        Black for Wes Moore (Democratic Party) is\n",
      "        [0.91965074 0.98943353]\n",
      "        95% equal-tailed Bayesian credible interval for district-level voting preference of\n",
      "        non-Black for Wes Moore (Democratic Party) is\n",
      "        [0.61842048 0.64191223]\n",
      "        \n"
     ]
    }
   ],
   "source": [
    "md_dem_black_ei, md_dem_black_summary = run_ecological_inference(\n",
    "    df=md_race_merged_ei_df,\n",
    "    demographic_col=\"BLACK_PERCENT\",\n",
    "    voting_col=\"DEMOCRATIC_PERCENT\",\n",
    "    total_votes_col=\"TOT_VOT\",\n",
    "    demographic_group_name=\"Black\",\n",
    "    candidate_name=md_candidate_mapping['DEMOCRATIC']\n",
    ")"
   ]
  },
  {
   "cell_type": "code",
   "execution_count": 814,
   "metadata": {},
   "outputs": [
    {
     "name": "stderr",
     "output_type": "stream",
     "text": [
      "Compiling...\n",
      "Compilation time = 0:00:01.655466\n",
      "Sampling...\n"
     ]
    },
    {
     "data": {
      "application/vnd.jupyter.widget-view+json": {
       "model_id": "effa3805635a4eedbcb2b4cd18518a3e",
       "version_major": 2,
       "version_minor": 0
      },
      "text/plain": [
       "  0%|          | 0/2500 [00:00<?, ?it/s]"
      ]
     },
     "metadata": {},
     "output_type": "display_data"
    },
    {
     "data": {
      "application/vnd.jupyter.widget-view+json": {
       "model_id": "0f58e6de198d46c3837f2ea03936b9ca",
       "version_major": 2,
       "version_minor": 0
      },
      "text/plain": [
       "  0%|          | 0/2500 [00:00<?, ?it/s]"
      ]
     },
     "metadata": {},
     "output_type": "display_data"
    },
    {
     "data": {
      "application/vnd.jupyter.widget-view+json": {
       "model_id": "6c87ef0003a24f79b1a28913f56bba25",
       "version_major": 2,
       "version_minor": 0
      },
      "text/plain": [
       "  0%|          | 0/2500 [00:00<?, ?it/s]"
      ]
     },
     "metadata": {},
     "output_type": "display_data"
    },
    {
     "data": {
      "application/vnd.jupyter.widget-view+json": {
       "model_id": "98c4c5c7024349a9a988d6d07d1f7717",
       "version_major": 2,
       "version_minor": 0
      },
      "text/plain": [
       "  0%|          | 0/2500 [00:00<?, ?it/s]"
      ]
     },
     "metadata": {},
     "output_type": "display_data"
    },
    {
     "name": "stderr",
     "output_type": "stream",
     "text": [
      "Sampling time = 0:00:03.464005\n",
      "Transforming variables...\n",
      "Transformation time = 0:00:17.651402\n"
     ]
    },
    {
     "name": "stdout",
     "output_type": "stream",
     "text": [
      "Model: king99_pareto_modification\n",
      "        Computed from the raw b_i samples by multiplying by population and then getting\n",
      "        the proportion of the total pop (total pop=summed across all districts):\n",
      "        The posterior mean for the district-level voting preference of\n",
      "        Black for Wes Moore (Democratic Party) is\n",
      "        0.948\n",
      "        The posterior mean for the district-level voting preference of\n",
      "        non-Black for Wes Moore (Democratic Party) is\n",
      "        0.620\n",
      "        95% equal-tailed Bayesian credible interval for district-level voting preference of\n",
      "        Black for Wes Moore (Democratic Party) is\n",
      "        [0.89512469 0.97842698]\n",
      "        95% equal-tailed Bayesian credible interval for district-level voting preference of\n",
      "        non-Black for Wes Moore (Democratic Party) is\n",
      "        [0.60819826 0.63389648]\n",
      "        \n"
     ]
    }
   ],
   "source": [
    "md_dem_black_ei_rural, md_dem_black_summary_rural = run_ecological_inference(\n",
    "    df=md_race_merged_ei_rural_df,\n",
    "    demographic_col=\"BLACK_PERCENT\",\n",
    "    voting_col=\"DEMOCRATIC_PERCENT\",\n",
    "    total_votes_col=\"TOT_VOT\",\n",
    "    demographic_group_name=\"Black\",\n",
    "    candidate_name=md_candidate_mapping['DEMOCRATIC']\n",
    ")"
   ]
  },
  {
   "cell_type": "code",
   "execution_count": 909,
   "metadata": {},
   "outputs": [
    {
     "name": "stderr",
     "output_type": "stream",
     "text": [
      "Compiling...\n",
      "Compilation time = 0:00:01.838308\n",
      "Sampling...\n"
     ]
    },
    {
     "data": {
      "application/vnd.jupyter.widget-view+json": {
       "model_id": "2e1918c585a4446897edfdff87662f34",
       "version_major": 2,
       "version_minor": 0
      },
      "text/plain": [
       "  0%|          | 0/2500 [00:00<?, ?it/s]"
      ]
     },
     "metadata": {},
     "output_type": "display_data"
    },
    {
     "data": {
      "application/vnd.jupyter.widget-view+json": {
       "model_id": "9f2eeb3412be49de9ccffd81c206c798",
       "version_major": 2,
       "version_minor": 0
      },
      "text/plain": [
       "  0%|          | 0/2500 [00:00<?, ?it/s]"
      ]
     },
     "metadata": {},
     "output_type": "display_data"
    },
    {
     "data": {
      "application/vnd.jupyter.widget-view+json": {
       "model_id": "fdbc13b97e3a41398c18d167043f0e4e",
       "version_major": 2,
       "version_minor": 0
      },
      "text/plain": [
       "  0%|          | 0/2500 [00:00<?, ?it/s]"
      ]
     },
     "metadata": {},
     "output_type": "display_data"
    },
    {
     "data": {
      "application/vnd.jupyter.widget-view+json": {
       "model_id": "9aa92990d4064a9ba97fcf05a7d66de0",
       "version_major": 2,
       "version_minor": 0
      },
      "text/plain": [
       "  0%|          | 0/2500 [00:00<?, ?it/s]"
      ]
     },
     "metadata": {},
     "output_type": "display_data"
    },
    {
     "name": "stderr",
     "output_type": "stream",
     "text": [
      "Sampling time = 0:00:05.586788\n",
      "Transforming variables...\n",
      "Transformation time = 0:00:57.577600\n"
     ]
    },
    {
     "name": "stdout",
     "output_type": "stream",
     "text": [
      "Model: king99_pareto_modification\n",
      "        Computed from the raw b_i samples by multiplying by population and then getting\n",
      "        the proportion of the total pop (total pop=summed across all districts):\n",
      "        The posterior mean for the district-level voting preference of\n",
      "        Black for Wes Moore (Democratic Party) is\n",
      "        0.974\n",
      "        The posterior mean for the district-level voting preference of\n",
      "        non-Black for Wes Moore (Democratic Party) is\n",
      "        0.574\n",
      "        95% equal-tailed Bayesian credible interval for district-level voting preference of\n",
      "        Black for Wes Moore (Democratic Party) is\n",
      "        [0.93094001 0.99640574]\n",
      "        95% equal-tailed Bayesian credible interval for district-level voting preference of\n",
      "        non-Black for Wes Moore (Democratic Party) is\n",
      "        [0.56596727 0.58353641]\n",
      "        \n"
     ]
    }
   ],
   "source": [
    "md_dem_black_ei_suburban, md_dem_black_summary_suburban = run_ecological_inference(\n",
    "    df=md_race_merged_ei_suburban_df,\n",
    "    demographic_col=\"BLACK_PERCENT\",\n",
    "    voting_col=\"DEMOCRATIC_PERCENT\",\n",
    "    total_votes_col=\"TOT_VOT\",\n",
    "    demographic_group_name=\"Black\",\n",
    "    candidate_name=md_candidate_mapping['DEMOCRATIC']\n",
    ")"
   ]
  },
  {
   "cell_type": "code",
   "execution_count": 910,
   "metadata": {},
   "outputs": [
    {
     "name": "stderr",
     "output_type": "stream",
     "text": [
      "Compiling...\n",
      "Compilation time = 0:00:28.441193\n",
      "Sampling...\n"
     ]
    },
    {
     "data": {
      "application/vnd.jupyter.widget-view+json": {
       "model_id": "2f97b7cc4f664f0ca7060b9650d0d360",
       "version_major": 2,
       "version_minor": 0
      },
      "text/plain": [
       "  0%|          | 0/2500 [00:00<?, ?it/s]"
      ]
     },
     "metadata": {},
     "output_type": "display_data"
    },
    {
     "data": {
      "application/vnd.jupyter.widget-view+json": {
       "model_id": "82db973093d74d94a4a1f1b07e0d1a06",
       "version_major": 2,
       "version_minor": 0
      },
      "text/plain": [
       "  0%|          | 0/2500 [00:00<?, ?it/s]"
      ]
     },
     "metadata": {},
     "output_type": "display_data"
    },
    {
     "data": {
      "application/vnd.jupyter.widget-view+json": {
       "model_id": "0e9360d32daa4b098fb28e52264a8820",
       "version_major": 2,
       "version_minor": 0
      },
      "text/plain": [
       "  0%|          | 0/2500 [00:00<?, ?it/s]"
      ]
     },
     "metadata": {},
     "output_type": "display_data"
    },
    {
     "data": {
      "application/vnd.jupyter.widget-view+json": {
       "model_id": "1ceebc874d664ea1a5a4a3fa064cf624",
       "version_major": 2,
       "version_minor": 0
      },
      "text/plain": [
       "  0%|          | 0/2500 [00:00<?, ?it/s]"
      ]
     },
     "metadata": {},
     "output_type": "display_data"
    },
    {
     "name": "stderr",
     "output_type": "stream",
     "text": [
      "Sampling time = 0:00:04.959819\n",
      "Transforming variables...\n",
      "Transformation time = 0:01:07.429713\n"
     ]
    },
    {
     "name": "stdout",
     "output_type": "stream",
     "text": [
      "Model: king99_pareto_modification\n",
      "        Computed from the raw b_i samples by multiplying by population and then getting\n",
      "        the proportion of the total pop (total pop=summed across all districts):\n",
      "        The posterior mean for the district-level voting preference of\n",
      "        Black for Wes Moore (Democratic Party) is\n",
      "        0.982\n",
      "        The posterior mean for the district-level voting preference of\n",
      "        non-Black for Wes Moore (Democratic Party) is\n",
      "        0.614\n",
      "        95% equal-tailed Bayesian credible interval for district-level voting preference of\n",
      "        Black for Wes Moore (Democratic Party) is\n",
      "        [0.94678433 0.99929767]\n",
      "        95% equal-tailed Bayesian credible interval for district-level voting preference of\n",
      "        non-Black for Wes Moore (Democratic Party) is\n",
      "        [0.60382008 0.63022036]\n",
      "        \n"
     ]
    }
   ],
   "source": [
    "md_dem_black_ei_urban, md_dem_black_summary_urban = run_ecological_inference(\n",
    "    df=md_race_merged_ei_urban_df,\n",
    "    demographic_col=\"BLACK_PERCENT\",\n",
    "    voting_col=\"DEMOCRATIC_PERCENT\",\n",
    "    total_votes_col=\"TOT_VOT\",\n",
    "    demographic_group_name=\"Black\",\n",
    "    candidate_name=md_candidate_mapping['DEMOCRATIC']\n",
    ")"
   ]
  },
  {
   "cell_type": "code",
   "execution_count": 817,
   "metadata": {},
   "outputs": [
    {
     "name": "stderr",
     "output_type": "stream",
     "text": [
      "Compiling...\n",
      "Compilation time = 0:00:02.184338\n",
      "Sampling...\n"
     ]
    },
    {
     "data": {
      "application/vnd.jupyter.widget-view+json": {
       "model_id": "8e6f943e13654b12a208b96e8acb75ee",
       "version_major": 2,
       "version_minor": 0
      },
      "text/plain": [
       "  0%|          | 0/2500 [00:00<?, ?it/s]"
      ]
     },
     "metadata": {},
     "output_type": "display_data"
    },
    {
     "data": {
      "application/vnd.jupyter.widget-view+json": {
       "model_id": "d1a057ec4e6a4403962a465e83150271",
       "version_major": 2,
       "version_minor": 0
      },
      "text/plain": [
       "  0%|          | 0/2500 [00:00<?, ?it/s]"
      ]
     },
     "metadata": {},
     "output_type": "display_data"
    },
    {
     "data": {
      "application/vnd.jupyter.widget-view+json": {
       "model_id": "cf9e31d1da034011be312c8c7fb77d87",
       "version_major": 2,
       "version_minor": 0
      },
      "text/plain": [
       "  0%|          | 0/2500 [00:00<?, ?it/s]"
      ]
     },
     "metadata": {},
     "output_type": "display_data"
    },
    {
     "data": {
      "application/vnd.jupyter.widget-view+json": {
       "model_id": "118c3e6eb1fd46c286e6bdc6f2bfbb08",
       "version_major": 2,
       "version_minor": 0
      },
      "text/plain": [
       "  0%|          | 0/2500 [00:00<?, ?it/s]"
      ]
     },
     "metadata": {},
     "output_type": "display_data"
    },
    {
     "name": "stderr",
     "output_type": "stream",
     "text": [
      "Sampling time = 0:00:04.312725\n",
      "Transforming variables...\n",
      "Transformation time = 0:00:24.525754\n"
     ]
    },
    {
     "name": "stdout",
     "output_type": "stream",
     "text": [
      "Model: king99_pareto_modification\n",
      "        Computed from the raw b_i samples by multiplying by population and then getting\n",
      "        the proportion of the total pop (total pop=summed across all districts):\n",
      "        The posterior mean for the district-level voting preference of\n",
      "        Asian for Wes Moore (Democratic Party) is\n",
      "        0.791\n",
      "        The posterior mean for the district-level voting preference of\n",
      "        non-Asian for Wes Moore (Democratic Party) is\n",
      "        0.682\n",
      "        95% equal-tailed Bayesian credible interval for district-level voting preference of\n",
      "        Asian for Wes Moore (Democratic Party) is\n",
      "        [0.59677344 0.96132809]\n",
      "        95% equal-tailed Bayesian credible interval for district-level voting preference of\n",
      "        non-Asian for Wes Moore (Democratic Party) is\n",
      "        [0.65768605 0.70603188]\n",
      "        \n"
     ]
    }
   ],
   "source": [
    "md_dem_asian_ei, md_dem_asian_summary = run_ecological_inference(\n",
    "    df=md_race_merged_ei_df,\n",
    "    demographic_col=\"ASIAN_PERCENT\",\n",
    "    voting_col=\"DEMOCRATIC_PERCENT\",\n",
    "    total_votes_col=\"TOT_VOT\",\n",
    "    demographic_group_name=\"Asian\",\n",
    "    candidate_name=md_candidate_mapping['DEMOCRATIC']\n",
    ")"
   ]
  },
  {
   "cell_type": "code",
   "execution_count": 818,
   "metadata": {},
   "outputs": [
    {
     "name": "stderr",
     "output_type": "stream",
     "text": [
      "Compiling...\n",
      "Compilation time = 0:00:03.051397\n",
      "Sampling...\n"
     ]
    },
    {
     "data": {
      "application/vnd.jupyter.widget-view+json": {
       "model_id": "4ceca066bfdb4713969b3c7e14f6e32c",
       "version_major": 2,
       "version_minor": 0
      },
      "text/plain": [
       "  0%|          | 0/2500 [00:00<?, ?it/s]"
      ]
     },
     "metadata": {},
     "output_type": "display_data"
    },
    {
     "data": {
      "application/vnd.jupyter.widget-view+json": {
       "model_id": "ddf8f162a8194e80b56506ca63ac15b3",
       "version_major": 2,
       "version_minor": 0
      },
      "text/plain": [
       "  0%|          | 0/2500 [00:00<?, ?it/s]"
      ]
     },
     "metadata": {},
     "output_type": "display_data"
    },
    {
     "data": {
      "application/vnd.jupyter.widget-view+json": {
       "model_id": "580f984eba564a67ac2f86baa0f1c58e",
       "version_major": 2,
       "version_minor": 0
      },
      "text/plain": [
       "  0%|          | 0/2500 [00:00<?, ?it/s]"
      ]
     },
     "metadata": {},
     "output_type": "display_data"
    },
    {
     "data": {
      "application/vnd.jupyter.widget-view+json": {
       "model_id": "9370b684276d43fcb38377837a166176",
       "version_major": 2,
       "version_minor": 0
      },
      "text/plain": [
       "  0%|          | 0/2500 [00:00<?, ?it/s]"
      ]
     },
     "metadata": {},
     "output_type": "display_data"
    },
    {
     "name": "stderr",
     "output_type": "stream",
     "text": [
      "Sampling time = 0:00:04.228026\n",
      "Transforming variables...\n",
      "Transformation time = 0:00:11.445853\n"
     ]
    },
    {
     "name": "stdout",
     "output_type": "stream",
     "text": [
      "Model: king99_pareto_modification\n",
      "        Computed from the raw b_i samples by multiplying by population and then getting\n",
      "        the proportion of the total pop (total pop=summed across all districts):\n",
      "        The posterior mean for the district-level voting preference of\n",
      "        Asian for Wes Moore (Democratic Party) is\n",
      "        0.610\n",
      "        The posterior mean for the district-level voting preference of\n",
      "        non-Asian for Wes Moore (Democratic Party) is\n",
      "        0.673\n",
      "        95% equal-tailed Bayesian credible interval for district-level voting preference of\n",
      "        Asian for Wes Moore (Democratic Party) is\n",
      "        [0.37334232 0.85597065]\n",
      "        95% equal-tailed Bayesian credible interval for district-level voting preference of\n",
      "        non-Asian for Wes Moore (Democratic Party) is\n",
      "        [0.65448567 0.6890647 ]\n",
      "        \n"
     ]
    }
   ],
   "source": [
    "md_dem_asian_ei_rural, md_dem_asian_summary_rural = run_ecological_inference(\n",
    "    df=md_race_merged_ei_rural_df,\n",
    "    demographic_col=\"ASIAN_PERCENT\",\n",
    "    voting_col=\"DEMOCRATIC_PERCENT\",\n",
    "    total_votes_col=\"TOT_VOT\",\n",
    "    demographic_group_name=\"Asian\",\n",
    "    candidate_name=md_candidate_mapping['DEMOCRATIC']\n",
    ")"
   ]
  },
  {
   "cell_type": "code",
   "execution_count": 819,
   "metadata": {},
   "outputs": [
    {
     "name": "stderr",
     "output_type": "stream",
     "text": [
      "Compiling...\n",
      "Compilation time = 0:00:02.308292\n",
      "Sampling...\n"
     ]
    },
    {
     "data": {
      "application/vnd.jupyter.widget-view+json": {
       "model_id": "0195e952937d4922a4d3fd2c810ed221",
       "version_major": 2,
       "version_minor": 0
      },
      "text/plain": [
       "  0%|          | 0/2500 [00:00<?, ?it/s]"
      ]
     },
     "metadata": {},
     "output_type": "display_data"
    },
    {
     "data": {
      "application/vnd.jupyter.widget-view+json": {
       "model_id": "b1fabec97c3f4adb8e0f23cfce6e7ca5",
       "version_major": 2,
       "version_minor": 0
      },
      "text/plain": [
       "  0%|          | 0/2500 [00:00<?, ?it/s]"
      ]
     },
     "metadata": {},
     "output_type": "display_data"
    },
    {
     "data": {
      "application/vnd.jupyter.widget-view+json": {
       "model_id": "21be93a37f26471d9eba71b8e1a9283a",
       "version_major": 2,
       "version_minor": 0
      },
      "text/plain": [
       "  0%|          | 0/2500 [00:00<?, ?it/s]"
      ]
     },
     "metadata": {},
     "output_type": "display_data"
    },
    {
     "data": {
      "application/vnd.jupyter.widget-view+json": {
       "model_id": "e40653dd591b42c199b87554a84f880c",
       "version_major": 2,
       "version_minor": 0
      },
      "text/plain": [
       "  0%|          | 0/2500 [00:00<?, ?it/s]"
      ]
     },
     "metadata": {},
     "output_type": "display_data"
    },
    {
     "name": "stderr",
     "output_type": "stream",
     "text": [
      "Sampling time = 0:00:03.614875\n",
      "Transforming variables...\n",
      "Transformation time = 0:00:36.484835\n"
     ]
    },
    {
     "name": "stdout",
     "output_type": "stream",
     "text": [
      "Model: king99_pareto_modification\n",
      "        Computed from the raw b_i samples by multiplying by population and then getting\n",
      "        the proportion of the total pop (total pop=summed across all districts):\n",
      "        The posterior mean for the district-level voting preference of\n",
      "        Asian for Wes Moore (Democratic Party) is\n",
      "        0.597\n",
      "        The posterior mean for the district-level voting preference of\n",
      "        non-Asian for Wes Moore (Democratic Party) is\n",
      "        0.653\n",
      "        95% equal-tailed Bayesian credible interval for district-level voting preference of\n",
      "        Asian for Wes Moore (Democratic Party) is\n",
      "        [0.33337996 0.88531131]\n",
      "        95% equal-tailed Bayesian credible interval for district-level voting preference of\n",
      "        non-Asian for Wes Moore (Democratic Party) is\n",
      "        [0.62757465 0.67520263]\n",
      "        \n"
     ]
    }
   ],
   "source": [
    "md_dem_asian_ei_suburban, md_dem_asian_summary_suburban = run_ecological_inference(\n",
    "    df=md_race_merged_ei_suburban_df,\n",
    "    demographic_col=\"ASIAN_PERCENT\",\n",
    "    voting_col=\"DEMOCRATIC_PERCENT\",\n",
    "    total_votes_col=\"TOT_VOT\",\n",
    "    demographic_group_name=\"Asian\",\n",
    "    candidate_name=md_candidate_mapping['DEMOCRATIC']\n",
    ")"
   ]
  },
  {
   "cell_type": "code",
   "execution_count": 820,
   "metadata": {},
   "outputs": [
    {
     "name": "stderr",
     "output_type": "stream",
     "text": [
      "Compiling...\n",
      "Compilation time = 0:00:01.693545\n",
      "Sampling...\n"
     ]
    },
    {
     "data": {
      "application/vnd.jupyter.widget-view+json": {
       "model_id": "278f5e3f7c0146deb539022597edbc9d",
       "version_major": 2,
       "version_minor": 0
      },
      "text/plain": [
       "  0%|          | 0/2500 [00:00<?, ?it/s]"
      ]
     },
     "metadata": {},
     "output_type": "display_data"
    },
    {
     "data": {
      "application/vnd.jupyter.widget-view+json": {
       "model_id": "945f95f9748247abab9e3e182898214d",
       "version_major": 2,
       "version_minor": 0
      },
      "text/plain": [
       "  0%|          | 0/2500 [00:00<?, ?it/s]"
      ]
     },
     "metadata": {},
     "output_type": "display_data"
    },
    {
     "data": {
      "application/vnd.jupyter.widget-view+json": {
       "model_id": "1d60880c0a214a4fb87726537b10a712",
       "version_major": 2,
       "version_minor": 0
      },
      "text/plain": [
       "  0%|          | 0/2500 [00:00<?, ?it/s]"
      ]
     },
     "metadata": {},
     "output_type": "display_data"
    },
    {
     "data": {
      "application/vnd.jupyter.widget-view+json": {
       "model_id": "1bec4e9b0cf840358cdae79bfe569ef4",
       "version_major": 2,
       "version_minor": 0
      },
      "text/plain": [
       "  0%|          | 0/2500 [00:00<?, ?it/s]"
      ]
     },
     "metadata": {},
     "output_type": "display_data"
    },
    {
     "name": "stderr",
     "output_type": "stream",
     "text": [
      "Sampling time = 0:00:03.729045\n",
      "Transforming variables...\n",
      "Transformation time = 0:00:18.960287\n"
     ]
    },
    {
     "name": "stdout",
     "output_type": "stream",
     "text": [
      "Model: king99_pareto_modification\n",
      "        Computed from the raw b_i samples by multiplying by population and then getting\n",
      "        the proportion of the total pop (total pop=summed across all districts):\n",
      "        The posterior mean for the district-level voting preference of\n",
      "        Asian for Wes Moore (Democratic Party) is\n",
      "        0.534\n",
      "        The posterior mean for the district-level voting preference of\n",
      "        non-Asian for Wes Moore (Democratic Party) is\n",
      "        0.746\n",
      "        95% equal-tailed Bayesian credible interval for district-level voting preference of\n",
      "        Asian for Wes Moore (Democratic Party) is\n",
      "        [0.33812672 0.77920316]\n",
      "        95% equal-tailed Bayesian credible interval for district-level voting preference of\n",
      "        non-Asian for Wes Moore (Democratic Party) is\n",
      "        [0.72121775 0.76432992]\n",
      "        \n"
     ]
    }
   ],
   "source": [
    "md_dem_asian_ei_urban, md_dem_asian_summary_urban = run_ecological_inference(\n",
    "    df=md_race_merged_ei_urban_df,\n",
    "    demographic_col=\"ASIAN_PERCENT\",\n",
    "    voting_col=\"DEMOCRATIC_PERCENT\",\n",
    "    total_votes_col=\"TOT_VOT\",\n",
    "    demographic_group_name=\"Asian\",\n",
    "    candidate_name=md_candidate_mapping['DEMOCRATIC']\n",
    ")"
   ]
  },
  {
   "cell_type": "code",
   "execution_count": 821,
   "metadata": {},
   "outputs": [
    {
     "name": "stderr",
     "output_type": "stream",
     "text": [
      "Compiling...\n",
      "Compilation time = 0:00:01.522609\n",
      "Sampling...\n"
     ]
    },
    {
     "data": {
      "application/vnd.jupyter.widget-view+json": {
       "model_id": "c3b01a12e2894e2c98dd7972bdd21ed8",
       "version_major": 2,
       "version_minor": 0
      },
      "text/plain": [
       "  0%|          | 0/2500 [00:00<?, ?it/s]"
      ]
     },
     "metadata": {},
     "output_type": "display_data"
    },
    {
     "data": {
      "application/vnd.jupyter.widget-view+json": {
       "model_id": "4142b7e7ac8a447a99973484daae5f43",
       "version_major": 2,
       "version_minor": 0
      },
      "text/plain": [
       "  0%|          | 0/2500 [00:00<?, ?it/s]"
      ]
     },
     "metadata": {},
     "output_type": "display_data"
    },
    {
     "data": {
      "application/vnd.jupyter.widget-view+json": {
       "model_id": "bbb405d6e0a0433189fd2baa0a1d6b30",
       "version_major": 2,
       "version_minor": 0
      },
      "text/plain": [
       "  0%|          | 0/2500 [00:00<?, ?it/s]"
      ]
     },
     "metadata": {},
     "output_type": "display_data"
    },
    {
     "data": {
      "application/vnd.jupyter.widget-view+json": {
       "model_id": "22b59bf5c3dd4843889d75b021e0cf49",
       "version_major": 2,
       "version_minor": 0
      },
      "text/plain": [
       "  0%|          | 0/2500 [00:00<?, ?it/s]"
      ]
     },
     "metadata": {},
     "output_type": "display_data"
    },
    {
     "name": "stderr",
     "output_type": "stream",
     "text": [
      "Sampling time = 0:00:03.292932\n",
      "Transforming variables...\n",
      "Transformation time = 0:00:43.189615\n"
     ]
    },
    {
     "name": "stdout",
     "output_type": "stream",
     "text": [
      "Model: king99_pareto_modification\n",
      "        Computed from the raw b_i samples by multiplying by population and then getting\n",
      "        the proportion of the total pop (total pop=summed across all districts):\n",
      "        The posterior mean for the district-level voting preference of\n",
      "        Hispanic for Wes Moore (Democratic Party) is\n",
      "        0.919\n",
      "        The posterior mean for the district-level voting preference of\n",
      "        non-Hispanic for Wes Moore (Democratic Party) is\n",
      "        0.673\n",
      "        95% equal-tailed Bayesian credible interval for district-level voting preference of\n",
      "        Hispanic for Wes Moore (Democratic Party) is\n",
      "        [0.77332893 0.99311198]\n",
      "        95% equal-tailed Bayesian credible interval for district-level voting preference of\n",
      "        non-Hispanic for Wes Moore (Democratic Party) is\n",
      "        [0.66454853 0.68709018]\n",
      "        \n"
     ]
    }
   ],
   "source": [
    "md_dem_hispanic_ei, md_rep_asian_summary = run_ecological_inference(\n",
    "    df=md_race_merged_ei_df,\n",
    "    demographic_col=\"HISPANIC_PERCENT\",\n",
    "    voting_col=\"DEMOCRATIC_PERCENT\",\n",
    "    total_votes_col=\"TOT_VOT\",\n",
    "    demographic_group_name=\"Hispanic\",\n",
    "    candidate_name=md_candidate_mapping['DEMOCRATIC']\n",
    ")"
   ]
  },
  {
   "cell_type": "code",
   "execution_count": 822,
   "metadata": {},
   "outputs": [
    {
     "name": "stderr",
     "output_type": "stream",
     "text": [
      "Compiling...\n",
      "Compilation time = 0:00:01.335925\n",
      "Sampling...\n"
     ]
    },
    {
     "data": {
      "application/vnd.jupyter.widget-view+json": {
       "model_id": "09ef5341d2264ef39b0f2d9f9404059e",
       "version_major": 2,
       "version_minor": 0
      },
      "text/plain": [
       "  0%|          | 0/2500 [00:00<?, ?it/s]"
      ]
     },
     "metadata": {},
     "output_type": "display_data"
    },
    {
     "data": {
      "application/vnd.jupyter.widget-view+json": {
       "model_id": "90c4c2f7f7e941fcbd09603b8d38bdc5",
       "version_major": 2,
       "version_minor": 0
      },
      "text/plain": [
       "  0%|          | 0/2500 [00:00<?, ?it/s]"
      ]
     },
     "metadata": {},
     "output_type": "display_data"
    },
    {
     "data": {
      "application/vnd.jupyter.widget-view+json": {
       "model_id": "29ba33023374447cbf0532c01fcc6946",
       "version_major": 2,
       "version_minor": 0
      },
      "text/plain": [
       "  0%|          | 0/2500 [00:00<?, ?it/s]"
      ]
     },
     "metadata": {},
     "output_type": "display_data"
    },
    {
     "data": {
      "application/vnd.jupyter.widget-view+json": {
       "model_id": "7e19105422ee446388340ded904662d6",
       "version_major": 2,
       "version_minor": 0
      },
      "text/plain": [
       "  0%|          | 0/2500 [00:00<?, ?it/s]"
      ]
     },
     "metadata": {},
     "output_type": "display_data"
    },
    {
     "name": "stderr",
     "output_type": "stream",
     "text": [
      "Sampling time = 0:00:02.852522\n",
      "Transforming variables...\n",
      "Transformation time = 0:00:33.802392\n"
     ]
    },
    {
     "name": "stdout",
     "output_type": "stream",
     "text": [
      "Model: king99_pareto_modification\n",
      "        Computed from the raw b_i samples by multiplying by population and then getting\n",
      "        the proportion of the total pop (total pop=summed across all districts):\n",
      "        The posterior mean for the district-level voting preference of\n",
      "        Hispanic for Wes Moore (Democratic Party) is\n",
      "        0.884\n",
      "        The posterior mean for the district-level voting preference of\n",
      "        non-Hispanic for Wes Moore (Democratic Party) is\n",
      "        0.656\n",
      "        95% equal-tailed Bayesian credible interval for district-level voting preference of\n",
      "        Hispanic for Wes Moore (Democratic Party) is\n",
      "        [0.67176351 0.99644639]\n",
      "        95% equal-tailed Bayesian credible interval for district-level voting preference of\n",
      "        non-Hispanic for Wes Moore (Democratic Party) is\n",
      "        [0.64595364 0.67228933]\n",
      "        \n"
     ]
    }
   ],
   "source": [
    "md_dem_hispanic_ei_rural, md_rep_asian_summary_rural = run_ecological_inference(\n",
    "    df=md_race_merged_ei_rural_df,\n",
    "    demographic_col=\"HISPANIC_PERCENT\",\n",
    "    voting_col=\"DEMOCRATIC_PERCENT\",\n",
    "    total_votes_col=\"TOT_VOT\",\n",
    "    demographic_group_name=\"Hispanic\",\n",
    "    candidate_name=md_candidate_mapping['DEMOCRATIC']\n",
    ")"
   ]
  },
  {
   "cell_type": "code",
   "execution_count": 823,
   "metadata": {},
   "outputs": [
    {
     "name": "stderr",
     "output_type": "stream",
     "text": [
      "Compiling...\n",
      "Compilation time = 0:00:01.416607\n",
      "Sampling...\n"
     ]
    },
    {
     "data": {
      "application/vnd.jupyter.widget-view+json": {
       "model_id": "84db70230c5a4ed99dc21fb304e30f35",
       "version_major": 2,
       "version_minor": 0
      },
      "text/plain": [
       "  0%|          | 0/2500 [00:00<?, ?it/s]"
      ]
     },
     "metadata": {},
     "output_type": "display_data"
    },
    {
     "data": {
      "application/vnd.jupyter.widget-view+json": {
       "model_id": "d968bf31963148ce9d1e4abd0caea7ba",
       "version_major": 2,
       "version_minor": 0
      },
      "text/plain": [
       "  0%|          | 0/2500 [00:00<?, ?it/s]"
      ]
     },
     "metadata": {},
     "output_type": "display_data"
    },
    {
     "data": {
      "application/vnd.jupyter.widget-view+json": {
       "model_id": "e5643306c37e4c4d9a7858e15607efab",
       "version_major": 2,
       "version_minor": 0
      },
      "text/plain": [
       "  0%|          | 0/2500 [00:00<?, ?it/s]"
      ]
     },
     "metadata": {},
     "output_type": "display_data"
    },
    {
     "data": {
      "application/vnd.jupyter.widget-view+json": {
       "model_id": "68b99a8da79942a3a5514bf88b2b0401",
       "version_major": 2,
       "version_minor": 0
      },
      "text/plain": [
       "  0%|          | 0/2500 [00:00<?, ?it/s]"
      ]
     },
     "metadata": {},
     "output_type": "display_data"
    },
    {
     "name": "stderr",
     "output_type": "stream",
     "text": [
      "2024-12-17 14:07:25.973083: E external/xla/xla/service/slow_operation_alarm.cc:133] The operation took 10m22.194014s\n",
      "\n",
      "********************************\n",
      "[Compiling module pmap__unnamed_wrapped_function_] Very slow compile? If you want to file a bug, run with envvar XLA_FLAGS=--xla_dump_to=/tmp/foo and attach the results.\n",
      "********************************\n",
      "Sampling time = 0:10:25.353400\n",
      "Transforming variables...\n",
      "Transformation time = 0:00:28.855988\n"
     ]
    },
    {
     "name": "stdout",
     "output_type": "stream",
     "text": [
      "Model: king99_pareto_modification\n",
      "        Computed from the raw b_i samples by multiplying by population and then getting\n",
      "        the proportion of the total pop (total pop=summed across all districts):\n",
      "        The posterior mean for the district-level voting preference of\n",
      "        Hispanic for Wes Moore (Democratic Party) is\n",
      "        0.795\n",
      "        The posterior mean for the district-level voting preference of\n",
      "        non-Hispanic for Wes Moore (Democratic Party) is\n",
      "        0.634\n",
      "        95% equal-tailed Bayesian credible interval for district-level voting preference of\n",
      "        Hispanic for Wes Moore (Democratic Party) is\n",
      "        [0.60234702 0.94598201]\n",
      "        95% equal-tailed Bayesian credible interval for district-level voting preference of\n",
      "        non-Hispanic for Wes Moore (Democratic Party) is\n",
      "        [0.62157507 0.65053873]\n",
      "        \n"
     ]
    }
   ],
   "source": [
    "md_dem_hispanic_ei_suburban, md_rep_asian_summary_suburban = run_ecological_inference(\n",
    "    df=md_race_merged_ei_suburban_df,\n",
    "    demographic_col=\"HISPANIC_PERCENT\",\n",
    "    voting_col=\"DEMOCRATIC_PERCENT\",\n",
    "    total_votes_col=\"TOT_VOT\",\n",
    "    demographic_group_name=\"Hispanic\",\n",
    "    candidate_name=md_candidate_mapping['DEMOCRATIC']\n",
    ")"
   ]
  },
  {
   "cell_type": "code",
   "execution_count": 824,
   "metadata": {},
   "outputs": [
    {
     "name": "stderr",
     "output_type": "stream",
     "text": [
      "Compiling...\n",
      "Compilation time = 0:00:20.630528\n",
      "Sampling...\n"
     ]
    },
    {
     "data": {
      "application/vnd.jupyter.widget-view+json": {
       "model_id": "eb34ec130bfd4536a1b83890a2c9118e",
       "version_major": 2,
       "version_minor": 0
      },
      "text/plain": [
       "  0%|          | 0/2500 [00:00<?, ?it/s]"
      ]
     },
     "metadata": {},
     "output_type": "display_data"
    },
    {
     "data": {
      "application/vnd.jupyter.widget-view+json": {
       "model_id": "b4aa3cd8067040a49aaf826600962495",
       "version_major": 2,
       "version_minor": 0
      },
      "text/plain": [
       "  0%|          | 0/2500 [00:00<?, ?it/s]"
      ]
     },
     "metadata": {},
     "output_type": "display_data"
    },
    {
     "data": {
      "application/vnd.jupyter.widget-view+json": {
       "model_id": "f727cd3f81c3452e8a48c0db8a5442dd",
       "version_major": 2,
       "version_minor": 0
      },
      "text/plain": [
       "  0%|          | 0/2500 [00:00<?, ?it/s]"
      ]
     },
     "metadata": {},
     "output_type": "display_data"
    },
    {
     "data": {
      "application/vnd.jupyter.widget-view+json": {
       "model_id": "1b5e9e3da6444b36ad767219c7041734",
       "version_major": 2,
       "version_minor": 0
      },
      "text/plain": [
       "  0%|          | 0/2500 [00:00<?, ?it/s]"
      ]
     },
     "metadata": {},
     "output_type": "display_data"
    },
    {
     "name": "stderr",
     "output_type": "stream",
     "text": [
      "Sampling time = 0:00:02.505379\n",
      "Transforming variables...\n",
      "Transformation time = 0:00:41.833487\n"
     ]
    },
    {
     "name": "stdout",
     "output_type": "stream",
     "text": [
      "Model: king99_pareto_modification\n",
      "        Computed from the raw b_i samples by multiplying by population and then getting\n",
      "        the proportion of the total pop (total pop=summed across all districts):\n",
      "        The posterior mean for the district-level voting preference of\n",
      "        Hispanic for Wes Moore (Democratic Party) is\n",
      "        0.897\n",
      "        The posterior mean for the district-level voting preference of\n",
      "        non-Hispanic for Wes Moore (Democratic Party) is\n",
      "        0.703\n",
      "        95% equal-tailed Bayesian credible interval for district-level voting preference of\n",
      "        Hispanic for Wes Moore (Democratic Party) is\n",
      "        [0.75069281 0.98562351]\n",
      "        95% equal-tailed Bayesian credible interval for district-level voting preference of\n",
      "        non-Hispanic for Wes Moore (Democratic Party) is\n",
      "        [0.68770824 0.72635665]\n",
      "        \n"
     ]
    }
   ],
   "source": [
    "md_dem_hispanic_ei_urban, md_rep_asian_summary_urban = run_ecological_inference(\n",
    "    df=md_race_merged_ei_urban_df,\n",
    "    demographic_col=\"HISPANIC_PERCENT\",\n",
    "    voting_col=\"DEMOCRATIC_PERCENT\",\n",
    "    total_votes_col=\"TOT_VOT\",\n",
    "    demographic_group_name=\"Hispanic\",\n",
    "    candidate_name=md_candidate_mapping['DEMOCRATIC']\n",
    ")"
   ]
  },
  {
   "cell_type": "markdown",
   "metadata": {},
   "source": [
    "##### Running Repulican"
   ]
  },
  {
   "cell_type": "code",
   "execution_count": 825,
   "metadata": {},
   "outputs": [
    {
     "name": "stderr",
     "output_type": "stream",
     "text": [
      "Compiling...\n",
      "Compilation time = 0:00:01.441764\n",
      "Sampling...\n"
     ]
    },
    {
     "data": {
      "application/vnd.jupyter.widget-view+json": {
       "model_id": "40dfcc131a8f4188b619e0dcff255cb3",
       "version_major": 2,
       "version_minor": 0
      },
      "text/plain": [
       "  0%|          | 0/2500 [00:00<?, ?it/s]"
      ]
     },
     "metadata": {},
     "output_type": "display_data"
    },
    {
     "data": {
      "application/vnd.jupyter.widget-view+json": {
       "model_id": "be1b74416f1846f58fcb61ca300a7ab3",
       "version_major": 2,
       "version_minor": 0
      },
      "text/plain": [
       "  0%|          | 0/2500 [00:00<?, ?it/s]"
      ]
     },
     "metadata": {},
     "output_type": "display_data"
    },
    {
     "data": {
      "application/vnd.jupyter.widget-view+json": {
       "model_id": "f588e8fbaea6471d9ba81b8b636849d6",
       "version_major": 2,
       "version_minor": 0
      },
      "text/plain": [
       "  0%|          | 0/2500 [00:00<?, ?it/s]"
      ]
     },
     "metadata": {},
     "output_type": "display_data"
    },
    {
     "data": {
      "application/vnd.jupyter.widget-view+json": {
       "model_id": "d802bf2333fa4f13b55f398d24ff0c5f",
       "version_major": 2,
       "version_minor": 0
      },
      "text/plain": [
       "  0%|          | 0/2500 [00:00<?, ?it/s]"
      ]
     },
     "metadata": {},
     "output_type": "display_data"
    },
    {
     "name": "stderr",
     "output_type": "stream",
     "text": [
      "Sampling time = 0:00:03.106968\n",
      "Transforming variables...\n",
      "Transformation time = 0:00:32.023358\n"
     ]
    },
    {
     "name": "stdout",
     "output_type": "stream",
     "text": [
      "Model: king99_pareto_modification\n",
      "        Computed from the raw b_i samples by multiplying by population and then getting\n",
      "        the proportion of the total pop (total pop=summed across all districts):\n",
      "        The posterior mean for the district-level voting preference of\n",
      "        White for Dan Cox (Republican Party) is\n",
      "        0.422\n",
      "        The posterior mean for the district-level voting preference of\n",
      "        non-White for Dan Cox (Republican Party) is\n",
      "        0.140\n",
      "        95% equal-tailed Bayesian credible interval for district-level voting preference of\n",
      "        White for Dan Cox (Republican Party) is\n",
      "        [0.3783051  0.45946426]\n",
      "        95% equal-tailed Bayesian credible interval for district-level voting preference of\n",
      "        non-White for Dan Cox (Republican Party) is\n",
      "        [0.09630195 0.19170396]\n",
      "        \n"
     ]
    }
   ],
   "source": [
    "md_rep_white_ei, md_rep_white_summary = run_ecological_inference(\n",
    "    df=md_race_merged_ei_df,\n",
    "    demographic_col=\"WHITE_PERCENT\",\n",
    "    voting_col=\"REPUBLICAN_PERCENT\",\n",
    "    total_votes_col=\"TOT_VOT\",\n",
    "    demographic_group_name=\"White\",\n",
    "    candidate_name=md_candidate_mapping['REPUBLICAN']\n",
    ")"
   ]
  },
  {
   "cell_type": "code",
   "execution_count": 826,
   "metadata": {},
   "outputs": [
    {
     "name": "stderr",
     "output_type": "stream",
     "text": [
      "Compiling...\n",
      "Compilation time = 0:00:01.416129\n",
      "Sampling...\n"
     ]
    },
    {
     "data": {
      "application/vnd.jupyter.widget-view+json": {
       "model_id": "369055a6e25340ab8829559271bf4ca4",
       "version_major": 2,
       "version_minor": 0
      },
      "text/plain": [
       "  0%|          | 0/2500 [00:00<?, ?it/s]"
      ]
     },
     "metadata": {},
     "output_type": "display_data"
    },
    {
     "data": {
      "application/vnd.jupyter.widget-view+json": {
       "model_id": "793d1652e6674a4da9d061c36fc9d937",
       "version_major": 2,
       "version_minor": 0
      },
      "text/plain": [
       "  0%|          | 0/2500 [00:00<?, ?it/s]"
      ]
     },
     "metadata": {},
     "output_type": "display_data"
    },
    {
     "data": {
      "application/vnd.jupyter.widget-view+json": {
       "model_id": "14f8ff1aa54c459f8d301ea7d8bdd008",
       "version_major": 2,
       "version_minor": 0
      },
      "text/plain": [
       "  0%|          | 0/2500 [00:00<?, ?it/s]"
      ]
     },
     "metadata": {},
     "output_type": "display_data"
    },
    {
     "data": {
      "application/vnd.jupyter.widget-view+json": {
       "model_id": "cf41f174e6da40ac8605c8b129418651",
       "version_major": 2,
       "version_minor": 0
      },
      "text/plain": [
       "  0%|          | 0/2500 [00:00<?, ?it/s]"
      ]
     },
     "metadata": {},
     "output_type": "display_data"
    },
    {
     "name": "stderr",
     "output_type": "stream",
     "text": [
      "Sampling time = 0:00:02.913329\n",
      "Transforming variables...\n",
      "Transformation time = 0:00:18.217171\n"
     ]
    },
    {
     "name": "stdout",
     "output_type": "stream",
     "text": [
      "Model: king99_pareto_modification\n",
      "        Computed from the raw b_i samples by multiplying by population and then getting\n",
      "        the proportion of the total pop (total pop=summed across all districts):\n",
      "        The posterior mean for the district-level voting preference of\n",
      "        White for Dan Cox (Republican Party) is\n",
      "        0.465\n",
      "        The posterior mean for the district-level voting preference of\n",
      "        non-White for Dan Cox (Republican Party) is\n",
      "        0.152\n",
      "        95% equal-tailed Bayesian credible interval for district-level voting preference of\n",
      "        White for Dan Cox (Republican Party) is\n",
      "        [0.42660912 0.50008   ]\n",
      "        95% equal-tailed Bayesian credible interval for district-level voting preference of\n",
      "        non-White for Dan Cox (Republican Party) is\n",
      "        [0.11283835 0.20110795]\n",
      "        \n"
     ]
    }
   ],
   "source": [
    "md_rep_white_ei_rural, md_rep_white_summary_rural = run_ecological_inference(\n",
    "    df=md_race_merged_ei_rural_df,\n",
    "    demographic_col=\"WHITE_PERCENT\",\n",
    "    voting_col=\"REPUBLICAN_PERCENT\",\n",
    "    total_votes_col=\"TOT_VOT\",\n",
    "    demographic_group_name=\"White\",\n",
    "    candidate_name=md_candidate_mapping['REPUBLICAN']\n",
    ")"
   ]
  },
  {
   "cell_type": "code",
   "execution_count": 827,
   "metadata": {},
   "outputs": [
    {
     "name": "stderr",
     "output_type": "stream",
     "text": [
      "Compiling...\n",
      "Compilation time = 0:00:01.490413\n",
      "Sampling...\n"
     ]
    },
    {
     "data": {
      "application/vnd.jupyter.widget-view+json": {
       "model_id": "b5d2058852f6410d8f3707f42c6410ab",
       "version_major": 2,
       "version_minor": 0
      },
      "text/plain": [
       "  0%|          | 0/2500 [00:00<?, ?it/s]"
      ]
     },
     "metadata": {},
     "output_type": "display_data"
    },
    {
     "data": {
      "application/vnd.jupyter.widget-view+json": {
       "model_id": "13c2a298e9284646bcb4782f491983c3",
       "version_major": 2,
       "version_minor": 0
      },
      "text/plain": [
       "  0%|          | 0/2500 [00:00<?, ?it/s]"
      ]
     },
     "metadata": {},
     "output_type": "display_data"
    },
    {
     "data": {
      "application/vnd.jupyter.widget-view+json": {
       "model_id": "01834cb6e435442084ed634ea62041f2",
       "version_major": 2,
       "version_minor": 0
      },
      "text/plain": [
       "  0%|          | 0/2500 [00:00<?, ?it/s]"
      ]
     },
     "metadata": {},
     "output_type": "display_data"
    },
    {
     "data": {
      "application/vnd.jupyter.widget-view+json": {
       "model_id": "94bf0537d91c4925ad8e818c569a55fe",
       "version_major": 2,
       "version_minor": 0
      },
      "text/plain": [
       "  0%|          | 0/2500 [00:00<?, ?it/s]"
      ]
     },
     "metadata": {},
     "output_type": "display_data"
    },
    {
     "name": "stderr",
     "output_type": "stream",
     "text": [
      "Sampling time = 0:00:02.414069\n",
      "Transforming variables...\n",
      "Transformation time = 0:01:03.141049\n"
     ]
    },
    {
     "name": "stdout",
     "output_type": "stream",
     "text": [
      "Model: king99_pareto_modification\n",
      "        Computed from the raw b_i samples by multiplying by population and then getting\n",
      "        the proportion of the total pop (total pop=summed across all districts):\n",
      "        The posterior mean for the district-level voting preference of\n",
      "        White for Dan Cox (Republican Party) is\n",
      "        0.490\n",
      "        The posterior mean for the district-level voting preference of\n",
      "        non-White for Dan Cox (Republican Party) is\n",
      "        0.045\n",
      "        95% equal-tailed Bayesian credible interval for district-level voting preference of\n",
      "        White for Dan Cox (Republican Party) is\n",
      "        [0.46890196 0.50622282]\n",
      "        95% equal-tailed Bayesian credible interval for district-level voting preference of\n",
      "        non-White for Dan Cox (Republican Party) is\n",
      "        [0.01543484 0.08877247]\n",
      "        \n"
     ]
    }
   ],
   "source": [
    "md_rep_white_ei_suburban, md_rep_white_summary_suburban = run_ecological_inference(\n",
    "    df=md_race_merged_ei_suburban_df,\n",
    "    demographic_col=\"WHITE_PERCENT\",\n",
    "    voting_col=\"REPUBLICAN_PERCENT\",\n",
    "    total_votes_col=\"TOT_VOT\",\n",
    "    demographic_group_name=\"White\",\n",
    "    candidate_name=md_candidate_mapping['REPUBLICAN']\n",
    ")"
   ]
  },
  {
   "cell_type": "code",
   "execution_count": 828,
   "metadata": {},
   "outputs": [
    {
     "name": "stderr",
     "output_type": "stream",
     "text": [
      "Compiling...\n",
      "Compilation time = 0:00:01.757212\n",
      "Sampling...\n"
     ]
    },
    {
     "data": {
      "application/vnd.jupyter.widget-view+json": {
       "model_id": "709e240b63514a70bc35ae051ebcb9bf",
       "version_major": 2,
       "version_minor": 0
      },
      "text/plain": [
       "  0%|          | 0/2500 [00:00<?, ?it/s]"
      ]
     },
     "metadata": {},
     "output_type": "display_data"
    },
    {
     "data": {
      "application/vnd.jupyter.widget-view+json": {
       "model_id": "2f1cf371d21a4f958a51f688727eb5a3",
       "version_major": 2,
       "version_minor": 0
      },
      "text/plain": [
       "  0%|          | 0/2500 [00:00<?, ?it/s]"
      ]
     },
     "metadata": {},
     "output_type": "display_data"
    },
    {
     "data": {
      "application/vnd.jupyter.widget-view+json": {
       "model_id": "3223812c773f451887c2a6d46fbf2fa6",
       "version_major": 2,
       "version_minor": 0
      },
      "text/plain": [
       "  0%|          | 0/2500 [00:00<?, ?it/s]"
      ]
     },
     "metadata": {},
     "output_type": "display_data"
    },
    {
     "data": {
      "application/vnd.jupyter.widget-view+json": {
       "model_id": "96416fa75a94483584ac63823b60af94",
       "version_major": 2,
       "version_minor": 0
      },
      "text/plain": [
       "  0%|          | 0/2500 [00:00<?, ?it/s]"
      ]
     },
     "metadata": {},
     "output_type": "display_data"
    },
    {
     "name": "stderr",
     "output_type": "stream",
     "text": [
      "Sampling time = 0:00:03.181928\n",
      "Transforming variables...\n",
      "Transformation time = 0:00:35.637640\n"
     ]
    },
    {
     "name": "stdout",
     "output_type": "stream",
     "text": [
      "Model: king99_pareto_modification\n",
      "        Computed from the raw b_i samples by multiplying by population and then getting\n",
      "        the proportion of the total pop (total pop=summed across all districts):\n",
      "        The posterior mean for the district-level voting preference of\n",
      "        White for Dan Cox (Republican Party) is\n",
      "        0.530\n",
      "        The posterior mean for the district-level voting preference of\n",
      "        non-White for Dan Cox (Republican Party) is\n",
      "        0.044\n",
      "        95% equal-tailed Bayesian credible interval for district-level voting preference of\n",
      "        White for Dan Cox (Republican Party) is\n",
      "        [0.49399102 0.56069551]\n",
      "        95% equal-tailed Bayesian credible interval for district-level voting preference of\n",
      "        non-White for Dan Cox (Republican Party) is\n",
      "        [0.02509224 0.07065515]\n",
      "        \n"
     ]
    }
   ],
   "source": [
    "md_rep_white_ei_urban, md_rep_white_summary_urban= run_ecological_inference(\n",
    "    df=md_race_merged_ei_urban_df,\n",
    "    demographic_col=\"WHITE_PERCENT\",\n",
    "    voting_col=\"REPUBLICAN_PERCENT\",\n",
    "    total_votes_col=\"TOT_VOT\",\n",
    "    demographic_group_name=\"White\",\n",
    "    candidate_name=md_candidate_mapping['REPUBLICAN']\n",
    ")"
   ]
  },
  {
   "cell_type": "code",
   "execution_count": 829,
   "metadata": {},
   "outputs": [
    {
     "name": "stderr",
     "output_type": "stream",
     "text": [
      "Compiling...\n",
      "Compilation time = 0:00:01.483605\n",
      "Sampling...\n"
     ]
    },
    {
     "data": {
      "application/vnd.jupyter.widget-view+json": {
       "model_id": "722b9ea945a14547b09f371db85af543",
       "version_major": 2,
       "version_minor": 0
      },
      "text/plain": [
       "  0%|          | 0/2500 [00:00<?, ?it/s]"
      ]
     },
     "metadata": {},
     "output_type": "display_data"
    },
    {
     "data": {
      "application/vnd.jupyter.widget-view+json": {
       "model_id": "4d8702e0c9fb44b0b52e4652661dca67",
       "version_major": 2,
       "version_minor": 0
      },
      "text/plain": [
       "  0%|          | 0/2500 [00:00<?, ?it/s]"
      ]
     },
     "metadata": {},
     "output_type": "display_data"
    },
    {
     "data": {
      "application/vnd.jupyter.widget-view+json": {
       "model_id": "0073ff9ea85e4d8193107ac1cf5b2634",
       "version_major": 2,
       "version_minor": 0
      },
      "text/plain": [
       "  0%|          | 0/2500 [00:00<?, ?it/s]"
      ]
     },
     "metadata": {},
     "output_type": "display_data"
    },
    {
     "data": {
      "application/vnd.jupyter.widget-view+json": {
       "model_id": "ea2002dde1184305be7524d98a95f6b0",
       "version_major": 2,
       "version_minor": 0
      },
      "text/plain": [
       "  0%|          | 0/2500 [00:00<?, ?it/s]"
      ]
     },
     "metadata": {},
     "output_type": "display_data"
    },
    {
     "name": "stderr",
     "output_type": "stream",
     "text": [
      "Sampling time = 0:00:02.724488\n",
      "Transforming variables...\n",
      "Transformation time = 0:00:51.700714\n"
     ]
    },
    {
     "name": "stdout",
     "output_type": "stream",
     "text": [
      "Model: king99_pareto_modification\n",
      "        Computed from the raw b_i samples by multiplying by population and then getting\n",
      "        the proportion of the total pop (total pop=summed across all districts):\n",
      "        The posterior mean for the district-level voting preference of\n",
      "        Black for Dan Cox (Republican Party) is\n",
      "        0.039\n",
      "        The posterior mean for the district-level voting preference of\n",
      "        non-Black for Dan Cox (Republican Party) is\n",
      "        0.372\n",
      "        95% equal-tailed Bayesian credible interval for district-level voting preference of\n",
      "        Black for Dan Cox (Republican Party) is\n",
      "        [0.00692332 0.08691582]\n",
      "        95% equal-tailed Bayesian credible interval for district-level voting preference of\n",
      "        non-Black for Dan Cox (Republican Party) is\n",
      "        [0.35796505 0.38265619]\n",
      "        \n"
     ]
    }
   ],
   "source": [
    "md_rep_black_ei, md_rep_black_summary = run_ecological_inference(\n",
    "    df=md_race_merged_ei_df,\n",
    "    demographic_col=\"BLACK_PERCENT\",\n",
    "    voting_col=\"REPUBLICAN_PERCENT\",\n",
    "    total_votes_col=\"TOT_VOT\",\n",
    "    demographic_group_name=\"Black\",\n",
    "    candidate_name=md_candidate_mapping['REPUBLICAN']\n",
    ")"
   ]
  },
  {
   "cell_type": "code",
   "execution_count": 830,
   "metadata": {},
   "outputs": [
    {
     "name": "stderr",
     "output_type": "stream",
     "text": [
      "Compiling...\n",
      "Compilation time = 0:00:02.059808\n",
      "Sampling...\n"
     ]
    },
    {
     "data": {
      "application/vnd.jupyter.widget-view+json": {
       "model_id": "8a1d6df069d04ff5b7d48e242b1409e8",
       "version_major": 2,
       "version_minor": 0
      },
      "text/plain": [
       "  0%|          | 0/2500 [00:00<?, ?it/s]"
      ]
     },
     "metadata": {},
     "output_type": "display_data"
    },
    {
     "data": {
      "application/vnd.jupyter.widget-view+json": {
       "model_id": "e998cc465b064eecb48cc3ff1c6fd68d",
       "version_major": 2,
       "version_minor": 0
      },
      "text/plain": [
       "  0%|          | 0/2500 [00:00<?, ?it/s]"
      ]
     },
     "metadata": {},
     "output_type": "display_data"
    },
    {
     "data": {
      "application/vnd.jupyter.widget-view+json": {
       "model_id": "d476bad073684b7993e6a0bf11056406",
       "version_major": 2,
       "version_minor": 0
      },
      "text/plain": [
       "  0%|          | 0/2500 [00:00<?, ?it/s]"
      ]
     },
     "metadata": {},
     "output_type": "display_data"
    },
    {
     "data": {
      "application/vnd.jupyter.widget-view+json": {
       "model_id": "855ddd75935a4a2da63f04cae933c2c5",
       "version_major": 2,
       "version_minor": 0
      },
      "text/plain": [
       "  0%|          | 0/2500 [00:00<?, ?it/s]"
      ]
     },
     "metadata": {},
     "output_type": "display_data"
    },
    {
     "name": "stderr",
     "output_type": "stream",
     "text": [
      "Sampling time = 0:00:02.501844\n",
      "Transforming variables...\n",
      "Transformation time = 0:00:18.038267\n"
     ]
    },
    {
     "name": "stdout",
     "output_type": "stream",
     "text": [
      "Model: king99_pareto_modification\n",
      "        Computed from the raw b_i samples by multiplying by population and then getting\n",
      "        the proportion of the total pop (total pop=summed across all districts):\n",
      "        The posterior mean for the district-level voting preference of\n",
      "        Black for Dan Cox (Republican Party) is\n",
      "        0.050\n",
      "        The posterior mean for the district-level voting preference of\n",
      "        non-Black for Dan Cox (Republican Party) is\n",
      "        0.380\n",
      "        95% equal-tailed Bayesian credible interval for district-level voting preference of\n",
      "        Black for Dan Cox (Republican Party) is\n",
      "        [0.01918883 0.09866006]\n",
      "        95% equal-tailed Bayesian credible interval for district-level voting preference of\n",
      "        non-Black for Dan Cox (Republican Party) is\n",
      "        [0.36667922 0.39298942]\n",
      "        \n"
     ]
    }
   ],
   "source": [
    "md_rep_black_ei_rural, md_rep_black_summary_rural = run_ecological_inference(\n",
    "    df=md_race_merged_ei_rural_df,\n",
    "    demographic_col=\"BLACK_PERCENT\",\n",
    "    voting_col=\"REPUBLICAN_PERCENT\",\n",
    "    total_votes_col=\"TOT_VOT\",\n",
    "    demographic_group_name=\"Black\",\n",
    "    candidate_name=md_candidate_mapping['REPUBLICAN']\n",
    ")"
   ]
  },
  {
   "cell_type": "code",
   "execution_count": 920,
   "metadata": {},
   "outputs": [
    {
     "name": "stderr",
     "output_type": "stream",
     "text": [
      "Compiling...\n",
      "Compilation time = 0:00:02.517654\n",
      "Sampling...\n"
     ]
    },
    {
     "data": {
      "application/vnd.jupyter.widget-view+json": {
       "model_id": "4196ab9d1e6a4ffc8dacf1fc7f2646f0",
       "version_major": 2,
       "version_minor": 0
      },
      "text/plain": [
       "  0%|          | 0/2500 [00:00<?, ?it/s]"
      ]
     },
     "metadata": {},
     "output_type": "display_data"
    },
    {
     "data": {
      "application/vnd.jupyter.widget-view+json": {
       "model_id": "8bbfef1bd9f14a43955be5b4b2818cff",
       "version_major": 2,
       "version_minor": 0
      },
      "text/plain": [
       "  0%|          | 0/2500 [00:00<?, ?it/s]"
      ]
     },
     "metadata": {},
     "output_type": "display_data"
    },
    {
     "data": {
      "application/vnd.jupyter.widget-view+json": {
       "model_id": "584f8c36187f4a72a0f65d1ac46a0bd4",
       "version_major": 2,
       "version_minor": 0
      },
      "text/plain": [
       "  0%|          | 0/2500 [00:00<?, ?it/s]"
      ]
     },
     "metadata": {},
     "output_type": "display_data"
    },
    {
     "data": {
      "application/vnd.jupyter.widget-view+json": {
       "model_id": "3e0573b0a7a6415a9a0f9f2e5ece33e2",
       "version_major": 2,
       "version_minor": 0
      },
      "text/plain": [
       "  0%|          | 0/2500 [00:00<?, ?it/s]"
      ]
     },
     "metadata": {},
     "output_type": "display_data"
    },
    {
     "name": "stderr",
     "output_type": "stream",
     "text": [
      "Sampling time = 0:00:05.332240\n",
      "Transforming variables...\n",
      "Transformation time = 0:00:51.891956\n"
     ]
    },
    {
     "name": "stdout",
     "output_type": "stream",
     "text": [
      "Model: king99_pareto_modification\n",
      "        Computed from the raw b_i samples by multiplying by population and then getting\n",
      "        the proportion of the total pop (total pop=summed across all districts):\n",
      "        The posterior mean for the district-level voting preference of\n",
      "        Black for Dan Cox (Republican Party) is\n",
      "        0.027\n",
      "        The posterior mean for the district-level voting preference of\n",
      "        non-Black for Dan Cox (Republican Party) is\n",
      "        0.426\n",
      "        95% equal-tailed Bayesian credible interval for district-level voting preference of\n",
      "        Black for Dan Cox (Republican Party) is\n",
      "        [0.00343652 0.07405574]\n",
      "        95% equal-tailed Bayesian credible interval for district-level voting preference of\n",
      "        non-Black for Dan Cox (Republican Party) is\n",
      "        [0.41461501 0.43422492]\n",
      "        \n"
     ]
    }
   ],
   "source": [
    "md_rep_black_ei_suburban, md_rep_black_summary_suburban = run_ecological_inference(\n",
    "    df=md_race_merged_ei_suburban_df,\n",
    "    demographic_col=\"BLACK_PERCENT\",\n",
    "    voting_col=\"REPUBLICAN_PERCENT\",\n",
    "    total_votes_col=\"TOT_VOT\",\n",
    "    demographic_group_name=\"Black\",\n",
    "    candidate_name=md_candidate_mapping['REPUBLICAN']\n",
    ")"
   ]
  },
  {
   "cell_type": "code",
   "execution_count": 911,
   "metadata": {},
   "outputs": [
    {
     "name": "stderr",
     "output_type": "stream",
     "text": [
      "Compiling...\n",
      "Compilation time = 0:00:02.103271\n",
      "Sampling...\n"
     ]
    },
    {
     "data": {
      "application/vnd.jupyter.widget-view+json": {
       "model_id": "671309c32e4c42349cd9208adc2e7bf7",
       "version_major": 2,
       "version_minor": 0
      },
      "text/plain": [
       "  0%|          | 0/2500 [00:00<?, ?it/s]"
      ]
     },
     "metadata": {},
     "output_type": "display_data"
    },
    {
     "data": {
      "application/vnd.jupyter.widget-view+json": {
       "model_id": "92b99312814c47d898500e89f802f5cb",
       "version_major": 2,
       "version_minor": 0
      },
      "text/plain": [
       "  0%|          | 0/2500 [00:00<?, ?it/s]"
      ]
     },
     "metadata": {},
     "output_type": "display_data"
    },
    {
     "data": {
      "application/vnd.jupyter.widget-view+json": {
       "model_id": "17bb04ced2e443b1bfa4fd88a44a5bae",
       "version_major": 2,
       "version_minor": 0
      },
      "text/plain": [
       "  0%|          | 0/2500 [00:00<?, ?it/s]"
      ]
     },
     "metadata": {},
     "output_type": "display_data"
    },
    {
     "data": {
      "application/vnd.jupyter.widget-view+json": {
       "model_id": "82652049aac74ab99b8bf434615fb9a0",
       "version_major": 2,
       "version_minor": 0
      },
      "text/plain": [
       "  0%|          | 0/2500 [00:00<?, ?it/s]"
      ]
     },
     "metadata": {},
     "output_type": "display_data"
    },
    {
     "name": "stderr",
     "output_type": "stream",
     "text": [
      "Sampling time = 0:00:02.655776\n",
      "Transforming variables...\n",
      "Transformation time = 0:00:59.947670\n"
     ]
    },
    {
     "name": "stdout",
     "output_type": "stream",
     "text": [
      "Model: king99_pareto_modification\n",
      "        Computed from the raw b_i samples by multiplying by population and then getting\n",
      "        the proportion of the total pop (total pop=summed across all districts):\n",
      "        The posterior mean for the district-level voting preference of\n",
      "        Black for Dan Cox (Republican Party) is\n",
      "        0.021\n",
      "        The posterior mean for the district-level voting preference of\n",
      "        non-Black for Dan Cox (Republican Party) is\n",
      "        0.384\n",
      "        95% equal-tailed Bayesian credible interval for district-level voting preference of\n",
      "        Black for Dan Cox (Republican Party) is\n",
      "        [0.00072982 0.06470172]\n",
      "        95% equal-tailed Bayesian credible interval for district-level voting preference of\n",
      "        non-Black for Dan Cox (Republican Party) is\n",
      "        [0.36363173 0.3961162 ]\n",
      "        \n"
     ]
    }
   ],
   "source": [
    "md_rep_black_ei_urban, md_rep_black_summary_urban = run_ecological_inference(\n",
    "    df=md_race_merged_ei_urban_df,\n",
    "    demographic_col=\"BLACK_PERCENT\",\n",
    "    voting_col=\"REPUBLICAN_PERCENT\",\n",
    "    total_votes_col=\"TOT_VOT\",\n",
    "    demographic_group_name=\"Black\",\n",
    "    candidate_name=md_candidate_mapping['REPUBLICAN']\n",
    ")"
   ]
  },
  {
   "cell_type": "code",
   "execution_count": 833,
   "metadata": {},
   "outputs": [
    {
     "name": "stderr",
     "output_type": "stream",
     "text": [
      "Compiling...\n",
      "Compilation time = 0:00:02.473483\n",
      "Sampling...\n"
     ]
    },
    {
     "data": {
      "application/vnd.jupyter.widget-view+json": {
       "model_id": "b2e36cd565a04a5886037dbeef56e311",
       "version_major": 2,
       "version_minor": 0
      },
      "text/plain": [
       "  0%|          | 0/2500 [00:00<?, ?it/s]"
      ]
     },
     "metadata": {},
     "output_type": "display_data"
    },
    {
     "data": {
      "application/vnd.jupyter.widget-view+json": {
       "model_id": "08c2182a40ee4cd89114e7db764c5bbc",
       "version_major": 2,
       "version_minor": 0
      },
      "text/plain": [
       "  0%|          | 0/2500 [00:00<?, ?it/s]"
      ]
     },
     "metadata": {},
     "output_type": "display_data"
    },
    {
     "data": {
      "application/vnd.jupyter.widget-view+json": {
       "model_id": "c4c16586314a4ce3ac44f02d4dadb169",
       "version_major": 2,
       "version_minor": 0
      },
      "text/plain": [
       "  0%|          | 0/2500 [00:00<?, ?it/s]"
      ]
     },
     "metadata": {},
     "output_type": "display_data"
    },
    {
     "data": {
      "application/vnd.jupyter.widget-view+json": {
       "model_id": "dbf8ad66b1f84899be90885f062b0bfa",
       "version_major": 2,
       "version_minor": 0
      },
      "text/plain": [
       "  0%|          | 0/2500 [00:00<?, ?it/s]"
      ]
     },
     "metadata": {},
     "output_type": "display_data"
    },
    {
     "name": "stderr",
     "output_type": "stream",
     "text": [
      "Sampling time = 0:00:05.373295\n",
      "Transforming variables...\n",
      "Transformation time = 0:00:56.162439\n"
     ]
    },
    {
     "name": "stdout",
     "output_type": "stream",
     "text": [
      "Model: king99_pareto_modification\n",
      "        Computed from the raw b_i samples by multiplying by population and then getting\n",
      "        the proportion of the total pop (total pop=summed across all districts):\n",
      "        The posterior mean for the district-level voting preference of\n",
      "        Asian for Dan Cox (Republican Party) is\n",
      "        0.208\n",
      "        The posterior mean for the district-level voting preference of\n",
      "        non-Asian for Dan Cox (Republican Party) is\n",
      "        0.318\n",
      "        95% equal-tailed Bayesian credible interval for district-level voting preference of\n",
      "        Asian for Dan Cox (Republican Party) is\n",
      "        [0.04745846 0.3899082 ]\n",
      "        95% equal-tailed Bayesian credible interval for district-level voting preference of\n",
      "        non-Asian for Dan Cox (Republican Party) is\n",
      "        [0.29388536 0.34075447]\n",
      "        \n"
     ]
    }
   ],
   "source": [
    "md_rep_asian_ei, md_rep_asian_summary = run_ecological_inference(\n",
    "    df=md_race_merged_ei_df,\n",
    "    demographic_col=\"ASIAN_PERCENT\",\n",
    "    voting_col=\"REPUBLICAN_PERCENT\",\n",
    "    total_votes_col=\"TOT_VOT\",\n",
    "    demographic_group_name=\"Asian\",\n",
    "    candidate_name=md_candidate_mapping['REPUBLICAN']\n",
    ")"
   ]
  },
  {
   "cell_type": "code",
   "execution_count": 834,
   "metadata": {},
   "outputs": [
    {
     "name": "stderr",
     "output_type": "stream",
     "text": [
      "Compiling...\n",
      "Compilation time = 0:00:02.349532\n",
      "Sampling...\n"
     ]
    },
    {
     "data": {
      "application/vnd.jupyter.widget-view+json": {
       "model_id": "8eeeeedb9bec489cb0a6cc15504508c7",
       "version_major": 2,
       "version_minor": 0
      },
      "text/plain": [
       "  0%|          | 0/2500 [00:00<?, ?it/s]"
      ]
     },
     "metadata": {},
     "output_type": "display_data"
    },
    {
     "data": {
      "application/vnd.jupyter.widget-view+json": {
       "model_id": "00aef6bca5d04feda362d3efe5010141",
       "version_major": 2,
       "version_minor": 0
      },
      "text/plain": [
       "  0%|          | 0/2500 [00:00<?, ?it/s]"
      ]
     },
     "metadata": {},
     "output_type": "display_data"
    },
    {
     "data": {
      "application/vnd.jupyter.widget-view+json": {
       "model_id": "417941684c2e44338511933294815aa1",
       "version_major": 2,
       "version_minor": 0
      },
      "text/plain": [
       "  0%|          | 0/2500 [00:00<?, ?it/s]"
      ]
     },
     "metadata": {},
     "output_type": "display_data"
    },
    {
     "data": {
      "application/vnd.jupyter.widget-view+json": {
       "model_id": "ac8fb0a070bf4d328d87c27fc057598d",
       "version_major": 2,
       "version_minor": 0
      },
      "text/plain": [
       "  0%|          | 0/2500 [00:00<?, ?it/s]"
      ]
     },
     "metadata": {},
     "output_type": "display_data"
    },
    {
     "name": "stderr",
     "output_type": "stream",
     "text": [
      "Sampling time = 0:00:05.830779\n",
      "Transforming variables...\n",
      "Transformation time = 0:00:21.684228\n"
     ]
    },
    {
     "name": "stdout",
     "output_type": "stream",
     "text": [
      "Model: king99_pareto_modification\n",
      "        Computed from the raw b_i samples by multiplying by population and then getting\n",
      "        the proportion of the total pop (total pop=summed across all districts):\n",
      "        The posterior mean for the district-level voting preference of\n",
      "        Asian for Dan Cox (Republican Party) is\n",
      "        0.373\n",
      "        The posterior mean for the district-level voting preference of\n",
      "        non-Asian for Dan Cox (Republican Party) is\n",
      "        0.328\n",
      "        95% equal-tailed Bayesian credible interval for district-level voting preference of\n",
      "        Asian for Dan Cox (Republican Party) is\n",
      "        [0.11708038 0.61973681]\n",
      "        95% equal-tailed Bayesian credible interval for district-level voting preference of\n",
      "        non-Asian for Dan Cox (Republican Party) is\n",
      "        [0.31124601 0.34650786]\n",
      "        \n"
     ]
    }
   ],
   "source": [
    "md_rep_asian_ei_rural, md_rep_asian_summary_rural = run_ecological_inference(\n",
    "    df=md_race_merged_ei_rural_df,\n",
    "    demographic_col=\"ASIAN_PERCENT\",\n",
    "    voting_col=\"REPUBLICAN_PERCENT\",\n",
    "    total_votes_col=\"TOT_VOT\",\n",
    "    demographic_group_name=\"Asian\",\n",
    "    candidate_name=md_candidate_mapping['REPUBLICAN']\n",
    ")"
   ]
  },
  {
   "cell_type": "code",
   "execution_count": 835,
   "metadata": {},
   "outputs": [
    {
     "name": "stderr",
     "output_type": "stream",
     "text": [
      "Compiling...\n",
      "Compilation time = 0:00:02.011578\n",
      "Sampling...\n"
     ]
    },
    {
     "data": {
      "application/vnd.jupyter.widget-view+json": {
       "model_id": "746ef53b81f04949b18337a0255b1558",
       "version_major": 2,
       "version_minor": 0
      },
      "text/plain": [
       "  0%|          | 0/2500 [00:00<?, ?it/s]"
      ]
     },
     "metadata": {},
     "output_type": "display_data"
    },
    {
     "data": {
      "application/vnd.jupyter.widget-view+json": {
       "model_id": "5034fe65ad564153abced7e76ad8e7bf",
       "version_major": 2,
       "version_minor": 0
      },
      "text/plain": [
       "  0%|          | 0/2500 [00:00<?, ?it/s]"
      ]
     },
     "metadata": {},
     "output_type": "display_data"
    },
    {
     "data": {
      "application/vnd.jupyter.widget-view+json": {
       "model_id": "3e9a364a8e4e4249be524fb0982038a7",
       "version_major": 2,
       "version_minor": 0
      },
      "text/plain": [
       "  0%|          | 0/2500 [00:00<?, ?it/s]"
      ]
     },
     "metadata": {},
     "output_type": "display_data"
    },
    {
     "data": {
      "application/vnd.jupyter.widget-view+json": {
       "model_id": "069c27dd9c84445f87d48f38f41b2d13",
       "version_major": 2,
       "version_minor": 0
      },
      "text/plain": [
       "  0%|          | 0/2500 [00:00<?, ?it/s]"
      ]
     },
     "metadata": {},
     "output_type": "display_data"
    },
    {
     "name": "stderr",
     "output_type": "stream",
     "text": [
      "Sampling time = 0:00:04.440160\n",
      "Transforming variables...\n",
      "Transformation time = 0:01:14.015515\n"
     ]
    },
    {
     "name": "stdout",
     "output_type": "stream",
     "text": [
      "Model: king99_pareto_modification\n",
      "        Computed from the raw b_i samples by multiplying by population and then getting\n",
      "        the proportion of the total pop (total pop=summed across all districts):\n",
      "        The posterior mean for the district-level voting preference of\n",
      "        Asian for Dan Cox (Republican Party) is\n",
      "        0.344\n",
      "        The posterior mean for the district-level voting preference of\n",
      "        non-Asian for Dan Cox (Republican Party) is\n",
      "        0.352\n",
      "        95% equal-tailed Bayesian credible interval for district-level voting preference of\n",
      "        Asian for Dan Cox (Republican Party) is\n",
      "        [0.02955363 0.66932912]\n",
      "        95% equal-tailed Bayesian credible interval for district-level voting preference of\n",
      "        non-Asian for Dan Cox (Republican Party) is\n",
      "        [0.32447612 0.38055699]\n",
      "        \n"
     ]
    }
   ],
   "source": [
    "md_rep_asian_ei_suburban, md_rep_asian_summary_suburban = run_ecological_inference(\n",
    "    df=md_race_merged_ei_suburban_df,\n",
    "    demographic_col=\"ASIAN_PERCENT\",\n",
    "    voting_col=\"REPUBLICAN_PERCENT\",\n",
    "    total_votes_col=\"TOT_VOT\",\n",
    "    demographic_group_name=\"Asian\",\n",
    "    candidate_name=md_candidate_mapping['REPUBLICAN']\n",
    ")"
   ]
  },
  {
   "cell_type": "code",
   "execution_count": 836,
   "metadata": {},
   "outputs": [
    {
     "name": "stderr",
     "output_type": "stream",
     "text": [
      "Compiling...\n",
      "Compilation time = 0:00:01.694548\n",
      "Sampling...\n"
     ]
    },
    {
     "data": {
      "application/vnd.jupyter.widget-view+json": {
       "model_id": "64b6742c263b4f579c33025ab9ca0314",
       "version_major": 2,
       "version_minor": 0
      },
      "text/plain": [
       "  0%|          | 0/2500 [00:00<?, ?it/s]"
      ]
     },
     "metadata": {},
     "output_type": "display_data"
    },
    {
     "data": {
      "application/vnd.jupyter.widget-view+json": {
       "model_id": "948d2ab84f7f47a78e6a8182b27ae9f1",
       "version_major": 2,
       "version_minor": 0
      },
      "text/plain": [
       "  0%|          | 0/2500 [00:00<?, ?it/s]"
      ]
     },
     "metadata": {},
     "output_type": "display_data"
    },
    {
     "data": {
      "application/vnd.jupyter.widget-view+json": {
       "model_id": "60a3e6f04f3e46b880a4197bcc58e395",
       "version_major": 2,
       "version_minor": 0
      },
      "text/plain": [
       "  0%|          | 0/2500 [00:00<?, ?it/s]"
      ]
     },
     "metadata": {},
     "output_type": "display_data"
    },
    {
     "data": {
      "application/vnd.jupyter.widget-view+json": {
       "model_id": "0d2835b4863e4e31b09f02a6116c0dad",
       "version_major": 2,
       "version_minor": 0
      },
      "text/plain": [
       "  0%|          | 0/2500 [00:00<?, ?it/s]"
      ]
     },
     "metadata": {},
     "output_type": "display_data"
    },
    {
     "name": "stderr",
     "output_type": "stream",
     "text": [
      "Sampling time = 0:00:04.939759\n",
      "Transforming variables...\n",
      "Transformation time = 0:00:23.832026\n"
     ]
    },
    {
     "name": "stdout",
     "output_type": "stream",
     "text": [
      "Model: king99_pareto_modification\n",
      "        Computed from the raw b_i samples by multiplying by population and then getting\n",
      "        the proportion of the total pop (total pop=summed across all districts):\n",
      "        The posterior mean for the district-level voting preference of\n",
      "        Asian for Dan Cox (Republican Party) is\n",
      "        0.456\n",
      "        The posterior mean for the district-level voting preference of\n",
      "        non-Asian for Dan Cox (Republican Party) is\n",
      "        0.255\n",
      "        95% equal-tailed Bayesian credible interval for district-level voting preference of\n",
      "        Asian for Dan Cox (Republican Party) is\n",
      "        [0.23163538 0.6837175 ]\n",
      "        95% equal-tailed Bayesian credible interval for district-level voting preference of\n",
      "        non-Asian for Dan Cox (Republican Party) is\n",
      "        [0.23354999 0.27853812]\n",
      "        \n"
     ]
    }
   ],
   "source": [
    "md_rep_asian_ei_urban, md_rep_asian_summary_urban = run_ecological_inference(\n",
    "    df=md_race_merged_ei_urban_df,\n",
    "    demographic_col=\"ASIAN_PERCENT\",\n",
    "    voting_col=\"REPUBLICAN_PERCENT\",\n",
    "    total_votes_col=\"TOT_VOT\",\n",
    "    demographic_group_name=\"Asian\",\n",
    "    candidate_name=md_candidate_mapping['REPUBLICAN']\n",
    ")"
   ]
  },
  {
   "cell_type": "code",
   "execution_count": 837,
   "metadata": {},
   "outputs": [
    {
     "name": "stderr",
     "output_type": "stream",
     "text": [
      "Compiling...\n",
      "Compilation time = 0:00:01.635792\n",
      "Sampling...\n"
     ]
    },
    {
     "data": {
      "application/vnd.jupyter.widget-view+json": {
       "model_id": "7fe4f71011e546f8b5bd5acd166bb5d2",
       "version_major": 2,
       "version_minor": 0
      },
      "text/plain": [
       "  0%|          | 0/2500 [00:00<?, ?it/s]"
      ]
     },
     "metadata": {},
     "output_type": "display_data"
    },
    {
     "data": {
      "application/vnd.jupyter.widget-view+json": {
       "model_id": "ed4778add6be47e185604bf21b4ec2b4",
       "version_major": 2,
       "version_minor": 0
      },
      "text/plain": [
       "  0%|          | 0/2500 [00:00<?, ?it/s]"
      ]
     },
     "metadata": {},
     "output_type": "display_data"
    },
    {
     "data": {
      "application/vnd.jupyter.widget-view+json": {
       "model_id": "5f86a74c9a714cdc8d3e3ea196f3688a",
       "version_major": 2,
       "version_minor": 0
      },
      "text/plain": [
       "  0%|          | 0/2500 [00:00<?, ?it/s]"
      ]
     },
     "metadata": {},
     "output_type": "display_data"
    },
    {
     "data": {
      "application/vnd.jupyter.widget-view+json": {
       "model_id": "3a8c476e3db64390afcf91a6aebf60c5",
       "version_major": 2,
       "version_minor": 0
      },
      "text/plain": [
       "  0%|          | 0/2500 [00:00<?, ?it/s]"
      ]
     },
     "metadata": {},
     "output_type": "display_data"
    },
    {
     "name": "stderr",
     "output_type": "stream",
     "text": [
      "Sampling time = 0:00:05.279549\n",
      "Transforming variables...\n",
      "Transformation time = 0:01:13.552972\n"
     ]
    },
    {
     "name": "stdout",
     "output_type": "stream",
     "text": [
      "Model: king99_pareto_modification\n",
      "        Computed from the raw b_i samples by multiplying by population and then getting\n",
      "        the proportion of the total pop (total pop=summed across all districts):\n",
      "        The posterior mean for the district-level voting preference of\n",
      "        Hispanic for Dan Cox (Republican Party) is\n",
      "        0.084\n",
      "        The posterior mean for the district-level voting preference of\n",
      "        non-Hispanic for Dan Cox (Republican Party) is\n",
      "        0.327\n",
      "        95% equal-tailed Bayesian credible interval for district-level voting preference of\n",
      "        Hispanic for Dan Cox (Republican Party) is\n",
      "        [0.00543781 0.21344262]\n",
      "        95% equal-tailed Bayesian credible interval for district-level voting preference of\n",
      "        non-Hispanic for Dan Cox (Republican Party) is\n",
      "        [0.31398461 0.33541357]\n",
      "        \n"
     ]
    }
   ],
   "source": [
    "md_rep_hispanic_ei, md_rep_hispanic_summary = run_ecological_inference(\n",
    "    df=md_race_merged_ei_df,\n",
    "    demographic_col=\"HISPANIC_PERCENT\",\n",
    "    voting_col=\"REPUBLICAN_PERCENT\",\n",
    "    total_votes_col=\"TOT_VOT\",\n",
    "    demographic_group_name=\"Hispanic\",\n",
    "    candidate_name=md_candidate_mapping['REPUBLICAN']\n",
    ")"
   ]
  },
  {
   "cell_type": "code",
   "execution_count": 838,
   "metadata": {},
   "outputs": [
    {
     "name": "stderr",
     "output_type": "stream",
     "text": [
      "Compiling...\n",
      "Compilation time = 0:00:02.460043\n",
      "Sampling...\n"
     ]
    },
    {
     "data": {
      "application/vnd.jupyter.widget-view+json": {
       "model_id": "1fbd1ba17ae449bbbcba36e0316d353d",
       "version_major": 2,
       "version_minor": 0
      },
      "text/plain": [
       "  0%|          | 0/2500 [00:00<?, ?it/s]"
      ]
     },
     "metadata": {},
     "output_type": "display_data"
    },
    {
     "data": {
      "application/vnd.jupyter.widget-view+json": {
       "model_id": "2f7acd02df014f94b688693aea10ac2b",
       "version_major": 2,
       "version_minor": 0
      },
      "text/plain": [
       "  0%|          | 0/2500 [00:00<?, ?it/s]"
      ]
     },
     "metadata": {},
     "output_type": "display_data"
    },
    {
     "data": {
      "application/vnd.jupyter.widget-view+json": {
       "model_id": "a129bdba3a324042a71382eee26a748f",
       "version_major": 2,
       "version_minor": 0
      },
      "text/plain": [
       "  0%|          | 0/2500 [00:00<?, ?it/s]"
      ]
     },
     "metadata": {},
     "output_type": "display_data"
    },
    {
     "data": {
      "application/vnd.jupyter.widget-view+json": {
       "model_id": "4c8ed9ef3c604a238aea33b3ae9d9cce",
       "version_major": 2,
       "version_minor": 0
      },
      "text/plain": [
       "  0%|          | 0/2500 [00:00<?, ?it/s]"
      ]
     },
     "metadata": {},
     "output_type": "display_data"
    },
    {
     "name": "stderr",
     "output_type": "stream",
     "text": [
      "Sampling time = 0:00:07.535858\n",
      "Transforming variables...\n",
      "Transformation time = 0:00:34.295032\n"
     ]
    },
    {
     "name": "stdout",
     "output_type": "stream",
     "text": [
      "Model: king99_pareto_modification\n",
      "        Computed from the raw b_i samples by multiplying by population and then getting\n",
      "        the proportion of the total pop (total pop=summed across all districts):\n",
      "        The posterior mean for the district-level voting preference of\n",
      "        Hispanic for Dan Cox (Republican Party) is\n",
      "        0.130\n",
      "        The posterior mean for the district-level voting preference of\n",
      "        non-Hispanic for Dan Cox (Republican Party) is\n",
      "        0.342\n",
      "        95% equal-tailed Bayesian credible interval for district-level voting preference of\n",
      "        Hispanic for Dan Cox (Republican Party) is\n",
      "        [0.01787141 0.30612339]\n",
      "        95% equal-tailed Bayesian credible interval for district-level voting preference of\n",
      "        non-Hispanic for Dan Cox (Republican Party) is\n",
      "        [0.32907119 0.35203725]\n",
      "        \n"
     ]
    }
   ],
   "source": [
    "md_rep_hispanic_ei_rural, md_rep_hispanic_summary_rural = run_ecological_inference(\n",
    "    df=md_race_merged_ei_rural_df,\n",
    "    demographic_col=\"HISPANIC_PERCENT\",\n",
    "    voting_col=\"REPUBLICAN_PERCENT\",\n",
    "    total_votes_col=\"TOT_VOT\",\n",
    "    demographic_group_name=\"Hispanic\",\n",
    "    candidate_name=md_candidate_mapping['REPUBLICAN']\n",
    ")"
   ]
  },
  {
   "cell_type": "code",
   "execution_count": 839,
   "metadata": {},
   "outputs": [
    {
     "name": "stderr",
     "output_type": "stream",
     "text": [
      "Compiling...\n",
      "Compilation time = 0:00:02.141338\n",
      "Sampling...\n"
     ]
    },
    {
     "data": {
      "application/vnd.jupyter.widget-view+json": {
       "model_id": "93c0516f12934e4188dbdad3128dcb15",
       "version_major": 2,
       "version_minor": 0
      },
      "text/plain": [
       "  0%|          | 0/2500 [00:00<?, ?it/s]"
      ]
     },
     "metadata": {},
     "output_type": "display_data"
    },
    {
     "data": {
      "application/vnd.jupyter.widget-view+json": {
       "model_id": "40a66053ebf84c058acaba67a18c77e3",
       "version_major": 2,
       "version_minor": 0
      },
      "text/plain": [
       "  0%|          | 0/2500 [00:00<?, ?it/s]"
      ]
     },
     "metadata": {},
     "output_type": "display_data"
    },
    {
     "data": {
      "application/vnd.jupyter.widget-view+json": {
       "model_id": "be66af08df77458285ed66c0fd357184",
       "version_major": 2,
       "version_minor": 0
      },
      "text/plain": [
       "  0%|          | 0/2500 [00:00<?, ?it/s]"
      ]
     },
     "metadata": {},
     "output_type": "display_data"
    },
    {
     "data": {
      "application/vnd.jupyter.widget-view+json": {
       "model_id": "acf8c02f498d45c9a9f592b60a7b9ffb",
       "version_major": 2,
       "version_minor": 0
      },
      "text/plain": [
       "  0%|          | 0/2500 [00:00<?, ?it/s]"
      ]
     },
     "metadata": {},
     "output_type": "display_data"
    },
    {
     "name": "stderr",
     "output_type": "stream",
     "text": [
      "Sampling time = 0:00:07.344645\n",
      "Transforming variables...\n",
      "Transformation time = 0:00:32.721045\n"
     ]
    },
    {
     "name": "stdout",
     "output_type": "stream",
     "text": [
      "Model: king99_pareto_modification\n",
      "        Computed from the raw b_i samples by multiplying by population and then getting\n",
      "        the proportion of the total pop (total pop=summed across all districts):\n",
      "        The posterior mean for the district-level voting preference of\n",
      "        Hispanic for Dan Cox (Republican Party) is\n",
      "        0.194\n",
      "        The posterior mean for the district-level voting preference of\n",
      "        non-Hispanic for Dan Cox (Republican Party) is\n",
      "        0.366\n",
      "        95% equal-tailed Bayesian credible interval for district-level voting preference of\n",
      "        Hispanic for Dan Cox (Republican Party) is\n",
      "        [0.05696977 0.39537697]\n",
      "        95% equal-tailed Bayesian credible interval for district-level voting preference of\n",
      "        non-Hispanic for Dan Cox (Republican Party) is\n",
      "        [0.35012257 0.37823849]\n",
      "        \n"
     ]
    }
   ],
   "source": [
    "md_rep_hispanic_ei_suburban, md_rep_hispanic_summary_suburban = run_ecological_inference(\n",
    "    df=md_race_merged_ei_suburban_df,\n",
    "    demographic_col=\"HISPANIC_PERCENT\",\n",
    "    voting_col=\"REPUBLICAN_PERCENT\",\n",
    "    total_votes_col=\"TOT_VOT\",\n",
    "    demographic_group_name=\"Hispanic\",\n",
    "    candidate_name=md_candidate_mapping['REPUBLICAN']\n",
    ")"
   ]
  },
  {
   "cell_type": "code",
   "execution_count": 840,
   "metadata": {},
   "outputs": [
    {
     "name": "stderr",
     "output_type": "stream",
     "text": [
      "Compiling...\n",
      "Compilation time = 0:00:02.403552\n",
      "Sampling...\n"
     ]
    },
    {
     "data": {
      "application/vnd.jupyter.widget-view+json": {
       "model_id": "054037916c694a34806acc1b4fd88312",
       "version_major": 2,
       "version_minor": 0
      },
      "text/plain": [
       "  0%|          | 0/2500 [00:00<?, ?it/s]"
      ]
     },
     "metadata": {},
     "output_type": "display_data"
    },
    {
     "data": {
      "application/vnd.jupyter.widget-view+json": {
       "model_id": "cdbad660463e4fa2beb3bcb37673169f",
       "version_major": 2,
       "version_minor": 0
      },
      "text/plain": [
       "  0%|          | 0/2500 [00:00<?, ?it/s]"
      ]
     },
     "metadata": {},
     "output_type": "display_data"
    },
    {
     "data": {
      "application/vnd.jupyter.widget-view+json": {
       "model_id": "1f87c5cd87e945d398478aa57dfe6300",
       "version_major": 2,
       "version_minor": 0
      },
      "text/plain": [
       "  0%|          | 0/2500 [00:00<?, ?it/s]"
      ]
     },
     "metadata": {},
     "output_type": "display_data"
    },
    {
     "data": {
      "application/vnd.jupyter.widget-view+json": {
       "model_id": "2c3100303490471f815738d3188a6151",
       "version_major": 2,
       "version_minor": 0
      },
      "text/plain": [
       "  0%|          | 0/2500 [00:00<?, ?it/s]"
      ]
     },
     "metadata": {},
     "output_type": "display_data"
    },
    {
     "name": "stderr",
     "output_type": "stream",
     "text": [
      "Sampling time = 0:00:05.520836\n",
      "Transforming variables...\n",
      "Transformation time = 0:00:53.307356\n"
     ]
    },
    {
     "name": "stdout",
     "output_type": "stream",
     "text": [
      "Model: king99_pareto_modification\n",
      "        Computed from the raw b_i samples by multiplying by population and then getting\n",
      "        the proportion of the total pop (total pop=summed across all districts):\n",
      "        The posterior mean for the district-level voting preference of\n",
      "        Hispanic for Dan Cox (Republican Party) is\n",
      "        0.090\n",
      "        The posterior mean for the district-level voting preference of\n",
      "        non-Hispanic for Dan Cox (Republican Party) is\n",
      "        0.299\n",
      "        95% equal-tailed Bayesian credible interval for district-level voting preference of\n",
      "        Hispanic for Dan Cox (Republican Party) is\n",
      "        [0.01334061 0.21101136]\n",
      "        95% equal-tailed Bayesian credible interval for district-level voting preference of\n",
      "        non-Hispanic for Dan Cox (Republican Party) is\n",
      "        [0.27940593 0.31256503]\n",
      "        \n"
     ]
    }
   ],
   "source": [
    "md_rep_hispanic_ei_urban, md_rep_hispanic_summary_urban = run_ecological_inference(\n",
    "    df=md_race_merged_ei_urban_df,\n",
    "    demographic_col=\"HISPANIC_PERCENT\",\n",
    "    voting_col=\"REPUBLICAN_PERCENT\",\n",
    "    total_votes_col=\"TOT_VOT\",\n",
    "    demographic_group_name=\"Hispanic\",\n",
    "    candidate_name=md_candidate_mapping['REPUBLICAN']\n",
    ")"
   ]
  },
  {
   "cell_type": "markdown",
   "metadata": {},
   "source": [
    "#### Econ Run"
   ]
  },
  {
   "cell_type": "markdown",
   "metadata": {},
   "source": [
    "##### Dem Run"
   ]
  },
  {
   "cell_type": "code",
   "execution_count": 741,
   "metadata": {},
   "outputs": [
    {
     "name": "stderr",
     "output_type": "stream",
     "text": [
      "Compiling...\n",
      "Compilation time = 0:00:02.646021\n",
      "Sampling...\n"
     ]
    },
    {
     "data": {
      "application/vnd.jupyter.widget-view+json": {
       "model_id": "c21cc675aec94245ac30174467d5597d",
       "version_major": 2,
       "version_minor": 0
      },
      "text/plain": [
       "  0%|          | 0/2500 [00:00<?, ?it/s]"
      ]
     },
     "metadata": {},
     "output_type": "display_data"
    },
    {
     "data": {
      "application/vnd.jupyter.widget-view+json": {
       "model_id": "c8914c2ec7234e398a247145ef17b15e",
       "version_major": 2,
       "version_minor": 0
      },
      "text/plain": [
       "  0%|          | 0/2500 [00:00<?, ?it/s]"
      ]
     },
     "metadata": {},
     "output_type": "display_data"
    },
    {
     "data": {
      "application/vnd.jupyter.widget-view+json": {
       "model_id": "d8e0fba532ab40369cefafa00267ca4b",
       "version_major": 2,
       "version_minor": 0
      },
      "text/plain": [
       "  0%|          | 0/2500 [00:00<?, ?it/s]"
      ]
     },
     "metadata": {},
     "output_type": "display_data"
    },
    {
     "data": {
      "application/vnd.jupyter.widget-view+json": {
       "model_id": "f1daf72b03e1490bbe7ec8ff179e0912",
       "version_major": 2,
       "version_minor": 0
      },
      "text/plain": [
       "  0%|          | 0/2500 [00:00<?, ?it/s]"
      ]
     },
     "metadata": {},
     "output_type": "display_data"
    },
    {
     "name": "stderr",
     "output_type": "stream",
     "text": [
      "Sampling time = 0:00:03.566071\n",
      "Transforming variables...\n",
      "Transformation time = 0:00:23.527227\n"
     ]
    },
    {
     "name": "stdout",
     "output_type": "stream",
     "text": [
      "Model: king99_pareto_modification\n",
      "        Computed from the raw b_i samples by multiplying by population and then getting\n",
      "        the proportion of the total pop (total pop=summed across all districts):\n",
      "        The posterior mean for the district-level voting preference of\n",
      "        $0-$35,000 for Wes Moore (Democratic Party) is\n",
      "        0.881\n",
      "        The posterior mean for the district-level voting preference of\n",
      "        non-$0-$35,000 for Wes Moore (Democratic Party) is\n",
      "        0.658\n",
      "        95% equal-tailed Bayesian credible interval for district-level voting preference of\n",
      "        $0-$35,000 for Wes Moore (Democratic Party) is\n",
      "        [0.78205333 0.96548546]\n",
      "        95% equal-tailed Bayesian credible interval for district-level voting preference of\n",
      "        non-$0-$35,000 for Wes Moore (Democratic Party) is\n",
      "        [0.64292165 0.67483583]\n",
      "        \n"
     ]
    }
   ],
   "source": [
    "md_dem_0_35_ei, md_dem_0_35_summary = run_ecological_inference(\n",
    "    df=md_economic_merged_ei_df,\n",
    "    demographic_col=\"0_35K_PERCENT\",\n",
    "    voting_col=\"DEMOCRATIC_PERCENT\",\n",
    "    total_votes_col=\"TOT_VOT\",\n",
    "    demographic_group_name=\"$0-$35,000\",\n",
    "    candidate_name=md_candidate_mapping['DEMOCRATIC']\n",
    ")"
   ]
  },
  {
   "cell_type": "code",
   "execution_count": 742,
   "metadata": {},
   "outputs": [
    {
     "name": "stderr",
     "output_type": "stream",
     "text": [
      "Compiling...\n",
      "Compilation time = 0:00:01.584622\n",
      "Sampling...\n"
     ]
    },
    {
     "data": {
      "application/vnd.jupyter.widget-view+json": {
       "model_id": "6d9ce78896024c359b65ded826ac853e",
       "version_major": 2,
       "version_minor": 0
      },
      "text/plain": [
       "  0%|          | 0/2500 [00:00<?, ?it/s]"
      ]
     },
     "metadata": {},
     "output_type": "display_data"
    },
    {
     "data": {
      "application/vnd.jupyter.widget-view+json": {
       "model_id": "64f42ba09c32429bb489bb674a9c0455",
       "version_major": 2,
       "version_minor": 0
      },
      "text/plain": [
       "  0%|          | 0/2500 [00:00<?, ?it/s]"
      ]
     },
     "metadata": {},
     "output_type": "display_data"
    },
    {
     "data": {
      "application/vnd.jupyter.widget-view+json": {
       "model_id": "4af827bc795447ac8ccf30918ef52302",
       "version_major": 2,
       "version_minor": 0
      },
      "text/plain": [
       "  0%|          | 0/2500 [00:00<?, ?it/s]"
      ]
     },
     "metadata": {},
     "output_type": "display_data"
    },
    {
     "data": {
      "application/vnd.jupyter.widget-view+json": {
       "model_id": "0ebd27b9b8754acd8715cbbc471a213b",
       "version_major": 2,
       "version_minor": 0
      },
      "text/plain": [
       "  0%|          | 0/2500 [00:00<?, ?it/s]"
      ]
     },
     "metadata": {},
     "output_type": "display_data"
    },
    {
     "name": "stderr",
     "output_type": "stream",
     "text": [
      "Sampling time = 0:00:03.331962\n",
      "Transforming variables...\n",
      "Transformation time = 0:00:24.909373\n"
     ]
    },
    {
     "name": "stdout",
     "output_type": "stream",
     "text": [
      "Model: king99_pareto_modification\n",
      "        Computed from the raw b_i samples by multiplying by population and then getting\n",
      "        the proportion of the total pop (total pop=summed across all districts):\n",
      "        The posterior mean for the district-level voting preference of\n",
      "        $0-$35,000 for Wes Moore (Democratic Party) is\n",
      "        0.899\n",
      "        The posterior mean for the district-level voting preference of\n",
      "        non-$0-$35,000 for Wes Moore (Democratic Party) is\n",
      "        0.636\n",
      "        95% equal-tailed Bayesian credible interval for district-level voting preference of\n",
      "        $0-$35,000 for Wes Moore (Democratic Party) is\n",
      "        [0.79428584 0.97319367]\n",
      "        95% equal-tailed Bayesian credible interval for district-level voting preference of\n",
      "        non-$0-$35,000 for Wes Moore (Democratic Party) is\n",
      "        [0.62348003 0.6549818 ]\n",
      "        \n"
     ]
    }
   ],
   "source": [
    "md_dem_0_35_ei_rural, md_dem_0_35_summary_rural = run_ecological_inference(\n",
    "    df=md_economic_merged_ei_rural_df,\n",
    "    demographic_col=\"0_35K_PERCENT\",\n",
    "    voting_col=\"DEMOCRATIC_PERCENT\",\n",
    "    total_votes_col=\"TOT_VOT\",\n",
    "    demographic_group_name=\"$0-$35,000\",\n",
    "    candidate_name=md_candidate_mapping['DEMOCRATIC']\n",
    ")"
   ]
  },
  {
   "cell_type": "code",
   "execution_count": 743,
   "metadata": {},
   "outputs": [
    {
     "name": "stderr",
     "output_type": "stream",
     "text": [
      "Compiling...\n",
      "Compilation time = 0:00:01.666128\n",
      "Sampling...\n"
     ]
    },
    {
     "data": {
      "application/vnd.jupyter.widget-view+json": {
       "model_id": "1c20f98aa4ca4b5889a8c06515f506ad",
       "version_major": 2,
       "version_minor": 0
      },
      "text/plain": [
       "  0%|          | 0/2500 [00:00<?, ?it/s]"
      ]
     },
     "metadata": {},
     "output_type": "display_data"
    },
    {
     "data": {
      "application/vnd.jupyter.widget-view+json": {
       "model_id": "01922373a3ad46c0b8e45077e008b8d8",
       "version_major": 2,
       "version_minor": 0
      },
      "text/plain": [
       "  0%|          | 0/2500 [00:00<?, ?it/s]"
      ]
     },
     "metadata": {},
     "output_type": "display_data"
    },
    {
     "data": {
      "application/vnd.jupyter.widget-view+json": {
       "model_id": "7f4ce37aafd441159d33c96e69409502",
       "version_major": 2,
       "version_minor": 0
      },
      "text/plain": [
       "  0%|          | 0/2500 [00:00<?, ?it/s]"
      ]
     },
     "metadata": {},
     "output_type": "display_data"
    },
    {
     "data": {
      "application/vnd.jupyter.widget-view+json": {
       "model_id": "89936f4469d94035a1167e7a1d3ec830",
       "version_major": 2,
       "version_minor": 0
      },
      "text/plain": [
       "  0%|          | 0/2500 [00:00<?, ?it/s]"
      ]
     },
     "metadata": {},
     "output_type": "display_data"
    },
    {
     "name": "stderr",
     "output_type": "stream",
     "text": [
      "Sampling time = 0:00:03.285319\n",
      "Transforming variables...\n",
      "Transformation time = 0:00:26.648602\n"
     ]
    },
    {
     "name": "stdout",
     "output_type": "stream",
     "text": [
      "Model: king99_pareto_modification\n",
      "        Computed from the raw b_i samples by multiplying by population and then getting\n",
      "        the proportion of the total pop (total pop=summed across all districts):\n",
      "        The posterior mean for the district-level voting preference of\n",
      "        $0-$35,000 for Wes Moore (Democratic Party) is\n",
      "        0.847\n",
      "        The posterior mean for the district-level voting preference of\n",
      "        non-$0-$35,000 for Wes Moore (Democratic Party) is\n",
      "        0.613\n",
      "        95% equal-tailed Bayesian credible interval for district-level voting preference of\n",
      "        $0-$35,000 for Wes Moore (Democratic Party) is\n",
      "        [0.72935702 0.94036251]\n",
      "        95% equal-tailed Bayesian credible interval for district-level voting preference of\n",
      "        non-$0-$35,000 for Wes Moore (Democratic Party) is\n",
      "        [0.59946791 0.63087411]\n",
      "        \n"
     ]
    }
   ],
   "source": [
    "md_dem_0_35_ei_suburban, md_dem_0_35_summary_suburban = run_ecological_inference(\n",
    "    df=md_economic_merged_ei_suburban_df,\n",
    "    demographic_col=\"0_35K_PERCENT\",\n",
    "    voting_col=\"DEMOCRATIC_PERCENT\",\n",
    "    total_votes_col=\"TOT_VOT\",\n",
    "    demographic_group_name=\"$0-$35,000\",\n",
    "    candidate_name=md_candidate_mapping['DEMOCRATIC']\n",
    ")"
   ]
  },
  {
   "cell_type": "code",
   "execution_count": 744,
   "metadata": {},
   "outputs": [
    {
     "name": "stderr",
     "output_type": "stream",
     "text": [
      "Compiling...\n",
      "Compilation time = 0:00:01.529502\n",
      "Sampling...\n"
     ]
    },
    {
     "data": {
      "application/vnd.jupyter.widget-view+json": {
       "model_id": "d85ca75cbbe64819a2acb1fb358b3180",
       "version_major": 2,
       "version_minor": 0
      },
      "text/plain": [
       "  0%|          | 0/2500 [00:00<?, ?it/s]"
      ]
     },
     "metadata": {},
     "output_type": "display_data"
    },
    {
     "data": {
      "application/vnd.jupyter.widget-view+json": {
       "model_id": "0f0612a7d7f747c2aa0aeae9ac2d46ad",
       "version_major": 2,
       "version_minor": 0
      },
      "text/plain": [
       "  0%|          | 0/2500 [00:00<?, ?it/s]"
      ]
     },
     "metadata": {},
     "output_type": "display_data"
    },
    {
     "data": {
      "application/vnd.jupyter.widget-view+json": {
       "model_id": "aecd32bc7e5149f8a97f2184a6bc1a48",
       "version_major": 2,
       "version_minor": 0
      },
      "text/plain": [
       "  0%|          | 0/2500 [00:00<?, ?it/s]"
      ]
     },
     "metadata": {},
     "output_type": "display_data"
    },
    {
     "data": {
      "application/vnd.jupyter.widget-view+json": {
       "model_id": "d615f291e91e41438f76ae5a7f81db20",
       "version_major": 2,
       "version_minor": 0
      },
      "text/plain": [
       "  0%|          | 0/2500 [00:00<?, ?it/s]"
      ]
     },
     "metadata": {},
     "output_type": "display_data"
    },
    {
     "name": "stderr",
     "output_type": "stream",
     "text": [
      "Sampling time = 0:00:03.101564\n",
      "Transforming variables...\n",
      "Transformation time = 0:00:25.083839\n"
     ]
    },
    {
     "name": "stdout",
     "output_type": "stream",
     "text": [
      "Model: king99_pareto_modification\n",
      "        Computed from the raw b_i samples by multiplying by population and then getting\n",
      "        the proportion of the total pop (total pop=summed across all districts):\n",
      "        The posterior mean for the district-level voting preference of\n",
      "        $0-$35,000 for Wes Moore (Democratic Party) is\n",
      "        0.805\n",
      "        The posterior mean for the district-level voting preference of\n",
      "        non-$0-$35,000 for Wes Moore (Democratic Party) is\n",
      "        0.711\n",
      "        95% equal-tailed Bayesian credible interval for district-level voting preference of\n",
      "        $0-$35,000 for Wes Moore (Democratic Party) is\n",
      "        [0.61927986 0.96953591]\n",
      "        95% equal-tailed Bayesian credible interval for district-level voting preference of\n",
      "        non-$0-$35,000 for Wes Moore (Democratic Party) is\n",
      "        [0.68522769 0.73832078]\n",
      "        \n"
     ]
    }
   ],
   "source": [
    "md_dem_0_35_ei_urban, md_dem_0_35_summary_urban = run_ecological_inference(\n",
    "    df=md_economic_merged_ei_urban_df,\n",
    "    demographic_col=\"0_35K_PERCENT\",\n",
    "    voting_col=\"DEMOCRATIC_PERCENT\",\n",
    "    total_votes_col=\"TOT_VOT\",\n",
    "    demographic_group_name=\"$0-$35,000\",\n",
    "    candidate_name=md_candidate_mapping['DEMOCRATIC']\n",
    ")"
   ]
  },
  {
   "cell_type": "code",
   "execution_count": 745,
   "metadata": {},
   "outputs": [
    {
     "name": "stderr",
     "output_type": "stream",
     "text": [
      "Compiling...\n",
      "Compilation time = 0:00:01.573200\n",
      "Sampling...\n"
     ]
    },
    {
     "data": {
      "application/vnd.jupyter.widget-view+json": {
       "model_id": "f246532b4a344437a75aa028917ca5d7",
       "version_major": 2,
       "version_minor": 0
      },
      "text/plain": [
       "  0%|          | 0/2500 [00:00<?, ?it/s]"
      ]
     },
     "metadata": {},
     "output_type": "display_data"
    },
    {
     "data": {
      "application/vnd.jupyter.widget-view+json": {
       "model_id": "c251d47fb4294ecb8c51cdaadde087e1",
       "version_major": 2,
       "version_minor": 0
      },
      "text/plain": [
       "  0%|          | 0/2500 [00:00<?, ?it/s]"
      ]
     },
     "metadata": {},
     "output_type": "display_data"
    },
    {
     "data": {
      "application/vnd.jupyter.widget-view+json": {
       "model_id": "384a085bd934456cb0cea8c981288993",
       "version_major": 2,
       "version_minor": 0
      },
      "text/plain": [
       "  0%|          | 0/2500 [00:00<?, ?it/s]"
      ]
     },
     "metadata": {},
     "output_type": "display_data"
    },
    {
     "data": {
      "application/vnd.jupyter.widget-view+json": {
       "model_id": "b377aa767b864b3a911b90ea452cf277",
       "version_major": 2,
       "version_minor": 0
      },
      "text/plain": [
       "  0%|          | 0/2500 [00:00<?, ?it/s]"
      ]
     },
     "metadata": {},
     "output_type": "display_data"
    },
    {
     "name": "stderr",
     "output_type": "stream",
     "text": [
      "Sampling time = 0:00:03.416746\n",
      "Transforming variables...\n",
      "Transformation time = 0:00:18.325020\n"
     ]
    },
    {
     "name": "stdout",
     "output_type": "stream",
     "text": [
      "Model: king99_pareto_modification\n",
      "        Computed from the raw b_i samples by multiplying by population and then getting\n",
      "        the proportion of the total pop (total pop=summed across all districts):\n",
      "        The posterior mean for the district-level voting preference of\n",
      "        $35,000-$60,000 for Wes Moore (Democratic Party) is\n",
      "        0.802\n",
      "        The posterior mean for the district-level voting preference of\n",
      "        non-$35,000-$60,000 for Wes Moore (Democratic Party) is\n",
      "        0.672\n",
      "        95% equal-tailed Bayesian credible interval for district-level voting preference of\n",
      "        $35,000-$60,000 for Wes Moore (Democratic Party) is\n",
      "        [0.65798797 0.9285035 ]\n",
      "        95% equal-tailed Bayesian credible interval for district-level voting preference of\n",
      "        non-$35,000-$60,000 for Wes Moore (Democratic Party) is\n",
      "        [0.65507298 0.69052066]\n",
      "        \n"
     ]
    }
   ],
   "source": [
    "md_dem_35_60_ei, md_dem_35_60_summary = run_ecological_inference(\n",
    "    df=md_economic_merged_ei_df,\n",
    "    demographic_col=\"35K_60K_PERCENT\",\n",
    "    voting_col=\"DEMOCRATIC_PERCENT\",\n",
    "    total_votes_col=\"TOT_VOT\",\n",
    "    demographic_group_name=\"$35,000-$60,000\",\n",
    "    candidate_name=md_candidate_mapping['DEMOCRATIC']\n",
    ")"
   ]
  },
  {
   "cell_type": "code",
   "execution_count": 746,
   "metadata": {},
   "outputs": [
    {
     "name": "stderr",
     "output_type": "stream",
     "text": [
      "Compiling...\n",
      "Compilation time = 0:00:01.573239\n",
      "Sampling...\n"
     ]
    },
    {
     "data": {
      "application/vnd.jupyter.widget-view+json": {
       "model_id": "c482d2bea98e441c8f13a53d130ee208",
       "version_major": 2,
       "version_minor": 0
      },
      "text/plain": [
       "  0%|          | 0/2500 [00:00<?, ?it/s]"
      ]
     },
     "metadata": {},
     "output_type": "display_data"
    },
    {
     "data": {
      "application/vnd.jupyter.widget-view+json": {
       "model_id": "b214e7ac1b8a4afb98cbbbfd23ff844a",
       "version_major": 2,
       "version_minor": 0
      },
      "text/plain": [
       "  0%|          | 0/2500 [00:00<?, ?it/s]"
      ]
     },
     "metadata": {},
     "output_type": "display_data"
    },
    {
     "data": {
      "application/vnd.jupyter.widget-view+json": {
       "model_id": "b09eab3d5861482bab622323231b3068",
       "version_major": 2,
       "version_minor": 0
      },
      "text/plain": [
       "  0%|          | 0/2500 [00:00<?, ?it/s]"
      ]
     },
     "metadata": {},
     "output_type": "display_data"
    },
    {
     "data": {
      "application/vnd.jupyter.widget-view+json": {
       "model_id": "5685e874e6b542c888d3d5b99ccbd973",
       "version_major": 2,
       "version_minor": 0
      },
      "text/plain": [
       "  0%|          | 0/2500 [00:00<?, ?it/s]"
      ]
     },
     "metadata": {},
     "output_type": "display_data"
    },
    {
     "name": "stderr",
     "output_type": "stream",
     "text": [
      "Sampling time = 0:00:03.258645\n",
      "Transforming variables...\n",
      "Transformation time = 0:00:43.715484\n"
     ]
    },
    {
     "name": "stdout",
     "output_type": "stream",
     "text": [
      "Model: king99_pareto_modification\n",
      "        Computed from the raw b_i samples by multiplying by population and then getting\n",
      "        the proportion of the total pop (total pop=summed across all districts):\n",
      "        The posterior mean for the district-level voting preference of\n",
      "        $35,000-$60,000 for Wes Moore (Democratic Party) is\n",
      "        0.906\n",
      "        The posterior mean for the district-level voting preference of\n",
      "        non-$35,000-$60,000 for Wes Moore (Democratic Party) is\n",
      "        0.640\n",
      "        95% equal-tailed Bayesian credible interval for district-level voting preference of\n",
      "        $35,000-$60,000 for Wes Moore (Democratic Party) is\n",
      "        [0.79008375 0.98060735]\n",
      "        95% equal-tailed Bayesian credible interval for district-level voting preference of\n",
      "        non-$35,000-$60,000 for Wes Moore (Democratic Party) is\n",
      "        [0.62972042 0.65340977]\n",
      "        \n"
     ]
    }
   ],
   "source": [
    "md_dem_35_60_ei_rural, md_dem_35_60_summary_rural = run_ecological_inference(\n",
    "    df=md_economic_merged_ei_rural_df,\n",
    "    demographic_col=\"35K_60K_PERCENT\",\n",
    "    voting_col=\"DEMOCRATIC_PERCENT\",\n",
    "    total_votes_col=\"TOT_VOT\",\n",
    "    demographic_group_name=\"$35,000-$60,000\",\n",
    "    candidate_name=md_candidate_mapping['DEMOCRATIC']\n",
    ")"
   ]
  },
  {
   "cell_type": "code",
   "execution_count": 747,
   "metadata": {},
   "outputs": [
    {
     "name": "stderr",
     "output_type": "stream",
     "text": [
      "Compiling...\n",
      "Compilation time = 0:00:01.357113\n",
      "Sampling...\n"
     ]
    },
    {
     "data": {
      "application/vnd.jupyter.widget-view+json": {
       "model_id": "408e9d74aed24c1495df8d82f2fcc0ce",
       "version_major": 2,
       "version_minor": 0
      },
      "text/plain": [
       "  0%|          | 0/2500 [00:00<?, ?it/s]"
      ]
     },
     "metadata": {},
     "output_type": "display_data"
    },
    {
     "data": {
      "application/vnd.jupyter.widget-view+json": {
       "model_id": "a886452c25d2428391d6693e1b243bed",
       "version_major": 2,
       "version_minor": 0
      },
      "text/plain": [
       "  0%|          | 0/2500 [00:00<?, ?it/s]"
      ]
     },
     "metadata": {},
     "output_type": "display_data"
    },
    {
     "data": {
      "application/vnd.jupyter.widget-view+json": {
       "model_id": "0791551c5b61400e91fa67907c5dfed6",
       "version_major": 2,
       "version_minor": 0
      },
      "text/plain": [
       "  0%|          | 0/2500 [00:00<?, ?it/s]"
      ]
     },
     "metadata": {},
     "output_type": "display_data"
    },
    {
     "data": {
      "application/vnd.jupyter.widget-view+json": {
       "model_id": "c8720639d0bf469394955683e1d4ddbc",
       "version_major": 2,
       "version_minor": 0
      },
      "text/plain": [
       "  0%|          | 0/2500 [00:00<?, ?it/s]"
      ]
     },
     "metadata": {},
     "output_type": "display_data"
    },
    {
     "name": "stderr",
     "output_type": "stream",
     "text": [
      "Sampling time = 0:00:03.743151\n",
      "Transforming variables...\n",
      "Transformation time = 0:00:28.893563\n"
     ]
    },
    {
     "name": "stdout",
     "output_type": "stream",
     "text": [
      "Model: king99_pareto_modification\n",
      "        Computed from the raw b_i samples by multiplying by population and then getting\n",
      "        the proportion of the total pop (total pop=summed across all districts):\n",
      "        The posterior mean for the district-level voting preference of\n",
      "        $35,000-$60,000 for Wes Moore (Democratic Party) is\n",
      "        0.852\n",
      "        The posterior mean for the district-level voting preference of\n",
      "        non-$35,000-$60,000 for Wes Moore (Democratic Party) is\n",
      "        0.615\n",
      "        95% equal-tailed Bayesian credible interval for district-level voting preference of\n",
      "        $35,000-$60,000 for Wes Moore (Democratic Party) is\n",
      "        [0.69926624 0.97153842]\n",
      "        95% equal-tailed Bayesian credible interval for district-level voting preference of\n",
      "        non-$35,000-$60,000 for Wes Moore (Democratic Party) is\n",
      "        [0.60063595 0.63376267]\n",
      "        \n"
     ]
    }
   ],
   "source": [
    "md_dem_35_60_ei_suburban, md_dem_35_60_summary_rural_suburban = run_ecological_inference(\n",
    "    df=md_economic_merged_ei_suburban_df,\n",
    "    demographic_col=\"35K_60K_PERCENT\",\n",
    "    voting_col=\"DEMOCRATIC_PERCENT\",\n",
    "    total_votes_col=\"TOT_VOT\",\n",
    "    demographic_group_name=\"$35,000-$60,000\",\n",
    "    candidate_name=md_candidate_mapping['DEMOCRATIC']\n",
    ")"
   ]
  },
  {
   "cell_type": "code",
   "execution_count": 748,
   "metadata": {},
   "outputs": [
    {
     "name": "stderr",
     "output_type": "stream",
     "text": [
      "Compiling...\n",
      "Compilation time = 0:00:21.738074\n",
      "Sampling...\n"
     ]
    },
    {
     "data": {
      "application/vnd.jupyter.widget-view+json": {
       "model_id": "52949f40fd644aeabb9a3bf550e2192e",
       "version_major": 2,
       "version_minor": 0
      },
      "text/plain": [
       "  0%|          | 0/2500 [00:00<?, ?it/s]"
      ]
     },
     "metadata": {},
     "output_type": "display_data"
    },
    {
     "data": {
      "application/vnd.jupyter.widget-view+json": {
       "model_id": "c84f7f609cc34ddfa10ee936ffa470a0",
       "version_major": 2,
       "version_minor": 0
      },
      "text/plain": [
       "  0%|          | 0/2500 [00:00<?, ?it/s]"
      ]
     },
     "metadata": {},
     "output_type": "display_data"
    },
    {
     "data": {
      "application/vnd.jupyter.widget-view+json": {
       "model_id": "55a15555361c494abd0663ac54e213fb",
       "version_major": 2,
       "version_minor": 0
      },
      "text/plain": [
       "  0%|          | 0/2500 [00:00<?, ?it/s]"
      ]
     },
     "metadata": {},
     "output_type": "display_data"
    },
    {
     "data": {
      "application/vnd.jupyter.widget-view+json": {
       "model_id": "b8a1a43c9a1b44b2987b2a6c525eb7c6",
       "version_major": 2,
       "version_minor": 0
      },
      "text/plain": [
       "  0%|          | 0/2500 [00:00<?, ?it/s]"
      ]
     },
     "metadata": {},
     "output_type": "display_data"
    },
    {
     "name": "stderr",
     "output_type": "stream",
     "text": [
      "Sampling time = 0:00:03.918838\n",
      "Transforming variables...\n",
      "Transformation time = 0:00:33.993833\n"
     ]
    },
    {
     "name": "stdout",
     "output_type": "stream",
     "text": [
      "Model: king99_pareto_modification\n",
      "        Computed from the raw b_i samples by multiplying by population and then getting\n",
      "        the proportion of the total pop (total pop=summed across all districts):\n",
      "        The posterior mean for the district-level voting preference of\n",
      "        $35,000-$60,000 for Wes Moore (Democratic Party) is\n",
      "        0.875\n",
      "        The posterior mean for the district-level voting preference of\n",
      "        non-$35,000-$60,000 for Wes Moore (Democratic Party) is\n",
      "        0.703\n",
      "        95% equal-tailed Bayesian credible interval for district-level voting preference of\n",
      "        $35,000-$60,000 for Wes Moore (Democratic Party) is\n",
      "        [0.70489731 0.98411591]\n",
      "        95% equal-tailed Bayesian credible interval for district-level voting preference of\n",
      "        non-$35,000-$60,000 for Wes Moore (Democratic Party) is\n",
      "        [0.68817632 0.72630531]\n",
      "        \n"
     ]
    }
   ],
   "source": [
    "md_dem_35_60_ei_urban, md_dem_35_60_summary_urban = run_ecological_inference(\n",
    "    df=md_economic_merged_ei_urban_df,\n",
    "    demographic_col=\"35K_60K_PERCENT\",\n",
    "    voting_col=\"DEMOCRATIC_PERCENT\",\n",
    "    total_votes_col=\"TOT_VOT\",\n",
    "    demographic_group_name=\"$35,000-$60,000\",\n",
    "    candidate_name=md_candidate_mapping['DEMOCRATIC']\n",
    ")"
   ]
  },
  {
   "cell_type": "code",
   "execution_count": 778,
   "metadata": {},
   "outputs": [
    {
     "name": "stderr",
     "output_type": "stream",
     "text": [
      "Compiling...\n",
      "Compilation time = 0:00:01.440826\n",
      "Sampling...\n"
     ]
    },
    {
     "data": {
      "application/vnd.jupyter.widget-view+json": {
       "model_id": "eaf45642924f411d9f9da00f2323f80c",
       "version_major": 2,
       "version_minor": 0
      },
      "text/plain": [
       "  0%|          | 0/2500 [00:00<?, ?it/s]"
      ]
     },
     "metadata": {},
     "output_type": "display_data"
    },
    {
     "data": {
      "application/vnd.jupyter.widget-view+json": {
       "model_id": "5d4b49d02d89473e871380553af8ad5d",
       "version_major": 2,
       "version_minor": 0
      },
      "text/plain": [
       "  0%|          | 0/2500 [00:00<?, ?it/s]"
      ]
     },
     "metadata": {},
     "output_type": "display_data"
    },
    {
     "data": {
      "application/vnd.jupyter.widget-view+json": {
       "model_id": "399bfb84a0504cda9d3be0085f3e933e",
       "version_major": 2,
       "version_minor": 0
      },
      "text/plain": [
       "  0%|          | 0/2500 [00:00<?, ?it/s]"
      ]
     },
     "metadata": {},
     "output_type": "display_data"
    },
    {
     "data": {
      "application/vnd.jupyter.widget-view+json": {
       "model_id": "9c2028f501fe4f9c8dcd4974cd91f06b",
       "version_major": 2,
       "version_minor": 0
      },
      "text/plain": [
       "  0%|          | 0/2500 [00:00<?, ?it/s]"
      ]
     },
     "metadata": {},
     "output_type": "display_data"
    },
    {
     "name": "stderr",
     "output_type": "stream",
     "text": [
      "Sampling time = 0:00:03.011875\n",
      "Transforming variables...\n",
      "Transformation time = 0:00:19.798197\n"
     ]
    },
    {
     "name": "stdout",
     "output_type": "stream",
     "text": [
      "Model: king99_pareto_modification\n",
      "        Computed from the raw b_i samples by multiplying by population and then getting\n",
      "        the proportion of the total pop (total pop=summed across all districts):\n",
      "        The posterior mean for the district-level voting preference of\n",
      "        $60,000-$100,000 for Wes Moore (Democratic Party) is\n",
      "        0.793\n",
      "        The posterior mean for the district-level voting preference of\n",
      "        non-$60,000-$100,000 for Wes Moore (Democratic Party) is\n",
      "        0.667\n",
      "        95% equal-tailed Bayesian credible interval for district-level voting preference of\n",
      "        $60,000-$100,000 for Wes Moore (Democratic Party) is\n",
      "        [0.65586267 0.91330011]\n",
      "        95% equal-tailed Bayesian credible interval for district-level voting preference of\n",
      "        non-$60,000-$100,000 for Wes Moore (Democratic Party) is\n",
      "        [0.64000494 0.69757448]\n",
      "        \n"
     ]
    }
   ],
   "source": [
    "md_dem_60_100_ei, md_dem_60_100_summary = run_ecological_inference(\n",
    "    df=md_economic_merged_ei_df,\n",
    "    demographic_col=\"60K_100K_PERCENT\",\n",
    "    voting_col=\"DEMOCRATIC_PERCENT\",\n",
    "    total_votes_col=\"TOT_VOT\",\n",
    "    demographic_group_name=\"$60,000-$100,000\",\n",
    "    candidate_name=md_candidate_mapping['DEMOCRATIC']\n",
    ")"
   ]
  },
  {
   "cell_type": "code",
   "execution_count": 777,
   "metadata": {},
   "outputs": [
    {
     "name": "stderr",
     "output_type": "stream",
     "text": [
      "Compiling...\n",
      "Compilation time = 0:00:02.161200\n",
      "Sampling...\n"
     ]
    },
    {
     "data": {
      "application/vnd.jupyter.widget-view+json": {
       "model_id": "a05b4fedce404072ad346902d6e58c4f",
       "version_major": 2,
       "version_minor": 0
      },
      "text/plain": [
       "  0%|          | 0/2500 [00:00<?, ?it/s]"
      ]
     },
     "metadata": {},
     "output_type": "display_data"
    },
    {
     "data": {
      "application/vnd.jupyter.widget-view+json": {
       "model_id": "ac12a1772875468d89f76b88bd69b7fa",
       "version_major": 2,
       "version_minor": 0
      },
      "text/plain": [
       "  0%|          | 0/2500 [00:00<?, ?it/s]"
      ]
     },
     "metadata": {},
     "output_type": "display_data"
    },
    {
     "data": {
      "application/vnd.jupyter.widget-view+json": {
       "model_id": "166c8e9219754efcaad57e0f23a00956",
       "version_major": 2,
       "version_minor": 0
      },
      "text/plain": [
       "  0%|          | 0/2500 [00:00<?, ?it/s]"
      ]
     },
     "metadata": {},
     "output_type": "display_data"
    },
    {
     "data": {
      "application/vnd.jupyter.widget-view+json": {
       "model_id": "f80e58de36de4e628e975f9bca5570cc",
       "version_major": 2,
       "version_minor": 0
      },
      "text/plain": [
       "  0%|          | 0/2500 [00:00<?, ?it/s]"
      ]
     },
     "metadata": {},
     "output_type": "display_data"
    },
    {
     "name": "stderr",
     "output_type": "stream",
     "text": [
      "Sampling time = 0:00:02.885080\n",
      "Transforming variables...\n",
      "Transformation time = 0:00:44.594851\n"
     ]
    },
    {
     "name": "stdout",
     "output_type": "stream",
     "text": [
      "Model: king99_pareto_modification\n",
      "        Computed from the raw b_i samples by multiplying by population and then getting\n",
      "        the proportion of the total pop (total pop=summed across all districts):\n",
      "        The posterior mean for the district-level voting preference of\n",
      "        $60,000-$100,000 for Wes Moore (Democratic Party) is\n",
      "        0.924\n",
      "        The posterior mean for the district-level voting preference of\n",
      "        non-$60,000-$100,000 for Wes Moore (Democratic Party) is\n",
      "        0.626\n",
      "        95% equal-tailed Bayesian credible interval for district-level voting preference of\n",
      "        $60,000-$100,000 for Wes Moore (Democratic Party) is\n",
      "        [0.81794899 0.98368787]\n",
      "        95% equal-tailed Bayesian credible interval for district-level voting preference of\n",
      "        non-$60,000-$100,000 for Wes Moore (Democratic Party) is\n",
      "        [0.61414898 0.64478083]\n",
      "        \n"
     ]
    }
   ],
   "source": [
    "md_dem_60_100_ei_rural, md_dem_60_100_summary_rural = run_ecological_inference(\n",
    "    df=md_economic_merged_ei_rural_df,\n",
    "    demographic_col=\"60K_100K_PERCENT\",\n",
    "    voting_col=\"DEMOCRATIC_PERCENT\",\n",
    "    total_votes_col=\"TOT_VOT\",\n",
    "    demographic_group_name=\"$60,000-$100,000\",\n",
    "    candidate_name=md_candidate_mapping['DEMOCRATIC']\n",
    ")"
   ]
  },
  {
   "cell_type": "code",
   "execution_count": 776,
   "metadata": {},
   "outputs": [
    {
     "name": "stderr",
     "output_type": "stream",
     "text": [
      "Compiling...\n",
      "Compilation time = 0:00:02.272516\n",
      "Sampling...\n"
     ]
    },
    {
     "data": {
      "application/vnd.jupyter.widget-view+json": {
       "model_id": "890a20fa0f34464ab3b6e35a1ab4af11",
       "version_major": 2,
       "version_minor": 0
      },
      "text/plain": [
       "  0%|          | 0/2500 [00:00<?, ?it/s]"
      ]
     },
     "metadata": {},
     "output_type": "display_data"
    },
    {
     "data": {
      "application/vnd.jupyter.widget-view+json": {
       "model_id": "4f6b9b253b8e42abb1903ea5c2a26d29",
       "version_major": 2,
       "version_minor": 0
      },
      "text/plain": [
       "  0%|          | 0/2500 [00:00<?, ?it/s]"
      ]
     },
     "metadata": {},
     "output_type": "display_data"
    },
    {
     "data": {
      "application/vnd.jupyter.widget-view+json": {
       "model_id": "4c25017ab2f447b09ecc3735cb45db8b",
       "version_major": 2,
       "version_minor": 0
      },
      "text/plain": [
       "  0%|          | 0/2500 [00:00<?, ?it/s]"
      ]
     },
     "metadata": {},
     "output_type": "display_data"
    },
    {
     "data": {
      "application/vnd.jupyter.widget-view+json": {
       "model_id": "1a0278535dfb4542bc47ff5c2c89c153",
       "version_major": 2,
       "version_minor": 0
      },
      "text/plain": [
       "  0%|          | 0/2500 [00:00<?, ?it/s]"
      ]
     },
     "metadata": {},
     "output_type": "display_data"
    },
    {
     "name": "stderr",
     "output_type": "stream",
     "text": [
      "Sampling time = 0:00:04.110324\n",
      "Transforming variables...\n",
      "Transformation time = 0:00:37.836967\n"
     ]
    },
    {
     "name": "stdout",
     "output_type": "stream",
     "text": [
      "Model: king99_pareto_modification\n",
      "        Computed from the raw b_i samples by multiplying by population and then getting\n",
      "        the proportion of the total pop (total pop=summed across all districts):\n",
      "        The posterior mean for the district-level voting preference of\n",
      "        $60,000-$100,000 for Wes Moore (Democratic Party) is\n",
      "        0.830\n",
      "        The posterior mean for the district-level voting preference of\n",
      "        non-$60,000-$100,000 for Wes Moore (Democratic Party) is\n",
      "        0.599\n",
      "        95% equal-tailed Bayesian credible interval for district-level voting preference of\n",
      "        $60,000-$100,000 for Wes Moore (Democratic Party) is\n",
      "        [0.69049241 0.94444855]\n",
      "        95% equal-tailed Bayesian credible interval for district-level voting preference of\n",
      "        non-$60,000-$100,000 for Wes Moore (Democratic Party) is\n",
      "        [0.57232046 0.6307851 ]\n",
      "        \n"
     ]
    }
   ],
   "source": [
    "md_dem_60_100_ei_suburban, md_dem_60_100_summary_suburban = run_ecological_inference(\n",
    "    df=md_economic_merged_ei_suburban_df,\n",
    "    demographic_col=\"60K_100K_PERCENT\",\n",
    "    voting_col=\"DEMOCRATIC_PERCENT\",\n",
    "    total_votes_col=\"TOT_VOT\",\n",
    "    demographic_group_name=\"$60,000-$100,000\",\n",
    "    candidate_name=md_candidate_mapping['DEMOCRATIC']\n",
    ")"
   ]
  },
  {
   "cell_type": "code",
   "execution_count": 774,
   "metadata": {},
   "outputs": [
    {
     "name": "stderr",
     "output_type": "stream",
     "text": [
      "Compiling...\n",
      "Compilation time = 0:00:01.939291\n",
      "Sampling...\n"
     ]
    },
    {
     "data": {
      "application/vnd.jupyter.widget-view+json": {
       "model_id": "cadcfabdea0d48b29c0f34c9a4ea772b",
       "version_major": 2,
       "version_minor": 0
      },
      "text/plain": [
       "  0%|          | 0/2500 [00:00<?, ?it/s]"
      ]
     },
     "metadata": {},
     "output_type": "display_data"
    },
    {
     "data": {
      "application/vnd.jupyter.widget-view+json": {
       "model_id": "e08f4a9423b64dab9c068bbe8f674860",
       "version_major": 2,
       "version_minor": 0
      },
      "text/plain": [
       "  0%|          | 0/2500 [00:00<?, ?it/s]"
      ]
     },
     "metadata": {},
     "output_type": "display_data"
    },
    {
     "data": {
      "application/vnd.jupyter.widget-view+json": {
       "model_id": "f35bd6f54dd741bba2116d3c09fe5064",
       "version_major": 2,
       "version_minor": 0
      },
      "text/plain": [
       "  0%|          | 0/2500 [00:00<?, ?it/s]"
      ]
     },
     "metadata": {},
     "output_type": "display_data"
    },
    {
     "data": {
      "application/vnd.jupyter.widget-view+json": {
       "model_id": "f7cf4dfa85ec4adbbdfdf77432719dc8",
       "version_major": 2,
       "version_minor": 0
      },
      "text/plain": [
       "  0%|          | 0/2500 [00:00<?, ?it/s]"
      ]
     },
     "metadata": {},
     "output_type": "display_data"
    },
    {
     "name": "stderr",
     "output_type": "stream",
     "text": [
      "Sampling time = 0:00:04.080808\n",
      "Transforming variables...\n",
      "Transformation time = 0:00:37.212241\n"
     ]
    },
    {
     "name": "stdout",
     "output_type": "stream",
     "text": [
      "Model: king99_pareto_modification\n",
      "        Computed from the raw b_i samples by multiplying by population and then getting\n",
      "        the proportion of the total pop (total pop=summed across all districts):\n",
      "        The posterior mean for the district-level voting preference of\n",
      "        $60,000-$100,000 for Wes Moore (Democratic Party) is\n",
      "        0.897\n",
      "        The posterior mean for the district-level voting preference of\n",
      "        non-$60,000-$100,000 for Wes Moore (Democratic Party) is\n",
      "        0.682\n",
      "        95% equal-tailed Bayesian credible interval for district-level voting preference of\n",
      "        $60,000-$100,000 for Wes Moore (Democratic Party) is\n",
      "        [0.75205991 0.99117811]\n",
      "        95% equal-tailed Bayesian credible interval for district-level voting preference of\n",
      "        non-$60,000-$100,000 for Wes Moore (Democratic Party) is\n",
      "        [0.65836715 0.71890738]\n",
      "        \n"
     ]
    }
   ],
   "source": [
    "md_dem_60_100_ei_urban, md_dem_60_100_summary_urban = run_ecological_inference(\n",
    "    df=md_economic_merged_ei_urban_df,\n",
    "    demographic_col=\"60K_100K_PERCENT\",\n",
    "    voting_col=\"DEMOCRATIC_PERCENT\",\n",
    "    total_votes_col=\"TOT_VOT\",\n",
    "    demographic_group_name=\"$60,000-$100,000\",\n",
    "    candidate_name=md_candidate_mapping['DEMOCRATIC']\n",
    ")"
   ]
  },
  {
   "cell_type": "code",
   "execution_count": 753,
   "metadata": {},
   "outputs": [
    {
     "name": "stderr",
     "output_type": "stream",
     "text": [
      "Compiling...\n",
      "Compilation time = 0:00:01.401760\n",
      "Sampling...\n"
     ]
    },
    {
     "data": {
      "application/vnd.jupyter.widget-view+json": {
       "model_id": "d99a22a4c3ad48f88163dc50d19aa4d6",
       "version_major": 2,
       "version_minor": 0
      },
      "text/plain": [
       "  0%|          | 0/2500 [00:00<?, ?it/s]"
      ]
     },
     "metadata": {},
     "output_type": "display_data"
    },
    {
     "data": {
      "application/vnd.jupyter.widget-view+json": {
       "model_id": "cd57d2f41c2843a58dff1abf3de6f807",
       "version_major": 2,
       "version_minor": 0
      },
      "text/plain": [
       "  0%|          | 0/2500 [00:00<?, ?it/s]"
      ]
     },
     "metadata": {},
     "output_type": "display_data"
    },
    {
     "data": {
      "application/vnd.jupyter.widget-view+json": {
       "model_id": "028fb2853fa446d28640a8193e9da15d",
       "version_major": 2,
       "version_minor": 0
      },
      "text/plain": [
       "  0%|          | 0/2500 [00:00<?, ?it/s]"
      ]
     },
     "metadata": {},
     "output_type": "display_data"
    },
    {
     "data": {
      "application/vnd.jupyter.widget-view+json": {
       "model_id": "8a1f791fbbe743e4a6c8ebbcee86a69b",
       "version_major": 2,
       "version_minor": 0
      },
      "text/plain": [
       "  0%|          | 0/2500 [00:00<?, ?it/s]"
      ]
     },
     "metadata": {},
     "output_type": "display_data"
    },
    {
     "name": "stderr",
     "output_type": "stream",
     "text": [
      "Sampling time = 0:00:03.126896\n",
      "Transforming variables...\n",
      "Transformation time = 0:00:18.949644\n"
     ]
    },
    {
     "name": "stdout",
     "output_type": "stream",
     "text": [
      "Model: king99_pareto_modification\n",
      "        Computed from the raw b_i samples by multiplying by population and then getting\n",
      "        the proportion of the total pop (total pop=summed across all districts):\n",
      "        The posterior mean for the district-level voting preference of\n",
      "        $100,000-$125,000 for Wes Moore (Democratic Party) is\n",
      "        0.829\n",
      "        The posterior mean for the district-level voting preference of\n",
      "        non-$100,000-$125,000 for Wes Moore (Democratic Party) is\n",
      "        0.674\n",
      "        95% equal-tailed Bayesian credible interval for district-level voting preference of\n",
      "        $100,000-$125,000 for Wes Moore (Democratic Party) is\n",
      "        [0.6194836  0.96331671]\n",
      "        95% equal-tailed Bayesian credible interval for district-level voting preference of\n",
      "        non-$100,000-$125,000 for Wes Moore (Democratic Party) is\n",
      "        [0.65887102 0.696988  ]\n",
      "        \n"
     ]
    }
   ],
   "source": [
    "md_dem_100_125_ei, md_dem_100_125_summary = run_ecological_inference(\n",
    "    df=md_economic_merged_ei_df,\n",
    "    demographic_col=\"100K_125K_PERCENT\",\n",
    "    voting_col=\"DEMOCRATIC_PERCENT\",\n",
    "    total_votes_col=\"TOT_VOT\",\n",
    "    demographic_group_name=\"$100,000-$125,000\",\n",
    "    candidate_name=md_candidate_mapping['DEMOCRATIC']\n",
    ")"
   ]
  },
  {
   "cell_type": "code",
   "execution_count": 754,
   "metadata": {},
   "outputs": [
    {
     "name": "stderr",
     "output_type": "stream",
     "text": [
      "Compiling...\n",
      "Compilation time = 0:00:01.335962\n",
      "Sampling...\n"
     ]
    },
    {
     "data": {
      "application/vnd.jupyter.widget-view+json": {
       "model_id": "e044458da427492686c0e2841d890b5a",
       "version_major": 2,
       "version_minor": 0
      },
      "text/plain": [
       "  0%|          | 0/2500 [00:00<?, ?it/s]"
      ]
     },
     "metadata": {},
     "output_type": "display_data"
    },
    {
     "data": {
      "application/vnd.jupyter.widget-view+json": {
       "model_id": "2dc7aac573374cc7af33dbe53ae56b80",
       "version_major": 2,
       "version_minor": 0
      },
      "text/plain": [
       "  0%|          | 0/2500 [00:00<?, ?it/s]"
      ]
     },
     "metadata": {},
     "output_type": "display_data"
    },
    {
     "data": {
      "application/vnd.jupyter.widget-view+json": {
       "model_id": "4c5ab3eb95d14d7a8fab2102107ad4c3",
       "version_major": 2,
       "version_minor": 0
      },
      "text/plain": [
       "  0%|          | 0/2500 [00:00<?, ?it/s]"
      ]
     },
     "metadata": {},
     "output_type": "display_data"
    },
    {
     "data": {
      "application/vnd.jupyter.widget-view+json": {
       "model_id": "fca781c37cb546d4afa70836cfb604ae",
       "version_major": 2,
       "version_minor": 0
      },
      "text/plain": [
       "  0%|          | 0/2500 [00:00<?, ?it/s]"
      ]
     },
     "metadata": {},
     "output_type": "display_data"
    },
    {
     "name": "stderr",
     "output_type": "stream",
     "text": [
      "Sampling time = 0:00:02.744367\n",
      "Transforming variables...\n",
      "Transformation time = 0:00:12.837324\n"
     ]
    },
    {
     "name": "stdout",
     "output_type": "stream",
     "text": [
      "Model: king99_pareto_modification\n",
      "        Computed from the raw b_i samples by multiplying by population and then getting\n",
      "        the proportion of the total pop (total pop=summed across all districts):\n",
      "        The posterior mean for the district-level voting preference of\n",
      "        $100,000-$125,000 for Wes Moore (Democratic Party) is\n",
      "        0.761\n",
      "        The posterior mean for the district-level voting preference of\n",
      "        non-$100,000-$125,000 for Wes Moore (Democratic Party) is\n",
      "        0.657\n",
      "        95% equal-tailed Bayesian credible interval for district-level voting preference of\n",
      "        $100,000-$125,000 for Wes Moore (Democratic Party) is\n",
      "        [0.51887833 0.94741302]\n",
      "        95% equal-tailed Bayesian credible interval for district-level voting preference of\n",
      "        non-$100,000-$125,000 for Wes Moore (Democratic Party) is\n",
      "        [0.63885152 0.67933088]\n",
      "        \n"
     ]
    }
   ],
   "source": [
    "md_dem_100_125_ei_rural, md_dem_100_125_summar_rural = run_ecological_inference(\n",
    "    df=md_economic_merged_ei_rural_df,\n",
    "    demographic_col=\"100K_125K_PERCENT\",\n",
    "    voting_col=\"DEMOCRATIC_PERCENT\",\n",
    "    total_votes_col=\"TOT_VOT\",\n",
    "    demographic_group_name=\"$100,000-$125,000\",\n",
    "    candidate_name=md_candidate_mapping['DEMOCRATIC']\n",
    ")"
   ]
  },
  {
   "cell_type": "code",
   "execution_count": 755,
   "metadata": {},
   "outputs": [
    {
     "name": "stderr",
     "output_type": "stream",
     "text": [
      "Compiling...\n",
      "Compilation time = 0:00:01.266150\n",
      "Sampling...\n"
     ]
    },
    {
     "data": {
      "application/vnd.jupyter.widget-view+json": {
       "model_id": "399dd4e075744654ab16107def697e6e",
       "version_major": 2,
       "version_minor": 0
      },
      "text/plain": [
       "  0%|          | 0/2500 [00:00<?, ?it/s]"
      ]
     },
     "metadata": {},
     "output_type": "display_data"
    },
    {
     "data": {
      "application/vnd.jupyter.widget-view+json": {
       "model_id": "4fa93b342c8941d290a4f746493db841",
       "version_major": 2,
       "version_minor": 0
      },
      "text/plain": [
       "  0%|          | 0/2500 [00:00<?, ?it/s]"
      ]
     },
     "metadata": {},
     "output_type": "display_data"
    },
    {
     "data": {
      "application/vnd.jupyter.widget-view+json": {
       "model_id": "202460f677794a0ea1d2d6fec5a1149b",
       "version_major": 2,
       "version_minor": 0
      },
      "text/plain": [
       "  0%|          | 0/2500 [00:00<?, ?it/s]"
      ]
     },
     "metadata": {},
     "output_type": "display_data"
    },
    {
     "data": {
      "application/vnd.jupyter.widget-view+json": {
       "model_id": "50d77dffedb54f11846407bf093af4b6",
       "version_major": 2,
       "version_minor": 0
      },
      "text/plain": [
       "  0%|          | 0/2500 [00:00<?, ?it/s]"
      ]
     },
     "metadata": {},
     "output_type": "display_data"
    },
    {
     "name": "stderr",
     "output_type": "stream",
     "text": [
      "Sampling time = 0:00:03.310399\n",
      "Transforming variables...\n",
      "Transformation time = 0:00:22.241490\n"
     ]
    },
    {
     "name": "stdout",
     "output_type": "stream",
     "text": [
      "Model: king99_pareto_modification\n",
      "        Computed from the raw b_i samples by multiplying by population and then getting\n",
      "        the proportion of the total pop (total pop=summed across all districts):\n",
      "        The posterior mean for the district-level voting preference of\n",
      "        $100,000-$125,000 for Wes Moore (Democratic Party) is\n",
      "        0.802\n",
      "        The posterior mean for the district-level voting preference of\n",
      "        non-$100,000-$125,000 for Wes Moore (Democratic Party) is\n",
      "        0.623\n",
      "        95% equal-tailed Bayesian credible interval for district-level voting preference of\n",
      "        $100,000-$125,000 for Wes Moore (Democratic Party) is\n",
      "        [0.59138329 0.97333239]\n",
      "        95% equal-tailed Bayesian credible interval for district-level voting preference of\n",
      "        non-$100,000-$125,000 for Wes Moore (Democratic Party) is\n",
      "        [0.60240799 0.64787835]\n",
      "        \n"
     ]
    }
   ],
   "source": [
    "md_dem_100_125_ei_suburban, md_dem_100_125_summar_suburban = run_ecological_inference(\n",
    "    df=md_economic_merged_ei_suburban_df,\n",
    "    demographic_col=\"100K_125K_PERCENT\",\n",
    "    voting_col=\"DEMOCRATIC_PERCENT\",\n",
    "    total_votes_col=\"TOT_VOT\",\n",
    "    demographic_group_name=\"$100,000-$125,000\",\n",
    "    candidate_name=md_candidate_mapping['DEMOCRATIC']\n",
    ")"
   ]
  },
  {
   "cell_type": "code",
   "execution_count": 756,
   "metadata": {},
   "outputs": [
    {
     "name": "stderr",
     "output_type": "stream",
     "text": [
      "Compiling...\n",
      "Compilation time = 0:00:01.322199\n",
      "Sampling...\n"
     ]
    },
    {
     "data": {
      "application/vnd.jupyter.widget-view+json": {
       "model_id": "52565e90c68f401da2f6c3a394f064c5",
       "version_major": 2,
       "version_minor": 0
      },
      "text/plain": [
       "  0%|          | 0/2500 [00:00<?, ?it/s]"
      ]
     },
     "metadata": {},
     "output_type": "display_data"
    },
    {
     "data": {
      "application/vnd.jupyter.widget-view+json": {
       "model_id": "38c8168bf41148b3834d6c6db5829137",
       "version_major": 2,
       "version_minor": 0
      },
      "text/plain": [
       "  0%|          | 0/2500 [00:00<?, ?it/s]"
      ]
     },
     "metadata": {},
     "output_type": "display_data"
    },
    {
     "data": {
      "application/vnd.jupyter.widget-view+json": {
       "model_id": "4a4b59a84ea349348f8e219ca0d0e9f0",
       "version_major": 2,
       "version_minor": 0
      },
      "text/plain": [
       "  0%|          | 0/2500 [00:00<?, ?it/s]"
      ]
     },
     "metadata": {},
     "output_type": "display_data"
    },
    {
     "data": {
      "application/vnd.jupyter.widget-view+json": {
       "model_id": "72420bdfd13e4a2ca70317ff3ed00524",
       "version_major": 2,
       "version_minor": 0
      },
      "text/plain": [
       "  0%|          | 0/2500 [00:00<?, ?it/s]"
      ]
     },
     "metadata": {},
     "output_type": "display_data"
    },
    {
     "name": "stderr",
     "output_type": "stream",
     "text": [
      "Sampling time = 0:00:03.680414\n",
      "Transforming variables...\n",
      "Transformation time = 0:00:55.724125\n"
     ]
    },
    {
     "name": "stdout",
     "output_type": "stream",
     "text": [
      "Model: king99_pareto_modification\n",
      "        Computed from the raw b_i samples by multiplying by population and then getting\n",
      "        the proportion of the total pop (total pop=summed across all districts):\n",
      "        The posterior mean for the district-level voting preference of\n",
      "        $100,000-$125,000 for Wes Moore (Democratic Party) is\n",
      "        0.772\n",
      "        The posterior mean for the district-level voting preference of\n",
      "        non-$100,000-$125,000 for Wes Moore (Democratic Party) is\n",
      "        0.718\n",
      "        95% equal-tailed Bayesian credible interval for district-level voting preference of\n",
      "        $100,000-$125,000 for Wes Moore (Democratic Party) is\n",
      "        [0.5698382  0.93200045]\n",
      "        95% equal-tailed Bayesian credible interval for district-level voting preference of\n",
      "        non-$100,000-$125,000 for Wes Moore (Democratic Party) is\n",
      "        [0.69637902 0.74503761]\n",
      "        \n"
     ]
    }
   ],
   "source": [
    "md_dem_100_125_ei_urban, md_dem_100_125_summary_urban = run_ecological_inference(\n",
    "    df=md_economic_merged_ei_urban_df,\n",
    "    demographic_col=\"100K_125K_PERCENT\",\n",
    "    voting_col=\"DEMOCRATIC_PERCENT\",\n",
    "    total_votes_col=\"TOT_VOT\",\n",
    "    demographic_group_name=\"$100,000-$125,000\",\n",
    "    candidate_name=md_candidate_mapping['DEMOCRATIC']\n",
    ")"
   ]
  },
  {
   "cell_type": "code",
   "execution_count": 709,
   "metadata": {},
   "outputs": [
    {
     "name": "stderr",
     "output_type": "stream",
     "text": [
      "Compiling...\n",
      "Compilation time = 0:00:02.011252\n",
      "Sampling...\n"
     ]
    },
    {
     "data": {
      "application/vnd.jupyter.widget-view+json": {
       "model_id": "9b7b95fddb1d4b8c9c3cc448057bb2ef",
       "version_major": 2,
       "version_minor": 0
      },
      "text/plain": [
       "  0%|          | 0/2500 [00:00<?, ?it/s]"
      ]
     },
     "metadata": {},
     "output_type": "display_data"
    },
    {
     "data": {
      "application/vnd.jupyter.widget-view+json": {
       "model_id": "24314780cb5e488b96acf36e60beb0b8",
       "version_major": 2,
       "version_minor": 0
      },
      "text/plain": [
       "  0%|          | 0/2500 [00:00<?, ?it/s]"
      ]
     },
     "metadata": {},
     "output_type": "display_data"
    },
    {
     "data": {
      "application/vnd.jupyter.widget-view+json": {
       "model_id": "22580810b6f249ec95bebf7a43f160a5",
       "version_major": 2,
       "version_minor": 0
      },
      "text/plain": [
       "  0%|          | 0/2500 [00:00<?, ?it/s]"
      ]
     },
     "metadata": {},
     "output_type": "display_data"
    },
    {
     "data": {
      "application/vnd.jupyter.widget-view+json": {
       "model_id": "2833539a09ee423682f1320a399e7315",
       "version_major": 2,
       "version_minor": 0
      },
      "text/plain": [
       "  0%|          | 0/2500 [00:00<?, ?it/s]"
      ]
     },
     "metadata": {},
     "output_type": "display_data"
    },
    {
     "name": "stderr",
     "output_type": "stream",
     "text": [
      "Sampling time = 0:00:03.865863\n",
      "Transforming variables...\n",
      "Transformation time = 0:00:15.873665\n"
     ]
    },
    {
     "name": "stdout",
     "output_type": "stream",
     "text": [
      "Model: king99_pareto_modification\n",
      "        Computed from the raw b_i samples by multiplying by population and then getting\n",
      "        the proportion of the total pop (total pop=summed across all districts):\n",
      "        The posterior mean for the district-level voting preference of\n",
      "        $125,000-$150,000 for Wes Moore (Democratic Party) is\n",
      "        0.723\n",
      "        The posterior mean for the district-level voting preference of\n",
      "        non-$125,000-$150,000 for Wes Moore (Democratic Party) is\n",
      "        0.686\n",
      "        95% equal-tailed Bayesian credible interval for district-level voting preference of\n",
      "        $125,000-$150,000 for Wes Moore (Democratic Party) is\n",
      "        [0.49415062 0.94818529]\n",
      "        95% equal-tailed Bayesian credible interval for district-level voting preference of\n",
      "        non-$125,000-$150,000 for Wes Moore (Democratic Party) is\n",
      "        [0.66563652 0.70779986]\n",
      "        \n"
     ]
    }
   ],
   "source": [
    "md_dem_125_150_ei, md_dem_125_150_summary = run_ecological_inference(\n",
    "    df=md_economic_merged_ei_df,\n",
    "    demographic_col=\"125K_150K_PERCENT\",\n",
    "    voting_col=\"DEMOCRATIC_PERCENT\",\n",
    "    total_votes_col=\"TOT_VOT\",\n",
    "    demographic_group_name=\"$125,000-$150,000\",\n",
    "    candidate_name=md_candidate_mapping['DEMOCRATIC']\n",
    ")"
   ]
  },
  {
   "cell_type": "code",
   "execution_count": 710,
   "metadata": {},
   "outputs": [
    {
     "name": "stderr",
     "output_type": "stream",
     "text": [
      "Compiling...\n",
      "Compilation time = 0:00:11.688268\n",
      "Sampling...\n"
     ]
    },
    {
     "data": {
      "application/vnd.jupyter.widget-view+json": {
       "model_id": "2ed558bd3d27408bba1493b0f002292b",
       "version_major": 2,
       "version_minor": 0
      },
      "text/plain": [
       "  0%|          | 0/2500 [00:00<?, ?it/s]"
      ]
     },
     "metadata": {},
     "output_type": "display_data"
    },
    {
     "data": {
      "application/vnd.jupyter.widget-view+json": {
       "model_id": "bb3c73f0490a426a81f661802ff36c1a",
       "version_major": 2,
       "version_minor": 0
      },
      "text/plain": [
       "  0%|          | 0/2500 [00:00<?, ?it/s]"
      ]
     },
     "metadata": {},
     "output_type": "display_data"
    },
    {
     "data": {
      "application/vnd.jupyter.widget-view+json": {
       "model_id": "b4c470fd2ca34b1c825ee3fe780f22a8",
       "version_major": 2,
       "version_minor": 0
      },
      "text/plain": [
       "  0%|          | 0/2500 [00:00<?, ?it/s]"
      ]
     },
     "metadata": {},
     "output_type": "display_data"
    },
    {
     "data": {
      "application/vnd.jupyter.widget-view+json": {
       "model_id": "6fdca01bc7874e76b74bba313084cb43",
       "version_major": 2,
       "version_minor": 0
      },
      "text/plain": [
       "  0%|          | 0/2500 [00:00<?, ?it/s]"
      ]
     },
     "metadata": {},
     "output_type": "display_data"
    },
    {
     "name": "stderr",
     "output_type": "stream",
     "text": [
      "Sampling time = 0:00:02.789496\n",
      "Transforming variables...\n",
      "Transformation time = 0:00:13.380215\n"
     ]
    },
    {
     "name": "stdout",
     "output_type": "stream",
     "text": [
      "Model: king99_pareto_modification\n",
      "        Computed from the raw b_i samples by multiplying by population and then getting\n",
      "        the proportion of the total pop (total pop=summed across all districts):\n",
      "        The posterior mean for the district-level voting preference of\n",
      "        $125,000-$150,000 for Wes Moore (Democratic Party) is\n",
      "        0.722\n",
      "        The posterior mean for the district-level voting preference of\n",
      "        non-$125,000-$150,000 for Wes Moore (Democratic Party) is\n",
      "        0.659\n",
      "        95% equal-tailed Bayesian credible interval for district-level voting preference of\n",
      "        $125,000-$150,000 for Wes Moore (Democratic Party) is\n",
      "        [0.44776469 0.96938141]\n",
      "        95% equal-tailed Bayesian credible interval for district-level voting preference of\n",
      "        non-$125,000-$150,000 for Wes Moore (Democratic Party) is\n",
      "        [0.63585775 0.68469524]\n",
      "        \n"
     ]
    }
   ],
   "source": [
    "md_dem_125_150_ei_rural, md_dem_125_150_summary_rural = run_ecological_inference(\n",
    "    df=md_economic_merged_ei_rural_df,\n",
    "    demographic_col=\"125K_150K_PERCENT\",\n",
    "    voting_col=\"DEMOCRATIC_PERCENT\",\n",
    "    total_votes_col=\"TOT_VOT\",\n",
    "    demographic_group_name=\"$125,000-$150,000\",\n",
    "    candidate_name=md_candidate_mapping['DEMOCRATIC']\n",
    ")"
   ]
  },
  {
   "cell_type": "code",
   "execution_count": 711,
   "metadata": {},
   "outputs": [
    {
     "name": "stderr",
     "output_type": "stream",
     "text": [
      "Compiling...\n",
      "Compilation time = 0:00:01.329779\n",
      "Sampling...\n"
     ]
    },
    {
     "data": {
      "application/vnd.jupyter.widget-view+json": {
       "model_id": "c07aa7e1981a46e2a68fd085ea5ae45c",
       "version_major": 2,
       "version_minor": 0
      },
      "text/plain": [
       "  0%|          | 0/2500 [00:00<?, ?it/s]"
      ]
     },
     "metadata": {},
     "output_type": "display_data"
    },
    {
     "data": {
      "application/vnd.jupyter.widget-view+json": {
       "model_id": "87992e4fdfb04a468fa0f8970df755ab",
       "version_major": 2,
       "version_minor": 0
      },
      "text/plain": [
       "  0%|          | 0/2500 [00:00<?, ?it/s]"
      ]
     },
     "metadata": {},
     "output_type": "display_data"
    },
    {
     "data": {
      "application/vnd.jupyter.widget-view+json": {
       "model_id": "67e3ef2a79664dbc97820eb4bdf13d77",
       "version_major": 2,
       "version_minor": 0
      },
      "text/plain": [
       "  0%|          | 0/2500 [00:00<?, ?it/s]"
      ]
     },
     "metadata": {},
     "output_type": "display_data"
    },
    {
     "data": {
      "application/vnd.jupyter.widget-view+json": {
       "model_id": "1f40d47400c24c7c9c01a05cc88fcd72",
       "version_major": 2,
       "version_minor": 0
      },
      "text/plain": [
       "  0%|          | 0/2500 [00:00<?, ?it/s]"
      ]
     },
     "metadata": {},
     "output_type": "display_data"
    },
    {
     "name": "stderr",
     "output_type": "stream",
     "text": [
      "Sampling time = 0:00:02.742037\n",
      "Transforming variables...\n",
      "Transformation time = 0:00:29.200141\n"
     ]
    },
    {
     "name": "stdout",
     "output_type": "stream",
     "text": [
      "Model: king99_pareto_modification\n",
      "        Computed from the raw b_i samples by multiplying by population and then getting\n",
      "        the proportion of the total pop (total pop=summed across all districts):\n",
      "        The posterior mean for the district-level voting preference of\n",
      "        $125,000-$150,000 for Wes Moore (Democratic Party) is\n",
      "        0.743\n",
      "        The posterior mean for the district-level voting preference of\n",
      "        non-$125,000-$150,000 for Wes Moore (Democratic Party) is\n",
      "        0.633\n",
      "        95% equal-tailed Bayesian credible interval for district-level voting preference of\n",
      "        $125,000-$150,000 for Wes Moore (Democratic Party) is\n",
      "        [0.47194517 0.99131629]\n",
      "        95% equal-tailed Bayesian credible interval for district-level voting preference of\n",
      "        non-$125,000-$150,000 for Wes Moore (Democratic Party) is\n",
      "        [0.60971358 0.65808976]\n",
      "        \n"
     ]
    }
   ],
   "source": [
    "md_dem_125_150_ei_suburban, md_dem_125_150_summary_suburban = run_ecological_inference(\n",
    "    df=md_economic_merged_ei_suburban_df,\n",
    "    demographic_col=\"125K_150K_PERCENT\",\n",
    "    voting_col=\"DEMOCRATIC_PERCENT\",\n",
    "    total_votes_col=\"TOT_VOT\",\n",
    "    demographic_group_name=\"$125,000-$150,000\",\n",
    "    candidate_name=md_candidate_mapping['DEMOCRATIC']\n",
    ")"
   ]
  },
  {
   "cell_type": "code",
   "execution_count": 712,
   "metadata": {},
   "outputs": [
    {
     "name": "stderr",
     "output_type": "stream",
     "text": [
      "Compiling...\n",
      "Compilation time = 0:00:01.350904\n",
      "Sampling...\n"
     ]
    },
    {
     "data": {
      "application/vnd.jupyter.widget-view+json": {
       "model_id": "060b02261cd84eabbbc1e4e1bfc782bd",
       "version_major": 2,
       "version_minor": 0
      },
      "text/plain": [
       "  0%|          | 0/2500 [00:00<?, ?it/s]"
      ]
     },
     "metadata": {},
     "output_type": "display_data"
    },
    {
     "data": {
      "application/vnd.jupyter.widget-view+json": {
       "model_id": "9f2c171357e94a1881ffac7939c27b57",
       "version_major": 2,
       "version_minor": 0
      },
      "text/plain": [
       "  0%|          | 0/2500 [00:00<?, ?it/s]"
      ]
     },
     "metadata": {},
     "output_type": "display_data"
    },
    {
     "data": {
      "application/vnd.jupyter.widget-view+json": {
       "model_id": "e2f6c52181d8458fa39f8d52bf728da2",
       "version_major": 2,
       "version_minor": 0
      },
      "text/plain": [
       "  0%|          | 0/2500 [00:00<?, ?it/s]"
      ]
     },
     "metadata": {},
     "output_type": "display_data"
    },
    {
     "data": {
      "application/vnd.jupyter.widget-view+json": {
       "model_id": "3121751dc19a49b097d6d19d71fd37bf",
       "version_major": 2,
       "version_minor": 0
      },
      "text/plain": [
       "  0%|          | 0/2500 [00:00<?, ?it/s]"
      ]
     },
     "metadata": {},
     "output_type": "display_data"
    },
    {
     "name": "stderr",
     "output_type": "stream",
     "text": [
      "Sampling time = 0:00:02.654314\n",
      "Transforming variables...\n",
      "Transformation time = 0:00:32.602457\n"
     ]
    },
    {
     "name": "stdout",
     "output_type": "stream",
     "text": [
      "Model: king99_pareto_modification\n",
      "        Computed from the raw b_i samples by multiplying by population and then getting\n",
      "        the proportion of the total pop (total pop=summed across all districts):\n",
      "        The posterior mean for the district-level voting preference of\n",
      "        $125,000-$150,000 for Wes Moore (Democratic Party) is\n",
      "        0.614\n",
      "        The posterior mean for the district-level voting preference of\n",
      "        non-$125,000-$150,000 for Wes Moore (Democratic Party) is\n",
      "        0.735\n",
      "        95% equal-tailed Bayesian credible interval for district-level voting preference of\n",
      "        $125,000-$150,000 for Wes Moore (Democratic Party) is\n",
      "        [0.37970371 0.90719348]\n",
      "        95% equal-tailed Bayesian credible interval for district-level voting preference of\n",
      "        non-$125,000-$150,000 for Wes Moore (Democratic Party) is\n",
      "        [0.70551743 0.75796215]\n",
      "        \n"
     ]
    }
   ],
   "source": [
    "md_dem_125_150_ei_urban, md_dem_125_150_summary_urban = run_ecological_inference(\n",
    "    df=md_economic_merged_ei_urban_df,\n",
    "    demographic_col=\"125K_150K_PERCENT\",\n",
    "    voting_col=\"DEMOCRATIC_PERCENT\",\n",
    "    total_votes_col=\"TOT_VOT\",\n",
    "    demographic_group_name=\"$125,000-$150,000\",\n",
    "    candidate_name=md_candidate_mapping['DEMOCRATIC']\n",
    ")"
   ]
  },
  {
   "cell_type": "code",
   "execution_count": 713,
   "metadata": {},
   "outputs": [
    {
     "name": "stderr",
     "output_type": "stream",
     "text": [
      "Compiling...\n",
      "Compilation time = 0:00:01.576063\n",
      "Sampling...\n"
     ]
    },
    {
     "data": {
      "application/vnd.jupyter.widget-view+json": {
       "model_id": "0da6af92dc7f4f719c80664af1acf4a9",
       "version_major": 2,
       "version_minor": 0
      },
      "text/plain": [
       "  0%|          | 0/2500 [00:00<?, ?it/s]"
      ]
     },
     "metadata": {},
     "output_type": "display_data"
    },
    {
     "data": {
      "application/vnd.jupyter.widget-view+json": {
       "model_id": "e22357965742486186faca2e481f7e9f",
       "version_major": 2,
       "version_minor": 0
      },
      "text/plain": [
       "  0%|          | 0/2500 [00:00<?, ?it/s]"
      ]
     },
     "metadata": {},
     "output_type": "display_data"
    },
    {
     "data": {
      "application/vnd.jupyter.widget-view+json": {
       "model_id": "8b681ca080e24e99be8742921db7bace",
       "version_major": 2,
       "version_minor": 0
      },
      "text/plain": [
       "  0%|          | 0/2500 [00:00<?, ?it/s]"
      ]
     },
     "metadata": {},
     "output_type": "display_data"
    },
    {
     "data": {
      "application/vnd.jupyter.widget-view+json": {
       "model_id": "6a2c830afe5b4cc0a4607369a5eaccb0",
       "version_major": 2,
       "version_minor": 0
      },
      "text/plain": [
       "  0%|          | 0/2500 [00:00<?, ?it/s]"
      ]
     },
     "metadata": {},
     "output_type": "display_data"
    },
    {
     "name": "stderr",
     "output_type": "stream",
     "text": [
      "Sampling time = 0:00:03.146531\n",
      "Transforming variables...\n",
      "Transformation time = 0:00:30.205785\n"
     ]
    },
    {
     "name": "stdout",
     "output_type": "stream",
     "text": [
      "Model: king99_pareto_modification\n",
      "        Computed from the raw b_i samples by multiplying by population and then getting\n",
      "        the proportion of the total pop (total pop=summed across all districts):\n",
      "        The posterior mean for the district-level voting preference of\n",
      "        $150,000+ for Wes Moore (Democratic Party) is\n",
      "        0.758\n",
      "        The posterior mean for the district-level voting preference of\n",
      "        non-$150,000+ for Wes Moore (Democratic Party) is\n",
      "        0.656\n",
      "        95% equal-tailed Bayesian credible interval for district-level voting preference of\n",
      "        $150,000+ for Wes Moore (Democratic Party) is\n",
      "        [0.66445134 0.84856083]\n",
      "        95% equal-tailed Bayesian credible interval for district-level voting preference of\n",
      "        non-$150,000+ for Wes Moore (Democratic Party) is\n",
      "        [0.60200553 0.7095519 ]\n",
      "        \n"
     ]
    }
   ],
   "source": [
    "md_dem_150_more_ei, md_dem_150_more_summary = run_ecological_inference(\n",
    "    df=md_economic_merged_ei_df,\n",
    "    demographic_col=\"150K_MORE_PERCENT\",\n",
    "    voting_col=\"DEMOCRATIC_PERCENT\",\n",
    "    total_votes_col=\"TOT_VOT\",\n",
    "    demographic_group_name=\"$150,000+\",\n",
    "    candidate_name=md_candidate_mapping['DEMOCRATIC']\n",
    ")"
   ]
  },
  {
   "cell_type": "code",
   "execution_count": 714,
   "metadata": {},
   "outputs": [
    {
     "name": "stderr",
     "output_type": "stream",
     "text": [
      "Compiling...\n",
      "Compilation time = 0:00:01.270565\n",
      "Sampling...\n"
     ]
    },
    {
     "data": {
      "application/vnd.jupyter.widget-view+json": {
       "model_id": "4bd875a08f4143dea0216a07aecfaced",
       "version_major": 2,
       "version_minor": 0
      },
      "text/plain": [
       "  0%|          | 0/2500 [00:00<?, ?it/s]"
      ]
     },
     "metadata": {},
     "output_type": "display_data"
    },
    {
     "data": {
      "application/vnd.jupyter.widget-view+json": {
       "model_id": "f510ee2e65d9482ea74a2fa595e25aa3",
       "version_major": 2,
       "version_minor": 0
      },
      "text/plain": [
       "  0%|          | 0/2500 [00:00<?, ?it/s]"
      ]
     },
     "metadata": {},
     "output_type": "display_data"
    },
    {
     "data": {
      "application/vnd.jupyter.widget-view+json": {
       "model_id": "e04bb5821737412ba638fb02b076df1c",
       "version_major": 2,
       "version_minor": 0
      },
      "text/plain": [
       "  0%|          | 0/2500 [00:00<?, ?it/s]"
      ]
     },
     "metadata": {},
     "output_type": "display_data"
    },
    {
     "data": {
      "application/vnd.jupyter.widget-view+json": {
       "model_id": "d431458d00bb4491b90b197c51784227",
       "version_major": 2,
       "version_minor": 0
      },
      "text/plain": [
       "  0%|          | 0/2500 [00:00<?, ?it/s]"
      ]
     },
     "metadata": {},
     "output_type": "display_data"
    },
    {
     "name": "stderr",
     "output_type": "stream",
     "text": [
      "Sampling time = 0:00:02.659340\n",
      "Transforming variables...\n",
      "Transformation time = 0:00:17.920626\n"
     ]
    },
    {
     "name": "stdout",
     "output_type": "stream",
     "text": [
      "Model: king99_pareto_modification\n",
      "        Computed from the raw b_i samples by multiplying by population and then getting\n",
      "        the proportion of the total pop (total pop=summed across all districts):\n",
      "        The posterior mean for the district-level voting preference of\n",
      "        $150,000+ for Wes Moore (Democratic Party) is\n",
      "        0.625\n",
      "        The posterior mean for the district-level voting preference of\n",
      "        non-$150,000+ for Wes Moore (Democratic Party) is\n",
      "        0.686\n",
      "        95% equal-tailed Bayesian credible interval for district-level voting preference of\n",
      "        $150,000+ for Wes Moore (Democratic Party) is\n",
      "        [0.53650975 0.72316179]\n",
      "        95% equal-tailed Bayesian credible interval for district-level voting preference of\n",
      "        non-$150,000+ for Wes Moore (Democratic Party) is\n",
      "        [0.6337027  0.73144407]\n",
      "        \n"
     ]
    }
   ],
   "source": [
    "md_dem_150_more_ei_rural, md_dem_150_more_summary_rural = run_ecological_inference(\n",
    "    df=md_economic_merged_ei_rural_df,\n",
    "    demographic_col=\"150K_MORE_PERCENT\",\n",
    "    voting_col=\"DEMOCRATIC_PERCENT\",\n",
    "    total_votes_col=\"TOT_VOT\",\n",
    "    demographic_group_name=\"$150,000+\",\n",
    "    candidate_name=md_candidate_mapping['DEMOCRATIC']\n",
    ")"
   ]
  },
  {
   "cell_type": "code",
   "execution_count": 715,
   "metadata": {},
   "outputs": [
    {
     "name": "stderr",
     "output_type": "stream",
     "text": [
      "Compiling...\n",
      "Compilation time = 0:00:01.239774\n",
      "Sampling...\n"
     ]
    },
    {
     "data": {
      "application/vnd.jupyter.widget-view+json": {
       "model_id": "d20a8668a501482883917b15cbb63756",
       "version_major": 2,
       "version_minor": 0
      },
      "text/plain": [
       "  0%|          | 0/2500 [00:00<?, ?it/s]"
      ]
     },
     "metadata": {},
     "output_type": "display_data"
    },
    {
     "data": {
      "application/vnd.jupyter.widget-view+json": {
       "model_id": "a9f22c77d1b045beb414217c7cc54cf4",
       "version_major": 2,
       "version_minor": 0
      },
      "text/plain": [
       "  0%|          | 0/2500 [00:00<?, ?it/s]"
      ]
     },
     "metadata": {},
     "output_type": "display_data"
    },
    {
     "data": {
      "application/vnd.jupyter.widget-view+json": {
       "model_id": "5350c566e5174d5eacfc1c27a72e9a33",
       "version_major": 2,
       "version_minor": 0
      },
      "text/plain": [
       "  0%|          | 0/2500 [00:00<?, ?it/s]"
      ]
     },
     "metadata": {},
     "output_type": "display_data"
    },
    {
     "data": {
      "application/vnd.jupyter.widget-view+json": {
       "model_id": "320a41dc9fa644d2aa9d53e6eabc207a",
       "version_major": 2,
       "version_minor": 0
      },
      "text/plain": [
       "  0%|          | 0/2500 [00:00<?, ?it/s]"
      ]
     },
     "metadata": {},
     "output_type": "display_data"
    },
    {
     "name": "stderr",
     "output_type": "stream",
     "text": [
      "Sampling time = 0:00:02.662887\n",
      "Transforming variables...\n",
      "Transformation time = 0:00:38.057779\n"
     ]
    },
    {
     "name": "stdout",
     "output_type": "stream",
     "text": [
      "Model: king99_pareto_modification\n",
      "        Computed from the raw b_i samples by multiplying by population and then getting\n",
      "        the proportion of the total pop (total pop=summed across all districts):\n",
      "        The posterior mean for the district-level voting preference of\n",
      "        $150,000+ for Wes Moore (Democratic Party) is\n",
      "        0.703\n",
      "        The posterior mean for the district-level voting preference of\n",
      "        non-$150,000+ for Wes Moore (Democratic Party) is\n",
      "        0.609\n",
      "        95% equal-tailed Bayesian credible interval for district-level voting preference of\n",
      "        $150,000+ for Wes Moore (Democratic Party) is\n",
      "        [0.61751135 0.77944505]\n",
      "        95% equal-tailed Bayesian credible interval for district-level voting preference of\n",
      "        non-$150,000+ for Wes Moore (Democratic Party) is\n",
      "        [0.54454347 0.67481215]\n",
      "        \n"
     ]
    }
   ],
   "source": [
    "md_dem_150_more_ei_suburban, md_dem_150_more_summary_suburban = run_ecological_inference(\n",
    "    df=md_economic_merged_ei_suburban_df,\n",
    "    demographic_col=\"150K_MORE_PERCENT\",\n",
    "    voting_col=\"DEMOCRATIC_PERCENT\",\n",
    "    total_votes_col=\"TOT_VOT\",\n",
    "    demographic_group_name=\"$150,000+\",\n",
    "    candidate_name=md_candidate_mapping['DEMOCRATIC']\n",
    ")"
   ]
  },
  {
   "cell_type": "code",
   "execution_count": 716,
   "metadata": {},
   "outputs": [
    {
     "name": "stderr",
     "output_type": "stream",
     "text": [
      "Compiling...\n",
      "Compilation time = 0:00:01.651867\n",
      "Sampling...\n"
     ]
    },
    {
     "data": {
      "application/vnd.jupyter.widget-view+json": {
       "model_id": "68903a842160460aa7304e7755eb0a48",
       "version_major": 2,
       "version_minor": 0
      },
      "text/plain": [
       "  0%|          | 0/2500 [00:00<?, ?it/s]"
      ]
     },
     "metadata": {},
     "output_type": "display_data"
    },
    {
     "data": {
      "application/vnd.jupyter.widget-view+json": {
       "model_id": "f3ed4648851a4ccba64c0472831efc8c",
       "version_major": 2,
       "version_minor": 0
      },
      "text/plain": [
       "  0%|          | 0/2500 [00:00<?, ?it/s]"
      ]
     },
     "metadata": {},
     "output_type": "display_data"
    },
    {
     "data": {
      "application/vnd.jupyter.widget-view+json": {
       "model_id": "3f6e2ec33fcb4b3bb6cbc4122771772c",
       "version_major": 2,
       "version_minor": 0
      },
      "text/plain": [
       "  0%|          | 0/2500 [00:00<?, ?it/s]"
      ]
     },
     "metadata": {},
     "output_type": "display_data"
    },
    {
     "data": {
      "application/vnd.jupyter.widget-view+json": {
       "model_id": "285d3fdd14394565bedf5d51f45f8300",
       "version_major": 2,
       "version_minor": 0
      },
      "text/plain": [
       "  0%|          | 0/2500 [00:00<?, ?it/s]"
      ]
     },
     "metadata": {},
     "output_type": "display_data"
    },
    {
     "name": "stderr",
     "output_type": "stream",
     "text": [
      "Sampling time = 0:00:03.582196\n",
      "Transforming variables...\n",
      "Transformation time = 0:00:36.744696\n"
     ]
    },
    {
     "name": "stdout",
     "output_type": "stream",
     "text": [
      "Model: king99_pareto_modification\n",
      "        Computed from the raw b_i samples by multiplying by population and then getting\n",
      "        the proportion of the total pop (total pop=summed across all districts):\n",
      "        The posterior mean for the district-level voting preference of\n",
      "        $150,000+ for Wes Moore (Democratic Party) is\n",
      "        0.685\n",
      "        The posterior mean for the district-level voting preference of\n",
      "        non-$150,000+ for Wes Moore (Democratic Party) is\n",
      "        0.744\n",
      "        95% equal-tailed Bayesian credible interval for district-level voting preference of\n",
      "        $150,000+ for Wes Moore (Democratic Party) is\n",
      "        [0.59851215 0.77504965]\n",
      "        95% equal-tailed Bayesian credible interval for district-level voting preference of\n",
      "        non-$150,000+ for Wes Moore (Democratic Party) is\n",
      "        [0.69149887 0.79198651]\n",
      "        \n"
     ]
    }
   ],
   "source": [
    "md_dem_150_more_ei_urban, md_dem_150_more_summary_urban = run_ecological_inference(\n",
    "    df=md_economic_merged_ei_urban_df,\n",
    "    demographic_col=\"150K_MORE_PERCENT\",\n",
    "    voting_col=\"DEMOCRATIC_PERCENT\",\n",
    "    total_votes_col=\"TOT_VOT\",\n",
    "    demographic_group_name=\"$150,000+\",\n",
    "    candidate_name=md_candidate_mapping['DEMOCRATIC']\n",
    ")"
   ]
  },
  {
   "cell_type": "markdown",
   "metadata": {},
   "source": [
    "##### Rep Run"
   ]
  },
  {
   "cell_type": "code",
   "execution_count": 717,
   "metadata": {},
   "outputs": [
    {
     "name": "stderr",
     "output_type": "stream",
     "text": [
      "Compiling...\n",
      "Compilation time = 0:00:02.150152\n",
      "Sampling...\n"
     ]
    },
    {
     "data": {
      "application/vnd.jupyter.widget-view+json": {
       "model_id": "75de97c4e22b48638811ae44234544a2",
       "version_major": 2,
       "version_minor": 0
      },
      "text/plain": [
       "  0%|          | 0/2500 [00:00<?, ?it/s]"
      ]
     },
     "metadata": {},
     "output_type": "display_data"
    },
    {
     "data": {
      "application/vnd.jupyter.widget-view+json": {
       "model_id": "78bb56432c164db189ccce07120b1398",
       "version_major": 2,
       "version_minor": 0
      },
      "text/plain": [
       "  0%|          | 0/2500 [00:00<?, ?it/s]"
      ]
     },
     "metadata": {},
     "output_type": "display_data"
    },
    {
     "data": {
      "application/vnd.jupyter.widget-view+json": {
       "model_id": "de0c13fef4ed4cb381dd10a784b273d4",
       "version_major": 2,
       "version_minor": 0
      },
      "text/plain": [
       "  0%|          | 0/2500 [00:00<?, ?it/s]"
      ]
     },
     "metadata": {},
     "output_type": "display_data"
    },
    {
     "data": {
      "application/vnd.jupyter.widget-view+json": {
       "model_id": "ec648931310f4647986f4eb9b17aa7bf",
       "version_major": 2,
       "version_minor": 0
      },
      "text/plain": [
       "  0%|          | 0/2500 [00:00<?, ?it/s]"
      ]
     },
     "metadata": {},
     "output_type": "display_data"
    },
    {
     "name": "stderr",
     "output_type": "stream",
     "text": [
      "Sampling time = 0:00:02.617689\n",
      "Transforming variables...\n",
      "Transformation time = 0:00:29.770246\n"
     ]
    },
    {
     "name": "stdout",
     "output_type": "stream",
     "text": [
      "Model: king99_pareto_modification\n",
      "        Computed from the raw b_i samples by multiplying by population and then getting\n",
      "        the proportion of the total pop (total pop=summed across all districts):\n",
      "        The posterior mean for the district-level voting preference of\n",
      "        $0-$35,000 for Dan Cox (Republican Party) is\n",
      "        0.113\n",
      "        The posterior mean for the district-level voting preference of\n",
      "        non-$0-$35,000 for Dan Cox (Republican Party) is\n",
      "        0.343\n",
      "        95% equal-tailed Bayesian credible interval for district-level voting preference of\n",
      "        $0-$35,000 for Dan Cox (Republican Party) is\n",
      "        [0.03799092 0.21473924]\n",
      "        95% equal-tailed Bayesian credible interval for district-level voting preference of\n",
      "        non-$0-$35,000 for Dan Cox (Republican Party) is\n",
      "        [0.32608255 0.35658767]\n",
      "        \n"
     ]
    }
   ],
   "source": [
    "md_rep_0_35_ei, md_rep_0_35_summary = run_ecological_inference(\n",
    "    df=md_economic_merged_ei_df,\n",
    "    demographic_col=\"0_35K_PERCENT\",\n",
    "    voting_col=\"REPUBLICAN_PERCENT\",\n",
    "    total_votes_col=\"TOT_VOT\",\n",
    "    demographic_group_name=\"$0-$35,000\",\n",
    "    candidate_name=md_candidate_mapping['REPUBLICAN']\n",
    ")"
   ]
  },
  {
   "cell_type": "code",
   "execution_count": 718,
   "metadata": {},
   "outputs": [
    {
     "name": "stderr",
     "output_type": "stream",
     "text": [
      "Compiling...\n",
      "Compilation time = 0:00:01.316305\n",
      "Sampling...\n"
     ]
    },
    {
     "data": {
      "application/vnd.jupyter.widget-view+json": {
       "model_id": "845c3b91806d48d99ff737ffb1870bf5",
       "version_major": 2,
       "version_minor": 0
      },
      "text/plain": [
       "  0%|          | 0/2500 [00:00<?, ?it/s]"
      ]
     },
     "metadata": {},
     "output_type": "display_data"
    },
    {
     "data": {
      "application/vnd.jupyter.widget-view+json": {
       "model_id": "24c55b67083b49d7840ccf2537b42198",
       "version_major": 2,
       "version_minor": 0
      },
      "text/plain": [
       "  0%|          | 0/2500 [00:00<?, ?it/s]"
      ]
     },
     "metadata": {},
     "output_type": "display_data"
    },
    {
     "data": {
      "application/vnd.jupyter.widget-view+json": {
       "model_id": "646a164822c44f7795157b9c2982700a",
       "version_major": 2,
       "version_minor": 0
      },
      "text/plain": [
       "  0%|          | 0/2500 [00:00<?, ?it/s]"
      ]
     },
     "metadata": {},
     "output_type": "display_data"
    },
    {
     "data": {
      "application/vnd.jupyter.widget-view+json": {
       "model_id": "32ed732c3702492b9f5e76fabe1a5c96",
       "version_major": 2,
       "version_minor": 0
      },
      "text/plain": [
       "  0%|          | 0/2500 [00:00<?, ?it/s]"
      ]
     },
     "metadata": {},
     "output_type": "display_data"
    },
    {
     "name": "stderr",
     "output_type": "stream",
     "text": [
      "Sampling time = 0:00:02.928191\n",
      "Transforming variables...\n",
      "Transformation time = 0:00:25.356585\n"
     ]
    },
    {
     "name": "stdout",
     "output_type": "stream",
     "text": [
      "Model: king99_pareto_modification\n",
      "        Computed from the raw b_i samples by multiplying by population and then getting\n",
      "        the proportion of the total pop (total pop=summed across all districts):\n",
      "        The posterior mean for the district-level voting preference of\n",
      "        $0-$35,000 for Dan Cox (Republican Party) is\n",
      "        0.111\n",
      "        The posterior mean for the district-level voting preference of\n",
      "        non-$0-$35,000 for Dan Cox (Republican Party) is\n",
      "        0.362\n",
      "        95% equal-tailed Bayesian credible interval for district-level voting preference of\n",
      "        $0-$35,000 for Dan Cox (Republican Party) is\n",
      "        [0.0359683  0.20898201]\n",
      "        95% equal-tailed Bayesian credible interval for district-level voting preference of\n",
      "        non-$0-$35,000 for Dan Cox (Republican Party) is\n",
      "        [0.34448089 0.37554606]\n",
      "        \n"
     ]
    }
   ],
   "source": [
    "md_rep_0_35_ei_rural, md_rep_0_35_summary_rural = run_ecological_inference(\n",
    "    df=md_economic_merged_ei_rural_df,\n",
    "    demographic_col=\"0_35K_PERCENT\",\n",
    "    voting_col=\"REPUBLICAN_PERCENT\",\n",
    "    total_votes_col=\"TOT_VOT\",\n",
    "    demographic_group_name=\"$0-$35,000\",\n",
    "    candidate_name=md_candidate_mapping['REPUBLICAN']\n",
    ")"
   ]
  },
  {
   "cell_type": "code",
   "execution_count": 719,
   "metadata": {},
   "outputs": [
    {
     "name": "stderr",
     "output_type": "stream",
     "text": [
      "Compiling...\n",
      "Compilation time = 0:00:14.803699\n",
      "Sampling...\n"
     ]
    },
    {
     "data": {
      "application/vnd.jupyter.widget-view+json": {
       "model_id": "f36080cab4a744978401685c1b093bb1",
       "version_major": 2,
       "version_minor": 0
      },
      "text/plain": [
       "  0%|          | 0/2500 [00:00<?, ?it/s]"
      ]
     },
     "metadata": {},
     "output_type": "display_data"
    },
    {
     "data": {
      "application/vnd.jupyter.widget-view+json": {
       "model_id": "69e0c02f55c144d7b65ebdeeb98b9147",
       "version_major": 2,
       "version_minor": 0
      },
      "text/plain": [
       "  0%|          | 0/2500 [00:00<?, ?it/s]"
      ]
     },
     "metadata": {},
     "output_type": "display_data"
    },
    {
     "data": {
      "application/vnd.jupyter.widget-view+json": {
       "model_id": "ebb52440656b46ff9ad2d168985d34d4",
       "version_major": 2,
       "version_minor": 0
      },
      "text/plain": [
       "  0%|          | 0/2500 [00:00<?, ?it/s]"
      ]
     },
     "metadata": {},
     "output_type": "display_data"
    },
    {
     "data": {
      "application/vnd.jupyter.widget-view+json": {
       "model_id": "5a0f0f0390f7432ca57acef4144b9332",
       "version_major": 2,
       "version_minor": 0
      },
      "text/plain": [
       "  0%|          | 0/2500 [00:00<?, ?it/s]"
      ]
     },
     "metadata": {},
     "output_type": "display_data"
    },
    {
     "name": "stderr",
     "output_type": "stream",
     "text": [
      "Sampling time = 0:00:02.547864\n",
      "Transforming variables...\n",
      "Transformation time = 0:00:28.067273\n"
     ]
    },
    {
     "name": "stdout",
     "output_type": "stream",
     "text": [
      "Model: king99_pareto_modification\n",
      "        Computed from the raw b_i samples by multiplying by population and then getting\n",
      "        the proportion of the total pop (total pop=summed across all districts):\n",
      "        The posterior mean for the district-level voting preference of\n",
      "        $0-$35,000 for Dan Cox (Republican Party) is\n",
      "        0.167\n",
      "        The posterior mean for the district-level voting preference of\n",
      "        non-$0-$35,000 for Dan Cox (Republican Party) is\n",
      "        0.385\n",
      "        95% equal-tailed Bayesian credible interval for district-level voting preference of\n",
      "        $0-$35,000 for Dan Cox (Republican Party) is\n",
      "        [0.06169378 0.30268898]\n",
      "        95% equal-tailed Bayesian credible interval for district-level voting preference of\n",
      "        non-$0-$35,000 for Dan Cox (Republican Party) is\n",
      "        [0.36446964 0.40000445]\n",
      "        \n"
     ]
    }
   ],
   "source": [
    "md_rep_0_35_ei_suburban, md_rep_0_35_summary_suburban = run_ecological_inference(\n",
    "    df=md_economic_merged_ei_suburban_df,\n",
    "    demographic_col=\"0_35K_PERCENT\",\n",
    "    voting_col=\"REPUBLICAN_PERCENT\",\n",
    "    total_votes_col=\"TOT_VOT\",\n",
    "    demographic_group_name=\"$0-$35,000\",\n",
    "    candidate_name=md_candidate_mapping['REPUBLICAN']\n",
    ")"
   ]
  },
  {
   "cell_type": "code",
   "execution_count": 720,
   "metadata": {},
   "outputs": [
    {
     "name": "stderr",
     "output_type": "stream",
     "text": [
      "Compiling...\n",
      "Compilation time = 0:00:02.064719\n",
      "Sampling...\n"
     ]
    },
    {
     "data": {
      "application/vnd.jupyter.widget-view+json": {
       "model_id": "7986e26e9486413b813d26e7e1a00207",
       "version_major": 2,
       "version_minor": 0
      },
      "text/plain": [
       "  0%|          | 0/2500 [00:00<?, ?it/s]"
      ]
     },
     "metadata": {},
     "output_type": "display_data"
    },
    {
     "data": {
      "application/vnd.jupyter.widget-view+json": {
       "model_id": "85f097ef00f6419086aa69700b05d5e0",
       "version_major": 2,
       "version_minor": 0
      },
      "text/plain": [
       "  0%|          | 0/2500 [00:00<?, ?it/s]"
      ]
     },
     "metadata": {},
     "output_type": "display_data"
    },
    {
     "data": {
      "application/vnd.jupyter.widget-view+json": {
       "model_id": "e4ad8746e8184654ae4fb1c72c298e23",
       "version_major": 2,
       "version_minor": 0
      },
      "text/plain": [
       "  0%|          | 0/2500 [00:00<?, ?it/s]"
      ]
     },
     "metadata": {},
     "output_type": "display_data"
    },
    {
     "data": {
      "application/vnd.jupyter.widget-view+json": {
       "model_id": "a27c70f08ae545b78afa7bf1d2ddbd2f",
       "version_major": 2,
       "version_minor": 0
      },
      "text/plain": [
       "  0%|          | 0/2500 [00:00<?, ?it/s]"
      ]
     },
     "metadata": {},
     "output_type": "display_data"
    },
    {
     "name": "stderr",
     "output_type": "stream",
     "text": [
      "Sampling time = 0:00:03.961759\n",
      "Transforming variables...\n",
      "Transformation time = 0:00:44.686545\n"
     ]
    },
    {
     "name": "stdout",
     "output_type": "stream",
     "text": [
      "Model: king99_pareto_modification\n",
      "        Computed from the raw b_i samples by multiplying by population and then getting\n",
      "        the proportion of the total pop (total pop=summed across all districts):\n",
      "        The posterior mean for the district-level voting preference of\n",
      "        $0-$35,000 for Dan Cox (Republican Party) is\n",
      "        0.218\n",
      "        The posterior mean for the district-level voting preference of\n",
      "        non-$0-$35,000 for Dan Cox (Republican Party) is\n",
      "        0.286\n",
      "        95% equal-tailed Bayesian credible interval for district-level voting preference of\n",
      "        $0-$35,000 for Dan Cox (Republican Party) is\n",
      "        [0.05776459 0.39181351]\n",
      "        95% equal-tailed Bayesian credible interval for district-level voting preference of\n",
      "        non-$0-$35,000 for Dan Cox (Republican Party) is\n",
      "        [0.25996118 0.31017711]\n",
      "        \n"
     ]
    }
   ],
   "source": [
    "md_rep_0_35_ei_urban, md_rep_0_35_summary_urban = run_ecological_inference(\n",
    "    df=md_economic_merged_ei_urban_df,\n",
    "    demographic_col=\"0_35K_PERCENT\",\n",
    "    voting_col=\"REPUBLICAN_PERCENT\",\n",
    "    total_votes_col=\"TOT_VOT\",\n",
    "    demographic_group_name=\"$0-$35,000\",\n",
    "    candidate_name=md_candidate_mapping['REPUBLICAN']\n",
    ")"
   ]
  },
  {
   "cell_type": "code",
   "execution_count": 721,
   "metadata": {},
   "outputs": [
    {
     "name": "stderr",
     "output_type": "stream",
     "text": [
      "Compiling...\n",
      "Compilation time = 0:00:02.030145\n",
      "Sampling...\n"
     ]
    },
    {
     "data": {
      "application/vnd.jupyter.widget-view+json": {
       "model_id": "3a42ca6e7f43465bb43eb6fca32dc345",
       "version_major": 2,
       "version_minor": 0
      },
      "text/plain": [
       "  0%|          | 0/2500 [00:00<?, ?it/s]"
      ]
     },
     "metadata": {},
     "output_type": "display_data"
    },
    {
     "data": {
      "application/vnd.jupyter.widget-view+json": {
       "model_id": "5c64899d78a2462ea27bf3a01ae14d93",
       "version_major": 2,
       "version_minor": 0
      },
      "text/plain": [
       "  0%|          | 0/2500 [00:00<?, ?it/s]"
      ]
     },
     "metadata": {},
     "output_type": "display_data"
    },
    {
     "data": {
      "application/vnd.jupyter.widget-view+json": {
       "model_id": "f13099acec01492abe32cffd3620d33c",
       "version_major": 2,
       "version_minor": 0
      },
      "text/plain": [
       "  0%|          | 0/2500 [00:00<?, ?it/s]"
      ]
     },
     "metadata": {},
     "output_type": "display_data"
    },
    {
     "data": {
      "application/vnd.jupyter.widget-view+json": {
       "model_id": "339f7c02302d4fde82f3cc497f405404",
       "version_major": 2,
       "version_minor": 0
      },
      "text/plain": [
       "  0%|          | 0/2500 [00:00<?, ?it/s]"
      ]
     },
     "metadata": {},
     "output_type": "display_data"
    },
    {
     "name": "stderr",
     "output_type": "stream",
     "text": [
      "Sampling time = 0:00:03.246378\n",
      "Transforming variables...\n",
      "Transformation time = 0:00:18.824766\n"
     ]
    },
    {
     "name": "stdout",
     "output_type": "stream",
     "text": [
      "Model: king99_pareto_modification\n",
      "        Computed from the raw b_i samples by multiplying by population and then getting\n",
      "        the proportion of the total pop (total pop=summed across all districts):\n",
      "        The posterior mean for the district-level voting preference of\n",
      "        $35,000-$60,000 for Dan Cox (Republican Party) is\n",
      "        0.197\n",
      "        The posterior mean for the district-level voting preference of\n",
      "        non-$35,000-$60,000 for Dan Cox (Republican Party) is\n",
      "        0.328\n",
      "        95% equal-tailed Bayesian credible interval for district-level voting preference of\n",
      "        $35,000-$60,000 for Dan Cox (Republican Party) is\n",
      "        [0.0808652  0.34478285]\n",
      "        95% equal-tailed Bayesian credible interval for district-level voting preference of\n",
      "        non-$35,000-$60,000 for Dan Cox (Republican Party) is\n",
      "        [0.30923233 0.34334671]\n",
      "        \n"
     ]
    }
   ],
   "source": [
    "md_rep_35_60_ei, md_rep_35_60_summary = run_ecological_inference(\n",
    "    df=md_economic_merged_ei_df,\n",
    "    demographic_col=\"35K_60K_PERCENT\",\n",
    "    voting_col=\"REPUBLICAN_PERCENT\",\n",
    "    total_votes_col=\"TOT_VOT\",\n",
    "    demographic_group_name=\"$35,000-$60,000\",\n",
    "    candidate_name=md_candidate_mapping['REPUBLICAN']\n",
    ")"
   ]
  },
  {
   "cell_type": "code",
   "execution_count": 722,
   "metadata": {},
   "outputs": [
    {
     "name": "stderr",
     "output_type": "stream",
     "text": [
      "Compiling...\n",
      "Compilation time = 0:00:03.257683\n",
      "Sampling...\n"
     ]
    },
    {
     "data": {
      "application/vnd.jupyter.widget-view+json": {
       "model_id": "f47372b11f0448fc82301fd13f772ba3",
       "version_major": 2,
       "version_minor": 0
      },
      "text/plain": [
       "  0%|          | 0/2500 [00:00<?, ?it/s]"
      ]
     },
     "metadata": {},
     "output_type": "display_data"
    },
    {
     "data": {
      "application/vnd.jupyter.widget-view+json": {
       "model_id": "fac68b59e71c4795a1bbe112765594c9",
       "version_major": 2,
       "version_minor": 0
      },
      "text/plain": [
       "  0%|          | 0/2500 [00:00<?, ?it/s]"
      ]
     },
     "metadata": {},
     "output_type": "display_data"
    },
    {
     "data": {
      "application/vnd.jupyter.widget-view+json": {
       "model_id": "58e44f6530aa48a99f572f559798dae0",
       "version_major": 2,
       "version_minor": 0
      },
      "text/plain": [
       "  0%|          | 0/2500 [00:00<?, ?it/s]"
      ]
     },
     "metadata": {},
     "output_type": "display_data"
    },
    {
     "data": {
      "application/vnd.jupyter.widget-view+json": {
       "model_id": "90bf372bcd0746e8a15460eca2834ab4",
       "version_major": 2,
       "version_minor": 0
      },
      "text/plain": [
       "  0%|          | 0/2500 [00:00<?, ?it/s]"
      ]
     },
     "metadata": {},
     "output_type": "display_data"
    },
    {
     "name": "stderr",
     "output_type": "stream",
     "text": [
      "Sampling time = 0:00:03.945190\n",
      "Transforming variables...\n",
      "Transformation time = 0:00:42.645177\n"
     ]
    },
    {
     "name": "stdout",
     "output_type": "stream",
     "text": [
      "Model: king99_pareto_modification\n",
      "        Computed from the raw b_i samples by multiplying by population and then getting\n",
      "        the proportion of the total pop (total pop=summed across all districts):\n",
      "        The posterior mean for the district-level voting preference of\n",
      "        $35,000-$60,000 for Dan Cox (Republican Party) is\n",
      "        0.079\n",
      "        The posterior mean for the district-level voting preference of\n",
      "        non-$35,000-$60,000 for Dan Cox (Republican Party) is\n",
      "        0.362\n",
      "        95% equal-tailed Bayesian credible interval for district-level voting preference of\n",
      "        $35,000-$60,000 for Dan Cox (Republican Party) is\n",
      "        [0.00470281 0.19959469]\n",
      "        95% equal-tailed Bayesian credible interval for district-level voting preference of\n",
      "        non-$35,000-$60,000 for Dan Cox (Republican Party) is\n",
      "        [0.34738496 0.37200244]\n",
      "        \n"
     ]
    }
   ],
   "source": [
    "md_rep_35_60_ei_rural, md_rep_35_60_summary_rural = run_ecological_inference(\n",
    "    df=md_economic_merged_ei_rural_df,\n",
    "    demographic_col=\"35K_60K_PERCENT\",\n",
    "    voting_col=\"REPUBLICAN_PERCENT\",\n",
    "    total_votes_col=\"TOT_VOT\",\n",
    "    demographic_group_name=\"$35,000-$60,000\",\n",
    "    candidate_name=md_candidate_mapping['REPUBLICAN']\n",
    ")"
   ]
  },
  {
   "cell_type": "code",
   "execution_count": 723,
   "metadata": {},
   "outputs": [
    {
     "name": "stderr",
     "output_type": "stream",
     "text": [
      "Compiling...\n",
      "Compilation time = 0:00:01.673221\n",
      "Sampling...\n"
     ]
    },
    {
     "data": {
      "application/vnd.jupyter.widget-view+json": {
       "model_id": "be1647be031a4418b5468852bb3c81ee",
       "version_major": 2,
       "version_minor": 0
      },
      "text/plain": [
       "  0%|          | 0/2500 [00:00<?, ?it/s]"
      ]
     },
     "metadata": {},
     "output_type": "display_data"
    },
    {
     "data": {
      "application/vnd.jupyter.widget-view+json": {
       "model_id": "6f0cd549fe4f42a69ef4011ef352c371",
       "version_major": 2,
       "version_minor": 0
      },
      "text/plain": [
       "  0%|          | 0/2500 [00:00<?, ?it/s]"
      ]
     },
     "metadata": {},
     "output_type": "display_data"
    },
    {
     "data": {
      "application/vnd.jupyter.widget-view+json": {
       "model_id": "ab71f6075050442e9edae05c85df6ed4",
       "version_major": 2,
       "version_minor": 0
      },
      "text/plain": [
       "  0%|          | 0/2500 [00:00<?, ?it/s]"
      ]
     },
     "metadata": {},
     "output_type": "display_data"
    },
    {
     "data": {
      "application/vnd.jupyter.widget-view+json": {
       "model_id": "355feb9682dd44cfa706870a5f191c44",
       "version_major": 2,
       "version_minor": 0
      },
      "text/plain": [
       "  0%|          | 0/2500 [00:00<?, ?it/s]"
      ]
     },
     "metadata": {},
     "output_type": "display_data"
    },
    {
     "name": "stderr",
     "output_type": "stream",
     "text": [
      "Sampling time = 0:00:03.988960\n",
      "Transforming variables...\n",
      "Transformation time = 0:00:24.943919\n"
     ]
    },
    {
     "name": "stdout",
     "output_type": "stream",
     "text": [
      "Model: king99_pareto_modification\n",
      "        Computed from the raw b_i samples by multiplying by population and then getting\n",
      "        the proportion of the total pop (total pop=summed across all districts):\n",
      "        The posterior mean for the district-level voting preference of\n",
      "        $35,000-$60,000 for Dan Cox (Republican Party) is\n",
      "        0.169\n",
      "        The posterior mean for the district-level voting preference of\n",
      "        non-$35,000-$60,000 for Dan Cox (Republican Party) is\n",
      "        0.382\n",
      "        95% equal-tailed Bayesian credible interval for district-level voting preference of\n",
      "        $35,000-$60,000 for Dan Cox (Republican Party) is\n",
      "        [0.03423453 0.32645331]\n",
      "        95% equal-tailed Bayesian credible interval for district-level voting preference of\n",
      "        non-$35,000-$60,000 for Dan Cox (Republican Party) is\n",
      "        [0.3630765  0.39825107]\n",
      "        \n"
     ]
    }
   ],
   "source": [
    "md_rep_35_60_ei_suburban, md_rep_35_60_summary_suburban = run_ecological_inference(\n",
    "    df=md_economic_merged_ei_suburban_df,\n",
    "    demographic_col=\"35K_60K_PERCENT\",\n",
    "    voting_col=\"REPUBLICAN_PERCENT\",\n",
    "    total_votes_col=\"TOT_VOT\",\n",
    "    demographic_group_name=\"$35,000-$60,000\",\n",
    "    candidate_name=md_candidate_mapping['REPUBLICAN']\n",
    ")"
   ]
  },
  {
   "cell_type": "code",
   "execution_count": 724,
   "metadata": {},
   "outputs": [
    {
     "name": "stderr",
     "output_type": "stream",
     "text": [
      "Compiling...\n",
      "Compilation time = 0:00:02.012042\n",
      "Sampling...\n"
     ]
    },
    {
     "data": {
      "application/vnd.jupyter.widget-view+json": {
       "model_id": "58a90fb66a2247ada69885d91782f821",
       "version_major": 2,
       "version_minor": 0
      },
      "text/plain": [
       "  0%|          | 0/2500 [00:00<?, ?it/s]"
      ]
     },
     "metadata": {},
     "output_type": "display_data"
    },
    {
     "data": {
      "application/vnd.jupyter.widget-view+json": {
       "model_id": "a625963f71344eefb2f50ce44eca8b08",
       "version_major": 2,
       "version_minor": 0
      },
      "text/plain": [
       "  0%|          | 0/2500 [00:00<?, ?it/s]"
      ]
     },
     "metadata": {},
     "output_type": "display_data"
    },
    {
     "data": {
      "application/vnd.jupyter.widget-view+json": {
       "model_id": "16ac361294b546ffb2797bca03501c89",
       "version_major": 2,
       "version_minor": 0
      },
      "text/plain": [
       "  0%|          | 0/2500 [00:00<?, ?it/s]"
      ]
     },
     "metadata": {},
     "output_type": "display_data"
    },
    {
     "data": {
      "application/vnd.jupyter.widget-view+json": {
       "model_id": "6691156d48554a68876800fbf4b05531",
       "version_major": 2,
       "version_minor": 0
      },
      "text/plain": [
       "  0%|          | 0/2500 [00:00<?, ?it/s]"
      ]
     },
     "metadata": {},
     "output_type": "display_data"
    },
    {
     "name": "stderr",
     "output_type": "stream",
     "text": [
      "Sampling time = 0:00:02.948926\n",
      "Transforming variables...\n",
      "Transformation time = 0:00:34.580709\n"
     ]
    },
    {
     "name": "stdout",
     "output_type": "stream",
     "text": [
      "Model: king99_pareto_modification\n",
      "        Computed from the raw b_i samples by multiplying by population and then getting\n",
      "        the proportion of the total pop (total pop=summed across all districts):\n",
      "        The posterior mean for the district-level voting preference of\n",
      "        $35,000-$60,000 for Dan Cox (Republican Party) is\n",
      "        0.114\n",
      "        The posterior mean for the district-level voting preference of\n",
      "        non-$35,000-$60,000 for Dan Cox (Republican Party) is\n",
      "        0.298\n",
      "        95% equal-tailed Bayesian credible interval for district-level voting preference of\n",
      "        $35,000-$60,000 for Dan Cox (Republican Party) is\n",
      "        [0.01852002 0.27816682]\n",
      "        95% equal-tailed Bayesian credible interval for district-level voting preference of\n",
      "        non-$35,000-$60,000 for Dan Cox (Republican Party) is\n",
      "        [0.27659803 0.31162518]\n",
      "        \n"
     ]
    }
   ],
   "source": [
    "md_rep_35_60_ei_urban, md_rep_35_60_summary_urban = run_ecological_inference(\n",
    "    df=md_economic_merged_ei_urban_df,\n",
    "    demographic_col=\"35K_60K_PERCENT\",\n",
    "    voting_col=\"REPUBLICAN_PERCENT\",\n",
    "    total_votes_col=\"TOT_VOT\",\n",
    "    demographic_group_name=\"$35,000-$60,000\",\n",
    "    candidate_name=md_candidate_mapping['REPUBLICAN']\n",
    ")"
   ]
  },
  {
   "cell_type": "code",
   "execution_count": 769,
   "metadata": {},
   "outputs": [
    {
     "name": "stderr",
     "output_type": "stream",
     "text": [
      "Compiling...\n",
      "Compilation time = 0:00:01.808622\n",
      "Sampling...\n"
     ]
    },
    {
     "data": {
      "application/vnd.jupyter.widget-view+json": {
       "model_id": "5dd2de501c3245508f6230606c27e536",
       "version_major": 2,
       "version_minor": 0
      },
      "text/plain": [
       "  0%|          | 0/2500 [00:00<?, ?it/s]"
      ]
     },
     "metadata": {},
     "output_type": "display_data"
    },
    {
     "data": {
      "application/vnd.jupyter.widget-view+json": {
       "model_id": "b3d0991a912a4005b47b45dcfd7c86e8",
       "version_major": 2,
       "version_minor": 0
      },
      "text/plain": [
       "  0%|          | 0/2500 [00:00<?, ?it/s]"
      ]
     },
     "metadata": {},
     "output_type": "display_data"
    },
    {
     "data": {
      "application/vnd.jupyter.widget-view+json": {
       "model_id": "f5642c3fee324be9a5a65c80e29a743f",
       "version_major": 2,
       "version_minor": 0
      },
      "text/plain": [
       "  0%|          | 0/2500 [00:00<?, ?it/s]"
      ]
     },
     "metadata": {},
     "output_type": "display_data"
    },
    {
     "data": {
      "application/vnd.jupyter.widget-view+json": {
       "model_id": "9dfaa1ed1c584aa8a40733d07e813294",
       "version_major": 2,
       "version_minor": 0
      },
      "text/plain": [
       "  0%|          | 0/2500 [00:00<?, ?it/s]"
      ]
     },
     "metadata": {},
     "output_type": "display_data"
    },
    {
     "name": "stderr",
     "output_type": "stream",
     "text": [
      "Sampling time = 0:00:04.050619\n",
      "Transforming variables...\n",
      "Transformation time = 0:00:24.618431\n"
     ]
    },
    {
     "name": "stdout",
     "output_type": "stream",
     "text": [
      "Model: king99_pareto_modification\n",
      "        Computed from the raw b_i samples by multiplying by population and then getting\n",
      "        the proportion of the total pop (total pop=summed across all districts):\n",
      "        The posterior mean for the district-level voting preference of\n",
      "        $60,000-$100,000 for Dan Cox (Republican Party) is\n",
      "        0.196\n",
      "        The posterior mean for the district-level voting preference of\n",
      "        non-$60,000-$100,000 for Dan Cox (Republican Party) is\n",
      "        0.335\n",
      "        95% equal-tailed Bayesian credible interval for district-level voting preference of\n",
      "        $60,000-$100,000 for Dan Cox (Republican Party) is\n",
      "        [0.06033337 0.33880671]\n",
      "        95% equal-tailed Bayesian credible interval for district-level voting preference of\n",
      "        non-$60,000-$100,000 for Dan Cox (Republican Party) is\n",
      "        [0.30400217 0.36629281]\n",
      "        \n"
     ]
    }
   ],
   "source": [
    "md_rep_60_100_ei, md_rep_60_100_summary = run_ecological_inference(\n",
    "    df=md_economic_merged_ei_df,\n",
    "    demographic_col=\"60K_100K_PERCENT\",\n",
    "    voting_col=\"REPUBLICAN_PERCENT\",\n",
    "    total_votes_col=\"TOT_VOT\",\n",
    "    demographic_group_name=\"$60,000-$100,000\",\n",
    "    candidate_name=md_candidate_mapping['REPUBLICAN']\n",
    ")"
   ]
  },
  {
   "cell_type": "code",
   "execution_count": 768,
   "metadata": {},
   "outputs": [
    {
     "name": "stderr",
     "output_type": "stream",
     "text": [
      "Compiling...\n",
      "Compilation time = 0:00:02.669632\n",
      "Sampling...\n"
     ]
    },
    {
     "data": {
      "application/vnd.jupyter.widget-view+json": {
       "model_id": "984b847744874d2485817db039576e21",
       "version_major": 2,
       "version_minor": 0
      },
      "text/plain": [
       "  0%|          | 0/2500 [00:00<?, ?it/s]"
      ]
     },
     "metadata": {},
     "output_type": "display_data"
    },
    {
     "data": {
      "application/vnd.jupyter.widget-view+json": {
       "model_id": "b917afe493fe4b12959670eed8b1aebc",
       "version_major": 2,
       "version_minor": 0
      },
      "text/plain": [
       "  0%|          | 0/2500 [00:00<?, ?it/s]"
      ]
     },
     "metadata": {},
     "output_type": "display_data"
    },
    {
     "data": {
      "application/vnd.jupyter.widget-view+json": {
       "model_id": "b225a20d5537442e979a0bb7d7d3a911",
       "version_major": 2,
       "version_minor": 0
      },
      "text/plain": [
       "  0%|          | 0/2500 [00:00<?, ?it/s]"
      ]
     },
     "metadata": {},
     "output_type": "display_data"
    },
    {
     "data": {
      "application/vnd.jupyter.widget-view+json": {
       "model_id": "04642cb65ae643d5b591c9ad34ec78d6",
       "version_major": 2,
       "version_minor": 0
      },
      "text/plain": [
       "  0%|          | 0/2500 [00:00<?, ?it/s]"
      ]
     },
     "metadata": {},
     "output_type": "display_data"
    },
    {
     "name": "stderr",
     "output_type": "stream",
     "text": [
      "Sampling time = 0:00:04.927378\n",
      "Transforming variables...\n",
      "Transformation time = 0:00:55.624548\n"
     ]
    },
    {
     "name": "stdout",
     "output_type": "stream",
     "text": [
      "Model: king99_pareto_modification\n",
      "        Computed from the raw b_i samples by multiplying by population and then getting\n",
      "        the proportion of the total pop (total pop=summed across all districts):\n",
      "        The posterior mean for the district-level voting preference of\n",
      "        $60,000-$100,000 for Dan Cox (Republican Party) is\n",
      "        0.109\n",
      "        The posterior mean for the district-level voting preference of\n",
      "        non-$60,000-$100,000 for Dan Cox (Republican Party) is\n",
      "        0.368\n",
      "        95% equal-tailed Bayesian credible interval for district-level voting preference of\n",
      "        $60,000-$100,000 for Dan Cox (Republican Party) is\n",
      "        [0.02648234 0.21880212]\n",
      "        95% equal-tailed Bayesian credible interval for district-level voting preference of\n",
      "        non-$60,000-$100,000 for Dan Cox (Republican Party) is\n",
      "        [0.34884388 0.38309726]\n",
      "        \n"
     ]
    }
   ],
   "source": [
    "md_rep_60_100_ei_rural, md_rep_60_100_summary_rural = run_ecological_inference(\n",
    "    df=md_economic_merged_ei_rural_df,\n",
    "    demographic_col=\"60K_100K_PERCENT\",\n",
    "    voting_col=\"REPUBLICAN_PERCENT\",\n",
    "    total_votes_col=\"TOT_VOT\",\n",
    "    demographic_group_name=\"$60,000-$100,000\",\n",
    "    candidate_name=md_candidate_mapping['REPUBLICAN']\n",
    ")"
   ]
  },
  {
   "cell_type": "code",
   "execution_count": 767,
   "metadata": {},
   "outputs": [
    {
     "name": "stderr",
     "output_type": "stream",
     "text": [
      "Compiling...\n",
      "Compilation time = 0:00:21.025077\n",
      "Sampling...\n"
     ]
    },
    {
     "data": {
      "application/vnd.jupyter.widget-view+json": {
       "model_id": "941c2e3b1ff44aa083101c1b9c71d1d1",
       "version_major": 2,
       "version_minor": 0
      },
      "text/plain": [
       "  0%|          | 0/2500 [00:00<?, ?it/s]"
      ]
     },
     "metadata": {},
     "output_type": "display_data"
    },
    {
     "data": {
      "application/vnd.jupyter.widget-view+json": {
       "model_id": "15a3a6effff946a2befe650b4eba09ec",
       "version_major": 2,
       "version_minor": 0
      },
      "text/plain": [
       "  0%|          | 0/2500 [00:00<?, ?it/s]"
      ]
     },
     "metadata": {},
     "output_type": "display_data"
    },
    {
     "data": {
      "application/vnd.jupyter.widget-view+json": {
       "model_id": "3827ff92b1d645ccb1d52f420b37a9b3",
       "version_major": 2,
       "version_minor": 0
      },
      "text/plain": [
       "  0%|          | 0/2500 [00:00<?, ?it/s]"
      ]
     },
     "metadata": {},
     "output_type": "display_data"
    },
    {
     "data": {
      "application/vnd.jupyter.widget-view+json": {
       "model_id": "76cbb877777842849e99b16a3e516c2c",
       "version_major": 2,
       "version_minor": 0
      },
      "text/plain": [
       "  0%|          | 0/2500 [00:00<?, ?it/s]"
      ]
     },
     "metadata": {},
     "output_type": "display_data"
    },
    {
     "name": "stderr",
     "output_type": "stream",
     "text": [
      "Sampling time = 0:00:03.748548\n",
      "Transforming variables...\n",
      "Transformation time = 0:00:46.104194\n"
     ]
    },
    {
     "name": "stdout",
     "output_type": "stream",
     "text": [
      "Model: king99_pareto_modification\n",
      "        Computed from the raw b_i samples by multiplying by population and then getting\n",
      "        the proportion of the total pop (total pop=summed across all districts):\n",
      "        The posterior mean for the district-level voting preference of\n",
      "        $60,000-$100,000 for Dan Cox (Republican Party) is\n",
      "        0.174\n",
      "        The posterior mean for the district-level voting preference of\n",
      "        non-$60,000-$100,000 for Dan Cox (Republican Party) is\n",
      "        0.400\n",
      "        95% equal-tailed Bayesian credible interval for district-level voting preference of\n",
      "        $60,000-$100,000 for Dan Cox (Republican Party) is\n",
      "        [0.04080227 0.32049245]\n",
      "        95% equal-tailed Bayesian credible interval for district-level voting preference of\n",
      "        non-$60,000-$100,000 for Dan Cox (Republican Party) is\n",
      "        [0.36709128 0.43069341]\n",
      "        \n"
     ]
    }
   ],
   "source": [
    "md_rep_60_100_ei_suburban, md_rep_60_100_summary_suburban = run_ecological_inference(\n",
    "    df=md_economic_merged_ei_suburban_df,\n",
    "    demographic_col=\"60K_100K_PERCENT\",\n",
    "    voting_col=\"REPUBLICAN_PERCENT\",\n",
    "    total_votes_col=\"TOT_VOT\",\n",
    "    demographic_group_name=\"$60,000-$100,000\",\n",
    "    candidate_name=md_candidate_mapping['REPUBLICAN']\n",
    ")"
   ]
  },
  {
   "cell_type": "code",
   "execution_count": 766,
   "metadata": {},
   "outputs": [
    {
     "name": "stderr",
     "output_type": "stream",
     "text": [
      "Compiling...\n",
      "Compilation time = 0:00:01.720019\n",
      "Sampling...\n"
     ]
    },
    {
     "data": {
      "application/vnd.jupyter.widget-view+json": {
       "model_id": "7c9c54e421404d7b91859bc42333dd20",
       "version_major": 2,
       "version_minor": 0
      },
      "text/plain": [
       "  0%|          | 0/2500 [00:00<?, ?it/s]"
      ]
     },
     "metadata": {},
     "output_type": "display_data"
    },
    {
     "data": {
      "application/vnd.jupyter.widget-view+json": {
       "model_id": "5368256ca87348df82e673d5e7d6ac39",
       "version_major": 2,
       "version_minor": 0
      },
      "text/plain": [
       "  0%|          | 0/2500 [00:00<?, ?it/s]"
      ]
     },
     "metadata": {},
     "output_type": "display_data"
    },
    {
     "data": {
      "application/vnd.jupyter.widget-view+json": {
       "model_id": "a6770ea283184d039568e88de4544b0d",
       "version_major": 2,
       "version_minor": 0
      },
      "text/plain": [
       "  0%|          | 0/2500 [00:00<?, ?it/s]"
      ]
     },
     "metadata": {},
     "output_type": "display_data"
    },
    {
     "data": {
      "application/vnd.jupyter.widget-view+json": {
       "model_id": "ec44832e8b3b4b32979b11bbb8c1f13f",
       "version_major": 2,
       "version_minor": 0
      },
      "text/plain": [
       "  0%|          | 0/2500 [00:00<?, ?it/s]"
      ]
     },
     "metadata": {},
     "output_type": "display_data"
    },
    {
     "name": "stderr",
     "output_type": "stream",
     "text": [
      "Sampling time = 0:00:06.617516\n",
      "Transforming variables...\n",
      "Transformation time = 0:01:02.768482\n"
     ]
    },
    {
     "name": "stdout",
     "output_type": "stream",
     "text": [
      "Model: king99_pareto_modification\n",
      "        Computed from the raw b_i samples by multiplying by population and then getting\n",
      "        the proportion of the total pop (total pop=summed across all districts):\n",
      "        The posterior mean for the district-level voting preference of\n",
      "        $60,000-$100,000 for Dan Cox (Republican Party) is\n",
      "        0.106\n",
      "        The posterior mean for the district-level voting preference of\n",
      "        non-$60,000-$100,000 for Dan Cox (Republican Party) is\n",
      "        0.317\n",
      "        95% equal-tailed Bayesian credible interval for district-level voting preference of\n",
      "        $60,000-$100,000 for Dan Cox (Republican Party) is\n",
      "        [0.01365183 0.24924576]\n",
      "        95% equal-tailed Bayesian credible interval for district-level voting preference of\n",
      "        non-$60,000-$100,000 for Dan Cox (Republican Party) is\n",
      "        [0.28145978 0.34063168]\n",
      "        \n"
     ]
    }
   ],
   "source": [
    "md_rep_60_100_ei_urban, md_rep_60_100_summary_urban = run_ecological_inference(\n",
    "    df=md_economic_merged_ei_urban_df,\n",
    "    demographic_col=\"60K_100K_PERCENT\",\n",
    "    voting_col=\"REPUBLICAN_PERCENT\",\n",
    "    total_votes_col=\"TOT_VOT\",\n",
    "    demographic_group_name=\"$60,000-$100,000\",\n",
    "    candidate_name=md_candidate_mapping['REPUBLICAN']\n",
    ")"
   ]
  },
  {
   "cell_type": "code",
   "execution_count": 729,
   "metadata": {},
   "outputs": [
    {
     "name": "stderr",
     "output_type": "stream",
     "text": [
      "Compiling...\n",
      "Compilation time = 0:00:01.489014\n",
      "Sampling...\n"
     ]
    },
    {
     "data": {
      "application/vnd.jupyter.widget-view+json": {
       "model_id": "04425115c22044548849f793bcd7cb1a",
       "version_major": 2,
       "version_minor": 0
      },
      "text/plain": [
       "  0%|          | 0/2500 [00:00<?, ?it/s]"
      ]
     },
     "metadata": {},
     "output_type": "display_data"
    },
    {
     "data": {
      "application/vnd.jupyter.widget-view+json": {
       "model_id": "28b74837fa2f4d5c852ea8d1b589c7eb",
       "version_major": 2,
       "version_minor": 0
      },
      "text/plain": [
       "  0%|          | 0/2500 [00:00<?, ?it/s]"
      ]
     },
     "metadata": {},
     "output_type": "display_data"
    },
    {
     "data": {
      "application/vnd.jupyter.widget-view+json": {
       "model_id": "9442d630952e4069a33bdf528f3a1a93",
       "version_major": 2,
       "version_minor": 0
      },
      "text/plain": [
       "  0%|          | 0/2500 [00:00<?, ?it/s]"
      ]
     },
     "metadata": {},
     "output_type": "display_data"
    },
    {
     "data": {
      "application/vnd.jupyter.widget-view+json": {
       "model_id": "0538bc89aec6456c85c252078217d93b",
       "version_major": 2,
       "version_minor": 0
      },
      "text/plain": [
       "  0%|          | 0/2500 [00:00<?, ?it/s]"
      ]
     },
     "metadata": {},
     "output_type": "display_data"
    },
    {
     "name": "stderr",
     "output_type": "stream",
     "text": [
      "Sampling time = 0:00:02.861786\n",
      "Transforming variables...\n",
      "Transformation time = 0:01:01.059885\n"
     ]
    },
    {
     "name": "stdout",
     "output_type": "stream",
     "text": [
      "Model: king99_pareto_modification\n",
      "        Computed from the raw b_i samples by multiplying by population and then getting\n",
      "        the proportion of the total pop (total pop=summed across all districts):\n",
      "        The posterior mean for the district-level voting preference of\n",
      "        $100,000-$125,000 for Dan Cox (Republican Party) is\n",
      "        0.151\n",
      "        The posterior mean for the district-level voting preference of\n",
      "        non-$100,000-$125,000 for Dan Cox (Republican Party) is\n",
      "        0.328\n",
      "        95% equal-tailed Bayesian credible interval for district-level voting preference of\n",
      "        $100,000-$125,000 for Dan Cox (Republican Party) is\n",
      "        [0.02187282 0.35469768]\n",
      "        95% equal-tailed Bayesian credible interval for district-level voting preference of\n",
      "        non-$100,000-$125,000 for Dan Cox (Republican Party) is\n",
      "        [0.30585438 0.34296493]\n",
      "        \n"
     ]
    }
   ],
   "source": [
    "md_rep_100_125_ei, md_rep_100_125_summary = run_ecological_inference(\n",
    "    df=md_economic_merged_ei_df,\n",
    "    demographic_col=\"100K_125K_PERCENT\",\n",
    "    voting_col=\"REPUBLICAN_PERCENT\",\n",
    "    total_votes_col=\"TOT_VOT\",\n",
    "    demographic_group_name=\"$100,000-$125,000\",\n",
    "    candidate_name=md_candidate_mapping['REPUBLICAN']\n",
    ")"
   ]
  },
  {
   "cell_type": "code",
   "execution_count": 730,
   "metadata": {},
   "outputs": [
    {
     "name": "stderr",
     "output_type": "stream",
     "text": [
      "Compiling...\n",
      "Compilation time = 0:00:01.417226\n",
      "Sampling...\n"
     ]
    },
    {
     "data": {
      "application/vnd.jupyter.widget-view+json": {
       "model_id": "037d707a288a461bbf0ff1288fd134ac",
       "version_major": 2,
       "version_minor": 0
      },
      "text/plain": [
       "  0%|          | 0/2500 [00:00<?, ?it/s]"
      ]
     },
     "metadata": {},
     "output_type": "display_data"
    },
    {
     "data": {
      "application/vnd.jupyter.widget-view+json": {
       "model_id": "d2aef662994b4e13b13478433f83aae3",
       "version_major": 2,
       "version_minor": 0
      },
      "text/plain": [
       "  0%|          | 0/2500 [00:00<?, ?it/s]"
      ]
     },
     "metadata": {},
     "output_type": "display_data"
    },
    {
     "data": {
      "application/vnd.jupyter.widget-view+json": {
       "model_id": "0d687d8ca825431ea83b417f85951d0f",
       "version_major": 2,
       "version_minor": 0
      },
      "text/plain": [
       "  0%|          | 0/2500 [00:00<?, ?it/s]"
      ]
     },
     "metadata": {},
     "output_type": "display_data"
    },
    {
     "data": {
      "application/vnd.jupyter.widget-view+json": {
       "model_id": "3e732dc7abee476988cc19dae73044cd",
       "version_major": 2,
       "version_minor": 0
      },
      "text/plain": [
       "  0%|          | 0/2500 [00:00<?, ?it/s]"
      ]
     },
     "metadata": {},
     "output_type": "display_data"
    },
    {
     "name": "stderr",
     "output_type": "stream",
     "text": [
      "Sampling time = 0:00:03.183245\n",
      "Transforming variables...\n",
      "Transformation time = 0:00:13.702445\n"
     ]
    },
    {
     "name": "stdout",
     "output_type": "stream",
     "text": [
      "Model: king99_pareto_modification\n",
      "        Computed from the raw b_i samples by multiplying by population and then getting\n",
      "        the proportion of the total pop (total pop=summed across all districts):\n",
      "        The posterior mean for the district-level voting preference of\n",
      "        $100,000-$125,000 for Dan Cox (Republican Party) is\n",
      "        0.231\n",
      "        The posterior mean for the district-level voting preference of\n",
      "        non-$100,000-$125,000 for Dan Cox (Republican Party) is\n",
      "        0.344\n",
      "        95% equal-tailed Bayesian credible interval for district-level voting preference of\n",
      "        $100,000-$125,000 for Dan Cox (Republican Party) is\n",
      "        [0.0313237  0.46556773]\n",
      "        95% equal-tailed Bayesian credible interval for district-level voting preference of\n",
      "        non-$100,000-$125,000 for Dan Cox (Republican Party) is\n",
      "        [0.32143773 0.36288978]\n",
      "        \n"
     ]
    }
   ],
   "source": [
    "md_rep_100_125_ei_rural, md_rep_100_125_summary_rural = run_ecological_inference(\n",
    "    df=md_economic_merged_ei_rural_df,\n",
    "    demographic_col=\"100K_125K_PERCENT\",\n",
    "    voting_col=\"REPUBLICAN_PERCENT\",\n",
    "    total_votes_col=\"TOT_VOT\",\n",
    "    demographic_group_name=\"$100,000-$125,000\",\n",
    "    candidate_name=md_candidate_mapping['REPUBLICAN']\n",
    ")"
   ]
  },
  {
   "cell_type": "code",
   "execution_count": 731,
   "metadata": {},
   "outputs": [
    {
     "name": "stderr",
     "output_type": "stream",
     "text": [
      "Compiling...\n",
      "Compilation time = 0:00:01.410481\n",
      "Sampling...\n"
     ]
    },
    {
     "data": {
      "application/vnd.jupyter.widget-view+json": {
       "model_id": "e14f8bfbfe034f18b48104fa0a0e5a32",
       "version_major": 2,
       "version_minor": 0
      },
      "text/plain": [
       "  0%|          | 0/2500 [00:00<?, ?it/s]"
      ]
     },
     "metadata": {},
     "output_type": "display_data"
    },
    {
     "data": {
      "application/vnd.jupyter.widget-view+json": {
       "model_id": "4cf1cc60370f412685827b60990721c6",
       "version_major": 2,
       "version_minor": 0
      },
      "text/plain": [
       "  0%|          | 0/2500 [00:00<?, ?it/s]"
      ]
     },
     "metadata": {},
     "output_type": "display_data"
    },
    {
     "data": {
      "application/vnd.jupyter.widget-view+json": {
       "model_id": "df84d96a8f134e11b4cc0086ee2a23bb",
       "version_major": 2,
       "version_minor": 0
      },
      "text/plain": [
       "  0%|          | 0/2500 [00:00<?, ?it/s]"
      ]
     },
     "metadata": {},
     "output_type": "display_data"
    },
    {
     "data": {
      "application/vnd.jupyter.widget-view+json": {
       "model_id": "45c35b60239540e29abdf3146a3761df",
       "version_major": 2,
       "version_minor": 0
      },
      "text/plain": [
       "  0%|          | 0/2500 [00:00<?, ?it/s]"
      ]
     },
     "metadata": {},
     "output_type": "display_data"
    },
    {
     "name": "stderr",
     "output_type": "stream",
     "text": [
      "Sampling time = 0:00:02.709282\n",
      "Transforming variables...\n",
      "Transformation time = 0:00:23.021570\n"
     ]
    },
    {
     "name": "stdout",
     "output_type": "stream",
     "text": [
      "Model: king99_pareto_modification\n",
      "        Computed from the raw b_i samples by multiplying by population and then getting\n",
      "        the proportion of the total pop (total pop=summed across all districts):\n",
      "        The posterior mean for the district-level voting preference of\n",
      "        $100,000-$125,000 for Dan Cox (Republican Party) is\n",
      "        0.178\n",
      "        The posterior mean for the district-level voting preference of\n",
      "        non-$100,000-$125,000 for Dan Cox (Republican Party) is\n",
      "        0.379\n",
      "        95% equal-tailed Bayesian credible interval for district-level voting preference of\n",
      "        $100,000-$125,000 for Dan Cox (Republican Party) is\n",
      "        [0.02174159 0.43918236]\n",
      "        95% equal-tailed Bayesian credible interval for district-level voting preference of\n",
      "        non-$100,000-$125,000 for Dan Cox (Republican Party) is\n",
      "        [0.34871338 0.39812992]\n",
      "        \n"
     ]
    }
   ],
   "source": [
    "md_rep_100_125_ei_suburban, md_rep_100_125_summary_suburban = run_ecological_inference(\n",
    "    df=md_economic_merged_ei_suburban_df,\n",
    "    demographic_col=\"100K_125K_PERCENT\",\n",
    "    voting_col=\"REPUBLICAN_PERCENT\",\n",
    "    total_votes_col=\"TOT_VOT\",\n",
    "    demographic_group_name=\"$100,000-$125,000\",\n",
    "    candidate_name=md_candidate_mapping['REPUBLICAN']\n",
    ")"
   ]
  },
  {
   "cell_type": "code",
   "execution_count": 732,
   "metadata": {},
   "outputs": [
    {
     "name": "stderr",
     "output_type": "stream",
     "text": [
      "Compiling...\n",
      "Compilation time = 0:00:01.639476\n",
      "Sampling...\n"
     ]
    },
    {
     "data": {
      "application/vnd.jupyter.widget-view+json": {
       "model_id": "4aba063f73024389af1e36504cb0c952",
       "version_major": 2,
       "version_minor": 0
      },
      "text/plain": [
       "  0%|          | 0/2500 [00:00<?, ?it/s]"
      ]
     },
     "metadata": {},
     "output_type": "display_data"
    },
    {
     "data": {
      "application/vnd.jupyter.widget-view+json": {
       "model_id": "302e8f4cf70041f68428cc0b13aaad51",
       "version_major": 2,
       "version_minor": 0
      },
      "text/plain": [
       "  0%|          | 0/2500 [00:00<?, ?it/s]"
      ]
     },
     "metadata": {},
     "output_type": "display_data"
    },
    {
     "data": {
      "application/vnd.jupyter.widget-view+json": {
       "model_id": "5a04b5b432a7421c849ef4f61fb68faa",
       "version_major": 2,
       "version_minor": 0
      },
      "text/plain": [
       "  0%|          | 0/2500 [00:00<?, ?it/s]"
      ]
     },
     "metadata": {},
     "output_type": "display_data"
    },
    {
     "data": {
      "application/vnd.jupyter.widget-view+json": {
       "model_id": "264f208bd0404455b0f965f454013fe8",
       "version_major": 2,
       "version_minor": 0
      },
      "text/plain": [
       "  0%|          | 0/2500 [00:00<?, ?it/s]"
      ]
     },
     "metadata": {},
     "output_type": "display_data"
    },
    {
     "name": "stderr",
     "output_type": "stream",
     "text": [
      "Sampling time = 0:00:02.411534\n",
      "Transforming variables...\n",
      "Transformation time = 0:00:27.373664\n"
     ]
    },
    {
     "name": "stdout",
     "output_type": "stream",
     "text": [
      "Model: king99_pareto_modification\n",
      "        Computed from the raw b_i samples by multiplying by population and then getting\n",
      "        the proportion of the total pop (total pop=summed across all districts):\n",
      "        The posterior mean for the district-level voting preference of\n",
      "        $100,000-$125,000 for Dan Cox (Republican Party) is\n",
      "        0.216\n",
      "        The posterior mean for the district-level voting preference of\n",
      "        non-$100,000-$125,000 for Dan Cox (Republican Party) is\n",
      "        0.284\n",
      "        95% equal-tailed Bayesian credible interval for district-level voting preference of\n",
      "        $100,000-$125,000 for Dan Cox (Republican Party) is\n",
      "        [0.07102114 0.40840064]\n",
      "        95% equal-tailed Bayesian credible interval for district-level voting preference of\n",
      "        non-$100,000-$125,000 for Dan Cox (Republican Party) is\n",
      "        [0.25779185 0.30344076]\n",
      "        \n"
     ]
    }
   ],
   "source": [
    "md_rep_100_125_ei_urban, md_rep_100_125_summary_urban = run_ecological_inference(\n",
    "    df=md_economic_merged_ei_urban_df,\n",
    "    demographic_col=\"100K_125K_PERCENT\",\n",
    "    voting_col=\"REPUBLICAN_PERCENT\",\n",
    "    total_votes_col=\"TOT_VOT\",\n",
    "    demographic_group_name=\"$100,000-$125,000\",\n",
    "    candidate_name=md_candidate_mapping['REPUBLICAN']\n",
    ")"
   ]
  },
  {
   "cell_type": "code",
   "execution_count": 733,
   "metadata": {},
   "outputs": [
    {
     "name": "stderr",
     "output_type": "stream",
     "text": [
      "Compiling...\n",
      "Compilation time = 0:00:01.762337\n",
      "Sampling...\n"
     ]
    },
    {
     "data": {
      "application/vnd.jupyter.widget-view+json": {
       "model_id": "df30b744d1d84d12ada729f7949b6f1c",
       "version_major": 2,
       "version_minor": 0
      },
      "text/plain": [
       "  0%|          | 0/2500 [00:00<?, ?it/s]"
      ]
     },
     "metadata": {},
     "output_type": "display_data"
    },
    {
     "data": {
      "application/vnd.jupyter.widget-view+json": {
       "model_id": "5596f9bf22be4208bc4a730de32845ca",
       "version_major": 2,
       "version_minor": 0
      },
      "text/plain": [
       "  0%|          | 0/2500 [00:00<?, ?it/s]"
      ]
     },
     "metadata": {},
     "output_type": "display_data"
    },
    {
     "data": {
      "application/vnd.jupyter.widget-view+json": {
       "model_id": "6fbbb8b3a48d4bd897ba66ed586d6caf",
       "version_major": 2,
       "version_minor": 0
      },
      "text/plain": [
       "  0%|          | 0/2500 [00:00<?, ?it/s]"
      ]
     },
     "metadata": {},
     "output_type": "display_data"
    },
    {
     "data": {
      "application/vnd.jupyter.widget-view+json": {
       "model_id": "deeada5902c54a52bf06fcc72d66aa28",
       "version_major": 2,
       "version_minor": 0
      },
      "text/plain": [
       "  0%|          | 0/2500 [00:00<?, ?it/s]"
      ]
     },
     "metadata": {},
     "output_type": "display_data"
    },
    {
     "name": "stderr",
     "output_type": "stream",
     "text": [
      "Sampling time = 0:00:02.247009\n",
      "Transforming variables...\n",
      "Transformation time = 0:00:38.827944\n"
     ]
    },
    {
     "name": "stdout",
     "output_type": "stream",
     "text": [
      "Model: king99_pareto_modification\n",
      "        Computed from the raw b_i samples by multiplying by population and then getting\n",
      "        the proportion of the total pop (total pop=summed across all districts):\n",
      "        The posterior mean for the district-level voting preference of\n",
      "        $125,000-$150,000 for Dan Cox (Republican Party) is\n",
      "        0.277\n",
      "        The posterior mean for the district-level voting preference of\n",
      "        non-$125,000-$150,000 for Dan Cox (Republican Party) is\n",
      "        0.313\n",
      "        95% equal-tailed Bayesian credible interval for district-level voting preference of\n",
      "        $125,000-$150,000 for Dan Cox (Republican Party) is\n",
      "        [0.08350093 0.49090035]\n",
      "        95% equal-tailed Bayesian credible interval for district-level voting preference of\n",
      "        non-$125,000-$150,000 for Dan Cox (Republican Party) is\n",
      "        [0.29309969 0.33198322]\n",
      "        \n"
     ]
    }
   ],
   "source": [
    "md_rep_125_150_ei, md_rep_125_150_summary = run_ecological_inference(\n",
    "    df=md_economic_merged_ei_df,\n",
    "    demographic_col=\"125K_150K_PERCENT\",\n",
    "    voting_col=\"REPUBLICAN_PERCENT\",\n",
    "    total_votes_col=\"TOT_VOT\",\n",
    "    demographic_group_name=\"$125,000-$150,000\",\n",
    "    candidate_name=md_candidate_mapping['REPUBLICAN']\n",
    ")"
   ]
  },
  {
   "cell_type": "code",
   "execution_count": 734,
   "metadata": {},
   "outputs": [
    {
     "name": "stderr",
     "output_type": "stream",
     "text": [
      "Compiling...\n",
      "Compilation time = 0:00:01.260664\n",
      "Sampling...\n"
     ]
    },
    {
     "data": {
      "application/vnd.jupyter.widget-view+json": {
       "model_id": "43c7f33d82004fadb0c3a33bbaef4f18",
       "version_major": 2,
       "version_minor": 0
      },
      "text/plain": [
       "  0%|          | 0/2500 [00:00<?, ?it/s]"
      ]
     },
     "metadata": {},
     "output_type": "display_data"
    },
    {
     "data": {
      "application/vnd.jupyter.widget-view+json": {
       "model_id": "bfcf88f4ca92490588b7e660fe604dbf",
       "version_major": 2,
       "version_minor": 0
      },
      "text/plain": [
       "  0%|          | 0/2500 [00:00<?, ?it/s]"
      ]
     },
     "metadata": {},
     "output_type": "display_data"
    },
    {
     "data": {
      "application/vnd.jupyter.widget-view+json": {
       "model_id": "70b67eb77483440686dbc4a295972028",
       "version_major": 2,
       "version_minor": 0
      },
      "text/plain": [
       "  0%|          | 0/2500 [00:00<?, ?it/s]"
      ]
     },
     "metadata": {},
     "output_type": "display_data"
    },
    {
     "data": {
      "application/vnd.jupyter.widget-view+json": {
       "model_id": "e000dbfbf14d43fba8cca83dbf62e8c4",
       "version_major": 2,
       "version_minor": 0
      },
      "text/plain": [
       "  0%|          | 0/2500 [00:00<?, ?it/s]"
      ]
     },
     "metadata": {},
     "output_type": "display_data"
    },
    {
     "name": "stderr",
     "output_type": "stream",
     "text": [
      "Sampling time = 0:00:02.727307\n",
      "Transforming variables...\n",
      "Transformation time = 0:00:18.972099\n"
     ]
    },
    {
     "name": "stdout",
     "output_type": "stream",
     "text": [
      "Model: king99_pareto_modification\n",
      "        Computed from the raw b_i samples by multiplying by population and then getting\n",
      "        the proportion of the total pop (total pop=summed across all districts):\n",
      "        The posterior mean for the district-level voting preference of\n",
      "        $125,000-$150,000 for Dan Cox (Republican Party) is\n",
      "        0.308\n",
      "        The posterior mean for the district-level voting preference of\n",
      "        non-$125,000-$150,000 for Dan Cox (Republican Party) is\n",
      "        0.338\n",
      "        95% equal-tailed Bayesian credible interval for district-level voting preference of\n",
      "        $125,000-$150,000 for Dan Cox (Republican Party) is\n",
      "        [0.10179396 0.57429252]\n",
      "        95% equal-tailed Bayesian credible interval for district-level voting preference of\n",
      "        non-$125,000-$150,000 for Dan Cox (Republican Party) is\n",
      "        [0.31235143 0.35801177]\n",
      "        \n"
     ]
    }
   ],
   "source": [
    "md_rep_125_150_ei_rural, md_rep_125_150_summary_rural = run_ecological_inference(\n",
    "    df=md_economic_merged_ei_rural_df,\n",
    "    demographic_col=\"125K_150K_PERCENT\",\n",
    "    voting_col=\"REPUBLICAN_PERCENT\",\n",
    "    total_votes_col=\"TOT_VOT\",\n",
    "    demographic_group_name=\"$125,000-$150,000\",\n",
    "    candidate_name=md_candidate_mapping['REPUBLICAN']\n",
    ")"
   ]
  },
  {
   "cell_type": "code",
   "execution_count": 735,
   "metadata": {},
   "outputs": [
    {
     "name": "stderr",
     "output_type": "stream",
     "text": [
      "Compiling...\n",
      "Compilation time = 0:00:01.719612\n",
      "Sampling...\n"
     ]
    },
    {
     "data": {
      "application/vnd.jupyter.widget-view+json": {
       "model_id": "14ab61db7cc24d2cbc6e624f8d6ac5d1",
       "version_major": 2,
       "version_minor": 0
      },
      "text/plain": [
       "  0%|          | 0/2500 [00:00<?, ?it/s]"
      ]
     },
     "metadata": {},
     "output_type": "display_data"
    },
    {
     "data": {
      "application/vnd.jupyter.widget-view+json": {
       "model_id": "148682dfd05147b091d01dacf4918b86",
       "version_major": 2,
       "version_minor": 0
      },
      "text/plain": [
       "  0%|          | 0/2500 [00:00<?, ?it/s]"
      ]
     },
     "metadata": {},
     "output_type": "display_data"
    },
    {
     "data": {
      "application/vnd.jupyter.widget-view+json": {
       "model_id": "678a7ceef9734d55a2b516444f3baf41",
       "version_major": 2,
       "version_minor": 0
      },
      "text/plain": [
       "  0%|          | 0/2500 [00:00<?, ?it/s]"
      ]
     },
     "metadata": {},
     "output_type": "display_data"
    },
    {
     "data": {
      "application/vnd.jupyter.widget-view+json": {
       "model_id": "1860ffd97fc24292b76da232375ff365",
       "version_major": 2,
       "version_minor": 0
      },
      "text/plain": [
       "  0%|          | 0/2500 [00:00<?, ?it/s]"
      ]
     },
     "metadata": {},
     "output_type": "display_data"
    },
    {
     "name": "stderr",
     "output_type": "stream",
     "text": [
      "Sampling time = 0:00:02.240073\n",
      "Transforming variables...\n",
      "Transformation time = 0:00:29.239567\n"
     ]
    },
    {
     "name": "stdout",
     "output_type": "stream",
     "text": [
      "Model: king99_pareto_modification\n",
      "        Computed from the raw b_i samples by multiplying by population and then getting\n",
      "        the proportion of the total pop (total pop=summed across all districts):\n",
      "        The posterior mean for the district-level voting preference of\n",
      "        $125,000-$150,000 for Dan Cox (Republican Party) is\n",
      "        0.213\n",
      "        The posterior mean for the district-level voting preference of\n",
      "        non-$125,000-$150,000 for Dan Cox (Republican Party) is\n",
      "        0.371\n",
      "        95% equal-tailed Bayesian credible interval for district-level voting preference of\n",
      "        $125,000-$150,000 for Dan Cox (Republican Party) is\n",
      "        [0.03589297 0.48651776]\n",
      "        95% equal-tailed Bayesian credible interval for district-level voting preference of\n",
      "        non-$125,000-$150,000 for Dan Cox (Republican Party) is\n",
      "        [0.34562047 0.38833135]\n",
      "        \n"
     ]
    }
   ],
   "source": [
    "md_rep_125_150_ei_suburban, md_rep_125_150_summary_suburban = run_ecological_inference(\n",
    "    df=md_economic_merged_ei_suburban_df,\n",
    "    demographic_col=\"125K_150K_PERCENT\",\n",
    "    voting_col=\"REPUBLICAN_PERCENT\",\n",
    "    total_votes_col=\"TOT_VOT\",\n",
    "    demographic_group_name=\"$125,000-$150,000\",\n",
    "    candidate_name=md_candidate_mapping['REPUBLICAN']\n",
    ")"
   ]
  },
  {
   "cell_type": "code",
   "execution_count": 736,
   "metadata": {},
   "outputs": [
    {
     "name": "stderr",
     "output_type": "stream",
     "text": [
      "Compiling...\n",
      "Compilation time = 0:00:01.291184\n",
      "Sampling...\n"
     ]
    },
    {
     "data": {
      "application/vnd.jupyter.widget-view+json": {
       "model_id": "09b0a046bdf94480af0dfd95f63c0b4e",
       "version_major": 2,
       "version_minor": 0
      },
      "text/plain": [
       "  0%|          | 0/2500 [00:00<?, ?it/s]"
      ]
     },
     "metadata": {},
     "output_type": "display_data"
    },
    {
     "data": {
      "application/vnd.jupyter.widget-view+json": {
       "model_id": "c77ebaa2c5c24f5f8315a805921a64d2",
       "version_major": 2,
       "version_minor": 0
      },
      "text/plain": [
       "  0%|          | 0/2500 [00:00<?, ?it/s]"
      ]
     },
     "metadata": {},
     "output_type": "display_data"
    },
    {
     "data": {
      "application/vnd.jupyter.widget-view+json": {
       "model_id": "dd961fc6495c43d7b866fb1edfda46b1",
       "version_major": 2,
       "version_minor": 0
      },
      "text/plain": [
       "  0%|          | 0/2500 [00:00<?, ?it/s]"
      ]
     },
     "metadata": {},
     "output_type": "display_data"
    },
    {
     "data": {
      "application/vnd.jupyter.widget-view+json": {
       "model_id": "1c8b0ca4d5ac4b38a76b9f75bd6b04d0",
       "version_major": 2,
       "version_minor": 0
      },
      "text/plain": [
       "  0%|          | 0/2500 [00:00<?, ?it/s]"
      ]
     },
     "metadata": {},
     "output_type": "display_data"
    },
    {
     "name": "stderr",
     "output_type": "stream",
     "text": [
      "Sampling time = 0:00:02.590256\n",
      "Transforming variables...\n",
      "Transformation time = 0:00:18.291955\n"
     ]
    },
    {
     "name": "stdout",
     "output_type": "stream",
     "text": [
      "Model: king99_pareto_modification\n",
      "        Computed from the raw b_i samples by multiplying by population and then getting\n",
      "        the proportion of the total pop (total pop=summed across all districts):\n",
      "        The posterior mean for the district-level voting preference of\n",
      "        $125,000-$150,000 for Dan Cox (Republican Party) is\n",
      "        0.430\n",
      "        The posterior mean for the district-level voting preference of\n",
      "        non-$125,000-$150,000 for Dan Cox (Republican Party) is\n",
      "        0.261\n",
      "        95% equal-tailed Bayesian credible interval for district-level voting preference of\n",
      "        $125,000-$150,000 for Dan Cox (Republican Party) is\n",
      "        [0.19427636 0.62225196]\n",
      "        95% equal-tailed Bayesian credible interval for district-level voting preference of\n",
      "        non-$125,000-$150,000 for Dan Cox (Republican Party) is\n",
      "        [0.24150747 0.28404444]\n",
      "        \n"
     ]
    }
   ],
   "source": [
    "md_rep_125_150_ei_urban, md_rep_125_150_summary_urban = run_ecological_inference(\n",
    "    df=md_economic_merged_ei_urban_df,\n",
    "    demographic_col=\"125K_150K_PERCENT\",\n",
    "    voting_col=\"REPUBLICAN_PERCENT\",\n",
    "    total_votes_col=\"TOT_VOT\",\n",
    "    demographic_group_name=\"$125,000-$150,000\",\n",
    "    candidate_name=md_candidate_mapping['REPUBLICAN']\n",
    ")"
   ]
  },
  {
   "cell_type": "code",
   "execution_count": 737,
   "metadata": {},
   "outputs": [
    {
     "name": "stderr",
     "output_type": "stream",
     "text": [
      "Compiling...\n",
      "Compilation time = 0:00:14.780634\n",
      "Sampling...\n"
     ]
    },
    {
     "data": {
      "application/vnd.jupyter.widget-view+json": {
       "model_id": "e2ab0967ae154eb5a5f15689ceeab640",
       "version_major": 2,
       "version_minor": 0
      },
      "text/plain": [
       "  0%|          | 0/2500 [00:00<?, ?it/s]"
      ]
     },
     "metadata": {},
     "output_type": "display_data"
    },
    {
     "data": {
      "application/vnd.jupyter.widget-view+json": {
       "model_id": "a70646c687604b6490fccbba4c84251c",
       "version_major": 2,
       "version_minor": 0
      },
      "text/plain": [
       "  0%|          | 0/2500 [00:00<?, ?it/s]"
      ]
     },
     "metadata": {},
     "output_type": "display_data"
    },
    {
     "data": {
      "application/vnd.jupyter.widget-view+json": {
       "model_id": "9b2d38ff06b5463582c8d19d14322497",
       "version_major": 2,
       "version_minor": 0
      },
      "text/plain": [
       "  0%|          | 0/2500 [00:00<?, ?it/s]"
      ]
     },
     "metadata": {},
     "output_type": "display_data"
    },
    {
     "data": {
      "application/vnd.jupyter.widget-view+json": {
       "model_id": "8cc3966291674321aeb60efcccbebaaf",
       "version_major": 2,
       "version_minor": 0
      },
      "text/plain": [
       "  0%|          | 0/2500 [00:00<?, ?it/s]"
      ]
     },
     "metadata": {},
     "output_type": "display_data"
    },
    {
     "name": "stderr",
     "output_type": "stream",
     "text": [
      "Sampling time = 0:00:03.661391\n",
      "Transforming variables...\n",
      "Transformation time = 0:00:31.914158\n"
     ]
    },
    {
     "name": "stdout",
     "output_type": "stream",
     "text": [
      "Model: king99_pareto_modification\n",
      "        Computed from the raw b_i samples by multiplying by population and then getting\n",
      "        the proportion of the total pop (total pop=summed across all districts):\n",
      "        The posterior mean for the district-level voting preference of\n",
      "        $150,000+ for Dan Cox (Republican Party) is\n",
      "        0.245\n",
      "        The posterior mean for the district-level voting preference of\n",
      "        non-$150,000+ for Dan Cox (Republican Party) is\n",
      "        0.342\n",
      "        95% equal-tailed Bayesian credible interval for district-level voting preference of\n",
      "        $150,000+ for Dan Cox (Republican Party) is\n",
      "        [0.15371952 0.33812356]\n",
      "        95% equal-tailed Bayesian credible interval for district-level voting preference of\n",
      "        non-$150,000+ for Dan Cox (Republican Party) is\n",
      "        [0.28832035 0.39716861]\n",
      "        \n"
     ]
    }
   ],
   "source": [
    "md_rep_150_more_ei, md_rep_150_more_summary = run_ecological_inference(\n",
    "    df=md_economic_merged_ei_df,\n",
    "    demographic_col=\"150K_MORE_PERCENT\",\n",
    "    voting_col=\"REPUBLICAN_PERCENT\",\n",
    "    total_votes_col=\"TOT_VOT\",\n",
    "    demographic_group_name=\"$150,000+\",\n",
    "    candidate_name=md_candidate_mapping['REPUBLICAN']\n",
    ")"
   ]
  },
  {
   "cell_type": "code",
   "execution_count": 738,
   "metadata": {},
   "outputs": [
    {
     "name": "stderr",
     "output_type": "stream",
     "text": [
      "Compiling...\n",
      "Compilation time = 0:00:01.554065\n",
      "Sampling...\n"
     ]
    },
    {
     "data": {
      "application/vnd.jupyter.widget-view+json": {
       "model_id": "32765df50eb540e0a1722e09751327f1",
       "version_major": 2,
       "version_minor": 0
      },
      "text/plain": [
       "  0%|          | 0/2500 [00:00<?, ?it/s]"
      ]
     },
     "metadata": {},
     "output_type": "display_data"
    },
    {
     "data": {
      "application/vnd.jupyter.widget-view+json": {
       "model_id": "9fa0a0f2049a4f19af84d730ffb5e865",
       "version_major": 2,
       "version_minor": 0
      },
      "text/plain": [
       "  0%|          | 0/2500 [00:00<?, ?it/s]"
      ]
     },
     "metadata": {},
     "output_type": "display_data"
    },
    {
     "data": {
      "application/vnd.jupyter.widget-view+json": {
       "model_id": "8406adf453d84447b7b10613be8659b0",
       "version_major": 2,
       "version_minor": 0
      },
      "text/plain": [
       "  0%|          | 0/2500 [00:00<?, ?it/s]"
      ]
     },
     "metadata": {},
     "output_type": "display_data"
    },
    {
     "data": {
      "application/vnd.jupyter.widget-view+json": {
       "model_id": "9ba319bdafd9455787db1feb3ee6efb3",
       "version_major": 2,
       "version_minor": 0
      },
      "text/plain": [
       "  0%|          | 0/2500 [00:00<?, ?it/s]"
      ]
     },
     "metadata": {},
     "output_type": "display_data"
    },
    {
     "name": "stderr",
     "output_type": "stream",
     "text": [
      "Sampling time = 0:00:03.627162\n",
      "Transforming variables...\n",
      "Transformation time = 0:00:19.171671\n"
     ]
    },
    {
     "name": "stdout",
     "output_type": "stream",
     "text": [
      "Model: king99_pareto_modification\n",
      "        Computed from the raw b_i samples by multiplying by population and then getting\n",
      "        the proportion of the total pop (total pop=summed across all districts):\n",
      "        The posterior mean for the district-level voting preference of\n",
      "        $150,000+ for Dan Cox (Republican Party) is\n",
      "        0.367\n",
      "        The posterior mean for the district-level voting preference of\n",
      "        non-$150,000+ for Dan Cox (Republican Party) is\n",
      "        0.317\n",
      "        95% equal-tailed Bayesian credible interval for district-level voting preference of\n",
      "        $150,000+ for Dan Cox (Republican Party) is\n",
      "        [0.26109439 0.46016053]\n",
      "        95% equal-tailed Bayesian credible interval for district-level voting preference of\n",
      "        non-$150,000+ for Dan Cox (Republican Party) is\n",
      "        [0.26812828 0.37200476]\n",
      "        \n"
     ]
    }
   ],
   "source": [
    "md_rep_150_more_ei_rural, md_rep_150_more_summary_rural = run_ecological_inference(\n",
    "    df=md_economic_merged_ei_rural_df,\n",
    "    demographic_col=\"150K_MORE_PERCENT\",\n",
    "    voting_col=\"REPUBLICAN_PERCENT\",\n",
    "    total_votes_col=\"TOT_VOT\",\n",
    "    demographic_group_name=\"$150,000+\",\n",
    "    candidate_name=md_candidate_mapping['REPUBLICAN']\n",
    ")"
   ]
  },
  {
   "cell_type": "code",
   "execution_count": 739,
   "metadata": {},
   "outputs": [
    {
     "name": "stderr",
     "output_type": "stream",
     "text": [
      "Compiling...\n",
      "Compilation time = 0:00:01.524930\n",
      "Sampling...\n"
     ]
    },
    {
     "data": {
      "application/vnd.jupyter.widget-view+json": {
       "model_id": "ad31638863f1438887b72f33c0602147",
       "version_major": 2,
       "version_minor": 0
      },
      "text/plain": [
       "  0%|          | 0/2500 [00:00<?, ?it/s]"
      ]
     },
     "metadata": {},
     "output_type": "display_data"
    },
    {
     "data": {
      "application/vnd.jupyter.widget-view+json": {
       "model_id": "9399bd19425840f596b48d5807f47009",
       "version_major": 2,
       "version_minor": 0
      },
      "text/plain": [
       "  0%|          | 0/2500 [00:00<?, ?it/s]"
      ]
     },
     "metadata": {},
     "output_type": "display_data"
    },
    {
     "data": {
      "application/vnd.jupyter.widget-view+json": {
       "model_id": "cdf14576b0d14e1ea38b27562616cabb",
       "version_major": 2,
       "version_minor": 0
      },
      "text/plain": [
       "  0%|          | 0/2500 [00:00<?, ?it/s]"
      ]
     },
     "metadata": {},
     "output_type": "display_data"
    },
    {
     "data": {
      "application/vnd.jupyter.widget-view+json": {
       "model_id": "071bce16bed54e7ca35ab95ab1af215a",
       "version_major": 2,
       "version_minor": 0
      },
      "text/plain": [
       "  0%|          | 0/2500 [00:00<?, ?it/s]"
      ]
     },
     "metadata": {},
     "output_type": "display_data"
    },
    {
     "name": "stderr",
     "output_type": "stream",
     "text": [
      "Sampling time = 0:00:03.198770\n",
      "Transforming variables...\n",
      "Transformation time = 0:00:36.409902\n"
     ]
    },
    {
     "name": "stdout",
     "output_type": "stream",
     "text": [
      "Model: king99_pareto_modification\n",
      "        Computed from the raw b_i samples by multiplying by population and then getting\n",
      "        the proportion of the total pop (total pop=summed across all districts):\n",
      "        The posterior mean for the district-level voting preference of\n",
      "        $150,000+ for Dan Cox (Republican Party) is\n",
      "        0.297\n",
      "        The posterior mean for the district-level voting preference of\n",
      "        non-$150,000+ for Dan Cox (Republican Party) is\n",
      "        0.391\n",
      "        95% equal-tailed Bayesian credible interval for district-level voting preference of\n",
      "        $150,000+ for Dan Cox (Republican Party) is\n",
      "        [0.2154963  0.38104882]\n",
      "        95% equal-tailed Bayesian credible interval for district-level voting preference of\n",
      "        non-$150,000+ for Dan Cox (Republican Party) is\n",
      "        [0.3255635  0.45666338]\n",
      "        \n"
     ]
    }
   ],
   "source": [
    "md_rep_150_more_ei_suburban, md_rep_150_more_summary_suburban = run_ecological_inference(\n",
    "    df=md_economic_merged_ei_suburban_df,\n",
    "    demographic_col=\"150K_MORE_PERCENT\",\n",
    "    voting_col=\"REPUBLICAN_PERCENT\",\n",
    "    total_votes_col=\"TOT_VOT\",\n",
    "    demographic_group_name=\"$150,000+\",\n",
    "    candidate_name=md_candidate_mapping['REPUBLICAN']\n",
    ")"
   ]
  },
  {
   "cell_type": "code",
   "execution_count": 740,
   "metadata": {},
   "outputs": [
    {
     "name": "stderr",
     "output_type": "stream",
     "text": [
      "Compiling...\n",
      "Compilation time = 0:00:01.776373\n",
      "Sampling...\n"
     ]
    },
    {
     "data": {
      "application/vnd.jupyter.widget-view+json": {
       "model_id": "6bdb2640d6bb468da43f7f59926eb263",
       "version_major": 2,
       "version_minor": 0
      },
      "text/plain": [
       "  0%|          | 0/2500 [00:00<?, ?it/s]"
      ]
     },
     "metadata": {},
     "output_type": "display_data"
    },
    {
     "data": {
      "application/vnd.jupyter.widget-view+json": {
       "model_id": "5e9135f8d68143998e8d7bf8e85d01c5",
       "version_major": 2,
       "version_minor": 0
      },
      "text/plain": [
       "  0%|          | 0/2500 [00:00<?, ?it/s]"
      ]
     },
     "metadata": {},
     "output_type": "display_data"
    },
    {
     "data": {
      "application/vnd.jupyter.widget-view+json": {
       "model_id": "3c826c12b5964c9cb98d7507fc843bbe",
       "version_major": 2,
       "version_minor": 0
      },
      "text/plain": [
       "  0%|          | 0/2500 [00:00<?, ?it/s]"
      ]
     },
     "metadata": {},
     "output_type": "display_data"
    },
    {
     "data": {
      "application/vnd.jupyter.widget-view+json": {
       "model_id": "7b4161bfc0f74b8a93572b4c552f88fd",
       "version_major": 2,
       "version_minor": 0
      },
      "text/plain": [
       "  0%|          | 0/2500 [00:00<?, ?it/s]"
      ]
     },
     "metadata": {},
     "output_type": "display_data"
    },
    {
     "name": "stderr",
     "output_type": "stream",
     "text": [
      "Sampling time = 0:00:03.707305\n",
      "Transforming variables...\n",
      "Transformation time = 0:00:45.157261\n"
     ]
    },
    {
     "name": "stdout",
     "output_type": "stream",
     "text": [
      "Model: king99_pareto_modification\n",
      "        Computed from the raw b_i samples by multiplying by population and then getting\n",
      "        the proportion of the total pop (total pop=summed across all districts):\n",
      "        The posterior mean for the district-level voting preference of\n",
      "        $150,000+ for Dan Cox (Republican Party) is\n",
      "        0.314\n",
      "        The posterior mean for the district-level voting preference of\n",
      "        non-$150,000+ for Dan Cox (Republican Party) is\n",
      "        0.256\n",
      "        95% equal-tailed Bayesian credible interval for district-level voting preference of\n",
      "        $150,000+ for Dan Cox (Republican Party) is\n",
      "        [0.22882129 0.3935588 ]\n",
      "        95% equal-tailed Bayesian credible interval for district-level voting preference of\n",
      "        non-$150,000+ for Dan Cox (Republican Party) is\n",
      "        [0.21213385 0.30509079]\n",
      "        \n"
     ]
    }
   ],
   "source": [
    "md_rep_150_more_ei_urban, md_rep_150_more_summary_urban = run_ecological_inference(\n",
    "    df=md_economic_merged_ei_urban_df,\n",
    "    demographic_col=\"150K_MORE_PERCENT\",\n",
    "    voting_col=\"REPUBLICAN_PERCENT\",\n",
    "    total_votes_col=\"TOT_VOT\",\n",
    "    demographic_group_name=\"$150,000+\",\n",
    "    candidate_name=md_candidate_mapping['REPUBLICAN']\n",
    ")"
   ]
  },
  {
   "cell_type": "code",
   "execution_count": 921,
   "metadata": {},
   "outputs": [
    {
     "data": {
      "text/plain": [
       "(<Axes: xlabel='Support for Dan Cox (Republican Party)'>,\n",
       " <Axes: title={'center': 'EI Summary'}>)"
      ]
     },
     "execution_count": 921,
     "metadata": {},
     "output_type": "execute_result"
    },
    {
     "data": {
      "image/png": "[encoded data removed]",
      "text/plain": [
       "<Figure size 1000x500 with 2 Axes>"
      ]
     },
     "metadata": {},
     "output_type": "display_data"
    }
   ],
   "source": [
    "md_rep_black_ei_suburban.plot()"
   ]
  },
  {
   "cell_type": "markdown",
   "metadata": {},
   "source": [
    "#### Export Data"
   ]
  },
  {
   "cell_type": "code",
   "execution_count": 916,
   "metadata": {},
   "outputs": [],
   "source": [
    "md_rep_white_ei_output_data = extract_ei_data(md_rep_white_ei)\n",
    "\n",
    "md_rep_white_ei_rural_output_data = extract_ei_data(md_rep_white_ei_rural)\n",
    "md_rep_white_ei_suburban_output_data = extract_ei_data(md_rep_white_ei_suburban)\n",
    "md_rep_white_ei_urban_output_data = extract_ei_data(md_rep_white_ei_urban)\n",
    "\n",
    "md_rep_black_ei_output_data = extract_ei_data(md_rep_black_ei)\n",
    "md_rep_black_ei_output_data_rural = extract_ei_data(md_rep_black_ei_rural)\n",
    "md_rep_black_ei_output_data_suburban = extract_ei_data(md_rep_black_ei_suburban)\n",
    "md_rep_black_ei_output_data_urban = extract_ei_data(md_rep_black_ei_urban)\n",
    "\n",
    "md_rep_asian_ei_output_data = extract_ei_data(md_rep_asian_ei)\n",
    "md_rep_asian_ei_output_data_rural = extract_ei_data(md_rep_asian_ei_rural)\n",
    "md_rep_asian_ei_output_data_suburban = extract_ei_data(md_rep_asian_ei_suburban)\n",
    "md_rep_asian_ei_output_data_urban = extract_ei_data(md_rep_asian_ei_urban)\n",
    "\n",
    "md_rep_hispanic_ei_output_data = extract_ei_data(md_rep_hispanic_ei)\n",
    "md_rep_hispanic_ei_output_data_rural = extract_ei_data(md_rep_hispanic_ei_rural)\n",
    "md_rep_hispanic_ei_output_data_suburban = extract_ei_data(md_rep_hispanic_ei_suburban)\n",
    "md_rep_hispanic_ei_output_data_urban = extract_ei_data(md_rep_hispanic_ei_urban)\n",
    "\n",
    "md_dem_white_ei_output_data = extract_ei_data(md_dem_white_ei)\n",
    "md_dem_white_ei_output_data_rural = extract_ei_data(md_dem_white_ei_rural)\n",
    "md_dem_white_ei_output_data_suburban = extract_ei_data(md_dem_white_ei_subrban)\n",
    "md_dem_white_ei_output_data_urban = extract_ei_data(md_dem_white_ei_urban)\n",
    "\n",
    "md_dem_black_ei_output_data = extract_ei_data(md_dem_black_ei)\n",
    "md_dem_black_ei_output_data_rural = extract_ei_data(md_dem_black_ei_rural)\n",
    "md_dem_black_ei_output_data_suburban = extract_ei_data(md_dem_black_ei_suburban)\n",
    "md_dem_black_ei_output_data_urban = extract_ei_data(md_dem_black_ei_urban)\n",
    "\n",
    "md_dem_asian_ei_output_data = extract_ei_data(md_dem_asian_ei)\n",
    "md_dem_asian_ei_output_data_rural = extract_ei_data(md_dem_asian_ei_rural)\n",
    "md_dem_asian_ei_output_data_suburban = extract_ei_data(md_dem_asian_ei_suburban)\n",
    "md_dem_asian_ei_output_data_urban = extract_ei_data(md_dem_asian_ei_urban)\n",
    "\n",
    "\n",
    "md_dem_hispanic_ei_output_data = extract_ei_data(md_dem_hispanic_ei)\n",
    "md_dem_hispanic_ei_output_data_rural = extract_ei_data(md_dem_hispanic_ei_rural)\n",
    "md_dem_hispanic_ei_output_data_suburban = extract_ei_data(md_dem_hispanic_ei_suburban)\n",
    "md_dem_hispanic_ei_output_data_urban = extract_ei_data(md_dem_hispanic_ei_urban)\n",
    "\n",
    "\n"
   ]
  },
  {
   "cell_type": "code",
   "execution_count": 792,
   "metadata": {},
   "outputs": [],
   "source": [
    "md_dem_0_35_ei_output_data = extract_ei_data(md_dem_0_35_ei)\n",
    "md_dem_0_35_ei_rural_output_data = extract_ei_data(md_dem_0_35_ei_rural)\n",
    "md_dem_0_35_ei_suburban_output_data = extract_ei_data(md_dem_0_35_ei_suburban)\n",
    "md_dem_0_35_ei_urban_output_data = extract_ei_data(md_dem_0_35_ei_urban)\n",
    "\n",
    "md_dem_35_60_ei_output_data = extract_ei_data(md_dem_35_60_ei)\n",
    "md_dem_35_60_ei_rural_output_data = extract_ei_data(md_dem_35_60_ei_rural)\n",
    "md_dem_35_60_ei_suburban_output_data = extract_ei_data(md_dem_35_60_ei_suburban)\n",
    "md_dem_35_60_ei_urban_output_data = extract_ei_data(md_dem_35_60_ei_urban)\n",
    "\n",
    "\n",
    "md_dem_60_100_ei_output_data = extract_ei_data(md_dem_60_100_ei)\n",
    "\n",
    "md_dem_60_100_ei_rural_output_data = extract_ei_data(md_dem_60_100_ei_rural)\n",
    "\n",
    "md_dem_60_100_ei_suburban_output_data = extract_ei_data(md_dem_60_100_ei_suburban)\n",
    "\n",
    "md_dem_60_100_ei_urban_output_data = extract_ei_data(md_dem_60_100_ei_urban)\n",
    "\n",
    "\n",
    "md_dem_100_125_ei_output_data = extract_ei_data(md_dem_100_125_ei)\n",
    "\n",
    "md_dem_100_125_ei_rural_output_data = extract_ei_data(md_dem_100_125_ei_rural)\n",
    "\n",
    "md_dem_100_125_ei_suburban_output_data = extract_ei_data(md_dem_100_125_ei_suburban)\n",
    "\n",
    "md_dem_100_125_ei_urban_output_data = extract_ei_data(md_dem_100_125_ei_urban)\n",
    "\n",
    "md_dem_125_150_ei_output_data = extract_ei_data(md_dem_125_150_ei)\n",
    "\n",
    "md_dem_125_150_ei_rural_output_data = extract_ei_data(md_dem_125_150_ei_rural)\n",
    "\n",
    "md_dem_125_150_ei_suburban_output_data = extract_ei_data(md_dem_125_150_ei_suburban)\n",
    "\n",
    "md_dem_125_150_ei_urban_output_data = extract_ei_data(md_dem_125_150_ei_urban)\n",
    "\n",
    "md_dem_150_more_ei_output_data = extract_ei_data(md_dem_150_more_ei)\n",
    "\n",
    "md_dem_150_more_ei_rural_output_data = extract_ei_data(md_dem_150_more_ei_rural)\n",
    "\n",
    "md_dem_150_more_ei_suburban_output_data = extract_ei_data(md_dem_150_more_ei_suburban)\n",
    "\n",
    "md_dem_150_more_ei_urban_output_data = extract_ei_data(md_dem_150_more_ei_urban)\n",
    "\n",
    "md_rep_0_35_ei_output_data = extract_ei_data(md_rep_0_35_ei)\n",
    "\n",
    "md_rep_0_35_ei_rural_output_data = extract_ei_data(md_rep_0_35_ei_rural)\n",
    "\n",
    "md_rep_0_35_ei_suburban_output_data = extract_ei_data(md_rep_0_35_ei_suburban)\n",
    "\n",
    "md_rep_0_35_ei_urban_output_data = extract_ei_data(md_rep_0_35_ei_urban)\n",
    "\n",
    "md_rep_35_60_ei_output_data = extract_ei_data(md_rep_35_60_ei)\n",
    "\n",
    "md_rep_35_60_ei_rural_output_data = extract_ei_data(md_rep_35_60_ei_rural)\n",
    "\n",
    "md_rep_35_60_ei_suburban_output_data = extract_ei_data(md_rep_35_60_ei_suburban)\n",
    "\n",
    "md_rep_35_60_ei_urban_output_data = extract_ei_data(md_rep_35_60_ei_urban)\n",
    "\n",
    "md_rep_60_100_ei_output_data = extract_ei_data(md_rep_60_100_ei)\n",
    "\n",
    "md_rep_60_100_ei_rural_output_data = extract_ei_data(md_rep_60_100_ei_rural)\n",
    "\n",
    "md_rep_60_100_ei_suburban_output_data = extract_ei_data(md_rep_60_100_ei_suburban)\n",
    "\n",
    "md_rep_60_100_ei_urban_output_data = extract_ei_data(md_rep_60_100_ei_urban)\n",
    "\n",
    "md_rep_100_125_ei_output_data = extract_ei_data(md_rep_100_125_ei)\n",
    "\n",
    "md_rep_100_125_ei_rural_output_data = extract_ei_data(md_rep_100_125_ei_rural)\n",
    "\n",
    "md_rep_100_125_ei_suburban_output_data = extract_ei_data(md_rep_100_125_ei_suburban)\n",
    "\n",
    "md_rep_100_125_ei_urban_output_data = extract_ei_data(md_rep_100_125_ei_urban)\n",
    "\n",
    "md_rep_125_150_ei_output_data = extract_ei_data(md_rep_125_150_ei)\n",
    "\n",
    "md_rep_125_150_ei_rural_output_data = extract_ei_data(md_rep_125_150_ei_rural)\n",
    "\n",
    "md_rep_125_150_ei_suburban_output_data = extract_ei_data(md_rep_125_150_ei_suburban)\n",
    "\n",
    "md_rep_125_150_ei_urban_output_data = extract_ei_data(md_rep_125_150_ei_urban)\n",
    "\n",
    "md_rep_150_more_ei_output_data = extract_ei_data(md_rep_150_more_ei)\n",
    "\n",
    "md_rep_150_more_ei_rural_output_data = extract_ei_data(md_rep_150_more_ei_rural)\n",
    "\n",
    "md_rep_150_more_ei_suburban_output_data = extract_ei_data(md_rep_150_more_ei_suburban)\n",
    "\n",
    "md_rep_150_more_ei_urban_output_data = extract_ei_data(md_rep_150_more_ei_urban)\n"
   ]
  },
  {
   "cell_type": "code",
   "execution_count": 917,
   "metadata": {},
   "outputs": [],
   "source": [
    "md_output_json_racial = {\n",
    "    \"NAME\": \"Maryland\",\n",
    "    \"election\": \"2022 Gubernatorial Elections\",\n",
    "    \"data\": {\n",
    "        \"WHITE\": {\n",
    "            \"REPUBLICAN\": {\n",
    "                \"ALL\": md_rep_white_ei_output_data,\n",
    "                \"RURAL\": md_rep_white_ei_rural_output_data,\n",
    "                \"SUBURBAN\": md_rep_white_ei_suburban_output_data,\n",
    "                \"URBAN\": md_rep_white_ei_urban_output_data\n",
    "            },\n",
    "            \"DEMOCRATIC\": {\n",
    "                \"ALL\": md_dem_white_ei_output_data,\n",
    "                \"RURAL\": md_dem_white_ei_output_data_rural,\n",
    "                \"SUBURBAN\": md_dem_white_ei_output_data_suburban,\n",
    "                \"URBAN\": md_dem_white_ei_output_data_urban\n",
    "            }\n",
    "        },\n",
    "        \"BLACK\": {\n",
    "            \"REPUBLICAN\": {\n",
    "                \"ALL\": md_rep_black_ei_output_data,\n",
    "                \"RURAL\": md_rep_black_ei_output_data_rural,\n",
    "                \"SUBURBAN\": md_rep_black_ei_output_data_suburban,\n",
    "                \"URBAN\": md_rep_black_ei_output_data_urban\n",
    "            },\n",
    "            \"DEMOCRATIC\": {\n",
    "                \"ALL\": md_dem_black_ei_output_data,\n",
    "                \"RURAL\": md_dem_black_ei_output_data_rural,\n",
    "                \"SUBURBAN\": md_dem_black_ei_output_data_suburban,\n",
    "                \"URBAN\": md_dem_black_ei_output_data_urban\n",
    "            }\n",
    "        },\n",
    "        \"ASIAN\": {\n",
    "            \"REPUBLICAN\": {\n",
    "                \"ALL\": md_rep_asian_ei_output_data,\n",
    "                \"RURAL\": md_rep_asian_ei_output_data_rural,\n",
    "                \"SUBURBAN\": md_rep_asian_ei_output_data_suburban,\n",
    "                \"URBAN\": md_rep_asian_ei_output_data_urban\n",
    "            },\n",
    "            \"DEMOCRATIC\": {\n",
    "                \"ALL\": md_dem_asian_ei_output_data,\n",
    "                \"RURAL\": md_dem_asian_ei_output_data_rural,\n",
    "                \"SUBURBAN\": md_dem_asian_ei_output_data_suburban,\n",
    "                \"URBAN\": md_dem_asian_ei_output_data_urban\n",
    "            }\n",
    "        },\n",
    "        \"HISPANIC\": {\n",
    "            \"REPUBLICAN\": {\n",
    "                \"ALL\": md_rep_hispanic_ei_output_data,\n",
    "                \"RURAL\": md_rep_hispanic_ei_output_data_rural,\n",
    "                \"SUBURBAN\": md_rep_hispanic_ei_output_data_suburban,\n",
    "                \"URBAN\": md_rep_hispanic_ei_output_data_urban\n",
    "            },\n",
    "            \"DEMOCRATIC\": {\n",
    "                \"ALL\": md_dem_hispanic_ei_output_data,\n",
    "                \"RURAL\": md_dem_hispanic_ei_output_data_rural,\n",
    "                \"SUBURBAN\": md_dem_hispanic_ei_output_data_suburban,\n",
    "                \"URBAN\": md_dem_hispanic_ei_output_data_urban\n",
    "            }\n",
    "        }\n",
    "    }\n",
    "}"
   ]
  },
  {
   "cell_type": "code",
   "execution_count": 793,
   "metadata": {},
   "outputs": [],
   "source": [
    "md_output_json_economic = {\n",
    "    \"NAME\": \"Maryland\",\n",
    "    \"election\": \"2022 Gubernatorial Elections\",\n",
    "    \"data\": {\n",
    "        \"0_35K\": {\n",
    "            \"REPUBLICAN\": {\n",
    "                \"ALL\": md_rep_0_35_ei_output_data,\n",
    "                \"RURAL\": md_rep_0_35_ei_rural_output_data,\n",
    "                \"SUBURBAN\": md_rep_0_35_ei_suburban_output_data,\n",
    "                \"URBAN\": md_rep_0_35_ei_urban_output_data\n",
    "            },\n",
    "            \"DEMOCRATIC\": {\n",
    "                \"ALL\": md_dem_0_35_ei_output_data,\n",
    "                \"RURAL\": md_dem_0_35_ei_rural_output_data,\n",
    "                \"SUBURBAN\": md_dem_0_35_ei_suburban_output_data,\n",
    "                \"URBAN\": md_dem_0_35_ei_urban_output_data\n",
    "            }\n",
    "        },\n",
    "        \"35K_60K\": {\n",
    "            \"REPUBLICAN\": {\n",
    "                \"ALL\": md_rep_35_60_ei_output_data,\n",
    "                \"RURAL\": md_rep_35_60_ei_rural_output_data,\n",
    "                \"SUBURBAN\": md_rep_35_60_ei_suburban_output_data,\n",
    "                \"URBAN\": md_rep_35_60_ei_urban_output_data\n",
    "            },\n",
    "            \"DEMOCRATIC\": {\n",
    "                \"ALL\": md_dem_35_60_ei_output_data,\n",
    "                \"RURAL\": md_dem_35_60_ei_rural_output_data,\n",
    "                \"SUBURBAN\": md_dem_35_60_ei_suburban_output_data,\n",
    "                \"URBAN\": md_dem_35_60_ei_urban_output_data\n",
    "            }\n",
    "        },\n",
    "        \"60K_100K\": {\n",
    "            \"REPUBLICAN\": {\n",
    "                \"ALL\": md_rep_60_100_ei_output_data,\n",
    "                \"RURAL\": md_rep_60_100_ei_rural_output_data,\n",
    "                \"SUBURBAN\": md_rep_60_100_ei_suburban_output_data,\n",
    "                \"URBAN\": md_rep_60_100_ei_urban_output_data\n",
    "            },\n",
    "            \"DEMOCRATIC\": {\n",
    "                \"ALL\": md_dem_60_100_ei_output_data,\n",
    "                \"RURAL\": md_dem_60_100_ei_rural_output_data,\n",
    "                \"SUBURBAN\": md_dem_60_100_ei_suburban_output_data,\n",
    "                \"URBAN\": md_dem_60_100_ei_urban_output_data\n",
    "            }\n",
    "        },\n",
    "        \"100K_125K\": {\n",
    "            \"REPUBLICAN\": {\n",
    "                \"ALL\": md_rep_100_125_ei_output_data,\n",
    "                \"RURAL\": md_rep_100_125_ei_rural_output_data,\n",
    "                \"SUBURBAN\": md_rep_100_125_ei_suburban_output_data,\n",
    "                \"URBAN\": md_rep_100_125_ei_urban_output_data\n",
    "            },\n",
    "            \"DEMOCRATIC\": {\n",
    "                \"ALL\": md_dem_100_125_ei_output_data,\n",
    "                \"RURAL\": md_dem_100_125_ei_rural_output_data,\n",
    "                \"SUBURBAN\": md_dem_100_125_ei_suburban_output_data,\n",
    "                \"URBAN\": md_dem_100_125_ei_urban_output_data\n",
    "            }\n",
    "        },\n",
    "        \"125K_150K\": {\n",
    "            \"REPUBLICAN\": {\n",
    "                \"ALL\": md_rep_125_150_ei_output_data,\n",
    "                \"RURAL\": md_rep_125_150_ei_rural_output_data,\n",
    "                \"SUBURBAN\": md_rep_125_150_ei_suburban_output_data,\n",
    "                \"URBAN\": md_rep_125_150_ei_urban_output_data\n",
    "            },\n",
    "            \"DEMOCRATIC\": {\n",
    "                \"ALL\": md_dem_125_150_ei_output_data,\n",
    "                \"RURAL\": md_dem_125_150_ei_rural_output_data,\n",
    "                \"SUBURBAN\": md_dem_125_150_ei_suburban_output_data,\n",
    "                \"URBAN\": md_dem_125_150_ei_urban_output_data\n",
    "            }\n",
    "        },\n",
    "        \"150K_MORE\": {\n",
    "            \"REPUBLICAN\": {\n",
    "                \"ALL\": md_rep_150_more_ei_output_data,\n",
    "                \"RURAL\": md_rep_150_more_ei_rural_output_data,\n",
    "                \"SUBURBAN\": md_rep_150_more_ei_suburban_output_data,\n",
    "                \"URBAN\": md_rep_150_more_ei_urban_output_data\n",
    "            },\n",
    "            \"DEMOCRATIC\": {\n",
    "                \"ALL\": md_dem_150_more_ei_output_data,\n",
    "                \"RURAL\": md_dem_150_more_ei_rural_output_data,\n",
    "                \"SUBURBAN\": md_dem_150_more_ei_suburban_output_data,\n",
    "                \"URBAN\": md_dem_150_more_ei_urban_output_data\n",
    "            }\n",
    "        }\n",
    "    }\n",
    "}"
   ]
  },
  {
   "cell_type": "code",
   "execution_count": 918,
   "metadata": {},
   "outputs": [],
   "source": [
    "md_json_output = json.dumps(md_output_json_racial , indent=4, cls=json_serialize)\n",
    "with open(\"states/maryland/ecological_inference/ecological_inference.json\", \"w\") as f:\n",
    "    f.write(md_json_output)"
   ]
  },
  {
   "cell_type": "code",
   "execution_count": 794,
   "metadata": {},
   "outputs": [],
   "source": [
    "md_output_json_economic = json.dumps(md_output_json_economic, indent=4, cls=json_serialize)\n",
    "with open(\"states/maryland/ecological_inference/ecological_inference_economic.json\", \"w\") as f:\n",
    "    f.write(md_output_json_economic)"
   ]
  }
 ],
 "metadata": {
  "kernelspec": {
   "display_name": "cse354",
   "language": "python",
   "name": "python3"
  },
  "language_info": {
   "codemirror_mode": {
    "name": "ipython",
    "version": 3
   },
   "file_extension": ".py",
   "mimetype": "text/x-python",
   "name": "python",
   "nbconvert_exporter": "python",
   "pygments_lexer": "ipython3",
   "version": "3.11.10"
  }
 },
 "nbformat": 4,
 "nbformat_minor": 2
}
