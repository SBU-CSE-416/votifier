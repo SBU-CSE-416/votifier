{
 "cells": [
  {
   "cell_type": "code",
   "execution_count": null,
   "metadata": {},
   "outputs": [],
   "source": [
    "import requests\n",
    "import json\n",
    "\n",
    "base_url = \"https://tigerweb.geo.census.gov/arcgis/rest/services/TIGERweb\"\n",
    "state_fips = {'MD':'24','SC':'45'}\n",
    "county_params = \"&outFields=NAME,COUNTY&f=geojson\"\n",
    "state_params = \"&outFields=NAME&f=geojson\"\n",
    "\n",
    "counties_url = \"State_County/MapServer/1/query?where=STATE='\"\n",
    "congressional_districts_url = \"Legislative/MapServer/0/query?where=STATE='\"\n",
    "state_url = \"State_County/MapServer/0/query?where=STATE='\"\n",
    "\n",
    "sc_counties_url = base_url + \"/\" + counties_url + state_fips['SC'] + \"'\" + county_params\n",
    "md_counties_url = base_url + \"/\" + counties_url + state_fips['MD'] + \"'\" + county_params\n",
    "\n",
    "sc_CD_url = base_url + \"/\" + congressional_districts_url + state_fips['SC'] + \"'\" + state_params\n",
    "md_CD_url = base_url + \"/\" + congressional_districts_url + state_fips['MD'] + \"'\" + state_params\n",
    "\n",
    "sc_state_url = base_url + \"/\" + state_url + state_fips['SC'] + \"'\" + state_params\n",
    "md_state_url = base_url + \"/\" + state_url + state_fips['MD'] + \"'\" + state_params\n"
   ]
  },
  {
   "cell_type": "code",
   "execution_count": null,
   "metadata": {},
   "outputs": [
    {
     "name": "stdout",
     "output_type": "stream",
     "text": [
      "SC CD:\n",
      "- Congressional District 1\n",
      "- Congressional District 2\n",
      "- Congressional District 3\n",
      "- Congressional District 4\n",
      "- Congressional District 5\n",
      "- Congressional District 6\n",
      "- Congressional District 7\n",
      "GeoJSON data with county boundaries successfully saved to south_carolina_cd.geojson\n"
     ]
    }
   ],
   "source": [
    "response = requests.get(sc_CD_url)\n",
    "output_file  = \"south_carolina_cd.geojson\"\n",
    "if response.status_code == 200:\n",
    "    geojson_data = response.json()\n",
    "    \n",
    "    if \"features\" in geojson_data and len(geojson_data[\"features\"]) > 0:\n",
    "        names = [feature['properties']['NAME'] for feature in geojson_data['features']]\n",
    "        print(\"SC CD:\")\n",
    "        for name in names:\n",
    "            print(f\"- {name}\")\n",
    "        with open(output_file, 'w') as file:\n",
    "            json.dump(geojson_data, file, indent=4)\n",
    "        print(f\"GeoJSON data with county boundaries successfully saved to {output_file}\")\n",
    "    else:\n",
    "        print(\"No county features found in the response. Please check the query parameters.\")\n",
    "else:\n",
    "    print(f\"Failed to retrieve data. HTTP Status Code: {response.status_code}\")"
   ]
  },
  {
   "cell_type": "code",
   "execution_count": 18,
   "metadata": {},
   "outputs": [
    {
     "name": "stdout",
     "output_type": "stream",
     "text": [
      "MD CD:\n",
      "- Congressional District 1\n",
      "- Congressional District 2\n",
      "- Congressional District 3\n",
      "- Congressional District 4\n",
      "- Congressional District 5\n",
      "- Congressional District 6\n",
      "- Congressional District 7\n",
      "- Congressional District 8\n",
      "GeoJSON data with county boundaries successfully saved to maryland_cd.geojson\n"
     ]
    }
   ],
   "source": [
    "response = requests.get(md_CD_url)\n",
    "output_file  = \"maryland_cd.geojson\"\n",
    "if response.status_code == 200:\n",
    "    geojson_data = response.json()\n",
    "    \n",
    "    if \"features\" in geojson_data and len(geojson_data[\"features\"]) > 0:\n",
    "        names = [feature['properties']['NAME'] for feature in geojson_data['features']]\n",
    "        print(\"MD CD:\")\n",
    "        for name in names:\n",
    "            print(f\"- {name}\")\n",
    "        with open(output_file, 'w') as file:\n",
    "            json.dump(geojson_data, file, indent=4)\n",
    "        \n",
    "        print(f\"GeoJSON data with county boundaries successfully saved to {output_file}\")\n",
    "    else:\n",
    "        print(\"No county features found in the response. Please check the query parameters.\")\n",
    "else:\n",
    "    print(f\"Failed to retrieve data. HTTP Status Code: {response.status_code}\")"
   ]
  },
  {
   "cell_type": "code",
   "execution_count": 2,
   "metadata": {},
   "outputs": [
    {
     "name": "stdout",
     "output_type": "stream",
     "text": [
      "MD State:\n",
      "- Maryland\n",
      "GeoJSON data with county boundaries successfully saved to maryland_state.geojson\n"
     ]
    }
   ],
   "source": [
    "response = requests.get(md_state_url)\n",
    "output_file  = \"maryland_state.geojson\"\n",
    "if response.status_code == 200:\n",
    "    geojson_data = response.json()\n",
    "    \n",
    "    if \"features\" in geojson_data and len(geojson_data[\"features\"]) > 0:\n",
    "        names = [feature['properties']['NAME'] for feature in geojson_data['features']]\n",
    "        print(\"MD State:\")\n",
    "        for name in names:\n",
    "            print(f\"- {name}\")\n",
    "        with open(output_file, 'w') as file:\n",
    "            json.dump(geojson_data, file, indent=4)\n",
    "        \n",
    "        print(f\"GeoJSON data with county boundaries successfully saved to {output_file}\")\n",
    "    else:\n",
    "        print(\"No county features found in the response. Please check the query parameters.\")\n",
    "else:\n",
    "    print(f\"Failed to retrieve data. HTTP Status Code: {response.status_code}\")"
   ]
  },
  {
   "cell_type": "code",
   "execution_count": 3,
   "metadata": {},
   "outputs": [
    {
     "name": "stdout",
     "output_type": "stream",
     "text": [
      "SC State:\n",
      "- South Carolina\n",
      "GeoJSON data with county boundaries successfully saved to south_carolina_state.geojson\n"
     ]
    }
   ],
   "source": [
    "response = requests.get(sc_state_url)\n",
    "output_file  = \"south_carolina_state.geojson\"\n",
    "if response.status_code == 200:\n",
    "    geojson_data = response.json()\n",
    "    \n",
    "    if \"features\" in geojson_data and len(geojson_data[\"features\"]) > 0:\n",
    "        names = [feature['properties']['NAME'] for feature in geojson_data['features']]\n",
    "        print(\"SC State:\")\n",
    "        for name in names:\n",
    "            print(f\"- {name}\")\n",
    "        with open(output_file, 'w') as file:\n",
    "            json.dump(geojson_data, file, indent=4)\n",
    "        \n",
    "        print(f\"GeoJSON data with county boundaries successfully saved to {output_file}\")\n",
    "    else:\n",
    "        print(\"No county features found in the response. Please check the query parameters.\")\n",
    "else:\n",
    "    print(f\"Failed to retrieve data. HTTP Status Code: {response.status_code}\")"
   ]
  }
 ],
 "metadata": {
  "kernelspec": {
   "display_name": "votifier",
   "language": "python",
   "name": "python3"
  },
  "language_info": {
   "codemirror_mode": {
    "name": "ipython",
    "version": 3
   },
   "file_extension": ".py",
   "mimetype": "text/x-python",
   "name": "python",
   "nbconvert_exporter": "python",
   "pygments_lexer": "ipython3",
   "version": "3.9.19"
  }
 },
 "nbformat": 4,
 "nbformat_minor": 2
}
