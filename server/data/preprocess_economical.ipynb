{
 "cells": [
  {
   "cell_type": "code",
   "execution_count": 28,
   "metadata": {},
   "outputs": [],
   "source": [
    "import pandas as pd\n"
   ]
  },
  {
   "cell_type": "markdown",
   "metadata": {},
   "source": [
    "# [Block Level]\n",
    "## South Carolina \n",
    "### Get Economic Population Data "
   ]
  },
  {
   "cell_type": "code",
   "execution_count": 29,
   "metadata": {},
   "outputs": [],
   "source": [
    "df_sc_econ = pd.read_csv('raw/census_block/income/sc_inc_2022_bg/sc_inc_2022_bg.csv')"
   ]
  },
  {
   "cell_type": "code",
   "execution_count": 30,
   "metadata": {},
   "outputs": [
    {
     "name": "stdout",
     "output_type": "stream",
     "text": [
      "Index(['GEOID', 'STATEFP', 'STATE', 'COUNTYFP', 'COUNTY', 'MEDN_INC22',\n",
      "       'TOT_HOUS22', 'LESS_10K22', '10K_15K22', '15K_20K22', '20K_25K22',\n",
      "       '25K_30K22', '30K_35K22', '35K_40K22', '40K_45K22', '45K_50K22',\n",
      "       '50K_60K22', '60K_75K22', '75K_100K22', '100_125K22', '125_150K22',\n",
      "       '150_200K22', '200K_MOR22'],\n",
      "      dtype='object')\n",
      "TOT_HOUS22\n",
      "0       30\n",
      "352     14\n",
      "380     14\n",
      "584     11\n",
      "435     10\n",
      "        ..\n",
      "1006     1\n",
      "1005     1\n",
      "184      1\n",
      "999      1\n",
      "3116     1\n",
      "Name: count, Length: 1101, dtype: int64\n"
     ]
    }
   ],
   "source": [
    "print(df_sc_econ.columns)\n",
    "print(df_sc_econ.value_counts('TOT_HOUS22'))"
   ]
  },
  {
   "cell_type": "code",
   "execution_count": 31,
   "metadata": {},
   "outputs": [],
   "source": [
    "bins = {\n",
    "    'LESS_25K': ['LESS_10K22', '10K_15K22', '15K_20K22', '20K_25K22'],\n",
    "    '25K_45K': ['25K_30K22', '30K_35K22', '35K_40K22', '40K_45K22'],\n",
    "    '45K_75K': ['45K_50K22', '50K_60K22', '60K_75K22'],\n",
    "    '75K_125K': ['75K_100K22', '100_125K22'],\n",
    "    '125K_200K': ['125_150K22', '150_200K22'],\n",
    "    '200K_MORE': ['200K_MOR22']\n",
    "}"
   ]
  },
  {
   "cell_type": "code",
   "execution_count": 32,
   "metadata": {},
   "outputs": [],
   "source": [
    "binned_data = {}\n",
    "for bin_name, columns in bins.items():\n",
    "    binned_data[bin_name] = df_sc_econ[columns].sum(axis=1)\n",
    "columns_to_keep = ['GEOID', 'STATEFP', 'STATE', 'COUNTYFP', 'COUNTY', 'MEDN_INC22', 'TOT_HOUS22']\n",
    "df_sc_econ_binned = df_sc_econ[columns_to_keep].copy()\n",
    "for bin_name, values in binned_data.items():\n",
    "    df_sc_econ_binned[bin_name] = values"
   ]
  },
  {
   "cell_type": "code",
   "execution_count": 33,
   "metadata": {},
   "outputs": [
    {
     "name": "stdout",
     "output_type": "stream",
     "text": [
      "             GEOID  STATEFP            STATE  COUNTYFP            COUNTY  \\\n",
      "0     450219701011       45   South Carolina        21   Cherokee County   \n",
      "1     450219701012       45   South Carolina        21   Cherokee County   \n",
      "2     450219701021       45   South Carolina        21   Cherokee County   \n",
      "3     450219701022       45   South Carolina        21   Cherokee County   \n",
      "4     450219701023       45   South Carolina        21   Cherokee County   \n",
      "...            ...      ...              ...       ...               ...   \n",
      "3403  450339706012       45   South Carolina        33     Dillon County   \n",
      "3404  450339706013       45   South Carolina        33     Dillon County   \n",
      "3405  450339706021       45   South Carolina        33     Dillon County   \n",
      "3406  450339706022       45   South Carolina        33     Dillon County   \n",
      "3407  450339706023       45   South Carolina        33     Dillon County   \n",
      "\n",
      "      MEDN_INC22  TOT_HOUS22  LESS_25K  25K_45K  45K_75K  75K_125K  125K_200K  \\\n",
      "0        46724.0         672       141      175      105       146        105   \n",
      "1        61300.0         798       130      129      227       208        104   \n",
      "2        58197.0         436        77       41      208        97         13   \n",
      "3        80492.0         370        69       57       46       175         10   \n",
      "4        74139.0         765        87       23      298        92        167   \n",
      "...          ...         ...       ...      ...      ...       ...        ...   \n",
      "3403     31927.0         534       203      120       41       121         42   \n",
      "3404     26176.0         442       213       78       88        40         10   \n",
      "3405     72697.0         591       104      113       96       214         48   \n",
      "3406     19826.0         362       186      102       31        43          0   \n",
      "3407     50885.0         420        78      104      130        50         58   \n",
      "\n",
      "      200K_MORE  \n",
      "0             0  \n",
      "1             0  \n",
      "2             0  \n",
      "3            13  \n",
      "4            98  \n",
      "...         ...  \n",
      "3403          7  \n",
      "3404         13  \n",
      "3405         16  \n",
      "3406          0  \n",
      "3407          0  \n",
      "\n",
      "[3408 rows x 13 columns]\n"
     ]
    }
   ],
   "source": [
    "print(df_sc_econ_binned)"
   ]
  },
  {
   "cell_type": "code",
   "execution_count": 34,
   "metadata": {},
   "outputs": [],
   "source": [
    "path = \"processed_individual/sc_econ_block.csv\"\n",
    "df_sc_econ_binned.to_csv(path, index=False)"
   ]
  },
  {
   "cell_type": "markdown",
   "metadata": {},
   "source": [
    "## Maryland\n",
    "### Get Economic Population Data "
   ]
  },
  {
   "cell_type": "code",
   "execution_count": 23,
   "metadata": {},
   "outputs": [],
   "source": [
    "df_md_econ = pd.read_csv('raw/census_block/income/md_inc_2022_bg/md_inc_2022_bg.csv')"
   ]
  },
  {
   "cell_type": "code",
   "execution_count": 24,
   "metadata": {},
   "outputs": [
    {
     "name": "stdout",
     "output_type": "stream",
     "text": [
      "Index(['GEOID', 'STATEFP', 'STATE', 'COUNTYFP', 'COUNTY', 'MEDN_INC22',\n",
      "       'TOT_HOUS22', 'LESS_10K22', '10K_15K22', '15K_20K22', '20K_25K22',\n",
      "       '25K_30K22', '30K_35K22', '35K_40K22', '40K_45K22', '45K_50K22',\n",
      "       '50K_60K22', '60K_75K22', '75K_100K22', '100_125K22', '125_150K22',\n",
      "       '150_200K22', '200K_MOR22'],\n",
      "      dtype='object')\n"
     ]
    }
   ],
   "source": [
    "print(df_md_econ.columns)"
   ]
  },
  {
   "cell_type": "code",
   "execution_count": 25,
   "metadata": {},
   "outputs": [],
   "source": [
    "binned_data = {}\n",
    "for bin_name, columns in bins.items():\n",
    "    binned_data[bin_name] = df_md_econ[columns].sum(axis=1)\n",
    "columns_to_keep = ['GEOID', 'STATEFP', 'STATE', 'COUNTYFP', 'COUNTY', 'MEDN_INC22', 'TOT_HOUS22']\n",
    "df_md_econ_binned = df_md_econ[columns_to_keep].copy()\n",
    "for bin_name, values in binned_data.items():\n",
    "    df_md_econ_binned[bin_name] = values"
   ]
  },
  {
   "cell_type": "code",
   "execution_count": 26,
   "metadata": {},
   "outputs": [
    {
     "name": "stdout",
     "output_type": "stream",
     "text": [
      "             GEOID  STATEFP      STATE  COUNTYFP                   COUNTY  \\\n",
      "0     240217402001       24   Maryland        21         Frederick County   \n",
      "1     240217402002       24   Maryland        21         Frederick County   \n",
      "2     240217402003       24   Maryland        21         Frederick County   \n",
      "3     240217402004       24   Maryland        21         Frederick County   \n",
      "4     240217501001       24   Maryland        21         Frederick County   \n",
      "...            ...      ...        ...       ...                      ...   \n",
      "4074  240338074102       24   Maryland        33   Prince George's County   \n",
      "4075  240338075001       24   Maryland        33   Prince George's County   \n",
      "4076  240338075002       24   Maryland        33   Prince George's County   \n",
      "4077  240338075003       24   Maryland        33   Prince George's County   \n",
      "4078  240339800001       24   Maryland        33   Prince George's County   \n",
      "\n",
      "      MEDN_INC22  TOT_HOUS22  LESS_25K  25K_45K  45K_75K  75K_125K  125K_200K  \\\n",
      "0       110954.0         151         0        0       33        66         27   \n",
      "1       151042.0         530        78       46       24        66        149   \n",
      "2       113750.0         675        71      114       50       115        189   \n",
      "3       149358.0         602         0       14       41        90        284   \n",
      "4        55417.0         393        60       78      102        78         45   \n",
      "...          ...         ...       ...      ...      ...       ...        ...   \n",
      "4074     65462.0         605        75      135      183       116         80   \n",
      "4075    112600.0        1044       114       85      118       245        178   \n",
      "4076     58000.0         640        75       98      315        44         72   \n",
      "4077    103889.0        1232       143      126      155       315        354   \n",
      "4078     23661.0        1206       618      199      184       120         40   \n",
      "\n",
      "      200K_MORE  \n",
      "0            25  \n",
      "1           167  \n",
      "2           136  \n",
      "3           173  \n",
      "4            30  \n",
      "...         ...  \n",
      "4074         16  \n",
      "4075        304  \n",
      "4076         36  \n",
      "4077        139  \n",
      "4078         45  \n",
      "\n",
      "[4079 rows x 13 columns]\n"
     ]
    }
   ],
   "source": [
    "print(df_md_econ_binned)"
   ]
  },
  {
   "cell_type": "code",
   "execution_count": 27,
   "metadata": {},
   "outputs": [],
   "source": [
    "path = \"processed_individual/md_econ_block.csv\"\n",
    "df_md_econ_binned.to_csv(path, index=False)"
   ]
  }
 ],
 "metadata": {
  "kernelspec": {
   "display_name": "cse354",
   "language": "python",
   "name": "python3"
  },
  "language_info": {
   "codemirror_mode": {
    "name": "ipython",
    "version": 3
   },
   "file_extension": ".py",
   "mimetype": "text/x-python",
   "name": "python",
   "nbconvert_exporter": "python",
   "pygments_lexer": "ipython3",
   "version": "3.12.1"
  }
 },
 "nbformat": 4,
 "nbformat_minor": 2
}
