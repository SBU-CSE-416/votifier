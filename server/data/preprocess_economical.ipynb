{
 "cells": [
  {
   "cell_type": "code",
   "execution_count": 15,
   "metadata": {},
   "outputs": [],
   "source": [
    "import pandas as pd\n"
   ]
  },
  {
   "cell_type": "markdown",
   "metadata": {},
   "source": [
    "# [Block Level]\n",
    "## South Carolina \n",
    "### Get Economic Population Data "
   ]
  },
  {
   "cell_type": "code",
   "execution_count": 16,
   "metadata": {},
   "outputs": [],
   "source": [
    "df_sc_econ = pd.read_csv('raw/census_block/income/sc_inc_2022_bg/sc_inc_2022_bg.csv')"
   ]
  },
  {
   "cell_type": "code",
   "execution_count": 17,
   "metadata": {},
   "outputs": [
    {
     "name": "stdout",
     "output_type": "stream",
     "text": [
      "Index(['GEOID', 'STATEFP', 'STATE', 'COUNTYFP', 'COUNTY', 'MEDN_INC22',\n",
      "       'TOT_HOUS22', 'LESS_10K22', '10K_15K22', '15K_20K22', '20K_25K22',\n",
      "       '25K_30K22', '30K_35K22', '35K_40K22', '40K_45K22', '45K_50K22',\n",
      "       '50K_60K22', '60K_75K22', '75K_100K22', '100_125K22', '125_150K22',\n",
      "       '150_200K22', '200K_MOR22'],\n",
      "      dtype='object')\n",
      "LESS_10K22\n",
      "0      795\n",
      "15      73\n",
      "13      60\n",
      "9       59\n",
      "11      57\n",
      "      ... \n",
      "210      1\n",
      "214      1\n",
      "224      1\n",
      "227      1\n",
      "657      1\n",
      "Name: count, Length: 219, dtype: int64\n"
     ]
    }
   ],
   "source": [
    "print(df_sc_econ.columns)\n",
    "print(df_sc_econ.value_counts('LESS_10K22'))"
   ]
  },
  {
   "cell_type": "code",
   "execution_count": 31,
   "metadata": {},
   "outputs": [],
   "source": [
    "bins = {\n",
    "    '0_35K': ['LESS_10K22', '10K_15K22', '15K_20K22', '20K_25K22', '25K_30K22', '30K_35K22'],\n",
    "    '35K_60K': ['35K_40K22', '40K_45K22', '45K_50K22', '50K_60K22'],\n",
    "    '60K-100K': ['60K_75K22', '75K_100K22'],\n",
    "    '100K_125K': ['100_125K22'],\n",
    "    '125K_150K': ['125_150K22'],\n",
    "    '150K_MORE': ['150_200K22','200K_MOR22']\n",
    "}\n",
    "property_bins = {\n",
    "    'TOT_CVAP': ['TOT_CVAP22'],\n",
    "    'BPV_CVAP': ['BPV_CVAP22'],\n",
    "    'APV_CVAP': ['APV_CVAP22'],\n",
    "    'APV_HOUS': ['TOT_APOV22'],\n",
    "    'BPV_HOUS': ['TOT_BPOV22'],\n",
    "}"
   ]
  },
  {
   "cell_type": "code",
   "execution_count": 21,
   "metadata": {},
   "outputs": [],
   "source": [
    "def match_bins(df, bins, columns_to_keep):\n",
    "    \"\"\"\n",
    "    Parameters:\n",
    "    - df (pd.DataFrame)\n",
    "    - bins (dict)\n",
    "    - columns_to_keep (list)\n",
    "    Returns:\n",
    "    - pd.DataFrame: A new DataFrame containing the specified columns and the binned data.\n",
    "    \"\"\"\n",
    "    binned_data = {}\n",
    "    for bin_name, columns in bins.items():\n",
    "        binned_data[bin_name] = df[columns].sum(axis=1)\n",
    "    df_binned = df[columns_to_keep].copy()\n",
    "    for bin_name, values in binned_data.items():\n",
    "        df_binned[bin_name] = values\n",
    "    return df_binned\n"
   ]
  },
  {
   "cell_type": "code",
   "execution_count": 22,
   "metadata": {},
   "outputs": [
    {
     "name": "stdout",
     "output_type": "stream",
     "text": [
      "             GEOID  STATEFP            STATE  COUNTYFP            COUNTY  \\\n",
      "0     450219701011       45   South Carolina        21   Cherokee County   \n",
      "1     450219701012       45   South Carolina        21   Cherokee County   \n",
      "2     450219701021       45   South Carolina        21   Cherokee County   \n",
      "3     450219701022       45   South Carolina        21   Cherokee County   \n",
      "4     450219701023       45   South Carolina        21   Cherokee County   \n",
      "...            ...      ...              ...       ...               ...   \n",
      "3403  450339706012       45   South Carolina        33     Dillon County   \n",
      "3404  450339706013       45   South Carolina        33     Dillon County   \n",
      "3405  450339706021       45   South Carolina        33     Dillon County   \n",
      "3406  450339706022       45   South Carolina        33     Dillon County   \n",
      "3407  450339706023       45   South Carolina        33     Dillon County   \n",
      "\n",
      "      MEDN_INC22  TOT_HOUS22  0_35K  35K_60K  60K-100K  100K_125K  125K_150K  \\\n",
      "0        46724.0         672    167      232       168          0        105   \n",
      "1        61300.0         798    201      146       201        146         63   \n",
      "2        58197.0         436    104      158       123         38          0   \n",
      "3        80492.0         370    100       72       141         34         10   \n",
      "4        74139.0         765     87      152       209         52         90   \n",
      "...          ...         ...    ...      ...       ...        ...        ...   \n",
      "3403     31927.0         534    278       50       127         30         42   \n",
      "3404     26176.0         442    249      105        56          9          6   \n",
      "3405     72697.0         591    162      102       123        140         29   \n",
      "3406     19826.0         362    265       54        10         33          0   \n",
      "3407     50885.0         420     78      220        14         50         33   \n",
      "\n",
      "      150K_MORE  \n",
      "0             0  \n",
      "1            41  \n",
      "2            13  \n",
      "3            13  \n",
      "4           175  \n",
      "...         ...  \n",
      "3403          7  \n",
      "3404         17  \n",
      "3405         35  \n",
      "3406          0  \n",
      "3407         25  \n",
      "\n",
      "[3408 rows x 13 columns]\n"
     ]
    }
   ],
   "source": [
    "df_sc_econ_binned = match_bins(df_sc_econ, bins, ['GEOID', 'STATEFP', 'STATE', 'COUNTYFP', 'COUNTY', 'MEDN_INC22', 'TOT_HOUS22'])\n",
    "print(df_sc_econ_binned)"
   ]
  },
  {
   "cell_type": "code",
   "execution_count": 9,
   "metadata": {},
   "outputs": [],
   "source": [
    "path = \"processed_individual/sc_econ_block.csv\"\n",
    "df_sc_econ_binned.to_csv(path, index=False)"
   ]
  },
  {
   "cell_type": "markdown",
   "metadata": {},
   "source": [
    "### Get Poverty Population Data "
   ]
  },
  {
   "cell_type": "code",
   "execution_count": 28,
   "metadata": {},
   "outputs": [],
   "source": [
    "df_sc_poverty = pd.read_csv('raw/census_block/poverty/sc_pov_2022_bg/sc_pov_2022_bg.csv')"
   ]
  },
  {
   "cell_type": "code",
   "execution_count": 30,
   "metadata": {},
   "outputs": [
    {
     "name": "stdout",
     "output_type": "stream",
     "text": [
      "Index(['GEOID', 'STATEFP', 'STATE', 'COUNTYFP', 'COUNTY', 'TOT_HOUS22',\n",
      "       'TOT_CHI22', 'TOT_MAR22', 'TOT_MAL22', 'TOT_FEM22', 'TOT_BPOV22',\n",
      "       'CHI_BPOV22', 'MAR_BPOV22', 'MAL_BPOV22', 'FEM_BPOV22', 'TOT_APOV22',\n",
      "       'CHI_APOV22', 'MAR_APOV22', 'MAL_APOV22', 'FEM_APOV22', 'TOT_CVAP22',\n",
      "       'BPV_CVAP22', 'APV_CVAP22'],\n",
      "      dtype='object')\n"
     ]
    }
   ],
   "source": [
    "print(df_sc_poverty.columns)"
   ]
  },
  {
   "cell_type": "code",
   "execution_count": 32,
   "metadata": {},
   "outputs": [],
   "source": [
    "df_md_pov_binned = match_bins(df_sc_poverty, property_bins, ['GEOID', 'STATEFP', 'STATE', 'COUNTYFP', 'COUNTY', 'TOT_HOUS22'])"
   ]
  },
  {
   "cell_type": "code",
   "execution_count": 34,
   "metadata": {},
   "outputs": [
    {
     "name": "stdout",
     "output_type": "stream",
     "text": [
      "Index(['GEOID', 'STATEFP', 'STATE', 'COUNTYFP', 'COUNTY', 'TOT_HOUS22',\n",
      "       'TOT_CVAP', 'BPV_CVAP', 'APV_CVAP', 'APV_HOUS', 'BPV_HOUS'],\n",
      "      dtype='object')\n"
     ]
    }
   ],
   "source": [
    "print(df_md_pov_binned.columns)"
   ]
  },
  {
   "cell_type": "markdown",
   "metadata": {},
   "source": [
    "## Maryland\n",
    "### Get Economic Population Data "
   ]
  },
  {
   "cell_type": "code",
   "execution_count": 23,
   "metadata": {},
   "outputs": [],
   "source": [
    "df_md_econ = pd.read_csv('raw/census_block/income/md_inc_2022_bg/md_inc_2022_bg.csv')"
   ]
  },
  {
   "cell_type": "code",
   "execution_count": 24,
   "metadata": {},
   "outputs": [
    {
     "name": "stdout",
     "output_type": "stream",
     "text": [
      "Index(['GEOID', 'STATEFP', 'STATE', 'COUNTYFP', 'COUNTY', 'MEDN_INC22',\n",
      "       'TOT_HOUS22', 'LESS_10K22', '10K_15K22', '15K_20K22', '20K_25K22',\n",
      "       '25K_30K22', '30K_35K22', '35K_40K22', '40K_45K22', '45K_50K22',\n",
      "       '50K_60K22', '60K_75K22', '75K_100K22', '100_125K22', '125_150K22',\n",
      "       '150_200K22', '200K_MOR22'],\n",
      "      dtype='object')\n"
     ]
    }
   ],
   "source": [
    "print(df_md_econ.columns)"
   ]
  },
  {
   "cell_type": "code",
   "execution_count": 25,
   "metadata": {},
   "outputs": [],
   "source": [
    "df_md_econ_binned = match_bins(df_md_econ, bins, ['GEOID', 'STATEFP', 'STATE', 'COUNTYFP', 'COUNTY', 'MEDN_INC22', 'TOT_HOUS22'])"
   ]
  },
  {
   "cell_type": "code",
   "execution_count": 26,
   "metadata": {},
   "outputs": [
    {
     "name": "stdout",
     "output_type": "stream",
     "text": [
      "             GEOID  STATEFP      STATE  COUNTYFP                   COUNTY  \\\n",
      "0     240217402001       24   Maryland        21         Frederick County   \n",
      "1     240217402002       24   Maryland        21         Frederick County   \n",
      "2     240217402003       24   Maryland        21         Frederick County   \n",
      "3     240217402004       24   Maryland        21         Frederick County   \n",
      "4     240217501001       24   Maryland        21         Frederick County   \n",
      "...            ...      ...        ...       ...                      ...   \n",
      "4074  240338074102       24   Maryland        33   Prince George's County   \n",
      "4075  240338075001       24   Maryland        33   Prince George's County   \n",
      "4076  240338075002       24   Maryland        33   Prince George's County   \n",
      "4077  240338075003       24   Maryland        33   Prince George's County   \n",
      "4078  240339800001       24   Maryland        33   Prince George's County   \n",
      "\n",
      "      MEDN_INC22  TOT_HOUS22  0_35K  35K_60K  60K-100K  100K_125K  125K_150K  \\\n",
      "0       110954.0         151      0       27        12         60          6   \n",
      "1       151042.0         530    103       36        35         40         46   \n",
      "2       113750.0         675    185       31        65         69         59   \n",
      "3       149358.0         602      5       15        90         35        184   \n",
      "4        55417.0         393    114       96        68         40         24   \n",
      "...          ...         ...    ...      ...       ...        ...        ...   \n",
      "4074     65462.0         605    134      115       225         35         40   \n",
      "4075    112600.0        1044    135      182       155         90         45   \n",
      "4076     58000.0         640    155      173       173         31         14   \n",
      "4077    103889.0        1232    207      138       228        166        176   \n",
      "4078     23661.0        1206    729      212        95         85         20   \n",
      "\n",
      "      150K_MORE  \n",
      "0            46  \n",
      "1           270  \n",
      "2           266  \n",
      "3           273  \n",
      "4            51  \n",
      "...         ...  \n",
      "4074         56  \n",
      "4075        437  \n",
      "4076         94  \n",
      "4077        317  \n",
      "4078         65  \n",
      "\n",
      "[4079 rows x 13 columns]\n"
     ]
    }
   ],
   "source": [
    "print(df_md_econ_binned)"
   ]
  },
  {
   "cell_type": "code",
   "execution_count": 27,
   "metadata": {},
   "outputs": [],
   "source": [
    "path = \"processed_individual/md_econ_block.csv\"\n",
    "df_md_econ_binned.to_csv(path, index=False)"
   ]
  },
  {
   "cell_type": "code",
   "execution_count": null,
   "metadata": {},
   "outputs": [],
   "source": []
  }
 ],
 "metadata": {
  "kernelspec": {
   "display_name": "cse354",
   "language": "python",
   "name": "python3"
  },
  "language_info": {
   "codemirror_mode": {
    "name": "ipython",
    "version": 3
   },
   "file_extension": ".py",
   "mimetype": "text/x-python",
   "name": "python",
   "nbconvert_exporter": "python",
   "pygments_lexer": "ipython3",
   "version": "3.12.1"
  }
 },
 "nbformat": 4,
 "nbformat_minor": 2
}
