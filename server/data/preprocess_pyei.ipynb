{
 "cells": [
  {
   "cell_type": "markdown",
   "metadata": {},
   "source": [
    "Knudson et al., (2021). PyEI: A Python package for ecological inference. Journal of Open Source Software, 6(64), 3397, https://doi.org/10.21105/joss.03397"
   ]
  },
  {
   "cell_type": "code",
   "execution_count": 4,
   "metadata": {},
   "outputs": [],
   "source": [
    "import pyei\n",
    "import pandas as pd"
   ]
  },
  {
   "cell_type": "code",
   "execution_count": 15,
   "metadata": {},
   "outputs": [],
   "source": [
    "race_columns = {\n",
    "    'WHITE': 'WHT_NHSP22',\n",
    "    'BLACK': 'BLK_NHSP22',\n",
    "    'HISPANIC': 'HSP_POP22',\n",
    "    'ASIAN': 'ASN_NHSP22',\n",
    "}"
   ]
  },
  {
   "cell_type": "markdown",
   "metadata": {},
   "source": [
    "### Functions"
   ]
  },
  {
   "cell_type": "code",
   "execution_count": 13,
   "metadata": {},
   "outputs": [],
   "source": [
    "def calculate_population_distribution(df, race_columns, columns_to_keep):\n",
    "    df['TOTAL_POP_RECALCULATED'] = df[list(race_columns.values())].sum(axis=1)\n",
    "    \n",
    "    for race, col in race_columns.items():\n",
    "        percentage_col = f\"{race}_PERCENT\"\n",
    "        df[percentage_col] = (df[col] / df['TOTAL_POP_RECALCULATED']) * 100\n",
    "    columns_to_keep += [f\"{race}_PERCENT\" for race in race_columns.keys()]\n",
    "\n",
    "    return df[columns_to_keep]\n",
    "\n"
   ]
  },
  {
   "cell_type": "code",
   "execution_count": 8,
   "metadata": {},
   "outputs": [],
   "source": [
    "sc_election_gov_df = pd.read_json('states/south_carolina/election/sc_election_gov_22.json')\n",
    "sc_race_df = pd.read_json('states/south_carolina/demographics/south_carolina_precincts_racial_population.json')"
   ]
  },
  {
   "cell_type": "code",
   "execution_count": 6,
   "metadata": {},
   "outputs": [
    {
     "name": "stdout",
     "output_type": "stream",
     "text": [
      "['UNIQUE_ID' 'TOT_REP' 'TOT_DEM' 'TOT_VOT' 'LEAN']\n"
     ]
    }
   ],
   "source": [
    "print(sc_election_gov_df.columns.values)"
   ]
  },
  {
   "cell_type": "code",
   "execution_count": 10,
   "metadata": {},
   "outputs": [
    {
     "name": "stdout",
     "output_type": "stream",
     "text": [
      "['UNIQUE_ID' 'NAME' 'Prec_Code' 'CONG_DIST' 'TOT_POP22' 'NHSP_POP22'\n",
      " 'HSP_POP22' 'WHT_NHSP22' 'BLK_NHSP22' 'AIA_NHSP22' 'ASN_NHSP22'\n",
      " 'HPI_NHSP22' 'OTH_NHSP22']\n"
     ]
    }
   ],
   "source": [
    "print(sc_race_df.columns.values)"
   ]
  },
  {
   "cell_type": "code",
   "execution_count": 12,
   "metadata": {},
   "outputs": [],
   "source": [
    "columns_to_keep = ['UNIQUE_ID']"
   ]
  },
  {
   "cell_type": "code",
   "execution_count": 16,
   "metadata": {},
   "outputs": [],
   "source": [
    "sc_race_with_percentages = calculate_population_distribution(sc_race_df, race_columns, columns_to_keep)"
   ]
  },
  {
   "cell_type": "code",
   "execution_count": 17,
   "metadata": {},
   "outputs": [
    {
     "name": "stdout",
     "output_type": "stream",
     "text": [
      "['UNIQUE_ID' 'WHITE_PERCENT' 'BLACK_PERCENT' 'HISPANIC_PERCENT'\n",
      " 'ASIAN_PERCENT']\n"
     ]
    }
   ],
   "source": [
    "print(sc_race_with_percentages.columns.values)"
   ]
  },
  {
   "cell_type": "code",
   "execution_count": 18,
   "metadata": {},
   "outputs": [
    {
     "name": "stdout",
     "output_type": "stream",
     "text": [
      "2258\n",
      "2261\n"
     ]
    }
   ],
   "source": [
    "print(len(sc_race_with_percentages))\n",
    "print(len(sc_election_gov_df))"
   ]
  },
  {
   "cell_type": "code",
   "execution_count": 19,
   "metadata": {},
   "outputs": [],
   "source": [
    "sc_merged_ei_df = pd.merge(sc_election_gov_df, sc_race_with_percentages, on='UNIQUE_ID', how='left')"
   ]
  },
  {
   "cell_type": "code",
   "execution_count": 20,
   "metadata": {},
   "outputs": [],
   "source": [
    "sc_merged_ei_df.fillna(0, inplace=True)"
   ]
  },
  {
   "cell_type": "code",
   "execution_count": 24,
   "metadata": {},
   "outputs": [
    {
     "name": "stdout",
     "output_type": "stream",
     "text": [
      "['UNIQUE_ID' 'TOT_REP' 'TOT_DEM' 'TOT_VOT' 'LEAN' 'WHITE_PERCENT'\n",
      " 'BLACK_PERCENT' 'HISPANIC_PERCENT' 'ASIAN_PERCENT']\n"
     ]
    }
   ],
   "source": [
    "print(sc_merged_ei_df.columns.values)"
   ]
  }
 ],
 "metadata": {
  "kernelspec": {
   "display_name": "cse354",
   "language": "python",
   "name": "python3"
  },
  "language_info": {
   "codemirror_mode": {
    "name": "ipython",
    "version": 3
   },
   "file_extension": ".py",
   "mimetype": "text/x-python",
   "name": "python",
   "nbconvert_exporter": "python",
   "pygments_lexer": "ipython3",
   "version": "3.11.10"
  }
 },
 "nbformat": 4,
 "nbformat_minor": 2
}
