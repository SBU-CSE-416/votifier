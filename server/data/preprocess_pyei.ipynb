{
 "cells": [
  {
   "cell_type": "markdown",
   "metadata": {},
   "source": [
    "Knudson et al., (2021). PyEI: A Python package for ecological inference. Journal of Open Source Software, 6(64), 3397, https://doi.org/10.21105/joss.03397"
   ]
  },
  {
   "cell_type": "code",
   "execution_count": 1,
   "metadata": {},
   "outputs": [
    {
     "name": "stderr",
     "output_type": "stream",
     "text": [
      "/Users/tonymac/miniconda3/envs/cse354/lib/python3.11/site-packages/numba/core/decorators.py:246: RuntimeWarning: nopython is set for njit and is ignored\n",
      "  warnings.warn('nopython is set for njit and is ignored', RuntimeWarning)\n"
     ]
    }
   ],
   "source": [
    "import numpy as np\n",
    "import pandas as pd\n",
    "import scipy.stats as stats\n",
    "import matplotlib.pyplot as plt\n",
    "import seaborn as sns\n",
    "from pyei import TwoByTwoEI\n"
   ]
  },
  {
   "cell_type": "code",
   "execution_count": 2,
   "metadata": {},
   "outputs": [],
   "source": [
    "race_columns = {\n",
    "    'WHITE': 'WHT_NHSP22',\n",
    "    'BLACK': 'BLK_NHSP22',\n",
    "    'HISPANIC': 'HSP_POP22',\n",
    "    'ASIAN': 'ASN_NHSP22',\n",
    "}\n",
    "election_columns = {\n",
    "    'REPUBLICAN': 'TOT_REP',\n",
    "    'DEMOCRATIC': 'TOT_DEM',\n",
    "}\n",
    "income_columns = ['0_35K', '35K_60K', '60K_100K', '100K_125K', '125K_150K', '150K_MORE']"
   ]
  },
  {
   "cell_type": "markdown",
   "metadata": {},
   "source": [
    "### Functions"
   ]
  },
  {
   "cell_type": "code",
   "execution_count": 3,
   "metadata": {},
   "outputs": [],
   "source": [
    "def calculate_population_distribution(df, race_columns, columns_to_keep):\n",
    "    # Recalculate total population as the sum of race-specific columns\n",
    "    df['TOTAL_POP_RECALCULATED'] = df[list(race_columns.values())].sum(axis=1)\n",
    "    \n",
    "    # Calculate percentages for each race column\n",
    "    for race, col in race_columns.items():\n",
    "        percentage_col = f\"{race}_PERCENT\"\n",
    "        df[percentage_col] = df[col] / df['TOTAL_POP_RECALCULATED']\n",
    "    \n",
    "    # Add the percentage columns to the columns_to_keep list\n",
    "    columns_to_keep += [f\"{race}_PERCENT\" for race in race_columns.keys()]\n",
    "\n",
    "    return df[columns_to_keep]\n",
    "\n",
    "\n"
   ]
  },
  {
   "cell_type": "code",
   "execution_count": 4,
   "metadata": {},
   "outputs": [],
   "source": [
    "def calculate_voting_distribution(df, election_columns, columns_to_keep):\n",
    "    df['TOTAL_VOTES_RECALCULATED'] = df[list(election_columns.values())].sum(axis=1)\n",
    "    \n",
    "    for party, col in election_columns.items():\n",
    "        percentage_col = f\"{party}_PERCENT\"\n",
    "        df[percentage_col] = (df[col] / df['TOTAL_VOTES_RECALCULATED'])\n",
    "    columns_to_keep += [f\"{party}_PERCENT\" for party in election_columns.keys()]\n",
    "    return df[columns_to_keep]"
   ]
  },
  {
   "cell_type": "code",
   "execution_count": 5,
   "metadata": {},
   "outputs": [],
   "source": [
    "def calculate_income_distribution(df, income_columns, columns_to_keep):\n",
    "    df['TOTAL_INCOME_POPULATION'] = df[income_columns].sum(axis=1)\n",
    "    \n",
    "    for income_range in income_columns:\n",
    "        percentage_col = f\"{income_range}_PERCENT\"\n",
    "        df[percentage_col] = df[income_range] / df['TOTAL_INCOME_POPULATION']\n",
    "    \n",
    "    columns_to_keep += [f\"{income_range}_PERCENT\" for income_range in income_columns]\n",
    "\n",
    "    return df[columns_to_keep]"
   ]
  },
  {
   "cell_type": "code",
   "execution_count": 6,
   "metadata": {},
   "outputs": [],
   "source": [
    "def run_ecological_inference(\n",
    "    df, \n",
    "    demographic_col, \n",
    "    voting_col, \n",
    "    total_votes_col, \n",
    "    demographic_group_name=\"Demographic Group\", \n",
    "    candidate_name=\"Candidate\", \n",
    "    precinct_col=\"UNIQUE_ID\",\n",
    "    model_name=\"king99_pareto_modification\",\n",
    "    pareto_scale = 3,\n",
    "    pareto_shape = 3,\n",
    "):\n",
    "    # Extract data\n",
    "    X = np.array(df[demographic_col])  # Demographic percentage\n",
    "    T = np.array(df[voting_col])       # Voting percentage\n",
    "    N = np.array(df[total_votes_col])  # Total votes\n",
    "    precinct_names = df[precinct_col]  # Precinct names\n",
    "\n",
    "    ei = TwoByTwoEI(\n",
    "        model_name=model_name,\n",
    "        pareto_scale=pareto_scale,\n",
    "        pareto_shape=pareto_shape\n",
    "    )\n",
    "\n",
    "    # Fit the model\n",
    "    ei.fit(\n",
    "        X, T, N,\n",
    "        demographic_group_name=demographic_group_name,\n",
    "        candidate_name=candidate_name,\n",
    "        precinct_names=precinct_names,\n",
    "        # draws=8000,\n",
    "        # tune=4000,\n",
    "        # target_accept=0.95\n",
    "    )\n",
    "\n",
    "    # Display a summary\n",
    "    summary = ei.summary()\n",
    "    print(summary)\n",
    "\n",
    "    return ei, summary\n"
   ]
  },
  {
   "cell_type": "code",
   "execution_count": 7,
   "metadata": {},
   "outputs": [],
   "source": [
    "def run_ecological_inference_normal(\n",
    "    df, \n",
    "    demographic_col, \n",
    "    voting_col, \n",
    "    total_votes_col, \n",
    "    demographic_group_name=\"Demographic Group\", \n",
    "    candidate_name=\"Candidate\", \n",
    "    precinct_col=\"UNIQUE_ID\",\n",
    "    model_name=\"truncated_normal\",\n",
    "):\n",
    "    # Extract data\n",
    "    X = np.array(df[demographic_col])  # Demographic percentage\n",
    "    T = np.array(df[voting_col])       # Voting percentage\n",
    "    N = np.array(df[total_votes_col])  # Total votes\n",
    "    precinct_names = df[precinct_col]  # Precinct names\n",
    "\n",
    "    ei = TwoByTwoEI(\n",
    "        model_name=model_name\n",
    "    )\n",
    "\n",
    "    # Fit the model\n",
    "    ei.fit(\n",
    "        X, T, N,\n",
    "        demographic_group_name=demographic_group_name,\n",
    "        candidate_name=candidate_name,\n",
    "        precinct_names=precinct_names,\n",
    "    )\n",
    "\n",
    "    # Display a summary\n",
    "    summary = ei.summary()\n",
    "    print(summary)\n",
    "\n",
    "    return ei, summary\n"
   ]
  },
  {
   "cell_type": "code",
   "execution_count": 230,
   "metadata": {},
   "outputs": [],
   "source": [
    "class json_serialize(json.JSONEncoder):\n",
    "    def default(self, obj):\n",
    "        if isinstance(obj, np.integer):\n",
    "            return int(obj)\n",
    "        if isinstance(obj, np.floating):\n",
    "            return float(obj)\n",
    "        if isinstance(obj, np.ndarray):\n",
    "            return obj.tolist()\n",
    "        return json.JSONEncoder.default(self, obj)"
   ]
  },
  {
   "cell_type": "markdown",
   "metadata": {},
   "source": [
    "## South Carolina"
   ]
  },
  {
   "cell_type": "markdown",
   "metadata": {},
   "source": [
    "### Import data"
   ]
  },
  {
   "cell_type": "code",
   "execution_count": 387,
   "metadata": {},
   "outputs": [],
   "source": [
    "sc_election_gov_df = pd.read_json('states/south_carolina/election/sc_election_gov_22.json')\n",
    "sc_race_df = pd.read_json('states/south_carolina/demographics/south_carolina_precincts_racial_population.json')\n",
    "sc_economic_df = pd.read_json('states/south_carolina/economic/south_carolina_precincts_household_income.json')\n",
    "sc_region_type_df = pd.read_json('states/south_carolina/geodata/south_carolina_precincts_region_type.json')"
   ]
  },
  {
   "cell_type": "code",
   "execution_count": 388,
   "metadata": {},
   "outputs": [],
   "source": [
    "sc_candidate_mapping = {\n",
    "    'REPUBLICAN': 'Henry McMaster (Republican Party)',\n",
    "    'DEMOCRATIC': 'Joe Cunningham (Democratic Party)'\n",
    "}"
   ]
  },
  {
   "cell_type": "markdown",
   "metadata": {},
   "source": [
    "### Main Script"
   ]
  },
  {
   "cell_type": "markdown",
   "metadata": {},
   "source": [
    "#### Preprocess data"
   ]
  },
  {
   "cell_type": "markdown",
   "metadata": {},
   "source": [
    "##### Racial Group"
   ]
  },
  {
   "cell_type": "code",
   "execution_count": 389,
   "metadata": {},
   "outputs": [
    {
     "name": "stdout",
     "output_type": "stream",
     "text": [
      "['UNIQUE_ID' 'NAME' 'Prec_Code' 'CONG_DIST' 'TOT_POP22' 'NHSP_POP22'\n",
      " 'HSP_POP22' 'WHT_NHSP22' 'BLK_NHSP22' 'ASN_NHSP22' 'OTH_NHSP22']\n"
     ]
    }
   ],
   "source": [
    "print(sc_race_df.columns.values)"
   ]
  },
  {
   "cell_type": "code",
   "execution_count": 390,
   "metadata": {},
   "outputs": [],
   "source": [
    "columns_to_keep = ['UNIQUE_ID', 'TOT_POP22']"
   ]
  },
  {
   "cell_type": "code",
   "execution_count": 391,
   "metadata": {},
   "outputs": [],
   "source": [
    "sc_race_with_percentages = calculate_population_distribution(sc_race_df, race_columns, columns_to_keep)"
   ]
  },
  {
   "cell_type": "code",
   "execution_count": 392,
   "metadata": {},
   "outputs": [],
   "source": [
    "columns_to_keep = ['UNIQUE_ID', 'TOT_VOT']"
   ]
  },
  {
   "cell_type": "code",
   "execution_count": 393,
   "metadata": {},
   "outputs": [],
   "source": [
    "sc_election_gov_with_percentages = calculate_voting_distribution(sc_election_gov_df, election_columns, columns_to_keep)"
   ]
  },
  {
   "cell_type": "code",
   "execution_count": 394,
   "metadata": {},
   "outputs": [],
   "source": [
    "sc_race_merged_ei_df = pd.merge(sc_election_gov_with_percentages, sc_race_with_percentages, on='UNIQUE_ID', how='left')"
   ]
  },
  {
   "cell_type": "code",
   "execution_count": 395,
   "metadata": {},
   "outputs": [],
   "source": [
    "sc_race_merged_ei_df.fillna(0, inplace=True)"
   ]
  },
  {
   "cell_type": "code",
   "execution_count": 396,
   "metadata": {},
   "outputs": [],
   "source": [
    "# remove TOT_POP22\n",
    "sc_race_merged_ei_df = sc_race_merged_ei_df.drop(columns=['TOT_POP22'])\n",
    "sc_region_type_df = sc_region_type_df.drop(columns=['TOT_POP22'])\n",
    "\n"
   ]
  },
  {
   "cell_type": "code",
   "execution_count": null,
   "metadata": {},
   "outputs": [],
   "source": [
    "# merge with region type\n",
    "sc_race_merged_ei_df = pd.merge(sc_race_merged_ei_df, sc_region_type_df, on='UNIQUE_ID', how='left')\n"
   ]
  },
  {
   "cell_type": "code",
   "execution_count": 398,
   "metadata": {},
   "outputs": [
    {
     "name": "stdout",
     "output_type": "stream",
     "text": [
      "['UNIQUE_ID' 'TOT_VOT' 'REPUBLICAN_PERCENT' 'DEMOCRATIC_PERCENT'\n",
      " 'WHITE_PERCENT' 'BLACK_PERCENT' 'HISPANIC_PERCENT' 'ASIAN_PERCENT'\n",
      " 'region_type']\n"
     ]
    }
   ],
   "source": [
    "print(sc_race_merged_ei_df.columns.values)  "
   ]
  },
  {
   "cell_type": "code",
   "execution_count": 399,
   "metadata": {},
   "outputs": [],
   "source": [
    "sc_race_merged_ei_rural_df = sc_race_merged_ei_df[sc_race_merged_ei_df['region_type'] == 'rural']\n",
    "\n",
    "sc_race_merged_ei_suburban_df = sc_race_merged_ei_df[sc_race_merged_ei_df['region_type'] == 'suburban']\n",
    "\n",
    "sc_race_merged_ei_urban_df = sc_race_merged_ei_df[sc_race_merged_ei_df['region_type'] == 'urban']\n"
   ]
  },
  {
   "cell_type": "code",
   "execution_count": 400,
   "metadata": {},
   "outputs": [],
   "source": [
    "# sc_race_merged_ei_df = normalize_percent_columns(sc_race_merged_ei_df)"
   ]
  },
  {
   "cell_type": "code",
   "execution_count": 401,
   "metadata": {},
   "outputs": [],
   "source": [
    "sc_race_merged_ei_df = sc_race_merged_ei_df[sc_race_merged_ei_df['TOT_VOT']>0]\n",
    "\n",
    "sc_race_merged_ei_rural_df = sc_race_merged_ei_rural_df[sc_race_merged_ei_rural_df['TOT_VOT']>0]\n",
    "\n",
    "sc_race_merged_ei_suburban_df = sc_race_merged_ei_suburban_df[sc_race_merged_ei_suburban_df['TOT_VOT']>0]\n",
    "\n",
    "sc_race_merged_ei_urban_df = sc_race_merged_ei_urban_df[sc_race_merged_ei_urban_df['TOT_VOT']>0]"
   ]
  },
  {
   "cell_type": "code",
   "execution_count": 402,
   "metadata": {},
   "outputs": [],
   "source": [
    "sc_race_merged_ei_df = sc_race_merged_ei_df.sample(n=100, random_state=42)\n",
    "\n",
    "sc_race_merged_ei_rural_df = sc_race_merged_ei_rural_df.sample(n=100, random_state=42)\n",
    "\n",
    "sc_race_merged_ei_suburban_df = sc_race_merged_ei_suburban_df.sample(n=100, random_state=42)\n",
    "\n",
    "sc_race_merged_ei_urban_df = sc_race_merged_ei_urban_df.sample(n=100, random_state=42)"
   ]
  },
  {
   "cell_type": "markdown",
   "metadata": {},
   "source": [
    "##### Economic Group"
   ]
  },
  {
   "cell_type": "code",
   "execution_count": 403,
   "metadata": {},
   "outputs": [],
   "source": [
    "columns_to_keep = ['UNIQUE_ID']"
   ]
  },
  {
   "cell_type": "code",
   "execution_count": 404,
   "metadata": {},
   "outputs": [],
   "source": [
    "sc_economic_with_percentages = calculate_income_distribution(sc_economic_df, income_columns, columns_to_keep)"
   ]
  },
  {
   "cell_type": "code",
   "execution_count": 405,
   "metadata": {},
   "outputs": [],
   "source": [
    "sc_economic_merged_ei_df = pd.merge(sc_election_gov_with_percentages, sc_economic_with_percentages, on='UNIQUE_ID', how='left')"
   ]
  },
  {
   "cell_type": "code",
   "execution_count": 406,
   "metadata": {},
   "outputs": [],
   "source": [
    "sc_economic_merged_ei_df.fillna(0, inplace=True)"
   ]
  },
  {
   "cell_type": "code",
   "execution_count": 407,
   "metadata": {},
   "outputs": [],
   "source": [
    "sc_economic_merged_ei_df = pd.merge(sc_economic_merged_ei_df, sc_region_type_df, on='UNIQUE_ID', how='left')"
   ]
  },
  {
   "cell_type": "code",
   "execution_count": 408,
   "metadata": {},
   "outputs": [],
   "source": [
    "sc_economic_merged_ei_rural_df = sc_economic_merged_ei_df[sc_economic_merged_ei_df['region_type'] == 'rural']\n",
    "\n",
    "sc_economic_merged_ei_suburban_df = sc_economic_merged_ei_df[sc_economic_merged_ei_df['region_type'] == 'suburban']\n",
    "\n",
    "sc_economic_merged_ei_urban_df = sc_economic_merged_ei_df[sc_economic_merged_ei_df['region_type'] == 'urban']"
   ]
  },
  {
   "cell_type": "code",
   "execution_count": 409,
   "metadata": {},
   "outputs": [
    {
     "name": "stdout",
     "output_type": "stream",
     "text": [
      "(1411, 11)\n"
     ]
    }
   ],
   "source": [
    "print(sc_economic_merged_ei_rural_df[sc_economic_merged_ei_rural_df['TOT_VOT'] > 0].shape)"
   ]
  },
  {
   "cell_type": "code",
   "execution_count": 410,
   "metadata": {},
   "outputs": [],
   "source": [
    "sc__merged_ei_df = sc_economic_merged_ei_df[sc_economic_merged_ei_df['TOT_VOT']>0]\n",
    "\n",
    "sc_economic_merged_ei_rural_df = sc_economic_merged_ei_rural_df[sc_economic_merged_ei_rural_df['TOT_VOT']>0]\n",
    "\n",
    "sc_economic_merged_ei_suburban_df = sc_economic_merged_ei_suburban_df[sc_economic_merged_ei_suburban_df['TOT_VOT']>0]\n",
    "\n",
    "sc_economic_merged_ei_urban_df = sc_economic_merged_ei_urban_df[sc_economic_merged_ei_urban_df['TOT_VOT']>0]"
   ]
  },
  {
   "cell_type": "code",
   "execution_count": 411,
   "metadata": {},
   "outputs": [
    {
     "name": "stdout",
     "output_type": "stream",
     "text": [
      "                    UNIQUE_ID  TOT_VOT  REPUBLICAN_PERCENT  \\\n",
      "0     ABBEVILLE_PRECINCT_001_      975            0.736410   \n",
      "1     ABBEVILLE_PRECINCT_002_      628            0.356688   \n",
      "2     ABBEVILLE_PRECINCT_003_      574            0.585366   \n",
      "3     ABBEVILLE_PRECINCT_004_      437            0.723112   \n",
      "4     ABBEVILLE_PRECINCT_005_      722            0.829640   \n",
      "...                       ...      ...                 ...   \n",
      "2251  CLARENDON_PRECINCT_019_      160            0.425000   \n",
      "2252  CLARENDON_PRECINCT_020_     1266            0.632701   \n",
      "2253  CLARENDON_PRECINCT_021_      182            0.186813   \n",
      "2254  CLARENDON_PRECINCT_022_      467            0.218415   \n",
      "2255  CLARENDON_PRECINCT_023_      497            0.814889   \n",
      "\n",
      "      DEMOCRATIC_PERCENT  0_35K_PERCENT  35K_60K_PERCENT  60K_100K_PERCENT  \\\n",
      "0               0.263590       0.208333         0.200000          0.276667   \n",
      "1               0.643312       0.472222         0.418981          0.069444   \n",
      "2               0.414634       0.559792         0.067591          0.213172   \n",
      "3               0.276888       0.350461         0.223979          0.155468   \n",
      "4               0.170360       0.382134         0.029777          0.233251   \n",
      "...                  ...            ...              ...               ...   \n",
      "2251            0.575000       0.341232         0.118483          0.317536   \n",
      "2252            0.367299       0.367174         0.209814          0.263959   \n",
      "2253            0.813187       0.378092         0.349823          0.130742   \n",
      "2254            0.781585       0.466102         0.191525          0.232203   \n",
      "2255            0.185111       0.312883         0.165644          0.251534   \n",
      "\n",
      "      100K_125K_PERCENT  125K_150K_PERCENT  150K_MORE_PERCENT region_type  \n",
      "0              0.088333           0.165000           0.061667       rural  \n",
      "1              0.000000           0.000000           0.039352       rural  \n",
      "2              0.091854           0.000000           0.067591       rural  \n",
      "3              0.046113           0.096179           0.127800       rural  \n",
      "4              0.037221           0.151365           0.166253       rural  \n",
      "...                 ...                ...                ...         ...  \n",
      "2251           0.028436           0.028436           0.165877       rural  \n",
      "2252           0.059222           0.047377           0.052453       rural  \n",
      "2253           0.035336           0.106007           0.000000       rural  \n",
      "2254           0.016949           0.015254           0.077966       rural  \n",
      "2255           0.070552           0.088957           0.110429       rural  \n",
      "\n",
      "[1411 rows x 11 columns]\n"
     ]
    }
   ],
   "source": [
    "print(sc_economic_merged_ei_rural_df)"
   ]
  },
  {
   "cell_type": "code",
   "execution_count": 412,
   "metadata": {},
   "outputs": [],
   "source": [
    "sc_economic_merged_ei_df = sc_economic_merged_ei_df.sample(n=100, random_state=42)\n",
    "\n",
    "sc_economic_merged_ei_rural_df = sc_economic_merged_ei_rural_df.sample(n=100, random_state=42)\n",
    "\n",
    "sc_economic_merged_ei_suburban_df = sc_economic_merged_ei_suburban_df.sample(n=100, random_state=42)\n",
    "\n",
    "sc_economic_merged_ei_urban_df = sc_economic_merged_ei_urban_df.sample(n=100, random_state=42)"
   ]
  },
  {
   "cell_type": "markdown",
   "metadata": {},
   "source": [
    "### Running EI models"
   ]
  },
  {
   "cell_type": "markdown",
   "metadata": {},
   "source": [
    "#### Racial Run"
   ]
  },
  {
   "cell_type": "markdown",
   "metadata": {},
   "source": [
    "##### DEMOCRATIC Run"
   ]
  },
  {
   "cell_type": "code",
   "execution_count": 413,
   "metadata": {},
   "outputs": [
    {
     "name": "stderr",
     "output_type": "stream",
     "text": [
      "Compiling...\n",
      "Compilation time = 0:00:01.617843\n",
      "Sampling...\n"
     ]
    },
    {
     "data": {
      "application/vnd.jupyter.widget-view+json": {
       "model_id": "e185334cfa2744bb9629910a3f1a854c",
       "version_major": 2,
       "version_minor": 0
      },
      "text/plain": [
       "  0%|          | 0/2500 [00:00<?, ?it/s]"
      ]
     },
     "metadata": {},
     "output_type": "display_data"
    },
    {
     "data": {
      "application/vnd.jupyter.widget-view+json": {
       "model_id": "fbd1805300e74bc38df93250c697e57d",
       "version_major": 2,
       "version_minor": 0
      },
      "text/plain": [
       "  0%|          | 0/2500 [00:00<?, ?it/s]"
      ]
     },
     "metadata": {},
     "output_type": "display_data"
    },
    {
     "data": {
      "application/vnd.jupyter.widget-view+json": {
       "model_id": "d3c37600ca0f465ba40962ef91b51b71",
       "version_major": 2,
       "version_minor": 0
      },
      "text/plain": [
       "  0%|          | 0/2500 [00:00<?, ?it/s]"
      ]
     },
     "metadata": {},
     "output_type": "display_data"
    },
    {
     "data": {
      "application/vnd.jupyter.widget-view+json": {
       "model_id": "d4cc45c78d0e48f082580573bed352bf",
       "version_major": 2,
       "version_minor": 0
      },
      "text/plain": [
       "  0%|          | 0/2500 [00:00<?, ?it/s]"
      ]
     },
     "metadata": {},
     "output_type": "display_data"
    },
    {
     "name": "stderr",
     "output_type": "stream",
     "text": [
      "Sampling time = 0:00:04.326635\n",
      "Transforming variables...\n",
      "Transformation time = 0:00:17.679671\n"
     ]
    },
    {
     "name": "stdout",
     "output_type": "stream",
     "text": [
      "Model: king99_pareto_modification\n",
      "        Computed from the raw b_i samples by multiplying by population and then getting\n",
      "        the proportion of the total pop (total pop=summed across all districts):\n",
      "        The posterior mean for the district-level voting preference of\n",
      "        White for Joe Cunningham (Democratic Party) is\n",
      "        0.262\n",
      "        The posterior mean for the district-level voting preference of\n",
      "        non-White for Joe Cunningham (Democratic Party) is\n",
      "        0.652\n",
      "        95% equal-tailed Bayesian credible interval for district-level voting preference of\n",
      "        White for Joe Cunningham (Democratic Party) is\n",
      "        [0.2249661  0.30248031]\n",
      "        95% equal-tailed Bayesian credible interval for district-level voting preference of\n",
      "        non-White for Joe Cunningham (Democratic Party) is\n",
      "        [0.57740592 0.72231948]\n",
      "        \n"
     ]
    }
   ],
   "source": [
    "dem_white_ei, dem_white_summary = run_ecological_inference(\n",
    "    df=sc_race_merged_ei_df,\n",
    "    demographic_col=\"WHITE_PERCENT\",\n",
    "    voting_col=\"DEMOCRATIC_PERCENT\",\n",
    "    total_votes_col=\"TOT_VOT\",\n",
    "    demographic_group_name=\"White\",\n",
    "    candidate_name=sc_candidate_mapping['DEMOCRATIC']\n",
    ")"
   ]
  },
  {
   "cell_type": "code",
   "execution_count": 414,
   "metadata": {},
   "outputs": [
    {
     "name": "stderr",
     "output_type": "stream",
     "text": [
      "Compiling...\n",
      "Compilation time = 0:00:02.120294\n",
      "Sampling...\n"
     ]
    },
    {
     "data": {
      "application/vnd.jupyter.widget-view+json": {
       "model_id": "53f46a969b7545e7bda62e1e8dd5fd9a",
       "version_major": 2,
       "version_minor": 0
      },
      "text/plain": [
       "  0%|          | 0/2500 [00:00<?, ?it/s]"
      ]
     },
     "metadata": {},
     "output_type": "display_data"
    },
    {
     "data": {
      "application/vnd.jupyter.widget-view+json": {
       "model_id": "441c2253040442988c1be487105994cb",
       "version_major": 2,
       "version_minor": 0
      },
      "text/plain": [
       "  0%|          | 0/2500 [00:00<?, ?it/s]"
      ]
     },
     "metadata": {},
     "output_type": "display_data"
    },
    {
     "data": {
      "application/vnd.jupyter.widget-view+json": {
       "model_id": "595860054a8c4e6fa2cff521f3d4669a",
       "version_major": 2,
       "version_minor": 0
      },
      "text/plain": [
       "  0%|          | 0/2500 [00:00<?, ?it/s]"
      ]
     },
     "metadata": {},
     "output_type": "display_data"
    },
    {
     "data": {
      "application/vnd.jupyter.widget-view+json": {
       "model_id": "dedac1883ef64c0fab82979aec11caf2",
       "version_major": 2,
       "version_minor": 0
      },
      "text/plain": [
       "  0%|          | 0/2500 [00:00<?, ?it/s]"
      ]
     },
     "metadata": {},
     "output_type": "display_data"
    },
    {
     "name": "stderr",
     "output_type": "stream",
     "text": [
      "Sampling time = 0:00:02.835855\n",
      "Transforming variables...\n",
      "Transformation time = 0:00:15.341631\n"
     ]
    },
    {
     "name": "stdout",
     "output_type": "stream",
     "text": [
      "Model: king99_pareto_modification\n",
      "        Computed from the raw b_i samples by multiplying by population and then getting\n",
      "        the proportion of the total pop (total pop=summed across all districts):\n",
      "        The posterior mean for the district-level voting preference of\n",
      "        White for Joe Cunningham (Democratic Party) is\n",
      "        0.307\n",
      "        The posterior mean for the district-level voting preference of\n",
      "        non-White for Joe Cunningham (Democratic Party) is\n",
      "        0.608\n",
      "        95% equal-tailed Bayesian credible interval for district-level voting preference of\n",
      "        White for Joe Cunningham (Democratic Party) is\n",
      "        [0.26469362 0.35144487]\n",
      "        95% equal-tailed Bayesian credible interval for district-level voting preference of\n",
      "        non-White for Joe Cunningham (Democratic Party) is\n",
      "        [0.54328383 0.66985286]\n",
      "        \n"
     ]
    }
   ],
   "source": [
    "dem_white_ei_rural, dem_white_summary_rural = run_ecological_inference(\n",
    "    df=sc_race_merged_ei_rural_df,\n",
    "    demographic_col=\"WHITE_PERCENT\",\n",
    "    voting_col=\"DEMOCRATIC_PERCENT\",\n",
    "    total_votes_col=\"TOT_VOT\",\n",
    "    demographic_group_name=\"White\",\n",
    "    candidate_name=sc_candidate_mapping['DEMOCRATIC']\n",
    ")"
   ]
  },
  {
   "cell_type": "code",
   "execution_count": 415,
   "metadata": {},
   "outputs": [
    {
     "name": "stderr",
     "output_type": "stream",
     "text": [
      "Compiling...\n",
      "Compilation time = 0:00:01.344915\n",
      "Sampling...\n"
     ]
    },
    {
     "data": {
      "application/vnd.jupyter.widget-view+json": {
       "model_id": "205188ade9564cf2908e2b3c58dd128e",
       "version_major": 2,
       "version_minor": 0
      },
      "text/plain": [
       "  0%|          | 0/2500 [00:00<?, ?it/s]"
      ]
     },
     "metadata": {},
     "output_type": "display_data"
    },
    {
     "data": {
      "application/vnd.jupyter.widget-view+json": {
       "model_id": "bfa28eaffd2e44dd87fde235a95e83a8",
       "version_major": 2,
       "version_minor": 0
      },
      "text/plain": [
       "  0%|          | 0/2500 [00:00<?, ?it/s]"
      ]
     },
     "metadata": {},
     "output_type": "display_data"
    },
    {
     "data": {
      "application/vnd.jupyter.widget-view+json": {
       "model_id": "92bf920730694a67a0567b1d68f68feb",
       "version_major": 2,
       "version_minor": 0
      },
      "text/plain": [
       "  0%|          | 0/2500 [00:00<?, ?it/s]"
      ]
     },
     "metadata": {},
     "output_type": "display_data"
    },
    {
     "data": {
      "application/vnd.jupyter.widget-view+json": {
       "model_id": "a1fb8c7a4cef46c8946fcfddbea670af",
       "version_major": 2,
       "version_minor": 0
      },
      "text/plain": [
       "  0%|          | 0/2500 [00:00<?, ?it/s]"
      ]
     },
     "metadata": {},
     "output_type": "display_data"
    },
    {
     "name": "stderr",
     "output_type": "stream",
     "text": [
      "Sampling time = 0:00:02.192098\n",
      "Transforming variables...\n",
      "Transformation time = 0:00:16.433948\n"
     ]
    },
    {
     "name": "stdout",
     "output_type": "stream",
     "text": [
      "Model: king99_pareto_modification\n",
      "        Computed from the raw b_i samples by multiplying by population and then getting\n",
      "        the proportion of the total pop (total pop=summed across all districts):\n",
      "        The posterior mean for the district-level voting preference of\n",
      "        White for Joe Cunningham (Democratic Party) is\n",
      "        0.226\n",
      "        The posterior mean for the district-level voting preference of\n",
      "        non-White for Joe Cunningham (Democratic Party) is\n",
      "        0.823\n",
      "        95% equal-tailed Bayesian credible interval for district-level voting preference of\n",
      "        White for Joe Cunningham (Democratic Party) is\n",
      "        [0.20307142 0.25376989]\n",
      "        95% equal-tailed Bayesian credible interval for district-level voting preference of\n",
      "        non-White for Joe Cunningham (Democratic Party) is\n",
      "        [0.75614752 0.87493041]\n",
      "        \n"
     ]
    }
   ],
   "source": [
    "dem_white_ei_subrban, dem_white_summary_suburban = run_ecological_inference(\n",
    "    df=sc_race_merged_ei_suburban_df,\n",
    "    demographic_col=\"WHITE_PERCENT\",\n",
    "    voting_col=\"DEMOCRATIC_PERCENT\",\n",
    "    total_votes_col=\"TOT_VOT\",\n",
    "    demographic_group_name=\"White\",\n",
    "    candidate_name=sc_candidate_mapping['DEMOCRATIC']\n",
    ")"
   ]
  },
  {
   "cell_type": "code",
   "execution_count": 416,
   "metadata": {},
   "outputs": [
    {
     "name": "stderr",
     "output_type": "stream",
     "text": [
      "Compiling...\n",
      "Compilation time = 0:00:04.545497\n",
      "Sampling...\n"
     ]
    },
    {
     "data": {
      "application/vnd.jupyter.widget-view+json": {
       "model_id": "cf1543286c0049318deb39d82c46e77e",
       "version_major": 2,
       "version_minor": 0
      },
      "text/plain": [
       "  0%|          | 0/2500 [00:00<?, ?it/s]"
      ]
     },
     "metadata": {},
     "output_type": "display_data"
    },
    {
     "data": {
      "application/vnd.jupyter.widget-view+json": {
       "model_id": "bee190720a0c4c368d617fd7fafcad06",
       "version_major": 2,
       "version_minor": 0
      },
      "text/plain": [
       "  0%|          | 0/2500 [00:00<?, ?it/s]"
      ]
     },
     "metadata": {},
     "output_type": "display_data"
    },
    {
     "data": {
      "application/vnd.jupyter.widget-view+json": {
       "model_id": "2e5f9a2c7c124ca6b3c90dcddbb5be15",
       "version_major": 2,
       "version_minor": 0
      },
      "text/plain": [
       "  0%|          | 0/2500 [00:00<?, ?it/s]"
      ]
     },
     "metadata": {},
     "output_type": "display_data"
    },
    {
     "data": {
      "application/vnd.jupyter.widget-view+json": {
       "model_id": "b01e56e91d9243deb54655021bf9ed47",
       "version_major": 2,
       "version_minor": 0
      },
      "text/plain": [
       "  0%|          | 0/2500 [00:00<?, ?it/s]"
      ]
     },
     "metadata": {},
     "output_type": "display_data"
    },
    {
     "name": "stderr",
     "output_type": "stream",
     "text": [
      "Sampling time = 0:00:02.515359\n",
      "Transforming variables...\n",
      "Transformation time = 0:00:19.279535\n"
     ]
    },
    {
     "name": "stdout",
     "output_type": "stream",
     "text": [
      "Model: king99_pareto_modification\n",
      "        Computed from the raw b_i samples by multiplying by population and then getting\n",
      "        the proportion of the total pop (total pop=summed across all districts):\n",
      "        The posterior mean for the district-level voting preference of\n",
      "        White for Joe Cunningham (Democratic Party) is\n",
      "        0.245\n",
      "        The posterior mean for the district-level voting preference of\n",
      "        non-White for Joe Cunningham (Democratic Party) is\n",
      "        0.797\n",
      "        95% equal-tailed Bayesian credible interval for district-level voting preference of\n",
      "        White for Joe Cunningham (Democratic Party) is\n",
      "        [0.2177605  0.27439698]\n",
      "        95% equal-tailed Bayesian credible interval for district-level voting preference of\n",
      "        non-White for Joe Cunningham (Democratic Party) is\n",
      "        [0.71398027 0.87022425]\n",
      "        \n"
     ]
    }
   ],
   "source": [
    "dem_white_ei_urban, dem_white_summary_urban = run_ecological_inference(\n",
    "    df=sc_race_merged_ei_urban_df,\n",
    "    demographic_col=\"WHITE_PERCENT\",\n",
    "    voting_col=\"DEMOCRATIC_PERCENT\",\n",
    "    total_votes_col=\"TOT_VOT\",\n",
    "    demographic_group_name=\"White\",\n",
    "    candidate_name=sc_candidate_mapping['DEMOCRATIC']\n",
    ")"
   ]
  },
  {
   "cell_type": "code",
   "execution_count": 417,
   "metadata": {},
   "outputs": [
    {
     "name": "stderr",
     "output_type": "stream",
     "text": [
      "Compiling...\n",
      "Compilation time = 0:00:01.454066\n",
      "Sampling...\n"
     ]
    },
    {
     "data": {
      "application/vnd.jupyter.widget-view+json": {
       "model_id": "8e5a5b8c4e7b47aa87d4168f8861da36",
       "version_major": 2,
       "version_minor": 0
      },
      "text/plain": [
       "  0%|          | 0/2500 [00:00<?, ?it/s]"
      ]
     },
     "metadata": {},
     "output_type": "display_data"
    },
    {
     "data": {
      "application/vnd.jupyter.widget-view+json": {
       "model_id": "70d1a38d3fac4d2fb2b71b42a23fa039",
       "version_major": 2,
       "version_minor": 0
      },
      "text/plain": [
       "  0%|          | 0/2500 [00:00<?, ?it/s]"
      ]
     },
     "metadata": {},
     "output_type": "display_data"
    },
    {
     "data": {
      "application/vnd.jupyter.widget-view+json": {
       "model_id": "fe5cc9f99ae54e0db1dd4d75ca2e2c5c",
       "version_major": 2,
       "version_minor": 0
      },
      "text/plain": [
       "  0%|          | 0/2500 [00:00<?, ?it/s]"
      ]
     },
     "metadata": {},
     "output_type": "display_data"
    },
    {
     "data": {
      "application/vnd.jupyter.widget-view+json": {
       "model_id": "d67867dcad1c412097ff85de6267570c",
       "version_major": 2,
       "version_minor": 0
      },
      "text/plain": [
       "  0%|          | 0/2500 [00:00<?, ?it/s]"
      ]
     },
     "metadata": {},
     "output_type": "display_data"
    },
    {
     "name": "stderr",
     "output_type": "stream",
     "text": [
      "Sampling time = 0:00:02.222107\n",
      "Transforming variables...\n",
      "Transformation time = 0:00:19.035338\n"
     ]
    },
    {
     "name": "stdout",
     "output_type": "stream",
     "text": [
      "Model: king99_pareto_modification\n",
      "        Computed from the raw b_i samples by multiplying by population and then getting\n",
      "        the proportion of the total pop (total pop=summed across all districts):\n",
      "        The posterior mean for the district-level voting preference of\n",
      "        Black for Joe Cunningham (Democratic Party) is\n",
      "        0.854\n",
      "        The posterior mean for the district-level voting preference of\n",
      "        non-Black for Joe Cunningham (Democratic Party) is\n",
      "        0.287\n",
      "        95% equal-tailed Bayesian credible interval for district-level voting preference of\n",
      "        Black for Joe Cunningham (Democratic Party) is\n",
      "        [0.77473119 0.91965745]\n",
      "        95% equal-tailed Bayesian credible interval for district-level voting preference of\n",
      "        non-Black for Joe Cunningham (Democratic Party) is\n",
      "        [0.27236351 0.30491843]\n",
      "        \n"
     ]
    }
   ],
   "source": [
    "dem_black_ei, dem_black_summary = run_ecological_inference(\n",
    "    df=sc_race_merged_ei_df,\n",
    "    demographic_col=\"BLACK_PERCENT\",\n",
    "    voting_col=\"DEMOCRATIC_PERCENT\",\n",
    "    total_votes_col=\"TOT_VOT\",\n",
    "    demographic_group_name=\"Black\",\n",
    "    candidate_name=sc_candidate_mapping['DEMOCRATIC']\n",
    ")"
   ]
  },
  {
   "cell_type": "code",
   "execution_count": 418,
   "metadata": {},
   "outputs": [
    {
     "name": "stderr",
     "output_type": "stream",
     "text": [
      "Compiling...\n",
      "Compilation time = 0:00:01.800915\n",
      "Sampling...\n"
     ]
    },
    {
     "data": {
      "application/vnd.jupyter.widget-view+json": {
       "model_id": "fedc12aebb36423dbb6d37600181e798",
       "version_major": 2,
       "version_minor": 0
      },
      "text/plain": [
       "  0%|          | 0/2500 [00:00<?, ?it/s]"
      ]
     },
     "metadata": {},
     "output_type": "display_data"
    },
    {
     "data": {
      "application/vnd.jupyter.widget-view+json": {
       "model_id": "5677cd75981a4e52ba8473a7a5eb831d",
       "version_major": 2,
       "version_minor": 0
      },
      "text/plain": [
       "  0%|          | 0/2500 [00:00<?, ?it/s]"
      ]
     },
     "metadata": {},
     "output_type": "display_data"
    },
    {
     "data": {
      "application/vnd.jupyter.widget-view+json": {
       "model_id": "ebd8db9a221c4dec964b7f656fc1629c",
       "version_major": 2,
       "version_minor": 0
      },
      "text/plain": [
       "  0%|          | 0/2500 [00:00<?, ?it/s]"
      ]
     },
     "metadata": {},
     "output_type": "display_data"
    },
    {
     "data": {
      "application/vnd.jupyter.widget-view+json": {
       "model_id": "2939883f1131456b8b59eb784702e60f",
       "version_major": 2,
       "version_minor": 0
      },
      "text/plain": [
       "  0%|          | 0/2500 [00:00<?, ?it/s]"
      ]
     },
     "metadata": {},
     "output_type": "display_data"
    },
    {
     "name": "stderr",
     "output_type": "stream",
     "text": [
      "Sampling time = 0:00:02.294746\n",
      "Transforming variables...\n",
      "Transformation time = 0:00:16.890619\n"
     ]
    },
    {
     "name": "stdout",
     "output_type": "stream",
     "text": [
      "Model: king99_pareto_modification\n",
      "        Computed from the raw b_i samples by multiplying by population and then getting\n",
      "        the proportion of the total pop (total pop=summed across all districts):\n",
      "        The posterior mean for the district-level voting preference of\n",
      "        Black for Joe Cunningham (Democratic Party) is\n",
      "        0.758\n",
      "        The posterior mean for the district-level voting preference of\n",
      "        non-Black for Joe Cunningham (Democratic Party) is\n",
      "        0.315\n",
      "        95% equal-tailed Bayesian credible interval for district-level voting preference of\n",
      "        Black for Joe Cunningham (Democratic Party) is\n",
      "        [0.67120807 0.83219176]\n",
      "        95% equal-tailed Bayesian credible interval for district-level voting preference of\n",
      "        non-Black for Joe Cunningham (Democratic Party) is\n",
      "        [0.29019531 0.34223453]\n",
      "        \n"
     ]
    }
   ],
   "source": [
    "dem_black_ei_rural, dem_black_summary_rural = run_ecological_inference(\n",
    "    df=sc_race_merged_ei_rural_df,\n",
    "    demographic_col=\"BLACK_PERCENT\",\n",
    "    voting_col=\"DEMOCRATIC_PERCENT\",\n",
    "    total_votes_col=\"TOT_VOT\",\n",
    "    demographic_group_name=\"Black\",\n",
    "    candidate_name=sc_candidate_mapping['DEMOCRATIC']\n",
    ")"
   ]
  },
  {
   "cell_type": "code",
   "execution_count": 419,
   "metadata": {},
   "outputs": [
    {
     "name": "stderr",
     "output_type": "stream",
     "text": [
      "Compiling...\n",
      "Compilation time = 0:00:01.233358\n",
      "Sampling...\n"
     ]
    },
    {
     "data": {
      "application/vnd.jupyter.widget-view+json": {
       "model_id": "3e3a56d0fe374c88aba5dc4c04b87404",
       "version_major": 2,
       "version_minor": 0
      },
      "text/plain": [
       "  0%|          | 0/2500 [00:00<?, ?it/s]"
      ]
     },
     "metadata": {},
     "output_type": "display_data"
    },
    {
     "data": {
      "application/vnd.jupyter.widget-view+json": {
       "model_id": "31cadfedbace4ef49a52cd7e6606ac6a",
       "version_major": 2,
       "version_minor": 0
      },
      "text/plain": [
       "  0%|          | 0/2500 [00:00<?, ?it/s]"
      ]
     },
     "metadata": {},
     "output_type": "display_data"
    },
    {
     "data": {
      "application/vnd.jupyter.widget-view+json": {
       "model_id": "a0b19c9efbd94810acd602d2a092ea18",
       "version_major": 2,
       "version_minor": 0
      },
      "text/plain": [
       "  0%|          | 0/2500 [00:00<?, ?it/s]"
      ]
     },
     "metadata": {},
     "output_type": "display_data"
    },
    {
     "data": {
      "application/vnd.jupyter.widget-view+json": {
       "model_id": "a8375566175b4267a0b2bb33bbfa6fe3",
       "version_major": 2,
       "version_minor": 0
      },
      "text/plain": [
       "  0%|          | 0/2500 [00:00<?, ?it/s]"
      ]
     },
     "metadata": {},
     "output_type": "display_data"
    },
    {
     "name": "stderr",
     "output_type": "stream",
     "text": [
      "Sampling time = 0:00:02.107423\n",
      "Transforming variables...\n",
      "Transformation time = 0:00:16.735051\n"
     ]
    },
    {
     "name": "stdout",
     "output_type": "stream",
     "text": [
      "Model: king99_pareto_modification\n",
      "        Computed from the raw b_i samples by multiplying by population and then getting\n",
      "        the proportion of the total pop (total pop=summed across all districts):\n",
      "        The posterior mean for the district-level voting preference of\n",
      "        Black for Joe Cunningham (Democratic Party) is\n",
      "        0.849\n",
      "        The posterior mean for the district-level voting preference of\n",
      "        non-Black for Joe Cunningham (Democratic Party) is\n",
      "        0.297\n",
      "        95% equal-tailed Bayesian credible interval for district-level voting preference of\n",
      "        Black for Joe Cunningham (Democratic Party) is\n",
      "        [0.7748046  0.90906691]\n",
      "        95% equal-tailed Bayesian credible interval for district-level voting preference of\n",
      "        non-Black for Joe Cunningham (Democratic Party) is\n",
      "        [0.28018004 0.31614212]\n",
      "        \n"
     ]
    }
   ],
   "source": [
    "dem_black_ei_suburban, dem_black_summary_suburban = run_ecological_inference(\n",
    "    df=sc_race_merged_ei_suburban_df,\n",
    "    demographic_col=\"BLACK_PERCENT\",\n",
    "    voting_col=\"DEMOCRATIC_PERCENT\",\n",
    "    total_votes_col=\"TOT_VOT\",\n",
    "    demographic_group_name=\"Black\",\n",
    "    candidate_name=sc_candidate_mapping['DEMOCRATIC']\n",
    ")"
   ]
  },
  {
   "cell_type": "code",
   "execution_count": 420,
   "metadata": {},
   "outputs": [
    {
     "name": "stderr",
     "output_type": "stream",
     "text": [
      "Compiling...\n",
      "Compilation time = 0:00:01.311657\n",
      "Sampling...\n"
     ]
    },
    {
     "data": {
      "application/vnd.jupyter.widget-view+json": {
       "model_id": "2bd8c60f9d31497287af785a5b492df4",
       "version_major": 2,
       "version_minor": 0
      },
      "text/plain": [
       "  0%|          | 0/2500 [00:00<?, ?it/s]"
      ]
     },
     "metadata": {},
     "output_type": "display_data"
    },
    {
     "data": {
      "application/vnd.jupyter.widget-view+json": {
       "model_id": "f622e87224bd48519474178a144d1c9b",
       "version_major": 2,
       "version_minor": 0
      },
      "text/plain": [
       "  0%|          | 0/2500 [00:00<?, ?it/s]"
      ]
     },
     "metadata": {},
     "output_type": "display_data"
    },
    {
     "data": {
      "application/vnd.jupyter.widget-view+json": {
       "model_id": "804525169af4410d8a1f33076f4488bc",
       "version_major": 2,
       "version_minor": 0
      },
      "text/plain": [
       "  0%|          | 0/2500 [00:00<?, ?it/s]"
      ]
     },
     "metadata": {},
     "output_type": "display_data"
    },
    {
     "data": {
      "application/vnd.jupyter.widget-view+json": {
       "model_id": "85b590446d45432c9c89f11db52f9c9b",
       "version_major": 2,
       "version_minor": 0
      },
      "text/plain": [
       "  0%|          | 0/2500 [00:00<?, ?it/s]"
      ]
     },
     "metadata": {},
     "output_type": "display_data"
    },
    {
     "name": "stderr",
     "output_type": "stream",
     "text": [
      "Sampling time = 0:00:01.890666\n",
      "Transforming variables...\n",
      "Transformation time = 0:00:21.695620\n"
     ]
    },
    {
     "name": "stdout",
     "output_type": "stream",
     "text": [
      "Model: king99_pareto_modification\n",
      "        Computed from the raw b_i samples by multiplying by population and then getting\n",
      "        the proportion of the total pop (total pop=summed across all districts):\n",
      "        The posterior mean for the district-level voting preference of\n",
      "        Black for Joe Cunningham (Democratic Party) is\n",
      "        0.880\n",
      "        The posterior mean for the district-level voting preference of\n",
      "        non-Black for Joe Cunningham (Democratic Party) is\n",
      "        0.290\n",
      "        95% equal-tailed Bayesian credible interval for district-level voting preference of\n",
      "        Black for Joe Cunningham (Democratic Party) is\n",
      "        [0.79062693 0.94942589]\n",
      "        95% equal-tailed Bayesian credible interval for district-level voting preference of\n",
      "        non-Black for Joe Cunningham (Democratic Party) is\n",
      "        [0.27452152 0.31039653]\n",
      "        \n"
     ]
    }
   ],
   "source": [
    "dem_black_ei_urban, dem_black_summary_urban = run_ecological_inference(\n",
    "    df=sc_race_merged_ei_urban_df,\n",
    "    demographic_col=\"BLACK_PERCENT\",\n",
    "    voting_col=\"DEMOCRATIC_PERCENT\",\n",
    "    total_votes_col=\"TOT_VOT\",\n",
    "    demographic_group_name=\"Black\",\n",
    "    candidate_name=sc_candidate_mapping['DEMOCRATIC']\n",
    ")"
   ]
  },
  {
   "cell_type": "code",
   "execution_count": 421,
   "metadata": {},
   "outputs": [
    {
     "name": "stderr",
     "output_type": "stream",
     "text": [
      "Compiling...\n",
      "Compilation time = 0:00:03.243826\n",
      "Sampling...\n"
     ]
    },
    {
     "data": {
      "application/vnd.jupyter.widget-view+json": {
       "model_id": "f41ff6ede90547b1aa8998bb645de961",
       "version_major": 2,
       "version_minor": 0
      },
      "text/plain": [
       "  0%|          | 0/2500 [00:00<?, ?it/s]"
      ]
     },
     "metadata": {},
     "output_type": "display_data"
    },
    {
     "data": {
      "application/vnd.jupyter.widget-view+json": {
       "model_id": "625f070b077d496bb87818f44f1d4c0e",
       "version_major": 2,
       "version_minor": 0
      },
      "text/plain": [
       "  0%|          | 0/2500 [00:00<?, ?it/s]"
      ]
     },
     "metadata": {},
     "output_type": "display_data"
    },
    {
     "data": {
      "application/vnd.jupyter.widget-view+json": {
       "model_id": "5f3795c4e4494af397810910246d7f9f",
       "version_major": 2,
       "version_minor": 0
      },
      "text/plain": [
       "  0%|          | 0/2500 [00:00<?, ?it/s]"
      ]
     },
     "metadata": {},
     "output_type": "display_data"
    },
    {
     "data": {
      "application/vnd.jupyter.widget-view+json": {
       "model_id": "d5a6cd0106d648c88178b19f7812c7ee",
       "version_major": 2,
       "version_minor": 0
      },
      "text/plain": [
       "  0%|          | 0/2500 [00:00<?, ?it/s]"
      ]
     },
     "metadata": {},
     "output_type": "display_data"
    },
    {
     "name": "stderr",
     "output_type": "stream",
     "text": [
      "Sampling time = 0:00:02.046414\n",
      "Transforming variables...\n",
      "Transformation time = 0:00:13.890099\n"
     ]
    },
    {
     "name": "stdout",
     "output_type": "stream",
     "text": [
      "Model: king99_pareto_modification\n",
      "        Computed from the raw b_i samples by multiplying by population and then getting\n",
      "        the proportion of the total pop (total pop=summed across all districts):\n",
      "        The posterior mean for the district-level voting preference of\n",
      "        Asian for Joe Cunningham (Democratic Party) is\n",
      "        0.580\n",
      "        The posterior mean for the district-level voting preference of\n",
      "        non-Asian for Joe Cunningham (Democratic Party) is\n",
      "        0.384\n",
      "        95% equal-tailed Bayesian credible interval for district-level voting preference of\n",
      "        Asian for Joe Cunningham (Democratic Party) is\n",
      "        [0.09737233 0.96607816]\n",
      "        95% equal-tailed Bayesian credible interval for district-level voting preference of\n",
      "        non-Asian for Joe Cunningham (Democratic Party) is\n",
      "        [0.3777878  0.39158261]\n",
      "        \n"
     ]
    }
   ],
   "source": [
    "dem_asian_ei, dem_asian_summary = run_ecological_inference(\n",
    "    df=sc_race_merged_ei_df,\n",
    "    demographic_col=\"ASIAN_PERCENT\",\n",
    "    voting_col=\"DEMOCRATIC_PERCENT\",\n",
    "    total_votes_col=\"TOT_VOT\",\n",
    "    demographic_group_name=\"Asian\",\n",
    "    candidate_name=sc_candidate_mapping['DEMOCRATIC']\n",
    ")"
   ]
  },
  {
   "cell_type": "code",
   "execution_count": 422,
   "metadata": {},
   "outputs": [
    {
     "name": "stderr",
     "output_type": "stream",
     "text": [
      "Compiling...\n",
      "Compilation time = 0:00:01.213048\n",
      "Sampling...\n"
     ]
    },
    {
     "data": {
      "application/vnd.jupyter.widget-view+json": {
       "model_id": "54689eb4ac0147e898830263a233663e",
       "version_major": 2,
       "version_minor": 0
      },
      "text/plain": [
       "  0%|          | 0/2500 [00:00<?, ?it/s]"
      ]
     },
     "metadata": {},
     "output_type": "display_data"
    },
    {
     "data": {
      "application/vnd.jupyter.widget-view+json": {
       "model_id": "a03499d3364446e2b181db98235733b7",
       "version_major": 2,
       "version_minor": 0
      },
      "text/plain": [
       "  0%|          | 0/2500 [00:00<?, ?it/s]"
      ]
     },
     "metadata": {},
     "output_type": "display_data"
    },
    {
     "data": {
      "application/vnd.jupyter.widget-view+json": {
       "model_id": "4840c230edeb47b8a5e31739234bfb62",
       "version_major": 2,
       "version_minor": 0
      },
      "text/plain": [
       "  0%|          | 0/2500 [00:00<?, ?it/s]"
      ]
     },
     "metadata": {},
     "output_type": "display_data"
    },
    {
     "data": {
      "application/vnd.jupyter.widget-view+json": {
       "model_id": "a91ccca181ae4e11b7ebf7fd2dcbbe82",
       "version_major": 2,
       "version_minor": 0
      },
      "text/plain": [
       "  0%|          | 0/2500 [00:00<?, ?it/s]"
      ]
     },
     "metadata": {},
     "output_type": "display_data"
    },
    {
     "name": "stderr",
     "output_type": "stream",
     "text": [
      "Sampling time = 0:00:02.052729\n",
      "Transforming variables...\n",
      "Transformation time = 0:00:11.449931\n"
     ]
    },
    {
     "name": "stdout",
     "output_type": "stream",
     "text": [
      "Model: king99_pareto_modification\n",
      "        Computed from the raw b_i samples by multiplying by population and then getting\n",
      "        the proportion of the total pop (total pop=summed across all districts):\n",
      "        The posterior mean for the district-level voting preference of\n",
      "        Asian for Joe Cunningham (Democratic Party) is\n",
      "        0.433\n",
      "        The posterior mean for the district-level voting preference of\n",
      "        non-Asian for Joe Cunningham (Democratic Party) is\n",
      "        0.418\n",
      "        95% equal-tailed Bayesian credible interval for district-level voting preference of\n",
      "        Asian for Joe Cunningham (Democratic Party) is\n",
      "        [0.04065916 0.92053631]\n",
      "        95% equal-tailed Bayesian credible interval for district-level voting preference of\n",
      "        non-Asian for Joe Cunningham (Democratic Party) is\n",
      "        [0.41328643 0.42246997]\n",
      "        \n"
     ]
    }
   ],
   "source": [
    "dem_asian_ei_rural, dem_asian_summary_rural = run_ecological_inference(\n",
    "    df=sc_race_merged_ei_rural_df,\n",
    "    demographic_col=\"ASIAN_PERCENT\",\n",
    "    voting_col=\"DEMOCRATIC_PERCENT\",\n",
    "    total_votes_col=\"TOT_VOT\",\n",
    "    demographic_group_name=\"Asian\",\n",
    "    candidate_name=sc_candidate_mapping['DEMOCRATIC']\n",
    ")"
   ]
  },
  {
   "cell_type": "code",
   "execution_count": 423,
   "metadata": {},
   "outputs": [
    {
     "name": "stderr",
     "output_type": "stream",
     "text": [
      "Compiling...\n",
      "Compilation time = 0:00:01.227308\n",
      "Sampling...\n"
     ]
    },
    {
     "data": {
      "application/vnd.jupyter.widget-view+json": {
       "model_id": "c2d2eb5b762b457683c7859e20025d94",
       "version_major": 2,
       "version_minor": 0
      },
      "text/plain": [
       "  0%|          | 0/2500 [00:00<?, ?it/s]"
      ]
     },
     "metadata": {},
     "output_type": "display_data"
    },
    {
     "data": {
      "application/vnd.jupyter.widget-view+json": {
       "model_id": "af26ce7df3884fcc861e3f61cb010515",
       "version_major": 2,
       "version_minor": 0
      },
      "text/plain": [
       "  0%|          | 0/2500 [00:00<?, ?it/s]"
      ]
     },
     "metadata": {},
     "output_type": "display_data"
    },
    {
     "data": {
      "application/vnd.jupyter.widget-view+json": {
       "model_id": "947156d6a07f4a43914dceb0c41764af",
       "version_major": 2,
       "version_minor": 0
      },
      "text/plain": [
       "  0%|          | 0/2500 [00:00<?, ?it/s]"
      ]
     },
     "metadata": {},
     "output_type": "display_data"
    },
    {
     "data": {
      "application/vnd.jupyter.widget-view+json": {
       "model_id": "47c4673e22e449c18c91c7120430c1de",
       "version_major": 2,
       "version_minor": 0
      },
      "text/plain": [
       "  0%|          | 0/2500 [00:00<?, ?it/s]"
      ]
     },
     "metadata": {},
     "output_type": "display_data"
    },
    {
     "name": "stderr",
     "output_type": "stream",
     "text": [
      "Sampling time = 0:00:02.033471\n",
      "Transforming variables...\n",
      "Transformation time = 0:00:18.871656\n"
     ]
    },
    {
     "name": "stdout",
     "output_type": "stream",
     "text": [
      "Model: king99_pareto_modification\n",
      "        Computed from the raw b_i samples by multiplying by population and then getting\n",
      "        the proportion of the total pop (total pop=summed across all districts):\n",
      "        The posterior mean for the district-level voting preference of\n",
      "        Asian for Joe Cunningham (Democratic Party) is\n",
      "        0.703\n",
      "        The posterior mean for the district-level voting preference of\n",
      "        non-Asian for Joe Cunningham (Democratic Party) is\n",
      "        0.414\n",
      "        95% equal-tailed Bayesian credible interval for district-level voting preference of\n",
      "        Asian for Joe Cunningham (Democratic Party) is\n",
      "        [0.2285832  0.94777913]\n",
      "        95% equal-tailed Bayesian credible interval for district-level voting preference of\n",
      "        non-Asian for Joe Cunningham (Democratic Party) is\n",
      "        [0.40706573 0.42569778]\n",
      "        \n"
     ]
    }
   ],
   "source": [
    "dem_asian_ei_suburban, dem_asian_summary_suburban = run_ecological_inference(\n",
    "    df=sc_race_merged_ei_suburban_df,\n",
    "    demographic_col=\"ASIAN_PERCENT\",\n",
    "    voting_col=\"DEMOCRATIC_PERCENT\",\n",
    "    total_votes_col=\"TOT_VOT\",\n",
    "    demographic_group_name=\"Asian\",\n",
    "    candidate_name=sc_candidate_mapping['DEMOCRATIC']\n",
    ")"
   ]
  },
  {
   "cell_type": "code",
   "execution_count": 424,
   "metadata": {},
   "outputs": [
    {
     "name": "stderr",
     "output_type": "stream",
     "text": [
      "Compiling...\n",
      "Compilation time = 0:00:01.336957\n",
      "Sampling...\n"
     ]
    },
    {
     "data": {
      "application/vnd.jupyter.widget-view+json": {
       "model_id": "f0c30044071e4e99853ed15752deda09",
       "version_major": 2,
       "version_minor": 0
      },
      "text/plain": [
       "  0%|          | 0/2500 [00:00<?, ?it/s]"
      ]
     },
     "metadata": {},
     "output_type": "display_data"
    },
    {
     "data": {
      "application/vnd.jupyter.widget-view+json": {
       "model_id": "45ae6e8b733149c2aee4baf87321f6a7",
       "version_major": 2,
       "version_minor": 0
      },
      "text/plain": [
       "  0%|          | 0/2500 [00:00<?, ?it/s]"
      ]
     },
     "metadata": {},
     "output_type": "display_data"
    },
    {
     "data": {
      "application/vnd.jupyter.widget-view+json": {
       "model_id": "88de2d1a2ab4475ebf5d4b0106fe0775",
       "version_major": 2,
       "version_minor": 0
      },
      "text/plain": [
       "  0%|          | 0/2500 [00:00<?, ?it/s]"
      ]
     },
     "metadata": {},
     "output_type": "display_data"
    },
    {
     "data": {
      "application/vnd.jupyter.widget-view+json": {
       "model_id": "583a7362a9f541b9a894145fe25c2c2b",
       "version_major": 2,
       "version_minor": 0
      },
      "text/plain": [
       "  0%|          | 0/2500 [00:00<?, ?it/s]"
      ]
     },
     "metadata": {},
     "output_type": "display_data"
    },
    {
     "name": "stderr",
     "output_type": "stream",
     "text": [
      "Sampling time = 0:00:02.245671\n",
      "Transforming variables...\n",
      "Transformation time = 0:00:35.679074\n"
     ]
    },
    {
     "name": "stdout",
     "output_type": "stream",
     "text": [
      "Model: king99_pareto_modification\n",
      "        Computed from the raw b_i samples by multiplying by population and then getting\n",
      "        the proportion of the total pop (total pop=summed across all districts):\n",
      "        The posterior mean for the district-level voting preference of\n",
      "        Asian for Joe Cunningham (Democratic Party) is\n",
      "        0.835\n",
      "        The posterior mean for the district-level voting preference of\n",
      "        non-Asian for Joe Cunningham (Democratic Party) is\n",
      "        0.388\n",
      "        95% equal-tailed Bayesian credible interval for district-level voting preference of\n",
      "        Asian for Joe Cunningham (Democratic Party) is\n",
      "        [0.47992485 0.98784259]\n",
      "        95% equal-tailed Bayesian credible interval for district-level voting preference of\n",
      "        non-Asian for Joe Cunningham (Democratic Party) is\n",
      "        [0.38329112 0.39678897]\n",
      "        \n"
     ]
    }
   ],
   "source": [
    "dem_asian_ei_urban, dem_asian_summary_urban = run_ecological_inference(\n",
    "    df=sc_race_merged_ei_urban_df,\n",
    "    demographic_col=\"ASIAN_PERCENT\",\n",
    "    voting_col=\"DEMOCRATIC_PERCENT\",\n",
    "    total_votes_col=\"TOT_VOT\",\n",
    "    demographic_group_name=\"Asian\",\n",
    "    candidate_name=sc_candidate_mapping['DEMOCRATIC']\n",
    ")"
   ]
  },
  {
   "cell_type": "code",
   "execution_count": 425,
   "metadata": {},
   "outputs": [
    {
     "name": "stderr",
     "output_type": "stream",
     "text": [
      "Compiling...\n",
      "Compilation time = 0:00:01.394726\n",
      "Sampling...\n"
     ]
    },
    {
     "data": {
      "application/vnd.jupyter.widget-view+json": {
       "model_id": "9ef2517642a545e0a8f258aa56c15ba3",
       "version_major": 2,
       "version_minor": 0
      },
      "text/plain": [
       "  0%|          | 0/2500 [00:00<?, ?it/s]"
      ]
     },
     "metadata": {},
     "output_type": "display_data"
    },
    {
     "data": {
      "application/vnd.jupyter.widget-view+json": {
       "model_id": "15492c147cb34ddebab4cb55f4178c86",
       "version_major": 2,
       "version_minor": 0
      },
      "text/plain": [
       "  0%|          | 0/2500 [00:00<?, ?it/s]"
      ]
     },
     "metadata": {},
     "output_type": "display_data"
    },
    {
     "data": {
      "application/vnd.jupyter.widget-view+json": {
       "model_id": "9046cb2c20ea4572bb1b009f6e02a84a",
       "version_major": 2,
       "version_minor": 0
      },
      "text/plain": [
       "  0%|          | 0/2500 [00:00<?, ?it/s]"
      ]
     },
     "metadata": {},
     "output_type": "display_data"
    },
    {
     "data": {
      "application/vnd.jupyter.widget-view+json": {
       "model_id": "98c94531faa44b0e86f3b6141328913f",
       "version_major": 2,
       "version_minor": 0
      },
      "text/plain": [
       "  0%|          | 0/2500 [00:00<?, ?it/s]"
      ]
     },
     "metadata": {},
     "output_type": "display_data"
    },
    {
     "name": "stderr",
     "output_type": "stream",
     "text": [
      "Sampling time = 0:00:02.504416\n",
      "Transforming variables...\n",
      "Transformation time = 0:00:11.333059\n"
     ]
    },
    {
     "name": "stdout",
     "output_type": "stream",
     "text": [
      "Model: king99_pareto_modification\n",
      "        Computed from the raw b_i samples by multiplying by population and then getting\n",
      "        the proportion of the total pop (total pop=summed across all districts):\n",
      "        The posterior mean for the district-level voting preference of\n",
      "        Hispanic for Joe Cunningham (Democratic Party) is\n",
      "        0.815\n",
      "        The posterior mean for the district-level voting preference of\n",
      "        non-Hispanic for Joe Cunningham (Democratic Party) is\n",
      "        0.364\n",
      "        95% equal-tailed Bayesian credible interval for district-level voting preference of\n",
      "        Hispanic for Joe Cunningham (Democratic Party) is\n",
      "        [0.52750502 0.96547722]\n",
      "        95% equal-tailed Bayesian credible interval for district-level voting preference of\n",
      "        non-Hispanic for Joe Cunningham (Democratic Party) is\n",
      "        [0.35466611 0.37994795]\n",
      "        \n"
     ]
    }
   ],
   "source": [
    "dem_hispanic_ei, rep_asian_summary = run_ecological_inference(\n",
    "    df=sc_race_merged_ei_df,\n",
    "    demographic_col=\"HISPANIC_PERCENT\",\n",
    "    voting_col=\"DEMOCRATIC_PERCENT\",\n",
    "    total_votes_col=\"TOT_VOT\",\n",
    "    demographic_group_name=\"Hispanic\",\n",
    "    candidate_name=sc_candidate_mapping['DEMOCRATIC']\n",
    ")"
   ]
  },
  {
   "cell_type": "code",
   "execution_count": 426,
   "metadata": {},
   "outputs": [
    {
     "name": "stderr",
     "output_type": "stream",
     "text": [
      "Compiling...\n",
      "Compilation time = 0:00:04.628249\n",
      "Sampling...\n"
     ]
    },
    {
     "data": {
      "application/vnd.jupyter.widget-view+json": {
       "model_id": "4014306ca02d4018b0077462f67d253b",
       "version_major": 2,
       "version_minor": 0
      },
      "text/plain": [
       "  0%|          | 0/2500 [00:00<?, ?it/s]"
      ]
     },
     "metadata": {},
     "output_type": "display_data"
    },
    {
     "data": {
      "application/vnd.jupyter.widget-view+json": {
       "model_id": "7efda4275eb342d29477cde957520143",
       "version_major": 2,
       "version_minor": 0
      },
      "text/plain": [
       "  0%|          | 0/2500 [00:00<?, ?it/s]"
      ]
     },
     "metadata": {},
     "output_type": "display_data"
    },
    {
     "data": {
      "application/vnd.jupyter.widget-view+json": {
       "model_id": "1119a690e3db4e08aed3a1e13f13f0f1",
       "version_major": 2,
       "version_minor": 0
      },
      "text/plain": [
       "  0%|          | 0/2500 [00:00<?, ?it/s]"
      ]
     },
     "metadata": {},
     "output_type": "display_data"
    },
    {
     "data": {
      "application/vnd.jupyter.widget-view+json": {
       "model_id": "df19853409a54468ba7d0c264d804f80",
       "version_major": 2,
       "version_minor": 0
      },
      "text/plain": [
       "  0%|          | 0/2500 [00:00<?, ?it/s]"
      ]
     },
     "metadata": {},
     "output_type": "display_data"
    },
    {
     "name": "stderr",
     "output_type": "stream",
     "text": [
      "Sampling time = 0:00:02.393594\n",
      "Transforming variables...\n",
      "Transformation time = 0:00:21.896009\n"
     ]
    },
    {
     "name": "stdout",
     "output_type": "stream",
     "text": [
      "Model: king99_pareto_modification\n",
      "        Computed from the raw b_i samples by multiplying by population and then getting\n",
      "        the proportion of the total pop (total pop=summed across all districts):\n",
      "        The posterior mean for the district-level voting preference of\n",
      "        Hispanic for Joe Cunningham (Democratic Party) is\n",
      "        0.759\n",
      "        The posterior mean for the district-level voting preference of\n",
      "        non-Hispanic for Joe Cunningham (Democratic Party) is\n",
      "        0.407\n",
      "        95% equal-tailed Bayesian credible interval for district-level voting preference of\n",
      "        Hispanic for Joe Cunningham (Democratic Party) is\n",
      "        [0.40987749 0.9732003 ]\n",
      "        95% equal-tailed Bayesian credible interval for district-level voting preference of\n",
      "        non-Hispanic for Joe Cunningham (Democratic Party) is\n",
      "        [0.39857454 0.42012288]\n",
      "        \n"
     ]
    }
   ],
   "source": [
    "dem_hispanic_ei_rural, rep_asian_summary_rural = run_ecological_inference(\n",
    "    df=sc_race_merged_ei_rural_df,\n",
    "    demographic_col=\"HISPANIC_PERCENT\",\n",
    "    voting_col=\"DEMOCRATIC_PERCENT\",\n",
    "    total_votes_col=\"TOT_VOT\",\n",
    "    demographic_group_name=\"Hispanic\",\n",
    "    candidate_name=sc_candidate_mapping['DEMOCRATIC']\n",
    ")"
   ]
  },
  {
   "cell_type": "code",
   "execution_count": 427,
   "metadata": {},
   "outputs": [
    {
     "name": "stderr",
     "output_type": "stream",
     "text": [
      "Compiling...\n",
      "Compilation time = 0:00:01.350730\n",
      "Sampling...\n"
     ]
    },
    {
     "data": {
      "application/vnd.jupyter.widget-view+json": {
       "model_id": "2d34dd867a72415fb947778058e44d93",
       "version_major": 2,
       "version_minor": 0
      },
      "text/plain": [
       "  0%|          | 0/2500 [00:00<?, ?it/s]"
      ]
     },
     "metadata": {},
     "output_type": "display_data"
    },
    {
     "data": {
      "application/vnd.jupyter.widget-view+json": {
       "model_id": "4631a2c4fbc54723ab7294650dc006c7",
       "version_major": 2,
       "version_minor": 0
      },
      "text/plain": [
       "  0%|          | 0/2500 [00:00<?, ?it/s]"
      ]
     },
     "metadata": {},
     "output_type": "display_data"
    },
    {
     "data": {
      "application/vnd.jupyter.widget-view+json": {
       "model_id": "697b6bc581cb4473b7cc9bb4c4bf7b11",
       "version_major": 2,
       "version_minor": 0
      },
      "text/plain": [
       "  0%|          | 0/2500 [00:00<?, ?it/s]"
      ]
     },
     "metadata": {},
     "output_type": "display_data"
    },
    {
     "data": {
      "application/vnd.jupyter.widget-view+json": {
       "model_id": "d09c6d448d2f4479a1e8ce4f02b5fca8",
       "version_major": 2,
       "version_minor": 0
      },
      "text/plain": [
       "  0%|          | 0/2500 [00:00<?, ?it/s]"
      ]
     },
     "metadata": {},
     "output_type": "display_data"
    },
    {
     "name": "stderr",
     "output_type": "stream",
     "text": [
      "Sampling time = 0:00:02.210484\n",
      "Transforming variables...\n",
      "Transformation time = 0:00:16.360568\n"
     ]
    },
    {
     "name": "stdout",
     "output_type": "stream",
     "text": [
      "Model: king99_pareto_modification\n",
      "        Computed from the raw b_i samples by multiplying by population and then getting\n",
      "        the proportion of the total pop (total pop=summed across all districts):\n",
      "        The posterior mean for the district-level voting preference of\n",
      "        Hispanic for Joe Cunningham (Democratic Party) is\n",
      "        0.784\n",
      "        The posterior mean for the district-level voting preference of\n",
      "        non-Hispanic for Joe Cunningham (Democratic Party) is\n",
      "        0.391\n",
      "        95% equal-tailed Bayesian credible interval for district-level voting preference of\n",
      "        Hispanic for Joe Cunningham (Democratic Party) is\n",
      "        [0.48156716 0.96796177]\n",
      "        95% equal-tailed Bayesian credible interval for district-level voting preference of\n",
      "        non-Hispanic for Joe Cunningham (Democratic Party) is\n",
      "        [0.37505303 0.41575678]\n",
      "        \n"
     ]
    }
   ],
   "source": [
    "dem_hispanic_ei_suburban, rep_asian_summary_suburban = run_ecological_inference(\n",
    "    df=sc_race_merged_ei_suburban_df,\n",
    "    demographic_col=\"HISPANIC_PERCENT\",\n",
    "    voting_col=\"DEMOCRATIC_PERCENT\",\n",
    "    total_votes_col=\"TOT_VOT\",\n",
    "    demographic_group_name=\"Hispanic\",\n",
    "    candidate_name=sc_candidate_mapping['DEMOCRATIC']\n",
    ")"
   ]
  },
  {
   "cell_type": "code",
   "execution_count": 428,
   "metadata": {},
   "outputs": [
    {
     "name": "stderr",
     "output_type": "stream",
     "text": [
      "Compiling...\n",
      "Compilation time = 0:00:01.206751\n",
      "Sampling...\n"
     ]
    },
    {
     "data": {
      "application/vnd.jupyter.widget-view+json": {
       "model_id": "b4e9307d66364497a64c7c4e4812caee",
       "version_major": 2,
       "version_minor": 0
      },
      "text/plain": [
       "  0%|          | 0/2500 [00:00<?, ?it/s]"
      ]
     },
     "metadata": {},
     "output_type": "display_data"
    },
    {
     "data": {
      "application/vnd.jupyter.widget-view+json": {
       "model_id": "6331e87a0c904a81a94de28dd55b3078",
       "version_major": 2,
       "version_minor": 0
      },
      "text/plain": [
       "  0%|          | 0/2500 [00:00<?, ?it/s]"
      ]
     },
     "metadata": {},
     "output_type": "display_data"
    },
    {
     "data": {
      "application/vnd.jupyter.widget-view+json": {
       "model_id": "1ba6f37e1e0c44b8a2a30503efdbbdd2",
       "version_major": 2,
       "version_minor": 0
      },
      "text/plain": [
       "  0%|          | 0/2500 [00:00<?, ?it/s]"
      ]
     },
     "metadata": {},
     "output_type": "display_data"
    },
    {
     "data": {
      "application/vnd.jupyter.widget-view+json": {
       "model_id": "a194740a427e4a07aa20c71f16ac9ddb",
       "version_major": 2,
       "version_minor": 0
      },
      "text/plain": [
       "  0%|          | 0/2500 [00:00<?, ?it/s]"
      ]
     },
     "metadata": {},
     "output_type": "display_data"
    },
    {
     "name": "stderr",
     "output_type": "stream",
     "text": [
      "Sampling time = 0:00:02.062282\n",
      "Transforming variables...\n",
      "Transformation time = 0:00:10.153622\n"
     ]
    },
    {
     "name": "stdout",
     "output_type": "stream",
     "text": [
      "Model: king99_pareto_modification\n",
      "        Computed from the raw b_i samples by multiplying by population and then getting\n",
      "        the proportion of the total pop (total pop=summed across all districts):\n",
      "        The posterior mean for the district-level voting preference of\n",
      "        Hispanic for Joe Cunningham (Democratic Party) is\n",
      "        0.636\n",
      "        The posterior mean for the district-level voting preference of\n",
      "        non-Hispanic for Joe Cunningham (Democratic Party) is\n",
      "        0.380\n",
      "        95% equal-tailed Bayesian credible interval for district-level voting preference of\n",
      "        Hispanic for Joe Cunningham (Democratic Party) is\n",
      "        [0.31661346 0.89899199]\n",
      "        95% equal-tailed Bayesian credible interval for district-level voting preference of\n",
      "        non-Hispanic for Joe Cunningham (Democratic Party) is\n",
      "        [0.35861571 0.40421561]\n",
      "        \n"
     ]
    }
   ],
   "source": [
    "dem_hispanic_ei_urban, rep_asian_summary_urban = run_ecological_inference(\n",
    "    df=sc_race_merged_ei_urban_df,\n",
    "    demographic_col=\"HISPANIC_PERCENT\",\n",
    "    voting_col=\"DEMOCRATIC_PERCENT\",\n",
    "    total_votes_col=\"TOT_VOT\",\n",
    "    demographic_group_name=\"Hispanic\",\n",
    "    candidate_name=sc_candidate_mapping['DEMOCRATIC']\n",
    ")"
   ]
  },
  {
   "cell_type": "markdown",
   "metadata": {},
   "source": [
    "##### Running Repulican"
   ]
  },
  {
   "cell_type": "code",
   "execution_count": 429,
   "metadata": {},
   "outputs": [
    {
     "name": "stderr",
     "output_type": "stream",
     "text": [
      "Compiling...\n",
      "Compilation time = 0:00:01.228725\n",
      "Sampling...\n"
     ]
    },
    {
     "data": {
      "application/vnd.jupyter.widget-view+json": {
       "model_id": "842307e5cfb2420aaf23fb067a02c81c",
       "version_major": 2,
       "version_minor": 0
      },
      "text/plain": [
       "  0%|          | 0/2500 [00:00<?, ?it/s]"
      ]
     },
     "metadata": {},
     "output_type": "display_data"
    },
    {
     "data": {
      "application/vnd.jupyter.widget-view+json": {
       "model_id": "fde596338e164ea5b45e0b8dc5953cd2",
       "version_major": 2,
       "version_minor": 0
      },
      "text/plain": [
       "  0%|          | 0/2500 [00:00<?, ?it/s]"
      ]
     },
     "metadata": {},
     "output_type": "display_data"
    },
    {
     "data": {
      "application/vnd.jupyter.widget-view+json": {
       "model_id": "fa6f5f89ea97499997ed13934c2647ab",
       "version_major": 2,
       "version_minor": 0
      },
      "text/plain": [
       "  0%|          | 0/2500 [00:00<?, ?it/s]"
      ]
     },
     "metadata": {},
     "output_type": "display_data"
    },
    {
     "data": {
      "application/vnd.jupyter.widget-view+json": {
       "model_id": "ce74f6d53440426680a748362e8df847",
       "version_major": 2,
       "version_minor": 0
      },
      "text/plain": [
       "  0%|          | 0/2500 [00:00<?, ?it/s]"
      ]
     },
     "metadata": {},
     "output_type": "display_data"
    },
    {
     "name": "stderr",
     "output_type": "stream",
     "text": [
      "Sampling time = 0:00:02.166014\n",
      "Transforming variables...\n",
      "Transformation time = 0:00:18.296050\n"
     ]
    },
    {
     "name": "stdout",
     "output_type": "stream",
     "text": [
      "Model: king99_pareto_modification\n",
      "        Computed from the raw b_i samples by multiplying by population and then getting\n",
      "        the proportion of the total pop (total pop=summed across all districts):\n",
      "        The posterior mean for the district-level voting preference of\n",
      "        White for Henry McMaster (Republican Party) is\n",
      "        0.738\n",
      "        The posterior mean for the district-level voting preference of\n",
      "        non-White for Henry McMaster (Republican Party) is\n",
      "        0.347\n",
      "        95% equal-tailed Bayesian credible interval for district-level voting preference of\n",
      "        White for Henry McMaster (Republican Party) is\n",
      "        [0.69558189 0.77695831]\n",
      "        95% equal-tailed Bayesian credible interval for district-level voting preference of\n",
      "        non-White for Henry McMaster (Republican Party) is\n",
      "        [0.27479148 0.42365758]\n",
      "        \n"
     ]
    }
   ],
   "source": [
    "rep_white_ei, rep_white_summary = run_ecological_inference(\n",
    "    df=sc_race_merged_ei_df,\n",
    "    demographic_col=\"WHITE_PERCENT\",\n",
    "    voting_col=\"REPUBLICAN_PERCENT\",\n",
    "    total_votes_col=\"TOT_VOT\",\n",
    "    demographic_group_name=\"White\",\n",
    "    candidate_name=sc_candidate_mapping['REPUBLICAN']\n",
    ")"
   ]
  },
  {
   "cell_type": "code",
   "execution_count": 430,
   "metadata": {},
   "outputs": [
    {
     "name": "stderr",
     "output_type": "stream",
     "text": [
      "Compiling...\n",
      "Compilation time = 0:00:01.214985\n",
      "Sampling...\n"
     ]
    },
    {
     "data": {
      "application/vnd.jupyter.widget-view+json": {
       "model_id": "29ebe19477e447ca9729d8cf62016263",
       "version_major": 2,
       "version_minor": 0
      },
      "text/plain": [
       "  0%|          | 0/2500 [00:00<?, ?it/s]"
      ]
     },
     "metadata": {},
     "output_type": "display_data"
    },
    {
     "data": {
      "application/vnd.jupyter.widget-view+json": {
       "model_id": "b5a9868f8aee4c3395720416d3ee1eac",
       "version_major": 2,
       "version_minor": 0
      },
      "text/plain": [
       "  0%|          | 0/2500 [00:00<?, ?it/s]"
      ]
     },
     "metadata": {},
     "output_type": "display_data"
    },
    {
     "data": {
      "application/vnd.jupyter.widget-view+json": {
       "model_id": "6e944ef7868b4bf18e57e1df239c6690",
       "version_major": 2,
       "version_minor": 0
      },
      "text/plain": [
       "  0%|          | 0/2500 [00:00<?, ?it/s]"
      ]
     },
     "metadata": {},
     "output_type": "display_data"
    },
    {
     "data": {
      "application/vnd.jupyter.widget-view+json": {
       "model_id": "11cd84cff96c4335bd0d2558c9001020",
       "version_major": 2,
       "version_minor": 0
      },
      "text/plain": [
       "  0%|          | 0/2500 [00:00<?, ?it/s]"
      ]
     },
     "metadata": {},
     "output_type": "display_data"
    },
    {
     "name": "stderr",
     "output_type": "stream",
     "text": [
      "Sampling time = 0:00:01.937288\n",
      "Transforming variables...\n",
      "Transformation time = 0:00:15.279535\n"
     ]
    },
    {
     "name": "stdout",
     "output_type": "stream",
     "text": [
      "Model: king99_pareto_modification\n",
      "        Computed from the raw b_i samples by multiplying by population and then getting\n",
      "        the proportion of the total pop (total pop=summed across all districts):\n",
      "        The posterior mean for the district-level voting preference of\n",
      "        White for Henry McMaster (Republican Party) is\n",
      "        0.692\n",
      "        The posterior mean for the district-level voting preference of\n",
      "        non-White for Henry McMaster (Republican Party) is\n",
      "        0.393\n",
      "        95% equal-tailed Bayesian credible interval for district-level voting preference of\n",
      "        White for Henry McMaster (Republican Party) is\n",
      "        [0.64792469 0.73146283]\n",
      "        95% equal-tailed Bayesian credible interval for district-level voting preference of\n",
      "        non-White for Henry McMaster (Republican Party) is\n",
      "        [0.33053386 0.45750748]\n",
      "        \n"
     ]
    }
   ],
   "source": [
    "rep_white_ei_rural, rep_white_summary_rural = run_ecological_inference(\n",
    "    df=sc_race_merged_ei_rural_df,\n",
    "    demographic_col=\"WHITE_PERCENT\",\n",
    "    voting_col=\"REPUBLICAN_PERCENT\",\n",
    "    total_votes_col=\"TOT_VOT\",\n",
    "    demographic_group_name=\"White\",\n",
    "    candidate_name=sc_candidate_mapping['REPUBLICAN']\n",
    ")"
   ]
  },
  {
   "cell_type": "code",
   "execution_count": 431,
   "metadata": {},
   "outputs": [
    {
     "name": "stderr",
     "output_type": "stream",
     "text": [
      "Compiling...\n",
      "Compilation time = 0:00:03.286854\n",
      "Sampling...\n"
     ]
    },
    {
     "data": {
      "application/vnd.jupyter.widget-view+json": {
       "model_id": "af3ee6c3e45d4025b9ba78218fe67cc9",
       "version_major": 2,
       "version_minor": 0
      },
      "text/plain": [
       "  0%|          | 0/2500 [00:00<?, ?it/s]"
      ]
     },
     "metadata": {},
     "output_type": "display_data"
    },
    {
     "data": {
      "application/vnd.jupyter.widget-view+json": {
       "model_id": "8ae57298a6be4787b25986d0abb333fa",
       "version_major": 2,
       "version_minor": 0
      },
      "text/plain": [
       "  0%|          | 0/2500 [00:00<?, ?it/s]"
      ]
     },
     "metadata": {},
     "output_type": "display_data"
    },
    {
     "data": {
      "application/vnd.jupyter.widget-view+json": {
       "model_id": "4d1e86f2961c4f33a7425bdb1aabb0a0",
       "version_major": 2,
       "version_minor": 0
      },
      "text/plain": [
       "  0%|          | 0/2500 [00:00<?, ?it/s]"
      ]
     },
     "metadata": {},
     "output_type": "display_data"
    },
    {
     "data": {
      "application/vnd.jupyter.widget-view+json": {
       "model_id": "e35faa0087a44f319b7a7e768cdd7d69",
       "version_major": 2,
       "version_minor": 0
      },
      "text/plain": [
       "  0%|          | 0/2500 [00:00<?, ?it/s]"
      ]
     },
     "metadata": {},
     "output_type": "display_data"
    },
    {
     "name": "stderr",
     "output_type": "stream",
     "text": [
      "Sampling time = 0:00:01.942762\n",
      "Transforming variables...\n",
      "Transformation time = 0:00:16.425811\n"
     ]
    },
    {
     "name": "stdout",
     "output_type": "stream",
     "text": [
      "Model: king99_pareto_modification\n",
      "        Computed from the raw b_i samples by multiplying by population and then getting\n",
      "        the proportion of the total pop (total pop=summed across all districts):\n",
      "        The posterior mean for the district-level voting preference of\n",
      "        White for Henry McMaster (Republican Party) is\n",
      "        0.775\n",
      "        The posterior mean for the district-level voting preference of\n",
      "        non-White for Henry McMaster (Republican Party) is\n",
      "        0.173\n",
      "        95% equal-tailed Bayesian credible interval for district-level voting preference of\n",
      "        White for Henry McMaster (Republican Party) is\n",
      "        [0.74806912 0.79894412]\n",
      "        95% equal-tailed Bayesian credible interval for district-level voting preference of\n",
      "        non-White for Henry McMaster (Republican Party) is\n",
      "        [0.12025289 0.23670251]\n",
      "        \n"
     ]
    }
   ],
   "source": [
    "rep_white_ei_suburban, rep_white_summary_suburban = run_ecological_inference(\n",
    "    df=sc_race_merged_ei_suburban_df,\n",
    "    demographic_col=\"WHITE_PERCENT\",\n",
    "    voting_col=\"REPUBLICAN_PERCENT\",\n",
    "    total_votes_col=\"TOT_VOT\",\n",
    "    demographic_group_name=\"White\",\n",
    "    candidate_name=sc_candidate_mapping['REPUBLICAN']\n",
    ")"
   ]
  },
  {
   "cell_type": "code",
   "execution_count": 432,
   "metadata": {},
   "outputs": [
    {
     "name": "stderr",
     "output_type": "stream",
     "text": [
      "Compiling...\n",
      "Compilation time = 0:00:01.191962\n",
      "Sampling...\n"
     ]
    },
    {
     "data": {
      "application/vnd.jupyter.widget-view+json": {
       "model_id": "04fff5af3d884cfb834be331683ac06a",
       "version_major": 2,
       "version_minor": 0
      },
      "text/plain": [
       "  0%|          | 0/2500 [00:00<?, ?it/s]"
      ]
     },
     "metadata": {},
     "output_type": "display_data"
    },
    {
     "data": {
      "application/vnd.jupyter.widget-view+json": {
       "model_id": "f7488e505af34c43bf8ae8620a39bbd5",
       "version_major": 2,
       "version_minor": 0
      },
      "text/plain": [
       "  0%|          | 0/2500 [00:00<?, ?it/s]"
      ]
     },
     "metadata": {},
     "output_type": "display_data"
    },
    {
     "data": {
      "application/vnd.jupyter.widget-view+json": {
       "model_id": "3d3ff0f1eaaa46e3a64a1907bd3de1bf",
       "version_major": 2,
       "version_minor": 0
      },
      "text/plain": [
       "  0%|          | 0/2500 [00:00<?, ?it/s]"
      ]
     },
     "metadata": {},
     "output_type": "display_data"
    },
    {
     "data": {
      "application/vnd.jupyter.widget-view+json": {
       "model_id": "031faab3fa0a4539bd1233fdcfc023c3",
       "version_major": 2,
       "version_minor": 0
      },
      "text/plain": [
       "  0%|          | 0/2500 [00:00<?, ?it/s]"
      ]
     },
     "metadata": {},
     "output_type": "display_data"
    },
    {
     "name": "stderr",
     "output_type": "stream",
     "text": [
      "Sampling time = 0:00:01.980400\n",
      "Transforming variables...\n",
      "Transformation time = 0:00:18.020689\n"
     ]
    },
    {
     "name": "stdout",
     "output_type": "stream",
     "text": [
      "Model: king99_pareto_modification\n",
      "        Computed from the raw b_i samples by multiplying by population and then getting\n",
      "        the proportion of the total pop (total pop=summed across all districts):\n",
      "        The posterior mean for the district-level voting preference of\n",
      "        White for Henry McMaster (Republican Party) is\n",
      "        0.756\n",
      "        The posterior mean for the district-level voting preference of\n",
      "        non-White for Henry McMaster (Republican Party) is\n",
      "        0.202\n",
      "        95% equal-tailed Bayesian credible interval for district-level voting preference of\n",
      "        White for Henry McMaster (Republican Party) is\n",
      "        [0.72617541 0.78080792]\n",
      "        95% equal-tailed Bayesian credible interval for district-level voting preference of\n",
      "        non-White for Henry McMaster (Republican Party) is\n",
      "        [0.1333543  0.28624826]\n",
      "        \n"
     ]
    }
   ],
   "source": [
    "rep_white_ei_urban, rep_white_summary_urban= run_ecological_inference(\n",
    "    df=sc_race_merged_ei_urban_df,\n",
    "    demographic_col=\"WHITE_PERCENT\",\n",
    "    voting_col=\"REPUBLICAN_PERCENT\",\n",
    "    total_votes_col=\"TOT_VOT\",\n",
    "    demographic_group_name=\"White\",\n",
    "    candidate_name=sc_candidate_mapping['REPUBLICAN']\n",
    ")"
   ]
  },
  {
   "cell_type": "code",
   "execution_count": 433,
   "metadata": {},
   "outputs": [
    {
     "name": "stderr",
     "output_type": "stream",
     "text": [
      "Compiling...\n",
      "Compilation time = 0:00:01.224395\n",
      "Sampling...\n"
     ]
    },
    {
     "data": {
      "application/vnd.jupyter.widget-view+json": {
       "model_id": "87123a86786d4450baa0a3355c094565",
       "version_major": 2,
       "version_minor": 0
      },
      "text/plain": [
       "  0%|          | 0/2500 [00:00<?, ?it/s]"
      ]
     },
     "metadata": {},
     "output_type": "display_data"
    },
    {
     "data": {
      "application/vnd.jupyter.widget-view+json": {
       "model_id": "2f5deef386364824919fca309471a0cc",
       "version_major": 2,
       "version_minor": 0
      },
      "text/plain": [
       "  0%|          | 0/2500 [00:00<?, ?it/s]"
      ]
     },
     "metadata": {},
     "output_type": "display_data"
    },
    {
     "data": {
      "application/vnd.jupyter.widget-view+json": {
       "model_id": "9d386ee9901149cf9fca846a3ddaf1e6",
       "version_major": 2,
       "version_minor": 0
      },
      "text/plain": [
       "  0%|          | 0/2500 [00:00<?, ?it/s]"
      ]
     },
     "metadata": {},
     "output_type": "display_data"
    },
    {
     "data": {
      "application/vnd.jupyter.widget-view+json": {
       "model_id": "6b7bf32813ff4c70a07fb73e9c38f39c",
       "version_major": 2,
       "version_minor": 0
      },
      "text/plain": [
       "  0%|          | 0/2500 [00:00<?, ?it/s]"
      ]
     },
     "metadata": {},
     "output_type": "display_data"
    },
    {
     "name": "stderr",
     "output_type": "stream",
     "text": [
      "Sampling time = 0:00:02.019936\n",
      "Transforming variables...\n",
      "Transformation time = 0:00:17.551886\n"
     ]
    },
    {
     "name": "stdout",
     "output_type": "stream",
     "text": [
      "Model: king99_pareto_modification\n",
      "        Computed from the raw b_i samples by multiplying by population and then getting\n",
      "        the proportion of the total pop (total pop=summed across all districts):\n",
      "        The posterior mean for the district-level voting preference of\n",
      "        Black for Henry McMaster (Republican Party) is\n",
      "        0.144\n",
      "        The posterior mean for the district-level voting preference of\n",
      "        non-Black for Henry McMaster (Republican Party) is\n",
      "        0.713\n",
      "        95% equal-tailed Bayesian credible interval for district-level voting preference of\n",
      "        Black for Henry McMaster (Republican Party) is\n",
      "        [0.08221684 0.22580008]\n",
      "        95% equal-tailed Bayesian credible interval for district-level voting preference of\n",
      "        non-Black for Henry McMaster (Republican Party) is\n",
      "        [0.6949756  0.72738799]\n",
      "        \n"
     ]
    }
   ],
   "source": [
    "rep_black_ei, rep_black_summary = run_ecological_inference(\n",
    "    df=sc_race_merged_ei_df,\n",
    "    demographic_col=\"BLACK_PERCENT\",\n",
    "    voting_col=\"REPUBLICAN_PERCENT\",\n",
    "    total_votes_col=\"TOT_VOT\",\n",
    "    demographic_group_name=\"Black\",\n",
    "    candidate_name=sc_candidate_mapping['REPUBLICAN']\n",
    ")"
   ]
  },
  {
   "cell_type": "code",
   "execution_count": 434,
   "metadata": {},
   "outputs": [
    {
     "name": "stderr",
     "output_type": "stream",
     "text": [
      "Compiling...\n",
      "Compilation time = 0:00:01.210419\n",
      "Sampling...\n"
     ]
    },
    {
     "data": {
      "application/vnd.jupyter.widget-view+json": {
       "model_id": "dc23769e16fb49a5b8b5994ffeb53f18",
       "version_major": 2,
       "version_minor": 0
      },
      "text/plain": [
       "  0%|          | 0/2500 [00:00<?, ?it/s]"
      ]
     },
     "metadata": {},
     "output_type": "display_data"
    },
    {
     "data": {
      "application/vnd.jupyter.widget-view+json": {
       "model_id": "878facc63f424a9685ae267fc239eb64",
       "version_major": 2,
       "version_minor": 0
      },
      "text/plain": [
       "  0%|          | 0/2500 [00:00<?, ?it/s]"
      ]
     },
     "metadata": {},
     "output_type": "display_data"
    },
    {
     "data": {
      "application/vnd.jupyter.widget-view+json": {
       "model_id": "74e8e4f8333d4e268bde85a14e29b09c",
       "version_major": 2,
       "version_minor": 0
      },
      "text/plain": [
       "  0%|          | 0/2500 [00:00<?, ?it/s]"
      ]
     },
     "metadata": {},
     "output_type": "display_data"
    },
    {
     "data": {
      "application/vnd.jupyter.widget-view+json": {
       "model_id": "0127555c5dc44a1085b2418c0f57ecd0",
       "version_major": 2,
       "version_minor": 0
      },
      "text/plain": [
       "  0%|          | 0/2500 [00:00<?, ?it/s]"
      ]
     },
     "metadata": {},
     "output_type": "display_data"
    },
    {
     "name": "stderr",
     "output_type": "stream",
     "text": [
      "Sampling time = 0:00:02.332075\n",
      "Transforming variables...\n",
      "Transformation time = 0:00:15.525457\n"
     ]
    },
    {
     "name": "stdout",
     "output_type": "stream",
     "text": [
      "Model: king99_pareto_modification\n",
      "        Computed from the raw b_i samples by multiplying by population and then getting\n",
      "        the proportion of the total pop (total pop=summed across all districts):\n",
      "        The posterior mean for the district-level voting preference of\n",
      "        Black for Henry McMaster (Republican Party) is\n",
      "        0.246\n",
      "        The posterior mean for the district-level voting preference of\n",
      "        non-Black for Henry McMaster (Republican Party) is\n",
      "        0.683\n",
      "        95% equal-tailed Bayesian credible interval for district-level voting preference of\n",
      "        Black for Henry McMaster (Republican Party) is\n",
      "        [0.1661619  0.33490337]\n",
      "        95% equal-tailed Bayesian credible interval for district-level voting preference of\n",
      "        non-Black for Henry McMaster (Republican Party) is\n",
      "        [0.65465975 0.70828476]\n",
      "        \n"
     ]
    }
   ],
   "source": [
    "rep_black_ei_rural, rep_black_summary_rural = run_ecological_inference(\n",
    "    df=sc_race_merged_ei_rural_df,\n",
    "    demographic_col=\"BLACK_PERCENT\",\n",
    "    voting_col=\"REPUBLICAN_PERCENT\",\n",
    "    total_votes_col=\"TOT_VOT\",\n",
    "    demographic_group_name=\"Black\",\n",
    "    candidate_name=sc_candidate_mapping['REPUBLICAN']\n",
    ")"
   ]
  },
  {
   "cell_type": "code",
   "execution_count": 435,
   "metadata": {},
   "outputs": [
    {
     "name": "stderr",
     "output_type": "stream",
     "text": [
      "Compiling...\n"
     ]
    },
    {
     "name": "stderr",
     "output_type": "stream",
     "text": [
      "Compilation time = 0:00:01.243227\n",
      "Sampling...\n"
     ]
    },
    {
     "data": {
      "application/vnd.jupyter.widget-view+json": {
       "model_id": "60ebf2b0d11e46e08a23ad992233ebff",
       "version_major": 2,
       "version_minor": 0
      },
      "text/plain": [
       "  0%|          | 0/2500 [00:00<?, ?it/s]"
      ]
     },
     "metadata": {},
     "output_type": "display_data"
    },
    {
     "data": {
      "application/vnd.jupyter.widget-view+json": {
       "model_id": "616e6ab065b647da83846bdf53441a4a",
       "version_major": 2,
       "version_minor": 0
      },
      "text/plain": [
       "  0%|          | 0/2500 [00:00<?, ?it/s]"
      ]
     },
     "metadata": {},
     "output_type": "display_data"
    },
    {
     "data": {
      "application/vnd.jupyter.widget-view+json": {
       "model_id": "184840533ec34653a04a982a919f2e88",
       "version_major": 2,
       "version_minor": 0
      },
      "text/plain": [
       "  0%|          | 0/2500 [00:00<?, ?it/s]"
      ]
     },
     "metadata": {},
     "output_type": "display_data"
    },
    {
     "data": {
      "application/vnd.jupyter.widget-view+json": {
       "model_id": "416b7cd53028404aa73de7d9c5ede0fa",
       "version_major": 2,
       "version_minor": 0
      },
      "text/plain": [
       "  0%|          | 0/2500 [00:00<?, ?it/s]"
      ]
     },
     "metadata": {},
     "output_type": "display_data"
    },
    {
     "name": "stderr",
     "output_type": "stream",
     "text": [
      "Sampling time = 0:00:01.994257\n",
      "Transforming variables...\n",
      "Transformation time = 0:00:17.171694\n"
     ]
    },
    {
     "name": "stdout",
     "output_type": "stream",
     "text": [
      "Model: king99_pareto_modification\n",
      "        Computed from the raw b_i samples by multiplying by population and then getting\n",
      "        the proportion of the total pop (total pop=summed across all districts):\n",
      "        The posterior mean for the district-level voting preference of\n",
      "        Black for Henry McMaster (Republican Party) is\n",
      "        0.151\n",
      "        The posterior mean for the district-level voting preference of\n",
      "        non-Black for Henry McMaster (Republican Party) is\n",
      "        0.703\n",
      "        95% equal-tailed Bayesian credible interval for district-level voting preference of\n",
      "        Black for Henry McMaster (Republican Party) is\n",
      "        [0.09316185 0.22154156]\n",
      "        95% equal-tailed Bayesian credible interval for district-level voting preference of\n",
      "        non-Black for Henry McMaster (Republican Party) is\n",
      "        [0.68391276 0.71909495]\n",
      "        \n"
     ]
    }
   ],
   "source": [
    "rep_black_ei_suburban, rep_black_summary_suburban = run_ecological_inference(\n",
    "    df=sc_race_merged_ei_suburban_df,\n",
    "    demographic_col=\"BLACK_PERCENT\",\n",
    "    voting_col=\"REPUBLICAN_PERCENT\",\n",
    "    total_votes_col=\"TOT_VOT\",\n",
    "    demographic_group_name=\"Black\",\n",
    "    candidate_name=sc_candidate_mapping['REPUBLICAN']\n",
    ")"
   ]
  },
  {
   "cell_type": "code",
   "execution_count": 436,
   "metadata": {},
   "outputs": [
    {
     "name": "stderr",
     "output_type": "stream",
     "text": [
      "Compiling...\n",
      "Compilation time = 0:00:01.270971\n",
      "Sampling...\n"
     ]
    },
    {
     "data": {
      "application/vnd.jupyter.widget-view+json": {
       "model_id": "d756aff0106848f49477da09fb2c232c",
       "version_major": 2,
       "version_minor": 0
      },
      "text/plain": [
       "  0%|          | 0/2500 [00:00<?, ?it/s]"
      ]
     },
     "metadata": {},
     "output_type": "display_data"
    },
    {
     "data": {
      "application/vnd.jupyter.widget-view+json": {
       "model_id": "5e7ead59a08048f9bd17e2012ec9379f",
       "version_major": 2,
       "version_minor": 0
      },
      "text/plain": [
       "  0%|          | 0/2500 [00:00<?, ?it/s]"
      ]
     },
     "metadata": {},
     "output_type": "display_data"
    },
    {
     "data": {
      "application/vnd.jupyter.widget-view+json": {
       "model_id": "0b49838efddf496289939e795a727a40",
       "version_major": 2,
       "version_minor": 0
      },
      "text/plain": [
       "  0%|          | 0/2500 [00:00<?, ?it/s]"
      ]
     },
     "metadata": {},
     "output_type": "display_data"
    },
    {
     "data": {
      "application/vnd.jupyter.widget-view+json": {
       "model_id": "c58d7d2cd8504edca80ac2e04fabc4af",
       "version_major": 2,
       "version_minor": 0
      },
      "text/plain": [
       "  0%|          | 0/2500 [00:00<?, ?it/s]"
      ]
     },
     "metadata": {},
     "output_type": "display_data"
    },
    {
     "name": "stderr",
     "output_type": "stream",
     "text": [
      "Sampling time = 0:00:05.353269\n",
      "Transforming variables...\n",
      "Transformation time = 0:00:25.181047\n"
     ]
    },
    {
     "name": "stdout",
     "output_type": "stream",
     "text": [
      "Model: king99_pareto_modification\n",
      "        Computed from the raw b_i samples by multiplying by population and then getting\n",
      "        the proportion of the total pop (total pop=summed across all districts):\n",
      "        The posterior mean for the district-level voting preference of\n",
      "        Black for Henry McMaster (Republican Party) is\n",
      "        0.117\n",
      "        The posterior mean for the district-level voting preference of\n",
      "        non-Black for Henry McMaster (Republican Party) is\n",
      "        0.710\n",
      "        95% equal-tailed Bayesian credible interval for district-level voting preference of\n",
      "        Black for Henry McMaster (Republican Party) is\n",
      "        [0.04839946 0.2026908 ]\n",
      "        95% equal-tailed Bayesian credible interval for district-level voting preference of\n",
      "        non-Black for Henry McMaster (Republican Party) is\n",
      "        [0.69218886 0.72616381]\n",
      "        \n"
     ]
    }
   ],
   "source": [
    "rep_black_ei_urban, rep_black_summary_urban = run_ecological_inference(\n",
    "    df=sc_race_merged_ei_urban_df,\n",
    "    demographic_col=\"BLACK_PERCENT\",\n",
    "    voting_col=\"REPUBLICAN_PERCENT\",\n",
    "    total_votes_col=\"TOT_VOT\",\n",
    "    demographic_group_name=\"Black\",\n",
    "    candidate_name=sc_candidate_mapping['REPUBLICAN']\n",
    ")"
   ]
  },
  {
   "cell_type": "code",
   "execution_count": 437,
   "metadata": {},
   "outputs": [
    {
     "name": "stderr",
     "output_type": "stream",
     "text": [
      "Compiling...\n",
      "Compilation time = 0:00:01.274681\n",
      "Sampling...\n"
     ]
    },
    {
     "data": {
      "application/vnd.jupyter.widget-view+json": {
       "model_id": "06ac8899ffb54c049bd0a3ade0b2fb3d",
       "version_major": 2,
       "version_minor": 0
      },
      "text/plain": [
       "  0%|          | 0/2500 [00:00<?, ?it/s]"
      ]
     },
     "metadata": {},
     "output_type": "display_data"
    },
    {
     "data": {
      "application/vnd.jupyter.widget-view+json": {
       "model_id": "4f352fbe82014bc78b2a94b23a9b59b0",
       "version_major": 2,
       "version_minor": 0
      },
      "text/plain": [
       "  0%|          | 0/2500 [00:00<?, ?it/s]"
      ]
     },
     "metadata": {},
     "output_type": "display_data"
    },
    {
     "data": {
      "application/vnd.jupyter.widget-view+json": {
       "model_id": "e8255f7bd4ca4c229406a6b1c62f9a7a",
       "version_major": 2,
       "version_minor": 0
      },
      "text/plain": [
       "  0%|          | 0/2500 [00:00<?, ?it/s]"
      ]
     },
     "metadata": {},
     "output_type": "display_data"
    },
    {
     "data": {
      "application/vnd.jupyter.widget-view+json": {
       "model_id": "6faeead049f74f6d9ab1490dd3509c08",
       "version_major": 2,
       "version_minor": 0
      },
      "text/plain": [
       "  0%|          | 0/2500 [00:00<?, ?it/s]"
      ]
     },
     "metadata": {},
     "output_type": "display_data"
    },
    {
     "name": "stderr",
     "output_type": "stream",
     "text": [
      "Sampling time = 0:00:02.651109\n",
      "Transforming variables...\n",
      "Transformation time = 0:00:10.758277\n"
     ]
    },
    {
     "name": "stdout",
     "output_type": "stream",
     "text": [
      "Model: king99_pareto_modification\n",
      "        Computed from the raw b_i samples by multiplying by population and then getting\n",
      "        the proportion of the total pop (total pop=summed across all districts):\n",
      "        The posterior mean for the district-level voting preference of\n",
      "        Asian for Henry McMaster (Republican Party) is\n",
      "        0.444\n",
      "        The posterior mean for the district-level voting preference of\n",
      "        non-Asian for Henry McMaster (Republican Party) is\n",
      "        0.615\n",
      "        95% equal-tailed Bayesian credible interval for district-level voting preference of\n",
      "        Asian for Henry McMaster (Republican Party) is\n",
      "        [0.05827534 0.89292198]\n",
      "        95% equal-tailed Bayesian credible interval for district-level voting preference of\n",
      "        non-Asian for Henry McMaster (Republican Party) is\n",
      "        [0.60842624 0.62156362]\n",
      "        \n"
     ]
    }
   ],
   "source": [
    "rep_asian_ei, rep_asian_summary = run_ecological_inference(\n",
    "    df=sc_race_merged_ei_df,\n",
    "    demographic_col=\"ASIAN_PERCENT\",\n",
    "    voting_col=\"REPUBLICAN_PERCENT\",\n",
    "    total_votes_col=\"TOT_VOT\",\n",
    "    demographic_group_name=\"Asian\",\n",
    "    candidate_name=sc_candidate_mapping['REPUBLICAN']\n",
    ")"
   ]
  },
  {
   "cell_type": "code",
   "execution_count": 438,
   "metadata": {},
   "outputs": [
    {
     "name": "stderr",
     "output_type": "stream",
     "text": [
      "Compiling...\n",
      "Compilation time = 0:00:01.404292\n",
      "Sampling...\n"
     ]
    },
    {
     "data": {
      "application/vnd.jupyter.widget-view+json": {
       "model_id": "0a318bd94c194d329c26f5760055b58d",
       "version_major": 2,
       "version_minor": 0
      },
      "text/plain": [
       "  0%|          | 0/2500 [00:00<?, ?it/s]"
      ]
     },
     "metadata": {},
     "output_type": "display_data"
    },
    {
     "data": {
      "application/vnd.jupyter.widget-view+json": {
       "model_id": "8d7550fe073c4a4cbd8ee58db3466e5c",
       "version_major": 2,
       "version_minor": 0
      },
      "text/plain": [
       "  0%|          | 0/2500 [00:00<?, ?it/s]"
      ]
     },
     "metadata": {},
     "output_type": "display_data"
    },
    {
     "data": {
      "application/vnd.jupyter.widget-view+json": {
       "model_id": "060db7fcc0d0488e9977a2e6adb0cff0",
       "version_major": 2,
       "version_minor": 0
      },
      "text/plain": [
       "  0%|          | 0/2500 [00:00<?, ?it/s]"
      ]
     },
     "metadata": {},
     "output_type": "display_data"
    },
    {
     "data": {
      "application/vnd.jupyter.widget-view+json": {
       "model_id": "88a39d5a9dd2484fa85413f5092c59b4",
       "version_major": 2,
       "version_minor": 0
      },
      "text/plain": [
       "  0%|          | 0/2500 [00:00<?, ?it/s]"
      ]
     },
     "metadata": {},
     "output_type": "display_data"
    },
    {
     "name": "stderr",
     "output_type": "stream",
     "text": [
      "Sampling time = 0:00:02.190417\n",
      "Transforming variables...\n",
      "Transformation time = 0:00:13.832679\n"
     ]
    },
    {
     "name": "stdout",
     "output_type": "stream",
     "text": [
      "Model: king99_pareto_modification\n",
      "        Computed from the raw b_i samples by multiplying by population and then getting\n",
      "        the proportion of the total pop (total pop=summed across all districts):\n",
      "        The posterior mean for the district-level voting preference of\n",
      "        Asian for Henry McMaster (Republican Party) is\n",
      "        0.375\n",
      "        The posterior mean for the district-level voting preference of\n",
      "        non-Asian for Henry McMaster (Republican Party) is\n",
      "        0.583\n",
      "        95% equal-tailed Bayesian credible interval for district-level voting preference of\n",
      "        Asian for Henry McMaster (Republican Party) is\n",
      "        [0.00296738 0.93486277]\n",
      "        95% equal-tailed Bayesian credible interval for district-level voting preference of\n",
      "        non-Asian for Henry McMaster (Republican Party) is\n",
      "        [0.57775882 0.58784877]\n",
      "        \n"
     ]
    }
   ],
   "source": [
    "rep_asian_ei_rural, rep_asian_summary_rural = run_ecological_inference(\n",
    "    df=sc_race_merged_ei_rural_df,\n",
    "    demographic_col=\"ASIAN_PERCENT\",\n",
    "    voting_col=\"REPUBLICAN_PERCENT\",\n",
    "    total_votes_col=\"TOT_VOT\",\n",
    "    demographic_group_name=\"Asian\",\n",
    "    candidate_name=sc_candidate_mapping['REPUBLICAN']\n",
    ")"
   ]
  },
  {
   "cell_type": "code",
   "execution_count": 439,
   "metadata": {},
   "outputs": [
    {
     "name": "stderr",
     "output_type": "stream",
     "text": [
      "Compiling...\n",
      "Compilation time = 0:00:01.336364\n",
      "Sampling...\n"
     ]
    },
    {
     "data": {
      "application/vnd.jupyter.widget-view+json": {
       "model_id": "b731fd874cd74377b36b97422687f327",
       "version_major": 2,
       "version_minor": 0
      },
      "text/plain": [
       "  0%|          | 0/2500 [00:00<?, ?it/s]"
      ]
     },
     "metadata": {},
     "output_type": "display_data"
    },
    {
     "data": {
      "application/vnd.jupyter.widget-view+json": {
       "model_id": "7aba95f009e64f2a98816781d7ff2ecd",
       "version_major": 2,
       "version_minor": 0
      },
      "text/plain": [
       "  0%|          | 0/2500 [00:00<?, ?it/s]"
      ]
     },
     "metadata": {},
     "output_type": "display_data"
    },
    {
     "data": {
      "application/vnd.jupyter.widget-view+json": {
       "model_id": "425a2a9fa289412ca114cb78147d034f",
       "version_major": 2,
       "version_minor": 0
      },
      "text/plain": [
       "  0%|          | 0/2500 [00:00<?, ?it/s]"
      ]
     },
     "metadata": {},
     "output_type": "display_data"
    },
    {
     "data": {
      "application/vnd.jupyter.widget-view+json": {
       "model_id": "916ed7043ed64f0aa5593bc78543e97f",
       "version_major": 2,
       "version_minor": 0
      },
      "text/plain": [
       "  0%|          | 0/2500 [00:00<?, ?it/s]"
      ]
     },
     "metadata": {},
     "output_type": "display_data"
    },
    {
     "name": "stderr",
     "output_type": "stream",
     "text": [
      "Sampling time = 0:00:01.982725\n",
      "Transforming variables...\n",
      "Transformation time = 0:00:12.511125\n"
     ]
    },
    {
     "name": "stdout",
     "output_type": "stream",
     "text": [
      "Model: king99_pareto_modification\n",
      "        Computed from the raw b_i samples by multiplying by population and then getting\n",
      "        the proportion of the total pop (total pop=summed across all districts):\n",
      "        The posterior mean for the district-level voting preference of\n",
      "        Asian for Henry McMaster (Republican Party) is\n",
      "        0.383\n",
      "        The posterior mean for the district-level voting preference of\n",
      "        non-Asian for Henry McMaster (Republican Party) is\n",
      "        0.584\n",
      "        95% equal-tailed Bayesian credible interval for district-level voting preference of\n",
      "        Asian for Henry McMaster (Republican Party) is\n",
      "        [0.09629048 0.85235297]\n",
      "        95% equal-tailed Bayesian credible interval for district-level voting preference of\n",
      "        non-Asian for Henry McMaster (Republican Party) is\n",
      "        [0.57187558 0.59194884]\n",
      "        \n"
     ]
    }
   ],
   "source": [
    "rep_asian_ei_suburban, rep_asian_summary_suburban = run_ecological_inference(\n",
    "    df=sc_race_merged_ei_suburban_df,\n",
    "    demographic_col=\"ASIAN_PERCENT\",\n",
    "    voting_col=\"REPUBLICAN_PERCENT\",\n",
    "    total_votes_col=\"TOT_VOT\",\n",
    "    demographic_group_name=\"Asian\",\n",
    "    candidate_name=sc_candidate_mapping['REPUBLICAN']\n",
    ")"
   ]
  },
  {
   "cell_type": "code",
   "execution_count": 440,
   "metadata": {},
   "outputs": [
    {
     "name": "stderr",
     "output_type": "stream",
     "text": [
      "Compiling...\n",
      "Compilation time = 0:00:01.228573\n",
      "Sampling...\n"
     ]
    },
    {
     "data": {
      "application/vnd.jupyter.widget-view+json": {
       "model_id": "1a7e76f72a934af6aaa8649f80b9517f",
       "version_major": 2,
       "version_minor": 0
      },
      "text/plain": [
       "  0%|          | 0/2500 [00:00<?, ?it/s]"
      ]
     },
     "metadata": {},
     "output_type": "display_data"
    },
    {
     "data": {
      "application/vnd.jupyter.widget-view+json": {
       "model_id": "13171455277b4bf39389e1bfc87d0839",
       "version_major": 2,
       "version_minor": 0
      },
      "text/plain": [
       "  0%|          | 0/2500 [00:00<?, ?it/s]"
      ]
     },
     "metadata": {},
     "output_type": "display_data"
    },
    {
     "data": {
      "application/vnd.jupyter.widget-view+json": {
       "model_id": "891a372eb570436c9501e7081b579da4",
       "version_major": 2,
       "version_minor": 0
      },
      "text/plain": [
       "  0%|          | 0/2500 [00:00<?, ?it/s]"
      ]
     },
     "metadata": {},
     "output_type": "display_data"
    },
    {
     "data": {
      "application/vnd.jupyter.widget-view+json": {
       "model_id": "f9aaf411e2494ff7a743b46945d9d9d3",
       "version_major": 2,
       "version_minor": 0
      },
      "text/plain": [
       "  0%|          | 0/2500 [00:00<?, ?it/s]"
      ]
     },
     "metadata": {},
     "output_type": "display_data"
    },
    {
     "name": "stderr",
     "output_type": "stream",
     "text": [
      "Sampling time = 0:00:01.877473\n",
      "Transforming variables...\n",
      "Transformation time = 0:00:14.592261\n"
     ]
    },
    {
     "name": "stdout",
     "output_type": "stream",
     "text": [
      "Model: king99_pareto_modification\n",
      "        Computed from the raw b_i samples by multiplying by population and then getting\n",
      "        the proportion of the total pop (total pop=summed across all districts):\n",
      "        The posterior mean for the district-level voting preference of\n",
      "        Asian for Henry McMaster (Republican Party) is\n",
      "        0.154\n",
      "        The posterior mean for the district-level voting preference of\n",
      "        non-Asian for Henry McMaster (Republican Party) is\n",
      "        0.612\n",
      "        95% equal-tailed Bayesian credible interval for district-level voting preference of\n",
      "        Asian for Henry McMaster (Republican Party) is\n",
      "        [0.01038163 0.55547444]\n",
      "        95% equal-tailed Bayesian credible interval for district-level voting preference of\n",
      "        non-Asian for Henry McMaster (Republican Party) is\n",
      "        [0.60238474 0.61677455]\n",
      "        \n"
     ]
    }
   ],
   "source": [
    "rep_asian_ei_urban, rep_asian_summary_urban = run_ecological_inference(\n",
    "    df=sc_race_merged_ei_urban_df,\n",
    "    demographic_col=\"ASIAN_PERCENT\",\n",
    "    voting_col=\"REPUBLICAN_PERCENT\",\n",
    "    total_votes_col=\"TOT_VOT\",\n",
    "    demographic_group_name=\"Asian\",\n",
    "    candidate_name=sc_candidate_mapping['REPUBLICAN']\n",
    ")"
   ]
  },
  {
   "cell_type": "code",
   "execution_count": 441,
   "metadata": {},
   "outputs": [
    {
     "name": "stderr",
     "output_type": "stream",
     "text": [
      "Compiling...\n",
      "Compilation time = 0:00:01.262157\n",
      "Sampling...\n"
     ]
    },
    {
     "data": {
      "application/vnd.jupyter.widget-view+json": {
       "model_id": "d5048e424e5942fb93f98a749db4c0fd",
       "version_major": 2,
       "version_minor": 0
      },
      "text/plain": [
       "  0%|          | 0/2500 [00:00<?, ?it/s]"
      ]
     },
     "metadata": {},
     "output_type": "display_data"
    },
    {
     "data": {
      "application/vnd.jupyter.widget-view+json": {
       "model_id": "b9fcd0d78c364ef9828277408efab675",
       "version_major": 2,
       "version_minor": 0
      },
      "text/plain": [
       "  0%|          | 0/2500 [00:00<?, ?it/s]"
      ]
     },
     "metadata": {},
     "output_type": "display_data"
    },
    {
     "data": {
      "application/vnd.jupyter.widget-view+json": {
       "model_id": "fc2bbc7297dd48b79450db239017b6c7",
       "version_major": 2,
       "version_minor": 0
      },
      "text/plain": [
       "  0%|          | 0/2500 [00:00<?, ?it/s]"
      ]
     },
     "metadata": {},
     "output_type": "display_data"
    },
    {
     "data": {
      "application/vnd.jupyter.widget-view+json": {
       "model_id": "da65c5b69b4a4dcfa144b6642b979bfa",
       "version_major": 2,
       "version_minor": 0
      },
      "text/plain": [
       "  0%|          | 0/2500 [00:00<?, ?it/s]"
      ]
     },
     "metadata": {},
     "output_type": "display_data"
    },
    {
     "name": "stderr",
     "output_type": "stream",
     "text": [
      "Sampling time = 0:00:02.297819\n",
      "Transforming variables...\n",
      "Transformation time = 0:00:18.710674\n"
     ]
    },
    {
     "name": "stdout",
     "output_type": "stream",
     "text": [
      "Model: king99_pareto_modification\n",
      "        Computed from the raw b_i samples by multiplying by population and then getting\n",
      "        the proportion of the total pop (total pop=summed across all districts):\n",
      "        The posterior mean for the district-level voting preference of\n",
      "        Hispanic for Henry McMaster (Republican Party) is\n",
      "        0.169\n",
      "        The posterior mean for the district-level voting preference of\n",
      "        non-Hispanic for Henry McMaster (Republican Party) is\n",
      "        0.637\n",
      "        95% equal-tailed Bayesian credible interval for district-level voting preference of\n",
      "        Hispanic for Henry McMaster (Republican Party) is\n",
      "        [0.01223015 0.41240426]\n",
      "        95% equal-tailed Bayesian credible interval for district-level voting preference of\n",
      "        non-Hispanic for Henry McMaster (Republican Party) is\n",
      "        [0.62255158 0.64628853]\n",
      "        \n"
     ]
    }
   ],
   "source": [
    "rep_hispanic_ei, rep_hispanic_summary = run_ecological_inference(\n",
    "    df=sc_race_merged_ei_df,\n",
    "    demographic_col=\"HISPANIC_PERCENT\",\n",
    "    voting_col=\"REPUBLICAN_PERCENT\",\n",
    "    total_votes_col=\"TOT_VOT\",\n",
    "    demographic_group_name=\"Hispanic\",\n",
    "    candidate_name=sc_candidate_mapping['REPUBLICAN']\n",
    ")"
   ]
  },
  {
   "cell_type": "code",
   "execution_count": 442,
   "metadata": {},
   "outputs": [
    {
     "name": "stderr",
     "output_type": "stream",
     "text": [
      "Compiling...\n",
      "Compilation time = 0:00:04.937825\n",
      "Sampling...\n"
     ]
    },
    {
     "data": {
      "application/vnd.jupyter.widget-view+json": {
       "model_id": "63281a5d3b7b48c98557d3bd43280cc6",
       "version_major": 2,
       "version_minor": 0
      },
      "text/plain": [
       "  0%|          | 0/2500 [00:00<?, ?it/s]"
      ]
     },
     "metadata": {},
     "output_type": "display_data"
    },
    {
     "data": {
      "application/vnd.jupyter.widget-view+json": {
       "model_id": "ca3eb870b6e640fbb98532b2e6bbf2b0",
       "version_major": 2,
       "version_minor": 0
      },
      "text/plain": [
       "  0%|          | 0/2500 [00:00<?, ?it/s]"
      ]
     },
     "metadata": {},
     "output_type": "display_data"
    },
    {
     "data": {
      "application/vnd.jupyter.widget-view+json": {
       "model_id": "a362a4bac0ea4a49bcfe5f7d6eb13495",
       "version_major": 2,
       "version_minor": 0
      },
      "text/plain": [
       "  0%|          | 0/2500 [00:00<?, ?it/s]"
      ]
     },
     "metadata": {},
     "output_type": "display_data"
    },
    {
     "data": {
      "application/vnd.jupyter.widget-view+json": {
       "model_id": "48c494fe624d4915b7a47cdec0998985",
       "version_major": 2,
       "version_minor": 0
      },
      "text/plain": [
       "  0%|          | 0/2500 [00:00<?, ?it/s]"
      ]
     },
     "metadata": {},
     "output_type": "display_data"
    },
    {
     "name": "stderr",
     "output_type": "stream",
     "text": [
      "Sampling time = 0:00:02.082913\n",
      "Transforming variables...\n",
      "Transformation time = 0:00:22.323037\n"
     ]
    },
    {
     "name": "stdout",
     "output_type": "stream",
     "text": [
      "Model: king99_pareto_modification\n",
      "        Computed from the raw b_i samples by multiplying by population and then getting\n",
      "        the proportion of the total pop (total pop=summed across all districts):\n",
      "        The posterior mean for the district-level voting preference of\n",
      "        Hispanic for Henry McMaster (Republican Party) is\n",
      "        0.254\n",
      "        The posterior mean for the district-level voting preference of\n",
      "        non-Hispanic for Henry McMaster (Republican Party) is\n",
      "        0.592\n",
      "        95% equal-tailed Bayesian credible interval for district-level voting preference of\n",
      "        Hispanic for Henry McMaster (Republican Party) is\n",
      "        [0.03573202 0.62188472]\n",
      "        95% equal-tailed Bayesian credible interval for district-level voting preference of\n",
      "        non-Hispanic for Henry McMaster (Republican Party) is\n",
      "        [0.57851122 0.60097935]\n",
      "        \n"
     ]
    }
   ],
   "source": [
    "rep_hispanic_ei_rural, rep_hispanic_summary_rural = run_ecological_inference(\n",
    "    df=sc_race_merged_ei_rural_df,\n",
    "    demographic_col=\"HISPANIC_PERCENT\",\n",
    "    voting_col=\"REPUBLICAN_PERCENT\",\n",
    "    total_votes_col=\"TOT_VOT\",\n",
    "    demographic_group_name=\"Hispanic\",\n",
    "    candidate_name=sc_candidate_mapping['REPUBLICAN']\n",
    ")"
   ]
  },
  {
   "cell_type": "code",
   "execution_count": 443,
   "metadata": {},
   "outputs": [
    {
     "name": "stderr",
     "output_type": "stream",
     "text": [
      "Compiling...\n",
      "Compilation time = 0:00:01.302044\n",
      "Sampling...\n"
     ]
    },
    {
     "data": {
      "application/vnd.jupyter.widget-view+json": {
       "model_id": "edd008146749427db8a4dedff3e842b1",
       "version_major": 2,
       "version_minor": 0
      },
      "text/plain": [
       "  0%|          | 0/2500 [00:00<?, ?it/s]"
      ]
     },
     "metadata": {},
     "output_type": "display_data"
    },
    {
     "data": {
      "application/vnd.jupyter.widget-view+json": {
       "model_id": "7c4baa0b822b404b89141071c0479a94",
       "version_major": 2,
       "version_minor": 0
      },
      "text/plain": [
       "  0%|          | 0/2500 [00:00<?, ?it/s]"
      ]
     },
     "metadata": {},
     "output_type": "display_data"
    },
    {
     "data": {
      "application/vnd.jupyter.widget-view+json": {
       "model_id": "34bd27097e7e4aaba1739c7974fabcff",
       "version_major": 2,
       "version_minor": 0
      },
      "text/plain": [
       "  0%|          | 0/2500 [00:00<?, ?it/s]"
      ]
     },
     "metadata": {},
     "output_type": "display_data"
    },
    {
     "data": {
      "application/vnd.jupyter.widget-view+json": {
       "model_id": "c0b4465a3dba46be913f9e6232c0828d",
       "version_major": 2,
       "version_minor": 0
      },
      "text/plain": [
       "  0%|          | 0/2500 [00:00<?, ?it/s]"
      ]
     },
     "metadata": {},
     "output_type": "display_data"
    },
    {
     "name": "stderr",
     "output_type": "stream",
     "text": [
      "Sampling time = 0:00:02.357113\n",
      "Transforming variables...\n",
      "Transformation time = 0:00:24.327489\n"
     ]
    },
    {
     "name": "stdout",
     "output_type": "stream",
     "text": [
      "Model: king99_pareto_modification\n",
      "        Computed from the raw b_i samples by multiplying by population and then getting\n",
      "        the proportion of the total pop (total pop=summed across all districts):\n",
      "        The posterior mean for the district-level voting preference of\n",
      "        Hispanic for Henry McMaster (Republican Party) is\n",
      "        0.246\n",
      "        The posterior mean for the district-level voting preference of\n",
      "        non-Hispanic for Henry McMaster (Republican Party) is\n",
      "        0.607\n",
      "        95% equal-tailed Bayesian credible interval for district-level voting preference of\n",
      "        Hispanic for Henry McMaster (Republican Party) is\n",
      "        [0.05601038 0.53245512]\n",
      "        95% equal-tailed Bayesian credible interval for district-level voting preference of\n",
      "        non-Hispanic for Henry McMaster (Republican Party) is\n",
      "        [0.58346503 0.62261474]\n",
      "        \n"
     ]
    }
   ],
   "source": [
    "rep_hispanic_ei_suburban, rep_hispanic_summary_suburban = run_ecological_inference(\n",
    "    df=sc_race_merged_ei_suburban_df,\n",
    "    demographic_col=\"HISPANIC_PERCENT\",\n",
    "    voting_col=\"REPUBLICAN_PERCENT\",\n",
    "    total_votes_col=\"TOT_VOT\",\n",
    "    demographic_group_name=\"Hispanic\",\n",
    "    candidate_name=sc_candidate_mapping['REPUBLICAN']\n",
    ")"
   ]
  },
  {
   "cell_type": "code",
   "execution_count": 444,
   "metadata": {},
   "outputs": [
    {
     "name": "stderr",
     "output_type": "stream",
     "text": [
      "Compiling...\n",
      "Compilation time = 0:00:01.215295\n",
      "Sampling...\n"
     ]
    },
    {
     "data": {
      "application/vnd.jupyter.widget-view+json": {
       "model_id": "698155f670bd457cad035e48d7dcb996",
       "version_major": 2,
       "version_minor": 0
      },
      "text/plain": [
       "  0%|          | 0/2500 [00:00<?, ?it/s]"
      ]
     },
     "metadata": {},
     "output_type": "display_data"
    },
    {
     "data": {
      "application/vnd.jupyter.widget-view+json": {
       "model_id": "2ab70e0ad1194e75b8915ae5022cecc2",
       "version_major": 2,
       "version_minor": 0
      },
      "text/plain": [
       "  0%|          | 0/2500 [00:00<?, ?it/s]"
      ]
     },
     "metadata": {},
     "output_type": "display_data"
    },
    {
     "data": {
      "application/vnd.jupyter.widget-view+json": {
       "model_id": "968e654cac934962ad7cddb6982e0d11",
       "version_major": 2,
       "version_minor": 0
      },
      "text/plain": [
       "  0%|          | 0/2500 [00:00<?, ?it/s]"
      ]
     },
     "metadata": {},
     "output_type": "display_data"
    },
    {
     "data": {
      "application/vnd.jupyter.widget-view+json": {
       "model_id": "96189c4308084fa1ade125a39e287e4a",
       "version_major": 2,
       "version_minor": 0
      },
      "text/plain": [
       "  0%|          | 0/2500 [00:00<?, ?it/s]"
      ]
     },
     "metadata": {},
     "output_type": "display_data"
    },
    {
     "name": "stderr",
     "output_type": "stream",
     "text": [
      "Sampling time = 0:00:02.006003\n",
      "Transforming variables...\n",
      "Transformation time = 0:00:11.701797\n"
     ]
    },
    {
     "name": "stdout",
     "output_type": "stream",
     "text": [
      "Model: king99_pareto_modification\n",
      "        Computed from the raw b_i samples by multiplying by population and then getting\n",
      "        the proportion of the total pop (total pop=summed across all districts):\n",
      "        The posterior mean for the district-level voting preference of\n",
      "        Hispanic for Henry McMaster (Republican Party) is\n",
      "        0.345\n",
      "        The posterior mean for the district-level voting preference of\n",
      "        non-Hispanic for Henry McMaster (Republican Party) is\n",
      "        0.622\n",
      "        95% equal-tailed Bayesian credible interval for district-level voting preference of\n",
      "        Hispanic for Henry McMaster (Republican Party) is\n",
      "        [0.07656643 0.66855293]\n",
      "        95% equal-tailed Bayesian credible interval for district-level voting preference of\n",
      "        non-Hispanic for Henry McMaster (Republican Party) is\n",
      "        [0.5971112  0.64307283]\n",
      "        \n"
     ]
    }
   ],
   "source": [
    "rep_hispanic_ei_urban, rep_hispanic_summary_urban = run_ecological_inference(\n",
    "    df=sc_race_merged_ei_urban_df,\n",
    "    demographic_col=\"HISPANIC_PERCENT\",\n",
    "    voting_col=\"REPUBLICAN_PERCENT\",\n",
    "    total_votes_col=\"TOT_VOT\",\n",
    "    demographic_group_name=\"Hispanic\",\n",
    "    candidate_name=sc_candidate_mapping['REPUBLICAN']\n",
    ")"
   ]
  },
  {
   "cell_type": "markdown",
   "metadata": {},
   "source": [
    "#### Econ Run"
   ]
  },
  {
   "cell_type": "markdown",
   "metadata": {},
   "source": [
    "##### Dem Run"
   ]
  },
  {
   "cell_type": "code",
   "execution_count": 445,
   "metadata": {},
   "outputs": [
    {
     "name": "stderr",
     "output_type": "stream",
     "text": [
      "Compiling...\n",
      "Compilation time = 0:00:01.190088\n",
      "Sampling...\n"
     ]
    },
    {
     "data": {
      "application/vnd.jupyter.widget-view+json": {
       "model_id": "06a66dfc381d44f28bd3596d5ac5cbf7",
       "version_major": 2,
       "version_minor": 0
      },
      "text/plain": [
       "  0%|          | 0/2500 [00:00<?, ?it/s]"
      ]
     },
     "metadata": {},
     "output_type": "display_data"
    },
    {
     "data": {
      "application/vnd.jupyter.widget-view+json": {
       "model_id": "036ca434fcd5466a951780f20c2548a9",
       "version_major": 2,
       "version_minor": 0
      },
      "text/plain": [
       "  0%|          | 0/2500 [00:00<?, ?it/s]"
      ]
     },
     "metadata": {},
     "output_type": "display_data"
    },
    {
     "data": {
      "application/vnd.jupyter.widget-view+json": {
       "model_id": "08f94209751b4a90b2bc9673388e67b2",
       "version_major": 2,
       "version_minor": 0
      },
      "text/plain": [
       "  0%|          | 0/2500 [00:00<?, ?it/s]"
      ]
     },
     "metadata": {},
     "output_type": "display_data"
    },
    {
     "data": {
      "application/vnd.jupyter.widget-view+json": {
       "model_id": "d2482e499e22481c90106f283c109a1d",
       "version_major": 2,
       "version_minor": 0
      },
      "text/plain": [
       "  0%|          | 0/2500 [00:00<?, ?it/s]"
      ]
     },
     "metadata": {},
     "output_type": "display_data"
    },
    {
     "name": "stderr",
     "output_type": "stream",
     "text": [
      "Sampling time = 0:00:02.084546\n",
      "Transforming variables...\n",
      "Transformation time = 0:00:17.697517\n"
     ]
    },
    {
     "name": "stdout",
     "output_type": "stream",
     "text": [
      "Model: king99_pareto_modification\n",
      "        Computed from the raw b_i samples by multiplying by population and then getting\n",
      "        the proportion of the total pop (total pop=summed across all districts):\n",
      "        The posterior mean for the district-level voting preference of\n",
      "        $0-$35,000 for Joe Cunningham (Democratic Party) is\n",
      "        0.636\n",
      "        The posterior mean for the district-level voting preference of\n",
      "        non-$0-$35,000 for Joe Cunningham (Democratic Party) is\n",
      "        0.342\n",
      "        95% equal-tailed Bayesian credible interval for district-level voting preference of\n",
      "        $0-$35,000 for Joe Cunningham (Democratic Party) is\n",
      "        [0.50920862 0.74858979]\n",
      "        95% equal-tailed Bayesian credible interval for district-level voting preference of\n",
      "        non-$0-$35,000 for Joe Cunningham (Democratic Party) is\n",
      "        [0.30835459 0.38064602]\n",
      "        \n"
     ]
    }
   ],
   "source": [
    "dem_0_35_ei, dem_0_35_summary = run_ecological_inference(\n",
    "    df=sc_economic_merged_ei_df,\n",
    "    demographic_col=\"0_35K_PERCENT\",\n",
    "    voting_col=\"DEMOCRATIC_PERCENT\",\n",
    "    total_votes_col=\"TOT_VOT\",\n",
    "    demographic_group_name=\"$0-$35,000\",\n",
    "    candidate_name=sc_candidate_mapping['DEMOCRATIC']\n",
    ")"
   ]
  },
  {
   "cell_type": "code",
   "execution_count": 446,
   "metadata": {},
   "outputs": [
    {
     "name": "stderr",
     "output_type": "stream",
     "text": [
      "Compiling...\n",
      "Compilation time = 0:00:01.210246\n",
      "Sampling...\n"
     ]
    },
    {
     "data": {
      "application/vnd.jupyter.widget-view+json": {
       "model_id": "7bcd781310d744a2b66e4a263e90f335",
       "version_major": 2,
       "version_minor": 0
      },
      "text/plain": [
       "  0%|          | 0/2500 [00:00<?, ?it/s]"
      ]
     },
     "metadata": {},
     "output_type": "display_data"
    },
    {
     "data": {
      "application/vnd.jupyter.widget-view+json": {
       "model_id": "acc78e7d53064d6c88caa123aab6a074",
       "version_major": 2,
       "version_minor": 0
      },
      "text/plain": [
       "  0%|          | 0/2500 [00:00<?, ?it/s]"
      ]
     },
     "metadata": {},
     "output_type": "display_data"
    },
    {
     "data": {
      "application/vnd.jupyter.widget-view+json": {
       "model_id": "8fd24746d2fc4de9bfd71b60bbd315ac",
       "version_major": 2,
       "version_minor": 0
      },
      "text/plain": [
       "  0%|          | 0/2500 [00:00<?, ?it/s]"
      ]
     },
     "metadata": {},
     "output_type": "display_data"
    },
    {
     "data": {
      "application/vnd.jupyter.widget-view+json": {
       "model_id": "f4ba579043d04ad6a6207b0241ef901e",
       "version_major": 2,
       "version_minor": 0
      },
      "text/plain": [
       "  0%|          | 0/2500 [00:00<?, ?it/s]"
      ]
     },
     "metadata": {},
     "output_type": "display_data"
    },
    {
     "name": "stderr",
     "output_type": "stream",
     "text": [
      "Sampling time = 0:00:02.259683\n",
      "Transforming variables...\n",
      "Transformation time = 0:00:17.360628\n"
     ]
    },
    {
     "name": "stdout",
     "output_type": "stream",
     "text": [
      "Model: king99_pareto_modification\n",
      "        Computed from the raw b_i samples by multiplying by population and then getting\n",
      "        the proportion of the total pop (total pop=summed across all districts):\n",
      "        The posterior mean for the district-level voting preference of\n",
      "        $0-$35,000 for Joe Cunningham (Democratic Party) is\n",
      "        0.564\n",
      "        The posterior mean for the district-level voting preference of\n",
      "        non-$0-$35,000 for Joe Cunningham (Democratic Party) is\n",
      "        0.370\n",
      "        95% equal-tailed Bayesian credible interval for district-level voting preference of\n",
      "        $0-$35,000 for Joe Cunningham (Democratic Party) is\n",
      "        [0.4489041  0.66858943]\n",
      "        95% equal-tailed Bayesian credible interval for district-level voting preference of\n",
      "        non-$0-$35,000 for Joe Cunningham (Democratic Party) is\n",
      "        [0.33230706 0.41095475]\n",
      "        \n"
     ]
    }
   ],
   "source": [
    "dem_0_35_ei_rural, dem_0_35_summary_rural = run_ecological_inference(\n",
    "    df=sc_economic_merged_ei_rural_df,\n",
    "    demographic_col=\"0_35K_PERCENT\",\n",
    "    voting_col=\"DEMOCRATIC_PERCENT\",\n",
    "    total_votes_col=\"TOT_VOT\",\n",
    "    demographic_group_name=\"$0-$35,000\",\n",
    "    candidate_name=sc_candidate_mapping['DEMOCRATIC']\n",
    ")"
   ]
  },
  {
   "cell_type": "code",
   "execution_count": 447,
   "metadata": {},
   "outputs": [
    {
     "name": "stderr",
     "output_type": "stream",
     "text": [
      "Compiling...\n",
      "Compilation time = 0:00:01.185102\n",
      "Sampling...\n"
     ]
    },
    {
     "data": {
      "application/vnd.jupyter.widget-view+json": {
       "model_id": "478e04d34ccf4367ae238d97b953b746",
       "version_major": 2,
       "version_minor": 0
      },
      "text/plain": [
       "  0%|          | 0/2500 [00:00<?, ?it/s]"
      ]
     },
     "metadata": {},
     "output_type": "display_data"
    },
    {
     "data": {
      "application/vnd.jupyter.widget-view+json": {
       "model_id": "6a5ff7e064b9433a99034075dcfda70c",
       "version_major": 2,
       "version_minor": 0
      },
      "text/plain": [
       "  0%|          | 0/2500 [00:00<?, ?it/s]"
      ]
     },
     "metadata": {},
     "output_type": "display_data"
    },
    {
     "data": {
      "application/vnd.jupyter.widget-view+json": {
       "model_id": "9026003da0734e44b211bf68f0528f0a",
       "version_major": 2,
       "version_minor": 0
      },
      "text/plain": [
       "  0%|          | 0/2500 [00:00<?, ?it/s]"
      ]
     },
     "metadata": {},
     "output_type": "display_data"
    },
    {
     "data": {
      "application/vnd.jupyter.widget-view+json": {
       "model_id": "7de3606c0dd0440181fad48a9c2d00af",
       "version_major": 2,
       "version_minor": 0
      },
      "text/plain": [
       "  0%|          | 0/2500 [00:00<?, ?it/s]"
      ]
     },
     "metadata": {},
     "output_type": "display_data"
    },
    {
     "name": "stderr",
     "output_type": "stream",
     "text": [
      "Sampling time = 0:00:04.771492\n",
      "Transforming variables...\n",
      "Transformation time = 0:00:18.864438\n"
     ]
    },
    {
     "name": "stdout",
     "output_type": "stream",
     "text": [
      "Model: king99_pareto_modification\n",
      "        Computed from the raw b_i samples by multiplying by population and then getting\n",
      "        the proportion of the total pop (total pop=summed across all districts):\n",
      "        The posterior mean for the district-level voting preference of\n",
      "        $0-$35,000 for Joe Cunningham (Democratic Party) is\n",
      "        0.642\n",
      "        The posterior mean for the district-level voting preference of\n",
      "        non-$0-$35,000 for Joe Cunningham (Democratic Party) is\n",
      "        0.354\n",
      "        95% equal-tailed Bayesian credible interval for district-level voting preference of\n",
      "        $0-$35,000 for Joe Cunningham (Democratic Party) is\n",
      "        [0.52116911 0.75442519]\n",
      "        95% equal-tailed Bayesian credible interval for district-level voting preference of\n",
      "        non-$0-$35,000 for Joe Cunningham (Democratic Party) is\n",
      "        [0.319208  0.3925246]\n",
      "        \n"
     ]
    }
   ],
   "source": [
    "dem_0_35_ei_suburban, dem_0_35_summary_suburban = run_ecological_inference(\n",
    "    df=sc_economic_merged_ei_suburban_df,\n",
    "    demographic_col=\"0_35K_PERCENT\",\n",
    "    voting_col=\"DEMOCRATIC_PERCENT\",\n",
    "    total_votes_col=\"TOT_VOT\",\n",
    "    demographic_group_name=\"$0-$35,000\",\n",
    "    candidate_name=sc_candidate_mapping['DEMOCRATIC']\n",
    ")"
   ]
  },
  {
   "cell_type": "code",
   "execution_count": 448,
   "metadata": {},
   "outputs": [
    {
     "name": "stderr",
     "output_type": "stream",
     "text": [
      "Compiling...\n",
      "Compilation time = 0:00:01.385696\n",
      "Sampling...\n"
     ]
    },
    {
     "data": {
      "application/vnd.jupyter.widget-view+json": {
       "model_id": "b4222879eb2045a89ab309f533b72355",
       "version_major": 2,
       "version_minor": 0
      },
      "text/plain": [
       "  0%|          | 0/2500 [00:00<?, ?it/s]"
      ]
     },
     "metadata": {},
     "output_type": "display_data"
    },
    {
     "data": {
      "application/vnd.jupyter.widget-view+json": {
       "model_id": "27aeb27f04634ef9976db14032251cc8",
       "version_major": 2,
       "version_minor": 0
      },
      "text/plain": [
       "  0%|          | 0/2500 [00:00<?, ?it/s]"
      ]
     },
     "metadata": {},
     "output_type": "display_data"
    },
    {
     "data": {
      "application/vnd.jupyter.widget-view+json": {
       "model_id": "4c59faf8a2844b079409d01c5b59a9af",
       "version_major": 2,
       "version_minor": 0
      },
      "text/plain": [
       "  0%|          | 0/2500 [00:00<?, ?it/s]"
      ]
     },
     "metadata": {},
     "output_type": "display_data"
    },
    {
     "data": {
      "application/vnd.jupyter.widget-view+json": {
       "model_id": "17fadaa1e0c94ad89eaf9c935ff4ae43",
       "version_major": 2,
       "version_minor": 0
      },
      "text/plain": [
       "  0%|          | 0/2500 [00:00<?, ?it/s]"
      ]
     },
     "metadata": {},
     "output_type": "display_data"
    },
    {
     "name": "stderr",
     "output_type": "stream",
     "text": [
      "Sampling time = 0:00:02.119385\n",
      "Transforming variables...\n",
      "Transformation time = 0:00:19.810804\n"
     ]
    },
    {
     "name": "stdout",
     "output_type": "stream",
     "text": [
      "Model: king99_pareto_modification\n",
      "        Computed from the raw b_i samples by multiplying by population and then getting\n",
      "        the proportion of the total pop (total pop=summed across all districts):\n",
      "        The posterior mean for the district-level voting preference of\n",
      "        $0-$35,000 for Joe Cunningham (Democratic Party) is\n",
      "        0.644\n",
      "        The posterior mean for the district-level voting preference of\n",
      "        non-$0-$35,000 for Joe Cunningham (Democratic Party) is\n",
      "        0.337\n",
      "        95% equal-tailed Bayesian credible interval for district-level voting preference of\n",
      "        $0-$35,000 for Joe Cunningham (Democratic Party) is\n",
      "        [0.48676505 0.77790372]\n",
      "        95% equal-tailed Bayesian credible interval for district-level voting preference of\n",
      "        non-$0-$35,000 for Joe Cunningham (Democratic Party) is\n",
      "        [0.30546145 0.37548426]\n",
      "        \n"
     ]
    }
   ],
   "source": [
    "dem_0_35_ei_urban, dem_0_35_summary_urban = run_ecological_inference(\n",
    "    df=sc_economic_merged_ei_urban_df,\n",
    "    demographic_col=\"0_35K_PERCENT\",\n",
    "    voting_col=\"DEMOCRATIC_PERCENT\",\n",
    "    total_votes_col=\"TOT_VOT\",\n",
    "    demographic_group_name=\"$0-$35,000\",\n",
    "    candidate_name=sc_candidate_mapping['DEMOCRATIC']\n",
    ")"
   ]
  },
  {
   "cell_type": "code",
   "execution_count": 449,
   "metadata": {},
   "outputs": [
    {
     "name": "stderr",
     "output_type": "stream",
     "text": [
      "Compiling...\n",
      "Compilation time = 0:00:01.438596\n",
      "Sampling...\n"
     ]
    },
    {
     "data": {
      "application/vnd.jupyter.widget-view+json": {
       "model_id": "6d951ade1ecd4503a6a78074b3f07b32",
       "version_major": 2,
       "version_minor": 0
      },
      "text/plain": [
       "  0%|          | 0/2500 [00:00<?, ?it/s]"
      ]
     },
     "metadata": {},
     "output_type": "display_data"
    },
    {
     "data": {
      "application/vnd.jupyter.widget-view+json": {
       "model_id": "1616b2c1fa3442b381859fc755d08468",
       "version_major": 2,
       "version_minor": 0
      },
      "text/plain": [
       "  0%|          | 0/2500 [00:00<?, ?it/s]"
      ]
     },
     "metadata": {},
     "output_type": "display_data"
    },
    {
     "data": {
      "application/vnd.jupyter.widget-view+json": {
       "model_id": "57a8d36f61374a539d2aab0d1c304033",
       "version_major": 2,
       "version_minor": 0
      },
      "text/plain": [
       "  0%|          | 0/2500 [00:00<?, ?it/s]"
      ]
     },
     "metadata": {},
     "output_type": "display_data"
    },
    {
     "data": {
      "application/vnd.jupyter.widget-view+json": {
       "model_id": "972c578002884d8d88e53252bc66e80d",
       "version_major": 2,
       "version_minor": 0
      },
      "text/plain": [
       "  0%|          | 0/2500 [00:00<?, ?it/s]"
      ]
     },
     "metadata": {},
     "output_type": "display_data"
    },
    {
     "name": "stderr",
     "output_type": "stream",
     "text": [
      "Sampling time = 0:00:02.587972\n",
      "Transforming variables...\n",
      "Transformation time = 0:00:18.473326\n"
     ]
    },
    {
     "name": "stdout",
     "output_type": "stream",
     "text": [
      "Model: king99_pareto_modification\n",
      "        Computed from the raw b_i samples by multiplying by population and then getting\n",
      "        the proportion of the total pop (total pop=summed across all districts):\n",
      "        The posterior mean for the district-level voting preference of\n",
      "        $35,000-$60,000 for Joe Cunningham (Democratic Party) is\n",
      "        0.605\n",
      "        The posterior mean for the district-level voting preference of\n",
      "        non-$35,000-$60,000 for Joe Cunningham (Democratic Party) is\n",
      "        0.367\n",
      "        95% equal-tailed Bayesian credible interval for district-level voting preference of\n",
      "        $35,000-$60,000 for Joe Cunningham (Democratic Party) is\n",
      "        [0.40723579 0.79367214]\n",
      "        95% equal-tailed Bayesian credible interval for district-level voting preference of\n",
      "        non-$35,000-$60,000 for Joe Cunningham (Democratic Party) is\n",
      "        [0.32770319 0.40863896]\n",
      "        \n"
     ]
    }
   ],
   "source": [
    "dem_35_60_ei, dem_35_60_summary = run_ecological_inference(\n",
    "    df=sc_economic_merged_ei_df,\n",
    "    demographic_col=\"35K_60K_PERCENT\",\n",
    "    voting_col=\"DEMOCRATIC_PERCENT\",\n",
    "    total_votes_col=\"TOT_VOT\",\n",
    "    demographic_group_name=\"$35,000-$60,000\",\n",
    "    candidate_name=sc_candidate_mapping['DEMOCRATIC']\n",
    ")"
   ]
  },
  {
   "cell_type": "code",
   "execution_count": 450,
   "metadata": {},
   "outputs": [
    {
     "name": "stderr",
     "output_type": "stream",
     "text": [
      "Compiling...\n",
      "Compilation time = 0:00:01.368037\n",
      "Sampling...\n"
     ]
    },
    {
     "data": {
      "application/vnd.jupyter.widget-view+json": {
       "model_id": "b6d33bf031fe456ab7e9f148bfdda950",
       "version_major": 2,
       "version_minor": 0
      },
      "text/plain": [
       "  0%|          | 0/2500 [00:00<?, ?it/s]"
      ]
     },
     "metadata": {},
     "output_type": "display_data"
    },
    {
     "data": {
      "application/vnd.jupyter.widget-view+json": {
       "model_id": "0613d3d24b91462295a86d7db43b3ed7",
       "version_major": 2,
       "version_minor": 0
      },
      "text/plain": [
       "  0%|          | 0/2500 [00:00<?, ?it/s]"
      ]
     },
     "metadata": {},
     "output_type": "display_data"
    },
    {
     "data": {
      "application/vnd.jupyter.widget-view+json": {
       "model_id": "b5f67e5a66664adc9fe8e46e4b627845",
       "version_major": 2,
       "version_minor": 0
      },
      "text/plain": [
       "  0%|          | 0/2500 [00:00<?, ?it/s]"
      ]
     },
     "metadata": {},
     "output_type": "display_data"
    },
    {
     "data": {
      "application/vnd.jupyter.widget-view+json": {
       "model_id": "144ad538821d447aa86cb559db48ef59",
       "version_major": 2,
       "version_minor": 0
      },
      "text/plain": [
       "  0%|          | 0/2500 [00:00<?, ?it/s]"
      ]
     },
     "metadata": {},
     "output_type": "display_data"
    },
    {
     "name": "stderr",
     "output_type": "stream",
     "text": [
      "Sampling time = 0:00:01.921088\n",
      "Transforming variables...\n",
      "Transformation time = 0:00:13.398060\n"
     ]
    },
    {
     "name": "stdout",
     "output_type": "stream",
     "text": [
      "Model: king99_pareto_modification\n",
      "        Computed from the raw b_i samples by multiplying by population and then getting\n",
      "        the proportion of the total pop (total pop=summed across all districts):\n",
      "        The posterior mean for the district-level voting preference of\n",
      "        $35,000-$60,000 for Joe Cunningham (Democratic Party) is\n",
      "        0.532\n",
      "        The posterior mean for the district-level voting preference of\n",
      "        non-$35,000-$60,000 for Joe Cunningham (Democratic Party) is\n",
      "        0.398\n",
      "        95% equal-tailed Bayesian credible interval for district-level voting preference of\n",
      "        $35,000-$60,000 for Joe Cunningham (Democratic Party) is\n",
      "        [0.35200591 0.69027431]\n",
      "        95% equal-tailed Bayesian credible interval for district-level voting preference of\n",
      "        non-$35,000-$60,000 for Joe Cunningham (Democratic Party) is\n",
      "        [0.36543653 0.43710305]\n",
      "        \n"
     ]
    }
   ],
   "source": [
    "dem_35_60_ei_rural, dem_35_60_summary_rural = run_ecological_inference(\n",
    "    df=sc_economic_merged_ei_rural_df,\n",
    "    demographic_col=\"35K_60K_PERCENT\",\n",
    "    voting_col=\"DEMOCRATIC_PERCENT\",\n",
    "    total_votes_col=\"TOT_VOT\",\n",
    "    demographic_group_name=\"$35,000-$60,000\",\n",
    "    candidate_name=sc_candidate_mapping['DEMOCRATIC']\n",
    ")"
   ]
  },
  {
   "cell_type": "code",
   "execution_count": 451,
   "metadata": {},
   "outputs": [
    {
     "name": "stderr",
     "output_type": "stream",
     "text": [
      "Compiling...\n",
      "Compilation time = 0:00:01.187128\n",
      "Sampling...\n"
     ]
    },
    {
     "data": {
      "application/vnd.jupyter.widget-view+json": {
       "model_id": "bd050ca5bdbb4536ad0dc0799902263a",
       "version_major": 2,
       "version_minor": 0
      },
      "text/plain": [
       "  0%|          | 0/2500 [00:00<?, ?it/s]"
      ]
     },
     "metadata": {},
     "output_type": "display_data"
    },
    {
     "data": {
      "application/vnd.jupyter.widget-view+json": {
       "model_id": "f004c9dfb73a4b8887e5968a26245671",
       "version_major": 2,
       "version_minor": 0
      },
      "text/plain": [
       "  0%|          | 0/2500 [00:00<?, ?it/s]"
      ]
     },
     "metadata": {},
     "output_type": "display_data"
    },
    {
     "data": {
      "application/vnd.jupyter.widget-view+json": {
       "model_id": "4d428b45f3dd442ea11f52b56700d19d",
       "version_major": 2,
       "version_minor": 0
      },
      "text/plain": [
       "  0%|          | 0/2500 [00:00<?, ?it/s]"
      ]
     },
     "metadata": {},
     "output_type": "display_data"
    },
    {
     "data": {
      "application/vnd.jupyter.widget-view+json": {
       "model_id": "bab87462ab2140db889170db9089bf13",
       "version_major": 2,
       "version_minor": 0
      },
      "text/plain": [
       "  0%|          | 0/2500 [00:00<?, ?it/s]"
      ]
     },
     "metadata": {},
     "output_type": "display_data"
    },
    {
     "name": "stderr",
     "output_type": "stream",
     "text": [
      "Sampling time = 0:00:02.044966\n",
      "Transforming variables...\n",
      "Transformation time = 0:00:17.495680\n"
     ]
    },
    {
     "name": "stdout",
     "output_type": "stream",
     "text": [
      "Model: king99_pareto_modification\n",
      "        Computed from the raw b_i samples by multiplying by population and then getting\n",
      "        the proportion of the total pop (total pop=summed across all districts):\n",
      "        The posterior mean for the district-level voting preference of\n",
      "        $35,000-$60,000 for Joe Cunningham (Democratic Party) is\n",
      "        0.690\n",
      "        The posterior mean for the district-level voting preference of\n",
      "        non-$35,000-$60,000 for Joe Cunningham (Democratic Party) is\n",
      "        0.353\n",
      "        95% equal-tailed Bayesian credible interval for district-level voting preference of\n",
      "        $35,000-$60,000 for Joe Cunningham (Democratic Party) is\n",
      "        [0.51689064 0.82953472]\n",
      "        95% equal-tailed Bayesian credible interval for district-level voting preference of\n",
      "        non-$35,000-$60,000 for Joe Cunningham (Democratic Party) is\n",
      "        [0.31721384 0.39641799]\n",
      "        \n"
     ]
    }
   ],
   "source": [
    "dem_35_60_ei_suburban, dem_35_60_summary_rural_suburban = run_ecological_inference(\n",
    "    df=sc_economic_merged_ei_suburban_df,\n",
    "    demographic_col=\"35K_60K_PERCENT\",\n",
    "    voting_col=\"DEMOCRATIC_PERCENT\",\n",
    "    total_votes_col=\"TOT_VOT\",\n",
    "    demographic_group_name=\"$35,000-$60,000\",\n",
    "    candidate_name=sc_candidate_mapping['DEMOCRATIC']\n",
    ")"
   ]
  },
  {
   "cell_type": "code",
   "execution_count": 452,
   "metadata": {},
   "outputs": [
    {
     "name": "stderr",
     "output_type": "stream",
     "text": [
      "Compiling...\n",
      "Compilation time = 0:00:01.197282\n",
      "Sampling...\n"
     ]
    },
    {
     "data": {
      "application/vnd.jupyter.widget-view+json": {
       "model_id": "c7b93826f74a4d84887b39aea29d4712",
       "version_major": 2,
       "version_minor": 0
      },
      "text/plain": [
       "  0%|          | 0/2500 [00:00<?, ?it/s]"
      ]
     },
     "metadata": {},
     "output_type": "display_data"
    },
    {
     "data": {
      "application/vnd.jupyter.widget-view+json": {
       "model_id": "cf9c891b6c9c47b18a975e46975eb620",
       "version_major": 2,
       "version_minor": 0
      },
      "text/plain": [
       "  0%|          | 0/2500 [00:00<?, ?it/s]"
      ]
     },
     "metadata": {},
     "output_type": "display_data"
    },
    {
     "data": {
      "application/vnd.jupyter.widget-view+json": {
       "model_id": "6eb0e42dd9f44ce4ab5d8c8aacf0add5",
       "version_major": 2,
       "version_minor": 0
      },
      "text/plain": [
       "  0%|          | 0/2500 [00:00<?, ?it/s]"
      ]
     },
     "metadata": {},
     "output_type": "display_data"
    },
    {
     "data": {
      "application/vnd.jupyter.widget-view+json": {
       "model_id": "5736ffdaaf3b42a0a1f1a921ccca669d",
       "version_major": 2,
       "version_minor": 0
      },
      "text/plain": [
       "  0%|          | 0/2500 [00:00<?, ?it/s]"
      ]
     },
     "metadata": {},
     "output_type": "display_data"
    },
    {
     "name": "stderr",
     "output_type": "stream",
     "text": [
      "Sampling time = 0:00:01.814805\n",
      "Transforming variables...\n",
      "Transformation time = 0:00:18.589857\n"
     ]
    },
    {
     "name": "stdout",
     "output_type": "stream",
     "text": [
      "Model: king99_pareto_modification\n",
      "        Computed from the raw b_i samples by multiplying by population and then getting\n",
      "        the proportion of the total pop (total pop=summed across all districts):\n",
      "        The posterior mean for the district-level voting preference of\n",
      "        $35,000-$60,000 for Joe Cunningham (Democratic Party) is\n",
      "        0.726\n",
      "        The posterior mean for the district-level voting preference of\n",
      "        non-$35,000-$60,000 for Joe Cunningham (Democratic Party) is\n",
      "        0.317\n",
      "        95% equal-tailed Bayesian credible interval for district-level voting preference of\n",
      "        $35,000-$60,000 for Joe Cunningham (Democratic Party) is\n",
      "        [0.50170162 0.88404166]\n",
      "        95% equal-tailed Bayesian credible interval for district-level voting preference of\n",
      "        non-$35,000-$60,000 for Joe Cunningham (Democratic Party) is\n",
      "        [0.27769208 0.37330583]\n",
      "        \n"
     ]
    }
   ],
   "source": [
    "dem_35_60_ei_urban, dem_35_60_summary_urban = run_ecological_inference(\n",
    "    df=sc_economic_merged_ei_urban_df,\n",
    "    demographic_col=\"35K_60K_PERCENT\",\n",
    "    voting_col=\"DEMOCRATIC_PERCENT\",\n",
    "    total_votes_col=\"TOT_VOT\",\n",
    "    demographic_group_name=\"$35,000-$60,000\",\n",
    "    candidate_name=sc_candidate_mapping['DEMOCRATIC']\n",
    ")"
   ]
  },
  {
   "cell_type": "code",
   "execution_count": 453,
   "metadata": {},
   "outputs": [
    {
     "name": "stderr",
     "output_type": "stream",
     "text": [
      "Compiling...\n",
      "Compilation time = 0:00:03.652227\n",
      "Sampling...\n"
     ]
    },
    {
     "data": {
      "application/vnd.jupyter.widget-view+json": {
       "model_id": "c09755b5a8c24300b5ff51f2747eeb58",
       "version_major": 2,
       "version_minor": 0
      },
      "text/plain": [
       "  0%|          | 0/2500 [00:00<?, ?it/s]"
      ]
     },
     "metadata": {},
     "output_type": "display_data"
    },
    {
     "data": {
      "application/vnd.jupyter.widget-view+json": {
       "model_id": "3bd8fde4ce7248daadbf3e24385c8c19",
       "version_major": 2,
       "version_minor": 0
      },
      "text/plain": [
       "  0%|          | 0/2500 [00:00<?, ?it/s]"
      ]
     },
     "metadata": {},
     "output_type": "display_data"
    },
    {
     "data": {
      "application/vnd.jupyter.widget-view+json": {
       "model_id": "b9b1e952b3144e13bffab9b496b1dc9f",
       "version_major": 2,
       "version_minor": 0
      },
      "text/plain": [
       "  0%|          | 0/2500 [00:00<?, ?it/s]"
      ]
     },
     "metadata": {},
     "output_type": "display_data"
    },
    {
     "data": {
      "application/vnd.jupyter.widget-view+json": {
       "model_id": "a6107fede8cf4592a052ed4cc59ddfb8",
       "version_major": 2,
       "version_minor": 0
      },
      "text/plain": [
       "  0%|          | 0/2500 [00:00<?, ?it/s]"
      ]
     },
     "metadata": {},
     "output_type": "display_data"
    },
    {
     "name": "stderr",
     "output_type": "stream",
     "text": [
      "Sampling time = 0:00:01.920595\n",
      "Transforming variables...\n",
      "Transformation time = 0:00:17.107932\n"
     ]
    },
    {
     "name": "stdout",
     "output_type": "stream",
     "text": [
      "Model: king99_pareto_modification\n",
      "        Computed from the raw b_i samples by multiplying by population and then getting\n",
      "        the proportion of the total pop (total pop=summed across all districts):\n",
      "        The posterior mean for the district-level voting preference of\n",
      "        $35,000-$60,000 for Joe Cunningham (Democratic Party) is\n",
      "        0.554\n",
      "        The posterior mean for the district-level voting preference of\n",
      "        non-$35,000-$60,000 for Joe Cunningham (Democratic Party) is\n",
      "        0.370\n",
      "        95% equal-tailed Bayesian credible interval for district-level voting preference of\n",
      "        $35,000-$60,000 for Joe Cunningham (Democratic Party) is\n",
      "        [0.30588012 0.76767623]\n",
      "        95% equal-tailed Bayesian credible interval for district-level voting preference of\n",
      "        non-$35,000-$60,000 for Joe Cunningham (Democratic Party) is\n",
      "        [0.31297022 0.43503468]\n",
      "        \n"
     ]
    }
   ],
   "source": [
    "dem_60_100_ei, dem_60_100_summary = run_ecological_inference(\n",
    "    df=sc_economic_merged_ei_df,\n",
    "    demographic_col=\"60K_100K_PERCENT\",\n",
    "    voting_col=\"DEMOCRATIC_PERCENT\",\n",
    "    total_votes_col=\"TOT_VOT\",\n",
    "    demographic_group_name=\"$35,000-$60,000\",\n",
    "    candidate_name=sc_candidate_mapping['DEMOCRATIC']\n",
    ")"
   ]
  },
  {
   "cell_type": "code",
   "execution_count": 454,
   "metadata": {},
   "outputs": [
    {
     "name": "stderr",
     "output_type": "stream",
     "text": [
      "Compiling...\n",
      "Compilation time = 0:00:01.243948\n",
      "Sampling...\n"
     ]
    },
    {
     "data": {
      "application/vnd.jupyter.widget-view+json": {
       "model_id": "15f3829910b54a73a12312485984d3b1",
       "version_major": 2,
       "version_minor": 0
      },
      "text/plain": [
       "  0%|          | 0/2500 [00:00<?, ?it/s]"
      ]
     },
     "metadata": {},
     "output_type": "display_data"
    },
    {
     "data": {
      "application/vnd.jupyter.widget-view+json": {
       "model_id": "167fdae1231b40bcacd380f090514890",
       "version_major": 2,
       "version_minor": 0
      },
      "text/plain": [
       "  0%|          | 0/2500 [00:00<?, ?it/s]"
      ]
     },
     "metadata": {},
     "output_type": "display_data"
    },
    {
     "data": {
      "application/vnd.jupyter.widget-view+json": {
       "model_id": "8fdfd06e5403464a816d02858376514c",
       "version_major": 2,
       "version_minor": 0
      },
      "text/plain": [
       "  0%|          | 0/2500 [00:00<?, ?it/s]"
      ]
     },
     "metadata": {},
     "output_type": "display_data"
    },
    {
     "data": {
      "application/vnd.jupyter.widget-view+json": {
       "model_id": "4316985be2e943fbbf78067c502e12ef",
       "version_major": 2,
       "version_minor": 0
      },
      "text/plain": [
       "  0%|          | 0/2500 [00:00<?, ?it/s]"
      ]
     },
     "metadata": {},
     "output_type": "display_data"
    },
    {
     "name": "stderr",
     "output_type": "stream",
     "text": [
      "Sampling time = 0:00:02.027610\n",
      "Transforming variables...\n",
      "Transformation time = 0:00:16.018307\n"
     ]
    },
    {
     "name": "stdout",
     "output_type": "stream",
     "text": [
      "Model: king99_pareto_modification\n",
      "        Computed from the raw b_i samples by multiplying by population and then getting\n",
      "        the proportion of the total pop (total pop=summed across all districts):\n",
      "        The posterior mean for the district-level voting preference of\n",
      "        $35,000-$60,000 for Joe Cunningham (Democratic Party) is\n",
      "        0.538\n",
      "        The posterior mean for the district-level voting preference of\n",
      "        non-$35,000-$60,000 for Joe Cunningham (Democratic Party) is\n",
      "        0.394\n",
      "        95% equal-tailed Bayesian credible interval for district-level voting preference of\n",
      "        $35,000-$60,000 for Joe Cunningham (Democratic Party) is\n",
      "        [0.36608352 0.71146588]\n",
      "        95% equal-tailed Bayesian credible interval for district-level voting preference of\n",
      "        non-$35,000-$60,000 for Joe Cunningham (Democratic Party) is\n",
      "        [0.35527307 0.43323524]\n",
      "        \n"
     ]
    }
   ],
   "source": [
    "dem_60_100_ei_rural, dem_60_100_summary_rural = run_ecological_inference(\n",
    "    df=sc_economic_merged_ei_rural_df,\n",
    "    demographic_col=\"60K_100K_PERCENT\",\n",
    "    voting_col=\"DEMOCRATIC_PERCENT\",\n",
    "    total_votes_col=\"TOT_VOT\",\n",
    "    demographic_group_name=\"$35,000-$60,000\",\n",
    "    candidate_name=sc_candidate_mapping['DEMOCRATIC']\n",
    ")"
   ]
  },
  {
   "cell_type": "code",
   "execution_count": 455,
   "metadata": {},
   "outputs": [
    {
     "name": "stderr",
     "output_type": "stream",
     "text": [
      "Compiling...\n",
      "Compilation time = 0:00:01.223229\n",
      "Sampling...\n"
     ]
    },
    {
     "data": {
      "application/vnd.jupyter.widget-view+json": {
       "model_id": "6feac93ae6c249088df5e9f07a49ec2f",
       "version_major": 2,
       "version_minor": 0
      },
      "text/plain": [
       "  0%|          | 0/2500 [00:00<?, ?it/s]"
      ]
     },
     "metadata": {},
     "output_type": "display_data"
    },
    {
     "data": {
      "application/vnd.jupyter.widget-view+json": {
       "model_id": "60d91836034545e7833cb08ec18c5ee2",
       "version_major": 2,
       "version_minor": 0
      },
      "text/plain": [
       "  0%|          | 0/2500 [00:00<?, ?it/s]"
      ]
     },
     "metadata": {},
     "output_type": "display_data"
    },
    {
     "data": {
      "application/vnd.jupyter.widget-view+json": {
       "model_id": "10091bb055194bb88f2e8659c36d4ad1",
       "version_major": 2,
       "version_minor": 0
      },
      "text/plain": [
       "  0%|          | 0/2500 [00:00<?, ?it/s]"
      ]
     },
     "metadata": {},
     "output_type": "display_data"
    },
    {
     "data": {
      "application/vnd.jupyter.widget-view+json": {
       "model_id": "2f3f6b8ea2f34d518142eb1fa8aaf610",
       "version_major": 2,
       "version_minor": 0
      },
      "text/plain": [
       "  0%|          | 0/2500 [00:00<?, ?it/s]"
      ]
     },
     "metadata": {},
     "output_type": "display_data"
    },
    {
     "name": "stderr",
     "output_type": "stream",
     "text": [
      "Sampling time = 0:00:01.988023\n",
      "Transforming variables...\n",
      "Transformation time = 0:00:17.339338\n"
     ]
    },
    {
     "name": "stdout",
     "output_type": "stream",
     "text": [
      "Model: king99_pareto_modification\n",
      "        Computed from the raw b_i samples by multiplying by population and then getting\n",
      "        the proportion of the total pop (total pop=summed across all districts):\n",
      "        The posterior mean for the district-level voting preference of\n",
      "        $35,000-$60,000 for Joe Cunningham (Democratic Party) is\n",
      "        0.499\n",
      "        The posterior mean for the district-level voting preference of\n",
      "        non-$35,000-$60,000 for Joe Cunningham (Democratic Party) is\n",
      "        0.393\n",
      "        95% equal-tailed Bayesian credible interval for district-level voting preference of\n",
      "        $35,000-$60,000 for Joe Cunningham (Democratic Party) is\n",
      "        [0.31972993 0.66782828]\n",
      "        95% equal-tailed Bayesian credible interval for district-level voting preference of\n",
      "        non-$35,000-$60,000 for Joe Cunningham (Democratic Party) is\n",
      "        [0.34275382 0.44576697]\n",
      "        \n"
     ]
    }
   ],
   "source": [
    "dem_60_100_ei_suburban, dem_60_100_summary_suburban = run_ecological_inference(\n",
    "    df=sc_economic_merged_ei_suburban_df,\n",
    "    demographic_col=\"60K_100K_PERCENT\",\n",
    "    voting_col=\"DEMOCRATIC_PERCENT\",\n",
    "    total_votes_col=\"TOT_VOT\",\n",
    "    demographic_group_name=\"$35,000-$60,000\",\n",
    "    candidate_name=sc_candidate_mapping['DEMOCRATIC']\n",
    ")"
   ]
  },
  {
   "cell_type": "code",
   "execution_count": 456,
   "metadata": {},
   "outputs": [
    {
     "name": "stderr",
     "output_type": "stream",
     "text": [
      "Compiling...\n",
      "Compilation time = 0:00:01.370940\n",
      "Sampling...\n"
     ]
    },
    {
     "data": {
      "application/vnd.jupyter.widget-view+json": {
       "model_id": "b3a4eb4d4dd244a784085ae38744d044",
       "version_major": 2,
       "version_minor": 0
      },
      "text/plain": [
       "  0%|          | 0/2500 [00:00<?, ?it/s]"
      ]
     },
     "metadata": {},
     "output_type": "display_data"
    },
    {
     "data": {
      "application/vnd.jupyter.widget-view+json": {
       "model_id": "55f27b4436cd4c00ab582bed6db6f871",
       "version_major": 2,
       "version_minor": 0
      },
      "text/plain": [
       "  0%|          | 0/2500 [00:00<?, ?it/s]"
      ]
     },
     "metadata": {},
     "output_type": "display_data"
    },
    {
     "data": {
      "application/vnd.jupyter.widget-view+json": {
       "model_id": "44fc3ae9ad0d46289cf20895f72a5f5e",
       "version_major": 2,
       "version_minor": 0
      },
      "text/plain": [
       "  0%|          | 0/2500 [00:00<?, ?it/s]"
      ]
     },
     "metadata": {},
     "output_type": "display_data"
    },
    {
     "data": {
      "application/vnd.jupyter.widget-view+json": {
       "model_id": "889bedc05dcf4a28a052dad8dc74d45c",
       "version_major": 2,
       "version_minor": 0
      },
      "text/plain": [
       "  0%|          | 0/2500 [00:00<?, ?it/s]"
      ]
     },
     "metadata": {},
     "output_type": "display_data"
    },
    {
     "name": "stderr",
     "output_type": "stream",
     "text": [
      "Sampling time = 0:00:02.247505\n",
      "Transforming variables...\n",
      "Transformation time = 0:00:27.993950\n"
     ]
    },
    {
     "name": "stdout",
     "output_type": "stream",
     "text": [
      "Model: king99_pareto_modification\n",
      "        Computed from the raw b_i samples by multiplying by population and then getting\n",
      "        the proportion of the total pop (total pop=summed across all districts):\n",
      "        The posterior mean for the district-level voting preference of\n",
      "        $35,000-$60,000 for Joe Cunningham (Democratic Party) is\n",
      "        0.383\n",
      "        The posterior mean for the district-level voting preference of\n",
      "        non-$35,000-$60,000 for Joe Cunningham (Democratic Party) is\n",
      "        0.399\n",
      "        95% equal-tailed Bayesian credible interval for district-level voting preference of\n",
      "        $35,000-$60,000 for Joe Cunningham (Democratic Party) is\n",
      "        [0.13989534 0.69365347]\n",
      "        95% equal-tailed Bayesian credible interval for district-level voting preference of\n",
      "        non-$35,000-$60,000 for Joe Cunningham (Democratic Party) is\n",
      "        [0.29812922 0.47785792]\n",
      "        \n"
     ]
    }
   ],
   "source": [
    "dem_60_100_ei_urban, dem_60_100_summary_urban = run_ecological_inference(\n",
    "    df=sc_economic_merged_ei_urban_df,\n",
    "    demographic_col=\"60K_100K_PERCENT\",\n",
    "    voting_col=\"DEMOCRATIC_PERCENT\",\n",
    "    total_votes_col=\"TOT_VOT\",\n",
    "    demographic_group_name=\"$35,000-$60,000\",\n",
    "    candidate_name=sc_candidate_mapping['DEMOCRATIC']\n",
    ")"
   ]
  },
  {
   "cell_type": "code",
   "execution_count": 457,
   "metadata": {},
   "outputs": [
    {
     "name": "stderr",
     "output_type": "stream",
     "text": [
      "Compiling...\n",
      "Compilation time = 0:00:01.337309\n",
      "Sampling...\n"
     ]
    },
    {
     "data": {
      "application/vnd.jupyter.widget-view+json": {
       "model_id": "82ce1294efb9496bb80d2cd2c854db44",
       "version_major": 2,
       "version_minor": 0
      },
      "text/plain": [
       "  0%|          | 0/2500 [00:00<?, ?it/s]"
      ]
     },
     "metadata": {},
     "output_type": "display_data"
    },
    {
     "data": {
      "application/vnd.jupyter.widget-view+json": {
       "model_id": "8971101762b24c0090321d927cce9223",
       "version_major": 2,
       "version_minor": 0
      },
      "text/plain": [
       "  0%|          | 0/2500 [00:00<?, ?it/s]"
      ]
     },
     "metadata": {},
     "output_type": "display_data"
    },
    {
     "data": {
      "application/vnd.jupyter.widget-view+json": {
       "model_id": "9eb4b1027aae4a498662034cd0785ea9",
       "version_major": 2,
       "version_minor": 0
      },
      "text/plain": [
       "  0%|          | 0/2500 [00:00<?, ?it/s]"
      ]
     },
     "metadata": {},
     "output_type": "display_data"
    },
    {
     "data": {
      "application/vnd.jupyter.widget-view+json": {
       "model_id": "0799e9b3091a4ba899323d209e1ba500",
       "version_major": 2,
       "version_minor": 0
      },
      "text/plain": [
       "  0%|          | 0/2500 [00:00<?, ?it/s]"
      ]
     },
     "metadata": {},
     "output_type": "display_data"
    },
    {
     "name": "stderr",
     "output_type": "stream",
     "text": [
      "Sampling time = 0:00:02.357026\n",
      "Transforming variables...\n",
      "Transformation time = 0:00:19.087158\n"
     ]
    },
    {
     "name": "stdout",
     "output_type": "stream",
     "text": [
      "Model: king99_pareto_modification\n",
      "        Computed from the raw b_i samples by multiplying by population and then getting\n",
      "        the proportion of the total pop (total pop=summed across all districts):\n",
      "        The posterior mean for the district-level voting preference of\n",
      "        $100,000-$125,000 for Joe Cunningham (Democratic Party) is\n",
      "        0.666\n",
      "        The posterior mean for the district-level voting preference of\n",
      "        non-$100,000-$125,000 for Joe Cunningham (Democratic Party) is\n",
      "        0.381\n",
      "        95% equal-tailed Bayesian credible interval for district-level voting preference of\n",
      "        $100,000-$125,000 for Joe Cunningham (Democratic Party) is\n",
      "        [0.35367444 0.89336771]\n",
      "        95% equal-tailed Bayesian credible interval for district-level voting preference of\n",
      "        non-$100,000-$125,000 for Joe Cunningham (Democratic Party) is\n",
      "        [0.35758234 0.41343748]\n",
      "        \n"
     ]
    }
   ],
   "source": [
    "dem_100_125_ei, dem_100_125_summary = run_ecological_inference(\n",
    "    df=sc_economic_merged_ei_df,\n",
    "    demographic_col=\"100K_125K_PERCENT\",\n",
    "    voting_col=\"DEMOCRATIC_PERCENT\",\n",
    "    total_votes_col=\"TOT_VOT\",\n",
    "    demographic_group_name=\"$100,000-$125,000\",\n",
    "    candidate_name=sc_candidate_mapping['DEMOCRATIC']\n",
    ")"
   ]
  },
  {
   "cell_type": "code",
   "execution_count": 458,
   "metadata": {},
   "outputs": [
    {
     "name": "stderr",
     "output_type": "stream",
     "text": [
      "Compiling...\n",
      "Compilation time = 0:00:01.232183\n",
      "Sampling...\n"
     ]
    },
    {
     "data": {
      "application/vnd.jupyter.widget-view+json": {
       "model_id": "4695eccb41634886b3cc262eb3b8f32e",
       "version_major": 2,
       "version_minor": 0
      },
      "text/plain": [
       "  0%|          | 0/2500 [00:00<?, ?it/s]"
      ]
     },
     "metadata": {},
     "output_type": "display_data"
    },
    {
     "data": {
      "application/vnd.jupyter.widget-view+json": {
       "model_id": "6a199a1afe134cf3b150aab3efd459e8",
       "version_major": 2,
       "version_minor": 0
      },
      "text/plain": [
       "  0%|          | 0/2500 [00:00<?, ?it/s]"
      ]
     },
     "metadata": {},
     "output_type": "display_data"
    },
    {
     "data": {
      "application/vnd.jupyter.widget-view+json": {
       "model_id": "52f00ea474a740d6b58da2f91f23bda7",
       "version_major": 2,
       "version_minor": 0
      },
      "text/plain": [
       "  0%|          | 0/2500 [00:00<?, ?it/s]"
      ]
     },
     "metadata": {},
     "output_type": "display_data"
    },
    {
     "data": {
      "application/vnd.jupyter.widget-view+json": {
       "model_id": "2b1f9ad93ff54d1a96141dd83ea4ca93",
       "version_major": 2,
       "version_minor": 0
      },
      "text/plain": [
       "  0%|          | 0/2500 [00:00<?, ?it/s]"
      ]
     },
     "metadata": {},
     "output_type": "display_data"
    },
    {
     "name": "stderr",
     "output_type": "stream",
     "text": [
      "Sampling time = 0:00:02.417758\n",
      "Transforming variables...\n",
      "Transformation time = 0:00:14.042952\n"
     ]
    },
    {
     "name": "stdout",
     "output_type": "stream",
     "text": [
      "Model: king99_pareto_modification\n",
      "        Computed from the raw b_i samples by multiplying by population and then getting\n",
      "        the proportion of the total pop (total pop=summed across all districts):\n",
      "        The posterior mean for the district-level voting preference of\n",
      "        $100,000-$125,000 for Joe Cunningham (Democratic Party) is\n",
      "        0.659\n",
      "        The posterior mean for the district-level voting preference of\n",
      "        non-$100,000-$125,000 for Joe Cunningham (Democratic Party) is\n",
      "        0.401\n",
      "        95% equal-tailed Bayesian credible interval for district-level voting preference of\n",
      "        $100,000-$125,000 for Joe Cunningham (Democratic Party) is\n",
      "        [0.14053623 0.98153718]\n",
      "        95% equal-tailed Bayesian credible interval for district-level voting preference of\n",
      "        non-$100,000-$125,000 for Joe Cunningham (Democratic Party) is\n",
      "        [0.37594022 0.43912553]\n",
      "        \n"
     ]
    }
   ],
   "source": [
    "dem_100_125_ei_rural, dem_100_125_summar_rural = run_ecological_inference(\n",
    "    df=sc_economic_merged_ei_rural_df,\n",
    "    demographic_col=\"100K_125K_PERCENT\",\n",
    "    voting_col=\"DEMOCRATIC_PERCENT\",\n",
    "    total_votes_col=\"TOT_VOT\",\n",
    "    demographic_group_name=\"$100,000-$125,000\",\n",
    "    candidate_name=sc_candidate_mapping['DEMOCRATIC']\n",
    ")"
   ]
  },
  {
   "cell_type": "code",
   "execution_count": 459,
   "metadata": {},
   "outputs": [
    {
     "name": "stderr",
     "output_type": "stream",
     "text": [
      "Compiling...\n",
      "Compilation time = 0:00:07.056357\n",
      "Sampling...\n"
     ]
    },
    {
     "data": {
      "application/vnd.jupyter.widget-view+json": {
       "model_id": "d8a3205d239d41d6a865a1297333a9a4",
       "version_major": 2,
       "version_minor": 0
      },
      "text/plain": [
       "  0%|          | 0/2500 [00:00<?, ?it/s]"
      ]
     },
     "metadata": {},
     "output_type": "display_data"
    },
    {
     "data": {
      "application/vnd.jupyter.widget-view+json": {
       "model_id": "2a23611a55d44d7ba624a5fbe1d41ef9",
       "version_major": 2,
       "version_minor": 0
      },
      "text/plain": [
       "  0%|          | 0/2500 [00:00<?, ?it/s]"
      ]
     },
     "metadata": {},
     "output_type": "display_data"
    },
    {
     "data": {
      "application/vnd.jupyter.widget-view+json": {
       "model_id": "831108338934442a810160bad93c479e",
       "version_major": 2,
       "version_minor": 0
      },
      "text/plain": [
       "  0%|          | 0/2500 [00:00<?, ?it/s]"
      ]
     },
     "metadata": {},
     "output_type": "display_data"
    },
    {
     "data": {
      "application/vnd.jupyter.widget-view+json": {
       "model_id": "1d2647e17d214f6e85c405774b0437ce",
       "version_major": 2,
       "version_minor": 0
      },
      "text/plain": [
       "  0%|          | 0/2500 [00:00<?, ?it/s]"
      ]
     },
     "metadata": {},
     "output_type": "display_data"
    },
    {
     "name": "stderr",
     "output_type": "stream",
     "text": [
      "Sampling time = 0:00:02.360576\n",
      "Transforming variables...\n",
      "Transformation time = 0:00:15.963665\n"
     ]
    },
    {
     "name": "stdout",
     "output_type": "stream",
     "text": [
      "Model: king99_pareto_modification\n",
      "        Computed from the raw b_i samples by multiplying by population and then getting\n",
      "        the proportion of the total pop (total pop=summed across all districts):\n",
      "        The posterior mean for the district-level voting preference of\n",
      "        $100,000-$125,000 for Joe Cunningham (Democratic Party) is\n",
      "        0.686\n",
      "        The posterior mean for the district-level voting preference of\n",
      "        non-$100,000-$125,000 for Joe Cunningham (Democratic Party) is\n",
      "        0.387\n",
      "        95% equal-tailed Bayesian credible interval for district-level voting preference of\n",
      "        $100,000-$125,000 for Joe Cunningham (Democratic Party) is\n",
      "        [0.30843056 0.93343872]\n",
      "        95% equal-tailed Bayesian credible interval for district-level voting preference of\n",
      "        non-$100,000-$125,000 for Joe Cunningham (Democratic Party) is\n",
      "        [0.3589863  0.42975197]\n",
      "        \n"
     ]
    }
   ],
   "source": [
    "dem_100_125_ei_suburban, dem_100_125_summar_suburban = run_ecological_inference(\n",
    "    df=sc_economic_merged_ei_suburban_df,\n",
    "    demographic_col=\"100K_125K_PERCENT\",\n",
    "    voting_col=\"DEMOCRATIC_PERCENT\",\n",
    "    total_votes_col=\"TOT_VOT\",\n",
    "    demographic_group_name=\"$100,000-$125,000\",\n",
    "    candidate_name=sc_candidate_mapping['DEMOCRATIC']\n",
    ")"
   ]
  },
  {
   "cell_type": "code",
   "execution_count": 460,
   "metadata": {},
   "outputs": [
    {
     "name": "stderr",
     "output_type": "stream",
     "text": [
      "Compiling...\n",
      "Compilation time = 0:00:01.406193\n",
      "Sampling...\n"
     ]
    },
    {
     "data": {
      "application/vnd.jupyter.widget-view+json": {
       "model_id": "f831afc769814b37961fd0ebde41da01",
       "version_major": 2,
       "version_minor": 0
      },
      "text/plain": [
       "  0%|          | 0/2500 [00:00<?, ?it/s]"
      ]
     },
     "metadata": {},
     "output_type": "display_data"
    },
    {
     "data": {
      "application/vnd.jupyter.widget-view+json": {
       "model_id": "f4442304fbb945eda4d10bba8bbbc6ff",
       "version_major": 2,
       "version_minor": 0
      },
      "text/plain": [
       "  0%|          | 0/2500 [00:00<?, ?it/s]"
      ]
     },
     "metadata": {},
     "output_type": "display_data"
    },
    {
     "data": {
      "application/vnd.jupyter.widget-view+json": {
       "model_id": "89134faf4d184817a7bbf12e051c30ec",
       "version_major": 2,
       "version_minor": 0
      },
      "text/plain": [
       "  0%|          | 0/2500 [00:00<?, ?it/s]"
      ]
     },
     "metadata": {},
     "output_type": "display_data"
    },
    {
     "data": {
      "application/vnd.jupyter.widget-view+json": {
       "model_id": "a1d29a72a8fa497ebcadfc27d7dceffc",
       "version_major": 2,
       "version_minor": 0
      },
      "text/plain": [
       "  0%|          | 0/2500 [00:00<?, ?it/s]"
      ]
     },
     "metadata": {},
     "output_type": "display_data"
    },
    {
     "name": "stderr",
     "output_type": "stream",
     "text": [
      "Sampling time = 0:00:02.081742\n",
      "Transforming variables...\n",
      "Transformation time = 0:00:17.819988\n"
     ]
    },
    {
     "name": "stdout",
     "output_type": "stream",
     "text": [
      "Model: king99_pareto_modification\n",
      "        Computed from the raw b_i samples by multiplying by population and then getting\n",
      "        the proportion of the total pop (total pop=summed across all districts):\n",
      "        The posterior mean for the district-level voting preference of\n",
      "        $100,000-$125,000 for Joe Cunningham (Democratic Party) is\n",
      "        0.410\n",
      "        The posterior mean for the district-level voting preference of\n",
      "        non-$100,000-$125,000 for Joe Cunningham (Democratic Party) is\n",
      "        0.396\n",
      "        95% equal-tailed Bayesian credible interval for district-level voting preference of\n",
      "        $100,000-$125,000 for Joe Cunningham (Democratic Party) is\n",
      "        [0.11071457 0.78075185]\n",
      "        95% equal-tailed Bayesian credible interval for district-level voting preference of\n",
      "        non-$100,000-$125,000 for Joe Cunningham (Democratic Party) is\n",
      "        [0.3525111  0.43067286]\n",
      "        \n"
     ]
    }
   ],
   "source": [
    "dem_100_125_ei_urban, dem_100_125_summary_urban = run_ecological_inference(\n",
    "    df=sc_economic_merged_ei_urban_df,\n",
    "    demographic_col=\"100K_125K_PERCENT\",\n",
    "    voting_col=\"DEMOCRATIC_PERCENT\",\n",
    "    total_votes_col=\"TOT_VOT\",\n",
    "    demographic_group_name=\"$100,000-$125,000\",\n",
    "    candidate_name=sc_candidate_mapping['DEMOCRATIC']\n",
    ")"
   ]
  },
  {
   "cell_type": "code",
   "execution_count": 461,
   "metadata": {},
   "outputs": [
    {
     "name": "stderr",
     "output_type": "stream",
     "text": [
      "Compiling...\n",
      "Compilation time = 0:00:01.499827\n",
      "Sampling...\n"
     ]
    },
    {
     "data": {
      "application/vnd.jupyter.widget-view+json": {
       "model_id": "4284f7a378f94e10a3807f5a40134eb0",
       "version_major": 2,
       "version_minor": 0
      },
      "text/plain": [
       "  0%|          | 0/2500 [00:00<?, ?it/s]"
      ]
     },
     "metadata": {},
     "output_type": "display_data"
    },
    {
     "data": {
      "application/vnd.jupyter.widget-view+json": {
       "model_id": "46dc54ed93fd4075b28114f1d72d23b4",
       "version_major": 2,
       "version_minor": 0
      },
      "text/plain": [
       "  0%|          | 0/2500 [00:00<?, ?it/s]"
      ]
     },
     "metadata": {},
     "output_type": "display_data"
    },
    {
     "data": {
      "application/vnd.jupyter.widget-view+json": {
       "model_id": "f69b5e3c35dc4d0b821317b6b3cd2b24",
       "version_major": 2,
       "version_minor": 0
      },
      "text/plain": [
       "  0%|          | 0/2500 [00:00<?, ?it/s]"
      ]
     },
     "metadata": {},
     "output_type": "display_data"
    },
    {
     "data": {
      "application/vnd.jupyter.widget-view+json": {
       "model_id": "270489a484534c33af370cf9d1cc11bf",
       "version_major": 2,
       "version_minor": 0
      },
      "text/plain": [
       "  0%|          | 0/2500 [00:00<?, ?it/s]"
      ]
     },
     "metadata": {},
     "output_type": "display_data"
    },
    {
     "name": "stderr",
     "output_type": "stream",
     "text": [
      "Sampling time = 0:00:02.113115\n",
      "Transforming variables...\n",
      "Transformation time = 0:00:20.096772\n"
     ]
    },
    {
     "name": "stdout",
     "output_type": "stream",
     "text": [
      "Model: king99_pareto_modification\n",
      "        Computed from the raw b_i samples by multiplying by population and then getting\n",
      "        the proportion of the total pop (total pop=summed across all districts):\n",
      "        The posterior mean for the district-level voting preference of\n",
      "        $125,000-$150,000 for Joe Cunningham (Democratic Party) is\n",
      "        0.384\n",
      "        The posterior mean for the district-level voting preference of\n",
      "        non-$125,000-$150,000 for Joe Cunningham (Democratic Party) is\n",
      "        0.407\n",
      "        95% equal-tailed Bayesian credible interval for district-level voting preference of\n",
      "        $125,000-$150,000 for Joe Cunningham (Democratic Party) is\n",
      "        [0.00618193 0.98219276]\n",
      "        95% equal-tailed Bayesian credible interval for district-level voting preference of\n",
      "        non-$125,000-$150,000 for Joe Cunningham (Democratic Party) is\n",
      "        [0.36400009 0.43502468]\n",
      "        \n"
     ]
    }
   ],
   "source": [
    "dem_125_150_ei, dem_125_150_summary = run_ecological_inference(\n",
    "    df=sc_economic_merged_ei_df,\n",
    "    demographic_col=\"125K_150K_PERCENT\",\n",
    "    voting_col=\"DEMOCRATIC_PERCENT\",\n",
    "    total_votes_col=\"TOT_VOT\",\n",
    "    demographic_group_name=\"$125,000-$150,000\",\n",
    "    candidate_name=sc_candidate_mapping['DEMOCRATIC']\n",
    ")"
   ]
  },
  {
   "cell_type": "code",
   "execution_count": 462,
   "metadata": {},
   "outputs": [
    {
     "name": "stderr",
     "output_type": "stream",
     "text": [
      "Compiling...\n",
      "Compilation time = 0:00:01.550924\n",
      "Sampling...\n"
     ]
    },
    {
     "data": {
      "application/vnd.jupyter.widget-view+json": {
       "model_id": "392af25b64714ca2a302784b14dec81f",
       "version_major": 2,
       "version_minor": 0
      },
      "text/plain": [
       "  0%|          | 0/2500 [00:00<?, ?it/s]"
      ]
     },
     "metadata": {},
     "output_type": "display_data"
    },
    {
     "data": {
      "application/vnd.jupyter.widget-view+json": {
       "model_id": "e8f9b8fd8e0e465a96bfd21909f0bff3",
       "version_major": 2,
       "version_minor": 0
      },
      "text/plain": [
       "  0%|          | 0/2500 [00:00<?, ?it/s]"
      ]
     },
     "metadata": {},
     "output_type": "display_data"
    },
    {
     "data": {
      "application/vnd.jupyter.widget-view+json": {
       "model_id": "01eb4dafc80e4f41a6d12cebdd9b578e",
       "version_major": 2,
       "version_minor": 0
      },
      "text/plain": [
       "  0%|          | 0/2500 [00:00<?, ?it/s]"
      ]
     },
     "metadata": {},
     "output_type": "display_data"
    },
    {
     "data": {
      "application/vnd.jupyter.widget-view+json": {
       "model_id": "069e6b6d489d4a02aa7184e5b01ec6c2",
       "version_major": 2,
       "version_minor": 0
      },
      "text/plain": [
       "  0%|          | 0/2500 [00:00<?, ?it/s]"
      ]
     },
     "metadata": {},
     "output_type": "display_data"
    },
    {
     "name": "stderr",
     "output_type": "stream",
     "text": [
      "Sampling time = 0:00:02.463677\n",
      "Transforming variables...\n",
      "Transformation time = 0:00:17.318012\n"
     ]
    },
    {
     "name": "stdout",
     "output_type": "stream",
     "text": [
      "Model: king99_pareto_modification\n",
      "        Computed from the raw b_i samples by multiplying by population and then getting\n",
      "        the proportion of the total pop (total pop=summed across all districts):\n",
      "        The posterior mean for the district-level voting preference of\n",
      "        $125,000-$150,000 for Joe Cunningham (Democratic Party) is\n",
      "        0.279\n",
      "        The posterior mean for the district-level voting preference of\n",
      "        non-$125,000-$150,000 for Joe Cunningham (Democratic Party) is\n",
      "        0.423\n",
      "        95% equal-tailed Bayesian credible interval for district-level voting preference of\n",
      "        $125,000-$150,000 for Joe Cunningham (Democratic Party) is\n",
      "        [0.02461764 0.7385104 ]\n",
      "        95% equal-tailed Bayesian credible interval for district-level voting preference of\n",
      "        non-$125,000-$150,000 for Joe Cunningham (Democratic Party) is\n",
      "        [0.39783901 0.43799032]\n",
      "        \n"
     ]
    }
   ],
   "source": [
    "dem_125_150_ei_rural, dem_125_150_summary_rural = run_ecological_inference(\n",
    "    df=sc_economic_merged_ei_rural_df,\n",
    "    demographic_col=\"125K_150K_PERCENT\",\n",
    "    voting_col=\"DEMOCRATIC_PERCENT\",\n",
    "    total_votes_col=\"TOT_VOT\",\n",
    "    demographic_group_name=\"$125,000-$150,000\",\n",
    "    candidate_name=sc_candidate_mapping['DEMOCRATIC']\n",
    ")"
   ]
  },
  {
   "cell_type": "code",
   "execution_count": 463,
   "metadata": {},
   "outputs": [
    {
     "name": "stderr",
     "output_type": "stream",
     "text": [
      "Compiling...\n",
      "Compilation time = 0:00:02.023614\n",
      "Sampling...\n"
     ]
    },
    {
     "data": {
      "application/vnd.jupyter.widget-view+json": {
       "model_id": "094d84759bf7445d8e4a384d69be7fcd",
       "version_major": 2,
       "version_minor": 0
      },
      "text/plain": [
       "  0%|          | 0/2500 [00:00<?, ?it/s]"
      ]
     },
     "metadata": {},
     "output_type": "display_data"
    },
    {
     "data": {
      "application/vnd.jupyter.widget-view+json": {
       "model_id": "17efa9a287144547a45acd2bceb8fd11",
       "version_major": 2,
       "version_minor": 0
      },
      "text/plain": [
       "  0%|          | 0/2500 [00:00<?, ?it/s]"
      ]
     },
     "metadata": {},
     "output_type": "display_data"
    },
    {
     "data": {
      "application/vnd.jupyter.widget-view+json": {
       "model_id": "74c7b54835e54126a1193cfce22f6162",
       "version_major": 2,
       "version_minor": 0
      },
      "text/plain": [
       "  0%|          | 0/2500 [00:00<?, ?it/s]"
      ]
     },
     "metadata": {},
     "output_type": "display_data"
    },
    {
     "data": {
      "application/vnd.jupyter.widget-view+json": {
       "model_id": "1a281c0812c4402583eebd26769f6815",
       "version_major": 2,
       "version_minor": 0
      },
      "text/plain": [
       "  0%|          | 0/2500 [00:00<?, ?it/s]"
      ]
     },
     "metadata": {},
     "output_type": "display_data"
    },
    {
     "name": "stderr",
     "output_type": "stream",
     "text": [
      "Sampling time = 0:00:02.508240\n",
      "Transforming variables...\n",
      "Transformation time = 0:00:21.217145\n"
     ]
    },
    {
     "name": "stdout",
     "output_type": "stream",
     "text": [
      "Model: king99_pareto_modification\n",
      "        Computed from the raw b_i samples by multiplying by population and then getting\n",
      "        the proportion of the total pop (total pop=summed across all districts):\n",
      "        The posterior mean for the district-level voting preference of\n",
      "        $125,000-$150,000 for Joe Cunningham (Democratic Party) is\n",
      "        0.451\n",
      "        The posterior mean for the district-level voting preference of\n",
      "        non-$125,000-$150,000 for Joe Cunningham (Democratic Party) is\n",
      "        0.415\n",
      "        95% equal-tailed Bayesian credible interval for district-level voting preference of\n",
      "        $125,000-$150,000 for Joe Cunningham (Democratic Party) is\n",
      "        [0.07093908 0.90384854]\n",
      "        95% equal-tailed Bayesian credible interval for district-level voting preference of\n",
      "        non-$125,000-$150,000 for Joe Cunningham (Democratic Party) is\n",
      "        [0.38455483 0.44109781]\n",
      "        \n"
     ]
    }
   ],
   "source": [
    "dem_125_150_ei_suburban, dem_125_150_summary_suburban = run_ecological_inference(\n",
    "    df=sc_economic_merged_ei_suburban_df,\n",
    "    demographic_col=\"125K_150K_PERCENT\",\n",
    "    voting_col=\"DEMOCRATIC_PERCENT\",\n",
    "    total_votes_col=\"TOT_VOT\",\n",
    "    demographic_group_name=\"$125,000-$150,000\",\n",
    "    candidate_name=sc_candidate_mapping['DEMOCRATIC']\n",
    ")"
   ]
  },
  {
   "cell_type": "code",
   "execution_count": 464,
   "metadata": {},
   "outputs": [
    {
     "name": "stderr",
     "output_type": "stream",
     "text": [
      "Compiling...\n",
      "Compilation time = 0:00:01.307540\n",
      "Sampling...\n"
     ]
    },
    {
     "data": {
      "application/vnd.jupyter.widget-view+json": {
       "model_id": "8edc32cba54d406d9c3a0b337a7cc8d2",
       "version_major": 2,
       "version_minor": 0
      },
      "text/plain": [
       "  0%|          | 0/2500 [00:00<?, ?it/s]"
      ]
     },
     "metadata": {},
     "output_type": "display_data"
    },
    {
     "data": {
      "application/vnd.jupyter.widget-view+json": {
       "model_id": "237c9a9b5d9842a0b06eb26e8003a58f",
       "version_major": 2,
       "version_minor": 0
      },
      "text/plain": [
       "  0%|          | 0/2500 [00:00<?, ?it/s]"
      ]
     },
     "metadata": {},
     "output_type": "display_data"
    },
    {
     "data": {
      "application/vnd.jupyter.widget-view+json": {
       "model_id": "5f208f0596834f03a9464c1f851ec1ad",
       "version_major": 2,
       "version_minor": 0
      },
      "text/plain": [
       "  0%|          | 0/2500 [00:00<?, ?it/s]"
      ]
     },
     "metadata": {},
     "output_type": "display_data"
    },
    {
     "data": {
      "application/vnd.jupyter.widget-view+json": {
       "model_id": "d0873ba6b0eb4942a60459fd05121bc5",
       "version_major": 2,
       "version_minor": 0
      },
      "text/plain": [
       "  0%|          | 0/2500 [00:00<?, ?it/s]"
      ]
     },
     "metadata": {},
     "output_type": "display_data"
    },
    {
     "name": "stderr",
     "output_type": "stream",
     "text": [
      "Sampling time = 0:00:02.281757\n",
      "Transforming variables...\n",
      "Transformation time = 0:00:20.515774\n"
     ]
    },
    {
     "name": "stdout",
     "output_type": "stream",
     "text": [
      "Model: king99_pareto_modification\n",
      "        Computed from the raw b_i samples by multiplying by population and then getting\n",
      "        the proportion of the total pop (total pop=summed across all districts):\n",
      "        The posterior mean for the district-level voting preference of\n",
      "        $125,000-$150,000 for Joe Cunningham (Democratic Party) is\n",
      "        0.283\n",
      "        The posterior mean for the district-level voting preference of\n",
      "        non-$125,000-$150,000 for Joe Cunningham (Democratic Party) is\n",
      "        0.406\n",
      "        95% equal-tailed Bayesian credible interval for district-level voting preference of\n",
      "        $125,000-$150,000 for Joe Cunningham (Democratic Party) is\n",
      "        [0.0122834 0.9572059]\n",
      "        95% equal-tailed Bayesian credible interval for district-level voting preference of\n",
      "        non-$125,000-$150,000 for Joe Cunningham (Democratic Party) is\n",
      "        [0.34692781 0.43067751]\n",
      "        \n"
     ]
    }
   ],
   "source": [
    "dem_125_150_ei_urban, dem_125_150_summary_urban = run_ecological_inference(\n",
    "    df=sc_economic_merged_ei_urban_df,\n",
    "    demographic_col=\"125K_150K_PERCENT\",\n",
    "    voting_col=\"DEMOCRATIC_PERCENT\",\n",
    "    total_votes_col=\"TOT_VOT\",\n",
    "    demographic_group_name=\"$125,000-$150,000\",\n",
    "    candidate_name=sc_candidate_mapping['DEMOCRATIC']\n",
    ")"
   ]
  },
  {
   "cell_type": "code",
   "execution_count": 465,
   "metadata": {},
   "outputs": [
    {
     "name": "stderr",
     "output_type": "stream",
     "text": [
      "Compiling...\n",
      "Compilation time = 0:00:05.985681\n",
      "Sampling...\n"
     ]
    },
    {
     "data": {
      "application/vnd.jupyter.widget-view+json": {
       "model_id": "639df1529a1c4dcb819532dc72d4ba0d",
       "version_major": 2,
       "version_minor": 0
      },
      "text/plain": [
       "  0%|          | 0/2500 [00:00<?, ?it/s]"
      ]
     },
     "metadata": {},
     "output_type": "display_data"
    },
    {
     "data": {
      "application/vnd.jupyter.widget-view+json": {
       "model_id": "dc5151f4ce2f42f99b27e09bf71c3165",
       "version_major": 2,
       "version_minor": 0
      },
      "text/plain": [
       "  0%|          | 0/2500 [00:00<?, ?it/s]"
      ]
     },
     "metadata": {},
     "output_type": "display_data"
    },
    {
     "data": {
      "application/vnd.jupyter.widget-view+json": {
       "model_id": "529d9f41b2744b3dbfa5a91958106d22",
       "version_major": 2,
       "version_minor": 0
      },
      "text/plain": [
       "  0%|          | 0/2500 [00:00<?, ?it/s]"
      ]
     },
     "metadata": {},
     "output_type": "display_data"
    },
    {
     "data": {
      "application/vnd.jupyter.widget-view+json": {
       "model_id": "0c24de58c0f048abbac95964c7741c17",
       "version_major": 2,
       "version_minor": 0
      },
      "text/plain": [
       "  0%|          | 0/2500 [00:00<?, ?it/s]"
      ]
     },
     "metadata": {},
     "output_type": "display_data"
    },
    {
     "name": "stderr",
     "output_type": "stream",
     "text": [
      "Sampling time = 0:00:02.816706\n",
      "Transforming variables...\n",
      "Transformation time = 0:00:19.260595\n"
     ]
    },
    {
     "name": "stdout",
     "output_type": "stream",
     "text": [
      "Model: king99_pareto_modification\n",
      "        Computed from the raw b_i samples by multiplying by population and then getting\n",
      "        the proportion of the total pop (total pop=summed across all districts):\n",
      "        The posterior mean for the district-level voting preference of\n",
      "        $150,000+ for Joe Cunningham (Democratic Party) is\n",
      "        0.405\n",
      "        The posterior mean for the district-level voting preference of\n",
      "        non-$150,000+ for Joe Cunningham (Democratic Party) is\n",
      "        0.407\n",
      "        95% equal-tailed Bayesian credible interval for district-level voting preference of\n",
      "        $150,000+ for Joe Cunningham (Democratic Party) is\n",
      "        [0.15707459 0.65507156]\n",
      "        95% equal-tailed Bayesian credible interval for district-level voting preference of\n",
      "        non-$150,000+ for Joe Cunningham (Democratic Party) is\n",
      "        [0.35514926 0.45846952]\n",
      "        \n"
     ]
    }
   ],
   "source": [
    "dem_150_more_ei, dem_150_more_summary = run_ecological_inference(\n",
    "    df=sc_economic_merged_ei_df,\n",
    "    demographic_col=\"150K_MORE_PERCENT\",\n",
    "    voting_col=\"DEMOCRATIC_PERCENT\",\n",
    "    total_votes_col=\"TOT_VOT\",\n",
    "    demographic_group_name=\"$150,000+\",\n",
    "    candidate_name=sc_candidate_mapping['DEMOCRATIC']\n",
    ")"
   ]
  },
  {
   "cell_type": "code",
   "execution_count": 466,
   "metadata": {},
   "outputs": [
    {
     "name": "stderr",
     "output_type": "stream",
     "text": [
      "Compiling...\n",
      "Compilation time = 0:00:01.321682\n",
      "Sampling...\n"
     ]
    },
    {
     "data": {
      "application/vnd.jupyter.widget-view+json": {
       "model_id": "e0c27d9fed8744ceb432f6fed85810d2",
       "version_major": 2,
       "version_minor": 0
      },
      "text/plain": [
       "  0%|          | 0/2500 [00:00<?, ?it/s]"
      ]
     },
     "metadata": {},
     "output_type": "display_data"
    },
    {
     "data": {
      "application/vnd.jupyter.widget-view+json": {
       "model_id": "a0c7f263163c49769d9394bc372fe48c",
       "version_major": 2,
       "version_minor": 0
      },
      "text/plain": [
       "  0%|          | 0/2500 [00:00<?, ?it/s]"
      ]
     },
     "metadata": {},
     "output_type": "display_data"
    },
    {
     "data": {
      "application/vnd.jupyter.widget-view+json": {
       "model_id": "28f0037d62fa496b960cf8e623498fbc",
       "version_major": 2,
       "version_minor": 0
      },
      "text/plain": [
       "  0%|          | 0/2500 [00:00<?, ?it/s]"
      ]
     },
     "metadata": {},
     "output_type": "display_data"
    },
    {
     "data": {
      "application/vnd.jupyter.widget-view+json": {
       "model_id": "c638d71d7fe6469e904e97911f82e357",
       "version_major": 2,
       "version_minor": 0
      },
      "text/plain": [
       "  0%|          | 0/2500 [00:00<?, ?it/s]"
      ]
     },
     "metadata": {},
     "output_type": "display_data"
    },
    {
     "name": "stderr",
     "output_type": "stream",
     "text": [
      "Sampling time = 0:00:02.598698\n",
      "Transforming variables...\n",
      "Transformation time = 0:00:13.250921\n"
     ]
    },
    {
     "name": "stdout",
     "output_type": "stream",
     "text": [
      "Model: king99_pareto_modification\n",
      "        Computed from the raw b_i samples by multiplying by population and then getting\n",
      "        the proportion of the total pop (total pop=summed across all districts):\n",
      "        The posterior mean for the district-level voting preference of\n",
      "        $150,000+ for Joe Cunningham (Democratic Party) is\n",
      "        0.336\n",
      "        The posterior mean for the district-level voting preference of\n",
      "        non-$150,000+ for Joe Cunningham (Democratic Party) is\n",
      "        0.429\n",
      "        95% equal-tailed Bayesian credible interval for district-level voting preference of\n",
      "        $150,000+ for Joe Cunningham (Democratic Party) is\n",
      "        [0.07542673 0.60141223]\n",
      "        95% equal-tailed Bayesian credible interval for district-level voting preference of\n",
      "        non-$150,000+ for Joe Cunningham (Democratic Party) is\n",
      "        [0.39225133 0.46606656]\n",
      "        \n"
     ]
    }
   ],
   "source": [
    "dem_150_more_ei_rural, dem_150_more_summary_rural = run_ecological_inference(\n",
    "    df=sc_economic_merged_ei_rural_df,\n",
    "    demographic_col=\"150K_MORE_PERCENT\",\n",
    "    voting_col=\"DEMOCRATIC_PERCENT\",\n",
    "    total_votes_col=\"TOT_VOT\",\n",
    "    demographic_group_name=\"$150,000+\",\n",
    "    candidate_name=sc_candidate_mapping['DEMOCRATIC']\n",
    ")"
   ]
  },
  {
   "cell_type": "code",
   "execution_count": 467,
   "metadata": {},
   "outputs": [
    {
     "name": "stderr",
     "output_type": "stream",
     "text": [
      "Compiling...\n",
      "Compilation time = 0:00:01.477350\n",
      "Sampling...\n"
     ]
    },
    {
     "data": {
      "application/vnd.jupyter.widget-view+json": {
       "model_id": "9b4dec6d334c450986188d9354b05242",
       "version_major": 2,
       "version_minor": 0
      },
      "text/plain": [
       "  0%|          | 0/2500 [00:00<?, ?it/s]"
      ]
     },
     "metadata": {},
     "output_type": "display_data"
    },
    {
     "data": {
      "application/vnd.jupyter.widget-view+json": {
       "model_id": "338b30bb2b4a4d919f59265c4a225aaa",
       "version_major": 2,
       "version_minor": 0
      },
      "text/plain": [
       "  0%|          | 0/2500 [00:00<?, ?it/s]"
      ]
     },
     "metadata": {},
     "output_type": "display_data"
    },
    {
     "data": {
      "application/vnd.jupyter.widget-view+json": {
       "model_id": "a3b09012a8d2438ab227dfa9f6b09dfc",
       "version_major": 2,
       "version_minor": 0
      },
      "text/plain": [
       "  0%|          | 0/2500 [00:00<?, ?it/s]"
      ]
     },
     "metadata": {},
     "output_type": "display_data"
    },
    {
     "data": {
      "application/vnd.jupyter.widget-view+json": {
       "model_id": "37a8874158e2446d8e6ceb258609ec7a",
       "version_major": 2,
       "version_minor": 0
      },
      "text/plain": [
       "  0%|          | 0/2500 [00:00<?, ?it/s]"
      ]
     },
     "metadata": {},
     "output_type": "display_data"
    },
    {
     "name": "stderr",
     "output_type": "stream",
     "text": [
      "Sampling time = 0:00:02.625912\n",
      "Transforming variables...\n",
      "Transformation time = 0:00:19.172698\n"
     ]
    },
    {
     "name": "stdout",
     "output_type": "stream",
     "text": [
      "Model: king99_pareto_modification\n",
      "        Computed from the raw b_i samples by multiplying by population and then getting\n",
      "        the proportion of the total pop (total pop=summed across all districts):\n",
      "        The posterior mean for the district-level voting preference of\n",
      "        $150,000+ for Joe Cunningham (Democratic Party) is\n",
      "        0.386\n",
      "        The posterior mean for the district-level voting preference of\n",
      "        non-$150,000+ for Joe Cunningham (Democratic Party) is\n",
      "        0.423\n",
      "        95% equal-tailed Bayesian credible interval for district-level voting preference of\n",
      "        $150,000+ for Joe Cunningham (Democratic Party) is\n",
      "        [0.179709  0.6034916]\n",
      "        95% equal-tailed Bayesian credible interval for district-level voting preference of\n",
      "        non-$150,000+ for Joe Cunningham (Democratic Party) is\n",
      "        [0.37247871 0.47250233]\n",
      "        \n"
     ]
    }
   ],
   "source": [
    "dem_150_more_ei_suburban, dem_150_more_summary_suburban = run_ecological_inference(\n",
    "    df=sc_economic_merged_ei_suburban_df,\n",
    "    demographic_col=\"150K_MORE_PERCENT\",\n",
    "    voting_col=\"DEMOCRATIC_PERCENT\",\n",
    "    total_votes_col=\"TOT_VOT\",\n",
    "    demographic_group_name=\"$150,000+\",\n",
    "    candidate_name=sc_candidate_mapping['DEMOCRATIC']\n",
    ")"
   ]
  },
  {
   "cell_type": "code",
   "execution_count": 468,
   "metadata": {},
   "outputs": [
    {
     "name": "stderr",
     "output_type": "stream",
     "text": [
      "Compiling...\n",
      "Compilation time = 0:00:01.228933\n",
      "Sampling...\n"
     ]
    },
    {
     "data": {
      "application/vnd.jupyter.widget-view+json": {
       "model_id": "10f3c68edcf94d018332059e3452c2ff",
       "version_major": 2,
       "version_minor": 0
      },
      "text/plain": [
       "  0%|          | 0/2500 [00:00<?, ?it/s]"
      ]
     },
     "metadata": {},
     "output_type": "display_data"
    },
    {
     "data": {
      "application/vnd.jupyter.widget-view+json": {
       "model_id": "aa92c27936cf4602a25b0d03a0692f73",
       "version_major": 2,
       "version_minor": 0
      },
      "text/plain": [
       "  0%|          | 0/2500 [00:00<?, ?it/s]"
      ]
     },
     "metadata": {},
     "output_type": "display_data"
    },
    {
     "data": {
      "application/vnd.jupyter.widget-view+json": {
       "model_id": "ba4bf989a7784cbeae3001ed3e15e16b",
       "version_major": 2,
       "version_minor": 0
      },
      "text/plain": [
       "  0%|          | 0/2500 [00:00<?, ?it/s]"
      ]
     },
     "metadata": {},
     "output_type": "display_data"
    },
    {
     "data": {
      "application/vnd.jupyter.widget-view+json": {
       "model_id": "57e91441538542beb7a3b8c10b7a602e",
       "version_major": 2,
       "version_minor": 0
      },
      "text/plain": [
       "  0%|          | 0/2500 [00:00<?, ?it/s]"
      ]
     },
     "metadata": {},
     "output_type": "display_data"
    },
    {
     "name": "stderr",
     "output_type": "stream",
     "text": [
      "Sampling time = 0:00:01.877593\n",
      "Transforming variables...\n",
      "Transformation time = 0:00:18.798086\n"
     ]
    },
    {
     "name": "stdout",
     "output_type": "stream",
     "text": [
      "Model: king99_pareto_modification\n",
      "        Computed from the raw b_i samples by multiplying by population and then getting\n",
      "        the proportion of the total pop (total pop=summed across all districts):\n",
      "        The posterior mean for the district-level voting preference of\n",
      "        $150,000+ for Joe Cunningham (Democratic Party) is\n",
      "        0.508\n",
      "        The posterior mean for the district-level voting preference of\n",
      "        non-$150,000+ for Joe Cunningham (Democratic Party) is\n",
      "        0.371\n",
      "        95% equal-tailed Bayesian credible interval for district-level voting preference of\n",
      "        $150,000+ for Joe Cunningham (Democratic Party) is\n",
      "        [0.26671772 0.71866448]\n",
      "        95% equal-tailed Bayesian credible interval for district-level voting preference of\n",
      "        non-$150,000+ for Joe Cunningham (Democratic Party) is\n",
      "        [0.31818039 0.43264775]\n",
      "        \n"
     ]
    }
   ],
   "source": [
    "dem_150_more_ei_urban, dem_150_more_summary_urban = run_ecological_inference(\n",
    "    df=sc_economic_merged_ei_urban_df,\n",
    "    demographic_col=\"150K_MORE_PERCENT\",\n",
    "    voting_col=\"DEMOCRATIC_PERCENT\",\n",
    "    total_votes_col=\"TOT_VOT\",\n",
    "    demographic_group_name=\"$150,000+\",\n",
    "    candidate_name=sc_candidate_mapping['DEMOCRATIC']\n",
    ")"
   ]
  },
  {
   "cell_type": "markdown",
   "metadata": {},
   "source": [
    "##### Rep Run"
   ]
  },
  {
   "cell_type": "code",
   "execution_count": 469,
   "metadata": {},
   "outputs": [
    {
     "name": "stderr",
     "output_type": "stream",
     "text": [
      "Compiling...\n",
      "Compilation time = 0:00:01.297273\n",
      "Sampling...\n"
     ]
    },
    {
     "data": {
      "application/vnd.jupyter.widget-view+json": {
       "model_id": "7fc818b177134552979e508e3cbe7c7b",
       "version_major": 2,
       "version_minor": 0
      },
      "text/plain": [
       "  0%|          | 0/2500 [00:00<?, ?it/s]"
      ]
     },
     "metadata": {},
     "output_type": "display_data"
    },
    {
     "data": {
      "application/vnd.jupyter.widget-view+json": {
       "model_id": "9020269f5334430eae0fe849241617df",
       "version_major": 2,
       "version_minor": 0
      },
      "text/plain": [
       "  0%|          | 0/2500 [00:00<?, ?it/s]"
      ]
     },
     "metadata": {},
     "output_type": "display_data"
    },
    {
     "data": {
      "application/vnd.jupyter.widget-view+json": {
       "model_id": "c0f10d3639b7448da3b3900c28887d48",
       "version_major": 2,
       "version_minor": 0
      },
      "text/plain": [
       "  0%|          | 0/2500 [00:00<?, ?it/s]"
      ]
     },
     "metadata": {},
     "output_type": "display_data"
    },
    {
     "data": {
      "application/vnd.jupyter.widget-view+json": {
       "model_id": "2e9c761b8dc442089f45f401f10eb1ff",
       "version_major": 2,
       "version_minor": 0
      },
      "text/plain": [
       "  0%|          | 0/2500 [00:00<?, ?it/s]"
      ]
     },
     "metadata": {},
     "output_type": "display_data"
    },
    {
     "name": "stderr",
     "output_type": "stream",
     "text": [
      "Sampling time = 0:00:02.006625\n",
      "Transforming variables...\n",
      "Transformation time = 0:00:18.306498\n"
     ]
    },
    {
     "name": "stdout",
     "output_type": "stream",
     "text": [
      "Model: king99_pareto_modification\n",
      "        Computed from the raw b_i samples by multiplying by population and then getting\n",
      "        the proportion of the total pop (total pop=summed across all districts):\n",
      "        The posterior mean for the district-level voting preference of\n",
      "        $0-$35,000 for Henry McMaster (Republican Party) is\n",
      "        0.372\n",
      "        The posterior mean for the district-level voting preference of\n",
      "        non-$0-$35,000 for Henry McMaster (Republican Party) is\n",
      "        0.656\n",
      "        95% equal-tailed Bayesian credible interval for district-level voting preference of\n",
      "        $0-$35,000 for Henry McMaster (Republican Party) is\n",
      "        [0.24974123 0.49526003]\n",
      "        95% equal-tailed Bayesian credible interval for district-level voting preference of\n",
      "        non-$0-$35,000 for Henry McMaster (Republican Party) is\n",
      "        [0.61879745 0.692483  ]\n",
      "        \n"
     ]
    }
   ],
   "source": [
    "rep_0_35_ei, rep_0_35_summary = run_ecological_inference(\n",
    "    df=sc_economic_merged_ei_df,\n",
    "    demographic_col=\"0_35K_PERCENT\",\n",
    "    voting_col=\"REPUBLICAN_PERCENT\",\n",
    "    total_votes_col=\"TOT_VOT\",\n",
    "    demographic_group_name=\"$0-$35,000\",\n",
    "    candidate_name=sc_candidate_mapping['REPUBLICAN']\n",
    ")"
   ]
  },
  {
   "cell_type": "code",
   "execution_count": 470,
   "metadata": {},
   "outputs": [
    {
     "name": "stderr",
     "output_type": "stream",
     "text": [
      "Compiling...\n",
      "Compilation time = 0:00:01.225608\n",
      "Sampling...\n"
     ]
    },
    {
     "data": {
      "application/vnd.jupyter.widget-view+json": {
       "model_id": "679c9a88632549ca9a37d440c646a0d4",
       "version_major": 2,
       "version_minor": 0
      },
      "text/plain": [
       "  0%|          | 0/2500 [00:00<?, ?it/s]"
      ]
     },
     "metadata": {},
     "output_type": "display_data"
    },
    {
     "data": {
      "application/vnd.jupyter.widget-view+json": {
       "model_id": "cc2b6195a54c432b8cc563fb2ae4eae2",
       "version_major": 2,
       "version_minor": 0
      },
      "text/plain": [
       "  0%|          | 0/2500 [00:00<?, ?it/s]"
      ]
     },
     "metadata": {},
     "output_type": "display_data"
    },
    {
     "data": {
      "application/vnd.jupyter.widget-view+json": {
       "model_id": "ea4d1ea206d0450fb8d36f1be872d7a5",
       "version_major": 2,
       "version_minor": 0
      },
      "text/plain": [
       "  0%|          | 0/2500 [00:00<?, ?it/s]"
      ]
     },
     "metadata": {},
     "output_type": "display_data"
    },
    {
     "data": {
      "application/vnd.jupyter.widget-view+json": {
       "model_id": "127d41d53acb44bc9773c602f898da6c",
       "version_major": 2,
       "version_minor": 0
      },
      "text/plain": [
       "  0%|          | 0/2500 [00:00<?, ?it/s]"
      ]
     },
     "metadata": {},
     "output_type": "display_data"
    },
    {
     "name": "stderr",
     "output_type": "stream",
     "text": [
      "Sampling time = 0:00:02.003472\n",
      "Transforming variables...\n",
      "Transformation time = 0:00:17.684859\n"
     ]
    },
    {
     "name": "stdout",
     "output_type": "stream",
     "text": [
      "Model: king99_pareto_modification\n",
      "        Computed from the raw b_i samples by multiplying by population and then getting\n",
      "        the proportion of the total pop (total pop=summed across all districts):\n",
      "        The posterior mean for the district-level voting preference of\n",
      "        $0-$35,000 for Henry McMaster (Republican Party) is\n",
      "        0.434\n",
      "        The posterior mean for the district-level voting preference of\n",
      "        non-$0-$35,000 for Henry McMaster (Republican Party) is\n",
      "        0.631\n",
      "        95% equal-tailed Bayesian credible interval for district-level voting preference of\n",
      "        $0-$35,000 for Henry McMaster (Republican Party) is\n",
      "        [0.33283288 0.5448951 ]\n",
      "        95% equal-tailed Bayesian credible interval for district-level voting preference of\n",
      "        non-$0-$35,000 for Henry McMaster (Republican Party) is\n",
      "        [0.59014376 0.66758048]\n",
      "        \n"
     ]
    }
   ],
   "source": [
    "rep_0_35_ei_rural, rep_0_35_summary_rural = run_ecological_inference(\n",
    "    df=sc_economic_merged_ei_rural_df,\n",
    "    demographic_col=\"0_35K_PERCENT\",\n",
    "    voting_col=\"REPUBLICAN_PERCENT\",\n",
    "    total_votes_col=\"TOT_VOT\",\n",
    "    demographic_group_name=\"$0-$35,000\",\n",
    "    candidate_name=sc_candidate_mapping['REPUBLICAN']\n",
    ")"
   ]
  },
  {
   "cell_type": "code",
   "execution_count": 471,
   "metadata": {},
   "outputs": [
    {
     "name": "stderr",
     "output_type": "stream",
     "text": [
      "Compiling...\n",
      "Compilation time = 0:00:03.797189\n",
      "Sampling...\n"
     ]
    },
    {
     "data": {
      "application/vnd.jupyter.widget-view+json": {
       "model_id": "58e92555ffe84eecabb48d47676c4c3e",
       "version_major": 2,
       "version_minor": 0
      },
      "text/plain": [
       "  0%|          | 0/2500 [00:00<?, ?it/s]"
      ]
     },
     "metadata": {},
     "output_type": "display_data"
    },
    {
     "data": {
      "application/vnd.jupyter.widget-view+json": {
       "model_id": "d605445320584a81b832c17e62eb4613",
       "version_major": 2,
       "version_minor": 0
      },
      "text/plain": [
       "  0%|          | 0/2500 [00:00<?, ?it/s]"
      ]
     },
     "metadata": {},
     "output_type": "display_data"
    },
    {
     "data": {
      "application/vnd.jupyter.widget-view+json": {
       "model_id": "bd3eb2ccf0a34ebb9ff573ac6655f823",
       "version_major": 2,
       "version_minor": 0
      },
      "text/plain": [
       "  0%|          | 0/2500 [00:00<?, ?it/s]"
      ]
     },
     "metadata": {},
     "output_type": "display_data"
    },
    {
     "data": {
      "application/vnd.jupyter.widget-view+json": {
       "model_id": "1b90d4eeac05420089791caef7afa402",
       "version_major": 2,
       "version_minor": 0
      },
      "text/plain": [
       "  0%|          | 0/2500 [00:00<?, ?it/s]"
      ]
     },
     "metadata": {},
     "output_type": "display_data"
    },
    {
     "name": "stderr",
     "output_type": "stream",
     "text": [
      "Sampling time = 0:00:02.035266\n",
      "Transforming variables...\n",
      "Transformation time = 0:00:22.274652\n"
     ]
    },
    {
     "name": "stdout",
     "output_type": "stream",
     "text": [
      "Model: king99_pareto_modification\n",
      "        Computed from the raw b_i samples by multiplying by population and then getting\n",
      "        the proportion of the total pop (total pop=summed across all districts):\n",
      "        The posterior mean for the district-level voting preference of\n",
      "        $0-$35,000 for Henry McMaster (Republican Party) is\n",
      "        0.357\n",
      "        The posterior mean for the district-level voting preference of\n",
      "        non-$0-$35,000 for Henry McMaster (Republican Party) is\n",
      "        0.646\n",
      "        95% equal-tailed Bayesian credible interval for district-level voting preference of\n",
      "        $0-$35,000 for Henry McMaster (Republican Party) is\n",
      "        [0.25030126 0.47944579]\n",
      "        95% equal-tailed Bayesian credible interval for district-level voting preference of\n",
      "        non-$0-$35,000 for Henry McMaster (Republican Party) is\n",
      "        [0.60804134 0.67991092]\n",
      "        \n"
     ]
    }
   ],
   "source": [
    "rep_0_35_ei_suburban, rep_0_35_summary_suburban = run_ecological_inference(\n",
    "    df=sc_economic_merged_ei_suburban_df,\n",
    "    demographic_col=\"0_35K_PERCENT\",\n",
    "    voting_col=\"REPUBLICAN_PERCENT\",\n",
    "    total_votes_col=\"TOT_VOT\",\n",
    "    demographic_group_name=\"$0-$35,000\",\n",
    "    candidate_name=sc_candidate_mapping['REPUBLICAN']\n",
    ")"
   ]
  },
  {
   "cell_type": "code",
   "execution_count": 472,
   "metadata": {},
   "outputs": [
    {
     "name": "stderr",
     "output_type": "stream",
     "text": [
      "Compiling...\n",
      "Compilation time = 0:00:01.435231\n",
      "Sampling...\n"
     ]
    },
    {
     "data": {
      "application/vnd.jupyter.widget-view+json": {
       "model_id": "a6111e5135864a20ada435432ee68778",
       "version_major": 2,
       "version_minor": 0
      },
      "text/plain": [
       "  0%|          | 0/2500 [00:00<?, ?it/s]"
      ]
     },
     "metadata": {},
     "output_type": "display_data"
    },
    {
     "data": {
      "application/vnd.jupyter.widget-view+json": {
       "model_id": "e8c19d0e91694731a968582c65970671",
       "version_major": 2,
       "version_minor": 0
      },
      "text/plain": [
       "  0%|          | 0/2500 [00:00<?, ?it/s]"
      ]
     },
     "metadata": {},
     "output_type": "display_data"
    },
    {
     "data": {
      "application/vnd.jupyter.widget-view+json": {
       "model_id": "bde47ddc06af4a259285f5694cffdf2a",
       "version_major": 2,
       "version_minor": 0
      },
      "text/plain": [
       "  0%|          | 0/2500 [00:00<?, ?it/s]"
      ]
     },
     "metadata": {},
     "output_type": "display_data"
    },
    {
     "data": {
      "application/vnd.jupyter.widget-view+json": {
       "model_id": "c67150b4679a4cf2b5c2e04c7e511533",
       "version_major": 2,
       "version_minor": 0
      },
      "text/plain": [
       "  0%|          | 0/2500 [00:00<?, ?it/s]"
      ]
     },
     "metadata": {},
     "output_type": "display_data"
    },
    {
     "name": "stderr",
     "output_type": "stream",
     "text": [
      "Sampling time = 0:00:02.585361\n",
      "Transforming variables...\n",
      "Transformation time = 0:00:20.496697\n"
     ]
    },
    {
     "name": "stdout",
     "output_type": "stream",
     "text": [
      "Model: king99_pareto_modification\n",
      "        Computed from the raw b_i samples by multiplying by population and then getting\n",
      "        the proportion of the total pop (total pop=summed across all districts):\n",
      "        The posterior mean for the district-level voting preference of\n",
      "        $0-$35,000 for Henry McMaster (Republican Party) is\n",
      "        0.354\n",
      "        The posterior mean for the district-level voting preference of\n",
      "        non-$0-$35,000 for Henry McMaster (Republican Party) is\n",
      "        0.663\n",
      "        95% equal-tailed Bayesian credible interval for district-level voting preference of\n",
      "        $0-$35,000 for Henry McMaster (Republican Party) is\n",
      "        [0.21945312 0.51239337]\n",
      "        95% equal-tailed Bayesian credible interval for district-level voting preference of\n",
      "        non-$0-$35,000 for Henry McMaster (Republican Party) is\n",
      "        [0.62549947 0.696164  ]\n",
      "        \n"
     ]
    }
   ],
   "source": [
    "rep_0_35_ei_urban, rep_0_35_summary_urban = run_ecological_inference(\n",
    "    df=sc_economic_merged_ei_urban_df,\n",
    "    demographic_col=\"0_35K_PERCENT\",\n",
    "    voting_col=\"REPUBLICAN_PERCENT\",\n",
    "    total_votes_col=\"TOT_VOT\",\n",
    "    demographic_group_name=\"$0-$35,000\",\n",
    "    candidate_name=sc_candidate_mapping['REPUBLICAN']\n",
    ")"
   ]
  },
  {
   "cell_type": "code",
   "execution_count": 473,
   "metadata": {},
   "outputs": [
    {
     "name": "stderr",
     "output_type": "stream",
     "text": [
      "Compiling...\n",
      "Compilation time = 0:00:01.351391\n",
      "Sampling...\n"
     ]
    },
    {
     "data": {
      "application/vnd.jupyter.widget-view+json": {
       "model_id": "c51ede3d33f1461fa205c6ed8fcd7db1",
       "version_major": 2,
       "version_minor": 0
      },
      "text/plain": [
       "  0%|          | 0/2500 [00:00<?, ?it/s]"
      ]
     },
     "metadata": {},
     "output_type": "display_data"
    },
    {
     "data": {
      "application/vnd.jupyter.widget-view+json": {
       "model_id": "5c31a156eef947e0b2c71d4f43b96b17",
       "version_major": 2,
       "version_minor": 0
      },
      "text/plain": [
       "  0%|          | 0/2500 [00:00<?, ?it/s]"
      ]
     },
     "metadata": {},
     "output_type": "display_data"
    },
    {
     "data": {
      "application/vnd.jupyter.widget-view+json": {
       "model_id": "d547249817b148e687e4307e9c284eea",
       "version_major": 2,
       "version_minor": 0
      },
      "text/plain": [
       "  0%|          | 0/2500 [00:00<?, ?it/s]"
      ]
     },
     "metadata": {},
     "output_type": "display_data"
    },
    {
     "data": {
      "application/vnd.jupyter.widget-view+json": {
       "model_id": "9dba1e51f75e444db073b0e885b6cc4b",
       "version_major": 2,
       "version_minor": 0
      },
      "text/plain": [
       "  0%|          | 0/2500 [00:00<?, ?it/s]"
      ]
     },
     "metadata": {},
     "output_type": "display_data"
    },
    {
     "name": "stderr",
     "output_type": "stream",
     "text": [
      "Sampling time = 0:00:02.346736\n",
      "Transforming variables...\n",
      "Transformation time = 0:00:18.312549\n"
     ]
    },
    {
     "name": "stdout",
     "output_type": "stream",
     "text": [
      "Model: king99_pareto_modification\n",
      "        Computed from the raw b_i samples by multiplying by population and then getting\n",
      "        the proportion of the total pop (total pop=summed across all districts):\n",
      "        The posterior mean for the district-level voting preference of\n",
      "        $35,000-$60,000 for Henry McMaster (Republican Party) is\n",
      "        0.393\n",
      "        The posterior mean for the district-level voting preference of\n",
      "        non-$35,000-$60,000 for Henry McMaster (Republican Party) is\n",
      "        0.633\n",
      "        95% equal-tailed Bayesian credible interval for district-level voting preference of\n",
      "        $35,000-$60,000 for Henry McMaster (Republican Party) is\n",
      "        [0.21346675 0.58085882]\n",
      "        95% equal-tailed Bayesian credible interval for district-level voting preference of\n",
      "        non-$35,000-$60,000 for Henry McMaster (Republican Party) is\n",
      "        [0.59292542 0.67144488]\n",
      "        \n"
     ]
    }
   ],
   "source": [
    "rep_35_60_ei, rep_35_60_summary = run_ecological_inference(\n",
    "    df=sc_economic_merged_ei_df,\n",
    "    demographic_col=\"35K_60K_PERCENT\",\n",
    "    voting_col=\"REPUBLICAN_PERCENT\",\n",
    "    total_votes_col=\"TOT_VOT\",\n",
    "    demographic_group_name=\"$35,000-$60,000\",\n",
    "    candidate_name=sc_candidate_mapping['REPUBLICAN']\n",
    ")"
   ]
  },
  {
   "cell_type": "code",
   "execution_count": 474,
   "metadata": {},
   "outputs": [
    {
     "name": "stderr",
     "output_type": "stream",
     "text": [
      "Compiling...\n",
      "Compilation time = 0:00:01.585590\n",
      "Sampling...\n"
     ]
    },
    {
     "data": {
      "application/vnd.jupyter.widget-view+json": {
       "model_id": "ade678a876894b1a80b31d97fb02df12",
       "version_major": 2,
       "version_minor": 0
      },
      "text/plain": [
       "  0%|          | 0/2500 [00:00<?, ?it/s]"
      ]
     },
     "metadata": {},
     "output_type": "display_data"
    },
    {
     "data": {
      "application/vnd.jupyter.widget-view+json": {
       "model_id": "714b71d53efd4c19a01ee3b8e6dedf36",
       "version_major": 2,
       "version_minor": 0
      },
      "text/plain": [
       "  0%|          | 0/2500 [00:00<?, ?it/s]"
      ]
     },
     "metadata": {},
     "output_type": "display_data"
    },
    {
     "data": {
      "application/vnd.jupyter.widget-view+json": {
       "model_id": "e86cb7c262e0425db319018809ecc596",
       "version_major": 2,
       "version_minor": 0
      },
      "text/plain": [
       "  0%|          | 0/2500 [00:00<?, ?it/s]"
      ]
     },
     "metadata": {},
     "output_type": "display_data"
    },
    {
     "data": {
      "application/vnd.jupyter.widget-view+json": {
       "model_id": "1b00b2286d6c4f7e8be4fbb2db8fb228",
       "version_major": 2,
       "version_minor": 0
      },
      "text/plain": [
       "  0%|          | 0/2500 [00:00<?, ?it/s]"
      ]
     },
     "metadata": {},
     "output_type": "display_data"
    },
    {
     "name": "stderr",
     "output_type": "stream",
     "text": [
      "Sampling time = 0:00:03.123805\n",
      "Transforming variables...\n",
      "Transformation time = 0:00:16.018734\n"
     ]
    },
    {
     "name": "stdout",
     "output_type": "stream",
     "text": [
      "Model: king99_pareto_modification\n",
      "        Computed from the raw b_i samples by multiplying by population and then getting\n",
      "        the proportion of the total pop (total pop=summed across all districts):\n",
      "        The posterior mean for the district-level voting preference of\n",
      "        $35,000-$60,000 for Henry McMaster (Republican Party) is\n",
      "        0.469\n",
      "        The posterior mean for the district-level voting preference of\n",
      "        non-$35,000-$60,000 for Henry McMaster (Republican Party) is\n",
      "        0.601\n",
      "        95% equal-tailed Bayesian credible interval for district-level voting preference of\n",
      "        $35,000-$60,000 for Henry McMaster (Republican Party) is\n",
      "        [0.30606606 0.63767819]\n",
      "        95% equal-tailed Bayesian credible interval for district-level voting preference of\n",
      "        non-$35,000-$60,000 for Henry McMaster (Republican Party) is\n",
      "        [0.5654402  0.63536265]\n",
      "        \n"
     ]
    }
   ],
   "source": [
    "rep_35_60_ei_rural, rep_35_60_summary_rural = run_ecological_inference(\n",
    "    df=sc_economic_merged_ei_rural_df,\n",
    "    demographic_col=\"35K_60K_PERCENT\",\n",
    "    voting_col=\"REPUBLICAN_PERCENT\",\n",
    "    total_votes_col=\"TOT_VOT\",\n",
    "    demographic_group_name=\"$35,000-$60,000\",\n",
    "    candidate_name=sc_candidate_mapping['REPUBLICAN']\n",
    ")"
   ]
  },
  {
   "cell_type": "code",
   "execution_count": 475,
   "metadata": {},
   "outputs": [
    {
     "name": "stderr",
     "output_type": "stream",
     "text": [
      "Compiling...\n",
      "Compilation time = 0:00:01.266234\n",
      "Sampling...\n"
     ]
    },
    {
     "data": {
      "application/vnd.jupyter.widget-view+json": {
       "model_id": "7d1191e33ad64e8586999c7310f1de7b",
       "version_major": 2,
       "version_minor": 0
      },
      "text/plain": [
       "  0%|          | 0/2500 [00:00<?, ?it/s]"
      ]
     },
     "metadata": {},
     "output_type": "display_data"
    },
    {
     "data": {
      "application/vnd.jupyter.widget-view+json": {
       "model_id": "af7316e45afd4ba6a5dd6ce7102ad113",
       "version_major": 2,
       "version_minor": 0
      },
      "text/plain": [
       "  0%|          | 0/2500 [00:00<?, ?it/s]"
      ]
     },
     "metadata": {},
     "output_type": "display_data"
    },
    {
     "data": {
      "application/vnd.jupyter.widget-view+json": {
       "model_id": "79d15eaef14443cf96157b2540867535",
       "version_major": 2,
       "version_minor": 0
      },
      "text/plain": [
       "  0%|          | 0/2500 [00:00<?, ?it/s]"
      ]
     },
     "metadata": {},
     "output_type": "display_data"
    },
    {
     "data": {
      "application/vnd.jupyter.widget-view+json": {
       "model_id": "33fc382807a546e5abb0af669eb94493",
       "version_major": 2,
       "version_minor": 0
      },
      "text/plain": [
       "  0%|          | 0/2500 [00:00<?, ?it/s]"
      ]
     },
     "metadata": {},
     "output_type": "display_data"
    },
    {
     "name": "stderr",
     "output_type": "stream",
     "text": [
      "Sampling time = 0:00:02.220450\n",
      "Transforming variables...\n",
      "Transformation time = 0:00:21.172698\n"
     ]
    },
    {
     "name": "stdout",
     "output_type": "stream",
     "text": [
      "Model: king99_pareto_modification\n",
      "        Computed from the raw b_i samples by multiplying by population and then getting\n",
      "        the proportion of the total pop (total pop=summed across all districts):\n",
      "        The posterior mean for the district-level voting preference of\n",
      "        $35,000-$60,000 for Henry McMaster (Republican Party) is\n",
      "        0.309\n",
      "        The posterior mean for the district-level voting preference of\n",
      "        non-$35,000-$60,000 for Henry McMaster (Republican Party) is\n",
      "        0.647\n",
      "        95% equal-tailed Bayesian credible interval for district-level voting preference of\n",
      "        $35,000-$60,000 for Henry McMaster (Republican Party) is\n",
      "        [0.16194673 0.49803396]\n",
      "        95% equal-tailed Bayesian credible interval for district-level voting preference of\n",
      "        non-$35,000-$60,000 for Henry McMaster (Republican Party) is\n",
      "        [0.59903532 0.68503782]\n",
      "        \n"
     ]
    }
   ],
   "source": [
    "rep_35_60_ei_suburban, rep_35_60_summary_suburban = run_ecological_inference(\n",
    "    df=sc_economic_merged_ei_suburban_df,\n",
    "    demographic_col=\"35K_60K_PERCENT\",\n",
    "    voting_col=\"REPUBLICAN_PERCENT\",\n",
    "    total_votes_col=\"TOT_VOT\",\n",
    "    demographic_group_name=\"$35,000-$60,000\",\n",
    "    candidate_name=sc_candidate_mapping['REPUBLICAN']\n",
    ")"
   ]
  },
  {
   "cell_type": "code",
   "execution_count": 476,
   "metadata": {},
   "outputs": [
    {
     "name": "stderr",
     "output_type": "stream",
     "text": [
      "Compiling...\n",
      "Compilation time = 0:00:01.527953\n",
      "Sampling...\n"
     ]
    },
    {
     "data": {
      "application/vnd.jupyter.widget-view+json": {
       "model_id": "79531b1a65514a35a4df9314809088b9",
       "version_major": 2,
       "version_minor": 0
      },
      "text/plain": [
       "  0%|          | 0/2500 [00:00<?, ?it/s]"
      ]
     },
     "metadata": {},
     "output_type": "display_data"
    },
    {
     "data": {
      "application/vnd.jupyter.widget-view+json": {
       "model_id": "e08c38ac458e429599092236523f084c",
       "version_major": 2,
       "version_minor": 0
      },
      "text/plain": [
       "  0%|          | 0/2500 [00:00<?, ?it/s]"
      ]
     },
     "metadata": {},
     "output_type": "display_data"
    },
    {
     "data": {
      "application/vnd.jupyter.widget-view+json": {
       "model_id": "8ef3624d7c394d15b0b4c1e8074d6390",
       "version_major": 2,
       "version_minor": 0
      },
      "text/plain": [
       "  0%|          | 0/2500 [00:00<?, ?it/s]"
      ]
     },
     "metadata": {},
     "output_type": "display_data"
    },
    {
     "data": {
      "application/vnd.jupyter.widget-view+json": {
       "model_id": "4b1e5830394742a2badf7d7900b09e72",
       "version_major": 2,
       "version_minor": 0
      },
      "text/plain": [
       "  0%|          | 0/2500 [00:00<?, ?it/s]"
      ]
     },
     "metadata": {},
     "output_type": "display_data"
    },
    {
     "name": "stderr",
     "output_type": "stream",
     "text": [
      "Sampling time = 0:00:02.364441\n",
      "Transforming variables...\n",
      "Transformation time = 0:00:21.342985\n"
     ]
    },
    {
     "name": "stdout",
     "output_type": "stream",
     "text": [
      "Model: king99_pareto_modification\n",
      "        Computed from the raw b_i samples by multiplying by population and then getting\n",
      "        the proportion of the total pop (total pop=summed across all districts):\n",
      "        The posterior mean for the district-level voting preference of\n",
      "        $35,000-$60,000 for Henry McMaster (Republican Party) is\n",
      "        0.294\n",
      "        The posterior mean for the district-level voting preference of\n",
      "        non-$35,000-$60,000 for Henry McMaster (Republican Party) is\n",
      "        0.678\n",
      "        95% equal-tailed Bayesian credible interval for district-level voting preference of\n",
      "        $35,000-$60,000 for Henry McMaster (Republican Party) is\n",
      "        [0.13864358 0.51948741]\n",
      "        95% equal-tailed Bayesian credible interval for district-level voting preference of\n",
      "        non-$35,000-$60,000 for Henry McMaster (Republican Party) is\n",
      "        [0.62313609 0.71644825]\n",
      "        \n"
     ]
    }
   ],
   "source": [
    "rep_35_60_ei_urban, rep_35_60_summary_urban = run_ecological_inference(\n",
    "    df=sc_economic_merged_ei_urban_df,\n",
    "    demographic_col=\"35K_60K_PERCENT\",\n",
    "    voting_col=\"REPUBLICAN_PERCENT\",\n",
    "    total_votes_col=\"TOT_VOT\",\n",
    "    demographic_group_name=\"$35,000-$60,000\",\n",
    "    candidate_name=sc_candidate_mapping['REPUBLICAN']\n",
    ")"
   ]
  },
  {
   "cell_type": "code",
   "execution_count": 477,
   "metadata": {},
   "outputs": [
    {
     "name": "stderr",
     "output_type": "stream",
     "text": [
      "Compiling...\n",
      "Compilation time = 0:00:05.575699\n",
      "Sampling...\n"
     ]
    },
    {
     "data": {
      "application/vnd.jupyter.widget-view+json": {
       "model_id": "1ebe606b84614744865e827444e4efab",
       "version_major": 2,
       "version_minor": 0
      },
      "text/plain": [
       "  0%|          | 0/2500 [00:00<?, ?it/s]"
      ]
     },
     "metadata": {},
     "output_type": "display_data"
    },
    {
     "data": {
      "application/vnd.jupyter.widget-view+json": {
       "model_id": "20b3f7c3e15545daaef4c96a784fc3c7",
       "version_major": 2,
       "version_minor": 0
      },
      "text/plain": [
       "  0%|          | 0/2500 [00:00<?, ?it/s]"
      ]
     },
     "metadata": {},
     "output_type": "display_data"
    },
    {
     "data": {
      "application/vnd.jupyter.widget-view+json": {
       "model_id": "903d6888308940e99474b7093a06558f",
       "version_major": 2,
       "version_minor": 0
      },
      "text/plain": [
       "  0%|          | 0/2500 [00:00<?, ?it/s]"
      ]
     },
     "metadata": {},
     "output_type": "display_data"
    },
    {
     "data": {
      "application/vnd.jupyter.widget-view+json": {
       "model_id": "7cb47fe9725e4dd68beedf6ffd6f53ab",
       "version_major": 2,
       "version_minor": 0
      },
      "text/plain": [
       "  0%|          | 0/2500 [00:00<?, ?it/s]"
      ]
     },
     "metadata": {},
     "output_type": "display_data"
    },
    {
     "name": "stderr",
     "output_type": "stream",
     "text": [
      "Sampling time = 0:00:02.124230\n",
      "Transforming variables...\n",
      "Transformation time = 0:00:19.885442\n"
     ]
    },
    {
     "name": "stdout",
     "output_type": "stream",
     "text": [
      "Model: king99_pareto_modification\n",
      "        Computed from the raw b_i samples by multiplying by population and then getting\n",
      "        the proportion of the total pop (total pop=summed across all districts):\n",
      "        The posterior mean for the district-level voting preference of\n",
      "        $35,000-$60,000 for Henry McMaster (Republican Party) is\n",
      "        0.430\n",
      "        The posterior mean for the district-level voting preference of\n",
      "        non-$35,000-$60,000 for Henry McMaster (Republican Party) is\n",
      "        0.634\n",
      "        95% equal-tailed Bayesian credible interval for district-level voting preference of\n",
      "        $35,000-$60,000 for Henry McMaster (Republican Party) is\n",
      "        [0.23108722 0.6372176 ]\n",
      "        95% equal-tailed Bayesian credible interval for district-level voting preference of\n",
      "        non-$35,000-$60,000 for Henry McMaster (Republican Party) is\n",
      "        [0.57823622 0.6866715 ]\n",
      "        \n"
     ]
    }
   ],
   "source": [
    "rep_60_100_ei, rep_60_100_summary = run_ecological_inference(\n",
    "    df=sc_economic_merged_ei_df,\n",
    "    demographic_col=\"60K_100K_PERCENT\",\n",
    "    voting_col=\"REPUBLICAN_PERCENT\",\n",
    "    total_votes_col=\"TOT_VOT\",\n",
    "    demographic_group_name=\"$35,000-$60,000\",\n",
    "    candidate_name=sc_candidate_mapping['REPUBLICAN']\n",
    ")"
   ]
  },
  {
   "cell_type": "code",
   "execution_count": 478,
   "metadata": {},
   "outputs": [
    {
     "name": "stderr",
     "output_type": "stream",
     "text": [
      "Compiling...\n",
      "Compilation time = 0:00:01.427513\n",
      "Sampling...\n"
     ]
    },
    {
     "data": {
      "application/vnd.jupyter.widget-view+json": {
       "model_id": "3f643c8de9894bf0819d06b8aa4080ff",
       "version_major": 2,
       "version_minor": 0
      },
      "text/plain": [
       "  0%|          | 0/2500 [00:00<?, ?it/s]"
      ]
     },
     "metadata": {},
     "output_type": "display_data"
    },
    {
     "data": {
      "application/vnd.jupyter.widget-view+json": {
       "model_id": "dd80bf7e15bb4aaf9d537cc0ba704168",
       "version_major": 2,
       "version_minor": 0
      },
      "text/plain": [
       "  0%|          | 0/2500 [00:00<?, ?it/s]"
      ]
     },
     "metadata": {},
     "output_type": "display_data"
    },
    {
     "data": {
      "application/vnd.jupyter.widget-view+json": {
       "model_id": "a79995b34b4b43e5911ba9fa34acf2d0",
       "version_major": 2,
       "version_minor": 0
      },
      "text/plain": [
       "  0%|          | 0/2500 [00:00<?, ?it/s]"
      ]
     },
     "metadata": {},
     "output_type": "display_data"
    },
    {
     "data": {
      "application/vnd.jupyter.widget-view+json": {
       "model_id": "a4e018a0492d4feb966999723750777b",
       "version_major": 2,
       "version_minor": 0
      },
      "text/plain": [
       "  0%|          | 0/2500 [00:00<?, ?it/s]"
      ]
     },
     "metadata": {},
     "output_type": "display_data"
    },
    {
     "name": "stderr",
     "output_type": "stream",
     "text": [
      "Sampling time = 0:00:02.100966\n",
      "Transforming variables...\n",
      "Transformation time = 0:00:18.767512\n"
     ]
    },
    {
     "name": "stdout",
     "output_type": "stream",
     "text": [
      "Model: king99_pareto_modification\n",
      "        Computed from the raw b_i samples by multiplying by population and then getting\n",
      "        the proportion of the total pop (total pop=summed across all districts):\n",
      "        The posterior mean for the district-level voting preference of\n",
      "        $35,000-$60,000 for Henry McMaster (Republican Party) is\n",
      "        0.462\n",
      "        The posterior mean for the district-level voting preference of\n",
      "        non-$35,000-$60,000 for Henry McMaster (Republican Party) is\n",
      "        0.606\n",
      "        95% equal-tailed Bayesian credible interval for district-level voting preference of\n",
      "        $35,000-$60,000 for Henry McMaster (Republican Party) is\n",
      "        [0.29384257 0.64393551]\n",
      "        95% equal-tailed Bayesian credible interval for district-level voting preference of\n",
      "        non-$35,000-$60,000 for Henry McMaster (Republican Party) is\n",
      "        [0.56322754 0.64423549]\n",
      "        \n"
     ]
    }
   ],
   "source": [
    "rep_60_100_ei_rural, rep_60_100_summary_rural = run_ecological_inference(\n",
    "    df=sc_economic_merged_ei_rural_df,\n",
    "    demographic_col=\"60K_100K_PERCENT\",\n",
    "    voting_col=\"REPUBLICAN_PERCENT\",\n",
    "    total_votes_col=\"TOT_VOT\",\n",
    "    demographic_group_name=\"$35,000-$60,000\",\n",
    "    candidate_name=sc_candidate_mapping['REPUBLICAN']\n",
    ")"
   ]
  },
  {
   "cell_type": "code",
   "execution_count": 479,
   "metadata": {},
   "outputs": [
    {
     "name": "stderr",
     "output_type": "stream",
     "text": [
      "Compiling...\n",
      "Compilation time = 0:00:01.351116\n",
      "Sampling...\n"
     ]
    },
    {
     "data": {
      "application/vnd.jupyter.widget-view+json": {
       "model_id": "8ca24fc1ee374b14b038c9ca77e71b1f",
       "version_major": 2,
       "version_minor": 0
      },
      "text/plain": [
       "  0%|          | 0/2500 [00:00<?, ?it/s]"
      ]
     },
     "metadata": {},
     "output_type": "display_data"
    },
    {
     "data": {
      "application/vnd.jupyter.widget-view+json": {
       "model_id": "0f2a94c11d924a8eaadd0717a35a7ca1",
       "version_major": 2,
       "version_minor": 0
      },
      "text/plain": [
       "  0%|          | 0/2500 [00:00<?, ?it/s]"
      ]
     },
     "metadata": {},
     "output_type": "display_data"
    },
    {
     "data": {
      "application/vnd.jupyter.widget-view+json": {
       "model_id": "4fdb7ad690d44235808ed3a94bd151af",
       "version_major": 2,
       "version_minor": 0
      },
      "text/plain": [
       "  0%|          | 0/2500 [00:00<?, ?it/s]"
      ]
     },
     "metadata": {},
     "output_type": "display_data"
    },
    {
     "data": {
      "application/vnd.jupyter.widget-view+json": {
       "model_id": "a304642739fa426e9197e4c3fdd80d03",
       "version_major": 2,
       "version_minor": 0
      },
      "text/plain": [
       "  0%|          | 0/2500 [00:00<?, ?it/s]"
      ]
     },
     "metadata": {},
     "output_type": "display_data"
    },
    {
     "name": "stderr",
     "output_type": "stream",
     "text": [
      "Sampling time = 0:00:02.305584\n",
      "Transforming variables...\n",
      "Transformation time = 0:00:20.058645\n"
     ]
    },
    {
     "name": "stdout",
     "output_type": "stream",
     "text": [
      "Model: king99_pareto_modification\n",
      "        Computed from the raw b_i samples by multiplying by population and then getting\n",
      "        the proportion of the total pop (total pop=summed across all districts):\n",
      "        The posterior mean for the district-level voting preference of\n",
      "        $35,000-$60,000 for Henry McMaster (Republican Party) is\n",
      "        0.485\n",
      "        The posterior mean for the district-level voting preference of\n",
      "        non-$35,000-$60,000 for Henry McMaster (Republican Party) is\n",
      "        0.612\n",
      "        95% equal-tailed Bayesian credible interval for district-level voting preference of\n",
      "        $35,000-$60,000 for Henry McMaster (Republican Party) is\n",
      "        [0.33615411 0.64286245]\n",
      "        95% equal-tailed Bayesian credible interval for district-level voting preference of\n",
      "        non-$35,000-$60,000 for Henry McMaster (Republican Party) is\n",
      "        [0.56453975 0.65568588]\n",
      "        \n"
     ]
    }
   ],
   "source": [
    "rep_60_100_ei_suburban, rep_60_100_summary_suburban = run_ecological_inference(\n",
    "    df=sc_economic_merged_ei_suburban_df,\n",
    "    demographic_col=\"60K_100K_PERCENT\",\n",
    "    voting_col=\"REPUBLICAN_PERCENT\",\n",
    "    total_votes_col=\"TOT_VOT\",\n",
    "    demographic_group_name=\"$35,000-$60,000\",\n",
    "    candidate_name=sc_candidate_mapping['REPUBLICAN']\n",
    ")"
   ]
  },
  {
   "cell_type": "code",
   "execution_count": 480,
   "metadata": {},
   "outputs": [
    {
     "name": "stderr",
     "output_type": "stream",
     "text": [
      "Compiling...\n",
      "Compilation time = 0:00:01.341861\n",
      "Sampling...\n"
     ]
    },
    {
     "data": {
      "application/vnd.jupyter.widget-view+json": {
       "model_id": "e211d4628f4646ab87c173ca4ad69ba7",
       "version_major": 2,
       "version_minor": 0
      },
      "text/plain": [
       "  0%|          | 0/2500 [00:00<?, ?it/s]"
      ]
     },
     "metadata": {},
     "output_type": "display_data"
    },
    {
     "data": {
      "application/vnd.jupyter.widget-view+json": {
       "model_id": "74eb45994a9b40438e348bd178629a01",
       "version_major": 2,
       "version_minor": 0
      },
      "text/plain": [
       "  0%|          | 0/2500 [00:00<?, ?it/s]"
      ]
     },
     "metadata": {},
     "output_type": "display_data"
    },
    {
     "data": {
      "application/vnd.jupyter.widget-view+json": {
       "model_id": "5c688bb6068641c799925ecf2284ddef",
       "version_major": 2,
       "version_minor": 0
      },
      "text/plain": [
       "  0%|          | 0/2500 [00:00<?, ?it/s]"
      ]
     },
     "metadata": {},
     "output_type": "display_data"
    },
    {
     "data": {
      "application/vnd.jupyter.widget-view+json": {
       "model_id": "8dadd7b5c3674fa8aae7068e2a064b72",
       "version_major": 2,
       "version_minor": 0
      },
      "text/plain": [
       "  0%|          | 0/2500 [00:00<?, ?it/s]"
      ]
     },
     "metadata": {},
     "output_type": "display_data"
    },
    {
     "name": "stderr",
     "output_type": "stream",
     "text": [
      "Sampling time = 0:00:02.321423\n",
      "Transforming variables...\n",
      "Transformation time = 0:00:28.070200\n"
     ]
    },
    {
     "name": "stdout",
     "output_type": "stream",
     "text": [
      "Model: king99_pareto_modification\n",
      "        Computed from the raw b_i samples by multiplying by population and then getting\n",
      "        the proportion of the total pop (total pop=summed across all districts):\n",
      "        The posterior mean for the district-level voting preference of\n",
      "        $35,000-$60,000 for Henry McMaster (Republican Party) is\n",
      "        0.613\n",
      "        The posterior mean for the district-level voting preference of\n",
      "        non-$35,000-$60,000 for Henry McMaster (Republican Party) is\n",
      "        0.602\n",
      "        95% equal-tailed Bayesian credible interval for district-level voting preference of\n",
      "        $35,000-$60,000 for Henry McMaster (Republican Party) is\n",
      "        [0.35931713 0.83537504]\n",
      "        95% equal-tailed Bayesian credible interval for district-level voting preference of\n",
      "        non-$35,000-$60,000 for Henry McMaster (Republican Party) is\n",
      "        [0.53007935 0.68652151]\n",
      "        \n"
     ]
    }
   ],
   "source": [
    "rep_60_100_ei_urban, rep_60_100_summary_urban = run_ecological_inference(\n",
    "    df=sc_economic_merged_ei_urban_df,\n",
    "    demographic_col=\"60K_100K_PERCENT\",\n",
    "    voting_col=\"REPUBLICAN_PERCENT\",\n",
    "    total_votes_col=\"TOT_VOT\",\n",
    "    demographic_group_name=\"$35,000-$60,000\",\n",
    "    candidate_name=sc_candidate_mapping['REPUBLICAN']\n",
    ")"
   ]
  },
  {
   "cell_type": "code",
   "execution_count": 481,
   "metadata": {},
   "outputs": [
    {
     "name": "stderr",
     "output_type": "stream",
     "text": [
      "Compiling...\n",
      "Compilation time = 0:00:01.560515\n",
      "Sampling...\n"
     ]
    },
    {
     "data": {
      "application/vnd.jupyter.widget-view+json": {
       "model_id": "eef9247c81104c79aba5c095d3e8dc41",
       "version_major": 2,
       "version_minor": 0
      },
      "text/plain": [
       "  0%|          | 0/2500 [00:00<?, ?it/s]"
      ]
     },
     "metadata": {},
     "output_type": "display_data"
    },
    {
     "data": {
      "application/vnd.jupyter.widget-view+json": {
       "model_id": "c4ad0c1b27ec42998c30fef7e8b8e564",
       "version_major": 2,
       "version_minor": 0
      },
      "text/plain": [
       "  0%|          | 0/2500 [00:00<?, ?it/s]"
      ]
     },
     "metadata": {},
     "output_type": "display_data"
    },
    {
     "data": {
      "application/vnd.jupyter.widget-view+json": {
       "model_id": "f2b4c8391b1e40b7af7feefb3bfef321",
       "version_major": 2,
       "version_minor": 0
      },
      "text/plain": [
       "  0%|          | 0/2500 [00:00<?, ?it/s]"
      ]
     },
     "metadata": {},
     "output_type": "display_data"
    },
    {
     "data": {
      "application/vnd.jupyter.widget-view+json": {
       "model_id": "f38ea252992d4381bb77f0a550a2ff07",
       "version_major": 2,
       "version_minor": 0
      },
      "text/plain": [
       "  0%|          | 0/2500 [00:00<?, ?it/s]"
      ]
     },
     "metadata": {},
     "output_type": "display_data"
    },
    {
     "name": "stderr",
     "output_type": "stream",
     "text": [
      "Sampling time = 0:00:02.373408\n",
      "Transforming variables...\n",
      "Transformation time = 0:00:12.761773\n"
     ]
    },
    {
     "name": "stdout",
     "output_type": "stream",
     "text": [
      "Model: king99_pareto_modification\n",
      "        Computed from the raw b_i samples by multiplying by population and then getting\n",
      "        the proportion of the total pop (total pop=summed across all districts):\n",
      "        The posterior mean for the district-level voting preference of\n",
      "        $100,000-$125,000 for Henry McMaster (Republican Party) is\n",
      "        0.328\n",
      "        The posterior mean for the district-level voting preference of\n",
      "        non-$100,000-$125,000 for Henry McMaster (Republican Party) is\n",
      "        0.619\n",
      "        95% equal-tailed Bayesian credible interval for district-level voting preference of\n",
      "        $100,000-$125,000 for Henry McMaster (Republican Party) is\n",
      "        [0.08324255 0.63556567]\n",
      "        95% equal-tailed Bayesian credible interval for district-level voting preference of\n",
      "        non-$100,000-$125,000 for Henry McMaster (Republican Party) is\n",
      "        [0.58756217 0.64442375]\n",
      "        \n"
     ]
    }
   ],
   "source": [
    "rep_100_125_ei, rep_100_125_summary = run_ecological_inference(\n",
    "    df=sc_economic_merged_ei_df,\n",
    "    demographic_col=\"100K_125K_PERCENT\",\n",
    "    voting_col=\"REPUBLICAN_PERCENT\",\n",
    "    total_votes_col=\"TOT_VOT\",\n",
    "    demographic_group_name=\"$100,000-$125,000\",\n",
    "    candidate_name=sc_candidate_mapping['REPUBLICAN']\n",
    ")"
   ]
  },
  {
   "cell_type": "code",
   "execution_count": 482,
   "metadata": {},
   "outputs": [
    {
     "name": "stderr",
     "output_type": "stream",
     "text": [
      "Compiling...\n",
      "Compilation time = 0:00:01.384414\n",
      "Sampling...\n"
     ]
    },
    {
     "data": {
      "application/vnd.jupyter.widget-view+json": {
       "model_id": "7261db34316c496c855fe0fa53ae237d",
       "version_major": 2,
       "version_minor": 0
      },
      "text/plain": [
       "  0%|          | 0/2500 [00:00<?, ?it/s]"
      ]
     },
     "metadata": {},
     "output_type": "display_data"
    },
    {
     "data": {
      "application/vnd.jupyter.widget-view+json": {
       "model_id": "7fb172c498ae406aa552335b40b220fe",
       "version_major": 2,
       "version_minor": 0
      },
      "text/plain": [
       "  0%|          | 0/2500 [00:00<?, ?it/s]"
      ]
     },
     "metadata": {},
     "output_type": "display_data"
    },
    {
     "data": {
      "application/vnd.jupyter.widget-view+json": {
       "model_id": "c4cfd8e360a9484eba10dddce6a870c1",
       "version_major": 2,
       "version_minor": 0
      },
      "text/plain": [
       "  0%|          | 0/2500 [00:00<?, ?it/s]"
      ]
     },
     "metadata": {},
     "output_type": "display_data"
    },
    {
     "data": {
      "application/vnd.jupyter.widget-view+json": {
       "model_id": "f1e7235109d74c3c858a1d2de3c5a13f",
       "version_major": 2,
       "version_minor": 0
      },
      "text/plain": [
       "  0%|          | 0/2500 [00:00<?, ?it/s]"
      ]
     },
     "metadata": {},
     "output_type": "display_data"
    },
    {
     "name": "stderr",
     "output_type": "stream",
     "text": [
      "Sampling time = 0:00:02.001384\n",
      "Transforming variables...\n",
      "Transformation time = 0:00:09.836738\n"
     ]
    },
    {
     "name": "stdout",
     "output_type": "stream",
     "text": [
      "Model: king99_pareto_modification\n",
      "        Computed from the raw b_i samples by multiplying by population and then getting\n",
      "        the proportion of the total pop (total pop=summed across all districts):\n",
      "        The posterior mean for the district-level voting preference of\n",
      "        $100,000-$125,000 for Henry McMaster (Republican Party) is\n",
      "        0.321\n",
      "        The posterior mean for the district-level voting preference of\n",
      "        non-$100,000-$125,000 for Henry McMaster (Republican Party) is\n",
      "        0.601\n",
      "        95% equal-tailed Bayesian credible interval for district-level voting preference of\n",
      "        $100,000-$125,000 for Henry McMaster (Republican Party) is\n",
      "        [0.03877274 0.77172609]\n",
      "        95% equal-tailed Bayesian credible interval for district-level voting preference of\n",
      "        non-$100,000-$125,000 for Henry McMaster (Republican Party) is\n",
      "        [0.56658724 0.62266165]\n",
      "        \n"
     ]
    }
   ],
   "source": [
    "rep_100_125_ei_rural, rep_100_125_summary_rural = run_ecological_inference(\n",
    "    df=sc_economic_merged_ei_rural_df,\n",
    "    demographic_col=\"100K_125K_PERCENT\",\n",
    "    voting_col=\"REPUBLICAN_PERCENT\",\n",
    "    total_votes_col=\"TOT_VOT\",\n",
    "    demographic_group_name=\"$100,000-$125,000\",\n",
    "    candidate_name=sc_candidate_mapping['REPUBLICAN']\n",
    ")"
   ]
  },
  {
   "cell_type": "code",
   "execution_count": 483,
   "metadata": {},
   "outputs": [
    {
     "name": "stderr",
     "output_type": "stream",
     "text": [
      "Compiling...\n",
      "Compilation time = 0:00:04.202419\n",
      "Sampling...\n"
     ]
    },
    {
     "data": {
      "application/vnd.jupyter.widget-view+json": {
       "model_id": "f2e37ea6e2e2455289b344861f97e61e",
       "version_major": 2,
       "version_minor": 0
      },
      "text/plain": [
       "  0%|          | 0/2500 [00:00<?, ?it/s]"
      ]
     },
     "metadata": {},
     "output_type": "display_data"
    },
    {
     "data": {
      "application/vnd.jupyter.widget-view+json": {
       "model_id": "6b53e35775884af3aad9839a022a8647",
       "version_major": 2,
       "version_minor": 0
      },
      "text/plain": [
       "  0%|          | 0/2500 [00:00<?, ?it/s]"
      ]
     },
     "metadata": {},
     "output_type": "display_data"
    },
    {
     "data": {
      "application/vnd.jupyter.widget-view+json": {
       "model_id": "4d892b3ec1c14219a12499f77187724e",
       "version_major": 2,
       "version_minor": 0
      },
      "text/plain": [
       "  0%|          | 0/2500 [00:00<?, ?it/s]"
      ]
     },
     "metadata": {},
     "output_type": "display_data"
    },
    {
     "data": {
      "application/vnd.jupyter.widget-view+json": {
       "model_id": "50a97f6e97034aba9b52268779d2debf",
       "version_major": 2,
       "version_minor": 0
      },
      "text/plain": [
       "  0%|          | 0/2500 [00:00<?, ?it/s]"
      ]
     },
     "metadata": {},
     "output_type": "display_data"
    },
    {
     "name": "stderr",
     "output_type": "stream",
     "text": [
      "Sampling time = 0:00:02.030108\n",
      "Transforming variables...\n",
      "Transformation time = 0:00:11.080548\n"
     ]
    },
    {
     "name": "stdout",
     "output_type": "stream",
     "text": [
      "Model: king99_pareto_modification\n",
      "        Computed from the raw b_i samples by multiplying by population and then getting\n",
      "        the proportion of the total pop (total pop=summed across all districts):\n",
      "        The posterior mean for the district-level voting preference of\n",
      "        $100,000-$125,000 for Henry McMaster (Republican Party) is\n",
      "        0.340\n",
      "        The posterior mean for the district-level voting preference of\n",
      "        non-$100,000-$125,000 for Henry McMaster (Republican Party) is\n",
      "        0.610\n",
      "        95% equal-tailed Bayesian credible interval for district-level voting preference of\n",
      "        $100,000-$125,000 for Henry McMaster (Republican Party) is\n",
      "        [0.10068916 0.69024946]\n",
      "        95% equal-tailed Bayesian credible interval for district-level voting preference of\n",
      "        non-$100,000-$125,000 for Henry McMaster (Republican Party) is\n",
      "        [0.56982588 0.63728103]\n",
      "        \n"
     ]
    }
   ],
   "source": [
    "rep_100_125_ei_suburban, rep_100_125_summary_suburban = run_ecological_inference(\n",
    "    df=sc_economic_merged_ei_suburban_df,\n",
    "    demographic_col=\"100K_125K_PERCENT\",\n",
    "    voting_col=\"REPUBLICAN_PERCENT\",\n",
    "    total_votes_col=\"TOT_VOT\",\n",
    "    demographic_group_name=\"$100,000-$125,000\",\n",
    "    candidate_name=sc_candidate_mapping['REPUBLICAN']\n",
    ")"
   ]
  },
  {
   "cell_type": "code",
   "execution_count": 484,
   "metadata": {},
   "outputs": [
    {
     "name": "stderr",
     "output_type": "stream",
     "text": [
      "Compiling...\n",
      "Compilation time = 0:00:01.231575\n",
      "Sampling...\n"
     ]
    },
    {
     "data": {
      "application/vnd.jupyter.widget-view+json": {
       "model_id": "6567fc9765a04a858a984d6d7611b004",
       "version_major": 2,
       "version_minor": 0
      },
      "text/plain": [
       "  0%|          | 0/2500 [00:00<?, ?it/s]"
      ]
     },
     "metadata": {},
     "output_type": "display_data"
    },
    {
     "data": {
      "application/vnd.jupyter.widget-view+json": {
       "model_id": "b5c108b1d9ff4071b19f0abe20304841",
       "version_major": 2,
       "version_minor": 0
      },
      "text/plain": [
       "  0%|          | 0/2500 [00:00<?, ?it/s]"
      ]
     },
     "metadata": {},
     "output_type": "display_data"
    },
    {
     "data": {
      "application/vnd.jupyter.widget-view+json": {
       "model_id": "c46b9c5241e14ba980c8036230487290",
       "version_major": 2,
       "version_minor": 0
      },
      "text/plain": [
       "  0%|          | 0/2500 [00:00<?, ?it/s]"
      ]
     },
     "metadata": {},
     "output_type": "display_data"
    },
    {
     "data": {
      "application/vnd.jupyter.widget-view+json": {
       "model_id": "6797763a611e40b182708dd690ab6fbb",
       "version_major": 2,
       "version_minor": 0
      },
      "text/plain": [
       "  0%|          | 0/2500 [00:00<?, ?it/s]"
      ]
     },
     "metadata": {},
     "output_type": "display_data"
    },
    {
     "name": "stderr",
     "output_type": "stream",
     "text": [
      "Sampling time = 0:00:02.105446\n",
      "Transforming variables...\n",
      "Transformation time = 0:00:16.151731\n"
     ]
    },
    {
     "name": "stdout",
     "output_type": "stream",
     "text": [
      "Model: king99_pareto_modification\n",
      "        Computed from the raw b_i samples by multiplying by population and then getting\n",
      "        the proportion of the total pop (total pop=summed across all districts):\n",
      "        The posterior mean for the district-level voting preference of\n",
      "        $100,000-$125,000 for Henry McMaster (Republican Party) is\n",
      "        0.535\n",
      "        The posterior mean for the district-level voting preference of\n",
      "        non-$100,000-$125,000 for Henry McMaster (Republican Party) is\n",
      "        0.611\n",
      "        95% equal-tailed Bayesian credible interval for district-level voting preference of\n",
      "        $100,000-$125,000 for Henry McMaster (Republican Party) is\n",
      "        [0.19006863 0.86058419]\n",
      "        95% equal-tailed Bayesian credible interval for district-level voting preference of\n",
      "        non-$100,000-$125,000 for Henry McMaster (Republican Party) is\n",
      "        [0.57260788 0.6507593 ]\n",
      "        \n"
     ]
    }
   ],
   "source": [
    "rep_100_125_ei_urban, rep_100_125_summary_urban = run_ecological_inference(\n",
    "    df=sc_economic_merged_ei_urban_df,\n",
    "    demographic_col=\"100K_125K_PERCENT\",\n",
    "    voting_col=\"REPUBLICAN_PERCENT\",\n",
    "    total_votes_col=\"TOT_VOT\",\n",
    "    demographic_group_name=\"$100,000-$125,000\",\n",
    "    candidate_name=sc_candidate_mapping['REPUBLICAN']\n",
    ")"
   ]
  },
  {
   "cell_type": "code",
   "execution_count": 485,
   "metadata": {},
   "outputs": [
    {
     "name": "stderr",
     "output_type": "stream",
     "text": [
      "Compiling...\n",
      "Compilation time = 0:00:01.304516\n",
      "Sampling...\n"
     ]
    },
    {
     "data": {
      "application/vnd.jupyter.widget-view+json": {
       "model_id": "1495d724f0a3495a98664bc0d0f41ff3",
       "version_major": 2,
       "version_minor": 0
      },
      "text/plain": [
       "  0%|          | 0/2500 [00:00<?, ?it/s]"
      ]
     },
     "metadata": {},
     "output_type": "display_data"
    },
    {
     "data": {
      "application/vnd.jupyter.widget-view+json": {
       "model_id": "8a2595526a094c0a8e5cd0d997422d35",
       "version_major": 2,
       "version_minor": 0
      },
      "text/plain": [
       "  0%|          | 0/2500 [00:00<?, ?it/s]"
      ]
     },
     "metadata": {},
     "output_type": "display_data"
    },
    {
     "data": {
      "application/vnd.jupyter.widget-view+json": {
       "model_id": "fc800ba2bffb4d259174cc5ff03ed375",
       "version_major": 2,
       "version_minor": 0
      },
      "text/plain": [
       "  0%|          | 0/2500 [00:00<?, ?it/s]"
      ]
     },
     "metadata": {},
     "output_type": "display_data"
    },
    {
     "data": {
      "application/vnd.jupyter.widget-view+json": {
       "model_id": "285b99b1ef2b4eacbce23c9e5666b508",
       "version_major": 2,
       "version_minor": 0
      },
      "text/plain": [
       "  0%|          | 0/2500 [00:00<?, ?it/s]"
      ]
     },
     "metadata": {},
     "output_type": "display_data"
    },
    {
     "name": "stderr",
     "output_type": "stream",
     "text": [
      "Sampling time = 0:00:01.933144\n",
      "Transforming variables...\n",
      "Transformation time = 0:00:26.079405\n"
     ]
    },
    {
     "name": "stdout",
     "output_type": "stream",
     "text": [
      "Model: king99_pareto_modification\n",
      "        Computed from the raw b_i samples by multiplying by population and then getting\n",
      "        the proportion of the total pop (total pop=summed across all districts):\n",
      "        The posterior mean for the district-level voting preference of\n",
      "        $125,000-$150,000 for Henry McMaster (Republican Party) is\n",
      "        0.661\n",
      "        The posterior mean for the district-level voting preference of\n",
      "        non-$125,000-$150,000 for Henry McMaster (Republican Party) is\n",
      "        0.589\n",
      "        95% equal-tailed Bayesian credible interval for district-level voting preference of\n",
      "        $125,000-$150,000 for Henry McMaster (Republican Party) is\n",
      "        [0.15278792 0.99196282]\n",
      "        95% equal-tailed Bayesian credible interval for district-level voting preference of\n",
      "        non-$125,000-$150,000 for Henry McMaster (Republican Party) is\n",
      "        [0.56516162 0.62569166]\n",
      "        \n"
     ]
    }
   ],
   "source": [
    "rep_125_150_ei, rep_125_150_summary = run_ecological_inference(\n",
    "    df=sc_economic_merged_ei_df,\n",
    "    demographic_col=\"125K_150K_PERCENT\",\n",
    "    voting_col=\"REPUBLICAN_PERCENT\",\n",
    "    total_votes_col=\"TOT_VOT\",\n",
    "    demographic_group_name=\"$125,000-$150,000\",\n",
    "    candidate_name=sc_candidate_mapping['REPUBLICAN']\n",
    ")"
   ]
  },
  {
   "cell_type": "code",
   "execution_count": 486,
   "metadata": {},
   "outputs": [
    {
     "name": "stderr",
     "output_type": "stream",
     "text": [
      "Compiling...\n",
      "Compilation time = 0:00:01.216966\n",
      "Sampling...\n"
     ]
    },
    {
     "data": {
      "application/vnd.jupyter.widget-view+json": {
       "model_id": "7a4044d954cd4c4882ec79f2688b2ad7",
       "version_major": 2,
       "version_minor": 0
      },
      "text/plain": [
       "  0%|          | 0/2500 [00:00<?, ?it/s]"
      ]
     },
     "metadata": {},
     "output_type": "display_data"
    },
    {
     "data": {
      "application/vnd.jupyter.widget-view+json": {
       "model_id": "a719234e6a9f4ed4bb0fcbda433cba2a",
       "version_major": 2,
       "version_minor": 0
      },
      "text/plain": [
       "  0%|          | 0/2500 [00:00<?, ?it/s]"
      ]
     },
     "metadata": {},
     "output_type": "display_data"
    },
    {
     "data": {
      "application/vnd.jupyter.widget-view+json": {
       "model_id": "e761b7151e3b431ea03b504f87321676",
       "version_major": 2,
       "version_minor": 0
      },
      "text/plain": [
       "  0%|          | 0/2500 [00:00<?, ?it/s]"
      ]
     },
     "metadata": {},
     "output_type": "display_data"
    },
    {
     "data": {
      "application/vnd.jupyter.widget-view+json": {
       "model_id": "f51f7032ee2144fa83166073178ae233",
       "version_major": 2,
       "version_minor": 0
      },
      "text/plain": [
       "  0%|          | 0/2500 [00:00<?, ?it/s]"
      ]
     },
     "metadata": {},
     "output_type": "display_data"
    },
    {
     "name": "stderr",
     "output_type": "stream",
     "text": [
      "Sampling time = 0:00:02.909902\n",
      "Transforming variables...\n",
      "Transformation time = 0:00:18.524622\n"
     ]
    },
    {
     "name": "stdout",
     "output_type": "stream",
     "text": [
      "Model: king99_pareto_modification\n",
      "        Computed from the raw b_i samples by multiplying by population and then getting\n",
      "        the proportion of the total pop (total pop=summed across all districts):\n",
      "        The posterior mean for the district-level voting preference of\n",
      "        $125,000-$150,000 for Henry McMaster (Republican Party) is\n",
      "        0.790\n",
      "        The posterior mean for the district-level voting preference of\n",
      "        non-$125,000-$150,000 for Henry McMaster (Republican Party) is\n",
      "        0.573\n",
      "        95% equal-tailed Bayesian credible interval for district-level voting preference of\n",
      "        $125,000-$150,000 for Henry McMaster (Republican Party) is\n",
      "        [0.34346175 0.99747871]\n",
      "        95% equal-tailed Bayesian credible interval for district-level voting preference of\n",
      "        non-$125,000-$150,000 for Henry McMaster (Republican Party) is\n",
      "        [0.56033423 0.59698579]\n",
      "        \n"
     ]
    }
   ],
   "source": [
    "rep_125_150_ei_rural, rep_125_150_summary_rural = run_ecological_inference(\n",
    "    df=sc_economic_merged_ei_rural_df,\n",
    "    demographic_col=\"125K_150K_PERCENT\",\n",
    "    voting_col=\"REPUBLICAN_PERCENT\",\n",
    "    total_votes_col=\"TOT_VOT\",\n",
    "    demographic_group_name=\"$125,000-$150,000\",\n",
    "    candidate_name=sc_candidate_mapping['REPUBLICAN']\n",
    ")"
   ]
  },
  {
   "cell_type": "code",
   "execution_count": 487,
   "metadata": {},
   "outputs": [
    {
     "name": "stderr",
     "output_type": "stream",
     "text": [
      "Compiling...\n",
      "Compilation time = 0:00:01.210202\n",
      "Sampling...\n"
     ]
    },
    {
     "data": {
      "application/vnd.jupyter.widget-view+json": {
       "model_id": "7b65042351244b51a8c87a36a5c01ffd",
       "version_major": 2,
       "version_minor": 0
      },
      "text/plain": [
       "  0%|          | 0/2500 [00:00<?, ?it/s]"
      ]
     },
     "metadata": {},
     "output_type": "display_data"
    },
    {
     "data": {
      "application/vnd.jupyter.widget-view+json": {
       "model_id": "7dbb90f655174599b092ad60e515adb4",
       "version_major": 2,
       "version_minor": 0
      },
      "text/plain": [
       "  0%|          | 0/2500 [00:00<?, ?it/s]"
      ]
     },
     "metadata": {},
     "output_type": "display_data"
    },
    {
     "data": {
      "application/vnd.jupyter.widget-view+json": {
       "model_id": "64aafb553d6448898905ec341e14ef68",
       "version_major": 2,
       "version_minor": 0
      },
      "text/plain": [
       "  0%|          | 0/2500 [00:00<?, ?it/s]"
      ]
     },
     "metadata": {},
     "output_type": "display_data"
    },
    {
     "data": {
      "application/vnd.jupyter.widget-view+json": {
       "model_id": "2f5e7e39e2ca4cd88923e003a92e76d6",
       "version_major": 2,
       "version_minor": 0
      },
      "text/plain": [
       "  0%|          | 0/2500 [00:00<?, ?it/s]"
      ]
     },
     "metadata": {},
     "output_type": "display_data"
    },
    {
     "name": "stderr",
     "output_type": "stream",
     "text": [
      "Sampling time = 0:00:02.076373\n",
      "Transforming variables...\n",
      "Transformation time = 0:00:13.282453\n"
     ]
    },
    {
     "name": "stdout",
     "output_type": "stream",
     "text": [
      "Model: king99_pareto_modification\n",
      "        Computed from the raw b_i samples by multiplying by population and then getting\n",
      "        the proportion of the total pop (total pop=summed across all districts):\n",
      "        The posterior mean for the district-level voting preference of\n",
      "        $125,000-$150,000 for Henry McMaster (Republican Party) is\n",
      "        0.480\n",
      "        The posterior mean for the district-level voting preference of\n",
      "        non-$125,000-$150,000 for Henry McMaster (Republican Party) is\n",
      "        0.589\n",
      "        95% equal-tailed Bayesian credible interval for district-level voting preference of\n",
      "        $125,000-$150,000 for Henry McMaster (Republican Party) is\n",
      "        [0.0569871  0.90092363]\n",
      "        95% equal-tailed Bayesian credible interval for district-level voting preference of\n",
      "        non-$125,000-$150,000 for Henry McMaster (Republican Party) is\n",
      "        [0.56051196 0.61789164]\n",
      "        \n"
     ]
    }
   ],
   "source": [
    "rep_125_150_ei_suburban, rep_125_150_summary_suburban = run_ecological_inference(\n",
    "    df=sc_economic_merged_ei_suburban_df,\n",
    "    demographic_col=\"125K_150K_PERCENT\",\n",
    "    voting_col=\"REPUBLICAN_PERCENT\",\n",
    "    total_votes_col=\"TOT_VOT\",\n",
    "    demographic_group_name=\"$125,000-$150,000\",\n",
    "    candidate_name=sc_candidate_mapping['REPUBLICAN']\n",
    ")"
   ]
  },
  {
   "cell_type": "code",
   "execution_count": 488,
   "metadata": {},
   "outputs": [
    {
     "name": "stderr",
     "output_type": "stream",
     "text": [
      "Compiling...\n",
      "Compilation time = 0:00:01.510477\n",
      "Sampling...\n"
     ]
    },
    {
     "data": {
      "application/vnd.jupyter.widget-view+json": {
       "model_id": "509cf2b840ae446682f4a77c287b0649",
       "version_major": 2,
       "version_minor": 0
      },
      "text/plain": [
       "  0%|          | 0/2500 [00:00<?, ?it/s]"
      ]
     },
     "metadata": {},
     "output_type": "display_data"
    },
    {
     "data": {
      "application/vnd.jupyter.widget-view+json": {
       "model_id": "8505534a4760485c927b3731caa75a8f",
       "version_major": 2,
       "version_minor": 0
      },
      "text/plain": [
       "  0%|          | 0/2500 [00:00<?, ?it/s]"
      ]
     },
     "metadata": {},
     "output_type": "display_data"
    },
    {
     "data": {
      "application/vnd.jupyter.widget-view+json": {
       "model_id": "716a245b14dd448ab716e3b49ca16961",
       "version_major": 2,
       "version_minor": 0
      },
      "text/plain": [
       "  0%|          | 0/2500 [00:00<?, ?it/s]"
      ]
     },
     "metadata": {},
     "output_type": "display_data"
    },
    {
     "data": {
      "application/vnd.jupyter.widget-view+json": {
       "model_id": "04f3a2b9821d4332930db7be9ddc57e2",
       "version_major": 2,
       "version_minor": 0
      },
      "text/plain": [
       "  0%|          | 0/2500 [00:00<?, ?it/s]"
      ]
     },
     "metadata": {},
     "output_type": "display_data"
    },
    {
     "name": "stderr",
     "output_type": "stream",
     "text": [
      "Sampling time = 0:00:02.504819\n",
      "Transforming variables...\n",
      "Transformation time = 0:00:13.952494\n"
     ]
    },
    {
     "name": "stdout",
     "output_type": "stream",
     "text": [
      "Model: king99_pareto_modification\n",
      "        Computed from the raw b_i samples by multiplying by population and then getting\n",
      "        the proportion of the total pop (total pop=summed across all districts):\n",
      "        The posterior mean for the district-level voting preference of\n",
      "        $125,000-$150,000 for Henry McMaster (Republican Party) is\n",
      "        0.696\n",
      "        The posterior mean for the district-level voting preference of\n",
      "        non-$125,000-$150,000 for Henry McMaster (Republican Party) is\n",
      "        0.595\n",
      "        95% equal-tailed Bayesian credible interval for district-level voting preference of\n",
      "        $125,000-$150,000 for Henry McMaster (Republican Party) is\n",
      "        [0.20918501 0.97499186]\n",
      "        95% equal-tailed Bayesian credible interval for district-level voting preference of\n",
      "        non-$125,000-$150,000 for Henry McMaster (Republican Party) is\n",
      "        [0.57050067 0.63785784]\n",
      "        \n"
     ]
    }
   ],
   "source": [
    "rep_125_150_ei_urban, rep_125_150_summary_urban = run_ecological_inference(\n",
    "    df=sc_economic_merged_ei_urban_df,\n",
    "    demographic_col=\"125K_150K_PERCENT\",\n",
    "    voting_col=\"REPUBLICAN_PERCENT\",\n",
    "    total_votes_col=\"TOT_VOT\",\n",
    "    demographic_group_name=\"$125,000-$150,000\",\n",
    "    candidate_name=sc_candidate_mapping['REPUBLICAN']\n",
    ")"
   ]
  },
  {
   "cell_type": "code",
   "execution_count": 489,
   "metadata": {},
   "outputs": [
    {
     "name": "stderr",
     "output_type": "stream",
     "text": [
      "Compiling...\n",
      "Compilation time = 0:00:01.224950\n",
      "Sampling...\n"
     ]
    },
    {
     "data": {
      "application/vnd.jupyter.widget-view+json": {
       "model_id": "72b9090aa51f40b583b8326f4d4a1ae3",
       "version_major": 2,
       "version_minor": 0
      },
      "text/plain": [
       "  0%|          | 0/2500 [00:00<?, ?it/s]"
      ]
     },
     "metadata": {},
     "output_type": "display_data"
    },
    {
     "data": {
      "application/vnd.jupyter.widget-view+json": {
       "model_id": "85d590bff6ef45d284154a303403b749",
       "version_major": 2,
       "version_minor": 0
      },
      "text/plain": [
       "  0%|          | 0/2500 [00:00<?, ?it/s]"
      ]
     },
     "metadata": {},
     "output_type": "display_data"
    },
    {
     "data": {
      "application/vnd.jupyter.widget-view+json": {
       "model_id": "7e55491e623b4483a6b59448bd3884f6",
       "version_major": 2,
       "version_minor": 0
      },
      "text/plain": [
       "  0%|          | 0/2500 [00:00<?, ?it/s]"
      ]
     },
     "metadata": {},
     "output_type": "display_data"
    },
    {
     "data": {
      "application/vnd.jupyter.widget-view+json": {
       "model_id": "8237ea247b3b4d7c858cbc8edfbd1c4d",
       "version_major": 2,
       "version_minor": 0
      },
      "text/plain": [
       "  0%|          | 0/2500 [00:00<?, ?it/s]"
      ]
     },
     "metadata": {},
     "output_type": "display_data"
    },
    {
     "name": "stderr",
     "output_type": "stream",
     "text": [
      "Sampling time = 0:00:02.103539\n",
      "Transforming variables...\n",
      "Transformation time = 0:00:20.765005\n"
     ]
    },
    {
     "name": "stdout",
     "output_type": "stream",
     "text": [
      "Model: king99_pareto_modification\n",
      "        Computed from the raw b_i samples by multiplying by population and then getting\n",
      "        the proportion of the total pop (total pop=summed across all districts):\n",
      "        The posterior mean for the district-level voting preference of\n",
      "        $150,000+ for Henry McMaster (Republican Party) is\n",
      "        0.599\n",
      "        The posterior mean for the district-level voting preference of\n",
      "        non-$150,000+ for Henry McMaster (Republican Party) is\n",
      "        0.592\n",
      "        95% equal-tailed Bayesian credible interval for district-level voting preference of\n",
      "        $150,000+ for Henry McMaster (Republican Party) is\n",
      "        [0.34896055 0.8164076 ]\n",
      "        95% equal-tailed Bayesian credible interval for district-level voting preference of\n",
      "        non-$150,000+ for Henry McMaster (Republican Party) is\n",
      "        [0.54466122 0.64485087]\n",
      "        \n"
     ]
    }
   ],
   "source": [
    "rep_150_more_ei, rep_150_more_summary = run_ecological_inference(\n",
    "    df=sc_economic_merged_ei_df,\n",
    "    demographic_col=\"150K_MORE_PERCENT\",\n",
    "    voting_col=\"REPUBLICAN_PERCENT\",\n",
    "    total_votes_col=\"TOT_VOT\",\n",
    "    demographic_group_name=\"$150,000+\",\n",
    "    candidate_name=sc_candidate_mapping['REPUBLICAN']\n",
    ")"
   ]
  },
  {
   "cell_type": "code",
   "execution_count": 490,
   "metadata": {},
   "outputs": [
    {
     "name": "stderr",
     "output_type": "stream",
     "text": [
      "Compiling...\n",
      "Compilation time = 0:00:01.227090\n",
      "Sampling...\n"
     ]
    },
    {
     "data": {
      "application/vnd.jupyter.widget-view+json": {
       "model_id": "0ec01daa332f4b03bd9e5cf6b30e941e",
       "version_major": 2,
       "version_minor": 0
      },
      "text/plain": [
       "  0%|          | 0/2500 [00:00<?, ?it/s]"
      ]
     },
     "metadata": {},
     "output_type": "display_data"
    },
    {
     "data": {
      "application/vnd.jupyter.widget-view+json": {
       "model_id": "3932b9ff07764420b83fc0aeb846bedc",
       "version_major": 2,
       "version_minor": 0
      },
      "text/plain": [
       "  0%|          | 0/2500 [00:00<?, ?it/s]"
      ]
     },
     "metadata": {},
     "output_type": "display_data"
    },
    {
     "data": {
      "application/vnd.jupyter.widget-view+json": {
       "model_id": "c485aa93b3104a44b1e4f2b44dbe5d5b",
       "version_major": 2,
       "version_minor": 0
      },
      "text/plain": [
       "  0%|          | 0/2500 [00:00<?, ?it/s]"
      ]
     },
     "metadata": {},
     "output_type": "display_data"
    },
    {
     "data": {
      "application/vnd.jupyter.widget-view+json": {
       "model_id": "b172743029274cdf84ebcd49aa44a709",
       "version_major": 2,
       "version_minor": 0
      },
      "text/plain": [
       "  0%|          | 0/2500 [00:00<?, ?it/s]"
      ]
     },
     "metadata": {},
     "output_type": "display_data"
    },
    {
     "name": "stderr",
     "output_type": "stream",
     "text": [
      "Sampling time = 0:00:02.038253\n",
      "Transforming variables...\n",
      "Transformation time = 0:00:13.786222\n"
     ]
    },
    {
     "name": "stdout",
     "output_type": "stream",
     "text": [
      "Model: king99_pareto_modification\n",
      "        Computed from the raw b_i samples by multiplying by population and then getting\n",
      "        the proportion of the total pop (total pop=summed across all districts):\n",
      "        The posterior mean for the district-level voting preference of\n",
      "        $150,000+ for Henry McMaster (Republican Party) is\n",
      "        0.624\n",
      "        The posterior mean for the district-level voting preference of\n",
      "        non-$150,000+ for Henry McMaster (Republican Party) is\n",
      "        0.576\n",
      "        95% equal-tailed Bayesian credible interval for district-level voting preference of\n",
      "        $150,000+ for Henry McMaster (Republican Party) is\n",
      "        [0.35079299 0.86159867]\n",
      "        95% equal-tailed Bayesian credible interval for district-level voting preference of\n",
      "        non-$150,000+ for Henry McMaster (Republican Party) is\n",
      "        [0.54170277 0.61523252]\n",
      "        \n"
     ]
    }
   ],
   "source": [
    "rep_150_more_ei_rural, rep_150_more_summary_rural = run_ecological_inference(\n",
    "    df=sc_economic_merged_ei_rural_df,\n",
    "    demographic_col=\"150K_MORE_PERCENT\",\n",
    "    voting_col=\"REPUBLICAN_PERCENT\",\n",
    "    total_votes_col=\"TOT_VOT\",\n",
    "    demographic_group_name=\"$150,000+\",\n",
    "    candidate_name=sc_candidate_mapping['REPUBLICAN']\n",
    ")"
   ]
  },
  {
   "cell_type": "code",
   "execution_count": 491,
   "metadata": {},
   "outputs": [
    {
     "name": "stderr",
     "output_type": "stream",
     "text": [
      "Compiling...\n",
      "Compilation time = 0:00:01.305701\n",
      "Sampling...\n"
     ]
    },
    {
     "data": {
      "application/vnd.jupyter.widget-view+json": {
       "model_id": "acd46615c2714614b817aee9714fb916",
       "version_major": 2,
       "version_minor": 0
      },
      "text/plain": [
       "  0%|          | 0/2500 [00:00<?, ?it/s]"
      ]
     },
     "metadata": {},
     "output_type": "display_data"
    },
    {
     "data": {
      "application/vnd.jupyter.widget-view+json": {
       "model_id": "645a16f74ced478ab6aba6ce624dde1c",
       "version_major": 2,
       "version_minor": 0
      },
      "text/plain": [
       "  0%|          | 0/2500 [00:00<?, ?it/s]"
      ]
     },
     "metadata": {},
     "output_type": "display_data"
    },
    {
     "data": {
      "application/vnd.jupyter.widget-view+json": {
       "model_id": "80ab085c98f9416eb2932c3f9ce4bf9d",
       "version_major": 2,
       "version_minor": 0
      },
      "text/plain": [
       "  0%|          | 0/2500 [00:00<?, ?it/s]"
      ]
     },
     "metadata": {},
     "output_type": "display_data"
    },
    {
     "data": {
      "application/vnd.jupyter.widget-view+json": {
       "model_id": "f6684c0489cc477a9526e0ceb5962b38",
       "version_major": 2,
       "version_minor": 0
      },
      "text/plain": [
       "  0%|          | 0/2500 [00:00<?, ?it/s]"
      ]
     },
     "metadata": {},
     "output_type": "display_data"
    },
    {
     "name": "stderr",
     "output_type": "stream",
     "text": [
      "Sampling time = 0:00:02.221325\n",
      "Transforming variables...\n",
      "Transformation time = 0:00:19.191992\n"
     ]
    },
    {
     "name": "stdout",
     "output_type": "stream",
     "text": [
      "Model: king99_pareto_modification\n",
      "        Computed from the raw b_i samples by multiplying by population and then getting\n",
      "        the proportion of the total pop (total pop=summed across all districts):\n",
      "        The posterior mean for the district-level voting preference of\n",
      "        $150,000+ for Henry McMaster (Republican Party) is\n",
      "        0.633\n",
      "        The posterior mean for the district-level voting preference of\n",
      "        non-$150,000+ for Henry McMaster (Republican Party) is\n",
      "        0.572\n",
      "        95% equal-tailed Bayesian credible interval for district-level voting preference of\n",
      "        $150,000+ for Henry McMaster (Republican Party) is\n",
      "        [0.38068887 0.86104045]\n",
      "        95% equal-tailed Bayesian credible interval for district-level voting preference of\n",
      "        non-$150,000+ for Henry McMaster (Republican Party) is\n",
      "        [0.51747825 0.62931558]\n",
      "        \n"
     ]
    }
   ],
   "source": [
    "rep_150_more_ei_suburban, rep_150_more_summary_suburban = run_ecological_inference(\n",
    "    df=sc_economic_merged_ei_suburban_df,\n",
    "    demographic_col=\"150K_MORE_PERCENT\",\n",
    "    voting_col=\"REPUBLICAN_PERCENT\",\n",
    "    total_votes_col=\"TOT_VOT\",\n",
    "    demographic_group_name=\"$150,000+\",\n",
    "    candidate_name=sc_candidate_mapping['REPUBLICAN']\n",
    ")"
   ]
  },
  {
   "cell_type": "code",
   "execution_count": 492,
   "metadata": {},
   "outputs": [
    {
     "name": "stderr",
     "output_type": "stream",
     "text": [
      "Compiling...\n",
      "Compilation time = 0:00:01.229522\n",
      "Sampling...\n"
     ]
    },
    {
     "data": {
      "application/vnd.jupyter.widget-view+json": {
       "model_id": "34fe511b2dd340d3b7424550dc99d76c",
       "version_major": 2,
       "version_minor": 0
      },
      "text/plain": [
       "  0%|          | 0/2500 [00:00<?, ?it/s]"
      ]
     },
     "metadata": {},
     "output_type": "display_data"
    },
    {
     "data": {
      "application/vnd.jupyter.widget-view+json": {
       "model_id": "73c5067ccd1142cf860843b1e9374efe",
       "version_major": 2,
       "version_minor": 0
      },
      "text/plain": [
       "  0%|          | 0/2500 [00:00<?, ?it/s]"
      ]
     },
     "metadata": {},
     "output_type": "display_data"
    },
    {
     "data": {
      "application/vnd.jupyter.widget-view+json": {
       "model_id": "662666683fc04b839c78a1fa0f9f50b9",
       "version_major": 2,
       "version_minor": 0
      },
      "text/plain": [
       "  0%|          | 0/2500 [00:00<?, ?it/s]"
      ]
     },
     "metadata": {},
     "output_type": "display_data"
    },
    {
     "data": {
      "application/vnd.jupyter.widget-view+json": {
       "model_id": "b1396cd099294852ab4d59e0d82c3e32",
       "version_major": 2,
       "version_minor": 0
      },
      "text/plain": [
       "  0%|          | 0/2500 [00:00<?, ?it/s]"
      ]
     },
     "metadata": {},
     "output_type": "display_data"
    },
    {
     "name": "stderr",
     "output_type": "stream",
     "text": [
      "Sampling time = 0:00:02.065381\n",
      "Transforming variables...\n",
      "Transformation time = 0:00:19.153436\n"
     ]
    },
    {
     "name": "stdout",
     "output_type": "stream",
     "text": [
      "Model: king99_pareto_modification\n",
      "        Computed from the raw b_i samples by multiplying by population and then getting\n",
      "        the proportion of the total pop (total pop=summed across all districts):\n",
      "        The posterior mean for the district-level voting preference of\n",
      "        $150,000+ for Henry McMaster (Republican Party) is\n",
      "        0.500\n",
      "        The posterior mean for the district-level voting preference of\n",
      "        non-$150,000+ for Henry McMaster (Republican Party) is\n",
      "        0.627\n",
      "        95% equal-tailed Bayesian credible interval for district-level voting preference of\n",
      "        $150,000+ for Henry McMaster (Republican Party) is\n",
      "        [0.29369446 0.75891424]\n",
      "        95% equal-tailed Bayesian credible interval for district-level voting preference of\n",
      "        non-$150,000+ for Henry McMaster (Republican Party) is\n",
      "        [0.56193703 0.67930063]\n",
      "        \n"
     ]
    }
   ],
   "source": [
    "rep_150_more_ei_urban, rep_150_more_summary_urban = run_ecological_inference(\n",
    "    df=sc_economic_merged_ei_urban_df,\n",
    "    demographic_col=\"150K_MORE_PERCENT\",\n",
    "    voting_col=\"REPUBLICAN_PERCENT\",\n",
    "    total_votes_col=\"TOT_VOT\",\n",
    "    demographic_group_name=\"$150,000+\",\n",
    "    candidate_name=sc_candidate_mapping['REPUBLICAN']\n",
    ")"
   ]
  },
  {
   "cell_type": "markdown",
   "metadata": {},
   "source": [
    "### Ploting"
   ]
  },
  {
   "cell_type": "code",
   "execution_count": 363,
   "metadata": {},
   "outputs": [
    {
     "data": {
      "text/plain": [
       "<Axes: title={'center': 'Support for Henry McMaster'}>"
      ]
     },
     "execution_count": 363,
     "metadata": {},
     "output_type": "execute_result"
    },
    {
     "data": {
      "image/png": "[encoded data removed]",
      "text/plain": [
       "<Figure size 1000x500 with 1 Axes>"
      ]
     },
     "metadata": {},
     "output_type": "display_data"
    }
   ],
   "source": [
    "rep_150_more_ei_rural.plot_kde()\n",
    "\n",
    "# Plot the ecological inference results\n",
    "\n"
   ]
  },
  {
   "cell_type": "code",
   "execution_count": 86,
   "metadata": {},
   "outputs": [
    {
     "name": "stdout",
     "output_type": "stream",
     "text": [
      "<pyei.two_by_two.TwoByTwoEI object at 0x37b847890>\n"
     ]
    }
   ],
   "source": [
    "print(rep_white_ei)\n",
    "\n"
   ]
  },
  {
   "cell_type": "code",
   "execution_count": 372,
   "metadata": {},
   "outputs": [],
   "source": [
    "import json\n",
    "\n",
    "def extract_ei_data(ei_object):\n",
    "    sampled_voting_prefs = ei_object.sampled_voting_prefs  # Numpy array or array-like\n",
    "    group_names = ei_object.group_names_for_display()         # List of strings\n",
    "    candidate_name = ei_object.candidate_name              # string\n",
    "\n",
    "    output_data = {\n",
    "        \"data\" : {\n",
    "            \"sampled_voting_prefs\": sampled_voting_prefs,\n",
    "        },\n",
    "        \"group_names\": group_names,\n",
    "        \"candidate_names\": candidate_name\n",
    "    }\n",
    "    return output_data\n"
   ]
  },
  {
   "cell_type": "code",
   "execution_count": 495,
   "metadata": {},
   "outputs": [],
   "source": [
    "rep_white_ei_output_data = extract_ei_data(rep_white_ei)\n",
    "\n",
    "rep_white_ei_rural_output_data = extract_ei_data(rep_white_ei_rural)\n",
    "rep_white_ei_suburban_output_data = extract_ei_data(rep_white_ei_suburban)\n",
    "rep_white_ei_urban_output_data = extract_ei_data(rep_white_ei_urban)\n",
    "\n",
    "rep_black_ei_output_data = extract_ei_data(rep_black_ei)\n",
    "rep_black_ei_output_data_rural = extract_ei_data(rep_black_ei_rural)\n",
    "rep_black_ei_output_data_suburban = extract_ei_data(rep_black_ei_suburban)\n",
    "rep_black_ei_output_data_urban = extract_ei_data(rep_black_ei_urban)\n",
    "\n",
    "rep_asian_ei_output_data = extract_ei_data(rep_asian_ei)\n",
    "rep_asian_ei_output_data_rural = extract_ei_data(rep_asian_ei_rural)\n",
    "rep_asian_ei_output_data_suburban = extract_ei_data(rep_asian_ei_suburban)\n",
    "rep_asian_ei_output_data_urban = extract_ei_data(rep_asian_ei_urban)\n",
    "\n",
    "rep_hispanic_ei_output_data = extract_ei_data(rep_hispanic_ei)\n",
    "rep_hispanic_ei_output_data_rural = extract_ei_data(rep_hispanic_ei_rural)\n",
    "rep_hispanic_ei_output_data_suburban = extract_ei_data(rep_hispanic_ei_suburban)\n",
    "rep_hispanic_ei_output_data_urban = extract_ei_data(rep_hispanic_ei_urban)\n",
    "\n",
    "dem_white_ei_output_data = extract_ei_data(dem_white_ei)\n",
    "dem_white_ei_output_data_rural = extract_ei_data(dem_white_ei_rural)\n",
    "dem_white_ei_output_data_suburban = extract_ei_data(dem_white_ei_subrban)\n",
    "dem_white_ei_output_data_urban = extract_ei_data(dem_white_ei_urban)\n",
    "\n",
    "dem_black_ei_output_data = extract_ei_data(dem_black_ei)\n",
    "dem_black_ei_output_data_rural = extract_ei_data(dem_black_ei_rural)\n",
    "dem_black_ei_output_data_suburban = extract_ei_data(dem_black_ei_suburban)\n",
    "dem_black_ei_output_data_urban = extract_ei_data(dem_black_ei_urban)\n",
    "\n",
    "dem_asian_ei_output_data = extract_ei_data(dem_asian_ei)\n",
    "dem_asian_ei_output_data_rural = extract_ei_data(dem_asian_ei_rural)\n",
    "dem_asian_ei_output_data_suburban = extract_ei_data(dem_asian_ei_suburban)\n",
    "dem_asian_ei_output_data_urban = extract_ei_data(dem_asian_ei_urban)\n",
    "\n",
    "\n",
    "dem_hispanic_ei_output_data = extract_ei_data(dem_hispanic_ei)\n",
    "dem_hispanic_ei_output_data_rural = extract_ei_data(dem_hispanic_ei_rural)\n",
    "dem_hispanic_ei_output_data_suburban = extract_ei_data(dem_hispanic_ei_suburban)\n",
    "dem_hispanic_ei_output_data_urban = extract_ei_data(dem_hispanic_ei_urban)\n",
    "\n",
    "\n",
    "dem_0_35_ei_output_data = extract_ei_data(dem_0_35_ei)\n",
    "dem_0_35_ei_rural_output_data = extract_ei_data(dem_0_35_ei_rural)\n",
    "dem_0_35_ei_suburban_output_data = extract_ei_data(dem_0_35_ei_suburban)\n",
    "dem_0_35_ei_urban_output_data = extract_ei_data(dem_0_35_ei_urban)\n",
    "\n",
    "dem_35_60_ei_output_data = extract_ei_data(dem_35_60_ei)\n",
    "dem_35_60_ei_rural_output_data = extract_ei_data(dem_35_60_ei_rural)\n",
    "dem_35_60_ei_suburban_output_data = extract_ei_data(dem_35_60_ei_suburban)\n",
    "dem_35_60_ei_urban_output_data = extract_ei_data(dem_35_60_ei_urban)\n",
    "\n",
    "\n",
    "dem_60_100_ei_output_data = extract_ei_data(dem_60_100_ei)\n",
    "\n",
    "dem_60_100_ei_rural_output_data = extract_ei_data(dem_60_100_ei_rural)\n",
    "\n",
    "dem_60_100_ei_suburban_output_data = extract_ei_data(dem_60_100_ei_suburban)\n",
    "\n",
    "dem_60_100_ei_urban_output_data = extract_ei_data(dem_60_100_ei_urban)\n",
    "\n",
    "\n",
    "dem_100_125_ei_output_data = extract_ei_data(dem_100_125_ei)\n",
    "\n",
    "dem_100_125_ei_rural_output_data = extract_ei_data(dem_100_125_ei_rural)\n",
    "\n",
    "dem_100_125_ei_suburban_output_data = extract_ei_data(dem_100_125_ei_suburban)\n",
    "\n",
    "dem_100_125_ei_urban_output_data = extract_ei_data(dem_100_125_ei_urban)\n",
    "\n",
    "dem_125_150_ei_output_data = extract_ei_data(dem_125_150_ei)\n",
    "\n",
    "dem_125_150_ei_rural_output_data = extract_ei_data(dem_125_150_ei_rural)\n",
    "\n",
    "dem_125_150_ei_suburban_output_data = extract_ei_data(dem_125_150_ei_suburban)\n",
    "\n",
    "dem_125_150_ei_urban_output_data = extract_ei_data(dem_125_150_ei_urban)\n",
    "\n",
    "dem_150_more_ei_output_data = extract_ei_data(dem_150_more_ei)\n",
    "\n",
    "dem_150_more_ei_rural_output_data = extract_ei_data(dem_150_more_ei_rural)\n",
    "\n",
    "dem_150_more_ei_suburban_output_data = extract_ei_data(dem_150_more_ei_suburban)\n",
    "\n",
    "dem_150_more_ei_urban_output_data = extract_ei_data(dem_150_more_ei_urban)\n",
    "\n",
    "rep_0_35_ei_output_data = extract_ei_data(rep_0_35_ei)\n",
    "\n",
    "rep_0_35_ei_rural_output_data = extract_ei_data(rep_0_35_ei_rural)\n",
    "\n",
    "rep_0_35_ei_suburban_output_data = extract_ei_data(rep_0_35_ei_suburban)\n",
    "\n",
    "rep_0_35_ei_urban_output_data = extract_ei_data(rep_0_35_ei_urban)\n",
    "\n",
    "rep_35_60_ei_output_data = extract_ei_data(rep_35_60_ei)\n",
    "\n",
    "rep_35_60_ei_rural_output_data = extract_ei_data(rep_35_60_ei_rural)\n",
    "\n",
    "rep_35_60_ei_suburban_output_data = extract_ei_data(rep_35_60_ei_suburban)\n",
    "\n",
    "rep_35_60_ei_urban_output_data = extract_ei_data(rep_35_60_ei_urban)\n",
    "\n",
    "rep_60_100_ei_output_data = extract_ei_data(rep_60_100_ei)\n",
    "\n",
    "rep_60_100_ei_rural_output_data = extract_ei_data(rep_60_100_ei_rural)\n",
    "\n",
    "rep_60_100_ei_suburban_output_data = extract_ei_data(rep_60_100_ei_suburban)\n",
    "\n",
    "rep_60_100_ei_urban_output_data = extract_ei_data(rep_60_100_ei_urban)\n",
    "\n",
    "rep_100_125_ei_output_data = extract_ei_data(rep_100_125_ei)\n",
    "\n",
    "rep_100_125_ei_rural_output_data = extract_ei_data(rep_100_125_ei_rural)\n",
    "\n",
    "rep_100_125_ei_suburban_output_data = extract_ei_data(rep_100_125_ei_suburban)\n",
    "\n",
    "rep_100_125_ei_urban_output_data = extract_ei_data(rep_100_125_ei_urban)\n",
    "\n",
    "rep_125_150_ei_output_data = extract_ei_data(rep_125_150_ei)\n",
    "\n",
    "rep_125_150_ei_rural_output_data = extract_ei_data(rep_125_150_ei_rural)\n",
    "\n",
    "rep_125_150_ei_suburban_output_data = extract_ei_data(rep_125_150_ei_suburban)\n",
    "\n",
    "rep_125_150_ei_urban_output_data = extract_ei_data(rep_125_150_ei_urban)\n",
    "\n",
    "rep_150_more_ei_output_data = extract_ei_data(rep_150_more_ei)\n",
    "\n",
    "rep_150_more_ei_rural_output_data = extract_ei_data(rep_150_more_ei_rural)\n",
    "\n",
    "rep_150_more_ei_suburban_output_data = extract_ei_data(rep_150_more_ei_suburban)\n",
    "\n",
    "rep_150_more_ei_urban_output_data = extract_ei_data(rep_150_more_ei_urban)\n"
   ]
  },
  {
   "cell_type": "code",
   "execution_count": 496,
   "metadata": {},
   "outputs": [],
   "source": [
    "sc_output_json_racial = {\n",
    "    \"NAME\": \"South Carolina\",\n",
    "    \"data\": {\n",
    "        \"WHITE\": {\n",
    "            \"REPUBLICAN\": {\n",
    "                \"ALL\": rep_white_ei_output_data,\n",
    "                \"RURAL\": rep_white_ei_rural_output_data,\n",
    "                \"SUBURBAN\": rep_white_ei_suburban_output_data,\n",
    "                \"URBAN\": rep_white_ei_urban_output_data\n",
    "            },\n",
    "            \"DEMOCRATIC\": {\n",
    "                \"ALL\": dem_white_ei_output_data,\n",
    "                \"RURAL\": dem_white_ei_output_data_rural,\n",
    "                \"SUBURBAN\": dem_white_ei_output_data_suburban,\n",
    "                \"URBAN\": dem_white_ei_output_data_urban\n",
    "            }\n",
    "        },\n",
    "        \"BLACK\": {\n",
    "            \"REPUBLICAN\": {\n",
    "                \"ALL\": rep_black_ei_output_data,\n",
    "                \"RURAL\": rep_black_ei_output_data_rural,\n",
    "                \"SUBURBAN\": rep_black_ei_output_data_suburban,\n",
    "                \"URBAN\": rep_black_ei_output_data_urban\n",
    "            },\n",
    "            \"DEMOCRATIC\": {\n",
    "                \"ALL\": dem_black_ei_output_data,\n",
    "                \"RURAL\": dem_black_ei_output_data_rural,\n",
    "                \"SUBURBAN\": dem_black_ei_output_data_suburban,\n",
    "                \"URBAN\": dem_black_ei_output_data_urban\n",
    "            }\n",
    "        },\n",
    "        \"ASIAN\": {\n",
    "            \"REPUBLICAN\": {\n",
    "                \"ALL\": rep_asian_ei_output_data,\n",
    "                \"RURAL\": rep_asian_ei_output_data_rural,\n",
    "                \"SUBURBAN\": rep_asian_ei_output_data_suburban,\n",
    "                \"URBAN\": rep_asian_ei_output_data_urban\n",
    "            },\n",
    "            \"DEMOCRATIC\": {\n",
    "                \"ALL\": dem_asian_ei_output_data,\n",
    "                \"RURAL\": dem_asian_ei_output_data_rural,\n",
    "                \"SUBURBAN\": dem_asian_ei_output_data_suburban,\n",
    "                \"URBAN\": dem_asian_ei_output_data_urban\n",
    "            }\n",
    "        },\n",
    "        \"HISPANIC\": {\n",
    "            \"REPUBLICAN\": {\n",
    "                \"ALL\": rep_hispanic_ei_output_data,\n",
    "                \"RURAL\": rep_hispanic_ei_output_data_rural,\n",
    "                \"SUBURBAN\": rep_hispanic_ei_output_data_suburban,\n",
    "                \"URBAN\": rep_hispanic_ei_output_data_urban\n",
    "            },\n",
    "            \"DEMOCRATIC\": {\n",
    "                \"ALL\": dem_hispanic_ei_output_data,\n",
    "                \"RURAL\": dem_hispanic_ei_output_data_rural,\n",
    "                \"SUBURBAN\": dem_hispanic_ei_output_data_suburban,\n",
    "                \"URBAN\": dem_hispanic_ei_output_data_urban\n",
    "            }\n",
    "        }\n",
    "    }\n",
    "}"
   ]
  },
  {
   "cell_type": "code",
   "execution_count": 497,
   "metadata": {},
   "outputs": [],
   "source": [
    "sc_output_json_economic = {\n",
    "    \"NAME\": \"South Carolina\",\n",
    "    \"data\": {\n",
    "        \"0_35K\": {\n",
    "            \"REPUBLICAN\": {\n",
    "                \"ALL\": rep_0_35_ei_output_data,\n",
    "                \"RURAL\": rep_0_35_ei_rural_output_data,\n",
    "                \"SUBURBAN\": rep_0_35_ei_suburban_output_data,\n",
    "                \"URBAN\": rep_0_35_ei_urban_output_data\n",
    "            },\n",
    "            \"DEMOCRATIC\": {\n",
    "                \"ALL\": dem_0_35_ei_output_data,\n",
    "                \"RURAL\": dem_0_35_ei_rural_output_data,\n",
    "                \"SUBURBAN\": dem_0_35_ei_suburban_output_data,\n",
    "                \"URBAN\": dem_0_35_ei_urban_output_data\n",
    "            }\n",
    "        },\n",
    "        \"35K_60K\": {\n",
    "            \"REPUBLICAN\": {\n",
    "                \"ALL\": rep_35_60_ei_output_data,\n",
    "                \"RURAL\": rep_35_60_ei_rural_output_data,\n",
    "                \"SUBURBAN\": rep_35_60_ei_suburban_output_data,\n",
    "                \"URBAN\": rep_35_60_ei_urban_output_data\n",
    "            },\n",
    "            \"DEMOCRATIC\": {\n",
    "                \"ALL\": dem_35_60_ei_output_data,\n",
    "                \"RURAL\": dem_35_60_ei_rural_output_data,\n",
    "                \"SUBURBAN\": dem_35_60_ei_suburban_output_data,\n",
    "                \"URBAN\": dem_35_60_ei_urban_output_data\n",
    "            }\n",
    "        },\n",
    "        \"60K_100K\": {\n",
    "            \"REPUBLICAN\": {\n",
    "                \"ALL\": rep_60_100_ei_output_data,\n",
    "                \"RURAL\": rep_60_100_ei_rural_output_data,\n",
    "                \"SUBURBAN\": rep_60_100_ei_suburban_output_data,\n",
    "                \"URBAN\": rep_60_100_ei_urban_output_data\n",
    "            },\n",
    "            \"DEMOCRATIC\": {\n",
    "                \"ALL\": dem_60_100_ei_output_data,\n",
    "                \"RURAL\": dem_60_100_ei_rural_output_data,\n",
    "                \"SUBURBAN\": dem_60_100_ei_suburban_output_data,\n",
    "                \"URBAN\": dem_60_100_ei_urban_output_data\n",
    "            }\n",
    "        },\n",
    "        \"100K_125K\": {\n",
    "            \"REPUBLICAN\": {\n",
    "                \"ALL\": rep_100_125_ei_output_data,\n",
    "                \"RURAL\": rep_100_125_ei_rural_output_data,\n",
    "                \"SUBURBAN\": rep_100_125_ei_suburban_output_data,\n",
    "                \"URBAN\": rep_100_125_ei_urban_output_data\n",
    "            },\n",
    "            \"DEMOCRATIC\": {\n",
    "                \"ALL\": dem_100_125_ei_output_data,\n",
    "                \"RURAL\": dem_100_125_ei_rural_output_data,\n",
    "                \"SUBURBAN\": dem_100_125_ei_suburban_output_data,\n",
    "                \"URBAN\": dem_100_125_ei_urban_output_data\n",
    "            }\n",
    "        },\n",
    "        \"125K_150K\": {\n",
    "            \"REPUBLICAN\": {\n",
    "                \"ALL\": rep_125_150_ei_output_data,\n",
    "                \"RURAL\": rep_125_150_ei_rural_output_data,\n",
    "                \"SUBURBAN\": rep_125_150_ei_suburban_output_data,\n",
    "                \"URBAN\": rep_125_150_ei_urban_output_data\n",
    "            },\n",
    "            \"DEMOCRATIC\": {\n",
    "                \"ALL\": dem_125_150_ei_output_data,\n",
    "                \"RURAL\": dem_125_150_ei_rural_output_data,\n",
    "                \"SUBURBAN\": dem_125_150_ei_suburban_output_data,\n",
    "                \"URBAN\": dem_125_150_ei_urban_output_data\n",
    "            }\n",
    "        },\n",
    "        \"150K_MORE\": {\n",
    "            \"REPUBLICAN\": {\n",
    "                \"ALL\": rep_150_more_ei_output_data,\n",
    "                \"RURAL\": rep_150_more_ei_rural_output_data,\n",
    "                \"SUBURBAN\": rep_150_more_ei_suburban_output_data,\n",
    "                \"URBAN\": rep_150_more_ei_urban_output_data\n",
    "            },\n",
    "            \"DEMOCRATIC\": {\n",
    "                \"ALL\": dem_150_more_ei_output_data,\n",
    "                \"RURAL\": dem_150_more_ei_rural_output_data,\n",
    "                \"SUBURBAN\": dem_150_more_ei_suburban_output_data,\n",
    "                \"URBAN\": dem_150_more_ei_urban_output_data\n",
    "            }\n",
    "        }\n",
    "    }\n",
    "}"
   ]
  },
  {
   "cell_type": "code",
   "execution_count": 498,
   "metadata": {},
   "outputs": [],
   "source": [
    "sc_json_output = json.dumps(sc_output_json_racial , indent=4, cls=json_serialize)\n",
    "with open(\"states/south_carolina/ecological_inference/ecological_inference.json\", \"w\") as f:\n",
    "    f.write(sc_json_output)"
   ]
  },
  {
   "cell_type": "code",
   "execution_count": 499,
   "metadata": {},
   "outputs": [],
   "source": [
    "sc_json_econ_output = json.dumps(sc_output_json_economic , indent=4, cls=json_serialize)\n",
    "with open(\"states/south_carolina/ecological_inference/ecological_inference_economic.json\", \"w\") as f:\n",
    "    f.write(sc_json_econ_output)"
   ]
  },
  {
   "cell_type": "code",
   "execution_count": 222,
   "metadata": {},
   "outputs": [],
   "source": [
    "import json\n",
    "import numpy as np\n",
    "import matplotlib.pyplot as plt\n",
    "import seaborn as sns\n",
    "\n",
    "# If not already defined, ensure any constants or helper functions \n",
    "# (e.g., colors, FIGSIZE, FONTSIZE, TITLESIZE, size_ticks) are defined or imported here.\n",
    "\n",
    "with open(\"processed_individual/pyei_test/rep_white_ei_data.json\", \"r\") as f:\n",
    "    rep_white_data = json.load(f)\n",
    "\n",
    "# Extract data\n",
    "sampled_voting_prefs = np.array(rep_white_data[\"data\"][\"sampled_voting_prefs\"])\n",
    "# sampled_voting_prefs = sampled_voting_prefs[:, :, np.newaxis]\n",
    "group_names = rep_white_data[\"group_names\"]\n",
    "candidate_names = rep_white_data[\"candidate_names\"]\n",
    "\n"
   ]
  },
  {
   "cell_type": "code",
   "execution_count": 223,
   "metadata": {},
   "outputs": [],
   "source": [
    "num_groups = sampled_voting_prefs.shape\n",
    "num_groups = num_groups[0]\n"
   ]
  },
  {
   "cell_type": "code",
   "execution_count": 224,
   "metadata": {},
   "outputs": [
    {
     "name": "stdout",
     "output_type": "stream",
     "text": [
      "Number of groups: 2\n",
      "Number of candidates: <class 'str'>\n"
     ]
    }
   ],
   "source": [
    "print(\"Number of groups:\", len(group_names))\n",
    "print(\"Number of candidates:\", type(candidate_names))\n"
   ]
  },
  {
   "cell_type": "code",
   "execution_count": 227,
   "metadata": {},
   "outputs": [],
   "source": [
    "def plot_kdes_simple(sampled_prefs, group_names, candidate_names):\n",
    "    import matplotlib.pyplot as plt\n",
    "    import seaborn as sns\n",
    "    import numpy as np\n",
    "\n",
    "    # Ensure candidate_names is a list\n",
    "    if isinstance(candidate_names, str):\n",
    "        candidate_names = [candidate_names]\n",
    "\n",
    "    sampled_prefs = np.array(sampled_prefs)\n",
    "    num_groups = sampled_prefs.shape[0]\n",
    "\n",
    "    # Check that group_names matches the data dimension\n",
    "    if len(group_names) != num_groups:\n",
    "        print(\"Warning: The number of group_names does not match the number of groups in sampled_prefs.\")\n",
    "        group_names = group_names[:num_groups]\n",
    "\n",
    "    colors = [\"red\", \"blue\"]\n",
    "    # if len(colors) < num_groups:\n",
    "    #     raise ValueError(\"Not enough colors defined for the number of groups.\")\n",
    "\n",
    "    fig, ax = plt.subplots(figsize=(8, 4))\n",
    "\n",
    "    for i in range(num_groups):\n",
    "        sns.histplot(\n",
    "            sampled_prefs[i, :],\n",
    "            kde=True,\n",
    "            stat=\"density\",\n",
    "            element=\"step\",\n",
    "            ax=ax,\n",
    "            label=group_names[i],\n",
    "            color=colors[i]\n",
    "        )\n",
    "\n",
    "    ax.set_title(f\"Support for {candidate_names[0]}\", fontsize=14)\n",
    "    ax.set_xlabel(\"Preference\")\n",
    "    ax.set_ylabel(\"Density\")\n",
    "    ax.set_xlim((0, 1))\n",
    "    ax.legend()\n",
    "\n",
    "    plt.tight_layout()\n",
    "    plt.show()\n",
    "    return ax\n"
   ]
  },
  {
   "cell_type": "code",
   "execution_count": 228,
   "metadata": {},
   "outputs": [
    {
     "data": {
      "image/png": "[encoded data removed]",
      "text/plain": [
       "<Figure size 800x400 with 1 Axes>"
      ]
     },
     "metadata": {},
     "output_type": "display_data"
    },
    {
     "data": {
      "text/plain": [
       "<Axes: title={'center': 'Support for Henry McMaster'}, xlabel='Preference', ylabel='Density'>"
      ]
     },
     "execution_count": 228,
     "metadata": {},
     "output_type": "execute_result"
    }
   ],
   "source": [
    "# Now re-plot using the previously defined plot_kdes function\n",
    "plot_kdes_simple(sampled_voting_prefs, group_names, candidate_names)"
   ]
  },
  {
   "cell_type": "markdown",
   "metadata": {},
   "source": [
    "### Export data"
   ]
  },
  {
   "cell_type": "markdown",
   "metadata": {},
   "source": [
    "## Maryland"
   ]
  },
  {
   "cell_type": "code",
   "execution_count": 501,
   "metadata": {},
   "outputs": [],
   "source": [
    "md_election_gov_df = pd.read_json('states/maryland/election/md_election_gov_22.json')\n",
    "md_race_df = pd.read_json('states/maryland/demographics/maryland_precincts_racial_population.json')\n",
    "md_economic_df = pd.read_json('states/maryland/economic/maryland_precincts_household_income.json')\n",
    "md_region_type_df = pd.read_json('states/maryland/geodata/maryland_precincts_region_type.json')"
   ]
  },
  {
   "cell_type": "code",
   "execution_count": 502,
   "metadata": {},
   "outputs": [],
   "source": [
    "md_candidate_mapping = {\n",
    "    \"DEMOCRATIC\": \"Wes Moore (Democratic Party)\",\n",
    "    \"REPUBLICAN\": \"Dan Cox (Republican Party)\"\n",
    "}"
   ]
  },
  {
   "cell_type": "markdown",
   "metadata": {},
   "source": [
    "### Preprocess data"
   ]
  },
  {
   "cell_type": "markdown",
   "metadata": {},
   "source": [
    "#### Racial Group"
   ]
  },
  {
   "cell_type": "code",
   "execution_count": 503,
   "metadata": {},
   "outputs": [],
   "source": [
    "columns_to_keep = ['UNIQUE_ID', 'TOT_POP22']"
   ]
  },
  {
   "cell_type": "code",
   "execution_count": 504,
   "metadata": {},
   "outputs": [],
   "source": [
    "md_race_with_percentages = calculate_population_distribution(md_race_df, race_columns, columns_to_keep)"
   ]
  },
  {
   "cell_type": "code",
   "execution_count": 505,
   "metadata": {},
   "outputs": [],
   "source": [
    "columns_to_keep = ['UNIQUE_ID', 'TOT_VOT']"
   ]
  },
  {
   "cell_type": "code",
   "execution_count": 506,
   "metadata": {},
   "outputs": [],
   "source": [
    "md_election_gov_with_percentages = calculate_voting_distribution(md_election_gov_df, election_columns, columns_to_keep)"
   ]
  },
  {
   "cell_type": "code",
   "execution_count": 507,
   "metadata": {},
   "outputs": [],
   "source": [
    "md_race_merged_ei_df = pd.merge(md_election_gov_with_percentages, md_race_with_percentages, on='UNIQUE_ID', how='left')"
   ]
  },
  {
   "cell_type": "code",
   "execution_count": 508,
   "metadata": {},
   "outputs": [],
   "source": [
    "md_race_merged_ei_df.fillna(0, inplace=True)"
   ]
  },
  {
   "cell_type": "code",
   "execution_count": 509,
   "metadata": {},
   "outputs": [],
   "source": [
    "md_race_merged_ei_df = md_race_merged_ei_df.drop(columns=['TOT_POP22'])\n",
    "md_region_type_df = md_region_type_df.drop(columns=['TOT_POP22'])"
   ]
  },
  {
   "cell_type": "code",
   "execution_count": 510,
   "metadata": {},
   "outputs": [],
   "source": [
    "md_race_merged_ei_df = pd.merge(md_race_merged_ei_df, md_region_type_df, on='UNIQUE_ID', how='left')"
   ]
  },
  {
   "cell_type": "code",
   "execution_count": 511,
   "metadata": {},
   "outputs": [],
   "source": [
    "md_race_merged_ei_rural_df = md_race_merged_ei_df[md_race_merged_ei_df['region_type'] == 'rural']\n",
    "\n",
    "md_race_merged_ei_suburban_df = md_race_merged_ei_df[md_race_merged_ei_df['region_type'] == 'suburban']\n",
    "\n",
    "md_race_merged_ei_urban_df = md_race_merged_ei_df[md_race_merged_ei_df['region_type'] == 'urban']"
   ]
  },
  {
   "cell_type": "code",
   "execution_count": 512,
   "metadata": {},
   "outputs": [],
   "source": [
    "md_race_merged_ei_df = md_race_merged_ei_df[md_race_merged_ei_df['TOT_VOT']>0]\n",
    "\n",
    "md_race_merged_ei_rural_df = md_race_merged_ei_rural_df[md_race_merged_ei_rural_df['TOT_VOT']>0]\n",
    "\n",
    "md_race_merged_ei_suburban_df = md_race_merged_ei_suburban_df[md_race_merged_ei_suburban_df['TOT_VOT']>0]\n",
    "\n",
    "md_race_merged_ei_urban_df = md_race_merged_ei_urban_df[md_race_merged_ei_urban_df['TOT_VOT']>0]"
   ]
  },
  {
   "cell_type": "code",
   "execution_count": 513,
   "metadata": {},
   "outputs": [],
   "source": [
    "md_race_merged_ei_df = md_race_merged_ei_df.sample(n=100, random_state=42)\n",
    "\n",
    "md_race_merged_ei_rural_df = md_race_merged_ei_rural_df.sample(n=100, random_state=42)\n",
    "\n",
    "md_race_merged_ei_suburban_df = md_race_merged_ei_suburban_df.sample(n=100, random_state=42)\n",
    "\n",
    "md_race_merged_ei_urban_df = md_race_merged_ei_urban_df.sample(n=100, random_state=42)"
   ]
  },
  {
   "cell_type": "markdown",
   "metadata": {},
   "source": [
    "#### Economic Group"
   ]
  },
  {
   "cell_type": "code",
   "execution_count": 514,
   "metadata": {},
   "outputs": [],
   "source": [
    "columns_to_keep = ['UNIQUE_ID']"
   ]
  },
  {
   "cell_type": "code",
   "execution_count": 515,
   "metadata": {},
   "outputs": [],
   "source": [
    "md_economic_with_percentages = calculate_income_distribution(md_economic_df, income_columns, columns_to_keep)"
   ]
  },
  {
   "cell_type": "code",
   "execution_count": 516,
   "metadata": {},
   "outputs": [],
   "source": [
    "md_economic_merged_ei_df = pd.merge(md_election_gov_with_percentages, md_economic_with_percentages, on='UNIQUE_ID', how='left')"
   ]
  },
  {
   "cell_type": "code",
   "execution_count": 517,
   "metadata": {},
   "outputs": [],
   "source": [
    "md_economic_merged_ei_df.fillna(0, inplace=True)"
   ]
  },
  {
   "cell_type": "code",
   "execution_count": 518,
   "metadata": {},
   "outputs": [],
   "source": [
    "md_economic_merged_ei_df = pd.merge(md_economic_merged_ei_df, md_region_type_df, on='UNIQUE_ID', how='left')"
   ]
  },
  {
   "cell_type": "code",
   "execution_count": 519,
   "metadata": {},
   "outputs": [],
   "source": [
    "md_economic_merged_ei_rural_df = md_economic_merged_ei_df[md_economic_merged_ei_df['region_type'] == 'rural']\n",
    "\n",
    "md_economic_merged_ei_suburban_df = md_economic_merged_ei_df[md_economic_merged_ei_df['region_type'] == 'suburban']\n",
    "\n",
    "md_economic_merged_ei_urban_df = md_economic_merged_ei_df[md_economic_merged_ei_df['region_type'] == 'urban']"
   ]
  },
  {
   "cell_type": "code",
   "execution_count": 520,
   "metadata": {},
   "outputs": [],
   "source": [
    "md__merged_ei_df = md_economic_merged_ei_df[md_economic_merged_ei_df['TOT_VOT']>0]\n",
    "\n",
    "md_economic_merged_ei_rural_df = md_economic_merged_ei_rural_df[md_economic_merged_ei_rural_df['TOT_VOT']>0]\n",
    "\n",
    "md_economic_merged_ei_suburban_df = md_economic_merged_ei_suburban_df[md_economic_merged_ei_suburban_df['TOT_VOT']>0]\n",
    "\n",
    "md_economic_merged_ei_urban_df = md_economic_merged_ei_urban_df[md_economic_merged_ei_urban_df['TOT_VOT']>0]"
   ]
  },
  {
   "cell_type": "code",
   "execution_count": 521,
   "metadata": {},
   "outputs": [],
   "source": [
    "md_economic_merged_ei_df = md_economic_merged_ei_df.sample(n=100, random_state=42)\n",
    "\n",
    "md_economic_merged_ei_rural_df = md_economic_merged_ei_rural_df.sample(n=100, random_state=42)\n",
    "\n",
    "md_economic_merged_ei_suburban_df = md_economic_merged_ei_suburban_df.sample(n=100, random_state=42)\n",
    "\n",
    "md_economic_merged_ei_urban_df = md_economic_merged_ei_urban_df.sample(n=100, random_state=42)"
   ]
  },
  {
   "cell_type": "markdown",
   "metadata": {},
   "source": [
    "### Running EI models"
   ]
  },
  {
   "cell_type": "markdown",
   "metadata": {},
   "source": [
    "#### Racial Run"
   ]
  },
  {
   "cell_type": "markdown",
   "metadata": {},
   "source": [
    "##### DEMOCRATIC Run"
   ]
  },
  {
   "cell_type": "code",
   "execution_count": 522,
   "metadata": {},
   "outputs": [
    {
     "name": "stderr",
     "output_type": "stream",
     "text": [
      "Compiling...\n",
      "Compilation time = 0:00:03.504361\n",
      "Sampling...\n"
     ]
    },
    {
     "data": {
      "application/vnd.jupyter.widget-view+json": {
       "model_id": "139bc7f0b5ef47a7b0a0e2412182fafe",
       "version_major": 2,
       "version_minor": 0
      },
      "text/plain": [
       "  0%|          | 0/2500 [00:00<?, ?it/s]"
      ]
     },
     "metadata": {},
     "output_type": "display_data"
    },
    {
     "data": {
      "application/vnd.jupyter.widget-view+json": {
       "model_id": "d5fda3e9d1a64ef0834d8073787a75db",
       "version_major": 2,
       "version_minor": 0
      },
      "text/plain": [
       "  0%|          | 0/2500 [00:00<?, ?it/s]"
      ]
     },
     "metadata": {},
     "output_type": "display_data"
    },
    {
     "data": {
      "application/vnd.jupyter.widget-view+json": {
       "model_id": "4024b2cec7254d9f9fae9783eaa885d8",
       "version_major": 2,
       "version_minor": 0
      },
      "text/plain": [
       "  0%|          | 0/2500 [00:00<?, ?it/s]"
      ]
     },
     "metadata": {},
     "output_type": "display_data"
    },
    {
     "data": {
      "application/vnd.jupyter.widget-view+json": {
       "model_id": "a0995b92a8814e158a71caa461e2bd08",
       "version_major": 2,
       "version_minor": 0
      },
      "text/plain": [
       "  0%|          | 0/2500 [00:00<?, ?it/s]"
      ]
     },
     "metadata": {},
     "output_type": "display_data"
    },
    {
     "name": "stderr",
     "output_type": "stream",
     "text": [
      "Sampling time = 0:00:03.363844\n",
      "Transforming variables...\n",
      "Transformation time = 0:00:29.565087\n"
     ]
    },
    {
     "name": "stdout",
     "output_type": "stream",
     "text": [
      "Model: king99_pareto_modification\n",
      "        Computed from the raw b_i samples by multiplying by population and then getting\n",
      "        the proportion of the total pop (total pop=summed across all districts):\n",
      "        The posterior mean for the district-level voting preference of\n",
      "        White for Wes Moore (Democratic Party) is\n",
      "        0.577\n",
      "        The posterior mean for the district-level voting preference of\n",
      "        non-White for Wes Moore (Democratic Party) is\n",
      "        0.860\n",
      "        95% equal-tailed Bayesian credible interval for district-level voting preference of\n",
      "        White for Wes Moore (Democratic Party) is\n",
      "        [0.53852622 0.61716294]\n",
      "        95% equal-tailed Bayesian credible interval for district-level voting preference of\n",
      "        non-White for Wes Moore (Democratic Party) is\n",
      "        [0.80744494 0.90527361]\n",
      "        \n"
     ]
    }
   ],
   "source": [
    "md_dem_white_ei, md_dem_white_summary = run_ecological_inference(\n",
    "    df=md_race_merged_ei_df,\n",
    "    demographic_col=\"WHITE_PERCENT\",\n",
    "    voting_col=\"DEMOCRATIC_PERCENT\",\n",
    "    total_votes_col=\"TOT_VOT\",\n",
    "    demographic_group_name=\"White\",\n",
    "    candidate_name=md_candidate_mapping['DEMOCRATIC']\n",
    ")"
   ]
  },
  {
   "cell_type": "code",
   "execution_count": 523,
   "metadata": {},
   "outputs": [
    {
     "name": "stderr",
     "output_type": "stream",
     "text": [
      "Compiling...\n",
      "Compilation time = 0:00:02.905026\n",
      "Sampling...\n"
     ]
    },
    {
     "data": {
      "application/vnd.jupyter.widget-view+json": {
       "model_id": "4d1722fb6f184954afaf2e1831ac2732",
       "version_major": 2,
       "version_minor": 0
      },
      "text/plain": [
       "  0%|          | 0/2500 [00:00<?, ?it/s]"
      ]
     },
     "metadata": {},
     "output_type": "display_data"
    },
    {
     "data": {
      "application/vnd.jupyter.widget-view+json": {
       "model_id": "c9c2fccfbe584704ba547aeb94a53bee",
       "version_major": 2,
       "version_minor": 0
      },
      "text/plain": [
       "  0%|          | 0/2500 [00:00<?, ?it/s]"
      ]
     },
     "metadata": {},
     "output_type": "display_data"
    },
    {
     "data": {
      "application/vnd.jupyter.widget-view+json": {
       "model_id": "a892ffd59f3342b68d608240a250b5e9",
       "version_major": 2,
       "version_minor": 0
      },
      "text/plain": [
       "  0%|          | 0/2500 [00:00<?, ?it/s]"
      ]
     },
     "metadata": {},
     "output_type": "display_data"
    },
    {
     "data": {
      "application/vnd.jupyter.widget-view+json": {
       "model_id": "0cf44f089e4a4081b2095fa7c4d27ce0",
       "version_major": 2,
       "version_minor": 0
      },
      "text/plain": [
       "  0%|          | 0/2500 [00:00<?, ?it/s]"
      ]
     },
     "metadata": {},
     "output_type": "display_data"
    },
    {
     "name": "stderr",
     "output_type": "stream",
     "text": [
      "Sampling time = 0:00:02.453957\n",
      "Transforming variables...\n",
      "Transformation time = 0:00:16.170225\n"
     ]
    },
    {
     "name": "stdout",
     "output_type": "stream",
     "text": [
      "Model: king99_pareto_modification\n",
      "        Computed from the raw b_i samples by multiplying by population and then getting\n",
      "        the proportion of the total pop (total pop=summed across all districts):\n",
      "        The posterior mean for the district-level voting preference of\n",
      "        White for Wes Moore (Democratic Party) is\n",
      "        0.537\n",
      "        The posterior mean for the district-level voting preference of\n",
      "        non-White for Wes Moore (Democratic Party) is\n",
      "        0.846\n",
      "        95% equal-tailed Bayesian credible interval for district-level voting preference of\n",
      "        White for Wes Moore (Democratic Party) is\n",
      "        [0.49951781 0.57381741]\n",
      "        95% equal-tailed Bayesian credible interval for district-level voting preference of\n",
      "        non-White for Wes Moore (Democratic Party) is\n",
      "        [0.79837251 0.88571898]\n",
      "        \n"
     ]
    }
   ],
   "source": [
    "md_dem_white_ei_rural, md_dem_white_summary_rural = run_ecological_inference(\n",
    "    df=md_race_merged_ei_rural_df,\n",
    "    demographic_col=\"WHITE_PERCENT\",\n",
    "    voting_col=\"DEMOCRATIC_PERCENT\",\n",
    "    total_votes_col=\"TOT_VOT\",\n",
    "    demographic_group_name=\"White\",\n",
    "    candidate_name=md_candidate_mapping['DEMOCRATIC']\n",
    ")"
   ]
  },
  {
   "cell_type": "code",
   "execution_count": 524,
   "metadata": {},
   "outputs": [
    {
     "name": "stderr",
     "output_type": "stream",
     "text": [
      "Compiling...\n",
      "Compilation time = 0:00:01.315620\n",
      "Sampling...\n"
     ]
    },
    {
     "data": {
      "application/vnd.jupyter.widget-view+json": {
       "model_id": "464d0e0bd0ed40e8a6dedb54a5460a22",
       "version_major": 2,
       "version_minor": 0
      },
      "text/plain": [
       "  0%|          | 0/2500 [00:00<?, ?it/s]"
      ]
     },
     "metadata": {},
     "output_type": "display_data"
    },
    {
     "data": {
      "application/vnd.jupyter.widget-view+json": {
       "model_id": "502d6676754340c28f9abcc706412cef",
       "version_major": 2,
       "version_minor": 0
      },
      "text/plain": [
       "  0%|          | 0/2500 [00:00<?, ?it/s]"
      ]
     },
     "metadata": {},
     "output_type": "display_data"
    },
    {
     "data": {
      "application/vnd.jupyter.widget-view+json": {
       "model_id": "3377233046b548969304444b5dc931e7",
       "version_major": 2,
       "version_minor": 0
      },
      "text/plain": [
       "  0%|          | 0/2500 [00:00<?, ?it/s]"
      ]
     },
     "metadata": {},
     "output_type": "display_data"
    },
    {
     "data": {
      "application/vnd.jupyter.widget-view+json": {
       "model_id": "d9410c43bc234649bb09777af47fba63",
       "version_major": 2,
       "version_minor": 0
      },
      "text/plain": [
       "  0%|          | 0/2500 [00:00<?, ?it/s]"
      ]
     },
     "metadata": {},
     "output_type": "display_data"
    },
    {
     "name": "stderr",
     "output_type": "stream",
     "text": [
      "Sampling time = 0:00:02.470483\n",
      "Transforming variables...\n",
      "Transformation time = 0:00:44.332134\n"
     ]
    },
    {
     "name": "stdout",
     "output_type": "stream",
     "text": [
      "Model: king99_pareto_modification\n",
      "        Computed from the raw b_i samples by multiplying by population and then getting\n",
      "        the proportion of the total pop (total pop=summed across all districts):\n",
      "        The posterior mean for the district-level voting preference of\n",
      "        White for Wes Moore (Democratic Party) is\n",
      "        0.510\n",
      "        The posterior mean for the district-level voting preference of\n",
      "        non-White for Wes Moore (Democratic Party) is\n",
      "        0.955\n",
      "        95% equal-tailed Bayesian credible interval for district-level voting preference of\n",
      "        White for Wes Moore (Democratic Party) is\n",
      "        [0.49361638 0.53232986]\n",
      "        95% equal-tailed Bayesian credible interval for district-level voting preference of\n",
      "        non-White for Wes Moore (Democratic Party) is\n",
      "        [0.90907052 0.98416509]\n",
      "        \n"
     ]
    }
   ],
   "source": [
    "md_dem_white_ei_subrban, md_dem_white_summary_suburban = run_ecological_inference(\n",
    "    df=md_race_merged_ei_suburban_df,\n",
    "    demographic_col=\"WHITE_PERCENT\",\n",
    "    voting_col=\"DEMOCRATIC_PERCENT\",\n",
    "    total_votes_col=\"TOT_VOT\",\n",
    "    demographic_group_name=\"White\",\n",
    "    candidate_name=md_candidate_mapping['DEMOCRATIC']\n",
    ")"
   ]
  },
  {
   "cell_type": "code",
   "execution_count": 525,
   "metadata": {},
   "outputs": [
    {
     "name": "stderr",
     "output_type": "stream",
     "text": [
      "Compiling...\n",
      "Compilation time = 0:00:06.307946\n",
      "Sampling...\n"
     ]
    },
    {
     "data": {
      "application/vnd.jupyter.widget-view+json": {
       "model_id": "f91ff0d3a52a46d5aa9344d64d5b99d7",
       "version_major": 2,
       "version_minor": 0
      },
      "text/plain": [
       "  0%|          | 0/2500 [00:00<?, ?it/s]"
      ]
     },
     "metadata": {},
     "output_type": "display_data"
    },
    {
     "data": {
      "application/vnd.jupyter.widget-view+json": {
       "model_id": "ddfe528cd41f4e16b5e492fd72362a99",
       "version_major": 2,
       "version_minor": 0
      },
      "text/plain": [
       "  0%|          | 0/2500 [00:00<?, ?it/s]"
      ]
     },
     "metadata": {},
     "output_type": "display_data"
    },
    {
     "data": {
      "application/vnd.jupyter.widget-view+json": {
       "model_id": "aecbfb5e003045a083c725429c3842ae",
       "version_major": 2,
       "version_minor": 0
      },
      "text/plain": [
       "  0%|          | 0/2500 [00:00<?, ?it/s]"
      ]
     },
     "metadata": {},
     "output_type": "display_data"
    },
    {
     "data": {
      "application/vnd.jupyter.widget-view+json": {
       "model_id": "7df718323ead4eb593ca2f50923ed49d",
       "version_major": 2,
       "version_minor": 0
      },
      "text/plain": [
       "  0%|          | 0/2500 [00:00<?, ?it/s]"
      ]
     },
     "metadata": {},
     "output_type": "display_data"
    },
    {
     "name": "stderr",
     "output_type": "stream",
     "text": [
      "Sampling time = 0:00:02.203758\n",
      "Transforming variables...\n",
      "Transformation time = 0:00:40.931836\n"
     ]
    },
    {
     "name": "stdout",
     "output_type": "stream",
     "text": [
      "Model: king99_pareto_modification\n",
      "        Computed from the raw b_i samples by multiplying by population and then getting\n",
      "        the proportion of the total pop (total pop=summed across all districts):\n",
      "        The posterior mean for the district-level voting preference of\n",
      "        White for Wes Moore (Democratic Party) is\n",
      "        0.469\n",
      "        The posterior mean for the district-level voting preference of\n",
      "        non-White for Wes Moore (Democratic Party) is\n",
      "        0.957\n",
      "        95% equal-tailed Bayesian credible interval for district-level voting preference of\n",
      "        White for Wes Moore (Democratic Party) is\n",
      "        [0.43897194 0.50240938]\n",
      "        95% equal-tailed Bayesian credible interval for district-level voting preference of\n",
      "        non-White for Wes Moore (Democratic Party) is\n",
      "        [0.93223608 0.97583089]\n",
      "        \n"
     ]
    }
   ],
   "source": [
    "md_dem_white_ei_urban, md_dem_white_summary_urban = run_ecological_inference(\n",
    "    df=md_race_merged_ei_urban_df,\n",
    "    demographic_col=\"WHITE_PERCENT\",\n",
    "    voting_col=\"DEMOCRATIC_PERCENT\",\n",
    "    total_votes_col=\"TOT_VOT\",\n",
    "    demographic_group_name=\"White\",\n",
    "    candidate_name=md_candidate_mapping['DEMOCRATIC']\n",
    ")"
   ]
  },
  {
   "cell_type": "code",
   "execution_count": 526,
   "metadata": {},
   "outputs": [
    {
     "name": "stderr",
     "output_type": "stream",
     "text": [
      "Compiling...\n",
      "Compilation time = 0:00:01.523514\n",
      "Sampling...\n"
     ]
    },
    {
     "data": {
      "application/vnd.jupyter.widget-view+json": {
       "model_id": "f994f2b643d947b5a42b06691a2a14fb",
       "version_major": 2,
       "version_minor": 0
      },
      "text/plain": [
       "  0%|          | 0/2500 [00:00<?, ?it/s]"
      ]
     },
     "metadata": {},
     "output_type": "display_data"
    },
    {
     "data": {
      "application/vnd.jupyter.widget-view+json": {
       "model_id": "38ce2b0c81da4e05be03a417c535a4f3",
       "version_major": 2,
       "version_minor": 0
      },
      "text/plain": [
       "  0%|          | 0/2500 [00:00<?, ?it/s]"
      ]
     },
     "metadata": {},
     "output_type": "display_data"
    },
    {
     "data": {
      "application/vnd.jupyter.widget-view+json": {
       "model_id": "f29bb0d99ed845c1ae2d6fb362739b5e",
       "version_major": 2,
       "version_minor": 0
      },
      "text/plain": [
       "  0%|          | 0/2500 [00:00<?, ?it/s]"
      ]
     },
     "metadata": {},
     "output_type": "display_data"
    },
    {
     "data": {
      "application/vnd.jupyter.widget-view+json": {
       "model_id": "07f244170502467ca440709bd7ae3a03",
       "version_major": 2,
       "version_minor": 0
      },
      "text/plain": [
       "  0%|          | 0/2500 [00:00<?, ?it/s]"
      ]
     },
     "metadata": {},
     "output_type": "display_data"
    },
    {
     "name": "stderr",
     "output_type": "stream",
     "text": [
      "Sampling time = 0:00:02.456666\n",
      "Transforming variables...\n",
      "Transformation time = 0:00:32.651424\n"
     ]
    },
    {
     "name": "stdout",
     "output_type": "stream",
     "text": [
      "Model: king99_pareto_modification\n",
      "        Computed from the raw b_i samples by multiplying by population and then getting\n",
      "        the proportion of the total pop (total pop=summed across all districts):\n",
      "        The posterior mean for the district-level voting preference of\n",
      "        Black for Wes Moore (Democratic Party) is\n",
      "        0.962\n",
      "        The posterior mean for the district-level voting preference of\n",
      "        non-Black for Wes Moore (Democratic Party) is\n",
      "        0.628\n",
      "        95% equal-tailed Bayesian credible interval for district-level voting preference of\n",
      "        Black for Wes Moore (Democratic Party) is\n",
      "        [0.91656875 0.99044277]\n",
      "        95% equal-tailed Bayesian credible interval for district-level voting preference of\n",
      "        non-Black for Wes Moore (Democratic Party) is\n",
      "        [0.61746936 0.64064843]\n",
      "        \n"
     ]
    }
   ],
   "source": [
    "md_dem_black_ei, md_dem_black_summary = run_ecological_inference(\n",
    "    df=md_race_merged_ei_df,\n",
    "    demographic_col=\"BLACK_PERCENT\",\n",
    "    voting_col=\"DEMOCRATIC_PERCENT\",\n",
    "    total_votes_col=\"TOT_VOT\",\n",
    "    demographic_group_name=\"Black\",\n",
    "    candidate_name=md_candidate_mapping['DEMOCRATIC']\n",
    ")"
   ]
  },
  {
   "cell_type": "code",
   "execution_count": 527,
   "metadata": {},
   "outputs": [
    {
     "name": "stderr",
     "output_type": "stream",
     "text": [
      "Compiling...\n",
      "Compilation time = 0:00:01.300995\n",
      "Sampling...\n"
     ]
    },
    {
     "data": {
      "application/vnd.jupyter.widget-view+json": {
       "model_id": "e8bd79a12c874e799f43bd53eba0d77a",
       "version_major": 2,
       "version_minor": 0
      },
      "text/plain": [
       "  0%|          | 0/2500 [00:00<?, ?it/s]"
      ]
     },
     "metadata": {},
     "output_type": "display_data"
    },
    {
     "data": {
      "application/vnd.jupyter.widget-view+json": {
       "model_id": "8ee2aab7af714d519c4067b4c8c51002",
       "version_major": 2,
       "version_minor": 0
      },
      "text/plain": [
       "  0%|          | 0/2500 [00:00<?, ?it/s]"
      ]
     },
     "metadata": {},
     "output_type": "display_data"
    },
    {
     "data": {
      "application/vnd.jupyter.widget-view+json": {
       "model_id": "bcf60756db6c4872af6b330eb85e2ae5",
       "version_major": 2,
       "version_minor": 0
      },
      "text/plain": [
       "  0%|          | 0/2500 [00:00<?, ?it/s]"
      ]
     },
     "metadata": {},
     "output_type": "display_data"
    },
    {
     "data": {
      "application/vnd.jupyter.widget-view+json": {
       "model_id": "41fedc94c6804c809b99f57df5b549ca",
       "version_major": 2,
       "version_minor": 0
      },
      "text/plain": [
       "  0%|          | 0/2500 [00:00<?, ?it/s]"
      ]
     },
     "metadata": {},
     "output_type": "display_data"
    },
    {
     "name": "stderr",
     "output_type": "stream",
     "text": [
      "Sampling time = 0:00:02.017034\n",
      "Transforming variables...\n",
      "Transformation time = 0:00:16.042481\n"
     ]
    },
    {
     "name": "stdout",
     "output_type": "stream",
     "text": [
      "Model: king99_pareto_modification\n",
      "        Computed from the raw b_i samples by multiplying by population and then getting\n",
      "        the proportion of the total pop (total pop=summed across all districts):\n",
      "        The posterior mean for the district-level voting preference of\n",
      "        Black for Wes Moore (Democratic Party) is\n",
      "        0.947\n",
      "        The posterior mean for the district-level voting preference of\n",
      "        non-Black for Wes Moore (Democratic Party) is\n",
      "        0.620\n",
      "        95% equal-tailed Bayesian credible interval for district-level voting preference of\n",
      "        Black for Wes Moore (Democratic Party) is\n",
      "        [0.8939008  0.97648774]\n",
      "        95% equal-tailed Bayesian credible interval for district-level voting preference of\n",
      "        non-Black for Wes Moore (Democratic Party) is\n",
      "        [0.60840408 0.63442742]\n",
      "        \n"
     ]
    }
   ],
   "source": [
    "md_dem_black_ei_rural, md_dem_black_summary_rural = run_ecological_inference(\n",
    "    df=md_race_merged_ei_rural_df,\n",
    "    demographic_col=\"BLACK_PERCENT\",\n",
    "    voting_col=\"DEMOCRATIC_PERCENT\",\n",
    "    total_votes_col=\"TOT_VOT\",\n",
    "    demographic_group_name=\"Black\",\n",
    "    candidate_name=md_candidate_mapping['DEMOCRATIC']\n",
    ")"
   ]
  },
  {
   "cell_type": "code",
   "execution_count": 602,
   "metadata": {},
   "outputs": [
    {
     "name": "stderr",
     "output_type": "stream",
     "text": [
      "Compiling...\n",
      "Compilation time = 0:00:01.459708\n",
      "Sampling...\n"
     ]
    },
    {
     "data": {
      "application/vnd.jupyter.widget-view+json": {
       "model_id": "0e18ca7532b74d92b2c4e586f6023c72",
       "version_major": 2,
       "version_minor": 0
      },
      "text/plain": [
       "  0%|          | 0/2500 [00:00<?, ?it/s]"
      ]
     },
     "metadata": {},
     "output_type": "display_data"
    },
    {
     "data": {
      "application/vnd.jupyter.widget-view+json": {
       "model_id": "2790035c2b3a47f49011b2f78d5e177d",
       "version_major": 2,
       "version_minor": 0
      },
      "text/plain": [
       "  0%|          | 0/2500 [00:00<?, ?it/s]"
      ]
     },
     "metadata": {},
     "output_type": "display_data"
    },
    {
     "data": {
      "application/vnd.jupyter.widget-view+json": {
       "model_id": "ee40527f2e2d41bab9e147a69dc5b650",
       "version_major": 2,
       "version_minor": 0
      },
      "text/plain": [
       "  0%|          | 0/2500 [00:00<?, ?it/s]"
      ]
     },
     "metadata": {},
     "output_type": "display_data"
    },
    {
     "data": {
      "application/vnd.jupyter.widget-view+json": {
       "model_id": "674fa94f094a4b5bb2ed308f0742d9da",
       "version_major": 2,
       "version_minor": 0
      },
      "text/plain": [
       "  0%|          | 0/2500 [00:00<?, ?it/s]"
      ]
     },
     "metadata": {},
     "output_type": "display_data"
    },
    {
     "name": "stderr",
     "output_type": "stream",
     "text": [
      "Sampling time = 0:00:02.557858\n",
      "Transforming variables...\n",
      "Transformation time = 0:00:52.940994\n"
     ]
    },
    {
     "name": "stdout",
     "output_type": "stream",
     "text": [
      "Model: king99_pareto_modification\n",
      "        Computed from the raw b_i samples by multiplying by population and then getting\n",
      "        the proportion of the total pop (total pop=summed across all districts):\n",
      "        The posterior mean for the district-level voting preference of\n",
      "        Black for Wes Moore (Democratic Party) is\n",
      "        0.984\n",
      "        The posterior mean for the district-level voting preference of\n",
      "        non-Black for Wes Moore (Democratic Party) is\n",
      "        0.585\n",
      "        95% equal-tailed Bayesian credible interval for district-level voting preference of\n",
      "        Black for Wes Moore (Democratic Party) is\n",
      "        [0.94880359 0.99894976]\n",
      "        95% equal-tailed Bayesian credible interval for district-level voting preference of\n",
      "        non-Black for Wes Moore (Democratic Party) is\n",
      "        [0.57899045 0.59351425]\n",
      "        \n"
     ]
    }
   ],
   "source": [
    "md_dem_black_ei_suburban, md_dem_black_summary_suburban = run_ecological_inference(\n",
    "    df=md_race_merged_ei_suburban_df,\n",
    "    demographic_col=\"BLACK_PERCENT\",\n",
    "    voting_col=\"DEMOCRATIC_PERCENT\",\n",
    "    total_votes_col=\"TOT_VOT\",\n",
    "    demographic_group_name=\"Black\",\n",
    "    candidate_name=md_candidate_mapping['DEMOCRATIC']\n",
    ")"
   ]
  },
  {
   "cell_type": "code",
   "execution_count": 529,
   "metadata": {},
   "outputs": [
    {
     "name": "stderr",
     "output_type": "stream",
     "text": [
      "Compiling...\n",
      "Compilation time = 0:00:01.528156\n",
      "Sampling...\n"
     ]
    },
    {
     "data": {
      "application/vnd.jupyter.widget-view+json": {
       "model_id": "2e6b4f9ced9242b790c8a361736372dd",
       "version_major": 2,
       "version_minor": 0
      },
      "text/plain": [
       "  0%|          | 0/2500 [00:00<?, ?it/s]"
      ]
     },
     "metadata": {},
     "output_type": "display_data"
    },
    {
     "data": {
      "application/vnd.jupyter.widget-view+json": {
       "model_id": "20bd1e657dce4e74a885095880842124",
       "version_major": 2,
       "version_minor": 0
      },
      "text/plain": [
       "  0%|          | 0/2500 [00:00<?, ?it/s]"
      ]
     },
     "metadata": {},
     "output_type": "display_data"
    },
    {
     "data": {
      "application/vnd.jupyter.widget-view+json": {
       "model_id": "1f6da0c1c7af4677ac15e9a59efa985e",
       "version_major": 2,
       "version_minor": 0
      },
      "text/plain": [
       "  0%|          | 0/2500 [00:00<?, ?it/s]"
      ]
     },
     "metadata": {},
     "output_type": "display_data"
    },
    {
     "data": {
      "application/vnd.jupyter.widget-view+json": {
       "model_id": "25ea3cead1414d3eb3e5d70a4ebf8dc6",
       "version_major": 2,
       "version_minor": 0
      },
      "text/plain": [
       "  0%|          | 0/2500 [00:00<?, ?it/s]"
      ]
     },
     "metadata": {},
     "output_type": "display_data"
    },
    {
     "name": "stderr",
     "output_type": "stream",
     "text": [
      "Sampling time = 0:00:02.107581\n",
      "Transforming variables...\n",
      "Transformation time = 0:01:00.090991\n"
     ]
    },
    {
     "name": "stdout",
     "output_type": "stream",
     "text": [
      "Model: king99_pareto_modification\n",
      "        Computed from the raw b_i samples by multiplying by population and then getting\n",
      "        the proportion of the total pop (total pop=summed across all districts):\n",
      "        The posterior mean for the district-level voting preference of\n",
      "        Black for Wes Moore (Democratic Party) is\n",
      "        0.984\n",
      "        The posterior mean for the district-level voting preference of\n",
      "        non-Black for Wes Moore (Democratic Party) is\n",
      "        0.622\n",
      "        95% equal-tailed Bayesian credible interval for district-level voting preference of\n",
      "        Black for Wes Moore (Democratic Party) is\n",
      "        [0.95921311 0.9976493 ]\n",
      "        95% equal-tailed Bayesian credible interval for district-level voting preference of\n",
      "        non-Black for Wes Moore (Democratic Party) is\n",
      "        [0.61284355 0.63572651]\n",
      "        \n"
     ]
    }
   ],
   "source": [
    "md_dem_black_ei_urban, md_dem_black_summary_urban = run_ecological_inference(\n",
    "    df=md_race_merged_ei_urban_df,\n",
    "    demographic_col=\"BLACK_PERCENT\",\n",
    "    voting_col=\"DEMOCRATIC_PERCENT\",\n",
    "    total_votes_col=\"TOT_VOT\",\n",
    "    demographic_group_name=\"Black\",\n",
    "    candidate_name=md_candidate_mapping['DEMOCRATIC']\n",
    ")"
   ]
  },
  {
   "cell_type": "code",
   "execution_count": 530,
   "metadata": {},
   "outputs": [
    {
     "name": "stderr",
     "output_type": "stream",
     "text": [
      "Compiling...\n",
      "Compilation time = 0:00:01.330453\n",
      "Sampling...\n"
     ]
    },
    {
     "data": {
      "application/vnd.jupyter.widget-view+json": {
       "model_id": "fbc872eabb794e81b8d6af201b837238",
       "version_major": 2,
       "version_minor": 0
      },
      "text/plain": [
       "  0%|          | 0/2500 [00:00<?, ?it/s]"
      ]
     },
     "metadata": {},
     "output_type": "display_data"
    },
    {
     "data": {
      "application/vnd.jupyter.widget-view+json": {
       "model_id": "f35e40c3d17f4c3b8069f21f6b4fb790",
       "version_major": 2,
       "version_minor": 0
      },
      "text/plain": [
       "  0%|          | 0/2500 [00:00<?, ?it/s]"
      ]
     },
     "metadata": {},
     "output_type": "display_data"
    },
    {
     "data": {
      "application/vnd.jupyter.widget-view+json": {
       "model_id": "b56772e4cad3429d93bb8a75ea4bcacc",
       "version_major": 2,
       "version_minor": 0
      },
      "text/plain": [
       "  0%|          | 0/2500 [00:00<?, ?it/s]"
      ]
     },
     "metadata": {},
     "output_type": "display_data"
    },
    {
     "data": {
      "application/vnd.jupyter.widget-view+json": {
       "model_id": "63861fe4544f4411ad9759d13d9f97f8",
       "version_major": 2,
       "version_minor": 0
      },
      "text/plain": [
       "  0%|          | 0/2500 [00:00<?, ?it/s]"
      ]
     },
     "metadata": {},
     "output_type": "display_data"
    },
    {
     "name": "stderr",
     "output_type": "stream",
     "text": [
      "Sampling time = 0:00:06.027483\n",
      "Transforming variables...\n",
      "Transformation time = 0:00:25.921405\n"
     ]
    },
    {
     "name": "stdout",
     "output_type": "stream",
     "text": [
      "Model: king99_pareto_modification\n",
      "        Computed from the raw b_i samples by multiplying by population and then getting\n",
      "        the proportion of the total pop (total pop=summed across all districts):\n",
      "        The posterior mean for the district-level voting preference of\n",
      "        Asian for Wes Moore (Democratic Party) is\n",
      "        0.819\n",
      "        The posterior mean for the district-level voting preference of\n",
      "        non-Asian for Wes Moore (Democratic Party) is\n",
      "        0.679\n",
      "        95% equal-tailed Bayesian credible interval for district-level voting preference of\n",
      "        Asian for Wes Moore (Democratic Party) is\n",
      "        [0.60601587 0.98335937]\n",
      "        95% equal-tailed Bayesian credible interval for district-level voting preference of\n",
      "        non-Asian for Wes Moore (Democratic Party) is\n",
      "        [0.65462035 0.70599542]\n",
      "        \n"
     ]
    }
   ],
   "source": [
    "md_dem_asian_ei, md_dem_asian_summary = run_ecological_inference(\n",
    "    df=md_race_merged_ei_df,\n",
    "    demographic_col=\"ASIAN_PERCENT\",\n",
    "    voting_col=\"DEMOCRATIC_PERCENT\",\n",
    "    total_votes_col=\"TOT_VOT\",\n",
    "    demographic_group_name=\"Asian\",\n",
    "    candidate_name=md_candidate_mapping['DEMOCRATIC']\n",
    ")"
   ]
  },
  {
   "cell_type": "code",
   "execution_count": 531,
   "metadata": {},
   "outputs": [
    {
     "name": "stderr",
     "output_type": "stream",
     "text": [
      "Compiling...\n",
      "Compilation time = 0:00:01.230659\n",
      "Sampling...\n"
     ]
    },
    {
     "data": {
      "application/vnd.jupyter.widget-view+json": {
       "model_id": "90e0968ef3114986aa8d6a4fa36026eb",
       "version_major": 2,
       "version_minor": 0
      },
      "text/plain": [
       "  0%|          | 0/2500 [00:00<?, ?it/s]"
      ]
     },
     "metadata": {},
     "output_type": "display_data"
    },
    {
     "data": {
      "application/vnd.jupyter.widget-view+json": {
       "model_id": "446582e19f654843980998a3d9054a35",
       "version_major": 2,
       "version_minor": 0
      },
      "text/plain": [
       "  0%|          | 0/2500 [00:00<?, ?it/s]"
      ]
     },
     "metadata": {},
     "output_type": "display_data"
    },
    {
     "data": {
      "application/vnd.jupyter.widget-view+json": {
       "model_id": "379338a90ce6405495182467af1e0739",
       "version_major": 2,
       "version_minor": 0
      },
      "text/plain": [
       "  0%|          | 0/2500 [00:00<?, ?it/s]"
      ]
     },
     "metadata": {},
     "output_type": "display_data"
    },
    {
     "data": {
      "application/vnd.jupyter.widget-view+json": {
       "model_id": "04a29fd3679f41b9bdfb7db7d876c689",
       "version_major": 2,
       "version_minor": 0
      },
      "text/plain": [
       "  0%|          | 0/2500 [00:00<?, ?it/s]"
      ]
     },
     "metadata": {},
     "output_type": "display_data"
    },
    {
     "name": "stderr",
     "output_type": "stream",
     "text": [
      "Sampling time = 0:00:02.062538\n",
      "Transforming variables...\n",
      "Transformation time = 0:00:11.728382\n"
     ]
    },
    {
     "name": "stdout",
     "output_type": "stream",
     "text": [
      "Model: king99_pareto_modification\n",
      "        Computed from the raw b_i samples by multiplying by population and then getting\n",
      "        the proportion of the total pop (total pop=summed across all districts):\n",
      "        The posterior mean for the district-level voting preference of\n",
      "        Asian for Wes Moore (Democratic Party) is\n",
      "        0.651\n",
      "        The posterior mean for the district-level voting preference of\n",
      "        non-Asian for Wes Moore (Democratic Party) is\n",
      "        0.670\n",
      "        95% equal-tailed Bayesian credible interval for district-level voting preference of\n",
      "        Asian for Wes Moore (Democratic Party) is\n",
      "        [0.36331097 0.93720986]\n",
      "        95% equal-tailed Bayesian credible interval for district-level voting preference of\n",
      "        non-Asian for Wes Moore (Democratic Party) is\n",
      "        [0.64932977 0.68957405]\n",
      "        \n"
     ]
    }
   ],
   "source": [
    "md_dem_asian_ei_rural, md_dem_asian_summary_rural = run_ecological_inference(\n",
    "    df=md_race_merged_ei_rural_df,\n",
    "    demographic_col=\"ASIAN_PERCENT\",\n",
    "    voting_col=\"DEMOCRATIC_PERCENT\",\n",
    "    total_votes_col=\"TOT_VOT\",\n",
    "    demographic_group_name=\"Asian\",\n",
    "    candidate_name=md_candidate_mapping['DEMOCRATIC']\n",
    ")"
   ]
  },
  {
   "cell_type": "code",
   "execution_count": 532,
   "metadata": {},
   "outputs": [
    {
     "name": "stderr",
     "output_type": "stream",
     "text": [
      "Compiling...\n",
      "Compilation time = 0:00:01.261373\n",
      "Sampling...\n"
     ]
    },
    {
     "data": {
      "application/vnd.jupyter.widget-view+json": {
       "model_id": "f61cd2de2ca34759b94ee9fbc07cfa7f",
       "version_major": 2,
       "version_minor": 0
      },
      "text/plain": [
       "  0%|          | 0/2500 [00:00<?, ?it/s]"
      ]
     },
     "metadata": {},
     "output_type": "display_data"
    },
    {
     "data": {
      "application/vnd.jupyter.widget-view+json": {
       "model_id": "0e3a82bc3a534366bdde6dc88afb287a",
       "version_major": 2,
       "version_minor": 0
      },
      "text/plain": [
       "  0%|          | 0/2500 [00:00<?, ?it/s]"
      ]
     },
     "metadata": {},
     "output_type": "display_data"
    },
    {
     "data": {
      "application/vnd.jupyter.widget-view+json": {
       "model_id": "ecec34c96d8446b78469cc1ef190bcf4",
       "version_major": 2,
       "version_minor": 0
      },
      "text/plain": [
       "  0%|          | 0/2500 [00:00<?, ?it/s]"
      ]
     },
     "metadata": {},
     "output_type": "display_data"
    },
    {
     "data": {
      "application/vnd.jupyter.widget-view+json": {
       "model_id": "1541bde1d62f41d0b8440ee4ef13e67b",
       "version_major": 2,
       "version_minor": 0
      },
      "text/plain": [
       "  0%|          | 0/2500 [00:00<?, ?it/s]"
      ]
     },
     "metadata": {},
     "output_type": "display_data"
    },
    {
     "name": "stderr",
     "output_type": "stream",
     "text": [
      "Sampling time = 0:00:02.077350\n",
      "Transforming variables...\n",
      "Transformation time = 0:00:17.589524\n"
     ]
    },
    {
     "name": "stdout",
     "output_type": "stream",
     "text": [
      "Model: king99_pareto_modification\n",
      "        Computed from the raw b_i samples by multiplying by population and then getting\n",
      "        the proportion of the total pop (total pop=summed across all districts):\n",
      "        The posterior mean for the district-level voting preference of\n",
      "        Asian for Wes Moore (Democratic Party) is\n",
      "        0.603\n",
      "        The posterior mean for the district-level voting preference of\n",
      "        non-Asian for Wes Moore (Democratic Party) is\n",
      "        0.652\n",
      "        95% equal-tailed Bayesian credible interval for district-level voting preference of\n",
      "        Asian for Wes Moore (Democratic Party) is\n",
      "        [0.33070562 0.92082341]\n",
      "        95% equal-tailed Bayesian credible interval for district-level voting preference of\n",
      "        non-Asian for Wes Moore (Democratic Party) is\n",
      "        [0.62435154 0.67552786]\n",
      "        \n"
     ]
    }
   ],
   "source": [
    "md_dem_asian_ei_suburban, md_dem_asian_summary_suburban = run_ecological_inference(\n",
    "    df=md_race_merged_ei_suburban_df,\n",
    "    demographic_col=\"ASIAN_PERCENT\",\n",
    "    voting_col=\"DEMOCRATIC_PERCENT\",\n",
    "    total_votes_col=\"TOT_VOT\",\n",
    "    demographic_group_name=\"Asian\",\n",
    "    candidate_name=md_candidate_mapping['DEMOCRATIC']\n",
    ")"
   ]
  },
  {
   "cell_type": "code",
   "execution_count": 533,
   "metadata": {},
   "outputs": [
    {
     "name": "stderr",
     "output_type": "stream",
     "text": [
      "Compiling...\n",
      "Compilation time = 0:00:01.524486\n",
      "Sampling...\n"
     ]
    },
    {
     "data": {
      "application/vnd.jupyter.widget-view+json": {
       "model_id": "22e1fbc1e0b74cb5a974d61d7438333e",
       "version_major": 2,
       "version_minor": 0
      },
      "text/plain": [
       "  0%|          | 0/2500 [00:00<?, ?it/s]"
      ]
     },
     "metadata": {},
     "output_type": "display_data"
    },
    {
     "data": {
      "application/vnd.jupyter.widget-view+json": {
       "model_id": "f41874eded194d1ea46153be90a69eac",
       "version_major": 2,
       "version_minor": 0
      },
      "text/plain": [
       "  0%|          | 0/2500 [00:00<?, ?it/s]"
      ]
     },
     "metadata": {},
     "output_type": "display_data"
    },
    {
     "data": {
      "application/vnd.jupyter.widget-view+json": {
       "model_id": "747af581839e4901ac78f0b22e577c29",
       "version_major": 2,
       "version_minor": 0
      },
      "text/plain": [
       "  0%|          | 0/2500 [00:00<?, ?it/s]"
      ]
     },
     "metadata": {},
     "output_type": "display_data"
    },
    {
     "data": {
      "application/vnd.jupyter.widget-view+json": {
       "model_id": "9eefa3b1fcb24d82aab219888682c72f",
       "version_major": 2,
       "version_minor": 0
      },
      "text/plain": [
       "  0%|          | 0/2500 [00:00<?, ?it/s]"
      ]
     },
     "metadata": {},
     "output_type": "display_data"
    },
    {
     "name": "stderr",
     "output_type": "stream",
     "text": [
      "Sampling time = 0:00:02.161076\n",
      "Transforming variables...\n",
      "Transformation time = 0:00:20.050417\n"
     ]
    },
    {
     "name": "stdout",
     "output_type": "stream",
     "text": [
      "Model: king99_pareto_modification\n",
      "        Computed from the raw b_i samples by multiplying by population and then getting\n",
      "        the proportion of the total pop (total pop=summed across all districts):\n",
      "        The posterior mean for the district-level voting preference of\n",
      "        Asian for Wes Moore (Democratic Party) is\n",
      "        0.546\n",
      "        The posterior mean for the district-level voting preference of\n",
      "        non-Asian for Wes Moore (Democratic Party) is\n",
      "        0.745\n",
      "        95% equal-tailed Bayesian credible interval for district-level voting preference of\n",
      "        Asian for Wes Moore (Democratic Party) is\n",
      "        [0.33501431 0.90787865]\n",
      "        95% equal-tailed Bayesian credible interval for district-level voting preference of\n",
      "        non-Asian for Wes Moore (Democratic Party) is\n",
      "        [0.70784015 0.76498381]\n",
      "        \n"
     ]
    }
   ],
   "source": [
    "md_dem_asian_ei_urban, md_dem_asian_summary_urban = run_ecological_inference(\n",
    "    df=md_race_merged_ei_urban_df,\n",
    "    demographic_col=\"ASIAN_PERCENT\",\n",
    "    voting_col=\"DEMOCRATIC_PERCENT\",\n",
    "    total_votes_col=\"TOT_VOT\",\n",
    "    demographic_group_name=\"Asian\",\n",
    "    candidate_name=md_candidate_mapping['DEMOCRATIC']\n",
    ")"
   ]
  },
  {
   "cell_type": "code",
   "execution_count": 534,
   "metadata": {},
   "outputs": [
    {
     "name": "stderr",
     "output_type": "stream",
     "text": [
      "Compiling...\n",
      "Compilation time = 0:00:30.917155\n",
      "Sampling...\n"
     ]
    },
    {
     "data": {
      "application/vnd.jupyter.widget-view+json": {
       "model_id": "ef76b55c0eb5458cbc939729059ba115",
       "version_major": 2,
       "version_minor": 0
      },
      "text/plain": [
       "  0%|          | 0/2500 [00:00<?, ?it/s]"
      ]
     },
     "metadata": {},
     "output_type": "display_data"
    },
    {
     "data": {
      "application/vnd.jupyter.widget-view+json": {
       "model_id": "c02c62af540b4018ba5979b68d6d7c83",
       "version_major": 2,
       "version_minor": 0
      },
      "text/plain": [
       "  0%|          | 0/2500 [00:00<?, ?it/s]"
      ]
     },
     "metadata": {},
     "output_type": "display_data"
    },
    {
     "data": {
      "application/vnd.jupyter.widget-view+json": {
       "model_id": "4eea13d174864c62bd6c97bf681d5543",
       "version_major": 2,
       "version_minor": 0
      },
      "text/plain": [
       "  0%|          | 0/2500 [00:00<?, ?it/s]"
      ]
     },
     "metadata": {},
     "output_type": "display_data"
    },
    {
     "data": {
      "application/vnd.jupyter.widget-view+json": {
       "model_id": "ed87345fbfe444628fb977762c730834",
       "version_major": 2,
       "version_minor": 0
      },
      "text/plain": [
       "  0%|          | 0/2500 [00:00<?, ?it/s]"
      ]
     },
     "metadata": {},
     "output_type": "display_data"
    },
    {
     "name": "stderr",
     "output_type": "stream",
     "text": [
      "Sampling time = 0:00:02.903008\n",
      "Transforming variables...\n",
      "Transformation time = 0:00:54.271510\n"
     ]
    },
    {
     "name": "stdout",
     "output_type": "stream",
     "text": [
      "Model: king99_pareto_modification\n",
      "        Computed from the raw b_i samples by multiplying by population and then getting\n",
      "        the proportion of the total pop (total pop=summed across all districts):\n",
      "        The posterior mean for the district-level voting preference of\n",
      "        Hispanic for Wes Moore (Democratic Party) is\n",
      "        0.917\n",
      "        The posterior mean for the district-level voting preference of\n",
      "        non-Hispanic for Wes Moore (Democratic Party) is\n",
      "        0.673\n",
      "        95% equal-tailed Bayesian credible interval for district-level voting preference of\n",
      "        Hispanic for Wes Moore (Democratic Party) is\n",
      "        [0.76379163 0.99828662]\n",
      "        95% equal-tailed Bayesian credible interval for district-level voting preference of\n",
      "        non-Hispanic for Wes Moore (Democratic Party) is\n",
      "        [0.66388551 0.68783795]\n",
      "        \n"
     ]
    }
   ],
   "source": [
    "md_dem_hispanic_ei, md_rep_asian_summary = run_ecological_inference(\n",
    "    df=md_race_merged_ei_df,\n",
    "    demographic_col=\"HISPANIC_PERCENT\",\n",
    "    voting_col=\"DEMOCRATIC_PERCENT\",\n",
    "    total_votes_col=\"TOT_VOT\",\n",
    "    demographic_group_name=\"Hispanic\",\n",
    "    candidate_name=md_candidate_mapping['DEMOCRATIC']\n",
    ")"
   ]
  },
  {
   "cell_type": "code",
   "execution_count": 535,
   "metadata": {},
   "outputs": [
    {
     "name": "stderr",
     "output_type": "stream",
     "text": [
      "Compiling...\n",
      "Compilation time = 0:00:01.290346\n",
      "Sampling...\n"
     ]
    },
    {
     "data": {
      "application/vnd.jupyter.widget-view+json": {
       "model_id": "74ba44b304264640babe2b3a2a56dc4f",
       "version_major": 2,
       "version_minor": 0
      },
      "text/plain": [
       "  0%|          | 0/2500 [00:00<?, ?it/s]"
      ]
     },
     "metadata": {},
     "output_type": "display_data"
    },
    {
     "data": {
      "application/vnd.jupyter.widget-view+json": {
       "model_id": "aa87a8ee2b084949b6c106f33eb833dc",
       "version_major": 2,
       "version_minor": 0
      },
      "text/plain": [
       "  0%|          | 0/2500 [00:00<?, ?it/s]"
      ]
     },
     "metadata": {},
     "output_type": "display_data"
    },
    {
     "data": {
      "application/vnd.jupyter.widget-view+json": {
       "model_id": "4768992ef1fe4f1ca8b4838661b14a67",
       "version_major": 2,
       "version_minor": 0
      },
      "text/plain": [
       "  0%|          | 0/2500 [00:00<?, ?it/s]"
      ]
     },
     "metadata": {},
     "output_type": "display_data"
    },
    {
     "data": {
      "application/vnd.jupyter.widget-view+json": {
       "model_id": "3e2534da39ed442ba85cc29eb348d383",
       "version_major": 2,
       "version_minor": 0
      },
      "text/plain": [
       "  0%|          | 0/2500 [00:00<?, ?it/s]"
      ]
     },
     "metadata": {},
     "output_type": "display_data"
    },
    {
     "name": "stderr",
     "output_type": "stream",
     "text": [
      "Sampling time = 0:00:02.262049\n",
      "Transforming variables...\n",
      "Transformation time = 0:00:19.555084\n"
     ]
    },
    {
     "name": "stdout",
     "output_type": "stream",
     "text": [
      "Model: king99_pareto_modification\n",
      "        Computed from the raw b_i samples by multiplying by population and then getting\n",
      "        the proportion of the total pop (total pop=summed across all districts):\n",
      "        The posterior mean for the district-level voting preference of\n",
      "        Hispanic for Wes Moore (Democratic Party) is\n",
      "        0.884\n",
      "        The posterior mean for the district-level voting preference of\n",
      "        non-Hispanic for Wes Moore (Democratic Party) is\n",
      "        0.656\n",
      "        95% equal-tailed Bayesian credible interval for district-level voting preference of\n",
      "        Hispanic for Wes Moore (Democratic Party) is\n",
      "        [0.71304626 0.98608722]\n",
      "        95% equal-tailed Bayesian credible interval for district-level voting preference of\n",
      "        non-Hispanic for Wes Moore (Democratic Party) is\n",
      "        [0.64724518 0.66950392]\n",
      "        \n"
     ]
    }
   ],
   "source": [
    "md_dem_hispanic_ei_rural, md_rep_asian_summary_rural = run_ecological_inference(\n",
    "    df=md_race_merged_ei_rural_df,\n",
    "    demographic_col=\"HISPANIC_PERCENT\",\n",
    "    voting_col=\"DEMOCRATIC_PERCENT\",\n",
    "    total_votes_col=\"TOT_VOT\",\n",
    "    demographic_group_name=\"Hispanic\",\n",
    "    candidate_name=md_candidate_mapping['DEMOCRATIC']\n",
    ")"
   ]
  },
  {
   "cell_type": "code",
   "execution_count": 536,
   "metadata": {},
   "outputs": [
    {
     "name": "stderr",
     "output_type": "stream",
     "text": [
      "Compiling...\n",
      "Compilation time = 0:00:04.644894\n",
      "Sampling...\n"
     ]
    },
    {
     "data": {
      "application/vnd.jupyter.widget-view+json": {
       "model_id": "2fdc729655ca4cbc8131f514f18b9337",
       "version_major": 2,
       "version_minor": 0
      },
      "text/plain": [
       "  0%|          | 0/2500 [00:00<?, ?it/s]"
      ]
     },
     "metadata": {},
     "output_type": "display_data"
    },
    {
     "data": {
      "application/vnd.jupyter.widget-view+json": {
       "model_id": "6b6e1bb5818444e1afe2656a8148ba78",
       "version_major": 2,
       "version_minor": 0
      },
      "text/plain": [
       "  0%|          | 0/2500 [00:00<?, ?it/s]"
      ]
     },
     "metadata": {},
     "output_type": "display_data"
    },
    {
     "data": {
      "application/vnd.jupyter.widget-view+json": {
       "model_id": "b531493e4422448faf85bd2dda86368c",
       "version_major": 2,
       "version_minor": 0
      },
      "text/plain": [
       "  0%|          | 0/2500 [00:00<?, ?it/s]"
      ]
     },
     "metadata": {},
     "output_type": "display_data"
    },
    {
     "data": {
      "application/vnd.jupyter.widget-view+json": {
       "model_id": "7be2a5acea224ddc9baa18143a53c6c9",
       "version_major": 2,
       "version_minor": 0
      },
      "text/plain": [
       "  0%|          | 0/2500 [00:00<?, ?it/s]"
      ]
     },
     "metadata": {},
     "output_type": "display_data"
    },
    {
     "name": "stderr",
     "output_type": "stream",
     "text": [
      "Sampling time = 0:00:02.129494\n",
      "Transforming variables...\n",
      "Transformation time = 0:00:17.929778\n"
     ]
    },
    {
     "name": "stdout",
     "output_type": "stream",
     "text": [
      "Model: king99_pareto_modification\n",
      "        Computed from the raw b_i samples by multiplying by population and then getting\n",
      "        the proportion of the total pop (total pop=summed across all districts):\n",
      "        The posterior mean for the district-level voting preference of\n",
      "        Hispanic for Wes Moore (Democratic Party) is\n",
      "        0.796\n",
      "        The posterior mean for the district-level voting preference of\n",
      "        non-Hispanic for Wes Moore (Democratic Party) is\n",
      "        0.634\n",
      "        95% equal-tailed Bayesian credible interval for district-level voting preference of\n",
      "        Hispanic for Wes Moore (Democratic Party) is\n",
      "        [0.61743266 0.94599438]\n",
      "        95% equal-tailed Bayesian credible interval for district-level voting preference of\n",
      "        non-Hispanic for Wes Moore (Democratic Party) is\n",
      "        [0.62171189 0.64875634]\n",
      "        \n"
     ]
    }
   ],
   "source": [
    "md_dem_hispanic_ei_suburban, md_rep_asian_summary_suburban = run_ecological_inference(\n",
    "    df=md_race_merged_ei_suburban_df,\n",
    "    demographic_col=\"HISPANIC_PERCENT\",\n",
    "    voting_col=\"DEMOCRATIC_PERCENT\",\n",
    "    total_votes_col=\"TOT_VOT\",\n",
    "    demographic_group_name=\"Hispanic\",\n",
    "    candidate_name=md_candidate_mapping['DEMOCRATIC']\n",
    ")"
   ]
  },
  {
   "cell_type": "code",
   "execution_count": 537,
   "metadata": {},
   "outputs": [
    {
     "name": "stderr",
     "output_type": "stream",
     "text": [
      "Compiling...\n",
      "Compilation time = 0:00:01.534185\n",
      "Sampling...\n"
     ]
    },
    {
     "data": {
      "application/vnd.jupyter.widget-view+json": {
       "model_id": "3547d8ac2e0d4e9c9f3b0de7b613e5e4",
       "version_major": 2,
       "version_minor": 0
      },
      "text/plain": [
       "  0%|          | 0/2500 [00:00<?, ?it/s]"
      ]
     },
     "metadata": {},
     "output_type": "display_data"
    },
    {
     "data": {
      "application/vnd.jupyter.widget-view+json": {
       "model_id": "94b142b4bb60452fa45a10285550dffc",
       "version_major": 2,
       "version_minor": 0
      },
      "text/plain": [
       "  0%|          | 0/2500 [00:00<?, ?it/s]"
      ]
     },
     "metadata": {},
     "output_type": "display_data"
    },
    {
     "data": {
      "application/vnd.jupyter.widget-view+json": {
       "model_id": "dd6db48a43804bc080b23f514bb412d0",
       "version_major": 2,
       "version_minor": 0
      },
      "text/plain": [
       "  0%|          | 0/2500 [00:00<?, ?it/s]"
      ]
     },
     "metadata": {},
     "output_type": "display_data"
    },
    {
     "data": {
      "application/vnd.jupyter.widget-view+json": {
       "model_id": "aaae3a638af746febdcb35d5d7bd1ef7",
       "version_major": 2,
       "version_minor": 0
      },
      "text/plain": [
       "  0%|          | 0/2500 [00:00<?, ?it/s]"
      ]
     },
     "metadata": {},
     "output_type": "display_data"
    },
    {
     "name": "stderr",
     "output_type": "stream",
     "text": [
      "Sampling time = 0:00:02.164471\n",
      "Transforming variables...\n",
      "Transformation time = 0:00:45.673092\n"
     ]
    },
    {
     "name": "stdout",
     "output_type": "stream",
     "text": [
      "Model: king99_pareto_modification\n",
      "        Computed from the raw b_i samples by multiplying by population and then getting\n",
      "        the proportion of the total pop (total pop=summed across all districts):\n",
      "        The posterior mean for the district-level voting preference of\n",
      "        Hispanic for Wes Moore (Democratic Party) is\n",
      "        0.926\n",
      "        The posterior mean for the district-level voting preference of\n",
      "        non-Hispanic for Wes Moore (Democratic Party) is\n",
      "        0.698\n",
      "        95% equal-tailed Bayesian credible interval for district-level voting preference of\n",
      "        Hispanic for Wes Moore (Democratic Party) is\n",
      "        [0.78938227 0.99856919]\n",
      "        95% equal-tailed Bayesian credible interval for district-level voting preference of\n",
      "        non-Hispanic for Wes Moore (Democratic Party) is\n",
      "        [0.68510094 0.72081749]\n",
      "        \n"
     ]
    }
   ],
   "source": [
    "md_dem_hispanic_ei_urban, md_rep_asian_summary_urban = run_ecological_inference(\n",
    "    df=md_race_merged_ei_urban_df,\n",
    "    demographic_col=\"HISPANIC_PERCENT\",\n",
    "    voting_col=\"DEMOCRATIC_PERCENT\",\n",
    "    total_votes_col=\"TOT_VOT\",\n",
    "    demographic_group_name=\"Hispanic\",\n",
    "    candidate_name=md_candidate_mapping['DEMOCRATIC']\n",
    ")"
   ]
  },
  {
   "cell_type": "markdown",
   "metadata": {},
   "source": [
    "##### Running Repulican"
   ]
  },
  {
   "cell_type": "code",
   "execution_count": 538,
   "metadata": {},
   "outputs": [
    {
     "name": "stderr",
     "output_type": "stream",
     "text": [
      "Compiling...\n",
      "Compilation time = 0:00:01.501906\n",
      "Sampling...\n"
     ]
    },
    {
     "data": {
      "application/vnd.jupyter.widget-view+json": {
       "model_id": "a21b708d542b4f33ac720f394eb5a3af",
       "version_major": 2,
       "version_minor": 0
      },
      "text/plain": [
       "  0%|          | 0/2500 [00:00<?, ?it/s]"
      ]
     },
     "metadata": {},
     "output_type": "display_data"
    },
    {
     "data": {
      "application/vnd.jupyter.widget-view+json": {
       "model_id": "42a6f0f0023542c3aa75a0929fad30ee",
       "version_major": 2,
       "version_minor": 0
      },
      "text/plain": [
       "  0%|          | 0/2500 [00:00<?, ?it/s]"
      ]
     },
     "metadata": {},
     "output_type": "display_data"
    },
    {
     "data": {
      "application/vnd.jupyter.widget-view+json": {
       "model_id": "bd275cf6a5114dedbd5fba80049b3ae8",
       "version_major": 2,
       "version_minor": 0
      },
      "text/plain": [
       "  0%|          | 0/2500 [00:00<?, ?it/s]"
      ]
     },
     "metadata": {},
     "output_type": "display_data"
    },
    {
     "data": {
      "application/vnd.jupyter.widget-view+json": {
       "model_id": "7099d8046e2b4177824b1100d8a44acc",
       "version_major": 2,
       "version_minor": 0
      },
      "text/plain": [
       "  0%|          | 0/2500 [00:00<?, ?it/s]"
      ]
     },
     "metadata": {},
     "output_type": "display_data"
    },
    {
     "name": "stderr",
     "output_type": "stream",
     "text": [
      "Sampling time = 0:00:02.009261\n",
      "Transforming variables...\n",
      "Transformation time = 0:00:31.708351\n"
     ]
    },
    {
     "name": "stdout",
     "output_type": "stream",
     "text": [
      "Model: king99_pareto_modification\n",
      "        Computed from the raw b_i samples by multiplying by population and then getting\n",
      "        the proportion of the total pop (total pop=summed across all districts):\n",
      "        The posterior mean for the district-level voting preference of\n",
      "        White for Dan Cox (Republican Party) is\n",
      "        0.421\n",
      "        The posterior mean for the district-level voting preference of\n",
      "        non-White for Dan Cox (Republican Party) is\n",
      "        0.142\n",
      "        95% equal-tailed Bayesian credible interval for district-level voting preference of\n",
      "        White for Dan Cox (Republican Party) is\n",
      "        [0.37932472 0.45927309]\n",
      "        95% equal-tailed Bayesian credible interval for district-level voting preference of\n",
      "        non-White for Dan Cox (Republican Party) is\n",
      "        [0.09771881 0.1936028 ]\n",
      "        \n"
     ]
    }
   ],
   "source": [
    "md_rep_white_ei, md_rep_white_summary = run_ecological_inference(\n",
    "    df=md_race_merged_ei_df,\n",
    "    demographic_col=\"WHITE_PERCENT\",\n",
    "    voting_col=\"REPUBLICAN_PERCENT\",\n",
    "    total_votes_col=\"TOT_VOT\",\n",
    "    demographic_group_name=\"White\",\n",
    "    candidate_name=md_candidate_mapping['REPUBLICAN']\n",
    ")"
   ]
  },
  {
   "cell_type": "code",
   "execution_count": 539,
   "metadata": {},
   "outputs": [
    {
     "name": "stderr",
     "output_type": "stream",
     "text": [
      "Compiling...\n",
      "Compilation time = 0:00:01.302629\n",
      "Sampling...\n"
     ]
    },
    {
     "data": {
      "application/vnd.jupyter.widget-view+json": {
       "model_id": "03b0ae2f0e5540028e6826b049380662",
       "version_major": 2,
       "version_minor": 0
      },
      "text/plain": [
       "  0%|          | 0/2500 [00:00<?, ?it/s]"
      ]
     },
     "metadata": {},
     "output_type": "display_data"
    },
    {
     "data": {
      "application/vnd.jupyter.widget-view+json": {
       "model_id": "d2c76ef4385a4d1092b462efc43f628a",
       "version_major": 2,
       "version_minor": 0
      },
      "text/plain": [
       "  0%|          | 0/2500 [00:00<?, ?it/s]"
      ]
     },
     "metadata": {},
     "output_type": "display_data"
    },
    {
     "data": {
      "application/vnd.jupyter.widget-view+json": {
       "model_id": "73f742621a174d1cab693fc6da20bffe",
       "version_major": 2,
       "version_minor": 0
      },
      "text/plain": [
       "  0%|          | 0/2500 [00:00<?, ?it/s]"
      ]
     },
     "metadata": {},
     "output_type": "display_data"
    },
    {
     "data": {
      "application/vnd.jupyter.widget-view+json": {
       "model_id": "8a5fda61d98d4d18a2ecd34c2cf13cb2",
       "version_major": 2,
       "version_minor": 0
      },
      "text/plain": [
       "  0%|          | 0/2500 [00:00<?, ?it/s]"
      ]
     },
     "metadata": {},
     "output_type": "display_data"
    },
    {
     "name": "stderr",
     "output_type": "stream",
     "text": [
      "Sampling time = 0:00:02.259815\n",
      "Transforming variables...\n",
      "Transformation time = 0:00:18.973912\n"
     ]
    },
    {
     "name": "stdout",
     "output_type": "stream",
     "text": [
      "Model: king99_pareto_modification\n",
      "        Computed from the raw b_i samples by multiplying by population and then getting\n",
      "        the proportion of the total pop (total pop=summed across all districts):\n",
      "        The posterior mean for the district-level voting preference of\n",
      "        White for Dan Cox (Republican Party) is\n",
      "        0.464\n",
      "        The posterior mean for the district-level voting preference of\n",
      "        non-White for Dan Cox (Republican Party) is\n",
      "        0.153\n",
      "        95% equal-tailed Bayesian credible interval for district-level voting preference of\n",
      "        White for Dan Cox (Republican Party) is\n",
      "        [0.42781337 0.49951208]\n",
      "        95% equal-tailed Bayesian credible interval for district-level voting preference of\n",
      "        non-White for Dan Cox (Republican Party) is\n",
      "        [0.11255046 0.19869804]\n",
      "        \n"
     ]
    }
   ],
   "source": [
    "md_rep_white_ei_rural, md_rep_white_summary_rural = run_ecological_inference(\n",
    "    df=md_race_merged_ei_rural_df,\n",
    "    demographic_col=\"WHITE_PERCENT\",\n",
    "    voting_col=\"REPUBLICAN_PERCENT\",\n",
    "    total_votes_col=\"TOT_VOT\",\n",
    "    demographic_group_name=\"White\",\n",
    "    candidate_name=md_candidate_mapping['REPUBLICAN']\n",
    ")"
   ]
  },
  {
   "cell_type": "code",
   "execution_count": 540,
   "metadata": {},
   "outputs": [
    {
     "name": "stderr",
     "output_type": "stream",
     "text": [
      "Compiling...\n",
      "Compilation time = 0:00:01.375629\n",
      "Sampling...\n"
     ]
    },
    {
     "data": {
      "application/vnd.jupyter.widget-view+json": {
       "model_id": "1946a6cdf81940ca9ea8f4ea49e376d8",
       "version_major": 2,
       "version_minor": 0
      },
      "text/plain": [
       "  0%|          | 0/2500 [00:00<?, ?it/s]"
      ]
     },
     "metadata": {},
     "output_type": "display_data"
    },
    {
     "data": {
      "application/vnd.jupyter.widget-view+json": {
       "model_id": "b89eaf71326b49b6bf1c59167707638e",
       "version_major": 2,
       "version_minor": 0
      },
      "text/plain": [
       "  0%|          | 0/2500 [00:00<?, ?it/s]"
      ]
     },
     "metadata": {},
     "output_type": "display_data"
    },
    {
     "data": {
      "application/vnd.jupyter.widget-view+json": {
       "model_id": "aebf3c49ef784159986111df3d7583e0",
       "version_major": 2,
       "version_minor": 0
      },
      "text/plain": [
       "  0%|          | 0/2500 [00:00<?, ?it/s]"
      ]
     },
     "metadata": {},
     "output_type": "display_data"
    },
    {
     "data": {
      "application/vnd.jupyter.widget-view+json": {
       "model_id": "52d1473dc39e4fcdb3168e71b40761a1",
       "version_major": 2,
       "version_minor": 0
      },
      "text/plain": [
       "  0%|          | 0/2500 [00:00<?, ?it/s]"
      ]
     },
     "metadata": {},
     "output_type": "display_data"
    },
    {
     "name": "stderr",
     "output_type": "stream",
     "text": [
      "Sampling time = 0:00:02.393344\n",
      "Transforming variables...\n",
      "Transformation time = 0:00:58.955070\n"
     ]
    },
    {
     "name": "stdout",
     "output_type": "stream",
     "text": [
      "Model: king99_pareto_modification\n",
      "        Computed from the raw b_i samples by multiplying by population and then getting\n",
      "        the proportion of the total pop (total pop=summed across all districts):\n",
      "        The posterior mean for the district-level voting preference of\n",
      "        White for Dan Cox (Republican Party) is\n",
      "        0.490\n",
      "        The posterior mean for the district-level voting preference of\n",
      "        non-White for Dan Cox (Republican Party) is\n",
      "        0.045\n",
      "        95% equal-tailed Bayesian credible interval for district-level voting preference of\n",
      "        White for Dan Cox (Republican Party) is\n",
      "        [0.46866606 0.50665289]\n",
      "        95% equal-tailed Bayesian credible interval for district-level voting preference of\n",
      "        non-White for Dan Cox (Republican Party) is\n",
      "        [0.01409183 0.08969558]\n",
      "        \n"
     ]
    }
   ],
   "source": [
    "md_rep_white_ei_suburban, md_rep_white_summary_suburban = run_ecological_inference(\n",
    "    df=md_race_merged_ei_suburban_df,\n",
    "    demographic_col=\"WHITE_PERCENT\",\n",
    "    voting_col=\"REPUBLICAN_PERCENT\",\n",
    "    total_votes_col=\"TOT_VOT\",\n",
    "    demographic_group_name=\"White\",\n",
    "    candidate_name=md_candidate_mapping['REPUBLICAN']\n",
    ")"
   ]
  },
  {
   "cell_type": "code",
   "execution_count": 541,
   "metadata": {},
   "outputs": [
    {
     "name": "stderr",
     "output_type": "stream",
     "text": [
      "Compiling...\n",
      "Compilation time = 0:00:08.117907\n",
      "Sampling...\n"
     ]
    },
    {
     "data": {
      "application/vnd.jupyter.widget-view+json": {
       "model_id": "178aec34a7584f9eb0d8e4af8f5f3fd2",
       "version_major": 2,
       "version_minor": 0
      },
      "text/plain": [
       "  0%|          | 0/2500 [00:00<?, ?it/s]"
      ]
     },
     "metadata": {},
     "output_type": "display_data"
    },
    {
     "data": {
      "application/vnd.jupyter.widget-view+json": {
       "model_id": "5fd43cde15e74e30882760ca1bc1d0ba",
       "version_major": 2,
       "version_minor": 0
      },
      "text/plain": [
       "  0%|          | 0/2500 [00:00<?, ?it/s]"
      ]
     },
     "metadata": {},
     "output_type": "display_data"
    },
    {
     "data": {
      "application/vnd.jupyter.widget-view+json": {
       "model_id": "c6f7239bda4e4d1a8660fd51ac256f59",
       "version_major": 2,
       "version_minor": 0
      },
      "text/plain": [
       "  0%|          | 0/2500 [00:00<?, ?it/s]"
      ]
     },
     "metadata": {},
     "output_type": "display_data"
    },
    {
     "data": {
      "application/vnd.jupyter.widget-view+json": {
       "model_id": "932bd60da58545acac3bbbf5f4081f31",
       "version_major": 2,
       "version_minor": 0
      },
      "text/plain": [
       "  0%|          | 0/2500 [00:00<?, ?it/s]"
      ]
     },
     "metadata": {},
     "output_type": "display_data"
    },
    {
     "name": "stderr",
     "output_type": "stream",
     "text": [
      "Sampling time = 0:00:02.681546\n",
      "Transforming variables...\n",
      "Transformation time = 0:00:45.633776\n"
     ]
    },
    {
     "name": "stdout",
     "output_type": "stream",
     "text": [
      "Model: king99_pareto_modification\n",
      "        Computed from the raw b_i samples by multiplying by population and then getting\n",
      "        the proportion of the total pop (total pop=summed across all districts):\n",
      "        The posterior mean for the district-level voting preference of\n",
      "        White for Dan Cox (Republican Party) is\n",
      "        0.529\n",
      "        The posterior mean for the district-level voting preference of\n",
      "        non-White for Dan Cox (Republican Party) is\n",
      "        0.044\n",
      "        95% equal-tailed Bayesian credible interval for district-level voting preference of\n",
      "        White for Dan Cox (Republican Party) is\n",
      "        [0.49483389 0.55996615]\n",
      "        95% equal-tailed Bayesian credible interval for district-level voting preference of\n",
      "        non-White for Dan Cox (Republican Party) is\n",
      "        [0.02423429 0.06855534]\n",
      "        \n"
     ]
    }
   ],
   "source": [
    "md_rep_white_ei_urban, md_rep_white_summary_urban= run_ecological_inference(\n",
    "    df=md_race_merged_ei_urban_df,\n",
    "    demographic_col=\"WHITE_PERCENT\",\n",
    "    voting_col=\"REPUBLICAN_PERCENT\",\n",
    "    total_votes_col=\"TOT_VOT\",\n",
    "    demographic_group_name=\"White\",\n",
    "    candidate_name=md_candidate_mapping['REPUBLICAN']\n",
    ")"
   ]
  },
  {
   "cell_type": "code",
   "execution_count": 542,
   "metadata": {},
   "outputs": [
    {
     "name": "stderr",
     "output_type": "stream",
     "text": [
      "Compiling...\n",
      "Compilation time = 0:00:01.457784\n",
      "Sampling...\n"
     ]
    },
    {
     "data": {
      "application/vnd.jupyter.widget-view+json": {
       "model_id": "3a16bfc3ec464ff4bbfae55de4d6029f",
       "version_major": 2,
       "version_minor": 0
      },
      "text/plain": [
       "  0%|          | 0/2500 [00:00<?, ?it/s]"
      ]
     },
     "metadata": {},
     "output_type": "display_data"
    },
    {
     "data": {
      "application/vnd.jupyter.widget-view+json": {
       "model_id": "9a3114d71d594c76967e3460e20ad0c3",
       "version_major": 2,
       "version_minor": 0
      },
      "text/plain": [
       "  0%|          | 0/2500 [00:00<?, ?it/s]"
      ]
     },
     "metadata": {},
     "output_type": "display_data"
    },
    {
     "data": {
      "application/vnd.jupyter.widget-view+json": {
       "model_id": "7163c0a5bb894071ac5786570a3d8e3a",
       "version_major": 2,
       "version_minor": 0
      },
      "text/plain": [
       "  0%|          | 0/2500 [00:00<?, ?it/s]"
      ]
     },
     "metadata": {},
     "output_type": "display_data"
    },
    {
     "data": {
      "application/vnd.jupyter.widget-view+json": {
       "model_id": "ee6764e7af8c4647b6e826e6519fbdb3",
       "version_major": 2,
       "version_minor": 0
      },
      "text/plain": [
       "  0%|          | 0/2500 [00:00<?, ?it/s]"
      ]
     },
     "metadata": {},
     "output_type": "display_data"
    },
    {
     "name": "stderr",
     "output_type": "stream",
     "text": [
      "Sampling time = 0:00:03.204883\n",
      "Transforming variables...\n",
      "Transformation time = 0:00:46.897696\n"
     ]
    },
    {
     "name": "stdout",
     "output_type": "stream",
     "text": [
      "Model: king99_pareto_modification\n",
      "        Computed from the raw b_i samples by multiplying by population and then getting\n",
      "        the proportion of the total pop (total pop=summed across all districts):\n",
      "        The posterior mean for the district-level voting preference of\n",
      "        Black for Dan Cox (Republican Party) is\n",
      "        0.042\n",
      "        The posterior mean for the district-level voting preference of\n",
      "        non-Black for Dan Cox (Republican Party) is\n",
      "        0.371\n",
      "        95% equal-tailed Bayesian credible interval for district-level voting preference of\n",
      "        Black for Dan Cox (Republican Party) is\n",
      "        [0.01342772 0.08703972]\n",
      "        95% equal-tailed Bayesian credible interval for district-level voting preference of\n",
      "        non-Black for Dan Cox (Republican Party) is\n",
      "        [0.35777462 0.38098058]\n",
      "        \n"
     ]
    }
   ],
   "source": [
    "md_rep_black_ei, md_rep_black_summary = run_ecological_inference(\n",
    "    df=md_race_merged_ei_df,\n",
    "    demographic_col=\"BLACK_PERCENT\",\n",
    "    voting_col=\"REPUBLICAN_PERCENT\",\n",
    "    total_votes_col=\"TOT_VOT\",\n",
    "    demographic_group_name=\"Black\",\n",
    "    candidate_name=md_candidate_mapping['REPUBLICAN']\n",
    ")"
   ]
  },
  {
   "cell_type": "code",
   "execution_count": 543,
   "metadata": {},
   "outputs": [
    {
     "name": "stderr",
     "output_type": "stream",
     "text": [
      "Compiling...\n",
      "Compilation time = 0:00:01.573818\n",
      "Sampling...\n"
     ]
    },
    {
     "data": {
      "application/vnd.jupyter.widget-view+json": {
       "model_id": "ab6526d9ef73465baaf2005b1c86c995",
       "version_major": 2,
       "version_minor": 0
      },
      "text/plain": [
       "  0%|          | 0/2500 [00:00<?, ?it/s]"
      ]
     },
     "metadata": {},
     "output_type": "display_data"
    },
    {
     "data": {
      "application/vnd.jupyter.widget-view+json": {
       "model_id": "6680f533caec41f4aa1e982b29e1869f",
       "version_major": 2,
       "version_minor": 0
      },
      "text/plain": [
       "  0%|          | 0/2500 [00:00<?, ?it/s]"
      ]
     },
     "metadata": {},
     "output_type": "display_data"
    },
    {
     "data": {
      "application/vnd.jupyter.widget-view+json": {
       "model_id": "8f022445cbcb45f99638df4f004b0537",
       "version_major": 2,
       "version_minor": 0
      },
      "text/plain": [
       "  0%|          | 0/2500 [00:00<?, ?it/s]"
      ]
     },
     "metadata": {},
     "output_type": "display_data"
    },
    {
     "data": {
      "application/vnd.jupyter.widget-view+json": {
       "model_id": "5a561e7f1dbc42f2b4a89a7cc8d865f1",
       "version_major": 2,
       "version_minor": 0
      },
      "text/plain": [
       "  0%|          | 0/2500 [00:00<?, ?it/s]"
      ]
     },
     "metadata": {},
     "output_type": "display_data"
    },
    {
     "name": "stderr",
     "output_type": "stream",
     "text": [
      "Sampling time = 0:00:02.843826\n",
      "Transforming variables...\n",
      "Transformation time = 0:00:18.618754\n"
     ]
    },
    {
     "name": "stdout",
     "output_type": "stream",
     "text": [
      "Model: king99_pareto_modification\n",
      "        Computed from the raw b_i samples by multiplying by population and then getting\n",
      "        the proportion of the total pop (total pop=summed across all districts):\n",
      "        The posterior mean for the district-level voting preference of\n",
      "        Black for Dan Cox (Republican Party) is\n",
      "        0.051\n",
      "        The posterior mean for the district-level voting preference of\n",
      "        non-Black for Dan Cox (Republican Party) is\n",
      "        0.379\n",
      "        95% equal-tailed Bayesian credible interval for district-level voting preference of\n",
      "        Black for Dan Cox (Republican Party) is\n",
      "        [0.02264736 0.09540243]\n",
      "        95% equal-tailed Bayesian credible interval for district-level voting preference of\n",
      "        non-Black for Dan Cox (Republican Party) is\n",
      "        [0.3662628  0.39131049]\n",
      "        \n"
     ]
    }
   ],
   "source": [
    "md_rep_black_ei_rural, md_rep_black_summary_rural = run_ecological_inference(\n",
    "    df=md_race_merged_ei_rural_df,\n",
    "    demographic_col=\"BLACK_PERCENT\",\n",
    "    voting_col=\"REPUBLICAN_PERCENT\",\n",
    "    total_votes_col=\"TOT_VOT\",\n",
    "    demographic_group_name=\"Black\",\n",
    "    candidate_name=md_candidate_mapping['REPUBLICAN']\n",
    ")"
   ]
  },
  {
   "cell_type": "code",
   "execution_count": 544,
   "metadata": {},
   "outputs": [
    {
     "name": "stderr",
     "output_type": "stream",
     "text": [
      "Compiling...\n",
      "Compilation time = 0:00:01.293767\n",
      "Sampling...\n"
     ]
    },
    {
     "data": {
      "application/vnd.jupyter.widget-view+json": {
       "model_id": "97fc53a80d3649e4934e9f8d37924d99",
       "version_major": 2,
       "version_minor": 0
      },
      "text/plain": [
       "  0%|          | 0/2500 [00:00<?, ?it/s]"
      ]
     },
     "metadata": {},
     "output_type": "display_data"
    },
    {
     "data": {
      "application/vnd.jupyter.widget-view+json": {
       "model_id": "8489e285ec5847139e78242c24e99507",
       "version_major": 2,
       "version_minor": 0
      },
      "text/plain": [
       "  0%|          | 0/2500 [00:00<?, ?it/s]"
      ]
     },
     "metadata": {},
     "output_type": "display_data"
    },
    {
     "data": {
      "application/vnd.jupyter.widget-view+json": {
       "model_id": "71764d2a45894a4abe9795be610c18f0",
       "version_major": 2,
       "version_minor": 0
      },
      "text/plain": [
       "  0%|          | 0/2500 [00:00<?, ?it/s]"
      ]
     },
     "metadata": {},
     "output_type": "display_data"
    },
    {
     "data": {
      "application/vnd.jupyter.widget-view+json": {
       "model_id": "cba3ce58db39471fa2eb1466975f7e14",
       "version_major": 2,
       "version_minor": 0
      },
      "text/plain": [
       "  0%|          | 0/2500 [00:00<?, ?it/s]"
      ]
     },
     "metadata": {},
     "output_type": "display_data"
    },
    {
     "name": "stderr",
     "output_type": "stream",
     "text": [
      "Sampling time = 0:00:02.303482\n",
      "Transforming variables...\n",
      "Transformation time = 0:01:05.768412\n"
     ]
    },
    {
     "name": "stdout",
     "output_type": "stream",
     "text": [
      "Model: king99_pareto_modification\n",
      "        Computed from the raw b_i samples by multiplying by population and then getting\n",
      "        the proportion of the total pop (total pop=summed across all districts):\n",
      "        The posterior mean for the district-level voting preference of\n",
      "        Black for Dan Cox (Republican Party) is\n",
      "        0.019\n",
      "        The posterior mean for the district-level voting preference of\n",
      "        non-Black for Dan Cox (Republican Party) is\n",
      "        0.415\n",
      "        95% equal-tailed Bayesian credible interval for district-level voting preference of\n",
      "        Black for Dan Cox (Republican Party) is\n",
      "        [0.00149679 0.06199323]\n",
      "        95% equal-tailed Bayesian credible interval for district-level voting preference of\n",
      "        non-Black for Dan Cox (Republican Party) is\n",
      "        [0.40441877 0.42063397]\n",
      "        \n"
     ]
    }
   ],
   "source": [
    "md_rep_black_ei_suburban, md_rep_black_summary_suburban = run_ecological_inference(\n",
    "    df=md_race_merged_ei_suburban_df,\n",
    "    demographic_col=\"BLACK_PERCENT\",\n",
    "    voting_col=\"REPUBLICAN_PERCENT\",\n",
    "    total_votes_col=\"TOT_VOT\",\n",
    "    demographic_group_name=\"Black\",\n",
    "    candidate_name=md_candidate_mapping['REPUBLICAN']\n",
    ")"
   ]
  },
  {
   "cell_type": "code",
   "execution_count": 545,
   "metadata": {},
   "outputs": [
    {
     "name": "stderr",
     "output_type": "stream",
     "text": [
      "Compiling...\n",
      "Compilation time = 0:00:01.794446\n",
      "Sampling...\n"
     ]
    },
    {
     "data": {
      "application/vnd.jupyter.widget-view+json": {
       "model_id": "4094cf28f7e845599c203bb40958e4b7",
       "version_major": 2,
       "version_minor": 0
      },
      "text/plain": [
       "  0%|          | 0/2500 [00:00<?, ?it/s]"
      ]
     },
     "metadata": {},
     "output_type": "display_data"
    },
    {
     "data": {
      "application/vnd.jupyter.widget-view+json": {
       "model_id": "17fc2dd16e1d4bb9bf76cf6b582675de",
       "version_major": 2,
       "version_minor": 0
      },
      "text/plain": [
       "  0%|          | 0/2500 [00:00<?, ?it/s]"
      ]
     },
     "metadata": {},
     "output_type": "display_data"
    },
    {
     "data": {
      "application/vnd.jupyter.widget-view+json": {
       "model_id": "5c239067611f42cd8fed9cf1ba801951",
       "version_major": 2,
       "version_minor": 0
      },
      "text/plain": [
       "  0%|          | 0/2500 [00:00<?, ?it/s]"
      ]
     },
     "metadata": {},
     "output_type": "display_data"
    },
    {
     "data": {
      "application/vnd.jupyter.widget-view+json": {
       "model_id": "c67d2f58b73f4ee1969e772689cbcea6",
       "version_major": 2,
       "version_minor": 0
      },
      "text/plain": [
       "  0%|          | 0/2500 [00:00<?, ?it/s]"
      ]
     },
     "metadata": {},
     "output_type": "display_data"
    },
    {
     "name": "stderr",
     "output_type": "stream",
     "text": [
      "Sampling time = 0:00:03.201953\n",
      "Transforming variables...\n",
      "Transformation time = 0:01:13.850780\n"
     ]
    },
    {
     "name": "stdout",
     "output_type": "stream",
     "text": [
      "Model: king99_pareto_modification\n",
      "        Computed from the raw b_i samples by multiplying by population and then getting\n",
      "        the proportion of the total pop (total pop=summed across all districts):\n",
      "        The posterior mean for the district-level voting preference of\n",
      "        Black for Dan Cox (Republican Party) is\n",
      "        0.008\n",
      "        The posterior mean for the district-level voting preference of\n",
      "        non-Black for Dan Cox (Republican Party) is\n",
      "        0.382\n",
      "        95% equal-tailed Bayesian credible interval for district-level voting preference of\n",
      "        Black for Dan Cox (Republican Party) is\n",
      "        [0.00054349 0.03015418]\n",
      "        95% equal-tailed Bayesian credible interval for district-level voting preference of\n",
      "        non-Black for Dan Cox (Republican Party) is\n",
      "        [0.37170709 0.38893074]\n",
      "        \n"
     ]
    }
   ],
   "source": [
    "md_rep_black_ei_urban, md_rep_black_summary_urban = run_ecological_inference(\n",
    "    df=md_race_merged_ei_urban_df,\n",
    "    demographic_col=\"BLACK_PERCENT\",\n",
    "    voting_col=\"REPUBLICAN_PERCENT\",\n",
    "    total_votes_col=\"TOT_VOT\",\n",
    "    demographic_group_name=\"Black\",\n",
    "    candidate_name=md_candidate_mapping['REPUBLICAN']\n",
    ")"
   ]
  },
  {
   "cell_type": "code",
   "execution_count": 546,
   "metadata": {},
   "outputs": [
    {
     "name": "stderr",
     "output_type": "stream",
     "text": [
      "Compiling...\n",
      "Compilation time = 0:00:01.474098\n",
      "Sampling...\n"
     ]
    },
    {
     "data": {
      "application/vnd.jupyter.widget-view+json": {
       "model_id": "cf3c955ce5c04a2f810b8cb007f95523",
       "version_major": 2,
       "version_minor": 0
      },
      "text/plain": [
       "  0%|          | 0/2500 [00:00<?, ?it/s]"
      ]
     },
     "metadata": {},
     "output_type": "display_data"
    },
    {
     "data": {
      "application/vnd.jupyter.widget-view+json": {
       "model_id": "da0a42b358384f99acaafa8fa4e8fd3c",
       "version_major": 2,
       "version_minor": 0
      },
      "text/plain": [
       "  0%|          | 0/2500 [00:00<?, ?it/s]"
      ]
     },
     "metadata": {},
     "output_type": "display_data"
    },
    {
     "data": {
      "application/vnd.jupyter.widget-view+json": {
       "model_id": "97f2d3e6432a44759b2b1e396b6b89fd",
       "version_major": 2,
       "version_minor": 0
      },
      "text/plain": [
       "  0%|          | 0/2500 [00:00<?, ?it/s]"
      ]
     },
     "metadata": {},
     "output_type": "display_data"
    },
    {
     "data": {
      "application/vnd.jupyter.widget-view+json": {
       "model_id": "f8824829ab7b4f9da5471fa5904b43ed",
       "version_major": 2,
       "version_minor": 0
      },
      "text/plain": [
       "  0%|          | 0/2500 [00:00<?, ?it/s]"
      ]
     },
     "metadata": {},
     "output_type": "display_data"
    },
    {
     "name": "stderr",
     "output_type": "stream",
     "text": [
      "Sampling time = 0:00:02.863569\n",
      "Transforming variables...\n",
      "Transformation time = 0:00:50.101619\n"
     ]
    },
    {
     "name": "stdout",
     "output_type": "stream",
     "text": [
      "Model: king99_pareto_modification\n",
      "        Computed from the raw b_i samples by multiplying by population and then getting\n",
      "        the proportion of the total pop (total pop=summed across all districts):\n",
      "        The posterior mean for the district-level voting preference of\n",
      "        Asian for Dan Cox (Republican Party) is\n",
      "        0.191\n",
      "        The posterior mean for the district-level voting preference of\n",
      "        non-Asian for Dan Cox (Republican Party) is\n",
      "        0.320\n",
      "        95% equal-tailed Bayesian credible interval for district-level voting preference of\n",
      "        Asian for Dan Cox (Republican Party) is\n",
      "        [0.01569142 0.38307258]\n",
      "        95% equal-tailed Bayesian credible interval for district-level voting preference of\n",
      "        non-Asian for Dan Cox (Republican Party) is\n",
      "        [0.29526563 0.3452535 ]\n",
      "        \n"
     ]
    }
   ],
   "source": [
    "md_rep_asian_ei, md_rep_asian_summary = run_ecological_inference(\n",
    "    df=md_race_merged_ei_df,\n",
    "    demographic_col=\"ASIAN_PERCENT\",\n",
    "    voting_col=\"REPUBLICAN_PERCENT\",\n",
    "    total_votes_col=\"TOT_VOT\",\n",
    "    demographic_group_name=\"Asian\",\n",
    "    candidate_name=md_candidate_mapping['REPUBLICAN']\n",
    ")"
   ]
  },
  {
   "cell_type": "code",
   "execution_count": 547,
   "metadata": {},
   "outputs": [
    {
     "name": "stderr",
     "output_type": "stream",
     "text": [
      "Compiling...\n",
      "Compilation time = 0:00:07.879049\n",
      "Sampling...\n"
     ]
    },
    {
     "data": {
      "application/vnd.jupyter.widget-view+json": {
       "model_id": "2a6f9e9a30154764ba8903ddfa26cb3d",
       "version_major": 2,
       "version_minor": 0
      },
      "text/plain": [
       "  0%|          | 0/2500 [00:00<?, ?it/s]"
      ]
     },
     "metadata": {},
     "output_type": "display_data"
    },
    {
     "data": {
      "application/vnd.jupyter.widget-view+json": {
       "model_id": "f0689765d794489bbc8a84cd1810e689",
       "version_major": 2,
       "version_minor": 0
      },
      "text/plain": [
       "  0%|          | 0/2500 [00:00<?, ?it/s]"
      ]
     },
     "metadata": {},
     "output_type": "display_data"
    },
    {
     "data": {
      "application/vnd.jupyter.widget-view+json": {
       "model_id": "f8846b646d8045c4ad42c31ee5ea2351",
       "version_major": 2,
       "version_minor": 0
      },
      "text/plain": [
       "  0%|          | 0/2500 [00:00<?, ?it/s]"
      ]
     },
     "metadata": {},
     "output_type": "display_data"
    },
    {
     "data": {
      "application/vnd.jupyter.widget-view+json": {
       "model_id": "c0e4c9c8e43b438083280ae9ae53f7e2",
       "version_major": 2,
       "version_minor": 0
      },
      "text/plain": [
       "  0%|          | 0/2500 [00:00<?, ?it/s]"
      ]
     },
     "metadata": {},
     "output_type": "display_data"
    },
    {
     "name": "stderr",
     "output_type": "stream",
     "text": [
      "Sampling time = 0:00:02.789201\n",
      "Transforming variables...\n",
      "Transformation time = 0:00:11.999995\n"
     ]
    },
    {
     "name": "stdout",
     "output_type": "stream",
     "text": [
      "Model: king99_pareto_modification\n",
      "        Computed from the raw b_i samples by multiplying by population and then getting\n",
      "        the proportion of the total pop (total pop=summed across all districts):\n",
      "        The posterior mean for the district-level voting preference of\n",
      "        Asian for Dan Cox (Republican Party) is\n",
      "        0.390\n",
      "        The posterior mean for the district-level voting preference of\n",
      "        non-Asian for Dan Cox (Republican Party) is\n",
      "        0.327\n",
      "        95% equal-tailed Bayesian credible interval for district-level voting preference of\n",
      "        Asian for Dan Cox (Republican Party) is\n",
      "        [0.11892497 0.64365138]\n",
      "        95% equal-tailed Bayesian credible interval for district-level voting preference of\n",
      "        non-Asian for Dan Cox (Republican Party) is\n",
      "        [0.30967211 0.34677603]\n",
      "        \n"
     ]
    }
   ],
   "source": [
    "md_rep_asian_ei_rural, md_rep_asian_summary_rural = run_ecological_inference(\n",
    "    df=md_race_merged_ei_rural_df,\n",
    "    demographic_col=\"ASIAN_PERCENT\",\n",
    "    voting_col=\"REPUBLICAN_PERCENT\",\n",
    "    total_votes_col=\"TOT_VOT\",\n",
    "    demographic_group_name=\"Asian\",\n",
    "    candidate_name=md_candidate_mapping['REPUBLICAN']\n",
    ")"
   ]
  },
  {
   "cell_type": "code",
   "execution_count": 548,
   "metadata": {},
   "outputs": [
    {
     "name": "stderr",
     "output_type": "stream",
     "text": [
      "Compiling...\n",
      "Compilation time = 0:00:01.919301\n",
      "Sampling...\n"
     ]
    },
    {
     "data": {
      "application/vnd.jupyter.widget-view+json": {
       "model_id": "ac818bfb52204bdcbce9aad364457ec9",
       "version_major": 2,
       "version_minor": 0
      },
      "text/plain": [
       "  0%|          | 0/2500 [00:00<?, ?it/s]"
      ]
     },
     "metadata": {},
     "output_type": "display_data"
    },
    {
     "data": {
      "application/vnd.jupyter.widget-view+json": {
       "model_id": "8ac8bd83014d463bb557a3a6a4047262",
       "version_major": 2,
       "version_minor": 0
      },
      "text/plain": [
       "  0%|          | 0/2500 [00:00<?, ?it/s]"
      ]
     },
     "metadata": {},
     "output_type": "display_data"
    },
    {
     "data": {
      "application/vnd.jupyter.widget-view+json": {
       "model_id": "94a12259db0a4bc1a3c7fa4c9608d12a",
       "version_major": 2,
       "version_minor": 0
      },
      "text/plain": [
       "  0%|          | 0/2500 [00:00<?, ?it/s]"
      ]
     },
     "metadata": {},
     "output_type": "display_data"
    },
    {
     "data": {
      "application/vnd.jupyter.widget-view+json": {
       "model_id": "edf202f2640c4cadb62e1a034c896e52",
       "version_major": 2,
       "version_minor": 0
      },
      "text/plain": [
       "  0%|          | 0/2500 [00:00<?, ?it/s]"
      ]
     },
     "metadata": {},
     "output_type": "display_data"
    },
    {
     "name": "stderr",
     "output_type": "stream",
     "text": [
      "Sampling time = 0:00:02.933809\n",
      "Transforming variables...\n",
      "Transformation time = 0:00:21.902440\n"
     ]
    },
    {
     "name": "stdout",
     "output_type": "stream",
     "text": [
      "Model: king99_pareto_modification\n",
      "        Computed from the raw b_i samples by multiplying by population and then getting\n",
      "        the proportion of the total pop (total pop=summed across all districts):\n",
      "        The posterior mean for the district-level voting preference of\n",
      "        Asian for Dan Cox (Republican Party) is\n",
      "        0.365\n",
      "        The posterior mean for the district-level voting preference of\n",
      "        non-Asian for Dan Cox (Republican Party) is\n",
      "        0.351\n",
      "        95% equal-tailed Bayesian credible interval for district-level voting preference of\n",
      "        Asian for Dan Cox (Republican Party) is\n",
      "        [0.1225927  0.64617722]\n",
      "        95% equal-tailed Bayesian credible interval for district-level voting preference of\n",
      "        non-Asian for Dan Cox (Republican Party) is\n",
      "        [0.32665287 0.37209187]\n",
      "        \n"
     ]
    }
   ],
   "source": [
    "md_rep_asian_ei_suburban, md_rep_asian_summary_suburban = run_ecological_inference(\n",
    "    df=md_race_merged_ei_suburban_df,\n",
    "    demographic_col=\"ASIAN_PERCENT\",\n",
    "    voting_col=\"REPUBLICAN_PERCENT\",\n",
    "    total_votes_col=\"TOT_VOT\",\n",
    "    demographic_group_name=\"Asian\",\n",
    "    candidate_name=md_candidate_mapping['REPUBLICAN']\n",
    ")"
   ]
  },
  {
   "cell_type": "code",
   "execution_count": 549,
   "metadata": {},
   "outputs": [
    {
     "name": "stderr",
     "output_type": "stream",
     "text": [
      "Compiling...\n",
      "Compilation time = 0:00:02.156708\n",
      "Sampling...\n"
     ]
    },
    {
     "data": {
      "application/vnd.jupyter.widget-view+json": {
       "model_id": "00edeef1c0d3442b876487f8e3f77b60",
       "version_major": 2,
       "version_minor": 0
      },
      "text/plain": [
       "  0%|          | 0/2500 [00:00<?, ?it/s]"
      ]
     },
     "metadata": {},
     "output_type": "display_data"
    },
    {
     "data": {
      "application/vnd.jupyter.widget-view+json": {
       "model_id": "5f67fb6e1f3e476baf18981a9263f7ae",
       "version_major": 2,
       "version_minor": 0
      },
      "text/plain": [
       "  0%|          | 0/2500 [00:00<?, ?it/s]"
      ]
     },
     "metadata": {},
     "output_type": "display_data"
    },
    {
     "data": {
      "application/vnd.jupyter.widget-view+json": {
       "model_id": "7db24337164845ada0f1831ce88695ec",
       "version_major": 2,
       "version_minor": 0
      },
      "text/plain": [
       "  0%|          | 0/2500 [00:00<?, ?it/s]"
      ]
     },
     "metadata": {},
     "output_type": "display_data"
    },
    {
     "data": {
      "application/vnd.jupyter.widget-view+json": {
       "model_id": "6c3b53d4a54943c3a499135ea3768107",
       "version_major": 2,
       "version_minor": 0
      },
      "text/plain": [
       "  0%|          | 0/2500 [00:00<?, ?it/s]"
      ]
     },
     "metadata": {},
     "output_type": "display_data"
    },
    {
     "name": "stderr",
     "output_type": "stream",
     "text": [
      "Sampling time = 0:00:02.138748\n",
      "Transforming variables...\n",
      "Transformation time = 0:00:23.007152\n"
     ]
    },
    {
     "name": "stdout",
     "output_type": "stream",
     "text": [
      "Model: king99_pareto_modification\n",
      "        Computed from the raw b_i samples by multiplying by population and then getting\n",
      "        the proportion of the total pop (total pop=summed across all districts):\n",
      "        The posterior mean for the district-level voting preference of\n",
      "        Asian for Dan Cox (Republican Party) is\n",
      "        0.455\n",
      "        The posterior mean for the district-level voting preference of\n",
      "        non-Asian for Dan Cox (Republican Party) is\n",
      "        0.255\n",
      "        95% equal-tailed Bayesian credible interval for district-level voting preference of\n",
      "        Asian for Dan Cox (Republican Party) is\n",
      "        [0.17139778 0.66849602]\n",
      "        95% equal-tailed Bayesian credible interval for district-level voting preference of\n",
      "        non-Asian for Dan Cox (Republican Party) is\n",
      "        [0.2340761 0.2839371]\n",
      "        \n"
     ]
    }
   ],
   "source": [
    "md_rep_asian_ei_urban, md_rep_asian_summary_urban = run_ecological_inference(\n",
    "    df=md_race_merged_ei_urban_df,\n",
    "    demographic_col=\"ASIAN_PERCENT\",\n",
    "    voting_col=\"REPUBLICAN_PERCENT\",\n",
    "    total_votes_col=\"TOT_VOT\",\n",
    "    demographic_group_name=\"Asian\",\n",
    "    candidate_name=md_candidate_mapping['REPUBLICAN']\n",
    ")"
   ]
  },
  {
   "cell_type": "code",
   "execution_count": 550,
   "metadata": {},
   "outputs": [
    {
     "name": "stderr",
     "output_type": "stream",
     "text": [
      "Compiling...\n"
     ]
    },
    {
     "name": "stderr",
     "output_type": "stream",
     "text": [
      "Compilation time = 0:00:01.507919\n",
      "Sampling...\n"
     ]
    },
    {
     "data": {
      "application/vnd.jupyter.widget-view+json": {
       "model_id": "a282b3d5ad9c4233b2f3918dec1f3b07",
       "version_major": 2,
       "version_minor": 0
      },
      "text/plain": [
       "  0%|          | 0/2500 [00:00<?, ?it/s]"
      ]
     },
     "metadata": {},
     "output_type": "display_data"
    },
    {
     "data": {
      "application/vnd.jupyter.widget-view+json": {
       "model_id": "183e723cfb484235b223c917da4e8702",
       "version_major": 2,
       "version_minor": 0
      },
      "text/plain": [
       "  0%|          | 0/2500 [00:00<?, ?it/s]"
      ]
     },
     "metadata": {},
     "output_type": "display_data"
    },
    {
     "data": {
      "application/vnd.jupyter.widget-view+json": {
       "model_id": "2d699245a66f4f64963ed46f4d9d41e6",
       "version_major": 2,
       "version_minor": 0
      },
      "text/plain": [
       "  0%|          | 0/2500 [00:00<?, ?it/s]"
      ]
     },
     "metadata": {},
     "output_type": "display_data"
    },
    {
     "data": {
      "application/vnd.jupyter.widget-view+json": {
       "model_id": "bc2bf89ab7e64d45a88db36f607e1d6b",
       "version_major": 2,
       "version_minor": 0
      },
      "text/plain": [
       "  0%|          | 0/2500 [00:00<?, ?it/s]"
      ]
     },
     "metadata": {},
     "output_type": "display_data"
    },
    {
     "name": "stderr",
     "output_type": "stream",
     "text": [
      "Sampling time = 0:00:02.289090\n",
      "Transforming variables...\n",
      "Transformation time = 0:00:53.110220\n"
     ]
    },
    {
     "name": "stdout",
     "output_type": "stream",
     "text": [
      "Model: king99_pareto_modification\n",
      "        Computed from the raw b_i samples by multiplying by population and then getting\n",
      "        the proportion of the total pop (total pop=summed across all districts):\n",
      "        The posterior mean for the district-level voting preference of\n",
      "        Hispanic for Dan Cox (Republican Party) is\n",
      "        0.074\n",
      "        The posterior mean for the district-level voting preference of\n",
      "        non-Hispanic for Dan Cox (Republican Party) is\n",
      "        0.328\n",
      "        95% equal-tailed Bayesian credible interval for district-level voting preference of\n",
      "        Hispanic for Dan Cox (Republican Party) is\n",
      "        [0.00407003 0.22206635]\n",
      "        95% equal-tailed Bayesian credible interval for district-level voting preference of\n",
      "        non-Hispanic for Dan Cox (Republican Party) is\n",
      "        [0.31279834 0.33591591]\n",
      "        \n"
     ]
    }
   ],
   "source": [
    "md_rep_hispanic_ei, md_rep_hispanic_summary = run_ecological_inference(\n",
    "    df=md_race_merged_ei_df,\n",
    "    demographic_col=\"HISPANIC_PERCENT\",\n",
    "    voting_col=\"REPUBLICAN_PERCENT\",\n",
    "    total_votes_col=\"TOT_VOT\",\n",
    "    demographic_group_name=\"Hispanic\",\n",
    "    candidate_name=md_candidate_mapping['REPUBLICAN']\n",
    ")"
   ]
  },
  {
   "cell_type": "code",
   "execution_count": 551,
   "metadata": {},
   "outputs": [
    {
     "name": "stderr",
     "output_type": "stream",
     "text": [
      "Compiling...\n",
      "Compilation time = 0:00:01.274690\n",
      "Sampling...\n"
     ]
    },
    {
     "data": {
      "application/vnd.jupyter.widget-view+json": {
       "model_id": "c45282776f484a42a0183a9241c3c71b",
       "version_major": 2,
       "version_minor": 0
      },
      "text/plain": [
       "  0%|          | 0/2500 [00:00<?, ?it/s]"
      ]
     },
     "metadata": {},
     "output_type": "display_data"
    },
    {
     "data": {
      "application/vnd.jupyter.widget-view+json": {
       "model_id": "72e11c775abe426e9a4c5c8438a78656",
       "version_major": 2,
       "version_minor": 0
      },
      "text/plain": [
       "  0%|          | 0/2500 [00:00<?, ?it/s]"
      ]
     },
     "metadata": {},
     "output_type": "display_data"
    },
    {
     "data": {
      "application/vnd.jupyter.widget-view+json": {
       "model_id": "015b7f7b31d14bfba6709bdb4ab7ad62",
       "version_major": 2,
       "version_minor": 0
      },
      "text/plain": [
       "  0%|          | 0/2500 [00:00<?, ?it/s]"
      ]
     },
     "metadata": {},
     "output_type": "display_data"
    },
    {
     "data": {
      "application/vnd.jupyter.widget-view+json": {
       "model_id": "73b49bf2ae5e49eba7aabcdbc1912ec6",
       "version_major": 2,
       "version_minor": 0
      },
      "text/plain": [
       "  0%|          | 0/2500 [00:00<?, ?it/s]"
      ]
     },
     "metadata": {},
     "output_type": "display_data"
    },
    {
     "name": "stderr",
     "output_type": "stream",
     "text": [
      "Sampling time = 0:00:02.218193\n",
      "Transforming variables...\n",
      "Transformation time = 0:00:41.314071\n"
     ]
    },
    {
     "name": "stdout",
     "output_type": "stream",
     "text": [
      "Model: king99_pareto_modification\n",
      "        Computed from the raw b_i samples by multiplying by population and then getting\n",
      "        the proportion of the total pop (total pop=summed across all districts):\n",
      "        The posterior mean for the district-level voting preference of\n",
      "        Hispanic for Dan Cox (Republican Party) is\n",
      "        0.136\n",
      "        The posterior mean for the district-level voting preference of\n",
      "        non-Hispanic for Dan Cox (Republican Party) is\n",
      "        0.342\n",
      "        95% equal-tailed Bayesian credible interval for district-level voting preference of\n",
      "        Hispanic for Dan Cox (Republican Party) is\n",
      "        [0.02884046 0.30521827]\n",
      "        95% equal-tailed Bayesian credible interval for district-level voting preference of\n",
      "        non-Hispanic for Dan Cox (Republican Party) is\n",
      "        [0.32947634 0.35142106]\n",
      "        \n"
     ]
    }
   ],
   "source": [
    "md_rep_hispanic_ei_rural, md_rep_hispanic_summary_rural = run_ecological_inference(\n",
    "    df=md_race_merged_ei_rural_df,\n",
    "    demographic_col=\"HISPANIC_PERCENT\",\n",
    "    voting_col=\"REPUBLICAN_PERCENT\",\n",
    "    total_votes_col=\"TOT_VOT\",\n",
    "    demographic_group_name=\"Hispanic\",\n",
    "    candidate_name=md_candidate_mapping['REPUBLICAN']\n",
    ")"
   ]
  },
  {
   "cell_type": "code",
   "execution_count": 552,
   "metadata": {},
   "outputs": [
    {
     "name": "stderr",
     "output_type": "stream",
     "text": [
      "Compiling...\n",
      "Compilation time = 0:00:01.710552\n",
      "Sampling...\n"
     ]
    },
    {
     "data": {
      "application/vnd.jupyter.widget-view+json": {
       "model_id": "25b282090ee04a5bb02f8ac679376ee2",
       "version_major": 2,
       "version_minor": 0
      },
      "text/plain": [
       "  0%|          | 0/2500 [00:00<?, ?it/s]"
      ]
     },
     "metadata": {},
     "output_type": "display_data"
    },
    {
     "data": {
      "application/vnd.jupyter.widget-view+json": {
       "model_id": "c675e62c572a403bb599bda02b99d125",
       "version_major": 2,
       "version_minor": 0
      },
      "text/plain": [
       "  0%|          | 0/2500 [00:00<?, ?it/s]"
      ]
     },
     "metadata": {},
     "output_type": "display_data"
    },
    {
     "data": {
      "application/vnd.jupyter.widget-view+json": {
       "model_id": "8db6a4b9f36741dcb7ecfd1cc95d74c4",
       "version_major": 2,
       "version_minor": 0
      },
      "text/plain": [
       "  0%|          | 0/2500 [00:00<?, ?it/s]"
      ]
     },
     "metadata": {},
     "output_type": "display_data"
    },
    {
     "data": {
      "application/vnd.jupyter.widget-view+json": {
       "model_id": "c996f26672ac41f594075fa705c56ec3",
       "version_major": 2,
       "version_minor": 0
      },
      "text/plain": [
       "  0%|          | 0/2500 [00:00<?, ?it/s]"
      ]
     },
     "metadata": {},
     "output_type": "display_data"
    },
    {
     "name": "stderr",
     "output_type": "stream",
     "text": [
      "Sampling time = 0:00:02.870967\n",
      "Transforming variables...\n",
      "Transformation time = 0:00:25.587499\n"
     ]
    },
    {
     "name": "stdout",
     "output_type": "stream",
     "text": [
      "Model: king99_pareto_modification\n",
      "        Computed from the raw b_i samples by multiplying by population and then getting\n",
      "        the proportion of the total pop (total pop=summed across all districts):\n",
      "        The posterior mean for the district-level voting preference of\n",
      "        Hispanic for Dan Cox (Republican Party) is\n",
      "        0.184\n",
      "        The posterior mean for the district-level voting preference of\n",
      "        non-Hispanic for Dan Cox (Republican Party) is\n",
      "        0.367\n",
      "        95% equal-tailed Bayesian credible interval for district-level voting preference of\n",
      "        Hispanic for Dan Cox (Republican Party) is\n",
      "        [0.03595325 0.38521712]\n",
      "        95% equal-tailed Bayesian credible interval for district-level voting preference of\n",
      "        non-Hispanic for Dan Cox (Republican Party) is\n",
      "        [0.35106093 0.37972629]\n",
      "        \n"
     ]
    }
   ],
   "source": [
    "md_rep_hispanic_ei_suburban, md_rep_hispanic_summary_suburban = run_ecological_inference(\n",
    "    df=md_race_merged_ei_suburban_df,\n",
    "    demographic_col=\"HISPANIC_PERCENT\",\n",
    "    voting_col=\"REPUBLICAN_PERCENT\",\n",
    "    total_votes_col=\"TOT_VOT\",\n",
    "    demographic_group_name=\"Hispanic\",\n",
    "    candidate_name=md_candidate_mapping['REPUBLICAN']\n",
    ")"
   ]
  },
  {
   "cell_type": "code",
   "execution_count": 553,
   "metadata": {},
   "outputs": [
    {
     "name": "stderr",
     "output_type": "stream",
     "text": [
      "Compiling...\n",
      "Compilation time = 0:00:07.412336\n",
      "Sampling...\n"
     ]
    },
    {
     "data": {
      "application/vnd.jupyter.widget-view+json": {
       "model_id": "dc0df5b1325f41b2848c2dbac4be7dc0",
       "version_major": 2,
       "version_minor": 0
      },
      "text/plain": [
       "  0%|          | 0/2500 [00:00<?, ?it/s]"
      ]
     },
     "metadata": {},
     "output_type": "display_data"
    },
    {
     "data": {
      "application/vnd.jupyter.widget-view+json": {
       "model_id": "72a974f46dfe42678513f3e0f24e5394",
       "version_major": 2,
       "version_minor": 0
      },
      "text/plain": [
       "  0%|          | 0/2500 [00:00<?, ?it/s]"
      ]
     },
     "metadata": {},
     "output_type": "display_data"
    },
    {
     "data": {
      "application/vnd.jupyter.widget-view+json": {
       "model_id": "3151bcf6dbb1448680d9117bb1e2bf2c",
       "version_major": 2,
       "version_minor": 0
      },
      "text/plain": [
       "  0%|          | 0/2500 [00:00<?, ?it/s]"
      ]
     },
     "metadata": {},
     "output_type": "display_data"
    },
    {
     "data": {
      "application/vnd.jupyter.widget-view+json": {
       "model_id": "67a5298937734229b6ad23bf2829f1ed",
       "version_major": 2,
       "version_minor": 0
      },
      "text/plain": [
       "  0%|          | 0/2500 [00:00<?, ?it/s]"
      ]
     },
     "metadata": {},
     "output_type": "display_data"
    },
    {
     "name": "stderr",
     "output_type": "stream",
     "text": [
      "Sampling time = 0:00:03.539296\n",
      "Transforming variables...\n",
      "Transformation time = 0:01:06.932204\n"
     ]
    },
    {
     "name": "stdout",
     "output_type": "stream",
     "text": [
      "Model: king99_pareto_modification\n",
      "        Computed from the raw b_i samples by multiplying by population and then getting\n",
      "        the proportion of the total pop (total pop=summed across all districts):\n",
      "        The posterior mean for the district-level voting preference of\n",
      "        Hispanic for Dan Cox (Republican Party) is\n",
      "        0.114\n",
      "        The posterior mean for the district-level voting preference of\n",
      "        non-Hispanic for Dan Cox (Republican Party) is\n",
      "        0.295\n",
      "        95% equal-tailed Bayesian credible interval for district-level voting preference of\n",
      "        Hispanic for Dan Cox (Republican Party) is\n",
      "        [0.01673368 0.25582913]\n",
      "        95% equal-tailed Bayesian credible interval for district-level voting preference of\n",
      "        non-Hispanic for Dan Cox (Republican Party) is\n",
      "        [0.27281891 0.31123147]\n",
      "        \n"
     ]
    }
   ],
   "source": [
    "md_rep_hispanic_ei_urban, md_rep_hispanic_summary_urban = run_ecological_inference(\n",
    "    df=md_race_merged_ei_urban_df,\n",
    "    demographic_col=\"HISPANIC_PERCENT\",\n",
    "    voting_col=\"REPUBLICAN_PERCENT\",\n",
    "    total_votes_col=\"TOT_VOT\",\n",
    "    demographic_group_name=\"Hispanic\",\n",
    "    candidate_name=md_candidate_mapping['REPUBLICAN']\n",
    ")"
   ]
  },
  {
   "cell_type": "markdown",
   "metadata": {},
   "source": [
    "#### Econ Run"
   ]
  },
  {
   "cell_type": "markdown",
   "metadata": {},
   "source": [
    "##### Dem Run"
   ]
  },
  {
   "cell_type": "code",
   "execution_count": 554,
   "metadata": {},
   "outputs": [
    {
     "name": "stderr",
     "output_type": "stream",
     "text": [
      "Compiling...\n",
      "Compilation time = 0:00:01.596844\n",
      "Sampling...\n"
     ]
    },
    {
     "data": {
      "application/vnd.jupyter.widget-view+json": {
       "model_id": "2cc1f9667a1048f8a26304c008aa78aa",
       "version_major": 2,
       "version_minor": 0
      },
      "text/plain": [
       "  0%|          | 0/2500 [00:00<?, ?it/s]"
      ]
     },
     "metadata": {},
     "output_type": "display_data"
    },
    {
     "data": {
      "application/vnd.jupyter.widget-view+json": {
       "model_id": "af07ef4644f14c62be34f5acf9307b67",
       "version_major": 2,
       "version_minor": 0
      },
      "text/plain": [
       "  0%|          | 0/2500 [00:00<?, ?it/s]"
      ]
     },
     "metadata": {},
     "output_type": "display_data"
    },
    {
     "data": {
      "application/vnd.jupyter.widget-view+json": {
       "model_id": "001323a938b44b0eb09fa1b2f2c04c45",
       "version_major": 2,
       "version_minor": 0
      },
      "text/plain": [
       "  0%|          | 0/2500 [00:00<?, ?it/s]"
      ]
     },
     "metadata": {},
     "output_type": "display_data"
    },
    {
     "data": {
      "application/vnd.jupyter.widget-view+json": {
       "model_id": "eb8495aade934aa7b7672afb6f6cbf39",
       "version_major": 2,
       "version_minor": 0
      },
      "text/plain": [
       "  0%|          | 0/2500 [00:00<?, ?it/s]"
      ]
     },
     "metadata": {},
     "output_type": "display_data"
    },
    {
     "name": "stderr",
     "output_type": "stream",
     "text": [
      "Sampling time = 0:00:02.525066\n",
      "Transforming variables...\n",
      "Transformation time = 0:00:45.348431\n"
     ]
    },
    {
     "name": "stdout",
     "output_type": "stream",
     "text": [
      "Model: king99_pareto_modification\n",
      "        Computed from the raw b_i samples by multiplying by population and then getting\n",
      "        the proportion of the total pop (total pop=summed across all districts):\n",
      "        The posterior mean for the district-level voting preference of\n",
      "        $0-$35,000 for Wes Moore (Democratic Party) is\n",
      "        0.910\n",
      "        The posterior mean for the district-level voting preference of\n",
      "        non-$0-$35,000 for Wes Moore (Democratic Party) is\n",
      "        0.620\n",
      "        95% equal-tailed Bayesian credible interval for district-level voting preference of\n",
      "        $0-$35,000 for Wes Moore (Democratic Party) is\n",
      "        [0.81279094 0.97162749]\n",
      "        95% equal-tailed Bayesian credible interval for district-level voting preference of\n",
      "        non-$0-$35,000 for Wes Moore (Democratic Party) is\n",
      "        [0.60968968 0.63589659]\n",
      "        \n"
     ]
    }
   ],
   "source": [
    "md_dem_0_35_ei, md_dem_0_35_summary = run_ecological_inference(\n",
    "    df=md_economic_merged_ei_df,\n",
    "    demographic_col=\"0_35K_PERCENT\",\n",
    "    voting_col=\"DEMOCRATIC_PERCENT\",\n",
    "    total_votes_col=\"TOT_VOT\",\n",
    "    demographic_group_name=\"$0-$35,000\",\n",
    "    candidate_name=md_candidate_mapping['DEMOCRATIC']\n",
    ")"
   ]
  },
  {
   "cell_type": "code",
   "execution_count": 555,
   "metadata": {},
   "outputs": [
    {
     "name": "stderr",
     "output_type": "stream",
     "text": [
      "Compiling...\n",
      "Compilation time = 0:00:01.670573\n",
      "Sampling...\n"
     ]
    },
    {
     "data": {
      "application/vnd.jupyter.widget-view+json": {
       "model_id": "3263d25a3e82406daa8493a09e7a6646",
       "version_major": 2,
       "version_minor": 0
      },
      "text/plain": [
       "  0%|          | 0/2500 [00:00<?, ?it/s]"
      ]
     },
     "metadata": {},
     "output_type": "display_data"
    },
    {
     "data": {
      "application/vnd.jupyter.widget-view+json": {
       "model_id": "929d9099501342ec9af3fef7459fc900",
       "version_major": 2,
       "version_minor": 0
      },
      "text/plain": [
       "  0%|          | 0/2500 [00:00<?, ?it/s]"
      ]
     },
     "metadata": {},
     "output_type": "display_data"
    },
    {
     "data": {
      "application/vnd.jupyter.widget-view+json": {
       "model_id": "b5cb4f5a895a4848b006f964e4a65167",
       "version_major": 2,
       "version_minor": 0
      },
      "text/plain": [
       "  0%|          | 0/2500 [00:00<?, ?it/s]"
      ]
     },
     "metadata": {},
     "output_type": "display_data"
    },
    {
     "data": {
      "application/vnd.jupyter.widget-view+json": {
       "model_id": "03a3db22b76c461a8fb28ddb0d51ab58",
       "version_major": 2,
       "version_minor": 0
      },
      "text/plain": [
       "  0%|          | 0/2500 [00:00<?, ?it/s]"
      ]
     },
     "metadata": {},
     "output_type": "display_data"
    },
    {
     "name": "stderr",
     "output_type": "stream",
     "text": [
      "Sampling time = 0:00:03.620986\n",
      "Transforming variables...\n",
      "Transformation time = 0:00:38.371518\n"
     ]
    },
    {
     "name": "stdout",
     "output_type": "stream",
     "text": [
      "Model: king99_pareto_modification\n",
      "        Computed from the raw b_i samples by multiplying by population and then getting\n",
      "        the proportion of the total pop (total pop=summed across all districts):\n",
      "        The posterior mean for the district-level voting preference of\n",
      "        $0-$35,000 for Wes Moore (Democratic Party) is\n",
      "        0.903\n",
      "        The posterior mean for the district-level voting preference of\n",
      "        non-$0-$35,000 for Wes Moore (Democratic Party) is\n",
      "        0.635\n",
      "        95% equal-tailed Bayesian credible interval for district-level voting preference of\n",
      "        $0-$35,000 for Wes Moore (Democratic Party) is\n",
      "        [0.78810987 0.98195294]\n",
      "        95% equal-tailed Bayesian credible interval for district-level voting preference of\n",
      "        non-$0-$35,000 for Wes Moore (Democratic Party) is\n",
      "        [0.62192162 0.6561082 ]\n",
      "        \n"
     ]
    }
   ],
   "source": [
    "md_dem_0_35_ei_rural, md_dem_0_35_summary_rural = run_ecological_inference(\n",
    "    df=md_economic_merged_ei_rural_df,\n",
    "    demographic_col=\"0_35K_PERCENT\",\n",
    "    voting_col=\"DEMOCRATIC_PERCENT\",\n",
    "    total_votes_col=\"TOT_VOT\",\n",
    "    demographic_group_name=\"$0-$35,000\",\n",
    "    candidate_name=md_candidate_mapping['DEMOCRATIC']\n",
    ")"
   ]
  },
  {
   "cell_type": "code",
   "execution_count": 556,
   "metadata": {},
   "outputs": [
    {
     "name": "stderr",
     "output_type": "stream",
     "text": [
      "Compiling...\n",
      "Compilation time = 0:00:01.481086\n",
      "Sampling...\n"
     ]
    },
    {
     "data": {
      "application/vnd.jupyter.widget-view+json": {
       "model_id": "25f6dcc1d7814b4583f33d074dcb3a3a",
       "version_major": 2,
       "version_minor": 0
      },
      "text/plain": [
       "  0%|          | 0/2500 [00:00<?, ?it/s]"
      ]
     },
     "metadata": {},
     "output_type": "display_data"
    },
    {
     "data": {
      "application/vnd.jupyter.widget-view+json": {
       "model_id": "eeeda8e9edbe4f02bd401763fc35150e",
       "version_major": 2,
       "version_minor": 0
      },
      "text/plain": [
       "  0%|          | 0/2500 [00:00<?, ?it/s]"
      ]
     },
     "metadata": {},
     "output_type": "display_data"
    },
    {
     "data": {
      "application/vnd.jupyter.widget-view+json": {
       "model_id": "d55ddad1dd7e4280a0ef66238aa098d8",
       "version_major": 2,
       "version_minor": 0
      },
      "text/plain": [
       "  0%|          | 0/2500 [00:00<?, ?it/s]"
      ]
     },
     "metadata": {},
     "output_type": "display_data"
    },
    {
     "data": {
      "application/vnd.jupyter.widget-view+json": {
       "model_id": "acf65c03f902452b82e3fa51a78edbc1",
       "version_major": 2,
       "version_minor": 0
      },
      "text/plain": [
       "  0%|          | 0/2500 [00:00<?, ?it/s]"
      ]
     },
     "metadata": {},
     "output_type": "display_data"
    },
    {
     "name": "stderr",
     "output_type": "stream",
     "text": [
      "Sampling time = 0:00:02.249869\n",
      "Transforming variables...\n",
      "Transformation time = 0:00:24.294531\n"
     ]
    },
    {
     "name": "stdout",
     "output_type": "stream",
     "text": [
      "Model: king99_pareto_modification\n",
      "        Computed from the raw b_i samples by multiplying by population and then getting\n",
      "        the proportion of the total pop (total pop=summed across all districts):\n",
      "        The posterior mean for the district-level voting preference of\n",
      "        $0-$35,000 for Wes Moore (Democratic Party) is\n",
      "        0.846\n",
      "        The posterior mean for the district-level voting preference of\n",
      "        non-$0-$35,000 for Wes Moore (Democratic Party) is\n",
      "        0.614\n",
      "        95% equal-tailed Bayesian credible interval for district-level voting preference of\n",
      "        $0-$35,000 for Wes Moore (Democratic Party) is\n",
      "        [0.70099288 0.95050615]\n",
      "        95% equal-tailed Bayesian credible interval for district-level voting preference of\n",
      "        non-$0-$35,000 for Wes Moore (Democratic Party) is\n",
      "        [0.59799159 0.63434661]\n",
      "        \n"
     ]
    }
   ],
   "source": [
    "md_dem_0_35_ei_suburban, md_dem_0_35_summary_suburban = run_ecological_inference(\n",
    "    df=md_economic_merged_ei_suburban_df,\n",
    "    demographic_col=\"0_35K_PERCENT\",\n",
    "    voting_col=\"DEMOCRATIC_PERCENT\",\n",
    "    total_votes_col=\"TOT_VOT\",\n",
    "    demographic_group_name=\"$0-$35,000\",\n",
    "    candidate_name=md_candidate_mapping['DEMOCRATIC']\n",
    ")"
   ]
  },
  {
   "cell_type": "code",
   "execution_count": 557,
   "metadata": {},
   "outputs": [
    {
     "name": "stderr",
     "output_type": "stream",
     "text": [
      "Compiling...\n",
      "Compilation time = 0:00:01.550241\n",
      "Sampling...\n"
     ]
    },
    {
     "data": {
      "application/vnd.jupyter.widget-view+json": {
       "model_id": "1044ddabe0dd44a3893abcef0d9ea4f7",
       "version_major": 2,
       "version_minor": 0
      },
      "text/plain": [
       "  0%|          | 0/2500 [00:00<?, ?it/s]"
      ]
     },
     "metadata": {},
     "output_type": "display_data"
    },
    {
     "data": {
      "application/vnd.jupyter.widget-view+json": {
       "model_id": "00ef5ba61dec46a08a605668366f3bb9",
       "version_major": 2,
       "version_minor": 0
      },
      "text/plain": [
       "  0%|          | 0/2500 [00:00<?, ?it/s]"
      ]
     },
     "metadata": {},
     "output_type": "display_data"
    },
    {
     "data": {
      "application/vnd.jupyter.widget-view+json": {
       "model_id": "7d3a89f20c8742f18265a2ff8975a0d4",
       "version_major": 2,
       "version_minor": 0
      },
      "text/plain": [
       "  0%|          | 0/2500 [00:00<?, ?it/s]"
      ]
     },
     "metadata": {},
     "output_type": "display_data"
    },
    {
     "data": {
      "application/vnd.jupyter.widget-view+json": {
       "model_id": "9af9e8e55be54997988236569dc6b949",
       "version_major": 2,
       "version_minor": 0
      },
      "text/plain": [
       "  0%|          | 0/2500 [00:00<?, ?it/s]"
      ]
     },
     "metadata": {},
     "output_type": "display_data"
    },
    {
     "name": "stderr",
     "output_type": "stream",
     "text": [
      "Sampling time = 0:00:02.268263\n",
      "Transforming variables...\n",
      "Transformation time = 0:00:25.550355\n"
     ]
    },
    {
     "name": "stdout",
     "output_type": "stream",
     "text": [
      "Model: king99_pareto_modification\n",
      "        Computed from the raw b_i samples by multiplying by population and then getting\n",
      "        the proportion of the total pop (total pop=summed across all districts):\n",
      "        The posterior mean for the district-level voting preference of\n",
      "        $0-$35,000 for Wes Moore (Democratic Party) is\n",
      "        0.790\n",
      "        The posterior mean for the district-level voting preference of\n",
      "        non-$0-$35,000 for Wes Moore (Democratic Party) is\n",
      "        0.713\n",
      "        95% equal-tailed Bayesian credible interval for district-level voting preference of\n",
      "        $0-$35,000 for Wes Moore (Democratic Party) is\n",
      "        [0.63822739 0.93298393]\n",
      "        95% equal-tailed Bayesian credible interval for district-level voting preference of\n",
      "        non-$0-$35,000 for Wes Moore (Democratic Party) is\n",
      "        [0.69131603 0.73574561]\n",
      "        \n"
     ]
    }
   ],
   "source": [
    "md_dem_0_35_ei_urban, md_dem_0_35_summary_urban = run_ecological_inference(\n",
    "    df=md_economic_merged_ei_urban_df,\n",
    "    demographic_col=\"0_35K_PERCENT\",\n",
    "    voting_col=\"DEMOCRATIC_PERCENT\",\n",
    "    total_votes_col=\"TOT_VOT\",\n",
    "    demographic_group_name=\"$0-$35,000\",\n",
    "    candidate_name=md_candidate_mapping['DEMOCRATIC']\n",
    ")"
   ]
  },
  {
   "cell_type": "code",
   "execution_count": 558,
   "metadata": {},
   "outputs": [
    {
     "name": "stderr",
     "output_type": "stream",
     "text": [
      "Compiling...\n",
      "Compilation time = 0:00:05.634822\n",
      "Sampling...\n"
     ]
    },
    {
     "data": {
      "application/vnd.jupyter.widget-view+json": {
       "model_id": "ef86af5766e3414dba4b2880608ad61c",
       "version_major": 2,
       "version_minor": 0
      },
      "text/plain": [
       "  0%|          | 0/2500 [00:00<?, ?it/s]"
      ]
     },
     "metadata": {},
     "output_type": "display_data"
    },
    {
     "data": {
      "application/vnd.jupyter.widget-view+json": {
       "model_id": "e36ea6cba86c48c4a209be2962b898a4",
       "version_major": 2,
       "version_minor": 0
      },
      "text/plain": [
       "  0%|          | 0/2500 [00:00<?, ?it/s]"
      ]
     },
     "metadata": {},
     "output_type": "display_data"
    },
    {
     "data": {
      "application/vnd.jupyter.widget-view+json": {
       "model_id": "15ad2eb326094aa6a80b30738689b438",
       "version_major": 2,
       "version_minor": 0
      },
      "text/plain": [
       "  0%|          | 0/2500 [00:00<?, ?it/s]"
      ]
     },
     "metadata": {},
     "output_type": "display_data"
    },
    {
     "data": {
      "application/vnd.jupyter.widget-view+json": {
       "model_id": "bc7f5faac2c04d54a2cb6577d95f938a",
       "version_major": 2,
       "version_minor": 0
      },
      "text/plain": [
       "  0%|          | 0/2500 [00:00<?, ?it/s]"
      ]
     },
     "metadata": {},
     "output_type": "display_data"
    },
    {
     "name": "stderr",
     "output_type": "stream",
     "text": [
      "Sampling time = 0:00:01.975715\n",
      "Transforming variables...\n",
      "Transformation time = 0:00:46.580367\n"
     ]
    },
    {
     "name": "stdout",
     "output_type": "stream",
     "text": [
      "Model: king99_pareto_modification\n",
      "        Computed from the raw b_i samples by multiplying by population and then getting\n",
      "        the proportion of the total pop (total pop=summed across all districts):\n",
      "        The posterior mean for the district-level voting preference of\n",
      "        $35,000-$60,000 for Wes Moore (Democratic Party) is\n",
      "        0.960\n",
      "        The posterior mean for the district-level voting preference of\n",
      "        non-$35,000-$60,000 for Wes Moore (Democratic Party) is\n",
      "        0.620\n",
      "        95% equal-tailed Bayesian credible interval for district-level voting preference of\n",
      "        $35,000-$60,000 for Wes Moore (Democratic Party) is\n",
      "        [0.88459722 0.99526422]\n",
      "        95% equal-tailed Bayesian credible interval for district-level voting preference of\n",
      "        non-$35,000-$60,000 for Wes Moore (Democratic Party) is\n",
      "        [0.61400526 0.63084268]\n",
      "        \n"
     ]
    }
   ],
   "source": [
    "md_dem_35_60_ei, md_dem_35_60_summary = run_ecological_inference(\n",
    "    df=md_economic_merged_ei_df,\n",
    "    demographic_col=\"35K_60K_PERCENT\",\n",
    "    voting_col=\"DEMOCRATIC_PERCENT\",\n",
    "    total_votes_col=\"TOT_VOT\",\n",
    "    demographic_group_name=\"$35,000-$60,000\",\n",
    "    candidate_name=md_candidate_mapping['DEMOCRATIC']\n",
    ")"
   ]
  },
  {
   "cell_type": "code",
   "execution_count": 559,
   "metadata": {},
   "outputs": [
    {
     "name": "stderr",
     "output_type": "stream",
     "text": [
      "Compiling...\n",
      "Compilation time = 0:00:01.529218\n",
      "Sampling...\n"
     ]
    },
    {
     "data": {
      "application/vnd.jupyter.widget-view+json": {
       "model_id": "4148ddda5c3042c7b055923efcff19d8",
       "version_major": 2,
       "version_minor": 0
      },
      "text/plain": [
       "  0%|          | 0/2500 [00:00<?, ?it/s]"
      ]
     },
     "metadata": {},
     "output_type": "display_data"
    },
    {
     "data": {
      "application/vnd.jupyter.widget-view+json": {
       "model_id": "47797a734e4f4defbf5013009e5d092f",
       "version_major": 2,
       "version_minor": 0
      },
      "text/plain": [
       "  0%|          | 0/2500 [00:00<?, ?it/s]"
      ]
     },
     "metadata": {},
     "output_type": "display_data"
    },
    {
     "data": {
      "application/vnd.jupyter.widget-view+json": {
       "model_id": "e4c83d1e934042fe93ece34d904d972b",
       "version_major": 2,
       "version_minor": 0
      },
      "text/plain": [
       "  0%|          | 0/2500 [00:00<?, ?it/s]"
      ]
     },
     "metadata": {},
     "output_type": "display_data"
    },
    {
     "data": {
      "application/vnd.jupyter.widget-view+json": {
       "model_id": "45dd1c5b563246e0b6be7880aad26cff",
       "version_major": 2,
       "version_minor": 0
      },
      "text/plain": [
       "  0%|          | 0/2500 [00:00<?, ?it/s]"
      ]
     },
     "metadata": {},
     "output_type": "display_data"
    },
    {
     "name": "stderr",
     "output_type": "stream",
     "text": [
      "Sampling time = 0:00:02.291235\n",
      "Transforming variables...\n",
      "Transformation time = 0:00:20.351854\n"
     ]
    },
    {
     "name": "stdout",
     "output_type": "stream",
     "text": [
      "Model: king99_pareto_modification\n",
      "        Computed from the raw b_i samples by multiplying by population and then getting\n",
      "        the proportion of the total pop (total pop=summed across all districts):\n",
      "        The posterior mean for the district-level voting preference of\n",
      "        $35,000-$60,000 for Wes Moore (Democratic Party) is\n",
      "        0.902\n",
      "        The posterior mean for the district-level voting preference of\n",
      "        non-$35,000-$60,000 for Wes Moore (Democratic Party) is\n",
      "        0.640\n",
      "        95% equal-tailed Bayesian credible interval for district-level voting preference of\n",
      "        $35,000-$60,000 for Wes Moore (Democratic Party) is\n",
      "        [0.78765936 0.97751669]\n",
      "        95% equal-tailed Bayesian credible interval for district-level voting preference of\n",
      "        non-$35,000-$60,000 for Wes Moore (Democratic Party) is\n",
      "        [0.63025226 0.65356351]\n",
      "        \n"
     ]
    }
   ],
   "source": [
    "md_dem_35_60_ei_rural, md_dem_35_60_summary_rural = run_ecological_inference(\n",
    "    df=md_economic_merged_ei_rural_df,\n",
    "    demographic_col=\"35K_60K_PERCENT\",\n",
    "    voting_col=\"DEMOCRATIC_PERCENT\",\n",
    "    total_votes_col=\"TOT_VOT\",\n",
    "    demographic_group_name=\"$35,000-$60,000\",\n",
    "    candidate_name=md_candidate_mapping['DEMOCRATIC']\n",
    ")"
   ]
  },
  {
   "cell_type": "code",
   "execution_count": 560,
   "metadata": {},
   "outputs": [
    {
     "name": "stderr",
     "output_type": "stream",
     "text": [
      "Compiling...\n",
      "Compilation time = 0:00:01.435329\n",
      "Sampling...\n"
     ]
    },
    {
     "data": {
      "application/vnd.jupyter.widget-view+json": {
       "model_id": "ab654ee0b4b34b92a7f9dc03ecd85361",
       "version_major": 2,
       "version_minor": 0
      },
      "text/plain": [
       "  0%|          | 0/2500 [00:00<?, ?it/s]"
      ]
     },
     "metadata": {},
     "output_type": "display_data"
    },
    {
     "data": {
      "application/vnd.jupyter.widget-view+json": {
       "model_id": "bcc139f6e2d448e9bc43f89c84ce5ada",
       "version_major": 2,
       "version_minor": 0
      },
      "text/plain": [
       "  0%|          | 0/2500 [00:00<?, ?it/s]"
      ]
     },
     "metadata": {},
     "output_type": "display_data"
    },
    {
     "data": {
      "application/vnd.jupyter.widget-view+json": {
       "model_id": "25369d6145254f9c92ac800b4e3a9649",
       "version_major": 2,
       "version_minor": 0
      },
      "text/plain": [
       "  0%|          | 0/2500 [00:00<?, ?it/s]"
      ]
     },
     "metadata": {},
     "output_type": "display_data"
    },
    {
     "data": {
      "application/vnd.jupyter.widget-view+json": {
       "model_id": "f03da9242af1422ea111b59bdec073ff",
       "version_major": 2,
       "version_minor": 0
      },
      "text/plain": [
       "  0%|          | 0/2500 [00:00<?, ?it/s]"
      ]
     },
     "metadata": {},
     "output_type": "display_data"
    },
    {
     "name": "stderr",
     "output_type": "stream",
     "text": [
      "Sampling time = 0:00:02.246296\n",
      "Transforming variables...\n",
      "Transformation time = 0:00:23.448217\n"
     ]
    },
    {
     "name": "stdout",
     "output_type": "stream",
     "text": [
      "Model: king99_pareto_modification\n",
      "        Computed from the raw b_i samples by multiplying by population and then getting\n",
      "        the proportion of the total pop (total pop=summed across all districts):\n",
      "        The posterior mean for the district-level voting preference of\n",
      "        $35,000-$60,000 for Wes Moore (Democratic Party) is\n",
      "        0.846\n",
      "        The posterior mean for the district-level voting preference of\n",
      "        non-$35,000-$60,000 for Wes Moore (Democratic Party) is\n",
      "        0.616\n",
      "        95% equal-tailed Bayesian credible interval for district-level voting preference of\n",
      "        $35,000-$60,000 for Wes Moore (Democratic Party) is\n",
      "        [0.68080475 0.9647417 ]\n",
      "        95% equal-tailed Bayesian credible interval for district-level voting preference of\n",
      "        non-$35,000-$60,000 for Wes Moore (Democratic Party) is\n",
      "        [0.60152074 0.63663976]\n",
      "        \n"
     ]
    }
   ],
   "source": [
    "md_dem_35_60_ei_suburban, md_dem_35_60_summary_rural_suburban = run_ecological_inference(\n",
    "    df=md_economic_merged_ei_suburban_df,\n",
    "    demographic_col=\"35K_60K_PERCENT\",\n",
    "    voting_col=\"DEMOCRATIC_PERCENT\",\n",
    "    total_votes_col=\"TOT_VOT\",\n",
    "    demographic_group_name=\"$35,000-$60,000\",\n",
    "    candidate_name=md_candidate_mapping['DEMOCRATIC']\n",
    ")"
   ]
  },
  {
   "cell_type": "code",
   "execution_count": 561,
   "metadata": {},
   "outputs": [
    {
     "name": "stderr",
     "output_type": "stream",
     "text": [
      "Compiling...\n",
      "Compilation time = 0:00:01.596646\n",
      "Sampling...\n"
     ]
    },
    {
     "data": {
      "application/vnd.jupyter.widget-view+json": {
       "model_id": "5fac51c586fb480cb2138258a4fac334",
       "version_major": 2,
       "version_minor": 0
      },
      "text/plain": [
       "  0%|          | 0/2500 [00:00<?, ?it/s]"
      ]
     },
     "metadata": {},
     "output_type": "display_data"
    },
    {
     "data": {
      "application/vnd.jupyter.widget-view+json": {
       "model_id": "0c109ac92be647ac92e8ad36e23e6e75",
       "version_major": 2,
       "version_minor": 0
      },
      "text/plain": [
       "  0%|          | 0/2500 [00:00<?, ?it/s]"
      ]
     },
     "metadata": {},
     "output_type": "display_data"
    },
    {
     "data": {
      "application/vnd.jupyter.widget-view+json": {
       "model_id": "178dc78c381d49868aa13f1483b37841",
       "version_major": 2,
       "version_minor": 0
      },
      "text/plain": [
       "  0%|          | 0/2500 [00:00<?, ?it/s]"
      ]
     },
     "metadata": {},
     "output_type": "display_data"
    },
    {
     "data": {
      "application/vnd.jupyter.widget-view+json": {
       "model_id": "40ce3a1271fa42869eab9bdf1938344f",
       "version_major": 2,
       "version_minor": 0
      },
      "text/plain": [
       "  0%|          | 0/2500 [00:00<?, ?it/s]"
      ]
     },
     "metadata": {},
     "output_type": "display_data"
    },
    {
     "name": "stderr",
     "output_type": "stream",
     "text": [
      "Sampling time = 0:00:02.328027\n",
      "Transforming variables...\n",
      "Transformation time = 0:00:36.204202\n"
     ]
    },
    {
     "name": "stdout",
     "output_type": "stream",
     "text": [
      "Model: king99_pareto_modification\n",
      "        Computed from the raw b_i samples by multiplying by population and then getting\n",
      "        the proportion of the total pop (total pop=summed across all districts):\n",
      "        The posterior mean for the district-level voting preference of\n",
      "        $35,000-$60,000 for Wes Moore (Democratic Party) is\n",
      "        0.885\n",
      "        The posterior mean for the district-level voting preference of\n",
      "        non-$35,000-$60,000 for Wes Moore (Democratic Party) is\n",
      "        0.702\n",
      "        95% equal-tailed Bayesian credible interval for district-level voting preference of\n",
      "        $35,000-$60,000 for Wes Moore (Democratic Party) is\n",
      "        [0.71799302 0.98351361]\n",
      "        95% equal-tailed Bayesian credible interval for district-level voting preference of\n",
      "        non-$35,000-$60,000 for Wes Moore (Democratic Party) is\n",
      "        [0.68836059 0.72404106]\n",
      "        \n"
     ]
    }
   ],
   "source": [
    "md_dem_35_60_ei_urban, md_dem_35_60_summary_urban = run_ecological_inference(\n",
    "    df=md_economic_merged_ei_urban_df,\n",
    "    demographic_col=\"35K_60K_PERCENT\",\n",
    "    voting_col=\"DEMOCRATIC_PERCENT\",\n",
    "    total_votes_col=\"TOT_VOT\",\n",
    "    demographic_group_name=\"$35,000-$60,000\",\n",
    "    candidate_name=md_candidate_mapping['DEMOCRATIC']\n",
    ")"
   ]
  },
  {
   "cell_type": "code",
   "execution_count": 562,
   "metadata": {},
   "outputs": [
    {
     "name": "stderr",
     "output_type": "stream",
     "text": [
      "Compiling...\n",
      "Compilation time = 0:00:01.288175\n",
      "Sampling...\n"
     ]
    },
    {
     "data": {
      "application/vnd.jupyter.widget-view+json": {
       "model_id": "0efbd27fb20947caa328749be47217b3",
       "version_major": 2,
       "version_minor": 0
      },
      "text/plain": [
       "  0%|          | 0/2500 [00:00<?, ?it/s]"
      ]
     },
     "metadata": {},
     "output_type": "display_data"
    },
    {
     "data": {
      "application/vnd.jupyter.widget-view+json": {
       "model_id": "3b40fca4b8184e71ad6e05e293226b15",
       "version_major": 2,
       "version_minor": 0
      },
      "text/plain": [
       "  0%|          | 0/2500 [00:00<?, ?it/s]"
      ]
     },
     "metadata": {},
     "output_type": "display_data"
    },
    {
     "data": {
      "application/vnd.jupyter.widget-view+json": {
       "model_id": "9ef45b2edb414916affea74dd83409f1",
       "version_major": 2,
       "version_minor": 0
      },
      "text/plain": [
       "  0%|          | 0/2500 [00:00<?, ?it/s]"
      ]
     },
     "metadata": {},
     "output_type": "display_data"
    },
    {
     "data": {
      "application/vnd.jupyter.widget-view+json": {
       "model_id": "ed7ad88c3b0e4006b1d64a6cd9f1b030",
       "version_major": 2,
       "version_minor": 0
      },
      "text/plain": [
       "  0%|          | 0/2500 [00:00<?, ?it/s]"
      ]
     },
     "metadata": {},
     "output_type": "display_data"
    },
    {
     "name": "stderr",
     "output_type": "stream",
     "text": [
      "Sampling time = 0:00:02.173739\n",
      "Transforming variables...\n",
      "Transformation time = 0:00:43.734334\n"
     ]
    },
    {
     "name": "stdout",
     "output_type": "stream",
     "text": [
      "Model: king99_pareto_modification\n",
      "        Computed from the raw b_i samples by multiplying by population and then getting\n",
      "        the proportion of the total pop (total pop=summed across all districts):\n",
      "        The posterior mean for the district-level voting preference of\n",
      "        $35,000-$60,000 for Wes Moore (Democratic Party) is\n",
      "        0.885\n",
      "        The posterior mean for the district-level voting preference of\n",
      "        non-$35,000-$60,000 for Wes Moore (Democratic Party) is\n",
      "        0.614\n",
      "        95% equal-tailed Bayesian credible interval for district-level voting preference of\n",
      "        $35,000-$60,000 for Wes Moore (Democratic Party) is\n",
      "        [0.75552701 0.97739682]\n",
      "        95% equal-tailed Bayesian credible interval for district-level voting preference of\n",
      "        non-$35,000-$60,000 for Wes Moore (Democratic Party) is\n",
      "        [0.5939256  0.63984417]\n",
      "        \n"
     ]
    }
   ],
   "source": [
    "md_dem_60_100_ei, md_dem_60_100_summary = run_ecological_inference(\n",
    "    df=md_economic_merged_ei_df,\n",
    "    demographic_col=\"60K_100K_PERCENT\",\n",
    "    voting_col=\"DEMOCRATIC_PERCENT\",\n",
    "    total_votes_col=\"TOT_VOT\",\n",
    "    demographic_group_name=\"$35,000-$60,000\",\n",
    "    candidate_name=md_candidate_mapping['DEMOCRATIC']\n",
    ")"
   ]
  },
  {
   "cell_type": "code",
   "execution_count": 563,
   "metadata": {},
   "outputs": [
    {
     "name": "stderr",
     "output_type": "stream",
     "text": [
      "Compiling...\n"
     ]
    },
    {
     "name": "stderr",
     "output_type": "stream",
     "text": [
      "Compilation time = 0:00:01.341223\n",
      "Sampling...\n"
     ]
    },
    {
     "data": {
      "application/vnd.jupyter.widget-view+json": {
       "model_id": "30feef3b69ee4fecbb905a687c616082",
       "version_major": 2,
       "version_minor": 0
      },
      "text/plain": [
       "  0%|          | 0/2500 [00:00<?, ?it/s]"
      ]
     },
     "metadata": {},
     "output_type": "display_data"
    },
    {
     "data": {
      "application/vnd.jupyter.widget-view+json": {
       "model_id": "1afc711b99734f74b8fcc4f1c1995276",
       "version_major": 2,
       "version_minor": 0
      },
      "text/plain": [
       "  0%|          | 0/2500 [00:00<?, ?it/s]"
      ]
     },
     "metadata": {},
     "output_type": "display_data"
    },
    {
     "data": {
      "application/vnd.jupyter.widget-view+json": {
       "model_id": "1df103df0f1d4a68b0034864585733f1",
       "version_major": 2,
       "version_minor": 0
      },
      "text/plain": [
       "  0%|          | 0/2500 [00:00<?, ?it/s]"
      ]
     },
     "metadata": {},
     "output_type": "display_data"
    },
    {
     "data": {
      "application/vnd.jupyter.widget-view+json": {
       "model_id": "5eb7692db12a4cf0a5cbe1ee4570ffdc",
       "version_major": 2,
       "version_minor": 0
      },
      "text/plain": [
       "  0%|          | 0/2500 [00:00<?, ?it/s]"
      ]
     },
     "metadata": {},
     "output_type": "display_data"
    },
    {
     "name": "stderr",
     "output_type": "stream",
     "text": [
      "Sampling time = 0:00:02.504769\n",
      "Transforming variables...\n",
      "Transformation time = 0:00:29.003394\n"
     ]
    },
    {
     "name": "stdout",
     "output_type": "stream",
     "text": [
      "Model: king99_pareto_modification\n",
      "        Computed from the raw b_i samples by multiplying by population and then getting\n",
      "        the proportion of the total pop (total pop=summed across all districts):\n",
      "        The posterior mean for the district-level voting preference of\n",
      "        $35,000-$60,000 for Wes Moore (Democratic Party) is\n",
      "        0.917\n",
      "        The posterior mean for the district-level voting preference of\n",
      "        non-$35,000-$60,000 for Wes Moore (Democratic Party) is\n",
      "        0.627\n",
      "        95% equal-tailed Bayesian credible interval for district-level voting preference of\n",
      "        $35,000-$60,000 for Wes Moore (Democratic Party) is\n",
      "        [0.80576824 0.98782138]\n",
      "        95% equal-tailed Bayesian credible interval for district-level voting preference of\n",
      "        non-$35,000-$60,000 for Wes Moore (Democratic Party) is\n",
      "        [0.61357592 0.64659252]\n",
      "        \n"
     ]
    }
   ],
   "source": [
    "md_dem_60_100_ei_rural, md_dem_60_100_summary_rural = run_ecological_inference(\n",
    "    df=md_economic_merged_ei_rural_df,\n",
    "    demographic_col=\"60K_100K_PERCENT\",\n",
    "    voting_col=\"DEMOCRATIC_PERCENT\",\n",
    "    total_votes_col=\"TOT_VOT\",\n",
    "    demographic_group_name=\"$35,000-$60,000\",\n",
    "    candidate_name=md_candidate_mapping['DEMOCRATIC']\n",
    ")"
   ]
  },
  {
   "cell_type": "code",
   "execution_count": 564,
   "metadata": {},
   "outputs": [
    {
     "name": "stderr",
     "output_type": "stream",
     "text": [
      "Compiling...\n",
      "Compilation time = 0:00:05.482766\n",
      "Sampling...\n"
     ]
    },
    {
     "data": {
      "application/vnd.jupyter.widget-view+json": {
       "model_id": "777f50889d7b4f49b160ca1c7e818340",
       "version_major": 2,
       "version_minor": 0
      },
      "text/plain": [
       "  0%|          | 0/2500 [00:00<?, ?it/s]"
      ]
     },
     "metadata": {},
     "output_type": "display_data"
    },
    {
     "data": {
      "application/vnd.jupyter.widget-view+json": {
       "model_id": "decce1d4a2e24eae8fabf91022f9bcf7",
       "version_major": 2,
       "version_minor": 0
      },
      "text/plain": [
       "  0%|          | 0/2500 [00:00<?, ?it/s]"
      ]
     },
     "metadata": {},
     "output_type": "display_data"
    },
    {
     "data": {
      "application/vnd.jupyter.widget-view+json": {
       "model_id": "7916df82bb66492197ce4faf5b5fa3b7",
       "version_major": 2,
       "version_minor": 0
      },
      "text/plain": [
       "  0%|          | 0/2500 [00:00<?, ?it/s]"
      ]
     },
     "metadata": {},
     "output_type": "display_data"
    },
    {
     "data": {
      "application/vnd.jupyter.widget-view+json": {
       "model_id": "91c396fd947a4d35b5b1e52745fd7982",
       "version_major": 2,
       "version_minor": 0
      },
      "text/plain": [
       "  0%|          | 0/2500 [00:00<?, ?it/s]"
      ]
     },
     "metadata": {},
     "output_type": "display_data"
    },
    {
     "name": "stderr",
     "output_type": "stream",
     "text": [
      "Sampling time = 0:00:02.290494\n",
      "Transforming variables...\n",
      "Transformation time = 0:00:24.684051\n"
     ]
    },
    {
     "name": "stdout",
     "output_type": "stream",
     "text": [
      "Model: king99_pareto_modification\n",
      "        Computed from the raw b_i samples by multiplying by population and then getting\n",
      "        the proportion of the total pop (total pop=summed across all districts):\n",
      "        The posterior mean for the district-level voting preference of\n",
      "        $35,000-$60,000 for Wes Moore (Democratic Party) is\n",
      "        0.812\n",
      "        The posterior mean for the district-level voting preference of\n",
      "        non-$35,000-$60,000 for Wes Moore (Democratic Party) is\n",
      "        0.603\n",
      "        95% equal-tailed Bayesian credible interval for district-level voting preference of\n",
      "        $35,000-$60,000 for Wes Moore (Democratic Party) is\n",
      "        [0.65879448 0.94714471]\n",
      "        95% equal-tailed Bayesian credible interval for district-level voting preference of\n",
      "        non-$35,000-$60,000 for Wes Moore (Democratic Party) is\n",
      "        [0.57208889 0.63739   ]\n",
      "        \n"
     ]
    }
   ],
   "source": [
    "md_dem_60_100_ei_suburban, md_dem_60_100_summary_suburban = run_ecological_inference(\n",
    "    df=md_economic_merged_ei_suburban_df,\n",
    "    demographic_col=\"60K_100K_PERCENT\",\n",
    "    voting_col=\"DEMOCRATIC_PERCENT\",\n",
    "    total_votes_col=\"TOT_VOT\",\n",
    "    demographic_group_name=\"$35,000-$60,000\",\n",
    "    candidate_name=md_candidate_mapping['DEMOCRATIC']\n",
    ")"
   ]
  },
  {
   "cell_type": "code",
   "execution_count": 565,
   "metadata": {},
   "outputs": [
    {
     "name": "stderr",
     "output_type": "stream",
     "text": [
      "Compiling...\n",
      "Compilation time = 0:00:01.670998\n",
      "Sampling...\n"
     ]
    },
    {
     "data": {
      "application/vnd.jupyter.widget-view+json": {
       "model_id": "ff7c0be4a8434ba2bf8717568a2dc105",
       "version_major": 2,
       "version_minor": 0
      },
      "text/plain": [
       "  0%|          | 0/2500 [00:00<?, ?it/s]"
      ]
     },
     "metadata": {},
     "output_type": "display_data"
    },
    {
     "data": {
      "application/vnd.jupyter.widget-view+json": {
       "model_id": "021f8f01350546cf8bf02514162e8e30",
       "version_major": 2,
       "version_minor": 0
      },
      "text/plain": [
       "  0%|          | 0/2500 [00:00<?, ?it/s]"
      ]
     },
     "metadata": {},
     "output_type": "display_data"
    },
    {
     "data": {
      "application/vnd.jupyter.widget-view+json": {
       "model_id": "52b40496c7564d518ec40f3923dd966f",
       "version_major": 2,
       "version_minor": 0
      },
      "text/plain": [
       "  0%|          | 0/2500 [00:00<?, ?it/s]"
      ]
     },
     "metadata": {},
     "output_type": "display_data"
    },
    {
     "data": {
      "application/vnd.jupyter.widget-view+json": {
       "model_id": "f4ed2e7912364f4692dfa6068005f53c",
       "version_major": 2,
       "version_minor": 0
      },
      "text/plain": [
       "  0%|          | 0/2500 [00:00<?, ?it/s]"
      ]
     },
     "metadata": {},
     "output_type": "display_data"
    },
    {
     "name": "stderr",
     "output_type": "stream",
     "text": [
      "Sampling time = 0:00:02.005076\n",
      "Transforming variables...\n",
      "Transformation time = 0:00:38.356779\n"
     ]
    },
    {
     "name": "stdout",
     "output_type": "stream",
     "text": [
      "Model: king99_pareto_modification\n",
      "        Computed from the raw b_i samples by multiplying by population and then getting\n",
      "        the proportion of the total pop (total pop=summed across all districts):\n",
      "        The posterior mean for the district-level voting preference of\n",
      "        $35,000-$60,000 for Wes Moore (Democratic Party) is\n",
      "        0.879\n",
      "        The posterior mean for the district-level voting preference of\n",
      "        non-$35,000-$60,000 for Wes Moore (Democratic Party) is\n",
      "        0.686\n",
      "        95% equal-tailed Bayesian credible interval for district-level voting preference of\n",
      "        $35,000-$60,000 for Wes Moore (Democratic Party) is\n",
      "        [0.7203602  0.97301886]\n",
      "        95% equal-tailed Bayesian credible interval for district-level voting preference of\n",
      "        non-$35,000-$60,000 for Wes Moore (Democratic Party) is\n",
      "        [0.66240681 0.7260407 ]\n",
      "        \n"
     ]
    }
   ],
   "source": [
    "md_dem_60_100_ei_urban, md_dem_60_100_summary_urban = run_ecological_inference(\n",
    "    df=md_economic_merged_ei_urban_df,\n",
    "    demographic_col=\"60K_100K_PERCENT\",\n",
    "    voting_col=\"DEMOCRATIC_PERCENT\",\n",
    "    total_votes_col=\"TOT_VOT\",\n",
    "    demographic_group_name=\"$35,000-$60,000\",\n",
    "    candidate_name=md_candidate_mapping['DEMOCRATIC']\n",
    ")"
   ]
  },
  {
   "cell_type": "code",
   "execution_count": 566,
   "metadata": {},
   "outputs": [
    {
     "name": "stderr",
     "output_type": "stream",
     "text": [
      "Compiling...\n",
      "Compilation time = 0:00:01.948548\n",
      "Sampling...\n"
     ]
    },
    {
     "data": {
      "application/vnd.jupyter.widget-view+json": {
       "model_id": "db242b86ecf74bb3bfa93a45b47bae1b",
       "version_major": 2,
       "version_minor": 0
      },
      "text/plain": [
       "  0%|          | 0/2500 [00:00<?, ?it/s]"
      ]
     },
     "metadata": {},
     "output_type": "display_data"
    },
    {
     "data": {
      "application/vnd.jupyter.widget-view+json": {
       "model_id": "97de378d0c9a4903a9ffa88d61d148b5",
       "version_major": 2,
       "version_minor": 0
      },
      "text/plain": [
       "  0%|          | 0/2500 [00:00<?, ?it/s]"
      ]
     },
     "metadata": {},
     "output_type": "display_data"
    },
    {
     "data": {
      "application/vnd.jupyter.widget-view+json": {
       "model_id": "ded0f4ab8ff74a218f0740ae5b731bec",
       "version_major": 2,
       "version_minor": 0
      },
      "text/plain": [
       "  0%|          | 0/2500 [00:00<?, ?it/s]"
      ]
     },
     "metadata": {},
     "output_type": "display_data"
    },
    {
     "data": {
      "application/vnd.jupyter.widget-view+json": {
       "model_id": "404011bdf4f740bdbc656ee3d8b9f0a3",
       "version_major": 2,
       "version_minor": 0
      },
      "text/plain": [
       "  0%|          | 0/2500 [00:00<?, ?it/s]"
      ]
     },
     "metadata": {},
     "output_type": "display_data"
    },
    {
     "name": "stderr",
     "output_type": "stream",
     "text": [
      "Sampling time = 0:00:02.920400\n",
      "Transforming variables...\n",
      "Transformation time = 0:00:17.319575\n"
     ]
    },
    {
     "name": "stdout",
     "output_type": "stream",
     "text": [
      "Model: king99_pareto_modification\n",
      "        Computed from the raw b_i samples by multiplying by population and then getting\n",
      "        the proportion of the total pop (total pop=summed across all districts):\n",
      "        The posterior mean for the district-level voting preference of\n",
      "        $100,000-$125,000 for Wes Moore (Democratic Party) is\n",
      "        0.755\n",
      "        The posterior mean for the district-level voting preference of\n",
      "        non-$100,000-$125,000 for Wes Moore (Democratic Party) is\n",
      "        0.647\n",
      "        95% equal-tailed Bayesian credible interval for district-level voting preference of\n",
      "        $100,000-$125,000 for Wes Moore (Democratic Party) is\n",
      "        [0.53096192 0.96323742]\n",
      "        95% equal-tailed Bayesian credible interval for district-level voting preference of\n",
      "        non-$100,000-$125,000 for Wes Moore (Democratic Party) is\n",
      "        [0.62318792 0.67193838]\n",
      "        \n"
     ]
    }
   ],
   "source": [
    "md_dem_100_125_ei, md_dem_100_125_summary = run_ecological_inference(\n",
    "    df=md_economic_merged_ei_df,\n",
    "    demographic_col=\"100K_125K_PERCENT\",\n",
    "    voting_col=\"DEMOCRATIC_PERCENT\",\n",
    "    total_votes_col=\"TOT_VOT\",\n",
    "    demographic_group_name=\"$100,000-$125,000\",\n",
    "    candidate_name=md_candidate_mapping['DEMOCRATIC']\n",
    ")"
   ]
  },
  {
   "cell_type": "code",
   "execution_count": 567,
   "metadata": {},
   "outputs": [
    {
     "name": "stderr",
     "output_type": "stream",
     "text": [
      "Compiling...\n",
      "Compilation time = 0:00:01.422766\n",
      "Sampling...\n"
     ]
    },
    {
     "data": {
      "application/vnd.jupyter.widget-view+json": {
       "model_id": "929a44c9aef442c0ab0f3ca1d77225e8",
       "version_major": 2,
       "version_minor": 0
      },
      "text/plain": [
       "  0%|          | 0/2500 [00:00<?, ?it/s]"
      ]
     },
     "metadata": {},
     "output_type": "display_data"
    },
    {
     "data": {
      "application/vnd.jupyter.widget-view+json": {
       "model_id": "87297d8ccbac487fb87ade268e50a562",
       "version_major": 2,
       "version_minor": 0
      },
      "text/plain": [
       "  0%|          | 0/2500 [00:00<?, ?it/s]"
      ]
     },
     "metadata": {},
     "output_type": "display_data"
    },
    {
     "data": {
      "application/vnd.jupyter.widget-view+json": {
       "model_id": "f6450c61856c4b8f8d693adb71d363b4",
       "version_major": 2,
       "version_minor": 0
      },
      "text/plain": [
       "  0%|          | 0/2500 [00:00<?, ?it/s]"
      ]
     },
     "metadata": {},
     "output_type": "display_data"
    },
    {
     "data": {
      "application/vnd.jupyter.widget-view+json": {
       "model_id": "3bc0d1193ff148129904c19f4225d548",
       "version_major": 2,
       "version_minor": 0
      },
      "text/plain": [
       "  0%|          | 0/2500 [00:00<?, ?it/s]"
      ]
     },
     "metadata": {},
     "output_type": "display_data"
    },
    {
     "name": "stderr",
     "output_type": "stream",
     "text": [
      "Sampling time = 0:00:02.014591\n",
      "Transforming variables...\n",
      "Transformation time = 0:00:43.016935\n"
     ]
    },
    {
     "name": "stdout",
     "output_type": "stream",
     "text": [
      "Model: king99_pareto_modification\n",
      "        Computed from the raw b_i samples by multiplying by population and then getting\n",
      "        the proportion of the total pop (total pop=summed across all districts):\n",
      "        The posterior mean for the district-level voting preference of\n",
      "        $100,000-$125,000 for Wes Moore (Democratic Party) is\n",
      "        0.785\n",
      "        The posterior mean for the district-level voting preference of\n",
      "        non-$100,000-$125,000 for Wes Moore (Democratic Party) is\n",
      "        0.655\n",
      "        95% equal-tailed Bayesian credible interval for district-level voting preference of\n",
      "        $100,000-$125,000 for Wes Moore (Democratic Party) is\n",
      "        [0.5650451  0.98172153]\n",
      "        95% equal-tailed Bayesian credible interval for district-level voting preference of\n",
      "        non-$100,000-$125,000 for Wes Moore (Democratic Party) is\n",
      "        [0.63582989 0.67533753]\n",
      "        \n"
     ]
    }
   ],
   "source": [
    "md_dem_100_125_ei_rural, md_dem_100_125_summar_rural = run_ecological_inference(\n",
    "    df=md_economic_merged_ei_rural_df,\n",
    "    demographic_col=\"100K_125K_PERCENT\",\n",
    "    voting_col=\"DEMOCRATIC_PERCENT\",\n",
    "    total_votes_col=\"TOT_VOT\",\n",
    "    demographic_group_name=\"$100,000-$125,000\",\n",
    "    candidate_name=md_candidate_mapping['DEMOCRATIC']\n",
    ")"
   ]
  },
  {
   "cell_type": "code",
   "execution_count": 568,
   "metadata": {},
   "outputs": [
    {
     "name": "stderr",
     "output_type": "stream",
     "text": [
      "Compiling...\n",
      "Compilation time = 0:00:01.276551\n",
      "Sampling...\n"
     ]
    },
    {
     "data": {
      "application/vnd.jupyter.widget-view+json": {
       "model_id": "3bf2cb9bf69645cfbc8e22ffe96123cd",
       "version_major": 2,
       "version_minor": 0
      },
      "text/plain": [
       "  0%|          | 0/2500 [00:00<?, ?it/s]"
      ]
     },
     "metadata": {},
     "output_type": "display_data"
    },
    {
     "data": {
      "application/vnd.jupyter.widget-view+json": {
       "model_id": "1cfb910ea879462ebe8c4e90831e547e",
       "version_major": 2,
       "version_minor": 0
      },
      "text/plain": [
       "  0%|          | 0/2500 [00:00<?, ?it/s]"
      ]
     },
     "metadata": {},
     "output_type": "display_data"
    },
    {
     "data": {
      "application/vnd.jupyter.widget-view+json": {
       "model_id": "245fd9309d074777b5b803abb054fdd7",
       "version_major": 2,
       "version_minor": 0
      },
      "text/plain": [
       "  0%|          | 0/2500 [00:00<?, ?it/s]"
      ]
     },
     "metadata": {},
     "output_type": "display_data"
    },
    {
     "data": {
      "application/vnd.jupyter.widget-view+json": {
       "model_id": "51a28f02a98642b2a7ed9c87c790d186",
       "version_major": 2,
       "version_minor": 0
      },
      "text/plain": [
       "  0%|          | 0/2500 [00:00<?, ?it/s]"
      ]
     },
     "metadata": {},
     "output_type": "display_data"
    },
    {
     "name": "stderr",
     "output_type": "stream",
     "text": [
      "Sampling time = 0:00:01.940829\n",
      "Transforming variables...\n",
      "Transformation time = 0:00:43.060903\n"
     ]
    },
    {
     "name": "stdout",
     "output_type": "stream",
     "text": [
      "Model: king99_pareto_modification\n",
      "        Computed from the raw b_i samples by multiplying by population and then getting\n",
      "        the proportion of the total pop (total pop=summed across all districts):\n",
      "        The posterior mean for the district-level voting preference of\n",
      "        $100,000-$125,000 for Wes Moore (Democratic Party) is\n",
      "        0.778\n",
      "        The posterior mean for the district-level voting preference of\n",
      "        non-$100,000-$125,000 for Wes Moore (Democratic Party) is\n",
      "        0.626\n",
      "        95% equal-tailed Bayesian credible interval for district-level voting preference of\n",
      "        $100,000-$125,000 for Wes Moore (Democratic Party) is\n",
      "        [0.55898557 0.98808459]\n",
      "        95% equal-tailed Bayesian credible interval for district-level voting preference of\n",
      "        non-$100,000-$125,000 for Wes Moore (Democratic Party) is\n",
      "        [0.60127092 0.65206179]\n",
      "        \n"
     ]
    }
   ],
   "source": [
    "md_dem_100_125_ei_suburban, md_dem_100_125_summar_suburban = run_ecological_inference(\n",
    "    df=md_economic_merged_ei_suburban_df,\n",
    "    demographic_col=\"100K_125K_PERCENT\",\n",
    "    voting_col=\"DEMOCRATIC_PERCENT\",\n",
    "    total_votes_col=\"TOT_VOT\",\n",
    "    demographic_group_name=\"$100,000-$125,000\",\n",
    "    candidate_name=md_candidate_mapping['DEMOCRATIC']\n",
    ")"
   ]
  },
  {
   "cell_type": "code",
   "execution_count": 569,
   "metadata": {},
   "outputs": [
    {
     "name": "stderr",
     "output_type": "stream",
     "text": [
      "Compiling...\n",
      "Compilation time = 0:00:05.789356\n",
      "Sampling...\n"
     ]
    },
    {
     "data": {
      "application/vnd.jupyter.widget-view+json": {
       "model_id": "4572c1d148b747338283d9135e1b4055",
       "version_major": 2,
       "version_minor": 0
      },
      "text/plain": [
       "  0%|          | 0/2500 [00:00<?, ?it/s]"
      ]
     },
     "metadata": {},
     "output_type": "display_data"
    },
    {
     "data": {
      "application/vnd.jupyter.widget-view+json": {
       "model_id": "5077e000d57e426f89665e2084749763",
       "version_major": 2,
       "version_minor": 0
      },
      "text/plain": [
       "  0%|          | 0/2500 [00:00<?, ?it/s]"
      ]
     },
     "metadata": {},
     "output_type": "display_data"
    },
    {
     "data": {
      "application/vnd.jupyter.widget-view+json": {
       "model_id": "2fa19a7f688d4ffd9e381372f1767dbb",
       "version_major": 2,
       "version_minor": 0
      },
      "text/plain": [
       "  0%|          | 0/2500 [00:00<?, ?it/s]"
      ]
     },
     "metadata": {},
     "output_type": "display_data"
    },
    {
     "data": {
      "application/vnd.jupyter.widget-view+json": {
       "model_id": "a1a37e32ed6448199ee6b53f11195e0d",
       "version_major": 2,
       "version_minor": 0
      },
      "text/plain": [
       "  0%|          | 0/2500 [00:00<?, ?it/s]"
      ]
     },
     "metadata": {},
     "output_type": "display_data"
    },
    {
     "name": "stderr",
     "output_type": "stream",
     "text": [
      "Sampling time = 0:00:02.146668\n",
      "Transforming variables...\n",
      "Transformation time = 0:00:20.156543\n"
     ]
    },
    {
     "name": "stdout",
     "output_type": "stream",
     "text": [
      "Model: king99_pareto_modification\n",
      "        Computed from the raw b_i samples by multiplying by population and then getting\n",
      "        the proportion of the total pop (total pop=summed across all districts):\n",
      "        The posterior mean for the district-level voting preference of\n",
      "        $100,000-$125,000 for Wes Moore (Democratic Party) is\n",
      "        0.796\n",
      "        The posterior mean for the district-level voting preference of\n",
      "        non-$100,000-$125,000 for Wes Moore (Democratic Party) is\n",
      "        0.715\n",
      "        95% equal-tailed Bayesian credible interval for district-level voting preference of\n",
      "        $100,000-$125,000 for Wes Moore (Democratic Party) is\n",
      "        [0.6018515  0.96292529]\n",
      "        95% equal-tailed Bayesian credible interval for district-level voting preference of\n",
      "        non-$100,000-$125,000 for Wes Moore (Democratic Party) is\n",
      "        [0.69212604 0.74017847]\n",
      "        \n"
     ]
    }
   ],
   "source": [
    "md_dem_100_125_ei_urban, md_dem_100_125_summary_urban = run_ecological_inference(\n",
    "    df=md_economic_merged_ei_urban_df,\n",
    "    demographic_col=\"100K_125K_PERCENT\",\n",
    "    voting_col=\"DEMOCRATIC_PERCENT\",\n",
    "    total_votes_col=\"TOT_VOT\",\n",
    "    demographic_group_name=\"$100,000-$125,000\",\n",
    "    candidate_name=md_candidate_mapping['DEMOCRATIC']\n",
    ")"
   ]
  },
  {
   "cell_type": "code",
   "execution_count": 570,
   "metadata": {},
   "outputs": [
    {
     "name": "stderr",
     "output_type": "stream",
     "text": [
      "Compiling...\n",
      "Compilation time = 0:00:01.350854\n",
      "Sampling...\n"
     ]
    },
    {
     "data": {
      "application/vnd.jupyter.widget-view+json": {
       "model_id": "78509a2d2585465883c0cfe5ac534773",
       "version_major": 2,
       "version_minor": 0
      },
      "text/plain": [
       "  0%|          | 0/2500 [00:00<?, ?it/s]"
      ]
     },
     "metadata": {},
     "output_type": "display_data"
    },
    {
     "data": {
      "application/vnd.jupyter.widget-view+json": {
       "model_id": "4d551adf3c1c4d568a09f6cc45580da4",
       "version_major": 2,
       "version_minor": 0
      },
      "text/plain": [
       "  0%|          | 0/2500 [00:00<?, ?it/s]"
      ]
     },
     "metadata": {},
     "output_type": "display_data"
    },
    {
     "data": {
      "application/vnd.jupyter.widget-view+json": {
       "model_id": "4b8fd88ece9b4b678ce63c5bbad53d2f",
       "version_major": 2,
       "version_minor": 0
      },
      "text/plain": [
       "  0%|          | 0/2500 [00:00<?, ?it/s]"
      ]
     },
     "metadata": {},
     "output_type": "display_data"
    },
    {
     "data": {
      "application/vnd.jupyter.widget-view+json": {
       "model_id": "8f37765ae7a94f2980846ff64a93d43c",
       "version_major": 2,
       "version_minor": 0
      },
      "text/plain": [
       "  0%|          | 0/2500 [00:00<?, ?it/s]"
      ]
     },
     "metadata": {},
     "output_type": "display_data"
    },
    {
     "name": "stderr",
     "output_type": "stream",
     "text": [
      "Sampling time = 0:00:02.356660\n",
      "Transforming variables...\n",
      "Transformation time = 0:00:21.086588\n"
     ]
    },
    {
     "name": "stdout",
     "output_type": "stream",
     "text": [
      "Model: king99_pareto_modification\n",
      "        Computed from the raw b_i samples by multiplying by population and then getting\n",
      "        the proportion of the total pop (total pop=summed across all districts):\n",
      "        The posterior mean for the district-level voting preference of\n",
      "        $125,000-$150,000 for Wes Moore (Democratic Party) is\n",
      "        0.750\n",
      "        The posterior mean for the district-level voting preference of\n",
      "        non-$125,000-$150,000 for Wes Moore (Democratic Party) is\n",
      "        0.648\n",
      "        95% equal-tailed Bayesian credible interval for district-level voting preference of\n",
      "        $125,000-$150,000 for Wes Moore (Democratic Party) is\n",
      "        [0.49705647 0.94457172]\n",
      "        95% equal-tailed Bayesian credible interval for district-level voting preference of\n",
      "        non-$125,000-$150,000 for Wes Moore (Democratic Party) is\n",
      "        [0.62973746 0.67079391]\n",
      "        \n"
     ]
    }
   ],
   "source": [
    "md_dem_125_150_ei, md_dem_125_150_summary = run_ecological_inference(\n",
    "    df=md_economic_merged_ei_df,\n",
    "    demographic_col=\"125K_150K_PERCENT\",\n",
    "    voting_col=\"DEMOCRATIC_PERCENT\",\n",
    "    total_votes_col=\"TOT_VOT\",\n",
    "    demographic_group_name=\"$125,000-$150,000\",\n",
    "    candidate_name=md_candidate_mapping['DEMOCRATIC']\n",
    ")"
   ]
  },
  {
   "cell_type": "code",
   "execution_count": 571,
   "metadata": {},
   "outputs": [
    {
     "name": "stderr",
     "output_type": "stream",
     "text": [
      "Compiling...\n",
      "Compilation time = 0:00:01.508428\n",
      "Sampling...\n"
     ]
    },
    {
     "data": {
      "application/vnd.jupyter.widget-view+json": {
       "model_id": "537089c2e0b34f8f8b9755ec3d359c4c",
       "version_major": 2,
       "version_minor": 0
      },
      "text/plain": [
       "  0%|          | 0/2500 [00:00<?, ?it/s]"
      ]
     },
     "metadata": {},
     "output_type": "display_data"
    },
    {
     "data": {
      "application/vnd.jupyter.widget-view+json": {
       "model_id": "49987efd4962406fb54fff41f0c08200",
       "version_major": 2,
       "version_minor": 0
      },
      "text/plain": [
       "  0%|          | 0/2500 [00:00<?, ?it/s]"
      ]
     },
     "metadata": {},
     "output_type": "display_data"
    },
    {
     "data": {
      "application/vnd.jupyter.widget-view+json": {
       "model_id": "e8a5f8cf85fe4696a5c4d119e44462d7",
       "version_major": 2,
       "version_minor": 0
      },
      "text/plain": [
       "  0%|          | 0/2500 [00:00<?, ?it/s]"
      ]
     },
     "metadata": {},
     "output_type": "display_data"
    },
    {
     "data": {
      "application/vnd.jupyter.widget-view+json": {
       "model_id": "b1eabe2097b04367896ef4b994b429c8",
       "version_major": 2,
       "version_minor": 0
      },
      "text/plain": [
       "  0%|          | 0/2500 [00:00<?, ?it/s]"
      ]
     },
     "metadata": {},
     "output_type": "display_data"
    },
    {
     "name": "stderr",
     "output_type": "stream",
     "text": [
      "Sampling time = 0:00:02.730011\n",
      "Transforming variables...\n",
      "Transformation time = 0:00:10.270500\n"
     ]
    },
    {
     "name": "stdout",
     "output_type": "stream",
     "text": [
      "Model: king99_pareto_modification\n",
      "        Computed from the raw b_i samples by multiplying by population and then getting\n",
      "        the proportion of the total pop (total pop=summed across all districts):\n",
      "        The posterior mean for the district-level voting preference of\n",
      "        $125,000-$150,000 for Wes Moore (Democratic Party) is\n",
      "        0.684\n",
      "        The posterior mean for the district-level voting preference of\n",
      "        non-$125,000-$150,000 for Wes Moore (Democratic Party) is\n",
      "        0.663\n",
      "        95% equal-tailed Bayesian credible interval for district-level voting preference of\n",
      "        $125,000-$150,000 for Wes Moore (Democratic Party) is\n",
      "        [0.44490902 0.87880816]\n",
      "        95% equal-tailed Bayesian credible interval for district-level voting preference of\n",
      "        non-$125,000-$150,000 for Wes Moore (Democratic Party) is\n",
      "        [0.64323902 0.68504644]\n",
      "        \n"
     ]
    }
   ],
   "source": [
    "md_dem_125_150_ei_rural, md_dem_125_150_summary_rural = run_ecological_inference(\n",
    "    df=md_economic_merged_ei_rural_df,\n",
    "    demographic_col=\"125K_150K_PERCENT\",\n",
    "    voting_col=\"DEMOCRATIC_PERCENT\",\n",
    "    total_votes_col=\"TOT_VOT\",\n",
    "    demographic_group_name=\"$125,000-$150,000\",\n",
    "    candidate_name=md_candidate_mapping['DEMOCRATIC']\n",
    ")"
   ]
  },
  {
   "cell_type": "code",
   "execution_count": 572,
   "metadata": {},
   "outputs": [
    {
     "name": "stderr",
     "output_type": "stream",
     "text": [
      "Compiling...\n",
      "Compilation time = 0:00:01.433016\n",
      "Sampling...\n"
     ]
    },
    {
     "data": {
      "application/vnd.jupyter.widget-view+json": {
       "model_id": "bf75fd94b1d746f19fae58180879b671",
       "version_major": 2,
       "version_minor": 0
      },
      "text/plain": [
       "  0%|          | 0/2500 [00:00<?, ?it/s]"
      ]
     },
     "metadata": {},
     "output_type": "display_data"
    },
    {
     "data": {
      "application/vnd.jupyter.widget-view+json": {
       "model_id": "0f500abab312490fba1c776a5dba6f15",
       "version_major": 2,
       "version_minor": 0
      },
      "text/plain": [
       "  0%|          | 0/2500 [00:00<?, ?it/s]"
      ]
     },
     "metadata": {},
     "output_type": "display_data"
    },
    {
     "data": {
      "application/vnd.jupyter.widget-view+json": {
       "model_id": "7a6a4f167d4548ae8ac3db784f362490",
       "version_major": 2,
       "version_minor": 0
      },
      "text/plain": [
       "  0%|          | 0/2500 [00:00<?, ?it/s]"
      ]
     },
     "metadata": {},
     "output_type": "display_data"
    },
    {
     "data": {
      "application/vnd.jupyter.widget-view+json": {
       "model_id": "f85cf586cf5f4cc38711078f88999dbd",
       "version_major": 2,
       "version_minor": 0
      },
      "text/plain": [
       "  0%|          | 0/2500 [00:00<?, ?it/s]"
      ]
     },
     "metadata": {},
     "output_type": "display_data"
    },
    {
     "name": "stderr",
     "output_type": "stream",
     "text": [
      "Sampling time = 0:00:01.999560\n",
      "Transforming variables...\n",
      "Transformation time = 0:00:13.694568\n"
     ]
    },
    {
     "name": "stdout",
     "output_type": "stream",
     "text": [
      "Model: king99_pareto_modification\n",
      "        Computed from the raw b_i samples by multiplying by population and then getting\n",
      "        the proportion of the total pop (total pop=summed across all districts):\n",
      "        The posterior mean for the district-level voting preference of\n",
      "        $125,000-$150,000 for Wes Moore (Democratic Party) is\n",
      "        0.771\n",
      "        The posterior mean for the district-level voting preference of\n",
      "        non-$125,000-$150,000 for Wes Moore (Democratic Party) is\n",
      "        0.630\n",
      "        95% equal-tailed Bayesian credible interval for district-level voting preference of\n",
      "        $125,000-$150,000 for Wes Moore (Democratic Party) is\n",
      "        [0.49222239 0.96819563]\n",
      "        95% equal-tailed Bayesian credible interval for district-level voting preference of\n",
      "        non-$125,000-$150,000 for Wes Moore (Democratic Party) is\n",
      "        [0.61125468 0.65602179]\n",
      "        \n"
     ]
    }
   ],
   "source": [
    "md_dem_125_150_ei_suburban, md_dem_125_150_summary_suburban = run_ecological_inference(\n",
    "    df=md_economic_merged_ei_suburban_df,\n",
    "    demographic_col=\"125K_150K_PERCENT\",\n",
    "    voting_col=\"DEMOCRATIC_PERCENT\",\n",
    "    total_votes_col=\"TOT_VOT\",\n",
    "    demographic_group_name=\"$125,000-$150,000\",\n",
    "    candidate_name=md_candidate_mapping['DEMOCRATIC']\n",
    ")"
   ]
  },
  {
   "cell_type": "code",
   "execution_count": 573,
   "metadata": {},
   "outputs": [
    {
     "name": "stderr",
     "output_type": "stream",
     "text": [
      "Compiling...\n",
      "Compilation time = 0:00:01.565945\n",
      "Sampling...\n"
     ]
    },
    {
     "data": {
      "application/vnd.jupyter.widget-view+json": {
       "model_id": "7dceabec444c4ae5a785c282af66bffa",
       "version_major": 2,
       "version_minor": 0
      },
      "text/plain": [
       "  0%|          | 0/2500 [00:00<?, ?it/s]"
      ]
     },
     "metadata": {},
     "output_type": "display_data"
    },
    {
     "data": {
      "application/vnd.jupyter.widget-view+json": {
       "model_id": "0f526ef5f5944cc6897f71e9d0b1410b",
       "version_major": 2,
       "version_minor": 0
      },
      "text/plain": [
       "  0%|          | 0/2500 [00:00<?, ?it/s]"
      ]
     },
     "metadata": {},
     "output_type": "display_data"
    },
    {
     "data": {
      "application/vnd.jupyter.widget-view+json": {
       "model_id": "51f118d327c1483f8a483914dafe5ebc",
       "version_major": 2,
       "version_minor": 0
      },
      "text/plain": [
       "  0%|          | 0/2500 [00:00<?, ?it/s]"
      ]
     },
     "metadata": {},
     "output_type": "display_data"
    },
    {
     "data": {
      "application/vnd.jupyter.widget-view+json": {
       "model_id": "3842af0bf0504c5d8f9b6c53ab74705d",
       "version_major": 2,
       "version_minor": 0
      },
      "text/plain": [
       "  0%|          | 0/2500 [00:00<?, ?it/s]"
      ]
     },
     "metadata": {},
     "output_type": "display_data"
    },
    {
     "name": "stderr",
     "output_type": "stream",
     "text": [
      "Sampling time = 0:00:02.087420\n",
      "Transforming variables...\n",
      "Transformation time = 0:00:19.779033\n"
     ]
    },
    {
     "name": "stdout",
     "output_type": "stream",
     "text": [
      "Model: king99_pareto_modification\n",
      "        Computed from the raw b_i samples by multiplying by population and then getting\n",
      "        the proportion of the total pop (total pop=summed across all districts):\n",
      "        The posterior mean for the district-level voting preference of\n",
      "        $125,000-$150,000 for Wes Moore (Democratic Party) is\n",
      "        0.601\n",
      "        The posterior mean for the district-level voting preference of\n",
      "        non-$125,000-$150,000 for Wes Moore (Democratic Party) is\n",
      "        0.736\n",
      "        95% equal-tailed Bayesian credible interval for district-level voting preference of\n",
      "        $125,000-$150,000 for Wes Moore (Democratic Party) is\n",
      "        [0.37564333 0.90310887]\n",
      "        95% equal-tailed Bayesian credible interval for district-level voting preference of\n",
      "        non-$125,000-$150,000 for Wes Moore (Democratic Party) is\n",
      "        [0.70603764 0.75852391]\n",
      "        \n"
     ]
    }
   ],
   "source": [
    "md_dem_125_150_ei_urban, md_dem_125_150_summary_urban = run_ecological_inference(\n",
    "    df=md_economic_merged_ei_urban_df,\n",
    "    demographic_col=\"125K_150K_PERCENT\",\n",
    "    voting_col=\"DEMOCRATIC_PERCENT\",\n",
    "    total_votes_col=\"TOT_VOT\",\n",
    "    demographic_group_name=\"$125,000-$150,000\",\n",
    "    candidate_name=md_candidate_mapping['DEMOCRATIC']\n",
    ")"
   ]
  },
  {
   "cell_type": "code",
   "execution_count": 574,
   "metadata": {},
   "outputs": [
    {
     "name": "stderr",
     "output_type": "stream",
     "text": [
      "Compiling...\n",
      "Compilation time = 0:00:01.289627\n",
      "Sampling...\n"
     ]
    },
    {
     "data": {
      "application/vnd.jupyter.widget-view+json": {
       "model_id": "f404e03104954b61a1e4d28b8f5d0aa7",
       "version_major": 2,
       "version_minor": 0
      },
      "text/plain": [
       "  0%|          | 0/2500 [00:00<?, ?it/s]"
      ]
     },
     "metadata": {},
     "output_type": "display_data"
    },
    {
     "data": {
      "application/vnd.jupyter.widget-view+json": {
       "model_id": "b11b44a3f9504dcb8961dd180aafc2ed",
       "version_major": 2,
       "version_minor": 0
      },
      "text/plain": [
       "  0%|          | 0/2500 [00:00<?, ?it/s]"
      ]
     },
     "metadata": {},
     "output_type": "display_data"
    },
    {
     "data": {
      "application/vnd.jupyter.widget-view+json": {
       "model_id": "2ff1910922434511bb7ae0cd8296d55d",
       "version_major": 2,
       "version_minor": 0
      },
      "text/plain": [
       "  0%|          | 0/2500 [00:00<?, ?it/s]"
      ]
     },
     "metadata": {},
     "output_type": "display_data"
    },
    {
     "data": {
      "application/vnd.jupyter.widget-view+json": {
       "model_id": "e9c3c34dbc724a3d8f62ca0f0c3c9dfb",
       "version_major": 2,
       "version_minor": 0
      },
      "text/plain": [
       "  0%|          | 0/2500 [00:00<?, ?it/s]"
      ]
     },
     "metadata": {},
     "output_type": "display_data"
    },
    {
     "name": "stderr",
     "output_type": "stream",
     "text": [
      "Sampling time = 0:00:02.079692\n",
      "Transforming variables...\n",
      "Transformation time = 0:00:29.997901\n"
     ]
    },
    {
     "name": "stdout",
     "output_type": "stream",
     "text": [
      "Model: king99_pareto_modification\n",
      "        Computed from the raw b_i samples by multiplying by population and then getting\n",
      "        the proportion of the total pop (total pop=summed across all districts):\n",
      "        The posterior mean for the district-level voting preference of\n",
      "        $150,000+ for Wes Moore (Democratic Party) is\n",
      "        0.711\n",
      "        The posterior mean for the district-level voting preference of\n",
      "        non-$150,000+ for Wes Moore (Democratic Party) is\n",
      "        0.636\n",
      "        95% equal-tailed Bayesian credible interval for district-level voting preference of\n",
      "        $150,000+ for Wes Moore (Democratic Party) is\n",
      "        [0.62059983 0.80070894]\n",
      "        95% equal-tailed Bayesian credible interval for district-level voting preference of\n",
      "        non-$150,000+ for Wes Moore (Democratic Party) is\n",
      "        [0.5832754  0.68689264]\n",
      "        \n"
     ]
    }
   ],
   "source": [
    "md_dem_150_more_ei, md_dem_150_more_summary = run_ecological_inference(\n",
    "    df=md_economic_merged_ei_df,\n",
    "    demographic_col=\"150K_MORE_PERCENT\",\n",
    "    voting_col=\"DEMOCRATIC_PERCENT\",\n",
    "    total_votes_col=\"TOT_VOT\",\n",
    "    demographic_group_name=\"$150,000+\",\n",
    "    candidate_name=md_candidate_mapping['DEMOCRATIC']\n",
    ")"
   ]
  },
  {
   "cell_type": "code",
   "execution_count": 575,
   "metadata": {},
   "outputs": [
    {
     "name": "stderr",
     "output_type": "stream",
     "text": [
      "Compiling...\n",
      "Compilation time = 0:00:05.718960\n",
      "Sampling...\n"
     ]
    },
    {
     "data": {
      "application/vnd.jupyter.widget-view+json": {
       "model_id": "3e9b40c830b541b385566ebbbb2e5ea8",
       "version_major": 2,
       "version_minor": 0
      },
      "text/plain": [
       "  0%|          | 0/2500 [00:00<?, ?it/s]"
      ]
     },
     "metadata": {},
     "output_type": "display_data"
    },
    {
     "data": {
      "application/vnd.jupyter.widget-view+json": {
       "model_id": "7a3a01df36df4c618701db6504b0af85",
       "version_major": 2,
       "version_minor": 0
      },
      "text/plain": [
       "  0%|          | 0/2500 [00:00<?, ?it/s]"
      ]
     },
     "metadata": {},
     "output_type": "display_data"
    },
    {
     "data": {
      "application/vnd.jupyter.widget-view+json": {
       "model_id": "63e8a3619c3b4624a701eee709d2c0d4",
       "version_major": 2,
       "version_minor": 0
      },
      "text/plain": [
       "  0%|          | 0/2500 [00:00<?, ?it/s]"
      ]
     },
     "metadata": {},
     "output_type": "display_data"
    },
    {
     "data": {
      "application/vnd.jupyter.widget-view+json": {
       "model_id": "1086266f127049f8b19230e3dae1665c",
       "version_major": 2,
       "version_minor": 0
      },
      "text/plain": [
       "  0%|          | 0/2500 [00:00<?, ?it/s]"
      ]
     },
     "metadata": {},
     "output_type": "display_data"
    },
    {
     "name": "stderr",
     "output_type": "stream",
     "text": [
      "Sampling time = 0:00:02.159918\n",
      "Transforming variables...\n",
      "Transformation time = 0:00:17.445256\n"
     ]
    },
    {
     "name": "stdout",
     "output_type": "stream",
     "text": [
      "Model: king99_pareto_modification\n",
      "        Computed from the raw b_i samples by multiplying by population and then getting\n",
      "        the proportion of the total pop (total pop=summed across all districts):\n",
      "        The posterior mean for the district-level voting preference of\n",
      "        $150,000+ for Wes Moore (Democratic Party) is\n",
      "        0.627\n",
      "        The posterior mean for the district-level voting preference of\n",
      "        non-$150,000+ for Wes Moore (Democratic Party) is\n",
      "        0.686\n",
      "        95% equal-tailed Bayesian credible interval for district-level voting preference of\n",
      "        $150,000+ for Wes Moore (Democratic Party) is\n",
      "        [0.5301781  0.72548059]\n",
      "        95% equal-tailed Bayesian credible interval for district-level voting preference of\n",
      "        non-$150,000+ for Wes Moore (Democratic Party) is\n",
      "        [0.63421536 0.73357573]\n",
      "        \n"
     ]
    }
   ],
   "source": [
    "md_dem_150_more_ei_rural, md_dem_150_more_summary_rural = run_ecological_inference(\n",
    "    df=md_economic_merged_ei_rural_df,\n",
    "    demographic_col=\"150K_MORE_PERCENT\",\n",
    "    voting_col=\"DEMOCRATIC_PERCENT\",\n",
    "    total_votes_col=\"TOT_VOT\",\n",
    "    demographic_group_name=\"$150,000+\",\n",
    "    candidate_name=md_candidate_mapping['DEMOCRATIC']\n",
    ")"
   ]
  },
  {
   "cell_type": "code",
   "execution_count": 576,
   "metadata": {},
   "outputs": [
    {
     "name": "stderr",
     "output_type": "stream",
     "text": [
      "Compiling...\n",
      "Compilation time = 0:00:01.333380\n",
      "Sampling...\n"
     ]
    },
    {
     "data": {
      "application/vnd.jupyter.widget-view+json": {
       "model_id": "96502abb3aee411a981e80354c26381a",
       "version_major": 2,
       "version_minor": 0
      },
      "text/plain": [
       "  0%|          | 0/2500 [00:00<?, ?it/s]"
      ]
     },
     "metadata": {},
     "output_type": "display_data"
    },
    {
     "data": {
      "application/vnd.jupyter.widget-view+json": {
       "model_id": "64b204175a1e4d6cb4124e3226e0afa3",
       "version_major": 2,
       "version_minor": 0
      },
      "text/plain": [
       "  0%|          | 0/2500 [00:00<?, ?it/s]"
      ]
     },
     "metadata": {},
     "output_type": "display_data"
    },
    {
     "data": {
      "application/vnd.jupyter.widget-view+json": {
       "model_id": "29a0c9c6a8554fdcb2b751ebf0b5a90d",
       "version_major": 2,
       "version_minor": 0
      },
      "text/plain": [
       "  0%|          | 0/2500 [00:00<?, ?it/s]"
      ]
     },
     "metadata": {},
     "output_type": "display_data"
    },
    {
     "data": {
      "application/vnd.jupyter.widget-view+json": {
       "model_id": "1972f257a9b94bfbbe79287313078ea6",
       "version_major": 2,
       "version_minor": 0
      },
      "text/plain": [
       "  0%|          | 0/2500 [00:00<?, ?it/s]"
      ]
     },
     "metadata": {},
     "output_type": "display_data"
    },
    {
     "name": "stderr",
     "output_type": "stream",
     "text": [
      "Sampling time = 0:00:02.245827\n",
      "Transforming variables...\n",
      "Transformation time = 0:00:51.609556\n"
     ]
    },
    {
     "name": "stdout",
     "output_type": "stream",
     "text": [
      "Model: king99_pareto_modification\n",
      "        Computed from the raw b_i samples by multiplying by population and then getting\n",
      "        the proportion of the total pop (total pop=summed across all districts):\n",
      "        The posterior mean for the district-level voting preference of\n",
      "        $150,000+ for Wes Moore (Democratic Party) is\n",
      "        0.703\n",
      "        The posterior mean for the district-level voting preference of\n",
      "        non-$150,000+ for Wes Moore (Democratic Party) is\n",
      "        0.609\n",
      "        95% equal-tailed Bayesian credible interval for district-level voting preference of\n",
      "        $150,000+ for Wes Moore (Democratic Party) is\n",
      "        [0.61632335 0.78223143]\n",
      "        95% equal-tailed Bayesian credible interval for district-level voting preference of\n",
      "        non-$150,000+ for Wes Moore (Democratic Party) is\n",
      "        [0.54353183 0.67789131]\n",
      "        \n"
     ]
    }
   ],
   "source": [
    "md_dem_150_more_ei_suburban, md_dem_150_more_summary_suburban = run_ecological_inference(\n",
    "    df=md_economic_merged_ei_suburban_df,\n",
    "    demographic_col=\"150K_MORE_PERCENT\",\n",
    "    voting_col=\"DEMOCRATIC_PERCENT\",\n",
    "    total_votes_col=\"TOT_VOT\",\n",
    "    demographic_group_name=\"$150,000+\",\n",
    "    candidate_name=md_candidate_mapping['DEMOCRATIC']\n",
    ")"
   ]
  },
  {
   "cell_type": "code",
   "execution_count": 577,
   "metadata": {},
   "outputs": [
    {
     "name": "stderr",
     "output_type": "stream",
     "text": [
      "Compiling...\n",
      "Compilation time = 0:00:01.783479\n",
      "Sampling...\n"
     ]
    },
    {
     "data": {
      "application/vnd.jupyter.widget-view+json": {
       "model_id": "eae8bbca03554240a87db604f7d521c6",
       "version_major": 2,
       "version_minor": 0
      },
      "text/plain": [
       "  0%|          | 0/2500 [00:00<?, ?it/s]"
      ]
     },
     "metadata": {},
     "output_type": "display_data"
    },
    {
     "data": {
      "application/vnd.jupyter.widget-view+json": {
       "model_id": "a544ac8d00454c28ae3b1f56c95ad2db",
       "version_major": 2,
       "version_minor": 0
      },
      "text/plain": [
       "  0%|          | 0/2500 [00:00<?, ?it/s]"
      ]
     },
     "metadata": {},
     "output_type": "display_data"
    },
    {
     "data": {
      "application/vnd.jupyter.widget-view+json": {
       "model_id": "d63fe787c1894c2483008db00ba94be7",
       "version_major": 2,
       "version_minor": 0
      },
      "text/plain": [
       "  0%|          | 0/2500 [00:00<?, ?it/s]"
      ]
     },
     "metadata": {},
     "output_type": "display_data"
    },
    {
     "data": {
      "application/vnd.jupyter.widget-view+json": {
       "model_id": "533592d537e5432db1b81c11653fe013",
       "version_major": 2,
       "version_minor": 0
      },
      "text/plain": [
       "  0%|          | 0/2500 [00:00<?, ?it/s]"
      ]
     },
     "metadata": {},
     "output_type": "display_data"
    },
    {
     "name": "stderr",
     "output_type": "stream",
     "text": [
      "Sampling time = 0:00:02.032838\n",
      "Transforming variables...\n",
      "Transformation time = 0:00:34.808681\n"
     ]
    },
    {
     "name": "stdout",
     "output_type": "stream",
     "text": [
      "Model: king99_pareto_modification\n",
      "        Computed from the raw b_i samples by multiplying by population and then getting\n",
      "        the proportion of the total pop (total pop=summed across all districts):\n",
      "        The posterior mean for the district-level voting preference of\n",
      "        $150,000+ for Wes Moore (Democratic Party) is\n",
      "        0.687\n",
      "        The posterior mean for the district-level voting preference of\n",
      "        non-$150,000+ for Wes Moore (Democratic Party) is\n",
      "        0.744\n",
      "        95% equal-tailed Bayesian credible interval for district-level voting preference of\n",
      "        $150,000+ for Wes Moore (Democratic Party) is\n",
      "        [0.60488302 0.77070211]\n",
      "        95% equal-tailed Bayesian credible interval for district-level voting preference of\n",
      "        non-$150,000+ for Wes Moore (Democratic Party) is\n",
      "        [0.69446059 0.78938062]\n",
      "        \n"
     ]
    }
   ],
   "source": [
    "md_dem_150_more_ei_urban, md_dem_150_more_summary_urban = run_ecological_inference(\n",
    "    df=md_economic_merged_ei_urban_df,\n",
    "    demographic_col=\"150K_MORE_PERCENT\",\n",
    "    voting_col=\"DEMOCRATIC_PERCENT\",\n",
    "    total_votes_col=\"TOT_VOT\",\n",
    "    demographic_group_name=\"$150,000+\",\n",
    "    candidate_name=md_candidate_mapping['DEMOCRATIC']\n",
    ")"
   ]
  },
  {
   "cell_type": "markdown",
   "metadata": {},
   "source": [
    "##### Rep Run"
   ]
  },
  {
   "cell_type": "code",
   "execution_count": 578,
   "metadata": {},
   "outputs": [
    {
     "name": "stderr",
     "output_type": "stream",
     "text": [
      "Compiling...\n",
      "Compilation time = 0:00:01.386199\n",
      "Sampling...\n"
     ]
    },
    {
     "data": {
      "application/vnd.jupyter.widget-view+json": {
       "model_id": "04b6f61fad32430fa6e45cda90090228",
       "version_major": 2,
       "version_minor": 0
      },
      "text/plain": [
       "  0%|          | 0/2500 [00:00<?, ?it/s]"
      ]
     },
     "metadata": {},
     "output_type": "display_data"
    },
    {
     "data": {
      "application/vnd.jupyter.widget-view+json": {
       "model_id": "d39c5480f18140f4a67744e1923c3614",
       "version_major": 2,
       "version_minor": 0
      },
      "text/plain": [
       "  0%|          | 0/2500 [00:00<?, ?it/s]"
      ]
     },
     "metadata": {},
     "output_type": "display_data"
    },
    {
     "data": {
      "application/vnd.jupyter.widget-view+json": {
       "model_id": "3bf2bf2af6ca457d8736f11b476b41ce",
       "version_major": 2,
       "version_minor": 0
      },
      "text/plain": [
       "  0%|          | 0/2500 [00:00<?, ?it/s]"
      ]
     },
     "metadata": {},
     "output_type": "display_data"
    },
    {
     "data": {
      "application/vnd.jupyter.widget-view+json": {
       "model_id": "544b68f593cc41df924aa95c3dbb55cd",
       "version_major": 2,
       "version_minor": 0
      },
      "text/plain": [
       "  0%|          | 0/2500 [00:00<?, ?it/s]"
      ]
     },
     "metadata": {},
     "output_type": "display_data"
    },
    {
     "name": "stderr",
     "output_type": "stream",
     "text": [
      "Sampling time = 0:00:02.106398\n",
      "Transforming variables...\n",
      "Transformation time = 0:00:30.869458\n"
     ]
    },
    {
     "name": "stdout",
     "output_type": "stream",
     "text": [
      "Model: king99_pareto_modification\n",
      "        Computed from the raw b_i samples by multiplying by population and then getting\n",
      "        the proportion of the total pop (total pop=summed across all districts):\n",
      "        The posterior mean for the district-level voting preference of\n",
      "        $0-$35,000 for Dan Cox (Republican Party) is\n",
      "        0.099\n",
      "        The posterior mean for the district-level voting preference of\n",
      "        non-$0-$35,000 for Dan Cox (Republican Party) is\n",
      "        0.378\n",
      "        95% equal-tailed Bayesian credible interval for district-level voting preference of\n",
      "        $0-$35,000 for Dan Cox (Republican Party) is\n",
      "        [0.02424063 0.20672815]\n",
      "        95% equal-tailed Bayesian credible interval for district-level voting preference of\n",
      "        non-$0-$35,000 for Dan Cox (Republican Party) is\n",
      "        [0.36096951 0.39086752]\n",
      "        \n"
     ]
    }
   ],
   "source": [
    "md_rep_0_35_ei, md_rep_0_35_summary = run_ecological_inference(\n",
    "    df=md_economic_merged_ei_df,\n",
    "    demographic_col=\"0_35K_PERCENT\",\n",
    "    voting_col=\"REPUBLICAN_PERCENT\",\n",
    "    total_votes_col=\"TOT_VOT\",\n",
    "    demographic_group_name=\"$0-$35,000\",\n",
    "    candidate_name=md_candidate_mapping['REPUBLICAN']\n",
    ")"
   ]
  },
  {
   "cell_type": "code",
   "execution_count": 579,
   "metadata": {},
   "outputs": [
    {
     "name": "stderr",
     "output_type": "stream",
     "text": [
      "Compiling...\n",
      "Compilation time = 0:00:01.318221\n",
      "Sampling...\n"
     ]
    },
    {
     "data": {
      "application/vnd.jupyter.widget-view+json": {
       "model_id": "d6dd9f46c2614f10a98874bfcd7754fc",
       "version_major": 2,
       "version_minor": 0
      },
      "text/plain": [
       "  0%|          | 0/2500 [00:00<?, ?it/s]"
      ]
     },
     "metadata": {},
     "output_type": "display_data"
    },
    {
     "data": {
      "application/vnd.jupyter.widget-view+json": {
       "model_id": "5953cd1cea914f0bb171edaf9d0dc6ec",
       "version_major": 2,
       "version_minor": 0
      },
      "text/plain": [
       "  0%|          | 0/2500 [00:00<?, ?it/s]"
      ]
     },
     "metadata": {},
     "output_type": "display_data"
    },
    {
     "data": {
      "application/vnd.jupyter.widget-view+json": {
       "model_id": "d2034e14b29e443695fe0ad6bea4963c",
       "version_major": 2,
       "version_minor": 0
      },
      "text/plain": [
       "  0%|          | 0/2500 [00:00<?, ?it/s]"
      ]
     },
     "metadata": {},
     "output_type": "display_data"
    },
    {
     "data": {
      "application/vnd.jupyter.widget-view+json": {
       "model_id": "4cd3e056b00a4679b7484eece85e1cd7",
       "version_major": 2,
       "version_minor": 0
      },
      "text/plain": [
       "  0%|          | 0/2500 [00:00<?, ?it/s]"
      ]
     },
     "metadata": {},
     "output_type": "display_data"
    },
    {
     "name": "stderr",
     "output_type": "stream",
     "text": [
      "Sampling time = 0:00:02.167972\n",
      "Transforming variables...\n",
      "Transformation time = 0:00:29.635211\n"
     ]
    },
    {
     "name": "stdout",
     "output_type": "stream",
     "text": [
      "Model: king99_pareto_modification\n",
      "        Computed from the raw b_i samples by multiplying by population and then getting\n",
      "        the proportion of the total pop (total pop=summed across all districts):\n",
      "        The posterior mean for the district-level voting preference of\n",
      "        $0-$35,000 for Dan Cox (Republican Party) is\n",
      "        0.095\n",
      "        The posterior mean for the district-level voting preference of\n",
      "        non-$0-$35,000 for Dan Cox (Republican Party) is\n",
      "        0.364\n",
      "        95% equal-tailed Bayesian credible interval for district-level voting preference of\n",
      "        $0-$35,000 for Dan Cox (Republican Party) is\n",
      "        [0.01848464 0.20160644]\n",
      "        95% equal-tailed Bayesian credible interval for district-level voting preference of\n",
      "        non-$0-$35,000 for Dan Cox (Republican Party) is\n",
      "        [0.34423235 0.37766296]\n",
      "        \n"
     ]
    }
   ],
   "source": [
    "md_rep_0_35_ei_rural, md_rep_0_35_summary_rural = run_ecological_inference(\n",
    "    df=md_economic_merged_ei_rural_df,\n",
    "    demographic_col=\"0_35K_PERCENT\",\n",
    "    voting_col=\"REPUBLICAN_PERCENT\",\n",
    "    total_votes_col=\"TOT_VOT\",\n",
    "    demographic_group_name=\"$0-$35,000\",\n",
    "    candidate_name=md_candidate_mapping['REPUBLICAN']\n",
    ")"
   ]
  },
  {
   "cell_type": "code",
   "execution_count": 580,
   "metadata": {},
   "outputs": [
    {
     "name": "stderr",
     "output_type": "stream",
     "text": [
      "Compiling...\n",
      "Compilation time = 0:00:01.309865\n",
      "Sampling...\n"
     ]
    },
    {
     "data": {
      "application/vnd.jupyter.widget-view+json": {
       "model_id": "9fbf02e7bf4f4d77b1826d6e2fa6c7da",
       "version_major": 2,
       "version_minor": 0
      },
      "text/plain": [
       "  0%|          | 0/2500 [00:00<?, ?it/s]"
      ]
     },
     "metadata": {},
     "output_type": "display_data"
    },
    {
     "data": {
      "application/vnd.jupyter.widget-view+json": {
       "model_id": "e438e6fb632b4a4ebc7f09a4e19cd5a3",
       "version_major": 2,
       "version_minor": 0
      },
      "text/plain": [
       "  0%|          | 0/2500 [00:00<?, ?it/s]"
      ]
     },
     "metadata": {},
     "output_type": "display_data"
    },
    {
     "data": {
      "application/vnd.jupyter.widget-view+json": {
       "model_id": "072560009a564efc8dabe53f5bfe1360",
       "version_major": 2,
       "version_minor": 0
      },
      "text/plain": [
       "  0%|          | 0/2500 [00:00<?, ?it/s]"
      ]
     },
     "metadata": {},
     "output_type": "display_data"
    },
    {
     "data": {
      "application/vnd.jupyter.widget-view+json": {
       "model_id": "4496fe62a3624a1085b4da9291c78fe6",
       "version_major": 2,
       "version_minor": 0
      },
      "text/plain": [
       "  0%|          | 0/2500 [00:00<?, ?it/s]"
      ]
     },
     "metadata": {},
     "output_type": "display_data"
    },
    {
     "name": "stderr",
     "output_type": "stream",
     "text": [
      "Sampling time = 0:00:02.049174\n",
      "Transforming variables...\n",
      "Transformation time = 0:00:23.232447\n"
     ]
    },
    {
     "name": "stdout",
     "output_type": "stream",
     "text": [
      "Model: king99_pareto_modification\n",
      "        Computed from the raw b_i samples by multiplying by population and then getting\n",
      "        the proportion of the total pop (total pop=summed across all districts):\n",
      "        The posterior mean for the district-level voting preference of\n",
      "        $0-$35,000 for Dan Cox (Republican Party) is\n",
      "        0.163\n",
      "        The posterior mean for the district-level voting preference of\n",
      "        non-$0-$35,000 for Dan Cox (Republican Party) is\n",
      "        0.385\n",
      "        95% equal-tailed Bayesian credible interval for district-level voting preference of\n",
      "        $0-$35,000 for Dan Cox (Republican Party) is\n",
      "        [0.037941   0.30604738]\n",
      "        95% equal-tailed Bayesian credible interval for district-level voting preference of\n",
      "        non-$0-$35,000 for Dan Cox (Republican Party) is\n",
      "        [0.36486416 0.40326459]\n",
      "        \n"
     ]
    }
   ],
   "source": [
    "md_rep_0_35_ei_suburban, md_rep_0_35_summary_suburban = run_ecological_inference(\n",
    "    df=md_economic_merged_ei_suburban_df,\n",
    "    demographic_col=\"0_35K_PERCENT\",\n",
    "    voting_col=\"REPUBLICAN_PERCENT\",\n",
    "    total_votes_col=\"TOT_VOT\",\n",
    "    demographic_group_name=\"$0-$35,000\",\n",
    "    candidate_name=md_candidate_mapping['REPUBLICAN']\n",
    ")"
   ]
  },
  {
   "cell_type": "code",
   "execution_count": 581,
   "metadata": {},
   "outputs": [
    {
     "name": "stderr",
     "output_type": "stream",
     "text": [
      "Compiling...\n",
      "Compilation time = 0:00:05.926995\n",
      "Sampling...\n"
     ]
    },
    {
     "data": {
      "application/vnd.jupyter.widget-view+json": {
       "model_id": "ecb790c628f74cc1a46a95a1dcece079",
       "version_major": 2,
       "version_minor": 0
      },
      "text/plain": [
       "  0%|          | 0/2500 [00:00<?, ?it/s]"
      ]
     },
     "metadata": {},
     "output_type": "display_data"
    },
    {
     "data": {
      "application/vnd.jupyter.widget-view+json": {
       "model_id": "f21c762a8027485d83867fe948ca4f72",
       "version_major": 2,
       "version_minor": 0
      },
      "text/plain": [
       "  0%|          | 0/2500 [00:00<?, ?it/s]"
      ]
     },
     "metadata": {},
     "output_type": "display_data"
    },
    {
     "data": {
      "application/vnd.jupyter.widget-view+json": {
       "model_id": "8930197845e94d5393c8b57589a5486c",
       "version_major": 2,
       "version_minor": 0
      },
      "text/plain": [
       "  0%|          | 0/2500 [00:00<?, ?it/s]"
      ]
     },
     "metadata": {},
     "output_type": "display_data"
    },
    {
     "data": {
      "application/vnd.jupyter.widget-view+json": {
       "model_id": "e6e6b78df7f34358b1e26a37e7e5142b",
       "version_major": 2,
       "version_minor": 0
      },
      "text/plain": [
       "  0%|          | 0/2500 [00:00<?, ?it/s]"
      ]
     },
     "metadata": {},
     "output_type": "display_data"
    },
    {
     "name": "stderr",
     "output_type": "stream",
     "text": [
      "Sampling time = 0:00:02.172415\n",
      "Transforming variables...\n",
      "Transformation time = 0:00:20.444781\n"
     ]
    },
    {
     "name": "stdout",
     "output_type": "stream",
     "text": [
      "Model: king99_pareto_modification\n",
      "        Computed from the raw b_i samples by multiplying by population and then getting\n",
      "        the proportion of the total pop (total pop=summed across all districts):\n",
      "        The posterior mean for the district-level voting preference of\n",
      "        $0-$35,000 for Dan Cox (Republican Party) is\n",
      "        0.215\n",
      "        The posterior mean for the district-level voting preference of\n",
      "        non-$0-$35,000 for Dan Cox (Republican Party) is\n",
      "        0.286\n",
      "        95% equal-tailed Bayesian credible interval for district-level voting preference of\n",
      "        $0-$35,000 for Dan Cox (Republican Party) is\n",
      "        [0.06757584 0.39187179]\n",
      "        95% equal-tailed Bayesian credible interval for district-level voting preference of\n",
      "        non-$0-$35,000 for Dan Cox (Republican Party) is\n",
      "        [0.25891066 0.30894307]\n",
      "        \n"
     ]
    }
   ],
   "source": [
    "md_rep_0_35_ei_urban, md_rep_0_35_summary_urban = run_ecological_inference(\n",
    "    df=md_economic_merged_ei_urban_df,\n",
    "    demographic_col=\"0_35K_PERCENT\",\n",
    "    voting_col=\"REPUBLICAN_PERCENT\",\n",
    "    total_votes_col=\"TOT_VOT\",\n",
    "    demographic_group_name=\"$0-$35,000\",\n",
    "    candidate_name=md_candidate_mapping['REPUBLICAN']\n",
    ")"
   ]
  },
  {
   "cell_type": "code",
   "execution_count": 582,
   "metadata": {},
   "outputs": [
    {
     "name": "stderr",
     "output_type": "stream",
     "text": [
      "Compiling...\n",
      "Compilation time = 0:00:01.363545\n",
      "Sampling...\n"
     ]
    },
    {
     "data": {
      "application/vnd.jupyter.widget-view+json": {
       "model_id": "9ead717e5eef4c989c8dab8e5eb4ab3c",
       "version_major": 2,
       "version_minor": 0
      },
      "text/plain": [
       "  0%|          | 0/2500 [00:00<?, ?it/s]"
      ]
     },
     "metadata": {},
     "output_type": "display_data"
    },
    {
     "data": {
      "application/vnd.jupyter.widget-view+json": {
       "model_id": "58df3fdb3d3b4b8f87a84a21ae7cd76d",
       "version_major": 2,
       "version_minor": 0
      },
      "text/plain": [
       "  0%|          | 0/2500 [00:00<?, ?it/s]"
      ]
     },
     "metadata": {},
     "output_type": "display_data"
    },
    {
     "data": {
      "application/vnd.jupyter.widget-view+json": {
       "model_id": "4f739be65fe844e58fdfdd976578756e",
       "version_major": 2,
       "version_minor": 0
      },
      "text/plain": [
       "  0%|          | 0/2500 [00:00<?, ?it/s]"
      ]
     },
     "metadata": {},
     "output_type": "display_data"
    },
    {
     "data": {
      "application/vnd.jupyter.widget-view+json": {
       "model_id": "092efaaf5c5f4e8eac6547047d44d16c",
       "version_major": 2,
       "version_minor": 0
      },
      "text/plain": [
       "  0%|          | 0/2500 [00:00<?, ?it/s]"
      ]
     },
     "metadata": {},
     "output_type": "display_data"
    },
    {
     "name": "stderr",
     "output_type": "stream",
     "text": [
      "Sampling time = 0:00:02.074319\n",
      "Transforming variables...\n",
      "Transformation time = 0:00:55.927720\n"
     ]
    },
    {
     "name": "stdout",
     "output_type": "stream",
     "text": [
      "Model: king99_pareto_modification\n",
      "        Computed from the raw b_i samples by multiplying by population and then getting\n",
      "        the proportion of the total pop (total pop=summed across all districts):\n",
      "        The posterior mean for the district-level voting preference of\n",
      "        $35,000-$60,000 for Dan Cox (Republican Party) is\n",
      "        0.035\n",
      "        The posterior mean for the district-level voting preference of\n",
      "        non-$35,000-$60,000 for Dan Cox (Republican Party) is\n",
      "        0.381\n",
      "        95% equal-tailed Bayesian credible interval for district-level voting preference of\n",
      "        $35,000-$60,000 for Dan Cox (Republican Party) is\n",
      "        [0.00151186 0.11065426]\n",
      "        95% equal-tailed Bayesian credible interval for district-level voting preference of\n",
      "        non-$35,000-$60,000 for Dan Cox (Republican Party) is\n",
      "        [0.37036905 0.38677357]\n",
      "        \n"
     ]
    }
   ],
   "source": [
    "md_rep_35_60_ei, md_rep_35_60_summary = run_ecological_inference(\n",
    "    df=md_economic_merged_ei_df,\n",
    "    demographic_col=\"35K_60K_PERCENT\",\n",
    "    voting_col=\"REPUBLICAN_PERCENT\",\n",
    "    total_votes_col=\"TOT_VOT\",\n",
    "    demographic_group_name=\"$35,000-$60,000\",\n",
    "    candidate_name=md_candidate_mapping['REPUBLICAN']\n",
    ")"
   ]
  },
  {
   "cell_type": "code",
   "execution_count": 583,
   "metadata": {},
   "outputs": [
    {
     "name": "stderr",
     "output_type": "stream",
     "text": [
      "Compiling...\n",
      "Compilation time = 0:00:01.545896\n",
      "Sampling...\n"
     ]
    },
    {
     "data": {
      "application/vnd.jupyter.widget-view+json": {
       "model_id": "ea30075089214f64b255adfe89bf7654",
       "version_major": 2,
       "version_minor": 0
      },
      "text/plain": [
       "  0%|          | 0/2500 [00:00<?, ?it/s]"
      ]
     },
     "metadata": {},
     "output_type": "display_data"
    },
    {
     "data": {
      "application/vnd.jupyter.widget-view+json": {
       "model_id": "e300ee68fcc54dae9f2e54b8ccc618bf",
       "version_major": 2,
       "version_minor": 0
      },
      "text/plain": [
       "  0%|          | 0/2500 [00:00<?, ?it/s]"
      ]
     },
     "metadata": {},
     "output_type": "display_data"
    },
    {
     "data": {
      "application/vnd.jupyter.widget-view+json": {
       "model_id": "4f6af881e0bb4d12a20c9c629b674d78",
       "version_major": 2,
       "version_minor": 0
      },
      "text/plain": [
       "  0%|          | 0/2500 [00:00<?, ?it/s]"
      ]
     },
     "metadata": {},
     "output_type": "display_data"
    },
    {
     "data": {
      "application/vnd.jupyter.widget-view+json": {
       "model_id": "c1b1832a1bb64c028ac67a8407408e8a",
       "version_major": 2,
       "version_minor": 0
      },
      "text/plain": [
       "  0%|          | 0/2500 [00:00<?, ?it/s]"
      ]
     },
     "metadata": {},
     "output_type": "display_data"
    },
    {
     "name": "stderr",
     "output_type": "stream",
     "text": [
      "Sampling time = 0:00:02.231028\n",
      "Transforming variables...\n",
      "Transformation time = 0:00:54.877155\n"
     ]
    },
    {
     "name": "stdout",
     "output_type": "stream",
     "text": [
      "Model: king99_pareto_modification\n",
      "        Computed from the raw b_i samples by multiplying by population and then getting\n",
      "        the proportion of the total pop (total pop=summed across all districts):\n",
      "        The posterior mean for the district-level voting preference of\n",
      "        $35,000-$60,000 for Dan Cox (Republican Party) is\n",
      "        0.091\n",
      "        The posterior mean for the district-level voting preference of\n",
      "        non-$35,000-$60,000 for Dan Cox (Republican Party) is\n",
      "        0.360\n",
      "        95% equal-tailed Bayesian credible interval for district-level voting preference of\n",
      "        $35,000-$60,000 for Dan Cox (Republican Party) is\n",
      "        [0.02213117 0.20474489]\n",
      "        95% equal-tailed Bayesian credible interval for district-level voting preference of\n",
      "        non-$35,000-$60,000 for Dan Cox (Republican Party) is\n",
      "        [0.34713276 0.36964697]\n",
      "        \n"
     ]
    }
   ],
   "source": [
    "md_rep_35_60_ei_rural, md_rep_35_60_summary_rural = run_ecological_inference(\n",
    "    df=md_economic_merged_ei_rural_df,\n",
    "    demographic_col=\"35K_60K_PERCENT\",\n",
    "    voting_col=\"REPUBLICAN_PERCENT\",\n",
    "    total_votes_col=\"TOT_VOT\",\n",
    "    demographic_group_name=\"$35,000-$60,000\",\n",
    "    candidate_name=md_candidate_mapping['REPUBLICAN']\n",
    ")"
   ]
  },
  {
   "cell_type": "code",
   "execution_count": 584,
   "metadata": {},
   "outputs": [
    {
     "name": "stderr",
     "output_type": "stream",
     "text": [
      "Compiling...\n",
      "Compilation time = 0:00:01.488221\n",
      "Sampling...\n"
     ]
    },
    {
     "data": {
      "application/vnd.jupyter.widget-view+json": {
       "model_id": "ee6932d9c2d74d038bb87022826d9cea",
       "version_major": 2,
       "version_minor": 0
      },
      "text/plain": [
       "  0%|          | 0/2500 [00:00<?, ?it/s]"
      ]
     },
     "metadata": {},
     "output_type": "display_data"
    },
    {
     "data": {
      "application/vnd.jupyter.widget-view+json": {
       "model_id": "fc32e2f3be934d10bbc9ac4b1939d0ce",
       "version_major": 2,
       "version_minor": 0
      },
      "text/plain": [
       "  0%|          | 0/2500 [00:00<?, ?it/s]"
      ]
     },
     "metadata": {},
     "output_type": "display_data"
    },
    {
     "data": {
      "application/vnd.jupyter.widget-view+json": {
       "model_id": "c4215bd9a2614d37afb13fdcfcdee894",
       "version_major": 2,
       "version_minor": 0
      },
      "text/plain": [
       "  0%|          | 0/2500 [00:00<?, ?it/s]"
      ]
     },
     "metadata": {},
     "output_type": "display_data"
    },
    {
     "data": {
      "application/vnd.jupyter.widget-view+json": {
       "model_id": "0aa3dcfcf6484481b6ae2022c22f2b4a",
       "version_major": 2,
       "version_minor": 0
      },
      "text/plain": [
       "  0%|          | 0/2500 [00:00<?, ?it/s]"
      ]
     },
     "metadata": {},
     "output_type": "display_data"
    },
    {
     "name": "stderr",
     "output_type": "stream",
     "text": [
      "Sampling time = 0:00:02.003652\n",
      "Transforming variables...\n",
      "Transformation time = 0:00:19.927880\n"
     ]
    },
    {
     "name": "stdout",
     "output_type": "stream",
     "text": [
      "Model: king99_pareto_modification\n",
      "        Computed from the raw b_i samples by multiplying by population and then getting\n",
      "        the proportion of the total pop (total pop=summed across all districts):\n",
      "        The posterior mean for the district-level voting preference of\n",
      "        $35,000-$60,000 for Dan Cox (Republican Party) is\n",
      "        0.163\n",
      "        The posterior mean for the district-level voting preference of\n",
      "        non-$35,000-$60,000 for Dan Cox (Republican Party) is\n",
      "        0.383\n",
      "        95% equal-tailed Bayesian credible interval for district-level voting preference of\n",
      "        $35,000-$60,000 for Dan Cox (Republican Party) is\n",
      "        [0.05103625 0.31685701]\n",
      "        95% equal-tailed Bayesian credible interval for district-level voting preference of\n",
      "        non-$35,000-$60,000 for Dan Cox (Republican Party) is\n",
      "        [0.36353691 0.39636741]\n",
      "        \n"
     ]
    }
   ],
   "source": [
    "md_rep_35_60_ei_suburban, md_rep_35_60_summary_suburban = run_ecological_inference(\n",
    "    df=md_economic_merged_ei_suburban_df,\n",
    "    demographic_col=\"35K_60K_PERCENT\",\n",
    "    voting_col=\"REPUBLICAN_PERCENT\",\n",
    "    total_votes_col=\"TOT_VOT\",\n",
    "    demographic_group_name=\"$35,000-$60,000\",\n",
    "    candidate_name=md_candidate_mapping['REPUBLICAN']\n",
    ")"
   ]
  },
  {
   "cell_type": "code",
   "execution_count": 585,
   "metadata": {},
   "outputs": [
    {
     "name": "stderr",
     "output_type": "stream",
     "text": [
      "Compiling...\n",
      "Compilation time = 0:00:01.534878\n",
      "Sampling...\n"
     ]
    },
    {
     "data": {
      "application/vnd.jupyter.widget-view+json": {
       "model_id": "3755db2849d5458fa638525de2dbd49e",
       "version_major": 2,
       "version_minor": 0
      },
      "text/plain": [
       "  0%|          | 0/2500 [00:00<?, ?it/s]"
      ]
     },
     "metadata": {},
     "output_type": "display_data"
    },
    {
     "data": {
      "application/vnd.jupyter.widget-view+json": {
       "model_id": "04b19097037b4bed97f9f62ba2ea04b5",
       "version_major": 2,
       "version_minor": 0
      },
      "text/plain": [
       "  0%|          | 0/2500 [00:00<?, ?it/s]"
      ]
     },
     "metadata": {},
     "output_type": "display_data"
    },
    {
     "data": {
      "application/vnd.jupyter.widget-view+json": {
       "model_id": "d34ec99fa36d4b04a99aaed1272283af",
       "version_major": 2,
       "version_minor": 0
      },
      "text/plain": [
       "  0%|          | 0/2500 [00:00<?, ?it/s]"
      ]
     },
     "metadata": {},
     "output_type": "display_data"
    },
    {
     "data": {
      "application/vnd.jupyter.widget-view+json": {
       "model_id": "416cc10736cd43af94570c06d5ec6b07",
       "version_major": 2,
       "version_minor": 0
      },
      "text/plain": [
       "  0%|          | 0/2500 [00:00<?, ?it/s]"
      ]
     },
     "metadata": {},
     "output_type": "display_data"
    },
    {
     "name": "stderr",
     "output_type": "stream",
     "text": [
      "Sampling time = 0:00:02.189616\n",
      "Transforming variables...\n",
      "Transformation time = 0:00:43.662561\n"
     ]
    },
    {
     "name": "stdout",
     "output_type": "stream",
     "text": [
      "Model: king99_pareto_modification\n",
      "        Computed from the raw b_i samples by multiplying by population and then getting\n",
      "        the proportion of the total pop (total pop=summed across all districts):\n",
      "        The posterior mean for the district-level voting preference of\n",
      "        $35,000-$60,000 for Dan Cox (Republican Party) is\n",
      "        0.096\n",
      "        The posterior mean for the district-level voting preference of\n",
      "        non-$35,000-$60,000 for Dan Cox (Republican Party) is\n",
      "        0.301\n",
      "        95% equal-tailed Bayesian credible interval for district-level voting preference of\n",
      "        $35,000-$60,000 for Dan Cox (Republican Party) is\n",
      "        [0.009031   0.24638443]\n",
      "        95% equal-tailed Bayesian credible interval for district-level voting preference of\n",
      "        non-$35,000-$60,000 for Dan Cox (Republican Party) is\n",
      "        [0.28059221 0.31263161]\n",
      "        \n"
     ]
    }
   ],
   "source": [
    "md_rep_35_60_ei_urban, md_rep_35_60_summary_urban = run_ecological_inference(\n",
    "    df=md_economic_merged_ei_urban_df,\n",
    "    demographic_col=\"35K_60K_PERCENT\",\n",
    "    voting_col=\"REPUBLICAN_PERCENT\",\n",
    "    total_votes_col=\"TOT_VOT\",\n",
    "    demographic_group_name=\"$35,000-$60,000\",\n",
    "    candidate_name=md_candidate_mapping['REPUBLICAN']\n",
    ")"
   ]
  },
  {
   "cell_type": "code",
   "execution_count": 586,
   "metadata": {},
   "outputs": [
    {
     "name": "stderr",
     "output_type": "stream",
     "text": [
      "Compiling...\n",
      "Compilation time = 0:00:01.280122\n",
      "Sampling...\n"
     ]
    },
    {
     "data": {
      "application/vnd.jupyter.widget-view+json": {
       "model_id": "90b628ddd33848d587a4cb2c5c5c68c9",
       "version_major": 2,
       "version_minor": 0
      },
      "text/plain": [
       "  0%|          | 0/2500 [00:00<?, ?it/s]"
      ]
     },
     "metadata": {},
     "output_type": "display_data"
    },
    {
     "data": {
      "application/vnd.jupyter.widget-view+json": {
       "model_id": "d1bf310327c4487db2e5afee5150f0f7",
       "version_major": 2,
       "version_minor": 0
      },
      "text/plain": [
       "  0%|          | 0/2500 [00:00<?, ?it/s]"
      ]
     },
     "metadata": {},
     "output_type": "display_data"
    },
    {
     "data": {
      "application/vnd.jupyter.widget-view+json": {
       "model_id": "830676940e3b4bb8addd782afec329b7",
       "version_major": 2,
       "version_minor": 0
      },
      "text/plain": [
       "  0%|          | 0/2500 [00:00<?, ?it/s]"
      ]
     },
     "metadata": {},
     "output_type": "display_data"
    },
    {
     "data": {
      "application/vnd.jupyter.widget-view+json": {
       "model_id": "ea78f2ac137745a3aa816d7c3a051541",
       "version_major": 2,
       "version_minor": 0
      },
      "text/plain": [
       "  0%|          | 0/2500 [00:00<?, ?it/s]"
      ]
     },
     "metadata": {},
     "output_type": "display_data"
    },
    {
     "name": "stderr",
     "output_type": "stream",
     "text": [
      "Sampling time = 0:00:07.194996\n",
      "Transforming variables...\n",
      "Transformation time = 0:00:47.649308\n"
     ]
    },
    {
     "name": "stdout",
     "output_type": "stream",
     "text": [
      "Model: king99_pareto_modification\n",
      "        Computed from the raw b_i samples by multiplying by population and then getting\n",
      "        the proportion of the total pop (total pop=summed across all districts):\n",
      "        The posterior mean for the district-level voting preference of\n",
      "        $35,000-$60,000 for Dan Cox (Republican Party) is\n",
      "        0.119\n",
      "        The posterior mean for the district-level voting preference of\n",
      "        non-$35,000-$60,000 for Dan Cox (Republican Party) is\n",
      "        0.386\n",
      "        95% equal-tailed Bayesian credible interval for district-level voting preference of\n",
      "        $35,000-$60,000 for Dan Cox (Republican Party) is\n",
      "        [0.03285393 0.24280197]\n",
      "        95% equal-tailed Bayesian credible interval for district-level voting preference of\n",
      "        non-$35,000-$60,000 for Dan Cox (Republican Party) is\n",
      "        [0.3596555  0.40393351]\n",
      "        \n"
     ]
    }
   ],
   "source": [
    "md_rep_60_100_ei, md_rep_60_100_summary = run_ecological_inference(\n",
    "    df=md_economic_merged_ei_df,\n",
    "    demographic_col=\"60K_100K_PERCENT\",\n",
    "    voting_col=\"REPUBLICAN_PERCENT\",\n",
    "    total_votes_col=\"TOT_VOT\",\n",
    "    demographic_group_name=\"$35,000-$60,000\",\n",
    "    candidate_name=md_candidate_mapping['REPUBLICAN']\n",
    ")"
   ]
  },
  {
   "cell_type": "code",
   "execution_count": 587,
   "metadata": {},
   "outputs": [
    {
     "name": "stderr",
     "output_type": "stream",
     "text": [
      "Compiling...\n",
      "Compilation time = 0:00:01.656659\n",
      "Sampling...\n"
     ]
    },
    {
     "data": {
      "application/vnd.jupyter.widget-view+json": {
       "model_id": "ca946fbd89ac4871baeba5cb3de2fb79",
       "version_major": 2,
       "version_minor": 0
      },
      "text/plain": [
       "  0%|          | 0/2500 [00:00<?, ?it/s]"
      ]
     },
     "metadata": {},
     "output_type": "display_data"
    },
    {
     "data": {
      "application/vnd.jupyter.widget-view+json": {
       "model_id": "ad54fd60d28649228645c054c685a002",
       "version_major": 2,
       "version_minor": 0
      },
      "text/plain": [
       "  0%|          | 0/2500 [00:00<?, ?it/s]"
      ]
     },
     "metadata": {},
     "output_type": "display_data"
    },
    {
     "data": {
      "application/vnd.jupyter.widget-view+json": {
       "model_id": "e04a93e8d2b14fae8b4a923ffac7cf39",
       "version_major": 2,
       "version_minor": 0
      },
      "text/plain": [
       "  0%|          | 0/2500 [00:00<?, ?it/s]"
      ]
     },
     "metadata": {},
     "output_type": "display_data"
    },
    {
     "data": {
      "application/vnd.jupyter.widget-view+json": {
       "model_id": "0554abb3853140498d60d50115684a28",
       "version_major": 2,
       "version_minor": 0
      },
      "text/plain": [
       "  0%|          | 0/2500 [00:00<?, ?it/s]"
      ]
     },
     "metadata": {},
     "output_type": "display_data"
    },
    {
     "name": "stderr",
     "output_type": "stream",
     "text": [
      "Sampling time = 0:00:02.806717\n",
      "Transforming variables...\n",
      "Transformation time = 0:00:32.485160\n"
     ]
    },
    {
     "name": "stdout",
     "output_type": "stream",
     "text": [
      "Model: king99_pareto_modification\n",
      "        Computed from the raw b_i samples by multiplying by population and then getting\n",
      "        the proportion of the total pop (total pop=summed across all districts):\n",
      "        The posterior mean for the district-level voting preference of\n",
      "        $35,000-$60,000 for Dan Cox (Republican Party) is\n",
      "        0.085\n",
      "        The posterior mean for the district-level voting preference of\n",
      "        non-$35,000-$60,000 for Dan Cox (Republican Party) is\n",
      "        0.372\n",
      "        95% equal-tailed Bayesian credible interval for district-level voting preference of\n",
      "        $35,000-$60,000 for Dan Cox (Republican Party) is\n",
      "        [0.00883483 0.20725891]\n",
      "        95% equal-tailed Bayesian credible interval for district-level voting preference of\n",
      "        non-$35,000-$60,000 for Dan Cox (Republican Party) is\n",
      "        [0.35064251 0.38658877]\n",
      "        \n"
     ]
    }
   ],
   "source": [
    "md_rep_60_100_ei_rural, md_rep_60_100_summary_rural = run_ecological_inference(\n",
    "    df=md_economic_merged_ei_rural_df,\n",
    "    demographic_col=\"60K_100K_PERCENT\",\n",
    "    voting_col=\"REPUBLICAN_PERCENT\",\n",
    "    total_votes_col=\"TOT_VOT\",\n",
    "    demographic_group_name=\"$35,000-$60,000\",\n",
    "    candidate_name=md_candidate_mapping['REPUBLICAN']\n",
    ")"
   ]
  },
  {
   "cell_type": "code",
   "execution_count": 588,
   "metadata": {},
   "outputs": [
    {
     "name": "stderr",
     "output_type": "stream",
     "text": [
      "Compiling...\n",
      "Compilation time = 0:00:01.494222\n",
      "Sampling...\n"
     ]
    },
    {
     "data": {
      "application/vnd.jupyter.widget-view+json": {
       "model_id": "95d3697bac9148e083a2ee6218309c0d",
       "version_major": 2,
       "version_minor": 0
      },
      "text/plain": [
       "  0%|          | 0/2500 [00:00<?, ?it/s]"
      ]
     },
     "metadata": {},
     "output_type": "display_data"
    },
    {
     "data": {
      "application/vnd.jupyter.widget-view+json": {
       "model_id": "d19f2f4a08274029a5285bde6fbd2d76",
       "version_major": 2,
       "version_minor": 0
      },
      "text/plain": [
       "  0%|          | 0/2500 [00:00<?, ?it/s]"
      ]
     },
     "metadata": {},
     "output_type": "display_data"
    },
    {
     "data": {
      "application/vnd.jupyter.widget-view+json": {
       "model_id": "98f1fe8ec15c46329f90f0d4cc286231",
       "version_major": 2,
       "version_minor": 0
      },
      "text/plain": [
       "  0%|          | 0/2500 [00:00<?, ?it/s]"
      ]
     },
     "metadata": {},
     "output_type": "display_data"
    },
    {
     "data": {
      "application/vnd.jupyter.widget-view+json": {
       "model_id": "c31d37d84f6f48ae95a9abc101091fcc",
       "version_major": 2,
       "version_minor": 0
      },
      "text/plain": [
       "  0%|          | 0/2500 [00:00<?, ?it/s]"
      ]
     },
     "metadata": {},
     "output_type": "display_data"
    },
    {
     "name": "stderr",
     "output_type": "stream",
     "text": [
      "Sampling time = 0:00:02.193741\n",
      "Transforming variables...\n",
      "Transformation time = 0:00:34.523187\n"
     ]
    },
    {
     "name": "stdout",
     "output_type": "stream",
     "text": [
      "Model: king99_pareto_modification\n",
      "        Computed from the raw b_i samples by multiplying by population and then getting\n",
      "        the proportion of the total pop (total pop=summed across all districts):\n",
      "        The posterior mean for the district-level voting preference of\n",
      "        $35,000-$60,000 for Dan Cox (Republican Party) is\n",
      "        0.177\n",
      "        The posterior mean for the district-level voting preference of\n",
      "        non-$35,000-$60,000 for Dan Cox (Republican Party) is\n",
      "        0.400\n",
      "        95% equal-tailed Bayesian credible interval for district-level voting preference of\n",
      "        $35,000-$60,000 for Dan Cox (Republican Party) is\n",
      "        [0.05227942 0.32628957]\n",
      "        95% equal-tailed Bayesian credible interval for district-level voting preference of\n",
      "        non-$35,000-$60,000 for Dan Cox (Republican Party) is\n",
      "        [0.36670936 0.42830759]\n",
      "        \n"
     ]
    }
   ],
   "source": [
    "md_rep_60_100_ei_suburban, md_rep_60_100_summary_suburban = run_ecological_inference(\n",
    "    df=md_economic_merged_ei_suburban_df,\n",
    "    demographic_col=\"60K_100K_PERCENT\",\n",
    "    voting_col=\"REPUBLICAN_PERCENT\",\n",
    "    total_votes_col=\"TOT_VOT\",\n",
    "    demographic_group_name=\"$35,000-$60,000\",\n",
    "    candidate_name=md_candidate_mapping['REPUBLICAN']\n",
    ")"
   ]
  },
  {
   "cell_type": "code",
   "execution_count": 589,
   "metadata": {},
   "outputs": [
    {
     "name": "stderr",
     "output_type": "stream",
     "text": [
      "Compiling...\n",
      "Compilation time = 0:00:01.633016\n",
      "Sampling...\n"
     ]
    },
    {
     "data": {
      "application/vnd.jupyter.widget-view+json": {
       "model_id": "e7b1b2b1e34b42ca8527f80f57efa869",
       "version_major": 2,
       "version_minor": 0
      },
      "text/plain": [
       "  0%|          | 0/2500 [00:00<?, ?it/s]"
      ]
     },
     "metadata": {},
     "output_type": "display_data"
    },
    {
     "data": {
      "application/vnd.jupyter.widget-view+json": {
       "model_id": "342ea5c6d97d410690e3a5596990bb34",
       "version_major": 2,
       "version_minor": 0
      },
      "text/plain": [
       "  0%|          | 0/2500 [00:00<?, ?it/s]"
      ]
     },
     "metadata": {},
     "output_type": "display_data"
    },
    {
     "data": {
      "application/vnd.jupyter.widget-view+json": {
       "model_id": "9f7c6864f8db45fdb308d7378dbee5d3",
       "version_major": 2,
       "version_minor": 0
      },
      "text/plain": [
       "  0%|          | 0/2500 [00:00<?, ?it/s]"
      ]
     },
     "metadata": {},
     "output_type": "display_data"
    },
    {
     "data": {
      "application/vnd.jupyter.widget-view+json": {
       "model_id": "6ca65df30e8d4c8091f6d54f9121aaa8",
       "version_major": 2,
       "version_minor": 0
      },
      "text/plain": [
       "  0%|          | 0/2500 [00:00<?, ?it/s]"
      ]
     },
     "metadata": {},
     "output_type": "display_data"
    },
    {
     "name": "stderr",
     "output_type": "stream",
     "text": [
      "Sampling time = 0:00:02.303894\n",
      "Transforming variables...\n",
      "Transformation time = 0:00:50.958598\n"
     ]
    },
    {
     "name": "stdout",
     "output_type": "stream",
     "text": [
      "Model: king99_pareto_modification\n",
      "        Computed from the raw b_i samples by multiplying by population and then getting\n",
      "        the proportion of the total pop (total pop=summed across all districts):\n",
      "        The posterior mean for the district-level voting preference of\n",
      "        $35,000-$60,000 for Dan Cox (Republican Party) is\n",
      "        0.128\n",
      "        The posterior mean for the district-level voting preference of\n",
      "        non-$35,000-$60,000 for Dan Cox (Republican Party) is\n",
      "        0.312\n",
      "        95% equal-tailed Bayesian credible interval for district-level voting preference of\n",
      "        $35,000-$60,000 for Dan Cox (Republican Party) is\n",
      "        [0.01957299 0.27171499]\n",
      "        95% equal-tailed Bayesian credible interval for district-level voting preference of\n",
      "        non-$35,000-$60,000 for Dan Cox (Republican Party) is\n",
      "        [0.27584439 0.33926819]\n",
      "        \n"
     ]
    }
   ],
   "source": [
    "md_rep_60_100_ei_urban, md_rep_60_100_summary_urban = run_ecological_inference(\n",
    "    df=md_economic_merged_ei_urban_df,\n",
    "    demographic_col=\"60K_100K_PERCENT\",\n",
    "    voting_col=\"REPUBLICAN_PERCENT\",\n",
    "    total_votes_col=\"TOT_VOT\",\n",
    "    demographic_group_name=\"$35,000-$60,000\",\n",
    "    candidate_name=md_candidate_mapping['REPUBLICAN']\n",
    ")"
   ]
  },
  {
   "cell_type": "code",
   "execution_count": 590,
   "metadata": {},
   "outputs": [
    {
     "name": "stderr",
     "output_type": "stream",
     "text": [
      "Compiling...\n",
      "Compilation time = 0:00:01.338972\n",
      "Sampling...\n"
     ]
    },
    {
     "data": {
      "application/vnd.jupyter.widget-view+json": {
       "model_id": "0c4d578d426e443596d0ae0ef7ccb510",
       "version_major": 2,
       "version_minor": 0
      },
      "text/plain": [
       "  0%|          | 0/2500 [00:00<?, ?it/s]"
      ]
     },
     "metadata": {},
     "output_type": "display_data"
    },
    {
     "data": {
      "application/vnd.jupyter.widget-view+json": {
       "model_id": "2b77c455eb894885ad00fdf8f222a9fe",
       "version_major": 2,
       "version_minor": 0
      },
      "text/plain": [
       "  0%|          | 0/2500 [00:00<?, ?it/s]"
      ]
     },
     "metadata": {},
     "output_type": "display_data"
    },
    {
     "data": {
      "application/vnd.jupyter.widget-view+json": {
       "model_id": "25c521f1ea874b9a9aa01499b4b6f15c",
       "version_major": 2,
       "version_minor": 0
      },
      "text/plain": [
       "  0%|          | 0/2500 [00:00<?, ?it/s]"
      ]
     },
     "metadata": {},
     "output_type": "display_data"
    },
    {
     "data": {
      "application/vnd.jupyter.widget-view+json": {
       "model_id": "b52ebe51103a42b49fa933ddd703d3f8",
       "version_major": 2,
       "version_minor": 0
      },
      "text/plain": [
       "  0%|          | 0/2500 [00:00<?, ?it/s]"
      ]
     },
     "metadata": {},
     "output_type": "display_data"
    },
    {
     "name": "stderr",
     "output_type": "stream",
     "text": [
      "Sampling time = 0:00:02.254822\n",
      "Transforming variables...\n",
      "Transformation time = 0:00:16.871360\n"
     ]
    },
    {
     "name": "stdout",
     "output_type": "stream",
     "text": [
      "Model: king99_pareto_modification\n",
      "        Computed from the raw b_i samples by multiplying by population and then getting\n",
      "        the proportion of the total pop (total pop=summed across all districts):\n",
      "        The posterior mean for the district-level voting preference of\n",
      "        $100,000-$125,000 for Dan Cox (Republican Party) is\n",
      "        0.221\n",
      "        The posterior mean for the district-level voting preference of\n",
      "        non-$100,000-$125,000 for Dan Cox (Republican Party) is\n",
      "        0.356\n",
      "        95% equal-tailed Bayesian credible interval for district-level voting preference of\n",
      "        $100,000-$125,000 for Dan Cox (Republican Party) is\n",
      "        [0.02716374 0.47805122]\n",
      "        95% equal-tailed Bayesian credible interval for district-level voting preference of\n",
      "        non-$100,000-$125,000 for Dan Cox (Republican Party) is\n",
      "        [0.32688097 0.37793151]\n",
      "        \n"
     ]
    }
   ],
   "source": [
    "md_rep_100_125_ei, md_rep_100_125_summary = run_ecological_inference(\n",
    "    df=md_economic_merged_ei_df,\n",
    "    demographic_col=\"100K_125K_PERCENT\",\n",
    "    voting_col=\"REPUBLICAN_PERCENT\",\n",
    "    total_votes_col=\"TOT_VOT\",\n",
    "    demographic_group_name=\"$100,000-$125,000\",\n",
    "    candidate_name=md_candidate_mapping['REPUBLICAN']\n",
    ")"
   ]
  },
  {
   "cell_type": "code",
   "execution_count": 591,
   "metadata": {},
   "outputs": [
    {
     "name": "stderr",
     "output_type": "stream",
     "text": [
      "Compiling...\n",
      "Compilation time = 0:00:01.311838\n",
      "Sampling...\n"
     ]
    },
    {
     "data": {
      "application/vnd.jupyter.widget-view+json": {
       "model_id": "bfddee749e55480eb3de0bd8c7f866ca",
       "version_major": 2,
       "version_minor": 0
      },
      "text/plain": [
       "  0%|          | 0/2500 [00:00<?, ?it/s]"
      ]
     },
     "metadata": {},
     "output_type": "display_data"
    },
    {
     "data": {
      "application/vnd.jupyter.widget-view+json": {
       "model_id": "c2975a7ca947444ebe8297aa700129f0",
       "version_major": 2,
       "version_minor": 0
      },
      "text/plain": [
       "  0%|          | 0/2500 [00:00<?, ?it/s]"
      ]
     },
     "metadata": {},
     "output_type": "display_data"
    },
    {
     "data": {
      "application/vnd.jupyter.widget-view+json": {
       "model_id": "ad3bb0a341b94426872cab88702ea202",
       "version_major": 2,
       "version_minor": 0
      },
      "text/plain": [
       "  0%|          | 0/2500 [00:00<?, ?it/s]"
      ]
     },
     "metadata": {},
     "output_type": "display_data"
    },
    {
     "data": {
      "application/vnd.jupyter.widget-view+json": {
       "model_id": "432e6321b44d46ef90261d711bf91e93",
       "version_major": 2,
       "version_minor": 0
      },
      "text/plain": [
       "  0%|          | 0/2500 [00:00<?, ?it/s]"
      ]
     },
     "metadata": {},
     "output_type": "display_data"
    },
    {
     "name": "stderr",
     "output_type": "stream",
     "text": [
      "Sampling time = 0:00:02.357153\n",
      "Transforming variables...\n",
      "Transformation time = 0:00:13.795782\n"
     ]
    },
    {
     "name": "stdout",
     "output_type": "stream",
     "text": [
      "Model: king99_pareto_modification\n",
      "        Computed from the raw b_i samples by multiplying by population and then getting\n",
      "        the proportion of the total pop (total pop=summed across all districts):\n",
      "        The posterior mean for the district-level voting preference of\n",
      "        $100,000-$125,000 for Dan Cox (Republican Party) is\n",
      "        0.246\n",
      "        The posterior mean for the district-level voting preference of\n",
      "        non-$100,000-$125,000 for Dan Cox (Republican Party) is\n",
      "        0.342\n",
      "        95% equal-tailed Bayesian credible interval for district-level voting preference of\n",
      "        $100,000-$125,000 for Dan Cox (Republican Party) is\n",
      "        [0.07738855 0.46483796]\n",
      "        95% equal-tailed Bayesian credible interval for district-level voting preference of\n",
      "        non-$100,000-$125,000 for Dan Cox (Republican Party) is\n",
      "        [0.32166631 0.35871788]\n",
      "        \n"
     ]
    }
   ],
   "source": [
    "md_rep_100_125_ei_rural, md_rep_100_125_summary_rural = run_ecological_inference(\n",
    "    df=md_economic_merged_ei_rural_df,\n",
    "    demographic_col=\"100K_125K_PERCENT\",\n",
    "    voting_col=\"REPUBLICAN_PERCENT\",\n",
    "    total_votes_col=\"TOT_VOT\",\n",
    "    demographic_group_name=\"$100,000-$125,000\",\n",
    "    candidate_name=md_candidate_mapping['REPUBLICAN']\n",
    ")"
   ]
  },
  {
   "cell_type": "code",
   "execution_count": 592,
   "metadata": {},
   "outputs": [
    {
     "name": "stderr",
     "output_type": "stream",
     "text": [
      "Compiling...\n",
      "Compilation time = 0:00:01.309228\n",
      "Sampling...\n"
     ]
    },
    {
     "data": {
      "application/vnd.jupyter.widget-view+json": {
       "model_id": "b6053d5500094cf3a091319c280d5163",
       "version_major": 2,
       "version_minor": 0
      },
      "text/plain": [
       "  0%|          | 0/2500 [00:00<?, ?it/s]"
      ]
     },
     "metadata": {},
     "output_type": "display_data"
    },
    {
     "data": {
      "application/vnd.jupyter.widget-view+json": {
       "model_id": "91e895de3d0b4ec8a24e0c4e96e4b81f",
       "version_major": 2,
       "version_minor": 0
      },
      "text/plain": [
       "  0%|          | 0/2500 [00:00<?, ?it/s]"
      ]
     },
     "metadata": {},
     "output_type": "display_data"
    },
    {
     "data": {
      "application/vnd.jupyter.widget-view+json": {
       "model_id": "76e6baaf708546deb0f8c84b4951b6e0",
       "version_major": 2,
       "version_minor": 0
      },
      "text/plain": [
       "  0%|          | 0/2500 [00:00<?, ?it/s]"
      ]
     },
     "metadata": {},
     "output_type": "display_data"
    },
    {
     "data": {
      "application/vnd.jupyter.widget-view+json": {
       "model_id": "0eb28618732340ae8dfc3950f1c2fe18",
       "version_major": 2,
       "version_minor": 0
      },
      "text/plain": [
       "  0%|          | 0/2500 [00:00<?, ?it/s]"
      ]
     },
     "metadata": {},
     "output_type": "display_data"
    },
    {
     "name": "stderr",
     "output_type": "stream",
     "text": [
      "Sampling time = 0:00:07.169627\n",
      "Transforming variables...\n",
      "Transformation time = 0:00:26.287107\n"
     ]
    },
    {
     "name": "stdout",
     "output_type": "stream",
     "text": [
      "Model: king99_pareto_modification\n",
      "        Computed from the raw b_i samples by multiplying by population and then getting\n",
      "        the proportion of the total pop (total pop=summed across all districts):\n",
      "        The posterior mean for the district-level voting preference of\n",
      "        $100,000-$125,000 for Dan Cox (Republican Party) is\n",
      "        0.161\n",
      "        The posterior mean for the district-level voting preference of\n",
      "        non-$100,000-$125,000 for Dan Cox (Republican Party) is\n",
      "        0.381\n",
      "        95% equal-tailed Bayesian credible interval for district-level voting preference of\n",
      "        $100,000-$125,000 for Dan Cox (Republican Party) is\n",
      "        [0.00603765 0.40572091]\n",
      "        95% equal-tailed Bayesian credible interval for district-level voting preference of\n",
      "        non-$100,000-$125,000 for Dan Cox (Republican Party) is\n",
      "        [0.35326013 0.40034775]\n",
      "        \n"
     ]
    }
   ],
   "source": [
    "md_rep_100_125_ei_suburban, md_rep_100_125_summary_suburban = run_ecological_inference(\n",
    "    df=md_economic_merged_ei_suburban_df,\n",
    "    demographic_col=\"100K_125K_PERCENT\",\n",
    "    voting_col=\"REPUBLICAN_PERCENT\",\n",
    "    total_votes_col=\"TOT_VOT\",\n",
    "    demographic_group_name=\"$100,000-$125,000\",\n",
    "    candidate_name=md_candidate_mapping['REPUBLICAN']\n",
    ")"
   ]
  },
  {
   "cell_type": "code",
   "execution_count": 593,
   "metadata": {},
   "outputs": [
    {
     "name": "stderr",
     "output_type": "stream",
     "text": [
      "Compiling...\n",
      "Compilation time = 0:00:01.588123\n",
      "Sampling...\n"
     ]
    },
    {
     "data": {
      "application/vnd.jupyter.widget-view+json": {
       "model_id": "4097f353a8e940f1871a62019241c1e5",
       "version_major": 2,
       "version_minor": 0
      },
      "text/plain": [
       "  0%|          | 0/2500 [00:00<?, ?it/s]"
      ]
     },
     "metadata": {},
     "output_type": "display_data"
    },
    {
     "data": {
      "application/vnd.jupyter.widget-view+json": {
       "model_id": "8b0eb610e6a6418ca29af8731718e7bb",
       "version_major": 2,
       "version_minor": 0
      },
      "text/plain": [
       "  0%|          | 0/2500 [00:00<?, ?it/s]"
      ]
     },
     "metadata": {},
     "output_type": "display_data"
    },
    {
     "data": {
      "application/vnd.jupyter.widget-view+json": {
       "model_id": "c665dfe864144852899f355d36b18fa9",
       "version_major": 2,
       "version_minor": 0
      },
      "text/plain": [
       "  0%|          | 0/2500 [00:00<?, ?it/s]"
      ]
     },
     "metadata": {},
     "output_type": "display_data"
    },
    {
     "data": {
      "application/vnd.jupyter.widget-view+json": {
       "model_id": "86289fb740814912a2f80c7a8a168c9b",
       "version_major": 2,
       "version_minor": 0
      },
      "text/plain": [
       "  0%|          | 0/2500 [00:00<?, ?it/s]"
      ]
     },
     "metadata": {},
     "output_type": "display_data"
    },
    {
     "name": "stderr",
     "output_type": "stream",
     "text": [
      "Sampling time = 0:00:02.183502\n",
      "Transforming variables...\n",
      "Transformation time = 0:00:35.638000\n"
     ]
    },
    {
     "name": "stdout",
     "output_type": "stream",
     "text": [
      "Model: king99_pareto_modification\n",
      "        Computed from the raw b_i samples by multiplying by population and then getting\n",
      "        the proportion of the total pop (total pop=summed across all districts):\n",
      "        The posterior mean for the district-level voting preference of\n",
      "        $100,000-$125,000 for Dan Cox (Republican Party) is\n",
      "        0.214\n",
      "        The posterior mean for the district-level voting preference of\n",
      "        non-$100,000-$125,000 for Dan Cox (Republican Party) is\n",
      "        0.284\n",
      "        95% equal-tailed Bayesian credible interval for district-level voting preference of\n",
      "        $100,000-$125,000 for Dan Cox (Republican Party) is\n",
      "        [0.03878977 0.41152817]\n",
      "        95% equal-tailed Bayesian credible interval for district-level voting preference of\n",
      "        non-$100,000-$125,000 for Dan Cox (Republican Party) is\n",
      "        [0.25761886 0.3075397 ]\n",
      "        \n"
     ]
    }
   ],
   "source": [
    "md_rep_100_125_ei_urban, md_rep_100_125_summary_urban = run_ecological_inference(\n",
    "    df=md_economic_merged_ei_urban_df,\n",
    "    demographic_col=\"100K_125K_PERCENT\",\n",
    "    voting_col=\"REPUBLICAN_PERCENT\",\n",
    "    total_votes_col=\"TOT_VOT\",\n",
    "    demographic_group_name=\"$100,000-$125,000\",\n",
    "    candidate_name=md_candidate_mapping['REPUBLICAN']\n",
    ")"
   ]
  },
  {
   "cell_type": "code",
   "execution_count": 594,
   "metadata": {},
   "outputs": [
    {
     "name": "stderr",
     "output_type": "stream",
     "text": [
      "Compiling...\n",
      "Compilation time = 0:00:01.433167\n",
      "Sampling...\n"
     ]
    },
    {
     "data": {
      "application/vnd.jupyter.widget-view+json": {
       "model_id": "6493b4eb6d6b458695aee446e52e23c8",
       "version_major": 2,
       "version_minor": 0
      },
      "text/plain": [
       "  0%|          | 0/2500 [00:00<?, ?it/s]"
      ]
     },
     "metadata": {},
     "output_type": "display_data"
    },
    {
     "data": {
      "application/vnd.jupyter.widget-view+json": {
       "model_id": "8f68dbd436a640cea5975dc4e1146ab6",
       "version_major": 2,
       "version_minor": 0
      },
      "text/plain": [
       "  0%|          | 0/2500 [00:00<?, ?it/s]"
      ]
     },
     "metadata": {},
     "output_type": "display_data"
    },
    {
     "data": {
      "application/vnd.jupyter.widget-view+json": {
       "model_id": "23e6c23a7ccf4f68a3523b093ccd2962",
       "version_major": 2,
       "version_minor": 0
      },
      "text/plain": [
       "  0%|          | 0/2500 [00:00<?, ?it/s]"
      ]
     },
     "metadata": {},
     "output_type": "display_data"
    },
    {
     "data": {
      "application/vnd.jupyter.widget-view+json": {
       "model_id": "c06f5db72ce24eeaba4376d1ae52ad16",
       "version_major": 2,
       "version_minor": 0
      },
      "text/plain": [
       "  0%|          | 0/2500 [00:00<?, ?it/s]"
      ]
     },
     "metadata": {},
     "output_type": "display_data"
    },
    {
     "name": "stderr",
     "output_type": "stream",
     "text": [
      "Sampling time = 0:00:02.121795\n",
      "Transforming variables...\n",
      "Transformation time = 0:00:17.307257\n"
     ]
    },
    {
     "name": "stdout",
     "output_type": "stream",
     "text": [
      "Model: king99_pareto_modification\n",
      "        Computed from the raw b_i samples by multiplying by population and then getting\n",
      "        the proportion of the total pop (total pop=summed across all districts):\n",
      "        The posterior mean for the district-level voting preference of\n",
      "        $125,000-$150,000 for Dan Cox (Republican Party) is\n",
      "        0.258\n",
      "        The posterior mean for the district-level voting preference of\n",
      "        non-$125,000-$150,000 for Dan Cox (Republican Party) is\n",
      "        0.351\n",
      "        95% equal-tailed Bayesian credible interval for district-level voting preference of\n",
      "        $125,000-$150,000 for Dan Cox (Republican Party) is\n",
      "        [0.06931643 0.5014635 ]\n",
      "        95% equal-tailed Bayesian credible interval for district-level voting preference of\n",
      "        non-$125,000-$150,000 for Dan Cox (Republican Party) is\n",
      "        [0.32904875 0.36922359]\n",
      "        \n"
     ]
    }
   ],
   "source": [
    "md_rep_125_150_ei, md_rep_125_150_summary = run_ecological_inference(\n",
    "    df=md_economic_merged_ei_df,\n",
    "    demographic_col=\"125K_150K_PERCENT\",\n",
    "    voting_col=\"REPUBLICAN_PERCENT\",\n",
    "    total_votes_col=\"TOT_VOT\",\n",
    "    demographic_group_name=\"$125,000-$150,000\",\n",
    "    candidate_name=md_candidate_mapping['REPUBLICAN']\n",
    ")"
   ]
  },
  {
   "cell_type": "code",
   "execution_count": 595,
   "metadata": {},
   "outputs": [
    {
     "name": "stderr",
     "output_type": "stream",
     "text": [
      "Compiling...\n",
      "Compilation time = 0:00:01.385215\n",
      "Sampling...\n"
     ]
    },
    {
     "data": {
      "application/vnd.jupyter.widget-view+json": {
       "model_id": "ecf2aeef58c840cb8f75ca74a19b8666",
       "version_major": 2,
       "version_minor": 0
      },
      "text/plain": [
       "  0%|          | 0/2500 [00:00<?, ?it/s]"
      ]
     },
     "metadata": {},
     "output_type": "display_data"
    },
    {
     "data": {
      "application/vnd.jupyter.widget-view+json": {
       "model_id": "5cf4c42e1eef4477b7471e8274afae74",
       "version_major": 2,
       "version_minor": 0
      },
      "text/plain": [
       "  0%|          | 0/2500 [00:00<?, ?it/s]"
      ]
     },
     "metadata": {},
     "output_type": "display_data"
    },
    {
     "data": {
      "application/vnd.jupyter.widget-view+json": {
       "model_id": "26624ccdff894aca875419dde1e63dc9",
       "version_major": 2,
       "version_minor": 0
      },
      "text/plain": [
       "  0%|          | 0/2500 [00:00<?, ?it/s]"
      ]
     },
     "metadata": {},
     "output_type": "display_data"
    },
    {
     "data": {
      "application/vnd.jupyter.widget-view+json": {
       "model_id": "e928c2873e244a3199f58edd2583d82c",
       "version_major": 2,
       "version_minor": 0
      },
      "text/plain": [
       "  0%|          | 0/2500 [00:00<?, ?it/s]"
      ]
     },
     "metadata": {},
     "output_type": "display_data"
    },
    {
     "name": "stderr",
     "output_type": "stream",
     "text": [
      "Sampling time = 0:00:02.161543\n",
      "Transforming variables...\n",
      "Transformation time = 0:00:27.080817\n"
     ]
    },
    {
     "name": "stdout",
     "output_type": "stream",
     "text": [
      "Model: king99_pareto_modification\n",
      "        Computed from the raw b_i samples by multiplying by population and then getting\n",
      "        the proportion of the total pop (total pop=summed across all districts):\n",
      "        The posterior mean for the district-level voting preference of\n",
      "        $125,000-$150,000 for Dan Cox (Republican Party) is\n",
      "        0.252\n",
      "        The posterior mean for the district-level voting preference of\n",
      "        non-$125,000-$150,000 for Dan Cox (Republican Party) is\n",
      "        0.343\n",
      "        95% equal-tailed Bayesian credible interval for district-level voting preference of\n",
      "        $125,000-$150,000 for Dan Cox (Republican Party) is\n",
      "        [0.01357489 0.53973345]\n",
      "        95% equal-tailed Bayesian credible interval for district-level voting preference of\n",
      "        non-$125,000-$150,000 for Dan Cox (Republican Party) is\n",
      "        [0.31576561 0.36595045]\n",
      "        \n"
     ]
    }
   ],
   "source": [
    "md_rep_125_150_ei_rural, md_rep_125_150_summary_rural = run_ecological_inference(\n",
    "    df=md_economic_merged_ei_rural_df,\n",
    "    demographic_col=\"125K_150K_PERCENT\",\n",
    "    voting_col=\"REPUBLICAN_PERCENT\",\n",
    "    total_votes_col=\"TOT_VOT\",\n",
    "    demographic_group_name=\"$125,000-$150,000\",\n",
    "    candidate_name=md_candidate_mapping['REPUBLICAN']\n",
    ")"
   ]
  },
  {
   "cell_type": "code",
   "execution_count": 596,
   "metadata": {},
   "outputs": [
    {
     "name": "stderr",
     "output_type": "stream",
     "text": [
      "Compiling...\n",
      "Compilation time = 0:00:01.329644\n",
      "Sampling...\n"
     ]
    },
    {
     "data": {
      "application/vnd.jupyter.widget-view+json": {
       "model_id": "f0bf1711bbda48cfbbf5ef9d1056ea23",
       "version_major": 2,
       "version_minor": 0
      },
      "text/plain": [
       "  0%|          | 0/2500 [00:00<?, ?it/s]"
      ]
     },
     "metadata": {},
     "output_type": "display_data"
    },
    {
     "data": {
      "application/vnd.jupyter.widget-view+json": {
       "model_id": "91937414280c44dbb5d336b0eda480af",
       "version_major": 2,
       "version_minor": 0
      },
      "text/plain": [
       "  0%|          | 0/2500 [00:00<?, ?it/s]"
      ]
     },
     "metadata": {},
     "output_type": "display_data"
    },
    {
     "data": {
      "application/vnd.jupyter.widget-view+json": {
       "model_id": "3cfde116d38847e9bcd4a54705fc2919",
       "version_major": 2,
       "version_minor": 0
      },
      "text/plain": [
       "  0%|          | 0/2500 [00:00<?, ?it/s]"
      ]
     },
     "metadata": {},
     "output_type": "display_data"
    },
    {
     "data": {
      "application/vnd.jupyter.widget-view+json": {
       "model_id": "cf8ad6c8354f419facfedb3410129038",
       "version_major": 2,
       "version_minor": 0
      },
      "text/plain": [
       "  0%|          | 0/2500 [00:00<?, ?it/s]"
      ]
     },
     "metadata": {},
     "output_type": "display_data"
    },
    {
     "name": "stderr",
     "output_type": "stream",
     "text": [
      "Sampling time = 0:00:01.961046\n",
      "Transforming variables...\n",
      "Transformation time = 0:00:17.025213\n"
     ]
    },
    {
     "name": "stdout",
     "output_type": "stream",
     "text": [
      "Model: king99_pareto_modification\n",
      "        Computed from the raw b_i samples by multiplying by population and then getting\n",
      "        the proportion of the total pop (total pop=summed across all districts):\n",
      "        The posterior mean for the district-level voting preference of\n",
      "        $125,000-$150,000 for Dan Cox (Republican Party) is\n",
      "        0.259\n",
      "        The posterior mean for the district-level voting preference of\n",
      "        non-$125,000-$150,000 for Dan Cox (Republican Party) is\n",
      "        0.367\n",
      "        95% equal-tailed Bayesian credible interval for district-level voting preference of\n",
      "        $125,000-$150,000 for Dan Cox (Republican Party) is\n",
      "        [0.04248816 0.52850176]\n",
      "        95% equal-tailed Bayesian credible interval for district-level voting preference of\n",
      "        non-$125,000-$150,000 for Dan Cox (Republican Party) is\n",
      "        [0.34180757 0.38770722]\n",
      "        \n"
     ]
    }
   ],
   "source": [
    "md_rep_125_150_ei_suburban, md_rep_125_150_summary_suburban = run_ecological_inference(\n",
    "    df=md_economic_merged_ei_suburban_df,\n",
    "    demographic_col=\"125K_150K_PERCENT\",\n",
    "    voting_col=\"REPUBLICAN_PERCENT\",\n",
    "    total_votes_col=\"TOT_VOT\",\n",
    "    demographic_group_name=\"$125,000-$150,000\",\n",
    "    candidate_name=md_candidate_mapping['REPUBLICAN']\n",
    ")"
   ]
  },
  {
   "cell_type": "code",
   "execution_count": 597,
   "metadata": {},
   "outputs": [
    {
     "name": "stderr",
     "output_type": "stream",
     "text": [
      "Compiling...\n",
      "Compilation time = 0:00:01.538648\n",
      "Sampling...\n"
     ]
    },
    {
     "data": {
      "application/vnd.jupyter.widget-view+json": {
       "model_id": "abbfb7ab1b70414199af25d7dfeaf9e2",
       "version_major": 2,
       "version_minor": 0
      },
      "text/plain": [
       "  0%|          | 0/2500 [00:00<?, ?it/s]"
      ]
     },
     "metadata": {},
     "output_type": "display_data"
    },
    {
     "data": {
      "application/vnd.jupyter.widget-view+json": {
       "model_id": "b0e5da3d3cba4a44bd2503108ed71f10",
       "version_major": 2,
       "version_minor": 0
      },
      "text/plain": [
       "  0%|          | 0/2500 [00:00<?, ?it/s]"
      ]
     },
     "metadata": {},
     "output_type": "display_data"
    },
    {
     "data": {
      "application/vnd.jupyter.widget-view+json": {
       "model_id": "2d56fb024fd54ef39e3c315dfc46a8a8",
       "version_major": 2,
       "version_minor": 0
      },
      "text/plain": [
       "  0%|          | 0/2500 [00:00<?, ?it/s]"
      ]
     },
     "metadata": {},
     "output_type": "display_data"
    },
    {
     "data": {
      "application/vnd.jupyter.widget-view+json": {
       "model_id": "975bfbba00e0493596dacf84f00a479c",
       "version_major": 2,
       "version_minor": 0
      },
      "text/plain": [
       "  0%|          | 0/2500 [00:00<?, ?it/s]"
      ]
     },
     "metadata": {},
     "output_type": "display_data"
    },
    {
     "name": "stderr",
     "output_type": "stream",
     "text": [
      "Sampling time = 0:00:02.163911\n",
      "Transforming variables...\n",
      "Transformation time = 0:00:18.811912\n"
     ]
    },
    {
     "name": "stdout",
     "output_type": "stream",
     "text": [
      "Model: king99_pareto_modification\n",
      "        Computed from the raw b_i samples by multiplying by population and then getting\n",
      "        the proportion of the total pop (total pop=summed across all districts):\n",
      "        The posterior mean for the district-level voting preference of\n",
      "        $125,000-$150,000 for Dan Cox (Republican Party) is\n",
      "        0.412\n",
      "        The posterior mean for the district-level voting preference of\n",
      "        non-$125,000-$150,000 for Dan Cox (Republican Party) is\n",
      "        0.263\n",
      "        95% equal-tailed Bayesian credible interval for district-level voting preference of\n",
      "        $125,000-$150,000 for Dan Cox (Republican Party) is\n",
      "        [0.12782179 0.63058749]\n",
      "        95% equal-tailed Bayesian credible interval for district-level voting preference of\n",
      "        non-$125,000-$150,000 for Dan Cox (Republican Party) is\n",
      "        [0.24125142 0.29110156]\n",
      "        \n"
     ]
    }
   ],
   "source": [
    "md_rep_125_150_ei_urban, md_rep_125_150_summary_urban = run_ecological_inference(\n",
    "    df=md_economic_merged_ei_urban_df,\n",
    "    demographic_col=\"125K_150K_PERCENT\",\n",
    "    voting_col=\"REPUBLICAN_PERCENT\",\n",
    "    total_votes_col=\"TOT_VOT\",\n",
    "    demographic_group_name=\"$125,000-$150,000\",\n",
    "    candidate_name=md_candidate_mapping['REPUBLICAN']\n",
    ")"
   ]
  },
  {
   "cell_type": "code",
   "execution_count": 598,
   "metadata": {},
   "outputs": [
    {
     "name": "stderr",
     "output_type": "stream",
     "text": [
      "Compiling...\n",
      "Compilation time = 0:00:05.995542\n",
      "Sampling...\n"
     ]
    },
    {
     "data": {
      "application/vnd.jupyter.widget-view+json": {
       "model_id": "176195501a0c4629b137885eb1604cb0",
       "version_major": 2,
       "version_minor": 0
      },
      "text/plain": [
       "  0%|          | 0/2500 [00:00<?, ?it/s]"
      ]
     },
     "metadata": {},
     "output_type": "display_data"
    },
    {
     "data": {
      "application/vnd.jupyter.widget-view+json": {
       "model_id": "ecfe84f9f2c74ee59749b4b12fcc08f6",
       "version_major": 2,
       "version_minor": 0
      },
      "text/plain": [
       "  0%|          | 0/2500 [00:00<?, ?it/s]"
      ]
     },
     "metadata": {},
     "output_type": "display_data"
    },
    {
     "data": {
      "application/vnd.jupyter.widget-view+json": {
       "model_id": "d7c69473f65a4119b1f818446e9cde66",
       "version_major": 2,
       "version_minor": 0
      },
      "text/plain": [
       "  0%|          | 0/2500 [00:00<?, ?it/s]"
      ]
     },
     "metadata": {},
     "output_type": "display_data"
    },
    {
     "data": {
      "application/vnd.jupyter.widget-view+json": {
       "model_id": "c65a79c2b8414a71a2fb83ae8e79be36",
       "version_major": 2,
       "version_minor": 0
      },
      "text/plain": [
       "  0%|          | 0/2500 [00:00<?, ?it/s]"
      ]
     },
     "metadata": {},
     "output_type": "display_data"
    },
    {
     "name": "stderr",
     "output_type": "stream",
     "text": [
      "Sampling time = 0:00:02.169149\n",
      "Transforming variables...\n",
      "Transformation time = 0:00:28.981469\n"
     ]
    },
    {
     "name": "stdout",
     "output_type": "stream",
     "text": [
      "Model: king99_pareto_modification\n",
      "        Computed from the raw b_i samples by multiplying by population and then getting\n",
      "        the proportion of the total pop (total pop=summed across all districts):\n",
      "        The posterior mean for the district-level voting preference of\n",
      "        $150,000+ for Dan Cox (Republican Party) is\n",
      "        0.287\n",
      "        The posterior mean for the district-level voting preference of\n",
      "        non-$150,000+ for Dan Cox (Republican Party) is\n",
      "        0.365\n",
      "        95% equal-tailed Bayesian credible interval for district-level voting preference of\n",
      "        $150,000+ for Dan Cox (Republican Party) is\n",
      "        [0.19989963 0.37963904]\n",
      "        95% equal-tailed Bayesian credible interval for district-level voting preference of\n",
      "        non-$150,000+ for Dan Cox (Republican Party) is\n",
      "        [0.31219891 0.41784029]\n",
      "        \n"
     ]
    }
   ],
   "source": [
    "md_rep_150_more_ei, md_rep_150_more_summary = run_ecological_inference(\n",
    "    df=md_economic_merged_ei_df,\n",
    "    demographic_col=\"150K_MORE_PERCENT\",\n",
    "    voting_col=\"REPUBLICAN_PERCENT\",\n",
    "    total_votes_col=\"TOT_VOT\",\n",
    "    demographic_group_name=\"$150,000+\",\n",
    "    candidate_name=md_candidate_mapping['REPUBLICAN']\n",
    ")"
   ]
  },
  {
   "cell_type": "code",
   "execution_count": 599,
   "metadata": {},
   "outputs": [
    {
     "name": "stderr",
     "output_type": "stream",
     "text": [
      "Compiling...\n",
      "Compilation time = 0:00:01.366730\n",
      "Sampling...\n"
     ]
    },
    {
     "data": {
      "application/vnd.jupyter.widget-view+json": {
       "model_id": "92c1057a64074d9bbbc9bf77380d65ba",
       "version_major": 2,
       "version_minor": 0
      },
      "text/plain": [
       "  0%|          | 0/2500 [00:00<?, ?it/s]"
      ]
     },
     "metadata": {},
     "output_type": "display_data"
    },
    {
     "data": {
      "application/vnd.jupyter.widget-view+json": {
       "model_id": "a9e1b59b28b84d029cca8c33dcabb29d",
       "version_major": 2,
       "version_minor": 0
      },
      "text/plain": [
       "  0%|          | 0/2500 [00:00<?, ?it/s]"
      ]
     },
     "metadata": {},
     "output_type": "display_data"
    },
    {
     "data": {
      "application/vnd.jupyter.widget-view+json": {
       "model_id": "1b49f179e56e45bd967d138528d33126",
       "version_major": 2,
       "version_minor": 0
      },
      "text/plain": [
       "  0%|          | 0/2500 [00:00<?, ?it/s]"
      ]
     },
     "metadata": {},
     "output_type": "display_data"
    },
    {
     "data": {
      "application/vnd.jupyter.widget-view+json": {
       "model_id": "24f2661e582d4facb6739f44e68a14aa",
       "version_major": 2,
       "version_minor": 0
      },
      "text/plain": [
       "  0%|          | 0/2500 [00:00<?, ?it/s]"
      ]
     },
     "metadata": {},
     "output_type": "display_data"
    },
    {
     "name": "stderr",
     "output_type": "stream",
     "text": [
      "Sampling time = 0:00:02.323214\n",
      "Transforming variables...\n",
      "Transformation time = 0:00:18.372620\n"
     ]
    },
    {
     "name": "stdout",
     "output_type": "stream",
     "text": [
      "Model: king99_pareto_modification\n",
      "        Computed from the raw b_i samples by multiplying by population and then getting\n",
      "        the proportion of the total pop (total pop=summed across all districts):\n",
      "        The posterior mean for the district-level voting preference of\n",
      "        $150,000+ for Dan Cox (Republican Party) is\n",
      "        0.368\n",
      "        The posterior mean for the district-level voting preference of\n",
      "        non-$150,000+ for Dan Cox (Republican Party) is\n",
      "        0.316\n",
      "        95% equal-tailed Bayesian credible interval for district-level voting preference of\n",
      "        $150,000+ for Dan Cox (Republican Party) is\n",
      "        [0.26911933 0.46735969]\n",
      "        95% equal-tailed Bayesian credible interval for district-level voting preference of\n",
      "        non-$150,000+ for Dan Cox (Republican Party) is\n",
      "        [0.26792597 0.37048826]\n",
      "        \n"
     ]
    }
   ],
   "source": [
    "md_rep_150_more_ei_rural, md_rep_150_more_summary_rural = run_ecological_inference(\n",
    "    df=md_economic_merged_ei_rural_df,\n",
    "    demographic_col=\"150K_MORE_PERCENT\",\n",
    "    voting_col=\"REPUBLICAN_PERCENT\",\n",
    "    total_votes_col=\"TOT_VOT\",\n",
    "    demographic_group_name=\"$150,000+\",\n",
    "    candidate_name=md_candidate_mapping['REPUBLICAN']\n",
    ")"
   ]
  },
  {
   "cell_type": "code",
   "execution_count": 600,
   "metadata": {},
   "outputs": [
    {
     "name": "stderr",
     "output_type": "stream",
     "text": [
      "Compiling...\n",
      "Compilation time = 0:00:01.440926\n",
      "Sampling...\n"
     ]
    },
    {
     "data": {
      "application/vnd.jupyter.widget-view+json": {
       "model_id": "eb0d8e887f3f4d5e91c121c24830bfeb",
       "version_major": 2,
       "version_minor": 0
      },
      "text/plain": [
       "  0%|          | 0/2500 [00:00<?, ?it/s]"
      ]
     },
     "metadata": {},
     "output_type": "display_data"
    },
    {
     "data": {
      "application/vnd.jupyter.widget-view+json": {
       "model_id": "ee2aa96e671647cf8abf2e17be4b293e",
       "version_major": 2,
       "version_minor": 0
      },
      "text/plain": [
       "  0%|          | 0/2500 [00:00<?, ?it/s]"
      ]
     },
     "metadata": {},
     "output_type": "display_data"
    },
    {
     "data": {
      "application/vnd.jupyter.widget-view+json": {
       "model_id": "569a4ca9f3af4cc29d43d9746f2add5e",
       "version_major": 2,
       "version_minor": 0
      },
      "text/plain": [
       "  0%|          | 0/2500 [00:00<?, ?it/s]"
      ]
     },
     "metadata": {},
     "output_type": "display_data"
    },
    {
     "data": {
      "application/vnd.jupyter.widget-view+json": {
       "model_id": "f243cbeb51904b15ab7e022c4ac24832",
       "version_major": 2,
       "version_minor": 0
      },
      "text/plain": [
       "  0%|          | 0/2500 [00:00<?, ?it/s]"
      ]
     },
     "metadata": {},
     "output_type": "display_data"
    },
    {
     "name": "stderr",
     "output_type": "stream",
     "text": [
      "Sampling time = 0:00:02.380755\n",
      "Transforming variables...\n",
      "Transformation time = 0:00:35.055547\n"
     ]
    },
    {
     "name": "stdout",
     "output_type": "stream",
     "text": [
      "Model: king99_pareto_modification\n",
      "        Computed from the raw b_i samples by multiplying by population and then getting\n",
      "        the proportion of the total pop (total pop=summed across all districts):\n",
      "        The posterior mean for the district-level voting preference of\n",
      "        $150,000+ for Dan Cox (Republican Party) is\n",
      "        0.297\n",
      "        The posterior mean for the district-level voting preference of\n",
      "        non-$150,000+ for Dan Cox (Republican Party) is\n",
      "        0.391\n",
      "        95% equal-tailed Bayesian credible interval for district-level voting preference of\n",
      "        $150,000+ for Dan Cox (Republican Party) is\n",
      "        [0.21269299 0.37928784]\n",
      "        95% equal-tailed Bayesian credible interval for district-level voting preference of\n",
      "        non-$150,000+ for Dan Cox (Republican Party) is\n",
      "        [0.32518126 0.4595061 ]\n",
      "        \n"
     ]
    }
   ],
   "source": [
    "md_rep_150_more_ei_suburban, md_rep_150_more_summary_suburban = run_ecological_inference(\n",
    "    df=md_economic_merged_ei_suburban_df,\n",
    "    demographic_col=\"150K_MORE_PERCENT\",\n",
    "    voting_col=\"REPUBLICAN_PERCENT\",\n",
    "    total_votes_col=\"TOT_VOT\",\n",
    "    demographic_group_name=\"$150,000+\",\n",
    "    candidate_name=md_candidate_mapping['REPUBLICAN']\n",
    ")"
   ]
  },
  {
   "cell_type": "code",
   "execution_count": 601,
   "metadata": {},
   "outputs": [
    {
     "name": "stderr",
     "output_type": "stream",
     "text": [
      "Compiling...\n",
      "Compilation time = 0:00:01.611829\n",
      "Sampling...\n"
     ]
    },
    {
     "data": {
      "application/vnd.jupyter.widget-view+json": {
       "model_id": "d313c8f2f6f6487187c105ccf64d1297",
       "version_major": 2,
       "version_minor": 0
      },
      "text/plain": [
       "  0%|          | 0/2500 [00:00<?, ?it/s]"
      ]
     },
     "metadata": {},
     "output_type": "display_data"
    },
    {
     "data": {
      "application/vnd.jupyter.widget-view+json": {
       "model_id": "bae5b628df75474391962b1e97030b03",
       "version_major": 2,
       "version_minor": 0
      },
      "text/plain": [
       "  0%|          | 0/2500 [00:00<?, ?it/s]"
      ]
     },
     "metadata": {},
     "output_type": "display_data"
    },
    {
     "data": {
      "application/vnd.jupyter.widget-view+json": {
       "model_id": "eaf4cba0724a4eabbee46fd8669a71b6",
       "version_major": 2,
       "version_minor": 0
      },
      "text/plain": [
       "  0%|          | 0/2500 [00:00<?, ?it/s]"
      ]
     },
     "metadata": {},
     "output_type": "display_data"
    },
    {
     "data": {
      "application/vnd.jupyter.widget-view+json": {
       "model_id": "4783bc4ad22d4a0c86337ce8eb0ef0b6",
       "version_major": 2,
       "version_minor": 0
      },
      "text/plain": [
       "  0%|          | 0/2500 [00:00<?, ?it/s]"
      ]
     },
     "metadata": {},
     "output_type": "display_data"
    },
    {
     "name": "stderr",
     "output_type": "stream",
     "text": [
      "Sampling time = 0:00:02.190400\n",
      "Transforming variables...\n",
      "Transformation time = 0:00:34.654640\n"
     ]
    },
    {
     "name": "stdout",
     "output_type": "stream",
     "text": [
      "Model: king99_pareto_modification\n",
      "        Computed from the raw b_i samples by multiplying by population and then getting\n",
      "        the proportion of the total pop (total pop=summed across all districts):\n",
      "        The posterior mean for the district-level voting preference of\n",
      "        $150,000+ for Dan Cox (Republican Party) is\n",
      "        0.312\n",
      "        The posterior mean for the district-level voting preference of\n",
      "        non-$150,000+ for Dan Cox (Republican Party) is\n",
      "        0.257\n",
      "        95% equal-tailed Bayesian credible interval for district-level voting preference of\n",
      "        $150,000+ for Dan Cox (Republican Party) is\n",
      "        [0.2222689  0.39670746]\n",
      "        95% equal-tailed Bayesian credible interval for district-level voting preference of\n",
      "        non-$150,000+ for Dan Cox (Republican Party) is\n",
      "        [0.2108542  0.30904345]\n",
      "        \n"
     ]
    }
   ],
   "source": [
    "md_rep_150_more_ei_urban, md_rep_150_more_summary_urban = run_ecological_inference(\n",
    "    df=md_economic_merged_ei_urban_df,\n",
    "    demographic_col=\"150K_MORE_PERCENT\",\n",
    "    voting_col=\"REPUBLICAN_PERCENT\",\n",
    "    total_votes_col=\"TOT_VOT\",\n",
    "    demographic_group_name=\"$150,000+\",\n",
    "    candidate_name=md_candidate_mapping['REPUBLICAN']\n",
    ")"
   ]
  },
  {
   "cell_type": "markdown",
   "metadata": {},
   "source": [
    "#### Export Data"
   ]
  },
  {
   "cell_type": "code",
   "execution_count": 603,
   "metadata": {},
   "outputs": [],
   "source": [
    "md_rep_white_ei_output_data = extract_ei_data(md_rep_white_ei)\n",
    "\n",
    "md_rep_white_ei_rural_output_data = extract_ei_data(md_rep_white_ei_rural)\n",
    "md_rep_white_ei_suburban_output_data = extract_ei_data(md_rep_white_ei_suburban)\n",
    "md_rep_white_ei_urban_output_data = extract_ei_data(md_rep_white_ei_urban)\n",
    "\n",
    "md_rep_black_ei_output_data = extract_ei_data(md_rep_black_ei)\n",
    "md_rep_black_ei_output_data_rural = extract_ei_data(md_rep_black_ei_rural)\n",
    "md_rep_black_ei_output_data_suburban = extract_ei_data(md_rep_black_ei_suburban)\n",
    "md_rep_black_ei_output_data_urban = extract_ei_data(md_rep_black_ei_urban)\n",
    "\n",
    "md_rep_asian_ei_output_data = extract_ei_data(md_rep_asian_ei)\n",
    "md_rep_asian_ei_output_data_rural = extract_ei_data(md_rep_asian_ei_rural)\n",
    "md_rep_asian_ei_output_data_suburban = extract_ei_data(md_rep_asian_ei_suburban)\n",
    "md_rep_asian_ei_output_data_urban = extract_ei_data(md_rep_asian_ei_urban)\n",
    "\n",
    "md_rep_hispanic_ei_output_data = extract_ei_data(md_rep_hispanic_ei)\n",
    "md_rep_hispanic_ei_output_data_rural = extract_ei_data(md_rep_hispanic_ei_rural)\n",
    "md_rep_hispanic_ei_output_data_suburban = extract_ei_data(md_rep_hispanic_ei_suburban)\n",
    "md_rep_hispanic_ei_output_data_urban = extract_ei_data(md_rep_hispanic_ei_urban)\n",
    "\n",
    "md_dem_white_ei_output_data = extract_ei_data(md_dem_white_ei)\n",
    "md_dem_white_ei_output_data_rural = extract_ei_data(md_dem_white_ei_rural)\n",
    "md_dem_white_ei_output_data_suburban = extract_ei_data(md_dem_white_ei_subrban)\n",
    "md_dem_white_ei_output_data_urban = extract_ei_data(md_dem_white_ei_urban)\n",
    "\n",
    "md_dem_black_ei_output_data = extract_ei_data(md_dem_black_ei)\n",
    "md_dem_black_ei_output_data_rural = extract_ei_data(md_dem_black_ei_rural)\n",
    "md_dem_black_ei_output_data_suburban = extract_ei_data(md_dem_black_ei_suburban)\n",
    "md_dem_black_ei_output_data_urban = extract_ei_data(md_dem_black_ei_urban)\n",
    "\n",
    "md_dem_asian_ei_output_data = extract_ei_data(md_dem_asian_ei)\n",
    "md_dem_asian_ei_output_data_rural = extract_ei_data(md_dem_asian_ei_rural)\n",
    "md_dem_asian_ei_output_data_suburban = extract_ei_data(md_dem_asian_ei_suburban)\n",
    "md_dem_asian_ei_output_data_urban = extract_ei_data(md_dem_asian_ei_urban)\n",
    "\n",
    "\n",
    "md_dem_hispanic_ei_output_data = extract_ei_data(md_dem_hispanic_ei)\n",
    "md_dem_hispanic_ei_output_data_rural = extract_ei_data(md_dem_hispanic_ei_rural)\n",
    "md_dem_hispanic_ei_output_data_suburban = extract_ei_data(md_dem_hispanic_ei_suburban)\n",
    "md_dem_hispanic_ei_output_data_urban = extract_ei_data(md_dem_hispanic_ei_urban)\n",
    "\n",
    "\n",
    "md_dem_0_35_ei_output_data = extract_ei_data(md_dem_0_35_ei)\n",
    "md_dem_0_35_ei_rural_output_data = extract_ei_data(md_dem_0_35_ei_rural)\n",
    "md_dem_0_35_ei_suburban_output_data = extract_ei_data(md_dem_0_35_ei_suburban)\n",
    "md_dem_0_35_ei_urban_output_data = extract_ei_data(md_dem_0_35_ei_urban)\n",
    "\n",
    "md_dem_35_60_ei_output_data = extract_ei_data(md_dem_35_60_ei)\n",
    "md_dem_35_60_ei_rural_output_data = extract_ei_data(md_dem_35_60_ei_rural)\n",
    "md_dem_35_60_ei_suburban_output_data = extract_ei_data(md_dem_35_60_ei_suburban)\n",
    "md_dem_35_60_ei_urban_output_data = extract_ei_data(md_dem_35_60_ei_urban)\n",
    "\n",
    "\n",
    "md_dem_60_100_ei_output_data = extract_ei_data(md_dem_60_100_ei)\n",
    "\n",
    "md_dem_60_100_ei_rural_output_data = extract_ei_data(md_dem_60_100_ei_rural)\n",
    "\n",
    "md_dem_60_100_ei_suburban_output_data = extract_ei_data(md_dem_60_100_ei_suburban)\n",
    "\n",
    "md_dem_60_100_ei_urban_output_data = extract_ei_data(md_dem_60_100_ei_urban)\n",
    "\n",
    "\n",
    "md_dem_100_125_ei_output_data = extract_ei_data(md_dem_100_125_ei)\n",
    "\n",
    "md_dem_100_125_ei_rural_output_data = extract_ei_data(md_dem_100_125_ei_rural)\n",
    "\n",
    "md_dem_100_125_ei_suburban_output_data = extract_ei_data(md_dem_100_125_ei_suburban)\n",
    "\n",
    "md_dem_100_125_ei_urban_output_data = extract_ei_data(md_dem_100_125_ei_urban)\n",
    "\n",
    "md_dem_125_150_ei_output_data = extract_ei_data(md_dem_125_150_ei)\n",
    "\n",
    "md_dem_125_150_ei_rural_output_data = extract_ei_data(md_dem_125_150_ei_rural)\n",
    "\n",
    "md_dem_125_150_ei_suburban_output_data = extract_ei_data(md_dem_125_150_ei_suburban)\n",
    "\n",
    "md_dem_125_150_ei_urban_output_data = extract_ei_data(md_dem_125_150_ei_urban)\n",
    "\n",
    "md_dem_150_more_ei_output_data = extract_ei_data(md_dem_150_more_ei)\n",
    "\n",
    "md_dem_150_more_ei_rural_output_data = extract_ei_data(md_dem_150_more_ei_rural)\n",
    "\n",
    "md_dem_150_more_ei_suburban_output_data = extract_ei_data(md_dem_150_more_ei_suburban)\n",
    "\n",
    "md_dem_150_more_ei_urban_output_data = extract_ei_data(md_dem_150_more_ei_urban)\n",
    "\n",
    "md_rep_0_35_ei_output_data = extract_ei_data(md_rep_0_35_ei)\n",
    "\n",
    "md_rep_0_35_ei_rural_output_data = extract_ei_data(md_rep_0_35_ei_rural)\n",
    "\n",
    "md_rep_0_35_ei_suburban_output_data = extract_ei_data(md_rep_0_35_ei_suburban)\n",
    "\n",
    "md_rep_0_35_ei_urban_output_data = extract_ei_data(md_rep_0_35_ei_urban)\n",
    "\n",
    "md_rep_35_60_ei_output_data = extract_ei_data(md_rep_35_60_ei)\n",
    "\n",
    "md_rep_35_60_ei_rural_output_data = extract_ei_data(md_rep_35_60_ei_rural)\n",
    "\n",
    "md_rep_35_60_ei_suburban_output_data = extract_ei_data(md_rep_35_60_ei_suburban)\n",
    "\n",
    "md_rep_35_60_ei_urban_output_data = extract_ei_data(md_rep_35_60_ei_urban)\n",
    "\n",
    "md_rep_60_100_ei_output_data = extract_ei_data(md_rep_60_100_ei)\n",
    "\n",
    "md_rep_60_100_ei_rural_output_data = extract_ei_data(md_rep_60_100_ei_rural)\n",
    "\n",
    "md_rep_60_100_ei_suburban_output_data = extract_ei_data(md_rep_60_100_ei_suburban)\n",
    "\n",
    "md_rep_60_100_ei_urban_output_data = extract_ei_data(md_rep_60_100_ei_urban)\n",
    "\n",
    "md_rep_100_125_ei_output_data = extract_ei_data(md_rep_100_125_ei)\n",
    "\n",
    "md_rep_100_125_ei_rural_output_data = extract_ei_data(md_rep_100_125_ei_rural)\n",
    "\n",
    "md_rep_100_125_ei_suburban_output_data = extract_ei_data(md_rep_100_125_ei_suburban)\n",
    "\n",
    "md_rep_100_125_ei_urban_output_data = extract_ei_data(md_rep_100_125_ei_urban)\n",
    "\n",
    "md_rep_125_150_ei_output_data = extract_ei_data(md_rep_125_150_ei)\n",
    "\n",
    "md_rep_125_150_ei_rural_output_data = extract_ei_data(md_rep_125_150_ei_rural)\n",
    "\n",
    "md_rep_125_150_ei_suburban_output_data = extract_ei_data(md_rep_125_150_ei_suburban)\n",
    "\n",
    "md_rep_125_150_ei_urban_output_data = extract_ei_data(md_rep_125_150_ei_urban)\n",
    "\n",
    "md_rep_150_more_ei_output_data = extract_ei_data(md_rep_150_more_ei)\n",
    "\n",
    "md_rep_150_more_ei_rural_output_data = extract_ei_data(md_rep_150_more_ei_rural)\n",
    "\n",
    "md_rep_150_more_ei_suburban_output_data = extract_ei_data(md_rep_150_more_ei_suburban)\n",
    "\n",
    "md_rep_150_more_ei_urban_output_data = extract_ei_data(md_rep_150_more_ei_urban)\n"
   ]
  },
  {
   "cell_type": "code",
   "execution_count": 606,
   "metadata": {},
   "outputs": [],
   "source": [
    "md_output_json_racial = {\n",
    "    \"NAME\": \"Maryland\",\n",
    "    \"data\": {\n",
    "        \"WHITE\": {\n",
    "            \"REPUBLICAN\": {\n",
    "                \"ALL\": md_rep_white_ei_output_data,\n",
    "                \"RURAL\": md_rep_white_ei_rural_output_data,\n",
    "                \"SUBURBAN\": md_rep_white_ei_suburban_output_data,\n",
    "                \"URBAN\": md_rep_white_ei_urban_output_data\n",
    "            },\n",
    "            \"DEMOCRATIC\": {\n",
    "                \"ALL\": md_dem_white_ei_output_data,\n",
    "                \"RURAL\": md_dem_white_ei_output_data_rural,\n",
    "                \"SUBURBAN\": md_dem_white_ei_output_data_suburban,\n",
    "                \"URBAN\": md_dem_white_ei_output_data_urban\n",
    "            }\n",
    "        },\n",
    "        \"BLACK\": {\n",
    "            \"REPUBLICAN\": {\n",
    "                \"ALL\": md_rep_black_ei_output_data,\n",
    "                \"RURAL\": md_rep_black_ei_output_data_rural,\n",
    "                \"SUBURBAN\": md_rep_black_ei_output_data_suburban,\n",
    "                \"URBAN\": md_rep_black_ei_output_data_urban\n",
    "            },\n",
    "            \"DEMOCRATIC\": {\n",
    "                \"ALL\": md_dem_black_ei_output_data,\n",
    "                \"RURAL\": md_dem_black_ei_output_data_rural,\n",
    "                \"SUBURBAN\": md_dem_black_ei_output_data_suburban,\n",
    "                \"URBAN\": md_dem_black_ei_output_data_urban\n",
    "            }\n",
    "        },\n",
    "        \"ASIAN\": {\n",
    "            \"REPUBLICAN\": {\n",
    "                \"ALL\": md_rep_asian_ei_output_data,\n",
    "                \"RURAL\": md_rep_asian_ei_output_data_rural,\n",
    "                \"SUBURBAN\": md_rep_asian_ei_output_data_suburban,\n",
    "                \"URBAN\": md_rep_asian_ei_output_data_urban\n",
    "            },\n",
    "            \"DEMOCRATIC\": {\n",
    "                \"ALL\": md_dem_asian_ei_output_data,\n",
    "                \"RURAL\": md_dem_asian_ei_output_data_rural,\n",
    "                \"SUBURBAN\": md_dem_asian_ei_output_data_suburban,\n",
    "                \"URBAN\": md_dem_asian_ei_output_data_urban\n",
    "            }\n",
    "        },\n",
    "        \"HISPANIC\": {\n",
    "            \"REPUBLICAN\": {\n",
    "                \"ALL\": md_rep_hispanic_ei_output_data,\n",
    "                \"RURAL\": md_rep_hispanic_ei_output_data_rural,\n",
    "                \"SUBURBAN\": md_rep_hispanic_ei_output_data_suburban,\n",
    "                \"URBAN\": md_rep_hispanic_ei_output_data_urban\n",
    "            },\n",
    "            \"DEMOCRATIC\": {\n",
    "                \"ALL\": md_dem_hispanic_ei_output_data,\n",
    "                \"RURAL\": md_dem_hispanic_ei_output_data_rural,\n",
    "                \"SUBURBAN\": md_dem_hispanic_ei_output_data_suburban,\n",
    "                \"URBAN\": md_dem_hispanic_ei_output_data_urban\n",
    "            }\n",
    "        }\n",
    "    }\n",
    "}"
   ]
  },
  {
   "cell_type": "code",
   "execution_count": 608,
   "metadata": {},
   "outputs": [],
   "source": [
    "md_output_json_economic = {\n",
    "    \"NAME\": \"Maryland\",\n",
    "    \"data\": {\n",
    "        \"0_35K\": {\n",
    "            \"REPUBLICAN\": {\n",
    "                \"ALL\": md_rep_0_35_ei_output_data,\n",
    "                \"RURAL\": md_rep_0_35_ei_rural_output_data,\n",
    "                \"SUBURBAN\": md_rep_0_35_ei_suburban_output_data,\n",
    "                \"URBAN\": md_rep_0_35_ei_urban_output_data\n",
    "            },\n",
    "            \"DEMOCRATIC\": {\n",
    "                \"ALL\": md_dem_0_35_ei_output_data,\n",
    "                \"RURAL\": md_dem_0_35_ei_rural_output_data,\n",
    "                \"SUBURBAN\": md_dem_0_35_ei_suburban_output_data,\n",
    "                \"URBAN\": md_dem_0_35_ei_urban_output_data\n",
    "            }\n",
    "        },\n",
    "        \"35K_60K\": {\n",
    "            \"REPUBLICAN\": {\n",
    "                \"ALL\": md_rep_35_60_ei_output_data,\n",
    "                \"RURAL\": md_rep_35_60_ei_rural_output_data,\n",
    "                \"SUBURBAN\": md_rep_35_60_ei_suburban_output_data,\n",
    "                \"URBAN\": md_rep_35_60_ei_urban_output_data\n",
    "            },\n",
    "            \"DEMOCRATIC\": {\n",
    "                \"ALL\": md_dem_35_60_ei_output_data,\n",
    "                \"RURAL\": md_dem_35_60_ei_rural_output_data,\n",
    "                \"SUBURBAN\": md_dem_35_60_ei_suburban_output_data,\n",
    "                \"URBAN\": md_dem_35_60_ei_urban_output_data\n",
    "            }\n",
    "        },\n",
    "        \"60K_100K\": {\n",
    "            \"REPUBLICAN\": {\n",
    "                \"ALL\": md_rep_60_100_ei_output_data,\n",
    "                \"RURAL\": md_rep_60_100_ei_rural_output_data,\n",
    "                \"SUBURBAN\": md_rep_60_100_ei_suburban_output_data,\n",
    "                \"URBAN\": md_rep_60_100_ei_urban_output_data\n",
    "            },\n",
    "            \"DEMOCRATIC\": {\n",
    "                \"ALL\": md_dem_60_100_ei_output_data,\n",
    "                \"RURAL\": md_dem_60_100_ei_rural_output_data,\n",
    "                \"SUBURBAN\": md_dem_60_100_ei_suburban_output_data,\n",
    "                \"URBAN\": md_dem_60_100_ei_urban_output_data\n",
    "            }\n",
    "        },\n",
    "        \"100K_125K\": {\n",
    "            \"REPUBLICAN\": {\n",
    "                \"ALL\": md_rep_100_125_ei_output_data,\n",
    "                \"RURAL\": md_rep_100_125_ei_rural_output_data,\n",
    "                \"SUBURBAN\": md_rep_100_125_ei_suburban_output_data,\n",
    "                \"URBAN\": md_rep_100_125_ei_urban_output_data\n",
    "            },\n",
    "            \"DEMOCRATIC\": {\n",
    "                \"ALL\": md_dem_100_125_ei_output_data,\n",
    "                \"RURAL\": md_dem_100_125_ei_rural_output_data,\n",
    "                \"SUBURBAN\": md_dem_100_125_ei_suburban_output_data,\n",
    "                \"URBAN\": md_dem_100_125_ei_urban_output_data\n",
    "            }\n",
    "        },\n",
    "        \"125K_150K\": {\n",
    "            \"REPUBLICAN\": {\n",
    "                \"ALL\": md_rep_125_150_ei_output_data,\n",
    "                \"RURAL\": md_rep_125_150_ei_rural_output_data,\n",
    "                \"SUBURBAN\": md_rep_125_150_ei_suburban_output_data,\n",
    "                \"URBAN\": md_rep_125_150_ei_urban_output_data\n",
    "            },\n",
    "            \"DEMOCRATIC\": {\n",
    "                \"ALL\": md_dem_125_150_ei_output_data,\n",
    "                \"RURAL\": md_dem_125_150_ei_rural_output_data,\n",
    "                \"SUBURBAN\": md_dem_125_150_ei_suburban_output_data,\n",
    "                \"URBAN\": md_dem_125_150_ei_urban_output_data\n",
    "            }\n",
    "        },\n",
    "        \"150K_MORE\": {\n",
    "            \"REPUBLICAN\": {\n",
    "                \"ALL\": md_rep_150_more_ei_output_data,\n",
    "                \"RURAL\": md_rep_150_more_ei_rural_output_data,\n",
    "                \"SUBURBAN\": md_rep_150_more_ei_suburban_output_data,\n",
    "                \"URBAN\": md_rep_150_more_ei_urban_output_data\n",
    "            },\n",
    "            \"DEMOCRATIC\": {\n",
    "                \"ALL\": md_dem_150_more_ei_output_data,\n",
    "                \"RURAL\": md_dem_150_more_ei_rural_output_data,\n",
    "                \"SUBURBAN\": md_dem_150_more_ei_suburban_output_data,\n",
    "                \"URBAN\": md_dem_150_more_ei_urban_output_data\n",
    "            }\n",
    "        }\n",
    "    }\n",
    "}"
   ]
  },
  {
   "cell_type": "code",
   "execution_count": 607,
   "metadata": {},
   "outputs": [],
   "source": [
    "md_json_output = json.dumps(md_output_json_racial , indent=4, cls=json_serialize)\n",
    "with open(\"states/maryland/ecological_inference/ecological_inference.json\", \"w\") as f:\n",
    "    f.write(md_json_output)"
   ]
  },
  {
   "cell_type": "code",
   "execution_count": 609,
   "metadata": {},
   "outputs": [],
   "source": [
    "md_output_json_economic = json.dumps(md_output_json_economic, indent=4, cls=json_serialize)\n",
    "with open(\"states/maryland/ecological_inference/ecological_inference_economic.json\", \"w\") as f:\n",
    "    f.write(md_output_json_economic)"
   ]
  }
 ],
 "metadata": {
  "kernelspec": {
   "display_name": "cse354",
   "language": "python",
   "name": "python3"
  },
  "language_info": {
   "codemirror_mode": {
    "name": "ipython",
    "version": 3
   },
   "file_extension": ".py",
   "mimetype": "text/x-python",
   "name": "python",
   "nbconvert_exporter": "python",
   "pygments_lexer": "ipython3",
   "version": "3.11.10"
  }
 },
 "nbformat": 4,
 "nbformat_minor": 2
}
