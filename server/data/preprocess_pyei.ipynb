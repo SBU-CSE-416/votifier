{
 "cells": [
  {
   "cell_type": "markdown",
   "metadata": {},
   "source": [
    "Knudson et al., (2021). PyEI: A Python package for ecological inference. Journal of Open Source Software, 6(64), 3397, https://doi.org/10.21105/joss.03397"
   ]
  },
  {
   "cell_type": "code",
   "execution_count": 32,
   "metadata": {},
   "outputs": [],
   "source": [
    "import numpy as np\n",
    "import pandas as pd\n",
    "from pyei import TwoByTwoEI"
   ]
  },
  {
   "cell_type": "code",
   "execution_count": 33,
   "metadata": {},
   "outputs": [],
   "source": [
    "race_columns = {\n",
    "    'WHITE': 'WHT_NHSP22',\n",
    "    'BLACK': 'BLK_NHSP22',\n",
    "    'HISPANIC': 'HSP_POP22',\n",
    "    'ASIAN': 'ASN_NHSP22',\n",
    "}\n",
    "election_columns = {\n",
    "    'REPUBLICAN': 'TOT_REP',\n",
    "    'DEMOCRATIC': 'TOT_DEM',\n",
    "}\n",
    "income_columns = ['0_35K', '35K_60K', '60K_100K', '100K_125K', '125K_150K', '150K_MORE']"
   ]
  },
  {
   "cell_type": "markdown",
   "metadata": {},
   "source": [
    "### Functions"
   ]
  },
  {
   "cell_type": "code",
   "execution_count": 183,
   "metadata": {},
   "outputs": [],
   "source": [
    "def calculate_population_distribution(df, race_columns, columns_to_keep):\n",
    "    # Recalculate total population as the sum of race-specific columns\n",
    "    df['TOTAL_POP_RECALCULATED'] = df[list(race_columns.values())].sum(axis=1)\n",
    "    \n",
    "    # Calculate percentages for each race column\n",
    "    for race, col in race_columns.items():\n",
    "        percentage_col = f\"{race}_PERCENT\"\n",
    "        df[percentage_col] = df[col] / df['TOTAL_POP_RECALCULATED']\n",
    "    \n",
    "    # Add the percentage columns to the columns_to_keep list\n",
    "    columns_to_keep += [f\"{race}_PERCENT\" for race in race_columns.keys()]\n",
    "\n",
    "    return df[columns_to_keep]\n",
    "\n",
    "\n"
   ]
  },
  {
   "cell_type": "code",
   "execution_count": 184,
   "metadata": {},
   "outputs": [],
   "source": [
    "def calculate_voting_distribution(df, election_columns, columns_to_keep):\n",
    "    df['TOTAL_VOTES_RECALCULATED'] = df[list(election_columns.values())].sum(axis=1)\n",
    "    \n",
    "    for party, col in election_columns.items():\n",
    "        percentage_col = f\"{party}_PERCENT\"\n",
    "        df[percentage_col] = (df[col] / df['TOTAL_VOTES_RECALCULATED'])\n",
    "    columns_to_keep += [f\"{party}_PERCENT\" for party in election_columns.keys()]\n",
    "    return df[columns_to_keep]"
   ]
  },
  {
   "cell_type": "code",
   "execution_count": 185,
   "metadata": {},
   "outputs": [],
   "source": [
    "def calculate_income_distribution(df, income_columns, columns_to_keep):\n",
    "    df['TOTAL_INCOME_POPULATION'] = df[income_columns].sum(axis=1)\n",
    "    \n",
    "    for income_range in income_columns:\n",
    "        percentage_col = f\"{income_range}_PERCENT\"\n",
    "        df[percentage_col] = df[income_range] / df['TOTAL_INCOME_POPULATION']\n",
    "    \n",
    "    columns_to_keep += [f\"{income_range}_PERCENT\" for income_range in income_columns]\n",
    "\n",
    "    return df[columns_to_keep]"
   ]
  },
  {
   "cell_type": "code",
   "execution_count": 186,
   "metadata": {},
   "outputs": [],
   "source": [
    "def run_ecological_inference(\n",
    "    df, \n",
    "    demographic_col, \n",
    "    voting_col, \n",
    "    total_votes_col, \n",
    "    demographic_group_name=\"Demographic Group\", \n",
    "    candidate_name=\"Candidate\", \n",
    "    precinct_col=\"UNIQUE_ID\",\n",
    "    model_name=\"king99_pareto_modification\",\n",
    "    pareto_scale=30,\n",
    "    pareto_shape=1.0\n",
    "):\n",
    "    # Extract data\n",
    "    X = np.array(df[demographic_col])  # Demographic percentage\n",
    "    T = np.array(df[voting_col])       # Voting percentage\n",
    "    N = np.array(df[total_votes_col])  # Total votes\n",
    "    precinct_names = df[precinct_col]  # Precinct names\n",
    "\n",
    "    ei = TwoByTwoEI(\n",
    "        model_name=model_name,\n",
    "        pareto_scale=pareto_scale,\n",
    "        pareto_shape=pareto_shape\n",
    "    )\n",
    "\n",
    "    # Fit the model\n",
    "    ei.fit(\n",
    "        X, T, N,\n",
    "        demographic_group_name=demographic_group_name,\n",
    "        candidate_name=candidate_name,\n",
    "        precinct_names=precinct_names,\n",
    "        draws=8000,\n",
    "        tune=4000,\n",
    "        target_accept=0.95\n",
    "    )\n",
    "\n",
    "    # Display a summary\n",
    "    summary = ei.summary()\n",
    "    print(summary)\n",
    "\n",
    "    return ei, summary\n"
   ]
  },
  {
   "cell_type": "markdown",
   "metadata": {},
   "source": [
    "## South Carolina"
   ]
  },
  {
   "cell_type": "markdown",
   "metadata": {},
   "source": [
    "### Import data"
   ]
  },
  {
   "cell_type": "code",
   "execution_count": 209,
   "metadata": {},
   "outputs": [],
   "source": [
    "sc_election_gov_df = pd.read_json('states/south_carolina/election/sc_election_gov_22.json')\n",
    "sc_race_df = pd.read_json('states/south_carolina/demographics/south_carolina_precincts_racial_population.json')\n",
    "sc_economic_df = pd.read_json('states/south_carolina/economic/south_carolina_precincts_household_income.json')\n",
    "sc_region_type_df = pd.read_json('states/south_carolina/geodata/south_carolina_precincts_region_type.json')"
   ]
  },
  {
   "cell_type": "code",
   "execution_count": 210,
   "metadata": {},
   "outputs": [],
   "source": [
    "sc_candidate_mapping = {\n",
    "    'REPUBLICAN': 'Henry McMaster',\n",
    "    'DEMOCRATIC': 'Joe Cunningham'\n",
    "}"
   ]
  },
  {
   "cell_type": "markdown",
   "metadata": {},
   "source": [
    "### Main Script"
   ]
  },
  {
   "cell_type": "markdown",
   "metadata": {},
   "source": [
    "#### Preprocess data"
   ]
  },
  {
   "cell_type": "markdown",
   "metadata": {},
   "source": [
    "##### Racial Group"
   ]
  },
  {
   "cell_type": "code",
   "execution_count": 211,
   "metadata": {},
   "outputs": [
    {
     "name": "stdout",
     "output_type": "stream",
     "text": [
      "['UNIQUE_ID' 'NAME' 'Prec_Code' 'CONG_DIST' 'TOT_POP22' 'NHSP_POP22'\n",
      " 'HSP_POP22' 'WHT_NHSP22' 'BLK_NHSP22' 'ASN_NHSP22' 'OTH_NHSP22']\n"
     ]
    }
   ],
   "source": [
    "print(sc_race_df.columns.values)"
   ]
  },
  {
   "cell_type": "code",
   "execution_count": 212,
   "metadata": {},
   "outputs": [],
   "source": [
    "columns_to_keep = ['UNIQUE_ID', 'TOT_POP22']"
   ]
  },
  {
   "cell_type": "code",
   "execution_count": 213,
   "metadata": {},
   "outputs": [],
   "source": [
    "sc_race_with_percentages = calculate_population_distribution(sc_race_df, race_columns, columns_to_keep)"
   ]
  },
  {
   "cell_type": "code",
   "execution_count": 214,
   "metadata": {},
   "outputs": [],
   "source": [
    "columns_to_keep = ['UNIQUE_ID', 'TOT_VOT']"
   ]
  },
  {
   "cell_type": "code",
   "execution_count": 215,
   "metadata": {},
   "outputs": [],
   "source": [
    "sc_election_gov_with_percentages = calculate_voting_distribution(sc_election_gov_df, election_columns, columns_to_keep)"
   ]
  },
  {
   "cell_type": "code",
   "execution_count": 216,
   "metadata": {},
   "outputs": [],
   "source": [
    "sc_race_merged_ei_df = pd.merge(sc_election_gov_with_percentages, sc_race_with_percentages, on='UNIQUE_ID', how='left')"
   ]
  },
  {
   "cell_type": "code",
   "execution_count": 217,
   "metadata": {},
   "outputs": [],
   "source": [
    "sc_race_merged_ei_df.fillna(0, inplace=True)"
   ]
  },
  {
   "cell_type": "code",
   "execution_count": 218,
   "metadata": {},
   "outputs": [
    {
     "name": "stdout",
     "output_type": "stream",
     "text": [
      "                    UNIQUE_ID  TOT_VOT  REPUBLICAN_PERCENT  \\\n",
      "0     ABBEVILLE_PRECINCT_001_      975            0.736410   \n",
      "1     ABBEVILLE_PRECINCT_002_      628            0.356688   \n",
      "2     ABBEVILLE_PRECINCT_003_      574            0.585366   \n",
      "3     ABBEVILLE_PRECINCT_004_      437            0.723112   \n",
      "4     ABBEVILLE_PRECINCT_005_      722            0.829640   \n",
      "...                       ...      ...                 ...   \n",
      "2256  CLARENDON_PRECINCT_024_      600            0.430000   \n",
      "2257   BARNWELL_PRECINCT_016_        0            0.000000   \n",
      "2258   BERKELEY_PRECINCT_099_        0            0.000000   \n",
      "2259   BERKELEY_PRECINCT_098_        0            0.000000   \n",
      "2260      AIKEN_PRECINCT_000_        0            0.000000   \n",
      "\n",
      "      DEMOCRATIC_PERCENT  TOT_POP22  WHITE_PERCENT  BLACK_PERCENT  \\\n",
      "0               0.263590       1290       0.651800       0.348200   \n",
      "1               0.643312        901       0.088790       0.826859   \n",
      "2               0.414634       1297       0.496820       0.503180   \n",
      "3               0.276888       2300       0.661812       0.338188   \n",
      "4               0.170360       1202       0.936639       0.063361   \n",
      "...                  ...        ...            ...            ...   \n",
      "2256            0.570000       2545       0.335616       0.599517   \n",
      "2257            0.000000         11       1.000000       0.000000   \n",
      "2258            0.000000       3684       0.683882       0.113980   \n",
      "2259            0.000000          0       0.000000       0.000000   \n",
      "2260            0.000000          0       0.000000       0.000000   \n",
      "\n",
      "      HISPANIC_PERCENT  ASIAN_PERCENT  \n",
      "0             0.000000       0.000000  \n",
      "1             0.084351       0.000000  \n",
      "2             0.000000       0.000000  \n",
      "3             0.000000       0.000000  \n",
      "4             0.000000       0.000000  \n",
      "...                ...            ...  \n",
      "2256          0.058018       0.006849  \n",
      "2257          0.000000       0.000000  \n",
      "2258          0.163253       0.038884  \n",
      "2259          0.000000       0.000000  \n",
      "2260          0.000000       0.000000  \n",
      "\n",
      "[2261 rows x 9 columns]\n"
     ]
    }
   ],
   "source": [
    "print(sc_race_merged_ei_df)"
   ]
  },
  {
   "cell_type": "code",
   "execution_count": 219,
   "metadata": {},
   "outputs": [
    {
     "name": "stdout",
     "output_type": "stream",
     "text": [
      "0.0\n"
     ]
    }
   ],
   "source": [
    "# print max value of BLACK_PERCENT\n",
    "print(sc_race_merged_ei_df['BLACK_PERCENT'].min())"
   ]
  },
  {
   "cell_type": "code",
   "execution_count": 220,
   "metadata": {},
   "outputs": [
    {
     "name": "stdout",
     "output_type": "stream",
     "text": [
      "                    UNIQUE_ID  TOT_VOT  REPUBLICAN_PERCENT  \\\n",
      "0     ABBEVILLE_PRECINCT_001_      975            0.736410   \n",
      "1     ABBEVILLE_PRECINCT_002_      628            0.356688   \n",
      "2     ABBEVILLE_PRECINCT_003_      574            0.585366   \n",
      "3     ABBEVILLE_PRECINCT_004_      437            0.723112   \n",
      "4     ABBEVILLE_PRECINCT_005_      722            0.829640   \n",
      "...                       ...      ...                 ...   \n",
      "2256  CLARENDON_PRECINCT_024_      600            0.430000   \n",
      "2257   BARNWELL_PRECINCT_016_        0            0.000000   \n",
      "2258   BERKELEY_PRECINCT_099_        0            0.000000   \n",
      "2259   BERKELEY_PRECINCT_098_        0            0.000000   \n",
      "2260      AIKEN_PRECINCT_000_        0            0.000000   \n",
      "\n",
      "      DEMOCRATIC_PERCENT  TOT_POP22  WHITE_PERCENT  BLACK_PERCENT  \\\n",
      "0               0.263590       1290       0.651800       0.348200   \n",
      "1               0.643312        901       0.088790       0.826859   \n",
      "2               0.414634       1297       0.496820       0.503180   \n",
      "3               0.276888       2300       0.661812       0.338188   \n",
      "4               0.170360       1202       0.936639       0.063361   \n",
      "...                  ...        ...            ...            ...   \n",
      "2256            0.570000       2545       0.335616       0.599517   \n",
      "2257            0.000000         11       1.000000       0.000000   \n",
      "2258            0.000000       3684       0.683882       0.113980   \n",
      "2259            0.000000          0       0.000000       0.000000   \n",
      "2260            0.000000          0       0.000000       0.000000   \n",
      "\n",
      "      HISPANIC_PERCENT  ASIAN_PERCENT  \n",
      "0             0.000000       0.000000  \n",
      "1             0.084351       0.000000  \n",
      "2             0.000000       0.000000  \n",
      "3             0.000000       0.000000  \n",
      "4             0.000000       0.000000  \n",
      "...                ...            ...  \n",
      "2256          0.058018       0.006849  \n",
      "2257          0.000000       0.000000  \n",
      "2258          0.163253       0.038884  \n",
      "2259          0.000000       0.000000  \n",
      "2260          0.000000       0.000000  \n",
      "\n",
      "[2261 rows x 9 columns]\n"
     ]
    }
   ],
   "source": [
    "print(sc_race_merged_ei_df)"
   ]
  },
  {
   "cell_type": "markdown",
   "metadata": {},
   "source": [
    "##### Economic Group"
   ]
  },
  {
   "cell_type": "code",
   "execution_count": 221,
   "metadata": {},
   "outputs": [],
   "source": [
    "columns_to_keep = ['UNIQUE_ID']"
   ]
  },
  {
   "cell_type": "code",
   "execution_count": 222,
   "metadata": {},
   "outputs": [],
   "source": [
    "sc_economic_with_percentages = calculate_income_distribution(sc_economic_df, income_columns, columns_to_keep)"
   ]
  },
  {
   "cell_type": "code",
   "execution_count": 223,
   "metadata": {},
   "outputs": [],
   "source": [
    "sc_economic_merged_ei_df = pd.merge(sc_election_gov_with_percentages, sc_economic_with_percentages, on='UNIQUE_ID', how='left')"
   ]
  },
  {
   "cell_type": "code",
   "execution_count": 224,
   "metadata": {},
   "outputs": [],
   "source": [
    "sc_economic_merged_ei_df.fillna(0, inplace=True)"
   ]
  },
  {
   "cell_type": "code",
   "execution_count": 90,
   "metadata": {},
   "outputs": [
    {
     "name": "stdout",
     "output_type": "stream",
     "text": [
      "                    UNIQUE_ID  TOT_VOT  REPUBLICAN_PERCENT  \\\n",
      "0     ABBEVILLE_PRECINCT_001_      975            0.736410   \n",
      "1     ABBEVILLE_PRECINCT_002_      628            0.356688   \n",
      "2     ABBEVILLE_PRECINCT_003_      574            0.585366   \n",
      "3     ABBEVILLE_PRECINCT_004_      437            0.723112   \n",
      "4     ABBEVILLE_PRECINCT_005_      722            0.829640   \n",
      "...                       ...      ...                 ...   \n",
      "2256  CLARENDON_PRECINCT_024_      600            0.430000   \n",
      "2257   BARNWELL_PRECINCT_016_        0            0.000000   \n",
      "2258   BERKELEY_PRECINCT_099_        0            0.000000   \n",
      "2259   BERKELEY_PRECINCT_098_        0            0.000000   \n",
      "2260      AIKEN_PRECINCT_000_        0            0.000000   \n",
      "\n",
      "      DEMOCRATIC_PERCENT  0_35K_PERCENT  35K_60K_PERCENT  60K_100K_PERCENT  \\\n",
      "0               0.263590       0.208333         0.200000          0.276667   \n",
      "1               0.643312       0.472222         0.418981          0.069444   \n",
      "2               0.414634       0.559792         0.067591          0.213172   \n",
      "3               0.276888       0.350461         0.223979          0.155468   \n",
      "4               0.170360       0.382134         0.029777          0.233251   \n",
      "...                  ...            ...              ...               ...   \n",
      "2256            0.570000       0.324324         0.271351          0.303784   \n",
      "2257            0.000000       1.000000         0.000000          0.000000   \n",
      "2258            0.000000       0.153846         0.325911          0.259109   \n",
      "2259            0.000000       0.000000         0.000000          0.000000   \n",
      "2260            0.000000       0.000000         0.000000          0.000000   \n",
      "\n",
      "      100K_125K_PERCENT  125K_150K_PERCENT  150K_MORE_PERCENT  \n",
      "0              0.088333           0.165000           0.061667  \n",
      "1              0.000000           0.000000           0.039352  \n",
      "2              0.091854           0.000000           0.067591  \n",
      "3              0.046113           0.096179           0.127800  \n",
      "4              0.037221           0.151365           0.166253  \n",
      "...                 ...                ...                ...  \n",
      "2256           0.051892           0.023784           0.024865  \n",
      "2257           0.000000           0.000000           0.000000  \n",
      "2258           0.123482           0.082996           0.054656  \n",
      "2259           0.000000           0.000000           0.000000  \n",
      "2260           0.000000           0.000000           0.000000  \n",
      "\n",
      "[2261 rows x 10 columns]\n"
     ]
    }
   ],
   "source": [
    "print(sc_economic_merged_ei_df)"
   ]
  },
  {
   "cell_type": "markdown",
   "metadata": {},
   "source": [
    "### Running EI models"
   ]
  },
  {
   "cell_type": "markdown",
   "metadata": {},
   "source": [
    "#### Racial Run"
   ]
  },
  {
   "cell_type": "markdown",
   "metadata": {},
   "source": [
    "##### DEMOCRATIC Run"
   ]
  },
  {
   "cell_type": "code",
   "execution_count": 225,
   "metadata": {},
   "outputs": [
    {
     "name": "stderr",
     "output_type": "stream",
     "text": [
      "Compiling...\n",
      "Compilation time = 0:00:01.937690\n",
      "Sampling...\n"
     ]
    },
    {
     "data": {
      "application/vnd.jupyter.widget-view+json": {
       "model_id": "63e2a20b9ac74300bb844cc6c9c5dfe3",
       "version_major": 2,
       "version_minor": 0
      },
      "text/plain": [
       "  0%|          | 0/12000 [00:00<?, ?it/s]"
      ]
     },
     "metadata": {},
     "output_type": "display_data"
    },
    {
     "data": {
      "application/vnd.jupyter.widget-view+json": {
       "model_id": "ded654a458684e08b9c985eb8a11fb5e",
       "version_major": 2,
       "version_minor": 0
      },
      "text/plain": [
       "  0%|          | 0/12000 [00:00<?, ?it/s]"
      ]
     },
     "metadata": {},
     "output_type": "display_data"
    },
    {
     "data": {
      "application/vnd.jupyter.widget-view+json": {
       "model_id": "a66ef1fecfee4f2e88e4156a3551c812",
       "version_major": 2,
       "version_minor": 0
      },
      "text/plain": [
       "  0%|          | 0/12000 [00:00<?, ?it/s]"
      ]
     },
     "metadata": {},
     "output_type": "display_data"
    },
    {
     "data": {
      "application/vnd.jupyter.widget-view+json": {
       "model_id": "b744f4b30a054655bacd15769336d38c",
       "version_major": 2,
       "version_minor": 0
      },
      "text/plain": [
       "  0%|          | 0/12000 [00:00<?, ?it/s]"
      ]
     },
     "metadata": {},
     "output_type": "display_data"
    },
    {
     "name": "stderr",
     "output_type": "stream",
     "text": [
      "Sampling time = 0:00:05.897616\n",
      "Transforming variables...\n",
      "Transformation time = 0:05:15.894358\n"
     ]
    },
    {
     "name": "stdout",
     "output_type": "stream",
     "text": [
      "Model: king99_pareto_modification\n",
      "        Computed from the raw b_i samples by multiplying by population and then getting\n",
      "        the proportion of the total pop (total pop=summed across all districts):\n",
      "        The posterior mean for the district-level voting preference of\n",
      "        White for Joe Cunningham is\n",
      "        0.293\n",
      "        The posterior mean for the district-level voting preference of\n",
      "        non-White for Joe Cunningham is\n",
      "        0.650\n",
      "        95% equal-tailed Bayesian credible interval for district-level voting preference of\n",
      "        White for Joe Cunningham is\n",
      "        [0.28978181 0.29664728]\n",
      "        95% equal-tailed Bayesian credible interval for district-level voting preference of\n",
      "        non-White for Joe Cunningham is\n",
      "        [0.64297994 0.65596905]\n",
      "        \n"
     ]
    }
   ],
   "source": [
    "dem_white_ei, dem_white_summary = run_ecological_inference(\n",
    "    df=sc_race_merged_ei_df,\n",
    "    demographic_col=\"WHITE_PERCENT\",\n",
    "    voting_col=\"DEMOCRATIC_PERCENT\",\n",
    "    total_votes_col=\"TOT_VOT\",\n",
    "    demographic_group_name=\"White\",\n",
    "    candidate_name=sc_candidate_mapping['DEMOCRATIC']\n",
    ")"
   ]
  },
  {
   "cell_type": "code",
   "execution_count": 95,
   "metadata": {},
   "outputs": [
    {
     "name": "stderr",
     "output_type": "stream",
     "text": [
      "Compiling...\n",
      "Compilation time = 0:00:03.081997\n",
      "Sampling...\n"
     ]
    },
    {
     "data": {
      "application/vnd.jupyter.widget-view+json": {
       "model_id": "b14f3fc1355e49dd9d18b7b9fb669eca",
       "version_major": 2,
       "version_minor": 0
      },
      "text/plain": [
       "  0%|          | 0/8000 [00:00<?, ?it/s]"
      ]
     },
     "metadata": {},
     "output_type": "display_data"
    },
    {
     "data": {
      "application/vnd.jupyter.widget-view+json": {
       "model_id": "a13e436254374e098647264881ee1637",
       "version_major": 2,
       "version_minor": 0
      },
      "text/plain": [
       "  0%|          | 0/8000 [00:00<?, ?it/s]"
      ]
     },
     "metadata": {},
     "output_type": "display_data"
    },
    {
     "data": {
      "application/vnd.jupyter.widget-view+json": {
       "model_id": "9f945b62caff471284d3512f4dac4e73",
       "version_major": 2,
       "version_minor": 0
      },
      "text/plain": [
       "  0%|          | 0/8000 [00:00<?, ?it/s]"
      ]
     },
     "metadata": {},
     "output_type": "display_data"
    },
    {
     "data": {
      "application/vnd.jupyter.widget-view+json": {
       "model_id": "12d073530cff44cd9e3433b74709b0df",
       "version_major": 2,
       "version_minor": 0
      },
      "text/plain": [
       "  0%|          | 0/8000 [00:00<?, ?it/s]"
      ]
     },
     "metadata": {},
     "output_type": "display_data"
    },
    {
     "name": "stderr",
     "output_type": "stream",
     "text": [
      "Sampling time = 0:00:04.432855\n",
      "Transforming variables...\n",
      "Transformation time = 0:07:23.283963\n"
     ]
    },
    {
     "name": "stdout",
     "output_type": "stream",
     "text": [
      "Model: king99_pareto_modification\n",
      "        Computed from the raw b_i samples by multiplying by population and then getting\n",
      "        the proportion of the total pop (total pop=summed across all districts):\n",
      "        The posterior mean for the district-level voting preference of\n",
      "        Black for Joe Cunningham is\n",
      "        0.800\n",
      "        The posterior mean for the district-level voting preference of\n",
      "        non-Black for Joe Cunningham is\n",
      "        0.308\n",
      "        95% equal-tailed Bayesian credible interval for district-level voting preference of\n",
      "        Black for Joe Cunningham is\n",
      "        [0.78959029 0.80948246]\n",
      "        95% equal-tailed Bayesian credible interval for district-level voting preference of\n",
      "        non-Black for Joe Cunningham is\n",
      "        [0.30505911 0.31100068]\n",
      "        \n"
     ]
    }
   ],
   "source": [
    "dem_black_ei, dem_black_summary = run_ecological_inference(\n",
    "    df=sc_race_merged_ei_df,\n",
    "    demographic_col=\"BLACK_PERCENT\",\n",
    "    voting_col=\"DEMOCRATIC_PERCENT\",\n",
    "    total_votes_col=\"TOT_VOT\",\n",
    "    demographic_group_name=\"Black\",\n",
    "    candidate_name=sc_candidate_mapping['DEMOCRATIC']\n",
    ")"
   ]
  },
  {
   "cell_type": "code",
   "execution_count": 131,
   "metadata": {},
   "outputs": [
    {
     "name": "stderr",
     "output_type": "stream",
     "text": [
      "Compiling...\n",
      "Compilation time = 0:00:02.089201\n",
      "Sampling...\n"
     ]
    },
    {
     "data": {
      "application/vnd.jupyter.widget-view+json": {
       "model_id": "1ef0602900f94802875a18c98105f0dc",
       "version_major": 2,
       "version_minor": 0
      },
      "text/plain": [
       "  0%|          | 0/2500 [00:00<?, ?it/s]"
      ]
     },
     "metadata": {},
     "output_type": "display_data"
    },
    {
     "data": {
      "application/vnd.jupyter.widget-view+json": {
       "model_id": "fd2e5846a1f8484980c167893fc733af",
       "version_major": 2,
       "version_minor": 0
      },
      "text/plain": [
       "  0%|          | 0/2500 [00:00<?, ?it/s]"
      ]
     },
     "metadata": {},
     "output_type": "display_data"
    },
    {
     "data": {
      "application/vnd.jupyter.widget-view+json": {
       "model_id": "a4a329c647304824b25d9224e64d7161",
       "version_major": 2,
       "version_minor": 0
      },
      "text/plain": [
       "  0%|          | 0/2500 [00:00<?, ?it/s]"
      ]
     },
     "metadata": {},
     "output_type": "display_data"
    },
    {
     "data": {
      "application/vnd.jupyter.widget-view+json": {
       "model_id": "e0fd19305ca741fe9da0db4715240028",
       "version_major": 2,
       "version_minor": 0
      },
      "text/plain": [
       "  0%|          | 0/2500 [00:00<?, ?it/s]"
      ]
     },
     "metadata": {},
     "output_type": "display_data"
    },
    {
     "name": "stderr",
     "output_type": "stream",
     "text": [
      "Sampling time = 0:00:04.251924\n",
      "Transforming variables...\n",
      "Transformation time = 0:04:01.554763\n"
     ]
    },
    {
     "name": "stdout",
     "output_type": "stream",
     "text": [
      "Model: king99\n",
      "        Computed from the raw b_i samples by multiplying by population and then getting\n",
      "        the proportion of the total pop (total pop=summed across all districts):\n",
      "        The posterior mean for the district-level voting preference of\n",
      "        Asian for Joe Cunningham is\n",
      "        0.836\n",
      "        The posterior mean for the district-level voting preference of\n",
      "        non-Asian for Joe Cunningham is\n",
      "        0.405\n",
      "        95% equal-tailed Bayesian credible interval for district-level voting preference of\n",
      "        Asian for Joe Cunningham is\n",
      "        [0.7139257  0.95522012]\n",
      "        95% equal-tailed Bayesian credible interval for district-level voting preference of\n",
      "        non-Asian for Joe Cunningham is\n",
      "        [0.40307708 0.40731148]\n",
      "        \n"
     ]
    }
   ],
   "source": [
    "dem_asian_ei, dem_asian_summary = run_ecological_inference(\n",
    "    df=sc_race_merged_ei_df,\n",
    "    demographic_col=\"ASIAN_PERCENT\",\n",
    "    voting_col=\"DEMOCRATIC_PERCENT\",\n",
    "    total_votes_col=\"TOT_VOT\",\n",
    "    demographic_group_name=\"Asian\",\n",
    "    candidate_name=sc_candidate_mapping['DEMOCRATIC']\n",
    ")"
   ]
  },
  {
   "cell_type": "code",
   "execution_count": 97,
   "metadata": {},
   "outputs": [
    {
     "name": "stderr",
     "output_type": "stream",
     "text": [
      "Compiling...\n",
      "Compilation time = 0:00:04.009427\n",
      "Sampling...\n"
     ]
    },
    {
     "data": {
      "application/vnd.jupyter.widget-view+json": {
       "model_id": "8678feb365014b74a0e9a9e5b486cc17",
       "version_major": 2,
       "version_minor": 0
      },
      "text/plain": [
       "  0%|          | 0/8000 [00:00<?, ?it/s]"
      ]
     },
     "metadata": {},
     "output_type": "display_data"
    },
    {
     "data": {
      "application/vnd.jupyter.widget-view+json": {
       "model_id": "06f2609c0f484d2d80b834da6ce299d6",
       "version_major": 2,
       "version_minor": 0
      },
      "text/plain": [
       "  0%|          | 0/8000 [00:00<?, ?it/s]"
      ]
     },
     "metadata": {},
     "output_type": "display_data"
    },
    {
     "data": {
      "application/vnd.jupyter.widget-view+json": {
       "model_id": "793754a087aa4cbcbb8d562dea02f833",
       "version_major": 2,
       "version_minor": 0
      },
      "text/plain": [
       "  0%|          | 0/8000 [00:00<?, ?it/s]"
      ]
     },
     "metadata": {},
     "output_type": "display_data"
    },
    {
     "data": {
      "application/vnd.jupyter.widget-view+json": {
       "model_id": "0524bc9abc1342c485bc4b00cef55935",
       "version_major": 2,
       "version_minor": 0
      },
      "text/plain": [
       "  0%|          | 0/8000 [00:00<?, ?it/s]"
      ]
     },
     "metadata": {},
     "output_type": "display_data"
    },
    {
     "name": "stderr",
     "output_type": "stream",
     "text": [
      "Sampling time = 0:00:04.696826\n",
      "Transforming variables...\n",
      "Transformation time = 0:04:28.059731\n"
     ]
    },
    {
     "name": "stdout",
     "output_type": "stream",
     "text": [
      "Model: king99_pareto_modification\n",
      "        Computed from the raw b_i samples by multiplying by population and then getting\n",
      "        the proportion of the total pop (total pop=summed across all districts):\n",
      "        The posterior mean for the district-level voting preference of\n",
      "        Hispanic for Joe Cunningham is\n",
      "        0.596\n",
      "        The posterior mean for the district-level voting preference of\n",
      "        non-Hispanic for Joe Cunningham is\n",
      "        0.402\n",
      "        95% equal-tailed Bayesian credible interval for district-level voting preference of\n",
      "        Hispanic for Joe Cunningham is\n",
      "        [0.5550421  0.63822447]\n",
      "        95% equal-tailed Bayesian credible interval for district-level voting preference of\n",
      "        non-Hispanic for Joe Cunningham is\n",
      "        [0.39947856 0.40437012]\n",
      "        \n"
     ]
    }
   ],
   "source": [
    "dem_hispanic_ei, rep_asian_summary = run_ecological_inference(\n",
    "    df=sc_race_merged_ei_df,\n",
    "    demographic_col=\"HISPANIC_PERCENT\",\n",
    "    voting_col=\"DEMOCRATIC_PERCENT\",\n",
    "    total_votes_col=\"TOT_VOT\",\n",
    "    demographic_group_name=\"Hispanic\",\n",
    "    candidate_name=sc_candidate_mapping['DEMOCRATIC']\n",
    ")"
   ]
  },
  {
   "cell_type": "markdown",
   "metadata": {},
   "source": [
    "##### Running Repulican"
   ]
  },
  {
   "cell_type": "code",
   "execution_count": 98,
   "metadata": {},
   "outputs": [
    {
     "name": "stderr",
     "output_type": "stream",
     "text": [
      "Compiling...\n",
      "Compilation time = 0:00:06.690252\n",
      "Sampling...\n"
     ]
    },
    {
     "data": {
      "application/vnd.jupyter.widget-view+json": {
       "model_id": "b550096c305b44fb9832de03ad003b47",
       "version_major": 2,
       "version_minor": 0
      },
      "text/plain": [
       "  0%|          | 0/8000 [00:00<?, ?it/s]"
      ]
     },
     "metadata": {},
     "output_type": "display_data"
    },
    {
     "data": {
      "application/vnd.jupyter.widget-view+json": {
       "model_id": "b5557dc4edf34140b8175719a7dd57c8",
       "version_major": 2,
       "version_minor": 0
      },
      "text/plain": [
       "  0%|          | 0/8000 [00:00<?, ?it/s]"
      ]
     },
     "metadata": {},
     "output_type": "display_data"
    },
    {
     "data": {
      "application/vnd.jupyter.widget-view+json": {
       "model_id": "8265c15f8fb14c2abf033cbd6042c4e9",
       "version_major": 2,
       "version_minor": 0
      },
      "text/plain": [
       "  0%|          | 0/8000 [00:00<?, ?it/s]"
      ]
     },
     "metadata": {},
     "output_type": "display_data"
    },
    {
     "data": {
      "application/vnd.jupyter.widget-view+json": {
       "model_id": "8ff11c4deb4d4407af2615505e3b68e3",
       "version_major": 2,
       "version_minor": 0
      },
      "text/plain": [
       "  0%|          | 0/8000 [00:00<?, ?it/s]"
      ]
     },
     "metadata": {},
     "output_type": "display_data"
    },
    {
     "name": "stderr",
     "output_type": "stream",
     "text": [
      "Sampling time = 0:00:07.337865\n",
      "Transforming variables...\n",
      "Transformation time = 0:05:59.313321\n"
     ]
    },
    {
     "name": "stdout",
     "output_type": "stream",
     "text": [
      "Model: king99_pareto_modification\n",
      "        Computed from the raw b_i samples by multiplying by population and then getting\n",
      "        the proportion of the total pop (total pop=summed across all districts):\n",
      "        The posterior mean for the district-level voting preference of\n",
      "        White for Henry McMaster is\n",
      "        0.708\n",
      "        The posterior mean for the district-level voting preference of\n",
      "        non-White for Henry McMaster is\n",
      "        0.346\n",
      "        95% equal-tailed Bayesian credible interval for district-level voting preference of\n",
      "        White for Henry McMaster is\n",
      "        [0.70299458 0.71219493]\n",
      "        95% equal-tailed Bayesian credible interval for district-level voting preference of\n",
      "        non-White for Henry McMaster is\n",
      "        [0.33693715 0.35445358]\n",
      "        \n"
     ]
    }
   ],
   "source": [
    "rep_white_ei, rep_white_summary = run_ecological_inference(\n",
    "    df=sc_race_merged_ei_df,\n",
    "    demographic_col=\"WHITE_PERCENT\",\n",
    "    voting_col=\"REPUBLICAN_PERCENT\",\n",
    "    total_votes_col=\"TOT_VOT\",\n",
    "    demographic_group_name=\"White\",\n",
    "    candidate_name=sc_candidate_mapping['REPUBLICAN']\n",
    ")"
   ]
  },
  {
   "cell_type": "code",
   "execution_count": 99,
   "metadata": {},
   "outputs": [
    {
     "name": "stderr",
     "output_type": "stream",
     "text": [
      "Compiling...\n",
      "Compilation time = 0:00:03.725277\n",
      "Sampling...\n"
     ]
    },
    {
     "data": {
      "application/vnd.jupyter.widget-view+json": {
       "model_id": "5102dc1a16bd49689b0219bbcf92e1bc",
       "version_major": 2,
       "version_minor": 0
      },
      "text/plain": [
       "  0%|          | 0/8000 [00:00<?, ?it/s]"
      ]
     },
     "metadata": {},
     "output_type": "display_data"
    },
    {
     "data": {
      "application/vnd.jupyter.widget-view+json": {
       "model_id": "c9c381a472244c8d9c92705c974b6c54",
       "version_major": 2,
       "version_minor": 0
      },
      "text/plain": [
       "  0%|          | 0/8000 [00:00<?, ?it/s]"
      ]
     },
     "metadata": {},
     "output_type": "display_data"
    },
    {
     "data": {
      "application/vnd.jupyter.widget-view+json": {
       "model_id": "af2fd2435c084f0f9e95eea29a4778cc",
       "version_major": 2,
       "version_minor": 0
      },
      "text/plain": [
       "  0%|          | 0/8000 [00:00<?, ?it/s]"
      ]
     },
     "metadata": {},
     "output_type": "display_data"
    },
    {
     "data": {
      "application/vnd.jupyter.widget-view+json": {
       "model_id": "6cec59ba412f484e853bc8dbdac19951",
       "version_major": 2,
       "version_minor": 0
      },
      "text/plain": [
       "  0%|          | 0/8000 [00:00<?, ?it/s]"
      ]
     },
     "metadata": {},
     "output_type": "display_data"
    },
    {
     "name": "stderr",
     "output_type": "stream",
     "text": [
      "Sampling time = 0:00:02.888504\n",
      "Transforming variables...\n",
      "Transformation time = 0:08:43.940381\n"
     ]
    },
    {
     "name": "stdout",
     "output_type": "stream",
     "text": [
      "Model: king99_pareto_modification\n",
      "        Computed from the raw b_i samples by multiplying by population and then getting\n",
      "        the proportion of the total pop (total pop=summed across all districts):\n",
      "        The posterior mean for the district-level voting preference of\n",
      "        Black for Henry McMaster is\n",
      "        0.200\n",
      "        The posterior mean for the district-level voting preference of\n",
      "        non-Black for Henry McMaster is\n",
      "        0.692\n",
      "        95% equal-tailed Bayesian credible interval for district-level voting preference of\n",
      "        Black for Henry McMaster is\n",
      "        [0.19054156 0.21028299]\n",
      "        95% equal-tailed Bayesian credible interval for district-level voting preference of\n",
      "        non-Black for Henry McMaster is\n",
      "        [0.68885341 0.694906  ]\n",
      "        \n"
     ]
    }
   ],
   "source": [
    "rep_black_ei, rep_black_summary = run_ecological_inference(\n",
    "    df=sc_race_merged_ei_df,\n",
    "    demographic_col=\"BLACK_PERCENT\",\n",
    "    voting_col=\"REPUBLICAN_PERCENT\",\n",
    "    total_votes_col=\"TOT_VOT\",\n",
    "    demographic_group_name=\"Black\",\n",
    "    candidate_name=sc_candidate_mapping['REPUBLICAN']\n",
    ")"
   ]
  },
  {
   "cell_type": "code",
   "execution_count": 100,
   "metadata": {},
   "outputs": [
    {
     "name": "stderr",
     "output_type": "stream",
     "text": [
      "Compiling...\n",
      "Compilation time = 0:00:03.220240\n",
      "Sampling...\n"
     ]
    },
    {
     "data": {
      "application/vnd.jupyter.widget-view+json": {
       "model_id": "84c663aa6fb143d2bb37ee92bc2b7f4a",
       "version_major": 2,
       "version_minor": 0
      },
      "text/plain": [
       "  0%|          | 0/8000 [00:00<?, ?it/s]"
      ]
     },
     "metadata": {},
     "output_type": "display_data"
    },
    {
     "data": {
      "application/vnd.jupyter.widget-view+json": {
       "model_id": "a7f244bfea2844f5ae8e4e7c2e1fa01e",
       "version_major": 2,
       "version_minor": 0
      },
      "text/plain": [
       "  0%|          | 0/8000 [00:00<?, ?it/s]"
      ]
     },
     "metadata": {},
     "output_type": "display_data"
    },
    {
     "data": {
      "application/vnd.jupyter.widget-view+json": {
       "model_id": "866bf3d480e241e49a4b128d3d3ca087",
       "version_major": 2,
       "version_minor": 0
      },
      "text/plain": [
       "  0%|          | 0/8000 [00:00<?, ?it/s]"
      ]
     },
     "metadata": {},
     "output_type": "display_data"
    },
    {
     "data": {
      "application/vnd.jupyter.widget-view+json": {
       "model_id": "c9253927051b4248844e430ab396fa47",
       "version_major": 2,
       "version_minor": 0
      },
      "text/plain": [
       "  0%|          | 0/8000 [00:00<?, ?it/s]"
      ]
     },
     "metadata": {},
     "output_type": "display_data"
    },
    {
     "name": "stderr",
     "output_type": "stream",
     "text": [
      "Sampling time = 0:00:03.342221\n",
      "Transforming variables...\n",
      "Transformation time = 0:10:03.618678\n"
     ]
    },
    {
     "name": "stdout",
     "output_type": "stream",
     "text": [
      "Model: king99_pareto_modification\n",
      "        Computed from the raw b_i samples by multiplying by population and then getting\n",
      "        the proportion of the total pop (total pop=summed across all districts):\n",
      "        The posterior mean for the district-level voting preference of\n",
      "        Asian for Henry McMaster is\n",
      "        0.154\n",
      "        The posterior mean for the district-level voting preference of\n",
      "        non-Asian for Henry McMaster is\n",
      "        0.595\n",
      "        95% equal-tailed Bayesian credible interval for district-level voting preference of\n",
      "        Asian for Henry McMaster is\n",
      "        [0.07241698 0.26153371]\n",
      "        95% equal-tailed Bayesian credible interval for district-level voting preference of\n",
      "        non-Asian for Henry McMaster is\n",
      "        [0.59298862 0.59645021]\n",
      "        \n"
     ]
    }
   ],
   "source": [
    "rep_asian_ei, rep_asian_summary = run_ecological_inference(\n",
    "    df=sc_race_merged_ei_df,\n",
    "    demographic_col=\"ASIAN_PERCENT\",\n",
    "    voting_col=\"REPUBLICAN_PERCENT\",\n",
    "    total_votes_col=\"TOT_VOT\",\n",
    "    demographic_group_name=\"Asian\",\n",
    "    candidate_name=sc_candidate_mapping['REPUBLICAN']\n",
    ")"
   ]
  },
  {
   "cell_type": "code",
   "execution_count": 101,
   "metadata": {},
   "outputs": [
    {
     "name": "stderr",
     "output_type": "stream",
     "text": [
      "Compiling...\n"
     ]
    },
    {
     "name": "stderr",
     "output_type": "stream",
     "text": [
      "Compilation time = 0:00:02.412759\n",
      "Sampling...\n"
     ]
    },
    {
     "data": {
      "application/vnd.jupyter.widget-view+json": {
       "model_id": "d421ca09b6074241aeb55cd7eb991c3b",
       "version_major": 2,
       "version_minor": 0
      },
      "text/plain": [
       "  0%|          | 0/8000 [00:00<?, ?it/s]"
      ]
     },
     "metadata": {},
     "output_type": "display_data"
    },
    {
     "data": {
      "application/vnd.jupyter.widget-view+json": {
       "model_id": "302b213eb062472dafcc745a3e7391a5",
       "version_major": 2,
       "version_minor": 0
      },
      "text/plain": [
       "  0%|          | 0/8000 [00:00<?, ?it/s]"
      ]
     },
     "metadata": {},
     "output_type": "display_data"
    },
    {
     "data": {
      "application/vnd.jupyter.widget-view+json": {
       "model_id": "024c2c5f8319462eac02638406f006a5",
       "version_major": 2,
       "version_minor": 0
      },
      "text/plain": [
       "  0%|          | 0/8000 [00:00<?, ?it/s]"
      ]
     },
     "metadata": {},
     "output_type": "display_data"
    },
    {
     "data": {
      "application/vnd.jupyter.widget-view+json": {
       "model_id": "f2104667a21547f6b253cb9486ddb5fc",
       "version_major": 2,
       "version_minor": 0
      },
      "text/plain": [
       "  0%|          | 0/8000 [00:00<?, ?it/s]"
      ]
     },
     "metadata": {},
     "output_type": "display_data"
    },
    {
     "name": "stderr",
     "output_type": "stream",
     "text": [
      "Sampling time = 0:00:03.219482\n",
      "Transforming variables...\n",
      "Transformation time = 0:05:36.621691\n"
     ]
    },
    {
     "name": "stdout",
     "output_type": "stream",
     "text": [
      "Model: king99_pareto_modification\n",
      "        Computed from the raw b_i samples by multiplying by population and then getting\n",
      "        the proportion of the total pop (total pop=summed across all districts):\n",
      "        The posterior mean for the district-level voting preference of\n",
      "        Hispanic for Henry McMaster is\n",
      "        0.402\n",
      "        The posterior mean for the district-level voting preference of\n",
      "        non-Hispanic for Henry McMaster is\n",
      "        0.598\n",
      "        95% equal-tailed Bayesian credible interval for district-level voting preference of\n",
      "        Hispanic for Henry McMaster is\n",
      "        [0.35795485 0.44658988]\n",
      "        95% equal-tailed Bayesian credible interval for district-level voting preference of\n",
      "        non-Hispanic for Henry McMaster is\n",
      "        [0.59542968 0.60060079]\n",
      "        \n"
     ]
    }
   ],
   "source": [
    "rep_hispanic_ei, rep_hispanic_summary = run_ecological_inference(\n",
    "    df=sc_race_merged_ei_df,\n",
    "    demographic_col=\"HISPANIC_PERCENT\",\n",
    "    voting_col=\"REPUBLICAN_PERCENT\",\n",
    "    total_votes_col=\"TOT_VOT\",\n",
    "    demographic_group_name=\"Hispanic\",\n",
    "    candidate_name=sc_candidate_mapping['REPUBLICAN']\n",
    ")"
   ]
  },
  {
   "cell_type": "markdown",
   "metadata": {},
   "source": [
    "#### Econ Run"
   ]
  },
  {
   "cell_type": "markdown",
   "metadata": {},
   "source": [
    "##### Dem Run"
   ]
  },
  {
   "cell_type": "code",
   "execution_count": 102,
   "metadata": {},
   "outputs": [
    {
     "name": "stderr",
     "output_type": "stream",
     "text": [
      "Compiling...\n",
      "Compilation time = 0:00:02.843128\n",
      "Sampling...\n"
     ]
    },
    {
     "data": {
      "application/vnd.jupyter.widget-view+json": {
       "model_id": "e350ca3b718847fa87f341a140766420",
       "version_major": 2,
       "version_minor": 0
      },
      "text/plain": [
       "  0%|          | 0/8000 [00:00<?, ?it/s]"
      ]
     },
     "metadata": {},
     "output_type": "display_data"
    },
    {
     "data": {
      "application/vnd.jupyter.widget-view+json": {
       "model_id": "126b6f4fb429467e9a751f60879bffeb",
       "version_major": 2,
       "version_minor": 0
      },
      "text/plain": [
       "  0%|          | 0/8000 [00:00<?, ?it/s]"
      ]
     },
     "metadata": {},
     "output_type": "display_data"
    },
    {
     "data": {
      "application/vnd.jupyter.widget-view+json": {
       "model_id": "38cfe641cd3448a8bcc7cfdecaa00bd3",
       "version_major": 2,
       "version_minor": 0
      },
      "text/plain": [
       "  0%|          | 0/8000 [00:00<?, ?it/s]"
      ]
     },
     "metadata": {},
     "output_type": "display_data"
    },
    {
     "data": {
      "application/vnd.jupyter.widget-view+json": {
       "model_id": "e789e1a5c00d4770b93375b78ac038ac",
       "version_major": 2,
       "version_minor": 0
      },
      "text/plain": [
       "  0%|          | 0/8000 [00:00<?, ?it/s]"
      ]
     },
     "metadata": {},
     "output_type": "display_data"
    },
    {
     "name": "stderr",
     "output_type": "stream",
     "text": [
      "Sampling time = 0:00:03.310918\n",
      "Transforming variables...\n",
      "Transformation time = 0:06:40.460200\n"
     ]
    },
    {
     "name": "stdout",
     "output_type": "stream",
     "text": [
      "Model: king99_pareto_modification\n",
      "        Computed from the raw b_i samples by multiplying by population and then getting\n",
      "        the proportion of the total pop (total pop=summed across all districts):\n",
      "        The posterior mean for the district-level voting preference of\n",
      "        $0-$35,000 for Joe Cunningham is\n",
      "        0.579\n",
      "        The posterior mean for the district-level voting preference of\n",
      "        non-$0-$35,000 for Joe Cunningham is\n",
      "        0.364\n",
      "        95% equal-tailed Bayesian credible interval for district-level voting preference of\n",
      "        $0-$35,000 for Joe Cunningham is\n",
      "        [0.56568255 0.59138583]\n",
      "        95% equal-tailed Bayesian credible interval for district-level voting preference of\n",
      "        non-$0-$35,000 for Joe Cunningham is\n",
      "        [0.36046272 0.36826613]\n",
      "        \n"
     ]
    }
   ],
   "source": [
    "dem_0_35_ei, dem_0_35_summary = run_ecological_inference(\n",
    "    df=sc_economic_merged_ei_df,\n",
    "    demographic_col=\"0_35K_PERCENT\",\n",
    "    voting_col=\"DEMOCRATIC_PERCENT\",\n",
    "    total_votes_col=\"TOT_VOT\",\n",
    "    demographic_group_name=\"$0-$35,000\",\n",
    "    candidate_name=sc_candidate_mapping['DEMOCRATIC']\n",
    ")"
   ]
  },
  {
   "cell_type": "code",
   "execution_count": 103,
   "metadata": {},
   "outputs": [
    {
     "name": "stderr",
     "output_type": "stream",
     "text": [
      "Compiling...\n",
      "Compilation time = 0:00:01.894709\n",
      "Sampling...\n"
     ]
    },
    {
     "data": {
      "application/vnd.jupyter.widget-view+json": {
       "model_id": "8fb66ac0c99b40e2b0b0eb31d9aba74c",
       "version_major": 2,
       "version_minor": 0
      },
      "text/plain": [
       "  0%|          | 0/8000 [00:00<?, ?it/s]"
      ]
     },
     "metadata": {},
     "output_type": "display_data"
    },
    {
     "data": {
      "application/vnd.jupyter.widget-view+json": {
       "model_id": "caf2e45caab14a9d8ced386e05cdba52",
       "version_major": 2,
       "version_minor": 0
      },
      "text/plain": [
       "  0%|          | 0/8000 [00:00<?, ?it/s]"
      ]
     },
     "metadata": {},
     "output_type": "display_data"
    },
    {
     "data": {
      "application/vnd.jupyter.widget-view+json": {
       "model_id": "891dc3aeff7a4418af0bcac212a53c7c",
       "version_major": 2,
       "version_minor": 0
      },
      "text/plain": [
       "  0%|          | 0/8000 [00:00<?, ?it/s]"
      ]
     },
     "metadata": {},
     "output_type": "display_data"
    },
    {
     "data": {
      "application/vnd.jupyter.widget-view+json": {
       "model_id": "29dd2fb71c2d462c9344d3db375d75ae",
       "version_major": 2,
       "version_minor": 0
      },
      "text/plain": [
       "  0%|          | 0/8000 [00:00<?, ?it/s]"
      ]
     },
     "metadata": {},
     "output_type": "display_data"
    },
    {
     "name": "stderr",
     "output_type": "stream",
     "text": [
      "Sampling time = 0:00:04.109127\n",
      "Transforming variables...\n",
      "Transformation time = 0:06:23.283481\n"
     ]
    },
    {
     "name": "stdout",
     "output_type": "stream",
     "text": [
      "Model: king99_pareto_modification\n",
      "        Computed from the raw b_i samples by multiplying by population and then getting\n",
      "        the proportion of the total pop (total pop=summed across all districts):\n",
      "        The posterior mean for the district-level voting preference of\n",
      "        $35,000-$60,000 for Joe Cunningham is\n",
      "        0.535\n",
      "        The posterior mean for the district-level voting preference of\n",
      "        non-$35,000-$60,000 for Joe Cunningham is\n",
      "        0.386\n",
      "        95% equal-tailed Bayesian credible interval for district-level voting preference of\n",
      "        $35,000-$60,000 for Joe Cunningham is\n",
      "        [0.51645295 0.55325479]\n",
      "        95% equal-tailed Bayesian credible interval for district-level voting preference of\n",
      "        non-$35,000-$60,000 for Joe Cunningham is\n",
      "        [0.38213227 0.39035371]\n",
      "        \n"
     ]
    }
   ],
   "source": [
    "dem_35_60_ei, dem_35_60_summary = run_ecological_inference(\n",
    "    df=sc_economic_merged_ei_df,\n",
    "    demographic_col=\"35K_60K_PERCENT\",\n",
    "    voting_col=\"DEMOCRATIC_PERCENT\",\n",
    "    total_votes_col=\"TOT_VOT\",\n",
    "    demographic_group_name=\"$35,000-$60,000\",\n",
    "    candidate_name=sc_candidate_mapping['DEMOCRATIC']\n",
    ")"
   ]
  },
  {
   "cell_type": "code",
   "execution_count": 104,
   "metadata": {},
   "outputs": [
    {
     "name": "stderr",
     "output_type": "stream",
     "text": [
      "Compiling...\n",
      "Compilation time = 0:00:01.914831\n",
      "Sampling...\n"
     ]
    },
    {
     "data": {
      "application/vnd.jupyter.widget-view+json": {
       "model_id": "f705baaeab494c4d82eea045126fb850",
       "version_major": 2,
       "version_minor": 0
      },
      "text/plain": [
       "  0%|          | 0/8000 [00:00<?, ?it/s]"
      ]
     },
     "metadata": {},
     "output_type": "display_data"
    },
    {
     "data": {
      "application/vnd.jupyter.widget-view+json": {
       "model_id": "0465b1a34b9041f2a6bedb4caae78927",
       "version_major": 2,
       "version_minor": 0
      },
      "text/plain": [
       "  0%|          | 0/8000 [00:00<?, ?it/s]"
      ]
     },
     "metadata": {},
     "output_type": "display_data"
    },
    {
     "data": {
      "application/vnd.jupyter.widget-view+json": {
       "model_id": "c60e9f89da854b2caa090b6ca63f466a",
       "version_major": 2,
       "version_minor": 0
      },
      "text/plain": [
       "  0%|          | 0/8000 [00:00<?, ?it/s]"
      ]
     },
     "metadata": {},
     "output_type": "display_data"
    },
    {
     "data": {
      "application/vnd.jupyter.widget-view+json": {
       "model_id": "71205f086f404b9e8a2a07d740ca3132",
       "version_major": 2,
       "version_minor": 0
      },
      "text/plain": [
       "  0%|          | 0/8000 [00:00<?, ?it/s]"
      ]
     },
     "metadata": {},
     "output_type": "display_data"
    },
    {
     "name": "stderr",
     "output_type": "stream",
     "text": [
      "Sampling time = 0:00:04.325344\n",
      "Transforming variables...\n",
      "Transformation time = 0:06:10.106624\n"
     ]
    },
    {
     "name": "stdout",
     "output_type": "stream",
     "text": [
      "Model: king99_pareto_modification\n",
      "        Computed from the raw b_i samples by multiplying by population and then getting\n",
      "        the proportion of the total pop (total pop=summed across all districts):\n",
      "        The posterior mean for the district-level voting preference of\n",
      "        $35,000-$60,000 for Joe Cunningham is\n",
      "        0.439\n",
      "        The posterior mean for the district-level voting preference of\n",
      "        non-$35,000-$60,000 for Joe Cunningham is\n",
      "        0.404\n",
      "        95% equal-tailed Bayesian credible interval for district-level voting preference of\n",
      "        $35,000-$60,000 for Joe Cunningham is\n",
      "        [0.4219112  0.45725576]\n",
      "        95% equal-tailed Bayesian credible interval for district-level voting preference of\n",
      "        non-$35,000-$60,000 for Joe Cunningham is\n",
      "        [0.39922377 0.40900764]\n",
      "        \n"
     ]
    }
   ],
   "source": [
    "dem_60_100_ei, dem_60_100_summary = run_ecological_inference(\n",
    "    df=sc_economic_merged_ei_df,\n",
    "    demographic_col=\"60K_100K_PERCENT\",\n",
    "    voting_col=\"DEMOCRATIC_PERCENT\",\n",
    "    total_votes_col=\"TOT_VOT\",\n",
    "    demographic_group_name=\"$35,000-$60,000\",\n",
    "    candidate_name=sc_candidate_mapping['DEMOCRATIC']\n",
    ")"
   ]
  },
  {
   "cell_type": "code",
   "execution_count": 105,
   "metadata": {},
   "outputs": [
    {
     "name": "stderr",
     "output_type": "stream",
     "text": [
      "Compiling...\n",
      "Compilation time = 0:00:01.710333\n",
      "Sampling...\n"
     ]
    },
    {
     "data": {
      "application/vnd.jupyter.widget-view+json": {
       "model_id": "fc60319d9e0046d798badb0e1dcfde71",
       "version_major": 2,
       "version_minor": 0
      },
      "text/plain": [
       "  0%|          | 0/8000 [00:00<?, ?it/s]"
      ]
     },
     "metadata": {},
     "output_type": "display_data"
    },
    {
     "data": {
      "application/vnd.jupyter.widget-view+json": {
       "model_id": "0020ede1d56b4b7697b97bd6b239e5ea",
       "version_major": 2,
       "version_minor": 0
      },
      "text/plain": [
       "  0%|          | 0/8000 [00:00<?, ?it/s]"
      ]
     },
     "metadata": {},
     "output_type": "display_data"
    },
    {
     "data": {
      "application/vnd.jupyter.widget-view+json": {
       "model_id": "dea7b263c07842c281c8517bb8e949bd",
       "version_major": 2,
       "version_minor": 0
      },
      "text/plain": [
       "  0%|          | 0/8000 [00:00<?, ?it/s]"
      ]
     },
     "metadata": {},
     "output_type": "display_data"
    },
    {
     "data": {
      "application/vnd.jupyter.widget-view+json": {
       "model_id": "bc5a6d5d179746cfa234c240c8a21310",
       "version_major": 2,
       "version_minor": 0
      },
      "text/plain": [
       "  0%|          | 0/8000 [00:00<?, ?it/s]"
      ]
     },
     "metadata": {},
     "output_type": "display_data"
    },
    {
     "name": "stderr",
     "output_type": "stream",
     "text": [
      "Sampling time = 0:00:03.468791\n",
      "Transforming variables...\n",
      "Transformation time = 0:16:28.147497\n"
     ]
    },
    {
     "name": "stdout",
     "output_type": "stream",
     "text": [
      "Model: king99_pareto_modification\n",
      "        Computed from the raw b_i samples by multiplying by population and then getting\n",
      "        the proportion of the total pop (total pop=summed across all districts):\n",
      "        The posterior mean for the district-level voting preference of\n",
      "        $100,000-$125,000 for Joe Cunningham is\n",
      "        0.318\n",
      "        The posterior mean for the district-level voting preference of\n",
      "        non-$100,000-$125,000 for Joe Cunningham is\n",
      "        0.420\n",
      "        95% equal-tailed Bayesian credible interval for district-level voting preference of\n",
      "        $100,000-$125,000 for Joe Cunningham is\n",
      "        [0.27782046 0.35715537]\n",
      "        95% equal-tailed Bayesian credible interval for district-level voting preference of\n",
      "        non-$100,000-$125,000 for Joe Cunningham is\n",
      "        [0.41598483 0.42400446]\n",
      "        \n"
     ]
    }
   ],
   "source": [
    "dem_100_125_ei, dem_100_125_summary = run_ecological_inference(\n",
    "    df=sc_economic_merged_ei_df,\n",
    "    demographic_col=\"100K_125K_PERCENT\",\n",
    "    voting_col=\"DEMOCRATIC_PERCENT\",\n",
    "    total_votes_col=\"TOT_VOT\",\n",
    "    demographic_group_name=\"$100,000-$125,000\",\n",
    "    candidate_name=sc_candidate_mapping['DEMOCRATIC']\n",
    ")"
   ]
  },
  {
   "cell_type": "code",
   "execution_count": 106,
   "metadata": {},
   "outputs": [
    {
     "name": "stderr",
     "output_type": "stream",
     "text": [
      "Compiling...\n",
      "Compilation time = 0:00:03.249298\n",
      "Sampling...\n"
     ]
    },
    {
     "data": {
      "application/vnd.jupyter.widget-view+json": {
       "model_id": "38d652ed01b544dfa35eb51ebff3ff21",
       "version_major": 2,
       "version_minor": 0
      },
      "text/plain": [
       "  0%|          | 0/8000 [00:00<?, ?it/s]"
      ]
     },
     "metadata": {},
     "output_type": "display_data"
    },
    {
     "data": {
      "application/vnd.jupyter.widget-view+json": {
       "model_id": "fee1b2f80697441799454334b5573394",
       "version_major": 2,
       "version_minor": 0
      },
      "text/plain": [
       "  0%|          | 0/8000 [00:00<?, ?it/s]"
      ]
     },
     "metadata": {},
     "output_type": "display_data"
    },
    {
     "data": {
      "application/vnd.jupyter.widget-view+json": {
       "model_id": "55d9f54f5aee4b1b872fab1aa03127a1",
       "version_major": 2,
       "version_minor": 0
      },
      "text/plain": [
       "  0%|          | 0/8000 [00:00<?, ?it/s]"
      ]
     },
     "metadata": {},
     "output_type": "display_data"
    },
    {
     "data": {
      "application/vnd.jupyter.widget-view+json": {
       "model_id": "b6f0a6b1133f469f85d550bfd0cf28dc",
       "version_major": 2,
       "version_minor": 0
      },
      "text/plain": [
       "  0%|          | 0/8000 [00:00<?, ?it/s]"
      ]
     },
     "metadata": {},
     "output_type": "display_data"
    },
    {
     "name": "stderr",
     "output_type": "stream",
     "text": [
      "Sampling time = 0:00:03.295317\n",
      "Transforming variables...\n",
      "Transformation time = 0:03:24.871926\n"
     ]
    },
    {
     "name": "stdout",
     "output_type": "stream",
     "text": [
      "Model: king99_pareto_modification\n",
      "        Computed from the raw b_i samples by multiplying by population and then getting\n",
      "        the proportion of the total pop (total pop=summed across all districts):\n",
      "        The posterior mean for the district-level voting preference of\n",
      "        $125,000-$150,000 for Joe Cunningham is\n",
      "        0.178\n",
      "        The posterior mean for the district-level voting preference of\n",
      "        non-$125,000-$150,000 for Joe Cunningham is\n",
      "        0.427\n",
      "        95% equal-tailed Bayesian credible interval for district-level voting preference of\n",
      "        $125,000-$150,000 for Joe Cunningham is\n",
      "        [0.13464954 0.22792286]\n",
      "        95% equal-tailed Bayesian credible interval for district-level voting preference of\n",
      "        non-$125,000-$150,000 for Joe Cunningham is\n",
      "        [0.42299817 0.42958765]\n",
      "        \n"
     ]
    }
   ],
   "source": [
    "dem_125_150_ei, dem_125_150_summary = run_ecological_inference(\n",
    "    df=sc_economic_merged_ei_df,\n",
    "    demographic_col=\"125K_150K_PERCENT\",\n",
    "    voting_col=\"DEMOCRATIC_PERCENT\",\n",
    "    total_votes_col=\"TOT_VOT\",\n",
    "    demographic_group_name=\"$125,000-$150,000\",\n",
    "    candidate_name=sc_candidate_mapping['DEMOCRATIC']\n",
    ")"
   ]
  },
  {
   "cell_type": "code",
   "execution_count": 107,
   "metadata": {},
   "outputs": [
    {
     "name": "stderr",
     "output_type": "stream",
     "text": [
      "Compiling...\n",
      "Compilation time = 0:00:02.595682\n",
      "Sampling...\n"
     ]
    },
    {
     "data": {
      "application/vnd.jupyter.widget-view+json": {
       "model_id": "1d126005d64e4627b0b9953ff170b0aa",
       "version_major": 2,
       "version_minor": 0
      },
      "text/plain": [
       "  0%|          | 0/8000 [00:00<?, ?it/s]"
      ]
     },
     "metadata": {},
     "output_type": "display_data"
    },
    {
     "data": {
      "application/vnd.jupyter.widget-view+json": {
       "model_id": "3b0976cdefb644b698077116693f2a56",
       "version_major": 2,
       "version_minor": 0
      },
      "text/plain": [
       "  0%|          | 0/8000 [00:00<?, ?it/s]"
      ]
     },
     "metadata": {},
     "output_type": "display_data"
    },
    {
     "data": {
      "application/vnd.jupyter.widget-view+json": {
       "model_id": "992aba08fa024da8b0f8c5b6826ea93e",
       "version_major": 2,
       "version_minor": 0
      },
      "text/plain": [
       "  0%|          | 0/8000 [00:00<?, ?it/s]"
      ]
     },
     "metadata": {},
     "output_type": "display_data"
    },
    {
     "data": {
      "application/vnd.jupyter.widget-view+json": {
       "model_id": "13fc4b2e9af4495186592beeefe5e131",
       "version_major": 2,
       "version_minor": 0
      },
      "text/plain": [
       "  0%|          | 0/8000 [00:00<?, ?it/s]"
      ]
     },
     "metadata": {},
     "output_type": "display_data"
    },
    {
     "name": "stderr",
     "output_type": "stream",
     "text": [
      "Sampling time = 0:00:02.770345\n",
      "Transforming variables...\n",
      "Transformation time = 0:21:38.321431\n"
     ]
    },
    {
     "name": "stdout",
     "output_type": "stream",
     "text": [
      "Model: king99_pareto_modification\n",
      "        Computed from the raw b_i samples by multiplying by population and then getting\n",
      "        the proportion of the total pop (total pop=summed across all districts):\n",
      "        The posterior mean for the district-level voting preference of\n",
      "        $150,000+ for Joe Cunningham is\n",
      "        0.333\n",
      "        The posterior mean for the district-level voting preference of\n",
      "        non-$150,000+ for Joe Cunningham is\n",
      "        0.426\n",
      "        95% equal-tailed Bayesian credible interval for district-level voting preference of\n",
      "        $150,000+ for Joe Cunningham is\n",
      "        [0.31148362 0.35544478]\n",
      "        95% equal-tailed Bayesian credible interval for district-level voting preference of\n",
      "        non-$150,000+ for Joe Cunningham is\n",
      "        [0.42103775 0.43003333]\n",
      "        \n"
     ]
    }
   ],
   "source": [
    "dem_150_more_ei, dem_150_more_summary = run_ecological_inference(\n",
    "    df=sc_economic_merged_ei_df,\n",
    "    demographic_col=\"150K_MORE_PERCENT\",\n",
    "    voting_col=\"DEMOCRATIC_PERCENT\",\n",
    "    total_votes_col=\"TOT_VOT\",\n",
    "    demographic_group_name=\"$150,000+\",\n",
    "    candidate_name=sc_candidate_mapping['DEMOCRATIC']\n",
    ")"
   ]
  },
  {
   "cell_type": "markdown",
   "metadata": {},
   "source": [
    "##### Rep Run"
   ]
  },
  {
   "cell_type": "code",
   "execution_count": 108,
   "metadata": {},
   "outputs": [
    {
     "name": "stderr",
     "output_type": "stream",
     "text": [
      "Compiling...\n",
      "Compilation time = 0:00:01.987195\n",
      "Sampling...\n"
     ]
    },
    {
     "data": {
      "application/vnd.jupyter.widget-view+json": {
       "model_id": "33134d64f3654912befaf7fc91aec590",
       "version_major": 2,
       "version_minor": 0
      },
      "text/plain": [
       "  0%|          | 0/8000 [00:00<?, ?it/s]"
      ]
     },
     "metadata": {},
     "output_type": "display_data"
    },
    {
     "data": {
      "application/vnd.jupyter.widget-view+json": {
       "model_id": "41db1a6ca5ac490a9988c5feea00ac7d",
       "version_major": 2,
       "version_minor": 0
      },
      "text/plain": [
       "  0%|          | 0/8000 [00:00<?, ?it/s]"
      ]
     },
     "metadata": {},
     "output_type": "display_data"
    },
    {
     "data": {
      "application/vnd.jupyter.widget-view+json": {
       "model_id": "c14b4a788b8a4033a1776a1a211b8599",
       "version_major": 2,
       "version_minor": 0
      },
      "text/plain": [
       "  0%|          | 0/8000 [00:00<?, ?it/s]"
      ]
     },
     "metadata": {},
     "output_type": "display_data"
    },
    {
     "data": {
      "application/vnd.jupyter.widget-view+json": {
       "model_id": "2d1b3da5ac244570bf2ba7eec3a1b46a",
       "version_major": 2,
       "version_minor": 0
      },
      "text/plain": [
       "  0%|          | 0/8000 [00:00<?, ?it/s]"
      ]
     },
     "metadata": {},
     "output_type": "display_data"
    },
    {
     "name": "stderr",
     "output_type": "stream",
     "text": [
      "Sampling time = 0:00:05.078418\n",
      "Transforming variables...\n",
      "Transformation time = 0:06:37.801745\n"
     ]
    },
    {
     "name": "stdout",
     "output_type": "stream",
     "text": [
      "Model: king99_pareto_modification\n",
      "        Computed from the raw b_i samples by multiplying by population and then getting\n",
      "        the proportion of the total pop (total pop=summed across all districts):\n",
      "        The posterior mean for the district-level voting preference of\n",
      "        $0-$35,000 for Henry McMaster is\n",
      "        0.421\n",
      "        The posterior mean for the district-level voting preference of\n",
      "        non-$0-$35,000 for Henry McMaster is\n",
      "        0.636\n",
      "        95% equal-tailed Bayesian credible interval for district-level voting preference of\n",
      "        $0-$35,000 for Henry McMaster is\n",
      "        [0.40811213 0.43432501]\n",
      "        95% equal-tailed Bayesian credible interval for district-level voting preference of\n",
      "        non-$0-$35,000 for Henry McMaster is\n",
      "        [0.6316824 0.6395299]\n",
      "        \n"
     ]
    }
   ],
   "source": [
    "rep_0_35_ei, rep_0_35_summary = run_ecological_inference(\n",
    "    df=sc_economic_merged_ei_df,\n",
    "    demographic_col=\"0_35K_PERCENT\",\n",
    "    voting_col=\"REPUBLICAN_PERCENT\",\n",
    "    total_votes_col=\"TOT_VOT\",\n",
    "    demographic_group_name=\"$0-$35,000\",\n",
    "    candidate_name=sc_candidate_mapping['REPUBLICAN']\n",
    ")"
   ]
  },
  {
   "cell_type": "code",
   "execution_count": 109,
   "metadata": {},
   "outputs": [
    {
     "name": "stderr",
     "output_type": "stream",
     "text": [
      "Compiling...\n",
      "Compilation time = 0:00:01.888087\n",
      "Sampling...\n"
     ]
    },
    {
     "data": {
      "application/vnd.jupyter.widget-view+json": {
       "model_id": "f154e94f59e24d138f403609d798decc",
       "version_major": 2,
       "version_minor": 0
      },
      "text/plain": [
       "  0%|          | 0/8000 [00:00<?, ?it/s]"
      ]
     },
     "metadata": {},
     "output_type": "display_data"
    },
    {
     "data": {
      "application/vnd.jupyter.widget-view+json": {
       "model_id": "d6ac1314679e4864baffa2d57d237326",
       "version_major": 2,
       "version_minor": 0
      },
      "text/plain": [
       "  0%|          | 0/8000 [00:00<?, ?it/s]"
      ]
     },
     "metadata": {},
     "output_type": "display_data"
    },
    {
     "data": {
      "application/vnd.jupyter.widget-view+json": {
       "model_id": "b71011c7b17f4b61b3cb879106f86ae0",
       "version_major": 2,
       "version_minor": 0
      },
      "text/plain": [
       "  0%|          | 0/8000 [00:00<?, ?it/s]"
      ]
     },
     "metadata": {},
     "output_type": "display_data"
    },
    {
     "data": {
      "application/vnd.jupyter.widget-view+json": {
       "model_id": "9101689e4b9e4a75bc4585906063ee19",
       "version_major": 2,
       "version_minor": 0
      },
      "text/plain": [
       "  0%|          | 0/8000 [00:00<?, ?it/s]"
      ]
     },
     "metadata": {},
     "output_type": "display_data"
    },
    {
     "name": "stderr",
     "output_type": "stream",
     "text": [
      "Sampling time = 0:00:04.404466\n",
      "Transforming variables...\n",
      "Transformation time = 0:06:06.961842\n"
     ]
    },
    {
     "name": "stdout",
     "output_type": "stream",
     "text": [
      "Model: king99_pareto_modification\n",
      "        Computed from the raw b_i samples by multiplying by population and then getting\n",
      "        the proportion of the total pop (total pop=summed across all districts):\n",
      "        The posterior mean for the district-level voting preference of\n",
      "        $35,000-$60,000 for Henry McMaster is\n",
      "        0.465\n",
      "        The posterior mean for the district-level voting preference of\n",
      "        non-$35,000-$60,000 for Henry McMaster is\n",
      "        0.614\n",
      "        95% equal-tailed Bayesian credible interval for district-level voting preference of\n",
      "        $35,000-$60,000 for Henry McMaster is\n",
      "        [0.44580868 0.48313666]\n",
      "        95% equal-tailed Bayesian credible interval for district-level voting preference of\n",
      "        non-$35,000-$60,000 for Henry McMaster is\n",
      "        [0.60962786 0.61789641]\n",
      "        \n"
     ]
    }
   ],
   "source": [
    "rep_35_60_ei, rep_35_60_summary = run_ecological_inference(\n",
    "    df=sc_economic_merged_ei_df,\n",
    "    demographic_col=\"35K_60K_PERCENT\",\n",
    "    voting_col=\"REPUBLICAN_PERCENT\",\n",
    "    total_votes_col=\"TOT_VOT\",\n",
    "    demographic_group_name=\"$35,000-$60,000\",\n",
    "    candidate_name=sc_candidate_mapping['REPUBLICAN']\n",
    ")"
   ]
  },
  {
   "cell_type": "code",
   "execution_count": 110,
   "metadata": {},
   "outputs": [
    {
     "name": "stderr",
     "output_type": "stream",
     "text": [
      "Compiling...\n",
      "Compilation time = 0:00:01.554345\n",
      "Sampling...\n"
     ]
    },
    {
     "data": {
      "application/vnd.jupyter.widget-view+json": {
       "model_id": "8d8f8f0db261469785ad920b4c833902",
       "version_major": 2,
       "version_minor": 0
      },
      "text/plain": [
       "  0%|          | 0/8000 [00:00<?, ?it/s]"
      ]
     },
     "metadata": {},
     "output_type": "display_data"
    },
    {
     "data": {
      "application/vnd.jupyter.widget-view+json": {
       "model_id": "16eba89b54f54467a06a86ca5227120a",
       "version_major": 2,
       "version_minor": 0
      },
      "text/plain": [
       "  0%|          | 0/8000 [00:00<?, ?it/s]"
      ]
     },
     "metadata": {},
     "output_type": "display_data"
    },
    {
     "data": {
      "application/vnd.jupyter.widget-view+json": {
       "model_id": "998b325084114316aceaf1894898a0e9",
       "version_major": 2,
       "version_minor": 0
      },
      "text/plain": [
       "  0%|          | 0/8000 [00:00<?, ?it/s]"
      ]
     },
     "metadata": {},
     "output_type": "display_data"
    },
    {
     "data": {
      "application/vnd.jupyter.widget-view+json": {
       "model_id": "eea7ccbed1144fcc9b395fe3f04b9431",
       "version_major": 2,
       "version_minor": 0
      },
      "text/plain": [
       "  0%|          | 0/8000 [00:00<?, ?it/s]"
      ]
     },
     "metadata": {},
     "output_type": "display_data"
    },
    {
     "name": "stderr",
     "output_type": "stream",
     "text": [
      "Sampling time = 0:00:02.798209\n",
      "Transforming variables...\n",
      "Transformation time = 0:07:25.927757\n"
     ]
    },
    {
     "name": "stdout",
     "output_type": "stream",
     "text": [
      "Model: king99_pareto_modification\n",
      "        Computed from the raw b_i samples by multiplying by population and then getting\n",
      "        the proportion of the total pop (total pop=summed across all districts):\n",
      "        The posterior mean for the district-level voting preference of\n",
      "        $35,000-$60,000 for Henry McMaster is\n",
      "        0.561\n",
      "        The posterior mean for the district-level voting preference of\n",
      "        non-$35,000-$60,000 for Henry McMaster is\n",
      "        0.596\n",
      "        95% equal-tailed Bayesian credible interval for district-level voting preference of\n",
      "        $35,000-$60,000 for Henry McMaster is\n",
      "        [0.54286142 0.5787003 ]\n",
      "        95% equal-tailed Bayesian credible interval for district-level voting preference of\n",
      "        non-$35,000-$60,000 for Henry McMaster is\n",
      "        [0.5907824  0.60068228]\n",
      "        \n"
     ]
    }
   ],
   "source": [
    "rep_60_100_ei, rep_60_100_summary = run_ecological_inference(\n",
    "    df=sc_economic_merged_ei_df,\n",
    "    demographic_col=\"60K_100K_PERCENT\",\n",
    "    voting_col=\"REPUBLICAN_PERCENT\",\n",
    "    total_votes_col=\"TOT_VOT\",\n",
    "    demographic_group_name=\"$35,000-$60,000\",\n",
    "    candidate_name=sc_candidate_mapping['REPUBLICAN']\n",
    ")"
   ]
  },
  {
   "cell_type": "code",
   "execution_count": 111,
   "metadata": {},
   "outputs": [
    {
     "name": "stderr",
     "output_type": "stream",
     "text": [
      "Compiling...\n",
      "Compilation time = 0:00:02.936834\n",
      "Sampling...\n"
     ]
    },
    {
     "data": {
      "application/vnd.jupyter.widget-view+json": {
       "model_id": "e2a4f5f895d242e6bd1ccbab61b91018",
       "version_major": 2,
       "version_minor": 0
      },
      "text/plain": [
       "  0%|          | 0/8000 [00:00<?, ?it/s]"
      ]
     },
     "metadata": {},
     "output_type": "display_data"
    },
    {
     "data": {
      "application/vnd.jupyter.widget-view+json": {
       "model_id": "8d3128630e2942e1bc29c37a0da97383",
       "version_major": 2,
       "version_minor": 0
      },
      "text/plain": [
       "  0%|          | 0/8000 [00:00<?, ?it/s]"
      ]
     },
     "metadata": {},
     "output_type": "display_data"
    },
    {
     "data": {
      "application/vnd.jupyter.widget-view+json": {
       "model_id": "c4f25837729640ff816b355f6a36a786",
       "version_major": 2,
       "version_minor": 0
      },
      "text/plain": [
       "  0%|          | 0/8000 [00:00<?, ?it/s]"
      ]
     },
     "metadata": {},
     "output_type": "display_data"
    },
    {
     "data": {
      "application/vnd.jupyter.widget-view+json": {
       "model_id": "08f853aa30164703bac244ffed20d793",
       "version_major": 2,
       "version_minor": 0
      },
      "text/plain": [
       "  0%|          | 0/8000 [00:00<?, ?it/s]"
      ]
     },
     "metadata": {},
     "output_type": "display_data"
    },
    {
     "name": "stderr",
     "output_type": "stream",
     "text": [
      "Sampling time = 0:00:03.379361\n",
      "Transforming variables...\n",
      "Transformation time = 0:03:18.120344\n"
     ]
    },
    {
     "name": "stdout",
     "output_type": "stream",
     "text": [
      "Model: king99_pareto_modification\n",
      "        Computed from the raw b_i samples by multiplying by population and then getting\n",
      "        the proportion of the total pop (total pop=summed across all districts):\n",
      "        The posterior mean for the district-level voting preference of\n",
      "        $100,000-$125,000 for Henry McMaster is\n",
      "        0.682\n",
      "        The posterior mean for the district-level voting preference of\n",
      "        non-$100,000-$125,000 for Henry McMaster is\n",
      "        0.580\n",
      "        95% equal-tailed Bayesian credible interval for district-level voting preference of\n",
      "        $100,000-$125,000 for Henry McMaster is\n",
      "        [0.64066039 0.72091779]\n",
      "        95% equal-tailed Bayesian credible interval for district-level voting preference of\n",
      "        non-$100,000-$125,000 for Henry McMaster is\n",
      "        [0.57601205 0.58420185]\n",
      "        \n"
     ]
    }
   ],
   "source": [
    "rep_100_125_ei, rep_100_125_summary = run_ecological_inference(\n",
    "    df=sc_economic_merged_ei_df,\n",
    "    demographic_col=\"100K_125K_PERCENT\",\n",
    "    voting_col=\"REPUBLICAN_PERCENT\",\n",
    "    total_votes_col=\"TOT_VOT\",\n",
    "    demographic_group_name=\"$100,000-$125,000\",\n",
    "    candidate_name=sc_candidate_mapping['REPUBLICAN']\n",
    ")"
   ]
  },
  {
   "cell_type": "code",
   "execution_count": 112,
   "metadata": {},
   "outputs": [
    {
     "name": "stderr",
     "output_type": "stream",
     "text": [
      "Compiling...\n",
      "Compilation time = 0:00:02.981398\n",
      "Sampling...\n"
     ]
    },
    {
     "data": {
      "application/vnd.jupyter.widget-view+json": {
       "model_id": "5d29e3ebc3f94c4eb5c710f83554161b",
       "version_major": 2,
       "version_minor": 0
      },
      "text/plain": [
       "  0%|          | 0/8000 [00:00<?, ?it/s]"
      ]
     },
     "metadata": {},
     "output_type": "display_data"
    },
    {
     "data": {
      "application/vnd.jupyter.widget-view+json": {
       "model_id": "4f4831fbff154f86a00778aeb9ffcdb1",
       "version_major": 2,
       "version_minor": 0
      },
      "text/plain": [
       "  0%|          | 0/8000 [00:00<?, ?it/s]"
      ]
     },
     "metadata": {},
     "output_type": "display_data"
    },
    {
     "data": {
      "application/vnd.jupyter.widget-view+json": {
       "model_id": "87582fec76994e5bb7dabe80c42a7cf0",
       "version_major": 2,
       "version_minor": 0
      },
      "text/plain": [
       "  0%|          | 0/8000 [00:00<?, ?it/s]"
      ]
     },
     "metadata": {},
     "output_type": "display_data"
    },
    {
     "data": {
      "application/vnd.jupyter.widget-view+json": {
       "model_id": "16a85cb65f654190a81c8417e311df32",
       "version_major": 2,
       "version_minor": 0
      },
      "text/plain": [
       "  0%|          | 0/8000 [00:00<?, ?it/s]"
      ]
     },
     "metadata": {},
     "output_type": "display_data"
    },
    {
     "name": "stderr",
     "output_type": "stream",
     "text": [
      "Sampling time = 0:00:03.177475\n",
      "Transforming variables...\n",
      "Transformation time = 0:19:43.990378\n"
     ]
    },
    {
     "name": "stdout",
     "output_type": "stream",
     "text": [
      "Model: king99_pareto_modification\n",
      "        Computed from the raw b_i samples by multiplying by population and then getting\n",
      "        the proportion of the total pop (total pop=summed across all districts):\n",
      "        The posterior mean for the district-level voting preference of\n",
      "        $125,000-$150,000 for Henry McMaster is\n",
      "        0.820\n",
      "        The posterior mean for the district-level voting preference of\n",
      "        non-$125,000-$150,000 for Henry McMaster is\n",
      "        0.573\n",
      "        95% equal-tailed Bayesian credible interval for district-level voting preference of\n",
      "        $125,000-$150,000 for Henry McMaster is\n",
      "        [0.77197115 0.85931032]\n",
      "        95% equal-tailed Bayesian credible interval for district-level voting preference of\n",
      "        non-$125,000-$150,000 for Henry McMaster is\n",
      "        [0.57067271 0.57690401]\n",
      "        \n"
     ]
    }
   ],
   "source": [
    "rep_125_150_ei, rep_125_150_summary = run_ecological_inference(\n",
    "    df=sc_economic_merged_ei_df,\n",
    "    demographic_col=\"125K_150K_PERCENT\",\n",
    "    voting_col=\"REPUBLICAN_PERCENT\",\n",
    "    total_votes_col=\"TOT_VOT\",\n",
    "    demographic_group_name=\"$125,000-$150,000\",\n",
    "    candidate_name=sc_candidate_mapping['REPUBLICAN']\n",
    ")"
   ]
  },
  {
   "cell_type": "code",
   "execution_count": 113,
   "metadata": {},
   "outputs": [
    {
     "name": "stderr",
     "output_type": "stream",
     "text": [
      "Compiling...\n",
      "Compilation time = 0:00:03.889405\n",
      "Sampling...\n"
     ]
    },
    {
     "data": {
      "application/vnd.jupyter.widget-view+json": {
       "model_id": "ef3910ea35364b90a4f5a4127cf60247",
       "version_major": 2,
       "version_minor": 0
      },
      "text/plain": [
       "  0%|          | 0/8000 [00:00<?, ?it/s]"
      ]
     },
     "metadata": {},
     "output_type": "display_data"
    },
    {
     "data": {
      "application/vnd.jupyter.widget-view+json": {
       "model_id": "7631a9f03f474911aaf2ec2fe51ef5b7",
       "version_major": 2,
       "version_minor": 0
      },
      "text/plain": [
       "  0%|          | 0/8000 [00:00<?, ?it/s]"
      ]
     },
     "metadata": {},
     "output_type": "display_data"
    },
    {
     "data": {
      "application/vnd.jupyter.widget-view+json": {
       "model_id": "4b6c0267f98d4ac9afefa60469564ee9",
       "version_major": 2,
       "version_minor": 0
      },
      "text/plain": [
       "  0%|          | 0/8000 [00:00<?, ?it/s]"
      ]
     },
     "metadata": {},
     "output_type": "display_data"
    },
    {
     "data": {
      "application/vnd.jupyter.widget-view+json": {
       "model_id": "d52a0b7e457c46d3bd2c7ec4d9be1a3c",
       "version_major": 2,
       "version_minor": 0
      },
      "text/plain": [
       "  0%|          | 0/8000 [00:00<?, ?it/s]"
      ]
     },
     "metadata": {},
     "output_type": "display_data"
    },
    {
     "name": "stderr",
     "output_type": "stream",
     "text": [
      "Sampling time = 0:00:06.936590\n",
      "Transforming variables...\n",
      "Transformation time = 0:54:23.245721\n"
     ]
    },
    {
     "name": "stdout",
     "output_type": "stream",
     "text": [
      "Model: king99_pareto_modification\n",
      "        Computed from the raw b_i samples by multiplying by population and then getting\n",
      "        the proportion of the total pop (total pop=summed across all districts):\n",
      "        The posterior mean for the district-level voting preference of\n",
      "        $150,000+ for Henry McMaster is\n",
      "        0.666\n",
      "        The posterior mean for the district-level voting preference of\n",
      "        non-$150,000+ for Henry McMaster is\n",
      "        0.574\n",
      "        95% equal-tailed Bayesian credible interval for district-level voting preference of\n",
      "        $150,000+ for Henry McMaster is\n",
      "        [0.64269046 0.68986098]\n",
      "        95% equal-tailed Bayesian credible interval for district-level voting preference of\n",
      "        non-$150,000+ for Henry McMaster is\n",
      "        [0.56965941 0.5792319 ]\n",
      "        \n"
     ]
    }
   ],
   "source": [
    "rep_150_more_ei, rep_150_more_summary = run_ecological_inference(\n",
    "    df=sc_economic_merged_ei_df,\n",
    "    demographic_col=\"150K_MORE_PERCENT\",\n",
    "    voting_col=\"REPUBLICAN_PERCENT\",\n",
    "    total_votes_col=\"TOT_VOT\",\n",
    "    demographic_group_name=\"$150,000+\",\n",
    "    candidate_name=sc_candidate_mapping['REPUBLICAN']\n",
    ")"
   ]
  },
  {
   "cell_type": "markdown",
   "metadata": {},
   "source": [
    "### Ploting"
   ]
  },
  {
   "cell_type": "code",
   "execution_count": 207,
   "metadata": {},
   "outputs": [
    {
     "data": {
      "text/plain": [
       "<Axes: title={'center': 'Support for Henry McMaster'}>"
      ]
     },
     "execution_count": 207,
     "metadata": {},
     "output_type": "execute_result"
    },
    {
     "data": {
      "image/png": "[encoded data removed]",
      "text/plain": [
       "<Figure size 1000x500 with 1 Axes>"
      ]
     },
     "metadata": {},
     "output_type": "display_data"
    }
   ],
   "source": [
    "rep_white_ei.plot_kde()"
   ]
  },
  {
   "cell_type": "markdown",
   "metadata": {},
   "source": [
    "### Export data"
   ]
  },
  {
   "cell_type": "code",
   "execution_count": null,
   "metadata": {},
   "outputs": [],
   "source": []
  }
 ],
 "metadata": {
  "kernelspec": {
   "display_name": "cse354",
   "language": "python",
   "name": "python3"
  },
  "language_info": {
   "codemirror_mode": {
    "name": "ipython",
    "version": 3
   },
   "file_extension": ".py",
   "mimetype": "text/x-python",
   "name": "python",
   "nbconvert_exporter": "python",
   "pygments_lexer": "ipython3",
   "version": "3.11.10"
  }
 },
 "nbformat": 4,
 "nbformat_minor": 2
}
