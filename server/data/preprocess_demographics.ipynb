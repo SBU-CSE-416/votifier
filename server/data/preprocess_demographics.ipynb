{
 "cells": [
  {
   "cell_type": "code",
   "execution_count": 2,
   "metadata": {},
   "outputs": [],
   "source": [
    "import requests\n",
    "import json\n",
    "import pandas as pd\n",
    "import geopandas as gpd\n",
    "import os"
   ]
  },
  {
   "cell_type": "markdown",
   "metadata": {},
   "source": [
    "# Get data from census.gov api:"
   ]
  },
  {
   "cell_type": "markdown",
   "metadata": {},
   "source": [
    "## Racial Population Data Querying, Cleaning, and Formatting"
   ]
  },
  {
   "cell_type": "code",
   "execution_count": null,
   "metadata": {},
   "outputs": [],
   "source": [
    "API_KEY = ' '\n",
    "API_KEY_END = f'&key={API_KEY}'\n",
    "\n",
    "POPULATION_SCALES = {\n",
    "    \"State\": \"in=state:\",\n",
    "    \"Counties\": \"for=county:*\",\n",
    "    \"CongressionalDistricts\": \"for=congressional%20district:*\"\n",
    "}\n",
    "POPULATION_SCALE_KEYS = {\n",
    "    \"State\": \"\",\n",
    "    \"Counties\": \"counties_\",\n",
    "    \"CongressionalDistricts\": \"cd_\"\n",
    "}\n",
    "STATE_NAMES = {24: \"Maryland\", 45: \"South Carolina\"}\n",
    "STATE_NAMES_LOWER = {24: \"maryland\", 45: \"south_carolina\"}\n",
    "RACE_IDENTIFIERS = {\n",
    "    \"White\": \"S2101_C01_014E\",\n",
    "    \"BlackAfricanAmerican\": \"S2101_C01_015E\",\n",
    "    \"AmericanIndianAlaskaNative\": \"S2101_C01_016E\",\n",
    "    \"Asian\": \"S2101_C01_017E\",\n",
    "    \"NativeHawaiianOtherPacificIslander\": \"S2101_C01_018E\",\n",
    "    \"HispanicOrLatino\": \"S2101_C01_021E\",\n",
    "    \"Other\": \"S2101_C01_019E\"\n",
    "}\n",
    "TOTAL_POP_IDENTIFIER = \"S0101_C01_001E\"\n",
    "VOTING_AGE_POP_IDENTIFIERS = {\n",
    "    \"18-29\": \"S2902_C01_002E\",\n",
    "    \"30-44\": \"S2902_C01_003E\",\n",
    "    \"45-64\": \"S2902_C01_004E\",\n",
    "    \"65+\": \"S2902_C01_005E\"\n",
    "}"
   ]
  },
  {
   "cell_type": "code",
   "execution_count": null,
   "metadata": {},
   "outputs": [],
   "source": [
    "OUTPUT_DIR = 'output2'\n",
    "os.makedirs(OUTPUT_DIR, exist_ok=True)"
   ]
  },
  {
   "cell_type": "code",
   "execution_count": null,
   "metadata": {},
   "outputs": [],
   "source": [
    "def fetch_population_data(state, population_scale, race_key, api_key_end):\n",
    "    \"\"\"\n",
    "    Fetch population data for a specific state, scale, and race.\n",
    "    \"\"\"\n",
    "    base_url = 'https://api.census.gov/data/2022/acs/acs5/subject'\n",
    "    if population_scale == \"State\":\n",
    "        url = f'{base_url}?get=NAME,{RACE_IDENTIFIERS[race_key]}&for=state:{state}{api_key_end}'\n",
    "    else:\n",
    "        scale = POPULATION_SCALES[\"State\"] if population_scale != \"State\" else \"\"\n",
    "        url = (\n",
    "            f'{base_url}?get=NAME,{RACE_IDENTIFIERS[race_key]}&'\n",
    "            f'{POPULATION_SCALES[\"State\"]}{state}&{POPULATION_SCALES[population_scale]}{api_key_end}'\n",
    "        )\n",
    "    response = requests.get(url)\n",
    "    return response\n",
    "\n",
    "def process_data_frame(df, population_scale, state, race_key):\n",
    "    \"\"\"\n",
    "    Process the DataFrame based on the population scale.\n",
    "    \"\"\"\n",
    "    state_name = STATE_NAMES[state]\n",
    "    if population_scale == \"State\":\n",
    "        df.insert(1, \"Year\", [2022] * len(df), False)\n",
    "        df = df.rename(columns={0: \"State\", 2: \"State FIPS Code\"})\n",
    "    elif population_scale == \"Counties\":\n",
    "        df.insert(1, \"Year\", [2022] * len(df), False)\n",
    "        df = df.rename(columns={0: \"County Name\", 1: \"Estimated Population\", 2: \"State FIPS Code\", 3: \"County Number\"})\n",
    "        df['County Name'] = df['County Name'].str.replace(f', {state_name}', '')\n",
    "    elif population_scale == \"CongressionalDistricts\":\n",
    "        df.insert(1, \"Year\", [2022] * len(df), False)\n",
    "        df.insert(2, \"Congress\", [118] * len(df), False)\n",
    "        df = df.rename(columns={0: \"District Name\", 2: \"State FIPS Code\", 3: \"District Number\"})\n",
    "        df['District Name'] = df['District Name'].str.replace(f' \\\\(118th Congress\\\\), {state_name}', '', regex=True)\n",
    "\n",
    "    df = df.rename(columns={1: \"Estimated Population\"})\n",
    "    save_path = f'{OUTPUT_DIR}/{STATE_NAMES_LOWER[state]}_{POPULATION_SCALE_KEYS[population_scale]}estimated_populations_{race_key}.json'\n",
    "    df.to_json(save_path, orient=\"records\", indent=4)\n",
    "    return df\n"
   ]
  },
  {
   "cell_type": "code",
   "execution_count": null,
   "metadata": {},
   "outputs": [],
   "source": [
    "# Main Execution\n",
    "for state in STATE_NAMES:\n",
    "    for population_scale in POPULATION_SCALES:\n",
    "        for race_key in RACE_IDENTIFIERS:\n",
    "            response = fetch_population_data(state, population_scale, race_key, API_KEY_END)\n",
    "            if response.status_code == 200:\n",
    "                try:\n",
    "                    data = response.json()\n",
    "                    df = pd.DataFrame(data[1:], columns=data[0])\n",
    "                    processed_df = process_data_frame(df, population_scale, state, race_key)\n",
    "                    print(processed_df.head())\n",
    "                except Exception as e:\n",
    "                    print(f\"Error processing data for {race_key} in {state}: {e}\")\n",
    "            else:\n",
    "                print(f\"Failed request ({response.status_code}) for {race_key} in {state}\")\n"
   ]
  },
  {
   "cell_type": "markdown",
   "metadata": {},
   "source": [
    "## Block Level demographics data"
   ]
  },
  {
   "cell_type": "markdown",
   "metadata": {},
   "source": [
    "### South Carolina"
   ]
  },
  {
   "cell_type": "code",
   "execution_count": 31,
   "metadata": {},
   "outputs": [
    {
     "name": "stdout",
     "output_type": "stream",
     "text": [
      "Index(['GEOID', 'STATEFP', 'STATE', 'COUNTYFP', 'COUNTY', 'TOT_POP22',\n",
      "       'NHSP_POP22', 'HSP_POP22', 'WHT_NHSP22', 'BLK_NHSP22', 'AIA_NHSP22',\n",
      "       'ASN_NHSP22', 'HPI_NHSP22', 'OTH_NHSP22', '2OM_NHSP22', 'BLK_ALL22',\n",
      "       'AIA_ALL22', 'ASN_ALL22', 'HPI_ALL22', 'OTH_ALL22'],\n",
      "      dtype='object')\n"
     ]
    }
   ],
   "source": [
    "df_sc_race = pd.read_csv('raw/census_block/race/sc_race_2022_bg/sc_race_2022_bg.csv')\n",
    "print(df_sc_race.columns)"
   ]
  },
  {
   "cell_type": "code",
   "execution_count": 32,
   "metadata": {},
   "outputs": [
    {
     "name": "stdout",
     "output_type": "stream",
     "text": [
      "State Population: 5142750\n"
     ]
    }
   ],
   "source": [
    "state_population = df_sc_race['TOT_POP22'].sum()\n",
    "\n",
    "print(f\"State Population: {state_population}\")"
   ]
  },
  {
   "cell_type": "code",
   "execution_count": 39,
   "metadata": {},
   "outputs": [
    {
     "name": "stdout",
     "output_type": "stream",
     "text": [
      "Total Sum from Columns: 5142750\n"
     ]
    }
   ],
   "source": [
    "columns_to_sum = ['HSP_POP22', 'WHT_NHSP22', 'BLK_NHSP22', 'AIA_NHSP22', 'ASN_NHSP22', 'HPI_NHSP22', 'OTH_NHSP22', '2OM_NHSP22']\n",
    "total_sum_from_columns = df_sc_race[columns_to_sum].sum().sum()\n",
    "print(f\"Total Sum from Columns: {total_sum_from_columns}\")"
   ]
  },
  {
   "cell_type": "code",
   "execution_count": 42,
   "metadata": {},
   "outputs": [],
   "source": [
    "df_sc_race['OTH_NHSP22'] = df_sc_race['OTH_NHSP22'] + df_sc_race['2OM_NHSP22']"
   ]
  },
  {
   "cell_type": "code",
   "execution_count": 43,
   "metadata": {},
   "outputs": [],
   "source": [
    "selected_columns = [\n",
    "    \"GEOID\",\n",
    "    \"STATEFP\",\n",
    "    \"STATE\",\n",
    "    \"COUNTYFP\",\n",
    "    \"COUNTY\",\n",
    "    \"TOT_POP22\",\n",
    "    \"NHSP_POP22\",\n",
    "    \"HSP_POP22\",\n",
    "    \"WHT_NHSP22\",\n",
    "    \"BLK_NHSP22\",\n",
    "    \"AIA_NHSP22\",\n",
    "    \"ASN_NHSP22\",\n",
    "    \"HPI_NHSP22\",\n",
    "    \"OTH_NHSP22\",\n",
    "]\n"
   ]
  },
  {
   "cell_type": "code",
   "execution_count": 44,
   "metadata": {},
   "outputs": [],
   "source": [
    "df_sc_race_filtered = df_sc_race[selected_columns]\n"
   ]
  },
  {
   "cell_type": "code",
   "execution_count": 45,
   "metadata": {},
   "outputs": [],
   "source": [
    "path = \"processed_individual/sc_race_block.csv\"\n",
    "df_sc_race_filtered.to_csv(path, index=False)"
   ]
  },
  {
   "cell_type": "markdown",
   "metadata": {},
   "source": [
    "### Maryland"
   ]
  },
  {
   "cell_type": "code",
   "execution_count": 74,
   "metadata": {},
   "outputs": [
    {
     "name": "stdout",
     "output_type": "stream",
     "text": [
      "Index(['GEOID', 'STATEFP', 'STATE', 'COUNTYFP', 'COUNTY', 'TOT_POP22',\n",
      "       'NHSP_POP22', 'HSP_POP22', 'WHT_NHSP22', 'BLK_NHSP22', 'AIA_NHSP22',\n",
      "       'ASN_NHSP22', 'HPI_NHSP22', 'OTH_NHSP22', '2OM_NHSP22', 'BLK_ALL22',\n",
      "       'AIA_ALL22', 'ASN_ALL22', 'HPI_ALL22', 'OTH_ALL22'],\n",
      "      dtype='object')\n"
     ]
    }
   ],
   "source": [
    "df_md_race = pd.read_csv('raw/census_block/race/md_race_2022_bg/md_race_2022_bg.csv')\n",
    "print(df_md_race.columns)"
   ]
  },
  {
   "cell_type": "code",
   "execution_count": 75,
   "metadata": {},
   "outputs": [],
   "source": [
    "df_md_race['OTH_NHSP22'] = df_md_race['OTH_NHSP22'] + df_md_race['2OM_NHSP22']"
   ]
  },
  {
   "cell_type": "code",
   "execution_count": 76,
   "metadata": {},
   "outputs": [],
   "source": [
    "df_md_race_filtered = df_md_race[selected_columns]"
   ]
  },
  {
   "cell_type": "code",
   "execution_count": 77,
   "metadata": {},
   "outputs": [],
   "source": [
    "path = \"processed_individual/md_race_block.csv\"\n",
    "df_md_race_filtered.to_csv(path, index=False)"
   ]
  },
  {
   "cell_type": "markdown",
   "metadata": {},
   "source": [
    "# Preprocess State Summary"
   ]
  },
  {
   "cell_type": "markdown",
   "metadata": {},
   "source": [
    "## South Carolina:"
   ]
  },
  {
   "cell_type": "code",
   "execution_count": 108,
   "metadata": {},
   "outputs": [],
   "source": [
    "sc_race_df = pd.read_json(\"states/south_carolina/demographics/south_carolina_precincts_racial_population.json\")\n",
    "sc_econ_df = pd.read_json(\"states/south_carolina/economic/south_carolina_precincts_household_income.json\")\n",
    "sc_election_df = pd.read_json(\"states/south_carolina/election/sc_election.json\")\n",
    "sc_region_type_df = pd.read_json(\"states/south_carolina/geodata/south_carolina_precincts_region_type.json\")"
   ]
  },
  {
   "cell_type": "markdown",
   "metadata": {},
   "source": [
    "### State and racial population"
   ]
  },
  {
   "cell_type": "code",
   "execution_count": 109,
   "metadata": {},
   "outputs": [],
   "source": [
    "\n",
    "state_population = sc_race_df['TOT_POP22'].sum()\n",
    "\n",
    "total_state_pop = sc_race_df['TOT_POP22'].sum()\n",
    "\n",
    "white_pop = sc_race_df['WHT_NHSP22'].sum()\n",
    "black_pop = sc_race_df['BLK_NHSP22'].sum()\n",
    "hispanic_pop = sc_race_df['HSP_POP22'].sum()\n",
    "asian_pop = sc_race_df['ASN_NHSP22'].sum()\n",
    "native_american_pop = sc_race_df['AIA_NHSP22'].sum()\n",
    "islander_pop = sc_race_df['HPI_NHSP22'].sum()\n",
    "other_pop = sc_race_df['OTH_NHSP22'].sum()\n",
    "percent_white = (white_pop / total_state_pop) * 100\n",
    "percent_black = (black_pop / total_state_pop) * 100\n",
    "percent_hispanic = (hispanic_pop / total_state_pop) * 100\n",
    "percent_asian = (asian_pop / total_state_pop) * 100\n",
    "percent_native_american = (native_american_pop / total_state_pop) * 100\n",
    "percent_islander = (islander_pop / total_state_pop) * 100\n",
    "percent_other = (other_pop / total_state_pop) * 100"
   ]
  },
  {
   "cell_type": "code",
   "execution_count": 110,
   "metadata": {},
   "outputs": [
    {
     "name": "stdout",
     "output_type": "stream",
     "text": [
      "State Population: 5142750\n"
     ]
    }
   ],
   "source": [
    "print(f\"State Population: {state_population}\")\n"
   ]
  },
  {
   "cell_type": "code",
   "execution_count": 111,
   "metadata": {},
   "outputs": [],
   "source": [
    "\n",
    "total_votes = sc_election_df['TOT_VOT'].sum()\n",
    "votes_dem = sc_election_df['TOT_DEM'].sum()\n",
    "votes_rep = sc_election_df['TOT_REP'].sum()\n",
    "percent_dem = (votes_dem / total_votes) * 100\n",
    "percent_rep = (votes_rep / total_votes) * 100"
   ]
  },
  {
   "cell_type": "code",
   "execution_count": 112,
   "metadata": {},
   "outputs": [
    {
     "name": "stdout",
     "output_type": "stream",
     "text": [
      "Total Votes: 1567833\n",
      "Total Votes for Democrats: 515576\n",
      "Total Votes for Republicans: 1052257\n",
      "Percentage of Votes for Democrats: 32.88462482930261\n",
      "Percentage of Votes for Republicans: 67.11537517069739\n"
     ]
    }
   ],
   "source": [
    "print(f\"Total Votes: {total_votes}\")\n",
    "print(f\"Total Votes for Democrats: {votes_dem}\")\n",
    "print(f\"Total Votes for Republicans: {votes_rep}\")\n",
    "print(f\"Percentage of Votes for Democrats: {percent_dem}\")\n",
    "print(f\"Percentage of Votes for Republicans: {percent_rep}\")"
   ]
  },
  {
   "cell_type": "code",
   "execution_count": 113,
   "metadata": {},
   "outputs": [
    {
     "name": "stdout",
     "output_type": "stream",
     "text": [
      "Total State Population: 5142750\n",
      "Total White Population: 3240171\n",
      "Total Black Population: 1316074\n",
      "Total Hispanic Population: 318875\n",
      "Total Asian Population: 84972\n",
      "Total Native American Population: 10304\n",
      "Total Islander Population: 2443\n",
      "Total Other Population: 169911\n",
      "Percentage of White Population: 63.0046375966166\n",
      "Percentage of Black Population: 25.590860920713627\n",
      "Percentage of Hispanic Population: 6.200476398813865\n",
      "Percentage of Asian Population: 1.6522677555782412\n",
      "Percentage of Native American Population: 0.20035972971659133\n",
      "Percentage of Islander Population: 0.047503767439599436\n",
      "Percentage of Other Population: 3.3038938311214814\n"
     ]
    }
   ],
   "source": [
    "print(f\"Total State Population: {total_state_pop}\")\n",
    "print(f\"Total White Population: {white_pop}\")\n",
    "print(f\"Total Black Population: {black_pop}\")\n",
    "print(f\"Total Hispanic Population: {hispanic_pop}\")\n",
    "print(f\"Total Asian Population: {asian_pop}\")\n",
    "print(f\"Total Native American Population: {native_american_pop}\")\n",
    "print(f\"Total Islander Population: {islander_pop}\")\n",
    "print(f\"Total Other Population: {other_pop}\")\n",
    "print(f\"Percentage of White Population: {percent_white}\")\n",
    "print(f\"Percentage of Black Population: {percent_black}\")\n",
    "print(f\"Percentage of Hispanic Population: {percent_hispanic}\")\n",
    "print(f\"Percentage of Asian Population: {percent_asian}\")\n",
    "print(f\"Percentage of Native American Population: {percent_native_american}\")\n",
    "print(f\"Percentage of Islander Population: {percent_islander}\")\n",
    "print(f\"Percentage of Other Population: {percent_other}\")\n"
   ]
  },
  {
   "cell_type": "markdown",
   "metadata": {},
   "source": [
    "### Household Income Poppulation"
   ]
  },
  {
   "cell_type": "code",
   "execution_count": 114,
   "metadata": {},
   "outputs": [],
   "source": [
    "income_columns = ['0_35K', '35K_60K', '60K-100K', '100K_125K', '125K_150K', '150K_MORE']\n",
    "income_totals = sc_econ_df[income_columns].sum()\n",
    "total_household_population = sc_econ_df['TOT_HOUS22'].sum()\n",
    "income_distribution = (income_totals / total_household_population) * 100"
   ]
  },
  {
   "cell_type": "code",
   "execution_count": 115,
   "metadata": {},
   "outputs": [
    {
     "name": "stdout",
     "output_type": "stream",
     "text": [
      "Total Household Population: 2023085\n",
      "Income Distribution: 0_35K        27.430978\n",
      "35K_60K      20.147992\n",
      "60K-100K     22.765232\n",
      "100K_125K     9.222796\n",
      "125K_150K     6.171268\n",
      "150K_MORE    14.261734\n",
      "dtype: float64\n"
     ]
    }
   ],
   "source": [
    "print(f\"Total Household Population: {total_household_population}\")\n",
    "print(f\"Income Distribution: {income_distribution}\")\n"
   ]
  },
  {
   "cell_type": "code",
   "execution_count": 116,
   "metadata": {},
   "outputs": [],
   "source": [
    "income_ranges = ['0_35K', '35K_60K', '60K-100K', '100K_125K', '125K_150K', '150K_MORE']\n",
    "income_distribution_data = dict(zip(income_ranges, income_distribution.values))"
   ]
  },
  {
   "cell_type": "markdown",
   "metadata": {},
   "source": [
    "### Region type population"
   ]
  },
  {
   "cell_type": "code",
   "execution_count": 117,
   "metadata": {},
   "outputs": [
    {
     "name": "stdout",
     "output_type": "stream",
     "text": [
      "Index(['UNIQUE_ID', 'region_type', 'TOT_POP22'], dtype='object')\n"
     ]
    }
   ],
   "source": [
    "print(sc_region_type_df.columns)"
   ]
  },
  {
   "cell_type": "code",
   "execution_count": 118,
   "metadata": {},
   "outputs": [
    {
     "name": "stdout",
     "output_type": "stream",
     "text": [
      "Rural Population: 1758073, Rural Percent: 34.19%\n",
      "Suburban Population: 2394864, Suburban Percent: 46.57%\n",
      "Urban Population: 989813, Urban Percent: 19.25%\n"
     ]
    }
   ],
   "source": [
    "rural_population = 0\n",
    "suburban_population = 0\n",
    "urban_population = 0\n",
    "for _, row in sc_region_type_df.iterrows():\n",
    "    population = row[\"TOT_POP22\"]\n",
    "    region_type = row[\"region_type\"]\n",
    "\n",
    "    if region_type == \"rural\":\n",
    "        rural_population += population\n",
    "    elif region_type == \"suburban\":\n",
    "        suburban_population += population\n",
    "    elif region_type == \"urban\":\n",
    "        urban_population += population\n",
    "total_population = rural_population + suburban_population + urban_population\n",
    "rural_percent = (rural_population / total_population) * 100 if total_population > 0 else 0\n",
    "suburban_percent = (suburban_population / total_population) * 100 if total_population > 0 else 0\n",
    "urban_percent = (urban_population / total_population) * 100 if total_population > 0 else 0\n",
    "\n",
    "# Print the results\n",
    "print(f\"Rural Population: {rural_population}, Rural Percent: {rural_percent:.2f}%\")\n",
    "print(f\"Suburban Population: {suburban_population}, Suburban Percent: {suburban_percent:.2f}%\")\n",
    "print(f\"Urban Population: {urban_population}, Urban Percent: {urban_percent:.2f}%\")"
   ]
  },
  {
   "cell_type": "markdown",
   "metadata": {},
   "source": [
    "### Create Data Summary for State"
   ]
  },
  {
   "cell_type": "code",
   "execution_count": 119,
   "metadata": {},
   "outputs": [],
   "source": [
    "sc_summary_data = {\n",
    "    \"NAME\": [\"South Carolina\"],\n",
    "    \"TOT_POP\": [state_population],\n",
    "    \"TOT_WHITE\": [white_pop],\n",
    "    \"TOT_BLACK\": [black_pop],\n",
    "    \"TOT_HISP\": [hispanic_pop],\n",
    "    \"TOT_ASIAN\": [asian_pop],\n",
    "    \"TOT_NATIVE\": [native_american_pop],\n",
    "    \"TOT_ISLANDER\": [islander_pop],\n",
    "    \"TOT_OTHER\": [other_pop],\n",
    "    \"DEM_VOT_DIS\": [percent_dem],\n",
    "    \"REP_VOT_DIS\": [percent_rep],\n",
    "    # \"WHITE_DIS\": [percent_white],\n",
    "    # \"BLACK_DIS\": [percent_black],\n",
    "    # \"HISP_DIS\": [percent_hispanic],\n",
    "    # \"ASIAN_DIS\": [percent_asian],\n",
    "    # \"NATIVE_DIS\": [percent_native_american],\n",
    "    # \"ISLAND_DIS\": [percent_islander],\n",
    "    # \"OTHER_DIS\": [percent_other],\n",
    "    \"URBAN_DIS\": [urban_percent],\n",
    "    \"SUBURBAN_DIS\": [suburban_percent],\n",
    "    \"RURAL_DIS\": [rural_percent],\n",
    "    \"TOT_HOUS\": [total_household_population],\n",
    "    \"HOUS_INCOME_DIS\": [income_distribution_data],\n",
    "    \"POV_LEVEL\": [32470]\n",
    "}"
   ]
  },
  {
   "cell_type": "code",
   "execution_count": 120,
   "metadata": {},
   "outputs": [],
   "source": [
    "sc_summary_df = pd.DataFrame(sc_summary_data)\n"
   ]
  },
  {
   "cell_type": "code",
   "execution_count": 121,
   "metadata": {},
   "outputs": [],
   "source": [
    "sc_summary_df.to_json('states/south_carolina/summary/south_carolina_summary.json', orient='records', lines=True, indent=4)"
   ]
  },
  {
   "cell_type": "markdown",
   "metadata": {},
   "source": [
    "### Per Congressional district"
   ]
  },
  {
   "cell_type": "code",
   "execution_count": 145,
   "metadata": {},
   "outputs": [],
   "source": [
    "rep_mapping = {\n",
    "    \"GCON01RMAC\": {\"Representative\": \"Nancy Mace\", \"Party\": \"REP\", \"Race\": \"White\", \"District\": 1},\n",
    "    \"GCON02RWIL\": {\"Representative\": \"Joe Wilson\", \"Party\": \"REP\", \"Race\": \"White\", \"District\": 2},\n",
    "    \"GCON03RDUN\": {\"Representative\": \"Jeff Duncan\", \"Party\": \"REP\", \"Race\": \"White\", \"District\": 3},\n",
    "    \"GCON04RTIM\": {\"Representative\": \"William Timmons\", \"Party\": \"REP\", \"Race\": \"White\", \"District\": 4},\n",
    "    \"GCON05RNOR\": {\"Representative\": \"Ralph Norman\", \"Party\": \"REP\", \"Race\": \"White\", \"District\": 5},\n",
    "    \"GCON06DCLY\": {\"Representative\": \"James E. Clyburn\", \"Party\": \"DEM\", \"Race\": \"White\", \"District\": 6},\n",
    "    \"GCON07RFRY\": {\"Representative\": \"Russell Fry\", \"Party\": \"REP\", \"Race\": \"White\", \"District\": 7}\n",
    "}\n"
   ]
  },
  {
   "cell_type": "code",
   "execution_count": 146,
   "metadata": {},
   "outputs": [],
   "source": [
    "def add_representative_party_info(df, mapping, district_col=\"CONG_DIST\"):\n",
    "    \"\"\"\n",
    "    Adds 'Representative' and 'Party' columns to a DataFrame based on a district-to-representative mapping.\n",
    "\n",
    "    :param df: pandas DataFrame containing district-level data\n",
    "    :param mapping: Dictionary with representative and party information\n",
    "    :param district_col: Name of the column in the DataFrame containing district identifiers\n",
    "    :return: Modified DataFrame with 'Representative' and 'Party' columns added\n",
    "    \"\"\"\n",
    "    df[\"Representative\"] = None\n",
    "    df[\"Party\"] = None\n",
    "    df[\"Race\"] = None\n",
    "\n",
    "    for index, row in df.iterrows():\n",
    "        district = row[district_col]\n",
    "\n",
    "        representative = None\n",
    "        party = None\n",
    "        race = None\n",
    "        for key, rep in mapping.items():\n",
    "            if rep[\"District\"] == district:\n",
    "                representative = rep[\"Representative\"]\n",
    "                party = rep[\"Party\"]\n",
    "                race = rep[\"Race\"]\n",
    "                break  \n",
    "    \n",
    "        df.at[index, \"Representative\"] = representative\n",
    "        df.at[index, \"Party\"] = party\n",
    "        df.at[index, \"Race\"] = race\n",
    "\n",
    "    return df\n"
   ]
  },
  {
   "cell_type": "code",
   "execution_count": 147,
   "metadata": {},
   "outputs": [],
   "source": [
    "def add_household_income_info(df, precinct_data, district_col=\"CONG_DIST\"):\n",
    "    \"\"\"\n",
    "    Adds 'Household Income' and 'Pct_Below_Poverty' \n",
    "    based on district-level aggregated precinct data.\n",
    "\n",
    "    :param df: DataFrame containing district data without income information\n",
    "    :param precinct_data: DataFrame containing precinct-level data\n",
    "    :param district_col: District identifiers\n",
    "    :return: Modified DataFrame with 'Household Income' and 'Pct_Below_Poverty' columns added\n",
    "    \"\"\"\n",
    "    # Calculate metrics for each district\n",
    "    district_metrics = precinct_data.groupby(district_col).apply(lambda group: {\n",
    "        \"Household Income\": (group[\"MEDN_INC22\"] * group[\"TOT_HOUS22\"]).sum() / group[\"TOT_HOUS22\"].sum() if group[\"TOT_HOUS22\"].sum() > 0 else 0,\n",
    "        \"Pct_Below_Poverty\": (group[\"0_35K\"].sum() / group[\"TOT_HOUS22\"].sum() * 100) if group[\"TOT_HOUS22\"].sum() > 0 else 0\n",
    "    }).to_dict()\n",
    "\n",
    "    df[\"Household Income\"] = None\n",
    "    df[\"Pct_Below_Poverty\"] = None\n",
    "\n",
    "    for index, row in df.iterrows():\n",
    "        district = row[district_col]\n",
    "        metrics = district_metrics.get(district, {\"Household Income\": None, \"Pct_Below_Poverty\": None})\n",
    "        df.at[index, \"Household Income\"] = metrics[\"Household Income\"]\n",
    "        df.at[index, \"Pct_Below_Poverty\"] = metrics[\"Pct_Below_Poverty\"]\n",
    "\n",
    "    return df\n"
   ]
  },
  {
   "cell_type": "code",
   "execution_count": 148,
   "metadata": {},
   "outputs": [],
   "source": [
    "def add_region_population_percentages(df, precinct_data, district_col=\"CONG_DIST\"):\n",
    "    \"\"\"\n",
    "    Adds 'urban_pct', 'suburban_pct', and 'rural_pct' columns \n",
    "    based on district-level aggregated precinct data.\n",
    "\n",
    "    :param df: DataFrame containing district data without region population percentages\n",
    "    :param precinct_data: DataFrame containing precinct-level data\n",
    "    :param district_col: District identifiers\n",
    "    :return: Modified DataFrame with 'urban_pct', 'suburban_pct', and 'rural_pct' columns added\n",
    "    \"\"\"\n",
    "    # Calculate metrics for each district\n",
    "    district_metrics = precinct_data.groupby([district_col, \"region_type\"])[\"TOT_POP22\"].sum().unstack(fill_value=0)\n",
    "\n",
    "    # Add total population for each district\n",
    "    district_metrics[\"Total_Pop\"] = district_metrics.sum(axis=1)\n",
    "\n",
    "    # Calculate percentages\n",
    "    district_metrics[\"urban_pct\"] = (district_metrics.get(\"urban\", 0) / district_metrics[\"Total_Pop\"]) * 100\n",
    "    district_metrics[\"suburban_pct\"] = (district_metrics.get(\"suburban\", 0) / district_metrics[\"Total_Pop\"]) * 100\n",
    "    district_metrics[\"rural_pct\"] = (district_metrics.get(\"rural\", 0) / district_metrics[\"Total_Pop\"]) * 100\n",
    "\n",
    "    # Convert metrics to a dictionary\n",
    "    district_metrics_dict = district_metrics[[\"urban_pct\", \"suburban_pct\", \"rural_pct\"]].to_dict(\"index\")\n",
    "\n",
    "    # Initialize new columns in the DataFrame\n",
    "    df[\"urban_pct\"] = None\n",
    "    df[\"suburban_pct\"] = None\n",
    "    df[\"rural_pct\"] = None\n",
    "\n",
    "    # Assign metrics to each district in the DataFrame\n",
    "    for index, row in df.iterrows():\n",
    "        district = row[district_col]\n",
    "        metrics = district_metrics_dict.get(district, {\"urban_pct\": None, \"suburban_pct\": None, \"rural_pct\": None})\n",
    "        df.at[index, \"urban_pct\"] = metrics[\"urban_pct\"]\n",
    "        df.at[index, \"suburban_pct\"] = metrics[\"suburban_pct\"]\n",
    "        df.at[index, \"rural_pct\"] = metrics[\"rural_pct\"]\n",
    "\n",
    "    return df\n"
   ]
  },
  {
   "cell_type": "code",
   "execution_count": 149,
   "metadata": {},
   "outputs": [],
   "source": [
    "sc_election_cong_df = sc_election_df.groupby(\"CONG_DIST\").agg({\n",
    "    \"TOT_REP\": \"sum\",\n",
    "    \"TOT_DEM\": \"sum\",\n",
    "    \"TOT_VOT\": \"sum\",\n",
    "}).reset_index()\n",
    "sc_election_cong_df = add_representative_party_info(sc_election_cong_df, rep_mapping)"
   ]
  },
  {
   "cell_type": "code",
   "execution_count": 150,
   "metadata": {},
   "outputs": [
    {
     "name": "stdout",
     "output_type": "stream",
     "text": [
      "['UNIQUE_ID' 'region_type' 'TOT_POP22']\n"
     ]
    }
   ],
   "source": [
    "print(sc_region_type_df.columns.values)"
   ]
  },
  {
   "cell_type": "code",
   "execution_count": 151,
   "metadata": {},
   "outputs": [],
   "source": [
    "sc_region_type_with_cong = pd.merge(\n",
    "    sc_region_type_df,\n",
    "    sc_econ_df[['UNIQUE_ID', 'CONG_DIST']],\n",
    "    on='UNIQUE_ID',\n",
    "    how='left' \n",
    ")"
   ]
  },
  {
   "cell_type": "code",
   "execution_count": 152,
   "metadata": {},
   "outputs": [
    {
     "name": "stdout",
     "output_type": "stream",
     "text": [
      "['UNIQUE_ID' 'region_type' 'TOT_POP22' 'CONG_DIST']\n"
     ]
    }
   ],
   "source": [
    "print(sc_region_type_with_cong.columns.values)"
   ]
  },
  {
   "cell_type": "code",
   "execution_count": 153,
   "metadata": {},
   "outputs": [
    {
     "name": "stdout",
     "output_type": "stream",
     "text": [
      "   CONG_DIST  TOT_REP  TOT_DEM  TOT_VOT    Representative Party   Race\n",
      "0          1   153319   115463   268782        Nancy Mace   REP  White\n",
      "1          2   147171    97771   244942        Joe Wilson   REP  White\n",
      "2          3   189130        0   189130       Jeff Duncan   REP  White\n",
      "3          4   164618        0   164618   William Timmons   REP  White\n",
      "4          5   154047    82958   237005      Ralph Norman   REP  White\n",
      "5          6    79688   130473   210161  James E. Clyburn   DEM  White\n",
      "6          7   164284    88911   253195       Russell Fry   REP  White\n"
     ]
    }
   ],
   "source": [
    "print(sc_election_cong_df)"
   ]
  },
  {
   "cell_type": "code",
   "execution_count": 154,
   "metadata": {},
   "outputs": [
    {
     "name": "stderr",
     "output_type": "stream",
     "text": [
      "/var/folders/3l/c_gyf2kn1vg4ww5h_h4819cm0000gn/T/ipykernel_5274/2908855453.py:12: DeprecationWarning: DataFrameGroupBy.apply operated on the grouping columns. This behavior is deprecated, and in a future version of pandas the grouping columns will be excluded from the operation. Either pass `include_groups=False` to exclude the groupings or explicitly select the grouping columns after groupby to silence this warning.\n",
      "  district_metrics = precinct_data.groupby(district_col).apply(lambda group: {\n"
     ]
    }
   ],
   "source": [
    "sc_election_cong_df = add_household_income_info(sc_election_cong_df, sc_econ_df)"
   ]
  },
  {
   "cell_type": "code",
   "execution_count": 155,
   "metadata": {},
   "outputs": [],
   "source": [
    "sc_election_cong_df = add_region_population_percentages(sc_election_cong_df, sc_region_type_with_cong)"
   ]
  },
  {
   "cell_type": "code",
   "execution_count": 156,
   "metadata": {},
   "outputs": [
    {
     "name": "stdout",
     "output_type": "stream",
     "text": [
      "   CONG_DIST  TOT_REP  TOT_DEM  TOT_VOT    Representative Party   Race  \\\n",
      "0          1   153319   115463   268782        Nancy Mace   REP  White   \n",
      "1          2   147171    97771   244942        Joe Wilson   REP  White   \n",
      "2          3   189130        0   189130       Jeff Duncan   REP  White   \n",
      "3          4   164618        0   164618   William Timmons   REP  White   \n",
      "4          5   154047    82958   237005      Ralph Norman   REP  White   \n",
      "5          6    79688   130473   210161  James E. Clyburn   DEM  White   \n",
      "6          7   164284    88911   253195       Russell Fry   REP  White   \n",
      "\n",
      "  Household Income Pct_Below_Poverty  urban_pct suburban_pct  rural_pct  \n",
      "0     88744.763782         18.415168  19.590055    46.091865  34.318079  \n",
      "1     72475.114049          23.99857  18.936308    49.212257  31.851435  \n",
      "2     60055.075852         30.289377   14.95716    47.912248  37.130592  \n",
      "3     70802.728617         24.940335  30.962907    53.487037  15.550056  \n",
      "4     69542.360695         27.025359  16.071338     49.72856  34.200102  \n",
      "5     53526.793894         35.104872   9.886177    38.857794  51.256029  \n",
      "6     55845.407602         32.049641  23.030955    42.228156  34.740889  \n"
     ]
    }
   ],
   "source": [
    "print(sc_election_cong_df)"
   ]
  },
  {
   "cell_type": "code",
   "execution_count": 157,
   "metadata": {},
   "outputs": [],
   "source": [
    "sc_election_cong_df['Vote_Pct_Rep'] = (sc_election_cong_df['TOT_REP'] / sc_election_cong_df['TOT_VOT']) * 100\n",
    "sc_election_cong_df['Vote_Pct_Dem'] = (sc_election_cong_df['TOT_DEM'] / sc_election_cong_df['TOT_VOT']) * 100"
   ]
  },
  {
   "cell_type": "code",
   "execution_count": 158,
   "metadata": {},
   "outputs": [
    {
     "name": "stdout",
     "output_type": "stream",
     "text": [
      "   CONG_DIST  TOT_REP  TOT_DEM  TOT_VOT    Representative Party   Race  \\\n",
      "0          1   153319   115463   268782        Nancy Mace   REP  White   \n",
      "1          2   147171    97771   244942        Joe Wilson   REP  White   \n",
      "2          3   189130        0   189130       Jeff Duncan   REP  White   \n",
      "3          4   164618        0   164618   William Timmons   REP  White   \n",
      "4          5   154047    82958   237005      Ralph Norman   REP  White   \n",
      "5          6    79688   130473   210161  James E. Clyburn   DEM  White   \n",
      "6          7   164284    88911   253195       Russell Fry   REP  White   \n",
      "\n",
      "  Household Income Pct_Below_Poverty  urban_pct suburban_pct  rural_pct  \\\n",
      "0     88744.763782         18.415168  19.590055    46.091865  34.318079   \n",
      "1     72475.114049          23.99857  18.936308    49.212257  31.851435   \n",
      "2     60055.075852         30.289377   14.95716    47.912248  37.130592   \n",
      "3     70802.728617         24.940335  30.962907    53.487037  15.550056   \n",
      "4     69542.360695         27.025359  16.071338     49.72856  34.200102   \n",
      "5     53526.793894         35.104872   9.886177    38.857794  51.256029   \n",
      "6     55845.407602         32.049641  23.030955    42.228156  34.740889   \n",
      "\n",
      "   Vote_Pct_Rep  Vote_Pct_Dem  \n",
      "0     57.042138     42.957862  \n",
      "1     60.084020     39.915980  \n",
      "2    100.000000      0.000000  \n",
      "3    100.000000      0.000000  \n",
      "4     64.997363     35.002637  \n",
      "5     37.917597     62.082403  \n",
      "6     64.884378     35.115622  \n"
     ]
    }
   ],
   "source": [
    "print(sc_election_cong_df)"
   ]
  },
  {
   "cell_type": "code",
   "execution_count": 159,
   "metadata": {},
   "outputs": [],
   "source": [
    "# drop TOT_REP  TOT_DEM  TOT_VOT \n",
    "sc_election_cong_df.drop(columns=['TOT_REP', 'TOT_DEM', 'TOT_VOT'], inplace=True)"
   ]
  },
  {
   "cell_type": "code",
   "execution_count": 162,
   "metadata": {},
   "outputs": [],
   "source": [
    "# save to json\n",
    "sc_election_cong_df.to_json('states/south_carolina/congressional_districts/summary/sc_congressional_districts_summary.json', orient='records', indent=4)"
   ]
  },
  {
   "cell_type": "markdown",
   "metadata": {},
   "source": [
    "## Maryland"
   ]
  },
  {
   "cell_type": "code",
   "execution_count": 182,
   "metadata": {},
   "outputs": [],
   "source": [
    "md_race_df = pd.read_json(\"states/maryland/demographics/maryland_precincts_racial_population.json\")\n",
    "md_econ_df = pd.read_json(\"states/maryland/economic/maryland_precincts_household_income.json\")\n",
    "md_election_df = pd.read_json(\"states/maryland/election/md_election.json\")\n",
    "md_region_type_df = pd.read_json(\"states/maryland/geodata/maryland_precincts_region_type.json\")"
   ]
  },
  {
   "cell_type": "code",
   "execution_count": 123,
   "metadata": {},
   "outputs": [],
   "source": [
    "\n",
    "state_population = md_race_df['TOT_POP22'].sum()\n",
    "\n",
    "total_state_pop = md_race_df['TOT_POP22'].sum()\n",
    "\n",
    "white_pop = md_race_df['WHT_NHSP22'].sum()\n",
    "black_pop = md_race_df['BLK_NHSP22'].sum()\n",
    "hispanic_pop = md_race_df['HSP_POP22'].sum()\n",
    "asian_pop = md_race_df['ASN_NHSP22'].sum()\n",
    "native_american_pop = md_race_df['AIA_NHSP22'].sum()\n",
    "islander_pop = md_race_df['HPI_NHSP22'].sum()\n",
    "other_pop = md_race_df['OTH_NHSP22'].sum()\n",
    "percent_white = (white_pop / total_state_pop) * 100\n",
    "percent_black = (black_pop / total_state_pop) * 100\n",
    "percent_hispanic = (hispanic_pop / total_state_pop) * 100\n",
    "percent_asian = (asian_pop / total_state_pop) * 100\n",
    "percent_native_american = (native_american_pop / total_state_pop) * 100\n",
    "percent_islander = (islander_pop / total_state_pop) * 100\n",
    "percent_other = (other_pop / total_state_pop) * 100"
   ]
  },
  {
   "cell_type": "code",
   "execution_count": 124,
   "metadata": {},
   "outputs": [
    {
     "name": "stdout",
     "output_type": "stream",
     "text": [
      "State Population: 6161707\n"
     ]
    }
   ],
   "source": [
    "print(f\"State Population: {state_population}\")\n"
   ]
  },
  {
   "cell_type": "code",
   "execution_count": 125,
   "metadata": {},
   "outputs": [],
   "source": [
    "\n",
    "total_votes = md_election_df['TOT_VOT'].sum()\n",
    "votes_dem = md_election_df['TOT_DEM'].sum()\n",
    "votes_rep = md_election_df['TOT_REP'].sum()\n",
    "percent_dem = (votes_dem / total_votes) * 100\n",
    "percent_rep = (votes_rep / total_votes) * 100"
   ]
  },
  {
   "cell_type": "code",
   "execution_count": 126,
   "metadata": {},
   "outputs": [
    {
     "name": "stdout",
     "output_type": "stream",
     "text": [
      "Total Votes: 2865967\n",
      "Total Votes for Democrats: 1884607\n",
      "Total Votes for Republicans: 981360\n",
      "Percentage of Votes for Democrats: 65.75815422857276\n",
      "Percentage of Votes for Republicans: 34.241845771427236\n"
     ]
    }
   ],
   "source": [
    "print(f\"Total Votes: {total_votes}\")\n",
    "print(f\"Total Votes for Democrats: {votes_dem}\")\n",
    "print(f\"Total Votes for Republicans: {votes_rep}\")\n",
    "print(f\"Percentage of Votes for Democrats: {percent_dem}\")\n",
    "print(f\"Percentage of Votes for Republicans: {percent_rep}\")"
   ]
  },
  {
   "cell_type": "code",
   "execution_count": 127,
   "metadata": {},
   "outputs": [
    {
     "name": "stdout",
     "output_type": "stream",
     "text": [
      "Total State Population: 6161707\n",
      "Total White Population: 2989005\n",
      "Total Black Population: 1815877\n",
      "Total Hispanic Population: 672905\n",
      "Total Asian Population: 396983\n",
      "Total Native American Population: 8480\n",
      "Total Islander Population: 2105\n",
      "Total Other Population: 276352\n",
      "Percentage of White Population: 48.509365992248576\n",
      "Percentage of Black Population: 29.470356185388237\n",
      "Percentage of Hispanic Population: 10.920756212523575\n",
      "Percentage of Asian Population: 6.44274386951538\n",
      "Percentage of Native American Population: 0.13762420056649885\n",
      "Percentage of Islander Population: 0.03416261110760378\n",
      "Percentage of Other Population: 4.484990928650129\n"
     ]
    }
   ],
   "source": [
    "print(f\"Total State Population: {total_state_pop}\")\n",
    "print(f\"Total White Population: {white_pop}\")\n",
    "print(f\"Total Black Population: {black_pop}\")\n",
    "print(f\"Total Hispanic Population: {hispanic_pop}\")\n",
    "print(f\"Total Asian Population: {asian_pop}\")\n",
    "print(f\"Total Native American Population: {native_american_pop}\")\n",
    "print(f\"Total Islander Population: {islander_pop}\")\n",
    "print(f\"Total Other Population: {other_pop}\")\n",
    "print(f\"Percentage of White Population: {percent_white}\")\n",
    "print(f\"Percentage of Black Population: {percent_black}\")\n",
    "print(f\"Percentage of Hispanic Population: {percent_hispanic}\")\n",
    "print(f\"Percentage of Asian Population: {percent_asian}\")\n",
    "print(f\"Percentage of Native American Population: {percent_native_american}\")\n",
    "print(f\"Percentage of Islander Population: {percent_islander}\")\n",
    "print(f\"Percentage of Other Population: {percent_other}\")\n"
   ]
  },
  {
   "cell_type": "code",
   "execution_count": 128,
   "metadata": {},
   "outputs": [],
   "source": [
    "income_columns = ['0_35K', '35K_60K', '60K-100K', '100K_125K', '125K_150K', '150K_MORE']\n",
    "income_totals = md_econ_df[income_columns].sum()\n",
    "total_household_population = md_econ_df['TOT_HOUS22'].sum()\n",
    "income_distribution = (income_totals / total_household_population) * 100"
   ]
  },
  {
   "cell_type": "code",
   "execution_count": 129,
   "metadata": {},
   "outputs": [
    {
     "name": "stdout",
     "output_type": "stream",
     "text": [
      "Total Household Population: 2318124\n",
      "Income Distribution: 0_35K        16.729131\n",
      "35K_60K      13.783603\n",
      "60K-100K     20.215398\n",
      "100K_125K    10.762927\n",
      "125K_150K     8.524522\n",
      "150K_MORE    29.984418\n",
      "dtype: float64\n"
     ]
    }
   ],
   "source": [
    "print(f\"Total Household Population: {total_household_population}\")\n",
    "print(f\"Income Distribution: {income_distribution}\")\n"
   ]
  },
  {
   "cell_type": "code",
   "execution_count": 130,
   "metadata": {},
   "outputs": [],
   "source": [
    "income_ranges = ['0_35K', '35K_60K', '60K-100K', '100K_125K', '125K_150K', '150K_MORE']\n",
    "income_distribution_data = dict(zip(income_ranges, income_distribution.values))"
   ]
  },
  {
   "cell_type": "code",
   "execution_count": 131,
   "metadata": {},
   "outputs": [
    {
     "name": "stdout",
     "output_type": "stream",
     "text": [
      "Rural Population: 1053754, Rural Percent: 17.10%\n",
      "Suburban Population: 2823435, Suburban Percent: 45.82%\n",
      "Urban Population: 2284518, Urban Percent: 37.08%\n"
     ]
    }
   ],
   "source": [
    "rural_population = 0\n",
    "suburban_population = 0\n",
    "urban_population = 0\n",
    "for _, row in md_region_type_df.iterrows():\n",
    "    population = row[\"TOT_POP22\"]\n",
    "    region_type = row[\"region_type\"]\n",
    "\n",
    "    if region_type == \"rural\":\n",
    "        rural_population += population\n",
    "    elif region_type == \"suburban\":\n",
    "        suburban_population += population\n",
    "    elif region_type == \"urban\":\n",
    "        urban_population += population\n",
    "total_population = rural_population + suburban_population + urban_population\n",
    "rural_percent = (rural_population / total_population) * 100 if total_population > 0 else 0\n",
    "suburban_percent = (suburban_population / total_population) * 100 if total_population > 0 else 0\n",
    "urban_percent = (urban_population / total_population) * 100 if total_population > 0 else 0\n",
    "\n",
    "# Print the results\n",
    "print(f\"Rural Population: {rural_population}, Rural Percent: {rural_percent:.2f}%\")\n",
    "print(f\"Suburban Population: {suburban_population}, Suburban Percent: {suburban_percent:.2f}%\")\n",
    "print(f\"Urban Population: {urban_population}, Urban Percent: {urban_percent:.2f}%\")\n"
   ]
  },
  {
   "cell_type": "code",
   "execution_count": 183,
   "metadata": {},
   "outputs": [],
   "source": [
    "md_summary_data = {\n",
    "    \"NAME\": [\"Maryland\"],\n",
    "    \"TOT_POP\": [state_population],\n",
    "    \"TOT_WHITE\": [white_pop],\n",
    "    \"TOT_BLACK\": [black_pop],\n",
    "    \"TOT_HISP\": [hispanic_pop],\n",
    "    \"TOT_ASIAN\": [asian_pop],\n",
    "    \"TOT_NATIVE\": [native_american_pop],\n",
    "    \"TOT_ISLANDER\": [islander_pop],\n",
    "    \"TOT_OTHER\": [other_pop],\n",
    "    \"DEM_VOT_DIS\": [percent_dem],\n",
    "    \"REP_VOT_DIS\": [percent_rep],\n",
    "    # \"WHITE_DIS\": [percent_white],\n",
    "    # \"BLACK_DIS\": [percent_black],\n",
    "    # \"HISP_DIS\": [percent_hispanic],\n",
    "    # \"ASIAN_DIS\": [percent_asian],\n",
    "    # \"NATIVE_DIS\": [percent_native_american],\n",
    "    # \"ISLAND_DIS\": [percent_islander],\n",
    "    # \"OTHER_DIS\": [percent_other],\n",
    "    \"URBAN_DIS\": [urban_percent],\n",
    "    \"SUBURBAN_DIS\": [suburban_percent],\n",
    "    \"RURAL_DIS\": [rural_percent],\n",
    "    \"TOT_HOUS\": [total_household_population],\n",
    "    \"HOUS_INCOME_DIS\": [income_distribution_data],\n",
    "    \"POV_LEVEL\": [32470]\n",
    "}"
   ]
  },
  {
   "cell_type": "code",
   "execution_count": 184,
   "metadata": {},
   "outputs": [],
   "source": [
    "md_summary_df = pd.DataFrame(md_summary_data)\n"
   ]
  },
  {
   "cell_type": "code",
   "execution_count": 185,
   "metadata": {},
   "outputs": [],
   "source": [
    "md_summary_df.to_json('states/maryland/summary/maryland_summary.json', orient='records', lines=True, indent=4)"
   ]
  },
  {
   "cell_type": "markdown",
   "metadata": {},
   "source": [
    "### Per Congressional district"
   ]
  },
  {
   "cell_type": "code",
   "execution_count": 234,
   "metadata": {},
   "outputs": [],
   "source": [
    "md_rep_mapping = {\n",
    "    \"GCON01RAH\": {\"Representative\": \"Andy Harris\", \"Party\": \"REP\", \"Race\": \"White\", \"District\": 1},\n",
    "    \"GCON02DCDR\": {\"Representative\": \"Dutch Ruppersberger\", \"Party\": \"DEM\", \"Race\": \"White\", \"District\": 2},\n",
    "    \"GCON03DJS\": {\"Representative\": \"John Sarbanes\", \"Party\": \"DEM\", \"Race\": \"White\", \"District\": 3},\n",
    "    \"GCON04DAGB\": {\"Representative\": \"Anthony G. Brown\", \"Party\": \"DEM\", \"Race\": \"African American\", \"District\": 4},\n",
    "    \"GCON05DSHH\": {\"Representative\": \"Steny H. Hoyer\", \"Party\": \"DEM\", \"Race\": \"White\", \"District\": 5},\n",
    "    \"GCON06DDJT\": {\"Representative\": \"David Trone\", \"Party\": \"DEM\", \"Race\": \"White\", \"District\": 6},\n",
    "    \"GCON07DKM\": {\"Representative\": \"Kweisi Mfume\", \"Party\": \"DEM\", \"Race\": \"African American\", \"District\": 7},\n",
    "    \"GCON08DJR\": {\"Representative\": \"Jamie Raskin\", \"Party\": \"DEM\", \"Race\": \"White\", \"District\": 8}\n",
    "}"
   ]
  },
  {
   "cell_type": "code",
   "execution_count": 235,
   "metadata": {},
   "outputs": [
    {
     "name": "stdout",
     "output_type": "stream",
     "text": [
      "['NAME' 'district' 'UNIQUE_ID' 'NUMBER' 'TOT_REP' 'TOT_DEM' 'TOT_VOT'\n",
      " 'LEAN' 'GCON01RAH' 'GCON02RJRS' 'GCON03RCA' 'GCON04RGEM' 'GCON05RCP'\n",
      " 'GCON06RNCP' 'GCON07RKK' 'GCON08RGTC' 'GCON01DMM' 'GCON02DCDR'\n",
      " 'GCON03DJS' 'GCON04DAGB' 'GCON05DSHH' 'GCON06DDJT' 'GCON07DKM'\n",
      " 'GCON08DJR']\n"
     ]
    }
   ],
   "source": [
    "print(md_election_df.columns.values)"
   ]
  },
  {
   "cell_type": "code",
   "execution_count": 236,
   "metadata": {},
   "outputs": [
    {
     "name": "stdout",
     "output_type": "stream",
     "text": [
      "district\n",
      "0    932\n",
      "1    232\n",
      "6    217\n",
      "8    207\n",
      "2    166\n",
      "7    127\n",
      "3     96\n",
      "5     66\n",
      "Name: count, dtype: int64\n"
     ]
    }
   ],
   "source": [
    "print(md_election_df['district'].value_counts())"
   ]
  },
  {
   "cell_type": "code",
   "execution_count": 237,
   "metadata": {},
   "outputs": [],
   "source": [
    "md_election_cong_df = md_election_df.groupby(\"district\").agg({\n",
    "    \"TOT_REP\": \"sum\",\n",
    "    \"TOT_DEM\": \"sum\",\n",
    "    \"TOT_VOT\": \"sum\",\n",
    "}).reset_index()\n",
    "# md_election_cong_df = add_representative_party_info(md_election_cong_df, md_rep_mapping, district_col=\"district\")"
   ]
  },
  {
   "cell_type": "code",
   "execution_count": 238,
   "metadata": {},
   "outputs": [
    {
     "name": "stdout",
     "output_type": "stream",
     "text": [
      "   district  TOT_REP  TOT_DEM  TOT_VOT\n",
      "0         0        0        0        0\n",
      "1         1   206470   113511   319981\n",
      "2         2    92434   175270   267704\n",
      "3         3    50877   129848   180725\n",
      "4         5    52292    84419   136711\n",
      "5         6   121533   207959   329492\n",
      "6         7    78270   124167   202437\n",
      "7         8   127157   274716   401873\n"
     ]
    }
   ],
   "source": [
    "print(md_election_cong_df)"
   ]
  },
  {
   "cell_type": "code",
   "execution_count": 229,
   "metadata": {},
   "outputs": [
    {
     "name": "stdout",
     "output_type": "stream",
     "text": [
      "['UNIQUE_ID' 'region_type' 'TOT_POP22']\n"
     ]
    }
   ],
   "source": [
    "print(md_region_type_df.columns.values)"
   ]
  },
  {
   "cell_type": "code",
   "execution_count": 230,
   "metadata": {},
   "outputs": [],
   "source": [
    "md_region_type_with_cong = pd.merge(\n",
    "    md_region_type_df,\n",
    "    md_econ_df[['UNIQUE_ID']],\n",
    "    on='UNIQUE_ID',\n",
    "    how='left' \n",
    ")"
   ]
  },
  {
   "cell_type": "code",
   "execution_count": 231,
   "metadata": {},
   "outputs": [
    {
     "name": "stdout",
     "output_type": "stream",
     "text": [
      "['UNIQUE_ID' 'region_type' 'TOT_POP22']\n"
     ]
    }
   ],
   "source": [
    "print(md_region_type_with_cong.columns.values)"
   ]
  },
  {
   "cell_type": "code",
   "execution_count": 232,
   "metadata": {},
   "outputs": [
    {
     "name": "stdout",
     "output_type": "stream",
     "text": [
      "   district  TOT_REP  TOT_DEM  TOT_VOT       Representative Party  \\\n",
      "0         0        0        0        0                 None  None   \n",
      "1         1   206470   113511   319981          Andy Harris   REP   \n",
      "2         2    92434   175270   267704  Dutch Ruppersberger   DEM   \n",
      "3         3    50877   129848   180725        John Sarbanes   DEM   \n",
      "4         5    52292    84419   136711       Steny H. Hoyer   DEM   \n",
      "5         6   121533   207959   329492          David Trone   DEM   \n",
      "6         7    78270   124167   202437         Kweisi Mfume   DEM   \n",
      "7         8   127157   274716   401873         Jamie Raskin   DEM   \n",
      "\n",
      "               Race  \n",
      "0              None  \n",
      "1             White  \n",
      "2             White  \n",
      "3             White  \n",
      "4             White  \n",
      "5             White  \n",
      "6  African American  \n",
      "7             White  \n"
     ]
    }
   ],
   "source": [
    "print(md_election_cong_df)"
   ]
  },
  {
   "cell_type": "code",
   "execution_count": 233,
   "metadata": {},
   "outputs": [],
   "source": [
    "#remove district == 0\n",
    "md_election_cong_df = md_election_cong_df[md_election_cong_df['district'] != 0]"
   ]
  },
  {
   "cell_type": "code",
   "execution_count": null,
   "metadata": {},
   "outputs": [
    {
     "name": "stderr",
     "output_type": "stream",
     "text": [
      "/var/folders/3l/c_gyf2kn1vg4ww5h_h4819cm0000gn/T/ipykernel_5274/2908855453.py:12: DeprecationWarning: DataFrameGroupBy.apply operated on the grouping columns. This behavior is deprecated, and in a future version of pandas the grouping columns will be excluded from the operation. Either pass `include_groups=False` to exclude the groupings or explicitly select the grouping columns after groupby to silence this warning.\n",
      "  district_metrics = precinct_data.groupby(district_col).apply(lambda group: {\n"
     ]
    }
   ],
   "source": [
    "md_election_cong_df = add_household_income_info(md_election_cong_df, md_econ_df)"
   ]
  },
  {
   "cell_type": "code",
   "execution_count": null,
   "metadata": {},
   "outputs": [],
   "source": [
    "sc_election_cong_df = add_region_population_percentages(sc_election_cong_df, sc_region_type_with_cong)"
   ]
  },
  {
   "cell_type": "code",
   "execution_count": null,
   "metadata": {},
   "outputs": [
    {
     "name": "stdout",
     "output_type": "stream",
     "text": [
      "   CONG_DIST  TOT_REP  TOT_DEM  TOT_VOT    Representative Party   Race  \\\n",
      "0          1   153319   115463   268782        Nancy Mace   REP  White   \n",
      "1          2   147171    97771   244942        Joe Wilson   REP  White   \n",
      "2          3   189130        0   189130       Jeff Duncan   REP  White   \n",
      "3          4   164618        0   164618   William Timmons   REP  White   \n",
      "4          5   154047    82958   237005      Ralph Norman   REP  White   \n",
      "5          6    79688   130473   210161  James E. Clyburn   DEM  White   \n",
      "6          7   164284    88911   253195       Russell Fry   REP  White   \n",
      "\n",
      "  Household Income Pct_Below_Poverty  urban_pct suburban_pct  rural_pct  \n",
      "0     88744.763782         18.415168  19.590055    46.091865  34.318079  \n",
      "1     72475.114049          23.99857  18.936308    49.212257  31.851435  \n",
      "2     60055.075852         30.289377   14.95716    47.912248  37.130592  \n",
      "3     70802.728617         24.940335  30.962907    53.487037  15.550056  \n",
      "4     69542.360695         27.025359  16.071338     49.72856  34.200102  \n",
      "5     53526.793894         35.104872   9.886177    38.857794  51.256029  \n",
      "6     55845.407602         32.049641  23.030955    42.228156  34.740889  \n"
     ]
    }
   ],
   "source": [
    "print(sc_election_cong_df)"
   ]
  },
  {
   "cell_type": "code",
   "execution_count": null,
   "metadata": {},
   "outputs": [],
   "source": [
    "sc_election_cong_df['Vote_Pct_Rep'] = (sc_election_cong_df['TOT_REP'] / sc_election_cong_df['TOT_VOT']) * 100\n",
    "sc_election_cong_df['Vote_Pct_Dem'] = (sc_election_cong_df['TOT_DEM'] / sc_election_cong_df['TOT_VOT']) * 100"
   ]
  },
  {
   "cell_type": "code",
   "execution_count": null,
   "metadata": {},
   "outputs": [
    {
     "name": "stdout",
     "output_type": "stream",
     "text": [
      "   CONG_DIST  TOT_REP  TOT_DEM  TOT_VOT    Representative Party   Race  \\\n",
      "0          1   153319   115463   268782        Nancy Mace   REP  White   \n",
      "1          2   147171    97771   244942        Joe Wilson   REP  White   \n",
      "2          3   189130        0   189130       Jeff Duncan   REP  White   \n",
      "3          4   164618        0   164618   William Timmons   REP  White   \n",
      "4          5   154047    82958   237005      Ralph Norman   REP  White   \n",
      "5          6    79688   130473   210161  James E. Clyburn   DEM  White   \n",
      "6          7   164284    88911   253195       Russell Fry   REP  White   \n",
      "\n",
      "  Household Income Pct_Below_Poverty  urban_pct suburban_pct  rural_pct  \\\n",
      "0     88744.763782         18.415168  19.590055    46.091865  34.318079   \n",
      "1     72475.114049          23.99857  18.936308    49.212257  31.851435   \n",
      "2     60055.075852         30.289377   14.95716    47.912248  37.130592   \n",
      "3     70802.728617         24.940335  30.962907    53.487037  15.550056   \n",
      "4     69542.360695         27.025359  16.071338     49.72856  34.200102   \n",
      "5     53526.793894         35.104872   9.886177    38.857794  51.256029   \n",
      "6     55845.407602         32.049641  23.030955    42.228156  34.740889   \n",
      "\n",
      "   Vote_Pct_Rep  Vote_Pct_Dem  \n",
      "0     57.042138     42.957862  \n",
      "1     60.084020     39.915980  \n",
      "2    100.000000      0.000000  \n",
      "3    100.000000      0.000000  \n",
      "4     64.997363     35.002637  \n",
      "5     37.917597     62.082403  \n",
      "6     64.884378     35.115622  \n"
     ]
    }
   ],
   "source": [
    "print(sc_election_cong_df)"
   ]
  },
  {
   "cell_type": "code",
   "execution_count": null,
   "metadata": {},
   "outputs": [],
   "source": [
    "# drop TOT_REP  TOT_DEM  TOT_VOT \n",
    "sc_election_cong_df.drop(columns=['TOT_REP', 'TOT_DEM', 'TOT_VOT'], inplace=True)"
   ]
  },
  {
   "cell_type": "code",
   "execution_count": null,
   "metadata": {},
   "outputs": [],
   "source": [
    "# save to json\n",
    "sc_election_cong_df.to_json('states/south_carolina/congressional_districts/summary/sc_congressional_districts_summary.json', orient='records', indent=4)"
   ]
  }
 ],
 "metadata": {
  "kernelspec": {
   "display_name": "cse354",
   "language": "python",
   "name": "python3"
  },
  "language_info": {
   "codemirror_mode": {
    "name": "ipython",
    "version": 3
   },
   "file_extension": ".py",
   "mimetype": "text/x-python",
   "name": "python",
   "nbconvert_exporter": "python",
   "pygments_lexer": "ipython3",
   "version": "3.11.10"
  }
 },
 "nbformat": 4,
 "nbformat_minor": 2
}
