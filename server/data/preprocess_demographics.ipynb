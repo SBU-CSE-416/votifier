{
 "cells": [
  {
   "cell_type": "code",
   "execution_count": 629,
   "metadata": {},
   "outputs": [],
   "source": [
    "import json\n",
    "import pandas as pd\n",
    "import geopandas as gpd"
   ]
  },
  {
   "cell_type": "markdown",
   "metadata": {},
   "source": [
    "## Block Level demographics data"
   ]
  },
  {
   "cell_type": "code",
   "execution_count": null,
   "metadata": {},
   "outputs": [],
   "source": [
    "def preprocess_state_summary(df, file_path):\n",
    "    state_population = df['TOT_POP22'].sum()\n",
    "    df['OTH_NHSP22'] = df['OTH_NHSP22'] + df['2OM_NHSP22']\n",
    "    columns_to_sum = ['HSP_POP22', 'WHT_NHSP22', 'BLK_NHSP22', 'AIA_NHSP22', 'ASN_NHSP22', 'HPI_NHSP22', 'OTH_NHSP22']\n",
    "    total_sum_from_columns = df[columns_to_sum].sum().sum()\n",
    "    print(f\"Total Sum from Columns: {total_sum_from_columns}\")\n",
    "    selected_columns = [\n",
    "    \"GEOID\",\n",
    "    \"STATEFP\",\n",
    "    \"STATE\",\n",
    "    \"COUNTYFP\",\n",
    "    \"COUNTY\",\n",
    "    \"TOT_POP22\",\n",
    "    \"NHSP_POP22\",\n",
    "    \"HSP_POP22\",\n",
    "    \"WHT_NHSP22\",\n",
    "    \"BLK_NHSP22\",\n",
    "    \"AIA_NHSP22\",\n",
    "    \"ASN_NHSP22\",\n",
    "    \"HPI_NHSP22\",\n",
    "    \"OTH_NHSP22\",\n",
    "]\n",
    "    df_filtered = df[selected_columns]\n",
    "    df_filtered.to_csv(file_path, index=False)"
   ]
  },
  {
   "cell_type": "markdown",
   "metadata": {},
   "source": [
    "### South Carolina"
   ]
  },
  {
   "cell_type": "code",
   "execution_count": null,
   "metadata": {},
   "outputs": [
    {
     "name": "stdout",
     "output_type": "stream",
     "text": [
      "Index(['GEOID', 'STATEFP', 'STATE', 'COUNTYFP', 'COUNTY', 'TOT_POP22',\n",
      "       'NHSP_POP22', 'HSP_POP22', 'WHT_NHSP22', 'BLK_NHSP22', 'AIA_NHSP22',\n",
      "       'ASN_NHSP22', 'HPI_NHSP22', 'OTH_NHSP22', '2OM_NHSP22', 'BLK_ALL22',\n",
      "       'AIA_ALL22', 'ASN_ALL22', 'HPI_ALL22', 'OTH_ALL22'],\n",
      "      dtype='object')\n"
     ]
    }
   ],
   "source": [
    "df_sc_race = pd.read_csv('raw/census_block/race/sc_race_2022_bg/sc_race_2022_bg.csv')\n"
   ]
  },
  {
   "cell_type": "code",
   "execution_count": 32,
   "metadata": {},
   "outputs": [
    {
     "name": "stdout",
     "output_type": "stream",
     "text": [
      "State Population: 5142750\n"
     ]
    }
   ],
   "source": [
    "state_population = df_sc_race['TOT_POP22'].sum()\n",
    "\n",
    "print(f\"State Population: {state_population}\")"
   ]
  },
  {
   "cell_type": "code",
   "execution_count": 39,
   "metadata": {},
   "outputs": [
    {
     "name": "stdout",
     "output_type": "stream",
     "text": [
      "Total Sum from Columns: 5142750\n"
     ]
    }
   ],
   "source": [
    "columns_to_sum = ['HSP_POP22', 'WHT_NHSP22', 'BLK_NHSP22', 'AIA_NHSP22', 'ASN_NHSP22', 'HPI_NHSP22', 'OTH_NHSP22', '2OM_NHSP22']\n",
    "total_sum_from_columns = df_sc_race[columns_to_sum].sum().sum()\n",
    "print(f\"Total Sum from Columns: {total_sum_from_columns}\")"
   ]
  },
  {
   "cell_type": "code",
   "execution_count": 42,
   "metadata": {},
   "outputs": [],
   "source": [
    "df_sc_race['OTH_NHSP22'] = df_sc_race['OTH_NHSP22'] + df_sc_race['2OM_NHSP22']"
   ]
  },
  {
   "cell_type": "code",
   "execution_count": null,
   "metadata": {},
   "outputs": [],
   "source": [
    "selected_columns = [\n",
    "    \"GEOID\",\n",
    "    \"STATEFP\",\n",
    "    \"STATE\",\n",
    "    \"COUNTYFP\",\n",
    "    \"COUNTY\",\n",
    "    \"TOT_POP22\",\n",
    "    \"NHSP_POP22\",\n",
    "    \"HSP_POP22\",\n",
    "    \"WHT_NHSP22\",\n",
    "    \"BLK_NHSP22\",\n",
    "    \"AIA_NHSP22\",\n",
    "    \"ASN_NHSP22\",\n",
    "    \"HPI_NHSP22\",\n",
    "    \"OTH_NHSP22\",\n",
    "]\n"
   ]
  },
  {
   "cell_type": "code",
   "execution_count": null,
   "metadata": {},
   "outputs": [],
   "source": [
    "df_sc_race_filtered = df_sc_race[selected_columns]\n"
   ]
  },
  {
   "cell_type": "code",
   "execution_count": null,
   "metadata": {},
   "outputs": [],
   "source": [
    "path = \"processed_individual/sc_race_block.csv\"\n"
   ]
  },
  {
   "cell_type": "markdown",
   "metadata": {},
   "source": [
    "### Maryland"
   ]
  },
  {
   "cell_type": "code",
   "execution_count": 74,
   "metadata": {},
   "outputs": [
    {
     "name": "stdout",
     "output_type": "stream",
     "text": [
      "Index(['GEOID', 'STATEFP', 'STATE', 'COUNTYFP', 'COUNTY', 'TOT_POP22',\n",
      "       'NHSP_POP22', 'HSP_POP22', 'WHT_NHSP22', 'BLK_NHSP22', 'AIA_NHSP22',\n",
      "       'ASN_NHSP22', 'HPI_NHSP22', 'OTH_NHSP22', '2OM_NHSP22', 'BLK_ALL22',\n",
      "       'AIA_ALL22', 'ASN_ALL22', 'HPI_ALL22', 'OTH_ALL22'],\n",
      "      dtype='object')\n"
     ]
    }
   ],
   "source": [
    "df_md_race = pd.read_csv('raw/census_block/race/md_race_2022_bg/md_race_2022_bg.csv')\n",
    "print(df_md_race.columns)"
   ]
  },
  {
   "cell_type": "code",
   "execution_count": 75,
   "metadata": {},
   "outputs": [],
   "source": [
    "df_md_race['OTH_NHSP22'] = df_md_race['OTH_NHSP22'] + df_md_race['2OM_NHSP22']"
   ]
  },
  {
   "cell_type": "code",
   "execution_count": 76,
   "metadata": {},
   "outputs": [],
   "source": [
    "df_md_race_filtered = df_md_race[selected_columns]"
   ]
  },
  {
   "cell_type": "code",
   "execution_count": 77,
   "metadata": {},
   "outputs": [],
   "source": [
    "path = \"processed_individual/md_race_block.csv\"\n",
    "df_md_race_filtered.to_csv(path, index=False)"
   ]
  },
  {
   "cell_type": "markdown",
   "metadata": {},
   "source": [
    "# Preprocess State Summary"
   ]
  },
  {
   "cell_type": "markdown",
   "metadata": {},
   "source": [
    "## South Carolina:"
   ]
  },
  {
   "cell_type": "code",
   "execution_count": 757,
   "metadata": {},
   "outputs": [],
   "source": [
    "party_columns = {\n",
    "    'DEM': 'TOT_DEM',\n",
    "    'REP': 'TOT_REP'\n",
    "}\n",
    "race_columns = {\n",
    "    'WHITE': 'WHT_NHSP22',\n",
    "    'BLACK': 'BLK_NHSP22',\n",
    "    'HISPANIC': 'HSP_POP22',\n",
    "    'ASIAN': 'ASN_NHSP22',\n",
    "    'NATIVE_AMERICAN': 'AIA_NHSP22',\n",
    "    'ISLANDER': 'HPI_NHSP22',\n",
    "    'OTHER_RACE': 'OTH_NHSP22'\n",
    "}\n",
    "income_columns = ['0_35K', '35K_60K', '60K_100K', '100K_125K', '125K_150K', '150K_MORE']\n",
    "\n",
    "POVERTY_LEVEL = 32470\n"
   ]
  },
  {
   "cell_type": "markdown",
   "metadata": {},
   "source": [
    "### Functions:"
   ]
  },
  {
   "cell_type": "code",
   "execution_count": 758,
   "metadata": {},
   "outputs": [],
   "source": [
    "def calculate_population_distribution(df, total_col, race_columns):\n",
    "    total_population = int(df[total_col].sum())  # Convert to int\n",
    "    population_summary = {'TOTAL_POPULATION': total_population}\n",
    "    \n",
    "    for race, col in race_columns.items():\n",
    "        race_population = df[col].sum()\n",
    "        race_percent = (race_population / total_population) * 100\n",
    "        population_summary[f'{race}_PRECENT'] = float(race_percent)  # Convert to float\n",
    "    \n",
    "    return population_summary\n"
   ]
  },
  {
   "cell_type": "code",
   "execution_count": 759,
   "metadata": {},
   "outputs": [],
   "source": [
    "def calculate_election_distribution(df, total_votes_col, party_columns):\n",
    "    total_votes = int(df[total_votes_col].sum()) \n",
    "    election_summary = {'TOTAL_VOTES': total_votes}\n",
    "    \n",
    "    for party, col in party_columns.items():\n",
    "        party_votes = int(df[col].sum())  \n",
    "        election_summary[f'{party}_VOTES'] = party_votes\n",
    "        party_percent = (party_votes / total_votes) * 100\n",
    "        election_summary[f'{party}_PERCENT'] = float(party_percent) \n",
    "    \n",
    "    return election_summary\n"
   ]
  },
  {
   "cell_type": "code",
   "execution_count": 760,
   "metadata": {},
   "outputs": [],
   "source": [
    "def calculate_income_distribution(df, total_household_col, income_columns):\n",
    "    income_totals = df[income_columns].sum().astype(int) \n",
    "    total_households = int(df[total_household_col].sum()) \n",
    "    income_distribution = (income_totals / total_households) * 100\n",
    "    income_distribution = income_distribution.astype(float) \n",
    "    \n",
    "    # Prepare summary\n",
    "    household_income_summary = {\n",
    "        'TOTAL_HOUSEHOLDS': total_households,\n",
    "        'HOUSEHOLD_INCOME_DISTRIBUTION': income_distribution.to_dict()\n",
    "    }\n",
    "    return household_income_summary\n"
   ]
  },
  {
   "cell_type": "code",
   "execution_count": 761,
   "metadata": {},
   "outputs": [],
   "source": [
    "def calculate_region_distribution(df, population_col, region_col):\n",
    "    rural_population = int(df.loc[df[region_col] == \"rural\", population_col].sum())\n",
    "    suburban_population = int(df.loc[df[region_col] == \"suburban\", population_col].sum())\n",
    "    urban_population = int(df.loc[df[region_col] == \"urban\", population_col].sum())\n",
    "    \n",
    "    total_population = rural_population + suburban_population + urban_population\n",
    "    \n",
    "    rural_percent = (rural_population / total_population) * 100 if total_population > 0 else 0\n",
    "    suburban_percent = (suburban_population / total_population) * 100 if total_population > 0 else 0\n",
    "    urban_percent = (urban_population / total_population) * 100 if total_population > 0 else 0\n",
    "    \n",
    "    region_summary = {\n",
    "        'RURAL_PERCENT': float(rural_percent),       # Convert to float\n",
    "        'SUBURBAN_PERCENT': float(suburban_percent), # Convert to float\n",
    "        'URBAN_PERCENT': float(urban_percent)        # Convert to float\n",
    "    }\n",
    "    return region_summary\n"
   ]
  },
  {
   "cell_type": "markdown",
   "metadata": {},
   "source": [
    "### Import data"
   ]
  },
  {
   "cell_type": "code",
   "execution_count": 762,
   "metadata": {},
   "outputs": [],
   "source": [
    "sc_race_df = pd.read_json(\"states/south_carolina/demographics/south_carolina_precincts_racial_population.json\")\n",
    "sc_econ_df = pd.read_json(\"states/south_carolina/economic/south_carolina_precincts_household_income.json\")\n",
    "sc_election_df = pd.read_json(\"states/south_carolina/election/sc_election.json\")\n",
    "sc_region_type_df = pd.read_json(\"states/south_carolina/geodata/south_carolina_precincts_region_type.json\")"
   ]
  },
  {
   "cell_type": "markdown",
   "metadata": {},
   "source": [
    "### State and racial population"
   ]
  },
  {
   "cell_type": "code",
   "execution_count": 763,
   "metadata": {},
   "outputs": [],
   "source": [
    "population_summary = calculate_population_distribution(sc_race_df, 'TOT_POP22', race_columns)\n",
    "election_summary = calculate_election_distribution(sc_election_df, 'TOT_VOT', party_columns)\n",
    "income_summary = calculate_income_distribution(sc_econ_df, 'TOT_HOUS22', income_columns)\n",
    "region_summary = calculate_region_distribution(sc_region_type_df, \"TOT_POP22\", \"region_type\")\n"
   ]
  },
  {
   "cell_type": "markdown",
   "metadata": {},
   "source": [
    "### Create Data Summary for State"
   ]
  },
  {
   "cell_type": "code",
   "execution_count": 764,
   "metadata": {},
   "outputs": [],
   "source": [
    "sc_summary_data = {\n",
    "    \"NAME\": \"South Carolina\",\n",
    "    **population_summary,\n",
    "    **election_summary,\n",
    "    **income_summary,\n",
    "    **region_summary,\n",
    "    \"POVERTY_LEVEL\": float(POVERTY_LEVEL) \n",
    "}\n"
   ]
  },
  {
   "cell_type": "code",
   "execution_count": 765,
   "metadata": {},
   "outputs": [],
   "source": [
    "with open(\"states/south_carolina/summary/south_carolina_summary.json\", \"w\") as file:\n",
    "    json.dump(sc_summary_data, file, indent=4)"
   ]
  },
  {
   "cell_type": "markdown",
   "metadata": {},
   "source": [
    "## Maryland"
   ]
  },
  {
   "cell_type": "code",
   "execution_count": 683,
   "metadata": {},
   "outputs": [],
   "source": [
    "md_race_df = pd.read_json(\"states/maryland/demographics/maryland_precincts_racial_population.json\")\n",
    "md_econ_df = pd.read_json(\"states/maryland/economic/maryland_precincts_household_income.json\")\n",
    "md_election_df = pd.read_json(\"states/maryland/election/md_election_cd.json\")\n",
    "md_region_type_df = pd.read_json(\"states/maryland/geodata/maryland_precincts_region_type.json\")"
   ]
  },
  {
   "cell_type": "code",
   "execution_count": 684,
   "metadata": {},
   "outputs": [],
   "source": [
    "md_population_summary = calculate_population_distribution(md_race_df, 'TOT_POP22', race_columns)\n",
    "md_election_summary = calculate_election_distribution(md_election_df, 'TOT_VOT', party_columns)\n",
    "md_income_summary = calculate_income_distribution(md_econ_df, 'TOT_HOUS22', income_columns)\n",
    "md_region_summary = calculate_region_distribution(md_region_type_df, \"TOT_POP22\", \"region_type\")"
   ]
  },
  {
   "cell_type": "code",
   "execution_count": 685,
   "metadata": {},
   "outputs": [],
   "source": [
    "md_summary_data = {\n",
    "    \"NAME\": \"Maryland\",\n",
    "    **md_population_summary,\n",
    "    **md_election_summary,\n",
    "    **md_income_summary,\n",
    "    **md_region_summary,\n",
    "    \"POVERTY_LEVEL\": float(POVERTY_LEVEL) \n",
    "}"
   ]
  },
  {
   "cell_type": "code",
   "execution_count": 686,
   "metadata": {},
   "outputs": [],
   "source": [
    "with open(\"states/maryland/summary/maryland_summary.json\", \"w\") as file:\n",
    "    json.dump(md_summary_data, file, indent=4)"
   ]
  },
  {
   "cell_type": "markdown",
   "metadata": {},
   "source": [
    "# Preprocess Congressional District Summary"
   ]
  },
  {
   "cell_type": "markdown",
   "metadata": {},
   "source": [
    "## Preprocess Congressional District Summary South Carolina"
   ]
  },
  {
   "cell_type": "code",
   "execution_count": 766,
   "metadata": {},
   "outputs": [],
   "source": [
    "rep_mapping = {\n",
    "    \"GCON01RMAC\": {\"Representative\": \"Nancy Mace\", \"Party\": \"REP\", \"Race\": \"White\", \"District\": 1},\n",
    "    \"GCON02RWIL\": {\"Representative\": \"Joe Wilson\", \"Party\": \"REP\", \"Race\": \"White\", \"District\": 2},\n",
    "    \"GCON03RDUN\": {\"Representative\": \"Jeff Duncan\", \"Party\": \"REP\", \"Race\": \"White\", \"District\": 3},\n",
    "    \"GCON04RTIM\": {\"Representative\": \"William Timmons\", \"Party\": \"REP\", \"Race\": \"White\", \"District\": 4},\n",
    "    \"GCON05RNOR\": {\"Representative\": \"Ralph Norman\", \"Party\": \"REP\", \"Race\": \"White\", \"District\": 5},\n",
    "    \"GCON06DCLY\": {\"Representative\": \"James E. Clyburn\", \"Party\": \"DEM\", \"Race\": \"White\", \"District\": 6},\n",
    "    \"GCON07RFRY\": {\"Representative\": \"Russell Fry\", \"Party\": \"REP\", \"Race\": \"White\", \"District\": 7}\n",
    "}\n"
   ]
  },
  {
   "cell_type": "markdown",
   "metadata": {},
   "source": [
    "### Functions"
   ]
  },
  {
   "cell_type": "code",
   "execution_count": 767,
   "metadata": {},
   "outputs": [],
   "source": [
    "def add_representative_party_info(df, mapping, district_col=\"CONG_DIST\"):\n",
    "    df[\"Representative\"] = None\n",
    "    df[\"Party\"] = None\n",
    "    df[\"Race\"] = None\n",
    "\n",
    "    for index, row in df.iterrows():\n",
    "        district = row[district_col]\n",
    "\n",
    "        representative = None\n",
    "        party = None\n",
    "        race = None\n",
    "        for key, rep in mapping.items():\n",
    "            if rep[\"District\"] == district:\n",
    "                representative = rep[\"Representative\"]\n",
    "                party = rep[\"Party\"]\n",
    "                race = rep[\"Race\"]\n",
    "                break  \n",
    "    \n",
    "        df.at[index, \"Representative\"] = representative\n",
    "        df.at[index, \"Party\"] = party\n",
    "        df.at[index, \"Race\"] = race\n",
    "\n",
    "    return df\n"
   ]
  },
  {
   "cell_type": "code",
   "execution_count": 768,
   "metadata": {},
   "outputs": [],
   "source": [
    "def add_household_income_info(df, precinct_data, district_col=\"CONG_DIST\"):\n",
    "    \"\"\"\n",
    "    Adds 'Household Income' and 'Pct_Below_Poverty' \n",
    "    based on district-level aggregated precinct data.\n",
    "\n",
    "    :param df: DataFrame containing district data without income information\n",
    "    :param precinct_data: DataFrame containing precinct-level data\n",
    "    :param district_col: District identifiers\n",
    "    :return: Modified DataFrame with 'Household Income' and 'Pct_Below_Poverty' columns added\n",
    "    \"\"\"\n",
    "    # Calculate metrics for each district\n",
    "    district_metrics = precinct_data.groupby(district_col).apply(lambda group: {\n",
    "        \"Household Income\": (group[\"MEDN_INC22\"] * group[\"TOT_HOUS22\"]).sum() / group[\"TOT_HOUS22\"].sum() if group[\"TOT_HOUS22\"].sum() > 0 else 0,\n",
    "        \"Pct_Below_Poverty\": (group[\"0_35K\"].sum() / group[\"TOT_HOUS22\"].sum() * 100) if group[\"TOT_HOUS22\"].sum() > 0 else 0\n",
    "    }).to_dict()\n",
    "\n",
    "    df[\"Household Income\"] = None\n",
    "    df[\"Pct_Below_Poverty\"] = None\n",
    "\n",
    "    for index, row in df.iterrows():\n",
    "        district = row[district_col]\n",
    "        metrics = district_metrics.get(district, {\"Household Income\": None, \"Pct_Below_Poverty\": None})\n",
    "        df.at[index, \"Household Income\"] = metrics[\"Household Income\"]\n",
    "        df.at[index, \"Pct_Below_Poverty\"] = metrics[\"Pct_Below_Poverty\"]\n",
    "\n",
    "    return df\n"
   ]
  },
  {
   "cell_type": "code",
   "execution_count": 769,
   "metadata": {},
   "outputs": [],
   "source": [
    "def add_region_population_percentages(df, precinct_data, district_col=\"CONG_DIST\"):\n",
    "    district_metrics = precinct_data.groupby([district_col, \"region_type\"])[\"TOT_POP22\"].sum().unstack(fill_value=0)\n",
    "\n",
    "    district_metrics[\"Total_Pop\"] = district_metrics.sum(axis=1)\n",
    "\n",
    "    district_metrics[\"urban_pct\"] = (district_metrics.get(\"urban\", 0) / district_metrics[\"Total_Pop\"]) * 100\n",
    "    district_metrics[\"suburban_pct\"] = (district_metrics.get(\"suburban\", 0) / district_metrics[\"Total_Pop\"]) * 100\n",
    "    district_metrics[\"rural_pct\"] = (district_metrics.get(\"rural\", 0) / district_metrics[\"Total_Pop\"]) * 100\n",
    "\n",
    "    district_metrics_dict = district_metrics[[\"urban_pct\", \"suburban_pct\", \"rural_pct\"]].to_dict(\"index\")\n",
    "\n",
    "    df[\"urban_pct\"] = None\n",
    "    df[\"suburban_pct\"] = None\n",
    "    df[\"rural_pct\"] = None\n",
    "\n",
    "    for index, row in df.iterrows():\n",
    "        district = row[district_col]\n",
    "        metrics = district_metrics_dict.get(district, {\"urban_pct\": None, \"suburban_pct\": None, \"rural_pct\": None})\n",
    "        df.at[index, \"urban_pct\"] = metrics[\"urban_pct\"]\n",
    "        df.at[index, \"suburban_pct\"] = metrics[\"suburban_pct\"]\n",
    "        df.at[index, \"rural_pct\"] = metrics[\"rural_pct\"]\n",
    "\n",
    "    return df\n"
   ]
  },
  {
   "cell_type": "code",
   "execution_count": 770,
   "metadata": {},
   "outputs": [],
   "source": [
    "def process_election_data(election_df, econ_df, region_type_df, rep_mapping, district_col=\"CONG_DIST\"):\n",
    "    # Group election data by congressional district and sum votes\n",
    "    election_each_district_df = election_df.groupby(district_col).agg({\n",
    "        \"TOT_REP\": \"sum\",\n",
    "        \"TOT_DEM\": \"sum\",\n",
    "        \"TOT_VOT\": \"sum\",\n",
    "    }).reset_index()\n",
    "\n",
    "    election_each_district_df = add_representative_party_info(election_each_district_df, rep_mapping)\n",
    "\n",
    "    region_type_with_district = pd.merge(\n",
    "        region_type_df,\n",
    "        econ_df[['UNIQUE_ID', 'CONG_DIST']],\n",
    "        on='UNIQUE_ID',\n",
    "        how='left' \n",
    "    )\n",
    "\n",
    "    election_each_district_df = add_household_income_info(election_each_district_df, econ_df, district_col)\n",
    "\n",
    "    election_each_district_df = add_region_population_percentages(election_each_district_df, region_type_with_district, district_col)\n",
    "\n",
    "    election_each_district_df['Vote_Pct_Rep'] = (election_each_district_df['TOT_REP'] / election_each_district_df['TOT_VOT']) * 100\n",
    "    election_each_district_df['Vote_Pct_Dem'] = (election_each_district_df['TOT_DEM'] / election_each_district_df['TOT_VOT']) * 100\n",
    "\n",
    "    election_each_district_df.drop(columns=['TOT_REP', 'TOT_DEM', 'TOT_VOT'], inplace=True)\n",
    "\n",
    "    return election_each_district_df\n"
   ]
  },
  {
   "cell_type": "markdown",
   "metadata": {},
   "source": [
    "### Main Script"
   ]
  },
  {
   "cell_type": "code",
   "execution_count": 771,
   "metadata": {},
   "outputs": [
    {
     "name": "stderr",
     "output_type": "stream",
     "text": [
      "/var/folders/3l/c_gyf2kn1vg4ww5h_h4819cm0000gn/T/ipykernel_5274/2908855453.py:12: DeprecationWarning: DataFrameGroupBy.apply operated on the grouping columns. This behavior is deprecated, and in a future version of pandas the grouping columns will be excluded from the operation. Either pass `include_groups=False` to exclude the groupings or explicitly select the grouping columns after groupby to silence this warning.\n",
      "  district_metrics = precinct_data.groupby(district_col).apply(lambda group: {\n"
     ]
    }
   ],
   "source": [
    "sc_election_each_district_df = process_election_data(sc_election_df, sc_econ_df, sc_region_type_df, rep_mapping)"
   ]
  },
  {
   "cell_type": "code",
   "execution_count": 772,
   "metadata": {},
   "outputs": [],
   "source": [
    "# save to json\n",
    "sc_election_each_district_df.to_json('states/south_carolina/congressional_districts/summary/sc_congressional_districts_summary.json', orient='records', indent=4)"
   ]
  },
  {
   "cell_type": "markdown",
   "metadata": {},
   "source": [
    "## Maryland"
   ]
  },
  {
   "cell_type": "code",
   "execution_count": 755,
   "metadata": {},
   "outputs": [],
   "source": [
    "md_rep_mapping = {\n",
    "    \"GCON01RAH\": {\"Representative\": \"Andy Harris\", \"Party\": \"REP\", \"Race\": \"White\", \"District\": 1},\n",
    "    \"GCON02DCDR\": {\"Representative\": \"Dutch Ruppersberger\", \"Party\": \"DEM\", \"Race\": \"White\", \"District\": 2},\n",
    "    \"GCON03DJS\": {\"Representative\": \"John Sarbanes\", \"Party\": \"DEM\", \"Race\": \"White\", \"District\": 3},\n",
    "    \"GCON04DAGB\": {\"Representative\": \"Anthony G. Brown\", \"Party\": \"DEM\", \"Race\": \"African American\", \"District\": 4},\n",
    "    \"GCON05DSHH\": {\"Representative\": \"Steny H. Hoyer\", \"Party\": \"DEM\", \"Race\": \"White\", \"District\": 5},\n",
    "    \"GCON06DDJT\": {\"Representative\": \"David Trone\", \"Party\": \"DEM\", \"Race\": \"White\", \"District\": 6},\n",
    "    \"GCON07DKM\": {\"Representative\": \"Kweisi Mfume\", \"Party\": \"DEM\", \"Race\": \"African American\", \"District\": 7},\n",
    "    \"GCON08DJR\": {\"Representative\": \"Jamie Raskin\", \"Party\": \"DEM\", \"Race\": \"White\", \"District\": 8}\n",
    "}"
   ]
  },
  {
   "cell_type": "code",
   "execution_count": 756,
   "metadata": {},
   "outputs": [
    {
     "name": "stdout",
     "output_type": "stream",
     "text": [
      "['UNIQUE_ID' 'district' 'TOT_REP' 'TOT_DEM' 'TOT_VOT' 'LEAN' 'GCON01RAH'\n",
      " 'GCON02RJRS' 'GCON03RCA' 'GCON04RGEM' 'GCON05RCP' 'GCON06RNCP'\n",
      " 'GCON07RKK' 'GCON08RGTC' 'GCON01DMM' 'GCON02DCDR' 'GCON03DJS'\n",
      " 'GCON04DAGB' 'GCON05DSHH' 'GCON06DDJT' 'GCON07DKM' 'GCON08DJR']\n"
     ]
    }
   ],
   "source": [
    "print(md_election_df.columns.values)"
   ]
  },
  {
   "cell_type": "code",
   "execution_count": 705,
   "metadata": {},
   "outputs": [
    {
     "name": "stdout",
     "output_type": "stream",
     "text": [
      "district\n",
      "7    315\n",
      "1    297\n",
      "4    263\n",
      "3    251\n",
      "6    243\n",
      "5    235\n",
      "2    224\n",
      "8    207\n",
      "Name: count, dtype: int64\n"
     ]
    }
   ],
   "source": [
    "print(md_election_df['district'].value_counts())"
   ]
  },
  {
   "cell_type": "code",
   "execution_count": 706,
   "metadata": {},
   "outputs": [],
   "source": [
    "md_election_cong_df = md_election_df.groupby(\"district\").agg({\n",
    "    \"TOT_REP\": \"sum\",\n",
    "    \"TOT_DEM\": \"sum\",\n",
    "    \"TOT_VOT\": \"sum\",\n",
    "}).reset_index()\n",
    "md_election_cong_df = add_representative_party_info(md_election_cong_df, md_rep_mapping, district_col=\"district\")"
   ]
  },
  {
   "cell_type": "code",
   "execution_count": 707,
   "metadata": {},
   "outputs": [
    {
     "name": "stdout",
     "output_type": "stream",
     "text": [
      "   district  TOT_REP  TOT_DEM  TOT_VOT       Representative Party  \\\n",
      "0         1   250901   143877   394778          Andy Harris   REP   \n",
      "1         2   106355   224836   331191  Dutch Ruppersberger   DEM   \n",
      "2         3   112117   260358   372475        John Sarbanes   DEM   \n",
      "3         4    71671   282119   353790     Anthony G. Brown   DEM   \n",
      "4         5   123525   274210   397735       Steny H. Hoyer   DEM   \n",
      "5         6   143599   215540   359139          David Trone   DEM   \n",
      "6         7    92825   237084   329909         Kweisi Mfume   DEM   \n",
      "7         8   127157   274716   401873         Jamie Raskin   DEM   \n",
      "\n",
      "               Race  \n",
      "0             White  \n",
      "1             White  \n",
      "2             White  \n",
      "3  African American  \n",
      "4             White  \n",
      "5             White  \n",
      "6  African American  \n",
      "7             White  \n"
     ]
    }
   ],
   "source": [
    "print(md_election_cong_df)"
   ]
  },
  {
   "cell_type": "code",
   "execution_count": 708,
   "metadata": {},
   "outputs": [
    {
     "name": "stdout",
     "output_type": "stream",
     "text": [
      "['UNIQUE_ID' 'region_type' 'TOT_POP22']\n"
     ]
    }
   ],
   "source": [
    "print(md_region_type_df.columns.values)"
   ]
  },
  {
   "cell_type": "code",
   "execution_count": 709,
   "metadata": {},
   "outputs": [
    {
     "name": "stdout",
     "output_type": "stream",
     "text": [
      "   district  TOT_REP  TOT_DEM  TOT_VOT       Representative Party  \\\n",
      "0         1   250901   143877   394778          Andy Harris   REP   \n",
      "1         2   106355   224836   331191  Dutch Ruppersberger   DEM   \n",
      "2         3   112117   260358   372475        John Sarbanes   DEM   \n",
      "3         4    71671   282119   353790     Anthony G. Brown   DEM   \n",
      "4         5   123525   274210   397735       Steny H. Hoyer   DEM   \n",
      "5         6   143599   215540   359139          David Trone   DEM   \n",
      "6         7    92825   237084   329909         Kweisi Mfume   DEM   \n",
      "7         8   127157   274716   401873         Jamie Raskin   DEM   \n",
      "\n",
      "               Race  \n",
      "0             White  \n",
      "1             White  \n",
      "2             White  \n",
      "3  African American  \n",
      "4             White  \n",
      "5             White  \n",
      "6  African American  \n",
      "7             White  \n"
     ]
    }
   ],
   "source": [
    "print(md_election_cong_df)"
   ]
  },
  {
   "cell_type": "code",
   "execution_count": 710,
   "metadata": {},
   "outputs": [
    {
     "name": "stdout",
     "output_type": "stream",
     "text": [
      "Columns in md_econ_df: Index(['NAME', 'NUMBER', 'UNIQUE_ID', 'MEDN_INC22', 'TOT_HOUS22', '0_35K',\n",
      "       '35K_60K', '60K_100K', '100K_125K', '125K_150K', '150K_MORE'],\n",
      "      dtype='object')\n",
      "Columns in md_election_df: Index(['UNIQUE_ID', 'district', 'TOT_REP', 'TOT_DEM', 'TOT_VOT', 'LEAN',\n",
      "       'GCON01RAH', 'GCON02RJRS', 'GCON03RCA', 'GCON04RGEM', 'GCON05RCP',\n",
      "       'GCON06RNCP', 'GCON07RKK', 'GCON08RGTC', 'GCON01DMM', 'GCON02DCDR',\n",
      "       'GCON03DJS', 'GCON04DAGB', 'GCON05DSHH', 'GCON06DDJT', 'GCON07DKM',\n",
      "       'GCON08DJR'],\n",
      "      dtype='object')\n"
     ]
    }
   ],
   "source": [
    "print(\"Columns in md_econ_df:\", md_econ_df.columns)\n",
    "print(\"Columns in md_election_df:\", md_election_df.columns)\n"
   ]
  },
  {
   "cell_type": "code",
   "execution_count": 711,
   "metadata": {},
   "outputs": [],
   "source": [
    "md_econ_df.columns = md_econ_df.columns.str.strip()\n",
    "md_election_df.columns = md_election_df.columns.str.strip()"
   ]
  },
  {
   "cell_type": "code",
   "execution_count": null,
   "metadata": {},
   "outputs": [],
   "source": [
    "md_election_each_district_df = process_election_data(md_election_df, md_econ_df, md_region_type_df, md_rep_mapping, district_col=\"district\")"
   ]
  },
  {
   "cell_type": "code",
   "execution_count": 712,
   "metadata": {},
   "outputs": [],
   "source": [
    "md_election_merged_df = pd.merge(\n",
    "    md_econ_df,\n",
    "    md_election_df[['UNIQUE_ID', 'district']],\n",
    "    on='UNIQUE_ID',\n",
    "    how='left'\n",
    ")\n"
   ]
  },
  {
   "cell_type": "code",
   "execution_count": 713,
   "metadata": {},
   "outputs": [
    {
     "name": "stdout",
     "output_type": "stream",
     "text": [
      "district\n",
      "7.0    315\n",
      "4.0    263\n",
      "3.0    251\n",
      "1.0    243\n",
      "5.0    235\n",
      "2.0    224\n",
      "6.0    217\n",
      "8.0    207\n",
      "Name: count, dtype: int64\n"
     ]
    }
   ],
   "source": [
    "print(md_election_merged_df['district'].value_counts())"
   ]
  },
  {
   "cell_type": "code",
   "execution_count": 714,
   "metadata": {},
   "outputs": [
    {
     "name": "stderr",
     "output_type": "stream",
     "text": [
      "/var/folders/3l/c_gyf2kn1vg4ww5h_h4819cm0000gn/T/ipykernel_5274/2908855453.py:12: DeprecationWarning: DataFrameGroupBy.apply operated on the grouping columns. This behavior is deprecated, and in a future version of pandas the grouping columns will be excluded from the operation. Either pass `include_groups=False` to exclude the groupings or explicitly select the grouping columns after groupby to silence this warning.\n",
      "  district_metrics = precinct_data.groupby(district_col).apply(lambda group: {\n"
     ]
    }
   ],
   "source": [
    "md_election_cong_df = add_household_income_info(md_election_cong_df, md_election_merged_df, district_col=\"district\")"
   ]
  },
  {
   "cell_type": "code",
   "execution_count": 715,
   "metadata": {},
   "outputs": [],
   "source": [
    "md_region_type_with_cong_df = pd.merge(\n",
    "    md_region_type_df,\n",
    "    md_election_df[['UNIQUE_ID', 'district']],  # Ensure UNIQUE_ID is included\n",
    "    on='UNIQUE_ID',\n",
    "    how='left'\n",
    ")"
   ]
  },
  {
   "cell_type": "code",
   "execution_count": 716,
   "metadata": {},
   "outputs": [],
   "source": [
    "sc_election_cong_df = add_region_population_percentages(md_election_cong_df, md_region_type_with_cong_df, district_col=\"district\")"
   ]
  },
  {
   "cell_type": "code",
   "execution_count": 717,
   "metadata": {},
   "outputs": [
    {
     "name": "stdout",
     "output_type": "stream",
     "text": [
      "   district  TOT_REP  TOT_DEM  TOT_VOT       Representative Party  \\\n",
      "0         1   250901   143877   394778          Andy Harris   REP   \n",
      "1         2   106355   224836   331191  Dutch Ruppersberger   DEM   \n",
      "2         3   112117   260358   372475        John Sarbanes   DEM   \n",
      "3         4    71671   282119   353790     Anthony G. Brown   DEM   \n",
      "4         5   123525   274210   397735       Steny H. Hoyer   DEM   \n",
      "5         6   143599   215540   359139          David Trone   DEM   \n",
      "6         7    92825   237084   329909         Kweisi Mfume   DEM   \n",
      "7         8   127157   274716   401873         Jamie Raskin   DEM   \n",
      "\n",
      "               Race Household Income Pct_Below_Poverty  urban_pct  \\\n",
      "0             White     96314.100471         17.671644    38.4567   \n",
      "1             White     86826.122014         19.816719  42.653239   \n",
      "2             White    110717.108875         15.320607  29.620697   \n",
      "3  African American    106543.858785         14.130405  39.005547   \n",
      "4             White    120658.082157         11.738711  39.962869   \n",
      "5             White    111323.655291         16.470557  46.158775   \n",
      "6  African American     87057.255546         25.041111  15.334338   \n",
      "7             White    132890.213316         12.514193  46.520159   \n",
      "\n",
      "  suburban_pct  rural_pct  \n",
      "0    42.650992  18.892308  \n",
      "1    42.193937  15.152825  \n",
      "2    51.658842  18.720461  \n",
      "3    45.275652  15.718801  \n",
      "4    45.183565  14.853566  \n",
      "5    40.798376   13.04285  \n",
      "6    53.256067  31.409594  \n",
      "7    47.715607   5.764234  \n"
     ]
    }
   ],
   "source": [
    "print(sc_election_cong_df)"
   ]
  },
  {
   "cell_type": "code",
   "execution_count": 718,
   "metadata": {},
   "outputs": [],
   "source": [
    "md_election_cong_df['Vote_Pct_Rep'] = (md_election_cong_df['TOT_REP'] / md_election_cong_df['TOT_VOT']) * 100\n",
    "md_election_cong_df['Vote_Pct_Dem'] = (md_election_cong_df['TOT_DEM'] / md_election_cong_df['TOT_VOT']) * 100"
   ]
  },
  {
   "cell_type": "code",
   "execution_count": 719,
   "metadata": {},
   "outputs": [
    {
     "name": "stdout",
     "output_type": "stream",
     "text": [
      "   district  TOT_REP  TOT_DEM  TOT_VOT       Representative Party  \\\n",
      "0         1   250901   143877   394778          Andy Harris   REP   \n",
      "1         2   106355   224836   331191  Dutch Ruppersberger   DEM   \n",
      "2         3   112117   260358   372475        John Sarbanes   DEM   \n",
      "3         4    71671   282119   353790     Anthony G. Brown   DEM   \n",
      "4         5   123525   274210   397735       Steny H. Hoyer   DEM   \n",
      "5         6   143599   215540   359139          David Trone   DEM   \n",
      "6         7    92825   237084   329909         Kweisi Mfume   DEM   \n",
      "7         8   127157   274716   401873         Jamie Raskin   DEM   \n",
      "\n",
      "               Race Household Income Pct_Below_Poverty  urban_pct  \\\n",
      "0             White     96314.100471         17.671644    38.4567   \n",
      "1             White     86826.122014         19.816719  42.653239   \n",
      "2             White    110717.108875         15.320607  29.620697   \n",
      "3  African American    106543.858785         14.130405  39.005547   \n",
      "4             White    120658.082157         11.738711  39.962869   \n",
      "5             White    111323.655291         16.470557  46.158775   \n",
      "6  African American     87057.255546         25.041111  15.334338   \n",
      "7             White    132890.213316         12.514193  46.520159   \n",
      "\n",
      "  suburban_pct  rural_pct  Vote_Pct_Rep  Vote_Pct_Dem  \n",
      "0    42.650992  18.892308     63.554960     36.445040  \n",
      "1    42.193937  15.152825     32.112890     67.887110  \n",
      "2    51.658842  18.720461     30.100544     69.899456  \n",
      "3    45.275652  15.718801     20.258063     79.741937  \n",
      "4    45.183565  14.853566     31.057111     68.942889  \n",
      "5    40.798376   13.04285     39.984240     60.015760  \n",
      "6    53.256067  31.409594     28.136547     71.863453  \n",
      "7    47.715607   5.764234     31.641091     68.358909  \n"
     ]
    }
   ],
   "source": [
    "print(md_election_cong_df)"
   ]
  },
  {
   "cell_type": "code",
   "execution_count": 720,
   "metadata": {},
   "outputs": [],
   "source": [
    "# rename district to CONG_DIST\n",
    "md_election_cong_df.rename(columns={'district': 'CONG_DIST'}, inplace=True)"
   ]
  },
  {
   "cell_type": "code",
   "execution_count": 721,
   "metadata": {},
   "outputs": [],
   "source": [
    "# save to json\n",
    "md_election_cong_df.to_json('states/maryland/congressional_districts/summary/md_congressional_districts_summary.json', orient='records', indent=4)"
   ]
  }
 ],
 "metadata": {
  "kernelspec": {
   "display_name": "cse354",
   "language": "python",
   "name": "python3"
  },
  "language_info": {
   "codemirror_mode": {
    "name": "ipython",
    "version": 3
   },
   "file_extension": ".py",
   "mimetype": "text/x-python",
   "name": "python",
   "nbconvert_exporter": "python",
   "pygments_lexer": "ipython3",
   "version": "3.11.10"
  }
 },
 "nbformat": 4,
 "nbformat_minor": 2
}
