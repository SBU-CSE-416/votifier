{
 "cells": [
  {
   "cell_type": "code",
   "execution_count": null,
   "metadata": {},
   "outputs": [],
   "source": [
    "import requests\n",
    "import json\n",
    "import pandas as pd\n",
    "import geopandas as gpd\n",
    "import os"
   ]
  },
  {
   "cell_type": "markdown",
   "metadata": {},
   "source": [
    "# Get data from census.gov api:"
   ]
  },
  {
   "cell_type": "markdown",
   "metadata": {},
   "source": [
    "## Racial Population Data Querying, Cleaning, and Formatting"
   ]
  },
  {
   "cell_type": "code",
   "execution_count": null,
   "metadata": {},
   "outputs": [],
   "source": [
    "API_KEY = ' '\n",
    "API_KEY_END = f'&key={API_KEY}'\n",
    "\n",
    "POPULATION_SCALES = {\n",
    "    \"State\": \"in=state:\",\n",
    "    \"Counties\": \"for=county:*\",\n",
    "    \"CongressionalDistricts\": \"for=congressional%20district:*\"\n",
    "}\n",
    "POPULATION_SCALE_KEYS = {\n",
    "    \"State\": \"\",\n",
    "    \"Counties\": \"counties_\",\n",
    "    \"CongressionalDistricts\": \"cd_\"\n",
    "}\n",
    "STATE_NAMES = {24: \"Maryland\", 45: \"South Carolina\"}\n",
    "STATE_NAMES_LOWER = {24: \"maryland\", 45: \"south_carolina\"}\n",
    "RACE_IDENTIFIERS = {\n",
    "    \"White\": \"S2101_C01_014E\",\n",
    "    \"BlackAfricanAmerican\": \"S2101_C01_015E\",\n",
    "    \"AmericanIndianAlaskaNative\": \"S2101_C01_016E\",\n",
    "    \"Asian\": \"S2101_C01_017E\",\n",
    "    \"NativeHawaiianOtherPacificIslander\": \"S2101_C01_018E\",\n",
    "    \"HispanicOrLatino\": \"S2101_C01_021E\",\n",
    "    \"Other\": \"S2101_C01_019E\"\n",
    "}\n",
    "TOTAL_POP_IDENTIFIER = \"S0101_C01_001E\"\n",
    "VOTING_AGE_POP_IDENTIFIERS = {\n",
    "    \"18-29\": \"S2902_C01_002E\",\n",
    "    \"30-44\": \"S2902_C01_003E\",\n",
    "    \"45-64\": \"S2902_C01_004E\",\n",
    "    \"65+\": \"S2902_C01_005E\"\n",
    "}"
   ]
  },
  {
   "cell_type": "code",
   "execution_count": null,
   "metadata": {},
   "outputs": [],
   "source": [
    "OUTPUT_DIR = 'output2'\n",
    "os.makedirs(OUTPUT_DIR, exist_ok=True)"
   ]
  },
  {
   "cell_type": "code",
   "execution_count": null,
   "metadata": {},
   "outputs": [],
   "source": [
    "def fetch_population_data(state, population_scale, race_key, api_key_end):\n",
    "    \"\"\"\n",
    "    Fetch population data for a specific state, scale, and race.\n",
    "    \"\"\"\n",
    "    base_url = 'https://api.census.gov/data/2022/acs/acs5/subject'\n",
    "    if population_scale == \"State\":\n",
    "        url = f'{base_url}?get=NAME,{RACE_IDENTIFIERS[race_key]}&for=state:{state}{api_key_end}'\n",
    "    else:\n",
    "        scale = POPULATION_SCALES[\"State\"] if population_scale != \"State\" else \"\"\n",
    "        url = (\n",
    "            f'{base_url}?get=NAME,{RACE_IDENTIFIERS[race_key]}&'\n",
    "            f'{POPULATION_SCALES[\"State\"]}{state}&{POPULATION_SCALES[population_scale]}{api_key_end}'\n",
    "        )\n",
    "    response = requests.get(url)\n",
    "    return response\n",
    "\n",
    "def process_data_frame(df, population_scale, state, race_key):\n",
    "    \"\"\"\n",
    "    Process the DataFrame based on the population scale.\n",
    "    \"\"\"\n",
    "    state_name = STATE_NAMES[state]\n",
    "    if population_scale == \"State\":\n",
    "        df.insert(1, \"Year\", [2022] * len(df), False)\n",
    "        df = df.rename(columns={0: \"State\", 2: \"State FIPS Code\"})\n",
    "    elif population_scale == \"Counties\":\n",
    "        df.insert(1, \"Year\", [2022] * len(df), False)\n",
    "        df = df.rename(columns={0: \"County Name\", 1: \"Estimated Population\", 2: \"State FIPS Code\", 3: \"County Number\"})\n",
    "        df['County Name'] = df['County Name'].str.replace(f', {state_name}', '')\n",
    "    elif population_scale == \"CongressionalDistricts\":\n",
    "        df.insert(1, \"Year\", [2022] * len(df), False)\n",
    "        df.insert(2, \"Congress\", [118] * len(df), False)\n",
    "        df = df.rename(columns={0: \"District Name\", 2: \"State FIPS Code\", 3: \"District Number\"})\n",
    "        df['District Name'] = df['District Name'].str.replace(f' \\\\(118th Congress\\\\), {state_name}', '', regex=True)\n",
    "\n",
    "    df = df.rename(columns={1: \"Estimated Population\"})\n",
    "    save_path = f'{OUTPUT_DIR}/{STATE_NAMES_LOWER[state]}_{POPULATION_SCALE_KEYS[population_scale]}estimated_populations_{race_key}.json'\n",
    "    df.to_json(save_path, orient=\"records\", indent=4)\n",
    "    return df\n"
   ]
  },
  {
   "cell_type": "code",
   "execution_count": null,
   "metadata": {},
   "outputs": [],
   "source": [
    "# Main Execution\n",
    "for state in STATE_NAMES:\n",
    "    for population_scale in POPULATION_SCALES:\n",
    "        for race_key in RACE_IDENTIFIERS:\n",
    "            response = fetch_population_data(state, population_scale, race_key, API_KEY_END)\n",
    "            if response.status_code == 200:\n",
    "                try:\n",
    "                    data = response.json()\n",
    "                    df = pd.DataFrame(data[1:], columns=data[0])\n",
    "                    processed_df = process_data_frame(df, population_scale, state, race_key)\n",
    "                    print(processed_df.head())\n",
    "                except Exception as e:\n",
    "                    print(f\"Error processing data for {race_key} in {state}: {e}\")\n",
    "            else:\n",
    "                print(f\"Failed request ({response.status_code}) for {race_key} in {state}\")\n"
   ]
  },
  {
   "cell_type": "markdown",
   "metadata": {},
   "source": [
    "## Block Level demographics data"
   ]
  },
  {
   "cell_type": "markdown",
   "metadata": {},
   "source": [
    "### South Carolina"
   ]
  },
  {
   "cell_type": "code",
   "execution_count": 31,
   "metadata": {},
   "outputs": [
    {
     "name": "stdout",
     "output_type": "stream",
     "text": [
      "Index(['GEOID', 'STATEFP', 'STATE', 'COUNTYFP', 'COUNTY', 'TOT_POP22',\n",
      "       'NHSP_POP22', 'HSP_POP22', 'WHT_NHSP22', 'BLK_NHSP22', 'AIA_NHSP22',\n",
      "       'ASN_NHSP22', 'HPI_NHSP22', 'OTH_NHSP22', '2OM_NHSP22', 'BLK_ALL22',\n",
      "       'AIA_ALL22', 'ASN_ALL22', 'HPI_ALL22', 'OTH_ALL22'],\n",
      "      dtype='object')\n"
     ]
    }
   ],
   "source": [
    "df_sc_race = pd.read_csv('raw/census_block/race/sc_race_2022_bg/sc_race_2022_bg.csv')\n",
    "print(df_sc_race.columns)"
   ]
  },
  {
   "cell_type": "code",
   "execution_count": 32,
   "metadata": {},
   "outputs": [
    {
     "name": "stdout",
     "output_type": "stream",
     "text": [
      "State Population: 5142750\n"
     ]
    }
   ],
   "source": [
    "state_population = df_sc_race['TOT_POP22'].sum()\n",
    "\n",
    "print(f\"State Population: {state_population}\")"
   ]
  },
  {
   "cell_type": "code",
   "execution_count": 39,
   "metadata": {},
   "outputs": [
    {
     "name": "stdout",
     "output_type": "stream",
     "text": [
      "Total Sum from Columns: 5142750\n"
     ]
    }
   ],
   "source": [
    "columns_to_sum = ['HSP_POP22', 'WHT_NHSP22', 'BLK_NHSP22', 'AIA_NHSP22', 'ASN_NHSP22', 'HPI_NHSP22', 'OTH_NHSP22', '2OM_NHSP22']\n",
    "total_sum_from_columns = df_sc_race[columns_to_sum].sum().sum()\n",
    "print(f\"Total Sum from Columns: {total_sum_from_columns}\")"
   ]
  },
  {
   "cell_type": "code",
   "execution_count": 42,
   "metadata": {},
   "outputs": [],
   "source": [
    "df_sc_race['OTH_NHSP22'] = df_sc_race['OTH_NHSP22'] + df_sc_race['2OM_NHSP22']"
   ]
  },
  {
   "cell_type": "code",
   "execution_count": 43,
   "metadata": {},
   "outputs": [],
   "source": [
    "selected_columns = [\n",
    "    \"GEOID\",\n",
    "    \"STATEFP\",\n",
    "    \"STATE\",\n",
    "    \"COUNTYFP\",\n",
    "    \"COUNTY\",\n",
    "    \"TOT_POP22\",\n",
    "    \"NHSP_POP22\",\n",
    "    \"HSP_POP22\",\n",
    "    \"WHT_NHSP22\",\n",
    "    \"BLK_NHSP22\",\n",
    "    \"AIA_NHSP22\",\n",
    "    \"ASN_NHSP22\",\n",
    "    \"HPI_NHSP22\",\n",
    "    \"OTH_NHSP22\",\n",
    "]\n"
   ]
  },
  {
   "cell_type": "code",
   "execution_count": 44,
   "metadata": {},
   "outputs": [],
   "source": [
    "df_sc_race_filtered = df_sc_race[selected_columns]\n"
   ]
  },
  {
   "cell_type": "code",
   "execution_count": 45,
   "metadata": {},
   "outputs": [],
   "source": [
    "path = \"processed_individual/sc_race_block.csv\"\n",
    "df_sc_race_filtered.to_csv(path, index=False)"
   ]
  },
  {
   "cell_type": "markdown",
   "metadata": {},
   "source": [
    "### Maryland"
   ]
  },
  {
   "cell_type": "code",
   "execution_count": 74,
   "metadata": {},
   "outputs": [
    {
     "name": "stdout",
     "output_type": "stream",
     "text": [
      "Index(['GEOID', 'STATEFP', 'STATE', 'COUNTYFP', 'COUNTY', 'TOT_POP22',\n",
      "       'NHSP_POP22', 'HSP_POP22', 'WHT_NHSP22', 'BLK_NHSP22', 'AIA_NHSP22',\n",
      "       'ASN_NHSP22', 'HPI_NHSP22', 'OTH_NHSP22', '2OM_NHSP22', 'BLK_ALL22',\n",
      "       'AIA_ALL22', 'ASN_ALL22', 'HPI_ALL22', 'OTH_ALL22'],\n",
      "      dtype='object')\n"
     ]
    }
   ],
   "source": [
    "df_md_race = pd.read_csv('raw/census_block/race/md_race_2022_bg/md_race_2022_bg.csv')\n",
    "print(df_md_race.columns)"
   ]
  },
  {
   "cell_type": "code",
   "execution_count": 75,
   "metadata": {},
   "outputs": [],
   "source": [
    "df_md_race['OTH_NHSP22'] = df_md_race['OTH_NHSP22'] + df_md_race['2OM_NHSP22']"
   ]
  },
  {
   "cell_type": "code",
   "execution_count": 76,
   "metadata": {},
   "outputs": [],
   "source": [
    "df_md_race_filtered = df_md_race[selected_columns]"
   ]
  },
  {
   "cell_type": "code",
   "execution_count": 77,
   "metadata": {},
   "outputs": [],
   "source": [
    "path = \"processed_individual/md_race_block.csv\"\n",
    "df_md_race_filtered.to_csv(path, index=False)"
   ]
  },
  {
   "cell_type": "markdown",
   "metadata": {},
   "source": [
    "# Preprocess State Summary"
   ]
  },
  {
   "cell_type": "markdown",
   "metadata": {},
   "source": [
    "## South Carolina:"
   ]
  },
  {
   "cell_type": "code",
   "execution_count": 47,
   "metadata": {},
   "outputs": [],
   "source": [
    "sc_precincts_gdf = gpd.read_file('states/south_carolina/geodata/south_carolina_precincts.geojson')"
   ]
  },
  {
   "cell_type": "code",
   "execution_count": 48,
   "metadata": {},
   "outputs": [
    {
     "name": "stdout",
     "output_type": "stream",
     "text": [
      "['UNIQUE_ID' 'COUNTYFP' 'County' 'NAME' 'Prec_Code' 'G22A1NO' 'G22A1YES'\n",
      " 'G22A2NO' 'G22A2YES' 'G22AGRCNEL' 'G22AGRGEDM' 'G22AGROWRI' 'G22AGRRWEA'\n",
      " 'G22ATGOWRI' 'G22ATGRWIL' 'G22COMOWRI' 'G22COMRECK' 'G22GOVDCUN'\n",
      " 'G22GOVLREE' 'G22GOVOWRI' 'G22GOVRMCM' 'G22SOSDBUT' 'G22SOSOWRI'\n",
      " 'G22SOSRHAM' 'G22SUPAELL' 'G22SUPDELL' 'G22SUPGMIC' 'G22SUPOWRI'\n",
      " 'G22SUPRWEA' 'G22TREAWOR' 'G22TREOWRI' 'G22TRERLOF' 'G22USSDMAT'\n",
      " 'G22USSOWRI' 'G22USSRSCO' 'GCON01AODD' 'GCON01DAND' 'GCON01OWRI'\n",
      " 'GCON01RMAC' 'GCON02DLAR' 'GCON02OWRI' 'GCON02RWIL' 'GCON03OWRI'\n",
      " 'GCON03RDUN' 'GCON04OWRI' 'GCON04RTIM' 'GCON05DHUN' 'GCON05GGAI'\n",
      " 'GCON05OWRI' 'GCON05RNOR' 'GCON06DCLY' 'GCON06OWRI' 'GCON06RBUC'\n",
      " 'GCON07DSCO' 'GCON07OWRI' 'GCON07RFRY' 'GSL001OWRI' 'GSL001RWHI'\n",
      " 'GSL002OWRI' 'GSL002RSAN' 'GSL003OWRI' 'GSL003RCAR' 'GSL004OWRI'\n",
      " 'GSL004RHIO' 'GSL005OWRI' 'GSL005RCOL' 'GSL006OWRI' 'GSL006RCRO'\n",
      " 'GSL007DSAL' 'GSL007OWRI' 'GSL007RWES' 'GSL008ATOD' 'GSL008DMAC'\n",
      " 'GSL008OWRI' 'GSL008RCHA' 'GSL009DPOL' 'GSL009OWRI' 'GSL009RTHA'\n",
      " 'GSL010OWRI' 'GSL010RBEA' 'GSL011OWRI' 'GSL011RGAG' 'GSL012DPAR'\n",
      " 'GSL012OWRI' 'GSL012RGIB' 'GSL013DKIM' 'GSL013OWRI' 'GSL013RMCC'\n",
      " 'GSL014DDUN' 'GSL014OWRI' 'GSL014RJON' 'GSL015DMOO' 'GSL015OWRI'\n",
      " 'GSL015RPON' 'GSL016OWRI' 'GSL016RWIL' 'GSL017OWRI' 'GSL017RBUR'\n",
      " 'GSL018DREI' 'GSL018OWRI' 'GSL018RMOR' 'GSL019OWRI' 'GSL019RHAD'\n",
      " 'GSL020OWRI' 'GSL020RMOR' 'GSL021OWRI' 'GSL021RCOX' 'GSL022OWRI'\n",
      " 'GSL022RELL' 'GSL023DDIL' 'GSL023OWRI' 'GSL024OWRI' 'GSL024RBAN'\n",
      " 'GSL025DJON' 'GSL025IBOY' 'GSL025OWRI' 'GSL025RJUL' 'GSL026DVIL'\n",
      " 'GSL026OWRI' 'GSL026RFEL' 'GSL027OWRI' 'GSL027RVAU' 'GSL028DFRI'\n",
      " 'GSL028OWRI' 'GSL028RTRA' 'GSL029OWRI' 'GSL029RMOS' 'GSL030OWRI'\n",
      " 'GSL030RLAW' 'GSL031DHEN' 'GSL031OWRI' 'GSL032OWRI' 'GSL032RHYD'\n",
      " 'GSL033OWRI' 'GSL033RMOO' 'GSL034OWRI' 'GSL034RNUT' 'GSL035OWRI'\n",
      " 'GSL035RCHU' 'GSL036OWRI' 'GSL036RHAR' 'GSL037OWRI' 'GSL037RLON'\n",
      " 'GSL038OWRI' 'GSL038RMAG' 'GSL039OWRI' 'GSL039RFOR' 'GSL040OWRI'\n",
      " 'GSL040RWHI' 'GSL041DMCD' 'GSL041OWRI' 'GSL041RBRE' 'GSL042OWRI'\n",
      " 'GSL042RGIL' 'GSL043OWRI' 'GSL043RLIG' 'GSL044DCRO' 'GSL044IMCK'\n",
      " 'GSL044OWRI' 'GSL044RNEE' 'GSL045DSR' 'GSL045OWRI' 'GSL045RNEW'\n",
      " 'GSL046OWRI' 'GSL046RSES' 'GSL047OWRI' 'GSL047RPOP' 'GSL048DRUS'\n",
      " 'GSL048OWRI' 'GSL048RGUF' 'GSL049DKIN' 'GSL049OWRI' 'GSL049RHAR'\n",
      " 'GSL050DWHE' 'GSL050OWRI' 'GSL050RJON' 'GSL051DWEE' 'GSL051OWRI'\n",
      " 'GSL052DCAR' 'GSL052OWRI' 'GSL052RCON' 'GSL053OWRI' 'GSL053RYOW'\n",
      " 'GSL054DHEN' 'GSL054OWRI' 'GSL054RMCD' 'GSL055DHAY' 'GSL055ICOP'\n",
      " 'GSL055OWRI' 'GSL055RNOR' 'GSL056OWRI' 'GSL056RMCG' 'GSL057DATK'\n",
      " 'GSL057OWRI' 'GSL058OWRI' 'GSL058RJOH' 'GSL059DALE' 'GSL059OWRI'\n",
      " 'GSL060OWRI' 'GSL060RLOW' 'GSL061DPRE' 'GSL061OWRI' 'GSL061RSCH'\n",
      " 'GSL062DWIL' 'GSL062OWRI' 'GSL063DCOE' 'GSL063OWRI' 'GSL063RJOR'\n",
      " 'GSL064DJOH' 'GSL064OWRI' 'GSL064RPED' 'GSL065OWRI' 'GSL065RMIT'\n",
      " 'GSL066DLIT' 'GSL066OWRI' 'GSL066RONE' 'GSL067OWRI' 'GSL067RSMI'\n",
      " 'GSL068DCAR' 'GSL068OWRI' 'GSL068RCRA' 'GSL069OWRI' 'GSL069RWOO'\n",
      " 'GSL070DJOH' 'GSL070GHEN' 'GSL070OWRI' 'GSL070RWIL' 'GSL071OWRI'\n",
      " 'GSL071RBAL' 'GSL072DROS' 'GSL072OWRI' 'GSL073DHAR' 'GSL073OWRI'\n",
      " 'GSL074DRUT' 'GSL074OWRI' 'GSL075DBAU' 'GSL075OWRI' 'GSL075RFIN'\n",
      " 'GSL076DHOW' 'GSL076OWRI' 'GSL077DGAR' 'GSL077OWRI' 'GSL077RSMA'\n",
      " 'GSL078DBER' 'GSL078OWRI' 'GSL079DTHI' 'GSL079OWRI' 'GSL079RMCF'\n",
      " 'GSL080DNEW' 'GSL080OWRI' 'GSL080RLAN' 'GSL081OWRI' 'GSL081RBLA'\n",
      " 'GSL082DCLY' 'GSL082OWRI' 'GSL083DMCC' 'GSL083OWRI' 'GSL083RHIX'\n",
      " 'GSL084OWRI' 'GSL084RORE' 'GSL085LDAV' 'GSL085OWRI' 'GSL085RKIL'\n",
      " 'GSL086OWRI' 'GSL086RTAY' 'GSL087OWRI' 'GSL087RCAL' 'GSL088DSHR'\n",
      " 'GSL088OWRI' 'GSL088RMAY' 'GSL089OWRI' 'GSL089RCAS' 'GSL090DBAM'\n",
      " 'GSL090OWRI' 'GSL090RCAR' 'GSL091DHOS' 'GSL091OWRI' 'GSL092OWRI'\n",
      " 'GSL092RCOX' 'GSL093DOTT' 'GSL093OWRI' 'GSL093RULM' 'GSL094DDAV'\n",
      " 'GSL094OWRI' 'GSL094RGAT' 'GSL095DCOB' 'GSL095OWRI' 'GSL095RCIL'\n",
      " 'GSL096OWRI' 'GSL096RMCC' 'GSL097DLEW' 'GSL097OWRI' 'GSL097RROB'\n",
      " 'GSL098DCLI' 'GSL098OWRI' 'GSL098RMUR' 'GSL099OWRI' 'GSL099RSMI'\n",
      " 'GSL100OWRI' 'GSL100RDAV' 'GSL101DKIR' 'GSL101OWRI' 'GSL102DJEF'\n",
      " 'GSL102OWRI' 'GSL102RELS' 'GSL103DAND' 'GSL103OWRI' 'GSL104OWRI'\n",
      " 'GSL104RBAI' 'GSL105OWRI' 'GSL105RHAR' 'GSL106ATHO' 'GSL106DTHO'\n",
      " 'GSL106OWRI' 'GSL106RGUE' 'GSL107OWRI' 'GSL107RBRI' 'GSL108OWRI'\n",
      " 'GSL108RHEW' 'GSL109DTED' 'GSL109LTRA' 'GSL109OWRI' 'GSL110DROB'\n",
      " 'GSL110OWRI' 'GSL110RHAR' 'GSL111DGIL' 'GSL111OWRI' 'GSL112DART'\n",
      " 'GSL112OWRI' 'GSL112RBUS' 'GSL113DPEN' 'GSL113OWRI' 'GSL114DBRA'\n",
      " 'GSL114OWRI' 'GSL114RBRE' 'GSL115DWET' 'GSL115OWRI' 'GSL115RONE'\n",
      " 'GSL116DMUR' 'GSL116OWRI' 'GSL116RLEB' 'GSL117DMAT' 'GSL117OWRI'\n",
      " 'GSL117RPAC' 'GSL118OWRI' 'GSL118RHER' 'GSL119DSTA' 'GSL119OWRI'\n",
      " 'GSL119RFIP' 'GSL120OWRI' 'GSL120RNEW' 'GSL121DSR' 'GSL121OWRI'\n",
      " 'GSL121RERI' 'GSL122DWIL' 'GSL122OWRI' 'GSL122RHAG' 'GSL123OWRI'\n",
      " 'GSL123RBRA' 'GSL124DNAS' 'GSL124OWRI' 'GSL124RERI' 'MEDN_INC22'\n",
      " 'TOT_HOUS22' '0_35K' '35K_60K' '60K-100K' '100K_125K' '125K_150K'\n",
      " '150K_MORE' 'TOT_POP22' 'NHSP_POP22' 'HSP_POP22' 'WHT_NHSP22'\n",
      " 'BLK_NHSP22' 'AIA_NHSP22' 'ASN_NHSP22' 'HPI_NHSP22' 'OTH_NHSP22'\n",
      " 'TOT_REP' 'TOT_DEM' 'TOT_OTH' 'TOT_VOT' 'LEAN' 'TOT_VOT_DEM_REP'\n",
      " 'geometry']\n"
     ]
    }
   ],
   "source": [
    "print(sc_precincts_gdf.columns.values)"
   ]
  },
  {
   "cell_type": "code",
   "execution_count": 54,
   "metadata": {},
   "outputs": [],
   "source": [
    "state_population = sc_precincts_gdf['TOT_POP22'].sum()\n",
    "\n",
    "total_votes = sc_precincts_gdf['TOT_VOT_DEM_REP'].sum()\n",
    "votes_dem = sc_precincts_gdf['TOT_DEM'].sum()\n",
    "votes_rep = sc_precincts_gdf['TOT_REP'].sum()\n",
    "percent_dem = (votes_dem / total_votes) * 100\n",
    "percent_rep = (votes_rep / total_votes) * 100\n",
    "\n",
    "total_state_pop = sc_precincts_gdf['TOT_POP22'].sum()\n",
    "\n",
    "white_pop = sc_precincts_gdf['WHT_NHSP22'].sum()\n",
    "black_pop = sc_precincts_gdf['BLK_NHSP22'].sum()\n",
    "hispanic_pop = sc_precincts_gdf['HSP_POP22'].sum()\n",
    "asian_pop = sc_precincts_gdf['ASN_NHSP22'].sum()\n",
    "native_american_pop = sc_precincts_gdf['AIA_NHSP22'].sum()\n",
    "islander_pop = sc_precincts_gdf['HPI_NHSP22'].sum()\n",
    "other_pop = sc_precincts_gdf['OTH_NHSP22'].sum()\n",
    "percent_white = (white_pop / total_state_pop) * 100\n",
    "percent_black = (black_pop / total_state_pop) * 100\n",
    "percent_hispanic = (hispanic_pop / total_state_pop) * 100\n",
    "percent_asian = (asian_pop / total_state_pop) * 100\n",
    "percent_native_american = (native_american_pop / total_state_pop) * 100\n",
    "percent_islander = (islander_pop / total_state_pop) * 100\n",
    "percent_other = (other_pop / total_state_pop) * 100"
   ]
  },
  {
   "cell_type": "code",
   "execution_count": null,
   "metadata": {},
   "outputs": [
    {
     "name": "stdout",
     "output_type": "stream",
     "text": [
      "State Population: 5142750.0\n",
      "Total Votes: 14328779.0\n",
      "Total Votes for Democrats: 3550310.0\n",
      "Total Votes for Republicans: 10778469.0\n",
      "Percentage of Votes for Democrats: 24.777477550599393\n",
      "Percentage of Votes for Republicans: 75.22252244940061\n"
     ]
    }
   ],
   "source": [
    "print(f\"State Population: {state_population}\")\n",
    "print(f\"Total Votes: {total_votes}\")\n",
    "print(f\"Total Votes for Democrats: {votes_dem}\")\n",
    "print(f\"Total Votes for Republicans: {votes_rep}\")\n",
    "print(f\"Percentage of Votes for Democrats: {percent_dem}\")\n",
    "print(f\"Percentage of Votes for Republicans: {percent_rep}\")"
   ]
  },
  {
   "cell_type": "code",
   "execution_count": 55,
   "metadata": {},
   "outputs": [
    {
     "name": "stdout",
     "output_type": "stream",
     "text": [
      "Total State Population: 5142750.0\n",
      "Total White Population: 3240171.0\n",
      "Total Black Population: 1316074.0\n",
      "Total Hispanic Population: 318875.0\n",
      "Total Asian Population: 84972.0\n",
      "Total Native American Population: 10304.0\n",
      "Total Islander Population: 2443.0\n",
      "Total Other Population: 169911.0\n",
      "Percentage of White Population: 63.0046375966166\n",
      "Percentage of Black Population: 25.590860920713627\n",
      "Percentage of Hispanic Population: 6.200476398813865\n",
      "Percentage of Asian Population: 1.6522677555782412\n",
      "Percentage of Native American Population: 0.20035972971659133\n",
      "Percentage of Islander Population: 0.047503767439599436\n",
      "Percentage of Other Population: 3.3038938311214814\n"
     ]
    }
   ],
   "source": [
    "print(f\"Total State Population: {total_state_pop}\")\n",
    "print(f\"Total White Population: {white_pop}\")\n",
    "print(f\"Total Black Population: {black_pop}\")\n",
    "print(f\"Total Hispanic Population: {hispanic_pop}\")\n",
    "print(f\"Total Asian Population: {asian_pop}\")\n",
    "print(f\"Total Native American Population: {native_american_pop}\")\n",
    "print(f\"Total Islander Population: {islander_pop}\")\n",
    "print(f\"Total Other Population: {other_pop}\")\n",
    "print(f\"Percentage of White Population: {percent_white}\")\n",
    "print(f\"Percentage of Black Population: {percent_black}\")\n",
    "print(f\"Percentage of Hispanic Population: {percent_hispanic}\")\n",
    "print(f\"Percentage of Asian Population: {percent_asian}\")\n",
    "print(f\"Percentage of Native American Population: {percent_native_american}\")\n",
    "print(f\"Percentage of Islander Population: {percent_islander}\")\n",
    "print(f\"Percentage of Other Population: {percent_other}\")\n"
   ]
  },
  {
   "cell_type": "code",
   "execution_count": 56,
   "metadata": {},
   "outputs": [],
   "source": [
    "income_columns = ['0_35K', '35K_60K', '60K-100K', '100K_125K', '125K_150K', '150K_MORE']\n",
    "income_totals = sc_precincts_gdf[income_columns].sum()\n",
    "total_household_population = sc_precincts_gdf['TOT_HOUS22'].sum()\n",
    "income_distribution = (income_totals / total_household_population) * 100"
   ]
  },
  {
   "cell_type": "code",
   "execution_count": 57,
   "metadata": {},
   "outputs": [
    {
     "name": "stdout",
     "output_type": "stream",
     "text": [
      "Total Household Population: 2023085.0\n",
      "Income Distribution: 0_35K        27.430978\n",
      "35K_60K      20.147992\n",
      "60K-100K     22.765232\n",
      "100K_125K     9.222796\n",
      "125K_150K     6.171268\n",
      "150K_MORE    14.261734\n",
      "dtype: float64\n"
     ]
    }
   ],
   "source": [
    "print(f\"Total Household Population: {total_household_population}\")\n",
    "print(f\"Income Distribution: {income_distribution}\")\n"
   ]
  },
  {
   "cell_type": "code",
   "execution_count": 62,
   "metadata": {},
   "outputs": [],
   "source": [
    "income_ranges = ['0_35K', '35K_60K', '60K-100K', '100K_125K', '125K_150K', '150K_MORE']\n",
    "income_distribution_data = dict(zip(income_ranges, income_distribution.values))"
   ]
  },
  {
   "cell_type": "code",
   "execution_count": 68,
   "metadata": {},
   "outputs": [],
   "source": [
    "sc_summary_data = {\n",
    "    \"NAME\": [\"South Carolina\"],\n",
    "    \"TOT_POP\": [state_population],\n",
    "    \"TOT_WHITE\": [white_pop],\n",
    "    \"TOT_BLACK\": [black_pop],\n",
    "    \"TOT_HISP\": [hispanic_pop],\n",
    "    \"TOT_ASIAN\": [asian_pop],\n",
    "    \"TOT_NATIVE\": [native_american_pop],\n",
    "    \"TOT_ISLANDER\": [islander_pop],\n",
    "    \"TOT_OTHER\": [other_pop],\n",
    "    \"DEM_VOT_DIS\": [percent_dem],\n",
    "    \"REP_VOT_DIS\": [percent_rep],\n",
    "    # \"WHITE_DIS\": [percent_white],\n",
    "    # \"BLACK_DIS\": [percent_black],\n",
    "    # \"HISP_DIS\": [percent_hispanic],\n",
    "    # \"ASIAN_DIS\": [percent_asian],\n",
    "    # \"NATIVE_DIS\": [percent_native_american],\n",
    "    # \"ISLAND_DIS\": [percent_islander],\n",
    "    # \"OTHER_DIS\": [percent_other],\n",
    "    \"URBAN_DIS\": [40.0],\n",
    "    \"SUBURBAN_DIS\": [26.3],\n",
    "    \"RURAL_DIS\": [33.7],\n",
    "    \"TOT_HOUS\": [total_household_population],\n",
    "    \"HOUS_INCOME_DIS\": [income_distribution_data],\n",
    "    \"POV_LEVEL\": [32470]\n",
    "}"
   ]
  },
  {
   "cell_type": "code",
   "execution_count": 69,
   "metadata": {},
   "outputs": [],
   "source": [
    "sc_summary_df = pd.DataFrame(sc_summary_data)\n"
   ]
  },
  {
   "cell_type": "code",
   "execution_count": 70,
   "metadata": {},
   "outputs": [],
   "source": [
    "sc_summary_df.to_json('states/south_carolina/summary/south_carolina_summary.json', orient='records', lines=True, indent=4)"
   ]
  },
  {
   "cell_type": "markdown",
   "metadata": {},
   "source": [
    "## Maryland"
   ]
  },
  {
   "cell_type": "code",
   "execution_count": 82,
   "metadata": {},
   "outputs": [],
   "source": [
    "md_precincts_gdf = gpd.read_file('states/maryland/geodata/maryland_precincts.geojson')"
   ]
  },
  {
   "cell_type": "code",
   "execution_count": 83,
   "metadata": {},
   "outputs": [],
   "source": [
    "# # Calculate state population\n",
    "# state_population = md_precincts_gdf['TOT_POP22'].sum()\n",
    "\n",
    "# # Calculate total votes and votes by party\n",
    "# total_votes = md_precincts_gdf['TOT_VOT_DEM_REP'].sum()\n",
    "# votes_dem = md_precincts_gdf['TOT_DEM'].sum()\n",
    "# votes_rep = md_precincts_gdf['TOT_REP'].sum()\n",
    "\n",
    "# # Calculate percentage of votes by party\n",
    "# percent_dem = (votes_dem / total_votes) * 100\n",
    "# percent_rep = (votes_rep / total_votes) * 100\n",
    "\n",
    "# # Calculate total state population\n",
    "# total_state_pop = md_precincts_gdf['TOT_POP22'].sum()\n",
    "\n",
    "# # Calculate population by racial/ethnic groups\n",
    "# white_pop = md_precincts_gdf['WHT_NHSP22'].sum()\n",
    "# black_pop = md_precincts_gdf['BLK_NHSP22'].sum()\n",
    "# hispanic_pop = md_precincts_gdf['HSP_POP22'].sum()\n",
    "# asian_pop = md_precincts_gdf['ASN_NHSP22'].sum()\n",
    "# native_american_pop = md_precincts_gdf['AIA_NHSP22'].sum()\n",
    "# islander_pop = md_precincts_gdf['HPI_NHSP22'].sum()\n",
    "# other_pop = md_precincts_gdf['OTH_NHSP22'].sum()\n",
    "\n",
    "# # Calculate percentage of population by racial/ethnic groups\n",
    "# percent_white = (white_pop / total_state_pop) * 100\n",
    "# percent_black = (black_pop / total_state_pop) * 100\n",
    "# percent_hispanic = (hispanic_pop / total_state_pop) * 100\n",
    "# percent_asian = (asian_pop / total_state_pop) * 100\n",
    "# percent_native_american = (native_american_pop / total_state_pop) * 100\n",
    "# percent_islander = (islander_pop / total_state_pop) * 100\n",
    "# percent_other = (other_pop / total_state_pop) * 100\n"
   ]
  }
 ],
 "metadata": {
  "kernelspec": {
   "display_name": "cse354",
   "language": "python",
   "name": "python3"
  },
  "language_info": {
   "codemirror_mode": {
    "name": "ipython",
    "version": 3
   },
   "file_extension": ".py",
   "mimetype": "text/x-python",
   "name": "python",
   "nbconvert_exporter": "python",
   "pygments_lexer": "ipython3",
   "version": "3.12.1"
  }
 },
 "nbformat": 4,
 "nbformat_minor": 2
}
