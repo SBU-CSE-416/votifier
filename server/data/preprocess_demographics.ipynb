{
 "cells": [
  {
   "cell_type": "code",
   "execution_count": 2,
   "metadata": {},
   "outputs": [],
   "source": [
    "import requests\n",
    "import json\n",
    "import pandas as pd\n",
    "import geopandas as gpd\n",
    "import os"
   ]
  },
  {
   "cell_type": "markdown",
   "metadata": {},
   "source": [
    "# Get data from census.gov api:"
   ]
  },
  {
   "cell_type": "markdown",
   "metadata": {},
   "source": [
    "## Racial Population Data Querying, Cleaning, and Formatting"
   ]
  },
  {
   "cell_type": "code",
   "execution_count": null,
   "metadata": {},
   "outputs": [],
   "source": [
    "API_KEY = ' '\n",
    "API_KEY_END = f'&key={API_KEY}'\n",
    "\n",
    "POPULATION_SCALES = {\n",
    "    \"State\": \"in=state:\",\n",
    "    \"Counties\": \"for=county:*\",\n",
    "    \"CongressionalDistricts\": \"for=congressional%20district:*\"\n",
    "}\n",
    "POPULATION_SCALE_KEYS = {\n",
    "    \"State\": \"\",\n",
    "    \"Counties\": \"counties_\",\n",
    "    \"CongressionalDistricts\": \"cd_\"\n",
    "}\n",
    "STATE_NAMES = {24: \"Maryland\", 45: \"South Carolina\"}\n",
    "STATE_NAMES_LOWER = {24: \"maryland\", 45: \"south_carolina\"}\n",
    "RACE_IDENTIFIERS = {\n",
    "    \"White\": \"S2101_C01_014E\",\n",
    "    \"BlackAfricanAmerican\": \"S2101_C01_015E\",\n",
    "    \"AmericanIndianAlaskaNative\": \"S2101_C01_016E\",\n",
    "    \"Asian\": \"S2101_C01_017E\",\n",
    "    \"NativeHawaiianOtherPacificIslander\": \"S2101_C01_018E\",\n",
    "    \"HispanicOrLatino\": \"S2101_C01_021E\",\n",
    "    \"Other\": \"S2101_C01_019E\"\n",
    "}\n",
    "TOTAL_POP_IDENTIFIER = \"S0101_C01_001E\"\n",
    "VOTING_AGE_POP_IDENTIFIERS = {\n",
    "    \"18-29\": \"S2902_C01_002E\",\n",
    "    \"30-44\": \"S2902_C01_003E\",\n",
    "    \"45-64\": \"S2902_C01_004E\",\n",
    "    \"65+\": \"S2902_C01_005E\"\n",
    "}"
   ]
  },
  {
   "cell_type": "code",
   "execution_count": null,
   "metadata": {},
   "outputs": [],
   "source": [
    "OUTPUT_DIR = 'output2'\n",
    "os.makedirs(OUTPUT_DIR, exist_ok=True)"
   ]
  },
  {
   "cell_type": "code",
   "execution_count": null,
   "metadata": {},
   "outputs": [],
   "source": [
    "def fetch_population_data(state, population_scale, race_key, api_key_end):\n",
    "    \"\"\"\n",
    "    Fetch population data for a specific state, scale, and race.\n",
    "    \"\"\"\n",
    "    base_url = 'https://api.census.gov/data/2022/acs/acs5/subject'\n",
    "    if population_scale == \"State\":\n",
    "        url = f'{base_url}?get=NAME,{RACE_IDENTIFIERS[race_key]}&for=state:{state}{api_key_end}'\n",
    "    else:\n",
    "        scale = POPULATION_SCALES[\"State\"] if population_scale != \"State\" else \"\"\n",
    "        url = (\n",
    "            f'{base_url}?get=NAME,{RACE_IDENTIFIERS[race_key]}&'\n",
    "            f'{POPULATION_SCALES[\"State\"]}{state}&{POPULATION_SCALES[population_scale]}{api_key_end}'\n",
    "        )\n",
    "    response = requests.get(url)\n",
    "    return response\n",
    "\n",
    "def process_data_frame(df, population_scale, state, race_key):\n",
    "    \"\"\"\n",
    "    Process the DataFrame based on the population scale.\n",
    "    \"\"\"\n",
    "    state_name = STATE_NAMES[state]\n",
    "    if population_scale == \"State\":\n",
    "        df.insert(1, \"Year\", [2022] * len(df), False)\n",
    "        df = df.rename(columns={0: \"State\", 2: \"State FIPS Code\"})\n",
    "    elif population_scale == \"Counties\":\n",
    "        df.insert(1, \"Year\", [2022] * len(df), False)\n",
    "        df = df.rename(columns={0: \"County Name\", 1: \"Estimated Population\", 2: \"State FIPS Code\", 3: \"County Number\"})\n",
    "        df['County Name'] = df['County Name'].str.replace(f', {state_name}', '')\n",
    "    elif population_scale == \"CongressionalDistricts\":\n",
    "        df.insert(1, \"Year\", [2022] * len(df), False)\n",
    "        df.insert(2, \"Congress\", [118] * len(df), False)\n",
    "        df = df.rename(columns={0: \"District Name\", 2: \"State FIPS Code\", 3: \"District Number\"})\n",
    "        df['District Name'] = df['District Name'].str.replace(f' \\\\(118th Congress\\\\), {state_name}', '', regex=True)\n",
    "\n",
    "    df = df.rename(columns={1: \"Estimated Population\"})\n",
    "    save_path = f'{OUTPUT_DIR}/{STATE_NAMES_LOWER[state]}_{POPULATION_SCALE_KEYS[population_scale]}estimated_populations_{race_key}.json'\n",
    "    df.to_json(save_path, orient=\"records\", indent=4)\n",
    "    return df\n"
   ]
  },
  {
   "cell_type": "code",
   "execution_count": null,
   "metadata": {},
   "outputs": [],
   "source": [
    "# Main Execution\n",
    "for state in STATE_NAMES:\n",
    "    for population_scale in POPULATION_SCALES:\n",
    "        for race_key in RACE_IDENTIFIERS:\n",
    "            response = fetch_population_data(state, population_scale, race_key, API_KEY_END)\n",
    "            if response.status_code == 200:\n",
    "                try:\n",
    "                    data = response.json()\n",
    "                    df = pd.DataFrame(data[1:], columns=data[0])\n",
    "                    processed_df = process_data_frame(df, population_scale, state, race_key)\n",
    "                    print(processed_df.head())\n",
    "                except Exception as e:\n",
    "                    print(f\"Error processing data for {race_key} in {state}: {e}\")\n",
    "            else:\n",
    "                print(f\"Failed request ({response.status_code}) for {race_key} in {state}\")\n"
   ]
  },
  {
   "cell_type": "markdown",
   "metadata": {},
   "source": [
    "## Block Level demographics data"
   ]
  },
  {
   "cell_type": "markdown",
   "metadata": {},
   "source": [
    "### South Carolina"
   ]
  },
  {
   "cell_type": "code",
   "execution_count": 31,
   "metadata": {},
   "outputs": [
    {
     "name": "stdout",
     "output_type": "stream",
     "text": [
      "Index(['GEOID', 'STATEFP', 'STATE', 'COUNTYFP', 'COUNTY', 'TOT_POP22',\n",
      "       'NHSP_POP22', 'HSP_POP22', 'WHT_NHSP22', 'BLK_NHSP22', 'AIA_NHSP22',\n",
      "       'ASN_NHSP22', 'HPI_NHSP22', 'OTH_NHSP22', '2OM_NHSP22', 'BLK_ALL22',\n",
      "       'AIA_ALL22', 'ASN_ALL22', 'HPI_ALL22', 'OTH_ALL22'],\n",
      "      dtype='object')\n"
     ]
    }
   ],
   "source": [
    "df_sc_race = pd.read_csv('raw/census_block/race/sc_race_2022_bg/sc_race_2022_bg.csv')\n",
    "print(df_sc_race.columns)"
   ]
  },
  {
   "cell_type": "code",
   "execution_count": 32,
   "metadata": {},
   "outputs": [
    {
     "name": "stdout",
     "output_type": "stream",
     "text": [
      "State Population: 5142750\n"
     ]
    }
   ],
   "source": [
    "state_population = df_sc_race['TOT_POP22'].sum()\n",
    "\n",
    "print(f\"State Population: {state_population}\")"
   ]
  },
  {
   "cell_type": "code",
   "execution_count": 39,
   "metadata": {},
   "outputs": [
    {
     "name": "stdout",
     "output_type": "stream",
     "text": [
      "Total Sum from Columns: 5142750\n"
     ]
    }
   ],
   "source": [
    "columns_to_sum = ['HSP_POP22', 'WHT_NHSP22', 'BLK_NHSP22', 'AIA_NHSP22', 'ASN_NHSP22', 'HPI_NHSP22', 'OTH_NHSP22', '2OM_NHSP22']\n",
    "total_sum_from_columns = df_sc_race[columns_to_sum].sum().sum()\n",
    "print(f\"Total Sum from Columns: {total_sum_from_columns}\")"
   ]
  },
  {
   "cell_type": "code",
   "execution_count": 42,
   "metadata": {},
   "outputs": [],
   "source": [
    "df_sc_race['OTH_NHSP22'] = df_sc_race['OTH_NHSP22'] + df_sc_race['2OM_NHSP22']"
   ]
  },
  {
   "cell_type": "code",
   "execution_count": 43,
   "metadata": {},
   "outputs": [],
   "source": [
    "selected_columns = [\n",
    "    \"GEOID\",\n",
    "    \"STATEFP\",\n",
    "    \"STATE\",\n",
    "    \"COUNTYFP\",\n",
    "    \"COUNTY\",\n",
    "    \"TOT_POP22\",\n",
    "    \"NHSP_POP22\",\n",
    "    \"HSP_POP22\",\n",
    "    \"WHT_NHSP22\",\n",
    "    \"BLK_NHSP22\",\n",
    "    \"AIA_NHSP22\",\n",
    "    \"ASN_NHSP22\",\n",
    "    \"HPI_NHSP22\",\n",
    "    \"OTH_NHSP22\",\n",
    "]\n"
   ]
  },
  {
   "cell_type": "code",
   "execution_count": 44,
   "metadata": {},
   "outputs": [],
   "source": [
    "df_sc_race_filtered = df_sc_race[selected_columns]\n"
   ]
  },
  {
   "cell_type": "code",
   "execution_count": 45,
   "metadata": {},
   "outputs": [],
   "source": [
    "path = \"processed_individual/sc_race_block.csv\"\n",
    "df_sc_race_filtered.to_csv(path, index=False)"
   ]
  },
  {
   "cell_type": "markdown",
   "metadata": {},
   "source": [
    "### Maryland"
   ]
  },
  {
   "cell_type": "code",
   "execution_count": 74,
   "metadata": {},
   "outputs": [
    {
     "name": "stdout",
     "output_type": "stream",
     "text": [
      "Index(['GEOID', 'STATEFP', 'STATE', 'COUNTYFP', 'COUNTY', 'TOT_POP22',\n",
      "       'NHSP_POP22', 'HSP_POP22', 'WHT_NHSP22', 'BLK_NHSP22', 'AIA_NHSP22',\n",
      "       'ASN_NHSP22', 'HPI_NHSP22', 'OTH_NHSP22', '2OM_NHSP22', 'BLK_ALL22',\n",
      "       'AIA_ALL22', 'ASN_ALL22', 'HPI_ALL22', 'OTH_ALL22'],\n",
      "      dtype='object')\n"
     ]
    }
   ],
   "source": [
    "df_md_race = pd.read_csv('raw/census_block/race/md_race_2022_bg/md_race_2022_bg.csv')\n",
    "print(df_md_race.columns)"
   ]
  },
  {
   "cell_type": "code",
   "execution_count": 75,
   "metadata": {},
   "outputs": [],
   "source": [
    "df_md_race['OTH_NHSP22'] = df_md_race['OTH_NHSP22'] + df_md_race['2OM_NHSP22']"
   ]
  },
  {
   "cell_type": "code",
   "execution_count": 76,
   "metadata": {},
   "outputs": [],
   "source": [
    "df_md_race_filtered = df_md_race[selected_columns]"
   ]
  },
  {
   "cell_type": "code",
   "execution_count": 77,
   "metadata": {},
   "outputs": [],
   "source": [
    "path = \"processed_individual/md_race_block.csv\"\n",
    "df_md_race_filtered.to_csv(path, index=False)"
   ]
  },
  {
   "cell_type": "markdown",
   "metadata": {},
   "source": [
    "# Preprocess State Summary"
   ]
  },
  {
   "cell_type": "markdown",
   "metadata": {},
   "source": [
    "## South Carolina:"
   ]
  },
  {
   "cell_type": "code",
   "execution_count": null,
   "metadata": {},
   "outputs": [],
   "source": [
    "sc_race_df = pd.read_json(\"states/south_carolina/demographics/south_carolina_precincts_racial_population.json\")\n",
    "sc_econ_df = pd.read_json(\"states/south_carolina/economic/south_carolina_precincts_household_income.json\")\n",
    "sc_election_df = pd.read_json(\"states/south_carolina/election/sc_election.json\")\n",
    "sc_region_type_df = pd.read_json(\"states/south_carolina/geodata/south_carolina_precincts_region_type.json\")"
   ]
  },
  {
   "cell_type": "code",
   "execution_count": null,
   "metadata": {},
   "outputs": [],
   "source": [
    "\n",
    "state_population = sc_race_df['TOT_POP22'].sum()\n",
    "\n",
    "total_state_pop = sc_race_df['TOT_POP22'].sum()\n",
    "\n",
    "white_pop = sc_race_df['WHT_NHSP22'].sum()\n",
    "black_pop = sc_race_df['BLK_NHSP22'].sum()\n",
    "hispanic_pop = sc_race_df['HSP_POP22'].sum()\n",
    "asian_pop = sc_race_df['ASN_NHSP22'].sum()\n",
    "native_american_pop = sc_race_df['AIA_NHSP22'].sum()\n",
    "islander_pop = sc_race_df['HPI_NHSP22'].sum()\n",
    "other_pop = sc_race_df['OTH_NHSP22'].sum()\n",
    "percent_white = (white_pop / total_state_pop) * 100\n",
    "percent_black = (black_pop / total_state_pop) * 100\n",
    "percent_hispanic = (hispanic_pop / total_state_pop) * 100\n",
    "percent_asian = (asian_pop / total_state_pop) * 100\n",
    "percent_native_american = (native_american_pop / total_state_pop) * 100\n",
    "percent_islander = (islander_pop / total_state_pop) * 100\n",
    "percent_other = (other_pop / total_state_pop) * 100"
   ]
  },
  {
   "cell_type": "code",
   "execution_count": null,
   "metadata": {},
   "outputs": [
    {
     "name": "stdout",
     "output_type": "stream",
     "text": [
      "State Population: 5142750\n"
     ]
    }
   ],
   "source": [
    "print(f\"State Population: {state_population}\")\n"
   ]
  },
  {
   "cell_type": "code",
   "execution_count": null,
   "metadata": {},
   "outputs": [],
   "source": [
    "\n",
    "total_votes = sc_election_df['TOT_VOT'].sum()\n",
    "votes_dem = sc_election_df['TOT_DEM'].sum()\n",
    "votes_rep = sc_election_df['TOT_REP'].sum()\n",
    "percent_dem = (votes_dem / total_votes) * 100\n",
    "percent_rep = (votes_rep / total_votes) * 100"
   ]
  },
  {
   "cell_type": "code",
   "execution_count": null,
   "metadata": {},
   "outputs": [
    {
     "name": "stdout",
     "output_type": "stream",
     "text": [
      "Total Votes: 1567833\n",
      "Total Votes for Democrats: 515576\n",
      "Total Votes for Republicans: 1052257\n",
      "Percentage of Votes for Democrats: 32.88462482930261\n",
      "Percentage of Votes for Republicans: 67.11537517069739\n"
     ]
    }
   ],
   "source": [
    "print(f\"Total Votes: {total_votes}\")\n",
    "print(f\"Total Votes for Democrats: {votes_dem}\")\n",
    "print(f\"Total Votes for Republicans: {votes_rep}\")\n",
    "print(f\"Percentage of Votes for Democrats: {percent_dem}\")\n",
    "print(f\"Percentage of Votes for Republicans: {percent_rep}\")"
   ]
  },
  {
   "cell_type": "code",
   "execution_count": null,
   "metadata": {},
   "outputs": [
    {
     "name": "stdout",
     "output_type": "stream",
     "text": [
      "Total State Population: 5142750\n",
      "Total White Population: 3240171\n",
      "Total Black Population: 1316074\n",
      "Total Hispanic Population: 318875\n",
      "Total Asian Population: 84972\n",
      "Total Native American Population: 10304\n",
      "Total Islander Population: 2443\n",
      "Total Other Population: 169911\n",
      "Percentage of White Population: 63.0046375966166\n",
      "Percentage of Black Population: 25.590860920713627\n",
      "Percentage of Hispanic Population: 6.200476398813865\n",
      "Percentage of Asian Population: 1.6522677555782412\n",
      "Percentage of Native American Population: 0.20035972971659133\n",
      "Percentage of Islander Population: 0.047503767439599436\n",
      "Percentage of Other Population: 3.3038938311214814\n"
     ]
    }
   ],
   "source": [
    "print(f\"Total State Population: {total_state_pop}\")\n",
    "print(f\"Total White Population: {white_pop}\")\n",
    "print(f\"Total Black Population: {black_pop}\")\n",
    "print(f\"Total Hispanic Population: {hispanic_pop}\")\n",
    "print(f\"Total Asian Population: {asian_pop}\")\n",
    "print(f\"Total Native American Population: {native_american_pop}\")\n",
    "print(f\"Total Islander Population: {islander_pop}\")\n",
    "print(f\"Total Other Population: {other_pop}\")\n",
    "print(f\"Percentage of White Population: {percent_white}\")\n",
    "print(f\"Percentage of Black Population: {percent_black}\")\n",
    "print(f\"Percentage of Hispanic Population: {percent_hispanic}\")\n",
    "print(f\"Percentage of Asian Population: {percent_asian}\")\n",
    "print(f\"Percentage of Native American Population: {percent_native_american}\")\n",
    "print(f\"Percentage of Islander Population: {percent_islander}\")\n",
    "print(f\"Percentage of Other Population: {percent_other}\")\n"
   ]
  },
  {
   "cell_type": "code",
   "execution_count": null,
   "metadata": {},
   "outputs": [],
   "source": [
    "income_columns = ['0_35K', '35K_60K', '60K-100K', '100K_125K', '125K_150K', '150K_MORE']\n",
    "income_totals = sc_econ_df[income_columns].sum()\n",
    "total_household_population = sc_econ_df['TOT_HOUS22'].sum()\n",
    "income_distribution = (income_totals / total_household_population) * 100"
   ]
  },
  {
   "cell_type": "code",
   "execution_count": null,
   "metadata": {},
   "outputs": [
    {
     "name": "stdout",
     "output_type": "stream",
     "text": [
      "Total Household Population: 2023085\n",
      "Income Distribution: 0_35K        27.430978\n",
      "35K_60K      20.147992\n",
      "60K-100K     22.765232\n",
      "100K_125K     9.222796\n",
      "125K_150K     6.171268\n",
      "150K_MORE    14.261734\n",
      "dtype: float64\n"
     ]
    }
   ],
   "source": [
    "print(f\"Total Household Population: {total_household_population}\")\n",
    "print(f\"Income Distribution: {income_distribution}\")\n"
   ]
  },
  {
   "cell_type": "code",
   "execution_count": null,
   "metadata": {},
   "outputs": [],
   "source": [
    "income_ranges = ['0_35K', '35K_60K', '60K-100K', '100K_125K', '125K_150K', '150K_MORE']\n",
    "income_distribution_data = dict(zip(income_ranges, income_distribution.values))"
   ]
  },
  {
   "cell_type": "code",
   "execution_count": null,
   "metadata": {},
   "outputs": [
    {
     "name": "stdout",
     "output_type": "stream",
     "text": [
      "Rural Count: 1430, Rural Percent: 62.80%\n",
      "Suburban Count: 694, Suburban Percent: 30.48%\n",
      "Urban Count: 153, Urban Percent: 6.72%\n"
     ]
    }
   ],
   "source": [
    "# Calculate counts and percentages\n",
    "region_counts = sc_region_type_df['region_type'].value_counts()\n",
    "region_percentages = (region_counts / len(sc_region_type_df)) * 100\n",
    "\n",
    "# Assign counts to variables\n",
    "rural_count = region_counts.get('rural', 0)\n",
    "suburban_count = region_counts.get('suburban', 0)\n",
    "urban_count = region_counts.get('urban', 0)\n",
    "\n",
    "# Assign percentages to variables\n",
    "rural_percent = region_percentages.get('rural', 0)\n",
    "suburban_percent = region_percentages.get('suburban', 0)\n",
    "urban_percent = region_percentages.get('urban', 0)\n",
    "\n",
    "# Print the results\n",
    "print(f\"Rural Count: {rural_count}, Rural Percent: {rural_percent:.2f}%\")\n",
    "print(f\"Suburban Count: {suburban_count}, Suburban Percent: {suburban_percent:.2f}%\")\n",
    "print(f\"Urban Count: {urban_count}, Urban Percent: {urban_percent:.2f}%\")\n"
   ]
  },
  {
   "cell_type": "code",
   "execution_count": null,
   "metadata": {},
   "outputs": [],
   "source": [
    "sc_summary_data = {\n",
    "    \"NAME\": [\"South Carolina\"],\n",
    "    \"TOT_POP\": [state_population],\n",
    "    \"TOT_WHITE\": [white_pop],\n",
    "    \"TOT_BLACK\": [black_pop],\n",
    "    \"TOT_HISP\": [hispanic_pop],\n",
    "    \"TOT_ASIAN\": [asian_pop],\n",
    "    \"TOT_NATIVE\": [native_american_pop],\n",
    "    \"TOT_ISLANDER\": [islander_pop],\n",
    "    \"TOT_OTHER\": [other_pop],\n",
    "    \"DEM_VOT_DIS\": [percent_dem],\n",
    "    \"REP_VOT_DIS\": [percent_rep],\n",
    "    # \"WHITE_DIS\": [percent_white],\n",
    "    # \"BLACK_DIS\": [percent_black],\n",
    "    # \"HISP_DIS\": [percent_hispanic],\n",
    "    # \"ASIAN_DIS\": [percent_asian],\n",
    "    # \"NATIVE_DIS\": [percent_native_american],\n",
    "    # \"ISLAND_DIS\": [percent_islander],\n",
    "    # \"OTHER_DIS\": [percent_other],\n",
    "    \"URBAN_DIS\": [urban_percent],\n",
    "    \"SUBURBAN_DIS\": [suburban_percent],\n",
    "    \"RURAL_DIS\": [rural_percent],\n",
    "    \"TOT_HOUS\": [total_household_population],\n",
    "    \"HOUS_INCOME_DIS\": [income_distribution_data],\n",
    "    \"POV_LEVEL\": [32470]\n",
    "}"
   ]
  },
  {
   "cell_type": "code",
   "execution_count": null,
   "metadata": {},
   "outputs": [],
   "source": [
    "sc_summary_df = pd.DataFrame(sc_summary_data)\n"
   ]
  },
  {
   "cell_type": "code",
   "execution_count": null,
   "metadata": {},
   "outputs": [],
   "source": [
    "sc_summary_df.to_json('states/south_carolina/summary/south_carolina_summary.json', orient='records', lines=True, indent=4)"
   ]
  },
  {
   "cell_type": "markdown",
   "metadata": {},
   "source": [
    "## Maryland"
   ]
  },
  {
   "cell_type": "code",
   "execution_count": 60,
   "metadata": {},
   "outputs": [],
   "source": [
    "md_race_df = pd.read_json(\"states/maryland/demographics/maryland_precincts_racial_population.json\")\n",
    "md_econ_df = pd.read_json(\"states/maryland/economic/maryland_precincts_household_income.json\")\n",
    "md_election_df = pd.read_json(\"states/maryland/election/md_election.json\")\n",
    "md_region_type_df = pd.read_json(\"states/maryland/geodata/maryland_precincts_region_type.json\")"
   ]
  },
  {
   "cell_type": "code",
   "execution_count": 62,
   "metadata": {},
   "outputs": [],
   "source": [
    "\n",
    "state_population = md_race_df['TOT_POP22'].sum()\n",
    "\n",
    "total_state_pop = md_race_df['TOT_POP22'].sum()\n",
    "\n",
    "white_pop = md_race_df['WHT_NHSP22'].sum()\n",
    "black_pop = md_race_df['BLK_NHSP22'].sum()\n",
    "hispanic_pop = md_race_df['HSP_POP22'].sum()\n",
    "asian_pop = md_race_df['ASN_NHSP22'].sum()\n",
    "native_american_pop = md_race_df['AIA_NHSP22'].sum()\n",
    "islander_pop = md_race_df['HPI_NHSP22'].sum()\n",
    "other_pop = md_race_df['OTH_NHSP22'].sum()\n",
    "percent_white = (white_pop / total_state_pop) * 100\n",
    "percent_black = (black_pop / total_state_pop) * 100\n",
    "percent_hispanic = (hispanic_pop / total_state_pop) * 100\n",
    "percent_asian = (asian_pop / total_state_pop) * 100\n",
    "percent_native_american = (native_american_pop / total_state_pop) * 100\n",
    "percent_islander = (islander_pop / total_state_pop) * 100\n",
    "percent_other = (other_pop / total_state_pop) * 100"
   ]
  },
  {
   "cell_type": "code",
   "execution_count": 63,
   "metadata": {},
   "outputs": [
    {
     "name": "stdout",
     "output_type": "stream",
     "text": [
      "State Population: 6161707\n"
     ]
    }
   ],
   "source": [
    "print(f\"State Population: {state_population}\")\n"
   ]
  },
  {
   "cell_type": "code",
   "execution_count": 64,
   "metadata": {},
   "outputs": [],
   "source": [
    "\n",
    "total_votes = md_election_df['TOT_VOT'].sum()\n",
    "votes_dem = md_election_df['TOT_DEM'].sum()\n",
    "votes_rep = md_election_df['TOT_REP'].sum()\n",
    "percent_dem = (votes_dem / total_votes) * 100\n",
    "percent_rep = (votes_rep / total_votes) * 100"
   ]
  },
  {
   "cell_type": "code",
   "execution_count": 65,
   "metadata": {},
   "outputs": [
    {
     "name": "stdout",
     "output_type": "stream",
     "text": [
      "Total Votes: 2865967\n",
      "Total Votes for Democrats: 1884607\n",
      "Total Votes for Republicans: 981360\n",
      "Percentage of Votes for Democrats: 65.75815422857276\n",
      "Percentage of Votes for Republicans: 34.241845771427236\n"
     ]
    }
   ],
   "source": [
    "print(f\"Total Votes: {total_votes}\")\n",
    "print(f\"Total Votes for Democrats: {votes_dem}\")\n",
    "print(f\"Total Votes for Republicans: {votes_rep}\")\n",
    "print(f\"Percentage of Votes for Democrats: {percent_dem}\")\n",
    "print(f\"Percentage of Votes for Republicans: {percent_rep}\")"
   ]
  },
  {
   "cell_type": "code",
   "execution_count": 66,
   "metadata": {},
   "outputs": [
    {
     "name": "stdout",
     "output_type": "stream",
     "text": [
      "Total State Population: 6161707\n",
      "Total White Population: 2989005\n",
      "Total Black Population: 1815877\n",
      "Total Hispanic Population: 672905\n",
      "Total Asian Population: 396983\n",
      "Total Native American Population: 8480\n",
      "Total Islander Population: 2105\n",
      "Total Other Population: 276352\n",
      "Percentage of White Population: 48.509365992248576\n",
      "Percentage of Black Population: 29.470356185388237\n",
      "Percentage of Hispanic Population: 10.920756212523575\n",
      "Percentage of Asian Population: 6.44274386951538\n",
      "Percentage of Native American Population: 0.13762420056649885\n",
      "Percentage of Islander Population: 0.03416261110760378\n",
      "Percentage of Other Population: 4.484990928650129\n"
     ]
    }
   ],
   "source": [
    "print(f\"Total State Population: {total_state_pop}\")\n",
    "print(f\"Total White Population: {white_pop}\")\n",
    "print(f\"Total Black Population: {black_pop}\")\n",
    "print(f\"Total Hispanic Population: {hispanic_pop}\")\n",
    "print(f\"Total Asian Population: {asian_pop}\")\n",
    "print(f\"Total Native American Population: {native_american_pop}\")\n",
    "print(f\"Total Islander Population: {islander_pop}\")\n",
    "print(f\"Total Other Population: {other_pop}\")\n",
    "print(f\"Percentage of White Population: {percent_white}\")\n",
    "print(f\"Percentage of Black Population: {percent_black}\")\n",
    "print(f\"Percentage of Hispanic Population: {percent_hispanic}\")\n",
    "print(f\"Percentage of Asian Population: {percent_asian}\")\n",
    "print(f\"Percentage of Native American Population: {percent_native_american}\")\n",
    "print(f\"Percentage of Islander Population: {percent_islander}\")\n",
    "print(f\"Percentage of Other Population: {percent_other}\")\n"
   ]
  },
  {
   "cell_type": "code",
   "execution_count": 67,
   "metadata": {},
   "outputs": [],
   "source": [
    "income_columns = ['0_35K', '35K_60K', '60K-100K', '100K_125K', '125K_150K', '150K_MORE']\n",
    "income_totals = md_econ_df[income_columns].sum()\n",
    "total_household_population = md_econ_df['TOT_HOUS22'].sum()\n",
    "income_distribution = (income_totals / total_household_population) * 100"
   ]
  },
  {
   "cell_type": "code",
   "execution_count": 68,
   "metadata": {},
   "outputs": [
    {
     "name": "stdout",
     "output_type": "stream",
     "text": [
      "Total Household Population: 2318124\n",
      "Income Distribution: 0_35K        16.729131\n",
      "35K_60K      13.783603\n",
      "60K-100K     20.215398\n",
      "100K_125K    10.762927\n",
      "125K_150K     8.524522\n",
      "150K_MORE    29.984418\n",
      "dtype: float64\n"
     ]
    }
   ],
   "source": [
    "print(f\"Total Household Population: {total_household_population}\")\n",
    "print(f\"Income Distribution: {income_distribution}\")\n"
   ]
  },
  {
   "cell_type": "code",
   "execution_count": 69,
   "metadata": {},
   "outputs": [],
   "source": [
    "income_ranges = ['0_35K', '35K_60K', '60K-100K', '100K_125K', '125K_150K', '150K_MORE']\n",
    "income_distribution_data = dict(zip(income_ranges, income_distribution.values))"
   ]
  },
  {
   "cell_type": "code",
   "execution_count": 70,
   "metadata": {},
   "outputs": [
    {
     "name": "stdout",
     "output_type": "stream",
     "text": [
      "Rural Count: 913, Rural Percent: 44.69%\n",
      "Suburban Count: 786, Suburban Percent: 38.47%\n",
      "Urban Count: 344, Urban Percent: 16.84%\n"
     ]
    }
   ],
   "source": [
    "# Calculate counts and percentages\n",
    "region_counts = md_region_type_df['region_type'].value_counts()\n",
    "region_percentages = (region_counts / len(md_region_type_df)) * 100\n",
    "\n",
    "# Assign counts to variables\n",
    "rural_count = region_counts.get('rural', 0)\n",
    "suburban_count = region_counts.get('suburban', 0)\n",
    "urban_count = region_counts.get('urban', 0)\n",
    "\n",
    "# Assign percentages to variables\n",
    "rural_percent = region_percentages.get('rural', 0)\n",
    "suburban_percent = region_percentages.get('suburban', 0)\n",
    "urban_percent = region_percentages.get('urban', 0)\n",
    "\n",
    "# Print the results\n",
    "print(f\"Rural Count: {rural_count}, Rural Percent: {rural_percent:.2f}%\")\n",
    "print(f\"Suburban Count: {suburban_count}, Suburban Percent: {suburban_percent:.2f}%\")\n",
    "print(f\"Urban Count: {urban_count}, Urban Percent: {urban_percent:.2f}%\")\n"
   ]
  },
  {
   "cell_type": "code",
   "execution_count": 74,
   "metadata": {},
   "outputs": [],
   "source": [
    "md_summary_data = {\n",
    "    \"NAME\": [\"Maryland\"],\n",
    "    \"TOT_POP\": [state_population],\n",
    "    \"TOT_WHITE\": [white_pop],\n",
    "    \"TOT_BLACK\": [black_pop],\n",
    "    \"TOT_HISP\": [hispanic_pop],\n",
    "    \"TOT_ASIAN\": [asian_pop],\n",
    "    \"TOT_NATIVE\": [native_american_pop],\n",
    "    \"TOT_ISLANDER\": [islander_pop],\n",
    "    \"TOT_OTHER\": [other_pop],\n",
    "    \"DEM_VOT_DIS\": [percent_dem],\n",
    "    \"REP_VOT_DIS\": [percent_rep],\n",
    "    # \"WHITE_DIS\": [percent_white],\n",
    "    # \"BLACK_DIS\": [percent_black],\n",
    "    # \"HISP_DIS\": [percent_hispanic],\n",
    "    # \"ASIAN_DIS\": [percent_asian],\n",
    "    # \"NATIVE_DIS\": [percent_native_american],\n",
    "    # \"ISLAND_DIS\": [percent_islander],\n",
    "    # \"OTHER_DIS\": [percent_other],\n",
    "    \"URBAN_DIS\": [urban_percent],\n",
    "    \"SUBURBAN_DIS\": [suburban_percent],\n",
    "    \"RURAL_DIS\": [rural_percent],\n",
    "    \"TOT_HOUS\": [total_household_population],\n",
    "    \"HOUS_INCOME_DIS\": [income_distribution_data],\n",
    "    \"POV_LEVEL\": [32470]\n",
    "}"
   ]
  },
  {
   "cell_type": "code",
   "execution_count": 75,
   "metadata": {},
   "outputs": [],
   "source": [
    "md_summary_df = pd.DataFrame(md_summary_data)\n"
   ]
  },
  {
   "cell_type": "code",
   "execution_count": 76,
   "metadata": {},
   "outputs": [],
   "source": [
    "md_summary_df.to_json('states/maryland/summary/maryland_summary.json', orient='records', lines=True, indent=4)"
   ]
  }
 ],
 "metadata": {
  "kernelspec": {
   "display_name": "cse354",
   "language": "python",
   "name": "python3"
  },
  "language_info": {
   "codemirror_mode": {
    "name": "ipython",
    "version": 3
   },
   "file_extension": ".py",
   "mimetype": "text/x-python",
   "name": "python",
   "nbconvert_exporter": "python",
   "pygments_lexer": "ipython3",
   "version": "3.11.10"
  }
 },
 "nbformat": 4,
 "nbformat_minor": 2
}
