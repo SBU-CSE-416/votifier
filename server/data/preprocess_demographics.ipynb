{
 "cells": [
  {
   "cell_type": "code",
   "execution_count": 4,
   "metadata": {},
   "outputs": [],
   "source": [
    "import json\n",
    "import pandas as pd\n",
    "import geopandas as gpd"
   ]
  },
  {
   "cell_type": "markdown",
   "metadata": {},
   "source": [
    "## Block Level demographics data"
   ]
  },
  {
   "cell_type": "code",
   "execution_count": 15,
   "metadata": {},
   "outputs": [],
   "source": [
    "def preprocess_state_summary(df, file_path):\n",
    "    state_population = df['TOT_POP22'].sum()\n",
    "    df['OTH_NHSP22'] = df['OTH_NHSP22'] + df['2OM_NHSP22']\n",
    "    columns_to_sum = ['HSP_POP22', 'WHT_NHSP22', 'BLK_NHSP22', 'AIA_NHSP22', 'ASN_NHSP22', 'HPI_NHSP22', 'OTH_NHSP22']\n",
    "    total_sum_from_columns = df[columns_to_sum].sum().sum()\n",
    "    print(f\"Total Sum from Columns: {total_sum_from_columns}\")\n",
    "    selected_columns = [\n",
    "    \"GEOID\",\n",
    "    \"STATEFP\",\n",
    "    \"STATE\",\n",
    "    \"COUNTYFP\",\n",
    "    \"COUNTY\",\n",
    "    \"TOT_POP22\",\n",
    "    \"NHSP_POP22\",\n",
    "    \"HSP_POP22\",\n",
    "    \"WHT_NHSP22\",\n",
    "    \"BLK_NHSP22\",\n",
    "    \"AIA_NHSP22\",\n",
    "    \"ASN_NHSP22\",\n",
    "    \"HPI_NHSP22\",\n",
    "    \"OTH_NHSP22\",\n",
    "]\n",
    "    df_filtered = df[selected_columns]\n",
    "    df_filtered.to_csv(file_path, index=False)"
   ]
  },
  {
   "cell_type": "markdown",
   "metadata": {},
   "source": [
    "### South Carolina"
   ]
  },
  {
   "cell_type": "code",
   "execution_count": 16,
   "metadata": {},
   "outputs": [],
   "source": [
    "df_sc_race = pd.read_csv('raw/census_block/race/sc_race_2022_bg/sc_race_2022_bg.csv')\n"
   ]
  },
  {
   "cell_type": "code",
   "execution_count": 17,
   "metadata": {},
   "outputs": [
    {
     "name": "stdout",
     "output_type": "stream",
     "text": [
      "State Population: 5142750\n"
     ]
    }
   ],
   "source": [
    "state_population = df_sc_race['TOT_POP22'].sum()\n",
    "\n",
    "print(f\"State Population: {state_population}\")"
   ]
  },
  {
   "cell_type": "code",
   "execution_count": 18,
   "metadata": {},
   "outputs": [
    {
     "name": "stdout",
     "output_type": "stream",
     "text": [
      "Total Sum from Columns: 5142750\n"
     ]
    }
   ],
   "source": [
    "columns_to_sum = ['HSP_POP22', 'WHT_NHSP22', 'BLK_NHSP22', 'AIA_NHSP22', 'ASN_NHSP22', 'HPI_NHSP22', 'OTH_NHSP22', '2OM_NHSP22']\n",
    "total_sum_from_columns = df_sc_race[columns_to_sum].sum().sum()\n",
    "print(f\"Total Sum from Columns: {total_sum_from_columns}\")"
   ]
  },
  {
   "cell_type": "code",
   "execution_count": 19,
   "metadata": {},
   "outputs": [],
   "source": [
    "df_sc_race['OTH_NHSP22'] = df_sc_race['OTH_NHSP22'] + df_sc_race['2OM_NHSP22'] + df_sc_race['AIA_NHSP22'] + df_sc_race['HPI_NHSP22']"
   ]
  },
  {
   "cell_type": "code",
   "execution_count": 20,
   "metadata": {},
   "outputs": [],
   "source": [
    "selected_columns = [\n",
    "    \"GEOID\",\n",
    "    \"STATEFP\",\n",
    "    \"STATE\",\n",
    "    \"COUNTYFP\",\n",
    "    \"COUNTY\",\n",
    "    \"TOT_POP22\",\n",
    "    \"NHSP_POP22\",\n",
    "    \"HSP_POP22\",\n",
    "    \"WHT_NHSP22\",\n",
    "    \"BLK_NHSP22\",\n",
    "    \"ASN_NHSP22\",\n",
    "    \"OTH_NHSP22\",\n",
    "]\n"
   ]
  },
  {
   "cell_type": "code",
   "execution_count": 21,
   "metadata": {},
   "outputs": [],
   "source": [
    "df_sc_race_filtered = df_sc_race[selected_columns]\n"
   ]
  },
  {
   "cell_type": "code",
   "execution_count": 22,
   "metadata": {},
   "outputs": [],
   "source": [
    "path = \"processed_individual/sc_race_block.csv\"\n",
    "df_sc_race_filtered.to_csv(path, index=False)\n"
   ]
  },
  {
   "cell_type": "markdown",
   "metadata": {},
   "source": [
    "### Maryland"
   ]
  },
  {
   "cell_type": "code",
   "execution_count": 74,
   "metadata": {},
   "outputs": [
    {
     "name": "stdout",
     "output_type": "stream",
     "text": [
      "Index(['GEOID', 'STATEFP', 'STATE', 'COUNTYFP', 'COUNTY', 'TOT_POP22',\n",
      "       'NHSP_POP22', 'HSP_POP22', 'WHT_NHSP22', 'BLK_NHSP22', 'AIA_NHSP22',\n",
      "       'ASN_NHSP22', 'HPI_NHSP22', 'OTH_NHSP22', '2OM_NHSP22', 'BLK_ALL22',\n",
      "       'AIA_ALL22', 'ASN_ALL22', 'HPI_ALL22', 'OTH_ALL22'],\n",
      "      dtype='object')\n"
     ]
    }
   ],
   "source": [
    "df_md_race = pd.read_csv('raw/census_block/race/md_race_2022_bg/md_race_2022_bg.csv')\n",
    "print(df_md_race.columns)"
   ]
  },
  {
   "cell_type": "code",
   "execution_count": null,
   "metadata": {},
   "outputs": [],
   "source": [
    "df_md_race['OTH_NHSP22'] = df_md_race['OTH_NHSP22'] + df_md_race['2OM_NHSP22'] + df_md_race['AIA_NHSP22'] + df_md_race['HPI_NHSP22']"
   ]
  },
  {
   "cell_type": "code",
   "execution_count": 76,
   "metadata": {},
   "outputs": [],
   "source": [
    "df_md_race_filtered = df_md_race[selected_columns]"
   ]
  },
  {
   "cell_type": "code",
   "execution_count": 77,
   "metadata": {},
   "outputs": [],
   "source": [
    "path = \"processed_individual/md_race_block.csv\"\n",
    "df_md_race_filtered.to_csv(path, index=False)"
   ]
  },
  {
   "cell_type": "markdown",
   "metadata": {},
   "source": [
    "# Preprocess State Summary"
   ]
  },
  {
   "cell_type": "markdown",
   "metadata": {},
   "source": [
    "## South Carolina:"
   ]
  },
  {
   "cell_type": "code",
   "execution_count": 3,
   "metadata": {},
   "outputs": [],
   "source": [
    "party_columns = {\n",
    "    'DEM': 'TOT_DEM',\n",
    "    'REP': 'TOT_REP'\n",
    "}\n",
    "race_columns = {\n",
    "    'WHITE': 'WHT_NHSP22',\n",
    "    'BLACK': 'BLK_NHSP22',\n",
    "    'HISPANIC': 'HSP_POP22',\n",
    "    'ASIAN': 'ASN_NHSP22',\n",
    "    # 'NATIVE_AMERICAN': 'AIA_NHSP22',\n",
    "    # 'ISLANDER': 'AIA_NHSP22',\n",
    "    'OTHER_RACE': 'OTH_NHSP22'\n",
    "}\n",
    "income_columns = ['0_35K', '35K_60K', '60K_100K', '100K_125K', '125K_150K', '150K_MORE']\n",
    "\n",
    "POVERTY_LEVEL = 32470 # Federal poverty level (FPL) for a family of five in 2022\n"
   ]
  },
  {
   "cell_type": "markdown",
   "metadata": {},
   "source": [
    "### Functions:"
   ]
  },
  {
   "cell_type": "code",
   "execution_count": 5,
   "metadata": {},
   "outputs": [],
   "source": [
    "def calculate_population_distribution(df, total_col, race_columns):\n",
    "    total_population = int(df[total_col].sum()) \n",
    "    population_summary = {'TOTAL_POPULATION': total_population}\n",
    "    \n",
    "    race_percentages = []\n",
    "    for race, col in race_columns.items():\n",
    "        race_total_population = df[col].sum()\n",
    "        race_percent = (race_total_population / total_population) * 100\n",
    "        race_percentages.append(round(race_percent))\n",
    "    \n",
    "    # Adjust the last percentage to ensure the sum equals 100\n",
    "    adjustment = 100 - sum(race_percentages)\n",
    "    race_percentages[-1] += adjustment\n",
    "    \n",
    "    # Build the summary dictionary\n",
    "    for i, (race, _) in enumerate(race_columns.items()):\n",
    "        population_summary[f'{race}_PERCENT'] = race_percentages[i]\n",
    "    \n",
    "    return population_summary\n"
   ]
  },
  {
   "cell_type": "code",
   "execution_count": 6,
   "metadata": {},
   "outputs": [],
   "source": [
    "def calculate_election_distribution(df, total_votes_col, party_columns):\n",
    "    total_votes = int(df[total_votes_col].sum()) \n",
    "    election_summary = {'TOTAL_VOTES': total_votes}\n",
    "    \n",
    "    party_percentages = []\n",
    "    for party, col in party_columns.items():\n",
    "        party_votes = int(df[col].sum())\n",
    "        election_summary[f'{party}_VOTES'] = party_votes\n",
    "        party_percentages.append((party, (party_votes / total_votes) * 100))\n",
    "    \n",
    "    # Round percentages and adjust the last one\n",
    "    rounded_percentages = [round(percent) for _, percent in party_percentages]\n",
    "    adjustment = 100 - sum(rounded_percentages)\n",
    "    rounded_percentages[-1] += adjustment  # Adjust the last percentage\n",
    "    \n",
    "    for i, (party, _) in enumerate(party_percentages):\n",
    "        election_summary[f'{party}_PERCENT'] = rounded_percentages[i]\n",
    "    \n",
    "    return election_summary"
   ]
  },
  {
   "cell_type": "code",
   "execution_count": 7,
   "metadata": {},
   "outputs": [],
   "source": [
    "def calculate_income_distribution(df, total_household_col, income_columns):\n",
    "    income_totals = df[income_columns].sum().astype(int)\n",
    "    total_households = int(df[total_household_col].sum())\n",
    "    \n",
    "    # Calculate initial percentages\n",
    "    income_percentages = (income_totals / total_households) * 100\n",
    "    \n",
    "    # Round percentages and adjust the last one\n",
    "    rounded_percentages = income_percentages.round().astype(int).tolist()\n",
    "    adjustment = 100 - sum(rounded_percentages)\n",
    "    rounded_percentages[-1] += adjustment  # Adjust the last percentage\n",
    "    \n",
    "    # Create the dictionary with adjusted percentages\n",
    "    income_distribution = {\n",
    "        col: rounded_percentages[i] for i, col in enumerate(income_columns)\n",
    "    }\n",
    "    \n",
    "    household_income_summary = {\n",
    "        'TOTAL_HOUSEHOLDS': total_households,\n",
    "        'HOUSEHOLD_INCOME_DISTRIBUTION': income_distribution\n",
    "    }\n",
    "    return household_income_summary\n"
   ]
  },
  {
   "cell_type": "code",
   "execution_count": 8,
   "metadata": {},
   "outputs": [],
   "source": [
    "def calculate_region_distribution(df, population_col, region_col):\n",
    "    # Calculate population totals for each region\n",
    "    rural_population = int(df.loc[df[region_col] == \"rural\", population_col].sum())\n",
    "    suburban_population = int(df.loc[df[region_col] == \"suburban\", population_col].sum())\n",
    "    urban_population = int(df.loc[df[region_col] == \"urban\", population_col].sum())\n",
    "    \n",
    "    total_population = rural_population + suburban_population + urban_population\n",
    "    \n",
    "    # Calculate percentages\n",
    "    if total_population > 0:\n",
    "        rural_percent = (rural_population / total_population) * 100\n",
    "        suburban_percent = (suburban_population / total_population) * 100\n",
    "        urban_percent = (urban_population / total_population) * 100\n",
    "\n",
    "        # Round percentages\n",
    "        percentages = [round(rural_percent), round(suburban_percent), round(urban_percent)]\n",
    "        \n",
    "        # Adjust the last percentage to ensure the total sums to 100\n",
    "        adjustment = 100 - sum(percentages)\n",
    "        percentages[-1] += adjustment\n",
    "\n",
    "        # Assign the adjusted percentages\n",
    "        rural_percent, suburban_percent, urban_percent = percentages\n",
    "    else:\n",
    "        rural_percent = suburban_percent = urban_percent = 0\n",
    "    \n",
    "    # Create summary dictionary\n",
    "    region_summary = {\n",
    "        'RURAL_PERCENT': rural_percent,\n",
    "        'SUBURBAN_PERCENT': suburban_percent,\n",
    "        'URBAN_PERCENT': urban_percent\n",
    "    }\n",
    "    \n",
    "    return region_summary\n"
   ]
  },
  {
   "cell_type": "markdown",
   "metadata": {},
   "source": [
    "### Import data"
   ]
  },
  {
   "cell_type": "code",
   "execution_count": 9,
   "metadata": {},
   "outputs": [],
   "source": [
    "sc_race_df = pd.read_json(\"states/south_carolina/demographics/south_carolina_precincts_racial_population.json\")\n",
    "sc_econ_df = pd.read_json(\"states/south_carolina/economic/south_carolina_precincts_household_income.json\")\n",
    "sc_election_df = pd.read_json(\"states/south_carolina/election/sc_election.json\")\n",
    "sc_region_type_df = pd.read_json(\"states/south_carolina/geodata/south_carolina_precincts_region_type.json\")"
   ]
  },
  {
   "cell_type": "code",
   "execution_count": 10,
   "metadata": {},
   "outputs": [
    {
     "ename": "KeyError",
     "evalue": "'AIA_NHSP22'",
     "output_type": "error",
     "traceback": [
      "\u001b[0;31m---------------------------------------------------------------------------\u001b[0m",
      "\u001b[0;31mKeyError\u001b[0m                                  Traceback (most recent call last)",
      "File \u001b[0;32m~/miniconda3/envs/cse354/lib/python3.11/site-packages/pandas/core/indexes/base.py:3805\u001b[0m, in \u001b[0;36mIndex.get_loc\u001b[0;34m(self, key)\u001b[0m\n\u001b[1;32m   3804\u001b[0m \u001b[38;5;28;01mtry\u001b[39;00m:\n\u001b[0;32m-> 3805\u001b[0m     \u001b[38;5;28;01mreturn\u001b[39;00m \u001b[38;5;28;43mself\u001b[39;49m\u001b[38;5;241;43m.\u001b[39;49m\u001b[43m_engine\u001b[49m\u001b[38;5;241;43m.\u001b[39;49m\u001b[43mget_loc\u001b[49m\u001b[43m(\u001b[49m\u001b[43mcasted_key\u001b[49m\u001b[43m)\u001b[49m\n\u001b[1;32m   3806\u001b[0m \u001b[38;5;28;01mexcept\u001b[39;00m \u001b[38;5;167;01mKeyError\u001b[39;00m \u001b[38;5;28;01mas\u001b[39;00m err:\n",
      "File \u001b[0;32mindex.pyx:167\u001b[0m, in \u001b[0;36mpandas._libs.index.IndexEngine.get_loc\u001b[0;34m()\u001b[0m\n",
      "File \u001b[0;32mindex.pyx:196\u001b[0m, in \u001b[0;36mpandas._libs.index.IndexEngine.get_loc\u001b[0;34m()\u001b[0m\n",
      "File \u001b[0;32mpandas/_libs/hashtable_class_helper.pxi:7081\u001b[0m, in \u001b[0;36mpandas._libs.hashtable.PyObjectHashTable.get_item\u001b[0;34m()\u001b[0m\n",
      "File \u001b[0;32mpandas/_libs/hashtable_class_helper.pxi:7089\u001b[0m, in \u001b[0;36mpandas._libs.hashtable.PyObjectHashTable.get_item\u001b[0;34m()\u001b[0m\n",
      "\u001b[0;31mKeyError\u001b[0m: 'AIA_NHSP22'",
      "\nThe above exception was the direct cause of the following exception:\n",
      "\u001b[0;31mKeyError\u001b[0m                                  Traceback (most recent call last)",
      "Cell \u001b[0;32mIn[10], line 1\u001b[0m\n\u001b[0;32m----> 1\u001b[0m sc_race_df[\u001b[38;5;124m'\u001b[39m\u001b[38;5;124mOTH_NHSP22\u001b[39m\u001b[38;5;124m'\u001b[39m] \u001b[38;5;241m=\u001b[39m sc_race_df[\u001b[38;5;124m'\u001b[39m\u001b[38;5;124mOTH_NHSP22\u001b[39m\u001b[38;5;124m'\u001b[39m] \u001b[38;5;241m+\u001b[39m \u001b[43msc_race_df\u001b[49m\u001b[43m[\u001b[49m\u001b[38;5;124;43m'\u001b[39;49m\u001b[38;5;124;43mAIA_NHSP22\u001b[39;49m\u001b[38;5;124;43m'\u001b[39;49m\u001b[43m]\u001b[49m \u001b[38;5;241m+\u001b[39m sc_race_df[\u001b[38;5;124m'\u001b[39m\u001b[38;5;124mAIA_NHSP22\u001b[39m\u001b[38;5;124m'\u001b[39m]\n",
      "File \u001b[0;32m~/miniconda3/envs/cse354/lib/python3.11/site-packages/pandas/core/frame.py:4102\u001b[0m, in \u001b[0;36mDataFrame.__getitem__\u001b[0;34m(self, key)\u001b[0m\n\u001b[1;32m   4100\u001b[0m \u001b[38;5;28;01mif\u001b[39;00m \u001b[38;5;28mself\u001b[39m\u001b[38;5;241m.\u001b[39mcolumns\u001b[38;5;241m.\u001b[39mnlevels \u001b[38;5;241m>\u001b[39m \u001b[38;5;241m1\u001b[39m:\n\u001b[1;32m   4101\u001b[0m     \u001b[38;5;28;01mreturn\u001b[39;00m \u001b[38;5;28mself\u001b[39m\u001b[38;5;241m.\u001b[39m_getitem_multilevel(key)\n\u001b[0;32m-> 4102\u001b[0m indexer \u001b[38;5;241m=\u001b[39m \u001b[38;5;28;43mself\u001b[39;49m\u001b[38;5;241;43m.\u001b[39;49m\u001b[43mcolumns\u001b[49m\u001b[38;5;241;43m.\u001b[39;49m\u001b[43mget_loc\u001b[49m\u001b[43m(\u001b[49m\u001b[43mkey\u001b[49m\u001b[43m)\u001b[49m\n\u001b[1;32m   4103\u001b[0m \u001b[38;5;28;01mif\u001b[39;00m is_integer(indexer):\n\u001b[1;32m   4104\u001b[0m     indexer \u001b[38;5;241m=\u001b[39m [indexer]\n",
      "File \u001b[0;32m~/miniconda3/envs/cse354/lib/python3.11/site-packages/pandas/core/indexes/base.py:3812\u001b[0m, in \u001b[0;36mIndex.get_loc\u001b[0;34m(self, key)\u001b[0m\n\u001b[1;32m   3807\u001b[0m     \u001b[38;5;28;01mif\u001b[39;00m \u001b[38;5;28misinstance\u001b[39m(casted_key, \u001b[38;5;28mslice\u001b[39m) \u001b[38;5;129;01mor\u001b[39;00m (\n\u001b[1;32m   3808\u001b[0m         \u001b[38;5;28misinstance\u001b[39m(casted_key, abc\u001b[38;5;241m.\u001b[39mIterable)\n\u001b[1;32m   3809\u001b[0m         \u001b[38;5;129;01mand\u001b[39;00m \u001b[38;5;28many\u001b[39m(\u001b[38;5;28misinstance\u001b[39m(x, \u001b[38;5;28mslice\u001b[39m) \u001b[38;5;28;01mfor\u001b[39;00m x \u001b[38;5;129;01min\u001b[39;00m casted_key)\n\u001b[1;32m   3810\u001b[0m     ):\n\u001b[1;32m   3811\u001b[0m         \u001b[38;5;28;01mraise\u001b[39;00m InvalidIndexError(key)\n\u001b[0;32m-> 3812\u001b[0m     \u001b[38;5;28;01mraise\u001b[39;00m \u001b[38;5;167;01mKeyError\u001b[39;00m(key) \u001b[38;5;28;01mfrom\u001b[39;00m \u001b[38;5;21;01merr\u001b[39;00m\n\u001b[1;32m   3813\u001b[0m \u001b[38;5;28;01mexcept\u001b[39;00m \u001b[38;5;167;01mTypeError\u001b[39;00m:\n\u001b[1;32m   3814\u001b[0m     \u001b[38;5;66;03m# If we have a listlike key, _check_indexing_error will raise\u001b[39;00m\n\u001b[1;32m   3815\u001b[0m     \u001b[38;5;66;03m#  InvalidIndexError. Otherwise we fall through and re-raise\u001b[39;00m\n\u001b[1;32m   3816\u001b[0m     \u001b[38;5;66;03m#  the TypeError.\u001b[39;00m\n\u001b[1;32m   3817\u001b[0m     \u001b[38;5;28mself\u001b[39m\u001b[38;5;241m.\u001b[39m_check_indexing_error(key)\n",
      "\u001b[0;31mKeyError\u001b[0m: 'AIA_NHSP22'"
     ]
    }
   ],
   "source": [
    "sc_race_df['OTH_NHSP22'] = sc_race_df['OTH_NHSP22'] + sc_race_df['AIA_NHSP22'] + sc_race_df['AIA_NHSP22']"
   ]
  },
  {
   "cell_type": "markdown",
   "metadata": {},
   "source": [
    "### State and racial population"
   ]
  },
  {
   "cell_type": "code",
   "execution_count": 217,
   "metadata": {},
   "outputs": [],
   "source": [
    "population_summary = calculate_population_distribution(sc_race_df, 'TOT_POP22', race_columns)\n",
    "election_summary = calculate_election_distribution(sc_election_df, 'TOT_VOT', party_columns)\n",
    "income_summary = calculate_income_distribution(sc_econ_df, 'TOT_HOUS22', income_columns)\n",
    "region_summary = calculate_region_distribution(sc_region_type_df, \"TOT_POP22\", \"region_type\")\n"
   ]
  },
  {
   "cell_type": "markdown",
   "metadata": {},
   "source": [
    "### Create Data Summary for State"
   ]
  },
  {
   "cell_type": "code",
   "execution_count": 218,
   "metadata": {},
   "outputs": [],
   "source": [
    "sc_summary_data = {\n",
    "    \"NAME\": \"South Carolina\",\n",
    "    **population_summary,\n",
    "    **election_summary,\n",
    "    **income_summary,\n",
    "    **region_summary,\n",
    "    \"POVERTY_LEVEL\": int(POVERTY_LEVEL) \n",
    "}\n"
   ]
  },
  {
   "cell_type": "code",
   "execution_count": 219,
   "metadata": {},
   "outputs": [],
   "source": [
    "with open(\"states/south_carolina/summary/south_carolina_summary.json\", \"w\") as file:\n",
    "    json.dump(sc_summary_data, file, indent=4)"
   ]
  },
  {
   "cell_type": "markdown",
   "metadata": {},
   "source": [
    "## Maryland"
   ]
  },
  {
   "cell_type": "code",
   "execution_count": 51,
   "metadata": {},
   "outputs": [],
   "source": [
    "md_race_df = pd.read_json(\"states/maryland/demographics/maryland_precincts_racial_population.json\")\n",
    "md_econ_df = pd.read_json(\"states/maryland/economic/maryland_precincts_household_income.json\")\n",
    "md_election_df = pd.read_json(\"states/maryland/election/md_election_cd.json\")\n",
    "md_region_type_df = pd.read_json(\"states/maryland/geodata/maryland_precincts_region_type.json\")"
   ]
  },
  {
   "cell_type": "code",
   "execution_count": 93,
   "metadata": {},
   "outputs": [],
   "source": [
    "md_population_summary = calculate_population_distribution(md_race_df, 'TOT_POP22', race_columns)\n",
    "md_election_summary = calculate_election_distribution(md_election_df, 'TOT_VOT', party_columns)\n",
    "md_income_summary = calculate_income_distribution(md_econ_df, 'TOT_HOUS22', income_columns)\n",
    "md_region_summary = calculate_region_distribution(md_region_type_df, \"TOT_POP22\", \"region_type\")"
   ]
  },
  {
   "cell_type": "code",
   "execution_count": 94,
   "metadata": {},
   "outputs": [],
   "source": [
    "md_summary_data = {\n",
    "    \"NAME\": \"Maryland\",\n",
    "    **md_population_summary,\n",
    "    **md_election_summary,\n",
    "    **md_income_summary,\n",
    "    **md_region_summary,\n",
    "    \"POVERTY_LEVEL\": float(POVERTY_LEVEL) \n",
    "}"
   ]
  },
  {
   "cell_type": "code",
   "execution_count": 95,
   "metadata": {},
   "outputs": [],
   "source": [
    "with open(\"states/maryland/summary/maryland_summary.json\", \"w\") as file:\n",
    "    json.dump(md_summary_data, file, indent=4)"
   ]
  },
  {
   "cell_type": "markdown",
   "metadata": {},
   "source": [
    "# Preprocess Congressional District Summary"
   ]
  },
  {
   "cell_type": "markdown",
   "metadata": {},
   "source": [
    "## Preprocess Congressional District Summary South Carolina"
   ]
  },
  {
   "cell_type": "code",
   "execution_count": 34,
   "metadata": {},
   "outputs": [],
   "source": [
    "rep_mapping = {\n",
    "    \"GCON01RMAC\": {\"REPRESENTATIVE\": \"Nancy Mace\", \"PARTY\": \"Republican\", \"RACE\": \"White\", \"District\": 1},\n",
    "    \"GCON02RWIL\": {\"REPRESENTATIVE\": \"Joe Wilson\", \"PARTY\": \"Republican\", \"RACE\": \"White\", \"District\": 2},\n",
    "    \"GCON03RDUN\": {\"REPRESENTATIVE\": \"Jeff Duncan\", \"PARTY\": \"Republican\", \"RACE\": \"White\", \"District\": 3},\n",
    "    \"GCON04RTIM\": {\"REPRESENTATIVE\": \"William Timmons\", \"PARTY\": \"Republican\", \"RACE\": \"White\", \"District\": 4},\n",
    "    \"GCON05RNOR\": {\"REPRESENTATIVE\": \"Ralph Norman\", \"PARTY\": \"Republican\", \"RACE\": \"White\", \"District\": 5},\n",
    "    \"GCON06DCLY\": {\"REPRESENTATIVE\": \"James E. Clyburn\", \"PARTY\": \"Democratic\", \"RACE\": \"White\", \"District\": 6},\n",
    "    \"GCON07RFRY\": {\"REPRESENTATIVE\": \"Russell Fry\", \"PARTY\": \"Republican\", \"RACE\": \"White\", \"District\": 7}\n",
    "}\n"
   ]
  },
  {
   "cell_type": "code",
   "execution_count": 12,
   "metadata": {},
   "outputs": [],
   "source": [
    "def add_representative_party_info(df, mapping, district_col=\"CONG_DIST\"):\n",
    "    \"\"\"\n",
    "    Adds 'Representative' and 'Party' columns to a DataFrame based on a district-to-representative mapping.\n",
    "\n",
    "    :param df: pandas DataFrame containing district-level data\n",
    "    :param mapping: Dictionary with representative and party information\n",
    "    :param district_col: Name of the column in the DataFrame containing district identifiers\n",
    "    :return: Modified DataFrame with 'Representative' and 'Party' columns added\n",
    "    \"\"\"\n",
    "    df[\"REPRESENTATIVE\"] = None\n",
    "    df[\"PARTY\"] = None\n",
    "    df[\"RACE\"] = None\n",
    "\n",
    "    for index, row in df.iterrows():\n",
    "        district = row[district_col]\n",
    "\n",
    "        representative = None\n",
    "        party = None\n",
    "        race = None\n",
    "        for key, rep in mapping.items():\n",
    "            if rep[\"District\"] == district:\n",
    "                representative = rep[\"REPRESENTATIVE\"]\n",
    "                party = rep[\"PARTY\"]\n",
    "                race = rep[\"RACE\"]\n",
    "                break  \n",
    "    \n",
    "        df.at[index, \"REPRESENTATIVE\"] = representative\n",
    "        df.at[index, \"PARTY\"] = party\n",
    "        df.at[index, \"RACE\"] = race\n",
    "\n",
    "    return df\n"
   ]
  },
  {
   "cell_type": "code",
   "execution_count": 33,
   "metadata": {},
   "outputs": [],
   "source": [
    "def add_racial_population_percentages(df, precinct_data, district_col=\"CONG_DIST\"):\n",
    "    \"\"\"\n",
    "    Adds racial population percentages to a district-level DataFrame based on precinct-level data.\n",
    "\n",
    "    :param df: DataFrame containing district data without racial population information\n",
    "    :param precinct_data: DataFrame containing precinct-level data that includes total population and racial columns\n",
    "    :param district_col: Column name in both DataFrames that identifies the district\n",
    "    :return: Modified DataFrame with racial population percentages added\n",
    "    \"\"\"\n",
    "    # Group precinct data by district and aggregate total population and race-specific populations\n",
    "    grouped = precinct_data.groupby(district_col).agg(\n",
    "        TOT_POP=('TOT_POP22', 'sum'),\n",
    "        **{race_key: (race_col, 'sum') for race_key, race_col in race_columns.items()}\n",
    "    ).reset_index()\n",
    "\n",
    "    # Calculate racial percentages\n",
    "    # Prevent division by zero by checking TOT_POP\n",
    "    for race_key, race_col in race_columns.items():\n",
    "        grouped[race_key + \"_PERCENT\"] = grouped.apply(\n",
    "            lambda row: int(round((row[race_key] / row[\"TOT_POP\"] * 100), 0)) if row[\"TOT_POP\"] > 0 else 0,\n",
    "            axis=1\n",
    "        )\n",
    "\n",
    "    # Adjust the last variable to avoid rounding error\n",
    "    def adjust_percentages(row):\n",
    "        total_percent = sum(row[r + \"_PERCENT\"] for r in race_columns.keys())\n",
    "        diff = 100 - total_percent\n",
    "        # Apply adjustment to the last race key\n",
    "        if diff != 0:\n",
    "            last_race = list(race_columns.keys())[-1]\n",
    "            row[last_race + \"_PERCENT\"] += diff\n",
    "        return row\n",
    "\n",
    "    grouped = grouped.apply(adjust_percentages, axis=1)\n",
    "\n",
    "    # Merge these computed columns back into the original district-level DataFrame\n",
    "    df = df.merge(grouped[[district_col] + [r + \"_PERCENT\" for r in race_columns.keys()]], on=district_col, how='left')\n",
    "\n",
    "    return df\n"
   ]
  },
  {
   "cell_type": "code",
   "execution_count": 14,
   "metadata": {},
   "outputs": [],
   "source": [
    "def add_household_income_info(df, precinct_data, district_col=\"CONG_DIST\"):\n",
    "    \"\"\"\n",
    "    Adds 'Household Income' and 'Pct_Below_Poverty' \n",
    "    based on district-level aggregated precinct data.\n",
    "\n",
    "    :param df: DataFrame containing district data without income information\n",
    "    :param precinct_data: DataFrame containing precinct-level data\n",
    "    :param district_col: District identifiers\n",
    "    :return: Modified DataFrame with 'Household Income' and 'Pct_Below_Poverty' columns added\n",
    "    \"\"\"\n",
    "    # Calculate metrics for each district\n",
    "    district_metrics = precinct_data.groupby(district_col).apply(lambda group: {\n",
    "        \"AVERAGE_HOUSEHOLD_INCOME\": round((group[\"MEDN_INC22\"] * group[\"TOT_HOUS22\"]).sum() / group[\"TOT_HOUS22\"].sum()) if group[\"TOT_HOUS22\"].sum() > 0 else 0,\n",
    "        \"PERCENT_BELOW_POVERTY\": round((group[\"0_35K\"].sum() / group[\"TOT_HOUS22\"].sum()) * 100) if group[\"TOT_HOUS22\"].sum() > 0 else 0\n",
    "    }).to_dict()\n",
    "\n",
    "    # Add new columns to the DataFrame\n",
    "    df[\"AVERAGE_HOUSEHOLD_INCOME\"] = None\n",
    "    df[\"PERCENT_BELOW_POVERTY\"] = None\n",
    "\n",
    "    # Populate the new columns with district metrics\n",
    "    for index, row in df.iterrows():\n",
    "        district = row[district_col]\n",
    "        metrics = district_metrics.get(district, {\"AVERAGE_HOUSEHOLD_INCOME\": None, \"PERCENT_BELOW_POVERTY\": None})\n",
    "        df.at[index, \"AVERAGE_HOUSEHOLD_INCOME\"] = int(metrics[\"AVERAGE_HOUSEHOLD_INCOME\"]) if metrics[\"AVERAGE_HOUSEHOLD_INCOME\"] is not None else None\n",
    "        df.at[index, \"PERCENT_BELOW_POVERTY\"] = int(metrics[\"PERCENT_BELOW_POVERTY\"]) if metrics[\"PERCENT_BELOW_POVERTY\"] is not None else None\n",
    "\n",
    "    return df\n",
    "\n"
   ]
  },
  {
   "cell_type": "code",
   "execution_count": 15,
   "metadata": {},
   "outputs": [],
   "source": [
    "def add_region_population_percentages(df, precinct_data, district_col=\"CONG_DIST\"):\n",
    "    \"\"\"\n",
    "    Adds 'RURAL_PERCENT', 'SUBURBAN_PERCENT', and 'URBAN_PERCENT' columns \n",
    "    based on district-level aggregated precinct data.\n",
    "\n",
    "    :param df: DataFrame containing district data without region population percentages\n",
    "    :param precinct_data: DataFrame containing precinct-level data\n",
    "    :param district_col: District identifiers\n",
    "    :return: Modified DataFrame with 'RURAL_PERCENT', 'SUBURBAN_PERCENT', and 'URBAN_PERCENT' columns added\n",
    "    \"\"\"\n",
    "    # Calculate metrics for each district\n",
    "    district_metrics = precinct_data.groupby([district_col, \"region_type\"])[\"TOT_POP22\"].sum().unstack(fill_value=0)\n",
    "\n",
    "    # Add total population for each district\n",
    "    district_metrics[\"Total_Pop\"] = district_metrics.sum(axis=1)\n",
    "\n",
    "    # Calculate percentages and round\n",
    "    district_metrics[\"URBAN_PERCENT\"] = round((district_metrics.get(\"urban\", 0) / district_metrics[\"Total_Pop\"]) * 100).astype(int)\n",
    "    district_metrics[\"SUBURBAN_PERCENT\"] = round((district_metrics.get(\"suburban\", 0) / district_metrics[\"Total_Pop\"]) * 100).astype(int)\n",
    "    district_metrics[\"RURAL_PERCENT\"] = round((district_metrics.get(\"rural\", 0) / district_metrics[\"Total_Pop\"]) * 100).astype(int)\n",
    "\n",
    "    # Adjust the last percentage to ensure the sum is exactly 100\n",
    "    district_metrics[\"RURAL_PERCENT\"] += 100 - (\n",
    "        district_metrics[\"URBAN_PERCENT\"] + district_metrics[\"SUBURBAN_PERCENT\"] + district_metrics[\"RURAL_PERCENT\"]\n",
    "    )\n",
    "\n",
    "    # Convert metrics to a dictionary\n",
    "    district_metrics_dict = district_metrics[[\"URBAN_PERCENT\", \"SUBURBAN_PERCENT\", \"RURAL_PERCENT\"]].to_dict(\"index\")\n",
    "\n",
    "    # Initialize new columns in the DataFrame\n",
    "    df[\"RURAL_PERCENT\"] = None\n",
    "    df[\"SUBURBAN_PERCENT\"] = None\n",
    "    df[\"URBAN_PERCENT\"] = None\n",
    "\n",
    "    # Assign metrics to each district in the DataFrame\n",
    "    for index, row in df.iterrows():\n",
    "        district = row[district_col]\n",
    "        metrics = district_metrics_dict.get(district, {\"URBAN_PERCENT\": None, \"SUBURBAN_PERCENT\": None, \"RURAL_PERCENT\": None})\n",
    "        df.at[index, \"RURAL_PERCENT\"] = metrics[\"RURAL_PERCENT\"]\n",
    "        df.at[index, \"SUBURBAN_PERCENT\"] = metrics[\"SUBURBAN_PERCENT\"]\n",
    "        df.at[index, \"URBAN_PERCENT\"] = metrics[\"URBAN_PERCENT\"]\n",
    "\n",
    "    return df\n"
   ]
  },
  {
   "cell_type": "code",
   "execution_count": 35,
   "metadata": {},
   "outputs": [],
   "source": [
    "sc_election_cong_df = sc_election_df.groupby(\"CONG_DIST\").agg({\n",
    "    \"TOT_REP\": \"sum\",\n",
    "    \"TOT_DEM\": \"sum\",\n",
    "    \"TOT_VOT\": \"sum\",\n",
    "}).reset_index()\n",
    "sc_election_cong_df = add_representative_party_info(sc_election_cong_df, rep_mapping)"
   ]
  },
  {
   "cell_type": "code",
   "execution_count": 36,
   "metadata": {},
   "outputs": [
    {
     "name": "stdout",
     "output_type": "stream",
     "text": [
      "['UNIQUE_ID' 'region_type' 'TOT_POP22']\n"
     ]
    }
   ],
   "source": [
    "print(sc_region_type_df.columns.values)"
   ]
  },
  {
   "cell_type": "code",
   "execution_count": 37,
   "metadata": {},
   "outputs": [],
   "source": [
    "sc_region_type_with_cong = pd.merge(\n",
    "    sc_region_type_df,\n",
    "    sc_econ_df[['UNIQUE_ID', 'CONG_DIST']],\n",
    "    on='UNIQUE_ID',\n",
    "    how='left' \n",
    ")"
   ]
  },
  {
   "cell_type": "code",
   "execution_count": 19,
   "metadata": {},
   "outputs": [
    {
     "name": "stdout",
     "output_type": "stream",
     "text": [
      "['UNIQUE_ID' 'region_type' 'TOT_POP22' 'CONG_DIST']\n"
     ]
    }
   ],
   "source": [
    "print(sc_region_type_with_cong.columns.values)"
   ]
  },
  {
   "cell_type": "code",
   "execution_count": 38,
   "metadata": {},
   "outputs": [
    {
     "name": "stdout",
     "output_type": "stream",
     "text": [
      "   CONG_DIST  TOT_REP  TOT_DEM  TOT_VOT    REPRESENTATIVE       PARTY   RACE\n",
      "0          1   153319   115463   268782        Nancy Mace  Republican  White\n",
      "1          2   147171    97771   244942        Joe Wilson  Republican  White\n",
      "2          3   189130        0   189130       Jeff Duncan  Republican  White\n",
      "3          4   164618        0   164618   William Timmons  Republican  White\n",
      "4          5   154047    82958   237005      Ralph Norman  Republican  White\n",
      "5          6    79688   130473   210161  James E. Clyburn  Democratic  White\n",
      "6          7   164284    88911   253195       Russell Fry  Republican  White\n"
     ]
    }
   ],
   "source": [
    "print(sc_election_cong_df)"
   ]
  },
  {
   "cell_type": "code",
   "execution_count": 39,
   "metadata": {},
   "outputs": [
    {
     "name": "stderr",
     "output_type": "stream",
     "text": [
      "/var/folders/3l/c_gyf2kn1vg4ww5h_h4819cm0000gn/T/ipykernel_45122/2367566562.py:12: DeprecationWarning: DataFrameGroupBy.apply operated on the grouping columns. This behavior is deprecated, and in a future version of pandas the grouping columns will be excluded from the operation. Either pass `include_groups=False` to exclude the groupings or explicitly select the grouping columns after groupby to silence this warning.\n",
      "  district_metrics = precinct_data.groupby(district_col).apply(lambda group: {\n"
     ]
    }
   ],
   "source": [
    "sc_election_cong_df = add_household_income_info(sc_election_cong_df, sc_econ_df)"
   ]
  },
  {
   "cell_type": "code",
   "execution_count": 40,
   "metadata": {},
   "outputs": [],
   "source": [
    "sc_election_cong_df = add_region_population_percentages(sc_election_cong_df, sc_region_type_with_cong)"
   ]
  },
  {
   "cell_type": "code",
   "execution_count": 41,
   "metadata": {},
   "outputs": [
    {
     "name": "stdout",
     "output_type": "stream",
     "text": [
      "   CONG_DIST  TOT_REP  TOT_DEM  TOT_VOT    REPRESENTATIVE       PARTY   RACE  \\\n",
      "0          1   153319   115463   268782        Nancy Mace  Republican  White   \n",
      "1          2   147171    97771   244942        Joe Wilson  Republican  White   \n",
      "2          3   189130        0   189130       Jeff Duncan  Republican  White   \n",
      "3          4   164618        0   164618   William Timmons  Republican  White   \n",
      "4          5   154047    82958   237005      Ralph Norman  Republican  White   \n",
      "5          6    79688   130473   210161  James E. Clyburn  Democratic  White   \n",
      "6          7   164284    88911   253195       Russell Fry  Republican  White   \n",
      "\n",
      "  AVERAGE_HOUSEHOLD_INCOME PERCENT_BELOW_POVERTY RURAL_PERCENT  \\\n",
      "0                    88513                    18            34   \n",
      "1                    72365                    24            31   \n",
      "2                    60055                    30            37   \n",
      "3                    70803                    25            16   \n",
      "4                    69471                    27            35   \n",
      "5                    53975                    35            51   \n",
      "6                    55791                    32            35   \n",
      "\n",
      "  SUBURBAN_PERCENT URBAN_PERCENT  \n",
      "0               45            21  \n",
      "1               50            19  \n",
      "2               48            15  \n",
      "3               53            31  \n",
      "4               49            16  \n",
      "5               39            10  \n",
      "6               42            23  \n"
     ]
    }
   ],
   "source": [
    "print(sc_election_cong_df)"
   ]
  },
  {
   "cell_type": "code",
   "execution_count": 42,
   "metadata": {},
   "outputs": [],
   "source": [
    "sc_election_cong_df['REP_PERCENT'] = (sc_election_cong_df['TOT_REP'] / sc_election_cong_df['TOT_VOT']) * 100\n",
    "sc_election_cong_df['DEM_PERCENT'] = (sc_election_cong_df['TOT_DEM'] / sc_election_cong_df['TOT_VOT']) * 100\n",
    "# Round percentages to integers\n",
    "sc_election_cong_df['REP_PERCENT'] = sc_election_cong_df['REP_PERCENT'].round().astype(int)\n",
    "sc_election_cong_df['DEM_PERCENT'] = sc_election_cong_df['DEM_PERCENT'].round().astype(int)\n",
    "\n",
    "# Adjust the last percentage to ensure no rounding error if needed\n",
    "sc_election_cong_df['REP_PERCENT'] += 100 - (sc_election_cong_df['REP_PERCENT'] + sc_election_cong_df['DEM_PERCENT'])"
   ]
  },
  {
   "cell_type": "code",
   "execution_count": 43,
   "metadata": {},
   "outputs": [
    {
     "name": "stdout",
     "output_type": "stream",
     "text": [
      "   CONG_DIST  TOT_REP  TOT_DEM  TOT_VOT    REPRESENTATIVE       PARTY   RACE  \\\n",
      "0          1   153319   115463   268782        Nancy Mace  Republican  White   \n",
      "1          2   147171    97771   244942        Joe Wilson  Republican  White   \n",
      "2          3   189130        0   189130       Jeff Duncan  Republican  White   \n",
      "3          4   164618        0   164618   William Timmons  Republican  White   \n",
      "4          5   154047    82958   237005      Ralph Norman  Republican  White   \n",
      "5          6    79688   130473   210161  James E. Clyburn  Democratic  White   \n",
      "6          7   164284    88911   253195       Russell Fry  Republican  White   \n",
      "\n",
      "  AVERAGE_HOUSEHOLD_INCOME PERCENT_BELOW_POVERTY RURAL_PERCENT  \\\n",
      "0                    88513                    18            34   \n",
      "1                    72365                    24            31   \n",
      "2                    60055                    30            37   \n",
      "3                    70803                    25            16   \n",
      "4                    69471                    27            35   \n",
      "5                    53975                    35            51   \n",
      "6                    55791                    32            35   \n",
      "\n",
      "  SUBURBAN_PERCENT URBAN_PERCENT  REP_PERCENT  DEM_PERCENT  \n",
      "0               45            21           57           43  \n",
      "1               50            19           60           40  \n",
      "2               48            15          100            0  \n",
      "3               53            31          100            0  \n",
      "4               49            16           65           35  \n",
      "5               39            10           38           62  \n",
      "6               42            23           65           35  \n"
     ]
    }
   ],
   "source": [
    "print(sc_election_cong_df)"
   ]
  },
  {
   "cell_type": "code",
   "execution_count": 44,
   "metadata": {},
   "outputs": [],
   "source": [
    "# drop TOT_REP  TOT_DEM  TOT_VOT \n",
    "sc_election_cong_df.drop(columns=['TOT_REP', 'TOT_DEM', 'TOT_VOT'], inplace=True)"
   ]
  },
  {
   "cell_type": "code",
   "execution_count": 45,
   "metadata": {},
   "outputs": [
    {
     "name": "stdout",
     "output_type": "stream",
     "text": [
      "['UNIQUE_ID' 'NAME' 'Prec_Code' 'CONG_DIST' 'TOT_POP22' 'NHSP_POP22'\n",
      " 'HSP_POP22' 'WHT_NHSP22' 'BLK_NHSP22' 'ASN_NHSP22' 'OTH_NHSP22']\n"
     ]
    }
   ],
   "source": [
    "print(sc_race_df.columns.values)"
   ]
  },
  {
   "cell_type": "code",
   "execution_count": 46,
   "metadata": {},
   "outputs": [],
   "source": [
    "sc_election_cong_df = add_racial_population_percentages(sc_election_cong_df, sc_race_df)"
   ]
  },
  {
   "cell_type": "code",
   "execution_count": 47,
   "metadata": {},
   "outputs": [
    {
     "name": "stdout",
     "output_type": "stream",
     "text": [
      "   CONG_DIST    REPRESENTATIVE       PARTY   RACE AVERAGE_HOUSEHOLD_INCOME  \\\n",
      "0          1        Nancy Mace  Republican  White                    88513   \n",
      "1          2        Joe Wilson  Republican  White                    72365   \n",
      "2          3       Jeff Duncan  Republican  White                    60055   \n",
      "3          4   William Timmons  Republican  White                    70803   \n",
      "4          5      Ralph Norman  Republican  White                    69471   \n",
      "5          6  James E. Clyburn  Democratic  White                    53975   \n",
      "6          7       Russell Fry  Republican  White                    55791   \n",
      "\n",
      "  PERCENT_BELOW_POVERTY RURAL_PERCENT SUBURBAN_PERCENT URBAN_PERCENT  \\\n",
      "0                    18            34               45            21   \n",
      "1                    24            31               50            19   \n",
      "2                    30            37               48            15   \n",
      "3                    25            16               53            31   \n",
      "4                    27            35               49            16   \n",
      "5                    35            51               39            10   \n",
      "6                    32            35               42            23   \n",
      "\n",
      "   REP_PERCENT  DEM_PERCENT  WHITE_PERCENT  BLACK_PERCENT  HISPANIC_PERCENT  \\\n",
      "0           57           43             69             18                 7   \n",
      "1           60           40             62             26                 6   \n",
      "2          100            0             73             17                 6   \n",
      "3          100            0             66             19                 9   \n",
      "4           65           35             65             24                 5   \n",
      "5           38           62             42             48                 5   \n",
      "6           65           35             64             27                 5   \n",
      "\n",
      "   ASIAN_PERCENT  OTHER_RACE_PERCENT  \n",
      "0              2                   4  \n",
      "1              2                   4  \n",
      "2              1                   3  \n",
      "3              3                   3  \n",
      "4              2                   4  \n",
      "5              1                   4  \n",
      "6              1                   3  \n"
     ]
    }
   ],
   "source": [
    "print(sc_election_cong_df)"
   ]
  },
  {
   "cell_type": "code",
   "execution_count": 48,
   "metadata": {},
   "outputs": [],
   "source": [
    "import json\n",
    "\n",
    "# Define the election metadata\n",
    "election_info = \"2022 United States House of Representatives\"\n",
    "\n",
    "# Convert DataFrame to JSON and structure it\n",
    "election_summary = {\n",
    "    \"NAME\": \"South Carolina\",\n",
    "    \"election\": election_info,\n",
    "    \"data\": sc_election_cong_df.to_dict(orient='records')\n",
    "}\n",
    "\n",
    "# Save to JSON file with the desired format\n",
    "with open('states/south_carolina/congressional_districts/summary/sc_congressional_districts_summary_seawulf.json', 'w') as file:\n",
    "    json.dump(election_summary, file, indent=4)\n"
   ]
  },
  {
   "cell_type": "markdown",
   "metadata": {},
   "source": [
    "## Maryland"
   ]
  },
  {
   "cell_type": "code",
   "execution_count": 78,
   "metadata": {},
   "outputs": [],
   "source": [
    "md_rep_mapping = {\n",
    "    \"GCON01RAH\": {\"REPRESENTATIVE\": \"Andy Harris\", \"PARTY\": \"Republican\", \"RACE\": \"White\", \"District\": 1},\n",
    "    \"GCON02DCDR\": {\"REPRESENTATIVE\": \"Dutch Ruppersberger\", \"PARTY\": \"Democratic\", \"RACE\": \"White\", \"District\": 2},\n",
    "    \"GCON03DJS\": {\"REPRESENTATIVE\": \"John Sarbanes\", \"PARTY\": \"Democratic\", \"RACE\": \"White\", \"District\": 3},\n",
    "    \"GCON04DAGB\": {\"REPRESENTATIVE\": \"Anthony G. Brown\", \"PARTY\": \"Democratic\", \"RACE\": \"African American\", \"District\": 4},\n",
    "    \"GCON05DSHH\": {\"REPRESENTATIVE\": \"Steny H. Hoyer\", \"PARTY\": \"Democratic\", \"RACE\": \"White\", \"District\": 5},\n",
    "    \"GCON06DDJT\": {\"REPRESENTATIVE\": \"David Trone\", \"PARTY\": \"Democratic\", \"RACE\": \"White\", \"District\": 6},\n",
    "    \"GCON07DKM\": {\"REPRESENTATIVE\": \"Kweisi Mfume\", \"PARTY\": \"Democratic\", \"RACE\": \"African American\", \"District\": 7},\n",
    "    \"GCON08DJR\": {\"REPRESENTATIVE\": \"Jamie Raskin\", \"PARTY\": \"Democratic\", \"RACE\": \"White\", \"District\": 8}\n",
    "}"
   ]
  },
  {
   "cell_type": "code",
   "execution_count": 79,
   "metadata": {},
   "outputs": [
    {
     "name": "stdout",
     "output_type": "stream",
     "text": [
      "['UNIQUE_ID' 'district' 'TOT_REP' 'TOT_DEM' 'TOT_VOT' 'LEAN' 'GCON01RAH'\n",
      " 'GCON02RJRS' 'GCON03RCA' 'GCON04RGEM' 'GCON05RCP' 'GCON06RNCP'\n",
      " 'GCON07RKK' 'GCON08RGTC' 'GCON01DMM' 'GCON02DCDR' 'GCON03DJS'\n",
      " 'GCON04DAGB' 'GCON05DSHH' 'GCON06DDJT' 'GCON07DKM' 'GCON08DJR']\n"
     ]
    }
   ],
   "source": [
    "print(md_election_df.columns.values)"
   ]
  },
  {
   "cell_type": "code",
   "execution_count": 80,
   "metadata": {},
   "outputs": [
    {
     "name": "stdout",
     "output_type": "stream",
     "text": [
      "['NAME' 'NUMBER' 'JURSCODE' 'VOTESPRE' 'G20PREDBID' 'G20PRERTRU'\n",
      " 'G20PRELJOR' 'G20PREGHAW' 'G20PREBSEG' 'G20PREOWRI' 'UNIQUE_ID'\n",
      " 'TOT_POP22' 'NHSP_POP22' 'HSP_POP22' 'WHT_NHSP22' 'BLK_NHSP22'\n",
      " 'AIA_NHSP22' 'ASN_NHSP22' 'HPI_NHSP22' 'OTH_NHSP22']\n"
     ]
    }
   ],
   "source": [
    "print(md_race_df.columns.values)"
   ]
  },
  {
   "cell_type": "code",
   "execution_count": 81,
   "metadata": {},
   "outputs": [
    {
     "name": "stdout",
     "output_type": "stream",
     "text": [
      "district\n",
      "7    315\n",
      "1    297\n",
      "4    263\n",
      "3    251\n",
      "6    243\n",
      "5    235\n",
      "2    224\n",
      "8    207\n",
      "Name: count, dtype: int64\n"
     ]
    }
   ],
   "source": [
    "print(md_election_df['district'].value_counts())"
   ]
  },
  {
   "cell_type": "code",
   "execution_count": 82,
   "metadata": {},
   "outputs": [],
   "source": [
    "md_election_cong_df = md_election_df.groupby(\"district\").agg({\n",
    "    \"TOT_REP\": \"sum\",\n",
    "    \"TOT_DEM\": \"sum\",\n",
    "    \"TOT_VOT\": \"sum\",\n",
    "}).reset_index()\n",
    "md_election_cong_df = add_representative_party_info(md_election_cong_df, md_rep_mapping, district_col=\"district\")"
   ]
  },
  {
   "cell_type": "code",
   "execution_count": 83,
   "metadata": {},
   "outputs": [
    {
     "name": "stdout",
     "output_type": "stream",
     "text": [
      "   district  TOT_REP  TOT_DEM  TOT_VOT       REPRESENTATIVE       PARTY  \\\n",
      "0         1   250901   143877   394778          Andy Harris  Republican   \n",
      "1         2   106355   224836   331191  Dutch Ruppersberger  Democratic   \n",
      "2         3   112117   260358   372475        John Sarbanes  Democratic   \n",
      "3         4    71671   282119   353790     Anthony G. Brown  Democratic   \n",
      "4         5   123525   274210   397735       Steny H. Hoyer  Democratic   \n",
      "5         6   143599   215540   359139          David Trone  Democratic   \n",
      "6         7    92825   237084   329909         Kweisi Mfume  Democratic   \n",
      "7         8   127157   274716   401873         Jamie Raskin  Democratic   \n",
      "\n",
      "               RACE  \n",
      "0             White  \n",
      "1             White  \n",
      "2             White  \n",
      "3  African American  \n",
      "4             White  \n",
      "5             White  \n",
      "6  African American  \n",
      "7             White  \n"
     ]
    }
   ],
   "source": [
    "print(md_election_cong_df)"
   ]
  },
  {
   "cell_type": "code",
   "execution_count": 84,
   "metadata": {},
   "outputs": [
    {
     "name": "stdout",
     "output_type": "stream",
     "text": [
      "['UNIQUE_ID' 'region_type' 'TOT_POP22']\n"
     ]
    }
   ],
   "source": [
    "print(md_region_type_df.columns.values)"
   ]
  },
  {
   "cell_type": "code",
   "execution_count": 85,
   "metadata": {},
   "outputs": [
    {
     "name": "stdout",
     "output_type": "stream",
     "text": [
      "   district  TOT_REP  TOT_DEM  TOT_VOT       REPRESENTATIVE       PARTY  \\\n",
      "0         1   250901   143877   394778          Andy Harris  Republican   \n",
      "1         2   106355   224836   331191  Dutch Ruppersberger  Democratic   \n",
      "2         3   112117   260358   372475        John Sarbanes  Democratic   \n",
      "3         4    71671   282119   353790     Anthony G. Brown  Democratic   \n",
      "4         5   123525   274210   397735       Steny H. Hoyer  Democratic   \n",
      "5         6   143599   215540   359139          David Trone  Democratic   \n",
      "6         7    92825   237084   329909         Kweisi Mfume  Democratic   \n",
      "7         8   127157   274716   401873         Jamie Raskin  Democratic   \n",
      "\n",
      "               RACE  \n",
      "0             White  \n",
      "1             White  \n",
      "2             White  \n",
      "3  African American  \n",
      "4             White  \n",
      "5             White  \n",
      "6  African American  \n",
      "7             White  \n"
     ]
    }
   ],
   "source": [
    "print(md_election_cong_df)"
   ]
  },
  {
   "cell_type": "code",
   "execution_count": 59,
   "metadata": {},
   "outputs": [
    {
     "name": "stdout",
     "output_type": "stream",
     "text": [
      "Columns in md_econ_df: Index(['NAME', 'NUMBER', 'JURSCODE', 'VOTESPRE', 'G20PREDBID', 'G20PRERTRU',\n",
      "       'G20PRELJOR', 'G20PREGHAW', 'G20PREBSEG', 'G20PREOWRI', 'UNIQUE_ID',\n",
      "       'MEDN_INC22', 'TOT_HOUS22', '0_35K', '35K_60K', '60K_100K', '100K_125K',\n",
      "       '125K_150K', '150K_MORE'],\n",
      "      dtype='object')\n",
      "Columns in md_election_df: Index(['UNIQUE_ID', 'district', 'TOT_REP', 'TOT_DEM', 'TOT_VOT', 'LEAN',\n",
      "       'GCON01RAH', 'GCON02RJRS', 'GCON03RCA', 'GCON04RGEM', 'GCON05RCP',\n",
      "       'GCON06RNCP', 'GCON07RKK', 'GCON08RGTC', 'GCON01DMM', 'GCON02DCDR',\n",
      "       'GCON03DJS', 'GCON04DAGB', 'GCON05DSHH', 'GCON06DDJT', 'GCON07DKM',\n",
      "       'GCON08DJR'],\n",
      "      dtype='object')\n"
     ]
    }
   ],
   "source": [
    "print(\"Columns in md_econ_df:\", md_econ_df.columns)\n",
    "print(\"Columns in md_election_df:\", md_election_df.columns)\n"
   ]
  },
  {
   "cell_type": "code",
   "execution_count": 86,
   "metadata": {},
   "outputs": [],
   "source": [
    "md_econ_df.columns = md_econ_df.columns.str.strip()\n",
    "md_election_df.columns = md_election_df.columns.str.strip()"
   ]
  },
  {
   "cell_type": "code",
   "execution_count": 87,
   "metadata": {},
   "outputs": [],
   "source": [
    "md_econ_merged_df = pd.merge(\n",
    "    md_econ_df,\n",
    "    md_election_df[['UNIQUE_ID', 'district']],\n",
    "    on='UNIQUE_ID',\n",
    "    how='left'\n",
    ")\n"
   ]
  },
  {
   "cell_type": "code",
   "execution_count": 88,
   "metadata": {},
   "outputs": [],
   "source": [
    "md_race_merged_df = pd.merge(\n",
    "    md_race_df,\n",
    "    md_election_df[['UNIQUE_ID', 'district']],\n",
    "    on='UNIQUE_ID',\n",
    "    how='left'\n",
    ")"
   ]
  },
  {
   "cell_type": "code",
   "execution_count": 90,
   "metadata": {},
   "outputs": [
    {
     "name": "stdout",
     "output_type": "stream",
     "text": [
      "district\n",
      "7.0    315\n",
      "4.0    263\n",
      "3.0    251\n",
      "1.0    243\n",
      "5.0    235\n",
      "2.0    224\n",
      "6.0    217\n",
      "8.0    207\n",
      "Name: count, dtype: int64\n"
     ]
    }
   ],
   "source": [
    "print(md_econ_merged_df['district'].value_counts())"
   ]
  },
  {
   "cell_type": "code",
   "execution_count": 91,
   "metadata": {},
   "outputs": [
    {
     "name": "stdout",
     "output_type": "stream",
     "text": [
      "district\n",
      "7.0    315\n",
      "4.0    263\n",
      "3.0    251\n",
      "1.0    243\n",
      "5.0    235\n",
      "2.0    224\n",
      "6.0    217\n",
      "8.0    207\n",
      "Name: count, dtype: int64\n"
     ]
    }
   ],
   "source": [
    "print(md_race_merged_df['district'].value_counts())"
   ]
  },
  {
   "cell_type": "code",
   "execution_count": 92,
   "metadata": {},
   "outputs": [
    {
     "name": "stderr",
     "output_type": "stream",
     "text": [
      "/var/folders/3l/c_gyf2kn1vg4ww5h_h4819cm0000gn/T/ipykernel_45122/2367566562.py:12: DeprecationWarning: DataFrameGroupBy.apply operated on the grouping columns. This behavior is deprecated, and in a future version of pandas the grouping columns will be excluded from the operation. Either pass `include_groups=False` to exclude the groupings or explicitly select the grouping columns after groupby to silence this warning.\n",
      "  district_metrics = precinct_data.groupby(district_col).apply(lambda group: {\n"
     ]
    }
   ],
   "source": [
    "md_election_cong_df = add_household_income_info(md_election_cong_df, md_econ_merged_df, district_col=\"district\")"
   ]
  },
  {
   "cell_type": "code",
   "execution_count": 93,
   "metadata": {},
   "outputs": [],
   "source": [
    "md_region_type_with_cong_df = pd.merge(\n",
    "    md_region_type_df,\n",
    "    md_election_df[['UNIQUE_ID', 'district']],  # Ensure UNIQUE_ID is included\n",
    "    on='UNIQUE_ID',\n",
    "    how='left'\n",
    ")"
   ]
  },
  {
   "cell_type": "code",
   "execution_count": 94,
   "metadata": {},
   "outputs": [],
   "source": [
    "md_election_cong_df = add_region_population_percentages(md_election_cong_df, md_region_type_with_cong_df, district_col=\"district\")"
   ]
  },
  {
   "cell_type": "code",
   "execution_count": 95,
   "metadata": {},
   "outputs": [
    {
     "name": "stdout",
     "output_type": "stream",
     "text": [
      "['NAME' 'NUMBER' 'JURSCODE' 'VOTESPRE' 'G20PREDBID' 'G20PRERTRU'\n",
      " 'G20PRELJOR' 'G20PREGHAW' 'G20PREBSEG' 'G20PREOWRI' 'UNIQUE_ID'\n",
      " 'TOT_POP22' 'NHSP_POP22' 'HSP_POP22' 'WHT_NHSP22' 'BLK_NHSP22'\n",
      " 'AIA_NHSP22' 'ASN_NHSP22' 'HPI_NHSP22' 'OTH_NHSP22' 'district']\n"
     ]
    }
   ],
   "source": [
    "print(md_race_merged_df.columns.values)"
   ]
  },
  {
   "cell_type": "code",
   "execution_count": 96,
   "metadata": {},
   "outputs": [],
   "source": [
    "md_election_cong_df = add_racial_population_percentages(md_election_cong_df, md_race_merged_df, district_col=\"district\")"
   ]
  },
  {
   "cell_type": "code",
   "execution_count": 70,
   "metadata": {},
   "outputs": [
    {
     "name": "stdout",
     "output_type": "stream",
     "text": [
      "   district  TOT_REP  TOT_DEM  TOT_VOT       REPRESENTATIVE       PARTY  \\\n",
      "0         1   250901   143877   394778          Andy Harris  Republican   \n",
      "1         2   106355   224836   331191  Dutch Ruppersberger  Democratic   \n",
      "2         3   112117   260358   372475        John Sarbanes  Democratic   \n",
      "3         4    71671   282119   353790     Anthony G. Brown  Democratic   \n",
      "4         5   123525   274210   397735       Steny H. Hoyer  Democratic   \n",
      "5         6   143599   215540   359139          David Trone  Democratic   \n",
      "6         7    92825   237084   329909         Kweisi Mfume  Democratic   \n",
      "7         8   127157   274716   401873         Jamie Raskin  Democratic   \n",
      "\n",
      "               RACE AVERAGE_HOUSEHOLD_INCOME PERCENT_BELOW_POVERTY  \\\n",
      "0             White                    96314                    18   \n",
      "1             White                    86826                    20   \n",
      "2             White                   110717                    15   \n",
      "3  African American                   106544                    14   \n",
      "4             White                   120658                    12   \n",
      "5             White                   111324                    16   \n",
      "6  African American                    87057                    25   \n",
      "7             White                   132890                    13   \n",
      "\n",
      "  RURAL_PERCENT SUBURBAN_PERCENT URBAN_PERCENT  WHITE_PERCENT  BLACK_PERCENT  \\\n",
      "0            19               43            38           80.0            9.0   \n",
      "1            15               42            43           46.0           36.0   \n",
      "2            18               52            30           54.0           24.0   \n",
      "3            16               45            39           24.0           51.0   \n",
      "4            15               45            40           41.0           39.0   \n",
      "5            13               41            46           52.0           14.0   \n",
      "6            32               53            15           32.0           50.0   \n",
      "7             5               48            47           57.0           13.0   \n",
      "\n",
      "   HISPANIC_PERCENT  ASIAN_PERCENT  OTHER_RACE_PERCENT  \n",
      "0               5.0            2.0                 4.0  \n",
      "1               8.0            6.0                 4.0  \n",
      "2               9.0            7.0                 6.0  \n",
      "3              18.0            3.0                 4.0  \n",
      "4              11.0            4.0                 5.0  \n",
      "5              16.0           13.0                 5.0  \n",
      "6               5.0            8.0                 5.0  \n",
      "7              16.0            9.0                 5.0  \n"
     ]
    }
   ],
   "source": [
    "print(sc_election_cong_df)"
   ]
  },
  {
   "cell_type": "code",
   "execution_count": 97,
   "metadata": {},
   "outputs": [],
   "source": [
    "md_election_cong_df['REP_PERCENT'] = (md_election_cong_df['TOT_REP'] / md_election_cong_df['TOT_VOT']) * 100\n",
    "md_election_cong_df['DEM_PERCENT'] = (md_election_cong_df['TOT_DEM'] / md_election_cong_df['TOT_VOT']) * 100\n",
    "\n",
    "# Round percentages to integers\n",
    "md_election_cong_df['REP_PERCENT'] = md_election_cong_df['REP_PERCENT'].round().astype(int)\n",
    "md_election_cong_df['DEM_PERCENT'] = md_election_cong_df['DEM_PERCENT'].round().astype(int)\n",
    "\n",
    "# Adjust the last percentage to ensure no rounding error if needed\n",
    "md_election_cong_df['REP_PERCENT'] += 100 - (md_election_cong_df['REP_PERCENT'] + md_election_cong_df['DEM_PERCENT'])"
   ]
  },
  {
   "cell_type": "code",
   "execution_count": 72,
   "metadata": {},
   "outputs": [
    {
     "name": "stdout",
     "output_type": "stream",
     "text": [
      "   district  TOT_REP  TOT_DEM  TOT_VOT       REPRESENTATIVE       PARTY  \\\n",
      "0         1   250901   143877   394778          Andy Harris  Republican   \n",
      "1         2   106355   224836   331191  Dutch Ruppersberger  Democratic   \n",
      "2         3   112117   260358   372475        John Sarbanes  Democratic   \n",
      "3         4    71671   282119   353790     Anthony G. Brown  Democratic   \n",
      "4         5   123525   274210   397735       Steny H. Hoyer  Democratic   \n",
      "5         6   143599   215540   359139          David Trone  Democratic   \n",
      "6         7    92825   237084   329909         Kweisi Mfume  Democratic   \n",
      "7         8   127157   274716   401873         Jamie Raskin  Democratic   \n",
      "\n",
      "               RACE AVERAGE_HOUSEHOLD_INCOME PERCENT_BELOW_POVERTY  \\\n",
      "0             White                    96314                    18   \n",
      "1             White                    86826                    20   \n",
      "2             White                   110717                    15   \n",
      "3  African American                   106544                    14   \n",
      "4             White                   120658                    12   \n",
      "5             White                   111324                    16   \n",
      "6  African American                    87057                    25   \n",
      "7             White                   132890                    13   \n",
      "\n",
      "  RURAL_PERCENT SUBURBAN_PERCENT URBAN_PERCENT  REP_PERCENT  DEM_PERCENT  \n",
      "0            19               43            38           64           36  \n",
      "1            15               42            43           32           68  \n",
      "2            18               52            30           30           70  \n",
      "3            16               45            39           20           80  \n",
      "4            15               45            40           31           69  \n",
      "5            13               41            46           40           60  \n",
      "6            32               53            15           28           72  \n",
      "7             5               48            47           32           68  \n"
     ]
    }
   ],
   "source": [
    "print(md_election_cong_df)"
   ]
  },
  {
   "cell_type": "code",
   "execution_count": 98,
   "metadata": {},
   "outputs": [],
   "source": [
    "# rename district to CONG_DIST\n",
    "md_election_cong_df.rename(columns={'district': 'CONG_DIST'}, inplace=True)"
   ]
  },
  {
   "cell_type": "code",
   "execution_count": 99,
   "metadata": {},
   "outputs": [],
   "source": [
    "## drop TOT_REP  TOT_DEM  TOT_VOT\n",
    "md_election_cong_df.drop(columns=['TOT_REP', 'TOT_DEM', 'TOT_VOT'], inplace=True)"
   ]
  },
  {
   "cell_type": "code",
   "execution_count": 100,
   "metadata": {},
   "outputs": [
    {
     "name": "stdout",
     "output_type": "stream",
     "text": [
      "['CONG_DIST' 'REPRESENTATIVE' 'PARTY' 'RACE' 'AVERAGE_HOUSEHOLD_INCOME'\n",
      " 'PERCENT_BELOW_POVERTY' 'RURAL_PERCENT' 'SUBURBAN_PERCENT'\n",
      " 'URBAN_PERCENT' 'WHITE_PERCENT' 'BLACK_PERCENT' 'HISPANIC_PERCENT'\n",
      " 'ASIAN_PERCENT' 'OTHER_RACE_PERCENT' 'REP_PERCENT' 'DEM_PERCENT']\n"
     ]
    }
   ],
   "source": [
    "print(md_election_cong_df.  columns.values)"
   ]
  },
  {
   "cell_type": "code",
   "execution_count": 102,
   "metadata": {},
   "outputs": [],
   "source": [
    "election_info = \"2022 United States House of Representatives\"\n",
    "\n",
    "# Convert DataFrame to JSON and structure it\n",
    "election_summary = {\n",
    "    \"NAME\": \"Maryland\",\n",
    "    \"election\": election_info,\n",
    "    \"data\": md_election_cong_df.to_dict(orient='records')  # Convert DataFrame to a list of dictionaries\n",
    "}\n",
    "\n",
    "# Save to JSON file with the desired format\n",
    "with open('states/maryland/congressional_districts/summary/md_congressional_districts_summary_seawulf.json', 'w') as file:\n",
    "    json.dump(election_summary, file, indent=4)"
   ]
  }
 ],
 "metadata": {
  "kernelspec": {
   "display_name": "cse354",
   "language": "python",
   "name": "python3"
  },
  "language_info": {
   "codemirror_mode": {
    "name": "ipython",
    "version": 3
   },
   "file_extension": ".py",
   "mimetype": "text/x-python",
   "name": "python",
   "nbconvert_exporter": "python",
   "pygments_lexer": "ipython3",
   "version": "3.11.10"
  }
 },
 "nbformat": 4,
 "nbformat_minor": 2
}
