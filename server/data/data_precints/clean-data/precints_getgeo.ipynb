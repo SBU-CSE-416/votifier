{
 "cells": [
  {
   "cell_type": "code",
   "execution_count": 3,
   "metadata": {},
   "outputs": [],
   "source": [
    "import geopandas as gpd\n",
    "import json"
   ]
  },
  {
   "cell_type": "code",
   "execution_count": 4,
   "metadata": {},
   "outputs": [
    {
     "name": "stderr",
     "output_type": "stream",
     "text": [
      "/Users/tonymac/miniconda3/envs/cse354/lib/python3.12/site-packages/pyogrio/raw.py:198: RuntimeWarning: ./sc_2020/sc_2020.shp contains polygon(s) with rings with invalid winding order. Autocorrecting them, but that shapefile should be corrected using ogr2ogr for example.\n",
      "  return ogr_read(\n"
     ]
    }
   ],
   "source": [
    "# Read the shapefile\n",
    "gdf = gpd.read_file('./sc_2020/sc_2020.shp')\n",
    "\n",
    "# Save as GeoJSON\n",
    "json.dump(json.loads(gdf.to_json()), open('./south_carolina_precints.geojson', 'w'))"
   ]
  },
  {
   "cell_type": "code",
   "execution_count": 6,
   "metadata": {},
   "outputs": [
    {
     "name": "stderr",
     "output_type": "stream",
     "text": [
      "/Users/tonymac/miniconda3/envs/cse354/lib/python3.12/site-packages/pyogrio/raw.py:198: UserWarning: Measured (M) geometry types are not supported. Original type 'Measured 3D Polygon' is converted to 'Polygon Z'\n",
      "  return ogr_read(\n"
     ]
    }
   ],
   "source": [
    "# Read the shapefile\n",
    "gdf_md = gpd.read_file('./md_2020/md_2020.shp')\n"
   ]
  },
  {
   "cell_type": "code",
   "execution_count": 9,
   "metadata": {},
   "outputs": [
    {
     "name": "stdout",
     "output_type": "stream",
     "text": [
      "Index(['NAME', 'NUMBER', 'JURSCODE', 'VOTESPRE', 'G20PREDBID', 'G20PRERTRU',\n",
      "       'G20PRELJOR', 'G20PREGHAW', 'G20PREBSEG', 'G20PREOWRI', 'geometry'],\n",
      "      dtype='object')\n"
     ]
    }
   ],
   "source": [
    "print(gdf_md.columns)"
   ]
  },
  {
   "cell_type": "code",
   "execution_count": 8,
   "metadata": {},
   "outputs": [
    {
     "name": "stdout",
     "output_type": "stream",
     "text": [
      "                     NAME  NUMBER JURSCODE VOTESPRE  G20PREDBID  G20PRERTRU  \\\n",
      "0  HOWARD PRECINCT 06-001  06-001     HOWA  006-001        1005         402   \n",
      "1  HOWARD PRECINCT 05-023  05-023     HOWA  005-023        1116         190   \n",
      "2  HOWARD PRECINCT 05-018  05-018     HOWA  005-018         896         159   \n",
      "3  HOWARD PRECINCT 05-017  05-017     HOWA  005-017        1085         290   \n",
      "4  HOWARD PRECINCT 05-020  05-020     HOWA  005-020        1188         663   \n",
      "\n",
      "   G20PRELJOR  G20PREGHAW  G20PREBSEG  G20PREOWRI  \\\n",
      "0          30           6           5          11   \n",
      "1          14           4           2           9   \n",
      "2           8           2           1           9   \n",
      "3          14           6           3          13   \n",
      "4          22           6           1          21   \n",
      "\n",
      "                                            geometry  \n",
      "0  POLYGON Z ((1360475.813 539373.556 0, 1360528....  \n",
      "1  POLYGON Z ((1343191.76 567973.996 0, 1343047.3...  \n",
      "2  POLYGON Z ((1344525.177 561849.349 0, 1344562....  \n",
      "3  POLYGON Z ((1344438.747 561396.875 0, 1344458....  \n",
      "4  POLYGON Z ((1336832.452 540093.639 0, 1336966....  \n"
     ]
    }
   ],
   "source": [
    "print(gdf_md.head())"
   ]
  },
  {
   "cell_type": "code",
   "execution_count": 7,
   "metadata": {},
   "outputs": [],
   "source": [
    "\n",
    "# Save as GeoJSON using json_dumps\n",
    "json.dump(gdf_md.to_json(), open('maryland_precints.geojson', 'w'))"
   ]
  }
 ],
 "metadata": {
  "kernelspec": {
   "display_name": "cse354",
   "language": "python",
   "name": "python3"
  },
  "language_info": {
   "codemirror_mode": {
    "name": "ipython",
    "version": 3
   },
   "file_extension": ".py",
   "mimetype": "text/x-python",
   "name": "python",
   "nbconvert_exporter": "python",
   "pygments_lexer": "ipython3",
   "version": "3.12.1"
  }
 },
 "nbformat": 4,
 "nbformat_minor": 2
}
