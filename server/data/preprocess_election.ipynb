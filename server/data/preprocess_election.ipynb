{
 "cells": [
  {
   "cell_type": "code",
   "execution_count": 106,
   "metadata": {},
   "outputs": [],
   "source": [
    "import pandas as pd\n",
    "import geopandas as gpd"
   ]
  },
  {
   "cell_type": "markdown",
   "metadata": {},
   "source": [
    "## Preprocess Election result from Precincts"
   ]
  },
  {
   "cell_type": "markdown",
   "metadata": {},
   "source": [
    "### Function and declaration"
   ]
  },
  {
   "cell_type": "code",
   "execution_count": 107,
   "metadata": {},
   "outputs": [],
   "source": [
    "def process_precinct_votes(precinct_gdf, columns_to_use):\n",
    "    \"\"\"\n",
    "    Args:\n",
    "        precinct_gdf (pd.DataFrame): The DataFrame containing precinct vote data.\n",
    "        columns_to_use (list): The list of columns to consider for vote calculations.\n",
    "\n",
    "    Returns:\n",
    "        pd.DataFrame: The updated DataFrame with calculated vote totals, lean, and filtered party-related columns.\n",
    "    \"\"\"\n",
    "    precinct_gdf['TOT_REP'] = 0\n",
    "    precinct_gdf['TOT_DEM'] = 0\n",
    "    precinct_gdf['TOT_VOT'] = 0\n",
    "\n",
    "    republican_columns = []\n",
    "    democratic_columns = []\n",
    "\n",
    "    for col in columns_to_use:\n",
    "        if len(col) >= 7:\n",
    "            party_code = col[6]\n",
    "            if party_code == 'R':  # Republican\n",
    "                precinct_gdf['TOT_REP'] += precinct_gdf[col]\n",
    "                republican_columns.append(col)\n",
    "            elif party_code == 'D':  # Democrat\n",
    "                precinct_gdf['TOT_DEM'] += precinct_gdf[col]\n",
    "                democratic_columns.append(col)  \n",
    "\n",
    "    precinct_gdf['TOT_VOT'] = (\n",
    "        precinct_gdf['TOT_REP'] +\n",
    "        precinct_gdf['TOT_DEM']\n",
    "    )\n",
    "\n",
    "    precinct_gdf['LEAN'] = precinct_gdf.apply(\n",
    "        lambda row: 'Unknown' if row['TOT_REP'] == 0 and row['TOT_DEM'] == 0 else\n",
    "                    ('Republican' if row['TOT_REP'] > row['TOT_DEM'] else\n",
    "                     ('Democratic' if row['TOT_DEM'] > row['TOT_REP'] else 'Unknown')),\n",
    "        axis=1\n",
    "    )\n",
    "    filtered_columns = ['TOT_REP', 'TOT_DEM', 'TOT_VOT', 'LEAN'] + republican_columns + democratic_columns\n",
    "    precinct_gdf = precinct_gdf[filtered_columns]\n",
    "\n",
    "    return precinct_gdf\n"
   ]
  },
  {
   "cell_type": "markdown",
   "metadata": {},
   "source": [
    "### Main script"
   ]
  },
  {
   "cell_type": "code",
   "execution_count": 127,
   "metadata": {},
   "outputs": [],
   "source": [
    "sc_precincts_gdf = gpd.read_file('states/south_carolina/geodata/south_carolina_precincts.geojson')\n",
    "sc_election_gdf = gpd.read_file('raw/precincts/sc_2022_gen_prec/sc_2022_gen_cong_prec/sc_2022_gen_cong_prec.shp')"
   ]
  },
  {
   "cell_type": "code",
   "execution_count": 128,
   "metadata": {},
   "outputs": [
    {
     "name": "stdout",
     "output_type": "stream",
     "text": [
      "                             UNIQUE_ID COUNTYFP      County      Precinct  \\\n",
      "0  DORCHESTER-:-BEECH HILL 2-(CONG-01)      035  DORCHESTER  BEECH HILL 2   \n",
      "1       DORCHESTER-:-CYPRESS-(CONG-01)      035  DORCHESTER       CYPRESS   \n",
      "2      DORCHESTER-:-DELEMARS-(CONG-01)      035  DORCHESTER      DELEMARS   \n",
      "3       DORCHESTER-:-GIVHANS-(CONG-01)      035  DORCHESTER       GIVHANS   \n",
      "4     DORCHESTER-:-GIVHANS 2-(CONG-01)      035  DORCHESTER     GIVHANS 2   \n",
      "\n",
      "  Prec_Code CONG_DIST  GCON01AODD  GCON01DAND  GCON01OWRI  GCON01RMAC  ...  \\\n",
      "0       084        01          10         286           3         540  ...   \n",
      "1       072        01          16         479           2         682  ...   \n",
      "2       036        01           2          69           2          85  ...   \n",
      "3       035        01           4         144           1         296  ...   \n",
      "4       094        01           8         189           0         360  ...   \n",
      "\n",
      "   GCON05GGAI  GCON05OWRI  GCON05RNOR  GCON06DCLY  GCON06OWRI  GCON06RBUC  \\\n",
      "0           0           0           0           0           0           0   \n",
      "1           0           0           0           0           0           0   \n",
      "2           0           0           0           0           0           0   \n",
      "3           0           0           0           0           0           0   \n",
      "4           0           0           0           0           0           0   \n",
      "\n",
      "   GCON07DSCO  GCON07OWRI  GCON07RFRY  \\\n",
      "0           0           0           0   \n",
      "1           0           0           0   \n",
      "2           0           0           0   \n",
      "3           0           0           0   \n",
      "4           0           0           0   \n",
      "\n",
      "                                            geometry  \n",
      "0  MULTIPOLYGON (((2242701.683 407030.177, 224291...  \n",
      "1  MULTIPOLYGON (((2234014.017 454196.086, 223398...  \n",
      "2  POLYGON ((2215007.673 409281.289, 2215084.635 ...  \n",
      "3  POLYGON ((2191338.848 433396.844, 2191415.156 ...  \n",
      "4  POLYGON ((2199688.485 448462.344, 2199723.242 ...  \n",
      "\n",
      "[5 rows x 28 columns]\n"
     ]
    }
   ],
   "source": [
    "print(sc_election_gdf.head())"
   ]
  },
  {
   "cell_type": "code",
   "execution_count": 129,
   "metadata": {},
   "outputs": [
    {
     "name": "stdout",
     "output_type": "stream",
     "text": [
      "                             UNIQUE_ID COUNTYFP      County      Precinct  \\\n",
      "0  DORCHESTER-:-BEECH HILL 2-(CONG-01)      035  DORCHESTER  BEECH HILL 2   \n",
      "1       DORCHESTER-:-CYPRESS-(CONG-01)      035  DORCHESTER       CYPRESS   \n",
      "2      DORCHESTER-:-DELEMARS-(CONG-01)      035  DORCHESTER      DELEMARS   \n",
      "3       DORCHESTER-:-GIVHANS-(CONG-01)      035  DORCHESTER       GIVHANS   \n",
      "4     DORCHESTER-:-GIVHANS 2-(CONG-01)      035  DORCHESTER     GIVHANS 2   \n",
      "\n",
      "  Prec_Code CONG_DIST  GCON01AODD  GCON01DAND  GCON01OWRI  GCON01RMAC  ...  \\\n",
      "0       084        01          10         286           3         540  ...   \n",
      "1       072        01          16         479           2         682  ...   \n",
      "2       036        01           2          69           2          85  ...   \n",
      "3       035        01           4         144           1         296  ...   \n",
      "4       094        01           8         189           0         360  ...   \n",
      "\n",
      "   GCON05GGAI  GCON05OWRI  GCON05RNOR  GCON06DCLY  GCON06OWRI  GCON06RBUC  \\\n",
      "0           0           0           0           0           0           0   \n",
      "1           0           0           0           0           0           0   \n",
      "2           0           0           0           0           0           0   \n",
      "3           0           0           0           0           0           0   \n",
      "4           0           0           0           0           0           0   \n",
      "\n",
      "   GCON07DSCO  GCON07OWRI  GCON07RFRY  \\\n",
      "0           0           0           0   \n",
      "1           0           0           0   \n",
      "2           0           0           0   \n",
      "3           0           0           0   \n",
      "4           0           0           0   \n",
      "\n",
      "                                            geometry  \n",
      "0  MULTIPOLYGON (((2242701.683 407030.177, 224291...  \n",
      "1  MULTIPOLYGON (((2234014.017 454196.086, 223398...  \n",
      "2  POLYGON ((2215007.673 409281.289, 2215084.635 ...  \n",
      "3  POLYGON ((2191338.848 433396.844, 2191415.156 ...  \n",
      "4  POLYGON ((2199688.485 448462.344, 2199723.242 ...  \n",
      "\n",
      "[5 rows x 28 columns]\n"
     ]
    }
   ],
   "source": [
    "print(sc_election_gdf.head())  "
   ]
  },
  {
   "cell_type": "code",
   "execution_count": 130,
   "metadata": {},
   "outputs": [],
   "source": [
    "columns_to_ignore = ['UNIQUE_ID', 'CONG_DIST','COUNTYFP', 'County', 'Prec_Code', 'Precinct', 'geometry']"
   ]
  },
  {
   "cell_type": "code",
   "execution_count": 131,
   "metadata": {},
   "outputs": [],
   "source": [
    "columns_to_use = [col for col in sc_election_gdf.columns if col not in columns_to_ignore]"
   ]
  },
  {
   "cell_type": "code",
   "execution_count": 132,
   "metadata": {},
   "outputs": [
    {
     "name": "stdout",
     "output_type": "stream",
     "text": [
      "['GCON01AODD', 'GCON01DAND', 'GCON01OWRI', 'GCON01RMAC', 'GCON02DLAR', 'GCON02OWRI', 'GCON02RWIL', 'GCON03OWRI', 'GCON03RDUN', 'GCON04OWRI', 'GCON04RTIM', 'GCON05DHUN', 'GCON05GGAI', 'GCON05OWRI', 'GCON05RNOR', 'GCON06DCLY', 'GCON06OWRI', 'GCON06RBUC', 'GCON07DSCO', 'GCON07OWRI', 'GCON07RFRY']\n"
     ]
    }
   ],
   "source": [
    "print(columns_to_use)"
   ]
  },
  {
   "cell_type": "code",
   "execution_count": 133,
   "metadata": {},
   "outputs": [],
   "source": [
    "sc_election_processed_gdf = process_precinct_votes(sc_election_gdf, columns_to_use)"
   ]
  },
  {
   "cell_type": "code",
   "execution_count": 134,
   "metadata": {},
   "outputs": [],
   "source": [
    "sc_election_processed_gdf = sc_election_processed_gdf.join(sc_election_gdf[columns_to_ignore])"
   ]
  },
  {
   "cell_type": "code",
   "execution_count": 135,
   "metadata": {},
   "outputs": [
    {
     "name": "stdout",
     "output_type": "stream",
     "text": [
      "   TOT_REP  TOT_DEM  TOT_VOT        LEAN\n",
      "0      540      286      826  Republican\n",
      "1      682      479     1161  Republican\n",
      "2       85       69      154  Republican\n",
      "3      296      144      440  Republican\n",
      "4      360      189      549  Republican\n"
     ]
    }
   ],
   "source": [
    "print(sc_election_processed_gdf[['TOT_REP', 'TOT_DEM', 'TOT_VOT', 'LEAN']].head())"
   ]
  },
  {
   "cell_type": "code",
   "execution_count": 136,
   "metadata": {},
   "outputs": [
    {
     "name": "stdout",
     "output_type": "stream",
     "text": [
      "LEAN      \n",
      "Republican    1672\n",
      "Democratic     597\n",
      "Unknown          8\n",
      "Name: count, dtype: int64\n"
     ]
    }
   ],
   "source": [
    "print(sc_election_processed_gdf[['LEAN']].value_counts())"
   ]
  },
  {
   "cell_type": "code",
   "execution_count": 141,
   "metadata": {},
   "outputs": [
    {
     "name": "stdout",
     "output_type": "stream",
     "text": [
      "['TOT_REP' 'TOT_DEM' 'TOT_VOT' 'LEAN' 'GCON01RMAC' 'GCON02RWIL'\n",
      " 'GCON03RDUN' 'GCON04RTIM' 'GCON05RNOR' 'GCON06RBUC' 'GCON07RFRY'\n",
      " 'GCON01DAND' 'GCON02DLAR' 'GCON05DHUN' 'GCON06DCLY' 'GCON07DSCO'\n",
      " 'UNIQUE_ID' 'CONG_DIST' 'COUNTYFP' 'County' 'Prec_Code' 'Precinct'\n",
      " 'geometry']\n"
     ]
    }
   ],
   "source": [
    "print(sc_election_processed_gdf.columns.values)"
   ]
  },
  {
   "cell_type": "code",
   "execution_count": 138,
   "metadata": {},
   "outputs": [
    {
     "name": "stdout",
     "output_type": "stream",
     "text": [
      "['TOT_REP' 'TOT_DEM' 'TOT_VOT' 'LEAN' 'GCON01RMAC' 'GCON02RWIL'\n",
      " 'GCON03RDUN' 'GCON04RTIM' 'GCON05RNOR' 'GCON06RBUC' 'GCON07RFRY'\n",
      " 'GCON01DAND' 'GCON02DLAR' 'GCON05DHUN' 'GCON06DCLY' 'GCON07DSCO'\n",
      " 'UNIQUE_ID' 'CONG_DIST' 'COUNTYFP' 'County' 'Prec_Code' 'Precinct'\n",
      " 'geometry']\n"
     ]
    }
   ],
   "source": [
    "print(sc_election_processed_gdf.columns.values)"
   ]
  },
  {
   "cell_type": "code",
   "execution_count": 139,
   "metadata": {},
   "outputs": [
    {
     "ename": "AttributeError",
     "evalue": "'DataFrame' object has no attribute 'to_file'",
     "output_type": "error",
     "traceback": [
      "\u001b[0;31m---------------------------------------------------------------------------\u001b[0m",
      "\u001b[0;31mAttributeError\u001b[0m                            Traceback (most recent call last)",
      "\u001b[0;32m/var/folders/3l/c_gyf2kn1vg4ww5h_h4819cm0000gn/T/ipykernel_96987/1182196722.py\u001b[0m in \u001b[0;36m?\u001b[0;34m()\u001b[0m\n\u001b[0;32m----> 1\u001b[0;31m sc_election_processed_gdf.to_file(\n\u001b[0m\u001b[1;32m      2\u001b[0m     \u001b[0;34m\"server/data/states/south_carolina/election/sc_election.geojson\"\u001b[0m\u001b[0;34m,\u001b[0m\u001b[0;34m\u001b[0m\u001b[0;34m\u001b[0m\u001b[0m\n\u001b[1;32m      3\u001b[0m     \u001b[0mdriver\u001b[0m\u001b[0;34m=\u001b[0m\u001b[0;34m\"GeoJSON\"\u001b[0m\u001b[0;34m,\u001b[0m\u001b[0;34m\u001b[0m\u001b[0;34m\u001b[0m\u001b[0m\n\u001b[1;32m      4\u001b[0m     \u001b[0mdrop_crs\u001b[0m\u001b[0;34m=\u001b[0m\u001b[0;32mTrue\u001b[0m\u001b[0;34m\u001b[0m\u001b[0;34m\u001b[0m\u001b[0m\n",
      "\u001b[0;32m~/miniconda3/envs/cse354/lib/python3.11/site-packages/pandas/core/generic.py\u001b[0m in \u001b[0;36m?\u001b[0;34m(self, name)\u001b[0m\n\u001b[1;32m   6295\u001b[0m             \u001b[0;32mand\u001b[0m \u001b[0mname\u001b[0m \u001b[0;32mnot\u001b[0m \u001b[0;32min\u001b[0m \u001b[0mself\u001b[0m\u001b[0;34m.\u001b[0m\u001b[0m_accessors\u001b[0m\u001b[0;34m\u001b[0m\u001b[0;34m\u001b[0m\u001b[0m\n\u001b[1;32m   6296\u001b[0m             \u001b[0;32mand\u001b[0m \u001b[0mself\u001b[0m\u001b[0;34m.\u001b[0m\u001b[0m_info_axis\u001b[0m\u001b[0;34m.\u001b[0m\u001b[0m_can_hold_identifiers_and_holds_name\u001b[0m\u001b[0;34m(\u001b[0m\u001b[0mname\u001b[0m\u001b[0;34m)\u001b[0m\u001b[0;34m\u001b[0m\u001b[0;34m\u001b[0m\u001b[0m\n\u001b[1;32m   6297\u001b[0m         ):\n\u001b[1;32m   6298\u001b[0m             \u001b[0;32mreturn\u001b[0m \u001b[0mself\u001b[0m\u001b[0;34m[\u001b[0m\u001b[0mname\u001b[0m\u001b[0;34m]\u001b[0m\u001b[0;34m\u001b[0m\u001b[0;34m\u001b[0m\u001b[0m\n\u001b[0;32m-> 6299\u001b[0;31m         \u001b[0;32mreturn\u001b[0m \u001b[0mobject\u001b[0m\u001b[0;34m.\u001b[0m\u001b[0m__getattribute__\u001b[0m\u001b[0;34m(\u001b[0m\u001b[0mself\u001b[0m\u001b[0;34m,\u001b[0m \u001b[0mname\u001b[0m\u001b[0;34m)\u001b[0m\u001b[0;34m\u001b[0m\u001b[0;34m\u001b[0m\u001b[0m\n\u001b[0m",
      "\u001b[0;31mAttributeError\u001b[0m: 'DataFrame' object has no attribute 'to_file'"
     ]
    }
   ],
   "source": [
    "sc_election_processed_gdf.to_file(\n",
    "    \"server/data/states/south_carolina/election/sc_election.geojson\",\n",
    "    driver=\"GeoJSON\",\n",
    "    drop_crs=True\n",
    ")"
   ]
  },
  {
   "cell_type": "code",
   "execution_count": 93,
   "metadata": {},
   "outputs": [],
   "source": [
    "md_precincts_gdf = gpd.read_file('states/maryland/geodata/maryland_precincts.geojson')\n"
   ]
  },
  {
   "cell_type": "code",
   "execution_count": 94,
   "metadata": {},
   "outputs": [
    {
     "name": "stdout",
     "output_type": "stream",
     "text": [
      "['NAME' 'NUMBER' 'JURSCODE' 'VOTESPRE' 'G20PREDBID' 'G20PRERTRU'\n",
      " 'G20PRELJOR' 'G20PREGHAW' 'G20PREBSEG' 'G20PREOWRI' 'MEDN_INC22'\n",
      " 'TOT_HOUS22' '0_35K' '35K_60K' '60K-100K' '100K_125K' '125K_150K'\n",
      " '150K_MORE' 'TOT_POP22' 'NHSP_POP22' 'HSP_POP22' 'WHT_NHSP22'\n",
      " 'BLK_NHSP22' 'AIA_NHSP22' 'ASN_NHSP22' 'HPI_NHSP22' 'OTH_NHSP22'\n",
      " 'geometry']\n"
     ]
    }
   ],
   "source": [
    "print(md_precincts_gdf.columns.values)"
   ]
  }
 ],
 "metadata": {
  "kernelspec": {
   "display_name": "cse354",
   "language": "python",
   "name": "python3"
  },
  "language_info": {
   "codemirror_mode": {
    "name": "ipython",
    "version": 3
   },
   "file_extension": ".py",
   "mimetype": "text/x-python",
   "name": "python",
   "nbconvert_exporter": "python",
   "pygments_lexer": "ipython3",
   "version": "3.11.10"
  }
 },
 "nbformat": 4,
 "nbformat_minor": 2
}
