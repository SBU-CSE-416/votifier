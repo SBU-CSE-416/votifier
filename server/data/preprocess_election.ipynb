{
 "cells": [
  {
   "cell_type": "code",
   "execution_count": 100,
   "metadata": {},
   "outputs": [],
   "source": [
    "import pandas as pd"
   ]
  },
  {
   "cell_type": "code",
   "execution_count": 101,
   "metadata": {},
   "outputs": [],
   "source": [
    "df_sc_election = pd.read_csv('raw/census_block/election/SC_2022_prim_l2_vf_2020blocks/SC_2022_prim_l2_vf_2020blocks.csv')"
   ]
  },
  {
   "cell_type": "code",
   "execution_count": 102,
   "metadata": {},
   "outputs": [
    {
     "name": "stdout",
     "output_type": "stream",
     "text": [
      "Index(['geoid20', 'total_reg', 'age_18_19', 'age_20_24', 'age_25_29',\n",
      "       'age_30_34', 'age_35_44', 'age_45_54', 'age_55_64', 'age_65_74',\n",
      "       'age_75_84', 'age_85over', 'party_dem', 'party_rep', 'party_npp',\n",
      "       'party_oth', 'party_unk', 'eth1_eur', 'eth1_hisp', 'eth1_aa',\n",
      "       'eth1_esa', 'eth1_oth', 'eth1_unk', 'eth2_euro', 'eth2_99', 'eth2_64',\n",
      "       'eth2_93', 'eth2_23', 'eth2_30', 'eth2_34', 'eth2_10', 'eth2_81',\n",
      "       'eth2_21', 'eth2_14', 'eth2_55', 'eth2_12', 'eth2_85', 'eth2_35',\n",
      "       'eth2_61', 'eth2_66', 'eth2_unk', 'eth3_wsr', 'eth3_asr', 'eth3_hisp',\n",
      "       'eth3_esa', 'eth3_oth', 'eth3_nsr', 'eth3_unk', 's20220802',\n",
      "       's20220712', 'r20220628', 'p20220614', 's20220329', 's20220322',\n",
      "       's20220308', 's20220222', 'g20201103', 'r20200714', 'r20200623',\n",
      "       'p20200609', 'pp20200229', 'r20191119', 'g20181106', 'r20180626',\n",
      "       'p20180612', 'g20161108', 'p20160614', 'pp20160227', 'pp20160220',\n",
      "       'g20141104', 'r20140624', 'p20140610', 'g20121106', 'p20120612',\n",
      "       'pp20120121', 'g20101102', 'p20100608'],\n",
      "      dtype='object')\n"
     ]
    }
   ],
   "source": [
    "print(df_sc_election.columns)\n",
    "# 'geoid20', 'total_reg', 'party_dem', 'party_rep', 'eth3_wsr', 'eth3_asr', 'eth3_esa', 'eth3_nsr', 'eth3_oth', 'eth3_nsr', 'eth3_unk'"
   ]
  },
  {
   "cell_type": "code",
   "execution_count": 103,
   "metadata": {},
   "outputs": [],
   "source": [
    "filter_columns = ['geoid20', 'total_reg', 'party_dem', 'party_rep', 'party_npp', 'party_oth',\n",
    "                      'eth3_wsr', 'eth3_asr', 'eth3_esa', 'eth3_hisp', 'eth3_nsr', \n",
    "                      'eth3_oth', 'eth3_unk']"
   ]
  },
  {
   "cell_type": "code",
   "execution_count": 104,
   "metadata": {},
   "outputs": [],
   "source": [
    "df_sc_election_filtered = df_sc_election[filter_columns]"
   ]
  },
  {
   "cell_type": "code",
   "execution_count": 105,
   "metadata": {},
   "outputs": [
    {
     "name": "stdout",
     "output_type": "stream",
     "text": [
      "                geoid20  total_reg  party_dem  party_rep  party_npp  \\\n",
      "0       450019501001000        0.0        0.0        0.0        0.0   \n",
      "1       450019501001001        0.0        0.0        0.0        0.0   \n",
      "2       450019501001002        0.0        0.0        0.0        0.0   \n",
      "3       450019501001003        5.0        0.0        5.0        0.0   \n",
      "4       450019501001004       11.0        3.0        8.0        0.0   \n",
      "...                 ...        ...        ...        ...        ...   \n",
      "146839  450910619003075        7.0        1.0        6.0        0.0   \n",
      "146840  450910619003076        0.0        0.0        0.0        0.0   \n",
      "146841  450910619003077        0.0        0.0        0.0        0.0   \n",
      "146842  450910619003078        0.0        0.0        0.0        0.0   \n",
      "146843  450910619003079        1.0        0.0        1.0        0.0   \n",
      "\n",
      "        party_oth  eth3_wsr  eth3_asr  eth3_esa  eth3_hisp  eth3_nsr  \\\n",
      "0             0.0       0.0       0.0       0.0        0.0       0.0   \n",
      "1             0.0       0.0       0.0       0.0        0.0       0.0   \n",
      "2             0.0       0.0       0.0       0.0        0.0       0.0   \n",
      "3             0.0       5.0       0.0       0.0        0.0       0.0   \n",
      "4             0.0      11.0       0.0       0.0        0.0       0.0   \n",
      "...           ...       ...       ...       ...        ...       ...   \n",
      "146839        0.0       7.0       0.0       0.0        0.0       0.0   \n",
      "146840        0.0       0.0       0.0       0.0        0.0       0.0   \n",
      "146841        0.0       0.0       0.0       0.0        0.0       0.0   \n",
      "146842        0.0       0.0       0.0       0.0        0.0       0.0   \n",
      "146843        0.0       1.0       0.0       0.0        0.0       0.0   \n",
      "\n",
      "        eth3_oth  eth3_unk  \n",
      "0            0.0       0.0  \n",
      "1            0.0       0.0  \n",
      "2            0.0       0.0  \n",
      "3            0.0       0.0  \n",
      "4            0.0       0.0  \n",
      "...          ...       ...  \n",
      "146839       0.0       0.0  \n",
      "146840       0.0       0.0  \n",
      "146841       0.0       0.0  \n",
      "146842       0.0       0.0  \n",
      "146843       0.0       0.0  \n",
      "\n",
      "[146844 rows x 13 columns]\n"
     ]
    }
   ],
   "source": [
    "print(df_sc_election_filtered)"
   ]
  },
  {
   "cell_type": "code",
   "execution_count": null,
   "metadata": {},
   "outputs": [],
   "source": [
    "\n"
   ]
  },
  {
   "cell_type": "code",
   "execution_count": 106,
   "metadata": {},
   "outputs": [],
   "source": [
    "#Select all row that label party_oth\n",
    "df_sc_election_filtered.loc[:, 'party_oth'] = (\n",
    "    df_sc_election_filtered['party_oth'] + df_sc_election_filtered['party_npp']\n",
    ")\n",
    "\n",
    "df_sc_election_filtered.loc[:, 'eth3_oth'] = (\n",
    "    df_sc_election_filtered['eth3_oth'] + df_sc_election_filtered['eth3_unk']\n",
    ")"
   ]
  },
  {
   "cell_type": "code",
   "execution_count": 107,
   "metadata": {},
   "outputs": [
    {
     "name": "stderr",
     "output_type": "stream",
     "text": [
      "/var/folders/3l/c_gyf2kn1vg4ww5h_h4819cm0000gn/T/ipykernel_77500/3947002715.py:1: SettingWithCopyWarning: \n",
      "A value is trying to be set on a copy of a slice from a DataFrame\n",
      "\n",
      "See the caveats in the documentation: https://pandas.pydata.org/pandas-docs/stable/user_guide/indexing.html#returning-a-view-versus-a-copy\n",
      "  df_sc_election_filtered.drop(columns=['party_npp', 'eth3_unk'], inplace=True)\n"
     ]
    }
   ],
   "source": [
    "df_sc_election_filtered.drop(columns=['party_npp', 'eth3_unk'], inplace=True)\n"
   ]
  },
  {
   "cell_type": "code",
   "execution_count": 108,
   "metadata": {},
   "outputs": [
    {
     "data": {
      "text/plain": [
       "Index(['geoid20', 'total_reg', 'party_dem', 'party_rep', 'party_oth',\n",
       "       'eth3_wsr', 'eth3_asr', 'eth3_esa', 'eth3_hisp', 'eth3_nsr',\n",
       "       'eth3_oth'],\n",
       "      dtype='object')"
      ]
     },
     "execution_count": 108,
     "metadata": {},
     "output_type": "execute_result"
    }
   ],
   "source": [
    "df_sc_election_filtered.columns"
   ]
  },
  {
   "cell_type": "code",
   "execution_count": 109,
   "metadata": {},
   "outputs": [
    {
     "name": "stdout",
     "output_type": "stream",
     "text": [
      "Total Registration Sum: 3289576.0\n",
      "Total Democratic Party Sum: 1488784.0\n",
      "Total Republican Party Sum: 1463028.0\n",
      "Total Other Party Sum: 337764.0\n",
      "Total Race Sum: 3289576.0\n",
      "0.0\n"
     ]
    }
   ],
   "source": [
    "def get_total_vote ():\n",
    "    total_reg_sum = df_sc_election_filtered['total_reg'].sum()\n",
    "\n",
    "    party_dem_sum = df_sc_election_filtered['party_dem'].sum()\n",
    "\n",
    "    party_rep_sum = df_sc_election_filtered['party_rep'].sum()\n",
    "\n",
    "    party_oth_sum = df_sc_election_filtered['party_oth'].sum()\n",
    "\n",
    "    # Sum of all rows across race columns\n",
    "    race_columns = ['eth3_wsr', 'eth3_asr', 'eth3_esa','eth3_hisp', 'eth3_nsr', 'eth3_oth']\n",
    "    race_sum = df_sc_election_filtered[race_columns].sum().sum()\n",
    "\n",
    "    # Print the results\n",
    "    print(f\"Total Registration Sum: {total_reg_sum}\")\n",
    "    print(f\"Total Democratic Party Sum: {party_dem_sum}\")\n",
    "    print(f\"Total Republican Party Sum: {party_rep_sum}\")\n",
    "    print(f\"Total Other Party Sum: {party_oth_sum}\")\n",
    "    print(f\"Total Race Sum: {race_sum}\")\n",
    "    print(total_reg_sum-party_dem_sum-party_rep_sum-party_oth_sum)\n",
    "get_total_vote()"
   ]
  },
  {
   "cell_type": "code",
   "execution_count": 110,
   "metadata": {},
   "outputs": [],
   "source": [
    "column_mappings = {\n",
    "    'geoid20': 'GEOID',\n",
    "    'total_reg': 'TOT_VOTER',\n",
    "    'party_dem': 'DEM_VOTER',\n",
    "    'party_rep': 'REP_VOTER',\n",
    "    'party_oth': 'OTHPAR_VOTER',\n",
    "    'eth3_wsr': 'WHITE_VOTER',\n",
    "    'eth3_asr': 'BLACK_VOTER',\n",
    "    'eth3_esa': 'EASIAN_VOTER',\n",
    "    'eth3_hisp': 'HISP_VOTER',\n",
    "    'eth3_nsr': 'NATIVE_VOTER',\n",
    "    'eth3_oth': 'OTHRACE_VOTER',\n",
    "}"
   ]
  },
  {
   "cell_type": "code",
   "execution_count": 111,
   "metadata": {},
   "outputs": [],
   "source": [
    "df_sc_election_filtered = df_sc_election_filtered.rename(columns=column_mappings)"
   ]
  },
  {
   "cell_type": "code",
   "execution_count": 112,
   "metadata": {},
   "outputs": [],
   "source": [
    "totals = {\n",
    "    'TOT_DEM_VOTER': df_sc_election_filtered['DEM_VOTER'].sum(),\n",
    "    'TOT_REP_VOTER': df_sc_election_filtered['REP_VOTER'].sum(),\n",
    "    'TOT_OTHPAR_VOTER': df_sc_election_filtered['OTHPAR_VOTER'].sum(),\n",
    "    'TOT_WHITE_VOTER': df_sc_election_filtered['WHITE_VOTER'].sum(),\n",
    "    'TOT_BLACK_VOTER': df_sc_election_filtered['BLACK_VOTER'].sum(),\n",
    "    'TOT_EASIAN_VOTER': df_sc_election_filtered['EASIAN_VOTER'].sum(),\n",
    "    'TOT_HISP_VOTER': df_sc_election_filtered['HISP_VOTER'].sum(),\n",
    "    'TOT_NATIVE_VOTER': df_sc_election_filtered['NATIVE_VOTER'].sum(),\n",
    "    'TOT_OTHRACE_VOTER': df_sc_election_filtered['OTHRACE_VOTER'].sum(),\n",
    "}\n",
    "totals_df = pd.DataFrame([totals])"
   ]
  },
  {
   "cell_type": "code",
   "execution_count": 113,
   "metadata": {},
   "outputs": [
    {
     "name": "stdout",
     "output_type": "stream",
     "text": [
      "Column Mapping Applied:\n",
      "             GEOID  TOT_VOTER  DEM_VOTER  REP_VOTER  OTHPAR_VOTER  \\\n",
      "0  450019501001000        0.0        0.0        0.0           0.0   \n",
      "1  450019501001001        0.0        0.0        0.0           0.0   \n",
      "2  450019501001002        0.0        0.0        0.0           0.0   \n",
      "3  450019501001003        5.0        0.0        5.0           0.0   \n",
      "4  450019501001004       11.0        3.0        8.0           0.0   \n",
      "\n",
      "   WHITE_VOTER  BLACK_VOTER  EASIAN_VOTER  HISP_VOTER  NATIVE_VOTER  \\\n",
      "0          0.0          0.0           0.0         0.0           0.0   \n",
      "1          0.0          0.0           0.0         0.0           0.0   \n",
      "2          0.0          0.0           0.0         0.0           0.0   \n",
      "3          5.0          0.0           0.0         0.0           0.0   \n",
      "4         11.0          0.0           0.0         0.0           0.0   \n",
      "\n",
      "   OTHRACE_VOTER  \n",
      "0            0.0  \n",
      "1            0.0  \n",
      "2            0.0  \n",
      "3            0.0  \n",
      "4            0.0  \n",
      "\n",
      "Total Voter Counts:\n",
      "   TOT_DEM_VOTER  TOT_REP_VOTER  TOT_OTHPAR_VOTER  TOT_WHITE_VOTER  \\\n",
      "0      1488784.0      1463028.0          337764.0        2283487.0   \n",
      "\n",
      "   TOT_BLACK_VOTER  TOT_EASIAN_VOTER  TOT_HISP_VOTER  TOT_NATIVE_VOTER  \\\n",
      "0         860859.0           39382.0         65710.0            6273.0   \n",
      "\n",
      "   TOT_OTHRACE_VOTER  \n",
      "0            33865.0  \n"
     ]
    }
   ],
   "source": [
    "print(\"Column Mapping Applied:\")\n",
    "print(df_sc_election_filtered.head())\n",
    "print(\"\\nTotal Voter Counts:\")\n",
    "print(totals_df)"
   ]
  },
  {
   "cell_type": "code",
   "execution_count": 114,
   "metadata": {},
   "outputs": [],
   "source": [
    "path = \"processed_individual/sc_election_block.csv\"\n",
    "df_sc_election_filtered.to_csv(path, index=False)"
   ]
  },
  {
   "cell_type": "code",
   "execution_count": 98,
   "metadata": {},
   "outputs": [],
   "source": [
    "df_md_election = pd.read_csv('raw/census_block/election/SC_2022_prim_l2_vf_2020blocks/SC_2022_prim_l2_vf_2020blocks.csv')"
   ]
  },
  {
   "cell_type": "code",
   "execution_count": 99,
   "metadata": {},
   "outputs": [],
   "source": [
    "df_md_election = pd.read_csv('raw/census_block/election/SC_2022_prim_l2_vf_2020blocks/SC_2022_prim_l2_vf_2020blocks.csv')"
   ]
  }
 ],
 "metadata": {
  "kernelspec": {
   "display_name": "cse354",
   "language": "python",
   "name": "python3"
  },
  "language_info": {
   "codemirror_mode": {
    "name": "ipython",
    "version": 3
   },
   "file_extension": ".py",
   "mimetype": "text/x-python",
   "name": "python",
   "nbconvert_exporter": "python",
   "pygments_lexer": "ipython3",
   "version": "3.12.1"
  }
 },
 "nbformat": 4,
 "nbformat_minor": 2
}
