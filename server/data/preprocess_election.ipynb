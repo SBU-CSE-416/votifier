{
 "cells": [
  {
   "cell_type": "code",
   "execution_count": 76,
   "metadata": {},
   "outputs": [],
   "source": [
    "import pandas as pd\n",
    "import geopandas as gpd"
   ]
  },
  {
   "cell_type": "markdown",
   "metadata": {},
   "source": [
    "## Preprocess Election result from Precincts"
   ]
  },
  {
   "cell_type": "markdown",
   "metadata": {},
   "source": [
    "### Function and declaration"
   ]
  },
  {
   "cell_type": "code",
   "execution_count": null,
   "metadata": {},
   "outputs": [],
   "source": [
    "\n",
    "def process_precinct_votes(precinct_gdf, columns_to_use):\n",
    "    \"\"\"\n",
    "    Args:\n",
    "        precinct_gdf (pd.DataFrame): The DataFrame containing precinct vote data.\n",
    "        columns_to_use (list): The list of columns to consider for vote calculations.\n",
    "    Returns:\n",
    "        pd.DataFrame: The updated DataFrame with calculated vote totals and lean.\n",
    "    \"\"\"\n",
    "    precinct_gdf['TOT_REP'] = 0\n",
    "    precinct_gdf['TOT_DEM'] = 0\n",
    "    precinct_gdf['TOT_OTH'] = 0\n",
    "    precinct_gdf['TOT_VOT'] = 0\n",
    "    precinct_gdf['TOT_VOT_DEM_REP'] = 0\n",
    "\n",
    "    for col in columns_to_use:\n",
    "        if len(col) >= 7:\n",
    "            party_code = col[6]\n",
    "            if party_code == 'R':  # Republican\n",
    "                precinct_gdf['TOT_REP'] += precinct_gdf[col]\n",
    "            elif party_code == 'D':  # Democrat\n",
    "                precinct_gdf['TOT_DEM'] += precinct_gdf[col]\n",
    "            else:  # Others\n",
    "                precinct_gdf['TOT_OTH'] += precinct_gdf[col]\n",
    "\n",
    "    precinct_gdf['TOT_VOT'] = (\n",
    "        precinct_gdf['TOT_REP'] +\n",
    "        precinct_gdf['TOT_DEM'] +\n",
    "        precinct_gdf['TOT_OTH']\n",
    "    )\n",
    "\n",
    "    precinct_gdf['TOT_VOT_DEM_REP'] = (\n",
    "        precinct_gdf['TOT_REP'] +\n",
    "        precinct_gdf['TOT_DEM']\n",
    "    )\n",
    "\n",
    "    precinct_gdf['LEAN'] = precinct_gdf.apply(\n",
    "        lambda row: 'Unknown' if row['TOT_REP'] == 0 and row['TOT_DEM'] == 0 else\n",
    "                    ('Republican' if row['TOT_REP'] > row['TOT_DEM'] else\n",
    "                     ('Democratic' if row['TOT_DEM'] > row['TOT_REP'] else 'Neutral')),\n",
    "        axis=1\n",
    "    )\n",
    "\n",
    "    return precinct_gdf"
   ]
  },
  {
   "cell_type": "markdown",
   "metadata": {},
   "source": [
    "### Main script"
   ]
  },
  {
   "cell_type": "code",
   "execution_count": 77,
   "metadata": {},
   "outputs": [],
   "source": [
    "sc_precincts_gdf = gpd.read_file('states/south_carolina/geodata/south_carolina_precincts.geojson')"
   ]
  },
  {
   "cell_type": "code",
   "execution_count": 78,
   "metadata": {},
   "outputs": [
    {
     "name": "stdout",
     "output_type": "stream",
     "text": [
      "['UNIQUE_ID' 'COUNTYFP' 'County' 'NAME' 'Prec_Code' 'G22A1NO' 'G22A1YES'\n",
      " 'G22A2NO' 'G22A2YES' 'G22AGRCNEL' 'G22AGRGEDM' 'G22AGROWRI' 'G22AGRRWEA'\n",
      " 'G22ATGOWRI' 'G22ATGRWIL' 'G22COMOWRI' 'G22COMRECK' 'G22GOVDCUN'\n",
      " 'G22GOVLREE' 'G22GOVOWRI' 'G22GOVRMCM' 'G22SOSDBUT' 'G22SOSOWRI'\n",
      " 'G22SOSRHAM' 'G22SUPAELL' 'G22SUPDELL' 'G22SUPGMIC' 'G22SUPOWRI'\n",
      " 'G22SUPRWEA' 'G22TREAWOR' 'G22TREOWRI' 'G22TRERLOF' 'G22USSDMAT'\n",
      " 'G22USSOWRI' 'G22USSRSCO' 'GCON01AODD' 'GCON01DAND' 'GCON01OWRI'\n",
      " 'GCON01RMAC' 'GCON02DLAR' 'GCON02OWRI' 'GCON02RWIL' 'GCON03OWRI'\n",
      " 'GCON03RDUN' 'GCON04OWRI' 'GCON04RTIM' 'GCON05DHUN' 'GCON05GGAI'\n",
      " 'GCON05OWRI' 'GCON05RNOR' 'GCON06DCLY' 'GCON06OWRI' 'GCON06RBUC'\n",
      " 'GCON07DSCO' 'GCON07OWRI' 'GCON07RFRY' 'GSL001OWRI' 'GSL001RWHI'\n",
      " 'GSL002OWRI' 'GSL002RSAN' 'GSL003OWRI' 'GSL003RCAR' 'GSL004OWRI'\n",
      " 'GSL004RHIO' 'GSL005OWRI' 'GSL005RCOL' 'GSL006OWRI' 'GSL006RCRO'\n",
      " 'GSL007DSAL' 'GSL007OWRI' 'GSL007RWES' 'GSL008ATOD' 'GSL008DMAC'\n",
      " 'GSL008OWRI' 'GSL008RCHA' 'GSL009DPOL' 'GSL009OWRI' 'GSL009RTHA'\n",
      " 'GSL010OWRI' 'GSL010RBEA' 'GSL011OWRI' 'GSL011RGAG' 'GSL012DPAR'\n",
      " 'GSL012OWRI' 'GSL012RGIB' 'GSL013DKIM' 'GSL013OWRI' 'GSL013RMCC'\n",
      " 'GSL014DDUN' 'GSL014OWRI' 'GSL014RJON' 'GSL015DMOO' 'GSL015OWRI'\n",
      " 'GSL015RPON' 'GSL016OWRI' 'GSL016RWIL' 'GSL017OWRI' 'GSL017RBUR'\n",
      " 'GSL018DREI' 'GSL018OWRI' 'GSL018RMOR' 'GSL019OWRI' 'GSL019RHAD'\n",
      " 'GSL020OWRI' 'GSL020RMOR' 'GSL021OWRI' 'GSL021RCOX' 'GSL022OWRI'\n",
      " 'GSL022RELL' 'GSL023DDIL' 'GSL023OWRI' 'GSL024OWRI' 'GSL024RBAN'\n",
      " 'GSL025DJON' 'GSL025IBOY' 'GSL025OWRI' 'GSL025RJUL' 'GSL026DVIL'\n",
      " 'GSL026OWRI' 'GSL026RFEL' 'GSL027OWRI' 'GSL027RVAU' 'GSL028DFRI'\n",
      " 'GSL028OWRI' 'GSL028RTRA' 'GSL029OWRI' 'GSL029RMOS' 'GSL030OWRI'\n",
      " 'GSL030RLAW' 'GSL031DHEN' 'GSL031OWRI' 'GSL032OWRI' 'GSL032RHYD'\n",
      " 'GSL033OWRI' 'GSL033RMOO' 'GSL034OWRI' 'GSL034RNUT' 'GSL035OWRI'\n",
      " 'GSL035RCHU' 'GSL036OWRI' 'GSL036RHAR' 'GSL037OWRI' 'GSL037RLON'\n",
      " 'GSL038OWRI' 'GSL038RMAG' 'GSL039OWRI' 'GSL039RFOR' 'GSL040OWRI'\n",
      " 'GSL040RWHI' 'GSL041DMCD' 'GSL041OWRI' 'GSL041RBRE' 'GSL042OWRI'\n",
      " 'GSL042RGIL' 'GSL043OWRI' 'GSL043RLIG' 'GSL044DCRO' 'GSL044IMCK'\n",
      " 'GSL044OWRI' 'GSL044RNEE' 'GSL045DSR' 'GSL045OWRI' 'GSL045RNEW'\n",
      " 'GSL046OWRI' 'GSL046RSES' 'GSL047OWRI' 'GSL047RPOP' 'GSL048DRUS'\n",
      " 'GSL048OWRI' 'GSL048RGUF' 'GSL049DKIN' 'GSL049OWRI' 'GSL049RHAR'\n",
      " 'GSL050DWHE' 'GSL050OWRI' 'GSL050RJON' 'GSL051DWEE' 'GSL051OWRI'\n",
      " 'GSL052DCAR' 'GSL052OWRI' 'GSL052RCON' 'GSL053OWRI' 'GSL053RYOW'\n",
      " 'GSL054DHEN' 'GSL054OWRI' 'GSL054RMCD' 'GSL055DHAY' 'GSL055ICOP'\n",
      " 'GSL055OWRI' 'GSL055RNOR' 'GSL056OWRI' 'GSL056RMCG' 'GSL057DATK'\n",
      " 'GSL057OWRI' 'GSL058OWRI' 'GSL058RJOH' 'GSL059DALE' 'GSL059OWRI'\n",
      " 'GSL060OWRI' 'GSL060RLOW' 'GSL061DPRE' 'GSL061OWRI' 'GSL061RSCH'\n",
      " 'GSL062DWIL' 'GSL062OWRI' 'GSL063DCOE' 'GSL063OWRI' 'GSL063RJOR'\n",
      " 'GSL064DJOH' 'GSL064OWRI' 'GSL064RPED' 'GSL065OWRI' 'GSL065RMIT'\n",
      " 'GSL066DLIT' 'GSL066OWRI' 'GSL066RONE' 'GSL067OWRI' 'GSL067RSMI'\n",
      " 'GSL068DCAR' 'GSL068OWRI' 'GSL068RCRA' 'GSL069OWRI' 'GSL069RWOO'\n",
      " 'GSL070DJOH' 'GSL070GHEN' 'GSL070OWRI' 'GSL070RWIL' 'GSL071OWRI'\n",
      " 'GSL071RBAL' 'GSL072DROS' 'GSL072OWRI' 'GSL073DHAR' 'GSL073OWRI'\n",
      " 'GSL074DRUT' 'GSL074OWRI' 'GSL075DBAU' 'GSL075OWRI' 'GSL075RFIN'\n",
      " 'GSL076DHOW' 'GSL076OWRI' 'GSL077DGAR' 'GSL077OWRI' 'GSL077RSMA'\n",
      " 'GSL078DBER' 'GSL078OWRI' 'GSL079DTHI' 'GSL079OWRI' 'GSL079RMCF'\n",
      " 'GSL080DNEW' 'GSL080OWRI' 'GSL080RLAN' 'GSL081OWRI' 'GSL081RBLA'\n",
      " 'GSL082DCLY' 'GSL082OWRI' 'GSL083DMCC' 'GSL083OWRI' 'GSL083RHIX'\n",
      " 'GSL084OWRI' 'GSL084RORE' 'GSL085LDAV' 'GSL085OWRI' 'GSL085RKIL'\n",
      " 'GSL086OWRI' 'GSL086RTAY' 'GSL087OWRI' 'GSL087RCAL' 'GSL088DSHR'\n",
      " 'GSL088OWRI' 'GSL088RMAY' 'GSL089OWRI' 'GSL089RCAS' 'GSL090DBAM'\n",
      " 'GSL090OWRI' 'GSL090RCAR' 'GSL091DHOS' 'GSL091OWRI' 'GSL092OWRI'\n",
      " 'GSL092RCOX' 'GSL093DOTT' 'GSL093OWRI' 'GSL093RULM' 'GSL094DDAV'\n",
      " 'GSL094OWRI' 'GSL094RGAT' 'GSL095DCOB' 'GSL095OWRI' 'GSL095RCIL'\n",
      " 'GSL096OWRI' 'GSL096RMCC' 'GSL097DLEW' 'GSL097OWRI' 'GSL097RROB'\n",
      " 'GSL098DCLI' 'GSL098OWRI' 'GSL098RMUR' 'GSL099OWRI' 'GSL099RSMI'\n",
      " 'GSL100OWRI' 'GSL100RDAV' 'GSL101DKIR' 'GSL101OWRI' 'GSL102DJEF'\n",
      " 'GSL102OWRI' 'GSL102RELS' 'GSL103DAND' 'GSL103OWRI' 'GSL104OWRI'\n",
      " 'GSL104RBAI' 'GSL105OWRI' 'GSL105RHAR' 'GSL106ATHO' 'GSL106DTHO'\n",
      " 'GSL106OWRI' 'GSL106RGUE' 'GSL107OWRI' 'GSL107RBRI' 'GSL108OWRI'\n",
      " 'GSL108RHEW' 'GSL109DTED' 'GSL109LTRA' 'GSL109OWRI' 'GSL110DROB'\n",
      " 'GSL110OWRI' 'GSL110RHAR' 'GSL111DGIL' 'GSL111OWRI' 'GSL112DART'\n",
      " 'GSL112OWRI' 'GSL112RBUS' 'GSL113DPEN' 'GSL113OWRI' 'GSL114DBRA'\n",
      " 'GSL114OWRI' 'GSL114RBRE' 'GSL115DWET' 'GSL115OWRI' 'GSL115RONE'\n",
      " 'GSL116DMUR' 'GSL116OWRI' 'GSL116RLEB' 'GSL117DMAT' 'GSL117OWRI'\n",
      " 'GSL117RPAC' 'GSL118OWRI' 'GSL118RHER' 'GSL119DSTA' 'GSL119OWRI'\n",
      " 'GSL119RFIP' 'GSL120OWRI' 'GSL120RNEW' 'GSL121DSR' 'GSL121OWRI'\n",
      " 'GSL121RERI' 'GSL122DWIL' 'GSL122OWRI' 'GSL122RHAG' 'GSL123OWRI'\n",
      " 'GSL123RBRA' 'GSL124DNAS' 'GSL124OWRI' 'GSL124RERI' 'MEDN_INC22'\n",
      " 'TOT_HOUS22' '0_35K' '35K_60K' '60K-100K' '100K_125K' '125K_150K'\n",
      " '150K_MORE' 'TOT_POP22' 'NHSP_POP22' 'HSP_POP22' 'WHT_NHSP22'\n",
      " 'BLK_NHSP22' 'AIA_NHSP22' 'ASN_NHSP22' 'HPI_NHSP22' 'OTH_NHSP22'\n",
      " 'TOT_REP' 'TOT_DEM' 'TOT_OTH' 'TOT_VOT' 'LEAN' 'geometry']\n"
     ]
    }
   ],
   "source": [
    "print(sc_precincts_gdf.columns.values)"
   ]
  },
  {
   "cell_type": "code",
   "execution_count": 79,
   "metadata": {},
   "outputs": [
    {
     "name": "stdout",
     "output_type": "stream",
     "text": [
      "                     UNIQUE_ID COUNTYFP     County             NAME Prec_Code  \\\n",
      "0  ABBEVILLE-:-ABBEVILLE NO. 1      001  ABBEVILLE  ABBEVILLE NO. 1       001   \n",
      "1  ABBEVILLE-:-ABBEVILLE NO. 2      001  ABBEVILLE  ABBEVILLE NO. 2       002   \n",
      "2  ABBEVILLE-:-ABBEVILLE NO. 3      001  ABBEVILLE  ABBEVILLE NO. 3       003   \n",
      "3  ABBEVILLE-:-ABBEVILLE NO. 4      001  ABBEVILLE  ABBEVILLE NO. 4       004   \n",
      "4       ABBEVILLE-:-ANTREVILLE      001  ABBEVILLE       ANTREVILLE       005   \n",
      "\n",
      "   G22A1NO  G22A1YES  G22A2NO  G22A2YES  G22AGRCNEL  ...  AIA_NHSP22  \\\n",
      "0    355.0     547.0    346.0     554.0        37.0  ...         0.0   \n",
      "1    254.0     275.0    252.0     274.0        57.0  ...         0.0   \n",
      "2    219.0     284.0    241.0     279.0        30.0  ...        25.0   \n",
      "3    197.0     208.0    174.0     242.0        16.0  ...         0.0   \n",
      "4    280.0     375.0    297.0     375.0        24.0  ...         0.0   \n",
      "\n",
      "   ASN_NHSP22  HPI_NHSP22  OTH_NHSP22  TOT_REP  TOT_DEM  TOT_OTH  TOT_VOT  \\\n",
      "0         0.0         0.0         0.0  15416.0   1968.0   4158.0  21542.0   \n",
      "1         0.0         0.0         0.0   5428.0   3178.0   2708.0  11314.0   \n",
      "2         0.0         0.0         0.0   7496.0   1850.0   2432.0  11778.0   \n",
      "3         0.0         0.0         0.0   6696.0    948.0   1852.0   9496.0   \n",
      "4         0.0         0.0         0.0  12236.0    986.0   3014.0  16236.0   \n",
      "\n",
      "         LEAN                                           geometry  \n",
      "0  Republican  POLYGON ((-82.30056 34.23015, -82.30059 34.230...  \n",
      "1  Republican  POLYGON ((-82.33969 34.18658, -82.33989 34.186...  \n",
      "2  Republican  POLYGON ((-82.37867 34.17718, -82.37873 34.177...  \n",
      "3  Republican  POLYGON ((-82.49060 34.23842, -82.49158 34.238...  \n",
      "4  Republican  POLYGON ((-82.62101 34.28633, -82.62106 34.286...  \n",
      "\n",
      "[5 rows x 385 columns]\n"
     ]
    }
   ],
   "source": [
    "print(sc_precincts_gdf.head())  "
   ]
  },
  {
   "cell_type": "code",
   "execution_count": 83,
   "metadata": {},
   "outputs": [],
   "source": [
    "columns_to_ignore = ['UNIQUE_ID', 'COUNTYFP', 'County', 'NAME', 'Prec_Code',\n",
    "    'MEDN_INC22', 'TOT_HOUS22', '0_35K', '35K_60K', '60K-100K', \n",
    "    '100K_125K', '125K_150K', '150K_MORE', 'TOT_POP22', \n",
    "    'NHSP_POP22', 'HSP_POP22', 'WHT_NHSP22', 'BLK_NHSP22', \n",
    "    'AIA_NHSP22', 'ASN_NHSP22', 'HPI_NHSP22', 'OTH_NHSP22', 'geometry', 'TOT_REP', 'TOT_DEM', 'TOT_OTH', 'TOT_VOT', 'LEAN'\n",
    "]"
   ]
  },
  {
   "cell_type": "code",
   "execution_count": 84,
   "metadata": {},
   "outputs": [],
   "source": [
    "columns_to_use = [col for col in sc_precincts_gdf.columns if col not in columns_to_ignore]"
   ]
  },
  {
   "cell_type": "code",
   "execution_count": 85,
   "metadata": {},
   "outputs": [
    {
     "name": "stdout",
     "output_type": "stream",
     "text": [
      "['G22A1NO', 'G22A1YES', 'G22A2NO', 'G22A2YES', 'G22AGRCNEL', 'G22AGRGEDM', 'G22AGROWRI', 'G22AGRRWEA', 'G22ATGOWRI', 'G22ATGRWIL', 'G22COMOWRI', 'G22COMRECK', 'G22GOVDCUN', 'G22GOVLREE', 'G22GOVOWRI', 'G22GOVRMCM', 'G22SOSDBUT', 'G22SOSOWRI', 'G22SOSRHAM', 'G22SUPAELL', 'G22SUPDELL', 'G22SUPGMIC', 'G22SUPOWRI', 'G22SUPRWEA', 'G22TREAWOR', 'G22TREOWRI', 'G22TRERLOF', 'G22USSDMAT', 'G22USSOWRI', 'G22USSRSCO', 'GCON01AODD', 'GCON01DAND', 'GCON01OWRI', 'GCON01RMAC', 'GCON02DLAR', 'GCON02OWRI', 'GCON02RWIL', 'GCON03OWRI', 'GCON03RDUN', 'GCON04OWRI', 'GCON04RTIM', 'GCON05DHUN', 'GCON05GGAI', 'GCON05OWRI', 'GCON05RNOR', 'GCON06DCLY', 'GCON06OWRI', 'GCON06RBUC', 'GCON07DSCO', 'GCON07OWRI', 'GCON07RFRY', 'GSL001OWRI', 'GSL001RWHI', 'GSL002OWRI', 'GSL002RSAN', 'GSL003OWRI', 'GSL003RCAR', 'GSL004OWRI', 'GSL004RHIO', 'GSL005OWRI', 'GSL005RCOL', 'GSL006OWRI', 'GSL006RCRO', 'GSL007DSAL', 'GSL007OWRI', 'GSL007RWES', 'GSL008ATOD', 'GSL008DMAC', 'GSL008OWRI', 'GSL008RCHA', 'GSL009DPOL', 'GSL009OWRI', 'GSL009RTHA', 'GSL010OWRI', 'GSL010RBEA', 'GSL011OWRI', 'GSL011RGAG', 'GSL012DPAR', 'GSL012OWRI', 'GSL012RGIB', 'GSL013DKIM', 'GSL013OWRI', 'GSL013RMCC', 'GSL014DDUN', 'GSL014OWRI', 'GSL014RJON', 'GSL015DMOO', 'GSL015OWRI', 'GSL015RPON', 'GSL016OWRI', 'GSL016RWIL', 'GSL017OWRI', 'GSL017RBUR', 'GSL018DREI', 'GSL018OWRI', 'GSL018RMOR', 'GSL019OWRI', 'GSL019RHAD', 'GSL020OWRI', 'GSL020RMOR', 'GSL021OWRI', 'GSL021RCOX', 'GSL022OWRI', 'GSL022RELL', 'GSL023DDIL', 'GSL023OWRI', 'GSL024OWRI', 'GSL024RBAN', 'GSL025DJON', 'GSL025IBOY', 'GSL025OWRI', 'GSL025RJUL', 'GSL026DVIL', 'GSL026OWRI', 'GSL026RFEL', 'GSL027OWRI', 'GSL027RVAU', 'GSL028DFRI', 'GSL028OWRI', 'GSL028RTRA', 'GSL029OWRI', 'GSL029RMOS', 'GSL030OWRI', 'GSL030RLAW', 'GSL031DHEN', 'GSL031OWRI', 'GSL032OWRI', 'GSL032RHYD', 'GSL033OWRI', 'GSL033RMOO', 'GSL034OWRI', 'GSL034RNUT', 'GSL035OWRI', 'GSL035RCHU', 'GSL036OWRI', 'GSL036RHAR', 'GSL037OWRI', 'GSL037RLON', 'GSL038OWRI', 'GSL038RMAG', 'GSL039OWRI', 'GSL039RFOR', 'GSL040OWRI', 'GSL040RWHI', 'GSL041DMCD', 'GSL041OWRI', 'GSL041RBRE', 'GSL042OWRI', 'GSL042RGIL', 'GSL043OWRI', 'GSL043RLIG', 'GSL044DCRO', 'GSL044IMCK', 'GSL044OWRI', 'GSL044RNEE', 'GSL045DSR', 'GSL045OWRI', 'GSL045RNEW', 'GSL046OWRI', 'GSL046RSES', 'GSL047OWRI', 'GSL047RPOP', 'GSL048DRUS', 'GSL048OWRI', 'GSL048RGUF', 'GSL049DKIN', 'GSL049OWRI', 'GSL049RHAR', 'GSL050DWHE', 'GSL050OWRI', 'GSL050RJON', 'GSL051DWEE', 'GSL051OWRI', 'GSL052DCAR', 'GSL052OWRI', 'GSL052RCON', 'GSL053OWRI', 'GSL053RYOW', 'GSL054DHEN', 'GSL054OWRI', 'GSL054RMCD', 'GSL055DHAY', 'GSL055ICOP', 'GSL055OWRI', 'GSL055RNOR', 'GSL056OWRI', 'GSL056RMCG', 'GSL057DATK', 'GSL057OWRI', 'GSL058OWRI', 'GSL058RJOH', 'GSL059DALE', 'GSL059OWRI', 'GSL060OWRI', 'GSL060RLOW', 'GSL061DPRE', 'GSL061OWRI', 'GSL061RSCH', 'GSL062DWIL', 'GSL062OWRI', 'GSL063DCOE', 'GSL063OWRI', 'GSL063RJOR', 'GSL064DJOH', 'GSL064OWRI', 'GSL064RPED', 'GSL065OWRI', 'GSL065RMIT', 'GSL066DLIT', 'GSL066OWRI', 'GSL066RONE', 'GSL067OWRI', 'GSL067RSMI', 'GSL068DCAR', 'GSL068OWRI', 'GSL068RCRA', 'GSL069OWRI', 'GSL069RWOO', 'GSL070DJOH', 'GSL070GHEN', 'GSL070OWRI', 'GSL070RWIL', 'GSL071OWRI', 'GSL071RBAL', 'GSL072DROS', 'GSL072OWRI', 'GSL073DHAR', 'GSL073OWRI', 'GSL074DRUT', 'GSL074OWRI', 'GSL075DBAU', 'GSL075OWRI', 'GSL075RFIN', 'GSL076DHOW', 'GSL076OWRI', 'GSL077DGAR', 'GSL077OWRI', 'GSL077RSMA', 'GSL078DBER', 'GSL078OWRI', 'GSL079DTHI', 'GSL079OWRI', 'GSL079RMCF', 'GSL080DNEW', 'GSL080OWRI', 'GSL080RLAN', 'GSL081OWRI', 'GSL081RBLA', 'GSL082DCLY', 'GSL082OWRI', 'GSL083DMCC', 'GSL083OWRI', 'GSL083RHIX', 'GSL084OWRI', 'GSL084RORE', 'GSL085LDAV', 'GSL085OWRI', 'GSL085RKIL', 'GSL086OWRI', 'GSL086RTAY', 'GSL087OWRI', 'GSL087RCAL', 'GSL088DSHR', 'GSL088OWRI', 'GSL088RMAY', 'GSL089OWRI', 'GSL089RCAS', 'GSL090DBAM', 'GSL090OWRI', 'GSL090RCAR', 'GSL091DHOS', 'GSL091OWRI', 'GSL092OWRI', 'GSL092RCOX', 'GSL093DOTT', 'GSL093OWRI', 'GSL093RULM', 'GSL094DDAV', 'GSL094OWRI', 'GSL094RGAT', 'GSL095DCOB', 'GSL095OWRI', 'GSL095RCIL', 'GSL096OWRI', 'GSL096RMCC', 'GSL097DLEW', 'GSL097OWRI', 'GSL097RROB', 'GSL098DCLI', 'GSL098OWRI', 'GSL098RMUR', 'GSL099OWRI', 'GSL099RSMI', 'GSL100OWRI', 'GSL100RDAV', 'GSL101DKIR', 'GSL101OWRI', 'GSL102DJEF', 'GSL102OWRI', 'GSL102RELS', 'GSL103DAND', 'GSL103OWRI', 'GSL104OWRI', 'GSL104RBAI', 'GSL105OWRI', 'GSL105RHAR', 'GSL106ATHO', 'GSL106DTHO', 'GSL106OWRI', 'GSL106RGUE', 'GSL107OWRI', 'GSL107RBRI', 'GSL108OWRI', 'GSL108RHEW', 'GSL109DTED', 'GSL109LTRA', 'GSL109OWRI', 'GSL110DROB', 'GSL110OWRI', 'GSL110RHAR', 'GSL111DGIL', 'GSL111OWRI', 'GSL112DART', 'GSL112OWRI', 'GSL112RBUS', 'GSL113DPEN', 'GSL113OWRI', 'GSL114DBRA', 'GSL114OWRI', 'GSL114RBRE', 'GSL115DWET', 'GSL115OWRI', 'GSL115RONE', 'GSL116DMUR', 'GSL116OWRI', 'GSL116RLEB', 'GSL117DMAT', 'GSL117OWRI', 'GSL117RPAC', 'GSL118OWRI', 'GSL118RHER', 'GSL119DSTA', 'GSL119OWRI', 'GSL119RFIP', 'GSL120OWRI', 'GSL120RNEW', 'GSL121DSR', 'GSL121OWRI', 'GSL121RERI', 'GSL122DWIL', 'GSL122OWRI', 'GSL122RHAG', 'GSL123OWRI', 'GSL123RBRA', 'GSL124DNAS', 'GSL124OWRI', 'GSL124RERI']\n"
     ]
    }
   ],
   "source": [
    "print(columns_to_use)"
   ]
  },
  {
   "cell_type": "code",
   "execution_count": null,
   "metadata": {},
   "outputs": [],
   "source": [
    "sc_precincts_gdf = process_precinct_votes(sc_precincts_gdf, columns_to_use)"
   ]
  },
  {
   "cell_type": "code",
   "execution_count": 88,
   "metadata": {},
   "outputs": [
    {
     "name": "stdout",
     "output_type": "stream",
     "text": [
      "   TOT_REP  TOT_DEM  TOT_OTH  TOT_VOT  TOT_VOT_DEM_REP        LEAN\n",
      "0   7708.0    984.0   2079.0  10771.0           8692.0  Republican\n",
      "1   2714.0   1589.0   1354.0   5657.0           4303.0  Republican\n",
      "2   3748.0    925.0   1216.0   5889.0           4673.0  Republican\n",
      "3   3348.0    474.0    926.0   4748.0           3822.0  Republican\n",
      "4   6118.0    493.0   1507.0   8118.0           6611.0  Republican\n"
     ]
    }
   ],
   "source": [
    "print(sc_precincts_gdf[['TOT_REP', 'TOT_DEM', 'TOT_OTH', 'TOT_VOT', 'TOT_VOT_DEM_REP', 'LEAN']].head())"
   ]
  },
  {
   "cell_type": "code",
   "execution_count": 89,
   "metadata": {},
   "outputs": [
    {
     "name": "stdout",
     "output_type": "stream",
     "text": [
      "LEAN      \n",
      "Republican    1911\n",
      "Democratic     346\n",
      "Unknown          4\n",
      "Name: count, dtype: int64\n"
     ]
    }
   ],
   "source": [
    "print(sc_precincts_gdf[['LEAN']].value_counts())"
   ]
  },
  {
   "cell_type": "code",
   "execution_count": 90,
   "metadata": {},
   "outputs": [
    {
     "name": "stdout",
     "output_type": "stream",
     "text": [
      "EPSG:4326\n"
     ]
    }
   ],
   "source": [
    "print(sc_precincts_gdf.crs)"
   ]
  },
  {
   "cell_type": "code",
   "execution_count": 91,
   "metadata": {},
   "outputs": [],
   "source": [
    "sc_precincts_gdf.to_file(\n",
    "    \"states/south_carolina/geodata/south_carolina_precincts.geojson\",\n",
    "    driver=\"GeoJSON\",\n",
    "    drop_crs=True\n",
    ")"
   ]
  },
  {
   "cell_type": "code",
   "execution_count": 93,
   "metadata": {},
   "outputs": [],
   "source": [
    "md_precincts_gdf = gpd.read_file('states/maryland/geodata/maryland_precincts.geojson')\n"
   ]
  },
  {
   "cell_type": "code",
   "execution_count": 94,
   "metadata": {},
   "outputs": [
    {
     "name": "stdout",
     "output_type": "stream",
     "text": [
      "['NAME' 'NUMBER' 'JURSCODE' 'VOTESPRE' 'G20PREDBID' 'G20PRERTRU'\n",
      " 'G20PRELJOR' 'G20PREGHAW' 'G20PREBSEG' 'G20PREOWRI' 'MEDN_INC22'\n",
      " 'TOT_HOUS22' '0_35K' '35K_60K' '60K-100K' '100K_125K' '125K_150K'\n",
      " '150K_MORE' 'TOT_POP22' 'NHSP_POP22' 'HSP_POP22' 'WHT_NHSP22'\n",
      " 'BLK_NHSP22' 'AIA_NHSP22' 'ASN_NHSP22' 'HPI_NHSP22' 'OTH_NHSP22'\n",
      " 'geometry']\n"
     ]
    }
   ],
   "source": [
    "print(md_precincts_gdf.columns.values)"
   ]
  }
 ],
 "metadata": {
  "kernelspec": {
   "display_name": "cse354",
   "language": "python",
   "name": "python3"
  },
  "language_info": {
   "codemirror_mode": {
    "name": "ipython",
    "version": 3
   },
   "file_extension": ".py",
   "mimetype": "text/x-python",
   "name": "python",
   "nbconvert_exporter": "python",
   "pygments_lexer": "ipython3",
   "version": "3.12.1"
  }
 },
 "nbformat": 4,
 "nbformat_minor": 2
}
