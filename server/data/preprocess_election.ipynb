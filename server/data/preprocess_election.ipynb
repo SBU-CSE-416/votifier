{
 "cells": [
  {
   "cell_type": "code",
   "execution_count": 413,
   "metadata": {},
   "outputs": [],
   "source": [
    "import pandas as pd\n",
    "import geopandas as gpd\n",
    "import json"
   ]
  },
  {
   "cell_type": "markdown",
   "metadata": {},
   "source": [
    "## Preprocess SC Election result from Precincts"
   ]
  },
  {
   "cell_type": "markdown",
   "metadata": {},
   "source": [
    "### Function and declaration"
   ]
  },
  {
   "cell_type": "code",
   "execution_count": null,
   "metadata": {},
   "outputs": [],
   "source": [
    "sc_state_election = gpd.read_file('data/sc.geojson')"
   ]
  },
  {
   "cell_type": "code",
   "execution_count": 481,
   "metadata": {},
   "outputs": [],
   "source": [
    "def process_precinct_votes(precinct_gdf, columns_to_use, columns_to_ignore):\n",
    "    \"\"\"\n",
    "    Args:\n",
    "        precinct_gdf (pd.DataFrame): The DataFrame containing precinct vote data.\n",
    "        columns_to_use (list): The list of columns to consider for vote calculations.\n",
    "\n",
    "    Returns:\n",
    "        pd.DataFrame: The updated DataFrame with calculated vote totals, lean, and filtered party-related columns.\n",
    "    \"\"\"\n",
    "    precinct_gdf['TOT_REP'] = 0\n",
    "    precinct_gdf['TOT_DEM'] = 0\n",
    "    precinct_gdf['TOT_VOT'] = 0\n",
    "\n",
    "    republican_columns = []\n",
    "    democratic_columns = []\n",
    "\n",
    "    for col in columns_to_use:\n",
    "        if len(col) >= 7:\n",
    "            party_code = col[6]\n",
    "            if party_code == 'R':  # Republican\n",
    "                precinct_gdf['TOT_REP'] += precinct_gdf[col]\n",
    "                republican_columns.append(col)\n",
    "            elif party_code == 'D':  # Democrat\n",
    "                precinct_gdf['TOT_DEM'] += precinct_gdf[col]\n",
    "                democratic_columns.append(col)  \n",
    "\n",
    "    precinct_gdf['TOT_VOT'] = (\n",
    "        precinct_gdf['TOT_REP'] +\n",
    "        precinct_gdf['TOT_DEM']\n",
    "    )\n",
    "\n",
    "    precinct_gdf['LEAN'] = precinct_gdf.apply(\n",
    "        lambda row: 'Unknown' if row['TOT_REP'] == 0 and row['TOT_DEM'] == 0 else\n",
    "                    ('Republican' if row['TOT_REP'] > row['TOT_DEM'] else\n",
    "                     ('Democratic' if row['TOT_DEM'] > row['TOT_REP'] else 'Unknown')),\n",
    "        axis=1\n",
    "    )\n",
    "    filtered_columns = columns_to_ignore + ['TOT_REP', 'TOT_DEM', 'TOT_VOT', 'LEAN'] + republican_columns + democratic_columns\n",
    "    precinct_gdf = precinct_gdf[filtered_columns]\n",
    "\n",
    "    return precinct_gdf\n"
   ]
  },
  {
   "cell_type": "markdown",
   "metadata": {},
   "source": [
    "### Main script"
   ]
  },
  {
   "cell_type": "code",
   "execution_count": 694,
   "metadata": {},
   "outputs": [],
   "source": [
    "sc_precincts_gdf = gpd.read_file('states/south_carolina/geodata/south_carolina_precincts.geojson')\n",
    "sc_election_gdf = gpd.read_file('raw/precincts/sc_2022_gen_prec/sc_2022_gen_cong_prec/sc_2022_gen_cong_prec.shp')"
   ]
  },
  {
   "cell_type": "code",
   "execution_count": 695,
   "metadata": {},
   "outputs": [
    {
     "name": "stdout",
     "output_type": "stream",
     "text": [
      "Index(['UNIQUE_ID', 'NAME', 'Prec_Code', 'CONG_DIST', 'geometry'], dtype='object')\n"
     ]
    }
   ],
   "source": [
    "print(sc_precincts_gdf.columns)"
   ]
  },
  {
   "cell_type": "code",
   "execution_count": 696,
   "metadata": {},
   "outputs": [
    {
     "name": "stdout",
     "output_type": "stream",
     "text": [
      "                 UNIQUE_ID          NAME Prec_Code CONG_DIST  \\\n",
      "0  DORCHESTER_PRECINCT_084  BEECH HILL 2       084        01   \n",
      "1  DORCHESTER_PRECINCT_072       CYPRESS       072        01   \n",
      "2  DORCHESTER_PRECINCT_036      DELEMARS       036        01   \n",
      "3  DORCHESTER_PRECINCT_035       GIVHANS       035        01   \n",
      "4  DORCHESTER_PRECINCT_094     GIVHANS 2       094        01   \n",
      "\n",
      "                                            geometry  \n",
      "0  MULTIPOLYGON (((-80.20876 32.94947, -80.20806 ...  \n",
      "1  MULTIPOLYGON (((-80.23595 33.07929, -80.23603 ...  \n",
      "2  POLYGON ((-80.29900 32.95621, -80.29874 32.956...  \n",
      "3  POLYGON ((-80.37569 33.02291, -80.37544 33.022...  \n",
      "4  POLYGON ((-80.34814 33.06418, -80.34802 33.064...  \n"
     ]
    }
   ],
   "source": [
    "print(sc_precincts_gdf.head())"
   ]
  },
  {
   "cell_type": "code",
   "execution_count": 697,
   "metadata": {},
   "outputs": [],
   "source": [
    "sc_election_gdf['UNIQUE_ID'] = ( \n",
    "    sc_election_gdf['County'] + '_PRECINCT_' + \n",
    "    sc_election_gdf['Prec_Code'].astype(str)\n",
    ")"
   ]
  },
  {
   "cell_type": "code",
   "execution_count": 698,
   "metadata": {},
   "outputs": [
    {
     "name": "stdout",
     "output_type": "stream",
     "text": [
      "                 UNIQUE_ID COUNTYFP      County      Precinct Prec_Code  \\\n",
      "0  DORCHESTER_PRECINCT_084      035  DORCHESTER  BEECH HILL 2       084   \n",
      "1  DORCHESTER_PRECINCT_072      035  DORCHESTER       CYPRESS       072   \n",
      "2  DORCHESTER_PRECINCT_036      035  DORCHESTER      DELEMARS       036   \n",
      "3  DORCHESTER_PRECINCT_035      035  DORCHESTER       GIVHANS       035   \n",
      "4  DORCHESTER_PRECINCT_094      035  DORCHESTER     GIVHANS 2       094   \n",
      "\n",
      "  CONG_DIST  GCON01AODD  GCON01DAND  GCON01OWRI  GCON01RMAC  ...  GCON05GGAI  \\\n",
      "0        01          10         286           3         540  ...           0   \n",
      "1        01          16         479           2         682  ...           0   \n",
      "2        01           2          69           2          85  ...           0   \n",
      "3        01           4         144           1         296  ...           0   \n",
      "4        01           8         189           0         360  ...           0   \n",
      "\n",
      "   GCON05OWRI  GCON05RNOR  GCON06DCLY  GCON06OWRI  GCON06RBUC  GCON07DSCO  \\\n",
      "0           0           0           0           0           0           0   \n",
      "1           0           0           0           0           0           0   \n",
      "2           0           0           0           0           0           0   \n",
      "3           0           0           0           0           0           0   \n",
      "4           0           0           0           0           0           0   \n",
      "\n",
      "   GCON07OWRI  GCON07RFRY                                           geometry  \n",
      "0           0           0  MULTIPOLYGON (((2242701.683 407030.177, 224291...  \n",
      "1           0           0  MULTIPOLYGON (((2234014.017 454196.086, 223398...  \n",
      "2           0           0  POLYGON ((2215007.673 409281.289, 2215084.635 ...  \n",
      "3           0           0  POLYGON ((2191338.848 433396.844, 2191415.156 ...  \n",
      "4           0           0  POLYGON ((2199688.485 448462.344, 2199723.242 ...  \n",
      "\n",
      "[5 rows x 28 columns]\n"
     ]
    }
   ],
   "source": [
    "print(sc_election_gdf.head())"
   ]
  },
  {
   "cell_type": "code",
   "execution_count": 699,
   "metadata": {},
   "outputs": [
    {
     "name": "stdout",
     "output_type": "stream",
     "text": [
      "['UNIQUE_ID' 'COUNTYFP' 'County' 'Precinct' 'Prec_Code' 'CONG_DIST'\n",
      " 'GCON01AODD' 'GCON01DAND' 'GCON01OWRI' 'GCON01RMAC' 'GCON02DLAR'\n",
      " 'GCON02OWRI' 'GCON02RWIL' 'GCON03OWRI' 'GCON03RDUN' 'GCON04OWRI'\n",
      " 'GCON04RTIM' 'GCON05DHUN' 'GCON05GGAI' 'GCON05OWRI' 'GCON05RNOR'\n",
      " 'GCON06DCLY' 'GCON06OWRI' 'GCON06RBUC' 'GCON07DSCO' 'GCON07OWRI'\n",
      " 'GCON07RFRY' 'geometry']\n"
     ]
    }
   ],
   "source": [
    "print(sc_election_gdf.columns.values)  "
   ]
  },
  {
   "cell_type": "code",
   "execution_count": 700,
   "metadata": {},
   "outputs": [],
   "source": [
    "columns_to_ignore = ['UNIQUE_ID', 'CONG_DIST','COUNTYFP', 'County', 'Prec_Code', 'Precinct', 'geometry']"
   ]
  },
  {
   "cell_type": "code",
   "execution_count": 701,
   "metadata": {},
   "outputs": [],
   "source": [
    "columns_to_use = [col for col in sc_election_gdf.columns if col not in columns_to_ignore]"
   ]
  },
  {
   "cell_type": "code",
   "execution_count": 702,
   "metadata": {},
   "outputs": [
    {
     "name": "stdout",
     "output_type": "stream",
     "text": [
      "['GCON01AODD', 'GCON01DAND', 'GCON01OWRI', 'GCON01RMAC', 'GCON02DLAR', 'GCON02OWRI', 'GCON02RWIL', 'GCON03OWRI', 'GCON03RDUN', 'GCON04OWRI', 'GCON04RTIM', 'GCON05DHUN', 'GCON05GGAI', 'GCON05OWRI', 'GCON05RNOR', 'GCON06DCLY', 'GCON06OWRI', 'GCON06RBUC', 'GCON07DSCO', 'GCON07OWRI', 'GCON07RFRY']\n"
     ]
    }
   ],
   "source": [
    "print(columns_to_use)"
   ]
  },
  {
   "cell_type": "code",
   "execution_count": 703,
   "metadata": {},
   "outputs": [],
   "source": [
    "sc_election_processed_gdf = process_precinct_votes(sc_election_gdf, columns_to_use, columns_to_ignore)"
   ]
  },
  {
   "cell_type": "code",
   "execution_count": 704,
   "metadata": {},
   "outputs": [
    {
     "name": "stdout",
     "output_type": "stream",
     "text": [
      "   TOT_REP  TOT_DEM  TOT_VOT        LEAN\n",
      "0      540      286      826  Republican\n",
      "1      682      479     1161  Republican\n",
      "2       85       69      154  Republican\n",
      "3      296      144      440  Republican\n",
      "4      360      189      549  Republican\n"
     ]
    }
   ],
   "source": [
    "print(sc_election_processed_gdf[['TOT_REP', 'TOT_DEM', 'TOT_VOT', 'LEAN']].head())"
   ]
  },
  {
   "cell_type": "code",
   "execution_count": 705,
   "metadata": {},
   "outputs": [
    {
     "name": "stdout",
     "output_type": "stream",
     "text": [
      "LEAN      \n",
      "Republican    1672\n",
      "Democratic     597\n",
      "Unknown          8\n",
      "Name: count, dtype: int64\n"
     ]
    }
   ],
   "source": [
    "print(sc_election_processed_gdf[['LEAN']].value_counts())"
   ]
  },
  {
   "cell_type": "code",
   "execution_count": 706,
   "metadata": {},
   "outputs": [
    {
     "name": "stdout",
     "output_type": "stream",
     "text": [
      "['UNIQUE_ID' 'CONG_DIST' 'COUNTYFP' 'County' 'Prec_Code' 'Precinct'\n",
      " 'geometry' 'TOT_REP' 'TOT_DEM' 'TOT_VOT' 'LEAN' 'GCON01RMAC' 'GCON02RWIL'\n",
      " 'GCON03RDUN' 'GCON04RTIM' 'GCON05RNOR' 'GCON06RBUC' 'GCON07RFRY'\n",
      " 'GCON01DAND' 'GCON02DLAR' 'GCON05DHUN' 'GCON06DCLY' 'GCON07DSCO']\n"
     ]
    }
   ],
   "source": [
    "print(sc_election_processed_gdf.columns.values)"
   ]
  },
  {
   "cell_type": "code",
   "execution_count": 707,
   "metadata": {},
   "outputs": [
    {
     "name": "stdout",
     "output_type": "stream",
     "text": [
      "['UNIQUE_ID' 'CONG_DIST' 'COUNTYFP' 'County' 'Prec_Code' 'Precinct'\n",
      " 'geometry' 'TOT_REP' 'TOT_DEM' 'TOT_VOT' 'LEAN' 'GCON01RMAC' 'GCON02RWIL'\n",
      " 'GCON03RDUN' 'GCON04RTIM' 'GCON05RNOR' 'GCON06RBUC' 'GCON07RFRY'\n",
      " 'GCON01DAND' 'GCON02DLAR' 'GCON05DHUN' 'GCON06DCLY' 'GCON07DSCO']\n"
     ]
    }
   ],
   "source": [
    "print(sc_election_processed_gdf.columns.values)"
   ]
  },
  {
   "cell_type": "code",
   "execution_count": null,
   "metadata": {},
   "outputs": [],
   "source": []
  },
  {
   "cell_type": "code",
   "execution_count": 708,
   "metadata": {},
   "outputs": [],
   "source": [
    "#drop geometry column\n",
    "sc_election_processed_gdf = sc_election_processed_gdf.drop(columns='geometry')"
   ]
  },
  {
   "cell_type": "code",
   "execution_count": 709,
   "metadata": {},
   "outputs": [],
   "source": [
    "with open('states/south_carolina/election/sc_election.json', 'w') as json_file:\n",
    "    json.dump(sc_election_processed_gdf.to_dict(orient='records'), json_file, indent=4)"
   ]
  },
  {
   "cell_type": "markdown",
   "metadata": {},
   "source": [
    "## MD election preprocessing"
   ]
  },
  {
   "cell_type": "code",
   "execution_count": 678,
   "metadata": {},
   "outputs": [],
   "source": [
    "md_precincts_gdf = gpd.read_file('states/maryland/geodata/maryland_precincts.geojson')\n"
   ]
  },
  {
   "cell_type": "code",
   "execution_count": 583,
   "metadata": {},
   "outputs": [
    {
     "name": "stdout",
     "output_type": "stream",
     "text": [
      "                     NAME  NUMBER                 UNIQUE_ID  \\\n",
      "0  HOWARD PRECINCT 06-001  06-001  0_HOWARD_PRECINCT_06-001   \n",
      "1  HOWARD PRECINCT 05-023  05-023  1_HOWARD_PRECINCT_05-023   \n",
      "2  HOWARD PRECINCT 05-018  05-018  2_HOWARD_PRECINCT_05-018   \n",
      "3  HOWARD PRECINCT 05-017  05-017  3_HOWARD_PRECINCT_05-017   \n",
      "4  HOWARD PRECINCT 05-020  05-020  4_HOWARD_PRECINCT_05-020   \n",
      "\n",
      "                                            geometry  \n",
      "0  POLYGON Z ((-76.83025 39.14757 0.00000, -76.83...  \n",
      "1  POLYGON Z ((-76.89107 39.22616 0.00000, -76.89...  \n",
      "2  POLYGON Z ((-76.88639 39.20934 0.00000, -76.88...  \n",
      "3  POLYGON Z ((-76.88670 39.20810 0.00000, -76.88...  \n",
      "4  POLYGON Z ((-76.91361 39.14963 0.00000, -76.91...  \n"
     ]
    }
   ],
   "source": [
    "print(md_precincts_gdf.head())"
   ]
  },
  {
   "cell_type": "code",
   "execution_count": 584,
   "metadata": {},
   "outputs": [],
   "source": [
    "# load csv\n",
    "md_election_df = pd.read_csv('raw/precincts/HOUSE_precinct_general.csv')"
   ]
  },
  {
   "cell_type": "code",
   "execution_count": 585,
   "metadata": {},
   "outputs": [
    {
     "name": "stdout",
     "output_type": "stream",
     "text": [
      "                    precinct    office party_detailed party_simplified  \\\n",
      "0  061110097164_003026019037  US HOUSE       DEMOCRAT         DEMOCRAT   \n",
      "1  061110097164_003026019037  US HOUSE     REPUBLICAN       REPUBLICAN   \n",
      "2  061110097164_003026019037  US HOUSE       DEMOCRAT         DEMOCRAT   \n",
      "3  061110097164_003026019037  US HOUSE     REPUBLICAN       REPUBLICAN   \n",
      "4  061110097168_003026019037  US HOUSE       DEMOCRAT         DEMOCRAT   \n",
      "\n",
      "           mode  votes county_name  county_fips jurisdiction_name  \\\n",
      "0      ABSENTEE     32     VENTURA       6111.0           VENTURA   \n",
      "1      ABSENTEE      1     VENTURA       6111.0           VENTURA   \n",
      "2  NOT ABSENTEE      1     VENTURA       6111.0           VENTURA   \n",
      "3  NOT ABSENTEE      3     VENTURA       6111.0           VENTURA   \n",
      "4      ABSENTEE    303     VENTURA       6111.0           VENTURA   \n",
      "\n",
      "   jurisdiction_fips  ...       state  special writein  state_po state_fips  \\\n",
      "0             6111.0  ...  CALIFORNIA    False   False        CA          6   \n",
      "1             6111.0  ...  CALIFORNIA    False   False        CA          6   \n",
      "2             6111.0  ...  CALIFORNIA    False   False        CA          6   \n",
      "3             6111.0  ...  CALIFORNIA    False   False        CA          6   \n",
      "4             6111.0  ...  CALIFORNIA    False   False        CA          6   \n",
      "\n",
      "  state_cen  state_ic        date readme_check  magnitude  \n",
      "0        93        71  2020-11-03         True          1  \n",
      "1        93        71  2020-11-03         True          1  \n",
      "2        93        71  2020-11-03         True          1  \n",
      "3        93        71  2020-11-03         True          1  \n",
      "4        93        71  2020-11-03         True          1  \n",
      "\n",
      "[5 rows x 25 columns]\n"
     ]
    }
   ],
   "source": [
    "print(md_election_df.head())"
   ]
  },
  {
   "cell_type": "code",
   "execution_count": 589,
   "metadata": {},
   "outputs": [],
   "source": [
    "#filter state_po == MD\n",
    "md_election_df = md_election_df[md_election_df['state_po'] == 'MD']"
   ]
  },
  {
   "cell_type": "code",
   "execution_count": 590,
   "metadata": {},
   "outputs": [
    {
     "name": "stdout",
     "output_type": "stream",
     "text": [
      "['precinct' 'office' 'party_detailed' 'party_simplified' 'mode' 'votes'\n",
      " 'county_name' 'county_fips' 'jurisdiction_name' 'jurisdiction_fips'\n",
      " 'candidate' 'district' 'dataverse' 'year' 'stage' 'state' 'special'\n",
      " 'writein' 'state_po' 'state_fips' 'state_cen' 'state_ic' 'date'\n",
      " 'readme_check' 'magnitude']\n"
     ]
    }
   ],
   "source": [
    "print(md_election_df.columns.values)"
   ]
  },
  {
   "cell_type": "code",
   "execution_count": 591,
   "metadata": {},
   "outputs": [
    {
     "name": "stdout",
     "output_type": "stream",
     "text": [
      "county_name\n",
      "BALTIMORE CITY     6365\n",
      "MONTGOMERY         5510\n",
      "PRINCE GEORGE'S    4545\n",
      "BALTIMORE          4140\n",
      "ANNE ARUNDEL       2925\n",
      "HOWARD             2440\n",
      "FREDERICK          1880\n",
      "HARFORD            1335\n",
      "WASHINGTON         1325\n",
      "ALLEGANY            925\n",
      "WICOMICO            810\n",
      "CARROLL             655\n",
      "CHARLES             645\n",
      "DORCHESTER          600\n",
      "ST MARY'S           540\n",
      "GARRETT             475\n",
      "CECIL               420\n",
      "CALVERT             345\n",
      "SOMERSET            345\n",
      "WORCESTER           300\n",
      "TALBOT              180\n",
      "QUEEN ANNE'S        165\n",
      "KENT                150\n",
      "CAROLINE            120\n",
      "Name: count, dtype: int64\n"
     ]
    }
   ],
   "source": [
    "print(md_election_df['county_name'].value_counts())"
   ]
  },
  {
   "cell_type": "code",
   "execution_count": 592,
   "metadata": {},
   "outputs": [],
   "source": [
    "md_election_df['NAME'] = md_election_df['county_name'] + '_PRECINCT_' + md_election_df['precinct'].astype(str)\n",
    "columns_order = ['NAME'] + [col for col in md_election_df.columns if col != 'NAME']\n",
    "md_election_df = md_election_df[columns_order]"
   ]
  },
  {
   "cell_type": "code",
   "execution_count": 593,
   "metadata": {},
   "outputs": [
    {
     "name": "stdout",
     "output_type": "stream",
     "text": [
      "                             NAME precinct    office party_detailed  \\\n",
      "51996    CAROLINE_PRECINCT_01-001   01-001  US HOUSE            NaN   \n",
      "51997     CARROLL_PRECINCT_01-001   01-001  US HOUSE            NaN   \n",
      "51998       CECIL_PRECINCT_01-001   01-001  US HOUSE            NaN   \n",
      "51999  DORCHESTER_PRECINCT_01-001   01-001  US HOUSE            NaN   \n",
      "52000        KENT_PRECINCT_01-001   01-001  US HOUSE            NaN   \n",
      "\n",
      "      party_simplified          mode  votes county_name  county_fips  \\\n",
      "51996              NaN  2ND ABSENTEE      0    CAROLINE      24011.0   \n",
      "51997              NaN  2ND ABSENTEE      0     CARROLL      24013.0   \n",
      "51998              NaN  2ND ABSENTEE      0       CECIL      24015.0   \n",
      "51999              NaN  2ND ABSENTEE      0  DORCHESTER      24019.0   \n",
      "52000              NaN  2ND ABSENTEE      0        KENT      24029.0   \n",
      "\n",
      "      jurisdiction_name  ...     state special  writein state_po  state_fips  \\\n",
      "51996          CAROLINE  ...  MARYLAND   False     True       MD          24   \n",
      "51997           CARROLL  ...  MARYLAND   False     True       MD          24   \n",
      "51998             CECIL  ...  MARYLAND   False     True       MD          24   \n",
      "51999        DORCHESTER  ...  MARYLAND   False     True       MD          24   \n",
      "52000              KENT  ...  MARYLAND   False     True       MD          24   \n",
      "\n",
      "      state_cen state_ic        date  readme_check magnitude  \n",
      "51996        52       52  2020-11-03         False         1  \n",
      "51997        52       52  2020-11-03         False         1  \n",
      "51998        52       52  2020-11-03         False         1  \n",
      "51999        52       52  2020-11-03         False         1  \n",
      "52000        52       52  2020-11-03         False         1  \n",
      "\n",
      "[5 rows x 26 columns]\n"
     ]
    }
   ],
   "source": [
    "print(md_election_df.head())    "
   ]
  },
  {
   "cell_type": "code",
   "execution_count": 596,
   "metadata": {},
   "outputs": [
    {
     "name": "stdout",
     "output_type": "stream",
     "text": [
      "                         NAME precinct    office party_detailed  \\\n",
      "79771  HOWARD_PRECINCT_05-023   05-023  US HOUSE            NaN   \n",
      "79772  HOWARD_PRECINCT_05-023   05-023  US HOUSE            NaN   \n",
      "79773  HOWARD_PRECINCT_05-023   05-023  US HOUSE            NaN   \n",
      "79774  HOWARD_PRECINCT_05-023   05-023  US HOUSE            NaN   \n",
      "79775  HOWARD_PRECINCT_05-023   05-023  US HOUSE            NaN   \n",
      "79776  HOWARD_PRECINCT_05-023   05-023  US HOUSE       DEMOCRAT   \n",
      "79777  HOWARD_PRECINCT_05-023   05-023  US HOUSE       DEMOCRAT   \n",
      "79778  HOWARD_PRECINCT_05-023   05-023  US HOUSE       DEMOCRAT   \n",
      "79779  HOWARD_PRECINCT_05-023   05-023  US HOUSE       DEMOCRAT   \n",
      "79780  HOWARD_PRECINCT_05-023   05-023  US HOUSE       DEMOCRAT   \n",
      "79781  HOWARD_PRECINCT_05-023   05-023  US HOUSE       DEMOCRAT   \n",
      "79782  HOWARD_PRECINCT_05-023   05-023  US HOUSE       DEMOCRAT   \n",
      "79783  HOWARD_PRECINCT_05-023   05-023  US HOUSE       DEMOCRAT   \n",
      "79784  HOWARD_PRECINCT_05-023   05-023  US HOUSE       DEMOCRAT   \n",
      "79785  HOWARD_PRECINCT_05-023   05-023  US HOUSE       DEMOCRAT   \n",
      "79786  HOWARD_PRECINCT_05-023   05-023  US HOUSE     REPUBLICAN   \n",
      "79787  HOWARD_PRECINCT_05-023   05-023  US HOUSE     REPUBLICAN   \n",
      "79788  HOWARD_PRECINCT_05-023   05-023  US HOUSE     REPUBLICAN   \n",
      "79789  HOWARD_PRECINCT_05-023   05-023  US HOUSE     REPUBLICAN   \n",
      "79790  HOWARD_PRECINCT_05-023   05-023  US HOUSE     REPUBLICAN   \n",
      "79791  HOWARD_PRECINCT_05-023   05-023  US HOUSE     REPUBLICAN   \n",
      "79792  HOWARD_PRECINCT_05-023   05-023  US HOUSE     REPUBLICAN   \n",
      "79793  HOWARD_PRECINCT_05-023   05-023  US HOUSE     REPUBLICAN   \n",
      "79794  HOWARD_PRECINCT_05-023   05-023  US HOUSE     REPUBLICAN   \n",
      "79795  HOWARD_PRECINCT_05-023   05-023  US HOUSE     REPUBLICAN   \n",
      "\n",
      "      party_simplified          mode  votes county_name  county_fips  \\\n",
      "79771              NaN  2ND ABSENTEE      1      HOWARD      24027.0   \n",
      "79772              NaN      ABSENTEE      2      HOWARD      24027.0   \n",
      "79773              NaN  EARLY VOTING      0      HOWARD      24027.0   \n",
      "79774              NaN  ELECTION DAY      0      HOWARD      24027.0   \n",
      "79775              NaN   PROVISIONAL      1      HOWARD      24027.0   \n",
      "79776         DEMOCRAT  2ND ABSENTEE      0      HOWARD      24027.0   \n",
      "79777         DEMOCRAT      ABSENTEE      0      HOWARD      24027.0   \n",
      "79778         DEMOCRAT  EARLY VOTING      0      HOWARD      24027.0   \n",
      "79779         DEMOCRAT  ELECTION DAY      0      HOWARD      24027.0   \n",
      "79780         DEMOCRAT   PROVISIONAL      0      HOWARD      24027.0   \n",
      "79781         DEMOCRAT  2ND ABSENTEE    198      HOWARD      24027.0   \n",
      "79782         DEMOCRAT      ABSENTEE    467      HOWARD      24027.0   \n",
      "79783         DEMOCRAT  EARLY VOTING    288      HOWARD      24027.0   \n",
      "79784         DEMOCRAT  ELECTION DAY     34      HOWARD      24027.0   \n",
      "79785         DEMOCRAT   PROVISIONAL     19      HOWARD      24027.0   \n",
      "79786       REPUBLICAN  2ND ABSENTEE     57      HOWARD      24027.0   \n",
      "79787       REPUBLICAN      ABSENTEE     79      HOWARD      24027.0   \n",
      "79788       REPUBLICAN  EARLY VOTING    119      HOWARD      24027.0   \n",
      "79789       REPUBLICAN  ELECTION DAY     35      HOWARD      24027.0   \n",
      "79790       REPUBLICAN   PROVISIONAL      6      HOWARD      24027.0   \n",
      "79791       REPUBLICAN  2ND ABSENTEE      0      HOWARD      24027.0   \n",
      "79792       REPUBLICAN      ABSENTEE      0      HOWARD      24027.0   \n",
      "79793       REPUBLICAN  EARLY VOTING      0      HOWARD      24027.0   \n",
      "79794       REPUBLICAN  ELECTION DAY      0      HOWARD      24027.0   \n",
      "79795       REPUBLICAN   PROVISIONAL      0      HOWARD      24027.0   \n",
      "\n",
      "      jurisdiction_name  ...     state special  writein state_po  state_fips  \\\n",
      "79771            HOWARD  ...  MARYLAND    True     True       MD          24   \n",
      "79772            HOWARD  ...  MARYLAND    True     True       MD          24   \n",
      "79773            HOWARD  ...  MARYLAND    True     True       MD          24   \n",
      "79774            HOWARD  ...  MARYLAND    True     True       MD          24   \n",
      "79775            HOWARD  ...  MARYLAND    True     True       MD          24   \n",
      "79776            HOWARD  ...  MARYLAND    True     True       MD          24   \n",
      "79777            HOWARD  ...  MARYLAND    True     True       MD          24   \n",
      "79778            HOWARD  ...  MARYLAND    True     True       MD          24   \n",
      "79779            HOWARD  ...  MARYLAND    True     True       MD          24   \n",
      "79780            HOWARD  ...  MARYLAND    True     True       MD          24   \n",
      "79781            HOWARD  ...  MARYLAND    True    False       MD          24   \n",
      "79782            HOWARD  ...  MARYLAND    True    False       MD          24   \n",
      "79783            HOWARD  ...  MARYLAND    True    False       MD          24   \n",
      "79784            HOWARD  ...  MARYLAND    True    False       MD          24   \n",
      "79785            HOWARD  ...  MARYLAND    True    False       MD          24   \n",
      "79786            HOWARD  ...  MARYLAND    True    False       MD          24   \n",
      "79787            HOWARD  ...  MARYLAND    True    False       MD          24   \n",
      "79788            HOWARD  ...  MARYLAND    True    False       MD          24   \n",
      "79789            HOWARD  ...  MARYLAND    True    False       MD          24   \n",
      "79790            HOWARD  ...  MARYLAND    True    False       MD          24   \n",
      "79791            HOWARD  ...  MARYLAND    True     True       MD          24   \n",
      "79792            HOWARD  ...  MARYLAND    True     True       MD          24   \n",
      "79793            HOWARD  ...  MARYLAND    True     True       MD          24   \n",
      "79794            HOWARD  ...  MARYLAND    True     True       MD          24   \n",
      "79795            HOWARD  ...  MARYLAND    True     True       MD          24   \n",
      "\n",
      "      state_cen state_ic        date  readme_check magnitude  \n",
      "79771        52       52  2020-11-03         False         1  \n",
      "79772        52       52  2020-11-03         False         1  \n",
      "79773        52       52  2020-11-03         False         1  \n",
      "79774        52       52  2020-11-03         False         1  \n",
      "79775        52       52  2020-11-03         False         1  \n",
      "79776        52       52  2020-11-03         False         1  \n",
      "79777        52       52  2020-11-03         False         1  \n",
      "79778        52       52  2020-11-03         False         1  \n",
      "79779        52       52  2020-11-03         False         1  \n",
      "79780        52       52  2020-11-03         False         1  \n",
      "79781        52       52  2020-11-03         False         1  \n",
      "79782        52       52  2020-11-03         False         1  \n",
      "79783        52       52  2020-11-03         False         1  \n",
      "79784        52       52  2020-11-03         False         1  \n",
      "79785        52       52  2020-11-03         False         1  \n",
      "79786        52       52  2020-11-03         False         1  \n",
      "79787        52       52  2020-11-03         False         1  \n",
      "79788        52       52  2020-11-03         False         1  \n",
      "79789        52       52  2020-11-03         False         1  \n",
      "79790        52       52  2020-11-03         False         1  \n",
      "79791        52       52  2020-11-03         False         1  \n",
      "79792        52       52  2020-11-03         False         1  \n",
      "79793        52       52  2020-11-03         False         1  \n",
      "79794        52       52  2020-11-03         False         1  \n",
      "79795        52       52  2020-11-03         False         1  \n",
      "\n",
      "[25 rows x 26 columns]\n"
     ]
    }
   ],
   "source": [
    "print(md_election_df[md_election_df['NAME'] == 'HOWARD_PRECINCT_05-023'])"
   ]
  },
  {
   "cell_type": "code",
   "execution_count": 597,
   "metadata": {},
   "outputs": [
    {
     "name": "stdout",
     "output_type": "stream",
     "text": [
      "['NAME' 'precinct' 'office' 'party_detailed' 'party_simplified' 'mode'\n",
      " 'votes' 'county_name' 'county_fips' 'jurisdiction_name'\n",
      " 'jurisdiction_fips' 'candidate' 'district' 'dataverse' 'year' 'stage'\n",
      " 'state' 'special' 'writein' 'state_po' 'state_fips' 'state_cen'\n",
      " 'state_ic' 'date' 'readme_check' 'magnitude']\n"
     ]
    }
   ],
   "source": [
    "print(md_election_df.columns.values)"
   ]
  },
  {
   "cell_type": "code",
   "execution_count": 598,
   "metadata": {},
   "outputs": [
    {
     "name": "stdout",
     "output_type": "stream",
     "text": [
      "                             NAME    office party_detailed candidate  writein  \\\n",
      "51996    CAROLINE_PRECINCT_01-001  US HOUSE            NaN   WRITEIN     True   \n",
      "51997     CARROLL_PRECINCT_01-001  US HOUSE            NaN   WRITEIN     True   \n",
      "51998       CECIL_PRECINCT_01-001  US HOUSE            NaN   WRITEIN     True   \n",
      "51999  DORCHESTER_PRECINCT_01-001  US HOUSE            NaN   WRITEIN     True   \n",
      "52000        KENT_PRECINCT_01-001  US HOUSE            NaN   WRITEIN     True   \n",
      "\n",
      "       district  votes  \n",
      "51996         1      0  \n",
      "51997         1      0  \n",
      "51998         1      0  \n",
      "51999         1      0  \n",
      "52000         1      0  \n"
     ]
    }
   ],
   "source": [
    "print(md_election_df[['NAME','office', 'party_detailed', 'candidate', 'writein', 'district', 'votes']].head())\n"
   ]
  },
  {
   "cell_type": "code",
   "execution_count": 599,
   "metadata": {},
   "outputs": [],
   "source": [
    "md_election_df = md_election_df[md_election_df['writein'] != True]"
   ]
  },
  {
   "cell_type": "code",
   "execution_count": 600,
   "metadata": {},
   "outputs": [
    {
     "name": "stdout",
     "output_type": "stream",
     "text": [
      "                               NAME    office party_detailed  candidate  \\\n",
      "52046      WICOMICO_PRECINCT_01-001  US HOUSE       DEMOCRAT  MIA MASON   \n",
      "52047    DORCHESTER_PRECINCT_01-001  US HOUSE       DEMOCRAT  MIA MASON   \n",
      "52048      SOMERSET_PRECINCT_01-001  US HOUSE       DEMOCRAT  MIA MASON   \n",
      "52049      CAROLINE_PRECINCT_01-001  US HOUSE       DEMOCRAT  MIA MASON   \n",
      "52050  QUEEN ANNE'S_PRECINCT_01-001  US HOUSE       DEMOCRAT  MIA MASON   \n",
      "\n",
      "       district  votes  \n",
      "52046         1      6  \n",
      "52047         1     36  \n",
      "52048         1     37  \n",
      "52049         1     43  \n",
      "52050         1     55  \n"
     ]
    }
   ],
   "source": [
    "print(md_election_df[['NAME','office', 'party_detailed', 'candidate', 'district', 'votes']].head())"
   ]
  },
  {
   "cell_type": "code",
   "execution_count": 601,
   "metadata": {},
   "outputs": [],
   "source": [
    "md_election_df['variable'] = (\n",
    "    'GCON' + \n",
    "    md_election_df['district'].astype(str).str.zfill(2) + \n",
    "    md_election_df['party_detailed'].str[0] + \n",
    "    md_election_df['candidate'].apply(lambda x: ''.join([name[0] for name in x.split()]))\n",
    ")"
   ]
  },
  {
   "cell_type": "code",
   "execution_count": 602,
   "metadata": {},
   "outputs": [
    {
     "name": "stdout",
     "output_type": "stream",
     "text": [
      "                               NAME precinct   county_name  county_fips  \\\n",
      "52046      WICOMICO_PRECINCT_01-001   01-001      WICOMICO      24045.0   \n",
      "52047    DORCHESTER_PRECINCT_01-001   01-001    DORCHESTER      24019.0   \n",
      "52048      SOMERSET_PRECINCT_01-001   01-001      SOMERSET      24039.0   \n",
      "52049      CAROLINE_PRECINCT_01-001   01-001      CAROLINE      24011.0   \n",
      "52050  QUEEN ANNE'S_PRECINCT_01-001   01-001  QUEEN ANNE'S      24035.0   \n",
      "...                             ...      ...           ...          ...   \n",
      "89131     FREDERICK_PRECINCT_26-002   26-002     FREDERICK      24021.0   \n",
      "89132     FREDERICK_PRECINCT_26-002   26-002     FREDERICK      24021.0   \n",
      "89133     FREDERICK_PRECINCT_26-002   26-002     FREDERICK      24021.0   \n",
      "89134     FREDERICK_PRECINCT_26-002   26-002     FREDERICK      24021.0   \n",
      "89135     FREDERICK_PRECINCT_26-002   26-002     FREDERICK      24021.0   \n",
      "\n",
      "         variable  votes  district  \n",
      "52046   GCON01DMM      6         1  \n",
      "52047   GCON01DMM     36         1  \n",
      "52048   GCON01DMM     37         1  \n",
      "52049   GCON01DMM     43         1  \n",
      "52050   GCON01DMM     55         1  \n",
      "...           ...    ...       ...  \n",
      "89131  GCON08RGTC    106         8  \n",
      "89132  GCON08RGTC    145         8  \n",
      "89133  GCON08RGTC    409         8  \n",
      "89134  GCON08RGTC    527         8  \n",
      "89135  GCON08RGTC     15         8  \n",
      "\n",
      "[21565 rows x 7 columns]\n"
     ]
    }
   ],
   "source": [
    "md_election_df_filtered = md_election_df[['NAME', 'precinct', 'county_name', 'county_fips', 'variable', 'votes', 'district']]\n",
    "print(md_election_df_filtered)"
   ]
  },
  {
   "cell_type": "code",
   "execution_count": 603,
   "metadata": {},
   "outputs": [
    {
     "name": "stdout",
     "output_type": "stream",
     "text": [
      "2035\n"
     ]
    }
   ],
   "source": [
    "print(len(md_election_df_filtered['NAME'].unique()))"
   ]
  },
  {
   "cell_type": "code",
   "execution_count": 659,
   "metadata": {},
   "outputs": [],
   "source": [
    "md_election_pivoted_df = md_election_df_filtered.pivot_table(\n",
    "    index=['NAME'], \n",
    "    columns='variable',\n",
    "    values='votes',\n",
    "    aggfunc='sum'\n",
    ").fillna(0).reset_index() \n"
   ]
  },
  {
   "cell_type": "code",
   "execution_count": 660,
   "metadata": {},
   "outputs": [],
   "source": [
    "district_mapping = md_election_df_filtered[['NAME', 'district']].drop_duplicates()\n",
    "md_election_pivoted_df = md_election_pivoted_df.merge(district_mapping, on='NAME', how='left')"
   ]
  },
  {
   "cell_type": "code",
   "execution_count": 661,
   "metadata": {},
   "outputs": [
    {
     "name": "stdout",
     "output_type": "stream",
     "text": [
      "                       NAME  GCON01DMM  GCON01RAH  GCON02DCDR  GCON02RJRS  \\\n",
      "0  ALLEGANY_PRECINCT_01-000        0.0        0.0         0.0         0.0   \n",
      "1  ALLEGANY_PRECINCT_02-000        0.0        0.0         0.0         0.0   \n",
      "2  ALLEGANY_PRECINCT_03-000        0.0        0.0         0.0         0.0   \n",
      "3  ALLEGANY_PRECINCT_04-002        0.0        0.0         0.0         0.0   \n",
      "4  ALLEGANY_PRECINCT_04-003        0.0        0.0         0.0         0.0   \n",
      "\n",
      "   GCON03DJS  GCON03RCA  GCON04DAGB  GCON04RGEM  GCON05DSHH  GCON05RCP  \\\n",
      "0        0.0        0.0         0.0         0.0         0.0        0.0   \n",
      "1        0.0        0.0         0.0         0.0         0.0        0.0   \n",
      "2        0.0        0.0         0.0         0.0         0.0        0.0   \n",
      "3        0.0        0.0         0.0         0.0         0.0        0.0   \n",
      "4        0.0        0.0         0.0         0.0         0.0        0.0   \n",
      "\n",
      "   GCON06DDJT  GCON06GGG  GCON06RNCP  GCON07DKM  GCON07RKK  GCON08DJR  \\\n",
      "0        72.0        3.0       406.0        0.0        0.0        0.0   \n",
      "1        93.0        8.0       398.0        0.0        0.0        0.0   \n",
      "2        89.0        7.0       419.0        0.0        0.0        0.0   \n",
      "3       144.0       10.0       188.0        0.0        0.0        0.0   \n",
      "4       248.0       14.0       354.0        0.0        0.0        0.0   \n",
      "\n",
      "   GCON08RGTC  district  \n",
      "0         0.0         6  \n",
      "1         0.0         6  \n",
      "2         0.0         6  \n",
      "3         0.0         6  \n",
      "4         0.0         6  \n"
     ]
    }
   ],
   "source": [
    "print(md_election_pivoted_df.head())\n"
   ]
  },
  {
   "cell_type": "code",
   "execution_count": 662,
   "metadata": {},
   "outputs": [
    {
     "name": "stdout",
     "output_type": "stream",
     "text": [
      "Duplicates found:\n",
      "                               NAME precinct   county_name  county_fips  \\\n",
      "52046      WICOMICO_PRECINCT_01-001   01-001      WICOMICO      24045.0   \n",
      "52047    DORCHESTER_PRECINCT_01-001   01-001    DORCHESTER      24019.0   \n",
      "52048      SOMERSET_PRECINCT_01-001   01-001      SOMERSET      24039.0   \n",
      "52049      CAROLINE_PRECINCT_01-001   01-001      CAROLINE      24011.0   \n",
      "52050  QUEEN ANNE'S_PRECINCT_01-001   01-001  QUEEN ANNE'S      24035.0   \n",
      "...                             ...      ...           ...          ...   \n",
      "89131     FREDERICK_PRECINCT_26-002   26-002     FREDERICK      24021.0   \n",
      "89132     FREDERICK_PRECINCT_26-002   26-002     FREDERICK      24021.0   \n",
      "89133     FREDERICK_PRECINCT_26-002   26-002     FREDERICK      24021.0   \n",
      "89134     FREDERICK_PRECINCT_26-002   26-002     FREDERICK      24021.0   \n",
      "89135     FREDERICK_PRECINCT_26-002   26-002     FREDERICK      24021.0   \n",
      "\n",
      "         variable  votes  district  \n",
      "52046   GCON01DMM      6         1  \n",
      "52047   GCON01DMM     36         1  \n",
      "52048   GCON01DMM     37         1  \n",
      "52049   GCON01DMM     43         1  \n",
      "52050   GCON01DMM     55         1  \n",
      "...           ...    ...       ...  \n",
      "89131  GCON08RGTC    106         8  \n",
      "89132  GCON08RGTC    145         8  \n",
      "89133  GCON08RGTC    409         8  \n",
      "89134  GCON08RGTC    527         8  \n",
      "89135  GCON08RGTC     15         8  \n",
      "\n",
      "[21565 rows x 7 columns]\n"
     ]
    }
   ],
   "source": [
    "# Check for duplicates\n",
    "duplicates = md_election_df_filtered.duplicated(subset=['NAME'], keep=False)\n",
    "if duplicates.any():\n",
    "    print(\"Duplicates found:\")\n",
    "    print(md_election_df_filtered[duplicates])\n",
    "else:\n",
    "    print(\"No duplicates found.\")\n"
   ]
  },
  {
   "cell_type": "code",
   "execution_count": 663,
   "metadata": {},
   "outputs": [
    {
     "name": "stdout",
     "output_type": "stream",
     "text": [
      "                           NAME  GCON01DMM  GCON01RAH  GCON02DCDR  GCON02RJRS  \\\n",
      "0      ALLEGANY_PRECINCT_01-000        0.0        0.0         0.0         0.0   \n",
      "1      ALLEGANY_PRECINCT_02-000        0.0        0.0         0.0         0.0   \n",
      "2      ALLEGANY_PRECINCT_03-000        0.0        0.0         0.0         0.0   \n",
      "3      ALLEGANY_PRECINCT_04-002        0.0        0.0         0.0         0.0   \n",
      "4      ALLEGANY_PRECINCT_04-003        0.0        0.0         0.0         0.0   \n",
      "...                         ...        ...        ...         ...         ...   \n",
      "2030  WORCESTER_PRECINCT_05-002      955.0     1592.0         0.0         0.0   \n",
      "2031  WORCESTER_PRECINCT_06-001      921.0     1742.0         0.0         0.0   \n",
      "2032  WORCESTER_PRECINCT_06-002      250.0      753.0         0.0         0.0   \n",
      "2033  WORCESTER_PRECINCT_06-003      430.0     1115.0         0.0         0.0   \n",
      "2034  WORCESTER_PRECINCT_07-001     1532.0     3005.0         0.0         0.0   \n",
      "\n",
      "      GCON03DJS  GCON03RCA  GCON04DAGB  GCON04RGEM  GCON05DSHH  GCON05RCP  \\\n",
      "0           0.0        0.0         0.0         0.0         0.0        0.0   \n",
      "1           0.0        0.0         0.0         0.0         0.0        0.0   \n",
      "2           0.0        0.0         0.0         0.0         0.0        0.0   \n",
      "3           0.0        0.0         0.0         0.0         0.0        0.0   \n",
      "4           0.0        0.0         0.0         0.0         0.0        0.0   \n",
      "...         ...        ...         ...         ...         ...        ...   \n",
      "2030        0.0        0.0         0.0         0.0         0.0        0.0   \n",
      "2031        0.0        0.0         0.0         0.0         0.0        0.0   \n",
      "2032        0.0        0.0         0.0         0.0         0.0        0.0   \n",
      "2033        0.0        0.0         0.0         0.0         0.0        0.0   \n",
      "2034        0.0        0.0         0.0         0.0         0.0        0.0   \n",
      "\n",
      "      GCON06DDJT  GCON06GGG  GCON06RNCP  GCON07DKM  GCON07RKK  GCON08DJR  \\\n",
      "0           72.0        3.0       406.0        0.0        0.0        0.0   \n",
      "1           93.0        8.0       398.0        0.0        0.0        0.0   \n",
      "2           89.0        7.0       419.0        0.0        0.0        0.0   \n",
      "3          144.0       10.0       188.0        0.0        0.0        0.0   \n",
      "4          248.0       14.0       354.0        0.0        0.0        0.0   \n",
      "...          ...        ...         ...        ...        ...        ...   \n",
      "2030         0.0        0.0         0.0        0.0        0.0        0.0   \n",
      "2031         0.0        0.0         0.0        0.0        0.0        0.0   \n",
      "2032         0.0        0.0         0.0        0.0        0.0        0.0   \n",
      "2033         0.0        0.0         0.0        0.0        0.0        0.0   \n",
      "2034         0.0        0.0         0.0        0.0        0.0        0.0   \n",
      "\n",
      "      GCON08RGTC  district  \n",
      "0            0.0         6  \n",
      "1            0.0         6  \n",
      "2            0.0         6  \n",
      "3            0.0         6  \n",
      "4            0.0         6  \n",
      "...          ...       ...  \n",
      "2030         0.0         1  \n",
      "2031         0.0         1  \n",
      "2032         0.0         1  \n",
      "2033         0.0         1  \n",
      "2034         0.0         1  \n",
      "\n",
      "[2035 rows x 19 columns]\n"
     ]
    }
   ],
   "source": [
    "print(md_election_pivoted_df)"
   ]
  },
  {
   "cell_type": "code",
   "execution_count": null,
   "metadata": {},
   "outputs": [],
   "source": []
  },
  {
   "cell_type": "code",
   "execution_count": 664,
   "metadata": {},
   "outputs": [
    {
     "name": "stdout",
     "output_type": "stream",
     "text": [
      "2035\n"
     ]
    }
   ],
   "source": [
    "print(len(md_election_pivoted_df))"
   ]
  },
  {
   "cell_type": "code",
   "execution_count": 675,
   "metadata": {},
   "outputs": [],
   "source": [
    "# rename NAME to UNIQUE_ID\n",
    "md_election_pivoted_df.rename(columns={'NAME': 'UNIQUE_ID'}, inplace=True)"
   ]
  },
  {
   "cell_type": "code",
   "execution_count": 676,
   "metadata": {},
   "outputs": [
    {
     "name": "stdout",
     "output_type": "stream",
     "text": [
      "                  UNIQUE_ID  GCON01DMM  GCON01RAH  GCON02DCDR  GCON02RJRS  \\\n",
      "0  ALLEGANY_PRECINCT_01-000        0.0        0.0         0.0         0.0   \n",
      "1  ALLEGANY_PRECINCT_02-000        0.0        0.0         0.0         0.0   \n",
      "2  ALLEGANY_PRECINCT_03-000        0.0        0.0         0.0         0.0   \n",
      "3  ALLEGANY_PRECINCT_04-002        0.0        0.0         0.0         0.0   \n",
      "4  ALLEGANY_PRECINCT_04-003        0.0        0.0         0.0         0.0   \n",
      "\n",
      "   GCON03DJS  GCON03RCA  GCON04DAGB  GCON04RGEM  GCON05DSHH  GCON05RCP  \\\n",
      "0        0.0        0.0         0.0         0.0         0.0        0.0   \n",
      "1        0.0        0.0         0.0         0.0         0.0        0.0   \n",
      "2        0.0        0.0         0.0         0.0         0.0        0.0   \n",
      "3        0.0        0.0         0.0         0.0         0.0        0.0   \n",
      "4        0.0        0.0         0.0         0.0         0.0        0.0   \n",
      "\n",
      "   GCON06DDJT  GCON06GGG  GCON06RNCP  GCON07DKM  GCON07RKK  GCON08DJR  \\\n",
      "0        72.0        3.0       406.0        0.0        0.0        0.0   \n",
      "1        93.0        8.0       398.0        0.0        0.0        0.0   \n",
      "2        89.0        7.0       419.0        0.0        0.0        0.0   \n",
      "3       144.0       10.0       188.0        0.0        0.0        0.0   \n",
      "4       248.0       14.0       354.0        0.0        0.0        0.0   \n",
      "\n",
      "   GCON08RGTC  district  \n",
      "0         0.0         6  \n",
      "1         0.0         6  \n",
      "2         0.0         6  \n",
      "3         0.0         6  \n",
      "4         0.0         6  \n"
     ]
    }
   ],
   "source": [
    "print(md_election_pivoted_df.head())"
   ]
  },
  {
   "cell_type": "code",
   "execution_count": 679,
   "metadata": {},
   "outputs": [
    {
     "name": "stdout",
     "output_type": "stream",
     "text": [
      "                     NAME  NUMBER               UNIQUE_ID  \\\n",
      "0  HOWARD PRECINCT 06-001  06-001  HOWARD_PRECINCT_06-001   \n",
      "1  HOWARD PRECINCT 05-023  05-023  HOWARD_PRECINCT_05-023   \n",
      "2  HOWARD PRECINCT 05-018  05-018  HOWARD_PRECINCT_05-018   \n",
      "3  HOWARD PRECINCT 05-017  05-017  HOWARD_PRECINCT_05-017   \n",
      "4  HOWARD PRECINCT 05-020  05-020  HOWARD_PRECINCT_05-020   \n",
      "\n",
      "                                            geometry  \n",
      "0  POLYGON Z ((-76.83025 39.14757 0.00000, -76.83...  \n",
      "1  POLYGON Z ((-76.89107 39.22616 0.00000, -76.89...  \n",
      "2  POLYGON Z ((-76.88639 39.20934 0.00000, -76.88...  \n",
      "3  POLYGON Z ((-76.88670 39.20810 0.00000, -76.88...  \n",
      "4  POLYGON Z ((-76.91361 39.14963 0.00000, -76.91...  \n"
     ]
    }
   ],
   "source": [
    "print(md_precincts_gdf.head())"
   ]
  },
  {
   "cell_type": "code",
   "execution_count": 680,
   "metadata": {},
   "outputs": [
    {
     "name": "stdout",
     "output_type": "stream",
     "text": [
      "2043\n"
     ]
    }
   ],
   "source": [
    "print(len(md_precincts_gdf))"
   ]
  },
  {
   "cell_type": "code",
   "execution_count": 681,
   "metadata": {},
   "outputs": [],
   "source": [
    "md_precincts_merged_gdf = md_precincts_gdf.merge(\n",
    "    md_election_pivoted_df, \n",
    "    on='UNIQUE_ID', \n",
    "    how='left'\n",
    ")\n",
    "md_precincts_merged_gdf = md_precincts_merged_gdf.fillna(0)"
   ]
  },
  {
   "cell_type": "code",
   "execution_count": 375,
   "metadata": {},
   "outputs": [],
   "source": [
    "# columns_to_keep = ['NAME', 'geometry'] + ['GCON01RAH', 'GCON02DCDR', 'GCON03DJS', 'GCON04DAGB', 'GCON05DSHH', 'GCON06DDJT', 'GCON07DKM', 'GCON08DJR']"
   ]
  },
  {
   "cell_type": "code",
   "execution_count": 376,
   "metadata": {},
   "outputs": [],
   "source": [
    "# md_precincts_merged_gdf = md_precincts_merged_gdf[columns_to_keep]"
   ]
  },
  {
   "cell_type": "code",
   "execution_count": 684,
   "metadata": {},
   "outputs": [
    {
     "name": "stdout",
     "output_type": "stream",
     "text": [
      "district\n",
      "0.0         932\n",
      "1.0         232\n",
      "6.0         217\n",
      "8.0         207\n",
      "2.0         166\n",
      "7.0         127\n",
      "3.0          96\n",
      "5.0          66\n",
      "Name: count, dtype: int64\n"
     ]
    }
   ],
   "source": [
    "print(md_precincts_merged_gdf[['district']].value_counts())"
   ]
  },
  {
   "cell_type": "code",
   "execution_count": 685,
   "metadata": {},
   "outputs": [],
   "source": [
    "md_precincts_merged_gdf['district'] = md_precincts_merged_gdf['district'].fillna(0).astype(int)"
   ]
  },
  {
   "cell_type": "code",
   "execution_count": 686,
   "metadata": {},
   "outputs": [
    {
     "name": "stdout",
     "output_type": "stream",
     "text": [
      "['NAME' 'NUMBER' 'UNIQUE_ID' 'geometry' 'GCON01DMM' 'GCON01RAH'\n",
      " 'GCON02DCDR' 'GCON02RJRS' 'GCON03DJS' 'GCON03RCA' 'GCON04DAGB'\n",
      " 'GCON04RGEM' 'GCON05DSHH' 'GCON05RCP' 'GCON06DDJT' 'GCON06GGG'\n",
      " 'GCON06RNCP' 'GCON07DKM' 'GCON07RKK' 'GCON08DJR' 'GCON08RGTC' 'district']\n"
     ]
    }
   ],
   "source": [
    "print(md_precincts_merged_gdf.columns.values)"
   ]
  },
  {
   "cell_type": "code",
   "execution_count": 687,
   "metadata": {},
   "outputs": [
    {
     "name": "stdout",
     "output_type": "stream",
     "text": [
      "                    candidate  district\n",
      "52046               MIA MASON         1\n",
      "52096             ANDY HARRIS         1\n",
      "56456  CA DUTCH RUPPERSBERGER         2\n",
      "56461      JOHNNY RAY SALLING         2\n",
      "59826           JOHN SARBANES         3\n",
      "59841         CHARLES ANTHONY         3\n",
      "63581         ANTHONY G BROWN         4\n",
      "63586      GEORGE E MCDERMOTT         4\n",
      "67536           STENY H HOYER         5\n",
      "67551           CHRIS PALOMBI         5\n",
      "71061           DAVID J TRONE         6\n",
      "71076            GEORGE GLUCK         6\n",
      "71106          NEIL C PARROTT         6\n",
      "77131            KWEISI MFUME         7\n",
      "77136         KIMBERLY KLACIK         7\n",
      "85001            JAMIE RASKIN         8\n",
      "85011     GREGORY THOMAS COLL         8\n"
     ]
    }
   ],
   "source": [
    "# print unique candidate and district\n",
    "print(md_election_df[['candidate', 'district']].drop_duplicates())"
   ]
  },
  {
   "cell_type": "code",
   "execution_count": null,
   "metadata": {},
   "outputs": [],
   "source": []
  },
  {
   "cell_type": "markdown",
   "metadata": {},
   "source": [
    "## Process voting population:"
   ]
  },
  {
   "cell_type": "code",
   "execution_count": 688,
   "metadata": {},
   "outputs": [],
   "source": [
    "columns_to_ignore = ['NAME', 'geometry', 'district', 'UNIQUE_ID', 'NUMBER']\n",
    "columns_to_use = [col for col in md_precincts_merged_gdf.columns if col not in columns_to_ignore]"
   ]
  },
  {
   "cell_type": "code",
   "execution_count": 653,
   "metadata": {},
   "outputs": [
    {
     "name": "stdout",
     "output_type": "stream",
     "text": [
      "['GCON01DMM', 'GCON01RAH', 'GCON02DCDR', 'GCON02RJRS', 'GCON03DJS', 'GCON03RCA', 'GCON04DAGB', 'GCON04RGEM', 'GCON05DSHH', 'GCON05RCP', 'GCON06DDJT', 'GCON06GGG', 'GCON06RNCP', 'GCON07DKM', 'GCON07RKK', 'GCON08DJR', 'GCON08RGTC']\n"
     ]
    }
   ],
   "source": [
    "print(columns_to_use)"
   ]
  },
  {
   "cell_type": "code",
   "execution_count": 689,
   "metadata": {},
   "outputs": [],
   "source": [
    "md_precincts_processed_df = process_precinct_votes(md_precincts_merged_gdf, columns_to_use, columns_to_ignore)\n"
   ]
  },
  {
   "cell_type": "code",
   "execution_count": 690,
   "metadata": {},
   "outputs": [
    {
     "name": "stdout",
     "output_type": "stream",
     "text": [
      "['NAME' 'geometry' 'district' 'UNIQUE_ID' 'NUMBER' 'TOT_REP' 'TOT_DEM'\n",
      " 'TOT_VOT' 'LEAN' 'GCON01RAH' 'GCON02RJRS' 'GCON03RCA' 'GCON04RGEM'\n",
      " 'GCON05RCP' 'GCON06RNCP' 'GCON07RKK' 'GCON08RGTC' 'GCON01DMM'\n",
      " 'GCON02DCDR' 'GCON03DJS' 'GCON04DAGB' 'GCON05DSHH' 'GCON06DDJT'\n",
      " 'GCON07DKM' 'GCON08DJR']\n"
     ]
    }
   ],
   "source": [
    "print(md_precincts_processed_df.columns.values)"
   ]
  },
  {
   "cell_type": "code",
   "execution_count": 691,
   "metadata": {},
   "outputs": [
    {
     "name": "stdout",
     "output_type": "stream",
     "text": [
      "                     NAME                                           geometry  \\\n",
      "0  HOWARD PRECINCT 06-001  POLYGON Z ((-76.83025 39.14757 0.00000, -76.83...   \n",
      "1  HOWARD PRECINCT 05-023  POLYGON Z ((-76.89107 39.22616 0.00000, -76.89...   \n",
      "2  HOWARD PRECINCT 05-018  POLYGON Z ((-76.88639 39.20934 0.00000, -76.88...   \n",
      "3  HOWARD PRECINCT 05-017  POLYGON Z ((-76.88670 39.20810 0.00000, -76.88...   \n",
      "4  HOWARD PRECINCT 05-020  POLYGON Z ((-76.91361 39.14963 0.00000, -76.91...   \n",
      "\n",
      "   district               UNIQUE_ID  NUMBER  TOT_REP  TOT_DEM  TOT_VOT  \\\n",
      "0         2  HOWARD_PRECINCT_06-001  06-001    427.0    987.0   1414.0   \n",
      "1         7  HOWARD_PRECINCT_05-023  05-023    296.0   1006.0   1302.0   \n",
      "2         7  HOWARD_PRECINCT_05-018  05-018    231.0    817.0   1048.0   \n",
      "3         7  HOWARD_PRECINCT_05-017  05-017    393.0    985.0   1378.0   \n",
      "4         3  HOWARD_PRECINCT_05-020  05-020    699.0   1163.0   1862.0   \n",
      "\n",
      "         LEAN  GCON01RAH  ...  GCON07RKK  GCON08RGTC  GCON01DMM  GCON02DCDR  \\\n",
      "0  Democratic        0.0  ...        0.0         0.0        0.0       987.0   \n",
      "1  Democratic        0.0  ...      296.0         0.0        0.0         0.0   \n",
      "2  Democratic        0.0  ...      231.0         0.0        0.0         0.0   \n",
      "3  Democratic        0.0  ...      393.0         0.0        0.0         0.0   \n",
      "4  Democratic        0.0  ...        0.0         0.0        0.0         0.0   \n",
      "\n",
      "   GCON03DJS  GCON04DAGB  GCON05DSHH  GCON06DDJT  GCON07DKM  GCON08DJR  \n",
      "0        0.0         0.0         0.0         0.0        0.0        0.0  \n",
      "1        0.0         0.0         0.0         0.0     1006.0        0.0  \n",
      "2        0.0         0.0         0.0         0.0      817.0        0.0  \n",
      "3        0.0         0.0         0.0         0.0      985.0        0.0  \n",
      "4     1163.0         0.0         0.0         0.0        0.0        0.0  \n",
      "\n",
      "[5 rows x 25 columns]\n"
     ]
    }
   ],
   "source": [
    "print(md_precincts_processed_df.head())"
   ]
  },
  {
   "cell_type": "code",
   "execution_count": 692,
   "metadata": {},
   "outputs": [
    {
     "name": "stderr",
     "output_type": "stream",
     "text": [
      "/var/folders/3l/c_gyf2kn1vg4ww5h_h4819cm0000gn/T/ipykernel_96987/10099525.py:1: SettingWithCopyWarning: \n",
      "A value is trying to be set on a copy of a slice from a DataFrame\n",
      "\n",
      "See the caveats in the documentation: https://pandas.pydata.org/pandas-docs/stable/user_guide/indexing.html#returning-a-view-versus-a-copy\n",
      "  md_precincts_processed_df.drop(columns='geometry', inplace=True)\n"
     ]
    }
   ],
   "source": [
    "md_precincts_processed_df.drop(columns='geometry', inplace=True)"
   ]
  },
  {
   "cell_type": "code",
   "execution_count": 693,
   "metadata": {},
   "outputs": [],
   "source": [
    "with open('states/maryland/election/md_election.json', 'w') as json_file:\n",
    "    json.dump(md_precincts_processed_df.to_dict(orient='records'), json_file, indent=4)"
   ]
  }
 ],
 "metadata": {
  "kernelspec": {
   "display_name": "cse354",
   "language": "python",
   "name": "python3"
  },
  "language_info": {
   "codemirror_mode": {
    "name": "ipython",
    "version": 3
   },
   "file_extension": ".py",
   "mimetype": "text/x-python",
   "name": "python",
   "nbconvert_exporter": "python",
   "pygments_lexer": "ipython3",
   "version": "3.11.10"
  }
 },
 "nbformat": 4,
 "nbformat_minor": 2
}
