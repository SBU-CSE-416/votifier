{
 "cells": [
  {
   "cell_type": "code",
   "execution_count": 413,
   "metadata": {},
   "outputs": [],
   "source": [
    "import pandas as pd\n",
    "import geopandas as gpd\n",
    "import json"
   ]
  },
  {
   "cell_type": "markdown",
   "metadata": {},
   "source": [
    "## Preprocess SC Election result from Precincts"
   ]
  },
  {
   "cell_type": "markdown",
   "metadata": {},
   "source": [
    "### Function and declaration"
   ]
  },
  {
   "cell_type": "code",
   "execution_count": 481,
   "metadata": {},
   "outputs": [],
   "source": [
    "def process_precinct_votes(precinct_gdf, columns_to_use, columns_to_ignore):\n",
    "    \"\"\"\n",
    "    Args:\n",
    "        precinct_gdf (pd.DataFrame): The DataFrame containing precinct vote data.\n",
    "        columns_to_use (list): The list of columns to consider for vote calculations.\n",
    "\n",
    "    Returns:\n",
    "        pd.DataFrame: The updated DataFrame with calculated vote totals, lean, and filtered party-related columns.\n",
    "    \"\"\"\n",
    "    precinct_gdf['TOT_REP'] = 0\n",
    "    precinct_gdf['TOT_DEM'] = 0\n",
    "    precinct_gdf['TOT_VOT'] = 0\n",
    "\n",
    "    republican_columns = []\n",
    "    democratic_columns = []\n",
    "\n",
    "    for col in columns_to_use:\n",
    "        if len(col) >= 7:\n",
    "            party_code = col[6]\n",
    "            if party_code == 'R':  # Republican\n",
    "                precinct_gdf['TOT_REP'] += precinct_gdf[col]\n",
    "                republican_columns.append(col)\n",
    "            elif party_code == 'D':  # Democrat\n",
    "                precinct_gdf['TOT_DEM'] += precinct_gdf[col]\n",
    "                democratic_columns.append(col)  \n",
    "\n",
    "    precinct_gdf['TOT_VOT'] = (\n",
    "        precinct_gdf['TOT_REP'] +\n",
    "        precinct_gdf['TOT_DEM']\n",
    "    )\n",
    "\n",
    "    precinct_gdf['LEAN'] = precinct_gdf.apply(\n",
    "        lambda row: 'Unknown' if row['TOT_REP'] == 0 and row['TOT_DEM'] == 0 else\n",
    "                    ('Republican' if row['TOT_REP'] > row['TOT_DEM'] else\n",
    "                     ('Democratic' if row['TOT_DEM'] > row['TOT_REP'] else 'Unknown')),\n",
    "        axis=1\n",
    "    )\n",
    "    filtered_columns = columns_to_ignore + ['TOT_REP', 'TOT_DEM', 'TOT_VOT', 'LEAN'] + republican_columns + democratic_columns\n",
    "    precinct_gdf = precinct_gdf[filtered_columns]\n",
    "\n",
    "    return precinct_gdf\n"
   ]
  },
  {
   "cell_type": "markdown",
   "metadata": {},
   "source": [
    "### Main script"
   ]
  },
  {
   "cell_type": "code",
   "execution_count": 429,
   "metadata": {},
   "outputs": [],
   "source": [
    "sc_precincts_gdf = gpd.read_file('states/south_carolina/geodata/south_carolina_precincts.geojson')\n",
    "sc_election_gdf = gpd.read_file('raw/precincts/sc_2022_gen_prec/sc_2022_gen_cong_prec/sc_2022_gen_cong_prec.shp')"
   ]
  },
  {
   "cell_type": "code",
   "execution_count": null,
   "metadata": {},
   "outputs": [
    {
     "ename": "KeyError",
     "evalue": "'County'",
     "output_type": "error",
     "traceback": [
      "\u001b[0;31m---------------------------------------------------------------------------\u001b[0m",
      "\u001b[0;31mKeyError\u001b[0m                                  Traceback (most recent call last)",
      "File \u001b[0;32m~/miniconda3/envs/cse354/lib/python3.11/site-packages/pandas/core/indexes/base.py:3805\u001b[0m, in \u001b[0;36mIndex.get_loc\u001b[0;34m(self, key)\u001b[0m\n\u001b[1;32m   3804\u001b[0m \u001b[38;5;28;01mtry\u001b[39;00m:\n\u001b[0;32m-> 3805\u001b[0m     \u001b[38;5;28;01mreturn\u001b[39;00m \u001b[38;5;28;43mself\u001b[39;49m\u001b[38;5;241;43m.\u001b[39;49m\u001b[43m_engine\u001b[49m\u001b[38;5;241;43m.\u001b[39;49m\u001b[43mget_loc\u001b[49m\u001b[43m(\u001b[49m\u001b[43mcasted_key\u001b[49m\u001b[43m)\u001b[49m\n\u001b[1;32m   3806\u001b[0m \u001b[38;5;28;01mexcept\u001b[39;00m \u001b[38;5;167;01mKeyError\u001b[39;00m \u001b[38;5;28;01mas\u001b[39;00m err:\n",
      "File \u001b[0;32mindex.pyx:167\u001b[0m, in \u001b[0;36mpandas._libs.index.IndexEngine.get_loc\u001b[0;34m()\u001b[0m\n",
      "File \u001b[0;32mindex.pyx:196\u001b[0m, in \u001b[0;36mpandas._libs.index.IndexEngine.get_loc\u001b[0;34m()\u001b[0m\n",
      "File \u001b[0;32mpandas/_libs/hashtable_class_helper.pxi:7081\u001b[0m, in \u001b[0;36mpandas._libs.hashtable.PyObjectHashTable.get_item\u001b[0;34m()\u001b[0m\n",
      "File \u001b[0;32mpandas/_libs/hashtable_class_helper.pxi:7089\u001b[0m, in \u001b[0;36mpandas._libs.hashtable.PyObjectHashTable.get_item\u001b[0;34m()\u001b[0m\n",
      "\u001b[0;31mKeyError\u001b[0m: 'County'",
      "\nThe above exception was the direct cause of the following exception:\n",
      "\u001b[0;31mKeyError\u001b[0m                                  Traceback (most recent call last)",
      "Cell \u001b[0;32mIn[430], line 2\u001b[0m\n\u001b[1;32m      1\u001b[0m sc_precincts_gdf[\u001b[38;5;124m'\u001b[39m\u001b[38;5;124mUNIQUE_ID\u001b[39m\u001b[38;5;124m'\u001b[39m] \u001b[38;5;241m=\u001b[39m (\n\u001b[0;32m----> 2\u001b[0m     \u001b[43msc_precincts_gdf\u001b[49m\u001b[43m[\u001b[49m\u001b[38;5;124;43m'\u001b[39;49m\u001b[38;5;124;43mCounty\u001b[39;49m\u001b[38;5;124;43m'\u001b[39;49m\u001b[43m]\u001b[49m \u001b[38;5;241m+\u001b[39m \u001b[38;5;124m'\u001b[39m\u001b[38;5;124m PRECINCT \u001b[39m\u001b[38;5;124m'\u001b[39m \u001b[38;5;241m+\u001b[39m sc_precincts_gdf[\u001b[38;5;124m'\u001b[39m\u001b[38;5;124mPrec_Code\u001b[39m\u001b[38;5;124m'\u001b[39m]\u001b[38;5;241m.\u001b[39mastype(\u001b[38;5;28mstr\u001b[39m)\n\u001b[1;32m      3\u001b[0m )\n",
      "File \u001b[0;32m~/miniconda3/envs/cse354/lib/python3.11/site-packages/geopandas/geodataframe.py:1459\u001b[0m, in \u001b[0;36mGeoDataFrame.__getitem__\u001b[0;34m(self, key)\u001b[0m\n\u001b[1;32m   1453\u001b[0m \u001b[38;5;28;01mdef\u001b[39;00m \u001b[38;5;21m__getitem__\u001b[39m(\u001b[38;5;28mself\u001b[39m, key):\n\u001b[1;32m   1454\u001b[0m \u001b[38;5;250m    \u001b[39m\u001b[38;5;124;03m\"\"\"\u001b[39;00m\n\u001b[1;32m   1455\u001b[0m \u001b[38;5;124;03m    If the result is a column containing only 'geometry', return a\u001b[39;00m\n\u001b[1;32m   1456\u001b[0m \u001b[38;5;124;03m    GeoSeries. If it's a DataFrame with any columns of GeometryDtype,\u001b[39;00m\n\u001b[1;32m   1457\u001b[0m \u001b[38;5;124;03m    return a GeoDataFrame.\u001b[39;00m\n\u001b[1;32m   1458\u001b[0m \u001b[38;5;124;03m    \"\"\"\u001b[39;00m\n\u001b[0;32m-> 1459\u001b[0m     result \u001b[38;5;241m=\u001b[39m \u001b[38;5;28;43msuper\u001b[39;49m\u001b[43m(\u001b[49m\u001b[43m)\u001b[49m\u001b[38;5;241;43m.\u001b[39;49m\u001b[38;5;21;43m__getitem__\u001b[39;49m\u001b[43m(\u001b[49m\u001b[43mkey\u001b[49m\u001b[43m)\u001b[49m\n\u001b[1;32m   1460\u001b[0m     \u001b[38;5;66;03m# Custom logic to avoid waiting for pandas GH51895\u001b[39;00m\n\u001b[1;32m   1461\u001b[0m     \u001b[38;5;66;03m# result is not geometry dtype for multi-indexes\u001b[39;00m\n\u001b[1;32m   1462\u001b[0m     \u001b[38;5;28;01mif\u001b[39;00m (\n\u001b[1;32m   1463\u001b[0m         pd\u001b[38;5;241m.\u001b[39mapi\u001b[38;5;241m.\u001b[39mtypes\u001b[38;5;241m.\u001b[39mis_scalar(key)\n\u001b[1;32m   1464\u001b[0m         \u001b[38;5;129;01mand\u001b[39;00m key \u001b[38;5;241m==\u001b[39m \u001b[38;5;124m\"\u001b[39m\u001b[38;5;124m\"\u001b[39m\n\u001b[0;32m   (...)\u001b[0m\n\u001b[1;32m   1467\u001b[0m         \u001b[38;5;129;01mand\u001b[39;00m \u001b[38;5;129;01mnot\u001b[39;00m is_geometry_type(result)\n\u001b[1;32m   1468\u001b[0m     ):\n",
      "File \u001b[0;32m~/miniconda3/envs/cse354/lib/python3.11/site-packages/pandas/core/frame.py:4102\u001b[0m, in \u001b[0;36mDataFrame.__getitem__\u001b[0;34m(self, key)\u001b[0m\n\u001b[1;32m   4100\u001b[0m \u001b[38;5;28;01mif\u001b[39;00m \u001b[38;5;28mself\u001b[39m\u001b[38;5;241m.\u001b[39mcolumns\u001b[38;5;241m.\u001b[39mnlevels \u001b[38;5;241m>\u001b[39m \u001b[38;5;241m1\u001b[39m:\n\u001b[1;32m   4101\u001b[0m     \u001b[38;5;28;01mreturn\u001b[39;00m \u001b[38;5;28mself\u001b[39m\u001b[38;5;241m.\u001b[39m_getitem_multilevel(key)\n\u001b[0;32m-> 4102\u001b[0m indexer \u001b[38;5;241m=\u001b[39m \u001b[38;5;28;43mself\u001b[39;49m\u001b[38;5;241;43m.\u001b[39;49m\u001b[43mcolumns\u001b[49m\u001b[38;5;241;43m.\u001b[39;49m\u001b[43mget_loc\u001b[49m\u001b[43m(\u001b[49m\u001b[43mkey\u001b[49m\u001b[43m)\u001b[49m\n\u001b[1;32m   4103\u001b[0m \u001b[38;5;28;01mif\u001b[39;00m is_integer(indexer):\n\u001b[1;32m   4104\u001b[0m     indexer \u001b[38;5;241m=\u001b[39m [indexer]\n",
      "File \u001b[0;32m~/miniconda3/envs/cse354/lib/python3.11/site-packages/pandas/core/indexes/base.py:3812\u001b[0m, in \u001b[0;36mIndex.get_loc\u001b[0;34m(self, key)\u001b[0m\n\u001b[1;32m   3807\u001b[0m     \u001b[38;5;28;01mif\u001b[39;00m \u001b[38;5;28misinstance\u001b[39m(casted_key, \u001b[38;5;28mslice\u001b[39m) \u001b[38;5;129;01mor\u001b[39;00m (\n\u001b[1;32m   3808\u001b[0m         \u001b[38;5;28misinstance\u001b[39m(casted_key, abc\u001b[38;5;241m.\u001b[39mIterable)\n\u001b[1;32m   3809\u001b[0m         \u001b[38;5;129;01mand\u001b[39;00m \u001b[38;5;28many\u001b[39m(\u001b[38;5;28misinstance\u001b[39m(x, \u001b[38;5;28mslice\u001b[39m) \u001b[38;5;28;01mfor\u001b[39;00m x \u001b[38;5;129;01min\u001b[39;00m casted_key)\n\u001b[1;32m   3810\u001b[0m     ):\n\u001b[1;32m   3811\u001b[0m         \u001b[38;5;28;01mraise\u001b[39;00m InvalidIndexError(key)\n\u001b[0;32m-> 3812\u001b[0m     \u001b[38;5;28;01mraise\u001b[39;00m \u001b[38;5;167;01mKeyError\u001b[39;00m(key) \u001b[38;5;28;01mfrom\u001b[39;00m \u001b[38;5;21;01merr\u001b[39;00m\n\u001b[1;32m   3813\u001b[0m \u001b[38;5;28;01mexcept\u001b[39;00m \u001b[38;5;167;01mTypeError\u001b[39;00m:\n\u001b[1;32m   3814\u001b[0m     \u001b[38;5;66;03m# If we have a listlike key, _check_indexing_error will raise\u001b[39;00m\n\u001b[1;32m   3815\u001b[0m     \u001b[38;5;66;03m#  InvalidIndexError. Otherwise we fall through and re-raise\u001b[39;00m\n\u001b[1;32m   3816\u001b[0m     \u001b[38;5;66;03m#  the TypeError.\u001b[39;00m\n\u001b[1;32m   3817\u001b[0m     \u001b[38;5;28mself\u001b[39m\u001b[38;5;241m.\u001b[39m_check_indexing_error(key)\n",
      "\u001b[0;31mKeyError\u001b[0m: 'County'"
     ]
    }
   ],
   "source": []
  },
  {
   "cell_type": "code",
   "execution_count": null,
   "metadata": {},
   "outputs": [
    {
     "name": "stdout",
     "output_type": "stream",
     "text": [
      "                             UNIQUE_ID COUNTYFP      County      Precinct  \\\n",
      "0  DORCHESTER-:-BEECH HILL 2-(CONG-01)      035  DORCHESTER  BEECH HILL 2   \n",
      "1       DORCHESTER-:-CYPRESS-(CONG-01)      035  DORCHESTER       CYPRESS   \n",
      "2      DORCHESTER-:-DELEMARS-(CONG-01)      035  DORCHESTER      DELEMARS   \n",
      "3       DORCHESTER-:-GIVHANS-(CONG-01)      035  DORCHESTER       GIVHANS   \n",
      "4     DORCHESTER-:-GIVHANS 2-(CONG-01)      035  DORCHESTER     GIVHANS 2   \n",
      "\n",
      "  Prec_Code CONG_DIST  GCON01AODD  GCON01DAND  GCON01OWRI  GCON01RMAC  ...  \\\n",
      "0       084        01          10         286           3         540  ...   \n",
      "1       072        01          16         479           2         682  ...   \n",
      "2       036        01           2          69           2          85  ...   \n",
      "3       035        01           4         144           1         296  ...   \n",
      "4       094        01           8         189           0         360  ...   \n",
      "\n",
      "   GCON05GGAI  GCON05OWRI  GCON05RNOR  GCON06DCLY  GCON06OWRI  GCON06RBUC  \\\n",
      "0           0           0           0           0           0           0   \n",
      "1           0           0           0           0           0           0   \n",
      "2           0           0           0           0           0           0   \n",
      "3           0           0           0           0           0           0   \n",
      "4           0           0           0           0           0           0   \n",
      "\n",
      "   GCON07DSCO  GCON07OWRI  GCON07RFRY  \\\n",
      "0           0           0           0   \n",
      "1           0           0           0   \n",
      "2           0           0           0   \n",
      "3           0           0           0   \n",
      "4           0           0           0   \n",
      "\n",
      "                                            geometry  \n",
      "0  MULTIPOLYGON (((2242701.683 407030.177, 224291...  \n",
      "1  MULTIPOLYGON (((2234014.017 454196.086, 223398...  \n",
      "2  POLYGON ((2215007.673 409281.289, 2215084.635 ...  \n",
      "3  POLYGON ((2191338.848 433396.844, 2191415.156 ...  \n",
      "4  POLYGON ((2199688.485 448462.344, 2199723.242 ...  \n",
      "\n",
      "[5 rows x 28 columns]\n"
     ]
    }
   ],
   "source": [
    "print(sc_election_gdf.head())"
   ]
  },
  {
   "cell_type": "code",
   "execution_count": null,
   "metadata": {},
   "outputs": [
    {
     "name": "stdout",
     "output_type": "stream",
     "text": [
      "                             UNIQUE_ID COUNTYFP      County      Precinct  \\\n",
      "0  DORCHESTER-:-BEECH HILL 2-(CONG-01)      035  DORCHESTER  BEECH HILL 2   \n",
      "1       DORCHESTER-:-CYPRESS-(CONG-01)      035  DORCHESTER       CYPRESS   \n",
      "2      DORCHESTER-:-DELEMARS-(CONG-01)      035  DORCHESTER      DELEMARS   \n",
      "3       DORCHESTER-:-GIVHANS-(CONG-01)      035  DORCHESTER       GIVHANS   \n",
      "4     DORCHESTER-:-GIVHANS 2-(CONG-01)      035  DORCHESTER     GIVHANS 2   \n",
      "\n",
      "  Prec_Code CONG_DIST  GCON01AODD  GCON01DAND  GCON01OWRI  GCON01RMAC  ...  \\\n",
      "0       084        01          10         286           3         540  ...   \n",
      "1       072        01          16         479           2         682  ...   \n",
      "2       036        01           2          69           2          85  ...   \n",
      "3       035        01           4         144           1         296  ...   \n",
      "4       094        01           8         189           0         360  ...   \n",
      "\n",
      "   GCON05GGAI  GCON05OWRI  GCON05RNOR  GCON06DCLY  GCON06OWRI  GCON06RBUC  \\\n",
      "0           0           0           0           0           0           0   \n",
      "1           0           0           0           0           0           0   \n",
      "2           0           0           0           0           0           0   \n",
      "3           0           0           0           0           0           0   \n",
      "4           0           0           0           0           0           0   \n",
      "\n",
      "   GCON07DSCO  GCON07OWRI  GCON07RFRY  \\\n",
      "0           0           0           0   \n",
      "1           0           0           0   \n",
      "2           0           0           0   \n",
      "3           0           0           0   \n",
      "4           0           0           0   \n",
      "\n",
      "                                            geometry  \n",
      "0  MULTIPOLYGON (((2242701.683 407030.177, 224291...  \n",
      "1  MULTIPOLYGON (((2234014.017 454196.086, 223398...  \n",
      "2  POLYGON ((2215007.673 409281.289, 2215084.635 ...  \n",
      "3  POLYGON ((2191338.848 433396.844, 2191415.156 ...  \n",
      "4  POLYGON ((2199688.485 448462.344, 2199723.242 ...  \n",
      "\n",
      "[5 rows x 28 columns]\n"
     ]
    }
   ],
   "source": [
    "print(sc_election_gdf.head())  "
   ]
  },
  {
   "cell_type": "code",
   "execution_count": null,
   "metadata": {},
   "outputs": [],
   "source": [
    "columns_to_ignore = ['UNIQUE_ID', 'CONG_DIST','COUNTYFP', 'County', 'Prec_Code', 'Precinct', 'geometry']"
   ]
  },
  {
   "cell_type": "code",
   "execution_count": 431,
   "metadata": {},
   "outputs": [],
   "source": [
    "columns_to_use = [col for col in sc_election_gdf.columns if col not in columns_to_ignore]"
   ]
  },
  {
   "cell_type": "code",
   "execution_count": 432,
   "metadata": {},
   "outputs": [
    {
     "name": "stdout",
     "output_type": "stream",
     "text": [
      "['GCON01AODD', 'GCON01DAND', 'GCON01OWRI', 'GCON01RMAC', 'GCON02DLAR', 'GCON02OWRI', 'GCON02RWIL', 'GCON03OWRI', 'GCON03RDUN', 'GCON04OWRI', 'GCON04RTIM', 'GCON05DHUN', 'GCON05GGAI', 'GCON05OWRI', 'GCON05RNOR', 'GCON06DCLY', 'GCON06OWRI', 'GCON06RBUC', 'GCON07DSCO', 'GCON07OWRI', 'GCON07RFRY']\n"
     ]
    }
   ],
   "source": [
    "print(columns_to_use)"
   ]
  },
  {
   "cell_type": "code",
   "execution_count": 433,
   "metadata": {},
   "outputs": [],
   "source": [
    "sc_election_processed_gdf = process_precinct_votes(sc_election_gdf, columns_to_use)"
   ]
  },
  {
   "cell_type": "code",
   "execution_count": 434,
   "metadata": {},
   "outputs": [],
   "source": [
    "sc_election_processed_gdf = sc_election_processed_gdf.join(sc_election_gdf[columns_to_ignore])"
   ]
  },
  {
   "cell_type": "code",
   "execution_count": 435,
   "metadata": {},
   "outputs": [
    {
     "name": "stdout",
     "output_type": "stream",
     "text": [
      "   TOT_REP  TOT_DEM  TOT_VOT        LEAN\n",
      "0      540      286      826  Republican\n",
      "1      682      479     1161  Republican\n",
      "2       85       69      154  Republican\n",
      "3      296      144      440  Republican\n",
      "4      360      189      549  Republican\n"
     ]
    }
   ],
   "source": [
    "print(sc_election_processed_gdf[['TOT_REP', 'TOT_DEM', 'TOT_VOT', 'LEAN']].head())"
   ]
  },
  {
   "cell_type": "code",
   "execution_count": 436,
   "metadata": {},
   "outputs": [
    {
     "name": "stdout",
     "output_type": "stream",
     "text": [
      "LEAN      \n",
      "Republican    1672\n",
      "Democratic     597\n",
      "Unknown          8\n",
      "Name: count, dtype: int64\n"
     ]
    }
   ],
   "source": [
    "print(sc_election_processed_gdf[['LEAN']].value_counts())"
   ]
  },
  {
   "cell_type": "code",
   "execution_count": 437,
   "metadata": {},
   "outputs": [
    {
     "name": "stdout",
     "output_type": "stream",
     "text": [
      "['TOT_REP' 'TOT_DEM' 'TOT_VOT' 'LEAN' 'GCON01RMAC' 'GCON02RWIL'\n",
      " 'GCON03RDUN' 'GCON04RTIM' 'GCON05RNOR' 'GCON06RBUC' 'GCON07RFRY'\n",
      " 'GCON01DAND' 'GCON02DLAR' 'GCON05DHUN' 'GCON06DCLY' 'GCON07DSCO'\n",
      " 'UNIQUE_ID' 'CONG_DIST' 'COUNTYFP' 'County' 'Prec_Code' 'Precinct'\n",
      " 'geometry']\n"
     ]
    }
   ],
   "source": [
    "print(sc_election_processed_gdf.columns.values)"
   ]
  },
  {
   "cell_type": "code",
   "execution_count": 442,
   "metadata": {},
   "outputs": [
    {
     "name": "stdout",
     "output_type": "stream",
     "text": [
      "['TOT_REP' 'TOT_DEM' 'TOT_VOT' 'LEAN' 'GCON01RMAC' 'GCON02RWIL'\n",
      " 'GCON03RDUN' 'GCON04RTIM' 'GCON05RNOR' 'GCON06RBUC' 'GCON07RFRY'\n",
      " 'GCON01DAND' 'GCON02DLAR' 'GCON05DHUN' 'GCON06DCLY' 'GCON07DSCO'\n",
      " 'UNIQUE_ID' 'CONG_DIST' 'COUNTYFP' 'County' 'Prec_Code' 'Precinct']\n"
     ]
    }
   ],
   "source": [
    "print(sc_election_processed_gdf.columns.values)"
   ]
  },
  {
   "cell_type": "code",
   "execution_count": null,
   "metadata": {},
   "outputs": [],
   "source": []
  },
  {
   "cell_type": "code",
   "execution_count": 439,
   "metadata": {},
   "outputs": [],
   "source": [
    "#drop geometry column\n",
    "sc_election_processed_gdf = sc_election_processed_gdf.drop(columns='geometry')"
   ]
  },
  {
   "cell_type": "code",
   "execution_count": 443,
   "metadata": {},
   "outputs": [],
   "source": [
    "sc_election_processed_gdf['UNIQUE_ID'] = (\n",
    "    sc_election_processed_gdf['County'] + ' PRECINCT ' + sc_election_processed_gdf['Prec_Code'].astype(str)\n",
    ")"
   ]
  },
  {
   "cell_type": "code",
   "execution_count": 444,
   "metadata": {},
   "outputs": [],
   "source": [
    "with open('states/south_carolina/election/sc_election.json', 'w') as json_file:\n",
    "    json.dump(sc_election_processed_gdf.to_dict(orient='records'), json_file, indent=4)"
   ]
  },
  {
   "cell_type": "markdown",
   "metadata": {},
   "source": [
    "## MD election preprocessing"
   ]
  },
  {
   "cell_type": "code",
   "execution_count": 446,
   "metadata": {},
   "outputs": [],
   "source": [
    "md_precincts_gdf = gpd.read_file('states/maryland/geodata/maryland_precincts.geojson')\n"
   ]
  },
  {
   "cell_type": "code",
   "execution_count": 447,
   "metadata": {},
   "outputs": [
    {
     "name": "stdout",
     "output_type": "stream",
     "text": [
      "                     NAME                                           geometry\n",
      "0  HOWARD PRECINCT 06-001  POLYGON Z ((-76.83025 39.14757 0.00000, -76.83...\n",
      "1  HOWARD PRECINCT 05-023  POLYGON Z ((-76.89107 39.22616 0.00000, -76.89...\n",
      "2  HOWARD PRECINCT 05-018  POLYGON Z ((-76.88639 39.20934 0.00000, -76.88...\n",
      "3  HOWARD PRECINCT 05-017  POLYGON Z ((-76.88670 39.20810 0.00000, -76.88...\n",
      "4  HOWARD PRECINCT 05-020  POLYGON Z ((-76.91361 39.14963 0.00000, -76.91...\n"
     ]
    }
   ],
   "source": [
    "print(md_precincts_gdf.head())"
   ]
  },
  {
   "cell_type": "code",
   "execution_count": 448,
   "metadata": {},
   "outputs": [],
   "source": [
    "# load csv\n",
    "md_election_df = pd.read_csv('raw/precincts/HOUSE_precinct_general.csv')"
   ]
  },
  {
   "cell_type": "code",
   "execution_count": 449,
   "metadata": {},
   "outputs": [
    {
     "name": "stdout",
     "output_type": "stream",
     "text": [
      "                    precinct    office party_detailed party_simplified  \\\n",
      "0  061110097164_003026019037  US HOUSE       DEMOCRAT         DEMOCRAT   \n",
      "1  061110097164_003026019037  US HOUSE     REPUBLICAN       REPUBLICAN   \n",
      "2  061110097164_003026019037  US HOUSE       DEMOCRAT         DEMOCRAT   \n",
      "3  061110097164_003026019037  US HOUSE     REPUBLICAN       REPUBLICAN   \n",
      "4  061110097168_003026019037  US HOUSE       DEMOCRAT         DEMOCRAT   \n",
      "\n",
      "           mode  votes county_name  county_fips jurisdiction_name  \\\n",
      "0      ABSENTEE     32     VENTURA       6111.0           VENTURA   \n",
      "1      ABSENTEE      1     VENTURA       6111.0           VENTURA   \n",
      "2  NOT ABSENTEE      1     VENTURA       6111.0           VENTURA   \n",
      "3  NOT ABSENTEE      3     VENTURA       6111.0           VENTURA   \n",
      "4      ABSENTEE    303     VENTURA       6111.0           VENTURA   \n",
      "\n",
      "   jurisdiction_fips  ...       state  special writein  state_po state_fips  \\\n",
      "0             6111.0  ...  CALIFORNIA    False   False        CA          6   \n",
      "1             6111.0  ...  CALIFORNIA    False   False        CA          6   \n",
      "2             6111.0  ...  CALIFORNIA    False   False        CA          6   \n",
      "3             6111.0  ...  CALIFORNIA    False   False        CA          6   \n",
      "4             6111.0  ...  CALIFORNIA    False   False        CA          6   \n",
      "\n",
      "  state_cen  state_ic        date readme_check  magnitude  \n",
      "0        93        71  2020-11-03         True          1  \n",
      "1        93        71  2020-11-03         True          1  \n",
      "2        93        71  2020-11-03         True          1  \n",
      "3        93        71  2020-11-03         True          1  \n",
      "4        93        71  2020-11-03         True          1  \n",
      "\n",
      "[5 rows x 25 columns]\n"
     ]
    }
   ],
   "source": [
    "print(md_election_df.head())"
   ]
  },
  {
   "cell_type": "code",
   "execution_count": 450,
   "metadata": {},
   "outputs": [],
   "source": [
    "#filter state_po == MD\n",
    "md_election_df = md_election_df[md_election_df['state_po'] == 'MD']"
   ]
  },
  {
   "cell_type": "code",
   "execution_count": 451,
   "metadata": {},
   "outputs": [
    {
     "name": "stdout",
     "output_type": "stream",
     "text": [
      "['precinct' 'office' 'party_detailed' 'party_simplified' 'mode' 'votes'\n",
      " 'county_name' 'county_fips' 'jurisdiction_name' 'jurisdiction_fips'\n",
      " 'candidate' 'district' 'dataverse' 'year' 'stage' 'state' 'special'\n",
      " 'writein' 'state_po' 'state_fips' 'state_cen' 'state_ic' 'date'\n",
      " 'readme_check' 'magnitude']\n"
     ]
    }
   ],
   "source": [
    "print(md_election_df.columns.values)"
   ]
  },
  {
   "cell_type": "code",
   "execution_count": 452,
   "metadata": {},
   "outputs": [
    {
     "name": "stdout",
     "output_type": "stream",
     "text": [
      "county_name\n",
      "BALTIMORE CITY     6365\n",
      "MONTGOMERY         5510\n",
      "PRINCE GEORGE'S    4545\n",
      "BALTIMORE          4140\n",
      "ANNE ARUNDEL       2925\n",
      "HOWARD             2440\n",
      "FREDERICK          1880\n",
      "HARFORD            1335\n",
      "WASHINGTON         1325\n",
      "ALLEGANY            925\n",
      "WICOMICO            810\n",
      "CARROLL             655\n",
      "CHARLES             645\n",
      "DORCHESTER          600\n",
      "ST MARY'S           540\n",
      "GARRETT             475\n",
      "CECIL               420\n",
      "CALVERT             345\n",
      "SOMERSET            345\n",
      "WORCESTER           300\n",
      "TALBOT              180\n",
      "QUEEN ANNE'S        165\n",
      "KENT                150\n",
      "CAROLINE            120\n",
      "Name: count, dtype: int64\n"
     ]
    }
   ],
   "source": [
    "print(md_election_df['county_name'].value_counts())"
   ]
  },
  {
   "cell_type": "code",
   "execution_count": 453,
   "metadata": {},
   "outputs": [
    {
     "name": "stdout",
     "output_type": "stream",
     "text": [
      "      precinct    office party_detailed party_simplified          mode  votes  \\\n",
      "54456   06-001  US HOUSE            NaN              NaN  2ND ABSENTEE      0   \n",
      "54457   06-001  US HOUSE            NaN              NaN  2ND ABSENTEE      0   \n",
      "54458   06-001  US HOUSE            NaN              NaN  2ND ABSENTEE      0   \n",
      "54459   06-001  US HOUSE            NaN              NaN  2ND ABSENTEE      0   \n",
      "54460   06-001  US HOUSE            NaN              NaN  2ND ABSENTEE      0   \n",
      "...        ...       ...            ...              ...           ...    ...   \n",
      "86111   06-001  US HOUSE     REPUBLICAN       REPUBLICAN  2ND ABSENTEE     79   \n",
      "86112   06-001  US HOUSE     REPUBLICAN       REPUBLICAN      ABSENTEE     84   \n",
      "86113   06-001  US HOUSE     REPUBLICAN       REPUBLICAN  EARLY VOTING    569   \n",
      "86114   06-001  US HOUSE     REPUBLICAN       REPUBLICAN  ELECTION DAY    177   \n",
      "86115   06-001  US HOUSE     REPUBLICAN       REPUBLICAN   PROVISIONAL     10   \n",
      "\n",
      "        county_name  county_fips jurisdiction_name  jurisdiction_fips  ...  \\\n",
      "54456       CARROLL      24013.0           CARROLL            24013.0  ...   \n",
      "54457    DORCHESTER      24019.0        DORCHESTER            24019.0  ...   \n",
      "54458  QUEEN ANNE'S      24035.0      QUEEN ANNE'S            24035.0  ...   \n",
      "54459      SOMERSET      24039.0          SOMERSET            24039.0  ...   \n",
      "54460      WICOMICO      24045.0          WICOMICO            24045.0  ...   \n",
      "...             ...          ...               ...                ...  ...   \n",
      "86111     FREDERICK      24021.0         FREDERICK            24021.0  ...   \n",
      "86112     FREDERICK      24021.0         FREDERICK            24021.0  ...   \n",
      "86113     FREDERICK      24021.0         FREDERICK            24021.0  ...   \n",
      "86114     FREDERICK      24021.0         FREDERICK            24021.0  ...   \n",
      "86115     FREDERICK      24021.0         FREDERICK            24021.0  ...   \n",
      "\n",
      "          state  special writein  state_po state_fips state_cen  state_ic  \\\n",
      "54456  MARYLAND    False    True        MD         24        52        52   \n",
      "54457  MARYLAND    False    True        MD         24        52        52   \n",
      "54458  MARYLAND    False    True        MD         24        52        52   \n",
      "54459  MARYLAND    False    True        MD         24        52        52   \n",
      "54460  MARYLAND    False    True        MD         24        52        52   \n",
      "...         ...      ...     ...       ...        ...       ...       ...   \n",
      "86111  MARYLAND    False   False        MD         24        52        52   \n",
      "86112  MARYLAND    False   False        MD         24        52        52   \n",
      "86113  MARYLAND    False   False        MD         24        52        52   \n",
      "86114  MARYLAND    False   False        MD         24        52        52   \n",
      "86115  MARYLAND    False   False        MD         24        52        52   \n",
      "\n",
      "             date readme_check  magnitude  \n",
      "54456  2020-11-03        False          1  \n",
      "54457  2020-11-03        False          1  \n",
      "54458  2020-11-03        False          1  \n",
      "54459  2020-11-03        False          1  \n",
      "54460  2020-11-03        False          1  \n",
      "...           ...          ...        ...  \n",
      "86111  2020-11-03        False          1  \n",
      "86112  2020-11-03        False          1  \n",
      "86113  2020-11-03        False          1  \n",
      "86114  2020-11-03        False          1  \n",
      "86115  2020-11-03        False          1  \n",
      "\n",
      "[360 rows x 25 columns]\n"
     ]
    }
   ],
   "source": [
    "#find when precinct = 06-001\n",
    "print(md_election_df[md_election_df['precinct'] == '06-001'])"
   ]
  },
  {
   "cell_type": "code",
   "execution_count": 454,
   "metadata": {},
   "outputs": [],
   "source": [
    "md_election_df['NAME'] = md_election_df['county_name'] + ' PRECINCT ' + md_election_df['precinct'].astype(str)\n",
    "columns_order = ['NAME'] + [col for col in md_election_df.columns if col != 'NAME']\n",
    "md_election_df = md_election_df[columns_order]"
   ]
  },
  {
   "cell_type": "code",
   "execution_count": 455,
   "metadata": {},
   "outputs": [
    {
     "name": "stdout",
     "output_type": "stream",
     "text": [
      "                         NAME precinct    office party_detailed  \\\n",
      "79771  HOWARD PRECINCT 05-023   05-023  US HOUSE            NaN   \n",
      "79772  HOWARD PRECINCT 05-023   05-023  US HOUSE            NaN   \n",
      "79773  HOWARD PRECINCT 05-023   05-023  US HOUSE            NaN   \n",
      "79774  HOWARD PRECINCT 05-023   05-023  US HOUSE            NaN   \n",
      "79775  HOWARD PRECINCT 05-023   05-023  US HOUSE            NaN   \n",
      "79776  HOWARD PRECINCT 05-023   05-023  US HOUSE       DEMOCRAT   \n",
      "79777  HOWARD PRECINCT 05-023   05-023  US HOUSE       DEMOCRAT   \n",
      "79778  HOWARD PRECINCT 05-023   05-023  US HOUSE       DEMOCRAT   \n",
      "79779  HOWARD PRECINCT 05-023   05-023  US HOUSE       DEMOCRAT   \n",
      "79780  HOWARD PRECINCT 05-023   05-023  US HOUSE       DEMOCRAT   \n",
      "79781  HOWARD PRECINCT 05-023   05-023  US HOUSE       DEMOCRAT   \n",
      "79782  HOWARD PRECINCT 05-023   05-023  US HOUSE       DEMOCRAT   \n",
      "79783  HOWARD PRECINCT 05-023   05-023  US HOUSE       DEMOCRAT   \n",
      "79784  HOWARD PRECINCT 05-023   05-023  US HOUSE       DEMOCRAT   \n",
      "79785  HOWARD PRECINCT 05-023   05-023  US HOUSE       DEMOCRAT   \n",
      "79786  HOWARD PRECINCT 05-023   05-023  US HOUSE     REPUBLICAN   \n",
      "79787  HOWARD PRECINCT 05-023   05-023  US HOUSE     REPUBLICAN   \n",
      "79788  HOWARD PRECINCT 05-023   05-023  US HOUSE     REPUBLICAN   \n",
      "79789  HOWARD PRECINCT 05-023   05-023  US HOUSE     REPUBLICAN   \n",
      "79790  HOWARD PRECINCT 05-023   05-023  US HOUSE     REPUBLICAN   \n",
      "79791  HOWARD PRECINCT 05-023   05-023  US HOUSE     REPUBLICAN   \n",
      "79792  HOWARD PRECINCT 05-023   05-023  US HOUSE     REPUBLICAN   \n",
      "79793  HOWARD PRECINCT 05-023   05-023  US HOUSE     REPUBLICAN   \n",
      "79794  HOWARD PRECINCT 05-023   05-023  US HOUSE     REPUBLICAN   \n",
      "79795  HOWARD PRECINCT 05-023   05-023  US HOUSE     REPUBLICAN   \n",
      "\n",
      "      party_simplified          mode  votes county_name  county_fips  \\\n",
      "79771              NaN  2ND ABSENTEE      1      HOWARD      24027.0   \n",
      "79772              NaN      ABSENTEE      2      HOWARD      24027.0   \n",
      "79773              NaN  EARLY VOTING      0      HOWARD      24027.0   \n",
      "79774              NaN  ELECTION DAY      0      HOWARD      24027.0   \n",
      "79775              NaN   PROVISIONAL      1      HOWARD      24027.0   \n",
      "79776         DEMOCRAT  2ND ABSENTEE      0      HOWARD      24027.0   \n",
      "79777         DEMOCRAT      ABSENTEE      0      HOWARD      24027.0   \n",
      "79778         DEMOCRAT  EARLY VOTING      0      HOWARD      24027.0   \n",
      "79779         DEMOCRAT  ELECTION DAY      0      HOWARD      24027.0   \n",
      "79780         DEMOCRAT   PROVISIONAL      0      HOWARD      24027.0   \n",
      "79781         DEMOCRAT  2ND ABSENTEE    198      HOWARD      24027.0   \n",
      "79782         DEMOCRAT      ABSENTEE    467      HOWARD      24027.0   \n",
      "79783         DEMOCRAT  EARLY VOTING    288      HOWARD      24027.0   \n",
      "79784         DEMOCRAT  ELECTION DAY     34      HOWARD      24027.0   \n",
      "79785         DEMOCRAT   PROVISIONAL     19      HOWARD      24027.0   \n",
      "79786       REPUBLICAN  2ND ABSENTEE     57      HOWARD      24027.0   \n",
      "79787       REPUBLICAN      ABSENTEE     79      HOWARD      24027.0   \n",
      "79788       REPUBLICAN  EARLY VOTING    119      HOWARD      24027.0   \n",
      "79789       REPUBLICAN  ELECTION DAY     35      HOWARD      24027.0   \n",
      "79790       REPUBLICAN   PROVISIONAL      6      HOWARD      24027.0   \n",
      "79791       REPUBLICAN  2ND ABSENTEE      0      HOWARD      24027.0   \n",
      "79792       REPUBLICAN      ABSENTEE      0      HOWARD      24027.0   \n",
      "79793       REPUBLICAN  EARLY VOTING      0      HOWARD      24027.0   \n",
      "79794       REPUBLICAN  ELECTION DAY      0      HOWARD      24027.0   \n",
      "79795       REPUBLICAN   PROVISIONAL      0      HOWARD      24027.0   \n",
      "\n",
      "      jurisdiction_name  ...     state special  writein state_po  state_fips  \\\n",
      "79771            HOWARD  ...  MARYLAND    True     True       MD          24   \n",
      "79772            HOWARD  ...  MARYLAND    True     True       MD          24   \n",
      "79773            HOWARD  ...  MARYLAND    True     True       MD          24   \n",
      "79774            HOWARD  ...  MARYLAND    True     True       MD          24   \n",
      "79775            HOWARD  ...  MARYLAND    True     True       MD          24   \n",
      "79776            HOWARD  ...  MARYLAND    True     True       MD          24   \n",
      "79777            HOWARD  ...  MARYLAND    True     True       MD          24   \n",
      "79778            HOWARD  ...  MARYLAND    True     True       MD          24   \n",
      "79779            HOWARD  ...  MARYLAND    True     True       MD          24   \n",
      "79780            HOWARD  ...  MARYLAND    True     True       MD          24   \n",
      "79781            HOWARD  ...  MARYLAND    True    False       MD          24   \n",
      "79782            HOWARD  ...  MARYLAND    True    False       MD          24   \n",
      "79783            HOWARD  ...  MARYLAND    True    False       MD          24   \n",
      "79784            HOWARD  ...  MARYLAND    True    False       MD          24   \n",
      "79785            HOWARD  ...  MARYLAND    True    False       MD          24   \n",
      "79786            HOWARD  ...  MARYLAND    True    False       MD          24   \n",
      "79787            HOWARD  ...  MARYLAND    True    False       MD          24   \n",
      "79788            HOWARD  ...  MARYLAND    True    False       MD          24   \n",
      "79789            HOWARD  ...  MARYLAND    True    False       MD          24   \n",
      "79790            HOWARD  ...  MARYLAND    True    False       MD          24   \n",
      "79791            HOWARD  ...  MARYLAND    True     True       MD          24   \n",
      "79792            HOWARD  ...  MARYLAND    True     True       MD          24   \n",
      "79793            HOWARD  ...  MARYLAND    True     True       MD          24   \n",
      "79794            HOWARD  ...  MARYLAND    True     True       MD          24   \n",
      "79795            HOWARD  ...  MARYLAND    True     True       MD          24   \n",
      "\n",
      "      state_cen state_ic        date  readme_check magnitude  \n",
      "79771        52       52  2020-11-03         False         1  \n",
      "79772        52       52  2020-11-03         False         1  \n",
      "79773        52       52  2020-11-03         False         1  \n",
      "79774        52       52  2020-11-03         False         1  \n",
      "79775        52       52  2020-11-03         False         1  \n",
      "79776        52       52  2020-11-03         False         1  \n",
      "79777        52       52  2020-11-03         False         1  \n",
      "79778        52       52  2020-11-03         False         1  \n",
      "79779        52       52  2020-11-03         False         1  \n",
      "79780        52       52  2020-11-03         False         1  \n",
      "79781        52       52  2020-11-03         False         1  \n",
      "79782        52       52  2020-11-03         False         1  \n",
      "79783        52       52  2020-11-03         False         1  \n",
      "79784        52       52  2020-11-03         False         1  \n",
      "79785        52       52  2020-11-03         False         1  \n",
      "79786        52       52  2020-11-03         False         1  \n",
      "79787        52       52  2020-11-03         False         1  \n",
      "79788        52       52  2020-11-03         False         1  \n",
      "79789        52       52  2020-11-03         False         1  \n",
      "79790        52       52  2020-11-03         False         1  \n",
      "79791        52       52  2020-11-03         False         1  \n",
      "79792        52       52  2020-11-03         False         1  \n",
      "79793        52       52  2020-11-03         False         1  \n",
      "79794        52       52  2020-11-03         False         1  \n",
      "79795        52       52  2020-11-03         False         1  \n",
      "\n",
      "[25 rows x 26 columns]\n"
     ]
    }
   ],
   "source": [
    "print(md_election_df[md_election_df['NAME'] == 'HOWARD PRECINCT 05-023'])"
   ]
  },
  {
   "cell_type": "code",
   "execution_count": 456,
   "metadata": {},
   "outputs": [
    {
     "name": "stdout",
     "output_type": "stream",
     "text": [
      "['NAME' 'precinct' 'office' 'party_detailed' 'party_simplified' 'mode'\n",
      " 'votes' 'county_name' 'county_fips' 'jurisdiction_name'\n",
      " 'jurisdiction_fips' 'candidate' 'district' 'dataverse' 'year' 'stage'\n",
      " 'state' 'special' 'writein' 'state_po' 'state_fips' 'state_cen'\n",
      " 'state_ic' 'date' 'readme_check' 'magnitude']\n"
     ]
    }
   ],
   "source": [
    "print(md_election_df.columns.values)"
   ]
  },
  {
   "cell_type": "code",
   "execution_count": 457,
   "metadata": {},
   "outputs": [
    {
     "name": "stdout",
     "output_type": "stream",
     "text": [
      "                             NAME    office party_detailed candidate  writein  \\\n",
      "51996    CAROLINE PRECINCT 01-001  US HOUSE            NaN   WRITEIN     True   \n",
      "51997     CARROLL PRECINCT 01-001  US HOUSE            NaN   WRITEIN     True   \n",
      "51998       CECIL PRECINCT 01-001  US HOUSE            NaN   WRITEIN     True   \n",
      "51999  DORCHESTER PRECINCT 01-001  US HOUSE            NaN   WRITEIN     True   \n",
      "52000        KENT PRECINCT 01-001  US HOUSE            NaN   WRITEIN     True   \n",
      "\n",
      "       district  votes  \n",
      "51996         1      0  \n",
      "51997         1      0  \n",
      "51998         1      0  \n",
      "51999         1      0  \n",
      "52000         1      0  \n"
     ]
    }
   ],
   "source": [
    "print(md_election_df[['NAME','office', 'party_detailed', 'candidate', 'writein', 'district', 'votes']].head())\n"
   ]
  },
  {
   "cell_type": "code",
   "execution_count": 458,
   "metadata": {},
   "outputs": [],
   "source": [
    "md_election_df = md_election_df[md_election_df['writein'] != True]"
   ]
  },
  {
   "cell_type": "code",
   "execution_count": 459,
   "metadata": {},
   "outputs": [
    {
     "name": "stdout",
     "output_type": "stream",
     "text": [
      "                               NAME    office party_detailed  candidate  \\\n",
      "52046      WICOMICO PRECINCT 01-001  US HOUSE       DEMOCRAT  MIA MASON   \n",
      "52047    DORCHESTER PRECINCT 01-001  US HOUSE       DEMOCRAT  MIA MASON   \n",
      "52048      SOMERSET PRECINCT 01-001  US HOUSE       DEMOCRAT  MIA MASON   \n",
      "52049      CAROLINE PRECINCT 01-001  US HOUSE       DEMOCRAT  MIA MASON   \n",
      "52050  QUEEN ANNE'S PRECINCT 01-001  US HOUSE       DEMOCRAT  MIA MASON   \n",
      "\n",
      "       district  votes  \n",
      "52046         1      6  \n",
      "52047         1     36  \n",
      "52048         1     37  \n",
      "52049         1     43  \n",
      "52050         1     55  \n"
     ]
    }
   ],
   "source": [
    "print(md_election_df[['NAME','office', 'party_detailed', 'candidate', 'district', 'votes']].head())"
   ]
  },
  {
   "cell_type": "code",
   "execution_count": 460,
   "metadata": {},
   "outputs": [],
   "source": [
    "md_election_df['variable'] = (\n",
    "    'GCON' + \n",
    "    md_election_df['district'].astype(str).str.zfill(2) + \n",
    "    md_election_df['party_detailed'].str[0] + \n",
    "    md_election_df['candidate'].apply(lambda x: ''.join([name[0] for name in x.split()]))\n",
    ")"
   ]
  },
  {
   "cell_type": "code",
   "execution_count": 461,
   "metadata": {},
   "outputs": [
    {
     "name": "stdout",
     "output_type": "stream",
     "text": [
      "                               NAME precinct   county_name  county_fips  \\\n",
      "52046      WICOMICO PRECINCT 01-001   01-001      WICOMICO      24045.0   \n",
      "52047    DORCHESTER PRECINCT 01-001   01-001    DORCHESTER      24019.0   \n",
      "52048      SOMERSET PRECINCT 01-001   01-001      SOMERSET      24039.0   \n",
      "52049      CAROLINE PRECINCT 01-001   01-001      CAROLINE      24011.0   \n",
      "52050  QUEEN ANNE'S PRECINCT 01-001   01-001  QUEEN ANNE'S      24035.0   \n",
      "...                             ...      ...           ...          ...   \n",
      "89131     FREDERICK PRECINCT 26-002   26-002     FREDERICK      24021.0   \n",
      "89132     FREDERICK PRECINCT 26-002   26-002     FREDERICK      24021.0   \n",
      "89133     FREDERICK PRECINCT 26-002   26-002     FREDERICK      24021.0   \n",
      "89134     FREDERICK PRECINCT 26-002   26-002     FREDERICK      24021.0   \n",
      "89135     FREDERICK PRECINCT 26-002   26-002     FREDERICK      24021.0   \n",
      "\n",
      "         variable  votes  \n",
      "52046   GCON01DMM      6  \n",
      "52047   GCON01DMM     36  \n",
      "52048   GCON01DMM     37  \n",
      "52049   GCON01DMM     43  \n",
      "52050   GCON01DMM     55  \n",
      "...           ...    ...  \n",
      "89131  GCON08RGTC    106  \n",
      "89132  GCON08RGTC    145  \n",
      "89133  GCON08RGTC    409  \n",
      "89134  GCON08RGTC    527  \n",
      "89135  GCON08RGTC     15  \n",
      "\n",
      "[21565 rows x 6 columns]\n"
     ]
    }
   ],
   "source": [
    "md_election_df_filtered = md_election_df[['NAME', 'precinct', 'county_name', 'county_fips', 'variable', 'votes']]\n",
    "print(md_election_df_filtered)"
   ]
  },
  {
   "cell_type": "code",
   "execution_count": 462,
   "metadata": {},
   "outputs": [],
   "source": [
    "md_election_pivoted_df = md_election_df_filtered.pivot_table(\n",
    "    index=['NAME'], \n",
    "    columns='variable',\n",
    "    values='votes',\n",
    "    aggfunc='sum'\n",
    ").fillna(0).reset_index() \n"
   ]
  },
  {
   "cell_type": "code",
   "execution_count": 463,
   "metadata": {},
   "outputs": [
    {
     "name": "stdout",
     "output_type": "stream",
     "text": [
      "Duplicates found:\n",
      "                               NAME precinct   county_name  county_fips  \\\n",
      "52046      WICOMICO PRECINCT 01-001   01-001      WICOMICO      24045.0   \n",
      "52047    DORCHESTER PRECINCT 01-001   01-001    DORCHESTER      24019.0   \n",
      "52048      SOMERSET PRECINCT 01-001   01-001      SOMERSET      24039.0   \n",
      "52049      CAROLINE PRECINCT 01-001   01-001      CAROLINE      24011.0   \n",
      "52050  QUEEN ANNE'S PRECINCT 01-001   01-001  QUEEN ANNE'S      24035.0   \n",
      "...                             ...      ...           ...          ...   \n",
      "89131     FREDERICK PRECINCT 26-002   26-002     FREDERICK      24021.0   \n",
      "89132     FREDERICK PRECINCT 26-002   26-002     FREDERICK      24021.0   \n",
      "89133     FREDERICK PRECINCT 26-002   26-002     FREDERICK      24021.0   \n",
      "89134     FREDERICK PRECINCT 26-002   26-002     FREDERICK      24021.0   \n",
      "89135     FREDERICK PRECINCT 26-002   26-002     FREDERICK      24021.0   \n",
      "\n",
      "         variable  votes  \n",
      "52046   GCON01DMM      6  \n",
      "52047   GCON01DMM     36  \n",
      "52048   GCON01DMM     37  \n",
      "52049   GCON01DMM     43  \n",
      "52050   GCON01DMM     55  \n",
      "...           ...    ...  \n",
      "89131  GCON08RGTC    106  \n",
      "89132  GCON08RGTC    145  \n",
      "89133  GCON08RGTC    409  \n",
      "89134  GCON08RGTC    527  \n",
      "89135  GCON08RGTC     15  \n",
      "\n",
      "[21565 rows x 6 columns]\n"
     ]
    }
   ],
   "source": [
    "# Check for duplicates\n",
    "duplicates = md_election_df_filtered.duplicated(subset=['NAME'], keep=False)\n",
    "if duplicates.any():\n",
    "    print(\"Duplicates found:\")\n",
    "    print(md_election_df_filtered[duplicates])\n",
    "else:\n",
    "    print(\"No duplicates found.\")\n"
   ]
  },
  {
   "cell_type": "code",
   "execution_count": 464,
   "metadata": {},
   "outputs": [
    {
     "name": "stdout",
     "output_type": "stream",
     "text": [
      "variable                       NAME  GCON01DMM  GCON01RAH  GCON02DCDR  \\\n",
      "0          ALLEGANY PRECINCT 01-000        0.0        0.0         0.0   \n",
      "1          ALLEGANY PRECINCT 02-000        0.0        0.0         0.0   \n",
      "2          ALLEGANY PRECINCT 03-000        0.0        0.0         0.0   \n",
      "3          ALLEGANY PRECINCT 04-002        0.0        0.0         0.0   \n",
      "4          ALLEGANY PRECINCT 04-003        0.0        0.0         0.0   \n",
      "...                             ...        ...        ...         ...   \n",
      "2030      WORCESTER PRECINCT 05-002      955.0     1592.0         0.0   \n",
      "2031      WORCESTER PRECINCT 06-001      921.0     1742.0         0.0   \n",
      "2032      WORCESTER PRECINCT 06-002      250.0      753.0         0.0   \n",
      "2033      WORCESTER PRECINCT 06-003      430.0     1115.0         0.0   \n",
      "2034      WORCESTER PRECINCT 07-001     1532.0     3005.0         0.0   \n",
      "\n",
      "variable  GCON02RJRS  GCON03DJS  GCON03RCA  GCON04DAGB  GCON04RGEM  \\\n",
      "0                0.0        0.0        0.0         0.0         0.0   \n",
      "1                0.0        0.0        0.0         0.0         0.0   \n",
      "2                0.0        0.0        0.0         0.0         0.0   \n",
      "3                0.0        0.0        0.0         0.0         0.0   \n",
      "4                0.0        0.0        0.0         0.0         0.0   \n",
      "...              ...        ...        ...         ...         ...   \n",
      "2030             0.0        0.0        0.0         0.0         0.0   \n",
      "2031             0.0        0.0        0.0         0.0         0.0   \n",
      "2032             0.0        0.0        0.0         0.0         0.0   \n",
      "2033             0.0        0.0        0.0         0.0         0.0   \n",
      "2034             0.0        0.0        0.0         0.0         0.0   \n",
      "\n",
      "variable  GCON05DSHH  GCON05RCP  GCON06DDJT  GCON06GGG  GCON06RNCP  GCON07DKM  \\\n",
      "0                0.0        0.0        72.0        3.0       406.0        0.0   \n",
      "1                0.0        0.0        93.0        8.0       398.0        0.0   \n",
      "2                0.0        0.0        89.0        7.0       419.0        0.0   \n",
      "3                0.0        0.0       144.0       10.0       188.0        0.0   \n",
      "4                0.0        0.0       248.0       14.0       354.0        0.0   \n",
      "...              ...        ...         ...        ...         ...        ...   \n",
      "2030             0.0        0.0         0.0        0.0         0.0        0.0   \n",
      "2031             0.0        0.0         0.0        0.0         0.0        0.0   \n",
      "2032             0.0        0.0         0.0        0.0         0.0        0.0   \n",
      "2033             0.0        0.0         0.0        0.0         0.0        0.0   \n",
      "2034             0.0        0.0         0.0        0.0         0.0        0.0   \n",
      "\n",
      "variable  GCON07RKK  GCON08DJR  GCON08RGTC  \n",
      "0               0.0        0.0         0.0  \n",
      "1               0.0        0.0         0.0  \n",
      "2               0.0        0.0         0.0  \n",
      "3               0.0        0.0         0.0  \n",
      "4               0.0        0.0         0.0  \n",
      "...             ...        ...         ...  \n",
      "2030            0.0        0.0         0.0  \n",
      "2031            0.0        0.0         0.0  \n",
      "2032            0.0        0.0         0.0  \n",
      "2033            0.0        0.0         0.0  \n",
      "2034            0.0        0.0         0.0  \n",
      "\n",
      "[2035 rows x 18 columns]\n"
     ]
    }
   ],
   "source": [
    "print(md_election_pivoted_df)"
   ]
  },
  {
   "cell_type": "code",
   "execution_count": 465,
   "metadata": {},
   "outputs": [
    {
     "name": "stdout",
     "output_type": "stream",
     "text": [
      "2035\n"
     ]
    }
   ],
   "source": [
    "print(len(md_election_pivoted_df))"
   ]
  },
  {
   "cell_type": "code",
   "execution_count": 466,
   "metadata": {},
   "outputs": [
    {
     "name": "stdout",
     "output_type": "stream",
     "text": [
      "2043\n"
     ]
    }
   ],
   "source": [
    "print(len(md_precincts_gdf))"
   ]
  },
  {
   "cell_type": "code",
   "execution_count": 467,
   "metadata": {},
   "outputs": [],
   "source": [
    "md_precincts_merged_gdf = md_precincts_gdf.merge(\n",
    "    md_election_pivoted_df, \n",
    "    on='NAME', \n",
    "    how='left'\n",
    ")\n",
    "md_precincts_merged_gdf = md_precincts_merged_gdf.fillna(0)"
   ]
  },
  {
   "cell_type": "code",
   "execution_count": 375,
   "metadata": {},
   "outputs": [],
   "source": [
    "# columns_to_keep = ['NAME', 'geometry'] + ['GCON01RAH', 'GCON02DCDR', 'GCON03DJS', 'GCON04DAGB', 'GCON05DSHH', 'GCON06DDJT', 'GCON07DKM', 'GCON08DJR']"
   ]
  },
  {
   "cell_type": "code",
   "execution_count": 376,
   "metadata": {},
   "outputs": [],
   "source": [
    "# md_precincts_merged_gdf = md_precincts_merged_gdf[columns_to_keep]"
   ]
  },
  {
   "cell_type": "code",
   "execution_count": 468,
   "metadata": {},
   "outputs": [
    {
     "name": "stdout",
     "output_type": "stream",
     "text": [
      "['NAME' 'geometry' 'GCON01DMM' 'GCON01RAH' 'GCON02DCDR' 'GCON02RJRS'\n",
      " 'GCON03DJS' 'GCON03RCA' 'GCON04DAGB' 'GCON04RGEM' 'GCON05DSHH'\n",
      " 'GCON05RCP' 'GCON06DDJT' 'GCON06GGG' 'GCON06RNCP' 'GCON07DKM' 'GCON07RKK'\n",
      " 'GCON08DJR' 'GCON08RGTC']\n"
     ]
    }
   ],
   "source": [
    "print(md_precincts_merged_gdf.columns.values)"
   ]
  },
  {
   "cell_type": "code",
   "execution_count": 469,
   "metadata": {},
   "outputs": [
    {
     "name": "stdout",
     "output_type": "stream",
     "text": [
      "                    candidate  district\n",
      "52046               MIA MASON         1\n",
      "52096             ANDY HARRIS         1\n",
      "56456  CA DUTCH RUPPERSBERGER         2\n",
      "56461      JOHNNY RAY SALLING         2\n",
      "59826           JOHN SARBANES         3\n",
      "59841         CHARLES ANTHONY         3\n",
      "63581         ANTHONY G BROWN         4\n",
      "63586      GEORGE E MCDERMOTT         4\n",
      "67536           STENY H HOYER         5\n",
      "67551           CHRIS PALOMBI         5\n",
      "71061           DAVID J TRONE         6\n",
      "71076            GEORGE GLUCK         6\n",
      "71106          NEIL C PARROTT         6\n",
      "77131            KWEISI MFUME         7\n",
      "77136         KIMBERLY KLACIK         7\n",
      "85001            JAMIE RASKIN         8\n",
      "85011     GREGORY THOMAS COLL         8\n"
     ]
    }
   ],
   "source": [
    "# print unique candidate and district\n",
    "print(md_election_df[['candidate', 'district']].drop_duplicates())"
   ]
  },
  {
   "cell_type": "code",
   "execution_count": null,
   "metadata": {},
   "outputs": [],
   "source": []
  },
  {
   "cell_type": "markdown",
   "metadata": {},
   "source": [
    "## Process voting population:"
   ]
  },
  {
   "cell_type": "code",
   "execution_count": 477,
   "metadata": {},
   "outputs": [],
   "source": [
    "columns_to_ignore = ['NAME', 'geometry']\n",
    "columns_to_use = [col for col in md_precincts_merged_gdf.columns if col not in columns_to_ignore]"
   ]
  },
  {
   "cell_type": "code",
   "execution_count": 478,
   "metadata": {},
   "outputs": [
    {
     "name": "stdout",
     "output_type": "stream",
     "text": [
      "['GCON01DMM', 'GCON01RAH', 'GCON02DCDR', 'GCON02RJRS', 'GCON03DJS', 'GCON03RCA', 'GCON04DAGB', 'GCON04RGEM', 'GCON05DSHH', 'GCON05RCP', 'GCON06DDJT', 'GCON06GGG', 'GCON06RNCP', 'GCON07DKM', 'GCON07RKK', 'GCON08DJR', 'GCON08RGTC', 'TOT_REP', 'TOT_DEM', 'TOT_VOT', 'LEAN']\n"
     ]
    }
   ],
   "source": [
    "print(columns_to_use)"
   ]
  },
  {
   "cell_type": "code",
   "execution_count": 482,
   "metadata": {},
   "outputs": [],
   "source": [
    "md_precincts_processed_df = process_precinct_votes(md_precincts_merged_gdf, columns_to_use, columns_to_ignore)\n"
   ]
  },
  {
   "cell_type": "code",
   "execution_count": 483,
   "metadata": {},
   "outputs": [
    {
     "name": "stdout",
     "output_type": "stream",
     "text": [
      "['NAME' 'geometry' 'TOT_REP' 'TOT_DEM' 'TOT_VOT' 'LEAN' 'GCON01RAH'\n",
      " 'GCON02RJRS' 'GCON03RCA' 'GCON04RGEM' 'GCON05RCP' 'GCON06RNCP'\n",
      " 'GCON07RKK' 'GCON08RGTC' 'GCON01DMM' 'GCON02DCDR' 'GCON03DJS'\n",
      " 'GCON04DAGB' 'GCON05DSHH' 'GCON06DDJT' 'GCON07DKM' 'GCON08DJR']\n"
     ]
    }
   ],
   "source": [
    "print(md_precincts_processed_df.columns.values)"
   ]
  },
  {
   "cell_type": "code",
   "execution_count": 475,
   "metadata": {},
   "outputs": [
    {
     "name": "stdout",
     "output_type": "stream",
     "text": [
      "   TOT_REP  TOT_DEM  TOT_VOT        LEAN  GCON01RAH  GCON02RJRS  GCON03RCA  \\\n",
      "0    427.0    987.0   1414.0  Democratic        0.0       427.0        0.0   \n",
      "1    296.0   1006.0   1302.0  Democratic        0.0         0.0        0.0   \n",
      "2    231.0    817.0   1048.0  Democratic        0.0         0.0        0.0   \n",
      "3    393.0    985.0   1378.0  Democratic        0.0         0.0        0.0   \n",
      "4    699.0   1163.0   1862.0  Democratic        0.0         0.0      699.0   \n",
      "\n",
      "   GCON04RGEM  GCON05RCP  GCON06RNCP  ...  GCON01DMM  GCON02DCDR  GCON03DJS  \\\n",
      "0         0.0        0.0         0.0  ...        0.0       987.0        0.0   \n",
      "1         0.0        0.0         0.0  ...        0.0         0.0        0.0   \n",
      "2         0.0        0.0         0.0  ...        0.0         0.0        0.0   \n",
      "3         0.0        0.0         0.0  ...        0.0         0.0        0.0   \n",
      "4         0.0        0.0         0.0  ...        0.0         0.0     1163.0   \n",
      "\n",
      "   GCON04DAGB  GCON05DSHH  GCON06DDJT  GCON07DKM  GCON08DJR  \\\n",
      "0         0.0         0.0         0.0        0.0        0.0   \n",
      "1         0.0         0.0         0.0     1006.0        0.0   \n",
      "2         0.0         0.0         0.0      817.0        0.0   \n",
      "3         0.0         0.0         0.0      985.0        0.0   \n",
      "4         0.0         0.0         0.0        0.0        0.0   \n",
      "\n",
      "                     NAME                                           geometry  \n",
      "0  HOWARD PRECINCT 06-001  POLYGON Z ((-76.83025 39.14757 0.00000, -76.83...  \n",
      "1  HOWARD PRECINCT 05-023  POLYGON Z ((-76.89107 39.22616 0.00000, -76.89...  \n",
      "2  HOWARD PRECINCT 05-018  POLYGON Z ((-76.88639 39.20934 0.00000, -76.88...  \n",
      "3  HOWARD PRECINCT 05-017  POLYGON Z ((-76.88670 39.20810 0.00000, -76.88...  \n",
      "4  HOWARD PRECINCT 05-020  POLYGON Z ((-76.91361 39.14963 0.00000, -76.91...  \n",
      "\n",
      "[5 rows x 22 columns]\n"
     ]
    }
   ],
   "source": [
    "print(md_precincts_processed_df.head())"
   ]
  },
  {
   "cell_type": "code",
   "execution_count": 484,
   "metadata": {},
   "outputs": [
    {
     "name": "stderr",
     "output_type": "stream",
     "text": [
      "/var/folders/3l/c_gyf2kn1vg4ww5h_h4819cm0000gn/T/ipykernel_96987/3788052077.py:1: SettingWithCopyWarning: \n",
      "A value is trying to be set on a copy of a slice from a DataFrame\n",
      "\n",
      "See the caveats in the documentation: https://pandas.pydata.org/pandas-docs/stable/user_guide/indexing.html#returning-a-view-versus-a-copy\n",
      "  md_precincts_processed_df.rename(columns={\"NAME\": \"UNIQUE_ID\"}, inplace=True)\n"
     ]
    }
   ],
   "source": [
    "md_precincts_processed_df.rename(columns={\"NAME\": \"UNIQUE_ID\"}, inplace=True)"
   ]
  },
  {
   "cell_type": "code",
   "execution_count": 486,
   "metadata": {},
   "outputs": [
    {
     "name": "stderr",
     "output_type": "stream",
     "text": [
      "/var/folders/3l/c_gyf2kn1vg4ww5h_h4819cm0000gn/T/ipykernel_96987/10099525.py:1: SettingWithCopyWarning: \n",
      "A value is trying to be set on a copy of a slice from a DataFrame\n",
      "\n",
      "See the caveats in the documentation: https://pandas.pydata.org/pandas-docs/stable/user_guide/indexing.html#returning-a-view-versus-a-copy\n",
      "  md_precincts_processed_df.drop(columns='geometry', inplace=True)\n"
     ]
    }
   ],
   "source": [
    "md_precincts_processed_df.drop(columns='geometry', inplace=True)"
   ]
  },
  {
   "cell_type": "code",
   "execution_count": 487,
   "metadata": {},
   "outputs": [],
   "source": [
    "with open('states/maryland/election/md_election.json', 'w') as json_file:\n",
    "    json.dump(md_precincts_processed_df.to_dict(orient='records'), json_file, indent=4)"
   ]
  }
 ],
 "metadata": {
  "kernelspec": {
   "display_name": "cse354",
   "language": "python",
   "name": "python3"
  },
  "language_info": {
   "codemirror_mode": {
    "name": "ipython",
    "version": 3
   },
   "file_extension": ".py",
   "mimetype": "text/x-python",
   "name": "python",
   "nbconvert_exporter": "python",
   "pygments_lexer": "ipython3",
   "version": "3.11.10"
  }
 },
 "nbformat": 4,
 "nbformat_minor": 2
}
