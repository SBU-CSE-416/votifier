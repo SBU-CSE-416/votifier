{
 "cells": [
  {
   "cell_type": "code",
   "execution_count": 553,
   "metadata": {},
   "outputs": [],
   "source": [
    "import pandas as pd\n",
    "import geopandas as gpd\n",
    "import matplotlib.pyplot as plt\n",
    "import maup\n",
    "from shapely.geometry import Polygon, MultiPolygon\n",
    "from shapely.geometry.polygon import orient"
   ]
  },
  {
   "cell_type": "markdown",
   "metadata": {},
   "source": [
    "# Import dataframes, dictionaries, and functions"
   ]
  },
  {
   "cell_type": "code",
   "execution_count": 554,
   "metadata": {},
   "outputs": [],
   "source": [
    "economic_columns = ['MEDN_INC22', 'TOT_HOUS22', '0_35K', '35K_60K', '60K-100K', '100K_125K',\n",
    "                     '125K_150K', '150K_MORE']\n",
    "race_columns = ['TOT_POP22',\n",
    "                     'NHSP_POP22', 'HSP_POP22', 'WHT_NHSP22', 'BLK_NHSP22', 'AIA_NHSP22',\n",
    "                     'ASN_NHSP22', 'HPI_NHSP22', 'OTH_NHSP22']"
   ]
  },
  {
   "cell_type": "code",
   "execution_count": 555,
   "metadata": {},
   "outputs": [],
   "source": [
    "def orient_geometry(geom):\n",
    "    if geom.type == 'Polygon':\n",
    "        return orient(geom, sign=1.0)\n",
    "    elif geom.type == 'MultiPolygon':\n",
    "        return MultiPolygon([orient(part, sign=1.0) for part in geom.geoms])\n",
    "    else:\n",
    "        return geom"
   ]
  },
  {
   "cell_type": "code",
   "execution_count": 556,
   "metadata": {},
   "outputs": [],
   "source": [
    "def aggregate_economic_data(block_gdf, precincts_gdf, variables):\n",
    "    \"\"\"\n",
    "    Parameters:\n",
    "    - block_gdf (GeoDataFrame): GeoDataFrame containing the economic data per census block\n",
    "    - precincts_gdf (GeoDataFrame): GeoDataFrame representing precincts to which data will be aggregated\n",
    "    - variables (list): List of column names to be aggregated.\n",
    "\n",
    "    Returns:\n",
    "    - GeoDataFrame: The updated precincts_gdf with aggregated economic data.\n",
    "    \"\"\"\n",
    "    precincts_gdf['geometry'] =  precincts_gdf['geometry'].apply(orient_geometry)\n",
    "    precincts_gdf =  precincts_gdf.to_crs(epsg=4326)\n",
    "    block_gdf['geometry'] = block_gdf['geometry'].apply(orient_geometry)\n",
    "    block_gdf = block_gdf.to_crs(epsg=4326)\n",
    "    assignment = maup.assign(block_gdf, precincts_gdf)\n",
    "    \n",
    "    precincts_gdf[variables] = block_gdf[variables].groupby(assignment).sum()\n",
    "    \n",
    "    weighted_sum = (block_gdf['MEDN_INC22'] * block_gdf['TOT_HOUS22']).groupby(assignment).sum()\n",
    "    total_households = block_gdf['TOT_HOUS22'].groupby(assignment).sum()\n",
    "    \n",
    "    precincts_gdf['MEDN_INC22'] = weighted_sum / total_households\n",
    "    precincts_gdf = precincts_gdf.fillna(0)\n",
    "    \n",
    "    return precincts_gdf\n"
   ]
  },
  {
   "cell_type": "code",
   "execution_count": 557,
   "metadata": {},
   "outputs": [],
   "source": [
    "def aggregate_racial_data(block_gdf, precincts_gdf, variables):\n",
    "    \"\"\"\n",
    "    Parameters:\n",
    "    - block_gdf (GeoDataFrame): GeoDataFrame containing the racial data per census block\n",
    "    - precincts_gdf (GeoDataFrame): GeoDataFrame representing precincts to which data will be aggregated\n",
    "    - variables (list): List of column names to be aggregated\n",
    "\n",
    "    Returns:\n",
    "    - GeoDataFrame: The updated precincts_gdf with aggregated economic data.\n",
    "    \"\"\"\n",
    "    precincts_gdf['geometry'] =  precincts_gdf['geometry'].apply(orient_geometry)\n",
    "    precincts_gdf =  precincts_gdf.to_crs(epsg=4326)\n",
    "    block_gdf['geometry'] = block_gdf['geometry'].apply(orient_geometry)\n",
    "    block_gdf = block_gdf.to_crs(epsg=4326)\n",
    "    assignment = maup.assign(block_gdf, precincts_gdf)\n",
    "    \n",
    "    precincts_gdf[variables] = block_gdf[variables].groupby(assignment).sum()\n",
    "    \n",
    "    if 'TOT_POP22' in variables:\n",
    "        variables.remove('TOT_POP22')\n",
    "    precincts_gdf['TOT_POP22'] = precincts_gdf[['NHSP_POP22', 'HSP_POP22']].sum(axis=1)\n",
    "    \n",
    "    precincts_gdf = precincts_gdf.fillna(0)\n",
    "    \n",
    "    return precincts_gdf\n"
   ]
  },
  {
   "cell_type": "markdown",
   "metadata": {},
   "source": [
    "# Aggregate Census Block data to precincts for South Carolina:"
   ]
  },
  {
   "cell_type": "markdown",
   "metadata": {},
   "source": [
    "## Get block level geometry"
   ]
  },
  {
   "cell_type": "code",
   "execution_count": 558,
   "metadata": {},
   "outputs": [
    {
     "name": "stderr",
     "output_type": "stream",
     "text": [
      "/var/folders/3l/c_gyf2kn1vg4ww5h_h4819cm0000gn/T/ipykernel_812/2600728937.py:2: ShapelyDeprecationWarning: The 'type' attribute is deprecated, and will be removed in the future. You can use the 'geom_type' attribute instead.\n",
      "  if geom.type == 'Polygon':\n",
      "/var/folders/3l/c_gyf2kn1vg4ww5h_h4819cm0000gn/T/ipykernel_812/2600728937.py:4: ShapelyDeprecationWarning: The 'type' attribute is deprecated, and will be removed in the future. You can use the 'geom_type' attribute instead.\n",
      "  elif geom.type == 'MultiPolygon':\n"
     ]
    },
    {
     "name": "stdout",
     "output_type": "stream",
     "text": [
      "24\n"
     ]
    }
   ],
   "source": [
    "sc_block_inc_gdf = gpd.read_file('raw/census_block/income/sc_inc_2022_bg_shape_file/sc_inc_2022_bg.shp')\n",
    "sc_block_inc_gdf['geometry'] = sc_block_inc_gdf ['geometry'].apply(orient_geometry)\n",
    "sc_block_inc_gdf = sc_block_inc_gdf .to_crs(epsg=4326)\n",
    "print(len(sc_block_inc_gdf.columns))"
   ]
  },
  {
   "cell_type": "code",
   "execution_count": 559,
   "metadata": {},
   "outputs": [],
   "source": [
    "sc_block_geometry_gdf = sc_block_inc_gdf[['GEOID','STATEFP', 'STATE', 'COUNTYFP', 'COUNTY', 'geometry']]"
   ]
  },
  {
   "cell_type": "markdown",
   "metadata": {},
   "source": [
    "## Get precincts level geoDataFrames"
   ]
  },
  {
   "cell_type": "code",
   "execution_count": 560,
   "metadata": {},
   "outputs": [
    {
     "name": "stdout",
     "output_type": "stream",
     "text": [
      "386\n"
     ]
    }
   ],
   "source": [
    "sc_precincts_gdf = gpd.read_file('states/south_carolina/geodata/south_carolina_precincts.geojson')\n",
    "print(len(sc_precincts_gdf.columns))"
   ]
  },
  {
   "cell_type": "markdown",
   "metadata": {},
   "source": [
    "## Get Census Block categories csv"
   ]
  },
  {
   "cell_type": "code",
   "execution_count": 561,
   "metadata": {},
   "outputs": [],
   "source": [
    "sc_econ_df = pd.read_csv('processed_individual/sc_econ_block.csv')\n",
    "sc_race_df = pd.read_csv('processed_individual/sc_race_block.csv')"
   ]
  },
  {
   "cell_type": "markdown",
   "metadata": {},
   "source": [
    "## Merging census block geometry with economical data"
   ]
  },
  {
   "cell_type": "code",
   "execution_count": 562,
   "metadata": {},
   "outputs": [
    {
     "name": "stdout",
     "output_type": "stream",
     "text": [
      "Index(['GEOID', 'STATEFP', 'STATE', 'COUNTYFP', 'COUNTY', 'geometry',\n",
      "       'MEDN_INC22', 'TOT_HOUS22', '0_35K', '35K_60K', '60K-100K', '100K_125K',\n",
      "       '125K_150K', '150K_MORE'],\n",
      "      dtype='object')\n"
     ]
    }
   ],
   "source": [
    "sc_econ_df = sc_econ_df.drop(columns=['STATEFP', 'STATE', 'COUNTYFP', 'COUNTY'])\n",
    "sc_block_geometry_gdf['GEOID'] = sc_block_geometry_gdf['GEOID'].astype(str)\n",
    "sc_econ_df['GEOID'] = sc_econ_df['GEOID'].astype(str)\n",
    "sc_block_geometry_gdf = sc_block_geometry_gdf.merge(sc_econ_df, on='GEOID')\n",
    "print(sc_block_geometry_gdf.columns)"
   ]
  },
  {
   "cell_type": "code",
   "execution_count": 563,
   "metadata": {},
   "outputs": [],
   "source": [
    "sc_economic_gdf = sc_block_geometry_gdf[['GEOID', 'geometry'] + economic_columns].copy()\n",
    "sc_economic_gdf['category'] = 'economic'"
   ]
  },
  {
   "cell_type": "code",
   "execution_count": 564,
   "metadata": {},
   "outputs": [
    {
     "name": "stderr",
     "output_type": "stream",
     "text": [
      "/var/folders/3l/c_gyf2kn1vg4ww5h_h4819cm0000gn/T/ipykernel_812/2600728937.py:2: ShapelyDeprecationWarning: The 'type' attribute is deprecated, and will be removed in the future. You can use the 'geom_type' attribute instead.\n",
      "  if geom.type == 'Polygon':\n",
      "/var/folders/3l/c_gyf2kn1vg4ww5h_h4819cm0000gn/T/ipykernel_812/2600728937.py:4: ShapelyDeprecationWarning: The 'type' attribute is deprecated, and will be removed in the future. You can use the 'geom_type' attribute instead.\n",
      "  elif geom.type == 'MultiPolygon':\n"
     ]
    }
   ],
   "source": [
    "sc_block_geometry_gdf['geometry'] = sc_block_geometry_gdf['geometry'].apply(orient_geometry)\n",
    "final_sc_block_gdf = sc_block_geometry_gdf.to_crs(epsg=4326)"
   ]
  },
  {
   "cell_type": "code",
   "execution_count": 565,
   "metadata": {},
   "outputs": [
    {
     "name": "stdout",
     "output_type": "stream",
     "text": [
      "Index(['GEOID', 'geometry', 'MEDN_INC22', 'TOT_HOUS22', '0_35K', '35K_60K',\n",
      "       '60K-100K', '100K_125K', '125K_150K', '150K_MORE', 'category'],\n",
      "      dtype='object')\n"
     ]
    }
   ],
   "source": [
    "print(sc_economic_gdf.columns)"
   ]
  },
  {
   "cell_type": "code",
   "execution_count": 566,
   "metadata": {},
   "outputs": [
    {
     "name": "stdout",
     "output_type": "stream",
     "text": [
      "EPSG:4326\n",
      "EPSG:4326\n"
     ]
    }
   ],
   "source": [
    "print(sc_economic_gdf.crs)\n",
    "print(sc_precincts_gdf.crs)\n",
    "# economic_gdf['geometry'] = economic_gdf['geometry'].buffer(0)\n",
    "# precincts_gdf['geometry'] = precincts_gdf['geometry'].buffer(0)"
   ]
  },
  {
   "cell_type": "code",
   "execution_count": 567,
   "metadata": {},
   "outputs": [],
   "source": [
    "variables = ['MEDN_INC22', 'TOT_HOUS22', '0_35K', '35K_60K', '60K-100K', '100K_125K',\n",
    "             '125K_150K', '150K_MORE']"
   ]
  },
  {
   "cell_type": "code",
   "execution_count": 568,
   "metadata": {},
   "outputs": [
    {
     "name": "stderr",
     "output_type": "stream",
     "text": [
      "/var/folders/3l/c_gyf2kn1vg4ww5h_h4819cm0000gn/T/ipykernel_812/2600728937.py:2: ShapelyDeprecationWarning: The 'type' attribute is deprecated, and will be removed in the future. You can use the 'geom_type' attribute instead.\n",
      "  if geom.type == 'Polygon':\n",
      "/var/folders/3l/c_gyf2kn1vg4ww5h_h4819cm0000gn/T/ipykernel_812/2600728937.py:4: ShapelyDeprecationWarning: The 'type' attribute is deprecated, and will be removed in the future. You can use the 'geom_type' attribute instead.\n",
      "  elif geom.type == 'MultiPolygon':\n",
      "/var/folders/3l/c_gyf2kn1vg4ww5h_h4819cm0000gn/T/ipykernel_812/2600728937.py:2: ShapelyDeprecationWarning: The 'type' attribute is deprecated, and will be removed in the future. You can use the 'geom_type' attribute instead.\n",
      "  if geom.type == 'Polygon':\n",
      "/var/folders/3l/c_gyf2kn1vg4ww5h_h4819cm0000gn/T/ipykernel_812/2600728937.py:4: ShapelyDeprecationWarning: The 'type' attribute is deprecated, and will be removed in the future. You can use the 'geom_type' attribute instead.\n",
      "  elif geom.type == 'MultiPolygon':\n",
      "/Users/tonymac/miniconda3/envs/cse354/lib/python3.12/site-packages/maup/intersections.py:47: UserWarning: Geometry is in a geographic CRS. Results from 'area' are likely incorrect. Use 'GeoSeries.to_crs()' to re-project geometries to a projected CRS before this operation.\n",
      "\n",
      "  df = df[df.area > area_cutoff].reset_index(drop=True)\n",
      "/Users/tonymac/miniconda3/envs/cse354/lib/python3.12/site-packages/maup/intersections.py:48: UserWarning: Geometry is in a geographic CRS. Results from 'area' are likely incorrect. Use 'GeoSeries.to_crs()' to re-project geometries to a projected CRS before this operation.\n",
      "\n",
      "  geometries = geometries[geometries.area > area_cutoff]\n",
      "/Users/tonymac/miniconda3/envs/cse354/lib/python3.12/site-packages/maup/assign.py:38: UserWarning: Geometry is in a geographic CRS. Results from 'area' are likely incorrect. Use 'GeoSeries.to_crs()' to re-project geometries to a projected CRS before this operation.\n",
      "\n",
      "  return assign_to_max(intersections(sources, targets, area_cutoff=0).area)\n"
     ]
    }
   ],
   "source": [
    "sc_precincts_gdf = aggregate_economic_data(final_sc_block_gdf, sc_precincts_gdf, variables)\n"
   ]
  },
  {
   "cell_type": "markdown",
   "metadata": {},
   "source": [
    "## Merging census block geometry with racial data"
   ]
  },
  {
   "cell_type": "code",
   "execution_count": 569,
   "metadata": {},
   "outputs": [
    {
     "name": "stdout",
     "output_type": "stream",
     "text": [
      "Index(['GEOID', 'STATEFP', 'STATE', 'COUNTYFP', 'COUNTY', 'geometry',\n",
      "       'MEDN_INC22', 'TOT_HOUS22', '0_35K', '35K_60K', '60K-100K', '100K_125K',\n",
      "       '125K_150K', '150K_MORE', 'TOT_POP22', 'NHSP_POP22', 'HSP_POP22',\n",
      "       'WHT_NHSP22', 'BLK_NHSP22', 'AIA_NHSP22', 'ASN_NHSP22', 'HPI_NHSP22',\n",
      "       'OTH_NHSP22'],\n",
      "      dtype='object')\n"
     ]
    }
   ],
   "source": [
    "sc_race_df = sc_race_df.drop(columns=['STATEFP', 'STATE', 'COUNTYFP', 'COUNTY'])\n",
    "sc_block_geometry_gdf['GEOID'] = sc_block_geometry_gdf['GEOID'].astype(str)\n",
    "sc_race_df['GEOID'] = sc_race_df['GEOID'].astype(str)\n",
    "sc_block_geometry_gdf = sc_block_geometry_gdf.merge(sc_race_df, on='GEOID')\n",
    "print(sc_block_geometry_gdf.columns)"
   ]
  },
  {
   "cell_type": "code",
   "execution_count": 570,
   "metadata": {},
   "outputs": [],
   "source": [
    "sc_race_gdf = sc_block_geometry_gdf[['GEOID', 'geometry'] + race_columns].copy()\n",
    "sc_race_gdf['category'] = 'race'"
   ]
  },
  {
   "cell_type": "code",
   "execution_count": 571,
   "metadata": {},
   "outputs": [
    {
     "name": "stdout",
     "output_type": "stream",
     "text": [
      "EPSG:4326\n",
      "EPSG:4326\n"
     ]
    }
   ],
   "source": [
    "print(sc_race_gdf.crs)\n",
    "print(sc_precincts_gdf.crs)"
   ]
  },
  {
   "cell_type": "code",
   "execution_count": 572,
   "metadata": {},
   "outputs": [
    {
     "name": "stdout",
     "output_type": "stream",
     "text": [
      "Index(['GEOID', 'geometry', 'TOT_POP22', 'NHSP_POP22', 'HSP_POP22',\n",
      "       'WHT_NHSP22', 'BLK_NHSP22', 'AIA_NHSP22', 'ASN_NHSP22', 'HPI_NHSP22',\n",
      "       'OTH_NHSP22', 'category'],\n",
      "      dtype='object')\n"
     ]
    }
   ],
   "source": [
    "print(sc_race_gdf.columns)"
   ]
  },
  {
   "cell_type": "code",
   "execution_count": 573,
   "metadata": {},
   "outputs": [],
   "source": [
    "variables = ['TOT_POP22', 'NHSP_POP22', 'HSP_POP22',\n",
    "       'WHT_NHSP22', 'BLK_NHSP22', 'AIA_NHSP22', 'ASN_NHSP22', 'HPI_NHSP22',\n",
    "       'OTH_NHSP22']"
   ]
  },
  {
   "cell_type": "code",
   "execution_count": 574,
   "metadata": {},
   "outputs": [
    {
     "name": "stderr",
     "output_type": "stream",
     "text": [
      "/var/folders/3l/c_gyf2kn1vg4ww5h_h4819cm0000gn/T/ipykernel_812/2600728937.py:2: ShapelyDeprecationWarning: The 'type' attribute is deprecated, and will be removed in the future. You can use the 'geom_type' attribute instead.\n",
      "  if geom.type == 'Polygon':\n",
      "/var/folders/3l/c_gyf2kn1vg4ww5h_h4819cm0000gn/T/ipykernel_812/2600728937.py:4: ShapelyDeprecationWarning: The 'type' attribute is deprecated, and will be removed in the future. You can use the 'geom_type' attribute instead.\n",
      "  elif geom.type == 'MultiPolygon':\n",
      "/var/folders/3l/c_gyf2kn1vg4ww5h_h4819cm0000gn/T/ipykernel_812/2600728937.py:2: ShapelyDeprecationWarning: The 'type' attribute is deprecated, and will be removed in the future. You can use the 'geom_type' attribute instead.\n",
      "  if geom.type == 'Polygon':\n",
      "/var/folders/3l/c_gyf2kn1vg4ww5h_h4819cm0000gn/T/ipykernel_812/2600728937.py:4: ShapelyDeprecationWarning: The 'type' attribute is deprecated, and will be removed in the future. You can use the 'geom_type' attribute instead.\n",
      "  elif geom.type == 'MultiPolygon':\n",
      "/Users/tonymac/miniconda3/envs/cse354/lib/python3.12/site-packages/maup/intersections.py:47: UserWarning: Geometry is in a geographic CRS. Results from 'area' are likely incorrect. Use 'GeoSeries.to_crs()' to re-project geometries to a projected CRS before this operation.\n",
      "\n",
      "  df = df[df.area > area_cutoff].reset_index(drop=True)\n",
      "/Users/tonymac/miniconda3/envs/cse354/lib/python3.12/site-packages/maup/intersections.py:48: UserWarning: Geometry is in a geographic CRS. Results from 'area' are likely incorrect. Use 'GeoSeries.to_crs()' to re-project geometries to a projected CRS before this operation.\n",
      "\n",
      "  geometries = geometries[geometries.area > area_cutoff]\n",
      "/Users/tonymac/miniconda3/envs/cse354/lib/python3.12/site-packages/maup/assign.py:38: UserWarning: Geometry is in a geographic CRS. Results from 'area' are likely incorrect. Use 'GeoSeries.to_crs()' to re-project geometries to a projected CRS before this operation.\n",
      "\n",
      "  return assign_to_max(intersections(sources, targets, area_cutoff=0).area)\n"
     ]
    }
   ],
   "source": [
    "sc_precincts_gdf = aggregate_racial_data(sc_race_gdf, sc_precincts_gdf, variables)"
   ]
  },
  {
   "cell_type": "markdown",
   "metadata": {},
   "source": [
    "## Output final file"
   ]
  },
  {
   "cell_type": "code",
   "execution_count": 575,
   "metadata": {},
   "outputs": [],
   "source": [
    "sc_precincts_gdf.to_file(\"states/south_carolina/geodata/south_carolina_precincts.geojson\", driver=\"GeoJSON\")"
   ]
  },
  {
   "cell_type": "markdown",
   "metadata": {},
   "source": [
    "# Aggregate Census Block data to precincts for Maryland:"
   ]
  },
  {
   "cell_type": "markdown",
   "metadata": {},
   "source": [
    "## Get block level geometry"
   ]
  },
  {
   "cell_type": "code",
   "execution_count": 576,
   "metadata": {},
   "outputs": [
    {
     "name": "stderr",
     "output_type": "stream",
     "text": [
      "/var/folders/3l/c_gyf2kn1vg4ww5h_h4819cm0000gn/T/ipykernel_812/2600728937.py:2: ShapelyDeprecationWarning: The 'type' attribute is deprecated, and will be removed in the future. You can use the 'geom_type' attribute instead.\n",
      "  if geom.type == 'Polygon':\n",
      "/var/folders/3l/c_gyf2kn1vg4ww5h_h4819cm0000gn/T/ipykernel_812/2600728937.py:4: ShapelyDeprecationWarning: The 'type' attribute is deprecated, and will be removed in the future. You can use the 'geom_type' attribute instead.\n",
      "  elif geom.type == 'MultiPolygon':\n"
     ]
    },
    {
     "name": "stdout",
     "output_type": "stream",
     "text": [
      "24\n"
     ]
    }
   ],
   "source": [
    "md_block_inc_gdf = gpd.read_file('raw/census_block/income/md_inc_2022_bg_shape_file/md_inc_2022_bg.shp')\n",
    "md_block_inc_gdf['geometry'] = md_block_inc_gdf ['geometry'].apply(orient_geometry)\n",
    "md_block_inc_gdf = md_block_inc_gdf .to_crs(epsg=4326)\n",
    "print(len(md_block_inc_gdf.columns))"
   ]
  },
  {
   "cell_type": "code",
   "execution_count": 577,
   "metadata": {},
   "outputs": [],
   "source": [
    "md_block_geometry_gdf = md_block_inc_gdf[['GEOID','STATEFP', 'STATE', 'COUNTYFP', 'COUNTY', 'geometry']]"
   ]
  },
  {
   "cell_type": "markdown",
   "metadata": {},
   "source": [
    "## Get precincts level geoDataFrames"
   ]
  },
  {
   "cell_type": "code",
   "execution_count": 578,
   "metadata": {},
   "outputs": [
    {
     "name": "stdout",
     "output_type": "stream",
     "text": [
      "28\n"
     ]
    }
   ],
   "source": [
    "md_precincts_gdf = gpd.read_file('states/maryland/geodata/maryland_precincts.geojson')\n",
    "print(len(md_precincts_gdf.columns))"
   ]
  },
  {
   "cell_type": "markdown",
   "metadata": {},
   "source": [
    "## Get Census Block categories csv"
   ]
  },
  {
   "cell_type": "code",
   "execution_count": 579,
   "metadata": {},
   "outputs": [],
   "source": [
    "md_econ_df = pd.read_csv('processed_individual/md_econ_block.csv')\n",
    "md_race_df = pd.read_csv('processed_individual/md_race_block.csv')"
   ]
  },
  {
   "cell_type": "markdown",
   "metadata": {},
   "source": [
    "## Merging census block geometry with economical data"
   ]
  },
  {
   "cell_type": "code",
   "execution_count": 580,
   "metadata": {},
   "outputs": [
    {
     "name": "stdout",
     "output_type": "stream",
     "text": [
      "Index(['GEOID', 'STATEFP', 'STATE', 'COUNTYFP', 'COUNTY', 'geometry',\n",
      "       'MEDN_INC22', 'TOT_HOUS22', '0_35K', '35K_60K', '60K-100K', '100K_125K',\n",
      "       '125K_150K', '150K_MORE'],\n",
      "      dtype='object')\n"
     ]
    }
   ],
   "source": [
    "md_econ_df = md_econ_df.drop(columns=['STATEFP', 'STATE', 'COUNTYFP', 'COUNTY'])\n",
    "md_block_geometry_gdf['GEOID'] = md_block_geometry_gdf['GEOID'].astype(str)\n",
    "md_econ_df['GEOID'] = md_econ_df['GEOID'].astype(str)\n",
    "md_block_geometry_gdf = md_block_geometry_gdf.merge(md_econ_df, on='GEOID')\n",
    "print(md_block_geometry_gdf.columns)"
   ]
  },
  {
   "cell_type": "code",
   "execution_count": 581,
   "metadata": {},
   "outputs": [],
   "source": [
    "md_economic_gdf = md_block_geometry_gdf[['GEOID', 'geometry'] + economic_columns].copy()\n",
    "md_economic_gdf['category'] = 'economic'"
   ]
  },
  {
   "cell_type": "code",
   "execution_count": 582,
   "metadata": {},
   "outputs": [
    {
     "name": "stderr",
     "output_type": "stream",
     "text": [
      "/var/folders/3l/c_gyf2kn1vg4ww5h_h4819cm0000gn/T/ipykernel_812/2600728937.py:2: ShapelyDeprecationWarning: The 'type' attribute is deprecated, and will be removed in the future. You can use the 'geom_type' attribute instead.\n",
      "  if geom.type == 'Polygon':\n",
      "/var/folders/3l/c_gyf2kn1vg4ww5h_h4819cm0000gn/T/ipykernel_812/2600728937.py:4: ShapelyDeprecationWarning: The 'type' attribute is deprecated, and will be removed in the future. You can use the 'geom_type' attribute instead.\n",
      "  elif geom.type == 'MultiPolygon':\n"
     ]
    }
   ],
   "source": [
    "md_block_geometry_gdf['geometry'] = md_block_geometry_gdf['geometry'].apply(orient_geometry)\n",
    "final_md_block_gdf = md_block_geometry_gdf.to_crs(epsg=4326)"
   ]
  },
  {
   "cell_type": "code",
   "execution_count": 583,
   "metadata": {},
   "outputs": [],
   "source": [
    "variables = ['MEDN_INC22', 'TOT_HOUS22', '0_35K', '35K_60K', '60K-100K', '100K_125K',\n",
    "             '125K_150K', '150K_MORE']"
   ]
  },
  {
   "cell_type": "code",
   "execution_count": 584,
   "metadata": {},
   "outputs": [
    {
     "name": "stderr",
     "output_type": "stream",
     "text": [
      "/var/folders/3l/c_gyf2kn1vg4ww5h_h4819cm0000gn/T/ipykernel_812/2600728937.py:2: ShapelyDeprecationWarning: The 'type' attribute is deprecated, and will be removed in the future. You can use the 'geom_type' attribute instead.\n",
      "  if geom.type == 'Polygon':\n",
      "/var/folders/3l/c_gyf2kn1vg4ww5h_h4819cm0000gn/T/ipykernel_812/2600728937.py:4: ShapelyDeprecationWarning: The 'type' attribute is deprecated, and will be removed in the future. You can use the 'geom_type' attribute instead.\n",
      "  elif geom.type == 'MultiPolygon':\n",
      "/var/folders/3l/c_gyf2kn1vg4ww5h_h4819cm0000gn/T/ipykernel_812/2600728937.py:2: ShapelyDeprecationWarning: The 'type' attribute is deprecated, and will be removed in the future. You can use the 'geom_type' attribute instead.\n",
      "  if geom.type == 'Polygon':\n",
      "/var/folders/3l/c_gyf2kn1vg4ww5h_h4819cm0000gn/T/ipykernel_812/2600728937.py:4: ShapelyDeprecationWarning: The 'type' attribute is deprecated, and will be removed in the future. You can use the 'geom_type' attribute instead.\n",
      "  elif geom.type == 'MultiPolygon':\n",
      "/Users/tonymac/miniconda3/envs/cse354/lib/python3.12/site-packages/maup/intersections.py:47: UserWarning: Geometry is in a geographic CRS. Results from 'area' are likely incorrect. Use 'GeoSeries.to_crs()' to re-project geometries to a projected CRS before this operation.\n",
      "\n",
      "  df = df[df.area > area_cutoff].reset_index(drop=True)\n",
      "/Users/tonymac/miniconda3/envs/cse354/lib/python3.12/site-packages/maup/intersections.py:48: UserWarning: Geometry is in a geographic CRS. Results from 'area' are likely incorrect. Use 'GeoSeries.to_crs()' to re-project geometries to a projected CRS before this operation.\n",
      "\n",
      "  geometries = geometries[geometries.area > area_cutoff]\n",
      "/Users/tonymac/miniconda3/envs/cse354/lib/python3.12/site-packages/maup/assign.py:38: UserWarning: Geometry is in a geographic CRS. Results from 'area' are likely incorrect. Use 'GeoSeries.to_crs()' to re-project geometries to a projected CRS before this operation.\n",
      "\n",
      "  return assign_to_max(intersections(sources, targets, area_cutoff=0).area)\n"
     ]
    }
   ],
   "source": [
    "md_precincts_gdf = aggregate_economic_data(md_economic_gdf, md_precincts_gdf, variables)"
   ]
  },
  {
   "cell_type": "markdown",
   "metadata": {},
   "source": [
    "## Merging census block geometry with racial data"
   ]
  },
  {
   "cell_type": "code",
   "execution_count": 585,
   "metadata": {},
   "outputs": [
    {
     "name": "stdout",
     "output_type": "stream",
     "text": [
      "Index(['GEOID', 'STATEFP', 'STATE', 'COUNTYFP', 'COUNTY', 'geometry',\n",
      "       'MEDN_INC22', 'TOT_HOUS22', '0_35K', '35K_60K', '60K-100K', '100K_125K',\n",
      "       '125K_150K', '150K_MORE', 'TOT_POP22', 'NHSP_POP22', 'HSP_POP22',\n",
      "       'WHT_NHSP22', 'BLK_NHSP22', 'AIA_NHSP22', 'ASN_NHSP22', 'HPI_NHSP22',\n",
      "       'OTH_NHSP22'],\n",
      "      dtype='object')\n"
     ]
    }
   ],
   "source": [
    "md_race_df = md_race_df.drop(columns=['STATEFP', 'STATE', 'COUNTYFP', 'COUNTY'])\n",
    "md_block_geometry_gdf['GEOID'] = sc_block_geometry_gdf['GEOID'].astype(str)\n",
    "md_race_df['GEOID'] = md_race_df['GEOID'].astype(str)\n",
    "md_block_geometry_gdf = md_block_geometry_gdf.merge(md_race_df, on='GEOID')\n",
    "print(md_block_geometry_gdf.columns)"
   ]
  },
  {
   "cell_type": "code",
   "execution_count": 586,
   "metadata": {},
   "outputs": [],
   "source": [
    "md_race_gdf = md_block_geometry_gdf[['GEOID', 'geometry'] + race_columns].copy()\n",
    "md_race_gdf['category'] = 'race'"
   ]
  },
  {
   "cell_type": "code",
   "execution_count": 587,
   "metadata": {},
   "outputs": [],
   "source": [
    "variables = ['TOT_POP22', 'NHSP_POP22', 'HSP_POP22',\n",
    "       'WHT_NHSP22', 'BLK_NHSP22', 'AIA_NHSP22', 'ASN_NHSP22', 'HPI_NHSP22',\n",
    "       'OTH_NHSP22']"
   ]
  },
  {
   "cell_type": "code",
   "execution_count": 588,
   "metadata": {},
   "outputs": [
    {
     "name": "stderr",
     "output_type": "stream",
     "text": [
      "/var/folders/3l/c_gyf2kn1vg4ww5h_h4819cm0000gn/T/ipykernel_812/2600728937.py:2: ShapelyDeprecationWarning: The 'type' attribute is deprecated, and will be removed in the future. You can use the 'geom_type' attribute instead.\n",
      "  if geom.type == 'Polygon':\n",
      "/var/folders/3l/c_gyf2kn1vg4ww5h_h4819cm0000gn/T/ipykernel_812/2600728937.py:4: ShapelyDeprecationWarning: The 'type' attribute is deprecated, and will be removed in the future. You can use the 'geom_type' attribute instead.\n",
      "  elif geom.type == 'MultiPolygon':\n"
     ]
    }
   ],
   "source": [
    "md_precincts_gdf = aggregate_racial_data(md_race_gdf, md_precincts_gdf, variables)"
   ]
  },
  {
   "cell_type": "markdown",
   "metadata": {},
   "source": [
    "## Export dataframe to GeoJSON"
   ]
  },
  {
   "cell_type": "code",
   "execution_count": 589,
   "metadata": {},
   "outputs": [],
   "source": [
    "md_precincts_gdf.to_file(\"states/maryland/geodata/maryland_precincts.geojson\", driver=\"GeoJSON\")"
   ]
  }
 ],
 "metadata": {
  "kernelspec": {
   "display_name": "cse354",
   "language": "python",
   "name": "python3"
  },
  "language_info": {
   "codemirror_mode": {
    "name": "ipython",
    "version": 3
   },
   "file_extension": ".py",
   "mimetype": "text/x-python",
   "name": "python",
   "nbconvert_exporter": "python",
   "pygments_lexer": "ipython3",
   "version": "3.12.1"
  }
 },
 "nbformat": 4,
 "nbformat_minor": 2
}
