{
 "cells": [
  {
   "cell_type": "code",
   "execution_count": 254,
   "metadata": {},
   "outputs": [],
   "source": [
    "import pandas as pd\n",
    "import geopandas as gpd\n",
    "import matplotlib.pyplot as plt\n",
    "import maup\n",
    "import json\n",
    "from shapely.geometry import Polygon\n",
    "from shapely.geometry import MultiPolygon\n",
    "from shapely.ops import orient"
   ]
  },
  {
   "cell_type": "code",
   "execution_count": 422,
   "metadata": {},
   "outputs": [],
   "source": [
    "economic_columns = [\n",
    "    'MEDN_INC22', 'TOT_HOUS22', '0_35K', '35K_60K',\n",
    "    '60K-100K', '100K_125K', '125K_150K', '150K_MORE'\n",
    "]\n",
    "race_columns = [\n",
    "    'TOT_POP22', 'NHSP_POP22', 'HSP_POP22', \n",
    "    'WHT_NHSP22', 'BLK_NHSP22', 'AIA_NHSP22', \n",
    "    'ASN_NHSP22', 'HPI_NHSP22', 'OTH_NHSP22'\n",
    "]"
   ]
  },
  {
   "cell_type": "markdown",
   "metadata": {},
   "source": [
    "## Functions"
   ]
  },
  {
   "cell_type": "code",
   "execution_count": 342,
   "metadata": {},
   "outputs": [],
   "source": [
    "def aggregate_economic_data(block_gdf, precincts_gdf, variables):\n",
    "    \"\"\"\n",
    "    Parameters:\n",
    "    - block_gdf (GeoDataFrame): GeoDataFrame containing the economic data per census block\n",
    "    - precincts_gdf (GeoDataFrame): GeoDataFrame representing precincts to which data will be aggregated\n",
    "    - variables (list): List of column names to be aggregated.\n",
    "\n",
    "    Returns:\n",
    "    - GeoDataFrame: The updated precincts_gdf with aggregated economic data.\n",
    "    \"\"\"\n",
    "    precincts_gdf =  precincts_gdf.to_crs(epsg=4326)\n",
    "    block_gdf = block_gdf.to_crs(epsg=4326)\n",
    "    assignment = maup.assign(block_gdf, precincts_gdf)\n",
    "    \n",
    "    precincts_gdf[variables] = block_gdf[variables].groupby(assignment).sum()\n",
    "    \n",
    "    weighted_sum = (block_gdf['MEDN_INC22'] * block_gdf['TOT_HOUS22']).groupby(assignment).sum()\n",
    "    total_households = block_gdf['TOT_HOUS22'].groupby(assignment).sum()\n",
    "    \n",
    "    precincts_gdf['MEDN_INC22'] = weighted_sum / total_households\n",
    "    precincts_gdf = precincts_gdf.fillna(0)\n",
    "    \n",
    "    return precincts_gdf\n"
   ]
  },
  {
   "cell_type": "code",
   "execution_count": 343,
   "metadata": {},
   "outputs": [],
   "source": [
    "def aggregate_racial_data(block_gdf, precincts_gdf, variables):\n",
    "    \"\"\"\n",
    "    Parameters:\n",
    "    - block_gdf (GeoDataFrame): GeoDataFrame containing the racial data per census block\n",
    "    - precincts_gdf (GeoDataFrame): GeoDataFrame representing precincts to which data will be aggregated\n",
    "    - variables (list): List of column names to be aggregated\n",
    "\n",
    "    Returns:\n",
    "    - GeoDataFrame: The updated precincts_gdf with aggregated economic data.\n",
    "    \"\"\"\n",
    "    precincts_gdf =  precincts_gdf.to_crs(epsg=4326)\n",
    "    block_gdf = block_gdf.to_crs(epsg=4326)\n",
    "    assignment = maup.assign(block_gdf, precincts_gdf)\n",
    "    \n",
    "    precincts_gdf[variables] = block_gdf[variables].groupby(assignment).sum()\n",
    "    \n",
    "    if 'TOT_POP22' in variables:\n",
    "        variables.remove('TOT_POP22')\n",
    "    precincts_gdf['TOT_POP22'] = precincts_gdf[['NHSP_POP22', 'HSP_POP22']].sum(axis=1)\n",
    "    \n",
    "    precincts_gdf = precincts_gdf.fillna(0)\n",
    "    \n",
    "    return precincts_gdf\n"
   ]
  },
  {
   "cell_type": "code",
   "execution_count": 344,
   "metadata": {},
   "outputs": [],
   "source": [
    "def aggregate_region_data(block_gdf, precincts_gdf, variables):\n",
    "    \"\"\"\n",
    "    Parameters:\n",
    "    - block_gdf (GeoDataFrame): GeoDataFrame containing population data per census block\n",
    "    - precincts_gdf (GeoDataFrame): GeoDataFrame representing precincts to which data will be aggregated\n",
    "    - variables (list): List of column names to be aggregated\n",
    "\n",
    "    Returns:\n",
    "    - GeoDataFrame: The updated precincts_gdf with aggregated economic and region type data.\n",
    "    \"\"\"\n",
    "\n",
    "    precincts_gdf = precincts_gdf.to_crs(epsg=4326)\n",
    "    block_gdf = block_gdf.to_crs(epsg=4326)\n",
    "\n",
    "    assignment = maup.assign(block_gdf, precincts_gdf)\n",
    "\n",
    "    precincts_gdf[variables] = block_gdf[variables].groupby(assignment).sum()\n",
    "    \n",
    "    if 'TOT_POP22' in variables:\n",
    "        variables.remove('TOT_POP22')\n",
    "    precincts_gdf['TOT_POP22'] = precincts_gdf[['NHSP_POP22', 'HSP_POP22']].sum(axis=1)\n",
    "\n",
    "    precincts_gdf = precincts_gdf.fillna(0)\n",
    "\n",
    "    def get_region_type(row):\n",
    "        if row['TOT_POP22'] >= 5000:\n",
    "            return 'urban'\n",
    "        elif 2500 <= row['TOT_POP22'] < 5000:\n",
    "            return 'suburban'\n",
    "        else:\n",
    "            return 'rural'\n",
    "\n",
    "    precincts_gdf['region_type'] = precincts_gdf.apply(get_region_type, axis=1)\n",
    "\n",
    "    return precincts_gdf\n"
   ]
  },
  {
   "cell_type": "markdown",
   "metadata": {},
   "source": [
    "# Aggregate Census Block data to precincts for South Carolina:"
   ]
  },
  {
   "cell_type": "markdown",
   "metadata": {},
   "source": [
    "## Get block-level GeoDataFrames"
   ]
  },
  {
   "cell_type": "code",
   "execution_count": 430,
   "metadata": {},
   "outputs": [],
   "source": [
    "sc_block_inc_gdf = gpd.read_file(\n",
    "    'raw/census_block/income/sc_inc_2022_bg_shape_file/sc_inc_2022_bg.shp'\n",
    ")\n",
    "sc_block_inc_gdf = sc_block_inc_gdf.to_crs(epsg=4326)\n",
    "sc_block_geometry_gdf = sc_block_inc_gdf[\n",
    "    ['GEOID','STATEFP', 'STATE', 'COUNTYFP', 'COUNTY', 'geometry']\n",
    "]"
   ]
  },
  {
   "cell_type": "markdown",
   "metadata": {},
   "source": [
    "## Get precinct-level GeoDataFrames"
   ]
  },
  {
   "cell_type": "code",
   "execution_count": 431,
   "metadata": {},
   "outputs": [],
   "source": [
    "sc_precincts_gdf = gpd.read_file(\n",
    "    'states/south_carolina/geodata/south_carolina_precincts.geojson'\n",
    ")\n"
   ]
  },
  {
   "cell_type": "markdown",
   "metadata": {},
   "source": [
    "## Get Census Block categories csv"
   ]
  },
  {
   "cell_type": "code",
   "execution_count": 432,
   "metadata": {},
   "outputs": [],
   "source": [
    "sc_econ_df = pd.read_csv(\n",
    "    'processed_individual/sc_econ_block.csv'\n",
    ")\n",
    "sc_race_df = pd.read_csv(\n",
    "    'processed_individual/sc_race_block.csv'\n",
    ")"
   ]
  },
  {
   "cell_type": "markdown",
   "metadata": {},
   "source": [
    "## Aggerating census block geometry with household income population data to precincts"
   ]
  },
  {
   "cell_type": "code",
   "execution_count": 433,
   "metadata": {},
   "outputs": [],
   "source": [
    "sc_econ_df = sc_econ_df.drop(columns=['STATEFP', 'STATE', 'COUNTYFP', 'COUNTY'])\n",
    "sc_block_geometry_gdf['GEOID'] = sc_block_geometry_gdf['GEOID'].astype(str)\n",
    "sc_econ_df['GEOID'] = sc_econ_df['GEOID'].astype(str)\n",
    "sc_block_geometry_gdf = sc_block_geometry_gdf.merge(sc_econ_df, on='GEOID')\n",
    "sc_economic_block_gdf = sc_block_geometry_gdf[['GEOID', 'geometry'] + economic_columns].copy()"
   ]
  },
  {
   "cell_type": "code",
   "execution_count": 436,
   "metadata": {},
   "outputs": [],
   "source": [
    "variables = [\n",
    "    'MEDN_INC22', 'TOT_HOUS22', '0_35K', '35K_60K',\n",
    "    '60K-100K', '100K_125K', '125K_150K', '150K_MORE'\n",
    "]"
   ]
  },
  {
   "cell_type": "code",
   "execution_count": null,
   "metadata": {},
   "outputs": [
    {
     "name": "stderr",
     "output_type": "stream",
     "text": [
      "/Users/tonymac/miniconda3/envs/cse354/lib/python3.11/site-packages/maup/intersections.py:47: UserWarning: Geometry is in a geographic CRS. Results from 'area' are likely incorrect. Use 'GeoSeries.to_crs()' to re-project geometries to a projected CRS before this operation.\n",
      "\n",
      "  df = df[df.area > area_cutoff].reset_index(drop=True)\n",
      "/Users/tonymac/miniconda3/envs/cse354/lib/python3.11/site-packages/maup/intersections.py:48: UserWarning: Geometry is in a geographic CRS. Results from 'area' are likely incorrect. Use 'GeoSeries.to_crs()' to re-project geometries to a projected CRS before this operation.\n",
      "\n",
      "  geometries = geometries[geometries.area > area_cutoff]\n",
      "/Users/tonymac/miniconda3/envs/cse354/lib/python3.11/site-packages/maup/assign.py:38: UserWarning: Geometry is in a geographic CRS. Results from 'area' are likely incorrect. Use 'GeoSeries.to_crs()' to re-project geometries to a projected CRS before this operation.\n",
      "\n",
      "  return assign_to_max(intersections(sources, targets, area_cutoff=0).area)\n"
     ]
    }
   ],
   "source": [
    "sc_precincts_econ_gdf = aggregate_economic_data(sc_economic_block_gdf, sc_precincts_gdf, variables)\n"
   ]
  },
  {
   "cell_type": "markdown",
   "metadata": {},
   "source": [
    "### Drop geometry and export json"
   ]
  },
  {
   "cell_type": "code",
   "execution_count": null,
   "metadata": {},
   "outputs": [],
   "source": [
    "sc_precincts_econ_df = sc_precincts_econ_gdf.drop(columns=['geometry'])\n"
   ]
  },
  {
   "cell_type": "code",
   "execution_count": null,
   "metadata": {},
   "outputs": [],
   "source": [
    "with open('states/south_carolina/economic/south_carolina_precincts_household_income.json', 'w') as json_file:\n",
    "    json.dump(sc_precincts_econ_df.to_dict(orient='records'), json_file, indent=4)"
   ]
  },
  {
   "cell_type": "markdown",
   "metadata": {},
   "source": [
    "## Aggerating census block geometry with racial population data to precincts"
   ]
  },
  {
   "cell_type": "code",
   "execution_count": null,
   "metadata": {},
   "outputs": [],
   "source": [
    "sc_race_df = sc_race_df.drop(columns=['STATEFP', 'STATE', 'COUNTYFP', 'COUNTY'])\n",
    "sc_block_geometry_gdf['GEOID'] = sc_block_geometry_gdf['GEOID'].astype(str)\n",
    "sc_race_df['GEOID'] = sc_race_df['GEOID'].astype(str)\n",
    "sc_block_geometry_gdf = sc_block_geometry_gdf.merge(sc_race_df, on='GEOID')\n",
    "sc_race_block_gdf = sc_block_geometry_gdf[['GEOID', 'geometry'] + race_columns].copy()"
   ]
  },
  {
   "cell_type": "code",
   "execution_count": null,
   "metadata": {},
   "outputs": [],
   "source": [
    "variables = [\n",
    "    'TOT_POP22', 'NHSP_POP22', 'HSP_POP22', 'WHT_NHSP22',\n",
    "    'BLK_NHSP22', 'AIA_NHSP22', 'ASN_NHSP22', 'HPI_NHSP22', 'OTH_NHSP22'\n",
    "]"
   ]
  },
  {
   "cell_type": "code",
   "execution_count": null,
   "metadata": {},
   "outputs": [
    {
     "name": "stderr",
     "output_type": "stream",
     "text": [
      "/Users/tonymac/miniconda3/envs/cse354/lib/python3.11/site-packages/maup/intersections.py:47: UserWarning: Geometry is in a geographic CRS. Results from 'area' are likely incorrect. Use 'GeoSeries.to_crs()' to re-project geometries to a projected CRS before this operation.\n",
      "\n",
      "  df = df[df.area > area_cutoff].reset_index(drop=True)\n",
      "/Users/tonymac/miniconda3/envs/cse354/lib/python3.11/site-packages/maup/intersections.py:48: UserWarning: Geometry is in a geographic CRS. Results from 'area' are likely incorrect. Use 'GeoSeries.to_crs()' to re-project geometries to a projected CRS before this operation.\n",
      "\n",
      "  geometries = geometries[geometries.area > area_cutoff]\n",
      "/Users/tonymac/miniconda3/envs/cse354/lib/python3.11/site-packages/maup/assign.py:38: UserWarning: Geometry is in a geographic CRS. Results from 'area' are likely incorrect. Use 'GeoSeries.to_crs()' to re-project geometries to a projected CRS before this operation.\n",
      "\n",
      "  return assign_to_max(intersections(sources, targets, area_cutoff=0).area)\n"
     ]
    }
   ],
   "source": [
    "sc_precincts_race_gdf = aggregate_racial_data(sc_race_block_gdf, sc_precincts_gdf, variables)"
   ]
  },
  {
   "cell_type": "markdown",
   "metadata": {},
   "source": [
    "### Drop geometry and export json"
   ]
  },
  {
   "cell_type": "code",
   "execution_count": null,
   "metadata": {},
   "outputs": [],
   "source": [
    "sc_precincts_race_df = sc_precincts_race_gdf.drop(columns=['geometry'])"
   ]
  },
  {
   "cell_type": "code",
   "execution_count": null,
   "metadata": {},
   "outputs": [],
   "source": [
    "with open('states/south_carolina/demographics/south_carolina_precincts_racial_population.json', 'w') as json_file:\n",
    "    json.dump(sc_precincts_race_df.to_dict(orient='records'), json_file, indent=4)"
   ]
  },
  {
   "cell_type": "markdown",
   "metadata": {},
   "source": [
    "## Aggerating block population data to precincts with region type"
   ]
  },
  {
   "cell_type": "code",
   "execution_count": 378,
   "metadata": {},
   "outputs": [],
   "source": [
    "variables = ['TOT_POP22', 'NHSP_POP22', 'HSP_POP22']"
   ]
  },
  {
   "cell_type": "code",
   "execution_count": null,
   "metadata": {},
   "outputs": [
    {
     "name": "stderr",
     "output_type": "stream",
     "text": [
      "/Users/tonymac/miniconda3/envs/cse354/lib/python3.11/site-packages/maup/intersections.py:47: UserWarning: Geometry is in a geographic CRS. Results from 'area' are likely incorrect. Use 'GeoSeries.to_crs()' to re-project geometries to a projected CRS before this operation.\n",
      "\n",
      "  df = df[df.area > area_cutoff].reset_index(drop=True)\n",
      "/Users/tonymac/miniconda3/envs/cse354/lib/python3.11/site-packages/maup/intersections.py:48: UserWarning: Geometry is in a geographic CRS. Results from 'area' are likely incorrect. Use 'GeoSeries.to_crs()' to re-project geometries to a projected CRS before this operation.\n",
      "\n",
      "  geometries = geometries[geometries.area > area_cutoff]\n",
      "/Users/tonymac/miniconda3/envs/cse354/lib/python3.11/site-packages/maup/assign.py:38: UserWarning: Geometry is in a geographic CRS. Results from 'area' are likely incorrect. Use 'GeoSeries.to_crs()' to re-project geometries to a projected CRS before this operation.\n",
      "\n",
      "  return assign_to_max(intersections(sources, targets, area_cutoff=0).area)\n"
     ]
    }
   ],
   "source": [
    "sc_precincts_region_gdf = aggregate_region_data(sc_race_block_gdf, sc_precincts_gdf, variables)"
   ]
  },
  {
   "cell_type": "code",
   "execution_count": null,
   "metadata": {},
   "outputs": [],
   "source": [
    "sc_precincts_region_df = sc_precincts_region_gdf[['UNIQUE_ID', 'region_type', 'TOT_POP22']]"
   ]
  },
  {
   "cell_type": "code",
   "execution_count": null,
   "metadata": {},
   "outputs": [
    {
     "name": "stdout",
     "output_type": "stream",
     "text": [
      "region_type\n",
      "rural       1430\n",
      "suburban     694\n",
      "urban        153\n",
      "Name: count, dtype: int64\n"
     ]
    }
   ],
   "source": [
    "print(sc_precincts_region_df['region_type'].value_counts())"
   ]
  },
  {
   "cell_type": "markdown",
   "metadata": {},
   "source": [
    "### Export json"
   ]
  },
  {
   "cell_type": "code",
   "execution_count": null,
   "metadata": {},
   "outputs": [],
   "source": [
    "with open('states/south_carolina/geodata/south_carolina_precincts_region_type.json', 'w') as json_file:\n",
    "    json.dump(sc_precincts_region_df.to_dict(orient='records'), json_file, indent=4)"
   ]
  },
  {
   "cell_type": "markdown",
   "metadata": {},
   "source": [
    "# Aggregate Census Block data to precincts for Maryland:"
   ]
  },
  {
   "cell_type": "markdown",
   "metadata": {},
   "source": [
    "## Get block level geometry"
   ]
  },
  {
   "cell_type": "code",
   "execution_count": 438,
   "metadata": {},
   "outputs": [],
   "source": [
    "md_block_inc_gdf = gpd.read_file(\n",
    "    'raw/census_block/income/md_inc_2022_bg_shape_file/md_inc_2022_bg.shp'\n",
    ")\n",
    "md_block_inc_gdf = md_block_inc_gdf .to_crs(epsg=4326)\n",
    "md_block_geometry_gdf = md_block_inc_gdf[\n",
    "    ['GEOID','STATEFP', 'STATE', 'COUNTYFP', 'COUNTY', 'geometry']\n",
    "]"
   ]
  },
  {
   "cell_type": "markdown",
   "metadata": {},
   "source": [
    "## Get precincts level geoDataFrames"
   ]
  },
  {
   "cell_type": "code",
   "execution_count": 439,
   "metadata": {},
   "outputs": [],
   "source": [
    "md_precincts_gdf = gpd.read_file('states/maryland/geodata/maryland_precincts.geojson')"
   ]
  },
  {
   "cell_type": "markdown",
   "metadata": {},
   "source": [
    "## Get Census Block categories csv"
   ]
  },
  {
   "cell_type": "code",
   "execution_count": 440,
   "metadata": {},
   "outputs": [],
   "source": [
    "md_econ_df = pd.read_csv('processed_individual/md_econ_block.csv')\n",
    "md_race_df = pd.read_csv('processed_individual/md_race_block.csv')"
   ]
  },
  {
   "cell_type": "markdown",
   "metadata": {},
   "source": [
    "## Aggerating census block geometry with household income population data to precincts"
   ]
  },
  {
   "cell_type": "code",
   "execution_count": null,
   "metadata": {},
   "outputs": [
    {
     "name": "stdout",
     "output_type": "stream",
     "text": [
      "Index(['GEOID', 'STATEFP', 'STATE', 'COUNTYFP', 'COUNTY', 'geometry',\n",
      "       'MEDN_INC22', 'TOT_HOUS22', '0_35K', '35K_60K', '60K-100K', '100K_125K',\n",
      "       '125K_150K', '150K_MORE'],\n",
      "      dtype='object')\n"
     ]
    }
   ],
   "source": [
    "md_econ_df = md_econ_df.drop(columns=['STATEFP', 'STATE', 'COUNTYFP', 'COUNTY'])\n",
    "# md_block_geometry_gdf['GEOID'] = md_block_geometry_gdf['GEOID'].astype(str)\n",
    "md_econ_df['GEOID'] = md_econ_df['GEOID'].astype(str)\n",
    "md_block_geometry_gdf = md_block_geometry_gdf.merge(md_econ_df, on='GEOID')\n",
    "md_economic_block_gdf = md_block_geometry_gdf[['GEOID', 'geometry'] + economic_columns].copy()"
   ]
  },
  {
   "cell_type": "code",
   "execution_count": 397,
   "metadata": {},
   "outputs": [],
   "source": [
    "variables = [\n",
    "    'MEDN_INC22', 'TOT_HOUS22', '0_35K', '35K_60K',\n",
    "    '60K-100K', '100K_125K', '125K_150K', '150K_MORE'\n",
    "]"
   ]
  },
  {
   "cell_type": "code",
   "execution_count": null,
   "metadata": {},
   "outputs": [
    {
     "name": "stderr",
     "output_type": "stream",
     "text": [
      "/Users/tonymac/miniconda3/envs/cse354/lib/python3.11/site-packages/maup/intersections.py:47: UserWarning: Geometry is in a geographic CRS. Results from 'area' are likely incorrect. Use 'GeoSeries.to_crs()' to re-project geometries to a projected CRS before this operation.\n",
      "\n",
      "  df = df[df.area > area_cutoff].reset_index(drop=True)\n",
      "/Users/tonymac/miniconda3/envs/cse354/lib/python3.11/site-packages/maup/intersections.py:48: UserWarning: Geometry is in a geographic CRS. Results from 'area' are likely incorrect. Use 'GeoSeries.to_crs()' to re-project geometries to a projected CRS before this operation.\n",
      "\n",
      "  geometries = geometries[geometries.area > area_cutoff]\n",
      "/Users/tonymac/miniconda3/envs/cse354/lib/python3.11/site-packages/maup/assign.py:38: UserWarning: Geometry is in a geographic CRS. Results from 'area' are likely incorrect. Use 'GeoSeries.to_crs()' to re-project geometries to a projected CRS before this operation.\n",
      "\n",
      "  return assign_to_max(intersections(sources, targets, area_cutoff=0).area)\n"
     ]
    }
   ],
   "source": [
    "md_precincts_econ_gdf = aggregate_economic_data(md_economic_block_gdf, md_precincts_gdf, variables)\n"
   ]
  },
  {
   "cell_type": "markdown",
   "metadata": {},
   "source": [
    "### Drop geometry and export json"
   ]
  },
  {
   "cell_type": "code",
   "execution_count": 400,
   "metadata": {},
   "outputs": [],
   "source": [
    "md_precincts_econ_gdf = md_precincts_econ_gdf.drop(columns=['geometry'])\n"
   ]
  },
  {
   "cell_type": "code",
   "execution_count": 403,
   "metadata": {},
   "outputs": [],
   "source": [
    "with open('states/maryland/economic/maryland_precincts_household_income.json', 'w') as json_file:\n",
    "    json.dump(md_precincts_econ_gdf.to_dict(orient='records'), json_file, indent=4)"
   ]
  },
  {
   "cell_type": "markdown",
   "metadata": {},
   "source": [
    "## Aggerating census block geometry with racial population data to precincts"
   ]
  },
  {
   "cell_type": "code",
   "execution_count": null,
   "metadata": {},
   "outputs": [
    {
     "name": "stdout",
     "output_type": "stream",
     "text": [
      "Index(['GEOID', 'STATEFP', 'STATE', 'COUNTYFP', 'COUNTY', 'geometry',\n",
      "       'MEDN_INC22', 'TOT_HOUS22', '0_35K', '35K_60K', '60K-100K', '100K_125K',\n",
      "       '125K_150K', '150K_MORE', 'TOT_POP22', 'NHSP_POP22', 'HSP_POP22',\n",
      "       'WHT_NHSP22', 'BLK_NHSP22', 'AIA_NHSP22', 'ASN_NHSP22', 'HPI_NHSP22',\n",
      "       'OTH_NHSP22'],\n",
      "      dtype='object')\n"
     ]
    }
   ],
   "source": [
    "md_race_df = md_race_df.drop(columns=['STATEFP', 'STATE', 'COUNTYFP', 'COUNTY'])\n",
    "md_race_df['GEOID'] = md_race_df['GEOID'].astype(str)\n",
    "md_block_geometry_gdf = md_block_geometry_gdf.merge(md_race_df, on='GEOID')\n",
    "md_race_block_gdf = md_block_geometry_gdf[['GEOID', 'geometry'] + race_columns].copy()"
   ]
  },
  {
   "cell_type": "code",
   "execution_count": 408,
   "metadata": {},
   "outputs": [],
   "source": [
    "variables = ['TOT_POP22', 'NHSP_POP22', 'HSP_POP22',\n",
    "       'WHT_NHSP22', 'BLK_NHSP22', 'AIA_NHSP22', 'ASN_NHSP22', 'HPI_NHSP22',\n",
    "       'OTH_NHSP22']"
   ]
  },
  {
   "cell_type": "code",
   "execution_count": null,
   "metadata": {},
   "outputs": [
    {
     "name": "stderr",
     "output_type": "stream",
     "text": [
      "/Users/tonymac/miniconda3/envs/cse354/lib/python3.11/site-packages/maup/intersections.py:47: UserWarning: Geometry is in a geographic CRS. Results from 'area' are likely incorrect. Use 'GeoSeries.to_crs()' to re-project geometries to a projected CRS before this operation.\n",
      "\n",
      "  df = df[df.area > area_cutoff].reset_index(drop=True)\n",
      "/Users/tonymac/miniconda3/envs/cse354/lib/python3.11/site-packages/maup/intersections.py:48: UserWarning: Geometry is in a geographic CRS. Results from 'area' are likely incorrect. Use 'GeoSeries.to_crs()' to re-project geometries to a projected CRS before this operation.\n",
      "\n",
      "  geometries = geometries[geometries.area > area_cutoff]\n",
      "/Users/tonymac/miniconda3/envs/cse354/lib/python3.11/site-packages/maup/assign.py:38: UserWarning: Geometry is in a geographic CRS. Results from 'area' are likely incorrect. Use 'GeoSeries.to_crs()' to re-project geometries to a projected CRS before this operation.\n",
      "\n",
      "  return assign_to_max(intersections(sources, targets, area_cutoff=0).area)\n"
     ]
    }
   ],
   "source": [
    "md_race_precincts_gdf = aggregate_racial_data(md_race_block_gdf, md_precincts_gdf, variables)"
   ]
  },
  {
   "cell_type": "markdown",
   "metadata": {},
   "source": [
    "### Drop geometry and export json"
   ]
  },
  {
   "cell_type": "code",
   "execution_count": null,
   "metadata": {},
   "outputs": [],
   "source": [
    "md_race_precincts_gdf.drop(columns=['geometry'], inplace=True)"
   ]
  },
  {
   "cell_type": "code",
   "execution_count": 412,
   "metadata": {},
   "outputs": [],
   "source": [
    "with open('states/maryland/demographics/maryland_precincts_racial_population.json', 'w') as json_file:\n",
    "    json.dump(md_race_precincts_gdf.to_dict(orient='records'), json_file, indent=4)"
   ]
  },
  {
   "cell_type": "markdown",
   "metadata": {},
   "source": [
    "## Aggerating block population data to precincts with region type"
   ]
  },
  {
   "cell_type": "code",
   "execution_count": 413,
   "metadata": {},
   "outputs": [],
   "source": [
    "variables = ['TOT_POP22', 'NHSP_POP22', 'HSP_POP22']"
   ]
  },
  {
   "cell_type": "code",
   "execution_count": null,
   "metadata": {},
   "outputs": [
    {
     "name": "stderr",
     "output_type": "stream",
     "text": [
      "/Users/tonymac/miniconda3/envs/cse354/lib/python3.11/site-packages/maup/intersections.py:47: UserWarning: Geometry is in a geographic CRS. Results from 'area' are likely incorrect. Use 'GeoSeries.to_crs()' to re-project geometries to a projected CRS before this operation.\n",
      "\n",
      "  df = df[df.area > area_cutoff].reset_index(drop=True)\n",
      "/Users/tonymac/miniconda3/envs/cse354/lib/python3.11/site-packages/maup/intersections.py:48: UserWarning: Geometry is in a geographic CRS. Results from 'area' are likely incorrect. Use 'GeoSeries.to_crs()' to re-project geometries to a projected CRS before this operation.\n",
      "\n",
      "  geometries = geometries[geometries.area > area_cutoff]\n",
      "/Users/tonymac/miniconda3/envs/cse354/lib/python3.11/site-packages/maup/assign.py:38: UserWarning: Geometry is in a geographic CRS. Results from 'area' are likely incorrect. Use 'GeoSeries.to_crs()' to re-project geometries to a projected CRS before this operation.\n",
      "\n",
      "  return assign_to_max(intersections(sources, targets, area_cutoff=0).area)\n"
     ]
    }
   ],
   "source": [
    "md_precincts_region_gdf = aggregate_region_data(md_race_block_gdf, md_precincts_gdf, variables)"
   ]
  },
  {
   "cell_type": "code",
   "execution_count": 417,
   "metadata": {},
   "outputs": [
    {
     "name": "stdout",
     "output_type": "stream",
     "text": [
      "region_type\n",
      "rural       913\n",
      "suburban    786\n",
      "urban       344\n",
      "Name: count, dtype: int64\n"
     ]
    }
   ],
   "source": [
    "print(md_precincts_region_gdf['region_type'].value_counts())"
   ]
  },
  {
   "cell_type": "markdown",
   "metadata": {},
   "source": [
    "### Drop geometry and export json"
   ]
  },
  {
   "cell_type": "code",
   "execution_count": 419,
   "metadata": {},
   "outputs": [],
   "source": [
    "# drop geometry\n",
    "md_precincts_region_gdf.drop(columns=['geometry'], inplace=True)"
   ]
  },
  {
   "cell_type": "code",
   "execution_count": null,
   "metadata": {},
   "outputs": [],
   "source": [
    "md_precincts_region_gdf = md_precincts_region_gdf[['UNIQUE_ID', 'region_type', 'TOT_POP22']]"
   ]
  },
  {
   "cell_type": "code",
   "execution_count": 421,
   "metadata": {},
   "outputs": [],
   "source": [
    "\n",
    "with open('states/maryland/geodata/maryland_precincts_region_type.json', 'w') as json_file:\n",
    "    json.dump(md_precincts_region_gdf.to_dict(orient='records'), json_file, indent=4)"
   ]
  }
 ],
 "metadata": {
  "kernelspec": {
   "display_name": "cse354",
   "language": "python",
   "name": "python3"
  },
  "language_info": {
   "codemirror_mode": {
    "name": "ipython",
    "version": 3
   },
   "file_extension": ".py",
   "mimetype": "text/x-python",
   "name": "python",
   "nbconvert_exporter": "python",
   "pygments_lexer": "ipython3",
   "version": "3.11.10"
  }
 },
 "nbformat": 4,
 "nbformat_minor": 2
}
